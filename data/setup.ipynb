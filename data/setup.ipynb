{
 "cells": [
  {
   "cell_type": "code",
   "execution_count": 3,
   "metadata": {},
   "outputs": [],
   "source": [
    "import sys\n",
    "sys.path.append('../src/')\n",
    "\n",
    "import numpy as np\n",
    "import pandas as pd\n",
    "import scanpy as sc\n",
    "import anndata as ad"
   ]
  },
  {
   "cell_type": "markdown",
   "metadata": {},
   "source": [
    "# data download\n",
    "\n",
    "Run the cell below to download the datasets from gdrive. We do not include gdown in our [environment file](../env.yml) due to occasional system conflicts. If this is the case for you, you can manually download the folder from [this link](https://drive.google.com/drive/folders/1fWWaxBLUdacBT9r-1CymdyRICMPStvBJ?usp=share_link)."
   ]
  },
  {
   "cell_type": "code",
   "execution_count": 4,
   "metadata": {},
   "outputs": [
    {
     "name": "stderr",
     "output_type": "stream",
     "text": [
      "Retrieving folder contents\n"
     ]
    },
    {
     "name": "stdout",
     "output_type": "stream",
     "text": [
      "Processing file 10EZmVvgewZdw4o5LiUSxn3yx95dPUxTK ALM.h5ad\n",
      "Processing file 1cmjBPzL1GonsK0juv5ZzIa1GYvs4wu54 filtered_gut_atlas_tcell.h5ad\n",
      "Processing file 1Qpe2xEG45Os080498op0wuWWAF-riB32 gut_atlas_tcell.h5ad\n",
      "Processing file 1IdVD5n8echNyrrf8vrF1ccGyNRqDeuzq LGN_human_exon.h5ad\n",
      "Processing file 1p52MdM5BAQtJ_eO0D0sVOmXuvOZ6-hlg LGN_human_intron.h5ad\n",
      "Processing file 1uSjtqhSOKh2xjt0QjcdJuV0cWJoLBeEu LGN_macaque_exon.h5ad\n",
      "Processing file 1XtKUUKGEcMhKaLTe9KMHQGR1kFLlxKSx LGN_macaque_intron.h5ad\n",
      "Processing file 1Yfjmk6fmmGF3WhrKdXBGG_5YptIsP1dE LGN_mouse_exon.h5ad\n",
      "Processing file 1QPfRMdtXQCaPN2bq3A_G4Tuvr5P_Jitk LGN_mouse_intron.h5ad\n",
      "Processing file 1IV7_1YUb22jX4GtbNgi4W5HWX1YpHlfQ MTG.h5ad\n",
      "Processing file 1V7V4LeRq4i6Hss0ms55XGZmPPcGjXRuU pancreas_celseq.h5ad\n",
      "Processing file 1-8FIY4XfqFNEZ6slJATMczlpgkBeTXIL pancreas_celseq2.h5ad\n",
      "Processing file 1kRoM9bst9S5NvlQqhFdMWlEbOlfqylrA pancreas_fluidigmc1.h5ad\n",
      "Processing file 177vMhCfo2JIZTeaP1A5F3YSMfcnubUOO pancreas_inDrop1.h5ad\n",
      "Processing file 1ugXmziWVKThSpVibxV-PMZ38YF5VCFDN pancreas_inDrop2.h5ad\n",
      "Processing file 1vbkAdLCz9oigJB9fkKoyFf1Tfvoy9YEl pancreas_inDrop3.h5ad\n",
      "Processing file 1evvPBhfEE5O6ipHKupjSBLcZigOOeVy6 pancreas_inDrop4.h5ad\n",
      "Processing file 1OiD249WLTZAAFSjVlf70FxQHxDKQ_vPX pancreas_smarter.h5ad\n",
      "Processing file 1NRE2byj3bk3E3CYM8PvV5YSF7ra6kgIr pancreas_smartseq2.h5ad\n",
      "Processing file 1BdTOU-f2wPWWMW8fcRPRlFBx8gHD1PC1 pbmc_10Xv2.h5ad\n",
      "Processing file 1ygI5mFmEALS17FJJly9nyOTDJIywsb-f pbmc_10Xv3.h5ad\n",
      "Processing file 12xfeLvrc6LyV-weRZEEMVzCSUgzUEzpo pbmc_CEL-Seq.h5ad\n",
      "Processing file 1JuUAv0WqvIWLPJlcxCk7ORiG5o67_p3q pbmc_Drop-Seq.h5ad\n",
      "Processing file 1CPZCaOwsg_c-F0ma6zvWX9jXR3fS5m5K pbmc_inDrop.h5ad\n",
      "Processing file 1wwpB-zXM2r8yocXTYmUAsCR9ywmj_hDd pbmc_Seq-Well.h5ad\n",
      "Processing file 1wadKHvn7jZmI6az7YqAA6a2ofvqIqcic pbmc_Smart-Seq2.h5ad\n",
      "Processing file 1NvZRedm7Q3gkAqK6bLhivtMaatarpMzQ VISp.h5ad\n"
     ]
    },
    {
     "name": "stderr",
     "output_type": "stream",
     "text": [
      "Retrieving folder contents completed\n",
      "Building directory structure\n",
      "Building directory structure completed\n",
      "Downloading...\n",
      "From (original): https://drive.google.com/uc?id=10EZmVvgewZdw4o5LiUSxn3yx95dPUxTK\n",
      "From (redirected): https://drive.google.com/uc?id=10EZmVvgewZdw4o5LiUSxn3yx95dPUxTK&confirm=t&uuid=3c916fcb-6a23-45f1-ad4c-719ec5c0bc67\n",
      "To: /Users/valerio/Desktop/RCM/data/data/ALM.h5ad\n",
      "100%|██████████| 161M/161M [00:04<00:00, 38.2MB/s] \n",
      "Downloading...\n",
      "From: https://drive.google.com/uc?id=1cmjBPzL1GonsK0juv5ZzIa1GYvs4wu54\n",
      "To: /Users/valerio/Desktop/RCM/data/data/filtered_gut_atlas_tcell.h5ad\n",
      "100%|██████████| 85.8M/85.8M [00:02<00:00, 39.6MB/s]\n",
      "Downloading...\n",
      "From (original): https://drive.google.com/uc?id=1Qpe2xEG45Os080498op0wuWWAF-riB32\n",
      "From (redirected): https://drive.google.com/uc?id=1Qpe2xEG45Os080498op0wuWWAF-riB32&confirm=t&uuid=cf1c6bd5-7726-419d-940e-ba1f8adf206d\n",
      "To: /Users/valerio/Desktop/RCM/data/data/gut_atlas_tcell.h5ad\n",
      "100%|██████████| 118M/118M [00:03<00:00, 38.9MB/s] \n",
      "Downloading...\n",
      "From: https://drive.google.com/uc?id=1IdVD5n8echNyrrf8vrF1ccGyNRqDeuzq\n",
      "To: /Users/valerio/Desktop/RCM/data/data/LGN_human_exon.h5ad\n",
      "100%|██████████| 25.0M/25.0M [00:00<00:00, 39.3MB/s]\n",
      "Downloading...\n",
      "From: https://drive.google.com/uc?id=1p52MdM5BAQtJ_eO0D0sVOmXuvOZ6-hlg\n",
      "To: /Users/valerio/Desktop/RCM/data/data/LGN_human_intron.h5ad\n",
      "100%|██████████| 27.4M/27.4M [00:00<00:00, 40.5MB/s]\n",
      "Downloading...\n",
      "From: https://drive.google.com/uc?id=1uSjtqhSOKh2xjt0QjcdJuV0cWJoLBeEu\n",
      "To: /Users/valerio/Desktop/RCM/data/data/LGN_macaque_exon.h5ad\n",
      "100%|██████████| 34.0M/34.0M [00:00<00:00, 40.3MB/s]\n",
      "Downloading...\n",
      "From: https://drive.google.com/uc?id=1XtKUUKGEcMhKaLTe9KMHQGR1kFLlxKSx\n",
      "To: /Users/valerio/Desktop/RCM/data/data/LGN_macaque_intron.h5ad\n",
      "100%|██████████| 44.5M/44.5M [00:01<00:00, 41.1MB/s]\n",
      "Downloading...\n",
      "From: https://drive.google.com/uc?id=1Yfjmk6fmmGF3WhrKdXBGG_5YptIsP1dE\n",
      "To: /Users/valerio/Desktop/RCM/data/data/LGN_mouse_exon.h5ad\n",
      "100%|██████████| 57.1M/57.1M [00:01<00:00, 39.6MB/s]\n",
      "Downloading...\n",
      "From: https://drive.google.com/uc?id=1QPfRMdtXQCaPN2bq3A_G4Tuvr5P_Jitk\n",
      "To: /Users/valerio/Desktop/RCM/data/data/LGN_mouse_intron.h5ad\n",
      "100%|██████████| 33.8M/33.8M [00:00<00:00, 35.3MB/s]\n",
      "Downloading...\n",
      "From (original): https://drive.google.com/uc?id=1IV7_1YUb22jX4GtbNgi4W5HWX1YpHlfQ\n",
      "From (redirected): https://drive.google.com/uc?id=1IV7_1YUb22jX4GtbNgi4W5HWX1YpHlfQ&confirm=t&uuid=3700c7ca-5af7-471c-a8ae-b25264c5b782\n",
      "To: /Users/valerio/Desktop/RCM/data/data/MTG.h5ad\n",
      "100%|██████████| 233M/233M [00:06<00:00, 38.4MB/s] \n",
      "Downloading...\n",
      "From: https://drive.google.com/uc?id=1V7V4LeRq4i6Hss0ms55XGZmPPcGjXRuU\n",
      "To: /Users/valerio/Desktop/RCM/data/data/pancreas_celseq.h5ad\n",
      "100%|██████████| 6.53M/6.53M [00:00<00:00, 35.3MB/s]\n",
      "Downloading...\n",
      "From: https://drive.google.com/uc?id=1-8FIY4XfqFNEZ6slJATMczlpgkBeTXIL\n",
      "To: /Users/valerio/Desktop/RCM/data/data/pancreas_celseq2.h5ad\n",
      "100%|██████████| 19.3M/19.3M [00:00<00:00, 40.9MB/s]\n",
      "Downloading...\n",
      "From: https://drive.google.com/uc?id=1kRoM9bst9S5NvlQqhFdMWlEbOlfqylrA\n",
      "To: /Users/valerio/Desktop/RCM/data/data/pancreas_fluidigmc1.h5ad\n",
      "100%|██████████| 16.6M/16.6M [00:00<00:00, 35.3MB/s]\n",
      "Downloading...\n",
      "From: https://drive.google.com/uc?id=177vMhCfo2JIZTeaP1A5F3YSMfcnubUOO\n",
      "To: /Users/valerio/Desktop/RCM/data/data/pancreas_inDrop1.h5ad\n",
      "100%|██████████| 8.65M/8.65M [00:00<00:00, 38.8MB/s]\n",
      "Downloading...\n",
      "From: https://drive.google.com/uc?id=1ugXmziWVKThSpVibxV-PMZ38YF5VCFDN\n",
      "To: /Users/valerio/Desktop/RCM/data/data/pancreas_inDrop2.h5ad\n",
      "100%|██████████| 7.68M/7.68M [00:00<00:00, 37.6MB/s]\n",
      "Downloading...\n",
      "From: https://drive.google.com/uc?id=1vbkAdLCz9oigJB9fkKoyFf1Tfvoy9YEl\n",
      "To: /Users/valerio/Desktop/RCM/data/data/pancreas_inDrop3.h5ad\n",
      "100%|██████████| 14.5M/14.5M [00:00<00:00, 40.0MB/s]\n",
      "Downloading...\n",
      "From: https://drive.google.com/uc?id=1evvPBhfEE5O6ipHKupjSBLcZigOOeVy6\n",
      "To: /Users/valerio/Desktop/RCM/data/data/pancreas_inDrop4.h5ad\n",
      "100%|██████████| 6.68M/6.68M [00:00<00:00, 38.0MB/s]\n",
      "Downloading...\n",
      "From: https://drive.google.com/uc?id=1OiD249WLTZAAFSjVlf70FxQHxDKQ_vPX\n",
      "To: /Users/valerio/Desktop/RCM/data/data/pancreas_smarter.h5ad\n",
      "100%|██████████| 33.9M/33.9M [00:00<00:00, 41.3MB/s]\n",
      "Downloading...\n",
      "From: https://drive.google.com/uc?id=1NRE2byj3bk3E3CYM8PvV5YSF7ra6kgIr\n",
      "To: /Users/valerio/Desktop/RCM/data/data/pancreas_smartseq2.h5ad\n",
      "100%|██████████| 32.2M/32.2M [00:00<00:00, 41.5MB/s]\n",
      "Downloading...\n",
      "From: https://drive.google.com/uc?id=1BdTOU-f2wPWWMW8fcRPRlFBx8gHD1PC1\n",
      "To: /Users/valerio/Desktop/RCM/data/data/pbmc_10Xv2.h5ad\n",
      "100%|██████████| 55.8M/55.8M [00:01<00:00, 40.2MB/s]\n",
      "Downloading...\n",
      "From: https://drive.google.com/uc?id=1ygI5mFmEALS17FJJly9nyOTDJIywsb-f\n",
      "To: /Users/valerio/Desktop/RCM/data/data/pbmc_10Xv3.h5ad\n",
      "100%|██████████| 45.3M/45.3M [00:01<00:00, 41.0MB/s]\n",
      "Downloading...\n",
      "From: https://drive.google.com/uc?id=12xfeLvrc6LyV-weRZEEMVzCSUgzUEzpo\n",
      "To: /Users/valerio/Desktop/RCM/data/data/pbmc_CEL-Seq.h5ad\n",
      "100%|██████████| 45.1M/45.1M [00:01<00:00, 39.7MB/s]\n",
      "Downloading...\n",
      "From: https://drive.google.com/uc?id=1JuUAv0WqvIWLPJlcxCk7ORiG5o67_p3q\n",
      "To: /Users/valerio/Desktop/RCM/data/data/pbmc_Drop-Seq.h5ad\n",
      "100%|██████████| 53.3M/53.3M [00:01<00:00, 40.3MB/s]\n",
      "Downloading...\n",
      "From: https://drive.google.com/uc?id=1CPZCaOwsg_c-F0ma6zvWX9jXR3fS5m5K\n",
      "To: /Users/valerio/Desktop/RCM/data/data/pbmc_inDrop.h5ad\n",
      "100%|██████████| 45.9M/45.9M [00:01<00:00, 40.2MB/s]\n",
      "Downloading...\n",
      "From: https://drive.google.com/uc?id=1wwpB-zXM2r8yocXTYmUAsCR9ywmj_hDd\n",
      "To: /Users/valerio/Desktop/RCM/data/data/pbmc_Seq-Well.h5ad\n",
      "100%|██████████| 41.9M/41.9M [00:01<00:00, 40.1MB/s]\n",
      "Downloading...\n",
      "From: https://drive.google.com/uc?id=1wadKHvn7jZmI6az7YqAA6a2ofvqIqcic\n",
      "To: /Users/valerio/Desktop/RCM/data/data/pbmc_Smart-Seq2.h5ad\n",
      "100%|██████████| 44.1M/44.1M [00:01<00:00, 39.7MB/s]\n",
      "Downloading...\n",
      "From (original): https://drive.google.com/uc?id=1NvZRedm7Q3gkAqK6bLhivtMaatarpMzQ\n",
      "From (redirected): https://drive.google.com/uc?id=1NvZRedm7Q3gkAqK6bLhivtMaatarpMzQ&confirm=t&uuid=95678fe5-3e96-4167-b4fd-39c86c14370e\n",
      "To: /Users/valerio/Desktop/RCM/data/data/VISp.h5ad\n",
      "100%|██████████| 238M/238M [00:06<00:00, 37.5MB/s] \n",
      "Download completed\n"
     ]
    }
   ],
   "source": [
    "import gdown\n",
    "gdown.download_folder(id=\"1fWWaxBLUdacBT9r-1CymdyRICMPStvBJ\")"
   ]
  },
  {
   "cell_type": "markdown",
   "metadata": {},
   "source": [
    "# Data setup recreation\n",
    "\n",
    "The following blocks of code document where the datasets were obtained, and how they were processed (to obtain raw counts in the .X attribute), into the final format we have made available for download. These are not necessary for installation after downloading the data from our provided google drive folder."
   ]
  },
  {
   "cell_type": "markdown",
   "metadata": {},
   "source": [
    "* Allen-Brain datasets; obtained from [this link](https://zenodo.org/records/3357167#.ZFWrsC_ML5g)."
   ]
  },
  {
   "cell_type": "code",
   "execution_count": 13,
   "metadata": {},
   "outputs": [],
   "source": [
    "adata = sc.read_csv('MouseV1_MouseALM_HumanMTG.csv')\n",
    "\n",
    "labels3 = pd.read_csv('MouseV1_MouseALM_HumanMTG_Labels3.csv')\n",
    "labels34 = pd.read_csv('MouseV1_MouseALM_HumanMTG_Labels34.csv')\n",
    "\n",
    "labels3.index = adata.to_df().index\n",
    "labels34.index = adata.to_df().index\n",
    "\n",
    "adata.obs['labels3'] = labels3\n",
    "adata.obs['labels34'] = labels34\n",
    "\n",
    "# splits into the ALM/MTG/VISp files based on the original paper's readme information\n",
    "ixs = {'ALM': (12552, 20680), 'MTG': (20680, 34735), 'VISp': (0, 12552)}\n",
    "for ds, (s, e) in ixs.items():\n",
    "    adata[s:e].copy().write_h5ad(f'{ds}.h5ad', compression='gzip')\n"
   ]
  },
  {
   "cell_type": "markdown",
   "metadata": {},
   "source": [
    "* The PBMC datasets, from the same source."
   ]
  },
  {
   "cell_type": "code",
   "execution_count": 14,
   "metadata": {},
   "outputs": [],
   "source": [
    "ds = [\n",
    "    ('10Xv2', '10Xv2'), \n",
    "    ('10Xv3', '10Xv3'),\n",
    "    ('CEL-Seq', 'CL'),\n",
    "    ('Drop-Seq', 'DR'),\n",
    "    ('inDrop', 'iD'),  \n",
    "    ('Seq-Well', 'SW'),\n",
    "    ('Smart-Seq2', 'SM2')\n",
    "]\n",
    "\n",
    "for dr, name in ds:\n",
    "    adata = sc.read_csv(f'PbmcBench/{dr}/{name}_pbmc1.csv')\n",
    "    labels = pd.read_csv(f'PbmcBench/{dr}/{name}_pbmc1Labels.csv')\n",
    "     \n",
    "    # add labels to anndata, and save to file\n",
    "    labels.index = adata.to_df().index\n",
    "    adata.obs['labels'] = labels\n",
    "    adata.write_h5ad(f'pbmc_{dr}.h5ad', compression='gzip')"
   ]
  },
  {
   "cell_type": "markdown",
   "metadata": {},
   "source": [
    "* pancrease datasets: [link](https://figshare.com/articles/dataset/Benchmarking_atlas-level_data_integration_in_single-cell_genomics_-_integration_task_datasets_Immune_and_pancreas_/12420968)"
   ]
  },
  {
   "cell_type": "code",
   "execution_count": 1,
   "metadata": {},
   "outputs": [],
   "source": [
    "path_to_pancreas = \"human_pancreas_norm_complexBatch.h5ad\"\n",
    "\n",
    "adata = sc.read_h5ad(path_to_pancreas) \n",
    "adata = ad.AnnData(X=adata.layers['counts'], obs=adata.obs)\n",
    "\n",
    "for t in set(adata.obs['tech']):\n",
    "    adata[adata.obs['tech'] == t].copy().write_h5ad(f'pancreas_{t}.h5ad', compression='gzip') "
   ]
  },
  {
   "cell_type": "markdown",
   "metadata": {},
   "source": [
    "* LGN datasets: [link](https://portal.brain-map.org/atlases-and-data/rnaseq/comparative-lgn)"
   ]
  },
  {
   "cell_type": "code",
   "execution_count": 20,
   "metadata": {},
   "outputs": [],
   "source": [
    "for species in ['macaque', 'human', 'mouse']:\n",
    "    \n",
    "    # read and transpose\n",
    "    exon_pd = pd.read_csv(f\"{species}_LGN_2021_exon-matrix.csv\", index_col=0).T\n",
    "    intron_pd = pd.read_csv(f'{species}_LGN_2021_intron-matrix.csv', index_col=0).T\n",
    "    obs = pd.read_csv(f'{species}_LGN_2021_metadata.csv', index_col=0).set_index('sample_name')\n",
    "    obs.index.name = None\n",
    "    \n",
    "    # there's some discrepency where some of these dataframes have a few more cells \n",
    "    # than others, so we need to ensure their indices match up\n",
    "    obs = obs[obs.index.isin(intron_pd.index)]\n",
    "    obs = obs[obs.index.isin(exon_pd.index)]\n",
    "    exon_pd = exon_pd[exon_pd.index.isin(obs.index)]\n",
    "    intron_pd = intron_pd[intron_pd.index.isin(obs.index)]\n",
    "    \n",
    "    # filter out low quality cluster labels\n",
    "    exon_pd = exon_pd[obs['cluster_label'] != \"Low Quality\"]\n",
    "    intron_pd = intron_pd[obs['cluster_label'] != \"Low Quality\"]\n",
    "    obs = obs[obs['cluster_label'] != \"Low Quality\"]\n",
    "    \n",
    "    # create corresponding anndata objects\n",
    "    intron_adata = ad.AnnData(X=intron_pd, obs=obs)\n",
    "    exon_adata = ad.AnnData(X=exon_pd, obs=obs)\n",
    "    \n",
    "    # write objects back out\n",
    "    intron_adata.write_h5ad(f'LGN_{species}_intron.h5ad', compression='gzip')\n",
    "    exon_adata.write_h5ad(f'LGN_{species}_exon.h5ad', compression='gzip')\n",
    "    "
   ]
  },
  {
   "cell_type": "markdown",
   "metadata": {},
   "source": [
    "* Gut cell atlas: [link](https://www.gutcellatlas.org)"
   ]
  },
  {
   "cell_type": "code",
   "execution_count": 21,
   "metadata": {},
   "outputs": [],
   "source": [
    "path_to_gut_atlas_tcells = \"Tcell_raw_counts02_v2.h5ad\"\n",
    "adata = sc.read_h5ad(path_to_gut_atlas_tcells)\n",
    "\n",
    "adata.write_h5ad('gut_atlas_tcell.h5ad', compression='gzip')\n",
    "\n",
    "# filtering to preserve only relevant cell type for our specific application\n",
    "relevant_cell_types = [\n",
    "    \"Activated CD4 T\",\n",
    "    \"Activated CD8 T\",\n",
    "    \"CD8 Tmem\", \n",
    "    \"CX3CR1+ CD8 Tmem\",\n",
    "    \"SELL+ CD4 T\",\n",
    "    \"SELL+ CD8 T\",\n",
    "    \"Tfh\",\n",
    "    \"Th1\",\n",
    "    \"Th17\",\n",
    "    \"Treg\"\n",
    "]\n",
    "filtered_adata = adata[adata.obs['annotation'].isin(relevant_cell_types)] \n",
    "filtered_adata.write_h5ad('filtered_gut_atlas_tcell.h5ad', compression='gzip')"
   ]
  },
  {
   "cell_type": "markdown",
   "metadata": {},
   "source": [
    "* Celltypist datasets: [link](https://www.celltypist.org/organs)"
   ]
  },
  {
   "cell_type": "code",
   "execution_count": 3,
   "metadata": {},
   "outputs": [],
   "source": [
    "# NOTE celltypist datasets are all row-count-normalized to 10.000\n",
    "# so we are only able to retrieve raw counts up to the scaling factor\n",
    "\n",
    "datasets = [\n",
    "    \"Blood.h5ad\",\n",
    "    \"Bone_marrow.h5ad\",\n",
    "    \"Heart.h5ad\",\n",
    "    \"Hippocampus.h5ad\",\n",
    "    \"Intestine.h5ad\",\n",
    "    \"Kidney.h5ad\",\n",
    "    \"Liver.h5ad\",\n",
    "    \"Lung.h5ad\",\n",
    "    \"Lymph_node.h5ad\",\n",
    "    \"Pancreas.h5ad\",\n",
    "    \"Skeletal_muscle.h5ad\",\n",
    "    \"Spleen.h5ad\"\n",
    "]\n",
    "\n",
    "for ds in datasets:\n",
    "    adata = sc.read_h5ad(f'celltypist/{ds}')\n",
    "    adata.X=adata.X.expm1()\n",
    "    adata.write_h5ad(f'data/{ds}', compression='gzip')"
   ]
  }
 ],
 "metadata": {
  "kernelspec": {
   "display_name": "refcm",
   "language": "python",
   "name": "python3"
  },
  "language_info": {
   "codemirror_mode": {
    "name": "ipython",
    "version": 3
   },
   "file_extension": ".py",
   "mimetype": "text/x-python",
   "name": "python",
   "nbconvert_exporter": "python",
   "pygments_lexer": "ipython3",
   "version": "3.11.7"
  }
 },
 "nbformat": 4,
 "nbformat_minor": 2
}
