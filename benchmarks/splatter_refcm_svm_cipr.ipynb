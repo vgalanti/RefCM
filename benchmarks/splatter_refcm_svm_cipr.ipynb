{
 "cells": [
  {
   "cell_type": "code",
   "execution_count": 1,
   "metadata": {},
   "outputs": [],
   "source": [
    "import numpy as np \n",
    "import pandas as pd \n",
    "from sklearn.model_selection import train_test_split\n",
    "import anndata\n",
    "import scanpy as sc"
   ]
  },
  {
   "cell_type": "code",
   "execution_count": 2,
   "metadata": {},
   "outputs": [],
   "source": [
    "def get_hvg(ds, n_top_genes):\n",
    "    \"\"\"\n",
    "    Returns an AnnData's highly-variable genes list.\n",
    "\n",
    "    Parameters\n",
    "    ----------\n",
    "    ds: AnnData\n",
    "        The dataset to compute the hvg genes of.\n",
    "\n",
    "    Returns\n",
    "    -------\n",
    "    List[str]:\n",
    "        List of genes with the highest variability.\n",
    "    \"\"\"\n",
    "    sc.pp.highly_variable_genes(ds, n_top_genes=n_top_genes)\n",
    "\n",
    "    return ds.var[\"highly_variable\"][ds.var[\"highly_variable\"]].index.to_list()"
   ]
  },
  {
   "cell_type": "code",
   "execution_count": 2,
   "metadata": {},
   "outputs": [],
   "source": [
    "# no batch effect \n",
    "X = pd.read_csv('data/splatter_counts.csv', index_col=0).values.T\n",
    "y = pd.read_csv('data/splatter_labels.csv', index_col=0).values.flatten()\n",
    "X_train, X_test, y_train, y_test = train_test_split(X, y, test_size=0.5, random_state=42)\n",
    "pd.DataFrame(X_train).to_csv('data/splatter_ref_counts.csv',index=False, header=False)\n",
    "pd.DataFrame(X_test).to_csv('data/splatter_q_counts.csv',index=False, header=False)\n",
    "\n",
    "pd.DataFrame(y_train).to_csv('data/splatter_ref_labels.csv',index=False, header=False) \n",
    "pd.DataFrame(y_test).to_csv('data/splatter_q_labels.csv',index=False, header=False) "
   ]
  },
  {
   "cell_type": "code",
   "execution_count": 46,
   "metadata": {},
   "outputs": [],
   "source": [
    "# load data with batch effect \n",
    "b = 1\n",
    "X_train = pd.read_csv('data/splatter_ref_counts_b%s.csv' % b, index_col=0).values.T\n",
    "X_test = pd.read_csv('data/splatter_q_counts_b%s.csv' % b, index_col=0).values.T\n",
    "y_train = pd.read_csv('data/splatter_ref_labels_b%s.csv' % b, index_col=0).values.flatten()\n",
    "y_test = pd.read_csv('data/splatter_q_labels_b%s.csv' % b, index_col=0).values.flatten()\n"
   ]
  },
  {
   "cell_type": "code",
   "execution_count": 47,
   "metadata": {},
   "outputs": [
    {
     "name": "stderr",
     "output_type": "stream",
     "text": [
      "/Users/yiningliu/anaconda3/envs/refcm/lib/python3.11/site-packages/scanpy/preprocessing/_highly_variable_genes.py:226: FutureWarning: The default of observed=False is deprecated and will be changed to True in a future version of pandas. Pass observed=False to retain current behavior or observed=True to adopt the future default and silence this warning.\n",
      "  disp_grouped = df.groupby(\"mean_bin\")[\"dispersions\"]\n",
      "/Users/yiningliu/anaconda3/envs/refcm/lib/python3.11/site-packages/scanpy/preprocessing/_highly_variable_genes.py:226: FutureWarning: The default of observed=False is deprecated and will be changed to True in a future version of pandas. Pass observed=False to retain current behavior or observed=True to adopt the future default and silence this warning.\n",
      "  disp_grouped = df.groupby(\"mean_bin\")[\"dispersions\"]\n"
     ]
    }
   ],
   "source": [
    "# Create an AnnData object\n",
    "q = anndata.AnnData(X_test.astype(np.float64))\n",
    "ref = anndata.AnnData(X_train.astype(np.float64)) \n",
    "\n",
    "# log1p normalize query and reference to target sum 100\n",
    "q_sums = q.X.sum(axis=1).reshape((-1, 1))\n",
    "ref_sums = ref.X.sum(axis=1).reshape((-1, 1))\n",
    "q.X = 100 * q.X / q_sums\n",
    "ref.X = 100 * ref.X / ref_sums\n",
    "\n",
    "# log-transform the data\n",
    "q.X = np.log1p(q.X)\n",
    "ref.X = np.log1p(ref.X) \n",
    "\n",
    "# select the union of top 200 varying genes\n",
    "hvg = list(set(get_hvg(q, 200)).union(get_hvg(ref, 200)))\n",
    "\n",
    "q = q[:, hvg]\n",
    "ref = ref[:, hvg]"
   ]
  },
  {
   "cell_type": "markdown",
   "metadata": {},
   "source": [
    "First cluster the query data using Leiden clustering. "
   ]
  },
  {
   "cell_type": "code",
   "execution_count": 48,
   "metadata": {},
   "outputs": [],
   "source": [
    "# Perform clustering\n",
    "sc.pp.neighbors(q, n_neighbors=10, use_rep='X')  # Compute neighborhood graph\n",
    "sc.tl.leiden(q)  # Perform Leiden clustering (a variation of K-means) \n",
    "q_clustering = q.obs['leiden']"
   ]
  },
  {
   "cell_type": "markdown",
   "metadata": {},
   "source": [
    "CIPR: "
   ]
  },
  {
   "cell_type": "code",
   "execution_count": 49,
   "metadata": {},
   "outputs": [],
   "source": [
    "clusters = np.unique(q.obs['leiden'])"
   ]
  },
  {
   "cell_type": "code",
   "execution_count": 50,
   "metadata": {},
   "outputs": [],
   "source": [
    "avg_expression_per_cluster = pd.DataFrame(index=q.var_names, columns=clusters)\n",
    "for cluster in clusters:\n",
    "    # Get indices of cells in the current cluster\n",
    "    cluster_indices = np.where(q.obs['leiden'] == cluster)[0]\n",
    "    \n",
    "    # Extract gene expression data for cells in the current cluster\n",
    "    cluster_expression = q.X[cluster_indices, :]\n",
    "    \n",
    "    # Compute average gene expression across cells in the current cluster\n",
    "    avg_expression = np.mean(cluster_expression, axis=0)\n",
    "    \n",
    "    # Store the average gene expression values for the current cluster\n",
    "    avg_expression_per_cluster[cluster] = avg_expression\n",
    "avg_expression_per_cluster.to_csv('data/splatter_cipr_query.csv')"
   ]
  },
  {
   "cell_type": "code",
   "execution_count": 51,
   "metadata": {},
   "outputs": [],
   "source": [
    "gene_expression_df = pd.DataFrame(index=ref.var_names)\n",
    "gene_expression_df = pd.DataFrame(ref.X.T, index=ref.var_names)\n",
    "gene_expression_df.columns = y_train\n",
    "gene_expression_df.to_csv('data/splatter_cipr_ref.csv')"
   ]
  },
  {
   "cell_type": "code",
   "execution_count": 52,
   "metadata": {},
   "outputs": [],
   "source": [
    "# fill in the results from https://aekiz.shinyapps.io/CIPR/; make sure to put 'Gene' as the first column in the csv files \n",
    "cipr_results = {\n",
    "    '0': 'Group2', \n",
    "    '1': 'Group5', \n",
    "    '2': 'Group1',\n",
    "    '3': 'Group4',\n",
    "    '4': 'Group3'\n",
    "}"
   ]
  },
  {
   "cell_type": "code",
   "execution_count": 53,
   "metadata": {},
   "outputs": [],
   "source": [
    "q.obs[\"cipr\"] = \"\"\n",
    "for cluster, cipr in cipr_results.items():\n",
    "    q.obs.loc[q.obs[\"leiden\"] == cluster, \"cipr\"] = cipr"
   ]
  },
  {
   "cell_type": "code",
   "execution_count": 54,
   "metadata": {},
   "outputs": [
    {
     "data": {
      "text/plain": [
       "0.9995"
      ]
     },
     "execution_count": 54,
     "metadata": {},
     "output_type": "execute_result"
    }
   ],
   "source": [
    "sum(np.array(q.obs['cipr']) == y_test) / y_test.size"
   ]
  },
  {
   "cell_type": "markdown",
   "metadata": {},
   "source": [
    "# Perform RefCM"
   ]
  },
  {
   "cell_type": "code",
   "execution_count": 136,
   "metadata": {},
   "outputs": [],
   "source": [
    "from refcm import RefCM"
   ]
  },
  {
   "cell_type": "code",
   "execution_count": 137,
   "metadata": {},
   "outputs": [],
   "source": [
    "# setup \n",
    "adata_q = anndata.AnnData(X_test.astype(np.float64))\n",
    "adata_q.obs['labels'] = q_clustering\n",
    "\n",
    "adata_ref = anndata.AnnData(X_train.astype(np.float64))\n",
    "adata_ref.obs['labels'] = y_train"
   ]
  },
  {
   "cell_type": "code",
   "execution_count": 138,
   "metadata": {},
   "outputs": [],
   "source": [
    "rcm = RefCM(load_mcosts=False, save_mcosts=False, n_top_genes=200)"
   ]
  },
  {
   "cell_type": "code",
   "execution_count": 139,
   "metadata": {},
   "outputs": [
    {
     "name": "stderr",
     "output_type": "stream",
     "text": [
      "/Users/yiningliu/anaconda3/envs/refcm/lib/python3.11/site-packages/scanpy/preprocessing/_highly_variable_genes.py:226: FutureWarning: The default of observed=False is deprecated and will be changed to True in a future version of pandas. Pass observed=False to retain current behavior or observed=True to adopt the future default and silence this warning.\n",
      "  disp_grouped = df.groupby(\"mean_bin\")[\"dispersions\"]\n",
      "/Users/yiningliu/anaconda3/envs/refcm/lib/python3.11/site-packages/scanpy/preprocessing/_highly_variable_genes.py:226: FutureWarning: The default of observed=False is deprecated and will be changed to True in a future version of pandas. Pass observed=False to retain current behavior or observed=True to adopt the future default and silence this warning.\n",
      "  disp_grouped = df.groupby(\"mean_bin\")[\"dispersions\"]\n",
      "|████████████████| [100.00% ] : 00:02\n"
     ]
    },
    {
     "data": {
      "text/plain": [
       "<matchings.Matching at 0x33146c2d0>"
      ]
     },
     "execution_count": 139,
     "metadata": {},
     "output_type": "execute_result"
    }
   ],
   "source": [
    "rcm.annotate(adata_q, 'splatter_q', adata_ref, 'splatter_ref', 'labels', 'labels')"
   ]
  },
  {
   "cell_type": "code",
   "execution_count": 140,
   "metadata": {},
   "outputs": [
    {
     "data": {
      "text/plain": [
       "0.9985"
      ]
     },
     "execution_count": 140,
     "metadata": {},
     "output_type": "execute_result"
    }
   ],
   "source": [
    "sum(np.array(adata_q.obs['refcm_annot']) == y_test) / y_test.size"
   ]
  },
  {
   "cell_type": "markdown",
   "metadata": {},
   "source": [
    "# Benchmark with SVM"
   ]
  },
  {
   "cell_type": "code",
   "execution_count": 141,
   "metadata": {},
   "outputs": [],
   "source": [
    "from sklearn.svm import SVC"
   ]
  },
  {
   "cell_type": "code",
   "execution_count": 142,
   "metadata": {},
   "outputs": [],
   "source": [
    "X_train, X_test = ref.X, q.X"
   ]
  },
  {
   "cell_type": "code",
   "execution_count": 143,
   "metadata": {},
   "outputs": [
    {
     "data": {
      "text/html": [
       "<style>#sk-container-id-7 {color: black;background-color: white;}#sk-container-id-7 pre{padding: 0;}#sk-container-id-7 div.sk-toggleable {background-color: white;}#sk-container-id-7 label.sk-toggleable__label {cursor: pointer;display: block;width: 100%;margin-bottom: 0;padding: 0.3em;box-sizing: border-box;text-align: center;}#sk-container-id-7 label.sk-toggleable__label-arrow:before {content: \"▸\";float: left;margin-right: 0.25em;color: #696969;}#sk-container-id-7 label.sk-toggleable__label-arrow:hover:before {color: black;}#sk-container-id-7 div.sk-estimator:hover label.sk-toggleable__label-arrow:before {color: black;}#sk-container-id-7 div.sk-toggleable__content {max-height: 0;max-width: 0;overflow: hidden;text-align: left;background-color: #f0f8ff;}#sk-container-id-7 div.sk-toggleable__content pre {margin: 0.2em;color: black;border-radius: 0.25em;background-color: #f0f8ff;}#sk-container-id-7 input.sk-toggleable__control:checked~div.sk-toggleable__content {max-height: 200px;max-width: 100%;overflow: auto;}#sk-container-id-7 input.sk-toggleable__control:checked~label.sk-toggleable__label-arrow:before {content: \"▾\";}#sk-container-id-7 div.sk-estimator input.sk-toggleable__control:checked~label.sk-toggleable__label {background-color: #d4ebff;}#sk-container-id-7 div.sk-label input.sk-toggleable__control:checked~label.sk-toggleable__label {background-color: #d4ebff;}#sk-container-id-7 input.sk-hidden--visually {border: 0;clip: rect(1px 1px 1px 1px);clip: rect(1px, 1px, 1px, 1px);height: 1px;margin: -1px;overflow: hidden;padding: 0;position: absolute;width: 1px;}#sk-container-id-7 div.sk-estimator {font-family: monospace;background-color: #f0f8ff;border: 1px dotted black;border-radius: 0.25em;box-sizing: border-box;margin-bottom: 0.5em;}#sk-container-id-7 div.sk-estimator:hover {background-color: #d4ebff;}#sk-container-id-7 div.sk-parallel-item::after {content: \"\";width: 100%;border-bottom: 1px solid gray;flex-grow: 1;}#sk-container-id-7 div.sk-label:hover label.sk-toggleable__label {background-color: #d4ebff;}#sk-container-id-7 div.sk-serial::before {content: \"\";position: absolute;border-left: 1px solid gray;box-sizing: border-box;top: 0;bottom: 0;left: 50%;z-index: 0;}#sk-container-id-7 div.sk-serial {display: flex;flex-direction: column;align-items: center;background-color: white;padding-right: 0.2em;padding-left: 0.2em;position: relative;}#sk-container-id-7 div.sk-item {position: relative;z-index: 1;}#sk-container-id-7 div.sk-parallel {display: flex;align-items: stretch;justify-content: center;background-color: white;position: relative;}#sk-container-id-7 div.sk-item::before, #sk-container-id-7 div.sk-parallel-item::before {content: \"\";position: absolute;border-left: 1px solid gray;box-sizing: border-box;top: 0;bottom: 0;left: 50%;z-index: -1;}#sk-container-id-7 div.sk-parallel-item {display: flex;flex-direction: column;z-index: 1;position: relative;background-color: white;}#sk-container-id-7 div.sk-parallel-item:first-child::after {align-self: flex-end;width: 50%;}#sk-container-id-7 div.sk-parallel-item:last-child::after {align-self: flex-start;width: 50%;}#sk-container-id-7 div.sk-parallel-item:only-child::after {width: 0;}#sk-container-id-7 div.sk-dashed-wrapped {border: 1px dashed gray;margin: 0 0.4em 0.5em 0.4em;box-sizing: border-box;padding-bottom: 0.4em;background-color: white;}#sk-container-id-7 div.sk-label label {font-family: monospace;font-weight: bold;display: inline-block;line-height: 1.2em;}#sk-container-id-7 div.sk-label-container {text-align: center;}#sk-container-id-7 div.sk-container {/* jupyter's `normalize.less` sets `[hidden] { display: none; }` but bootstrap.min.css set `[hidden] { display: none !important; }` so we also need the `!important` here to be able to override the default hidden behavior on the sphinx rendered scikit-learn.org. See: https://github.com/scikit-learn/scikit-learn/issues/21755 */display: inline-block !important;position: relative;}#sk-container-id-7 div.sk-text-repr-fallback {display: none;}</style><div id=\"sk-container-id-7\" class=\"sk-top-container\"><div class=\"sk-text-repr-fallback\"><pre>SVC(kernel=&#x27;linear&#x27;)</pre><b>In a Jupyter environment, please rerun this cell to show the HTML representation or trust the notebook. <br />On GitHub, the HTML representation is unable to render, please try loading this page with nbviewer.org.</b></div><div class=\"sk-container\" hidden><div class=\"sk-item\"><div class=\"sk-estimator sk-toggleable\"><input class=\"sk-toggleable__control sk-hidden--visually\" id=\"sk-estimator-id-7\" type=\"checkbox\" checked><label for=\"sk-estimator-id-7\" class=\"sk-toggleable__label sk-toggleable__label-arrow\">SVC</label><div class=\"sk-toggleable__content\"><pre>SVC(kernel=&#x27;linear&#x27;)</pre></div></div></div></div></div>"
      ],
      "text/plain": [
       "SVC(kernel='linear')"
      ]
     },
     "execution_count": 143,
     "metadata": {},
     "output_type": "execute_result"
    }
   ],
   "source": [
    "# create and train the SVM\n",
    "classifier = SVC(kernel='linear')\n",
    "classifier.fit(X_train, y_train)"
   ]
  },
  {
   "cell_type": "code",
   "execution_count": 144,
   "metadata": {},
   "outputs": [],
   "source": [
    "preds = classifier.predict(X_test)"
   ]
  },
  {
   "cell_type": "code",
   "execution_count": 145,
   "metadata": {},
   "outputs": [
    {
     "data": {
      "text/plain": [
       "0.43325"
      ]
     },
     "execution_count": 145,
     "metadata": {},
     "output_type": "execute_result"
    }
   ],
   "source": [
    "np.mean(preds == y_test)"
   ]
  }
 ],
 "metadata": {
  "kernelspec": {
   "display_name": "refcm",
   "language": "python",
   "name": "python3"
  },
  "language_info": {
   "codemirror_mode": {
    "name": "ipython",
    "version": 3
   },
   "file_extension": ".py",
   "mimetype": "text/x-python",
   "name": "python",
   "nbconvert_exporter": "python",
   "pygments_lexer": "ipython3",
   "version": "3.11.7"
  }
 },
 "nbformat": 4,
 "nbformat_minor": 2
}
