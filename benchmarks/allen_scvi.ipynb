{
 "cells": [
  {
   "cell_type": "markdown",
   "metadata": {
    "colab_type": "text",
    "id": "view-in-github"
   },
   "source": [
    "<a href=\"https://colab.research.google.com/github/ValerioGalanti/scC/blob/main/yining/benchmarks/scvi_benchmark.ipynb\" target=\"_parent\"><img src=\"https://colab.research.google.com/assets/colab-badge.svg\" alt=\"Open In Colab\"/></a>"
   ]
  },
  {
   "cell_type": "code",
   "execution_count": null,
   "metadata": {
    "colab": {
     "base_uri": "https://localhost:8080/"
    },
    "id": "_-GTIDNBTXCy",
    "outputId": "1fb92daa-bfdf-478b-dd71-ea710c27591e"
   },
   "outputs": [
    {
     "name": "stdout",
     "output_type": "stream",
     "text": [
      "\u001b[34mINFO    \u001b[0m scvi-colab: Installing scvi-tools.                                                                        \n",
      "\u001b[34mINFO    \u001b[0m scvi-colab: Install successful. Testing import.                                                           \n"
     ]
    },
    {
     "name": "stderr",
     "output_type": "stream",
     "text": [
      "/usr/local/lib/python3.10/dist-packages/scvi/_settings.py:63: UserWarning: Since v1.0.0, scvi-tools no longer uses a random seed by default. Run `scvi.settings.seed = 0` to reproduce results from previous versions.\n",
      "  self.seed = seed\n",
      "/usr/local/lib/python3.10/dist-packages/scvi/_settings.py:70: UserWarning: Setting `dl_pin_memory_gpu_training` is deprecated in v1.0 and will be removed in v1.1. Please pass in `pin_memory` to the data loaders instead.\n",
      "  self.dl_pin_memory_gpu_training = (\n"
     ]
    }
   ],
   "source": [
    "!pip install --quiet scvi-colab\n",
    "import sys\n",
    "\n",
    "from scvi_colab import install\n",
    "\n",
    "install()\n",
    "\n",
    "IN_COLAB = \"google.colab\" in sys.modules\n",
    "if IN_COLAB:\n",
    "    !pip install --quiet scrublet"
   ]
  },
  {
   "cell_type": "code",
   "execution_count": 3,
   "metadata": {
    "id": "_jNYA84tTxO9"
   },
   "outputs": [
    {
     "ename": "ModuleNotFoundError",
     "evalue": "No module named 'scanpy'",
     "output_type": "error",
     "traceback": [
      "\u001b[0;31m---------------------------------------------------------------------------\u001b[0m",
      "\u001b[0;31mModuleNotFoundError\u001b[0m                       Traceback (most recent call last)",
      "Cell \u001b[0;32mIn[3], line 7\u001b[0m\n\u001b[1;32m      5\u001b[0m \u001b[38;5;28;01mimport\u001b[39;00m \u001b[38;5;21;01mnumpy\u001b[39;00m \u001b[38;5;28;01mas\u001b[39;00m \u001b[38;5;21;01mnp\u001b[39;00m\n\u001b[1;32m      6\u001b[0m \u001b[38;5;28;01mimport\u001b[39;00m \u001b[38;5;21;01mpandas\u001b[39;00m \u001b[38;5;28;01mas\u001b[39;00m \u001b[38;5;21;01mpd\u001b[39;00m\n\u001b[0;32m----> 7\u001b[0m \u001b[38;5;28;01mimport\u001b[39;00m \u001b[38;5;21;01mscanpy\u001b[39;00m \u001b[38;5;28;01mas\u001b[39;00m \u001b[38;5;21;01msc\u001b[39;00m\n\u001b[1;32m      8\u001b[0m \u001b[38;5;28;01mimport\u001b[39;00m \u001b[38;5;21;01mscrublet\u001b[39;00m \u001b[38;5;28;01mas\u001b[39;00m \u001b[38;5;21;01mscr\u001b[39;00m\n\u001b[1;32m      9\u001b[0m \u001b[38;5;28;01mimport\u001b[39;00m \u001b[38;5;21;01mscvi\u001b[39;00m\n",
      "\u001b[0;31mModuleNotFoundError\u001b[0m: No module named 'scanpy'"
     ]
    }
   ],
   "source": [
    "import sys\n",
    "import warnings\n",
    "\n",
    "import anndata\n",
    "import numpy as np\n",
    "import pandas as pd\n",
    "import scanpy as sc\n",
    "import scrublet as scr\n",
    "import scvi"
   ]
  },
  {
   "cell_type": "code",
   "execution_count": null,
   "metadata": {
    "colab": {
     "base_uri": "https://localhost:8080/"
    },
    "id": "XStJ-loNTzt4",
    "outputId": "b6caeb30-ae35-49fc-c054-123d6c1dc19a"
   },
   "outputs": [
    {
     "name": "stderr",
     "output_type": "stream",
     "text": [
      "INFO: Global seed set to 94705\n",
      "INFO:lightning.fabric.utilities.seed:Global seed set to 94705\n"
     ]
    }
   ],
   "source": [
    "warnings.simplefilter(action=\"ignore\", category=FutureWarning)\n",
    "\n",
    "\n",
    "sc.set_figure_params(figsize=(4, 4))\n",
    "scvi.settings.seed = 94705\n",
    "\n",
    "%config InlineBackend.print_figure_kwargs={'facecolor' : \"w\"}\n",
    "%config InlineBackend.figure_format='retina'"
   ]
  },
  {
   "cell_type": "markdown",
   "metadata": {
    "id": "NypLyaZDT2KL"
   },
   "source": [
    "# Data Preparation"
   ]
  },
  {
   "cell_type": "code",
   "execution_count": null,
   "metadata": {
    "colab": {
     "base_uri": "https://localhost:8080/"
    },
    "id": "XAG8u8ksqian",
    "outputId": "c610a585-26d0-44ce-ac0f-3f941ece5866"
   },
   "outputs": [
    {
     "data": {
      "text/plain": [
       "AnnData object with n_obs × n_vars = 34735 × 16024"
      ]
     },
     "execution_count": 4,
     "metadata": {},
     "output_type": "execute_result"
    }
   ],
   "source": [
    "path_to_dataset = \"drive/MyDrive/research/data/\"\n",
    "adata = sc.read_csv(path_to_dataset + \"MouseV1_MouseALM_HumanMTG.csv\")\n",
    "adata"
   ]
  },
  {
   "cell_type": "code",
   "execution_count": null,
   "metadata": {
    "id": "mMXmmncrT3nz"
   },
   "outputs": [],
   "source": [
    "adata_ref = adata[20681: -1].copy() # MTG\n",
    "adata_query = adata[12553: 20681].copy() # ALM"
   ]
  },
  {
   "cell_type": "code",
   "execution_count": null,
   "metadata": {
    "id": "Rrk5XjrkqUe7"
   },
   "outputs": [],
   "source": [
    "# select the top 2k varying genes\n",
    "sc.pp.highly_variable_genes(adata_ref, n_top_genes=2000, flavor='seurat_v3', subset=True)\n",
    "adata_query = adata_query[:, adata_ref.var_names].copy()"
   ]
  },
  {
   "cell_type": "code",
   "execution_count": null,
   "metadata": {
    "colab": {
     "base_uri": "https://localhost:8080/"
    },
    "id": "yGbqbcJ-PGmc",
    "outputId": "142f8004-a4f7-4760-bc61-6b2c8d404bce"
   },
   "outputs": [
    {
     "data": {
      "text/plain": [
       "((14053, 2000), (8128, 2000))"
      ]
     },
     "execution_count": 12,
     "metadata": {},
     "output_type": "execute_result"
    }
   ],
   "source": [
    "adata_ref.shape, adata_query.shape"
   ]
  },
  {
   "cell_type": "markdown",
   "metadata": {
    "id": "fmYmmmvYqZcu"
   },
   "source": [
    "# Train on reference"
   ]
  },
  {
   "cell_type": "code",
   "execution_count": null,
   "metadata": {
    "colab": {
     "base_uri": "https://localhost:8080/"
    },
    "id": "EUM4EEsvqdRe",
    "outputId": "98ec1c23-73b7-49f1-f12b-128d6905d8bc"
   },
   "outputs": [
    {
     "name": "stderr",
     "output_type": "stream",
     "text": [
      "WARNING:jax._src.xla_bridge:No GPU/TPU found, falling back to CPU. (Set TF_CPP_MIN_LOG_LEVEL=0 and rerun for more info.)\n"
     ]
    }
   ],
   "source": [
    "scvi.model.SCVI.setup_anndata(adata_ref)"
   ]
  },
  {
   "cell_type": "code",
   "execution_count": null,
   "metadata": {
    "id": "-KZMxyVpqgS6"
   },
   "outputs": [],
   "source": [
    "label34 = pd.read_csv(path_to_dataset + \"MouseV1_MouseALM_HumanMTG_Labels34.csv\").to_numpy()[:, 0]"
   ]
  },
  {
   "cell_type": "code",
   "execution_count": null,
   "metadata": {
    "id": "1rLYQl0aquZb"
   },
   "outputs": [],
   "source": [
    "# append the deep annotations for the reference dataset\n",
    "adata_ref.obs[\"label34\"] = label34[20681: -1]"
   ]
  },
  {
   "cell_type": "code",
   "execution_count": null,
   "metadata": {
    "colab": {
     "base_uri": "https://localhost:8080/"
    },
    "id": "sASOHLJzqytE",
    "outputId": "47beb4e7-8903-4b27-ec47-7aed47cdb490"
   },
   "outputs": [
    {
     "name": "stderr",
     "output_type": "stream",
     "text": [
      "INFO: GPU available: False, used: False\n",
      "INFO:lightning.pytorch.utilities.rank_zero:GPU available: False, used: False\n",
      "INFO: TPU available: False, using: 0 TPU cores\n",
      "INFO:lightning.pytorch.utilities.rank_zero:TPU available: False, using: 0 TPU cores\n",
      "INFO: IPU available: False, using: 0 IPUs\n",
      "INFO:lightning.pytorch.utilities.rank_zero:IPU available: False, using: 0 IPUs\n",
      "INFO: HPU available: False, using: 0 HPUs\n",
      "INFO:lightning.pytorch.utilities.rank_zero:HPU available: False, using: 0 HPUs\n"
     ]
    },
    {
     "name": "stdout",
     "output_type": "stream",
     "text": [
      "Epoch 50/50: 100%|██████████| 50/50 [03:59<00:00,  4.65s/it, v_num=1, train_loss_step=3.55e+3, train_loss_epoch=3.58e+3]"
     ]
    },
    {
     "name": "stderr",
     "output_type": "stream",
     "text": [
      "INFO: `Trainer.fit` stopped: `max_epochs=50` reached.\n",
      "INFO:lightning.pytorch.utilities.rank_zero:`Trainer.fit` stopped: `max_epochs=50` reached.\n"
     ]
    },
    {
     "name": "stdout",
     "output_type": "stream",
     "text": [
      "\r",
      "Epoch 50/50: 100%|██████████| 50/50 [03:59<00:00,  4.79s/it, v_num=1, train_loss_step=3.55e+3, train_loss_epoch=3.58e+3]\n"
     ]
    }
   ],
   "source": [
    "# pretraining scvi model\n",
    "arches_params = dict(\n",
    "    use_layer_norm=\"both\",\n",
    "    use_batch_norm=\"none\",\n",
    "    encode_covariates=True,\n",
    "    dropout_rate=0.2,\n",
    "    n_layers=2,\n",
    ")\n",
    "\n",
    "vae_ref = scvi.model.SCVI(adata_ref, **arches_params)\n",
    "vae_ref.train(max_epochs=50)"
   ]
  },
  {
   "cell_type": "code",
   "execution_count": null,
   "metadata": {
    "id": "OSFRhwFjrq9j"
   },
   "outputs": [],
   "source": [
    "vae_ref.save(\"drive/MyDrive/research/scC/models/vae_ref_top_genes\")"
   ]
  },
  {
   "cell_type": "code",
   "execution_count": null,
   "metadata": {
    "colab": {
     "base_uri": "https://localhost:8080/"
    },
    "id": "59A4EEqrrH8V",
    "outputId": "096d8656-8ca0-458f-9ce6-728e8503bce8"
   },
   "outputs": [
    {
     "name": "stdout",
     "output_type": "stream",
     "text": [
      "\u001b[34mINFO    \u001b[0m Training for \u001b[1;36m20\u001b[0m epochs.                                                                                   \n"
     ]
    },
    {
     "name": "stderr",
     "output_type": "stream",
     "text": [
      "INFO: GPU available: False, used: False\n",
      "INFO:lightning.pytorch.utilities.rank_zero:GPU available: False, used: False\n",
      "INFO: TPU available: False, using: 0 TPU cores\n",
      "INFO:lightning.pytorch.utilities.rank_zero:TPU available: False, using: 0 TPU cores\n",
      "INFO: IPU available: False, using: 0 IPUs\n",
      "INFO:lightning.pytorch.utilities.rank_zero:IPU available: False, using: 0 IPUs\n",
      "INFO: HPU available: False, using: 0 HPUs\n",
      "INFO:lightning.pytorch.utilities.rank_zero:HPU available: False, using: 0 HPUs\n"
     ]
    },
    {
     "name": "stdout",
     "output_type": "stream",
     "text": [
      "Epoch 20/20: 100%|██████████| 20/20 [03:31<00:00,  9.93s/it, v_num=1, train_loss_step=3.69e+3, train_loss_epoch=3.71e+3]"
     ]
    },
    {
     "name": "stderr",
     "output_type": "stream",
     "text": [
      "INFO: `Trainer.fit` stopped: `max_epochs=20` reached.\n",
      "INFO:lightning.pytorch.utilities.rank_zero:`Trainer.fit` stopped: `max_epochs=20` reached.\n"
     ]
    },
    {
     "name": "stdout",
     "output_type": "stream",
     "text": [
      "\r",
      "Epoch 20/20: 100%|██████████| 20/20 [03:31<00:00, 10.58s/it, v_num=1, train_loss_step=3.69e+3, train_loss_epoch=3.71e+3]\n"
     ]
    }
   ],
   "source": [
    "# traing the scanvi model with labels\n",
    "vae_ref_scan = scvi.model.SCANVI.from_scvi_model(\n",
    "    vae_ref,\n",
    "    unlabeled_category=\"Unknown\",\n",
    "    labels_key=\"label34\",\n",
    ")\n",
    "\n",
    "vae_ref_scan.train(max_epochs=20)"
   ]
  },
  {
   "cell_type": "code",
   "execution_count": null,
   "metadata": {
    "id": "7Lukj9FFslQ_"
   },
   "outputs": [],
   "source": [
    "dir_path_scan = \"drive/MyDrive/research/scC/models/vae_ref_scan_top_genes\"\n",
    "vae_ref_scan.save(dir_path_scan)"
   ]
  },
  {
   "cell_type": "markdown",
   "metadata": {
    "id": "OMF64UfsssdY"
   },
   "source": [
    "# Update with query"
   ]
  },
  {
   "cell_type": "code",
   "execution_count": null,
   "metadata": {
    "colab": {
     "base_uri": "https://localhost:8080/"
    },
    "id": "TiBV7IQMsuMF",
    "outputId": "cb7ffa9d-6d34-452c-d0cb-76b4c5ea173c"
   },
   "outputs": [
    {
     "name": "stdout",
     "output_type": "stream",
     "text": [
      "\u001b[34mINFO    \u001b[0m File drive/MyDrive/research/scC/models/vae_ref_scan_top_genes/model.pt already downloaded                 \n",
      "\u001b[34mINFO    \u001b[0m Found \u001b[1;36m100.0\u001b[0m% reference vars in query data.                                                                \n"
     ]
    }
   ],
   "source": [
    "scvi.model.SCANVI.prepare_query_anndata(adata_query, dir_path_scan)"
   ]
  },
  {
   "cell_type": "code",
   "execution_count": null,
   "metadata": {
    "colab": {
     "base_uri": "https://localhost:8080/"
    },
    "id": "0PTrsvb2_165",
    "outputId": "a0b29df3-1499-4535-e947-19e3b687984b"
   },
   "outputs": [
    {
     "name": "stdout",
     "output_type": "stream",
     "text": [
      "\u001b[34mINFO    \u001b[0m File drive/MyDrive/research/scC/models/vae_ref_scan_top_genes/model.pt already downloaded                 \n"
     ]
    },
    {
     "name": "stderr",
     "output_type": "stream",
     "text": [
      "/usr/local/lib/python3.10/dist-packages/scvi/data/_manager.py:212: UserWarning: Missing labels key label34. Filling in with unlabeled category Unknown.\n",
      "  field_registry[_constants._STATE_REGISTRY_KEY] = field.transfer_field(\n"
     ]
    }
   ],
   "source": [
    "vae_q = scvi.model.SCANVI.load_query_data(\n",
    "    adata_query,\n",
    "    dir_path_scan,\n",
    ")"
   ]
  },
  {
   "cell_type": "code",
   "execution_count": null,
   "metadata": {
    "colab": {
     "base_uri": "https://localhost:8080/"
    },
    "id": "RpxJuIJd_6Mo",
    "outputId": "7ddfc07c-72fe-43c4-b3a3-3fc92f289801"
   },
   "outputs": [
    {
     "name": "stdout",
     "output_type": "stream",
     "text": [
      "\u001b[34mINFO    \u001b[0m Training for \u001b[1;36m100\u001b[0m epochs.                                                                                  \n"
     ]
    },
    {
     "name": "stderr",
     "output_type": "stream",
     "text": [
      "INFO: GPU available: False, used: False\n",
      "INFO:lightning.pytorch.utilities.rank_zero:GPU available: False, used: False\n",
      "INFO: TPU available: False, using: 0 TPU cores\n",
      "INFO:lightning.pytorch.utilities.rank_zero:TPU available: False, using: 0 TPU cores\n",
      "INFO: IPU available: False, using: 0 IPUs\n",
      "INFO:lightning.pytorch.utilities.rank_zero:IPU available: False, using: 0 IPUs\n",
      "INFO: HPU available: False, using: 0 HPUs\n",
      "INFO:lightning.pytorch.utilities.rank_zero:HPU available: False, using: 0 HPUs\n"
     ]
    },
    {
     "name": "stdout",
     "output_type": "stream",
     "text": [
      "Epoch 100/100: 100%|██████████| 100/100 [06:29<00:00,  3.86s/it, v_num=1, train_loss_step=4.59e+3, train_loss_epoch=4.64e+3]"
     ]
    },
    {
     "name": "stderr",
     "output_type": "stream",
     "text": [
      "INFO: `Trainer.fit` stopped: `max_epochs=100` reached.\n",
      "INFO:lightning.pytorch.utilities.rank_zero:`Trainer.fit` stopped: `max_epochs=100` reached.\n"
     ]
    },
    {
     "name": "stdout",
     "output_type": "stream",
     "text": [
      "\r",
      "Epoch 100/100: 100%|██████████| 100/100 [06:29<00:00,  3.90s/it, v_num=1, train_loss_step=4.59e+3, train_loss_epoch=4.64e+3]\n"
     ]
    }
   ],
   "source": [
    "vae_q.train(\n",
    "    max_epochs=100,\n",
    "    plan_kwargs=dict(weight_decay=0.0),\n",
    "    check_val_every_n_epoch=10,\n",
    ")"
   ]
  },
  {
   "cell_type": "code",
   "execution_count": null,
   "metadata": {
    "id": "1xYKaRzpAWCl"
   },
   "outputs": [],
   "source": [
    "adata_query.obs[\"predictions\"] = vae_q.predict()"
   ]
  },
  {
   "cell_type": "code",
   "execution_count": null,
   "metadata": {
    "id": "L5mTNNkCRW7S"
   },
   "outputs": [],
   "source": [
    "dir_path_scanq = \"drive/MyDrive/research/scC/models/vae_q_scan_top_genes\"\n",
    "vae_ref_scan.save(dir_path_scanq)"
   ]
  },
  {
   "cell_type": "markdown",
   "metadata": {
    "id": "OSsT_yDmAjDJ"
   },
   "source": [
    "# Analyze Results"
   ]
  },
  {
   "cell_type": "code",
   "execution_count": null,
   "metadata": {
    "colab": {
     "base_uri": "https://localhost:8080/"
    },
    "id": "-xzumx6hAm0E",
    "outputId": "7376009c-d974-4e02-f2cd-3f74ffcf9856"
   },
   "outputs": [
    {
     "data": {
      "text/plain": [
       "0.33243110236220474"
      ]
     },
     "execution_count": 26,
     "metadata": {},
     "output_type": "execute_result"
    }
   ],
   "source": [
    "# accuracy\n",
    "np.mean(adata_query.obs[\"predictions\"] == label34[12553: 20681])"
   ]
  }
 ],
 "metadata": {
  "colab": {
   "authorship_tag": "ABX9TyMqmpu8POKtR7S7ag6F32Mt",
   "include_colab_link": true,
   "mount_file_id": "1FCbAFmT7_ZwhziHTxEKY9j3_N5c49gUl",
   "provenance": []
  },
  "kernelspec": {
   "display_name": "scvi-env",
   "language": "python",
   "name": "scvi-env"
  },
  "language_info": {
   "codemirror_mode": {
    "name": "ipython",
    "version": 3
   },
   "file_extension": ".py",
   "mimetype": "text/x-python",
   "name": "python",
   "nbconvert_exporter": "python",
   "pygments_lexer": "ipython3",
   "version": "3.9.18"
  }
 },
 "nbformat": 4,
 "nbformat_minor": 1
}
