{
  "nbformat": 4,
  "nbformat_minor": 0,
  "metadata": {
    "colab": {
      "provenance": []
    },
    "kernelspec": {
      "name": "python3",
      "display_name": "Python 3"
    },
    "language_info": {
      "name": "python"
    }
  },
  "cells": [
    {
      "cell_type": "code",
      "execution_count": 1,
      "metadata": {
        "colab": {
          "base_uri": "https://localhost:8080/"
        },
        "id": "Y4zfrKu10yaK",
        "outputId": "9273dd8c-df09-4c55-9919-93f44ca94526"
      },
      "outputs": [
        {
          "output_type": "stream",
          "name": "stdout",
          "text": [
            "Found existing installation: typing_extensions 4.11.0\n",
            "Uninstalling typing_extensions-4.11.0:\n",
            "  Successfully uninstalled typing_extensions-4.11.0\n",
            "\u001b[34mINFO    \u001b[0m scvi-colab: Installing scvi-tools.                                                                        \n",
            "\u001b[34mINFO    \u001b[0m scvi-colab: Install successful. Testing import.                                                           \n"
          ]
        }
      ],
      "source": [
        "!pip uninstall -y typing_extensions\n",
        "!pip install --quiet scvi-colab\n",
        "\n",
        "from scvi_colab import install\n",
        "\n",
        "install()"
      ]
    },
    {
      "cell_type": "code",
      "source": [
        "import sys\n",
        "import warnings\n",
        "\n",
        "IN_COLAB = \"google.colab\" in sys.modules\n",
        "if IN_COLAB:\n",
        "    !pip install --quiet scrublet\n",
        "\n",
        "import anndata\n",
        "import matplotlib.pyplot as plt\n",
        "import numpy as np\n",
        "import pandas as pd\n",
        "import scanpy as sc\n",
        "import scrublet as scr\n",
        "import scvi"
      ],
      "metadata": {
        "id": "hFlrGDIu03XB"
      },
      "execution_count": 2,
      "outputs": []
    },
    {
      "cell_type": "code",
      "source": [
        "warnings.simplefilter(action=\"ignore\", category=FutureWarning)\n",
        "\n",
        "\n",
        "sc.set_figure_params(figsize=(4, 4))\n",
        "scvi.settings.seed = 94705\n",
        "\n",
        "%config InlineBackend.print_figure_kwargs={'facecolor' : \"w\"}\n",
        "%config InlineBackend.figure_format='retina'"
      ],
      "metadata": {
        "colab": {
          "base_uri": "https://localhost:8080/"
        },
        "id": "l-h-Zt-83BKQ",
        "outputId": "97db397b-2237-4e71-b6c5-137165dbe648"
      },
      "execution_count": 3,
      "outputs": [
        {
          "output_type": "stream",
          "name": "stderr",
          "text": [
            "INFO: Seed set to 94705\n",
            "INFO:lightning.fabric.utilities.seed:Seed set to 94705\n"
          ]
        }
      ]
    },
    {
      "cell_type": "markdown",
      "source": [
        "# Data preparation"
      ],
      "metadata": {
        "id": "bKXpYkIg3gmt"
      }
    },
    {
      "cell_type": "code",
      "source": [
        "def get_hvg(ds, n_top_genes):\n",
        "    \"\"\"\n",
        "    Returns an AnnData's highly-variable genes list.\n",
        "\n",
        "    Parameters\n",
        "    ----------\n",
        "    ds: AnnData\n",
        "        The dataset to compute the hvg genes of.\n",
        "\n",
        "    Returns\n",
        "    -------\n",
        "    List[str]:\n",
        "        List of genes with the highest variability.\n",
        "    \"\"\"\n",
        "    sc.pp.highly_variable_genes(ds, n_top_genes=n_top_genes)\n",
        "\n",
        "    return ds.var[\"highly_variable\"][ds.var[\"highly_variable\"]].index.to_list()"
      ],
      "metadata": {
        "id": "mENRLtEdz_1e"
      },
      "execution_count": 17,
      "outputs": []
    },
    {
      "cell_type": "code",
      "source": [
        "from google.colab import drive\n",
        "drive.mount('/content/drive')\n",
        "\n",
        "path_to_dataset = \"drive/MyDrive/research/in-progress/RefCM/\""
      ],
      "metadata": {
        "colab": {
          "base_uri": "https://localhost:8080/"
        },
        "id": "ZYqNTgaz3jum",
        "outputId": "1b9e9d52-cf57-41a3-83e6-e7d8f992d0a8"
      },
      "execution_count": 5,
      "outputs": [
        {
          "output_type": "stream",
          "name": "stdout",
          "text": [
            "Mounted at /content/drive\n"
          ]
        }
      ]
    },
    {
      "cell_type": "code",
      "source": [
        "# no batch effect\n",
        "ref_adata = sc.read_csv(path_to_dataset + 'data/splatter_ref_counts.csv')\n",
        "q_adata = sc.read_csv(path_to_dataset + 'data/splatter_q_counts.csv')\n",
        "\n",
        "ref_labels = pd.read_csv(path_to_dataset + 'data/splatter_ref_labels.csv', header=None).to_numpy()[:, 0]\n",
        "q_labels = pd.read_csv(path_to_dataset + 'data/splatter_q_labels.csv', header=None).to_numpy()[:, 0]"
      ],
      "metadata": {
        "id": "rEzMsw7H4nID",
        "colab": {
          "base_uri": "https://localhost:8080/",
          "height": 350
        },
        "outputId": "b33d4d6a-c9c5-4dad-8fe8-3e5484e8d811"
      },
      "execution_count": 68,
      "outputs": [
        {
          "output_type": "error",
          "ename": "KeyboardInterrupt",
          "evalue": "",
          "traceback": [
            "\u001b[0;31m---------------------------------------------------------------------------\u001b[0m",
            "\u001b[0;31mKeyboardInterrupt\u001b[0m                         Traceback (most recent call last)",
            "\u001b[0;32m<ipython-input-68-b524a2d0c78f>\u001b[0m in \u001b[0;36m<cell line: 3>\u001b[0;34m()\u001b[0m\n\u001b[1;32m      1\u001b[0m \u001b[0;31m# no batch effect\u001b[0m\u001b[0;34m\u001b[0m\u001b[0;34m\u001b[0m\u001b[0m\n\u001b[1;32m      2\u001b[0m \u001b[0mref_adata\u001b[0m \u001b[0;34m=\u001b[0m \u001b[0msc\u001b[0m\u001b[0;34m.\u001b[0m\u001b[0mread_csv\u001b[0m\u001b[0;34m(\u001b[0m\u001b[0mpath_to_dataset\u001b[0m \u001b[0;34m+\u001b[0m \u001b[0;34m'data/splatter_ref_counts.csv'\u001b[0m\u001b[0;34m)\u001b[0m\u001b[0;34m\u001b[0m\u001b[0;34m\u001b[0m\u001b[0m\n\u001b[0;32m----> 3\u001b[0;31m \u001b[0mq_adata\u001b[0m \u001b[0;34m=\u001b[0m \u001b[0msc\u001b[0m\u001b[0;34m.\u001b[0m\u001b[0mread_csv\u001b[0m\u001b[0;34m(\u001b[0m\u001b[0mpath_to_dataset\u001b[0m \u001b[0;34m+\u001b[0m \u001b[0;34m'data/splatter_q_counts.csv'\u001b[0m\u001b[0;34m)\u001b[0m\u001b[0;34m\u001b[0m\u001b[0;34m\u001b[0m\u001b[0m\n\u001b[0m\u001b[1;32m      4\u001b[0m \u001b[0;34m\u001b[0m\u001b[0m\n\u001b[1;32m      5\u001b[0m \u001b[0mref_labels\u001b[0m \u001b[0;34m=\u001b[0m \u001b[0mpd\u001b[0m\u001b[0;34m.\u001b[0m\u001b[0mread_csv\u001b[0m\u001b[0;34m(\u001b[0m\u001b[0mpath_to_dataset\u001b[0m \u001b[0;34m+\u001b[0m \u001b[0;34m'data/splatter_ref_labels.csv'\u001b[0m\u001b[0;34m,\u001b[0m \u001b[0mheader\u001b[0m\u001b[0;34m=\u001b[0m\u001b[0;32mNone\u001b[0m\u001b[0;34m)\u001b[0m\u001b[0;34m.\u001b[0m\u001b[0mto_numpy\u001b[0m\u001b[0;34m(\u001b[0m\u001b[0;34m)\u001b[0m\u001b[0;34m[\u001b[0m\u001b[0;34m:\u001b[0m\u001b[0;34m,\u001b[0m \u001b[0;36m0\u001b[0m\u001b[0;34m]\u001b[0m\u001b[0;34m\u001b[0m\u001b[0;34m\u001b[0m\u001b[0m\n",
            "\u001b[0;32m/usr/local/lib/python3.10/dist-packages/anndata/_io/read.py\u001b[0m in \u001b[0;36mread_csv\u001b[0;34m(filename, delimiter, first_column_names, dtype)\u001b[0m\n\u001b[1;32m     55\u001b[0m         \u001b[0mNumpy\u001b[0m \u001b[0mdata\u001b[0m \u001b[0mtype\u001b[0m\u001b[0;34m.\u001b[0m\u001b[0;34m\u001b[0m\u001b[0;34m\u001b[0m\u001b[0m\n\u001b[1;32m     56\u001b[0m     \"\"\"\n\u001b[0;32m---> 57\u001b[0;31m     \u001b[0;32mreturn\u001b[0m \u001b[0mread_text\u001b[0m\u001b[0;34m(\u001b[0m\u001b[0mfilename\u001b[0m\u001b[0;34m,\u001b[0m \u001b[0mdelimiter\u001b[0m\u001b[0;34m,\u001b[0m \u001b[0mfirst_column_names\u001b[0m\u001b[0;34m,\u001b[0m \u001b[0mdtype\u001b[0m\u001b[0;34m)\u001b[0m\u001b[0;34m\u001b[0m\u001b[0;34m\u001b[0m\u001b[0m\n\u001b[0m\u001b[1;32m     58\u001b[0m \u001b[0;34m\u001b[0m\u001b[0m\n\u001b[1;32m     59\u001b[0m \u001b[0;34m\u001b[0m\u001b[0m\n",
            "\u001b[0;32m/usr/local/lib/python3.10/dist-packages/anndata/_io/read.py\u001b[0m in \u001b[0;36mread_text\u001b[0;34m(filename, delimiter, first_column_names, dtype)\u001b[0m\n\u001b[1;32m    358\u001b[0m     \u001b[0;32melse\u001b[0m\u001b[0;34m:\u001b[0m\u001b[0;34m\u001b[0m\u001b[0;34m\u001b[0m\u001b[0m\n\u001b[1;32m    359\u001b[0m         \u001b[0;32mwith\u001b[0m \u001b[0mfilename\u001b[0m\u001b[0;34m.\u001b[0m\u001b[0mopen\u001b[0m\u001b[0;34m(\u001b[0m\u001b[0;34m)\u001b[0m \u001b[0;32mas\u001b[0m \u001b[0mf\u001b[0m\u001b[0;34m:\u001b[0m\u001b[0;34m\u001b[0m\u001b[0;34m\u001b[0m\u001b[0m\n\u001b[0;32m--> 360\u001b[0;31m             \u001b[0;32mreturn\u001b[0m \u001b[0m_read_text\u001b[0m\u001b[0;34m(\u001b[0m\u001b[0mf\u001b[0m\u001b[0;34m,\u001b[0m \u001b[0mdelimiter\u001b[0m\u001b[0;34m,\u001b[0m \u001b[0mfirst_column_names\u001b[0m\u001b[0;34m,\u001b[0m \u001b[0mdtype\u001b[0m\u001b[0;34m)\u001b[0m\u001b[0;34m\u001b[0m\u001b[0;34m\u001b[0m\u001b[0m\n\u001b[0m\u001b[1;32m    361\u001b[0m \u001b[0;34m\u001b[0m\u001b[0m\n\u001b[1;32m    362\u001b[0m \u001b[0;34m\u001b[0m\u001b[0m\n",
            "\u001b[0;32m/usr/local/lib/python3.10/dist-packages/anndata/_io/read.py\u001b[0m in \u001b[0;36m_read_text\u001b[0;34m(f, delimiter, first_column_names, dtype)\u001b[0m\n\u001b[1;32m    436\u001b[0m         \u001b[0mdata\u001b[0m \u001b[0;34m=\u001b[0m \u001b[0;34m[\u001b[0m\u001b[0mdata\u001b[0m\u001b[0;34m[\u001b[0m\u001b[0;36m1\u001b[0m\u001b[0;34m]\u001b[0m\u001b[0;34m[\u001b[0m\u001b[0;36m1\u001b[0m\u001b[0;34m:\u001b[0m\u001b[0;34m]\u001b[0m\u001b[0;34m]\u001b[0m\u001b[0;34m\u001b[0m\u001b[0;34m\u001b[0m\u001b[0m\n\u001b[1;32m    437\u001b[0m     \u001b[0;31m# parse the file\u001b[0m\u001b[0;34m\u001b[0m\u001b[0;34m\u001b[0m\u001b[0m\n\u001b[0;32m--> 438\u001b[0;31m     \u001b[0;32mfor\u001b[0m \u001b[0mline\u001b[0m \u001b[0;32min\u001b[0m \u001b[0mlines\u001b[0m\u001b[0;34m:\u001b[0m\u001b[0;34m\u001b[0m\u001b[0;34m\u001b[0m\u001b[0m\n\u001b[0m\u001b[1;32m    439\u001b[0m         \u001b[0mline_list\u001b[0m \u001b[0;34m=\u001b[0m \u001b[0mline\u001b[0m\u001b[0;34m.\u001b[0m\u001b[0msplit\u001b[0m\u001b[0;34m(\u001b[0m\u001b[0mdelimiter\u001b[0m\u001b[0;34m)\u001b[0m\u001b[0;34m\u001b[0m\u001b[0;34m\u001b[0m\u001b[0m\n\u001b[1;32m    440\u001b[0m         \u001b[0;32mif\u001b[0m \u001b[0mfirst_column_names\u001b[0m\u001b[0;34m:\u001b[0m\u001b[0;34m\u001b[0m\u001b[0;34m\u001b[0m\u001b[0m\n",
            "\u001b[0;32m/usr/local/lib/python3.10/dist-packages/anndata/_io/read.py\u001b[0m in \u001b[0;36m_iter_lines\u001b[0;34m(file_like)\u001b[0m\n\u001b[1;32m    363\u001b[0m \u001b[0;32mdef\u001b[0m \u001b[0m_iter_lines\u001b[0m\u001b[0;34m(\u001b[0m\u001b[0mfile_like\u001b[0m\u001b[0;34m:\u001b[0m \u001b[0mIterable\u001b[0m\u001b[0;34m[\u001b[0m\u001b[0mstr\u001b[0m\u001b[0;34m]\u001b[0m\u001b[0;34m)\u001b[0m \u001b[0;34m->\u001b[0m \u001b[0mGenerator\u001b[0m\u001b[0;34m[\u001b[0m\u001b[0mstr\u001b[0m\u001b[0;34m,\u001b[0m \u001b[0;32mNone\u001b[0m\u001b[0;34m,\u001b[0m \u001b[0;32mNone\u001b[0m\u001b[0;34m]\u001b[0m\u001b[0;34m:\u001b[0m\u001b[0;34m\u001b[0m\u001b[0;34m\u001b[0m\u001b[0m\n\u001b[1;32m    364\u001b[0m     \u001b[0;34m\"\"\"Helper for iterating only nonempty lines without line breaks\"\"\"\u001b[0m\u001b[0;34m\u001b[0m\u001b[0;34m\u001b[0m\u001b[0m\n\u001b[0;32m--> 365\u001b[0;31m     \u001b[0;32mfor\u001b[0m \u001b[0mline\u001b[0m \u001b[0;32min\u001b[0m \u001b[0mfile_like\u001b[0m\u001b[0;34m:\u001b[0m\u001b[0;34m\u001b[0m\u001b[0;34m\u001b[0m\u001b[0m\n\u001b[0m\u001b[1;32m    366\u001b[0m         \u001b[0mline\u001b[0m \u001b[0;34m=\u001b[0m \u001b[0mline\u001b[0m\u001b[0;34m.\u001b[0m\u001b[0mrstrip\u001b[0m\u001b[0;34m(\u001b[0m\u001b[0;34m\"\\r\\n\"\u001b[0m\u001b[0;34m)\u001b[0m\u001b[0;34m\u001b[0m\u001b[0;34m\u001b[0m\u001b[0m\n\u001b[1;32m    367\u001b[0m         \u001b[0;32mif\u001b[0m \u001b[0mline\u001b[0m\u001b[0;34m:\u001b[0m\u001b[0;34m\u001b[0m\u001b[0;34m\u001b[0m\u001b[0m\n",
            "\u001b[0;32m/usr/lib/python3.10/codecs.py\u001b[0m in \u001b[0;36mdecode\u001b[0;34m(self, input, final)\u001b[0m\n\u001b[1;32m    317\u001b[0m         \u001b[0;32mraise\u001b[0m \u001b[0mNotImplementedError\u001b[0m\u001b[0;34m\u001b[0m\u001b[0;34m\u001b[0m\u001b[0m\n\u001b[1;32m    318\u001b[0m \u001b[0;34m\u001b[0m\u001b[0m\n\u001b[0;32m--> 319\u001b[0;31m     \u001b[0;32mdef\u001b[0m \u001b[0mdecode\u001b[0m\u001b[0;34m(\u001b[0m\u001b[0mself\u001b[0m\u001b[0;34m,\u001b[0m \u001b[0minput\u001b[0m\u001b[0;34m,\u001b[0m \u001b[0mfinal\u001b[0m\u001b[0;34m=\u001b[0m\u001b[0;32mFalse\u001b[0m\u001b[0;34m)\u001b[0m\u001b[0;34m:\u001b[0m\u001b[0;34m\u001b[0m\u001b[0;34m\u001b[0m\u001b[0m\n\u001b[0m\u001b[1;32m    320\u001b[0m         \u001b[0;31m# decode input (taking the buffer into account)\u001b[0m\u001b[0;34m\u001b[0m\u001b[0;34m\u001b[0m\u001b[0m\n\u001b[1;32m    321\u001b[0m         \u001b[0mdata\u001b[0m \u001b[0;34m=\u001b[0m \u001b[0mself\u001b[0m\u001b[0;34m.\u001b[0m\u001b[0mbuffer\u001b[0m \u001b[0;34m+\u001b[0m \u001b[0minput\u001b[0m\u001b[0;34m\u001b[0m\u001b[0;34m\u001b[0m\u001b[0m\n",
            "\u001b[0;31mKeyboardInterrupt\u001b[0m: "
          ]
        }
      ]
    },
    {
      "cell_type": "code",
      "source": [
        "# with batch effect\n",
        "b=1\n",
        "X_train = pd.read_csv(path_to_dataset + 'data/splatter_ref_counts_b%s.csv' % b, index_col=0).values.T\n",
        "X_test = pd.read_csv(path_to_dataset + 'data/splatter_q_counts_b%s.csv' % b, index_col=0).values.T\n",
        "\n",
        "ref_labels = pd.read_csv(path_to_dataset + 'data/splatter_ref_labels_b%s.csv' % b, index_col=0).values.flatten()\n",
        "q_labels = pd.read_csv(path_to_dataset + 'data/splatter_q_labels_b%s.csv' % b, index_col=0).values.flatten()\n",
        "\n",
        "q_adata = anndata.AnnData(X_test.astype(np.float64))\n",
        "ref_adata = anndata.AnnData(X_train.astype(np.float64))"
      ],
      "metadata": {
        "id": "WUYUqD_zzLhv"
      },
      "execution_count": 69,
      "outputs": []
    },
    {
      "cell_type": "code",
      "source": [
        "ref_adata.obs['labels'] = ref_labels\n",
        "q_adata.obs['labels'] = q_labels"
      ],
      "metadata": {
        "id": "-FKSlU0D5PdW"
      },
      "execution_count": 70,
      "outputs": []
    },
    {
      "cell_type": "code",
      "source": [
        "# select the top 200 varying genes\n",
        "sc.pp.highly_variable_genes(ref_adata, n_top_genes=200, flavor='seurat_v3', subset=True)\n",
        "q_adata = q_adata[:, ref_adata.var_names].copy()"
      ],
      "metadata": {
        "id": "4n2pGeW66SqW"
      },
      "execution_count": 71,
      "outputs": []
    },
    {
      "cell_type": "markdown",
      "source": [
        "# Train on reference"
      ],
      "metadata": {
        "id": "VwYzc-gW6nwp"
      }
    },
    {
      "cell_type": "code",
      "source": [
        "scvi.model.SCVI.setup_anndata(ref_adata)"
      ],
      "metadata": {
        "id": "KakA9BVG6qXN"
      },
      "execution_count": 72,
      "outputs": []
    },
    {
      "cell_type": "code",
      "source": [
        "# pretraining scvi model\n",
        "arches_params = dict(\n",
        "    use_layer_norm=\"both\",\n",
        "    use_batch_norm=\"none\",\n",
        "    encode_covariates=True,\n",
        "    dropout_rate=0.2,\n",
        "    n_layers=2,\n",
        ")\n",
        "\n",
        "vae_ref = scvi.model.SCVI(ref_adata, **arches_params)\n",
        "vae_ref.train(max_epochs=50)"
      ],
      "metadata": {
        "colab": {
          "base_uri": "https://localhost:8080/"
        },
        "id": "nNkQqT456thy",
        "outputId": "6e032f92-115f-46ed-ff05-a87df9323787"
      },
      "execution_count": 73,
      "outputs": [
        {
          "output_type": "stream",
          "name": "stderr",
          "text": [
            "INFO: GPU available: False, used: False\n",
            "INFO:lightning.pytorch.utilities.rank_zero:GPU available: False, used: False\n",
            "INFO: TPU available: False, using: 0 TPU cores\n",
            "INFO:lightning.pytorch.utilities.rank_zero:TPU available: False, using: 0 TPU cores\n",
            "INFO: IPU available: False, using: 0 IPUs\n",
            "INFO:lightning.pytorch.utilities.rank_zero:IPU available: False, using: 0 IPUs\n",
            "INFO: HPU available: False, using: 0 HPUs\n",
            "INFO:lightning.pytorch.utilities.rank_zero:HPU available: False, using: 0 HPUs\n"
          ]
        },
        {
          "output_type": "stream",
          "name": "stdout",
          "text": [
            "Epoch 50/50: 100%|██████████| 50/50 [00:31<00:00,  1.95it/s, v_num=1, train_loss_step=585, train_loss_epoch=597]"
          ]
        },
        {
          "output_type": "stream",
          "name": "stderr",
          "text": [
            "INFO: `Trainer.fit` stopped: `max_epochs=50` reached.\n",
            "INFO:lightning.pytorch.utilities.rank_zero:`Trainer.fit` stopped: `max_epochs=50` reached.\n"
          ]
        },
        {
          "output_type": "stream",
          "name": "stdout",
          "text": [
            "\rEpoch 50/50: 100%|██████████| 50/50 [00:31<00:00,  1.57it/s, v_num=1, train_loss_step=585, train_loss_epoch=597]\n"
          ]
        }
      ]
    },
    {
      "cell_type": "code",
      "source": [
        "# traing the scanvi model with labels\n",
        "vae_ref_scan = scvi.model.SCANVI.from_scvi_model(\n",
        "    vae_ref,\n",
        "    unlabeled_category=\"Unknown\",\n",
        "    labels_key=\"labels\",\n",
        ")\n",
        "\n",
        "vae_ref_scan.train(max_epochs=20)"
      ],
      "metadata": {
        "colab": {
          "base_uri": "https://localhost:8080/"
        },
        "id": "c0EOL8IJ60sC",
        "outputId": "65b12000-c83d-4405-9fc8-573690db25f0"
      },
      "execution_count": 74,
      "outputs": [
        {
          "output_type": "stream",
          "name": "stdout",
          "text": [
            "\u001b[34mINFO    \u001b[0m Training for \u001b[1;36m20\u001b[0m epochs.                                                                                   \n"
          ]
        },
        {
          "output_type": "stream",
          "name": "stderr",
          "text": [
            "INFO: GPU available: False, used: False\n",
            "INFO:lightning.pytorch.utilities.rank_zero:GPU available: False, used: False\n",
            "INFO: TPU available: False, using: 0 TPU cores\n",
            "INFO:lightning.pytorch.utilities.rank_zero:TPU available: False, using: 0 TPU cores\n",
            "INFO: IPU available: False, using: 0 IPUs\n",
            "INFO:lightning.pytorch.utilities.rank_zero:IPU available: False, using: 0 IPUs\n",
            "INFO: HPU available: False, using: 0 HPUs\n",
            "INFO:lightning.pytorch.utilities.rank_zero:HPU available: False, using: 0 HPUs\n"
          ]
        },
        {
          "output_type": "stream",
          "name": "stdout",
          "text": [
            "Epoch 20/20: 100%|██████████| 20/20 [00:23<00:00,  1.18s/it, v_num=1, train_loss_step=577, train_loss_epoch=593]"
          ]
        },
        {
          "output_type": "stream",
          "name": "stderr",
          "text": [
            "INFO: `Trainer.fit` stopped: `max_epochs=20` reached.\n",
            "INFO:lightning.pytorch.utilities.rank_zero:`Trainer.fit` stopped: `max_epochs=20` reached.\n"
          ]
        },
        {
          "output_type": "stream",
          "name": "stdout",
          "text": [
            "\rEpoch 20/20: 100%|██████████| 20/20 [00:23<00:00,  1.17s/it, v_num=1, train_loss_step=577, train_loss_epoch=593]\n"
          ]
        }
      ]
    },
    {
      "cell_type": "code",
      "source": [
        "dir_path_scan = path_to_dataset + \"models/vae_ref_scan_top_genes\"\n",
        "vae_ref_scan.save(dir_path_scan)"
      ],
      "metadata": {
        "id": "Pr-36bK-8LrJ"
      },
      "execution_count": 75,
      "outputs": []
    },
    {
      "cell_type": "markdown",
      "source": [
        "# Update with query"
      ],
      "metadata": {
        "id": "Gv3xvVOZ7epC"
      }
    },
    {
      "cell_type": "code",
      "source": [
        "scvi.model.SCANVI.prepare_query_anndata(q_adata, dir_path_scan)"
      ],
      "metadata": {
        "colab": {
          "base_uri": "https://localhost:8080/"
        },
        "id": "wqAZNZ5s7gWs",
        "outputId": "2d614a41-4967-4ea9-8064-370b565c37aa"
      },
      "execution_count": 76,
      "outputs": [
        {
          "output_type": "stream",
          "name": "stdout",
          "text": [
            "\u001b[34mINFO    \u001b[0m File drive/MyDrive/research/in-progress/RefCM/models/vae_ref_scan_top_genes/model.pt already downloaded   \n",
            "\u001b[34mINFO    \u001b[0m Found \u001b[1;36m100.0\u001b[0m% reference vars in query data.                                                                \n"
          ]
        }
      ]
    },
    {
      "cell_type": "code",
      "source": [
        "vae_q = scvi.model.SCANVI.load_query_data(\n",
        "    q_adata,\n",
        "    dir_path_scan,\n",
        ")"
      ],
      "metadata": {
        "colab": {
          "base_uri": "https://localhost:8080/"
        },
        "id": "ZxNyVHY-8UEL",
        "outputId": "1b9d5e0f-7661-43ad-d3e4-64872b25e803"
      },
      "execution_count": 77,
      "outputs": [
        {
          "output_type": "stream",
          "name": "stdout",
          "text": [
            "\u001b[34mINFO    \u001b[0m File drive/MyDrive/research/in-progress/RefCM/models/vae_ref_scan_top_genes/model.pt already downloaded   \n"
          ]
        }
      ]
    },
    {
      "cell_type": "code",
      "source": [
        "vae_q.train(\n",
        "    max_epochs=100,\n",
        "    plan_kwargs=dict(weight_decay=0.0),\n",
        "    check_val_every_n_epoch=10,\n",
        ")"
      ],
      "metadata": {
        "colab": {
          "base_uri": "https://localhost:8080/"
        },
        "id": "1LY4ppft8Xe0",
        "outputId": "a5f5b0ec-709e-4fa0-cdac-d6008afdbcb0"
      },
      "execution_count": 78,
      "outputs": [
        {
          "output_type": "stream",
          "name": "stdout",
          "text": [
            "\u001b[34mINFO    \u001b[0m Training for \u001b[1;36m100\u001b[0m epochs.                                                                                  \n"
          ]
        },
        {
          "output_type": "stream",
          "name": "stderr",
          "text": [
            "INFO: GPU available: False, used: False\n",
            "INFO:lightning.pytorch.utilities.rank_zero:GPU available: False, used: False\n",
            "INFO: TPU available: False, using: 0 TPU cores\n",
            "INFO:lightning.pytorch.utilities.rank_zero:TPU available: False, using: 0 TPU cores\n",
            "INFO: IPU available: False, using: 0 IPUs\n",
            "INFO:lightning.pytorch.utilities.rank_zero:IPU available: False, using: 0 IPUs\n",
            "INFO: HPU available: False, using: 0 HPUs\n",
            "INFO:lightning.pytorch.utilities.rank_zero:HPU available: False, using: 0 HPUs\n"
          ]
        },
        {
          "output_type": "stream",
          "name": "stdout",
          "text": [
            "Epoch 100/100: 100%|██████████| 100/100 [01:40<00:00,  1.03s/it, v_num=1, train_loss_step=1.37e+3, train_loss_epoch=1.4e+3] "
          ]
        },
        {
          "output_type": "stream",
          "name": "stderr",
          "text": [
            "INFO: `Trainer.fit` stopped: `max_epochs=100` reached.\n",
            "INFO:lightning.pytorch.utilities.rank_zero:`Trainer.fit` stopped: `max_epochs=100` reached.\n"
          ]
        },
        {
          "output_type": "stream",
          "name": "stdout",
          "text": [
            "\rEpoch 100/100: 100%|██████████| 100/100 [01:40<00:00,  1.01s/it, v_num=1, train_loss_step=1.37e+3, train_loss_epoch=1.4e+3]\n"
          ]
        }
      ]
    },
    {
      "cell_type": "code",
      "source": [
        "q_adata.obs[\"predictions\"] = vae_q.predict()"
      ],
      "metadata": {
        "id": "u4eFE_qO8Z2R"
      },
      "execution_count": 79,
      "outputs": []
    },
    {
      "cell_type": "code",
      "source": [
        "np.mean(q_adata.obs[\"predictions\"] == q_adata.obs[\"labels\"])"
      ],
      "metadata": {
        "colab": {
          "base_uri": "https://localhost:8080/"
        },
        "id": "XhSNHKBa88j_",
        "outputId": "014b2acb-dfc6-4226-ff01-b1bb578204bd"
      },
      "execution_count": 80,
      "outputs": [
        {
          "output_type": "execute_result",
          "data": {
            "text/plain": [
              "0.488"
            ]
          },
          "metadata": {},
          "execution_count": 80
        }
      ]
    },
    {
      "cell_type": "code",
      "source": [],
      "metadata": {
        "id": "0De-ObMj5B5J"
      },
      "execution_count": null,
      "outputs": []
    }
  ]
}