{
 "cells": [
  {
   "cell_type": "code",
   "execution_count": 1,
   "metadata": {},
   "outputs": [],
   "source": [
    "import sys\n",
    "sys.path.append('../src/')\n",
    "\n",
    "import config\n",
    "import logging\n",
    "import scanpy as sc\n",
    "from refcm import RefCM\n",
    "\n",
    "config.start_logging(logging.INFO)"
   ]
  },
  {
   "cell_type": "code",
   "execution_count": 2,
   "metadata": {},
   "outputs": [],
   "source": [
    "# too memory-intensive to load directly on most laptops\n",
    "# ds = ['Blood', 'Bone_marrow', 'Heart', 'Hippocampus', 'Intestine', 'Kidney', 'Liver', 'Lung', 'Lymph_node', 'Pancreas', 'Skeletal_muscle', 'Spleen']\n",
    "ds = ['Bone_marrow', 'Lymph_node']\n",
    "ds = {s: sc.read_h5ad(f'../data/{s}.h5ad') for s in ds}"
   ]
  },
  {
   "cell_type": "code",
   "execution_count": 5,
   "metadata": {},
   "outputs": [
    {
     "name": "stderr",
     "output_type": "stream",
     "text": [
      "[refcm           ] [INFO    ] : NOTE: raw counts expected in anndata .X attributes.\n",
      "|██▌             | [ 16.35% ] : 20:12"
     ]
    }
   ],
   "source": [
    "q, ref = 'Bone_marrow', 'Lymph_node'\n",
    "\n",
    "rcm = RefCM(numItermax=1e7)\n",
    "m = rcm.annotate(ds[q], q, ds[ref], ref, 'cell_type', 'cell_type')\n",
    "m.eval('cell_type')\n",
    "m.display_matching_costs('cell_type')"
   ]
  },
  {
   "cell_type": "code",
   "execution_count": null,
   "metadata": {},
   "outputs": [],
   "source": [
    "rcm = RefCM()\n",
    "\n",
    "for i, q_id in enumerate(ds):\n",
    "    for ref_id in [d for d in ds if d != q_id]:\n",
    "        m = rcm.annotate(ds[q_id], q_id, ds[ref_id], ref_id, 'labels34', 'labels34')\n",
    "        m.eval('labels34')"
   ]
  }
 ],
 "metadata": {
  "kernelspec": {
   "display_name": "RefCM",
   "language": "python",
   "name": "python3"
  },
  "language_info": {
   "codemirror_mode": {
    "name": "ipython",
    "version": 3
   },
   "file_extension": ".py",
   "mimetype": "text/x-python",
   "name": "python",
   "nbconvert_exporter": "python",
   "pygments_lexer": "ipython3",
   "version": "3.11.7"
  }
 },
 "nbformat": 4,
 "nbformat_minor": 2
}
