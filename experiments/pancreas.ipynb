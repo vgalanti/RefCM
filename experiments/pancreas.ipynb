{
 "cells": [
  {
   "cell_type": "code",
   "execution_count": 1,
   "metadata": {},
   "outputs": [],
   "source": [
    "import sys\n",
    "sys.path.append('../src/')\n",
    "\n",
    "import config\n",
    "import logging\n",
    "import scanpy as sc\n",
    "from refcm import RefCM\n",
    "\n",
    "config.start_logging(logging.INFO)"
   ]
  },
  {
   "cell_type": "code",
   "execution_count": 10,
   "metadata": {},
   "outputs": [],
   "source": [
    "ds = [\n",
    "    'pancreas_celseq', \n",
    "    'pancreas_celseq2', \n",
    "    'pancreas_fluidigmc1', \n",
    "    'pancreas_inDrop1', \n",
    "    'pancreas_inDrop2', \n",
    "    'pancreas_inDrop3', \n",
    "    'pancreas_inDrop4',\n",
    "    'pancreas_smarter', \n",
    "    'pancreas_smartseq2'\n",
    "]\n",
    "ds = {s: sc.read_h5ad(f'../data/{s}.h5ad') for s in ds}\n"
   ]
  },
  {
   "cell_type": "code",
   "execution_count": 14,
   "metadata": {},
   "outputs": [
    {
     "name": "stderr",
     "output_type": "stream",
     "text": [
      "[refcm           ] [INFO    ] : NOTE: raw counts expected in anndata .X attributes.\n",
      "|████████████████| [100.00% ] : 00:01\n",
      "[matchings       ] [INFO    ] : pancreas_smartseq2   to pancreas_inDrop4    \n",
      "[matchings       ] [INFO    ] : 13    common cell types\n",
      "[matchings       ] [INFO    ] : 13/13 correct   links\n",
      "[matchings       ] [INFO    ] : 0     incorrect links\n"
     ]
    },
    {
     "data": {
      "application/vnd.plotly.v1+json": {
       "config": {
        "plotlyServerURL": "https://plot.ly"
       },
       "data": [
        {
         "coloraxis": "coloraxis",
         "hovertemplate": "Reference: pancreas_inDrop4: %{x}<br>Query: pancreas_smartseq2: %{y}<br>cost: %{z}<extra></extra>",
         "name": "0",
         "type": "heatmap",
         "x": [
          "acinar",
          "activated_stellate",
          "alpha",
          "beta",
          "delta",
          "ductal",
          "endothelial",
          "epsilon",
          "gamma",
          "macrophage",
          "mast",
          "quiescent_stellate",
          "schwann",
          "t_cell"
         ],
         "xaxis": "x",
         "y": [
          "acinar",
          "activated_stellate",
          "alpha",
          "beta",
          "delta",
          "ductal",
          "endothelial",
          "epsilon",
          "gamma",
          "macrophage",
          "mast",
          "quiescent_stellate",
          "schwann"
         ],
         "yaxis": "y",
         "z": [
          [
           -0.8306775476958863,
           -0.3547470292471452,
           -0.10794397656005578,
           -0.12082989338992527,
           -0.10071819470140932,
           -0.7561762280356336,
           -0.2458588757347796,
           -0.17272409084723767,
           -0.09708086321373131,
           -0.360121733606457,
           -0.07541256465347407,
           -0.3652713892560199,
           -0.14491550656144137,
           -0.0766242918293273
          ],
          [
           -0.3742317091198536,
           -1,
           -0.070515258161026,
           -0.09511291255432586,
           -0.07903410173019311,
           -0.36476015162505365,
           -0.4003695618494439,
           -0.09702778587059813,
           -0.06640834434378536,
           -0.4075356130529057,
           -0.0950001982071516,
           -0.6966510663728815,
           -0.2972365487509873,
           -0.07419123720012505
          ],
          [
           -0.16207234425678124,
           -0.13407013331459416,
           -0.14791249988312533,
           -0.11629484812010014,
           -0.08780117063186405,
           -0.18028102211975724,
           -0.07299076480800541,
           -0.09184529654971603,
           -0.09937360781139494,
           -0.14249059822545368,
           -0.0047715042427478324,
           -0.119640198321478,
           -0.03282102585663517,
           -0.003613064009079537
          ],
          [
           -0.14870602978226977,
           -0.13106270221317098,
           -0.08726345348863515,
           -0.17994347029346044,
           -0.1024824352410177,
           -0.17051764396353256,
           -0.06650269131733758,
           -0.07524050076780275,
           -0.08048730709792692,
           -0.14405314100528982,
           -0.007052750984209756,
           -0.13253563286668285,
           -0.02421650960837322,
           -0.0014934249453102642
          ],
          [
           -0.14537650172340522,
           -0.12898898246991178,
           -0.08646087397139496,
           -0.11898369670213048,
           -0.12362342981645284,
           -0.16925103247496823,
           -0.06381428241403593,
           -0.0824126912512046,
           -0.08259280583935653,
           -0.13734142687669063,
           -0.014361952733852256,
           -0.12174145820492852,
           -0.03437707119405141,
           -0.006256392033328398
          ],
          [
           -0.5861057725836197,
           -0.3828933633690885,
           -0.10396297417662874,
           -0.11702868183031283,
           -0.10138334526991463,
           -0.7143118343664527,
           -0.26128753549646555,
           -0.15408148204268587,
           -0.09063840835412773,
           -0.33616736732372443,
           -0.06948865989299233,
           -0.39656637428106456,
           -0.17484584634359418,
           -0.06959218248581715
          ],
          [
           -0.30568293630853327,
           -0.4893285759575417,
           -0.056799358107492856,
           -0.0677363617033842,
           -0.05607671001606188,
           -0.30422481625213105,
           -0.6090026140410417,
           -0.07049113677623045,
           -0.053126900795360525,
           -0.3218087163021636,
           -0.07637047999662966,
           -0.40404995000951033,
           -0.1998637680234535,
           -0.08184193938119086
          ],
          [
           -0.21729423526388558,
           -0.1476987469309242,
           -0.11041590254932594,
           -0.1178390540236775,
           -0.09494313148287604,
           -0.20773693146012026,
           -0.07949314524713541,
           -0.21620291496305016,
           -0.10465898594250164,
           -0.16531952168140696,
           -0.008835764872865096,
           -0.14518916293044468,
           -0.041944210730921645,
           -0.0024802734627957066
          ],
          [
           -0.1517276096888163,
           -0.13619199853305095,
           -0.11506409027613088,
           -0.11907841872398933,
           -0.09321700733985096,
           -0.17587234880354996,
           -0.07277106607508291,
           -0.10933856712691008,
           -0.15304247804010512,
           -0.13743475758917617,
           -0.011854962663071764,
           -0.12780216084928736,
           -0.034815419614364705,
           0
          ],
          [
           -0.2957985583073244,
           -0.3111540341068623,
           -0.07218411013459294,
           -0.07177517851004744,
           -0.06229775782207946,
           -0.2756692303075493,
           -0.21390787562316718,
           -0.06388624407215293,
           -0.0542726868161073,
           -0.8166599067092949,
           -0.14411675832607715,
           -0.25224573627130253,
           -0.12516133813956168,
           -0.16228746389650625
          ],
          [
           -0.16179233672957713,
           -0.1890253623695987,
           -0.020059353900031635,
           -0.024340910907109645,
           -0.029423762416237318,
           -0.1580897168398075,
           -0.1344778824535068,
           -0.011336771552827144,
           -0.01787738991533713,
           -0.34460661577339746,
           -0.1788577463767569,
           -0.1659815437769696,
           -0.08448054295534403,
           -0.0934539951892439
          ],
          [
           -0.28561647494247416,
           -0.6311116059524243,
           -0.07309940687827855,
           -0.0760032135813635,
           -0.06297238209266806,
           -0.2601146081832708,
           -0.30276186361640417,
           -0.06857812333951813,
           -0.06501073879421207,
           -0.29455804587763784,
           -0.05912316936816595,
           -0.5590045773902861,
           -0.19263732065663997,
           -0.04639577473106053
          ],
          [
           -0.3054370304951647,
           -0.45537894808269225,
           -0.048849469455931646,
           -0.06259976845239504,
           -0.053662808732659335,
           -0.2700793447473874,
           -0.24366433437387733,
           -0.06199067038636001,
           -0.050257535627808964,
           -0.34672151237156656,
           -0.05455118589208786,
           -0.34924659516366063,
           -0.2756790825329414,
           -0.0645746385131243
          ]
         ]
        },
        {
         "hovertemplate": "%{y} -> %{x}",
         "marker": {
          "color": [
           "green",
           "green",
           "green",
           "green",
           "green",
           "green",
           "green",
           "green",
           "green",
           "green",
           "green",
           "green",
           "green"
          ],
          "size": 5
         },
         "mode": "markers",
         "name": "",
         "type": "scatter",
         "x": [
          "acinar",
          "activated_stellate",
          "alpha",
          "beta",
          "delta",
          "ductal",
          "endothelial",
          "epsilon",
          "gamma",
          "macrophage",
          "mast",
          "quiescent_stellate",
          "schwann"
         ],
         "y": [
          "acinar",
          "activated_stellate",
          "alpha",
          "beta",
          "delta",
          "ductal",
          "endothelial",
          "epsilon",
          "gamma",
          "macrophage",
          "mast",
          "quiescent_stellate",
          "schwann"
         ]
        }
       ],
       "layout": {
        "coloraxis": {
         "colorbar": {
          "title": {
           "text": "cost"
          }
         },
         "colorscale": [
          [
           0,
           "rgb(75, 41, 145)"
          ],
          [
           0.16666666666666666,
           "rgb(135, 44, 162)"
          ],
          [
           0.3333333333333333,
           "rgb(192, 54, 157)"
          ],
          [
           0.5,
           "rgb(234, 79, 136)"
          ],
          [
           0.6666666666666666,
           "rgb(250, 120, 118)"
          ],
          [
           0.8333333333333334,
           "rgb(246, 169, 122)"
          ],
          [
           1,
           "rgb(237, 217, 163)"
          ]
         ]
        },
        "template": {
         "data": {
          "bar": [
           {
            "error_x": {
             "color": "#2a3f5f"
            },
            "error_y": {
             "color": "#2a3f5f"
            },
            "marker": {
             "line": {
              "color": "#E5ECF6",
              "width": 0.5
             },
             "pattern": {
              "fillmode": "overlay",
              "size": 10,
              "solidity": 0.2
             }
            },
            "type": "bar"
           }
          ],
          "barpolar": [
           {
            "marker": {
             "line": {
              "color": "#E5ECF6",
              "width": 0.5
             },
             "pattern": {
              "fillmode": "overlay",
              "size": 10,
              "solidity": 0.2
             }
            },
            "type": "barpolar"
           }
          ],
          "carpet": [
           {
            "aaxis": {
             "endlinecolor": "#2a3f5f",
             "gridcolor": "white",
             "linecolor": "white",
             "minorgridcolor": "white",
             "startlinecolor": "#2a3f5f"
            },
            "baxis": {
             "endlinecolor": "#2a3f5f",
             "gridcolor": "white",
             "linecolor": "white",
             "minorgridcolor": "white",
             "startlinecolor": "#2a3f5f"
            },
            "type": "carpet"
           }
          ],
          "choropleth": [
           {
            "colorbar": {
             "outlinewidth": 0,
             "ticks": ""
            },
            "type": "choropleth"
           }
          ],
          "contour": [
           {
            "colorbar": {
             "outlinewidth": 0,
             "ticks": ""
            },
            "colorscale": [
             [
              0,
              "#0d0887"
             ],
             [
              0.1111111111111111,
              "#46039f"
             ],
             [
              0.2222222222222222,
              "#7201a8"
             ],
             [
              0.3333333333333333,
              "#9c179e"
             ],
             [
              0.4444444444444444,
              "#bd3786"
             ],
             [
              0.5555555555555556,
              "#d8576b"
             ],
             [
              0.6666666666666666,
              "#ed7953"
             ],
             [
              0.7777777777777778,
              "#fb9f3a"
             ],
             [
              0.8888888888888888,
              "#fdca26"
             ],
             [
              1,
              "#f0f921"
             ]
            ],
            "type": "contour"
           }
          ],
          "contourcarpet": [
           {
            "colorbar": {
             "outlinewidth": 0,
             "ticks": ""
            },
            "type": "contourcarpet"
           }
          ],
          "heatmap": [
           {
            "colorbar": {
             "outlinewidth": 0,
             "ticks": ""
            },
            "colorscale": [
             [
              0,
              "#0d0887"
             ],
             [
              0.1111111111111111,
              "#46039f"
             ],
             [
              0.2222222222222222,
              "#7201a8"
             ],
             [
              0.3333333333333333,
              "#9c179e"
             ],
             [
              0.4444444444444444,
              "#bd3786"
             ],
             [
              0.5555555555555556,
              "#d8576b"
             ],
             [
              0.6666666666666666,
              "#ed7953"
             ],
             [
              0.7777777777777778,
              "#fb9f3a"
             ],
             [
              0.8888888888888888,
              "#fdca26"
             ],
             [
              1,
              "#f0f921"
             ]
            ],
            "type": "heatmap"
           }
          ],
          "heatmapgl": [
           {
            "colorbar": {
             "outlinewidth": 0,
             "ticks": ""
            },
            "colorscale": [
             [
              0,
              "#0d0887"
             ],
             [
              0.1111111111111111,
              "#46039f"
             ],
             [
              0.2222222222222222,
              "#7201a8"
             ],
             [
              0.3333333333333333,
              "#9c179e"
             ],
             [
              0.4444444444444444,
              "#bd3786"
             ],
             [
              0.5555555555555556,
              "#d8576b"
             ],
             [
              0.6666666666666666,
              "#ed7953"
             ],
             [
              0.7777777777777778,
              "#fb9f3a"
             ],
             [
              0.8888888888888888,
              "#fdca26"
             ],
             [
              1,
              "#f0f921"
             ]
            ],
            "type": "heatmapgl"
           }
          ],
          "histogram": [
           {
            "marker": {
             "pattern": {
              "fillmode": "overlay",
              "size": 10,
              "solidity": 0.2
             }
            },
            "type": "histogram"
           }
          ],
          "histogram2d": [
           {
            "colorbar": {
             "outlinewidth": 0,
             "ticks": ""
            },
            "colorscale": [
             [
              0,
              "#0d0887"
             ],
             [
              0.1111111111111111,
              "#46039f"
             ],
             [
              0.2222222222222222,
              "#7201a8"
             ],
             [
              0.3333333333333333,
              "#9c179e"
             ],
             [
              0.4444444444444444,
              "#bd3786"
             ],
             [
              0.5555555555555556,
              "#d8576b"
             ],
             [
              0.6666666666666666,
              "#ed7953"
             ],
             [
              0.7777777777777778,
              "#fb9f3a"
             ],
             [
              0.8888888888888888,
              "#fdca26"
             ],
             [
              1,
              "#f0f921"
             ]
            ],
            "type": "histogram2d"
           }
          ],
          "histogram2dcontour": [
           {
            "colorbar": {
             "outlinewidth": 0,
             "ticks": ""
            },
            "colorscale": [
             [
              0,
              "#0d0887"
             ],
             [
              0.1111111111111111,
              "#46039f"
             ],
             [
              0.2222222222222222,
              "#7201a8"
             ],
             [
              0.3333333333333333,
              "#9c179e"
             ],
             [
              0.4444444444444444,
              "#bd3786"
             ],
             [
              0.5555555555555556,
              "#d8576b"
             ],
             [
              0.6666666666666666,
              "#ed7953"
             ],
             [
              0.7777777777777778,
              "#fb9f3a"
             ],
             [
              0.8888888888888888,
              "#fdca26"
             ],
             [
              1,
              "#f0f921"
             ]
            ],
            "type": "histogram2dcontour"
           }
          ],
          "mesh3d": [
           {
            "colorbar": {
             "outlinewidth": 0,
             "ticks": ""
            },
            "type": "mesh3d"
           }
          ],
          "parcoords": [
           {
            "line": {
             "colorbar": {
              "outlinewidth": 0,
              "ticks": ""
             }
            },
            "type": "parcoords"
           }
          ],
          "pie": [
           {
            "automargin": true,
            "type": "pie"
           }
          ],
          "scatter": [
           {
            "fillpattern": {
             "fillmode": "overlay",
             "size": 10,
             "solidity": 0.2
            },
            "type": "scatter"
           }
          ],
          "scatter3d": [
           {
            "line": {
             "colorbar": {
              "outlinewidth": 0,
              "ticks": ""
             }
            },
            "marker": {
             "colorbar": {
              "outlinewidth": 0,
              "ticks": ""
             }
            },
            "type": "scatter3d"
           }
          ],
          "scattercarpet": [
           {
            "marker": {
             "colorbar": {
              "outlinewidth": 0,
              "ticks": ""
             }
            },
            "type": "scattercarpet"
           }
          ],
          "scattergeo": [
           {
            "marker": {
             "colorbar": {
              "outlinewidth": 0,
              "ticks": ""
             }
            },
            "type": "scattergeo"
           }
          ],
          "scattergl": [
           {
            "marker": {
             "colorbar": {
              "outlinewidth": 0,
              "ticks": ""
             }
            },
            "type": "scattergl"
           }
          ],
          "scattermapbox": [
           {
            "marker": {
             "colorbar": {
              "outlinewidth": 0,
              "ticks": ""
             }
            },
            "type": "scattermapbox"
           }
          ],
          "scatterpolar": [
           {
            "marker": {
             "colorbar": {
              "outlinewidth": 0,
              "ticks": ""
             }
            },
            "type": "scatterpolar"
           }
          ],
          "scatterpolargl": [
           {
            "marker": {
             "colorbar": {
              "outlinewidth": 0,
              "ticks": ""
             }
            },
            "type": "scatterpolargl"
           }
          ],
          "scatterternary": [
           {
            "marker": {
             "colorbar": {
              "outlinewidth": 0,
              "ticks": ""
             }
            },
            "type": "scatterternary"
           }
          ],
          "surface": [
           {
            "colorbar": {
             "outlinewidth": 0,
             "ticks": ""
            },
            "colorscale": [
             [
              0,
              "#0d0887"
             ],
             [
              0.1111111111111111,
              "#46039f"
             ],
             [
              0.2222222222222222,
              "#7201a8"
             ],
             [
              0.3333333333333333,
              "#9c179e"
             ],
             [
              0.4444444444444444,
              "#bd3786"
             ],
             [
              0.5555555555555556,
              "#d8576b"
             ],
             [
              0.6666666666666666,
              "#ed7953"
             ],
             [
              0.7777777777777778,
              "#fb9f3a"
             ],
             [
              0.8888888888888888,
              "#fdca26"
             ],
             [
              1,
              "#f0f921"
             ]
            ],
            "type": "surface"
           }
          ],
          "table": [
           {
            "cells": {
             "fill": {
              "color": "#EBF0F8"
             },
             "line": {
              "color": "white"
             }
            },
            "header": {
             "fill": {
              "color": "#C8D4E3"
             },
             "line": {
              "color": "white"
             }
            },
            "type": "table"
           }
          ]
         },
         "layout": {
          "annotationdefaults": {
           "arrowcolor": "#2a3f5f",
           "arrowhead": 0,
           "arrowwidth": 1
          },
          "autotypenumbers": "strict",
          "coloraxis": {
           "colorbar": {
            "outlinewidth": 0,
            "ticks": ""
           }
          },
          "colorscale": {
           "diverging": [
            [
             0,
             "#8e0152"
            ],
            [
             0.1,
             "#c51b7d"
            ],
            [
             0.2,
             "#de77ae"
            ],
            [
             0.3,
             "#f1b6da"
            ],
            [
             0.4,
             "#fde0ef"
            ],
            [
             0.5,
             "#f7f7f7"
            ],
            [
             0.6,
             "#e6f5d0"
            ],
            [
             0.7,
             "#b8e186"
            ],
            [
             0.8,
             "#7fbc41"
            ],
            [
             0.9,
             "#4d9221"
            ],
            [
             1,
             "#276419"
            ]
           ],
           "sequential": [
            [
             0,
             "#0d0887"
            ],
            [
             0.1111111111111111,
             "#46039f"
            ],
            [
             0.2222222222222222,
             "#7201a8"
            ],
            [
             0.3333333333333333,
             "#9c179e"
            ],
            [
             0.4444444444444444,
             "#bd3786"
            ],
            [
             0.5555555555555556,
             "#d8576b"
            ],
            [
             0.6666666666666666,
             "#ed7953"
            ],
            [
             0.7777777777777778,
             "#fb9f3a"
            ],
            [
             0.8888888888888888,
             "#fdca26"
            ],
            [
             1,
             "#f0f921"
            ]
           ],
           "sequentialminus": [
            [
             0,
             "#0d0887"
            ],
            [
             0.1111111111111111,
             "#46039f"
            ],
            [
             0.2222222222222222,
             "#7201a8"
            ],
            [
             0.3333333333333333,
             "#9c179e"
            ],
            [
             0.4444444444444444,
             "#bd3786"
            ],
            [
             0.5555555555555556,
             "#d8576b"
            ],
            [
             0.6666666666666666,
             "#ed7953"
            ],
            [
             0.7777777777777778,
             "#fb9f3a"
            ],
            [
             0.8888888888888888,
             "#fdca26"
            ],
            [
             1,
             "#f0f921"
            ]
           ]
          },
          "colorway": [
           "#636efa",
           "#EF553B",
           "#00cc96",
           "#ab63fa",
           "#FFA15A",
           "#19d3f3",
           "#FF6692",
           "#B6E880",
           "#FF97FF",
           "#FECB52"
          ],
          "font": {
           "color": "#2a3f5f"
          },
          "geo": {
           "bgcolor": "white",
           "lakecolor": "white",
           "landcolor": "#E5ECF6",
           "showlakes": true,
           "showland": true,
           "subunitcolor": "white"
          },
          "hoverlabel": {
           "align": "left"
          },
          "hovermode": "closest",
          "mapbox": {
           "style": "light"
          },
          "paper_bgcolor": "white",
          "plot_bgcolor": "#E5ECF6",
          "polar": {
           "angularaxis": {
            "gridcolor": "white",
            "linecolor": "white",
            "ticks": ""
           },
           "bgcolor": "#E5ECF6",
           "radialaxis": {
            "gridcolor": "white",
            "linecolor": "white",
            "ticks": ""
           }
          },
          "scene": {
           "xaxis": {
            "backgroundcolor": "#E5ECF6",
            "gridcolor": "white",
            "gridwidth": 2,
            "linecolor": "white",
            "showbackground": true,
            "ticks": "",
            "zerolinecolor": "white"
           },
           "yaxis": {
            "backgroundcolor": "#E5ECF6",
            "gridcolor": "white",
            "gridwidth": 2,
            "linecolor": "white",
            "showbackground": true,
            "ticks": "",
            "zerolinecolor": "white"
           },
           "zaxis": {
            "backgroundcolor": "#E5ECF6",
            "gridcolor": "white",
            "gridwidth": 2,
            "linecolor": "white",
            "showbackground": true,
            "ticks": "",
            "zerolinecolor": "white"
           }
          },
          "shapedefaults": {
           "line": {
            "color": "#2a3f5f"
           }
          },
          "ternary": {
           "aaxis": {
            "gridcolor": "white",
            "linecolor": "white",
            "ticks": ""
           },
           "baxis": {
            "gridcolor": "white",
            "linecolor": "white",
            "ticks": ""
           },
           "bgcolor": "#E5ECF6",
           "caxis": {
            "gridcolor": "white",
            "linecolor": "white",
            "ticks": ""
           }
          },
          "title": {
           "x": 0.05
          },
          "xaxis": {
           "automargin": true,
           "gridcolor": "white",
           "linecolor": "white",
           "ticks": "",
           "title": {
            "standoff": 15
           },
           "zerolinecolor": "white",
           "zerolinewidth": 2
          },
          "yaxis": {
           "automargin": true,
           "gridcolor": "white",
           "linecolor": "white",
           "ticks": "",
           "title": {
            "standoff": 15
           },
           "zerolinecolor": "white",
           "zerolinewidth": 2
          }
         }
        },
        "title": {
         "text": "pancreas_smartseq2 to pancreas_inDrop4 matching cost"
        },
        "xaxis": {
         "anchor": "y",
         "constrain": "domain",
         "domain": [
          0,
          1
         ],
         "scaleanchor": "y",
         "tickangle": -90,
         "title": {
          "text": "Reference: pancreas_inDrop4"
         }
        },
        "yaxis": {
         "anchor": "x",
         "autorange": "reversed",
         "constrain": "domain",
         "domain": [
          0,
          1
         ],
         "title": {
          "text": "Query: pancreas_smartseq2"
         }
        }
       }
      }
     },
     "metadata": {},
     "output_type": "display_data"
    }
   ],
   "source": [
    "q, ref = 'pancreas_smartseq2', 'pancreas_inDrop4'\n",
    "\n",
    "rcm = RefCM(cache_load=False, cache_save=False, discovery_threshold=0.0)\n",
    "m = rcm.annotate(ds[q], q, ds[ref], ref, 'celltype', 'celltype')\n",
    "m.eval('celltype')\n",
    "m.display_matching_costs('celltype')"
   ]
  },
  {
   "cell_type": "code",
   "execution_count": 4,
   "metadata": {},
   "outputs": [
    {
     "name": "stderr",
     "output_type": "stream",
     "text": [
      "[refcm           ] [INFO    ] : NOTE: raw counts expected in anndata .X attributes.\n",
      "|████████████████| [100.00% ] : 00:01\n",
      "[matchings       ] [INFO    ] : mapped pancreas_celseq      to pancreas_celseq2    \n",
      "[matchings       ] [INFO    ] : (13 common cell types)\n",
      "[matchings       ] [INFO    ] : 13/13 correct mappings\n",
      "[matchings       ] [INFO    ] : 0 /13 incorrect mappings\n",
      "|████████████████| [100.00% ] : 00:00\n",
      "[matchings       ] [INFO    ] : mapped pancreas_celseq      to pancreas_fluidigmc1 \n",
      "[matchings       ] [INFO    ] : (13 common cell types)\n",
      "[matchings       ] [INFO    ] : 13/13 correct mappings\n",
      "[matchings       ] [INFO    ] : 0 /13 incorrect mappings\n",
      "|████████████████| [100.00% ] : 00:02\n",
      "[matchings       ] [INFO    ] : mapped pancreas_celseq      to pancreas_indrop1    \n",
      "[matchings       ] [INFO    ] : (13 common cell types)\n",
      "[matchings       ] [INFO    ] : 13/13 correct mappings\n",
      "[matchings       ] [INFO    ] : 0 /13 incorrect mappings\n",
      "|████████████████| [100.00% ] : 00:01\n",
      "[matchings       ] [INFO    ] : mapped pancreas_celseq      to pancreas_indrop2    \n",
      "[matchings       ] [INFO    ] : (13 common cell types)\n",
      "[matchings       ] [INFO    ] : 13/13 correct mappings\n",
      "[matchings       ] [INFO    ] : 0 /13 incorrect mappings\n",
      "|████████████████| [100.00% ] : 00:02\n",
      "[matchings       ] [INFO    ] : mapped pancreas_celseq      to pancreas_indrop3    \n",
      "[matchings       ] [INFO    ] : (13 common cell types)\n",
      "[matchings       ] [INFO    ] : 13/13 correct mappings\n",
      "[matchings       ] [INFO    ] : 0 /13 incorrect mappings\n",
      "|████████████████| [100.00% ] : 00:01\n",
      "[matchings       ] [INFO    ] : mapped pancreas_celseq      to pancreas_indrop4    \n",
      "[matchings       ] [INFO    ] : (13 common cell types)\n",
      "[matchings       ] [INFO    ] : 13/13 correct mappings\n",
      "[matchings       ] [INFO    ] : 0 /13 incorrect mappings\n",
      "|████████████████| [100.00% ] : 00:02\n",
      "[matchings       ] [INFO    ] : mapped pancreas_celseq      to pancreas_smarter    \n",
      "[matchings       ] [INFO    ] : (4  common cell types)\n",
      "[matchings       ] [INFO    ] : 1 /13 correct mappings\n",
      "[matchings       ] [INFO    ] : 3 /13 incorrect mappings\n",
      "|████████████████| [100.00% ] : 00:01\n",
      "[matchings       ] [INFO    ] : mapped pancreas_celseq      to pancreas_smartseq2  \n",
      "[matchings       ] [INFO    ] : (13 common cell types)\n",
      "[matchings       ] [INFO    ] : 13/13 correct mappings\n",
      "[matchings       ] [INFO    ] : 0 /13 incorrect mappings\n",
      "|████████████████| [100.00% ] : 00:01\n",
      "[matchings       ] [INFO    ] : mapped pancreas_celseq2     to pancreas_celseq     \n",
      "[matchings       ] [INFO    ] : (13 common cell types)\n",
      "[matchings       ] [INFO    ] : 13/13 correct mappings\n",
      "[matchings       ] [INFO    ] : 0 /13 incorrect mappings\n",
      "|████████████████| [100.00% ] : 00:01\n",
      "[matchings       ] [INFO    ] : mapped pancreas_celseq2     to pancreas_fluidigmc1 \n",
      "[matchings       ] [INFO    ] : (13 common cell types)\n",
      "[matchings       ] [INFO    ] : 13/13 correct mappings\n",
      "[matchings       ] [INFO    ] : 0 /13 incorrect mappings\n",
      "|████████████████| [100.00% ] : 00:01\n",
      "[matchings       ] [INFO    ] : mapped pancreas_celseq2     to pancreas_indrop1    \n",
      "[matchings       ] [INFO    ] : (13 common cell types)\n",
      "[matchings       ] [INFO    ] : 13/13 correct mappings\n",
      "[matchings       ] [INFO    ] : 0 /13 incorrect mappings\n",
      "|████████████████| [100.00% ] : 00:01\n",
      "[matchings       ] [INFO    ] : mapped pancreas_celseq2     to pancreas_indrop2    \n",
      "[matchings       ] [INFO    ] : (13 common cell types)\n",
      "[matchings       ] [INFO    ] : 13/13 correct mappings\n",
      "[matchings       ] [INFO    ] : 0 /13 incorrect mappings\n",
      "|████████████████| [100.00% ] : 00:02\n",
      "[matchings       ] [INFO    ] : mapped pancreas_celseq2     to pancreas_indrop3    \n",
      "[matchings       ] [INFO    ] : (13 common cell types)\n",
      "[matchings       ] [INFO    ] : 13/13 correct mappings\n",
      "[matchings       ] [INFO    ] : 0 /13 incorrect mappings\n",
      "|████████████████| [100.00% ] : 00:01\n",
      "[matchings       ] [INFO    ] : mapped pancreas_celseq2     to pancreas_indrop4    \n",
      "[matchings       ] [INFO    ] : (13 common cell types)\n",
      "[matchings       ] [INFO    ] : 13/13 correct mappings\n",
      "[matchings       ] [INFO    ] : 0 /13 incorrect mappings\n",
      "|████████████████| [100.00% ] : 00:01\n",
      "[matchings       ] [INFO    ] : mapped pancreas_celseq2     to pancreas_smarter    \n",
      "[matchings       ] [INFO    ] : (4  common cell types)\n",
      "[matchings       ] [INFO    ] : 0 /13 correct mappings\n",
      "[matchings       ] [INFO    ] : 4 /13 incorrect mappings\n",
      "|████████████████| [100.00% ] : 00:02\n",
      "[matchings       ] [INFO    ] : mapped pancreas_celseq2     to pancreas_smartseq2  \n",
      "[matchings       ] [INFO    ] : (13 common cell types)\n",
      "[matchings       ] [INFO    ] : 13/13 correct mappings\n",
      "[matchings       ] [INFO    ] : 0 /13 incorrect mappings\n",
      "|████████████████| [100.00% ] : 00:01\n",
      "[matchings       ] [INFO    ] : mapped pancreas_fluidigmc1  to pancreas_celseq     \n",
      "[matchings       ] [INFO    ] : (13 common cell types)\n",
      "[matchings       ] [INFO    ] : 13/13 correct mappings\n",
      "[matchings       ] [INFO    ] : 0 /13 incorrect mappings\n",
      "|████████████████| [100.00% ] : 00:01\n",
      "[matchings       ] [INFO    ] : mapped pancreas_fluidigmc1  to pancreas_celseq2    \n",
      "[matchings       ] [INFO    ] : (13 common cell types)\n",
      "[matchings       ] [INFO    ] : 13/13 correct mappings\n",
      "[matchings       ] [INFO    ] : 0 /13 incorrect mappings\n",
      "|████████████████| [100.00% ] : 00:01\n",
      "[matchings       ] [INFO    ] : mapped pancreas_fluidigmc1  to pancreas_indrop1    \n",
      "[matchings       ] [INFO    ] : (13 common cell types)\n",
      "[matchings       ] [INFO    ] : 13/13 correct mappings\n",
      "[matchings       ] [INFO    ] : 0 /13 incorrect mappings\n",
      "|████████████████| [100.00% ] : 00:01\n",
      "[matchings       ] [INFO    ] : mapped pancreas_fluidigmc1  to pancreas_indrop2    \n",
      "[matchings       ] [INFO    ] : (13 common cell types)\n",
      "[matchings       ] [INFO    ] : 13/13 correct mappings\n",
      "[matchings       ] [INFO    ] : 0 /13 incorrect mappings\n",
      "|████████████████| [100.00% ] : 00:03\n",
      "[matchings       ] [INFO    ] : mapped pancreas_fluidigmc1  to pancreas_indrop3    \n",
      "[matchings       ] [INFO    ] : (13 common cell types)\n",
      "[matchings       ] [INFO    ] : 13/13 correct mappings\n",
      "[matchings       ] [INFO    ] : 0 /13 incorrect mappings\n",
      "|████████████████| [100.00% ] : 00:01\n",
      "[matchings       ] [INFO    ] : mapped pancreas_fluidigmc1  to pancreas_indrop4    \n",
      "[matchings       ] [INFO    ] : (13 common cell types)\n",
      "[matchings       ] [INFO    ] : 13/13 correct mappings\n",
      "[matchings       ] [INFO    ] : 0 /13 incorrect mappings\n",
      "|████████████████| [100.00% ] : 00:00\n",
      "[matchings       ] [INFO    ] : mapped pancreas_fluidigmc1  to pancreas_smarter    \n",
      "[matchings       ] [INFO    ] : (4  common cell types)\n",
      "[matchings       ] [INFO    ] : 3 /13 correct mappings\n",
      "[matchings       ] [INFO    ] : 1 /13 incorrect mappings\n",
      "|████████████████| [100.00% ] : 00:02\n",
      "[matchings       ] [INFO    ] : mapped pancreas_fluidigmc1  to pancreas_smartseq2  \n",
      "[matchings       ] [INFO    ] : (13 common cell types)\n",
      "[matchings       ] [INFO    ] : 13/13 correct mappings\n",
      "[matchings       ] [INFO    ] : 0 /13 incorrect mappings\n",
      "|████████████████| [100.00% ] : 00:01\n",
      "[matchings       ] [INFO    ] : mapped pancreas_indrop1     to pancreas_celseq     \n",
      "[matchings       ] [INFO    ] : (13 common cell types)\n",
      "[matchings       ] [INFO    ] : 13/14 correct mappings\n",
      "[matchings       ] [INFO    ] : 0 /14 incorrect mappings\n",
      "|████████████████| [100.00% ] : 00:02\n",
      "[matchings       ] [INFO    ] : mapped pancreas_indrop1     to pancreas_celseq2    \n",
      "[matchings       ] [INFO    ] : (13 common cell types)\n",
      "[matchings       ] [INFO    ] : 13/14 correct mappings\n",
      "[matchings       ] [INFO    ] : 0 /14 incorrect mappings\n",
      "|████████████████| [100.00% ] : 00:01\n",
      "[matchings       ] [INFO    ] : mapped pancreas_indrop1     to pancreas_fluidigmc1 \n",
      "[matchings       ] [INFO    ] : (13 common cell types)\n",
      "[matchings       ] [INFO    ] : 13/14 correct mappings\n",
      "[matchings       ] [INFO    ] : 0 /14 incorrect mappings\n",
      "|████████████████| [100.00% ] : 00:01\n",
      "[matchings       ] [INFO    ] : mapped pancreas_indrop1     to pancreas_indrop2    \n",
      "[matchings       ] [INFO    ] : (14 common cell types)\n",
      "[matchings       ] [INFO    ] : 14/14 correct mappings\n",
      "[matchings       ] [INFO    ] : 0 /14 incorrect mappings\n",
      "|████████████████| [100.00% ] : 00:02\n",
      "[matchings       ] [INFO    ] : mapped pancreas_indrop1     to pancreas_indrop3    \n",
      "[matchings       ] [INFO    ] : (14 common cell types)\n",
      "[matchings       ] [INFO    ] : 14/14 correct mappings\n",
      "[matchings       ] [INFO    ] : 0 /14 incorrect mappings\n",
      "|████████████████| [100.00% ] : 00:01\n",
      "[matchings       ] [INFO    ] : mapped pancreas_indrop1     to pancreas_indrop4    \n",
      "[matchings       ] [INFO    ] : (14 common cell types)\n",
      "[matchings       ] [INFO    ] : 14/14 correct mappings\n",
      "[matchings       ] [INFO    ] : 0 /14 incorrect mappings\n",
      "|████████████████| [100.00% ] : 00:01\n",
      "[matchings       ] [INFO    ] : mapped pancreas_indrop1     to pancreas_smarter    \n",
      "[matchings       ] [INFO    ] : (4  common cell types)\n",
      "[matchings       ] [INFO    ] : 1 /14 correct mappings\n",
      "[matchings       ] [INFO    ] : 3 /14 incorrect mappings\n",
      "|████████████████| [100.00% ] : 00:02\n",
      "[matchings       ] [INFO    ] : mapped pancreas_indrop1     to pancreas_smartseq2  \n",
      "[matchings       ] [INFO    ] : (13 common cell types)\n",
      "[matchings       ] [INFO    ] : 13/14 correct mappings\n",
      "[matchings       ] [INFO    ] : 0 /14 incorrect mappings\n",
      "|████████████████| [100.00% ] : 00:01\n",
      "[matchings       ] [INFO    ] : mapped pancreas_indrop2     to pancreas_celseq     \n",
      "[matchings       ] [INFO    ] : (13 common cell types)\n",
      "[matchings       ] [INFO    ] : 13/14 correct mappings\n",
      "[matchings       ] [INFO    ] : 0 /14 incorrect mappings\n",
      "|████████████████| [100.00% ] : 00:02\n",
      "[matchings       ] [INFO    ] : mapped pancreas_indrop2     to pancreas_celseq2    \n",
      "[matchings       ] [INFO    ] : (13 common cell types)\n",
      "[matchings       ] [INFO    ] : 13/14 correct mappings\n",
      "[matchings       ] [INFO    ] : 0 /14 incorrect mappings\n",
      "|████████████████| [100.00% ] : 00:01\n",
      "[matchings       ] [INFO    ] : mapped pancreas_indrop2     to pancreas_fluidigmc1 \n",
      "[matchings       ] [INFO    ] : (13 common cell types)\n",
      "[matchings       ] [INFO    ] : 13/14 correct mappings\n",
      "[matchings       ] [INFO    ] : 0 /14 incorrect mappings\n",
      "|████████████████| [100.00% ] : 00:02\n",
      "[matchings       ] [INFO    ] : mapped pancreas_indrop2     to pancreas_indrop1    \n",
      "[matchings       ] [INFO    ] : (14 common cell types)\n",
      "[matchings       ] [INFO    ] : 14/14 correct mappings\n",
      "[matchings       ] [INFO    ] : 0 /14 incorrect mappings\n",
      "|████████████████| [100.00% ] : 00:03\n",
      "[matchings       ] [INFO    ] : mapped pancreas_indrop2     to pancreas_indrop3    \n",
      "[matchings       ] [INFO    ] : (14 common cell types)\n",
      "[matchings       ] [INFO    ] : 14/14 correct mappings\n",
      "[matchings       ] [INFO    ] : 0 /14 incorrect mappings\n",
      "|████████████████| [100.00% ] : 00:01\n",
      "[matchings       ] [INFO    ] : mapped pancreas_indrop2     to pancreas_indrop4    \n",
      "[matchings       ] [INFO    ] : (14 common cell types)\n",
      "[matchings       ] [INFO    ] : 14/14 correct mappings\n",
      "[matchings       ] [INFO    ] : 0 /14 incorrect mappings\n",
      "|████████████████| [100.00% ] : 00:01\n",
      "[matchings       ] [INFO    ] : mapped pancreas_indrop2     to pancreas_smarter    \n",
      "[matchings       ] [INFO    ] : (4  common cell types)\n",
      "[matchings       ] [INFO    ] : 2 /14 correct mappings\n",
      "[matchings       ] [INFO    ] : 2 /14 incorrect mappings\n",
      "|████████████████| [100.00% ] : 00:02\n",
      "[matchings       ] [INFO    ] : mapped pancreas_indrop2     to pancreas_smartseq2  \n",
      "[matchings       ] [INFO    ] : (13 common cell types)\n",
      "[matchings       ] [INFO    ] : 13/14 correct mappings\n",
      "[matchings       ] [INFO    ] : 0 /14 incorrect mappings\n",
      "|████████████████| [100.00% ] : 00:02\n",
      "[matchings       ] [INFO    ] : mapped pancreas_indrop3     to pancreas_celseq     \n",
      "[matchings       ] [INFO    ] : (13 common cell types)\n",
      "[matchings       ] [INFO    ] : 13/14 correct mappings\n",
      "[matchings       ] [INFO    ] : 0 /14 incorrect mappings\n",
      "|████████████████| [100.00% ] : 00:03\n",
      "[matchings       ] [INFO    ] : mapped pancreas_indrop3     to pancreas_celseq2    \n",
      "[matchings       ] [INFO    ] : (13 common cell types)\n",
      "[matchings       ] [INFO    ] : 13/14 correct mappings\n",
      "[matchings       ] [INFO    ] : 0 /14 incorrect mappings\n",
      "|████████████████| [100.00% ] : 00:01\n",
      "[matchings       ] [INFO    ] : mapped pancreas_indrop3     to pancreas_fluidigmc1 \n",
      "[matchings       ] [INFO    ] : (13 common cell types)\n",
      "[matchings       ] [INFO    ] : 13/14 correct mappings\n",
      "[matchings       ] [INFO    ] : 0 /14 incorrect mappings\n",
      "|████████████████| [100.00% ] : 00:03\n",
      "[matchings       ] [INFO    ] : mapped pancreas_indrop3     to pancreas_indrop1    \n",
      "[matchings       ] [INFO    ] : (14 common cell types)\n",
      "[matchings       ] [INFO    ] : 14/14 correct mappings\n",
      "[matchings       ] [INFO    ] : 0 /14 incorrect mappings\n",
      "|████████████████| [100.00% ] : 00:02\n",
      "[matchings       ] [INFO    ] : mapped pancreas_indrop3     to pancreas_indrop2    \n",
      "[matchings       ] [INFO    ] : (14 common cell types)\n",
      "[matchings       ] [INFO    ] : 14/14 correct mappings\n",
      "[matchings       ] [INFO    ] : 0 /14 incorrect mappings\n",
      "|████████████████| [100.00% ] : 00:02\n",
      "[matchings       ] [INFO    ] : mapped pancreas_indrop3     to pancreas_indrop4    \n",
      "[matchings       ] [INFO    ] : (14 common cell types)\n",
      "[matchings       ] [INFO    ] : 14/14 correct mappings\n",
      "[matchings       ] [INFO    ] : 0 /14 incorrect mappings\n",
      "|████████████████| [100.00% ] : 00:01\n",
      "[matchings       ] [INFO    ] : mapped pancreas_indrop3     to pancreas_smarter    \n",
      "[matchings       ] [INFO    ] : (4  common cell types)\n",
      "[matchings       ] [INFO    ] : 2 /14 correct mappings\n",
      "[matchings       ] [INFO    ] : 2 /14 incorrect mappings\n",
      "|████████████████| [100.00% ] : 00:03\n",
      "[matchings       ] [INFO    ] : mapped pancreas_indrop3     to pancreas_smartseq2  \n",
      "[matchings       ] [INFO    ] : (13 common cell types)\n",
      "[matchings       ] [INFO    ] : 13/14 correct mappings\n",
      "[matchings       ] [INFO    ] : 0 /14 incorrect mappings\n",
      "|████████████████| [100.00% ] : 00:01\n",
      "[matchings       ] [INFO    ] : mapped pancreas_indrop4     to pancreas_celseq     \n",
      "[matchings       ] [INFO    ] : (13 common cell types)\n",
      "[matchings       ] [INFO    ] : 13/14 correct mappings\n",
      "[matchings       ] [INFO    ] : 0 /14 incorrect mappings\n",
      "|████████████████| [100.00% ] : 00:02\n",
      "[matchings       ] [INFO    ] : mapped pancreas_indrop4     to pancreas_celseq2    \n",
      "[matchings       ] [INFO    ] : (13 common cell types)\n",
      "[matchings       ] [INFO    ] : 13/14 correct mappings\n",
      "[matchings       ] [INFO    ] : 0 /14 incorrect mappings\n",
      "|████████████████| [100.00% ] : 00:01\n",
      "[matchings       ] [INFO    ] : mapped pancreas_indrop4     to pancreas_fluidigmc1 \n",
      "[matchings       ] [INFO    ] : (13 common cell types)\n",
      "[matchings       ] [INFO    ] : 13/14 correct mappings\n",
      "[matchings       ] [INFO    ] : 0 /14 incorrect mappings\n",
      "|████████████████| [100.00% ] : 00:01\n",
      "[matchings       ] [INFO    ] : mapped pancreas_indrop4     to pancreas_indrop1    \n",
      "[matchings       ] [INFO    ] : (14 common cell types)\n",
      "[matchings       ] [INFO    ] : 14/14 correct mappings\n",
      "[matchings       ] [INFO    ] : 0 /14 incorrect mappings\n",
      "|████████████████| [100.00% ] : 00:01\n",
      "[matchings       ] [INFO    ] : mapped pancreas_indrop4     to pancreas_indrop2    \n",
      "[matchings       ] [INFO    ] : (14 common cell types)\n",
      "[matchings       ] [INFO    ] : 14/14 correct mappings\n",
      "[matchings       ] [INFO    ] : 0 /14 incorrect mappings\n",
      "|████████████████| [100.00% ] : 00:03\n",
      "[matchings       ] [INFO    ] : mapped pancreas_indrop4     to pancreas_indrop3    \n",
      "[matchings       ] [INFO    ] : (14 common cell types)\n",
      "[matchings       ] [INFO    ] : 14/14 correct mappings\n",
      "[matchings       ] [INFO    ] : 0 /14 incorrect mappings\n",
      "|████████████████| [100.00% ] : 00:01\n",
      "[matchings       ] [INFO    ] : mapped pancreas_indrop4     to pancreas_smarter    \n",
      "[matchings       ] [INFO    ] : (4  common cell types)\n",
      "[matchings       ] [INFO    ] : 2 /14 correct mappings\n",
      "[matchings       ] [INFO    ] : 2 /14 incorrect mappings\n",
      "|████████████████| [100.00% ] : 00:01\n",
      "[matchings       ] [INFO    ] : mapped pancreas_indrop4     to pancreas_smartseq2  \n",
      "[matchings       ] [INFO    ] : (13 common cell types)\n",
      "[matchings       ] [INFO    ] : 13/14 correct mappings\n",
      "[matchings       ] [INFO    ] : 0 /14 incorrect mappings\n",
      "|████████████████| [100.00% ] : 00:00\n",
      "[matchings       ] [INFO    ] : mapped pancreas_smarter     to pancreas_celseq     \n",
      "[matchings       ] [INFO    ] : (4  common cell types)\n",
      "[matchings       ] [INFO    ] : 1 /4  correct mappings\n",
      "[matchings       ] [INFO    ] : 3 /4  incorrect mappings\n",
      "|████████████████| [100.00% ] : 00:01\n",
      "[matchings       ] [INFO    ] : mapped pancreas_smarter     to pancreas_celseq2    \n",
      "[matchings       ] [INFO    ] : (4  common cell types)\n",
      "[matchings       ] [INFO    ] : 0 /4  correct mappings\n",
      "[matchings       ] [INFO    ] : 4 /4  incorrect mappings\n",
      "|████████████████| [100.00% ] : 00:00\n",
      "[matchings       ] [INFO    ] : mapped pancreas_smarter     to pancreas_fluidigmc1 \n",
      "[matchings       ] [INFO    ] : (4  common cell types)\n",
      "[matchings       ] [INFO    ] : 3 /4  correct mappings\n",
      "[matchings       ] [INFO    ] : 1 /4  incorrect mappings\n",
      "|████████████████| [100.00% ] : 00:00\n",
      "[matchings       ] [INFO    ] : mapped pancreas_smarter     to pancreas_indrop1    \n",
      "[matchings       ] [INFO    ] : (4  common cell types)\n",
      "[matchings       ] [INFO    ] : 1 /4  correct mappings\n",
      "[matchings       ] [INFO    ] : 3 /4  incorrect mappings\n",
      "|████████████████| [100.00% ] : 00:01\n",
      "[matchings       ] [INFO    ] : mapped pancreas_smarter     to pancreas_indrop2    \n",
      "[matchings       ] [INFO    ] : (4  common cell types)\n",
      "[matchings       ] [INFO    ] : 2 /4  correct mappings\n",
      "[matchings       ] [INFO    ] : 2 /4  incorrect mappings\n",
      "|████████████████| [100.00% ] : 00:01\n",
      "[matchings       ] [INFO    ] : mapped pancreas_smarter     to pancreas_indrop3    \n",
      "[matchings       ] [INFO    ] : (4  common cell types)\n",
      "[matchings       ] [INFO    ] : 2 /4  correct mappings\n",
      "[matchings       ] [INFO    ] : 2 /4  incorrect mappings\n",
      "|████████████████| [100.00% ] : 00:00\n",
      "[matchings       ] [INFO    ] : mapped pancreas_smarter     to pancreas_indrop4    \n",
      "[matchings       ] [INFO    ] : (4  common cell types)\n",
      "[matchings       ] [INFO    ] : 2 /4  correct mappings\n",
      "[matchings       ] [INFO    ] : 2 /4  incorrect mappings\n",
      "|████████████████| [100.00% ] : 00:01\n",
      "[matchings       ] [INFO    ] : mapped pancreas_smarter     to pancreas_smartseq2  \n",
      "[matchings       ] [INFO    ] : (4  common cell types)\n",
      "[matchings       ] [INFO    ] : 2 /4  correct mappings\n",
      "[matchings       ] [INFO    ] : 2 /4  incorrect mappings\n",
      "|████████████████| [100.00% ] : 00:02\n",
      "[matchings       ] [INFO    ] : mapped pancreas_smartseq2   to pancreas_celseq     \n",
      "[matchings       ] [INFO    ] : (13 common cell types)\n",
      "[matchings       ] [INFO    ] : 13/13 correct mappings\n",
      "[matchings       ] [INFO    ] : 0 /13 incorrect mappings\n",
      "|████████████████| [100.00% ] : 00:05\n",
      "[matchings       ] [INFO    ] : mapped pancreas_smartseq2   to pancreas_celseq2    \n",
      "[matchings       ] [INFO    ] : (13 common cell types)\n",
      "[matchings       ] [INFO    ] : 13/13 correct mappings\n",
      "[matchings       ] [INFO    ] : 0 /13 incorrect mappings\n",
      "|████████████████| [100.00% ] : 00:06\n",
      "[matchings       ] [INFO    ] : mapped pancreas_smartseq2   to pancreas_fluidigmc1 \n",
      "[matchings       ] [INFO    ] : (13 common cell types)\n",
      "[matchings       ] [INFO    ] : 13/13 correct mappings\n",
      "[matchings       ] [INFO    ] : 0 /13 incorrect mappings\n",
      "|████████████████| [100.00% ] : 00:11\n",
      "[matchings       ] [INFO    ] : mapped pancreas_smartseq2   to pancreas_indrop1    \n",
      "[matchings       ] [INFO    ] : (13 common cell types)\n",
      "[matchings       ] [INFO    ] : 13/13 correct mappings\n",
      "[matchings       ] [INFO    ] : 0 /13 incorrect mappings\n",
      "|████████████████| [100.00% ] : 00:07\n",
      "[matchings       ] [INFO    ] : mapped pancreas_smartseq2   to pancreas_indrop2    \n",
      "[matchings       ] [INFO    ] : (13 common cell types)\n",
      "[matchings       ] [INFO    ] : 13/13 correct mappings\n",
      "[matchings       ] [INFO    ] : 0 /13 incorrect mappings\n",
      "|████████████████| [100.00% ] : 00:11\n",
      "[matchings       ] [INFO    ] : mapped pancreas_smartseq2   to pancreas_indrop3    \n",
      "[matchings       ] [INFO    ] : (13 common cell types)\n",
      "[matchings       ] [INFO    ] : 13/13 correct mappings\n",
      "[matchings       ] [INFO    ] : 0 /13 incorrect mappings\n",
      "|████████████████| [100.00% ] : 00:07\n",
      "[matchings       ] [INFO    ] : mapped pancreas_smartseq2   to pancreas_indrop4    \n",
      "[matchings       ] [INFO    ] : (13 common cell types)\n",
      "[matchings       ] [INFO    ] : 13/13 correct mappings\n",
      "[matchings       ] [INFO    ] : 0 /13 incorrect mappings\n",
      "|████████████████| [100.00% ] : 00:03\n",
      "[matchings       ] [INFO    ] : mapped pancreas_smartseq2   to pancreas_smarter    \n",
      "[matchings       ] [INFO    ] : (4  common cell types)\n",
      "[matchings       ] [INFO    ] : 2 /13 correct mappings\n",
      "[matchings       ] [INFO    ] : 2 /13 incorrect mappings\n"
     ]
    }
   ],
   "source": [
    "rcm = RefCM(discovery_threshold=0)\n",
    "\n",
    "for i, q_id in enumerate(ds):\n",
    "    for ref_id in [d for d in ds if d != q_id]:\n",
    "        m = rcm.annotate(ds[q_id], q_id, ds[ref_id], ref_id, 'celltype', 'celltype')\n",
    "        m.eval('celltype')"
   ]
  }
 ],
 "metadata": {
  "kernelspec": {
   "display_name": "SCC",
   "language": "python",
   "name": "python3"
  },
  "language_info": {
   "codemirror_mode": {
    "name": "ipython",
    "version": 3
   },
   "file_extension": ".py",
   "mimetype": "text/x-python",
   "name": "python",
   "nbconvert_exporter": "python",
   "pygments_lexer": "ipython3",
   "version": "3.11.9"
  }
 },
 "nbformat": 4,
 "nbformat_minor": 2
}
