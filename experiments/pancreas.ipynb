{
 "cells": [
  {
   "cell_type": "code",
   "execution_count": 1,
   "metadata": {},
   "outputs": [],
   "source": [
    "import sys\n",
    "sys.path.append('../src/')\n",
    "\n",
    "import config\n",
    "import logging\n",
    "import scanpy as sc\n",
    "from refcm import RefCM\n",
    "\n",
    "config.start_logging(logging.INFO)"
   ]
  },
  {
   "cell_type": "code",
   "execution_count": 2,
   "metadata": {},
   "outputs": [],
   "source": [
    "ds = [\n",
    "    'pancreas_celseq', \n",
    "    'pancreas_celseq2', \n",
    "    'pancreas_fluidigmc1', \n",
    "    'pancreas_indrop1', \n",
    "    'pancreas_indrop2', \n",
    "    'pancreas_indrop3', \n",
    "    'pancreas_indrop4',\n",
    "    'pancreas_smarter', \n",
    "    'pancreas_smartseq2'\n",
    "]\n",
    "ds = {s: sc.read_h5ad(f'../data/{s}.h5ad') for s in ds}\n"
   ]
  },
  {
   "cell_type": "code",
   "execution_count": 3,
   "metadata": {},
   "outputs": [
    {
     "name": "stderr",
     "output_type": "stream",
     "text": [
      "[refcm           ] [INFO    ] : NOTE: raw counts expected in anndata .X attributes.\n",
      "|████████████████| [100.00% ] : 00:01\n",
      "[matchings       ] [INFO    ] : mapped pancreas_celseq      to pancreas_celseq2    \n",
      "[matchings       ] [INFO    ] : (13 common cell types)\n",
      "[matchings       ] [INFO    ] : 13/13 correct mappings\n",
      "[matchings       ] [INFO    ] : 0 /13 incorrect mappings\n"
     ]
    },
    {
     "data": {
      "application/vnd.plotly.v1+json": {
       "config": {
        "plotlyServerURL": "https://plot.ly"
       },
       "data": [
        {
         "coloraxis": "coloraxis",
         "hovertemplate": "Reference: pancreas_celseq2: %{x}<br>Query: pancreas_celseq: %{y}<br>cost: %{z}<extra></extra>",
         "name": "0",
         "type": "heatmap",
         "x": [
          "acinar",
          "activated_stellate",
          "alpha",
          "beta",
          "delta",
          "ductal",
          "endothelial",
          "epsilon",
          "gamma",
          "macrophage",
          "mast",
          "quiescent_stellate",
          "schwann"
         ],
         "xaxis": "x",
         "y": [
          "acinar",
          "activated_stellate",
          "alpha",
          "beta",
          "delta",
          "ductal",
          "endothelial",
          "epsilon",
          "gamma",
          "macrophage",
          "mast",
          "quiescent_stellate",
          "schwann"
         ],
         "yaxis": "y",
         "z": [
          [
           -583.0267817492004,
           -194.08513956348807,
           -130.7192045000897,
           -132.0287263574343,
           -129.04008781733776,
           -356.66105558939324,
           -184.803926506138,
           -164.45178624203314,
           -150.52053742507613,
           -215.29072801021098,
           -214.82822063512967,
           -210.3022736331872,
           -185.69036905389072
          ],
          [
           -219.06190094011737,
           -665.3642680207191,
           -128.59271798565828,
           -135.5051852162529,
           -133.6078138917661,
           -258.30683013031995,
           -339.09485161573343,
           -154.0343312715229,
           -145.75557999314304,
           -258.04326916075587,
           -221.35838250946574,
           -544.2304095887299,
           -363.1040677522358
          ],
          [
           -166.5852069581393,
           -141.5207999761469,
           -295.11426652058515,
           -214.7438837724274,
           -211.90742918251678,
           -172.92804861198402,
           -122.77764221986489,
           -251.87574760077501,
           -258.414657398135,
           -151.68852787916572,
           -130.66768349985375,
           -140.46059843466122,
           -122.84747137698822
          ],
          [
           -160.7085621180017,
           -139.8591369739476,
           -199.92455488122474,
           -286.02099805868215,
           -216.14758129042264,
           -171.2582586799888,
           -128.73756996296945,
           -201.36580662697736,
           -224.42726713554234,
           -151.04027519778927,
           -128.76337987295585,
           -139.34491591127758,
           -126.13649139641225
          ],
          [
           -149.08510347797917,
           -130.84610495673283,
           -199.30020678247553,
           -223.89828592707588,
           -243.1733770797052,
           -164.31943696369504,
           -120.46552068074541,
           -218.77882812500005,
           -227.36088184703488,
           -143.1882842763265,
           -125.62032643636068,
           -130.90547655741372,
           -120.62466537475586
          ],
          [
           -380.08870846751734,
           -247.1679507474288,
           -156.6873826609551,
           -161.33665059826987,
           -164.62225453322515,
           -504.8130319897971,
           -239.8183967920303,
           -200.74099696448093,
           -189.31002145363692,
           -252.914589418184,
           -266.2412698494914,
           -263.1962937637937,
           -231.2458259162552
          ],
          [
           -247.82508118900932,
           -374.30690036349824,
           -136.77273605183763,
           -140.3230921027364,
           -142.10841648496432,
           -283.79849334243613,
           -655.8144656226746,
           -175.61172485351562,
           -170.85536325628112,
           -274.81219177246095,
           -244.34996490478514,
           -379.97946014404295,
           -306.15747680664066
          ],
          [
           -164.47118956851153,
           -134.38991478814017,
           -225.2108700210371,
           -200.1137329787351,
           -210.86181603041786,
           -180.03630911657032,
           -128.69494338262643,
           -372.8392868041992,
           -263.69234785600156,
           -135.24288075764977,
           -122.34659703572589,
           -135.97660827636716,
           -134.58761978149414
          ],
          [
           -161.32997970086038,
           -139.09233165317116,
           -243.69911477121724,
           -223.8174442210296,
           -229.6461289379203,
           -178.77436439257875,
           -133.1814805288163,
           -268.6783142089844,
           -327.5811414159907,
           -162.47621892293296,
           -142.69698333740234,
           -145.2848072052002,
           -132.99048042297363
          ],
          [
           -515.4821618073145,
           -279.39439680311415,
           -164.81646254280423,
           -167.92938505022704,
           -170.5748669854526,
           -399.506675897642,
           -267.7132096063523,
           -250.50559616088867,
           -206.97750244140636,
           -366.8677449544271,
           -320.448501586914,
           -291.5322189331054,
           -248.95038223266602
          ],
          [
           -308.60638884384025,
           -212.61242607964422,
           -106.39650716815554,
           -113.32460575746681,
           -118.4300626181617,
           -403.3220245597892,
           -206.5905064174106,
           -153.24579238891602,
           -137.55576275912202,
           -240.09395955403653,
           -330.82237243652344,
           -221.37437566121417,
           -201.1866912841797
          ],
          [
           -223.956142119246,
           -590.0599212646486,
           -121.68699131034566,
           -127.2584053296721,
           -123.15909719232273,
           -279.5138831914853,
           -382.13606916155123,
           -150.50256729125977,
           -138.53902650312952,
           -257.53866170247403,
           -239.10837809244788,
           -557.7503051757812,
           -364.6736831665039
          ],
          [
           -177.21825734716148,
           -303.5694912380643,
           -108.01058433234067,
           -112.63381388803558,
           -110.68288504313954,
           -219.0662259242329,
           -276.5039999825613,
           -140.16073608398438,
           -131.33041915893557,
           -228.19107157389328,
           -195.31393941243488,
           -303.02911376953125,
           -445.38072967529297
          ]
         ]
        },
        {
         "hovertemplate": "%{y} -> %{x}",
         "marker": {
          "color": [
           "green",
           "green",
           "green",
           "green",
           "green",
           "green",
           "green",
           "green",
           "green",
           "green",
           "green",
           "green",
           "green"
          ],
          "size": 5
         },
         "mode": "markers",
         "name": "",
         "type": "scatter",
         "x": [
          "acinar",
          "activated_stellate",
          "alpha",
          "beta",
          "delta",
          "ductal",
          "endothelial",
          "epsilon",
          "gamma",
          "macrophage",
          "mast",
          "quiescent_stellate",
          "schwann"
         ],
         "y": [
          "acinar",
          "activated_stellate",
          "alpha",
          "beta",
          "delta",
          "ductal",
          "endothelial",
          "epsilon",
          "gamma",
          "macrophage",
          "mast",
          "quiescent_stellate",
          "schwann"
         ]
        }
       ],
       "layout": {
        "coloraxis": {
         "colorbar": {
          "title": {
           "text": "cost"
          }
         },
         "colorscale": [
          [
           0,
           "rgb(75, 41, 145)"
          ],
          [
           0.16666666666666666,
           "rgb(135, 44, 162)"
          ],
          [
           0.3333333333333333,
           "rgb(192, 54, 157)"
          ],
          [
           0.5,
           "rgb(234, 79, 136)"
          ],
          [
           0.6666666666666666,
           "rgb(250, 120, 118)"
          ],
          [
           0.8333333333333334,
           "rgb(246, 169, 122)"
          ],
          [
           1,
           "rgb(237, 217, 163)"
          ]
         ]
        },
        "template": {
         "data": {
          "bar": [
           {
            "error_x": {
             "color": "#2a3f5f"
            },
            "error_y": {
             "color": "#2a3f5f"
            },
            "marker": {
             "line": {
              "color": "#E5ECF6",
              "width": 0.5
             },
             "pattern": {
              "fillmode": "overlay",
              "size": 10,
              "solidity": 0.2
             }
            },
            "type": "bar"
           }
          ],
          "barpolar": [
           {
            "marker": {
             "line": {
              "color": "#E5ECF6",
              "width": 0.5
             },
             "pattern": {
              "fillmode": "overlay",
              "size": 10,
              "solidity": 0.2
             }
            },
            "type": "barpolar"
           }
          ],
          "carpet": [
           {
            "aaxis": {
             "endlinecolor": "#2a3f5f",
             "gridcolor": "white",
             "linecolor": "white",
             "minorgridcolor": "white",
             "startlinecolor": "#2a3f5f"
            },
            "baxis": {
             "endlinecolor": "#2a3f5f",
             "gridcolor": "white",
             "linecolor": "white",
             "minorgridcolor": "white",
             "startlinecolor": "#2a3f5f"
            },
            "type": "carpet"
           }
          ],
          "choropleth": [
           {
            "colorbar": {
             "outlinewidth": 0,
             "ticks": ""
            },
            "type": "choropleth"
           }
          ],
          "contour": [
           {
            "colorbar": {
             "outlinewidth": 0,
             "ticks": ""
            },
            "colorscale": [
             [
              0,
              "#0d0887"
             ],
             [
              0.1111111111111111,
              "#46039f"
             ],
             [
              0.2222222222222222,
              "#7201a8"
             ],
             [
              0.3333333333333333,
              "#9c179e"
             ],
             [
              0.4444444444444444,
              "#bd3786"
             ],
             [
              0.5555555555555556,
              "#d8576b"
             ],
             [
              0.6666666666666666,
              "#ed7953"
             ],
             [
              0.7777777777777778,
              "#fb9f3a"
             ],
             [
              0.8888888888888888,
              "#fdca26"
             ],
             [
              1,
              "#f0f921"
             ]
            ],
            "type": "contour"
           }
          ],
          "contourcarpet": [
           {
            "colorbar": {
             "outlinewidth": 0,
             "ticks": ""
            },
            "type": "contourcarpet"
           }
          ],
          "heatmap": [
           {
            "colorbar": {
             "outlinewidth": 0,
             "ticks": ""
            },
            "colorscale": [
             [
              0,
              "#0d0887"
             ],
             [
              0.1111111111111111,
              "#46039f"
             ],
             [
              0.2222222222222222,
              "#7201a8"
             ],
             [
              0.3333333333333333,
              "#9c179e"
             ],
             [
              0.4444444444444444,
              "#bd3786"
             ],
             [
              0.5555555555555556,
              "#d8576b"
             ],
             [
              0.6666666666666666,
              "#ed7953"
             ],
             [
              0.7777777777777778,
              "#fb9f3a"
             ],
             [
              0.8888888888888888,
              "#fdca26"
             ],
             [
              1,
              "#f0f921"
             ]
            ],
            "type": "heatmap"
           }
          ],
          "heatmapgl": [
           {
            "colorbar": {
             "outlinewidth": 0,
             "ticks": ""
            },
            "colorscale": [
             [
              0,
              "#0d0887"
             ],
             [
              0.1111111111111111,
              "#46039f"
             ],
             [
              0.2222222222222222,
              "#7201a8"
             ],
             [
              0.3333333333333333,
              "#9c179e"
             ],
             [
              0.4444444444444444,
              "#bd3786"
             ],
             [
              0.5555555555555556,
              "#d8576b"
             ],
             [
              0.6666666666666666,
              "#ed7953"
             ],
             [
              0.7777777777777778,
              "#fb9f3a"
             ],
             [
              0.8888888888888888,
              "#fdca26"
             ],
             [
              1,
              "#f0f921"
             ]
            ],
            "type": "heatmapgl"
           }
          ],
          "histogram": [
           {
            "marker": {
             "pattern": {
              "fillmode": "overlay",
              "size": 10,
              "solidity": 0.2
             }
            },
            "type": "histogram"
           }
          ],
          "histogram2d": [
           {
            "colorbar": {
             "outlinewidth": 0,
             "ticks": ""
            },
            "colorscale": [
             [
              0,
              "#0d0887"
             ],
             [
              0.1111111111111111,
              "#46039f"
             ],
             [
              0.2222222222222222,
              "#7201a8"
             ],
             [
              0.3333333333333333,
              "#9c179e"
             ],
             [
              0.4444444444444444,
              "#bd3786"
             ],
             [
              0.5555555555555556,
              "#d8576b"
             ],
             [
              0.6666666666666666,
              "#ed7953"
             ],
             [
              0.7777777777777778,
              "#fb9f3a"
             ],
             [
              0.8888888888888888,
              "#fdca26"
             ],
             [
              1,
              "#f0f921"
             ]
            ],
            "type": "histogram2d"
           }
          ],
          "histogram2dcontour": [
           {
            "colorbar": {
             "outlinewidth": 0,
             "ticks": ""
            },
            "colorscale": [
             [
              0,
              "#0d0887"
             ],
             [
              0.1111111111111111,
              "#46039f"
             ],
             [
              0.2222222222222222,
              "#7201a8"
             ],
             [
              0.3333333333333333,
              "#9c179e"
             ],
             [
              0.4444444444444444,
              "#bd3786"
             ],
             [
              0.5555555555555556,
              "#d8576b"
             ],
             [
              0.6666666666666666,
              "#ed7953"
             ],
             [
              0.7777777777777778,
              "#fb9f3a"
             ],
             [
              0.8888888888888888,
              "#fdca26"
             ],
             [
              1,
              "#f0f921"
             ]
            ],
            "type": "histogram2dcontour"
           }
          ],
          "mesh3d": [
           {
            "colorbar": {
             "outlinewidth": 0,
             "ticks": ""
            },
            "type": "mesh3d"
           }
          ],
          "parcoords": [
           {
            "line": {
             "colorbar": {
              "outlinewidth": 0,
              "ticks": ""
             }
            },
            "type": "parcoords"
           }
          ],
          "pie": [
           {
            "automargin": true,
            "type": "pie"
           }
          ],
          "scatter": [
           {
            "fillpattern": {
             "fillmode": "overlay",
             "size": 10,
             "solidity": 0.2
            },
            "type": "scatter"
           }
          ],
          "scatter3d": [
           {
            "line": {
             "colorbar": {
              "outlinewidth": 0,
              "ticks": ""
             }
            },
            "marker": {
             "colorbar": {
              "outlinewidth": 0,
              "ticks": ""
             }
            },
            "type": "scatter3d"
           }
          ],
          "scattercarpet": [
           {
            "marker": {
             "colorbar": {
              "outlinewidth": 0,
              "ticks": ""
             }
            },
            "type": "scattercarpet"
           }
          ],
          "scattergeo": [
           {
            "marker": {
             "colorbar": {
              "outlinewidth": 0,
              "ticks": ""
             }
            },
            "type": "scattergeo"
           }
          ],
          "scattergl": [
           {
            "marker": {
             "colorbar": {
              "outlinewidth": 0,
              "ticks": ""
             }
            },
            "type": "scattergl"
           }
          ],
          "scattermapbox": [
           {
            "marker": {
             "colorbar": {
              "outlinewidth": 0,
              "ticks": ""
             }
            },
            "type": "scattermapbox"
           }
          ],
          "scatterpolar": [
           {
            "marker": {
             "colorbar": {
              "outlinewidth": 0,
              "ticks": ""
             }
            },
            "type": "scatterpolar"
           }
          ],
          "scatterpolargl": [
           {
            "marker": {
             "colorbar": {
              "outlinewidth": 0,
              "ticks": ""
             }
            },
            "type": "scatterpolargl"
           }
          ],
          "scatterternary": [
           {
            "marker": {
             "colorbar": {
              "outlinewidth": 0,
              "ticks": ""
             }
            },
            "type": "scatterternary"
           }
          ],
          "surface": [
           {
            "colorbar": {
             "outlinewidth": 0,
             "ticks": ""
            },
            "colorscale": [
             [
              0,
              "#0d0887"
             ],
             [
              0.1111111111111111,
              "#46039f"
             ],
             [
              0.2222222222222222,
              "#7201a8"
             ],
             [
              0.3333333333333333,
              "#9c179e"
             ],
             [
              0.4444444444444444,
              "#bd3786"
             ],
             [
              0.5555555555555556,
              "#d8576b"
             ],
             [
              0.6666666666666666,
              "#ed7953"
             ],
             [
              0.7777777777777778,
              "#fb9f3a"
             ],
             [
              0.8888888888888888,
              "#fdca26"
             ],
             [
              1,
              "#f0f921"
             ]
            ],
            "type": "surface"
           }
          ],
          "table": [
           {
            "cells": {
             "fill": {
              "color": "#EBF0F8"
             },
             "line": {
              "color": "white"
             }
            },
            "header": {
             "fill": {
              "color": "#C8D4E3"
             },
             "line": {
              "color": "white"
             }
            },
            "type": "table"
           }
          ]
         },
         "layout": {
          "annotationdefaults": {
           "arrowcolor": "#2a3f5f",
           "arrowhead": 0,
           "arrowwidth": 1
          },
          "autotypenumbers": "strict",
          "coloraxis": {
           "colorbar": {
            "outlinewidth": 0,
            "ticks": ""
           }
          },
          "colorscale": {
           "diverging": [
            [
             0,
             "#8e0152"
            ],
            [
             0.1,
             "#c51b7d"
            ],
            [
             0.2,
             "#de77ae"
            ],
            [
             0.3,
             "#f1b6da"
            ],
            [
             0.4,
             "#fde0ef"
            ],
            [
             0.5,
             "#f7f7f7"
            ],
            [
             0.6,
             "#e6f5d0"
            ],
            [
             0.7,
             "#b8e186"
            ],
            [
             0.8,
             "#7fbc41"
            ],
            [
             0.9,
             "#4d9221"
            ],
            [
             1,
             "#276419"
            ]
           ],
           "sequential": [
            [
             0,
             "#0d0887"
            ],
            [
             0.1111111111111111,
             "#46039f"
            ],
            [
             0.2222222222222222,
             "#7201a8"
            ],
            [
             0.3333333333333333,
             "#9c179e"
            ],
            [
             0.4444444444444444,
             "#bd3786"
            ],
            [
             0.5555555555555556,
             "#d8576b"
            ],
            [
             0.6666666666666666,
             "#ed7953"
            ],
            [
             0.7777777777777778,
             "#fb9f3a"
            ],
            [
             0.8888888888888888,
             "#fdca26"
            ],
            [
             1,
             "#f0f921"
            ]
           ],
           "sequentialminus": [
            [
             0,
             "#0d0887"
            ],
            [
             0.1111111111111111,
             "#46039f"
            ],
            [
             0.2222222222222222,
             "#7201a8"
            ],
            [
             0.3333333333333333,
             "#9c179e"
            ],
            [
             0.4444444444444444,
             "#bd3786"
            ],
            [
             0.5555555555555556,
             "#d8576b"
            ],
            [
             0.6666666666666666,
             "#ed7953"
            ],
            [
             0.7777777777777778,
             "#fb9f3a"
            ],
            [
             0.8888888888888888,
             "#fdca26"
            ],
            [
             1,
             "#f0f921"
            ]
           ]
          },
          "colorway": [
           "#636efa",
           "#EF553B",
           "#00cc96",
           "#ab63fa",
           "#FFA15A",
           "#19d3f3",
           "#FF6692",
           "#B6E880",
           "#FF97FF",
           "#FECB52"
          ],
          "font": {
           "color": "#2a3f5f"
          },
          "geo": {
           "bgcolor": "white",
           "lakecolor": "white",
           "landcolor": "#E5ECF6",
           "showlakes": true,
           "showland": true,
           "subunitcolor": "white"
          },
          "hoverlabel": {
           "align": "left"
          },
          "hovermode": "closest",
          "mapbox": {
           "style": "light"
          },
          "paper_bgcolor": "white",
          "plot_bgcolor": "#E5ECF6",
          "polar": {
           "angularaxis": {
            "gridcolor": "white",
            "linecolor": "white",
            "ticks": ""
           },
           "bgcolor": "#E5ECF6",
           "radialaxis": {
            "gridcolor": "white",
            "linecolor": "white",
            "ticks": ""
           }
          },
          "scene": {
           "xaxis": {
            "backgroundcolor": "#E5ECF6",
            "gridcolor": "white",
            "gridwidth": 2,
            "linecolor": "white",
            "showbackground": true,
            "ticks": "",
            "zerolinecolor": "white"
           },
           "yaxis": {
            "backgroundcolor": "#E5ECF6",
            "gridcolor": "white",
            "gridwidth": 2,
            "linecolor": "white",
            "showbackground": true,
            "ticks": "",
            "zerolinecolor": "white"
           },
           "zaxis": {
            "backgroundcolor": "#E5ECF6",
            "gridcolor": "white",
            "gridwidth": 2,
            "linecolor": "white",
            "showbackground": true,
            "ticks": "",
            "zerolinecolor": "white"
           }
          },
          "shapedefaults": {
           "line": {
            "color": "#2a3f5f"
           }
          },
          "ternary": {
           "aaxis": {
            "gridcolor": "white",
            "linecolor": "white",
            "ticks": ""
           },
           "baxis": {
            "gridcolor": "white",
            "linecolor": "white",
            "ticks": ""
           },
           "bgcolor": "#E5ECF6",
           "caxis": {
            "gridcolor": "white",
            "linecolor": "white",
            "ticks": ""
           }
          },
          "title": {
           "x": 0.05
          },
          "xaxis": {
           "automargin": true,
           "gridcolor": "white",
           "linecolor": "white",
           "ticks": "",
           "title": {
            "standoff": 15
           },
           "zerolinecolor": "white",
           "zerolinewidth": 2
          },
          "yaxis": {
           "automargin": true,
           "gridcolor": "white",
           "linecolor": "white",
           "ticks": "",
           "title": {
            "standoff": 15
           },
           "zerolinecolor": "white",
           "zerolinewidth": 2
          }
         }
        },
        "title": {
         "text": "pancreas_celseq to pancreas_celseq2 matching cost"
        },
        "xaxis": {
         "anchor": "y",
         "constrain": "domain",
         "domain": [
          0,
          1
         ],
         "scaleanchor": "y",
         "tickangle": -45,
         "title": {
          "text": "Reference: pancreas_celseq2"
         }
        },
        "yaxis": {
         "anchor": "x",
         "autorange": "reversed",
         "constrain": "domain",
         "domain": [
          0,
          1
         ],
         "title": {
          "text": "Query: pancreas_celseq"
         }
        }
       }
      }
     },
     "metadata": {},
     "output_type": "display_data"
    }
   ],
   "source": [
    "q, ref = 'pancreas_celseq', 'pancreas_celseq2'\n",
    "\n",
    "rcm = RefCM(target_sum=1e5, discovery_threshold=0.2)\n",
    "m = rcm.annotate(ds[q], q, ds[ref], ref, 'celltype', 'celltype')\n",
    "m.eval('celltype')\n",
    "m.display_matching_costs('celltype')"
   ]
  },
  {
   "cell_type": "code",
   "execution_count": 4,
   "metadata": {},
   "outputs": [
    {
     "name": "stderr",
     "output_type": "stream",
     "text": [
      "[refcm           ] [INFO    ] : NOTE: raw counts expected in anndata .X attributes.\n",
      "|████████████████| [100.00% ] : 00:01\n",
      "[matchings       ] [INFO    ] : mapped pancreas_celseq      to pancreas_celseq2    \n",
      "[matchings       ] [INFO    ] : (13 common cell types)\n",
      "[matchings       ] [INFO    ] : 13/13 correct mappings\n",
      "[matchings       ] [INFO    ] : 0 /13 incorrect mappings\n",
      "|████████████████| [100.00% ] : 00:00\n",
      "[matchings       ] [INFO    ] : mapped pancreas_celseq      to pancreas_fluidigmc1 \n",
      "[matchings       ] [INFO    ] : (13 common cell types)\n",
      "[matchings       ] [INFO    ] : 13/13 correct mappings\n",
      "[matchings       ] [INFO    ] : 0 /13 incorrect mappings\n",
      "|████████████████| [100.00% ] : 00:02\n",
      "[matchings       ] [INFO    ] : mapped pancreas_celseq      to pancreas_indrop1    \n",
      "[matchings       ] [INFO    ] : (13 common cell types)\n",
      "[matchings       ] [INFO    ] : 13/13 correct mappings\n",
      "[matchings       ] [INFO    ] : 0 /13 incorrect mappings\n",
      "|████████████████| [100.00% ] : 00:01\n",
      "[matchings       ] [INFO    ] : mapped pancreas_celseq      to pancreas_indrop2    \n",
      "[matchings       ] [INFO    ] : (13 common cell types)\n",
      "[matchings       ] [INFO    ] : 13/13 correct mappings\n",
      "[matchings       ] [INFO    ] : 0 /13 incorrect mappings\n",
      "|████████████████| [100.00% ] : 00:02\n",
      "[matchings       ] [INFO    ] : mapped pancreas_celseq      to pancreas_indrop3    \n",
      "[matchings       ] [INFO    ] : (13 common cell types)\n",
      "[matchings       ] [INFO    ] : 13/13 correct mappings\n",
      "[matchings       ] [INFO    ] : 0 /13 incorrect mappings\n",
      "|████████████████| [100.00% ] : 00:01\n",
      "[matchings       ] [INFO    ] : mapped pancreas_celseq      to pancreas_indrop4    \n",
      "[matchings       ] [INFO    ] : (13 common cell types)\n",
      "[matchings       ] [INFO    ] : 13/13 correct mappings\n",
      "[matchings       ] [INFO    ] : 0 /13 incorrect mappings\n",
      "|████████████████| [100.00% ] : 00:02\n",
      "[matchings       ] [INFO    ] : mapped pancreas_celseq      to pancreas_smarter    \n",
      "[matchings       ] [INFO    ] : (4  common cell types)\n",
      "[matchings       ] [INFO    ] : 1 /13 correct mappings\n",
      "[matchings       ] [INFO    ] : 3 /13 incorrect mappings\n",
      "|████████████████| [100.00% ] : 00:01\n",
      "[matchings       ] [INFO    ] : mapped pancreas_celseq      to pancreas_smartseq2  \n",
      "[matchings       ] [INFO    ] : (13 common cell types)\n",
      "[matchings       ] [INFO    ] : 13/13 correct mappings\n",
      "[matchings       ] [INFO    ] : 0 /13 incorrect mappings\n",
      "|████████████████| [100.00% ] : 00:01\n",
      "[matchings       ] [INFO    ] : mapped pancreas_celseq2     to pancreas_celseq     \n",
      "[matchings       ] [INFO    ] : (13 common cell types)\n",
      "[matchings       ] [INFO    ] : 13/13 correct mappings\n",
      "[matchings       ] [INFO    ] : 0 /13 incorrect mappings\n",
      "|████████████████| [100.00% ] : 00:01\n",
      "[matchings       ] [INFO    ] : mapped pancreas_celseq2     to pancreas_fluidigmc1 \n",
      "[matchings       ] [INFO    ] : (13 common cell types)\n",
      "[matchings       ] [INFO    ] : 13/13 correct mappings\n",
      "[matchings       ] [INFO    ] : 0 /13 incorrect mappings\n",
      "|████████████████| [100.00% ] : 00:01\n",
      "[matchings       ] [INFO    ] : mapped pancreas_celseq2     to pancreas_indrop1    \n",
      "[matchings       ] [INFO    ] : (13 common cell types)\n",
      "[matchings       ] [INFO    ] : 13/13 correct mappings\n",
      "[matchings       ] [INFO    ] : 0 /13 incorrect mappings\n",
      "|████████████████| [100.00% ] : 00:01\n",
      "[matchings       ] [INFO    ] : mapped pancreas_celseq2     to pancreas_indrop2    \n",
      "[matchings       ] [INFO    ] : (13 common cell types)\n",
      "[matchings       ] [INFO    ] : 13/13 correct mappings\n",
      "[matchings       ] [INFO    ] : 0 /13 incorrect mappings\n",
      "|████████████████| [100.00% ] : 00:02\n",
      "[matchings       ] [INFO    ] : mapped pancreas_celseq2     to pancreas_indrop3    \n",
      "[matchings       ] [INFO    ] : (13 common cell types)\n",
      "[matchings       ] [INFO    ] : 13/13 correct mappings\n",
      "[matchings       ] [INFO    ] : 0 /13 incorrect mappings\n",
      "|████████████████| [100.00% ] : 00:01\n",
      "[matchings       ] [INFO    ] : mapped pancreas_celseq2     to pancreas_indrop4    \n",
      "[matchings       ] [INFO    ] : (13 common cell types)\n",
      "[matchings       ] [INFO    ] : 13/13 correct mappings\n",
      "[matchings       ] [INFO    ] : 0 /13 incorrect mappings\n",
      "|████████████████| [100.00% ] : 00:01\n",
      "[matchings       ] [INFO    ] : mapped pancreas_celseq2     to pancreas_smarter    \n",
      "[matchings       ] [INFO    ] : (4  common cell types)\n",
      "[matchings       ] [INFO    ] : 0 /13 correct mappings\n",
      "[matchings       ] [INFO    ] : 4 /13 incorrect mappings\n",
      "|████████████████| [100.00% ] : 00:02\n",
      "[matchings       ] [INFO    ] : mapped pancreas_celseq2     to pancreas_smartseq2  \n",
      "[matchings       ] [INFO    ] : (13 common cell types)\n",
      "[matchings       ] [INFO    ] : 13/13 correct mappings\n",
      "[matchings       ] [INFO    ] : 0 /13 incorrect mappings\n",
      "|████████████████| [100.00% ] : 00:01\n",
      "[matchings       ] [INFO    ] : mapped pancreas_fluidigmc1  to pancreas_celseq     \n",
      "[matchings       ] [INFO    ] : (13 common cell types)\n",
      "[matchings       ] [INFO    ] : 13/13 correct mappings\n",
      "[matchings       ] [INFO    ] : 0 /13 incorrect mappings\n",
      "|████████████████| [100.00% ] : 00:01\n",
      "[matchings       ] [INFO    ] : mapped pancreas_fluidigmc1  to pancreas_celseq2    \n",
      "[matchings       ] [INFO    ] : (13 common cell types)\n",
      "[matchings       ] [INFO    ] : 13/13 correct mappings\n",
      "[matchings       ] [INFO    ] : 0 /13 incorrect mappings\n",
      "|████████████████| [100.00% ] : 00:01\n",
      "[matchings       ] [INFO    ] : mapped pancreas_fluidigmc1  to pancreas_indrop1    \n",
      "[matchings       ] [INFO    ] : (13 common cell types)\n",
      "[matchings       ] [INFO    ] : 13/13 correct mappings\n",
      "[matchings       ] [INFO    ] : 0 /13 incorrect mappings\n",
      "|████████████████| [100.00% ] : 00:01\n",
      "[matchings       ] [INFO    ] : mapped pancreas_fluidigmc1  to pancreas_indrop2    \n",
      "[matchings       ] [INFO    ] : (13 common cell types)\n",
      "[matchings       ] [INFO    ] : 13/13 correct mappings\n",
      "[matchings       ] [INFO    ] : 0 /13 incorrect mappings\n",
      "|████████████████| [100.00% ] : 00:03\n",
      "[matchings       ] [INFO    ] : mapped pancreas_fluidigmc1  to pancreas_indrop3    \n",
      "[matchings       ] [INFO    ] : (13 common cell types)\n",
      "[matchings       ] [INFO    ] : 13/13 correct mappings\n",
      "[matchings       ] [INFO    ] : 0 /13 incorrect mappings\n",
      "|████████████████| [100.00% ] : 00:01\n",
      "[matchings       ] [INFO    ] : mapped pancreas_fluidigmc1  to pancreas_indrop4    \n",
      "[matchings       ] [INFO    ] : (13 common cell types)\n",
      "[matchings       ] [INFO    ] : 13/13 correct mappings\n",
      "[matchings       ] [INFO    ] : 0 /13 incorrect mappings\n",
      "|████████████████| [100.00% ] : 00:00\n",
      "[matchings       ] [INFO    ] : mapped pancreas_fluidigmc1  to pancreas_smarter    \n",
      "[matchings       ] [INFO    ] : (4  common cell types)\n",
      "[matchings       ] [INFO    ] : 3 /13 correct mappings\n",
      "[matchings       ] [INFO    ] : 1 /13 incorrect mappings\n",
      "|████████████████| [100.00% ] : 00:02\n",
      "[matchings       ] [INFO    ] : mapped pancreas_fluidigmc1  to pancreas_smartseq2  \n",
      "[matchings       ] [INFO    ] : (13 common cell types)\n",
      "[matchings       ] [INFO    ] : 13/13 correct mappings\n",
      "[matchings       ] [INFO    ] : 0 /13 incorrect mappings\n",
      "|████████████████| [100.00% ] : 00:01\n",
      "[matchings       ] [INFO    ] : mapped pancreas_indrop1     to pancreas_celseq     \n",
      "[matchings       ] [INFO    ] : (13 common cell types)\n",
      "[matchings       ] [INFO    ] : 13/14 correct mappings\n",
      "[matchings       ] [INFO    ] : 0 /14 incorrect mappings\n",
      "|████████████████| [100.00% ] : 00:02\n",
      "[matchings       ] [INFO    ] : mapped pancreas_indrop1     to pancreas_celseq2    \n",
      "[matchings       ] [INFO    ] : (13 common cell types)\n",
      "[matchings       ] [INFO    ] : 13/14 correct mappings\n",
      "[matchings       ] [INFO    ] : 0 /14 incorrect mappings\n",
      "|████████████████| [100.00% ] : 00:01\n",
      "[matchings       ] [INFO    ] : mapped pancreas_indrop1     to pancreas_fluidigmc1 \n",
      "[matchings       ] [INFO    ] : (13 common cell types)\n",
      "[matchings       ] [INFO    ] : 13/14 correct mappings\n",
      "[matchings       ] [INFO    ] : 0 /14 incorrect mappings\n",
      "|████████████████| [100.00% ] : 00:01\n",
      "[matchings       ] [INFO    ] : mapped pancreas_indrop1     to pancreas_indrop2    \n",
      "[matchings       ] [INFO    ] : (14 common cell types)\n",
      "[matchings       ] [INFO    ] : 14/14 correct mappings\n",
      "[matchings       ] [INFO    ] : 0 /14 incorrect mappings\n",
      "|████████████████| [100.00% ] : 00:02\n",
      "[matchings       ] [INFO    ] : mapped pancreas_indrop1     to pancreas_indrop3    \n",
      "[matchings       ] [INFO    ] : (14 common cell types)\n",
      "[matchings       ] [INFO    ] : 14/14 correct mappings\n",
      "[matchings       ] [INFO    ] : 0 /14 incorrect mappings\n",
      "|████████████████| [100.00% ] : 00:01\n",
      "[matchings       ] [INFO    ] : mapped pancreas_indrop1     to pancreas_indrop4    \n",
      "[matchings       ] [INFO    ] : (14 common cell types)\n",
      "[matchings       ] [INFO    ] : 14/14 correct mappings\n",
      "[matchings       ] [INFO    ] : 0 /14 incorrect mappings\n",
      "|████████████████| [100.00% ] : 00:01\n",
      "[matchings       ] [INFO    ] : mapped pancreas_indrop1     to pancreas_smarter    \n",
      "[matchings       ] [INFO    ] : (4  common cell types)\n",
      "[matchings       ] [INFO    ] : 1 /14 correct mappings\n",
      "[matchings       ] [INFO    ] : 3 /14 incorrect mappings\n",
      "|████████████████| [100.00% ] : 00:02\n",
      "[matchings       ] [INFO    ] : mapped pancreas_indrop1     to pancreas_smartseq2  \n",
      "[matchings       ] [INFO    ] : (13 common cell types)\n",
      "[matchings       ] [INFO    ] : 13/14 correct mappings\n",
      "[matchings       ] [INFO    ] : 0 /14 incorrect mappings\n",
      "|████████████████| [100.00% ] : 00:01\n",
      "[matchings       ] [INFO    ] : mapped pancreas_indrop2     to pancreas_celseq     \n",
      "[matchings       ] [INFO    ] : (13 common cell types)\n",
      "[matchings       ] [INFO    ] : 13/14 correct mappings\n",
      "[matchings       ] [INFO    ] : 0 /14 incorrect mappings\n",
      "|████████████████| [100.00% ] : 00:02\n",
      "[matchings       ] [INFO    ] : mapped pancreas_indrop2     to pancreas_celseq2    \n",
      "[matchings       ] [INFO    ] : (13 common cell types)\n",
      "[matchings       ] [INFO    ] : 13/14 correct mappings\n",
      "[matchings       ] [INFO    ] : 0 /14 incorrect mappings\n",
      "|████████████████| [100.00% ] : 00:01\n",
      "[matchings       ] [INFO    ] : mapped pancreas_indrop2     to pancreas_fluidigmc1 \n",
      "[matchings       ] [INFO    ] : (13 common cell types)\n",
      "[matchings       ] [INFO    ] : 13/14 correct mappings\n",
      "[matchings       ] [INFO    ] : 0 /14 incorrect mappings\n",
      "|████████████████| [100.00% ] : 00:02\n",
      "[matchings       ] [INFO    ] : mapped pancreas_indrop2     to pancreas_indrop1    \n",
      "[matchings       ] [INFO    ] : (14 common cell types)\n",
      "[matchings       ] [INFO    ] : 14/14 correct mappings\n",
      "[matchings       ] [INFO    ] : 0 /14 incorrect mappings\n",
      "|████████████████| [100.00% ] : 00:03\n",
      "[matchings       ] [INFO    ] : mapped pancreas_indrop2     to pancreas_indrop3    \n",
      "[matchings       ] [INFO    ] : (14 common cell types)\n",
      "[matchings       ] [INFO    ] : 14/14 correct mappings\n",
      "[matchings       ] [INFO    ] : 0 /14 incorrect mappings\n",
      "|████████████████| [100.00% ] : 00:01\n",
      "[matchings       ] [INFO    ] : mapped pancreas_indrop2     to pancreas_indrop4    \n",
      "[matchings       ] [INFO    ] : (14 common cell types)\n",
      "[matchings       ] [INFO    ] : 14/14 correct mappings\n",
      "[matchings       ] [INFO    ] : 0 /14 incorrect mappings\n",
      "|████████████████| [100.00% ] : 00:01\n",
      "[matchings       ] [INFO    ] : mapped pancreas_indrop2     to pancreas_smarter    \n",
      "[matchings       ] [INFO    ] : (4  common cell types)\n",
      "[matchings       ] [INFO    ] : 2 /14 correct mappings\n",
      "[matchings       ] [INFO    ] : 2 /14 incorrect mappings\n",
      "|████████████████| [100.00% ] : 00:02\n",
      "[matchings       ] [INFO    ] : mapped pancreas_indrop2     to pancreas_smartseq2  \n",
      "[matchings       ] [INFO    ] : (13 common cell types)\n",
      "[matchings       ] [INFO    ] : 13/14 correct mappings\n",
      "[matchings       ] [INFO    ] : 0 /14 incorrect mappings\n",
      "|████████████████| [100.00% ] : 00:02\n",
      "[matchings       ] [INFO    ] : mapped pancreas_indrop3     to pancreas_celseq     \n",
      "[matchings       ] [INFO    ] : (13 common cell types)\n",
      "[matchings       ] [INFO    ] : 13/14 correct mappings\n",
      "[matchings       ] [INFO    ] : 0 /14 incorrect mappings\n",
      "|████████████████| [100.00% ] : 00:03\n",
      "[matchings       ] [INFO    ] : mapped pancreas_indrop3     to pancreas_celseq2    \n",
      "[matchings       ] [INFO    ] : (13 common cell types)\n",
      "[matchings       ] [INFO    ] : 13/14 correct mappings\n",
      "[matchings       ] [INFO    ] : 0 /14 incorrect mappings\n",
      "|████████████████| [100.00% ] : 00:01\n",
      "[matchings       ] [INFO    ] : mapped pancreas_indrop3     to pancreas_fluidigmc1 \n",
      "[matchings       ] [INFO    ] : (13 common cell types)\n",
      "[matchings       ] [INFO    ] : 13/14 correct mappings\n",
      "[matchings       ] [INFO    ] : 0 /14 incorrect mappings\n",
      "|████████████████| [100.00% ] : 00:03\n",
      "[matchings       ] [INFO    ] : mapped pancreas_indrop3     to pancreas_indrop1    \n",
      "[matchings       ] [INFO    ] : (14 common cell types)\n",
      "[matchings       ] [INFO    ] : 14/14 correct mappings\n",
      "[matchings       ] [INFO    ] : 0 /14 incorrect mappings\n",
      "|████████████████| [100.00% ] : 00:02\n",
      "[matchings       ] [INFO    ] : mapped pancreas_indrop3     to pancreas_indrop2    \n",
      "[matchings       ] [INFO    ] : (14 common cell types)\n",
      "[matchings       ] [INFO    ] : 14/14 correct mappings\n",
      "[matchings       ] [INFO    ] : 0 /14 incorrect mappings\n",
      "|████████████████| [100.00% ] : 00:02\n",
      "[matchings       ] [INFO    ] : mapped pancreas_indrop3     to pancreas_indrop4    \n",
      "[matchings       ] [INFO    ] : (14 common cell types)\n",
      "[matchings       ] [INFO    ] : 14/14 correct mappings\n",
      "[matchings       ] [INFO    ] : 0 /14 incorrect mappings\n",
      "|████████████████| [100.00% ] : 00:01\n",
      "[matchings       ] [INFO    ] : mapped pancreas_indrop3     to pancreas_smarter    \n",
      "[matchings       ] [INFO    ] : (4  common cell types)\n",
      "[matchings       ] [INFO    ] : 2 /14 correct mappings\n",
      "[matchings       ] [INFO    ] : 2 /14 incorrect mappings\n",
      "|████████████████| [100.00% ] : 00:03\n",
      "[matchings       ] [INFO    ] : mapped pancreas_indrop3     to pancreas_smartseq2  \n",
      "[matchings       ] [INFO    ] : (13 common cell types)\n",
      "[matchings       ] [INFO    ] : 13/14 correct mappings\n",
      "[matchings       ] [INFO    ] : 0 /14 incorrect mappings\n",
      "|████████████████| [100.00% ] : 00:01\n",
      "[matchings       ] [INFO    ] : mapped pancreas_indrop4     to pancreas_celseq     \n",
      "[matchings       ] [INFO    ] : (13 common cell types)\n",
      "[matchings       ] [INFO    ] : 13/14 correct mappings\n",
      "[matchings       ] [INFO    ] : 0 /14 incorrect mappings\n",
      "|████████████████| [100.00% ] : 00:02\n",
      "[matchings       ] [INFO    ] : mapped pancreas_indrop4     to pancreas_celseq2    \n",
      "[matchings       ] [INFO    ] : (13 common cell types)\n",
      "[matchings       ] [INFO    ] : 13/14 correct mappings\n",
      "[matchings       ] [INFO    ] : 0 /14 incorrect mappings\n",
      "|████████████████| [100.00% ] : 00:01\n",
      "[matchings       ] [INFO    ] : mapped pancreas_indrop4     to pancreas_fluidigmc1 \n",
      "[matchings       ] [INFO    ] : (13 common cell types)\n",
      "[matchings       ] [INFO    ] : 13/14 correct mappings\n",
      "[matchings       ] [INFO    ] : 0 /14 incorrect mappings\n",
      "|████████████████| [100.00% ] : 00:01\n",
      "[matchings       ] [INFO    ] : mapped pancreas_indrop4     to pancreas_indrop1    \n",
      "[matchings       ] [INFO    ] : (14 common cell types)\n",
      "[matchings       ] [INFO    ] : 14/14 correct mappings\n",
      "[matchings       ] [INFO    ] : 0 /14 incorrect mappings\n",
      "|████████████████| [100.00% ] : 00:01\n",
      "[matchings       ] [INFO    ] : mapped pancreas_indrop4     to pancreas_indrop2    \n",
      "[matchings       ] [INFO    ] : (14 common cell types)\n",
      "[matchings       ] [INFO    ] : 14/14 correct mappings\n",
      "[matchings       ] [INFO    ] : 0 /14 incorrect mappings\n",
      "|████████████████| [100.00% ] : 00:03\n",
      "[matchings       ] [INFO    ] : mapped pancreas_indrop4     to pancreas_indrop3    \n",
      "[matchings       ] [INFO    ] : (14 common cell types)\n",
      "[matchings       ] [INFO    ] : 14/14 correct mappings\n",
      "[matchings       ] [INFO    ] : 0 /14 incorrect mappings\n",
      "|████████████████| [100.00% ] : 00:01\n",
      "[matchings       ] [INFO    ] : mapped pancreas_indrop4     to pancreas_smarter    \n",
      "[matchings       ] [INFO    ] : (4  common cell types)\n",
      "[matchings       ] [INFO    ] : 2 /14 correct mappings\n",
      "[matchings       ] [INFO    ] : 2 /14 incorrect mappings\n",
      "|████████████████| [100.00% ] : 00:01\n",
      "[matchings       ] [INFO    ] : mapped pancreas_indrop4     to pancreas_smartseq2  \n",
      "[matchings       ] [INFO    ] : (13 common cell types)\n",
      "[matchings       ] [INFO    ] : 13/14 correct mappings\n",
      "[matchings       ] [INFO    ] : 0 /14 incorrect mappings\n",
      "|████████████████| [100.00% ] : 00:00\n",
      "[matchings       ] [INFO    ] : mapped pancreas_smarter     to pancreas_celseq     \n",
      "[matchings       ] [INFO    ] : (4  common cell types)\n",
      "[matchings       ] [INFO    ] : 1 /4  correct mappings\n",
      "[matchings       ] [INFO    ] : 3 /4  incorrect mappings\n",
      "|████████████████| [100.00% ] : 00:01\n",
      "[matchings       ] [INFO    ] : mapped pancreas_smarter     to pancreas_celseq2    \n",
      "[matchings       ] [INFO    ] : (4  common cell types)\n",
      "[matchings       ] [INFO    ] : 0 /4  correct mappings\n",
      "[matchings       ] [INFO    ] : 4 /4  incorrect mappings\n",
      "|████████████████| [100.00% ] : 00:00\n",
      "[matchings       ] [INFO    ] : mapped pancreas_smarter     to pancreas_fluidigmc1 \n",
      "[matchings       ] [INFO    ] : (4  common cell types)\n",
      "[matchings       ] [INFO    ] : 3 /4  correct mappings\n",
      "[matchings       ] [INFO    ] : 1 /4  incorrect mappings\n",
      "|████████████████| [100.00% ] : 00:00\n",
      "[matchings       ] [INFO    ] : mapped pancreas_smarter     to pancreas_indrop1    \n",
      "[matchings       ] [INFO    ] : (4  common cell types)\n",
      "[matchings       ] [INFO    ] : 1 /4  correct mappings\n",
      "[matchings       ] [INFO    ] : 3 /4  incorrect mappings\n",
      "|████████████████| [100.00% ] : 00:01\n",
      "[matchings       ] [INFO    ] : mapped pancreas_smarter     to pancreas_indrop2    \n",
      "[matchings       ] [INFO    ] : (4  common cell types)\n",
      "[matchings       ] [INFO    ] : 2 /4  correct mappings\n",
      "[matchings       ] [INFO    ] : 2 /4  incorrect mappings\n",
      "|████████████████| [100.00% ] : 00:01\n",
      "[matchings       ] [INFO    ] : mapped pancreas_smarter     to pancreas_indrop3    \n",
      "[matchings       ] [INFO    ] : (4  common cell types)\n",
      "[matchings       ] [INFO    ] : 2 /4  correct mappings\n",
      "[matchings       ] [INFO    ] : 2 /4  incorrect mappings\n",
      "|████████████████| [100.00% ] : 00:00\n",
      "[matchings       ] [INFO    ] : mapped pancreas_smarter     to pancreas_indrop4    \n",
      "[matchings       ] [INFO    ] : (4  common cell types)\n",
      "[matchings       ] [INFO    ] : 2 /4  correct mappings\n",
      "[matchings       ] [INFO    ] : 2 /4  incorrect mappings\n",
      "|████████████████| [100.00% ] : 00:01\n",
      "[matchings       ] [INFO    ] : mapped pancreas_smarter     to pancreas_smartseq2  \n",
      "[matchings       ] [INFO    ] : (4  common cell types)\n",
      "[matchings       ] [INFO    ] : 2 /4  correct mappings\n",
      "[matchings       ] [INFO    ] : 2 /4  incorrect mappings\n",
      "|████████████████| [100.00% ] : 00:02\n",
      "[matchings       ] [INFO    ] : mapped pancreas_smartseq2   to pancreas_celseq     \n",
      "[matchings       ] [INFO    ] : (13 common cell types)\n",
      "[matchings       ] [INFO    ] : 13/13 correct mappings\n",
      "[matchings       ] [INFO    ] : 0 /13 incorrect mappings\n",
      "|████████████████| [100.00% ] : 00:05\n",
      "[matchings       ] [INFO    ] : mapped pancreas_smartseq2   to pancreas_celseq2    \n",
      "[matchings       ] [INFO    ] : (13 common cell types)\n",
      "[matchings       ] [INFO    ] : 13/13 correct mappings\n",
      "[matchings       ] [INFO    ] : 0 /13 incorrect mappings\n",
      "|████████████████| [100.00% ] : 00:06\n",
      "[matchings       ] [INFO    ] : mapped pancreas_smartseq2   to pancreas_fluidigmc1 \n",
      "[matchings       ] [INFO    ] : (13 common cell types)\n",
      "[matchings       ] [INFO    ] : 13/13 correct mappings\n",
      "[matchings       ] [INFO    ] : 0 /13 incorrect mappings\n",
      "|████████████████| [100.00% ] : 00:11\n",
      "[matchings       ] [INFO    ] : mapped pancreas_smartseq2   to pancreas_indrop1    \n",
      "[matchings       ] [INFO    ] : (13 common cell types)\n",
      "[matchings       ] [INFO    ] : 13/13 correct mappings\n",
      "[matchings       ] [INFO    ] : 0 /13 incorrect mappings\n",
      "|████████████████| [100.00% ] : 00:07\n",
      "[matchings       ] [INFO    ] : mapped pancreas_smartseq2   to pancreas_indrop2    \n",
      "[matchings       ] [INFO    ] : (13 common cell types)\n",
      "[matchings       ] [INFO    ] : 13/13 correct mappings\n",
      "[matchings       ] [INFO    ] : 0 /13 incorrect mappings\n",
      "|████████████████| [100.00% ] : 00:11\n",
      "[matchings       ] [INFO    ] : mapped pancreas_smartseq2   to pancreas_indrop3    \n",
      "[matchings       ] [INFO    ] : (13 common cell types)\n",
      "[matchings       ] [INFO    ] : 13/13 correct mappings\n",
      "[matchings       ] [INFO    ] : 0 /13 incorrect mappings\n",
      "|████████████████| [100.00% ] : 00:07\n",
      "[matchings       ] [INFO    ] : mapped pancreas_smartseq2   to pancreas_indrop4    \n",
      "[matchings       ] [INFO    ] : (13 common cell types)\n",
      "[matchings       ] [INFO    ] : 13/13 correct mappings\n",
      "[matchings       ] [INFO    ] : 0 /13 incorrect mappings\n",
      "|████████████████| [100.00% ] : 00:03\n",
      "[matchings       ] [INFO    ] : mapped pancreas_smartseq2   to pancreas_smarter    \n",
      "[matchings       ] [INFO    ] : (4  common cell types)\n",
      "[matchings       ] [INFO    ] : 2 /13 correct mappings\n",
      "[matchings       ] [INFO    ] : 2 /13 incorrect mappings\n"
     ]
    }
   ],
   "source": [
    "rcm = RefCM(discovery_threshold=0)\n",
    "\n",
    "for i, q_id in enumerate(ds):\n",
    "    for ref_id in [d for d in ds if d != q_id]:\n",
    "        m = rcm.annotate(ds[q_id], q_id, ds[ref_id], ref_id, 'celltype', 'celltype')\n",
    "        m.eval('celltype')"
   ]
  }
 ],
 "metadata": {
  "kernelspec": {
   "display_name": "SCC",
   "language": "python",
   "name": "python3"
  },
  "language_info": {
   "codemirror_mode": {
    "name": "ipython",
    "version": 3
   },
   "file_extension": ".py",
   "mimetype": "text/x-python",
   "name": "python",
   "nbconvert_exporter": "python",
   "pygments_lexer": "ipython3",
   "version": "3.11.7"
  }
 },
 "nbformat": 4,
 "nbformat_minor": 2
}
