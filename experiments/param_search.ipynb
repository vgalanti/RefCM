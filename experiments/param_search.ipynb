{
 "cells": [
  {
   "cell_type": "markdown",
   "metadata": {},
   "source": [
    "In this notebook, we will be plotting the performance of RefCM across all currently available datasets, as well as testing what parameters yield the best performance."
   ]
  },
  {
   "cell_type": "code",
   "execution_count": 1,
   "metadata": {},
   "outputs": [],
   "source": [
    "import sys\n",
    "sys.path.append('../src/')\n",
    "\n",
    "import os\n",
    "import json\n",
    "import config\n",
    "import logging\n",
    "import numpy as np\n",
    "import scanpy as sc\n",
    "from refcm import RefCM\n",
    "\n",
    "config.start_logging(logging.DEBUG)"
   ]
  },
  {
   "cell_type": "code",
   "execution_count": 2,
   "metadata": {},
   "outputs": [],
   "source": [
    "%load_ext autoreload\n",
    "%autoreload 2"
   ]
  },
  {
   "cell_type": "markdown",
   "metadata": {},
   "source": [
    "All currently tested datasets, and their associated .obs clustering key:"
   ]
  },
  {
   "cell_type": "code",
   "execution_count": 3,
   "metadata": {},
   "outputs": [],
   "source": [
    "DSS = {\n",
    "    # pancreas datasets\n",
    "    \"pancreas_celseq\": \"celltype\",\n",
    "    \"pancreas_celseq2\": \"celltype\",\n",
    "    \"pancreas_fluidigmc1\": \"celltype\",\n",
    "    \"pancreas_indrop1\": \"celltype\",\n",
    "    \"pancreas_indrop2\": \"celltype\",\n",
    "    \"pancreas_indrop3\": \"celltype\",\n",
    "    \"pancreas_indrop4\": \"celltype\",\n",
    "    \"pancreas_smarter\": \"celltype\",\n",
    "    \"pancreas_smartseq2\": \"celltype\",\n",
    "    \n",
    "    # Allen-Brain datasets\n",
    "    \"ALM\": \"labels34\",\n",
    "    \"MTG\": \"labels34\",\n",
    "    \"VISp\": \"labels34\",\n",
    "    \n",
    "    # LGN datasets\n",
    "    \"LGN_human_intron\": \"cluster_label\",\n",
    "    \"LGN_human_exon\": \"cluster_label\",\n",
    "    \"LGN_macaque_intron\": \"cluster_label\",\n",
    "    \"LGN_macaque_exon\": \"cluster_label\",\n",
    "    \"LGN_mouse_intron\": \"cluster_label\",\n",
    "    \"LGN_mouse_exon\": \"cluster_label\",\n",
    "    \n",
    "    # pbmc datasets\n",
    "    \"pbmc_10Xv2\": \"labels\",\n",
    "    \"pbmc_10Xv3\": \"labels\",\n",
    "    \"pbmc_CEL-Seq\": \"labels\",\n",
    "    \"pbmc_Drop-Seq\": \"labels\",\n",
    "    \"pbmc_inDrop\": \"labels\",\n",
    "    \"pbmc_Seq-Well\": \"labels\",\n",
    "    \"pbmc_Smart-Seq2\": \"labels\",\n",
    "    \n",
    "    # celltypist datasets\n",
    "    \"Blood\": \"cell_type\",\n",
    "    \"Bone_marrow\": \"cell_type\",\n",
    "    \"Heart\": \"cell_type\",\n",
    "    \"Hippocampus\": \"cell_type\",\n",
    "    \"Intestine\": \"cell_type\",\n",
    "    \"Kidney\": \"cell_type\",\n",
    "    \"Liver\": \"cell_type\",\n",
    "    \"Lung\": \"cell_type\",\n",
    "    \"Lymph_node\": \"cell_type\",\n",
    "    \"Pancreas\": \"cell_type\",\n",
    "    \"Skeletal_muscle\": \"cell_type\",\n",
    "    \"Spleen\": \"cell_type\",\n",
    "}"
   ]
  },
  {
   "cell_type": "markdown",
   "metadata": {},
   "source": [
    "Use the below codeblock to test out certain parameters (or think how you could automate a grid-like parameter-search) to determine which choice might yield the best results (and why that may be the case?)."
   ]
  },
  {
   "cell_type": "code",
   "execution_count": 4,
   "metadata": {},
   "outputs": [
    {
     "name": "stderr",
     "output_type": "stream",
     "text": [
      "[h5py._conv      ] [DEBUG   ] : Creating converter from 3 to 5\n",
      "[refcm           ] [INFO    ] : NOTE: raw counts expected in anndata .X attributes.\n",
      "[refcm           ] [DEBUG   ] : Loading cached mapping costs from ws_cache.json.\n",
      "[refcm           ] [DEBUG   ] : Using costs for LGN_human_intron->LGN_macaque_intron found in cache.\n",
      "[refcm           ] [DEBUG   ] : starting LP optimization\n",
      "[refcm           ] [DEBUG   ] : optimization terminated w. status \"Optimal\"\n",
      "[matchings       ] [DEBUG   ] : GABA1                mapped to GABA1               \n",
      "[matchings       ] [DEBUG   ] : GABA2                mapped to GABA3               \n",
      "[matchings       ] [DEBUG   ] : GABA3                mapped to GABA4               \n",
      "[matchings       ] [DEBUG   ] : K1                   mapped to Pulv                \n",
      "[matchings       ] [DEBUG   ] : K2                   mapped to K2                  \n",
      "[matchings       ] [DEBUG   ] : MP                   mapped to M                   \n",
      "[matchings       ] [DEBUG   ] : OPC                  mapped to GABA2               \n",
      "[matchings       ] [INFO    ] : mapped LGN_human_intron     to LGN_macaque_intron  \n",
      "[matchings       ] [INFO    ] : (5  common cell types)\n",
      "[matchings       ] [INFO    ] : 2 /10 correct mappings\n",
      "[matchings       ] [INFO    ] : 5 /10 incorrect mappings\n"
     ]
    },
    {
     "data": {
      "application/vnd.plotly.v1+json": {
       "config": {
        "plotlyServerURL": "https://plot.ly"
       },
       "data": [
        {
         "coloraxis": "coloraxis",
         "hovertemplate": "Reference: LGN_macaque_intron: %{x}<br>Query: LGN_human_intron: %{y}<br>cost: %{z}<extra></extra>",
         "name": "0",
         "type": "heatmap",
         "x": [
          "GABA1",
          "GABA2",
          "GABA3",
          "GABA4",
          "K1",
          "K2",
          "M",
          "P",
          "Pulv"
         ],
         "xaxis": "x",
         "y": [
          "Astro",
          "GABA1",
          "GABA2",
          "GABA3",
          "K1",
          "K2",
          "MP",
          "Micro",
          "OPC",
          "Oligo"
         ],
         "yaxis": "y",
         "z": [
          [
           -4097.7265802645625,
           -3989.087335457867,
           -4123.612221052288,
           -4148.607155219166,
           -3206.670990086592,
           -3674.8728223188914,
           -3333.0968328959802,
           -3071.30468130626,
           -3429.8163586377605
          ],
          [
           -6128.29248634255,
           -5036.901278257636,
           -5165.725906964414,
           -5269.369893516256,
           -3621.824618267075,
           -4170.7412763747925,
           -3686.817682022298,
           -3389.3607059456317,
           -3986.403033810876
          ],
          [
           -5303.64633676508,
           -5943.458693193315,
           -6274.713921610369,
           -6143.433937283979,
           -3833.2377885477367,
           -4458.492282791197,
           -3897.991953144855,
           -3613.8394432993464,
           -4184.663654808395
          ],
          [
           -5610.14815825493,
           -6176.3053877125185,
           -6588.024746548114,
           -6552.711420143914,
           -4140.271781516414,
           -4821.933979316124,
           -4216.638387391235,
           -3906.861669544042,
           -4518.4464377496415
          ],
          [
           -4224.037626621197,
           -4223.35803278316,
           -4362.2748757716145,
           -4334.682048310516,
           -3956.8494282120096,
           -4478.189714394686,
           -3807.6377831844934,
           -3477.3869184235764,
           -4378.510379523279
          ],
          [
           -4336.171231207941,
           -4306.573883795509,
           -4464.564100906609,
           -4457.106429318215,
           -3958.586718173218,
           -4525.305054354557,
           -3828.1896711949507,
           -3495.015153224147,
           -4373.890258316164
          ],
          [
           -3771.1947185580907,
           -3746.635859982248,
           -3806.7771235657992,
           -3784.187505851684,
           -3478.1269529835527,
           -3745.931638326122,
           -3631.7344914464857,
           -3370.478304460543,
           -3592.4364851275027
          ],
          [
           -2911.1743415035785,
           -2959.710531050003,
           -3051.9963315153805,
           -3013.5939357211264,
           -2492.1009682463928,
           -2781.524969942531,
           -2655.831703447128,
           -2426.759145874284,
           -2591.1632065879176
          ],
          [
           -4206.178453007483,
           -4216.959621426744,
           -4317.782963895573,
           -4329.178502281549,
           -3230.288284453476,
           -3726.5040320995154,
           -3325.9813546868954,
           -3091.6218660984655,
           -3453.9699167454346
          ],
          [
           -3454.411773367087,
           -3373.0337401516053,
           -3448.387011874257,
           -3448.6571143836964,
           -2879.1958076945516,
           -3190.672069944704,
           -2997.590088408262,
           -2774.5780241446714,
           -3029.1774784150984
          ]
         ]
        },
        {
         "hovertemplate": "%{y} -> %{x}",
         "marker": {
          "color": [
           "green",
           "red",
           "red",
           "red",
           "green",
           "red",
           "red"
          ],
          "size": 5
         },
         "mode": "markers",
         "name": "",
         "type": "scatter",
         "x": [
          "GABA1",
          "GABA3",
          "GABA4",
          "Pulv",
          "K2",
          "M",
          "GABA2"
         ],
         "y": [
          "GABA1",
          "GABA2",
          "GABA3",
          "K1",
          "K2",
          "MP",
          "OPC"
         ]
        }
       ],
       "layout": {
        "coloraxis": {
         "colorbar": {
          "title": {
           "text": "cost"
          }
         },
         "colorscale": [
          [
           0,
           "rgb(75, 41, 145)"
          ],
          [
           0.16666666666666666,
           "rgb(135, 44, 162)"
          ],
          [
           0.3333333333333333,
           "rgb(192, 54, 157)"
          ],
          [
           0.5,
           "rgb(234, 79, 136)"
          ],
          [
           0.6666666666666666,
           "rgb(250, 120, 118)"
          ],
          [
           0.8333333333333334,
           "rgb(246, 169, 122)"
          ],
          [
           1,
           "rgb(237, 217, 163)"
          ]
         ]
        },
        "template": {
         "data": {
          "bar": [
           {
            "error_x": {
             "color": "#2a3f5f"
            },
            "error_y": {
             "color": "#2a3f5f"
            },
            "marker": {
             "line": {
              "color": "#E5ECF6",
              "width": 0.5
             },
             "pattern": {
              "fillmode": "overlay",
              "size": 10,
              "solidity": 0.2
             }
            },
            "type": "bar"
           }
          ],
          "barpolar": [
           {
            "marker": {
             "line": {
              "color": "#E5ECF6",
              "width": 0.5
             },
             "pattern": {
              "fillmode": "overlay",
              "size": 10,
              "solidity": 0.2
             }
            },
            "type": "barpolar"
           }
          ],
          "carpet": [
           {
            "aaxis": {
             "endlinecolor": "#2a3f5f",
             "gridcolor": "white",
             "linecolor": "white",
             "minorgridcolor": "white",
             "startlinecolor": "#2a3f5f"
            },
            "baxis": {
             "endlinecolor": "#2a3f5f",
             "gridcolor": "white",
             "linecolor": "white",
             "minorgridcolor": "white",
             "startlinecolor": "#2a3f5f"
            },
            "type": "carpet"
           }
          ],
          "choropleth": [
           {
            "colorbar": {
             "outlinewidth": 0,
             "ticks": ""
            },
            "type": "choropleth"
           }
          ],
          "contour": [
           {
            "colorbar": {
             "outlinewidth": 0,
             "ticks": ""
            },
            "colorscale": [
             [
              0,
              "#0d0887"
             ],
             [
              0.1111111111111111,
              "#46039f"
             ],
             [
              0.2222222222222222,
              "#7201a8"
             ],
             [
              0.3333333333333333,
              "#9c179e"
             ],
             [
              0.4444444444444444,
              "#bd3786"
             ],
             [
              0.5555555555555556,
              "#d8576b"
             ],
             [
              0.6666666666666666,
              "#ed7953"
             ],
             [
              0.7777777777777778,
              "#fb9f3a"
             ],
             [
              0.8888888888888888,
              "#fdca26"
             ],
             [
              1,
              "#f0f921"
             ]
            ],
            "type": "contour"
           }
          ],
          "contourcarpet": [
           {
            "colorbar": {
             "outlinewidth": 0,
             "ticks": ""
            },
            "type": "contourcarpet"
           }
          ],
          "heatmap": [
           {
            "colorbar": {
             "outlinewidth": 0,
             "ticks": ""
            },
            "colorscale": [
             [
              0,
              "#0d0887"
             ],
             [
              0.1111111111111111,
              "#46039f"
             ],
             [
              0.2222222222222222,
              "#7201a8"
             ],
             [
              0.3333333333333333,
              "#9c179e"
             ],
             [
              0.4444444444444444,
              "#bd3786"
             ],
             [
              0.5555555555555556,
              "#d8576b"
             ],
             [
              0.6666666666666666,
              "#ed7953"
             ],
             [
              0.7777777777777778,
              "#fb9f3a"
             ],
             [
              0.8888888888888888,
              "#fdca26"
             ],
             [
              1,
              "#f0f921"
             ]
            ],
            "type": "heatmap"
           }
          ],
          "heatmapgl": [
           {
            "colorbar": {
             "outlinewidth": 0,
             "ticks": ""
            },
            "colorscale": [
             [
              0,
              "#0d0887"
             ],
             [
              0.1111111111111111,
              "#46039f"
             ],
             [
              0.2222222222222222,
              "#7201a8"
             ],
             [
              0.3333333333333333,
              "#9c179e"
             ],
             [
              0.4444444444444444,
              "#bd3786"
             ],
             [
              0.5555555555555556,
              "#d8576b"
             ],
             [
              0.6666666666666666,
              "#ed7953"
             ],
             [
              0.7777777777777778,
              "#fb9f3a"
             ],
             [
              0.8888888888888888,
              "#fdca26"
             ],
             [
              1,
              "#f0f921"
             ]
            ],
            "type": "heatmapgl"
           }
          ],
          "histogram": [
           {
            "marker": {
             "pattern": {
              "fillmode": "overlay",
              "size": 10,
              "solidity": 0.2
             }
            },
            "type": "histogram"
           }
          ],
          "histogram2d": [
           {
            "colorbar": {
             "outlinewidth": 0,
             "ticks": ""
            },
            "colorscale": [
             [
              0,
              "#0d0887"
             ],
             [
              0.1111111111111111,
              "#46039f"
             ],
             [
              0.2222222222222222,
              "#7201a8"
             ],
             [
              0.3333333333333333,
              "#9c179e"
             ],
             [
              0.4444444444444444,
              "#bd3786"
             ],
             [
              0.5555555555555556,
              "#d8576b"
             ],
             [
              0.6666666666666666,
              "#ed7953"
             ],
             [
              0.7777777777777778,
              "#fb9f3a"
             ],
             [
              0.8888888888888888,
              "#fdca26"
             ],
             [
              1,
              "#f0f921"
             ]
            ],
            "type": "histogram2d"
           }
          ],
          "histogram2dcontour": [
           {
            "colorbar": {
             "outlinewidth": 0,
             "ticks": ""
            },
            "colorscale": [
             [
              0,
              "#0d0887"
             ],
             [
              0.1111111111111111,
              "#46039f"
             ],
             [
              0.2222222222222222,
              "#7201a8"
             ],
             [
              0.3333333333333333,
              "#9c179e"
             ],
             [
              0.4444444444444444,
              "#bd3786"
             ],
             [
              0.5555555555555556,
              "#d8576b"
             ],
             [
              0.6666666666666666,
              "#ed7953"
             ],
             [
              0.7777777777777778,
              "#fb9f3a"
             ],
             [
              0.8888888888888888,
              "#fdca26"
             ],
             [
              1,
              "#f0f921"
             ]
            ],
            "type": "histogram2dcontour"
           }
          ],
          "mesh3d": [
           {
            "colorbar": {
             "outlinewidth": 0,
             "ticks": ""
            },
            "type": "mesh3d"
           }
          ],
          "parcoords": [
           {
            "line": {
             "colorbar": {
              "outlinewidth": 0,
              "ticks": ""
             }
            },
            "type": "parcoords"
           }
          ],
          "pie": [
           {
            "automargin": true,
            "type": "pie"
           }
          ],
          "scatter": [
           {
            "fillpattern": {
             "fillmode": "overlay",
             "size": 10,
             "solidity": 0.2
            },
            "type": "scatter"
           }
          ],
          "scatter3d": [
           {
            "line": {
             "colorbar": {
              "outlinewidth": 0,
              "ticks": ""
             }
            },
            "marker": {
             "colorbar": {
              "outlinewidth": 0,
              "ticks": ""
             }
            },
            "type": "scatter3d"
           }
          ],
          "scattercarpet": [
           {
            "marker": {
             "colorbar": {
              "outlinewidth": 0,
              "ticks": ""
             }
            },
            "type": "scattercarpet"
           }
          ],
          "scattergeo": [
           {
            "marker": {
             "colorbar": {
              "outlinewidth": 0,
              "ticks": ""
             }
            },
            "type": "scattergeo"
           }
          ],
          "scattergl": [
           {
            "marker": {
             "colorbar": {
              "outlinewidth": 0,
              "ticks": ""
             }
            },
            "type": "scattergl"
           }
          ],
          "scattermapbox": [
           {
            "marker": {
             "colorbar": {
              "outlinewidth": 0,
              "ticks": ""
             }
            },
            "type": "scattermapbox"
           }
          ],
          "scatterpolar": [
           {
            "marker": {
             "colorbar": {
              "outlinewidth": 0,
              "ticks": ""
             }
            },
            "type": "scatterpolar"
           }
          ],
          "scatterpolargl": [
           {
            "marker": {
             "colorbar": {
              "outlinewidth": 0,
              "ticks": ""
             }
            },
            "type": "scatterpolargl"
           }
          ],
          "scatterternary": [
           {
            "marker": {
             "colorbar": {
              "outlinewidth": 0,
              "ticks": ""
             }
            },
            "type": "scatterternary"
           }
          ],
          "surface": [
           {
            "colorbar": {
             "outlinewidth": 0,
             "ticks": ""
            },
            "colorscale": [
             [
              0,
              "#0d0887"
             ],
             [
              0.1111111111111111,
              "#46039f"
             ],
             [
              0.2222222222222222,
              "#7201a8"
             ],
             [
              0.3333333333333333,
              "#9c179e"
             ],
             [
              0.4444444444444444,
              "#bd3786"
             ],
             [
              0.5555555555555556,
              "#d8576b"
             ],
             [
              0.6666666666666666,
              "#ed7953"
             ],
             [
              0.7777777777777778,
              "#fb9f3a"
             ],
             [
              0.8888888888888888,
              "#fdca26"
             ],
             [
              1,
              "#f0f921"
             ]
            ],
            "type": "surface"
           }
          ],
          "table": [
           {
            "cells": {
             "fill": {
              "color": "#EBF0F8"
             },
             "line": {
              "color": "white"
             }
            },
            "header": {
             "fill": {
              "color": "#C8D4E3"
             },
             "line": {
              "color": "white"
             }
            },
            "type": "table"
           }
          ]
         },
         "layout": {
          "annotationdefaults": {
           "arrowcolor": "#2a3f5f",
           "arrowhead": 0,
           "arrowwidth": 1
          },
          "autotypenumbers": "strict",
          "coloraxis": {
           "colorbar": {
            "outlinewidth": 0,
            "ticks": ""
           }
          },
          "colorscale": {
           "diverging": [
            [
             0,
             "#8e0152"
            ],
            [
             0.1,
             "#c51b7d"
            ],
            [
             0.2,
             "#de77ae"
            ],
            [
             0.3,
             "#f1b6da"
            ],
            [
             0.4,
             "#fde0ef"
            ],
            [
             0.5,
             "#f7f7f7"
            ],
            [
             0.6,
             "#e6f5d0"
            ],
            [
             0.7,
             "#b8e186"
            ],
            [
             0.8,
             "#7fbc41"
            ],
            [
             0.9,
             "#4d9221"
            ],
            [
             1,
             "#276419"
            ]
           ],
           "sequential": [
            [
             0,
             "#0d0887"
            ],
            [
             0.1111111111111111,
             "#46039f"
            ],
            [
             0.2222222222222222,
             "#7201a8"
            ],
            [
             0.3333333333333333,
             "#9c179e"
            ],
            [
             0.4444444444444444,
             "#bd3786"
            ],
            [
             0.5555555555555556,
             "#d8576b"
            ],
            [
             0.6666666666666666,
             "#ed7953"
            ],
            [
             0.7777777777777778,
             "#fb9f3a"
            ],
            [
             0.8888888888888888,
             "#fdca26"
            ],
            [
             1,
             "#f0f921"
            ]
           ],
           "sequentialminus": [
            [
             0,
             "#0d0887"
            ],
            [
             0.1111111111111111,
             "#46039f"
            ],
            [
             0.2222222222222222,
             "#7201a8"
            ],
            [
             0.3333333333333333,
             "#9c179e"
            ],
            [
             0.4444444444444444,
             "#bd3786"
            ],
            [
             0.5555555555555556,
             "#d8576b"
            ],
            [
             0.6666666666666666,
             "#ed7953"
            ],
            [
             0.7777777777777778,
             "#fb9f3a"
            ],
            [
             0.8888888888888888,
             "#fdca26"
            ],
            [
             1,
             "#f0f921"
            ]
           ]
          },
          "colorway": [
           "#636efa",
           "#EF553B",
           "#00cc96",
           "#ab63fa",
           "#FFA15A",
           "#19d3f3",
           "#FF6692",
           "#B6E880",
           "#FF97FF",
           "#FECB52"
          ],
          "font": {
           "color": "#2a3f5f"
          },
          "geo": {
           "bgcolor": "white",
           "lakecolor": "white",
           "landcolor": "#E5ECF6",
           "showlakes": true,
           "showland": true,
           "subunitcolor": "white"
          },
          "hoverlabel": {
           "align": "left"
          },
          "hovermode": "closest",
          "mapbox": {
           "style": "light"
          },
          "paper_bgcolor": "white",
          "plot_bgcolor": "#E5ECF6",
          "polar": {
           "angularaxis": {
            "gridcolor": "white",
            "linecolor": "white",
            "ticks": ""
           },
           "bgcolor": "#E5ECF6",
           "radialaxis": {
            "gridcolor": "white",
            "linecolor": "white",
            "ticks": ""
           }
          },
          "scene": {
           "xaxis": {
            "backgroundcolor": "#E5ECF6",
            "gridcolor": "white",
            "gridwidth": 2,
            "linecolor": "white",
            "showbackground": true,
            "ticks": "",
            "zerolinecolor": "white"
           },
           "yaxis": {
            "backgroundcolor": "#E5ECF6",
            "gridcolor": "white",
            "gridwidth": 2,
            "linecolor": "white",
            "showbackground": true,
            "ticks": "",
            "zerolinecolor": "white"
           },
           "zaxis": {
            "backgroundcolor": "#E5ECF6",
            "gridcolor": "white",
            "gridwidth": 2,
            "linecolor": "white",
            "showbackground": true,
            "ticks": "",
            "zerolinecolor": "white"
           }
          },
          "shapedefaults": {
           "line": {
            "color": "#2a3f5f"
           }
          },
          "ternary": {
           "aaxis": {
            "gridcolor": "white",
            "linecolor": "white",
            "ticks": ""
           },
           "baxis": {
            "gridcolor": "white",
            "linecolor": "white",
            "ticks": ""
           },
           "bgcolor": "#E5ECF6",
           "caxis": {
            "gridcolor": "white",
            "linecolor": "white",
            "ticks": ""
           }
          },
          "title": {
           "x": 0.05
          },
          "xaxis": {
           "automargin": true,
           "gridcolor": "white",
           "linecolor": "white",
           "ticks": "",
           "title": {
            "standoff": 15
           },
           "zerolinecolor": "white",
           "zerolinewidth": 2
          },
          "yaxis": {
           "automargin": true,
           "gridcolor": "white",
           "linecolor": "white",
           "ticks": "",
           "title": {
            "standoff": 15
           },
           "zerolinecolor": "white",
           "zerolinewidth": 2
          }
         }
        },
        "title": {
         "text": "LGN_human_intron to LGN_macaque_intron matching cost"
        },
        "xaxis": {
         "anchor": "y",
         "constrain": "domain",
         "domain": [
          0,
          1
         ],
         "scaleanchor": "y",
         "tickangle": -45,
         "title": {
          "text": "Reference: LGN_macaque_intron"
         }
        },
        "yaxis": {
         "anchor": "x",
         "autorange": "reversed",
         "constrain": "domain",
         "domain": [
          0,
          1
         ],
         "title": {
          "text": "Query: LGN_human_intron"
         }
        }
       }
      }
     },
     "metadata": {},
     "output_type": "display_data"
    }
   ],
   "source": [
    "# query / reference dataset choice\n",
    "q_id = 'LGN_human_intron'\n",
    "ref_id = 'LGN_macaque_intron'\n",
    "\n",
    "q_ds = sc.read_h5ad(f'../data/{q_id}.h5ad')\n",
    "ref_ds = sc.read_h5ad(f'../data/{ref_id}.h5ad')\n",
    "\n",
    "# the parameters to tune\n",
    "rcm = RefCM(target_sum=1e6, discovery_threshold=0.5)\n",
    "\n",
    "# evaluation / display\n",
    "m = rcm.annotate(q_ds, q_id, ref_ds, ref_id, DSS[q_id], DSS[ref_id])\n",
    "m.eval(DSS[q_id])\n",
    "m.display_matching_costs(DSS[q_id])"
   ]
  },
  {
   "cell_type": "markdown",
   "metadata": {},
   "source": [
    "If you have found better parameters for a certain query -> reference pair, enter these under the `params.json` file. In the example above, this would mean editing line 485 to: \n",
    "\n",
    "```json\n",
    "    ...\n",
    "    \"LGN_human_intron\": {\n",
    "            ...\n",
    "            \"LGN_macaque_intron\": {\"target_sum\": 1000000, \"discovery_threshold\": 0.5},\n",
    "            ...\n",
    "    }\n",
    "    ...\n",
    "```"
   ]
  },
  {
   "cell_type": "markdown",
   "metadata": {},
   "source": [
    "With the parameters available in `params.json`, we can then view our performance across all dataset combinations as follows:"
   ]
  },
  {
   "cell_type": "code",
   "execution_count": 21,
   "metadata": {},
   "outputs": [],
   "source": [
    "with open('params.json', 'r') as f:\n",
    "    params = json.load(f)"
   ]
  },
  {
   "cell_type": "code",
   "execution_count": null,
   "metadata": {},
   "outputs": [],
   "source": [
    "# mapping accuracy on overlapping cell types\n",
    "acc_overlap = np.zeros((len(DSS), len(DSS)))\n",
    "\n",
    "# accuracy on non-overlapping cell types\n",
    "acc_different = np.zeros((len(DSS), len(DSS)))\n",
    "\n",
    "# mapping all different combinations\n",
    "for i, (a_id, a_key) in enumerate(DSS.items()):\n",
    "    a_ds = sc.read_h5ad(f'../data/{a_id}.h5ad')\n",
    "    \n",
    "    for j, (b_id, b_key) in enumerate(DSS.items()):\n",
    "        \n",
    "        if j < i:\n",
    "            continue\n",
    "        \n",
    "        b_ds = sc.read_h5ad(f'../data/{b_id}.h5ad')\n",
    "        \n",
    "        # run first with a as query and b as reference, then b as query and a as reference\n",
    "        # to avoid re-reading certain files as often.\n",
    "        \n",
    "        # TODO await matching evalution metrics rework & merge to complete\n",
    "        # the below steps\n",
    "        \n",
    "        rcm = RefCM(**params[a_id][b_id])\n",
    "        m = rcm.annotate(a_ds, a_id, b_ds, b_id, DSS[a_id], DSS[b_id])\n",
    "        \n",
    "        \n",
    "        rcm = RefCM(**params[b_id][a_id])\n",
    "        m = rcm.annotate(b_ds, b_id, a_ds, a_id, DSS[b_id], DSS[a_id])"
   ]
  },
  {
   "cell_type": "code",
   "execution_count": null,
   "metadata": {},
   "outputs": [],
   "source": [
    "# TODO code for heatplot visualization"
   ]
  }
 ],
 "metadata": {
  "kernelspec": {
   "display_name": "refcm",
   "language": "python",
   "name": "python3"
  },
  "language_info": {
   "codemirror_mode": {
    "name": "ipython",
    "version": 3
   },
   "file_extension": ".py",
   "mimetype": "text/x-python",
   "name": "python",
   "nbconvert_exporter": "python",
   "pygments_lexer": "ipython3",
   "version": "3.11.7"
  }
 },
 "nbformat": 4,
 "nbformat_minor": 2
}
