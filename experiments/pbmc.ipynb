{
 "cells": [
  {
   "cell_type": "code",
   "execution_count": 1,
   "metadata": {},
   "outputs": [],
   "source": [
    "import sys\n",
    "sys.path.append('../src/')\n",
    "\n",
    "import config\n",
    "import logging\n",
    "import scanpy as sc\n",
    "from refcm import RefCM\n",
    "\n",
    "config.start_logging(logging.DEBUG)"
   ]
  },
  {
   "cell_type": "code",
   "execution_count": 2,
   "metadata": {},
   "outputs": [
    {
     "name": "stderr",
     "output_type": "stream",
     "text": [
      "[h5py._conv      ] [DEBUG   ] : Creating converter from 3 to 5\n"
     ]
    }
   ],
   "source": [
    "ds = ['pbmc_10Xv2', 'pbmc_10Xv3', 'pbmc_CEL-Seq', 'pbmc_Drop-Seq', 'pbmc_inDrop', 'pbmc_Seq-Well', 'pbmc_Smart-Seq2']\n",
    "ds = {s: sc.read_h5ad(f'../data/{s}.h5ad') for s in ds}"
   ]
  },
  {
   "cell_type": "code",
   "execution_count": 3,
   "metadata": {},
   "outputs": [
    {
     "name": "stderr",
     "output_type": "stream",
     "text": [
      "[refcm           ] [INFO    ] : NOTE: raw counts expected in anndata .X attributes.\n",
      "[refcm           ] [DEBUG   ] : Loading cached mapping costs from cache.json.\n",
      "[refcm           ] [DEBUG   ] : Using costs for pbmc_CEL-Seq->pbmc_Drop-Seq found in cache.\n",
      "[refcm           ] [DEBUG   ] : starting LP optimization\n",
      "[refcm           ] [DEBUG   ] : optimization terminated w. status \"Optimal\"\n",
      "[matchings       ] [DEBUG   ] : \u001b[32m[+]\u001b[0m B cell               mapped to B cell              \n",
      "[matchings       ] [DEBUG   ] : \u001b[32m[+]\u001b[0m CD14+ monocyte       mapped to CD14+ monocyte      \n",
      "[matchings       ] [DEBUG   ] : \u001b[32m[+]\u001b[0m CD16+ monocyte       mapped to CD16+ monocyte      \n",
      "[matchings       ] [DEBUG   ] : \u001b[32m[+]\u001b[0m CD4+ T cell          mapped to CD4+ T cell         \n",
      "[matchings       ] [DEBUG   ] : \u001b[32m[+]\u001b[0m Cytotoxic T cell     mapped to Cytotoxic T cell    \n",
      "[matchings       ] [DEBUG   ] : \u001b[32m[+]\u001b[0m Megakaryocyte        mapped to Megakaryocyte       \n",
      "[matchings       ] [DEBUG   ] : \u001b[32m[+]\u001b[0m Natural killer cell  mapped to Natural killer cell \n",
      "[matchings       ] [INFO    ] : pbmc_CEL-Seq         to pbmc_Drop-Seq       \n",
      "[matchings       ] [INFO    ] : 7     common cell types\n",
      "[matchings       ] [INFO    ] : 7 /7  correct   links\n",
      "[matchings       ] [INFO    ] : 0     incorrect links\n"
     ]
    },
    {
     "data": {
      "application/vnd.plotly.v1+json": {
       "config": {
        "plotlyServerURL": "https://plot.ly"
       },
       "data": [
        {
         "coloraxis": "coloraxis",
         "hovertemplate": "Reference: pbmc_Drop-Seq: %{x}<br>Query: pbmc_CEL-Seq: %{y}<br>cost: %{z}<extra></extra>",
         "name": "0",
         "type": "heatmap",
         "x": [
          "B cell",
          "CD14+ monocyte",
          "CD16+ monocyte",
          "CD4+ T cell",
          "Cytotoxic T cell",
          "Dendritic cell",
          "Megakaryocyte",
          "Natural killer cell",
          "Plasmacytoid dendritic cell"
         ],
         "xaxis": "x",
         "y": [
          "B cell",
          "CD14+ monocyte",
          "CD16+ monocyte",
          "CD4+ T cell",
          "Cytotoxic T cell",
          "Megakaryocyte",
          "Natural killer cell"
         ],
         "yaxis": "y",
         "z": [
          [
           -57.51090237125948,
           -29.459293537414347,
           -35.396585055466545,
           -19.42036907292135,
           -20.412877824454593,
           -47.537069725641814,
           -10.801564073370093,
           -16.93970785693082,
           -28.10578167244446
          ],
          [
           -26.681767982564086,
           -92.70885414403499,
           -57.85317330577931,
           -21.943483263946437,
           -22.91624430963737,
           -65.22194191132294,
           -17.01158322958271,
           -18.115863879472215,
           -28.383918090663496
          ],
          [
           -32.31981192573748,
           -58.42913909191606,
           -114.09464385996101,
           -26.074665494406066,
           -28.726810276309166,
           -73.25752607483169,
           -19.289220859447,
           -23.821575189697587,
           -34.711258154005066
          ],
          [
           -19.131385437496327,
           -23.54447196769745,
           -28.12901035165277,
           -46.43609006123572,
           -21.44684324898023,
           -29.623296959435727,
           -12.38835363247408,
           -17.743855646271694,
           -16.740471443740592
          ],
          [
           -19.1693542568847,
           -23.236348889929577,
           -28.90405549659918,
           -20.516491277632163,
           -51.071884099682315,
           -28.18676521587704,
           -12.84025194679485,
           -18.126828795526016,
           -16.510267087251606
          ],
          [
           -9.742940316702228,
           -16.854418877771167,
           -18.897786522902695,
           -11.47457499533013,
           -12.525109395512587,
           -18.354593710847556,
           -77.07569253101815,
           -9.069042110180483,
           -10.63946650035674
          ],
          [
           -17.30871781778582,
           -19.623728630683775,
           -25.60180339735085,
           -17.688686245679886,
           -18.891157477696762,
           -31.77265454640429,
           -9.627969180481108,
           -34.426679559290356,
           -17.931069880513604
          ]
         ]
        },
        {
         "hovertemplate": "%{y} -> %{x}",
         "marker": {
          "color": [
           "green",
           "green",
           "green",
           "green",
           "green",
           "green",
           "green"
          ],
          "size": 5
         },
         "mode": "markers",
         "name": "",
         "type": "scatter",
         "x": [
          "B cell",
          "CD14+ monocyte",
          "CD16+ monocyte",
          "CD4+ T cell",
          "Cytotoxic T cell",
          "Megakaryocyte",
          "Natural killer cell"
         ],
         "y": [
          "B cell",
          "CD14+ monocyte",
          "CD16+ monocyte",
          "CD4+ T cell",
          "Cytotoxic T cell",
          "Megakaryocyte",
          "Natural killer cell"
         ]
        }
       ],
       "layout": {
        "coloraxis": {
         "colorbar": {
          "title": {
           "text": "cost"
          }
         },
         "colorscale": [
          [
           0,
           "rgb(75, 41, 145)"
          ],
          [
           0.16666666666666666,
           "rgb(135, 44, 162)"
          ],
          [
           0.3333333333333333,
           "rgb(192, 54, 157)"
          ],
          [
           0.5,
           "rgb(234, 79, 136)"
          ],
          [
           0.6666666666666666,
           "rgb(250, 120, 118)"
          ],
          [
           0.8333333333333334,
           "rgb(246, 169, 122)"
          ],
          [
           1,
           "rgb(237, 217, 163)"
          ]
         ]
        },
        "template": {
         "data": {
          "bar": [
           {
            "error_x": {
             "color": "#2a3f5f"
            },
            "error_y": {
             "color": "#2a3f5f"
            },
            "marker": {
             "line": {
              "color": "#E5ECF6",
              "width": 0.5
             },
             "pattern": {
              "fillmode": "overlay",
              "size": 10,
              "solidity": 0.2
             }
            },
            "type": "bar"
           }
          ],
          "barpolar": [
           {
            "marker": {
             "line": {
              "color": "#E5ECF6",
              "width": 0.5
             },
             "pattern": {
              "fillmode": "overlay",
              "size": 10,
              "solidity": 0.2
             }
            },
            "type": "barpolar"
           }
          ],
          "carpet": [
           {
            "aaxis": {
             "endlinecolor": "#2a3f5f",
             "gridcolor": "white",
             "linecolor": "white",
             "minorgridcolor": "white",
             "startlinecolor": "#2a3f5f"
            },
            "baxis": {
             "endlinecolor": "#2a3f5f",
             "gridcolor": "white",
             "linecolor": "white",
             "minorgridcolor": "white",
             "startlinecolor": "#2a3f5f"
            },
            "type": "carpet"
           }
          ],
          "choropleth": [
           {
            "colorbar": {
             "outlinewidth": 0,
             "ticks": ""
            },
            "type": "choropleth"
           }
          ],
          "contour": [
           {
            "colorbar": {
             "outlinewidth": 0,
             "ticks": ""
            },
            "colorscale": [
             [
              0,
              "#0d0887"
             ],
             [
              0.1111111111111111,
              "#46039f"
             ],
             [
              0.2222222222222222,
              "#7201a8"
             ],
             [
              0.3333333333333333,
              "#9c179e"
             ],
             [
              0.4444444444444444,
              "#bd3786"
             ],
             [
              0.5555555555555556,
              "#d8576b"
             ],
             [
              0.6666666666666666,
              "#ed7953"
             ],
             [
              0.7777777777777778,
              "#fb9f3a"
             ],
             [
              0.8888888888888888,
              "#fdca26"
             ],
             [
              1,
              "#f0f921"
             ]
            ],
            "type": "contour"
           }
          ],
          "contourcarpet": [
           {
            "colorbar": {
             "outlinewidth": 0,
             "ticks": ""
            },
            "type": "contourcarpet"
           }
          ],
          "heatmap": [
           {
            "colorbar": {
             "outlinewidth": 0,
             "ticks": ""
            },
            "colorscale": [
             [
              0,
              "#0d0887"
             ],
             [
              0.1111111111111111,
              "#46039f"
             ],
             [
              0.2222222222222222,
              "#7201a8"
             ],
             [
              0.3333333333333333,
              "#9c179e"
             ],
             [
              0.4444444444444444,
              "#bd3786"
             ],
             [
              0.5555555555555556,
              "#d8576b"
             ],
             [
              0.6666666666666666,
              "#ed7953"
             ],
             [
              0.7777777777777778,
              "#fb9f3a"
             ],
             [
              0.8888888888888888,
              "#fdca26"
             ],
             [
              1,
              "#f0f921"
             ]
            ],
            "type": "heatmap"
           }
          ],
          "heatmapgl": [
           {
            "colorbar": {
             "outlinewidth": 0,
             "ticks": ""
            },
            "colorscale": [
             [
              0,
              "#0d0887"
             ],
             [
              0.1111111111111111,
              "#46039f"
             ],
             [
              0.2222222222222222,
              "#7201a8"
             ],
             [
              0.3333333333333333,
              "#9c179e"
             ],
             [
              0.4444444444444444,
              "#bd3786"
             ],
             [
              0.5555555555555556,
              "#d8576b"
             ],
             [
              0.6666666666666666,
              "#ed7953"
             ],
             [
              0.7777777777777778,
              "#fb9f3a"
             ],
             [
              0.8888888888888888,
              "#fdca26"
             ],
             [
              1,
              "#f0f921"
             ]
            ],
            "type": "heatmapgl"
           }
          ],
          "histogram": [
           {
            "marker": {
             "pattern": {
              "fillmode": "overlay",
              "size": 10,
              "solidity": 0.2
             }
            },
            "type": "histogram"
           }
          ],
          "histogram2d": [
           {
            "colorbar": {
             "outlinewidth": 0,
             "ticks": ""
            },
            "colorscale": [
             [
              0,
              "#0d0887"
             ],
             [
              0.1111111111111111,
              "#46039f"
             ],
             [
              0.2222222222222222,
              "#7201a8"
             ],
             [
              0.3333333333333333,
              "#9c179e"
             ],
             [
              0.4444444444444444,
              "#bd3786"
             ],
             [
              0.5555555555555556,
              "#d8576b"
             ],
             [
              0.6666666666666666,
              "#ed7953"
             ],
             [
              0.7777777777777778,
              "#fb9f3a"
             ],
             [
              0.8888888888888888,
              "#fdca26"
             ],
             [
              1,
              "#f0f921"
             ]
            ],
            "type": "histogram2d"
           }
          ],
          "histogram2dcontour": [
           {
            "colorbar": {
             "outlinewidth": 0,
             "ticks": ""
            },
            "colorscale": [
             [
              0,
              "#0d0887"
             ],
             [
              0.1111111111111111,
              "#46039f"
             ],
             [
              0.2222222222222222,
              "#7201a8"
             ],
             [
              0.3333333333333333,
              "#9c179e"
             ],
             [
              0.4444444444444444,
              "#bd3786"
             ],
             [
              0.5555555555555556,
              "#d8576b"
             ],
             [
              0.6666666666666666,
              "#ed7953"
             ],
             [
              0.7777777777777778,
              "#fb9f3a"
             ],
             [
              0.8888888888888888,
              "#fdca26"
             ],
             [
              1,
              "#f0f921"
             ]
            ],
            "type": "histogram2dcontour"
           }
          ],
          "mesh3d": [
           {
            "colorbar": {
             "outlinewidth": 0,
             "ticks": ""
            },
            "type": "mesh3d"
           }
          ],
          "parcoords": [
           {
            "line": {
             "colorbar": {
              "outlinewidth": 0,
              "ticks": ""
             }
            },
            "type": "parcoords"
           }
          ],
          "pie": [
           {
            "automargin": true,
            "type": "pie"
           }
          ],
          "scatter": [
           {
            "fillpattern": {
             "fillmode": "overlay",
             "size": 10,
             "solidity": 0.2
            },
            "type": "scatter"
           }
          ],
          "scatter3d": [
           {
            "line": {
             "colorbar": {
              "outlinewidth": 0,
              "ticks": ""
             }
            },
            "marker": {
             "colorbar": {
              "outlinewidth": 0,
              "ticks": ""
             }
            },
            "type": "scatter3d"
           }
          ],
          "scattercarpet": [
           {
            "marker": {
             "colorbar": {
              "outlinewidth": 0,
              "ticks": ""
             }
            },
            "type": "scattercarpet"
           }
          ],
          "scattergeo": [
           {
            "marker": {
             "colorbar": {
              "outlinewidth": 0,
              "ticks": ""
             }
            },
            "type": "scattergeo"
           }
          ],
          "scattergl": [
           {
            "marker": {
             "colorbar": {
              "outlinewidth": 0,
              "ticks": ""
             }
            },
            "type": "scattergl"
           }
          ],
          "scattermapbox": [
           {
            "marker": {
             "colorbar": {
              "outlinewidth": 0,
              "ticks": ""
             }
            },
            "type": "scattermapbox"
           }
          ],
          "scatterpolar": [
           {
            "marker": {
             "colorbar": {
              "outlinewidth": 0,
              "ticks": ""
             }
            },
            "type": "scatterpolar"
           }
          ],
          "scatterpolargl": [
           {
            "marker": {
             "colorbar": {
              "outlinewidth": 0,
              "ticks": ""
             }
            },
            "type": "scatterpolargl"
           }
          ],
          "scatterternary": [
           {
            "marker": {
             "colorbar": {
              "outlinewidth": 0,
              "ticks": ""
             }
            },
            "type": "scatterternary"
           }
          ],
          "surface": [
           {
            "colorbar": {
             "outlinewidth": 0,
             "ticks": ""
            },
            "colorscale": [
             [
              0,
              "#0d0887"
             ],
             [
              0.1111111111111111,
              "#46039f"
             ],
             [
              0.2222222222222222,
              "#7201a8"
             ],
             [
              0.3333333333333333,
              "#9c179e"
             ],
             [
              0.4444444444444444,
              "#bd3786"
             ],
             [
              0.5555555555555556,
              "#d8576b"
             ],
             [
              0.6666666666666666,
              "#ed7953"
             ],
             [
              0.7777777777777778,
              "#fb9f3a"
             ],
             [
              0.8888888888888888,
              "#fdca26"
             ],
             [
              1,
              "#f0f921"
             ]
            ],
            "type": "surface"
           }
          ],
          "table": [
           {
            "cells": {
             "fill": {
              "color": "#EBF0F8"
             },
             "line": {
              "color": "white"
             }
            },
            "header": {
             "fill": {
              "color": "#C8D4E3"
             },
             "line": {
              "color": "white"
             }
            },
            "type": "table"
           }
          ]
         },
         "layout": {
          "annotationdefaults": {
           "arrowcolor": "#2a3f5f",
           "arrowhead": 0,
           "arrowwidth": 1
          },
          "autotypenumbers": "strict",
          "coloraxis": {
           "colorbar": {
            "outlinewidth": 0,
            "ticks": ""
           }
          },
          "colorscale": {
           "diverging": [
            [
             0,
             "#8e0152"
            ],
            [
             0.1,
             "#c51b7d"
            ],
            [
             0.2,
             "#de77ae"
            ],
            [
             0.3,
             "#f1b6da"
            ],
            [
             0.4,
             "#fde0ef"
            ],
            [
             0.5,
             "#f7f7f7"
            ],
            [
             0.6,
             "#e6f5d0"
            ],
            [
             0.7,
             "#b8e186"
            ],
            [
             0.8,
             "#7fbc41"
            ],
            [
             0.9,
             "#4d9221"
            ],
            [
             1,
             "#276419"
            ]
           ],
           "sequential": [
            [
             0,
             "#0d0887"
            ],
            [
             0.1111111111111111,
             "#46039f"
            ],
            [
             0.2222222222222222,
             "#7201a8"
            ],
            [
             0.3333333333333333,
             "#9c179e"
            ],
            [
             0.4444444444444444,
             "#bd3786"
            ],
            [
             0.5555555555555556,
             "#d8576b"
            ],
            [
             0.6666666666666666,
             "#ed7953"
            ],
            [
             0.7777777777777778,
             "#fb9f3a"
            ],
            [
             0.8888888888888888,
             "#fdca26"
            ],
            [
             1,
             "#f0f921"
            ]
           ],
           "sequentialminus": [
            [
             0,
             "#0d0887"
            ],
            [
             0.1111111111111111,
             "#46039f"
            ],
            [
             0.2222222222222222,
             "#7201a8"
            ],
            [
             0.3333333333333333,
             "#9c179e"
            ],
            [
             0.4444444444444444,
             "#bd3786"
            ],
            [
             0.5555555555555556,
             "#d8576b"
            ],
            [
             0.6666666666666666,
             "#ed7953"
            ],
            [
             0.7777777777777778,
             "#fb9f3a"
            ],
            [
             0.8888888888888888,
             "#fdca26"
            ],
            [
             1,
             "#f0f921"
            ]
           ]
          },
          "colorway": [
           "#636efa",
           "#EF553B",
           "#00cc96",
           "#ab63fa",
           "#FFA15A",
           "#19d3f3",
           "#FF6692",
           "#B6E880",
           "#FF97FF",
           "#FECB52"
          ],
          "font": {
           "color": "#2a3f5f"
          },
          "geo": {
           "bgcolor": "white",
           "lakecolor": "white",
           "landcolor": "#E5ECF6",
           "showlakes": true,
           "showland": true,
           "subunitcolor": "white"
          },
          "hoverlabel": {
           "align": "left"
          },
          "hovermode": "closest",
          "mapbox": {
           "style": "light"
          },
          "paper_bgcolor": "white",
          "plot_bgcolor": "#E5ECF6",
          "polar": {
           "angularaxis": {
            "gridcolor": "white",
            "linecolor": "white",
            "ticks": ""
           },
           "bgcolor": "#E5ECF6",
           "radialaxis": {
            "gridcolor": "white",
            "linecolor": "white",
            "ticks": ""
           }
          },
          "scene": {
           "xaxis": {
            "backgroundcolor": "#E5ECF6",
            "gridcolor": "white",
            "gridwidth": 2,
            "linecolor": "white",
            "showbackground": true,
            "ticks": "",
            "zerolinecolor": "white"
           },
           "yaxis": {
            "backgroundcolor": "#E5ECF6",
            "gridcolor": "white",
            "gridwidth": 2,
            "linecolor": "white",
            "showbackground": true,
            "ticks": "",
            "zerolinecolor": "white"
           },
           "zaxis": {
            "backgroundcolor": "#E5ECF6",
            "gridcolor": "white",
            "gridwidth": 2,
            "linecolor": "white",
            "showbackground": true,
            "ticks": "",
            "zerolinecolor": "white"
           }
          },
          "shapedefaults": {
           "line": {
            "color": "#2a3f5f"
           }
          },
          "ternary": {
           "aaxis": {
            "gridcolor": "white",
            "linecolor": "white",
            "ticks": ""
           },
           "baxis": {
            "gridcolor": "white",
            "linecolor": "white",
            "ticks": ""
           },
           "bgcolor": "#E5ECF6",
           "caxis": {
            "gridcolor": "white",
            "linecolor": "white",
            "ticks": ""
           }
          },
          "title": {
           "x": 0.05
          },
          "xaxis": {
           "automargin": true,
           "gridcolor": "white",
           "linecolor": "white",
           "ticks": "",
           "title": {
            "standoff": 15
           },
           "zerolinecolor": "white",
           "zerolinewidth": 2
          },
          "yaxis": {
           "automargin": true,
           "gridcolor": "white",
           "linecolor": "white",
           "ticks": "",
           "title": {
            "standoff": 15
           },
           "zerolinecolor": "white",
           "zerolinewidth": 2
          }
         }
        },
        "title": {
         "text": "pbmc_CEL-Seq to pbmc_Drop-Seq matching cost"
        },
        "xaxis": {
         "anchor": "y",
         "constrain": "domain",
         "domain": [
          0,
          1
         ],
         "scaleanchor": "y",
         "tickangle": -45,
         "title": {
          "text": "Reference: pbmc_Drop-Seq"
         }
        },
        "yaxis": {
         "anchor": "x",
         "autorange": "reversed",
         "constrain": "domain",
         "domain": [
          0,
          1
         ],
         "title": {
          "text": "Query: pbmc_CEL-Seq"
         }
        }
       }
      }
     },
     "metadata": {},
     "output_type": "display_data"
    }
   ],
   "source": [
    "q, ref = 'pbmc_CEL-Seq', 'pbmc_Drop-Seq'\n",
    "\n",
    "rcm = RefCM()\n",
    "m = rcm.annotate(ds[q], q, ds[ref], ref, 'labels', 'labels')\n",
    "m.eval('labels')\n",
    "m.display_matching_costs('labels')"
   ]
  },
  {
   "cell_type": "code",
   "execution_count": 4,
   "metadata": {},
   "outputs": [
    {
     "name": "stderr",
     "output_type": "stream",
     "text": [
      "[refcm           ] [INFO    ] : NOTE: raw counts expected in anndata .X attributes.\n",
      "[refcm           ] [DEBUG   ] : Loading cached mapping costs from cache.json.\n",
      "[refcm           ] [DEBUG   ] : Using costs for pbmc_10Xv2->pbmc_10Xv3 found in cache.\n",
      "[refcm           ] [DEBUG   ] : starting LP optimization\n",
      "[refcm           ] [DEBUG   ] : optimization terminated w. status \"Optimal\"\n",
      "[matchings       ] [DEBUG   ] : \u001b[32m[+]\u001b[0m B cell               mapped to B cell              \n",
      "[matchings       ] [DEBUG   ] : \u001b[32m[+]\u001b[0m CD14+ monocyte       mapped to CD14+ monocyte      \n",
      "[matchings       ] [DEBUG   ] : \u001b[32m[+]\u001b[0m CD16+ monocyte       mapped to CD16+ monocyte      \n",
      "[matchings       ] [DEBUG   ] : \u001b[32m[+]\u001b[0m CD4+ T cell          mapped to CD4+ T cell         \n",
      "[matchings       ] [DEBUG   ] : \u001b[32m[+]\u001b[0m Cytotoxic T cell     mapped to Cytotoxic T cell    \n",
      "[matchings       ] [DEBUG   ] : \u001b[32m[+]\u001b[0m Dendritic cell       mapped to Dendritic cell      \n",
      "[matchings       ] [DEBUG   ] : \u001b[32m[+]\u001b[0m Megakaryocyte        mapped to Megakaryocyte       \n",
      "[matchings       ] [DEBUG   ] : \u001b[32m[+]\u001b[0m Natural killer cell  mapped to Natural killer cell \n",
      "[matchings       ] [INFO    ] : pbmc_10Xv2           to pbmc_10Xv3          \n",
      "[matchings       ] [INFO    ] : 8     common cell types\n",
      "[matchings       ] [INFO    ] : 8 /8  correct   links\n",
      "[matchings       ] [INFO    ] : 0     incorrect links\n",
      "[refcm           ] [DEBUG   ] : Using costs for pbmc_10Xv2->pbmc_CEL-Seq found in cache.\n",
      "[refcm           ] [DEBUG   ] : starting LP optimization\n",
      "[refcm           ] [DEBUG   ] : optimization terminated w. status \"Optimal\"\n",
      "[matchings       ] [DEBUG   ] : \u001b[32m[+]\u001b[0m B cell               mapped to B cell              \n",
      "[matchings       ] [DEBUG   ] : \u001b[32m[+]\u001b[0m CD14+ monocyte       mapped to CD14+ monocyte      \n",
      "[matchings       ] [DEBUG   ] : \u001b[32m[+]\u001b[0m CD16+ monocyte       mapped to CD16+ monocyte      \n",
      "[matchings       ] [DEBUG   ] : \u001b[32m[+]\u001b[0m CD4+ T cell          mapped to CD4+ T cell         \n",
      "[matchings       ] [DEBUG   ] : \u001b[32m[+]\u001b[0m Cytotoxic T cell     mapped to Cytotoxic T cell    \n",
      "[matchings       ] [DEBUG   ] : \u001b[31m[-]\u001b[0m Dendritic cell       mapped to Natural killer cell \n",
      "[matchings       ] [DEBUG   ] : \u001b[32m[+]\u001b[0m Megakaryocyte        mapped to Megakaryocyte       \n",
      "[matchings       ] [INFO    ] : pbmc_10Xv2           to pbmc_CEL-Seq        \n",
      "[matchings       ] [INFO    ] : 7     common cell types\n",
      "[matchings       ] [INFO    ] : 6 /7  correct   links\n",
      "[matchings       ] [INFO    ] : 1     incorrect links\n",
      "[refcm           ] [DEBUG   ] : Using costs for pbmc_10Xv2->pbmc_Drop-Seq found in cache.\n",
      "[refcm           ] [DEBUG   ] : starting LP optimization\n",
      "[refcm           ] [DEBUG   ] : optimization terminated w. status \"Optimal\"\n",
      "[matchings       ] [DEBUG   ] : \u001b[32m[+]\u001b[0m B cell               mapped to B cell              \n",
      "[matchings       ] [DEBUG   ] : \u001b[32m[+]\u001b[0m CD14+ monocyte       mapped to CD14+ monocyte      \n",
      "[matchings       ] [DEBUG   ] : \u001b[32m[+]\u001b[0m CD16+ monocyte       mapped to CD16+ monocyte      \n",
      "[matchings       ] [DEBUG   ] : \u001b[32m[+]\u001b[0m CD4+ T cell          mapped to CD4+ T cell         \n",
      "[matchings       ] [DEBUG   ] : \u001b[32m[+]\u001b[0m Cytotoxic T cell     mapped to Cytotoxic T cell    \n",
      "[matchings       ] [DEBUG   ] : \u001b[32m[+]\u001b[0m Dendritic cell       mapped to Dendritic cell      \n",
      "[matchings       ] [DEBUG   ] : \u001b[32m[+]\u001b[0m Megakaryocyte        mapped to Megakaryocyte       \n",
      "[matchings       ] [DEBUG   ] : \u001b[32m[+]\u001b[0m Natural killer cell  mapped to Natural killer cell \n",
      "[matchings       ] [DEBUG   ] : \u001b[32m[+]\u001b[0m Plasmacytoid dendritic cell mapped to Plasmacytoid dendritic cell\n",
      "[matchings       ] [INFO    ] : pbmc_10Xv2           to pbmc_Drop-Seq       \n",
      "[matchings       ] [INFO    ] : 9     common cell types\n",
      "[matchings       ] [INFO    ] : 9 /9  correct   links\n",
      "[matchings       ] [INFO    ] : 0     incorrect links\n",
      "[refcm           ] [DEBUG   ] : Using costs for pbmc_10Xv2->pbmc_inDrop found in cache.\n",
      "[refcm           ] [DEBUG   ] : starting LP optimization\n",
      "[refcm           ] [DEBUG   ] : optimization terminated w. status \"Optimal\"\n",
      "[matchings       ] [DEBUG   ] : \u001b[32m[+]\u001b[0m B cell               mapped to B cell              \n",
      "[matchings       ] [DEBUG   ] : \u001b[32m[+]\u001b[0m CD14+ monocyte       mapped to CD14+ monocyte      \n",
      "[matchings       ] [DEBUG   ] : \u001b[32m[+]\u001b[0m CD16+ monocyte       mapped to CD16+ monocyte      \n",
      "[matchings       ] [DEBUG   ] : \u001b[32m[+]\u001b[0m CD4+ T cell          mapped to CD4+ T cell         \n",
      "[matchings       ] [DEBUG   ] : \u001b[32m[+]\u001b[0m Cytotoxic T cell     mapped to Cytotoxic T cell    \n",
      "[matchings       ] [DEBUG   ] : \u001b[32m[+]\u001b[0m Megakaryocyte        mapped to Megakaryocyte       \n",
      "[matchings       ] [DEBUG   ] : \u001b[32m[+]\u001b[0m Plasmacytoid dendritic cell mapped to Plasmacytoid dendritic cell\n",
      "[matchings       ] [INFO    ] : pbmc_10Xv2           to pbmc_inDrop         \n",
      "[matchings       ] [INFO    ] : 7     common cell types\n",
      "[matchings       ] [INFO    ] : 7 /7  correct   links\n",
      "[matchings       ] [INFO    ] : 0     incorrect links\n",
      "[refcm           ] [DEBUG   ] : Using costs for pbmc_10Xv2->pbmc_Seq-Well found in cache.\n",
      "[refcm           ] [DEBUG   ] : starting LP optimization\n",
      "[refcm           ] [DEBUG   ] : optimization terminated w. status \"Optimal\"\n",
      "[matchings       ] [DEBUG   ] : \u001b[32m[+]\u001b[0m B cell               mapped to B cell              \n",
      "[matchings       ] [DEBUG   ] : \u001b[32m[+]\u001b[0m CD14+ monocyte       mapped to CD14+ monocyte      \n",
      "[matchings       ] [DEBUG   ] : \u001b[32m[+]\u001b[0m CD4+ T cell          mapped to CD4+ T cell         \n",
      "[matchings       ] [DEBUG   ] : \u001b[32m[+]\u001b[0m Cytotoxic T cell     mapped to Cytotoxic T cell    \n",
      "[matchings       ] [DEBUG   ] : \u001b[32m[+]\u001b[0m Dendritic cell       mapped to Dendritic cell      \n",
      "[matchings       ] [DEBUG   ] : \u001b[32m[+]\u001b[0m Megakaryocyte        mapped to Megakaryocyte       \n",
      "[matchings       ] [DEBUG   ] : \u001b[32m[+]\u001b[0m Plasmacytoid dendritic cell mapped to Plasmacytoid dendritic cell\n",
      "[matchings       ] [INFO    ] : pbmc_10Xv2           to pbmc_Seq-Well       \n",
      "[matchings       ] [INFO    ] : 7     common cell types\n",
      "[matchings       ] [INFO    ] : 7 /7  correct   links\n",
      "[matchings       ] [INFO    ] : 0     incorrect links\n",
      "[refcm           ] [DEBUG   ] : Using costs for pbmc_10Xv2->pbmc_Smart-Seq2 found in cache.\n",
      "[refcm           ] [DEBUG   ] : starting LP optimization\n",
      "[refcm           ] [DEBUG   ] : optimization terminated w. status \"Optimal\"\n",
      "[matchings       ] [DEBUG   ] : \u001b[32m[+]\u001b[0m B cell               mapped to B cell              \n",
      "[matchings       ] [DEBUG   ] : \u001b[32m[+]\u001b[0m CD14+ monocyte       mapped to CD14+ monocyte      \n",
      "[matchings       ] [DEBUG   ] : \u001b[32m[+]\u001b[0m CD16+ monocyte       mapped to CD16+ monocyte      \n",
      "[matchings       ] [DEBUG   ] : \u001b[32m[+]\u001b[0m CD4+ T cell          mapped to CD4+ T cell         \n",
      "[matchings       ] [DEBUG   ] : \u001b[32m[+]\u001b[0m Cytotoxic T cell     mapped to Cytotoxic T cell    \n",
      "[matchings       ] [DEBUG   ] : \u001b[32m[+]\u001b[0m Megakaryocyte        mapped to Megakaryocyte       \n",
      "[matchings       ] [INFO    ] : pbmc_10Xv2           to pbmc_Smart-Seq2     \n",
      "[matchings       ] [INFO    ] : 6     common cell types\n",
      "[matchings       ] [INFO    ] : 6 /6  correct   links\n",
      "[matchings       ] [INFO    ] : 0     incorrect links\n",
      "[refcm           ] [DEBUG   ] : Using costs for pbmc_10Xv3->pbmc_10Xv2 found in cache.\n",
      "[refcm           ] [DEBUG   ] : starting LP optimization\n",
      "[refcm           ] [DEBUG   ] : optimization terminated w. status \"Optimal\"\n",
      "[matchings       ] [DEBUG   ] : \u001b[32m[+]\u001b[0m B cell               mapped to B cell              \n",
      "[matchings       ] [DEBUG   ] : \u001b[32m[+]\u001b[0m CD14+ monocyte       mapped to CD14+ monocyte      \n",
      "[matchings       ] [DEBUG   ] : \u001b[32m[+]\u001b[0m CD16+ monocyte       mapped to CD16+ monocyte      \n",
      "[matchings       ] [DEBUG   ] : \u001b[32m[+]\u001b[0m CD4+ T cell          mapped to CD4+ T cell         \n",
      "[matchings       ] [DEBUG   ] : \u001b[32m[+]\u001b[0m Cytotoxic T cell     mapped to Cytotoxic T cell    \n",
      "[matchings       ] [DEBUG   ] : \u001b[32m[+]\u001b[0m Dendritic cell       mapped to Dendritic cell      \n",
      "[matchings       ] [DEBUG   ] : \u001b[32m[+]\u001b[0m Megakaryocyte        mapped to Megakaryocyte       \n",
      "[matchings       ] [DEBUG   ] : \u001b[32m[+]\u001b[0m Natural killer cell  mapped to Natural killer cell \n",
      "[matchings       ] [INFO    ] : pbmc_10Xv3           to pbmc_10Xv2          \n",
      "[matchings       ] [INFO    ] : 8     common cell types\n",
      "[matchings       ] [INFO    ] : 8 /8  correct   links\n",
      "[matchings       ] [INFO    ] : 0     incorrect links\n",
      "[refcm           ] [DEBUG   ] : Using costs for pbmc_10Xv3->pbmc_CEL-Seq found in cache.\n",
      "[refcm           ] [DEBUG   ] : starting LP optimization\n",
      "[refcm           ] [DEBUG   ] : optimization terminated w. status \"Optimal\"\n",
      "[matchings       ] [DEBUG   ] : \u001b[32m[+]\u001b[0m B cell               mapped to B cell              \n",
      "[matchings       ] [DEBUG   ] : \u001b[32m[+]\u001b[0m CD14+ monocyte       mapped to CD14+ monocyte      \n",
      "[matchings       ] [DEBUG   ] : \u001b[32m[+]\u001b[0m CD16+ monocyte       mapped to CD16+ monocyte      \n",
      "[matchings       ] [DEBUG   ] : \u001b[32m[+]\u001b[0m CD4+ T cell          mapped to CD4+ T cell         \n",
      "[matchings       ] [DEBUG   ] : \u001b[32m[+]\u001b[0m Cytotoxic T cell     mapped to Cytotoxic T cell    \n",
      "[matchings       ] [DEBUG   ] : \u001b[32m[+]\u001b[0m Megakaryocyte        mapped to Megakaryocyte       \n",
      "[matchings       ] [DEBUG   ] : \u001b[32m[+]\u001b[0m Natural killer cell  mapped to Natural killer cell \n",
      "[matchings       ] [INFO    ] : pbmc_10Xv3           to pbmc_CEL-Seq        \n",
      "[matchings       ] [INFO    ] : 7     common cell types\n",
      "[matchings       ] [INFO    ] : 7 /7  correct   links\n",
      "[matchings       ] [INFO    ] : 0     incorrect links\n",
      "[refcm           ] [DEBUG   ] : Using costs for pbmc_10Xv3->pbmc_Drop-Seq found in cache.\n",
      "[refcm           ] [DEBUG   ] : starting LP optimization\n",
      "[refcm           ] [DEBUG   ] : optimization terminated w. status \"Optimal\"\n",
      "[matchings       ] [DEBUG   ] : \u001b[32m[+]\u001b[0m B cell               mapped to B cell              \n",
      "[matchings       ] [DEBUG   ] : \u001b[32m[+]\u001b[0m CD14+ monocyte       mapped to CD14+ monocyte      \n",
      "[matchings       ] [DEBUG   ] : \u001b[32m[+]\u001b[0m CD16+ monocyte       mapped to CD16+ monocyte      \n",
      "[matchings       ] [DEBUG   ] : \u001b[32m[+]\u001b[0m CD4+ T cell          mapped to CD4+ T cell         \n",
      "[matchings       ] [DEBUG   ] : \u001b[32m[+]\u001b[0m Cytotoxic T cell     mapped to Cytotoxic T cell    \n",
      "[matchings       ] [DEBUG   ] : \u001b[32m[+]\u001b[0m Dendritic cell       mapped to Dendritic cell      \n",
      "[matchings       ] [DEBUG   ] : \u001b[32m[+]\u001b[0m Megakaryocyte        mapped to Megakaryocyte       \n",
      "[matchings       ] [DEBUG   ] : \u001b[32m[+]\u001b[0m Natural killer cell  mapped to Natural killer cell \n",
      "[matchings       ] [INFO    ] : pbmc_10Xv3           to pbmc_Drop-Seq       \n",
      "[matchings       ] [INFO    ] : 8     common cell types\n",
      "[matchings       ] [INFO    ] : 8 /8  correct   links\n",
      "[matchings       ] [INFO    ] : 0     incorrect links\n",
      "[refcm           ] [DEBUG   ] : Using costs for pbmc_10Xv3->pbmc_inDrop found in cache.\n",
      "[refcm           ] [DEBUG   ] : starting LP optimization\n",
      "[refcm           ] [DEBUG   ] : optimization terminated w. status \"Optimal\"\n",
      "[matchings       ] [DEBUG   ] : \u001b[32m[+]\u001b[0m B cell               mapped to B cell              \n",
      "[matchings       ] [DEBUG   ] : \u001b[32m[+]\u001b[0m CD14+ monocyte       mapped to CD14+ monocyte      \n",
      "[matchings       ] [DEBUG   ] : \u001b[32m[+]\u001b[0m CD16+ monocyte       mapped to CD16+ monocyte      \n",
      "[matchings       ] [DEBUG   ] : \u001b[32m[+]\u001b[0m CD4+ T cell          mapped to CD4+ T cell         \n",
      "[matchings       ] [DEBUG   ] : \u001b[32m[+]\u001b[0m Cytotoxic T cell     mapped to Cytotoxic T cell    \n",
      "[matchings       ] [DEBUG   ] : \u001b[31m[-]\u001b[0m Dendritic cell       mapped to Plasmacytoid dendritic cell\n",
      "[matchings       ] [DEBUG   ] : \u001b[32m[+]\u001b[0m Megakaryocyte        mapped to Megakaryocyte       \n",
      "[matchings       ] [INFO    ] : pbmc_10Xv3           to pbmc_inDrop         \n",
      "[matchings       ] [INFO    ] : 6     common cell types\n",
      "[matchings       ] [INFO    ] : 6 /6  correct   links\n",
      "[matchings       ] [INFO    ] : 1     incorrect links\n",
      "[refcm           ] [DEBUG   ] : Using costs for pbmc_10Xv3->pbmc_Seq-Well found in cache.\n",
      "[refcm           ] [DEBUG   ] : starting LP optimization\n",
      "[refcm           ] [DEBUG   ] : optimization terminated w. status \"Optimal\"\n",
      "[matchings       ] [DEBUG   ] : \u001b[32m[+]\u001b[0m B cell               mapped to B cell              \n",
      "[matchings       ] [DEBUG   ] : \u001b[32m[+]\u001b[0m CD14+ monocyte       mapped to CD14+ monocyte      \n",
      "[matchings       ] [DEBUG   ] : \u001b[32m[+]\u001b[0m CD4+ T cell          mapped to CD4+ T cell         \n",
      "[matchings       ] [DEBUG   ] : \u001b[32m[+]\u001b[0m Cytotoxic T cell     mapped to Cytotoxic T cell    \n",
      "[matchings       ] [DEBUG   ] : \u001b[32m[+]\u001b[0m Dendritic cell       mapped to Dendritic cell      \n",
      "[matchings       ] [DEBUG   ] : \u001b[32m[+]\u001b[0m Megakaryocyte        mapped to Megakaryocyte       \n",
      "[matchings       ] [INFO    ] : pbmc_10Xv3           to pbmc_Seq-Well       \n",
      "[matchings       ] [INFO    ] : 6     common cell types\n",
      "[matchings       ] [INFO    ] : 6 /6  correct   links\n",
      "[matchings       ] [INFO    ] : 0     incorrect links\n",
      "[refcm           ] [DEBUG   ] : Using costs for pbmc_10Xv3->pbmc_Smart-Seq2 found in cache.\n",
      "[refcm           ] [DEBUG   ] : starting LP optimization\n",
      "[refcm           ] [DEBUG   ] : optimization terminated w. status \"Optimal\"\n",
      "[matchings       ] [DEBUG   ] : \u001b[32m[+]\u001b[0m B cell               mapped to B cell              \n",
      "[matchings       ] [DEBUG   ] : \u001b[32m[+]\u001b[0m CD14+ monocyte       mapped to CD14+ monocyte      \n",
      "[matchings       ] [DEBUG   ] : \u001b[32m[+]\u001b[0m CD16+ monocyte       mapped to CD16+ monocyte      \n",
      "[matchings       ] [DEBUG   ] : \u001b[32m[+]\u001b[0m CD4+ T cell          mapped to CD4+ T cell         \n",
      "[matchings       ] [DEBUG   ] : \u001b[32m[+]\u001b[0m Cytotoxic T cell     mapped to Cytotoxic T cell    \n",
      "[matchings       ] [DEBUG   ] : \u001b[32m[+]\u001b[0m Megakaryocyte        mapped to Megakaryocyte       \n",
      "[matchings       ] [INFO    ] : pbmc_10Xv3           to pbmc_Smart-Seq2     \n",
      "[matchings       ] [INFO    ] : 6     common cell types\n",
      "[matchings       ] [INFO    ] : 6 /6  correct   links\n",
      "[matchings       ] [INFO    ] : 0     incorrect links\n",
      "[refcm           ] [DEBUG   ] : Using costs for pbmc_CEL-Seq->pbmc_10Xv2 found in cache.\n",
      "[refcm           ] [DEBUG   ] : starting LP optimization\n",
      "[refcm           ] [DEBUG   ] : optimization terminated w. status \"Optimal\"\n",
      "[matchings       ] [DEBUG   ] : \u001b[32m[+]\u001b[0m B cell               mapped to B cell              \n",
      "[matchings       ] [DEBUG   ] : \u001b[32m[+]\u001b[0m CD14+ monocyte       mapped to CD14+ monocyte      \n",
      "[matchings       ] [DEBUG   ] : \u001b[32m[+]\u001b[0m CD16+ monocyte       mapped to CD16+ monocyte      \n",
      "[matchings       ] [DEBUG   ] : \u001b[32m[+]\u001b[0m CD4+ T cell          mapped to CD4+ T cell         \n",
      "[matchings       ] [DEBUG   ] : \u001b[32m[+]\u001b[0m Cytotoxic T cell     mapped to Cytotoxic T cell    \n",
      "[matchings       ] [DEBUG   ] : \u001b[32m[+]\u001b[0m Megakaryocyte        mapped to Megakaryocyte       \n",
      "[matchings       ] [DEBUG   ] : \u001b[31m[-]\u001b[0m Natural killer cell  mapped to Dendritic cell      \n",
      "[matchings       ] [INFO    ] : pbmc_CEL-Seq         to pbmc_10Xv2          \n",
      "[matchings       ] [INFO    ] : 7     common cell types\n",
      "[matchings       ] [INFO    ] : 6 /7  correct   links\n",
      "[matchings       ] [INFO    ] : 1     incorrect links\n",
      "[refcm           ] [DEBUG   ] : Using costs for pbmc_CEL-Seq->pbmc_10Xv3 found in cache.\n",
      "[refcm           ] [DEBUG   ] : starting LP optimization\n",
      "[refcm           ] [DEBUG   ] : optimization terminated w. status \"Optimal\"\n",
      "[matchings       ] [DEBUG   ] : \u001b[32m[+]\u001b[0m B cell               mapped to B cell              \n",
      "[matchings       ] [DEBUG   ] : \u001b[32m[+]\u001b[0m CD14+ monocyte       mapped to CD14+ monocyte      \n",
      "[matchings       ] [DEBUG   ] : \u001b[32m[+]\u001b[0m CD16+ monocyte       mapped to CD16+ monocyte      \n",
      "[matchings       ] [DEBUG   ] : \u001b[32m[+]\u001b[0m CD4+ T cell          mapped to CD4+ T cell         \n",
      "[matchings       ] [DEBUG   ] : \u001b[32m[+]\u001b[0m Cytotoxic T cell     mapped to Cytotoxic T cell    \n",
      "[matchings       ] [DEBUG   ] : \u001b[32m[+]\u001b[0m Megakaryocyte        mapped to Megakaryocyte       \n",
      "[matchings       ] [DEBUG   ] : \u001b[32m[+]\u001b[0m Natural killer cell  mapped to Natural killer cell \n",
      "[matchings       ] [INFO    ] : pbmc_CEL-Seq         to pbmc_10Xv3          \n",
      "[matchings       ] [INFO    ] : 7     common cell types\n",
      "[matchings       ] [INFO    ] : 7 /7  correct   links\n",
      "[matchings       ] [INFO    ] : 0     incorrect links\n",
      "[refcm           ] [DEBUG   ] : Using costs for pbmc_CEL-Seq->pbmc_Drop-Seq found in cache.\n",
      "[refcm           ] [DEBUG   ] : starting LP optimization\n",
      "[refcm           ] [DEBUG   ] : optimization terminated w. status \"Optimal\"\n",
      "[matchings       ] [DEBUG   ] : \u001b[32m[+]\u001b[0m B cell               mapped to B cell              \n",
      "[matchings       ] [DEBUG   ] : \u001b[32m[+]\u001b[0m CD14+ monocyte       mapped to CD14+ monocyte      \n",
      "[matchings       ] [DEBUG   ] : \u001b[32m[+]\u001b[0m CD16+ monocyte       mapped to CD16+ monocyte      \n",
      "[matchings       ] [DEBUG   ] : \u001b[32m[+]\u001b[0m CD4+ T cell          mapped to CD4+ T cell         \n",
      "[matchings       ] [DEBUG   ] : \u001b[32m[+]\u001b[0m Cytotoxic T cell     mapped to Cytotoxic T cell    \n",
      "[matchings       ] [DEBUG   ] : \u001b[32m[+]\u001b[0m Megakaryocyte        mapped to Megakaryocyte       \n",
      "[matchings       ] [DEBUG   ] : \u001b[32m[+]\u001b[0m Natural killer cell  mapped to Natural killer cell \n",
      "[matchings       ] [INFO    ] : pbmc_CEL-Seq         to pbmc_Drop-Seq       \n",
      "[matchings       ] [INFO    ] : 7     common cell types\n",
      "[matchings       ] [INFO    ] : 7 /7  correct   links\n",
      "[matchings       ] [INFO    ] : 0     incorrect links\n",
      "[refcm           ] [DEBUG   ] : Using costs for pbmc_CEL-Seq->pbmc_inDrop found in cache.\n",
      "[refcm           ] [DEBUG   ] : starting LP optimization\n",
      "[refcm           ] [DEBUG   ] : optimization terminated w. status \"Optimal\"\n",
      "[matchings       ] [DEBUG   ] : \u001b[32m[+]\u001b[0m B cell               mapped to B cell              \n",
      "[matchings       ] [DEBUG   ] : \u001b[32m[+]\u001b[0m CD14+ monocyte       mapped to CD14+ monocyte      \n",
      "[matchings       ] [DEBUG   ] : \u001b[32m[+]\u001b[0m CD16+ monocyte       mapped to CD16+ monocyte      \n",
      "[matchings       ] [DEBUG   ] : \u001b[32m[+]\u001b[0m CD4+ T cell          mapped to CD4+ T cell         \n",
      "[matchings       ] [DEBUG   ] : \u001b[32m[+]\u001b[0m Cytotoxic T cell     mapped to Cytotoxic T cell    \n",
      "[matchings       ] [DEBUG   ] : \u001b[32m[+]\u001b[0m Megakaryocyte        mapped to Megakaryocyte       \n",
      "[matchings       ] [INFO    ] : pbmc_CEL-Seq         to pbmc_inDrop         \n",
      "[matchings       ] [INFO    ] : 6     common cell types\n",
      "[matchings       ] [INFO    ] : 6 /6  correct   links\n",
      "[matchings       ] [INFO    ] : 0     incorrect links\n",
      "[refcm           ] [DEBUG   ] : Using costs for pbmc_CEL-Seq->pbmc_Seq-Well found in cache.\n",
      "[refcm           ] [DEBUG   ] : starting LP optimization\n",
      "[refcm           ] [DEBUG   ] : optimization terminated w. status \"Optimal\"\n",
      "[matchings       ] [DEBUG   ] : \u001b[32m[+]\u001b[0m B cell               mapped to B cell              \n",
      "[matchings       ] [DEBUG   ] : \u001b[32m[+]\u001b[0m CD14+ monocyte       mapped to CD14+ monocyte      \n",
      "[matchings       ] [DEBUG   ] : \u001b[31m[-]\u001b[0m CD16+ monocyte       mapped to Dendritic cell      \n",
      "[matchings       ] [DEBUG   ] : \u001b[32m[+]\u001b[0m CD4+ T cell          mapped to CD4+ T cell         \n",
      "[matchings       ] [DEBUG   ] : \u001b[32m[+]\u001b[0m Cytotoxic T cell     mapped to Cytotoxic T cell    \n",
      "[matchings       ] [DEBUG   ] : \u001b[32m[+]\u001b[0m Megakaryocyte        mapped to Megakaryocyte       \n",
      "[matchings       ] [INFO    ] : pbmc_CEL-Seq         to pbmc_Seq-Well       \n",
      "[matchings       ] [INFO    ] : 5     common cell types\n",
      "[matchings       ] [INFO    ] : 5 /5  correct   links\n",
      "[matchings       ] [INFO    ] : 1     incorrect links\n",
      "[refcm           ] [DEBUG   ] : Using costs for pbmc_CEL-Seq->pbmc_Smart-Seq2 found in cache.\n",
      "[refcm           ] [DEBUG   ] : starting LP optimization\n",
      "[refcm           ] [DEBUG   ] : optimization terminated w. status \"Optimal\"\n",
      "[matchings       ] [DEBUG   ] : \u001b[32m[+]\u001b[0m B cell               mapped to B cell              \n",
      "[matchings       ] [DEBUG   ] : \u001b[32m[+]\u001b[0m CD14+ monocyte       mapped to CD14+ monocyte      \n",
      "[matchings       ] [DEBUG   ] : \u001b[32m[+]\u001b[0m CD16+ monocyte       mapped to CD16+ monocyte      \n",
      "[matchings       ] [DEBUG   ] : \u001b[32m[+]\u001b[0m CD4+ T cell          mapped to CD4+ T cell         \n",
      "[matchings       ] [DEBUG   ] : \u001b[32m[+]\u001b[0m Cytotoxic T cell     mapped to Cytotoxic T cell    \n",
      "[matchings       ] [DEBUG   ] : \u001b[32m[+]\u001b[0m Megakaryocyte        mapped to Megakaryocyte       \n",
      "[matchings       ] [INFO    ] : pbmc_CEL-Seq         to pbmc_Smart-Seq2     \n",
      "[matchings       ] [INFO    ] : 6     common cell types\n",
      "[matchings       ] [INFO    ] : 6 /6  correct   links\n",
      "[matchings       ] [INFO    ] : 0     incorrect links\n",
      "[refcm           ] [DEBUG   ] : Using costs for pbmc_Drop-Seq->pbmc_10Xv2 found in cache.\n",
      "[refcm           ] [DEBUG   ] : starting LP optimization\n",
      "[refcm           ] [DEBUG   ] : optimization terminated w. status \"Optimal\"\n",
      "[matchings       ] [DEBUG   ] : \u001b[32m[+]\u001b[0m B cell               mapped to B cell              \n",
      "[matchings       ] [DEBUG   ] : \u001b[32m[+]\u001b[0m CD14+ monocyte       mapped to CD14+ monocyte      \n",
      "[matchings       ] [DEBUG   ] : \u001b[32m[+]\u001b[0m CD16+ monocyte       mapped to CD16+ monocyte      \n",
      "[matchings       ] [DEBUG   ] : \u001b[32m[+]\u001b[0m CD4+ T cell          mapped to CD4+ T cell         \n",
      "[matchings       ] [DEBUG   ] : \u001b[32m[+]\u001b[0m Cytotoxic T cell     mapped to Cytotoxic T cell    \n",
      "[matchings       ] [DEBUG   ] : \u001b[32m[+]\u001b[0m Dendritic cell       mapped to Dendritic cell      \n",
      "[matchings       ] [DEBUG   ] : \u001b[32m[+]\u001b[0m Megakaryocyte        mapped to Megakaryocyte       \n",
      "[matchings       ] [DEBUG   ] : \u001b[32m[+]\u001b[0m Natural killer cell  mapped to Natural killer cell \n",
      "[matchings       ] [DEBUG   ] : \u001b[32m[+]\u001b[0m Plasmacytoid dendritic cell mapped to Plasmacytoid dendritic cell\n",
      "[matchings       ] [INFO    ] : pbmc_Drop-Seq        to pbmc_10Xv2          \n",
      "[matchings       ] [INFO    ] : 9     common cell types\n",
      "[matchings       ] [INFO    ] : 9 /9  correct   links\n",
      "[matchings       ] [INFO    ] : 0     incorrect links\n",
      "[refcm           ] [DEBUG   ] : Using costs for pbmc_Drop-Seq->pbmc_10Xv3 found in cache.\n",
      "[refcm           ] [DEBUG   ] : starting LP optimization\n",
      "[refcm           ] [DEBUG   ] : optimization terminated w. status \"Optimal\"\n",
      "[matchings       ] [DEBUG   ] : \u001b[32m[+]\u001b[0m B cell               mapped to B cell              \n",
      "[matchings       ] [DEBUG   ] : \u001b[32m[+]\u001b[0m CD14+ monocyte       mapped to CD14+ monocyte      \n",
      "[matchings       ] [DEBUG   ] : \u001b[32m[+]\u001b[0m CD16+ monocyte       mapped to CD16+ monocyte      \n",
      "[matchings       ] [DEBUG   ] : \u001b[32m[+]\u001b[0m CD4+ T cell          mapped to CD4+ T cell         \n",
      "[matchings       ] [DEBUG   ] : \u001b[32m[+]\u001b[0m Cytotoxic T cell     mapped to Cytotoxic T cell    \n",
      "[matchings       ] [DEBUG   ] : \u001b[32m[+]\u001b[0m Dendritic cell       mapped to Dendritic cell      \n",
      "[matchings       ] [DEBUG   ] : \u001b[32m[+]\u001b[0m Megakaryocyte        mapped to Megakaryocyte       \n",
      "[matchings       ] [DEBUG   ] : \u001b[32m[+]\u001b[0m Natural killer cell  mapped to Natural killer cell \n",
      "[matchings       ] [INFO    ] : pbmc_Drop-Seq        to pbmc_10Xv3          \n",
      "[matchings       ] [INFO    ] : 8     common cell types\n",
      "[matchings       ] [INFO    ] : 8 /8  correct   links\n",
      "[matchings       ] [INFO    ] : 0     incorrect links\n",
      "[refcm           ] [DEBUG   ] : Using costs for pbmc_Drop-Seq->pbmc_CEL-Seq found in cache.\n",
      "[refcm           ] [DEBUG   ] : starting LP optimization\n",
      "[refcm           ] [DEBUG   ] : optimization terminated w. status \"Optimal\"\n",
      "[matchings       ] [DEBUG   ] : \u001b[32m[+]\u001b[0m B cell               mapped to B cell              \n",
      "[matchings       ] [DEBUG   ] : \u001b[32m[+]\u001b[0m CD14+ monocyte       mapped to CD14+ monocyte      \n",
      "[matchings       ] [DEBUG   ] : \u001b[32m[+]\u001b[0m CD16+ monocyte       mapped to CD16+ monocyte      \n",
      "[matchings       ] [DEBUG   ] : \u001b[32m[+]\u001b[0m CD4+ T cell          mapped to CD4+ T cell         \n",
      "[matchings       ] [DEBUG   ] : \u001b[32m[+]\u001b[0m Cytotoxic T cell     mapped to Cytotoxic T cell    \n",
      "[matchings       ] [DEBUG   ] : \u001b[32m[+]\u001b[0m Megakaryocyte        mapped to Megakaryocyte       \n",
      "[matchings       ] [DEBUG   ] : \u001b[32m[+]\u001b[0m Natural killer cell  mapped to Natural killer cell \n",
      "[matchings       ] [INFO    ] : pbmc_Drop-Seq        to pbmc_CEL-Seq        \n",
      "[matchings       ] [INFO    ] : 7     common cell types\n",
      "[matchings       ] [INFO    ] : 7 /7  correct   links\n",
      "[matchings       ] [INFO    ] : 0     incorrect links\n",
      "[refcm           ] [DEBUG   ] : Using costs for pbmc_Drop-Seq->pbmc_inDrop found in cache.\n",
      "[refcm           ] [DEBUG   ] : starting LP optimization\n",
      "[refcm           ] [DEBUG   ] : optimization terminated w. status \"Optimal\"\n",
      "[matchings       ] [DEBUG   ] : \u001b[32m[+]\u001b[0m B cell               mapped to B cell              \n",
      "[matchings       ] [DEBUG   ] : \u001b[32m[+]\u001b[0m CD14+ monocyte       mapped to CD14+ monocyte      \n",
      "[matchings       ] [DEBUG   ] : \u001b[32m[+]\u001b[0m CD16+ monocyte       mapped to CD16+ monocyte      \n",
      "[matchings       ] [DEBUG   ] : \u001b[32m[+]\u001b[0m CD4+ T cell          mapped to CD4+ T cell         \n",
      "[matchings       ] [DEBUG   ] : \u001b[32m[+]\u001b[0m Cytotoxic T cell     mapped to Cytotoxic T cell    \n",
      "[matchings       ] [DEBUG   ] : \u001b[32m[+]\u001b[0m Megakaryocyte        mapped to Megakaryocyte       \n",
      "[matchings       ] [DEBUG   ] : \u001b[32m[+]\u001b[0m Plasmacytoid dendritic cell mapped to Plasmacytoid dendritic cell\n",
      "[matchings       ] [INFO    ] : pbmc_Drop-Seq        to pbmc_inDrop         \n",
      "[matchings       ] [INFO    ] : 7     common cell types\n",
      "[matchings       ] [INFO    ] : 7 /7  correct   links\n",
      "[matchings       ] [INFO    ] : 0     incorrect links\n",
      "[refcm           ] [DEBUG   ] : Using costs for pbmc_Drop-Seq->pbmc_Seq-Well found in cache.\n",
      "[refcm           ] [DEBUG   ] : starting LP optimization\n",
      "[refcm           ] [DEBUG   ] : optimization terminated w. status \"Optimal\"\n",
      "[matchings       ] [DEBUG   ] : \u001b[32m[+]\u001b[0m B cell               mapped to B cell              \n",
      "[matchings       ] [DEBUG   ] : \u001b[32m[+]\u001b[0m CD14+ monocyte       mapped to CD14+ monocyte      \n",
      "[matchings       ] [DEBUG   ] : \u001b[32m[+]\u001b[0m CD4+ T cell          mapped to CD4+ T cell         \n",
      "[matchings       ] [DEBUG   ] : \u001b[32m[+]\u001b[0m Cytotoxic T cell     mapped to Cytotoxic T cell    \n",
      "[matchings       ] [DEBUG   ] : \u001b[32m[+]\u001b[0m Dendritic cell       mapped to Dendritic cell      \n",
      "[matchings       ] [DEBUG   ] : \u001b[32m[+]\u001b[0m Megakaryocyte        mapped to Megakaryocyte       \n",
      "[matchings       ] [DEBUG   ] : \u001b[32m[+]\u001b[0m Plasmacytoid dendritic cell mapped to Plasmacytoid dendritic cell\n",
      "[matchings       ] [INFO    ] : pbmc_Drop-Seq        to pbmc_Seq-Well       \n",
      "[matchings       ] [INFO    ] : 7     common cell types\n",
      "[matchings       ] [INFO    ] : 7 /7  correct   links\n",
      "[matchings       ] [INFO    ] : 0     incorrect links\n",
      "[refcm           ] [DEBUG   ] : Using costs for pbmc_Drop-Seq->pbmc_Smart-Seq2 found in cache.\n",
      "[refcm           ] [DEBUG   ] : starting LP optimization\n",
      "[refcm           ] [DEBUG   ] : optimization terminated w. status \"Optimal\"\n",
      "[matchings       ] [DEBUG   ] : \u001b[32m[+]\u001b[0m B cell               mapped to B cell              \n",
      "[matchings       ] [DEBUG   ] : \u001b[32m[+]\u001b[0m CD14+ monocyte       mapped to CD14+ monocyte      \n",
      "[matchings       ] [DEBUG   ] : \u001b[32m[+]\u001b[0m CD16+ monocyte       mapped to CD16+ monocyte      \n",
      "[matchings       ] [DEBUG   ] : \u001b[32m[+]\u001b[0m CD4+ T cell          mapped to CD4+ T cell         \n",
      "[matchings       ] [DEBUG   ] : \u001b[32m[+]\u001b[0m Cytotoxic T cell     mapped to Cytotoxic T cell    \n",
      "[matchings       ] [DEBUG   ] : \u001b[32m[+]\u001b[0m Megakaryocyte        mapped to Megakaryocyte       \n",
      "[matchings       ] [INFO    ] : pbmc_Drop-Seq        to pbmc_Smart-Seq2     \n",
      "[matchings       ] [INFO    ] : 6     common cell types\n",
      "[matchings       ] [INFO    ] : 6 /6  correct   links\n",
      "[matchings       ] [INFO    ] : 0     incorrect links\n",
      "[refcm           ] [DEBUG   ] : Using costs for pbmc_inDrop->pbmc_10Xv2 found in cache.\n",
      "[refcm           ] [DEBUG   ] : starting LP optimization\n",
      "[refcm           ] [DEBUG   ] : optimization terminated w. status \"Optimal\"\n",
      "[matchings       ] [DEBUG   ] : \u001b[32m[+]\u001b[0m B cell               mapped to B cell              \n",
      "[matchings       ] [DEBUG   ] : \u001b[32m[+]\u001b[0m CD14+ monocyte       mapped to CD14+ monocyte      \n",
      "[matchings       ] [DEBUG   ] : \u001b[32m[+]\u001b[0m CD16+ monocyte       mapped to CD16+ monocyte      \n",
      "[matchings       ] [DEBUG   ] : \u001b[32m[+]\u001b[0m CD4+ T cell          mapped to CD4+ T cell         \n",
      "[matchings       ] [DEBUG   ] : \u001b[32m[+]\u001b[0m Cytotoxic T cell     mapped to Cytotoxic T cell    \n",
      "[matchings       ] [DEBUG   ] : \u001b[32m[+]\u001b[0m Megakaryocyte        mapped to Megakaryocyte       \n",
      "[matchings       ] [DEBUG   ] : \u001b[32m[+]\u001b[0m Plasmacytoid dendritic cell mapped to Plasmacytoid dendritic cell\n",
      "[matchings       ] [INFO    ] : pbmc_inDrop          to pbmc_10Xv2          \n",
      "[matchings       ] [INFO    ] : 7     common cell types\n",
      "[matchings       ] [INFO    ] : 7 /7  correct   links\n",
      "[matchings       ] [INFO    ] : 0     incorrect links\n",
      "[refcm           ] [DEBUG   ] : Using costs for pbmc_inDrop->pbmc_10Xv3 found in cache.\n",
      "[refcm           ] [DEBUG   ] : starting LP optimization\n",
      "[refcm           ] [DEBUG   ] : optimization terminated w. status \"Optimal\"\n",
      "[matchings       ] [DEBUG   ] : \u001b[32m[+]\u001b[0m B cell               mapped to B cell              \n",
      "[matchings       ] [DEBUG   ] : \u001b[32m[+]\u001b[0m CD14+ monocyte       mapped to CD14+ monocyte      \n",
      "[matchings       ] [DEBUG   ] : \u001b[32m[+]\u001b[0m CD16+ monocyte       mapped to CD16+ monocyte      \n",
      "[matchings       ] [DEBUG   ] : \u001b[32m[+]\u001b[0m CD4+ T cell          mapped to CD4+ T cell         \n",
      "[matchings       ] [DEBUG   ] : \u001b[32m[+]\u001b[0m Cytotoxic T cell     mapped to Cytotoxic T cell    \n",
      "[matchings       ] [DEBUG   ] : \u001b[32m[+]\u001b[0m Megakaryocyte        mapped to Megakaryocyte       \n",
      "[matchings       ] [DEBUG   ] : \u001b[31m[-]\u001b[0m Plasmacytoid dendritic cell mapped to Dendritic cell      \n",
      "[matchings       ] [INFO    ] : pbmc_inDrop          to pbmc_10Xv3          \n",
      "[matchings       ] [INFO    ] : 6     common cell types\n",
      "[matchings       ] [INFO    ] : 6 /6  correct   links\n",
      "[matchings       ] [INFO    ] : 1     incorrect links\n",
      "[refcm           ] [DEBUG   ] : Using costs for pbmc_inDrop->pbmc_CEL-Seq found in cache.\n",
      "[refcm           ] [DEBUG   ] : starting LP optimization\n",
      "[refcm           ] [DEBUG   ] : optimization terminated w. status \"Optimal\"\n",
      "[matchings       ] [DEBUG   ] : \u001b[32m[+]\u001b[0m B cell               mapped to B cell              \n",
      "[matchings       ] [DEBUG   ] : \u001b[32m[+]\u001b[0m CD14+ monocyte       mapped to CD14+ monocyte      \n",
      "[matchings       ] [DEBUG   ] : \u001b[32m[+]\u001b[0m CD16+ monocyte       mapped to CD16+ monocyte      \n",
      "[matchings       ] [DEBUG   ] : \u001b[32m[+]\u001b[0m CD4+ T cell          mapped to CD4+ T cell         \n",
      "[matchings       ] [DEBUG   ] : \u001b[32m[+]\u001b[0m Cytotoxic T cell     mapped to Cytotoxic T cell    \n",
      "[matchings       ] [DEBUG   ] : \u001b[32m[+]\u001b[0m Megakaryocyte        mapped to Megakaryocyte       \n",
      "[matchings       ] [INFO    ] : pbmc_inDrop          to pbmc_CEL-Seq        \n",
      "[matchings       ] [INFO    ] : 6     common cell types\n",
      "[matchings       ] [INFO    ] : 6 /6  correct   links\n",
      "[matchings       ] [INFO    ] : 0     incorrect links\n",
      "[refcm           ] [DEBUG   ] : Using costs for pbmc_inDrop->pbmc_Drop-Seq found in cache.\n",
      "[refcm           ] [DEBUG   ] : starting LP optimization\n",
      "[refcm           ] [DEBUG   ] : optimization terminated w. status \"Optimal\"\n",
      "[matchings       ] [DEBUG   ] : \u001b[32m[+]\u001b[0m B cell               mapped to B cell              \n",
      "[matchings       ] [DEBUG   ] : \u001b[32m[+]\u001b[0m CD14+ monocyte       mapped to CD14+ monocyte      \n",
      "[matchings       ] [DEBUG   ] : \u001b[32m[+]\u001b[0m CD16+ monocyte       mapped to CD16+ monocyte      \n",
      "[matchings       ] [DEBUG   ] : \u001b[32m[+]\u001b[0m CD4+ T cell          mapped to CD4+ T cell         \n",
      "[matchings       ] [DEBUG   ] : \u001b[32m[+]\u001b[0m Cytotoxic T cell     mapped to Cytotoxic T cell    \n",
      "[matchings       ] [DEBUG   ] : \u001b[32m[+]\u001b[0m Megakaryocyte        mapped to Megakaryocyte       \n",
      "[matchings       ] [DEBUG   ] : \u001b[32m[+]\u001b[0m Plasmacytoid dendritic cell mapped to Plasmacytoid dendritic cell\n",
      "[matchings       ] [INFO    ] : pbmc_inDrop          to pbmc_Drop-Seq       \n",
      "[matchings       ] [INFO    ] : 7     common cell types\n",
      "[matchings       ] [INFO    ] : 7 /7  correct   links\n",
      "[matchings       ] [INFO    ] : 0     incorrect links\n",
      "[refcm           ] [DEBUG   ] : Using costs for pbmc_inDrop->pbmc_Seq-Well found in cache.\n",
      "[refcm           ] [DEBUG   ] : starting LP optimization\n",
      "[refcm           ] [DEBUG   ] : optimization terminated w. status \"Optimal\"\n",
      "[matchings       ] [DEBUG   ] : \u001b[32m[+]\u001b[0m B cell               mapped to B cell              \n",
      "[matchings       ] [DEBUG   ] : \u001b[32m[+]\u001b[0m CD14+ monocyte       mapped to CD14+ monocyte      \n",
      "[matchings       ] [DEBUG   ] : \u001b[31m[-]\u001b[0m CD16+ monocyte       mapped to Dendritic cell      \n",
      "[matchings       ] [DEBUG   ] : \u001b[32m[+]\u001b[0m CD4+ T cell          mapped to CD4+ T cell         \n",
      "[matchings       ] [DEBUG   ] : \u001b[32m[+]\u001b[0m Cytotoxic T cell     mapped to Cytotoxic T cell    \n",
      "[matchings       ] [DEBUG   ] : \u001b[32m[+]\u001b[0m Megakaryocyte        mapped to Megakaryocyte       \n",
      "[matchings       ] [DEBUG   ] : \u001b[32m[+]\u001b[0m Plasmacytoid dendritic cell mapped to Plasmacytoid dendritic cell\n",
      "[matchings       ] [INFO    ] : pbmc_inDrop          to pbmc_Seq-Well       \n",
      "[matchings       ] [INFO    ] : 6     common cell types\n",
      "[matchings       ] [INFO    ] : 6 /6  correct   links\n",
      "[matchings       ] [INFO    ] : 1     incorrect links\n",
      "[refcm           ] [DEBUG   ] : Using costs for pbmc_inDrop->pbmc_Smart-Seq2 found in cache.\n",
      "[refcm           ] [DEBUG   ] : starting LP optimization\n",
      "[refcm           ] [DEBUG   ] : optimization terminated w. status \"Optimal\"\n",
      "[matchings       ] [DEBUG   ] : \u001b[32m[+]\u001b[0m B cell               mapped to B cell              \n",
      "[matchings       ] [DEBUG   ] : \u001b[32m[+]\u001b[0m CD14+ monocyte       mapped to CD14+ monocyte      \n",
      "[matchings       ] [DEBUG   ] : \u001b[32m[+]\u001b[0m CD16+ monocyte       mapped to CD16+ monocyte      \n",
      "[matchings       ] [DEBUG   ] : \u001b[32m[+]\u001b[0m CD4+ T cell          mapped to CD4+ T cell         \n",
      "[matchings       ] [DEBUG   ] : \u001b[32m[+]\u001b[0m Cytotoxic T cell     mapped to Cytotoxic T cell    \n",
      "[matchings       ] [DEBUG   ] : \u001b[32m[+]\u001b[0m Megakaryocyte        mapped to Megakaryocyte       \n",
      "[matchings       ] [INFO    ] : pbmc_inDrop          to pbmc_Smart-Seq2     \n",
      "[matchings       ] [INFO    ] : 6     common cell types\n",
      "[matchings       ] [INFO    ] : 6 /6  correct   links\n",
      "[matchings       ] [INFO    ] : 0     incorrect links\n",
      "[refcm           ] [DEBUG   ] : Using costs for pbmc_Seq-Well->pbmc_10Xv2 found in cache.\n",
      "[refcm           ] [DEBUG   ] : starting LP optimization\n",
      "[refcm           ] [DEBUG   ] : optimization terminated w. status \"Optimal\"\n",
      "[matchings       ] [DEBUG   ] : \u001b[32m[+]\u001b[0m B cell               mapped to B cell              \n",
      "[matchings       ] [DEBUG   ] : \u001b[32m[+]\u001b[0m CD14+ monocyte       mapped to CD14+ monocyte      \n",
      "[matchings       ] [DEBUG   ] : \u001b[32m[+]\u001b[0m CD4+ T cell          mapped to CD4+ T cell         \n",
      "[matchings       ] [DEBUG   ] : \u001b[32m[+]\u001b[0m Cytotoxic T cell     mapped to Cytotoxic T cell    \n",
      "[matchings       ] [DEBUG   ] : \u001b[32m[+]\u001b[0m Dendritic cell       mapped to Dendritic cell      \n",
      "[matchings       ] [DEBUG   ] : \u001b[32m[+]\u001b[0m Megakaryocyte        mapped to Megakaryocyte       \n",
      "[matchings       ] [DEBUG   ] : \u001b[32m[+]\u001b[0m Plasmacytoid dendritic cell mapped to Plasmacytoid dendritic cell\n",
      "[matchings       ] [INFO    ] : pbmc_Seq-Well        to pbmc_10Xv2          \n",
      "[matchings       ] [INFO    ] : 7     common cell types\n",
      "[matchings       ] [INFO    ] : 7 /7  correct   links\n",
      "[matchings       ] [INFO    ] : 0     incorrect links\n",
      "[refcm           ] [DEBUG   ] : Using costs for pbmc_Seq-Well->pbmc_10Xv3 found in cache.\n",
      "[refcm           ] [DEBUG   ] : starting LP optimization\n",
      "[refcm           ] [DEBUG   ] : optimization terminated w. status \"Optimal\"\n",
      "[matchings       ] [DEBUG   ] : \u001b[32m[+]\u001b[0m B cell               mapped to B cell              \n",
      "[matchings       ] [DEBUG   ] : \u001b[32m[+]\u001b[0m CD14+ monocyte       mapped to CD14+ monocyte      \n",
      "[matchings       ] [DEBUG   ] : \u001b[32m[+]\u001b[0m CD4+ T cell          mapped to CD4+ T cell         \n",
      "[matchings       ] [DEBUG   ] : \u001b[32m[+]\u001b[0m Cytotoxic T cell     mapped to Cytotoxic T cell    \n",
      "[matchings       ] [DEBUG   ] : \u001b[32m[+]\u001b[0m Dendritic cell       mapped to Dendritic cell      \n",
      "[matchings       ] [DEBUG   ] : \u001b[32m[+]\u001b[0m Megakaryocyte        mapped to Megakaryocyte       \n",
      "[matchings       ] [INFO    ] : pbmc_Seq-Well        to pbmc_10Xv3          \n",
      "[matchings       ] [INFO    ] : 6     common cell types\n",
      "[matchings       ] [INFO    ] : 6 /6  correct   links\n",
      "[matchings       ] [INFO    ] : 0     incorrect links\n",
      "[refcm           ] [DEBUG   ] : Using costs for pbmc_Seq-Well->pbmc_CEL-Seq found in cache.\n",
      "[refcm           ] [DEBUG   ] : starting LP optimization\n",
      "[refcm           ] [DEBUG   ] : optimization terminated w. status \"Optimal\"\n",
      "[matchings       ] [DEBUG   ] : \u001b[32m[+]\u001b[0m B cell               mapped to B cell              \n",
      "[matchings       ] [DEBUG   ] : \u001b[32m[+]\u001b[0m CD14+ monocyte       mapped to CD14+ monocyte      \n",
      "[matchings       ] [DEBUG   ] : \u001b[32m[+]\u001b[0m CD4+ T cell          mapped to CD4+ T cell         \n",
      "[matchings       ] [DEBUG   ] : \u001b[32m[+]\u001b[0m Cytotoxic T cell     mapped to Cytotoxic T cell    \n",
      "[matchings       ] [DEBUG   ] : \u001b[31m[-]\u001b[0m Dendritic cell       mapped to CD16+ monocyte      \n",
      "[matchings       ] [DEBUG   ] : \u001b[32m[+]\u001b[0m Megakaryocyte        mapped to Megakaryocyte       \n",
      "[matchings       ] [INFO    ] : pbmc_Seq-Well        to pbmc_CEL-Seq        \n",
      "[matchings       ] [INFO    ] : 5     common cell types\n",
      "[matchings       ] [INFO    ] : 5 /5  correct   links\n",
      "[matchings       ] [INFO    ] : 1     incorrect links\n",
      "[refcm           ] [DEBUG   ] : Using costs for pbmc_Seq-Well->pbmc_Drop-Seq found in cache.\n",
      "[refcm           ] [DEBUG   ] : starting LP optimization\n",
      "[refcm           ] [DEBUG   ] : optimization terminated w. status \"Optimal\"\n",
      "[matchings       ] [DEBUG   ] : \u001b[32m[+]\u001b[0m B cell               mapped to B cell              \n",
      "[matchings       ] [DEBUG   ] : \u001b[32m[+]\u001b[0m CD14+ monocyte       mapped to CD14+ monocyte      \n",
      "[matchings       ] [DEBUG   ] : \u001b[32m[+]\u001b[0m CD4+ T cell          mapped to CD4+ T cell         \n",
      "[matchings       ] [DEBUG   ] : \u001b[32m[+]\u001b[0m Cytotoxic T cell     mapped to Cytotoxic T cell    \n",
      "[matchings       ] [DEBUG   ] : \u001b[32m[+]\u001b[0m Dendritic cell       mapped to Dendritic cell      \n",
      "[matchings       ] [DEBUG   ] : \u001b[32m[+]\u001b[0m Megakaryocyte        mapped to Megakaryocyte       \n",
      "[matchings       ] [DEBUG   ] : \u001b[32m[+]\u001b[0m Plasmacytoid dendritic cell mapped to Plasmacytoid dendritic cell\n",
      "[matchings       ] [INFO    ] : pbmc_Seq-Well        to pbmc_Drop-Seq       \n",
      "[matchings       ] [INFO    ] : 7     common cell types\n",
      "[matchings       ] [INFO    ] : 7 /7  correct   links\n",
      "[matchings       ] [INFO    ] : 0     incorrect links\n",
      "[refcm           ] [DEBUG   ] : Using costs for pbmc_Seq-Well->pbmc_inDrop found in cache.\n",
      "[refcm           ] [DEBUG   ] : starting LP optimization\n",
      "[refcm           ] [DEBUG   ] : optimization terminated w. status \"Optimal\"\n",
      "[matchings       ] [DEBUG   ] : \u001b[32m[+]\u001b[0m B cell               mapped to B cell              \n",
      "[matchings       ] [DEBUG   ] : \u001b[32m[+]\u001b[0m CD14+ monocyte       mapped to CD14+ monocyte      \n",
      "[matchings       ] [DEBUG   ] : \u001b[32m[+]\u001b[0m CD4+ T cell          mapped to CD4+ T cell         \n",
      "[matchings       ] [DEBUG   ] : \u001b[32m[+]\u001b[0m Cytotoxic T cell     mapped to Cytotoxic T cell    \n",
      "[matchings       ] [DEBUG   ] : \u001b[31m[-]\u001b[0m Dendritic cell       mapped to CD16+ monocyte      \n",
      "[matchings       ] [DEBUG   ] : \u001b[32m[+]\u001b[0m Megakaryocyte        mapped to Megakaryocyte       \n",
      "[matchings       ] [DEBUG   ] : \u001b[32m[+]\u001b[0m Plasmacytoid dendritic cell mapped to Plasmacytoid dendritic cell\n",
      "[matchings       ] [INFO    ] : pbmc_Seq-Well        to pbmc_inDrop         \n",
      "[matchings       ] [INFO    ] : 6     common cell types\n",
      "[matchings       ] [INFO    ] : 6 /6  correct   links\n",
      "[matchings       ] [INFO    ] : 1     incorrect links\n",
      "[refcm           ] [DEBUG   ] : Using costs for pbmc_Seq-Well->pbmc_Smart-Seq2 found in cache.\n",
      "[refcm           ] [DEBUG   ] : starting LP optimization\n",
      "[refcm           ] [DEBUG   ] : optimization terminated w. status \"Optimal\"\n",
      "[matchings       ] [DEBUG   ] : \u001b[32m[+]\u001b[0m B cell               mapped to B cell              \n",
      "[matchings       ] [DEBUG   ] : \u001b[32m[+]\u001b[0m CD14+ monocyte       mapped to CD14+ monocyte      \n",
      "[matchings       ] [DEBUG   ] : \u001b[32m[+]\u001b[0m CD4+ T cell          mapped to CD4+ T cell         \n",
      "[matchings       ] [DEBUG   ] : \u001b[32m[+]\u001b[0m Cytotoxic T cell     mapped to Cytotoxic T cell    \n",
      "[matchings       ] [DEBUG   ] : \u001b[31m[-]\u001b[0m Dendritic cell       mapped to CD16+ monocyte      \n",
      "[matchings       ] [DEBUG   ] : \u001b[32m[+]\u001b[0m Megakaryocyte        mapped to Megakaryocyte       \n",
      "[matchings       ] [INFO    ] : pbmc_Seq-Well        to pbmc_Smart-Seq2     \n",
      "[matchings       ] [INFO    ] : 5     common cell types\n",
      "[matchings       ] [INFO    ] : 5 /5  correct   links\n",
      "[matchings       ] [INFO    ] : 1     incorrect links\n",
      "[refcm           ] [DEBUG   ] : Using costs for pbmc_Smart-Seq2->pbmc_10Xv2 found in cache.\n",
      "[refcm           ] [DEBUG   ] : starting LP optimization\n",
      "[refcm           ] [DEBUG   ] : optimization terminated w. status \"Optimal\"\n",
      "[matchings       ] [DEBUG   ] : \u001b[32m[+]\u001b[0m B cell               mapped to B cell              \n",
      "[matchings       ] [DEBUG   ] : \u001b[32m[+]\u001b[0m CD14+ monocyte       mapped to CD14+ monocyte      \n",
      "[matchings       ] [DEBUG   ] : \u001b[32m[+]\u001b[0m CD16+ monocyte       mapped to CD16+ monocyte      \n",
      "[matchings       ] [DEBUG   ] : \u001b[32m[+]\u001b[0m CD4+ T cell          mapped to CD4+ T cell         \n",
      "[matchings       ] [DEBUG   ] : \u001b[32m[+]\u001b[0m Cytotoxic T cell     mapped to Cytotoxic T cell    \n",
      "[matchings       ] [DEBUG   ] : \u001b[32m[+]\u001b[0m Megakaryocyte        mapped to Megakaryocyte       \n",
      "[matchings       ] [INFO    ] : pbmc_Smart-Seq2      to pbmc_10Xv2          \n",
      "[matchings       ] [INFO    ] : 6     common cell types\n",
      "[matchings       ] [INFO    ] : 6 /6  correct   links\n",
      "[matchings       ] [INFO    ] : 0     incorrect links\n",
      "[refcm           ] [DEBUG   ] : Using costs for pbmc_Smart-Seq2->pbmc_10Xv3 found in cache.\n",
      "[refcm           ] [DEBUG   ] : starting LP optimization\n",
      "[refcm           ] [DEBUG   ] : optimization terminated w. status \"Optimal\"\n",
      "[matchings       ] [DEBUG   ] : \u001b[32m[+]\u001b[0m B cell               mapped to B cell              \n",
      "[matchings       ] [DEBUG   ] : \u001b[32m[+]\u001b[0m CD14+ monocyte       mapped to CD14+ monocyte      \n",
      "[matchings       ] [DEBUG   ] : \u001b[32m[+]\u001b[0m CD16+ monocyte       mapped to CD16+ monocyte      \n",
      "[matchings       ] [DEBUG   ] : \u001b[32m[+]\u001b[0m CD4+ T cell          mapped to CD4+ T cell         \n",
      "[matchings       ] [DEBUG   ] : \u001b[32m[+]\u001b[0m Cytotoxic T cell     mapped to Cytotoxic T cell    \n",
      "[matchings       ] [DEBUG   ] : \u001b[32m[+]\u001b[0m Megakaryocyte        mapped to Megakaryocyte       \n",
      "[matchings       ] [INFO    ] : pbmc_Smart-Seq2      to pbmc_10Xv3          \n",
      "[matchings       ] [INFO    ] : 6     common cell types\n",
      "[matchings       ] [INFO    ] : 6 /6  correct   links\n",
      "[matchings       ] [INFO    ] : 0     incorrect links\n",
      "[refcm           ] [DEBUG   ] : Using costs for pbmc_Smart-Seq2->pbmc_CEL-Seq found in cache.\n",
      "[refcm           ] [DEBUG   ] : starting LP optimization\n",
      "[refcm           ] [DEBUG   ] : optimization terminated w. status \"Optimal\"\n",
      "[matchings       ] [DEBUG   ] : \u001b[32m[+]\u001b[0m B cell               mapped to B cell              \n",
      "[matchings       ] [DEBUG   ] : \u001b[32m[+]\u001b[0m CD14+ monocyte       mapped to CD14+ monocyte      \n",
      "[matchings       ] [DEBUG   ] : \u001b[32m[+]\u001b[0m CD16+ monocyte       mapped to CD16+ monocyte      \n",
      "[matchings       ] [DEBUG   ] : \u001b[32m[+]\u001b[0m CD4+ T cell          mapped to CD4+ T cell         \n",
      "[matchings       ] [DEBUG   ] : \u001b[32m[+]\u001b[0m Cytotoxic T cell     mapped to Cytotoxic T cell    \n",
      "[matchings       ] [DEBUG   ] : \u001b[32m[+]\u001b[0m Megakaryocyte        mapped to Megakaryocyte       \n",
      "[matchings       ] [INFO    ] : pbmc_Smart-Seq2      to pbmc_CEL-Seq        \n",
      "[matchings       ] [INFO    ] : 6     common cell types\n",
      "[matchings       ] [INFO    ] : 6 /6  correct   links\n",
      "[matchings       ] [INFO    ] : 0     incorrect links\n",
      "[refcm           ] [DEBUG   ] : Using costs for pbmc_Smart-Seq2->pbmc_Drop-Seq found in cache.\n",
      "[refcm           ] [DEBUG   ] : starting LP optimization\n",
      "[refcm           ] [DEBUG   ] : optimization terminated w. status \"Optimal\"\n",
      "[matchings       ] [DEBUG   ] : \u001b[32m[+]\u001b[0m B cell               mapped to B cell              \n",
      "[matchings       ] [DEBUG   ] : \u001b[32m[+]\u001b[0m CD14+ monocyte       mapped to CD14+ monocyte      \n",
      "[matchings       ] [DEBUG   ] : \u001b[32m[+]\u001b[0m CD16+ monocyte       mapped to CD16+ monocyte      \n",
      "[matchings       ] [DEBUG   ] : \u001b[32m[+]\u001b[0m CD4+ T cell          mapped to CD4+ T cell         \n",
      "[matchings       ] [DEBUG   ] : \u001b[32m[+]\u001b[0m Cytotoxic T cell     mapped to Cytotoxic T cell    \n",
      "[matchings       ] [DEBUG   ] : \u001b[32m[+]\u001b[0m Megakaryocyte        mapped to Megakaryocyte       \n",
      "[matchings       ] [INFO    ] : pbmc_Smart-Seq2      to pbmc_Drop-Seq       \n",
      "[matchings       ] [INFO    ] : 6     common cell types\n",
      "[matchings       ] [INFO    ] : 6 /6  correct   links\n",
      "[matchings       ] [INFO    ] : 0     incorrect links\n",
      "[refcm           ] [DEBUG   ] : Using costs for pbmc_Smart-Seq2->pbmc_inDrop found in cache.\n",
      "[refcm           ] [DEBUG   ] : starting LP optimization\n",
      "[refcm           ] [DEBUG   ] : optimization terminated w. status \"Optimal\"\n",
      "[matchings       ] [DEBUG   ] : \u001b[32m[+]\u001b[0m B cell               mapped to B cell              \n",
      "[matchings       ] [DEBUG   ] : \u001b[32m[+]\u001b[0m CD14+ monocyte       mapped to CD14+ monocyte      \n",
      "[matchings       ] [DEBUG   ] : \u001b[32m[+]\u001b[0m CD16+ monocyte       mapped to CD16+ monocyte      \n",
      "[matchings       ] [DEBUG   ] : \u001b[32m[+]\u001b[0m CD4+ T cell          mapped to CD4+ T cell         \n",
      "[matchings       ] [DEBUG   ] : \u001b[32m[+]\u001b[0m Cytotoxic T cell     mapped to Cytotoxic T cell    \n",
      "[matchings       ] [DEBUG   ] : \u001b[32m[+]\u001b[0m Megakaryocyte        mapped to Megakaryocyte       \n",
      "[matchings       ] [INFO    ] : pbmc_Smart-Seq2      to pbmc_inDrop         \n",
      "[matchings       ] [INFO    ] : 6     common cell types\n",
      "[matchings       ] [INFO    ] : 6 /6  correct   links\n",
      "[matchings       ] [INFO    ] : 0     incorrect links\n",
      "[refcm           ] [DEBUG   ] : Using costs for pbmc_Smart-Seq2->pbmc_Seq-Well found in cache.\n",
      "[refcm           ] [DEBUG   ] : starting LP optimization\n",
      "[refcm           ] [DEBUG   ] : optimization terminated w. status \"Optimal\"\n",
      "[matchings       ] [DEBUG   ] : \u001b[32m[+]\u001b[0m B cell               mapped to B cell              \n",
      "[matchings       ] [DEBUG   ] : \u001b[32m[+]\u001b[0m CD14+ monocyte       mapped to CD14+ monocyte      \n",
      "[matchings       ] [DEBUG   ] : \u001b[31m[-]\u001b[0m CD16+ monocyte       mapped to Dendritic cell      \n",
      "[matchings       ] [DEBUG   ] : \u001b[32m[+]\u001b[0m CD4+ T cell          mapped to CD4+ T cell         \n",
      "[matchings       ] [DEBUG   ] : \u001b[32m[+]\u001b[0m Cytotoxic T cell     mapped to Cytotoxic T cell    \n",
      "[matchings       ] [DEBUG   ] : \u001b[32m[+]\u001b[0m Megakaryocyte        mapped to Megakaryocyte       \n",
      "[matchings       ] [INFO    ] : pbmc_Smart-Seq2      to pbmc_Seq-Well       \n",
      "[matchings       ] [INFO    ] : 5     common cell types\n",
      "[matchings       ] [INFO    ] : 5 /5  correct   links\n",
      "[matchings       ] [INFO    ] : 1     incorrect links\n"
     ]
    }
   ],
   "source": [
    "rcm = RefCM()\n",
    "\n",
    "for i, q_id in enumerate(ds):\n",
    "    for ref_id in [d for d in ds if d != q_id]:\n",
    "        m = rcm.annotate(ds[q_id], q_id, ds[ref_id], ref_id, 'labels', 'labels')\n",
    "        m.eval('labels')"
   ]
  }
 ],
 "metadata": {
  "kernelspec": {
   "display_name": "RefCM",
   "language": "python",
   "name": "python3"
  },
  "language_info": {
   "codemirror_mode": {
    "name": "ipython",
    "version": 3
   },
   "file_extension": ".py",
   "mimetype": "text/x-python",
   "name": "python",
   "nbconvert_exporter": "python",
   "pygments_lexer": "ipython3",
   "version": "3.11.9"
  }
 },
 "nbformat": 4,
 "nbformat_minor": 2
}
