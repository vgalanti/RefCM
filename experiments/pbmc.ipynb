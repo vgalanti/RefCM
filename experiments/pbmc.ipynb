{
 "cells": [
  {
   "cell_type": "code",
   "execution_count": 1,
   "metadata": {},
   "outputs": [],
   "source": [
    "import sys\n",
    "sys.path.append('../src/')\n",
    "\n",
    "import config\n",
    "import logging\n",
    "import scanpy as sc\n",
    "from refcm import RefCM\n",
    "\n",
    "config.start_logging(logging.DEBUG)"
   ]
  },
  {
   "cell_type": "code",
   "execution_count": 2,
   "metadata": {},
   "outputs": [
    {
     "name": "stderr",
     "output_type": "stream",
     "text": [
      "[h5py._conv      ] [DEBUG   ] : Creating converter from 3 to 5\n"
     ]
    }
   ],
   "source": [
    "ds = ['pbmc_10Xv2', 'pbmc_10Xv3', 'pbmc_CEL-Seq', 'pbmc_Drop-Seq', 'pbmc_inDrop', 'pbmc_Seq-Well', 'pbmc_Smart-Seq2']\n",
    "ds = {s: sc.read_h5ad(f'../data/{s}.h5ad') for s in ds}"
   ]
  },
  {
   "cell_type": "code",
   "execution_count": 4,
   "metadata": {},
   "outputs": [
    {
     "name": "stderr",
     "output_type": "stream",
     "text": [
      "[refcm           ] [INFO    ] : NOTE: raw counts expected in anndata .X attributes.\n",
      "[refcm           ] [DEBUG   ] : Loading cached mapping costs from cache.json.\n",
      "[embeddings      ] [DEBUG   ] : Using 1254 genes.\n",
      "[refcm           ] [DEBUG   ] : Computing Wasserstein distances.\n",
      "|████████████████| [100.00% ] : 01:44\n",
      "[refcm           ] [DEBUG   ] : starting LP optimization\n",
      "[refcm           ] [DEBUG   ] : optimization terminated w. status \"Optimal\"\n",
      "[matchings       ] [DEBUG   ] : \u001b[32m[+|1.00]\u001b[0m B cell               mapped to B cell              \n",
      "[matchings       ] [DEBUG   ] : \u001b[32m[+|1.00]\u001b[0m CD14+ monocyte       mapped to CD14+ monocyte      \n",
      "[matchings       ] [DEBUG   ] : \u001b[32m[+|1.00]\u001b[0m CD16+ monocyte       mapped to CD16+ monocyte      \n",
      "[matchings       ] [DEBUG   ] : \u001b[32m[+|1.00]\u001b[0m CD4+ T cell          mapped to CD4+ T cell         \n",
      "[matchings       ] [DEBUG   ] : \u001b[32m[+|1.00]\u001b[0m Cytotoxic T cell     mapped to Cytotoxic T cell    \n",
      "[matchings       ] [DEBUG   ] : \u001b[32m[+|1.00]\u001b[0m Megakaryocyte        mapped to Megakaryocyte       \n",
      "[matchings       ] [DEBUG   ] : \u001b[32m[+|1.00]\u001b[0m Natural killer cell  mapped to Natural killer cell \n",
      "[matchings       ] [INFO    ] : pbmc_CEL-Seq         to pbmc_Drop-Seq       \n",
      "[matchings       ] [INFO    ] : 7     common cell types\n",
      "[matchings       ] [INFO    ] : 7 /7  correct   links\n",
      "[matchings       ] [INFO    ] : 0     incorrect links\n"
     ]
    },
    {
     "data": {
      "application/vnd.plotly.v1+json": {
       "config": {
        "plotlyServerURL": "https://plot.ly"
       },
       "data": [
        {
         "coloraxis": "coloraxis",
         "hovertemplate": "Reference: pbmc_Drop-Seq: %{x}<br>Query: pbmc_CEL-Seq: %{y}<br>cost: %{z}<extra></extra>",
         "name": "0",
         "type": "heatmap",
         "x": [
          "B cell",
          "CD14+ monocyte",
          "CD16+ monocyte",
          "CD4+ T cell",
          "Cytotoxic T cell",
          "Dendritic cell",
          "Megakaryocyte",
          "Natural killer cell",
          "Plasmacytoid dendritic cell"
         ],
         "xaxis": "x",
         "y": [
          "B cell",
          "CD14+ monocyte",
          "CD16+ monocyte",
          "CD4+ T cell",
          "Cytotoxic T cell",
          "Megakaryocyte",
          "Natural killer cell"
         ],
         "yaxis": "y",
         "z": [
          [
           -0.4612386155415191,
           -0.19414553544178456,
           -0.25067738729321126,
           -0.09856003908240307,
           -0.11066093612252288,
           -0.36627286924328645,
           -0.01649618720857309,
           -0.07494045308255941,
           -0.18125809064503165
          ],
          [
           -0.16769935872509867,
           -0.7963754717909395,
           -0.46449752199579014,
           -0.12258383920685353,
           -0.1263729931273321,
           -0.5346591608917403,
           -0.07562481046012248,
           -0.0861392078862831,
           -0.18390636231192298
          ],
          [
           -0.22138192823201838,
           -0.46998157480620656,
           -1,
           -0.1619188423755014,
           -0.19134584074802913,
           -0.6111698750880702,
           -0.09731130783967841,
           -0.1404660721536854,
           -0.24415205600589623
          ],
          [
           -0.09580848355228619,
           -0.1378276339369985,
           -0.1814792625596872,
           -0.3557899446448208,
           -0.12200672941013806,
           -0.19570709778677853,
           -0.03160478447073541,
           -0.08259713744445955,
           -0.07304342556214147
          ],
          [
           -0.09632266665294664,
           -0.13506677111827312,
           -0.18948058363710796,
           -0.10978748277490535,
           -0.41589096836476386,
           -0.18269540924397584,
           -0.036024436755901126,
           -0.08699417762498049,
           -0.07127563630998474
          ],
          [
           -0.006416513658832092,
           -0.07412837184355706,
           -0.09358427079307256,
           -0.02290425225242044,
           -0.032335973189597446,
           -0.08841226966659355,
           -0.6475245201518989,
           0,
           -0.014952777314156519
          ],
          [
           -0.07845397699959461,
           -0.10049632421084552,
           -0.15741649301771943,
           -0.08207184281451685,
           -0.0947300895916872,
           -0.21617218272051048,
           -0.0053218176168840945,
           -0.2414424808629837,
           -0.08437969541279654
          ]
         ]
        },
        {
         "hovertemplate": "%{y} -> %{x}",
         "marker": {
          "color": [
           "green",
           "green",
           "green",
           "green",
           "green",
           "green",
           "green"
          ],
          "size": 5
         },
         "mode": "markers",
         "name": "",
         "type": "scatter",
         "x": [
          "B cell",
          "CD14+ monocyte",
          "CD16+ monocyte",
          "CD4+ T cell",
          "Cytotoxic T cell",
          "Megakaryocyte",
          "Natural killer cell"
         ],
         "y": [
          "B cell",
          "CD14+ monocyte",
          "CD16+ monocyte",
          "CD4+ T cell",
          "Cytotoxic T cell",
          "Megakaryocyte",
          "Natural killer cell"
         ]
        }
       ],
       "layout": {
        "coloraxis": {
         "colorbar": {
          "title": {
           "text": "cost"
          }
         },
         "colorscale": [
          [
           0,
           "rgb(75, 41, 145)"
          ],
          [
           0.16666666666666666,
           "rgb(135, 44, 162)"
          ],
          [
           0.3333333333333333,
           "rgb(192, 54, 157)"
          ],
          [
           0.5,
           "rgb(234, 79, 136)"
          ],
          [
           0.6666666666666666,
           "rgb(250, 120, 118)"
          ],
          [
           0.8333333333333334,
           "rgb(246, 169, 122)"
          ],
          [
           1,
           "rgb(237, 217, 163)"
          ]
         ]
        },
        "template": {
         "data": {
          "bar": [
           {
            "error_x": {
             "color": "#2a3f5f"
            },
            "error_y": {
             "color": "#2a3f5f"
            },
            "marker": {
             "line": {
              "color": "#E5ECF6",
              "width": 0.5
             },
             "pattern": {
              "fillmode": "overlay",
              "size": 10,
              "solidity": 0.2
             }
            },
            "type": "bar"
           }
          ],
          "barpolar": [
           {
            "marker": {
             "line": {
              "color": "#E5ECF6",
              "width": 0.5
             },
             "pattern": {
              "fillmode": "overlay",
              "size": 10,
              "solidity": 0.2
             }
            },
            "type": "barpolar"
           }
          ],
          "carpet": [
           {
            "aaxis": {
             "endlinecolor": "#2a3f5f",
             "gridcolor": "white",
             "linecolor": "white",
             "minorgridcolor": "white",
             "startlinecolor": "#2a3f5f"
            },
            "baxis": {
             "endlinecolor": "#2a3f5f",
             "gridcolor": "white",
             "linecolor": "white",
             "minorgridcolor": "white",
             "startlinecolor": "#2a3f5f"
            },
            "type": "carpet"
           }
          ],
          "choropleth": [
           {
            "colorbar": {
             "outlinewidth": 0,
             "ticks": ""
            },
            "type": "choropleth"
           }
          ],
          "contour": [
           {
            "colorbar": {
             "outlinewidth": 0,
             "ticks": ""
            },
            "colorscale": [
             [
              0,
              "#0d0887"
             ],
             [
              0.1111111111111111,
              "#46039f"
             ],
             [
              0.2222222222222222,
              "#7201a8"
             ],
             [
              0.3333333333333333,
              "#9c179e"
             ],
             [
              0.4444444444444444,
              "#bd3786"
             ],
             [
              0.5555555555555556,
              "#d8576b"
             ],
             [
              0.6666666666666666,
              "#ed7953"
             ],
             [
              0.7777777777777778,
              "#fb9f3a"
             ],
             [
              0.8888888888888888,
              "#fdca26"
             ],
             [
              1,
              "#f0f921"
             ]
            ],
            "type": "contour"
           }
          ],
          "contourcarpet": [
           {
            "colorbar": {
             "outlinewidth": 0,
             "ticks": ""
            },
            "type": "contourcarpet"
           }
          ],
          "heatmap": [
           {
            "colorbar": {
             "outlinewidth": 0,
             "ticks": ""
            },
            "colorscale": [
             [
              0,
              "#0d0887"
             ],
             [
              0.1111111111111111,
              "#46039f"
             ],
             [
              0.2222222222222222,
              "#7201a8"
             ],
             [
              0.3333333333333333,
              "#9c179e"
             ],
             [
              0.4444444444444444,
              "#bd3786"
             ],
             [
              0.5555555555555556,
              "#d8576b"
             ],
             [
              0.6666666666666666,
              "#ed7953"
             ],
             [
              0.7777777777777778,
              "#fb9f3a"
             ],
             [
              0.8888888888888888,
              "#fdca26"
             ],
             [
              1,
              "#f0f921"
             ]
            ],
            "type": "heatmap"
           }
          ],
          "heatmapgl": [
           {
            "colorbar": {
             "outlinewidth": 0,
             "ticks": ""
            },
            "colorscale": [
             [
              0,
              "#0d0887"
             ],
             [
              0.1111111111111111,
              "#46039f"
             ],
             [
              0.2222222222222222,
              "#7201a8"
             ],
             [
              0.3333333333333333,
              "#9c179e"
             ],
             [
              0.4444444444444444,
              "#bd3786"
             ],
             [
              0.5555555555555556,
              "#d8576b"
             ],
             [
              0.6666666666666666,
              "#ed7953"
             ],
             [
              0.7777777777777778,
              "#fb9f3a"
             ],
             [
              0.8888888888888888,
              "#fdca26"
             ],
             [
              1,
              "#f0f921"
             ]
            ],
            "type": "heatmapgl"
           }
          ],
          "histogram": [
           {
            "marker": {
             "pattern": {
              "fillmode": "overlay",
              "size": 10,
              "solidity": 0.2
             }
            },
            "type": "histogram"
           }
          ],
          "histogram2d": [
           {
            "colorbar": {
             "outlinewidth": 0,
             "ticks": ""
            },
            "colorscale": [
             [
              0,
              "#0d0887"
             ],
             [
              0.1111111111111111,
              "#46039f"
             ],
             [
              0.2222222222222222,
              "#7201a8"
             ],
             [
              0.3333333333333333,
              "#9c179e"
             ],
             [
              0.4444444444444444,
              "#bd3786"
             ],
             [
              0.5555555555555556,
              "#d8576b"
             ],
             [
              0.6666666666666666,
              "#ed7953"
             ],
             [
              0.7777777777777778,
              "#fb9f3a"
             ],
             [
              0.8888888888888888,
              "#fdca26"
             ],
             [
              1,
              "#f0f921"
             ]
            ],
            "type": "histogram2d"
           }
          ],
          "histogram2dcontour": [
           {
            "colorbar": {
             "outlinewidth": 0,
             "ticks": ""
            },
            "colorscale": [
             [
              0,
              "#0d0887"
             ],
             [
              0.1111111111111111,
              "#46039f"
             ],
             [
              0.2222222222222222,
              "#7201a8"
             ],
             [
              0.3333333333333333,
              "#9c179e"
             ],
             [
              0.4444444444444444,
              "#bd3786"
             ],
             [
              0.5555555555555556,
              "#d8576b"
             ],
             [
              0.6666666666666666,
              "#ed7953"
             ],
             [
              0.7777777777777778,
              "#fb9f3a"
             ],
             [
              0.8888888888888888,
              "#fdca26"
             ],
             [
              1,
              "#f0f921"
             ]
            ],
            "type": "histogram2dcontour"
           }
          ],
          "mesh3d": [
           {
            "colorbar": {
             "outlinewidth": 0,
             "ticks": ""
            },
            "type": "mesh3d"
           }
          ],
          "parcoords": [
           {
            "line": {
             "colorbar": {
              "outlinewidth": 0,
              "ticks": ""
             }
            },
            "type": "parcoords"
           }
          ],
          "pie": [
           {
            "automargin": true,
            "type": "pie"
           }
          ],
          "scatter": [
           {
            "fillpattern": {
             "fillmode": "overlay",
             "size": 10,
             "solidity": 0.2
            },
            "type": "scatter"
           }
          ],
          "scatter3d": [
           {
            "line": {
             "colorbar": {
              "outlinewidth": 0,
              "ticks": ""
             }
            },
            "marker": {
             "colorbar": {
              "outlinewidth": 0,
              "ticks": ""
             }
            },
            "type": "scatter3d"
           }
          ],
          "scattercarpet": [
           {
            "marker": {
             "colorbar": {
              "outlinewidth": 0,
              "ticks": ""
             }
            },
            "type": "scattercarpet"
           }
          ],
          "scattergeo": [
           {
            "marker": {
             "colorbar": {
              "outlinewidth": 0,
              "ticks": ""
             }
            },
            "type": "scattergeo"
           }
          ],
          "scattergl": [
           {
            "marker": {
             "colorbar": {
              "outlinewidth": 0,
              "ticks": ""
             }
            },
            "type": "scattergl"
           }
          ],
          "scattermapbox": [
           {
            "marker": {
             "colorbar": {
              "outlinewidth": 0,
              "ticks": ""
             }
            },
            "type": "scattermapbox"
           }
          ],
          "scatterpolar": [
           {
            "marker": {
             "colorbar": {
              "outlinewidth": 0,
              "ticks": ""
             }
            },
            "type": "scatterpolar"
           }
          ],
          "scatterpolargl": [
           {
            "marker": {
             "colorbar": {
              "outlinewidth": 0,
              "ticks": ""
             }
            },
            "type": "scatterpolargl"
           }
          ],
          "scatterternary": [
           {
            "marker": {
             "colorbar": {
              "outlinewidth": 0,
              "ticks": ""
             }
            },
            "type": "scatterternary"
           }
          ],
          "surface": [
           {
            "colorbar": {
             "outlinewidth": 0,
             "ticks": ""
            },
            "colorscale": [
             [
              0,
              "#0d0887"
             ],
             [
              0.1111111111111111,
              "#46039f"
             ],
             [
              0.2222222222222222,
              "#7201a8"
             ],
             [
              0.3333333333333333,
              "#9c179e"
             ],
             [
              0.4444444444444444,
              "#bd3786"
             ],
             [
              0.5555555555555556,
              "#d8576b"
             ],
             [
              0.6666666666666666,
              "#ed7953"
             ],
             [
              0.7777777777777778,
              "#fb9f3a"
             ],
             [
              0.8888888888888888,
              "#fdca26"
             ],
             [
              1,
              "#f0f921"
             ]
            ],
            "type": "surface"
           }
          ],
          "table": [
           {
            "cells": {
             "fill": {
              "color": "#EBF0F8"
             },
             "line": {
              "color": "white"
             }
            },
            "header": {
             "fill": {
              "color": "#C8D4E3"
             },
             "line": {
              "color": "white"
             }
            },
            "type": "table"
           }
          ]
         },
         "layout": {
          "annotationdefaults": {
           "arrowcolor": "#2a3f5f",
           "arrowhead": 0,
           "arrowwidth": 1
          },
          "autotypenumbers": "strict",
          "coloraxis": {
           "colorbar": {
            "outlinewidth": 0,
            "ticks": ""
           }
          },
          "colorscale": {
           "diverging": [
            [
             0,
             "#8e0152"
            ],
            [
             0.1,
             "#c51b7d"
            ],
            [
             0.2,
             "#de77ae"
            ],
            [
             0.3,
             "#f1b6da"
            ],
            [
             0.4,
             "#fde0ef"
            ],
            [
             0.5,
             "#f7f7f7"
            ],
            [
             0.6,
             "#e6f5d0"
            ],
            [
             0.7,
             "#b8e186"
            ],
            [
             0.8,
             "#7fbc41"
            ],
            [
             0.9,
             "#4d9221"
            ],
            [
             1,
             "#276419"
            ]
           ],
           "sequential": [
            [
             0,
             "#0d0887"
            ],
            [
             0.1111111111111111,
             "#46039f"
            ],
            [
             0.2222222222222222,
             "#7201a8"
            ],
            [
             0.3333333333333333,
             "#9c179e"
            ],
            [
             0.4444444444444444,
             "#bd3786"
            ],
            [
             0.5555555555555556,
             "#d8576b"
            ],
            [
             0.6666666666666666,
             "#ed7953"
            ],
            [
             0.7777777777777778,
             "#fb9f3a"
            ],
            [
             0.8888888888888888,
             "#fdca26"
            ],
            [
             1,
             "#f0f921"
            ]
           ],
           "sequentialminus": [
            [
             0,
             "#0d0887"
            ],
            [
             0.1111111111111111,
             "#46039f"
            ],
            [
             0.2222222222222222,
             "#7201a8"
            ],
            [
             0.3333333333333333,
             "#9c179e"
            ],
            [
             0.4444444444444444,
             "#bd3786"
            ],
            [
             0.5555555555555556,
             "#d8576b"
            ],
            [
             0.6666666666666666,
             "#ed7953"
            ],
            [
             0.7777777777777778,
             "#fb9f3a"
            ],
            [
             0.8888888888888888,
             "#fdca26"
            ],
            [
             1,
             "#f0f921"
            ]
           ]
          },
          "colorway": [
           "#636efa",
           "#EF553B",
           "#00cc96",
           "#ab63fa",
           "#FFA15A",
           "#19d3f3",
           "#FF6692",
           "#B6E880",
           "#FF97FF",
           "#FECB52"
          ],
          "font": {
           "color": "#2a3f5f"
          },
          "geo": {
           "bgcolor": "white",
           "lakecolor": "white",
           "landcolor": "#E5ECF6",
           "showlakes": true,
           "showland": true,
           "subunitcolor": "white"
          },
          "hoverlabel": {
           "align": "left"
          },
          "hovermode": "closest",
          "mapbox": {
           "style": "light"
          },
          "paper_bgcolor": "white",
          "plot_bgcolor": "#E5ECF6",
          "polar": {
           "angularaxis": {
            "gridcolor": "white",
            "linecolor": "white",
            "ticks": ""
           },
           "bgcolor": "#E5ECF6",
           "radialaxis": {
            "gridcolor": "white",
            "linecolor": "white",
            "ticks": ""
           }
          },
          "scene": {
           "xaxis": {
            "backgroundcolor": "#E5ECF6",
            "gridcolor": "white",
            "gridwidth": 2,
            "linecolor": "white",
            "showbackground": true,
            "ticks": "",
            "zerolinecolor": "white"
           },
           "yaxis": {
            "backgroundcolor": "#E5ECF6",
            "gridcolor": "white",
            "gridwidth": 2,
            "linecolor": "white",
            "showbackground": true,
            "ticks": "",
            "zerolinecolor": "white"
           },
           "zaxis": {
            "backgroundcolor": "#E5ECF6",
            "gridcolor": "white",
            "gridwidth": 2,
            "linecolor": "white",
            "showbackground": true,
            "ticks": "",
            "zerolinecolor": "white"
           }
          },
          "shapedefaults": {
           "line": {
            "color": "#2a3f5f"
           }
          },
          "ternary": {
           "aaxis": {
            "gridcolor": "white",
            "linecolor": "white",
            "ticks": ""
           },
           "baxis": {
            "gridcolor": "white",
            "linecolor": "white",
            "ticks": ""
           },
           "bgcolor": "#E5ECF6",
           "caxis": {
            "gridcolor": "white",
            "linecolor": "white",
            "ticks": ""
           }
          },
          "title": {
           "x": 0.05
          },
          "xaxis": {
           "automargin": true,
           "gridcolor": "white",
           "linecolor": "white",
           "ticks": "",
           "title": {
            "standoff": 15
           },
           "zerolinecolor": "white",
           "zerolinewidth": 2
          },
          "yaxis": {
           "automargin": true,
           "gridcolor": "white",
           "linecolor": "white",
           "ticks": "",
           "title": {
            "standoff": 15
           },
           "zerolinecolor": "white",
           "zerolinewidth": 2
          }
         }
        },
        "title": {
         "text": "pbmc_CEL-Seq to pbmc_Drop-Seq matching cost"
        },
        "xaxis": {
         "anchor": "y",
         "constrain": "domain",
         "domain": [
          0,
          1
         ],
         "scaleanchor": "y",
         "tickangle": -90,
         "title": {
          "text": "Reference: pbmc_Drop-Seq"
         }
        },
        "yaxis": {
         "anchor": "x",
         "autorange": "reversed",
         "constrain": "domain",
         "domain": [
          0,
          1
         ],
         "title": {
          "text": "Query: pbmc_CEL-Seq"
         }
        }
       }
      }
     },
     "metadata": {},
     "output_type": "display_data"
    }
   ],
   "source": [
    "q, ref = 'pbmc_CEL-Seq', 'pbmc_Drop-Seq'\n",
    "\n",
    "rcm = RefCM(cache_load=False, cache_save=False)\n",
    "m = rcm.annotate(ds[q], q, ds[ref], ref, 'labels', 'labels')\n",
    "m.eval('labels')\n",
    "m.display_matching_costs('labels')"
   ]
  },
  {
   "cell_type": "code",
   "execution_count": 9,
   "metadata": {},
   "outputs": [
    {
     "name": "stderr",
     "output_type": "stream",
     "text": [
      "[refcm           ] [INFO    ] : NOTE: raw counts expected in anndata .X attributes.\n",
      "[refcm           ] [DEBUG   ] : Loading cached mapping costs from cache.json.\n"
     ]
    }
   ],
   "source": [
    "q, ref = 'pbmc_10Xv2', 'pbmc_CEL-Seq'\n",
    "\n",
    "from embeddings import PCAEmbedder\n",
    "\n",
    "pca = PCAEmbedder()\n",
    "\n",
    "rcm = RefCM(cache_load=False, cache_save=False, embedder=pca)\n",
    "m = rcm.annotate(ds[q], q, ds[ref], ref, 'labels', 'labels')\n",
    "m.eval('labels')\n",
    "m.display_matching_costs('labels')"
   ]
  },
  {
   "cell_type": "code",
   "execution_count": 8,
   "metadata": {},
   "outputs": [
    {
     "data": {
      "text/plain": [
       "9"
      ]
     },
     "execution_count": 8,
     "metadata": {},
     "output_type": "execute_result"
    }
   ],
   "source": [
    "ds[q].obs['labels'].unique().tolist().__len__()"
   ]
  },
  {
   "cell_type": "code",
   "execution_count": 4,
   "metadata": {},
   "outputs": [
    {
     "name": "stderr",
     "output_type": "stream",
     "text": [
      "[refcm           ] [INFO    ] : NOTE: raw counts expected in anndata .X attributes.\n",
      "[refcm           ] [DEBUG   ] : Loading cached mapping costs from cache.json.\n",
      "[refcm           ] [DEBUG   ] : Using costs for pbmc_10Xv2->pbmc_10Xv3 found in cache.\n",
      "[refcm           ] [DEBUG   ] : starting LP optimization\n",
      "[refcm           ] [DEBUG   ] : optimization terminated w. status \"Optimal\"\n",
      "[matchings       ] [DEBUG   ] : \u001b[32m[+]\u001b[0m B cell               mapped to B cell              \n",
      "[matchings       ] [DEBUG   ] : \u001b[32m[+]\u001b[0m CD14+ monocyte       mapped to CD14+ monocyte      \n",
      "[matchings       ] [DEBUG   ] : \u001b[32m[+]\u001b[0m CD16+ monocyte       mapped to CD16+ monocyte      \n",
      "[matchings       ] [DEBUG   ] : \u001b[32m[+]\u001b[0m CD4+ T cell          mapped to CD4+ T cell         \n",
      "[matchings       ] [DEBUG   ] : \u001b[32m[+]\u001b[0m Cytotoxic T cell     mapped to Cytotoxic T cell    \n",
      "[matchings       ] [DEBUG   ] : \u001b[32m[+]\u001b[0m Dendritic cell       mapped to Dendritic cell      \n",
      "[matchings       ] [DEBUG   ] : \u001b[32m[+]\u001b[0m Megakaryocyte        mapped to Megakaryocyte       \n",
      "[matchings       ] [DEBUG   ] : \u001b[32m[+]\u001b[0m Natural killer cell  mapped to Natural killer cell \n",
      "[matchings       ] [INFO    ] : pbmc_10Xv2           to pbmc_10Xv3          \n",
      "[matchings       ] [INFO    ] : 8     common cell types\n",
      "[matchings       ] [INFO    ] : 8 /8  correct   links\n",
      "[matchings       ] [INFO    ] : 0     incorrect links\n",
      "[refcm           ] [DEBUG   ] : Using costs for pbmc_10Xv2->pbmc_CEL-Seq found in cache.\n",
      "[refcm           ] [DEBUG   ] : starting LP optimization\n",
      "[refcm           ] [DEBUG   ] : optimization terminated w. status \"Optimal\"\n",
      "[matchings       ] [DEBUG   ] : \u001b[32m[+]\u001b[0m B cell               mapped to B cell              \n",
      "[matchings       ] [DEBUG   ] : \u001b[32m[+]\u001b[0m CD14+ monocyte       mapped to CD14+ monocyte      \n",
      "[matchings       ] [DEBUG   ] : \u001b[32m[+]\u001b[0m CD16+ monocyte       mapped to CD16+ monocyte      \n",
      "[matchings       ] [DEBUG   ] : \u001b[32m[+]\u001b[0m CD4+ T cell          mapped to CD4+ T cell         \n",
      "[matchings       ] [DEBUG   ] : \u001b[32m[+]\u001b[0m Cytotoxic T cell     mapped to Cytotoxic T cell    \n",
      "[matchings       ] [DEBUG   ] : \u001b[31m[-]\u001b[0m Dendritic cell       mapped to Natural killer cell \n",
      "[matchings       ] [DEBUG   ] : \u001b[32m[+]\u001b[0m Megakaryocyte        mapped to Megakaryocyte       \n",
      "[matchings       ] [INFO    ] : pbmc_10Xv2           to pbmc_CEL-Seq        \n",
      "[matchings       ] [INFO    ] : 7     common cell types\n",
      "[matchings       ] [INFO    ] : 6 /7  correct   links\n",
      "[matchings       ] [INFO    ] : 1     incorrect links\n",
      "[refcm           ] [DEBUG   ] : Using costs for pbmc_10Xv2->pbmc_Drop-Seq found in cache.\n",
      "[refcm           ] [DEBUG   ] : starting LP optimization\n",
      "[refcm           ] [DEBUG   ] : optimization terminated w. status \"Optimal\"\n",
      "[matchings       ] [DEBUG   ] : \u001b[32m[+]\u001b[0m B cell               mapped to B cell              \n",
      "[matchings       ] [DEBUG   ] : \u001b[32m[+]\u001b[0m CD14+ monocyte       mapped to CD14+ monocyte      \n",
      "[matchings       ] [DEBUG   ] : \u001b[32m[+]\u001b[0m CD16+ monocyte       mapped to CD16+ monocyte      \n",
      "[matchings       ] [DEBUG   ] : \u001b[32m[+]\u001b[0m CD4+ T cell          mapped to CD4+ T cell         \n",
      "[matchings       ] [DEBUG   ] : \u001b[32m[+]\u001b[0m Cytotoxic T cell     mapped to Cytotoxic T cell    \n",
      "[matchings       ] [DEBUG   ] : \u001b[32m[+]\u001b[0m Dendritic cell       mapped to Dendritic cell      \n",
      "[matchings       ] [DEBUG   ] : \u001b[32m[+]\u001b[0m Megakaryocyte        mapped to Megakaryocyte       \n",
      "[matchings       ] [DEBUG   ] : \u001b[32m[+]\u001b[0m Natural killer cell  mapped to Natural killer cell \n",
      "[matchings       ] [DEBUG   ] : \u001b[32m[+]\u001b[0m Plasmacytoid dendritic cell mapped to Plasmacytoid dendritic cell\n",
      "[matchings       ] [INFO    ] : pbmc_10Xv2           to pbmc_Drop-Seq       \n",
      "[matchings       ] [INFO    ] : 9     common cell types\n",
      "[matchings       ] [INFO    ] : 9 /9  correct   links\n",
      "[matchings       ] [INFO    ] : 0     incorrect links\n",
      "[refcm           ] [DEBUG   ] : Using costs for pbmc_10Xv2->pbmc_inDrop found in cache.\n",
      "[refcm           ] [DEBUG   ] : starting LP optimization\n",
      "[refcm           ] [DEBUG   ] : optimization terminated w. status \"Optimal\"\n",
      "[matchings       ] [DEBUG   ] : \u001b[32m[+]\u001b[0m B cell               mapped to B cell              \n",
      "[matchings       ] [DEBUG   ] : \u001b[32m[+]\u001b[0m CD14+ monocyte       mapped to CD14+ monocyte      \n",
      "[matchings       ] [DEBUG   ] : \u001b[32m[+]\u001b[0m CD16+ monocyte       mapped to CD16+ monocyte      \n",
      "[matchings       ] [DEBUG   ] : \u001b[32m[+]\u001b[0m CD4+ T cell          mapped to CD4+ T cell         \n",
      "[matchings       ] [DEBUG   ] : \u001b[32m[+]\u001b[0m Cytotoxic T cell     mapped to Cytotoxic T cell    \n",
      "[matchings       ] [DEBUG   ] : \u001b[32m[+]\u001b[0m Megakaryocyte        mapped to Megakaryocyte       \n",
      "[matchings       ] [DEBUG   ] : \u001b[32m[+]\u001b[0m Plasmacytoid dendritic cell mapped to Plasmacytoid dendritic cell\n",
      "[matchings       ] [INFO    ] : pbmc_10Xv2           to pbmc_inDrop         \n",
      "[matchings       ] [INFO    ] : 7     common cell types\n",
      "[matchings       ] [INFO    ] : 7 /7  correct   links\n",
      "[matchings       ] [INFO    ] : 0     incorrect links\n",
      "[refcm           ] [DEBUG   ] : Using costs for pbmc_10Xv2->pbmc_Seq-Well found in cache.\n",
      "[refcm           ] [DEBUG   ] : starting LP optimization\n",
      "[refcm           ] [DEBUG   ] : optimization terminated w. status \"Optimal\"\n",
      "[matchings       ] [DEBUG   ] : \u001b[32m[+]\u001b[0m B cell               mapped to B cell              \n",
      "[matchings       ] [DEBUG   ] : \u001b[32m[+]\u001b[0m CD14+ monocyte       mapped to CD14+ monocyte      \n",
      "[matchings       ] [DEBUG   ] : \u001b[32m[+]\u001b[0m CD4+ T cell          mapped to CD4+ T cell         \n",
      "[matchings       ] [DEBUG   ] : \u001b[32m[+]\u001b[0m Cytotoxic T cell     mapped to Cytotoxic T cell    \n",
      "[matchings       ] [DEBUG   ] : \u001b[32m[+]\u001b[0m Dendritic cell       mapped to Dendritic cell      \n",
      "[matchings       ] [DEBUG   ] : \u001b[32m[+]\u001b[0m Megakaryocyte        mapped to Megakaryocyte       \n",
      "[matchings       ] [DEBUG   ] : \u001b[32m[+]\u001b[0m Plasmacytoid dendritic cell mapped to Plasmacytoid dendritic cell\n",
      "[matchings       ] [INFO    ] : pbmc_10Xv2           to pbmc_Seq-Well       \n",
      "[matchings       ] [INFO    ] : 7     common cell types\n",
      "[matchings       ] [INFO    ] : 7 /7  correct   links\n",
      "[matchings       ] [INFO    ] : 0     incorrect links\n",
      "[refcm           ] [DEBUG   ] : Using costs for pbmc_10Xv2->pbmc_Smart-Seq2 found in cache.\n",
      "[refcm           ] [DEBUG   ] : starting LP optimization\n",
      "[refcm           ] [DEBUG   ] : optimization terminated w. status \"Optimal\"\n",
      "[matchings       ] [DEBUG   ] : \u001b[32m[+]\u001b[0m B cell               mapped to B cell              \n",
      "[matchings       ] [DEBUG   ] : \u001b[32m[+]\u001b[0m CD14+ monocyte       mapped to CD14+ monocyte      \n",
      "[matchings       ] [DEBUG   ] : \u001b[32m[+]\u001b[0m CD16+ monocyte       mapped to CD16+ monocyte      \n",
      "[matchings       ] [DEBUG   ] : \u001b[32m[+]\u001b[0m CD4+ T cell          mapped to CD4+ T cell         \n",
      "[matchings       ] [DEBUG   ] : \u001b[32m[+]\u001b[0m Cytotoxic T cell     mapped to Cytotoxic T cell    \n",
      "[matchings       ] [DEBUG   ] : \u001b[32m[+]\u001b[0m Megakaryocyte        mapped to Megakaryocyte       \n",
      "[matchings       ] [INFO    ] : pbmc_10Xv2           to pbmc_Smart-Seq2     \n",
      "[matchings       ] [INFO    ] : 6     common cell types\n",
      "[matchings       ] [INFO    ] : 6 /6  correct   links\n",
      "[matchings       ] [INFO    ] : 0     incorrect links\n",
      "[refcm           ] [DEBUG   ] : Using costs for pbmc_10Xv3->pbmc_10Xv2 found in cache.\n",
      "[refcm           ] [DEBUG   ] : starting LP optimization\n",
      "[refcm           ] [DEBUG   ] : optimization terminated w. status \"Optimal\"\n",
      "[matchings       ] [DEBUG   ] : \u001b[32m[+]\u001b[0m B cell               mapped to B cell              \n",
      "[matchings       ] [DEBUG   ] : \u001b[32m[+]\u001b[0m CD14+ monocyte       mapped to CD14+ monocyte      \n",
      "[matchings       ] [DEBUG   ] : \u001b[32m[+]\u001b[0m CD16+ monocyte       mapped to CD16+ monocyte      \n",
      "[matchings       ] [DEBUG   ] : \u001b[32m[+]\u001b[0m CD4+ T cell          mapped to CD4+ T cell         \n",
      "[matchings       ] [DEBUG   ] : \u001b[32m[+]\u001b[0m Cytotoxic T cell     mapped to Cytotoxic T cell    \n",
      "[matchings       ] [DEBUG   ] : \u001b[32m[+]\u001b[0m Dendritic cell       mapped to Dendritic cell      \n",
      "[matchings       ] [DEBUG   ] : \u001b[32m[+]\u001b[0m Megakaryocyte        mapped to Megakaryocyte       \n",
      "[matchings       ] [DEBUG   ] : \u001b[32m[+]\u001b[0m Natural killer cell  mapped to Natural killer cell \n",
      "[matchings       ] [INFO    ] : pbmc_10Xv3           to pbmc_10Xv2          \n",
      "[matchings       ] [INFO    ] : 8     common cell types\n",
      "[matchings       ] [INFO    ] : 8 /8  correct   links\n",
      "[matchings       ] [INFO    ] : 0     incorrect links\n",
      "[refcm           ] [DEBUG   ] : Using costs for pbmc_10Xv3->pbmc_CEL-Seq found in cache.\n",
      "[refcm           ] [DEBUG   ] : starting LP optimization\n",
      "[refcm           ] [DEBUG   ] : optimization terminated w. status \"Optimal\"\n",
      "[matchings       ] [DEBUG   ] : \u001b[32m[+]\u001b[0m B cell               mapped to B cell              \n",
      "[matchings       ] [DEBUG   ] : \u001b[32m[+]\u001b[0m CD14+ monocyte       mapped to CD14+ monocyte      \n",
      "[matchings       ] [DEBUG   ] : \u001b[32m[+]\u001b[0m CD16+ monocyte       mapped to CD16+ monocyte      \n",
      "[matchings       ] [DEBUG   ] : \u001b[32m[+]\u001b[0m CD4+ T cell          mapped to CD4+ T cell         \n",
      "[matchings       ] [DEBUG   ] : \u001b[32m[+]\u001b[0m Cytotoxic T cell     mapped to Cytotoxic T cell    \n",
      "[matchings       ] [DEBUG   ] : \u001b[32m[+]\u001b[0m Megakaryocyte        mapped to Megakaryocyte       \n",
      "[matchings       ] [DEBUG   ] : \u001b[32m[+]\u001b[0m Natural killer cell  mapped to Natural killer cell \n",
      "[matchings       ] [INFO    ] : pbmc_10Xv3           to pbmc_CEL-Seq        \n",
      "[matchings       ] [INFO    ] : 7     common cell types\n",
      "[matchings       ] [INFO    ] : 7 /7  correct   links\n",
      "[matchings       ] [INFO    ] : 0     incorrect links\n",
      "[refcm           ] [DEBUG   ] : Using costs for pbmc_10Xv3->pbmc_Drop-Seq found in cache.\n",
      "[refcm           ] [DEBUG   ] : starting LP optimization\n",
      "[refcm           ] [DEBUG   ] : optimization terminated w. status \"Optimal\"\n",
      "[matchings       ] [DEBUG   ] : \u001b[32m[+]\u001b[0m B cell               mapped to B cell              \n",
      "[matchings       ] [DEBUG   ] : \u001b[32m[+]\u001b[0m CD14+ monocyte       mapped to CD14+ monocyte      \n",
      "[matchings       ] [DEBUG   ] : \u001b[32m[+]\u001b[0m CD16+ monocyte       mapped to CD16+ monocyte      \n",
      "[matchings       ] [DEBUG   ] : \u001b[32m[+]\u001b[0m CD4+ T cell          mapped to CD4+ T cell         \n",
      "[matchings       ] [DEBUG   ] : \u001b[32m[+]\u001b[0m Cytotoxic T cell     mapped to Cytotoxic T cell    \n",
      "[matchings       ] [DEBUG   ] : \u001b[32m[+]\u001b[0m Dendritic cell       mapped to Dendritic cell      \n",
      "[matchings       ] [DEBUG   ] : \u001b[32m[+]\u001b[0m Megakaryocyte        mapped to Megakaryocyte       \n",
      "[matchings       ] [DEBUG   ] : \u001b[32m[+]\u001b[0m Natural killer cell  mapped to Natural killer cell \n",
      "[matchings       ] [INFO    ] : pbmc_10Xv3           to pbmc_Drop-Seq       \n",
      "[matchings       ] [INFO    ] : 8     common cell types\n",
      "[matchings       ] [INFO    ] : 8 /8  correct   links\n",
      "[matchings       ] [INFO    ] : 0     incorrect links\n",
      "[refcm           ] [DEBUG   ] : Using costs for pbmc_10Xv3->pbmc_inDrop found in cache.\n",
      "[refcm           ] [DEBUG   ] : starting LP optimization\n",
      "[refcm           ] [DEBUG   ] : optimization terminated w. status \"Optimal\"\n",
      "[matchings       ] [DEBUG   ] : \u001b[32m[+]\u001b[0m B cell               mapped to B cell              \n",
      "[matchings       ] [DEBUG   ] : \u001b[32m[+]\u001b[0m CD14+ monocyte       mapped to CD14+ monocyte      \n",
      "[matchings       ] [DEBUG   ] : \u001b[32m[+]\u001b[0m CD16+ monocyte       mapped to CD16+ monocyte      \n",
      "[matchings       ] [DEBUG   ] : \u001b[32m[+]\u001b[0m CD4+ T cell          mapped to CD4+ T cell         \n",
      "[matchings       ] [DEBUG   ] : \u001b[32m[+]\u001b[0m Cytotoxic T cell     mapped to Cytotoxic T cell    \n",
      "[matchings       ] [DEBUG   ] : \u001b[31m[-]\u001b[0m Dendritic cell       mapped to Plasmacytoid dendritic cell\n",
      "[matchings       ] [DEBUG   ] : \u001b[32m[+]\u001b[0m Megakaryocyte        mapped to Megakaryocyte       \n",
      "[matchings       ] [INFO    ] : pbmc_10Xv3           to pbmc_inDrop         \n",
      "[matchings       ] [INFO    ] : 6     common cell types\n",
      "[matchings       ] [INFO    ] : 6 /6  correct   links\n",
      "[matchings       ] [INFO    ] : 1     incorrect links\n",
      "[refcm           ] [DEBUG   ] : Using costs for pbmc_10Xv3->pbmc_Seq-Well found in cache.\n",
      "[refcm           ] [DEBUG   ] : starting LP optimization\n",
      "[refcm           ] [DEBUG   ] : optimization terminated w. status \"Optimal\"\n",
      "[matchings       ] [DEBUG   ] : \u001b[32m[+]\u001b[0m B cell               mapped to B cell              \n",
      "[matchings       ] [DEBUG   ] : \u001b[32m[+]\u001b[0m CD14+ monocyte       mapped to CD14+ monocyte      \n",
      "[matchings       ] [DEBUG   ] : \u001b[32m[+]\u001b[0m CD4+ T cell          mapped to CD4+ T cell         \n",
      "[matchings       ] [DEBUG   ] : \u001b[32m[+]\u001b[0m Cytotoxic T cell     mapped to Cytotoxic T cell    \n",
      "[matchings       ] [DEBUG   ] : \u001b[32m[+]\u001b[0m Dendritic cell       mapped to Dendritic cell      \n",
      "[matchings       ] [DEBUG   ] : \u001b[32m[+]\u001b[0m Megakaryocyte        mapped to Megakaryocyte       \n",
      "[matchings       ] [INFO    ] : pbmc_10Xv3           to pbmc_Seq-Well       \n",
      "[matchings       ] [INFO    ] : 6     common cell types\n",
      "[matchings       ] [INFO    ] : 6 /6  correct   links\n",
      "[matchings       ] [INFO    ] : 0     incorrect links\n",
      "[refcm           ] [DEBUG   ] : Using costs for pbmc_10Xv3->pbmc_Smart-Seq2 found in cache.\n",
      "[refcm           ] [DEBUG   ] : starting LP optimization\n",
      "[refcm           ] [DEBUG   ] : optimization terminated w. status \"Optimal\"\n",
      "[matchings       ] [DEBUG   ] : \u001b[32m[+]\u001b[0m B cell               mapped to B cell              \n",
      "[matchings       ] [DEBUG   ] : \u001b[32m[+]\u001b[0m CD14+ monocyte       mapped to CD14+ monocyte      \n",
      "[matchings       ] [DEBUG   ] : \u001b[32m[+]\u001b[0m CD16+ monocyte       mapped to CD16+ monocyte      \n",
      "[matchings       ] [DEBUG   ] : \u001b[32m[+]\u001b[0m CD4+ T cell          mapped to CD4+ T cell         \n",
      "[matchings       ] [DEBUG   ] : \u001b[32m[+]\u001b[0m Cytotoxic T cell     mapped to Cytotoxic T cell    \n",
      "[matchings       ] [DEBUG   ] : \u001b[32m[+]\u001b[0m Megakaryocyte        mapped to Megakaryocyte       \n",
      "[matchings       ] [INFO    ] : pbmc_10Xv3           to pbmc_Smart-Seq2     \n",
      "[matchings       ] [INFO    ] : 6     common cell types\n",
      "[matchings       ] [INFO    ] : 6 /6  correct   links\n",
      "[matchings       ] [INFO    ] : 0     incorrect links\n",
      "[refcm           ] [DEBUG   ] : Using costs for pbmc_CEL-Seq->pbmc_10Xv2 found in cache.\n",
      "[refcm           ] [DEBUG   ] : starting LP optimization\n",
      "[refcm           ] [DEBUG   ] : optimization terminated w. status \"Optimal\"\n",
      "[matchings       ] [DEBUG   ] : \u001b[32m[+]\u001b[0m B cell               mapped to B cell              \n",
      "[matchings       ] [DEBUG   ] : \u001b[32m[+]\u001b[0m CD14+ monocyte       mapped to CD14+ monocyte      \n",
      "[matchings       ] [DEBUG   ] : \u001b[32m[+]\u001b[0m CD16+ monocyte       mapped to CD16+ monocyte      \n",
      "[matchings       ] [DEBUG   ] : \u001b[32m[+]\u001b[0m CD4+ T cell          mapped to CD4+ T cell         \n",
      "[matchings       ] [DEBUG   ] : \u001b[32m[+]\u001b[0m Cytotoxic T cell     mapped to Cytotoxic T cell    \n",
      "[matchings       ] [DEBUG   ] : \u001b[32m[+]\u001b[0m Megakaryocyte        mapped to Megakaryocyte       \n",
      "[matchings       ] [DEBUG   ] : \u001b[31m[-]\u001b[0m Natural killer cell  mapped to Dendritic cell      \n",
      "[matchings       ] [INFO    ] : pbmc_CEL-Seq         to pbmc_10Xv2          \n",
      "[matchings       ] [INFO    ] : 7     common cell types\n",
      "[matchings       ] [INFO    ] : 6 /7  correct   links\n",
      "[matchings       ] [INFO    ] : 1     incorrect links\n",
      "[refcm           ] [DEBUG   ] : Using costs for pbmc_CEL-Seq->pbmc_10Xv3 found in cache.\n",
      "[refcm           ] [DEBUG   ] : starting LP optimization\n",
      "[refcm           ] [DEBUG   ] : optimization terminated w. status \"Optimal\"\n",
      "[matchings       ] [DEBUG   ] : \u001b[32m[+]\u001b[0m B cell               mapped to B cell              \n",
      "[matchings       ] [DEBUG   ] : \u001b[32m[+]\u001b[0m CD14+ monocyte       mapped to CD14+ monocyte      \n",
      "[matchings       ] [DEBUG   ] : \u001b[32m[+]\u001b[0m CD16+ monocyte       mapped to CD16+ monocyte      \n",
      "[matchings       ] [DEBUG   ] : \u001b[32m[+]\u001b[0m CD4+ T cell          mapped to CD4+ T cell         \n",
      "[matchings       ] [DEBUG   ] : \u001b[32m[+]\u001b[0m Cytotoxic T cell     mapped to Cytotoxic T cell    \n",
      "[matchings       ] [DEBUG   ] : \u001b[32m[+]\u001b[0m Megakaryocyte        mapped to Megakaryocyte       \n",
      "[matchings       ] [DEBUG   ] : \u001b[32m[+]\u001b[0m Natural killer cell  mapped to Natural killer cell \n",
      "[matchings       ] [INFO    ] : pbmc_CEL-Seq         to pbmc_10Xv3          \n",
      "[matchings       ] [INFO    ] : 7     common cell types\n",
      "[matchings       ] [INFO    ] : 7 /7  correct   links\n",
      "[matchings       ] [INFO    ] : 0     incorrect links\n",
      "[refcm           ] [DEBUG   ] : Using costs for pbmc_CEL-Seq->pbmc_Drop-Seq found in cache.\n",
      "[refcm           ] [DEBUG   ] : starting LP optimization\n",
      "[refcm           ] [DEBUG   ] : optimization terminated w. status \"Optimal\"\n",
      "[matchings       ] [DEBUG   ] : \u001b[32m[+]\u001b[0m B cell               mapped to B cell              \n",
      "[matchings       ] [DEBUG   ] : \u001b[32m[+]\u001b[0m CD14+ monocyte       mapped to CD14+ monocyte      \n",
      "[matchings       ] [DEBUG   ] : \u001b[32m[+]\u001b[0m CD16+ monocyte       mapped to CD16+ monocyte      \n",
      "[matchings       ] [DEBUG   ] : \u001b[32m[+]\u001b[0m CD4+ T cell          mapped to CD4+ T cell         \n",
      "[matchings       ] [DEBUG   ] : \u001b[32m[+]\u001b[0m Cytotoxic T cell     mapped to Cytotoxic T cell    \n",
      "[matchings       ] [DEBUG   ] : \u001b[32m[+]\u001b[0m Megakaryocyte        mapped to Megakaryocyte       \n",
      "[matchings       ] [DEBUG   ] : \u001b[32m[+]\u001b[0m Natural killer cell  mapped to Natural killer cell \n",
      "[matchings       ] [INFO    ] : pbmc_CEL-Seq         to pbmc_Drop-Seq       \n",
      "[matchings       ] [INFO    ] : 7     common cell types\n",
      "[matchings       ] [INFO    ] : 7 /7  correct   links\n",
      "[matchings       ] [INFO    ] : 0     incorrect links\n",
      "[refcm           ] [DEBUG   ] : Using costs for pbmc_CEL-Seq->pbmc_inDrop found in cache.\n",
      "[refcm           ] [DEBUG   ] : starting LP optimization\n",
      "[refcm           ] [DEBUG   ] : optimization terminated w. status \"Optimal\"\n",
      "[matchings       ] [DEBUG   ] : \u001b[32m[+]\u001b[0m B cell               mapped to B cell              \n",
      "[matchings       ] [DEBUG   ] : \u001b[32m[+]\u001b[0m CD14+ monocyte       mapped to CD14+ monocyte      \n",
      "[matchings       ] [DEBUG   ] : \u001b[32m[+]\u001b[0m CD16+ monocyte       mapped to CD16+ monocyte      \n",
      "[matchings       ] [DEBUG   ] : \u001b[32m[+]\u001b[0m CD4+ T cell          mapped to CD4+ T cell         \n",
      "[matchings       ] [DEBUG   ] : \u001b[32m[+]\u001b[0m Cytotoxic T cell     mapped to Cytotoxic T cell    \n",
      "[matchings       ] [DEBUG   ] : \u001b[32m[+]\u001b[0m Megakaryocyte        mapped to Megakaryocyte       \n",
      "[matchings       ] [INFO    ] : pbmc_CEL-Seq         to pbmc_inDrop         \n",
      "[matchings       ] [INFO    ] : 6     common cell types\n",
      "[matchings       ] [INFO    ] : 6 /6  correct   links\n",
      "[matchings       ] [INFO    ] : 0     incorrect links\n",
      "[refcm           ] [DEBUG   ] : Using costs for pbmc_CEL-Seq->pbmc_Seq-Well found in cache.\n",
      "[refcm           ] [DEBUG   ] : starting LP optimization\n",
      "[refcm           ] [DEBUG   ] : optimization terminated w. status \"Optimal\"\n",
      "[matchings       ] [DEBUG   ] : \u001b[32m[+]\u001b[0m B cell               mapped to B cell              \n",
      "[matchings       ] [DEBUG   ] : \u001b[32m[+]\u001b[0m CD14+ monocyte       mapped to CD14+ monocyte      \n",
      "[matchings       ] [DEBUG   ] : \u001b[31m[-]\u001b[0m CD16+ monocyte       mapped to Dendritic cell      \n",
      "[matchings       ] [DEBUG   ] : \u001b[32m[+]\u001b[0m CD4+ T cell          mapped to CD4+ T cell         \n",
      "[matchings       ] [DEBUG   ] : \u001b[32m[+]\u001b[0m Cytotoxic T cell     mapped to Cytotoxic T cell    \n",
      "[matchings       ] [DEBUG   ] : \u001b[32m[+]\u001b[0m Megakaryocyte        mapped to Megakaryocyte       \n",
      "[matchings       ] [INFO    ] : pbmc_CEL-Seq         to pbmc_Seq-Well       \n",
      "[matchings       ] [INFO    ] : 5     common cell types\n",
      "[matchings       ] [INFO    ] : 5 /5  correct   links\n",
      "[matchings       ] [INFO    ] : 1     incorrect links\n",
      "[refcm           ] [DEBUG   ] : Using costs for pbmc_CEL-Seq->pbmc_Smart-Seq2 found in cache.\n",
      "[refcm           ] [DEBUG   ] : starting LP optimization\n",
      "[refcm           ] [DEBUG   ] : optimization terminated w. status \"Optimal\"\n",
      "[matchings       ] [DEBUG   ] : \u001b[32m[+]\u001b[0m B cell               mapped to B cell              \n",
      "[matchings       ] [DEBUG   ] : \u001b[32m[+]\u001b[0m CD14+ monocyte       mapped to CD14+ monocyte      \n",
      "[matchings       ] [DEBUG   ] : \u001b[32m[+]\u001b[0m CD16+ monocyte       mapped to CD16+ monocyte      \n",
      "[matchings       ] [DEBUG   ] : \u001b[32m[+]\u001b[0m CD4+ T cell          mapped to CD4+ T cell         \n",
      "[matchings       ] [DEBUG   ] : \u001b[32m[+]\u001b[0m Cytotoxic T cell     mapped to Cytotoxic T cell    \n",
      "[matchings       ] [DEBUG   ] : \u001b[32m[+]\u001b[0m Megakaryocyte        mapped to Megakaryocyte       \n",
      "[matchings       ] [INFO    ] : pbmc_CEL-Seq         to pbmc_Smart-Seq2     \n",
      "[matchings       ] [INFO    ] : 6     common cell types\n",
      "[matchings       ] [INFO    ] : 6 /6  correct   links\n",
      "[matchings       ] [INFO    ] : 0     incorrect links\n",
      "[refcm           ] [DEBUG   ] : Using costs for pbmc_Drop-Seq->pbmc_10Xv2 found in cache.\n",
      "[refcm           ] [DEBUG   ] : starting LP optimization\n",
      "[refcm           ] [DEBUG   ] : optimization terminated w. status \"Optimal\"\n",
      "[matchings       ] [DEBUG   ] : \u001b[32m[+]\u001b[0m B cell               mapped to B cell              \n",
      "[matchings       ] [DEBUG   ] : \u001b[32m[+]\u001b[0m CD14+ monocyte       mapped to CD14+ monocyte      \n",
      "[matchings       ] [DEBUG   ] : \u001b[32m[+]\u001b[0m CD16+ monocyte       mapped to CD16+ monocyte      \n",
      "[matchings       ] [DEBUG   ] : \u001b[32m[+]\u001b[0m CD4+ T cell          mapped to CD4+ T cell         \n",
      "[matchings       ] [DEBUG   ] : \u001b[32m[+]\u001b[0m Cytotoxic T cell     mapped to Cytotoxic T cell    \n",
      "[matchings       ] [DEBUG   ] : \u001b[32m[+]\u001b[0m Dendritic cell       mapped to Dendritic cell      \n",
      "[matchings       ] [DEBUG   ] : \u001b[32m[+]\u001b[0m Megakaryocyte        mapped to Megakaryocyte       \n",
      "[matchings       ] [DEBUG   ] : \u001b[32m[+]\u001b[0m Natural killer cell  mapped to Natural killer cell \n",
      "[matchings       ] [DEBUG   ] : \u001b[32m[+]\u001b[0m Plasmacytoid dendritic cell mapped to Plasmacytoid dendritic cell\n",
      "[matchings       ] [INFO    ] : pbmc_Drop-Seq        to pbmc_10Xv2          \n",
      "[matchings       ] [INFO    ] : 9     common cell types\n",
      "[matchings       ] [INFO    ] : 9 /9  correct   links\n",
      "[matchings       ] [INFO    ] : 0     incorrect links\n",
      "[refcm           ] [DEBUG   ] : Using costs for pbmc_Drop-Seq->pbmc_10Xv3 found in cache.\n",
      "[refcm           ] [DEBUG   ] : starting LP optimization\n",
      "[refcm           ] [DEBUG   ] : optimization terminated w. status \"Optimal\"\n",
      "[matchings       ] [DEBUG   ] : \u001b[32m[+]\u001b[0m B cell               mapped to B cell              \n",
      "[matchings       ] [DEBUG   ] : \u001b[32m[+]\u001b[0m CD14+ monocyte       mapped to CD14+ monocyte      \n",
      "[matchings       ] [DEBUG   ] : \u001b[32m[+]\u001b[0m CD16+ monocyte       mapped to CD16+ monocyte      \n",
      "[matchings       ] [DEBUG   ] : \u001b[32m[+]\u001b[0m CD4+ T cell          mapped to CD4+ T cell         \n",
      "[matchings       ] [DEBUG   ] : \u001b[32m[+]\u001b[0m Cytotoxic T cell     mapped to Cytotoxic T cell    \n",
      "[matchings       ] [DEBUG   ] : \u001b[32m[+]\u001b[0m Dendritic cell       mapped to Dendritic cell      \n",
      "[matchings       ] [DEBUG   ] : \u001b[32m[+]\u001b[0m Megakaryocyte        mapped to Megakaryocyte       \n",
      "[matchings       ] [DEBUG   ] : \u001b[32m[+]\u001b[0m Natural killer cell  mapped to Natural killer cell \n",
      "[matchings       ] [INFO    ] : pbmc_Drop-Seq        to pbmc_10Xv3          \n",
      "[matchings       ] [INFO    ] : 8     common cell types\n",
      "[matchings       ] [INFO    ] : 8 /8  correct   links\n",
      "[matchings       ] [INFO    ] : 0     incorrect links\n",
      "[refcm           ] [DEBUG   ] : Using costs for pbmc_Drop-Seq->pbmc_CEL-Seq found in cache.\n",
      "[refcm           ] [DEBUG   ] : starting LP optimization\n",
      "[refcm           ] [DEBUG   ] : optimization terminated w. status \"Optimal\"\n",
      "[matchings       ] [DEBUG   ] : \u001b[32m[+]\u001b[0m B cell               mapped to B cell              \n",
      "[matchings       ] [DEBUG   ] : \u001b[32m[+]\u001b[0m CD14+ monocyte       mapped to CD14+ monocyte      \n",
      "[matchings       ] [DEBUG   ] : \u001b[32m[+]\u001b[0m CD16+ monocyte       mapped to CD16+ monocyte      \n",
      "[matchings       ] [DEBUG   ] : \u001b[32m[+]\u001b[0m CD4+ T cell          mapped to CD4+ T cell         \n",
      "[matchings       ] [DEBUG   ] : \u001b[32m[+]\u001b[0m Cytotoxic T cell     mapped to Cytotoxic T cell    \n",
      "[matchings       ] [DEBUG   ] : \u001b[32m[+]\u001b[0m Megakaryocyte        mapped to Megakaryocyte       \n",
      "[matchings       ] [DEBUG   ] : \u001b[32m[+]\u001b[0m Natural killer cell  mapped to Natural killer cell \n",
      "[matchings       ] [INFO    ] : pbmc_Drop-Seq        to pbmc_CEL-Seq        \n",
      "[matchings       ] [INFO    ] : 7     common cell types\n",
      "[matchings       ] [INFO    ] : 7 /7  correct   links\n",
      "[matchings       ] [INFO    ] : 0     incorrect links\n",
      "[refcm           ] [DEBUG   ] : Using costs for pbmc_Drop-Seq->pbmc_inDrop found in cache.\n",
      "[refcm           ] [DEBUG   ] : starting LP optimization\n",
      "[refcm           ] [DEBUG   ] : optimization terminated w. status \"Optimal\"\n",
      "[matchings       ] [DEBUG   ] : \u001b[32m[+]\u001b[0m B cell               mapped to B cell              \n",
      "[matchings       ] [DEBUG   ] : \u001b[32m[+]\u001b[0m CD14+ monocyte       mapped to CD14+ monocyte      \n",
      "[matchings       ] [DEBUG   ] : \u001b[32m[+]\u001b[0m CD16+ monocyte       mapped to CD16+ monocyte      \n",
      "[matchings       ] [DEBUG   ] : \u001b[32m[+]\u001b[0m CD4+ T cell          mapped to CD4+ T cell         \n",
      "[matchings       ] [DEBUG   ] : \u001b[32m[+]\u001b[0m Cytotoxic T cell     mapped to Cytotoxic T cell    \n",
      "[matchings       ] [DEBUG   ] : \u001b[32m[+]\u001b[0m Megakaryocyte        mapped to Megakaryocyte       \n",
      "[matchings       ] [DEBUG   ] : \u001b[32m[+]\u001b[0m Plasmacytoid dendritic cell mapped to Plasmacytoid dendritic cell\n",
      "[matchings       ] [INFO    ] : pbmc_Drop-Seq        to pbmc_inDrop         \n",
      "[matchings       ] [INFO    ] : 7     common cell types\n",
      "[matchings       ] [INFO    ] : 7 /7  correct   links\n",
      "[matchings       ] [INFO    ] : 0     incorrect links\n",
      "[refcm           ] [DEBUG   ] : Using costs for pbmc_Drop-Seq->pbmc_Seq-Well found in cache.\n",
      "[refcm           ] [DEBUG   ] : starting LP optimization\n",
      "[refcm           ] [DEBUG   ] : optimization terminated w. status \"Optimal\"\n",
      "[matchings       ] [DEBUG   ] : \u001b[32m[+]\u001b[0m B cell               mapped to B cell              \n",
      "[matchings       ] [DEBUG   ] : \u001b[32m[+]\u001b[0m CD14+ monocyte       mapped to CD14+ monocyte      \n",
      "[matchings       ] [DEBUG   ] : \u001b[32m[+]\u001b[0m CD4+ T cell          mapped to CD4+ T cell         \n",
      "[matchings       ] [DEBUG   ] : \u001b[32m[+]\u001b[0m Cytotoxic T cell     mapped to Cytotoxic T cell    \n",
      "[matchings       ] [DEBUG   ] : \u001b[32m[+]\u001b[0m Dendritic cell       mapped to Dendritic cell      \n",
      "[matchings       ] [DEBUG   ] : \u001b[32m[+]\u001b[0m Megakaryocyte        mapped to Megakaryocyte       \n",
      "[matchings       ] [DEBUG   ] : \u001b[32m[+]\u001b[0m Plasmacytoid dendritic cell mapped to Plasmacytoid dendritic cell\n",
      "[matchings       ] [INFO    ] : pbmc_Drop-Seq        to pbmc_Seq-Well       \n",
      "[matchings       ] [INFO    ] : 7     common cell types\n",
      "[matchings       ] [INFO    ] : 7 /7  correct   links\n",
      "[matchings       ] [INFO    ] : 0     incorrect links\n",
      "[refcm           ] [DEBUG   ] : Using costs for pbmc_Drop-Seq->pbmc_Smart-Seq2 found in cache.\n",
      "[refcm           ] [DEBUG   ] : starting LP optimization\n",
      "[refcm           ] [DEBUG   ] : optimization terminated w. status \"Optimal\"\n",
      "[matchings       ] [DEBUG   ] : \u001b[32m[+]\u001b[0m B cell               mapped to B cell              \n",
      "[matchings       ] [DEBUG   ] : \u001b[32m[+]\u001b[0m CD14+ monocyte       mapped to CD14+ monocyte      \n",
      "[matchings       ] [DEBUG   ] : \u001b[32m[+]\u001b[0m CD16+ monocyte       mapped to CD16+ monocyte      \n",
      "[matchings       ] [DEBUG   ] : \u001b[32m[+]\u001b[0m CD4+ T cell          mapped to CD4+ T cell         \n",
      "[matchings       ] [DEBUG   ] : \u001b[32m[+]\u001b[0m Cytotoxic T cell     mapped to Cytotoxic T cell    \n",
      "[matchings       ] [DEBUG   ] : \u001b[32m[+]\u001b[0m Megakaryocyte        mapped to Megakaryocyte       \n",
      "[matchings       ] [INFO    ] : pbmc_Drop-Seq        to pbmc_Smart-Seq2     \n",
      "[matchings       ] [INFO    ] : 6     common cell types\n",
      "[matchings       ] [INFO    ] : 6 /6  correct   links\n",
      "[matchings       ] [INFO    ] : 0     incorrect links\n",
      "[refcm           ] [DEBUG   ] : Using costs for pbmc_inDrop->pbmc_10Xv2 found in cache.\n",
      "[refcm           ] [DEBUG   ] : starting LP optimization\n",
      "[refcm           ] [DEBUG   ] : optimization terminated w. status \"Optimal\"\n",
      "[matchings       ] [DEBUG   ] : \u001b[32m[+]\u001b[0m B cell               mapped to B cell              \n",
      "[matchings       ] [DEBUG   ] : \u001b[32m[+]\u001b[0m CD14+ monocyte       mapped to CD14+ monocyte      \n",
      "[matchings       ] [DEBUG   ] : \u001b[32m[+]\u001b[0m CD16+ monocyte       mapped to CD16+ monocyte      \n",
      "[matchings       ] [DEBUG   ] : \u001b[32m[+]\u001b[0m CD4+ T cell          mapped to CD4+ T cell         \n",
      "[matchings       ] [DEBUG   ] : \u001b[32m[+]\u001b[0m Cytotoxic T cell     mapped to Cytotoxic T cell    \n",
      "[matchings       ] [DEBUG   ] : \u001b[32m[+]\u001b[0m Megakaryocyte        mapped to Megakaryocyte       \n",
      "[matchings       ] [DEBUG   ] : \u001b[32m[+]\u001b[0m Plasmacytoid dendritic cell mapped to Plasmacytoid dendritic cell\n",
      "[matchings       ] [INFO    ] : pbmc_inDrop          to pbmc_10Xv2          \n",
      "[matchings       ] [INFO    ] : 7     common cell types\n",
      "[matchings       ] [INFO    ] : 7 /7  correct   links\n",
      "[matchings       ] [INFO    ] : 0     incorrect links\n",
      "[refcm           ] [DEBUG   ] : Using costs for pbmc_inDrop->pbmc_10Xv3 found in cache.\n",
      "[refcm           ] [DEBUG   ] : starting LP optimization\n",
      "[refcm           ] [DEBUG   ] : optimization terminated w. status \"Optimal\"\n",
      "[matchings       ] [DEBUG   ] : \u001b[32m[+]\u001b[0m B cell               mapped to B cell              \n",
      "[matchings       ] [DEBUG   ] : \u001b[32m[+]\u001b[0m CD14+ monocyte       mapped to CD14+ monocyte      \n",
      "[matchings       ] [DEBUG   ] : \u001b[32m[+]\u001b[0m CD16+ monocyte       mapped to CD16+ monocyte      \n",
      "[matchings       ] [DEBUG   ] : \u001b[32m[+]\u001b[0m CD4+ T cell          mapped to CD4+ T cell         \n",
      "[matchings       ] [DEBUG   ] : \u001b[32m[+]\u001b[0m Cytotoxic T cell     mapped to Cytotoxic T cell    \n",
      "[matchings       ] [DEBUG   ] : \u001b[32m[+]\u001b[0m Megakaryocyte        mapped to Megakaryocyte       \n",
      "[matchings       ] [DEBUG   ] : \u001b[31m[-]\u001b[0m Plasmacytoid dendritic cell mapped to Dendritic cell      \n",
      "[matchings       ] [INFO    ] : pbmc_inDrop          to pbmc_10Xv3          \n",
      "[matchings       ] [INFO    ] : 6     common cell types\n",
      "[matchings       ] [INFO    ] : 6 /6  correct   links\n",
      "[matchings       ] [INFO    ] : 1     incorrect links\n",
      "[refcm           ] [DEBUG   ] : Using costs for pbmc_inDrop->pbmc_CEL-Seq found in cache.\n",
      "[refcm           ] [DEBUG   ] : starting LP optimization\n",
      "[refcm           ] [DEBUG   ] : optimization terminated w. status \"Optimal\"\n",
      "[matchings       ] [DEBUG   ] : \u001b[32m[+]\u001b[0m B cell               mapped to B cell              \n",
      "[matchings       ] [DEBUG   ] : \u001b[32m[+]\u001b[0m CD14+ monocyte       mapped to CD14+ monocyte      \n",
      "[matchings       ] [DEBUG   ] : \u001b[32m[+]\u001b[0m CD16+ monocyte       mapped to CD16+ monocyte      \n",
      "[matchings       ] [DEBUG   ] : \u001b[32m[+]\u001b[0m CD4+ T cell          mapped to CD4+ T cell         \n",
      "[matchings       ] [DEBUG   ] : \u001b[32m[+]\u001b[0m Cytotoxic T cell     mapped to Cytotoxic T cell    \n",
      "[matchings       ] [DEBUG   ] : \u001b[32m[+]\u001b[0m Megakaryocyte        mapped to Megakaryocyte       \n",
      "[matchings       ] [INFO    ] : pbmc_inDrop          to pbmc_CEL-Seq        \n",
      "[matchings       ] [INFO    ] : 6     common cell types\n",
      "[matchings       ] [INFO    ] : 6 /6  correct   links\n",
      "[matchings       ] [INFO    ] : 0     incorrect links\n",
      "[refcm           ] [DEBUG   ] : Using costs for pbmc_inDrop->pbmc_Drop-Seq found in cache.\n",
      "[refcm           ] [DEBUG   ] : starting LP optimization\n",
      "[refcm           ] [DEBUG   ] : optimization terminated w. status \"Optimal\"\n",
      "[matchings       ] [DEBUG   ] : \u001b[32m[+]\u001b[0m B cell               mapped to B cell              \n",
      "[matchings       ] [DEBUG   ] : \u001b[32m[+]\u001b[0m CD14+ monocyte       mapped to CD14+ monocyte      \n",
      "[matchings       ] [DEBUG   ] : \u001b[32m[+]\u001b[0m CD16+ monocyte       mapped to CD16+ monocyte      \n",
      "[matchings       ] [DEBUG   ] : \u001b[32m[+]\u001b[0m CD4+ T cell          mapped to CD4+ T cell         \n",
      "[matchings       ] [DEBUG   ] : \u001b[32m[+]\u001b[0m Cytotoxic T cell     mapped to Cytotoxic T cell    \n",
      "[matchings       ] [DEBUG   ] : \u001b[32m[+]\u001b[0m Megakaryocyte        mapped to Megakaryocyte       \n",
      "[matchings       ] [DEBUG   ] : \u001b[32m[+]\u001b[0m Plasmacytoid dendritic cell mapped to Plasmacytoid dendritic cell\n",
      "[matchings       ] [INFO    ] : pbmc_inDrop          to pbmc_Drop-Seq       \n",
      "[matchings       ] [INFO    ] : 7     common cell types\n",
      "[matchings       ] [INFO    ] : 7 /7  correct   links\n",
      "[matchings       ] [INFO    ] : 0     incorrect links\n",
      "[refcm           ] [DEBUG   ] : Using costs for pbmc_inDrop->pbmc_Seq-Well found in cache.\n",
      "[refcm           ] [DEBUG   ] : starting LP optimization\n",
      "[refcm           ] [DEBUG   ] : optimization terminated w. status \"Optimal\"\n",
      "[matchings       ] [DEBUG   ] : \u001b[32m[+]\u001b[0m B cell               mapped to B cell              \n",
      "[matchings       ] [DEBUG   ] : \u001b[32m[+]\u001b[0m CD14+ monocyte       mapped to CD14+ monocyte      \n",
      "[matchings       ] [DEBUG   ] : \u001b[31m[-]\u001b[0m CD16+ monocyte       mapped to Dendritic cell      \n",
      "[matchings       ] [DEBUG   ] : \u001b[32m[+]\u001b[0m CD4+ T cell          mapped to CD4+ T cell         \n",
      "[matchings       ] [DEBUG   ] : \u001b[32m[+]\u001b[0m Cytotoxic T cell     mapped to Cytotoxic T cell    \n",
      "[matchings       ] [DEBUG   ] : \u001b[32m[+]\u001b[0m Megakaryocyte        mapped to Megakaryocyte       \n",
      "[matchings       ] [DEBUG   ] : \u001b[32m[+]\u001b[0m Plasmacytoid dendritic cell mapped to Plasmacytoid dendritic cell\n",
      "[matchings       ] [INFO    ] : pbmc_inDrop          to pbmc_Seq-Well       \n",
      "[matchings       ] [INFO    ] : 6     common cell types\n",
      "[matchings       ] [INFO    ] : 6 /6  correct   links\n",
      "[matchings       ] [INFO    ] : 1     incorrect links\n",
      "[refcm           ] [DEBUG   ] : Using costs for pbmc_inDrop->pbmc_Smart-Seq2 found in cache.\n",
      "[refcm           ] [DEBUG   ] : starting LP optimization\n",
      "[refcm           ] [DEBUG   ] : optimization terminated w. status \"Optimal\"\n",
      "[matchings       ] [DEBUG   ] : \u001b[32m[+]\u001b[0m B cell               mapped to B cell              \n",
      "[matchings       ] [DEBUG   ] : \u001b[32m[+]\u001b[0m CD14+ monocyte       mapped to CD14+ monocyte      \n",
      "[matchings       ] [DEBUG   ] : \u001b[32m[+]\u001b[0m CD16+ monocyte       mapped to CD16+ monocyte      \n",
      "[matchings       ] [DEBUG   ] : \u001b[32m[+]\u001b[0m CD4+ T cell          mapped to CD4+ T cell         \n",
      "[matchings       ] [DEBUG   ] : \u001b[32m[+]\u001b[0m Cytotoxic T cell     mapped to Cytotoxic T cell    \n",
      "[matchings       ] [DEBUG   ] : \u001b[32m[+]\u001b[0m Megakaryocyte        mapped to Megakaryocyte       \n",
      "[matchings       ] [INFO    ] : pbmc_inDrop          to pbmc_Smart-Seq2     \n",
      "[matchings       ] [INFO    ] : 6     common cell types\n",
      "[matchings       ] [INFO    ] : 6 /6  correct   links\n",
      "[matchings       ] [INFO    ] : 0     incorrect links\n",
      "[refcm           ] [DEBUG   ] : Using costs for pbmc_Seq-Well->pbmc_10Xv2 found in cache.\n",
      "[refcm           ] [DEBUG   ] : starting LP optimization\n",
      "[refcm           ] [DEBUG   ] : optimization terminated w. status \"Optimal\"\n",
      "[matchings       ] [DEBUG   ] : \u001b[32m[+]\u001b[0m B cell               mapped to B cell              \n",
      "[matchings       ] [DEBUG   ] : \u001b[32m[+]\u001b[0m CD14+ monocyte       mapped to CD14+ monocyte      \n",
      "[matchings       ] [DEBUG   ] : \u001b[32m[+]\u001b[0m CD4+ T cell          mapped to CD4+ T cell         \n",
      "[matchings       ] [DEBUG   ] : \u001b[32m[+]\u001b[0m Cytotoxic T cell     mapped to Cytotoxic T cell    \n",
      "[matchings       ] [DEBUG   ] : \u001b[32m[+]\u001b[0m Dendritic cell       mapped to Dendritic cell      \n",
      "[matchings       ] [DEBUG   ] : \u001b[32m[+]\u001b[0m Megakaryocyte        mapped to Megakaryocyte       \n",
      "[matchings       ] [DEBUG   ] : \u001b[32m[+]\u001b[0m Plasmacytoid dendritic cell mapped to Plasmacytoid dendritic cell\n",
      "[matchings       ] [INFO    ] : pbmc_Seq-Well        to pbmc_10Xv2          \n",
      "[matchings       ] [INFO    ] : 7     common cell types\n",
      "[matchings       ] [INFO    ] : 7 /7  correct   links\n",
      "[matchings       ] [INFO    ] : 0     incorrect links\n",
      "[refcm           ] [DEBUG   ] : Using costs for pbmc_Seq-Well->pbmc_10Xv3 found in cache.\n",
      "[refcm           ] [DEBUG   ] : starting LP optimization\n",
      "[refcm           ] [DEBUG   ] : optimization terminated w. status \"Optimal\"\n",
      "[matchings       ] [DEBUG   ] : \u001b[32m[+]\u001b[0m B cell               mapped to B cell              \n",
      "[matchings       ] [DEBUG   ] : \u001b[32m[+]\u001b[0m CD14+ monocyte       mapped to CD14+ monocyte      \n",
      "[matchings       ] [DEBUG   ] : \u001b[32m[+]\u001b[0m CD4+ T cell          mapped to CD4+ T cell         \n",
      "[matchings       ] [DEBUG   ] : \u001b[32m[+]\u001b[0m Cytotoxic T cell     mapped to Cytotoxic T cell    \n",
      "[matchings       ] [DEBUG   ] : \u001b[32m[+]\u001b[0m Dendritic cell       mapped to Dendritic cell      \n",
      "[matchings       ] [DEBUG   ] : \u001b[32m[+]\u001b[0m Megakaryocyte        mapped to Megakaryocyte       \n",
      "[matchings       ] [INFO    ] : pbmc_Seq-Well        to pbmc_10Xv3          \n",
      "[matchings       ] [INFO    ] : 6     common cell types\n",
      "[matchings       ] [INFO    ] : 6 /6  correct   links\n",
      "[matchings       ] [INFO    ] : 0     incorrect links\n",
      "[refcm           ] [DEBUG   ] : Using costs for pbmc_Seq-Well->pbmc_CEL-Seq found in cache.\n",
      "[refcm           ] [DEBUG   ] : starting LP optimization\n",
      "[refcm           ] [DEBUG   ] : optimization terminated w. status \"Optimal\"\n",
      "[matchings       ] [DEBUG   ] : \u001b[32m[+]\u001b[0m B cell               mapped to B cell              \n",
      "[matchings       ] [DEBUG   ] : \u001b[32m[+]\u001b[0m CD14+ monocyte       mapped to CD14+ monocyte      \n",
      "[matchings       ] [DEBUG   ] : \u001b[32m[+]\u001b[0m CD4+ T cell          mapped to CD4+ T cell         \n",
      "[matchings       ] [DEBUG   ] : \u001b[32m[+]\u001b[0m Cytotoxic T cell     mapped to Cytotoxic T cell    \n",
      "[matchings       ] [DEBUG   ] : \u001b[31m[-]\u001b[0m Dendritic cell       mapped to CD16+ monocyte      \n",
      "[matchings       ] [DEBUG   ] : \u001b[32m[+]\u001b[0m Megakaryocyte        mapped to Megakaryocyte       \n",
      "[matchings       ] [INFO    ] : pbmc_Seq-Well        to pbmc_CEL-Seq        \n",
      "[matchings       ] [INFO    ] : 5     common cell types\n",
      "[matchings       ] [INFO    ] : 5 /5  correct   links\n",
      "[matchings       ] [INFO    ] : 1     incorrect links\n",
      "[refcm           ] [DEBUG   ] : Using costs for pbmc_Seq-Well->pbmc_Drop-Seq found in cache.\n",
      "[refcm           ] [DEBUG   ] : starting LP optimization\n",
      "[refcm           ] [DEBUG   ] : optimization terminated w. status \"Optimal\"\n",
      "[matchings       ] [DEBUG   ] : \u001b[32m[+]\u001b[0m B cell               mapped to B cell              \n",
      "[matchings       ] [DEBUG   ] : \u001b[32m[+]\u001b[0m CD14+ monocyte       mapped to CD14+ monocyte      \n",
      "[matchings       ] [DEBUG   ] : \u001b[32m[+]\u001b[0m CD4+ T cell          mapped to CD4+ T cell         \n",
      "[matchings       ] [DEBUG   ] : \u001b[32m[+]\u001b[0m Cytotoxic T cell     mapped to Cytotoxic T cell    \n",
      "[matchings       ] [DEBUG   ] : \u001b[32m[+]\u001b[0m Dendritic cell       mapped to Dendritic cell      \n",
      "[matchings       ] [DEBUG   ] : \u001b[32m[+]\u001b[0m Megakaryocyte        mapped to Megakaryocyte       \n",
      "[matchings       ] [DEBUG   ] : \u001b[32m[+]\u001b[0m Plasmacytoid dendritic cell mapped to Plasmacytoid dendritic cell\n",
      "[matchings       ] [INFO    ] : pbmc_Seq-Well        to pbmc_Drop-Seq       \n",
      "[matchings       ] [INFO    ] : 7     common cell types\n",
      "[matchings       ] [INFO    ] : 7 /7  correct   links\n",
      "[matchings       ] [INFO    ] : 0     incorrect links\n",
      "[refcm           ] [DEBUG   ] : Using costs for pbmc_Seq-Well->pbmc_inDrop found in cache.\n",
      "[refcm           ] [DEBUG   ] : starting LP optimization\n",
      "[refcm           ] [DEBUG   ] : optimization terminated w. status \"Optimal\"\n",
      "[matchings       ] [DEBUG   ] : \u001b[32m[+]\u001b[0m B cell               mapped to B cell              \n",
      "[matchings       ] [DEBUG   ] : \u001b[32m[+]\u001b[0m CD14+ monocyte       mapped to CD14+ monocyte      \n",
      "[matchings       ] [DEBUG   ] : \u001b[32m[+]\u001b[0m CD4+ T cell          mapped to CD4+ T cell         \n",
      "[matchings       ] [DEBUG   ] : \u001b[32m[+]\u001b[0m Cytotoxic T cell     mapped to Cytotoxic T cell    \n",
      "[matchings       ] [DEBUG   ] : \u001b[31m[-]\u001b[0m Dendritic cell       mapped to CD16+ monocyte      \n",
      "[matchings       ] [DEBUG   ] : \u001b[32m[+]\u001b[0m Megakaryocyte        mapped to Megakaryocyte       \n",
      "[matchings       ] [DEBUG   ] : \u001b[32m[+]\u001b[0m Plasmacytoid dendritic cell mapped to Plasmacytoid dendritic cell\n",
      "[matchings       ] [INFO    ] : pbmc_Seq-Well        to pbmc_inDrop         \n",
      "[matchings       ] [INFO    ] : 6     common cell types\n",
      "[matchings       ] [INFO    ] : 6 /6  correct   links\n",
      "[matchings       ] [INFO    ] : 1     incorrect links\n",
      "[refcm           ] [DEBUG   ] : Using costs for pbmc_Seq-Well->pbmc_Smart-Seq2 found in cache.\n",
      "[refcm           ] [DEBUG   ] : starting LP optimization\n",
      "[refcm           ] [DEBUG   ] : optimization terminated w. status \"Optimal\"\n",
      "[matchings       ] [DEBUG   ] : \u001b[32m[+]\u001b[0m B cell               mapped to B cell              \n",
      "[matchings       ] [DEBUG   ] : \u001b[32m[+]\u001b[0m CD14+ monocyte       mapped to CD14+ monocyte      \n",
      "[matchings       ] [DEBUG   ] : \u001b[32m[+]\u001b[0m CD4+ T cell          mapped to CD4+ T cell         \n",
      "[matchings       ] [DEBUG   ] : \u001b[32m[+]\u001b[0m Cytotoxic T cell     mapped to Cytotoxic T cell    \n",
      "[matchings       ] [DEBUG   ] : \u001b[31m[-]\u001b[0m Dendritic cell       mapped to CD16+ monocyte      \n",
      "[matchings       ] [DEBUG   ] : \u001b[32m[+]\u001b[0m Megakaryocyte        mapped to Megakaryocyte       \n",
      "[matchings       ] [INFO    ] : pbmc_Seq-Well        to pbmc_Smart-Seq2     \n",
      "[matchings       ] [INFO    ] : 5     common cell types\n",
      "[matchings       ] [INFO    ] : 5 /5  correct   links\n",
      "[matchings       ] [INFO    ] : 1     incorrect links\n",
      "[refcm           ] [DEBUG   ] : Using costs for pbmc_Smart-Seq2->pbmc_10Xv2 found in cache.\n",
      "[refcm           ] [DEBUG   ] : starting LP optimization\n",
      "[refcm           ] [DEBUG   ] : optimization terminated w. status \"Optimal\"\n",
      "[matchings       ] [DEBUG   ] : \u001b[32m[+]\u001b[0m B cell               mapped to B cell              \n",
      "[matchings       ] [DEBUG   ] : \u001b[32m[+]\u001b[0m CD14+ monocyte       mapped to CD14+ monocyte      \n",
      "[matchings       ] [DEBUG   ] : \u001b[32m[+]\u001b[0m CD16+ monocyte       mapped to CD16+ monocyte      \n",
      "[matchings       ] [DEBUG   ] : \u001b[32m[+]\u001b[0m CD4+ T cell          mapped to CD4+ T cell         \n",
      "[matchings       ] [DEBUG   ] : \u001b[32m[+]\u001b[0m Cytotoxic T cell     mapped to Cytotoxic T cell    \n",
      "[matchings       ] [DEBUG   ] : \u001b[32m[+]\u001b[0m Megakaryocyte        mapped to Megakaryocyte       \n",
      "[matchings       ] [INFO    ] : pbmc_Smart-Seq2      to pbmc_10Xv2          \n",
      "[matchings       ] [INFO    ] : 6     common cell types\n",
      "[matchings       ] [INFO    ] : 6 /6  correct   links\n",
      "[matchings       ] [INFO    ] : 0     incorrect links\n",
      "[refcm           ] [DEBUG   ] : Using costs for pbmc_Smart-Seq2->pbmc_10Xv3 found in cache.\n",
      "[refcm           ] [DEBUG   ] : starting LP optimization\n",
      "[refcm           ] [DEBUG   ] : optimization terminated w. status \"Optimal\"\n",
      "[matchings       ] [DEBUG   ] : \u001b[32m[+]\u001b[0m B cell               mapped to B cell              \n",
      "[matchings       ] [DEBUG   ] : \u001b[32m[+]\u001b[0m CD14+ monocyte       mapped to CD14+ monocyte      \n",
      "[matchings       ] [DEBUG   ] : \u001b[32m[+]\u001b[0m CD16+ monocyte       mapped to CD16+ monocyte      \n",
      "[matchings       ] [DEBUG   ] : \u001b[32m[+]\u001b[0m CD4+ T cell          mapped to CD4+ T cell         \n",
      "[matchings       ] [DEBUG   ] : \u001b[32m[+]\u001b[0m Cytotoxic T cell     mapped to Cytotoxic T cell    \n",
      "[matchings       ] [DEBUG   ] : \u001b[32m[+]\u001b[0m Megakaryocyte        mapped to Megakaryocyte       \n",
      "[matchings       ] [INFO    ] : pbmc_Smart-Seq2      to pbmc_10Xv3          \n",
      "[matchings       ] [INFO    ] : 6     common cell types\n",
      "[matchings       ] [INFO    ] : 6 /6  correct   links\n",
      "[matchings       ] [INFO    ] : 0     incorrect links\n",
      "[refcm           ] [DEBUG   ] : Using costs for pbmc_Smart-Seq2->pbmc_CEL-Seq found in cache.\n",
      "[refcm           ] [DEBUG   ] : starting LP optimization\n",
      "[refcm           ] [DEBUG   ] : optimization terminated w. status \"Optimal\"\n",
      "[matchings       ] [DEBUG   ] : \u001b[32m[+]\u001b[0m B cell               mapped to B cell              \n",
      "[matchings       ] [DEBUG   ] : \u001b[32m[+]\u001b[0m CD14+ monocyte       mapped to CD14+ monocyte      \n",
      "[matchings       ] [DEBUG   ] : \u001b[32m[+]\u001b[0m CD16+ monocyte       mapped to CD16+ monocyte      \n",
      "[matchings       ] [DEBUG   ] : \u001b[32m[+]\u001b[0m CD4+ T cell          mapped to CD4+ T cell         \n",
      "[matchings       ] [DEBUG   ] : \u001b[32m[+]\u001b[0m Cytotoxic T cell     mapped to Cytotoxic T cell    \n",
      "[matchings       ] [DEBUG   ] : \u001b[32m[+]\u001b[0m Megakaryocyte        mapped to Megakaryocyte       \n",
      "[matchings       ] [INFO    ] : pbmc_Smart-Seq2      to pbmc_CEL-Seq        \n",
      "[matchings       ] [INFO    ] : 6     common cell types\n",
      "[matchings       ] [INFO    ] : 6 /6  correct   links\n",
      "[matchings       ] [INFO    ] : 0     incorrect links\n",
      "[refcm           ] [DEBUG   ] : Using costs for pbmc_Smart-Seq2->pbmc_Drop-Seq found in cache.\n",
      "[refcm           ] [DEBUG   ] : starting LP optimization\n",
      "[refcm           ] [DEBUG   ] : optimization terminated w. status \"Optimal\"\n",
      "[matchings       ] [DEBUG   ] : \u001b[32m[+]\u001b[0m B cell               mapped to B cell              \n",
      "[matchings       ] [DEBUG   ] : \u001b[32m[+]\u001b[0m CD14+ monocyte       mapped to CD14+ monocyte      \n",
      "[matchings       ] [DEBUG   ] : \u001b[32m[+]\u001b[0m CD16+ monocyte       mapped to CD16+ monocyte      \n",
      "[matchings       ] [DEBUG   ] : \u001b[32m[+]\u001b[0m CD4+ T cell          mapped to CD4+ T cell         \n",
      "[matchings       ] [DEBUG   ] : \u001b[32m[+]\u001b[0m Cytotoxic T cell     mapped to Cytotoxic T cell    \n",
      "[matchings       ] [DEBUG   ] : \u001b[32m[+]\u001b[0m Megakaryocyte        mapped to Megakaryocyte       \n",
      "[matchings       ] [INFO    ] : pbmc_Smart-Seq2      to pbmc_Drop-Seq       \n",
      "[matchings       ] [INFO    ] : 6     common cell types\n",
      "[matchings       ] [INFO    ] : 6 /6  correct   links\n",
      "[matchings       ] [INFO    ] : 0     incorrect links\n",
      "[refcm           ] [DEBUG   ] : Using costs for pbmc_Smart-Seq2->pbmc_inDrop found in cache.\n",
      "[refcm           ] [DEBUG   ] : starting LP optimization\n",
      "[refcm           ] [DEBUG   ] : optimization terminated w. status \"Optimal\"\n",
      "[matchings       ] [DEBUG   ] : \u001b[32m[+]\u001b[0m B cell               mapped to B cell              \n",
      "[matchings       ] [DEBUG   ] : \u001b[32m[+]\u001b[0m CD14+ monocyte       mapped to CD14+ monocyte      \n",
      "[matchings       ] [DEBUG   ] : \u001b[32m[+]\u001b[0m CD16+ monocyte       mapped to CD16+ monocyte      \n",
      "[matchings       ] [DEBUG   ] : \u001b[32m[+]\u001b[0m CD4+ T cell          mapped to CD4+ T cell         \n",
      "[matchings       ] [DEBUG   ] : \u001b[32m[+]\u001b[0m Cytotoxic T cell     mapped to Cytotoxic T cell    \n",
      "[matchings       ] [DEBUG   ] : \u001b[32m[+]\u001b[0m Megakaryocyte        mapped to Megakaryocyte       \n",
      "[matchings       ] [INFO    ] : pbmc_Smart-Seq2      to pbmc_inDrop         \n",
      "[matchings       ] [INFO    ] : 6     common cell types\n",
      "[matchings       ] [INFO    ] : 6 /6  correct   links\n",
      "[matchings       ] [INFO    ] : 0     incorrect links\n",
      "[refcm           ] [DEBUG   ] : Using costs for pbmc_Smart-Seq2->pbmc_Seq-Well found in cache.\n",
      "[refcm           ] [DEBUG   ] : starting LP optimization\n",
      "[refcm           ] [DEBUG   ] : optimization terminated w. status \"Optimal\"\n",
      "[matchings       ] [DEBUG   ] : \u001b[32m[+]\u001b[0m B cell               mapped to B cell              \n",
      "[matchings       ] [DEBUG   ] : \u001b[32m[+]\u001b[0m CD14+ monocyte       mapped to CD14+ monocyte      \n",
      "[matchings       ] [DEBUG   ] : \u001b[31m[-]\u001b[0m CD16+ monocyte       mapped to Dendritic cell      \n",
      "[matchings       ] [DEBUG   ] : \u001b[32m[+]\u001b[0m CD4+ T cell          mapped to CD4+ T cell         \n",
      "[matchings       ] [DEBUG   ] : \u001b[32m[+]\u001b[0m Cytotoxic T cell     mapped to Cytotoxic T cell    \n",
      "[matchings       ] [DEBUG   ] : \u001b[32m[+]\u001b[0m Megakaryocyte        mapped to Megakaryocyte       \n",
      "[matchings       ] [INFO    ] : pbmc_Smart-Seq2      to pbmc_Seq-Well       \n",
      "[matchings       ] [INFO    ] : 5     common cell types\n",
      "[matchings       ] [INFO    ] : 5 /5  correct   links\n",
      "[matchings       ] [INFO    ] : 1     incorrect links\n"
     ]
    }
   ],
   "source": [
    "rcm = RefCM()\n",
    "\n",
    "for i, q_id in enumerate(ds):\n",
    "    for ref_id in [d for d in ds if d != q_id]:\n",
    "        m = rcm.annotate(ds[q_id], q_id, ds[ref_id], ref_id, 'labels', 'labels')\n",
    "        m.eval('labels')"
   ]
  }
 ],
 "metadata": {
  "kernelspec": {
   "display_name": "RefCM",
   "language": "python",
   "name": "python3"
  },
  "language_info": {
   "codemirror_mode": {
    "name": "ipython",
    "version": 3
   },
   "file_extension": ".py",
   "mimetype": "text/x-python",
   "name": "python",
   "nbconvert_exporter": "python",
   "pygments_lexer": "ipython3",
   "version": "3.11.9"
  }
 },
 "nbformat": 4,
 "nbformat_minor": 2
}
