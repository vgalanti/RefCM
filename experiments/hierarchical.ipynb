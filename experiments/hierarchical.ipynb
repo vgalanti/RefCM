{
 "cells": [
  {
   "cell_type": "markdown",
   "metadata": {},
   "source": [
    "Let us now consider hierarchical cell-type relationships. For this, we will utilize the Allen-Brain datasets, as they come with two (non-overlapping) granularity-levels of cell-types."
   ]
  },
  {
   "cell_type": "code",
   "execution_count": 1,
   "metadata": {},
   "outputs": [],
   "source": [
    "import sys\n",
    "sys.path.append('../src/')\n",
    "\n",
    "import json\n",
    "import config\n",
    "import logging\n",
    "import scanpy as sc\n",
    "from refcm import RefCM\n",
    "\n",
    "config.start_logging(logging.DEBUG)"
   ]
  },
  {
   "cell_type": "code",
   "execution_count": 2,
   "metadata": {},
   "outputs": [
    {
     "name": "stderr",
     "output_type": "stream",
     "text": [
      "[h5py._conv      ] [DEBUG   ] : Creating converter from 3 to 5\n"
     ]
    }
   ],
   "source": [
    "mtg = sc.read_h5ad('../data/MTG.h5ad')\n",
    "alm = sc.read_h5ad('../data/ALM.h5ad')\n",
    "visp = sc.read_h5ad('../data/VISp.h5ad')"
   ]
  },
  {
   "cell_type": "markdown",
   "metadata": {},
   "source": [
    "Let us first retrieve the hierarchical relationships between cell types:"
   ]
  },
  {
   "cell_type": "code",
   "execution_count": 3,
   "metadata": {},
   "outputs": [
    {
     "name": "stdout",
     "output_type": "stream",
     "text": [
      "{\n",
      "    \"Excitatory\": [\n",
      "        \"Exc L5/6 IT 3\",\n",
      "        \"Exc L6 CT\",\n",
      "        \"Exc L6b\",\n",
      "        \"Exc L4/5 IT\",\n",
      "        \"Exc L5/6 IT 2\",\n",
      "        \"Exc L6 IT 1\",\n",
      "        \"Exc L6 IT 2\",\n",
      "        \"Exc L5/6 NP\",\n",
      "        \"Exc L2/3 IT\",\n",
      "        \"Exc L5/6 IT 1\",\n",
      "        \"Exc L3/5 IT\",\n",
      "        \"Exc L5 PT\"\n",
      "    ],\n",
      "    \"Inhibitory\": [\n",
      "        \"Sst 1\",\n",
      "        \"Lamp5 Rosehip\",\n",
      "        \"Vip 5\",\n",
      "        \"Pvalb 2\",\n",
      "        \"Sst 3\",\n",
      "        \"Pvalb 1\",\n",
      "        \"Vip 3\",\n",
      "        \"Pax6\",\n",
      "        \"Vip 1\",\n",
      "        \"Vip Sncg\",\n",
      "        \"Vip 4\",\n",
      "        \"Lamp5 2\",\n",
      "        \"Lamp5 Lhx6\",\n",
      "        \"Sst 4\",\n",
      "        \"Chandelier\",\n",
      "        \"Vip 2\",\n",
      "        \"Sst 2\",\n",
      "        \"Sst 5\",\n",
      "        \"Sst Chodl\",\n",
      "        \"Lamp5 1\"\n",
      "    ],\n",
      "    \"Non-neuronal\": [\n",
      "        \"Astrocyte\",\n",
      "        \"Oligo\"\n",
      "    ]\n",
      "}\n"
     ]
    }
   ],
   "source": [
    "labels = mtg.obs[['labels3', 'labels34']].set_index('labels3')\n",
    "coarse_levels = labels.index.unique().to_list()\n",
    "\n",
    "hierarchy = {\n",
    "    level: labels.loc[level].drop_duplicates().values.flatten().tolist()\n",
    "    for level in coarse_levels\n",
    "}\n",
    "\n",
    "print(json.dumps(hierarchy, indent=4, sort_keys=True))"
   ]
  },
  {
   "cell_type": "markdown",
   "metadata": {},
   "source": [
    "We can then map across these different levels and datasets -- here VISp to ALM -- and evaluate the performance as follows. Let us first consider mapping from granular to coarse resolutions."
   ]
  },
  {
   "cell_type": "code",
   "execution_count": 4,
   "metadata": {},
   "outputs": [
    {
     "name": "stderr",
     "output_type": "stream",
     "text": [
      "[refcm           ] [INFO    ] : NOTE: raw counts expected in anndata .X attributes.\n",
      "[refcm           ] [DEBUG   ] : Loading cached mapping costs from cache.json.\n",
      "[refcm           ] [DEBUG   ] : Selecting joint gene subset for query and reference datasets\n",
      "[refcm           ] [DEBUG   ] : Using 1503 genes.\n",
      "[refcm           ] [DEBUG   ] : Computing Wasserstein distances.\n",
      "|████████████████| [100.00% ] : 00:24\n",
      "[refcm           ] [DEBUG   ] : starting LP optimization\n",
      "[refcm           ] [DEBUG   ] : optimization terminated w. status \"Optimal\"\n"
     ]
    }
   ],
   "source": [
    "# ensure we allow the query clusters to \"split\" without restriction\n",
    "rcm = RefCM(num_iter_max=1e7, max_merges=-1, cache_load=False, cache_save=False)\n",
    "m = rcm.annotate(visp, 'VISp', alm, 'ALM', 'labels3', 'labels34')"
   ]
  },
  {
   "cell_type": "code",
   "execution_count": 5,
   "metadata": {},
   "outputs": [
    {
     "name": "stderr",
     "output_type": "stream",
     "text": [
      "[matchings       ] [DEBUG   ] : astrocyte | 0.70 > non-neuronal < 1.00 | non-neuronal\n",
      "[matchings       ] [DEBUG   ] : chandelier | 0.70 > inhibitory < 1.00 | inhibitory\n",
      "[matchings       ] [DEBUG   ] : exc l2/3 it | 0.70 > excitatory < 1.00 | excitatory\n",
      "[matchings       ] [DEBUG   ] : exc l3/5 it | 0.70 > excitatory < 1.00 | excitatory\n",
      "[matchings       ] [DEBUG   ] : exc l4/5 it | 0.70 > excitatory < 1.00 | excitatory\n",
      "[matchings       ] [DEBUG   ] : exc l5 pt | 0.70 > excitatory < 1.00 | excitatory\n",
      "[matchings       ] [DEBUG   ] : exc l5/6 it 1 | 0.70 > excitatory < 1.00 | excitatory\n",
      "[matchings       ] [DEBUG   ] : exc l5/6 it 2 | 0.70 > excitatory < 1.00 | excitatory\n",
      "[matchings       ] [DEBUG   ] : exc l5/6 it 3 | 0.70 > excitatory < 1.00 | excitatory\n",
      "[matchings       ] [DEBUG   ] : exc l5/6 np | 0.70 > excitatory < 1.00 | excitatory\n",
      "[matchings       ] [DEBUG   ] : exc l6 ct | 0.70 > excitatory < 1.00 | excitatory\n",
      "[matchings       ] [DEBUG   ] : exc l6 it 1 | 0.70 > excitatory < 1.00 | excitatory\n",
      "[matchings       ] [DEBUG   ] : exc l6 it 2 | 0.70 > excitatory < 1.00 | excitatory\n",
      "[matchings       ] [DEBUG   ] : exc l6b | 0.70 > excitatory < 1.00 | excitatory\n",
      "[matchings       ] [DEBUG   ] : lamp5 1 | 0.70 > inhibitory < 1.00 | inhibitory\n",
      "[matchings       ] [DEBUG   ] : lamp5 2 | 0.70 > inhibitory < 1.00 | inhibitory\n",
      "[matchings       ] [DEBUG   ] : lamp5 lhx6 | 0.70 > inhibitory < 1.00 | inhibitory\n",
      "[matchings       ] [DEBUG   ] : lamp5 rosehip | 0.70 > inhibitory < 1.00 | inhibitory\n",
      "[matchings       ] [DEBUG   ] : oligo | 0.70 > non-neuronal < 1.00 | non-neuronal\n",
      "[matchings       ] [DEBUG   ] : pax6 | 0.70 > inhibitory < 1.00 | inhibitory\n",
      "[matchings       ] [DEBUG   ] : pvalb 1 | 0.70 > inhibitory < 1.00 | inhibitory\n",
      "[matchings       ] [DEBUG   ] : pvalb 2 | 0.70 > inhibitory < 1.00 | inhibitory\n",
      "[matchings       ] [DEBUG   ] : sst 1 | 0.70 > inhibitory < 1.00 | inhibitory\n",
      "[matchings       ] [DEBUG   ] : sst 2 | 0.70 > inhibitory < 1.00 | inhibitory\n",
      "[matchings       ] [DEBUG   ] : sst 3 | 0.70 > inhibitory < 1.00 | inhibitory\n",
      "[matchings       ] [DEBUG   ] : sst 4 | 0.70 > inhibitory < 1.00 | inhibitory\n",
      "[matchings       ] [DEBUG   ] : sst 5 | 0.70 > inhibitory < 1.00 | inhibitory\n",
      "[matchings       ] [DEBUG   ] : sst chodl | 0.70 > inhibitory < 1.00 | inhibitory\n",
      "[matchings       ] [DEBUG   ] : vip 1 | 0.70 > inhibitory < 1.00 | inhibitory\n",
      "[matchings       ] [DEBUG   ] : vip 2 | 0.70 > inhibitory < 1.00 | inhibitory\n",
      "[matchings       ] [DEBUG   ] : vip 3 | 0.70 > inhibitory < 1.00 | inhibitory\n",
      "[matchings       ] [DEBUG   ] : vip 4 | 0.70 > inhibitory < 1.00 | inhibitory\n",
      "[matchings       ] [DEBUG   ] : vip 5 | 0.70 > inhibitory < 1.00 | inhibitory\n",
      "[matchings       ] [DEBUG   ] : vip sncg | 0.70 > inhibitory < 1.00 | inhibitory\n"
     ]
    },
    {
     "data": {
      "application/vnd.plotly.v1+json": {
       "config": {
        "plotlyServerURL": "https://plot.ly"
       },
       "data": [
        {
         "coloraxis": "coloraxis",
         "hovertemplate": "Reference: ALM: %{x}<br>Query: VISp: %{y}<br>cost: %{z}<extra></extra>",
         "name": "0",
         "type": "heatmap",
         "x": [
          "Excitatory",
          "Inhibitory",
          "Non-neuronal"
         ],
         "xaxis": "x",
         "y": [
          "Astrocyte",
          "Chandelier",
          "Exc L2/3 IT",
          "Exc L3/5 IT",
          "Exc L4/5 IT",
          "Exc L5 PT",
          "Exc L5/6 IT 1",
          "Exc L5/6 IT 2",
          "Exc L5/6 IT 3",
          "Exc L5/6 NP",
          "Exc L6 CT",
          "Exc L6 IT 1",
          "Exc L6 IT 2",
          "Exc L6b",
          "Lamp5 1",
          "Lamp5 2",
          "Lamp5 Lhx6",
          "Lamp5 Rosehip",
          "Oligo",
          "Pax6",
          "Pvalb 1",
          "Pvalb 2",
          "Sst 1",
          "Sst 2",
          "Sst 3",
          "Sst 4",
          "Sst 5",
          "Sst Chodl",
          "Vip 1",
          "Vip 2",
          "Vip 3",
          "Vip 4",
          "Vip 5",
          "Vip Sncg"
         ],
         "yaxis": "y",
         "z": [
          [
           -6111.003898173628,
           -5669.760711515392,
           -6965.531507880139
          ],
          [
           -8949.470111242124,
           -9486.540990980844,
           -5059.194158265803
          ],
          [
           -11959.390618334155,
           -8938.434670114983,
           -5202.194475195509
          ],
          [
           -12058.837990893395,
           -8957.856439041241,
           -5136.167208618221
          ],
          [
           -11881.449467792145,
           -8776.68322702554,
           -4949.631316191763
          ],
          [
           -11309.079642778788,
           -8833.603505733245,
           -5174.687451762221
          ],
          [
           -11679.16024992438,
           -8907.167941468819,
           -5183.155695027353
          ],
          [
           -11769.299881001783,
           -8690.080955462021,
           -4983.5323997860905
          ],
          [
           -12060.731411928109,
           -8884.709897942674,
           -5134.17078000023
          ],
          [
           -10091.403249706029,
           -8077.755084079198,
           -4654.995577107858
          ],
          [
           -10757.700461679167,
           -8001.16415647599,
           -4648.813658188495
          ],
          [
           -11639.709163186759,
           -8705.255999908888,
           -5009.073354968077
          ],
          [
           -10512.463366205986,
           -8169.261774888418,
           -4835.796421130954
          ],
          [
           -10727.819554618054,
           -8438.807892451356,
           -4832.697499968651
          ],
          [
           -9055.305407110502,
           -9932.978675936973,
           -4945.827656818186
          ],
          [
           -9647.89953473296,
           -10292.78706022343,
           -5149.294032573965
          ],
          [
           -8681.250110109879,
           -9540.645149195365,
           -4927.638964843749
          ],
          [
           -9213.887553262599,
           -10015.36740863721,
           -5145.425740966665
          ],
          [
           -5091.734342632837,
           -4827.266754658107,
           -10192.438325427825
          ],
          [
           -9557.386163268411,
           -10105.381846672712,
           -5395.497626313708
          ],
          [
           -8658.759918738526,
           -9504.608242651486,
           -4882.608550082067
          ],
          [
           -8801.730680207884,
           -9793.608249933393,
           -4968.693687667536
          ],
          [
           -8478.664978971252,
           -9260.1205401409,
           -4501.8969463981
          ],
          [
           -9156.105174301605,
           -9952.232976059771,
           -5038.191554918604
          ],
          [
           -8863.60211970295,
           -9410.795580279677,
           -4802.594435150678
          ],
          [
           -8101.651900497033,
           -8718.88722038704,
           -4361.600703729301
          ],
          [
           -9081.748138633255,
           -9911.535688607602,
           -4918.442385718934
          ],
          [
           -8984.201772285025,
           -9193.956906259195,
           -4984.58792578237
          ],
          [
           -8912.68739151885,
           -9655.089425614986,
           -4955.690903031019
          ],
          [
           -9463.118794817143,
           -10247.55747908247,
           -5195.83038748947
          ],
          [
           -9524.411394261022,
           -10405.33868793975,
           -5191.558732402291
          ],
          [
           -9186.324140055165,
           -9935.38728782859,
           -4986.793930225665
          ],
          [
           -9216.607850220102,
           -10050.513059924946,
           -5028.007229393117
          ],
          [
           -9699.431107216267,
           -10451.848837668216,
           -5519.630713294996
          ]
         ]
        },
        {
         "hovertemplate": "%{y} -> %{x}",
         "marker": {
          "color": [
           "red",
           "red",
           "red",
           "red",
           "red",
           "red",
           "red",
           "red",
           "red",
           "red",
           "red",
           "red",
           "red",
           "red",
           "red",
           "red",
           "red",
           "red",
           "red",
           "red",
           "red",
           "red",
           "red",
           "red",
           "red",
           "red",
           "red",
           "red",
           "red",
           "red",
           "red",
           "red",
           "red",
           "red"
          ],
          "size": 5
         },
         "mode": "markers",
         "name": "",
         "type": "scatter",
         "x": [
          "Non-neuronal",
          "Inhibitory",
          "Excitatory",
          "Excitatory",
          "Excitatory",
          "Excitatory",
          "Excitatory",
          "Excitatory",
          "Excitatory",
          "Excitatory",
          "Excitatory",
          "Excitatory",
          "Excitatory",
          "Excitatory",
          "Inhibitory",
          "Inhibitory",
          "Inhibitory",
          "Inhibitory",
          "Non-neuronal",
          "Inhibitory",
          "Inhibitory",
          "Inhibitory",
          "Inhibitory",
          "Inhibitory",
          "Inhibitory",
          "Inhibitory",
          "Inhibitory",
          "Inhibitory",
          "Inhibitory",
          "Inhibitory",
          "Inhibitory",
          "Inhibitory",
          "Inhibitory",
          "Inhibitory"
         ],
         "y": [
          "Astrocyte",
          "Chandelier",
          "Exc L2/3 IT",
          "Exc L3/5 IT",
          "Exc L4/5 IT",
          "Exc L5 PT",
          "Exc L5/6 IT 1",
          "Exc L5/6 IT 2",
          "Exc L5/6 IT 3",
          "Exc L5/6 NP",
          "Exc L6 CT",
          "Exc L6 IT 1",
          "Exc L6 IT 2",
          "Exc L6b",
          "Lamp5 1",
          "Lamp5 2",
          "Lamp5 Lhx6",
          "Lamp5 Rosehip",
          "Oligo",
          "Pax6",
          "Pvalb 1",
          "Pvalb 2",
          "Sst 1",
          "Sst 2",
          "Sst 3",
          "Sst 4",
          "Sst 5",
          "Sst Chodl",
          "Vip 1",
          "Vip 2",
          "Vip 3",
          "Vip 4",
          "Vip 5",
          "Vip Sncg"
         ]
        }
       ],
       "layout": {
        "coloraxis": {
         "colorbar": {
          "title": {
           "text": "cost"
          }
         },
         "colorscale": [
          [
           0,
           "rgb(75, 41, 145)"
          ],
          [
           0.16666666666666666,
           "rgb(135, 44, 162)"
          ],
          [
           0.3333333333333333,
           "rgb(192, 54, 157)"
          ],
          [
           0.5,
           "rgb(234, 79, 136)"
          ],
          [
           0.6666666666666666,
           "rgb(250, 120, 118)"
          ],
          [
           0.8333333333333334,
           "rgb(246, 169, 122)"
          ],
          [
           1,
           "rgb(237, 217, 163)"
          ]
         ]
        },
        "template": {
         "data": {
          "bar": [
           {
            "error_x": {
             "color": "#2a3f5f"
            },
            "error_y": {
             "color": "#2a3f5f"
            },
            "marker": {
             "line": {
              "color": "#E5ECF6",
              "width": 0.5
             },
             "pattern": {
              "fillmode": "overlay",
              "size": 10,
              "solidity": 0.2
             }
            },
            "type": "bar"
           }
          ],
          "barpolar": [
           {
            "marker": {
             "line": {
              "color": "#E5ECF6",
              "width": 0.5
             },
             "pattern": {
              "fillmode": "overlay",
              "size": 10,
              "solidity": 0.2
             }
            },
            "type": "barpolar"
           }
          ],
          "carpet": [
           {
            "aaxis": {
             "endlinecolor": "#2a3f5f",
             "gridcolor": "white",
             "linecolor": "white",
             "minorgridcolor": "white",
             "startlinecolor": "#2a3f5f"
            },
            "baxis": {
             "endlinecolor": "#2a3f5f",
             "gridcolor": "white",
             "linecolor": "white",
             "minorgridcolor": "white",
             "startlinecolor": "#2a3f5f"
            },
            "type": "carpet"
           }
          ],
          "choropleth": [
           {
            "colorbar": {
             "outlinewidth": 0,
             "ticks": ""
            },
            "type": "choropleth"
           }
          ],
          "contour": [
           {
            "colorbar": {
             "outlinewidth": 0,
             "ticks": ""
            },
            "colorscale": [
             [
              0,
              "#0d0887"
             ],
             [
              0.1111111111111111,
              "#46039f"
             ],
             [
              0.2222222222222222,
              "#7201a8"
             ],
             [
              0.3333333333333333,
              "#9c179e"
             ],
             [
              0.4444444444444444,
              "#bd3786"
             ],
             [
              0.5555555555555556,
              "#d8576b"
             ],
             [
              0.6666666666666666,
              "#ed7953"
             ],
             [
              0.7777777777777778,
              "#fb9f3a"
             ],
             [
              0.8888888888888888,
              "#fdca26"
             ],
             [
              1,
              "#f0f921"
             ]
            ],
            "type": "contour"
           }
          ],
          "contourcarpet": [
           {
            "colorbar": {
             "outlinewidth": 0,
             "ticks": ""
            },
            "type": "contourcarpet"
           }
          ],
          "heatmap": [
           {
            "colorbar": {
             "outlinewidth": 0,
             "ticks": ""
            },
            "colorscale": [
             [
              0,
              "#0d0887"
             ],
             [
              0.1111111111111111,
              "#46039f"
             ],
             [
              0.2222222222222222,
              "#7201a8"
             ],
             [
              0.3333333333333333,
              "#9c179e"
             ],
             [
              0.4444444444444444,
              "#bd3786"
             ],
             [
              0.5555555555555556,
              "#d8576b"
             ],
             [
              0.6666666666666666,
              "#ed7953"
             ],
             [
              0.7777777777777778,
              "#fb9f3a"
             ],
             [
              0.8888888888888888,
              "#fdca26"
             ],
             [
              1,
              "#f0f921"
             ]
            ],
            "type": "heatmap"
           }
          ],
          "heatmapgl": [
           {
            "colorbar": {
             "outlinewidth": 0,
             "ticks": ""
            },
            "colorscale": [
             [
              0,
              "#0d0887"
             ],
             [
              0.1111111111111111,
              "#46039f"
             ],
             [
              0.2222222222222222,
              "#7201a8"
             ],
             [
              0.3333333333333333,
              "#9c179e"
             ],
             [
              0.4444444444444444,
              "#bd3786"
             ],
             [
              0.5555555555555556,
              "#d8576b"
             ],
             [
              0.6666666666666666,
              "#ed7953"
             ],
             [
              0.7777777777777778,
              "#fb9f3a"
             ],
             [
              0.8888888888888888,
              "#fdca26"
             ],
             [
              1,
              "#f0f921"
             ]
            ],
            "type": "heatmapgl"
           }
          ],
          "histogram": [
           {
            "marker": {
             "pattern": {
              "fillmode": "overlay",
              "size": 10,
              "solidity": 0.2
             }
            },
            "type": "histogram"
           }
          ],
          "histogram2d": [
           {
            "colorbar": {
             "outlinewidth": 0,
             "ticks": ""
            },
            "colorscale": [
             [
              0,
              "#0d0887"
             ],
             [
              0.1111111111111111,
              "#46039f"
             ],
             [
              0.2222222222222222,
              "#7201a8"
             ],
             [
              0.3333333333333333,
              "#9c179e"
             ],
             [
              0.4444444444444444,
              "#bd3786"
             ],
             [
              0.5555555555555556,
              "#d8576b"
             ],
             [
              0.6666666666666666,
              "#ed7953"
             ],
             [
              0.7777777777777778,
              "#fb9f3a"
             ],
             [
              0.8888888888888888,
              "#fdca26"
             ],
             [
              1,
              "#f0f921"
             ]
            ],
            "type": "histogram2d"
           }
          ],
          "histogram2dcontour": [
           {
            "colorbar": {
             "outlinewidth": 0,
             "ticks": ""
            },
            "colorscale": [
             [
              0,
              "#0d0887"
             ],
             [
              0.1111111111111111,
              "#46039f"
             ],
             [
              0.2222222222222222,
              "#7201a8"
             ],
             [
              0.3333333333333333,
              "#9c179e"
             ],
             [
              0.4444444444444444,
              "#bd3786"
             ],
             [
              0.5555555555555556,
              "#d8576b"
             ],
             [
              0.6666666666666666,
              "#ed7953"
             ],
             [
              0.7777777777777778,
              "#fb9f3a"
             ],
             [
              0.8888888888888888,
              "#fdca26"
             ],
             [
              1,
              "#f0f921"
             ]
            ],
            "type": "histogram2dcontour"
           }
          ],
          "mesh3d": [
           {
            "colorbar": {
             "outlinewidth": 0,
             "ticks": ""
            },
            "type": "mesh3d"
           }
          ],
          "parcoords": [
           {
            "line": {
             "colorbar": {
              "outlinewidth": 0,
              "ticks": ""
             }
            },
            "type": "parcoords"
           }
          ],
          "pie": [
           {
            "automargin": true,
            "type": "pie"
           }
          ],
          "scatter": [
           {
            "fillpattern": {
             "fillmode": "overlay",
             "size": 10,
             "solidity": 0.2
            },
            "type": "scatter"
           }
          ],
          "scatter3d": [
           {
            "line": {
             "colorbar": {
              "outlinewidth": 0,
              "ticks": ""
             }
            },
            "marker": {
             "colorbar": {
              "outlinewidth": 0,
              "ticks": ""
             }
            },
            "type": "scatter3d"
           }
          ],
          "scattercarpet": [
           {
            "marker": {
             "colorbar": {
              "outlinewidth": 0,
              "ticks": ""
             }
            },
            "type": "scattercarpet"
           }
          ],
          "scattergeo": [
           {
            "marker": {
             "colorbar": {
              "outlinewidth": 0,
              "ticks": ""
             }
            },
            "type": "scattergeo"
           }
          ],
          "scattergl": [
           {
            "marker": {
             "colorbar": {
              "outlinewidth": 0,
              "ticks": ""
             }
            },
            "type": "scattergl"
           }
          ],
          "scattermapbox": [
           {
            "marker": {
             "colorbar": {
              "outlinewidth": 0,
              "ticks": ""
             }
            },
            "type": "scattermapbox"
           }
          ],
          "scatterpolar": [
           {
            "marker": {
             "colorbar": {
              "outlinewidth": 0,
              "ticks": ""
             }
            },
            "type": "scatterpolar"
           }
          ],
          "scatterpolargl": [
           {
            "marker": {
             "colorbar": {
              "outlinewidth": 0,
              "ticks": ""
             }
            },
            "type": "scatterpolargl"
           }
          ],
          "scatterternary": [
           {
            "marker": {
             "colorbar": {
              "outlinewidth": 0,
              "ticks": ""
             }
            },
            "type": "scatterternary"
           }
          ],
          "surface": [
           {
            "colorbar": {
             "outlinewidth": 0,
             "ticks": ""
            },
            "colorscale": [
             [
              0,
              "#0d0887"
             ],
             [
              0.1111111111111111,
              "#46039f"
             ],
             [
              0.2222222222222222,
              "#7201a8"
             ],
             [
              0.3333333333333333,
              "#9c179e"
             ],
             [
              0.4444444444444444,
              "#bd3786"
             ],
             [
              0.5555555555555556,
              "#d8576b"
             ],
             [
              0.6666666666666666,
              "#ed7953"
             ],
             [
              0.7777777777777778,
              "#fb9f3a"
             ],
             [
              0.8888888888888888,
              "#fdca26"
             ],
             [
              1,
              "#f0f921"
             ]
            ],
            "type": "surface"
           }
          ],
          "table": [
           {
            "cells": {
             "fill": {
              "color": "#EBF0F8"
             },
             "line": {
              "color": "white"
             }
            },
            "header": {
             "fill": {
              "color": "#C8D4E3"
             },
             "line": {
              "color": "white"
             }
            },
            "type": "table"
           }
          ]
         },
         "layout": {
          "annotationdefaults": {
           "arrowcolor": "#2a3f5f",
           "arrowhead": 0,
           "arrowwidth": 1
          },
          "autotypenumbers": "strict",
          "coloraxis": {
           "colorbar": {
            "outlinewidth": 0,
            "ticks": ""
           }
          },
          "colorscale": {
           "diverging": [
            [
             0,
             "#8e0152"
            ],
            [
             0.1,
             "#c51b7d"
            ],
            [
             0.2,
             "#de77ae"
            ],
            [
             0.3,
             "#f1b6da"
            ],
            [
             0.4,
             "#fde0ef"
            ],
            [
             0.5,
             "#f7f7f7"
            ],
            [
             0.6,
             "#e6f5d0"
            ],
            [
             0.7,
             "#b8e186"
            ],
            [
             0.8,
             "#7fbc41"
            ],
            [
             0.9,
             "#4d9221"
            ],
            [
             1,
             "#276419"
            ]
           ],
           "sequential": [
            [
             0,
             "#0d0887"
            ],
            [
             0.1111111111111111,
             "#46039f"
            ],
            [
             0.2222222222222222,
             "#7201a8"
            ],
            [
             0.3333333333333333,
             "#9c179e"
            ],
            [
             0.4444444444444444,
             "#bd3786"
            ],
            [
             0.5555555555555556,
             "#d8576b"
            ],
            [
             0.6666666666666666,
             "#ed7953"
            ],
            [
             0.7777777777777778,
             "#fb9f3a"
            ],
            [
             0.8888888888888888,
             "#fdca26"
            ],
            [
             1,
             "#f0f921"
            ]
           ],
           "sequentialminus": [
            [
             0,
             "#0d0887"
            ],
            [
             0.1111111111111111,
             "#46039f"
            ],
            [
             0.2222222222222222,
             "#7201a8"
            ],
            [
             0.3333333333333333,
             "#9c179e"
            ],
            [
             0.4444444444444444,
             "#bd3786"
            ],
            [
             0.5555555555555556,
             "#d8576b"
            ],
            [
             0.6666666666666666,
             "#ed7953"
            ],
            [
             0.7777777777777778,
             "#fb9f3a"
            ],
            [
             0.8888888888888888,
             "#fdca26"
            ],
            [
             1,
             "#f0f921"
            ]
           ]
          },
          "colorway": [
           "#636efa",
           "#EF553B",
           "#00cc96",
           "#ab63fa",
           "#FFA15A",
           "#19d3f3",
           "#FF6692",
           "#B6E880",
           "#FF97FF",
           "#FECB52"
          ],
          "font": {
           "color": "#2a3f5f"
          },
          "geo": {
           "bgcolor": "white",
           "lakecolor": "white",
           "landcolor": "#E5ECF6",
           "showlakes": true,
           "showland": true,
           "subunitcolor": "white"
          },
          "hoverlabel": {
           "align": "left"
          },
          "hovermode": "closest",
          "mapbox": {
           "style": "light"
          },
          "paper_bgcolor": "white",
          "plot_bgcolor": "#E5ECF6",
          "polar": {
           "angularaxis": {
            "gridcolor": "white",
            "linecolor": "white",
            "ticks": ""
           },
           "bgcolor": "#E5ECF6",
           "radialaxis": {
            "gridcolor": "white",
            "linecolor": "white",
            "ticks": ""
           }
          },
          "scene": {
           "xaxis": {
            "backgroundcolor": "#E5ECF6",
            "gridcolor": "white",
            "gridwidth": 2,
            "linecolor": "white",
            "showbackground": true,
            "ticks": "",
            "zerolinecolor": "white"
           },
           "yaxis": {
            "backgroundcolor": "#E5ECF6",
            "gridcolor": "white",
            "gridwidth": 2,
            "linecolor": "white",
            "showbackground": true,
            "ticks": "",
            "zerolinecolor": "white"
           },
           "zaxis": {
            "backgroundcolor": "#E5ECF6",
            "gridcolor": "white",
            "gridwidth": 2,
            "linecolor": "white",
            "showbackground": true,
            "ticks": "",
            "zerolinecolor": "white"
           }
          },
          "shapedefaults": {
           "line": {
            "color": "#2a3f5f"
           }
          },
          "ternary": {
           "aaxis": {
            "gridcolor": "white",
            "linecolor": "white",
            "ticks": ""
           },
           "baxis": {
            "gridcolor": "white",
            "linecolor": "white",
            "ticks": ""
           },
           "bgcolor": "#E5ECF6",
           "caxis": {
            "gridcolor": "white",
            "linecolor": "white",
            "ticks": ""
           }
          },
          "title": {
           "x": 0.05
          },
          "xaxis": {
           "automargin": true,
           "gridcolor": "white",
           "linecolor": "white",
           "ticks": "",
           "title": {
            "standoff": 15
           },
           "zerolinecolor": "white",
           "zerolinewidth": 2
          },
          "yaxis": {
           "automargin": true,
           "gridcolor": "white",
           "linecolor": "white",
           "ticks": "",
           "title": {
            "standoff": 15
           },
           "zerolinecolor": "white",
           "zerolinewidth": 2
          }
         }
        },
        "title": {
         "text": "VISp to ALM matching cost"
        },
        "xaxis": {
         "anchor": "y",
         "constrain": "domain",
         "domain": [
          0,
          1
         ],
         "scaleanchor": "y",
         "tickangle": -45,
         "title": {
          "text": "Reference: ALM"
         }
        },
        "yaxis": {
         "anchor": "x",
         "autorange": "reversed",
         "constrain": "domain",
         "domain": [
          0,
          1
         ],
         "title": {
          "text": "Query: VISp"
         }
        }
       }
      }
     },
     "metadata": {},
     "output_type": "display_data"
    }
   ],
   "source": [
    "m.display_matching_costs(ground_truth_obs_key='labels34')"
   ]
  },
  {
   "cell_type": "markdown",
   "metadata": {},
   "source": [
    "Comparing with the previously-established hierarchy, but also verifying with the next code snippets, every cell was indeed correctly labeled to its coarser cell type!"
   ]
  },
  {
   "cell_type": "code",
   "execution_count": 25,
   "metadata": {},
   "outputs": [
    {
     "data": {
      "text/html": [
       "<div>\n",
       "<style scoped>\n",
       "    .dataframe tbody tr th:only-of-type {\n",
       "        vertical-align: middle;\n",
       "    }\n",
       "\n",
       "    .dataframe tbody tr th {\n",
       "        vertical-align: top;\n",
       "    }\n",
       "\n",
       "    .dataframe thead th {\n",
       "        text-align: right;\n",
       "    }\n",
       "</style>\n",
       "<table border=\"1\" class=\"dataframe\">\n",
       "  <thead>\n",
       "    <tr style=\"text-align: right;\">\n",
       "      <th></th>\n",
       "      <th>labels3</th>\n",
       "      <th>labels34</th>\n",
       "      <th>refcm_clusters</th>\n",
       "      <th>refcm_annot</th>\n",
       "    </tr>\n",
       "  </thead>\n",
       "  <tbody>\n",
       "    <tr>\n",
       "      <th>F1S4_160108_001_A01</th>\n",
       "      <td>Inhibitory</td>\n",
       "      <td>Vip 2</td>\n",
       "      <td>29</td>\n",
       "      <td>Non-neuronal</td>\n",
       "    </tr>\n",
       "    <tr>\n",
       "      <th>F1S4_160108_001_B01</th>\n",
       "      <td>Inhibitory</td>\n",
       "      <td>Lamp5 Rosehip</td>\n",
       "      <td>17</td>\n",
       "      <td>Non-neuronal</td>\n",
       "    </tr>\n",
       "    <tr>\n",
       "      <th>F1S4_160108_001_C01</th>\n",
       "      <td>Inhibitory</td>\n",
       "      <td>Lamp5 Rosehip</td>\n",
       "      <td>17</td>\n",
       "      <td>Non-neuronal</td>\n",
       "    </tr>\n",
       "    <tr>\n",
       "      <th>F1S4_160108_001_D01</th>\n",
       "      <td>Inhibitory</td>\n",
       "      <td>Vip 5</td>\n",
       "      <td>32</td>\n",
       "      <td>Non-neuronal</td>\n",
       "    </tr>\n",
       "    <tr>\n",
       "      <th>F1S4_160108_001_E01</th>\n",
       "      <td>Inhibitory</td>\n",
       "      <td>Lamp5 1</td>\n",
       "      <td>14</td>\n",
       "      <td>Non-neuronal</td>\n",
       "    </tr>\n",
       "    <tr>\n",
       "      <th>...</th>\n",
       "      <td>...</td>\n",
       "      <td>...</td>\n",
       "      <td>...</td>\n",
       "      <td>...</td>\n",
       "    </tr>\n",
       "    <tr>\n",
       "      <th>FYS4_171004_103_G01</th>\n",
       "      <td>Inhibitory</td>\n",
       "      <td>Sst 4</td>\n",
       "      <td>25</td>\n",
       "      <td>Non-neuronal</td>\n",
       "    </tr>\n",
       "    <tr>\n",
       "      <th>FYS4_171004_104_A01</th>\n",
       "      <td>Inhibitory</td>\n",
       "      <td>Vip Sncg</td>\n",
       "      <td>33</td>\n",
       "      <td>Non-neuronal</td>\n",
       "    </tr>\n",
       "    <tr>\n",
       "      <th>FYS4_171004_104_B01</th>\n",
       "      <td>Inhibitory</td>\n",
       "      <td>Pvalb 1</td>\n",
       "      <td>20</td>\n",
       "      <td>Inhibitory</td>\n",
       "    </tr>\n",
       "    <tr>\n",
       "      <th>FYS4_171004_104_C01</th>\n",
       "      <td>Excitatory</td>\n",
       "      <td>Exc L5 PT</td>\n",
       "      <td>5</td>\n",
       "      <td>Non-neuronal</td>\n",
       "    </tr>\n",
       "    <tr>\n",
       "      <th>FYS4_171004_104_G01</th>\n",
       "      <td>Inhibitory</td>\n",
       "      <td>Sst 5</td>\n",
       "      <td>26</td>\n",
       "      <td>Non-neuronal</td>\n",
       "    </tr>\n",
       "  </tbody>\n",
       "</table>\n",
       "<p>12552 rows × 4 columns</p>\n",
       "</div>"
      ],
      "text/plain": [
       "                        labels3       labels34  refcm_clusters   refcm_annot\n",
       "F1S4_160108_001_A01  Inhibitory          Vip 2              29  Non-neuronal\n",
       "F1S4_160108_001_B01  Inhibitory  Lamp5 Rosehip              17  Non-neuronal\n",
       "F1S4_160108_001_C01  Inhibitory  Lamp5 Rosehip              17  Non-neuronal\n",
       "F1S4_160108_001_D01  Inhibitory          Vip 5              32  Non-neuronal\n",
       "F1S4_160108_001_E01  Inhibitory        Lamp5 1              14  Non-neuronal\n",
       "...                         ...            ...             ...           ...\n",
       "FYS4_171004_103_G01  Inhibitory          Sst 4              25  Non-neuronal\n",
       "FYS4_171004_104_A01  Inhibitory       Vip Sncg              33  Non-neuronal\n",
       "FYS4_171004_104_B01  Inhibitory        Pvalb 1              20    Inhibitory\n",
       "FYS4_171004_104_C01  Excitatory      Exc L5 PT               5  Non-neuronal\n",
       "FYS4_171004_104_G01  Inhibitory          Sst 5              26  Non-neuronal\n",
       "\n",
       "[12552 rows x 4 columns]"
      ]
     },
     "execution_count": 25,
     "metadata": {},
     "output_type": "execute_result"
    }
   ],
   "source": [
    "visp.obs"
   ]
  },
  {
   "cell_type": "code",
   "execution_count": 26,
   "metadata": {},
   "outputs": [
    {
     "data": {
      "text/plain": [
       "False"
      ]
     },
     "execution_count": 26,
     "metadata": {},
     "output_type": "execute_result"
    }
   ],
   "source": [
    "(visp.obs['labels3'] == visp.obs['refcm_annot']).all()"
   ]
  },
  {
   "cell_type": "markdown",
   "metadata": {},
   "source": [
    "Conversely, let us now map from coarse to granular annotations:"
   ]
  },
  {
   "cell_type": "code",
   "execution_count": 18,
   "metadata": {},
   "outputs": [
    {
     "name": "stderr",
     "output_type": "stream",
     "text": [
      "[refcm           ] [INFO    ] : NOTE: raw counts expected in anndata .X attributes.\n",
      "[refcm           ] [DEBUG   ] : No existing matching db cost file db.json found.\n",
      "[refcm           ] [DEBUG   ] : Selecting joint gene subset for query and reference datasets\n",
      "[refcm           ] [DEBUG   ] : Using 1503 genes.\n",
      "[refcm           ] [DEBUG   ] : Computing Wasserstein distances.\n",
      "|████████████████| [100.00% ] : 00:32\n",
      "[refcm           ] [DEBUG   ] : starting LP optimization\n",
      "[refcm           ] [DEBUG   ] : optimization terminated w. status \"Optimal\"\n"
     ]
    }
   ],
   "source": [
    "# ensure we allow the query clusters to \"split\" as it sees fit\n",
    "rcm = RefCM(numItermax=1e7, max_splits=-1)\n",
    "m = rcm.annotate(visp, 'VISp', alm, 'ALM', 'labels34', 'labels3')"
   ]
  },
  {
   "cell_type": "code",
   "execution_count": 19,
   "metadata": {},
   "outputs": [
    {
     "data": {
      "application/vnd.plotly.v1+json": {
       "config": {
        "plotlyServerURL": "https://plot.ly"
       },
       "data": [
        {
         "coloraxis": "coloraxis",
         "hovertemplate": "Reference: ALM: %{x}<br>Query: VISp: %{y}<br>cost: %{z}<extra></extra>",
         "name": "0",
         "type": "heatmap",
         "x": [
          "Astrocyte",
          "Chandelier",
          "Exc L2/3 IT",
          "Exc L3/5 IT",
          "Exc L4/5 IT",
          "Exc L5 PT",
          "Exc L5/6 IT 1",
          "Exc L5/6 IT 2",
          "Exc L5/6 IT 3",
          "Exc L5/6 NP",
          "Exc L6 CT",
          "Exc L6 IT 1",
          "Exc L6 IT 2",
          "Exc L6b",
          "Lamp5 1",
          "Lamp5 2",
          "Lamp5 Lhx6",
          "Lamp5 Rosehip",
          "Oligo",
          "Pax6",
          "Pvalb 1",
          "Pvalb 2",
          "Sst 1",
          "Sst 2",
          "Sst 3",
          "Sst 4",
          "Sst 5",
          "Sst Chodl",
          "Vip 1",
          "Vip 2",
          "Vip 3",
          "Vip 4",
          "Vip 5",
          "Vip Sncg"
         ],
         "xaxis": "x",
         "y": [
          "Excitatory",
          "Inhibitory",
          "Non-neuronal"
         ],
         "yaxis": "y",
         "z": [
          [
           -5260.301927863849,
           -8228.541641280939,
           -12132.696863793546,
           -12040.418468650316,
           -11910.985374354072,
           -11502.836547459596,
           -12046.923398688517,
           -12058.874571413819,
           -11770.128746140685,
           -9718.110856450892,
           -10585.693542533476,
           -11089.939789644288,
           -11764.35480199095,
           -9923.036008481682,
           -8649.847756039639,
           -9348.747439371477,
           -8315.118299161433,
           -8684.899869649236,
           -4941.132408350248,
           -8607.51836681464,
           -8106.886585683341,
           -8078.923151427508,
           -8285.573190299676,
           -8762.465803739047,
           -8714.088678103795,
           -8586.53484102937,
           -8676.093941214063,
           -8254.036757803411,
           -8456.939416457917,
           -9203.963222542392,
           -9226.317012071231,
           -8788.271552528395,
           -8698.916032571575,
           -8811.232236123189
          ],
          [
           -5098.508169908519,
           -9386.2944321133,
           -9416.9593214322,
           -9477.406600226957,
           -9108.225376981334,
           -9376.634675242678,
           -9453.305625226038,
           -9315.756515697867,
           -8988.459519327303,
           -8310.75292325669,
           -8121.015378323374,
           -8382.929663002538,
           -8955.449299821543,
           -8120.499741083385,
           -9810.20765940476,
           -10258.225613819983,
           -9443.935901732635,
           -9737.194223809596,
           -4965.476471848709,
           -9582.543566071505,
           -9397.779982776488,
           -9516.02469928832,
           -9384.527261693282,
           -9998.104053200444,
           -9754.21067051796,
           -9629.334254846593,
           -9909.318560051232,
           -8905.232053516864,
           -9562.991946960517,
           -10448.854401418173,
           -10583.849737377073,
           -10015.327823783295,
           -9979.958649302183,
           -10086.751514942154
          ],
          [
           -10727.714973958333,
           -5486.4352648831145,
           -6179.645194060496,
           -6281.155662027995,
           -5874.804921422977,
           -6182.533587831444,
           -6176.141859617637,
           -6162.415774183415,
           -5855.055849448802,
           -5269.636971723537,
           -5298.133775190869,
           -5518.661067708334,
           -5833.107960019268,
           -5190.217738762455,
           -5309.102844143651,
           -5722.768947958357,
           -5374.678977527836,
           -5476.953625727631,
           -7775.996009799889,
           -5620.833577473956,
           -5370.619506060886,
           -5315.448833330603,
           -5062.759425802108,
           -5576.452148105335,
           -5401.923350783382,
           -5398.496661931816,
           -5467.812324004122,
           -5273.564793871806,
           -5378.582832792206,
           -5838.163058810763,
           -5897.571747738189,
           -5525.80622059812,
           -5607.5757617187455,
           -5837.377994635169
          ]
         ]
        },
        {
         "hovertemplate": "%{y} -> %{x}",
         "marker": {
          "color": [
           "red",
           "red",
           "red",
           "red",
           "red",
           "red",
           "red",
           "red",
           "red",
           "red",
           "red",
           "red",
           "red",
           "red",
           "red",
           "red",
           "red",
           "red",
           "red",
           "red",
           "red",
           "red",
           "red",
           "red",
           "red",
           "red",
           "red",
           "red",
           "red",
           "red",
           "red",
           "red",
           "red",
           "red"
          ],
          "size": 5
         },
         "mode": "markers",
         "name": "",
         "type": "scatter",
         "x": [
          "Exc L2/3 IT",
          "Exc L3/5 IT",
          "Exc L4/5 IT",
          "Exc L5 PT",
          "Exc L5/6 IT 1",
          "Exc L5/6 IT 2",
          "Exc L5/6 IT 3",
          "Exc L5/6 NP",
          "Exc L6 CT",
          "Exc L6 IT 1",
          "Exc L6 IT 2",
          "Exc L6b",
          "Chandelier",
          "Lamp5 1",
          "Lamp5 2",
          "Lamp5 Lhx6",
          "Lamp5 Rosehip",
          "Pax6",
          "Pvalb 1",
          "Pvalb 2",
          "Sst 1",
          "Sst 2",
          "Sst 3",
          "Sst 4",
          "Sst 5",
          "Sst Chodl",
          "Vip 1",
          "Vip 2",
          "Vip 3",
          "Vip 4",
          "Vip 5",
          "Vip Sncg",
          "Astrocyte",
          "Oligo"
         ],
         "y": [
          "Excitatory",
          "Excitatory",
          "Excitatory",
          "Excitatory",
          "Excitatory",
          "Excitatory",
          "Excitatory",
          "Excitatory",
          "Excitatory",
          "Excitatory",
          "Excitatory",
          "Excitatory",
          "Inhibitory",
          "Inhibitory",
          "Inhibitory",
          "Inhibitory",
          "Inhibitory",
          "Inhibitory",
          "Inhibitory",
          "Inhibitory",
          "Inhibitory",
          "Inhibitory",
          "Inhibitory",
          "Inhibitory",
          "Inhibitory",
          "Inhibitory",
          "Inhibitory",
          "Inhibitory",
          "Inhibitory",
          "Inhibitory",
          "Inhibitory",
          "Inhibitory",
          "Non-neuronal",
          "Non-neuronal"
         ]
        }
       ],
       "layout": {
        "coloraxis": {
         "colorbar": {
          "title": {
           "text": "cost"
          }
         },
         "colorscale": [
          [
           0,
           "rgb(75, 41, 145)"
          ],
          [
           0.16666666666666666,
           "rgb(135, 44, 162)"
          ],
          [
           0.3333333333333333,
           "rgb(192, 54, 157)"
          ],
          [
           0.5,
           "rgb(234, 79, 136)"
          ],
          [
           0.6666666666666666,
           "rgb(250, 120, 118)"
          ],
          [
           0.8333333333333334,
           "rgb(246, 169, 122)"
          ],
          [
           1,
           "rgb(237, 217, 163)"
          ]
         ]
        },
        "template": {
         "data": {
          "bar": [
           {
            "error_x": {
             "color": "#2a3f5f"
            },
            "error_y": {
             "color": "#2a3f5f"
            },
            "marker": {
             "line": {
              "color": "#E5ECF6",
              "width": 0.5
             },
             "pattern": {
              "fillmode": "overlay",
              "size": 10,
              "solidity": 0.2
             }
            },
            "type": "bar"
           }
          ],
          "barpolar": [
           {
            "marker": {
             "line": {
              "color": "#E5ECF6",
              "width": 0.5
             },
             "pattern": {
              "fillmode": "overlay",
              "size": 10,
              "solidity": 0.2
             }
            },
            "type": "barpolar"
           }
          ],
          "carpet": [
           {
            "aaxis": {
             "endlinecolor": "#2a3f5f",
             "gridcolor": "white",
             "linecolor": "white",
             "minorgridcolor": "white",
             "startlinecolor": "#2a3f5f"
            },
            "baxis": {
             "endlinecolor": "#2a3f5f",
             "gridcolor": "white",
             "linecolor": "white",
             "minorgridcolor": "white",
             "startlinecolor": "#2a3f5f"
            },
            "type": "carpet"
           }
          ],
          "choropleth": [
           {
            "colorbar": {
             "outlinewidth": 0,
             "ticks": ""
            },
            "type": "choropleth"
           }
          ],
          "contour": [
           {
            "colorbar": {
             "outlinewidth": 0,
             "ticks": ""
            },
            "colorscale": [
             [
              0,
              "#0d0887"
             ],
             [
              0.1111111111111111,
              "#46039f"
             ],
             [
              0.2222222222222222,
              "#7201a8"
             ],
             [
              0.3333333333333333,
              "#9c179e"
             ],
             [
              0.4444444444444444,
              "#bd3786"
             ],
             [
              0.5555555555555556,
              "#d8576b"
             ],
             [
              0.6666666666666666,
              "#ed7953"
             ],
             [
              0.7777777777777778,
              "#fb9f3a"
             ],
             [
              0.8888888888888888,
              "#fdca26"
             ],
             [
              1,
              "#f0f921"
             ]
            ],
            "type": "contour"
           }
          ],
          "contourcarpet": [
           {
            "colorbar": {
             "outlinewidth": 0,
             "ticks": ""
            },
            "type": "contourcarpet"
           }
          ],
          "heatmap": [
           {
            "colorbar": {
             "outlinewidth": 0,
             "ticks": ""
            },
            "colorscale": [
             [
              0,
              "#0d0887"
             ],
             [
              0.1111111111111111,
              "#46039f"
             ],
             [
              0.2222222222222222,
              "#7201a8"
             ],
             [
              0.3333333333333333,
              "#9c179e"
             ],
             [
              0.4444444444444444,
              "#bd3786"
             ],
             [
              0.5555555555555556,
              "#d8576b"
             ],
             [
              0.6666666666666666,
              "#ed7953"
             ],
             [
              0.7777777777777778,
              "#fb9f3a"
             ],
             [
              0.8888888888888888,
              "#fdca26"
             ],
             [
              1,
              "#f0f921"
             ]
            ],
            "type": "heatmap"
           }
          ],
          "heatmapgl": [
           {
            "colorbar": {
             "outlinewidth": 0,
             "ticks": ""
            },
            "colorscale": [
             [
              0,
              "#0d0887"
             ],
             [
              0.1111111111111111,
              "#46039f"
             ],
             [
              0.2222222222222222,
              "#7201a8"
             ],
             [
              0.3333333333333333,
              "#9c179e"
             ],
             [
              0.4444444444444444,
              "#bd3786"
             ],
             [
              0.5555555555555556,
              "#d8576b"
             ],
             [
              0.6666666666666666,
              "#ed7953"
             ],
             [
              0.7777777777777778,
              "#fb9f3a"
             ],
             [
              0.8888888888888888,
              "#fdca26"
             ],
             [
              1,
              "#f0f921"
             ]
            ],
            "type": "heatmapgl"
           }
          ],
          "histogram": [
           {
            "marker": {
             "pattern": {
              "fillmode": "overlay",
              "size": 10,
              "solidity": 0.2
             }
            },
            "type": "histogram"
           }
          ],
          "histogram2d": [
           {
            "colorbar": {
             "outlinewidth": 0,
             "ticks": ""
            },
            "colorscale": [
             [
              0,
              "#0d0887"
             ],
             [
              0.1111111111111111,
              "#46039f"
             ],
             [
              0.2222222222222222,
              "#7201a8"
             ],
             [
              0.3333333333333333,
              "#9c179e"
             ],
             [
              0.4444444444444444,
              "#bd3786"
             ],
             [
              0.5555555555555556,
              "#d8576b"
             ],
             [
              0.6666666666666666,
              "#ed7953"
             ],
             [
              0.7777777777777778,
              "#fb9f3a"
             ],
             [
              0.8888888888888888,
              "#fdca26"
             ],
             [
              1,
              "#f0f921"
             ]
            ],
            "type": "histogram2d"
           }
          ],
          "histogram2dcontour": [
           {
            "colorbar": {
             "outlinewidth": 0,
             "ticks": ""
            },
            "colorscale": [
             [
              0,
              "#0d0887"
             ],
             [
              0.1111111111111111,
              "#46039f"
             ],
             [
              0.2222222222222222,
              "#7201a8"
             ],
             [
              0.3333333333333333,
              "#9c179e"
             ],
             [
              0.4444444444444444,
              "#bd3786"
             ],
             [
              0.5555555555555556,
              "#d8576b"
             ],
             [
              0.6666666666666666,
              "#ed7953"
             ],
             [
              0.7777777777777778,
              "#fb9f3a"
             ],
             [
              0.8888888888888888,
              "#fdca26"
             ],
             [
              1,
              "#f0f921"
             ]
            ],
            "type": "histogram2dcontour"
           }
          ],
          "mesh3d": [
           {
            "colorbar": {
             "outlinewidth": 0,
             "ticks": ""
            },
            "type": "mesh3d"
           }
          ],
          "parcoords": [
           {
            "line": {
             "colorbar": {
              "outlinewidth": 0,
              "ticks": ""
             }
            },
            "type": "parcoords"
           }
          ],
          "pie": [
           {
            "automargin": true,
            "type": "pie"
           }
          ],
          "scatter": [
           {
            "fillpattern": {
             "fillmode": "overlay",
             "size": 10,
             "solidity": 0.2
            },
            "type": "scatter"
           }
          ],
          "scatter3d": [
           {
            "line": {
             "colorbar": {
              "outlinewidth": 0,
              "ticks": ""
             }
            },
            "marker": {
             "colorbar": {
              "outlinewidth": 0,
              "ticks": ""
             }
            },
            "type": "scatter3d"
           }
          ],
          "scattercarpet": [
           {
            "marker": {
             "colorbar": {
              "outlinewidth": 0,
              "ticks": ""
             }
            },
            "type": "scattercarpet"
           }
          ],
          "scattergeo": [
           {
            "marker": {
             "colorbar": {
              "outlinewidth": 0,
              "ticks": ""
             }
            },
            "type": "scattergeo"
           }
          ],
          "scattergl": [
           {
            "marker": {
             "colorbar": {
              "outlinewidth": 0,
              "ticks": ""
             }
            },
            "type": "scattergl"
           }
          ],
          "scattermapbox": [
           {
            "marker": {
             "colorbar": {
              "outlinewidth": 0,
              "ticks": ""
             }
            },
            "type": "scattermapbox"
           }
          ],
          "scatterpolar": [
           {
            "marker": {
             "colorbar": {
              "outlinewidth": 0,
              "ticks": ""
             }
            },
            "type": "scatterpolar"
           }
          ],
          "scatterpolargl": [
           {
            "marker": {
             "colorbar": {
              "outlinewidth": 0,
              "ticks": ""
             }
            },
            "type": "scatterpolargl"
           }
          ],
          "scatterternary": [
           {
            "marker": {
             "colorbar": {
              "outlinewidth": 0,
              "ticks": ""
             }
            },
            "type": "scatterternary"
           }
          ],
          "surface": [
           {
            "colorbar": {
             "outlinewidth": 0,
             "ticks": ""
            },
            "colorscale": [
             [
              0,
              "#0d0887"
             ],
             [
              0.1111111111111111,
              "#46039f"
             ],
             [
              0.2222222222222222,
              "#7201a8"
             ],
             [
              0.3333333333333333,
              "#9c179e"
             ],
             [
              0.4444444444444444,
              "#bd3786"
             ],
             [
              0.5555555555555556,
              "#d8576b"
             ],
             [
              0.6666666666666666,
              "#ed7953"
             ],
             [
              0.7777777777777778,
              "#fb9f3a"
             ],
             [
              0.8888888888888888,
              "#fdca26"
             ],
             [
              1,
              "#f0f921"
             ]
            ],
            "type": "surface"
           }
          ],
          "table": [
           {
            "cells": {
             "fill": {
              "color": "#EBF0F8"
             },
             "line": {
              "color": "white"
             }
            },
            "header": {
             "fill": {
              "color": "#C8D4E3"
             },
             "line": {
              "color": "white"
             }
            },
            "type": "table"
           }
          ]
         },
         "layout": {
          "annotationdefaults": {
           "arrowcolor": "#2a3f5f",
           "arrowhead": 0,
           "arrowwidth": 1
          },
          "autotypenumbers": "strict",
          "coloraxis": {
           "colorbar": {
            "outlinewidth": 0,
            "ticks": ""
           }
          },
          "colorscale": {
           "diverging": [
            [
             0,
             "#8e0152"
            ],
            [
             0.1,
             "#c51b7d"
            ],
            [
             0.2,
             "#de77ae"
            ],
            [
             0.3,
             "#f1b6da"
            ],
            [
             0.4,
             "#fde0ef"
            ],
            [
             0.5,
             "#f7f7f7"
            ],
            [
             0.6,
             "#e6f5d0"
            ],
            [
             0.7,
             "#b8e186"
            ],
            [
             0.8,
             "#7fbc41"
            ],
            [
             0.9,
             "#4d9221"
            ],
            [
             1,
             "#276419"
            ]
           ],
           "sequential": [
            [
             0,
             "#0d0887"
            ],
            [
             0.1111111111111111,
             "#46039f"
            ],
            [
             0.2222222222222222,
             "#7201a8"
            ],
            [
             0.3333333333333333,
             "#9c179e"
            ],
            [
             0.4444444444444444,
             "#bd3786"
            ],
            [
             0.5555555555555556,
             "#d8576b"
            ],
            [
             0.6666666666666666,
             "#ed7953"
            ],
            [
             0.7777777777777778,
             "#fb9f3a"
            ],
            [
             0.8888888888888888,
             "#fdca26"
            ],
            [
             1,
             "#f0f921"
            ]
           ],
           "sequentialminus": [
            [
             0,
             "#0d0887"
            ],
            [
             0.1111111111111111,
             "#46039f"
            ],
            [
             0.2222222222222222,
             "#7201a8"
            ],
            [
             0.3333333333333333,
             "#9c179e"
            ],
            [
             0.4444444444444444,
             "#bd3786"
            ],
            [
             0.5555555555555556,
             "#d8576b"
            ],
            [
             0.6666666666666666,
             "#ed7953"
            ],
            [
             0.7777777777777778,
             "#fb9f3a"
            ],
            [
             0.8888888888888888,
             "#fdca26"
            ],
            [
             1,
             "#f0f921"
            ]
           ]
          },
          "colorway": [
           "#636efa",
           "#EF553B",
           "#00cc96",
           "#ab63fa",
           "#FFA15A",
           "#19d3f3",
           "#FF6692",
           "#B6E880",
           "#FF97FF",
           "#FECB52"
          ],
          "font": {
           "color": "#2a3f5f"
          },
          "geo": {
           "bgcolor": "white",
           "lakecolor": "white",
           "landcolor": "#E5ECF6",
           "showlakes": true,
           "showland": true,
           "subunitcolor": "white"
          },
          "hoverlabel": {
           "align": "left"
          },
          "hovermode": "closest",
          "mapbox": {
           "style": "light"
          },
          "paper_bgcolor": "white",
          "plot_bgcolor": "#E5ECF6",
          "polar": {
           "angularaxis": {
            "gridcolor": "white",
            "linecolor": "white",
            "ticks": ""
           },
           "bgcolor": "#E5ECF6",
           "radialaxis": {
            "gridcolor": "white",
            "linecolor": "white",
            "ticks": ""
           }
          },
          "scene": {
           "xaxis": {
            "backgroundcolor": "#E5ECF6",
            "gridcolor": "white",
            "gridwidth": 2,
            "linecolor": "white",
            "showbackground": true,
            "ticks": "",
            "zerolinecolor": "white"
           },
           "yaxis": {
            "backgroundcolor": "#E5ECF6",
            "gridcolor": "white",
            "gridwidth": 2,
            "linecolor": "white",
            "showbackground": true,
            "ticks": "",
            "zerolinecolor": "white"
           },
           "zaxis": {
            "backgroundcolor": "#E5ECF6",
            "gridcolor": "white",
            "gridwidth": 2,
            "linecolor": "white",
            "showbackground": true,
            "ticks": "",
            "zerolinecolor": "white"
           }
          },
          "shapedefaults": {
           "line": {
            "color": "#2a3f5f"
           }
          },
          "ternary": {
           "aaxis": {
            "gridcolor": "white",
            "linecolor": "white",
            "ticks": ""
           },
           "baxis": {
            "gridcolor": "white",
            "linecolor": "white",
            "ticks": ""
           },
           "bgcolor": "#E5ECF6",
           "caxis": {
            "gridcolor": "white",
            "linecolor": "white",
            "ticks": ""
           }
          },
          "title": {
           "x": 0.05
          },
          "xaxis": {
           "automargin": true,
           "gridcolor": "white",
           "linecolor": "white",
           "ticks": "",
           "title": {
            "standoff": 15
           },
           "zerolinecolor": "white",
           "zerolinewidth": 2
          },
          "yaxis": {
           "automargin": true,
           "gridcolor": "white",
           "linecolor": "white",
           "ticks": "",
           "title": {
            "standoff": 15
           },
           "zerolinecolor": "white",
           "zerolinewidth": 2
          }
         }
        },
        "title": {
         "text": "VISp to ALM matching cost"
        },
        "xaxis": {
         "anchor": "y",
         "constrain": "domain",
         "domain": [
          0,
          1
         ],
         "scaleanchor": "y",
         "tickangle": -45,
         "title": {
          "text": "Reference: ALM"
         }
        },
        "yaxis": {
         "anchor": "x",
         "autorange": "reversed",
         "constrain": "domain",
         "domain": [
          0,
          1
         ],
         "title": {
          "text": "Query: VISp"
         }
        }
       }
      }
     },
     "metadata": {},
     "output_type": "display_data"
    }
   ],
   "source": [
    "m.display_matching_costs(ground_truth_obs_key='labels3')"
   ]
  },
  {
   "cell_type": "markdown",
   "metadata": {},
   "source": [
    "Comparing this graph with the previous one and the established hierarchy, we conclude that this mapping direction also establishes the correct links in this direction!"
   ]
  }
 ],
 "metadata": {
  "kernelspec": {
   "display_name": "refcm",
   "language": "python",
   "name": "python3"
  },
  "language_info": {
   "codemirror_mode": {
    "name": "ipython",
    "version": 3
   },
   "file_extension": ".py",
   "mimetype": "text/x-python",
   "name": "python",
   "nbconvert_exporter": "python",
   "pygments_lexer": "ipython3",
   "version": "3.11.9"
  }
 },
 "nbformat": 4,
 "nbformat_minor": 2
}
