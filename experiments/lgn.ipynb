{
 "cells": [
  {
   "cell_type": "code",
   "execution_count": 1,
   "metadata": {},
   "outputs": [],
   "source": [
    "import sys\n",
    "sys.path.append('../src/')\n",
    "\n",
    "import config\n",
    "import logging\n",
    "import scanpy as sc\n",
    "from refcm import RefCM\n",
    "\n",
    "config.start_logging(logging.INFO)"
   ]
  },
  {
   "cell_type": "code",
   "execution_count": 2,
   "metadata": {},
   "outputs": [],
   "source": [
    "ds = {\n",
    "    \"LGN_human_intron\": sc.read_h5ad('../data/LGN_human_intron.h5ad'),\n",
    "    \"LGN_human_exon\": sc.read_h5ad('../data/LGN_human_exon.h5ad'),\n",
    "    \"LGN_macaque_intron\": sc.read_h5ad('../data/LGN_macaque_intron.h5ad'),\n",
    "    \"LGN_macaque_exon\": sc.read_h5ad('../data/LGN_macaque_exon.h5ad'),\n",
    "    \"LGN_mouse_intron\": sc.read_h5ad('../data/LGN_mouse_intron.h5ad'),\n",
    "    \"LGN_mouse_exon\": sc.read_h5ad('../data/LGN_mouse_exon.h5ad'),\n",
    "}"
   ]
  },
  {
   "cell_type": "code",
   "execution_count": 13,
   "metadata": {},
   "outputs": [
    {
     "name": "stderr",
     "output_type": "stream",
     "text": [
      "[refcm           ] [INFO    ] : NOTE: raw counts expected in anndata .X attributes.\n",
      "|████████████████| [100.00% ] : 00:01\n",
      "[matchings       ] [INFO    ] : mapped LGN_human_intron     to LGN_macaque_intron  \n",
      "[matchings       ] [INFO    ] : (5  common cell types)\n",
      "[matchings       ] [INFO    ] : 2 /10 correct mappings\n",
      "[matchings       ] [INFO    ] : 5 /10 incorrect mappings\n"
     ]
    },
    {
     "data": {
      "application/vnd.plotly.v1+json": {
       "config": {
        "plotlyServerURL": "https://plot.ly"
       },
       "data": [
        {
         "coloraxis": "coloraxis",
         "hovertemplate": "Reference: LGN_macaque_intron: %{x}<br>Query: LGN_human_intron: %{y}<br>cost: %{z}<extra></extra>",
         "name": "0",
         "type": "heatmap",
         "x": [
          "GABA1",
          "GABA2",
          "GABA3",
          "GABA4",
          "K1",
          "K2",
          "M",
          "P",
          "Pulv"
         ],
         "xaxis": "x",
         "y": [
          "Astro",
          "GABA1",
          "GABA2",
          "GABA3",
          "K1",
          "K2",
          "MP",
          "Micro",
          "OPC",
          "Oligo"
         ],
         "yaxis": "y",
         "z": [
          [
           -4097.7265802645625,
           -3989.0873354578675,
           -4123.612221052288,
           -4148.607155219167,
           -3206.6709900865935,
           -3674.872822318892,
           -3333.0968328959802,
           -3071.3046813062597,
           -3429.81635863776
          ],
          [
           -6128.292486342549,
           -5036.901278257636,
           -5165.725906964414,
           -5269.369893516256,
           -3621.824618267075,
           -4170.741276374792,
           -3686.817682022298,
           -3389.3607059456317,
           -3986.403033810876
          ],
          [
           -5303.6463367650795,
           -5943.458693193314,
           -6274.713921610369,
           -6143.433937283979,
           -3833.237788547737,
           -4458.492282791196,
           -3897.991953144855,
           -3613.839443299347,
           -4184.663654808394
          ],
          [
           -5610.14815825493,
           -6176.3053877125185,
           -6588.024746548114,
           -6552.711420143914,
           -4140.271781516414,
           -4821.933979316124,
           -4216.638387391235,
           -3906.861669544043,
           -4518.446437749642
          ],
          [
           -4224.037626621196,
           -4223.358032783159,
           -4362.2748757716145,
           -4334.682048310516,
           -3956.8494282120096,
           -4478.189714394686,
           -3807.6377831844943,
           -3477.3869184235764,
           -4378.510379523279
          ],
          [
           -4336.171231207941,
           -4306.573883795508,
           -4464.564100906609,
           -4457.106429318215,
           -3958.586718173218,
           -4525.305054354557,
           -3828.1896711949507,
           -3495.015153224147,
           -4373.890258316164
          ],
          [
           -3771.194718558091,
           -3746.6358599822483,
           -3806.7771235657997,
           -3784.187505851684,
           -3478.126952983552,
           -3745.9316383261225,
           -3631.7344914464857,
           -3370.4783044605424,
           -3592.4364851275027
          ],
          [
           -2911.174341503579,
           -2959.7105310500033,
           -3051.9963315153805,
           -3013.593935721127,
           -2492.1009682463928,
           -2781.524969942531,
           -2655.831703447128,
           -2426.759145874284,
           -2591.163206587918
          ],
          [
           -4206.178453007484,
           -4216.959621426744,
           -4317.782963895573,
           -4329.178502281549,
           -3230.288284453476,
           -3726.504032099516,
           -3325.9813546868954,
           -3091.621866098465,
           -3453.9699167454346
          ],
          [
           -3454.411773367087,
           -3373.033740151605,
           -3448.387011874258,
           -3448.6571143836964,
           -2879.1958076945516,
           -3190.6720699447037,
           -2997.5900884082616,
           -2774.5780241446714,
           -3029.177478415099
          ]
         ]
        },
        {
         "hovertemplate": "%{y} -> %{x}",
         "marker": {
          "color": [
           "green",
           "red",
           "red",
           "red",
           "green",
           "red",
           "red"
          ],
          "size": 5
         },
         "mode": "markers",
         "name": "",
         "type": "scatter",
         "x": [
          "GABA1",
          "GABA3",
          "GABA4",
          "Pulv",
          "K2",
          "M",
          "GABA2"
         ],
         "y": [
          "GABA1",
          "GABA2",
          "GABA3",
          "K1",
          "K2",
          "MP",
          "OPC"
         ]
        }
       ],
       "layout": {
        "coloraxis": {
         "colorbar": {
          "title": {
           "text": "cost"
          }
         },
         "colorscale": [
          [
           0,
           "rgb(75, 41, 145)"
          ],
          [
           0.16666666666666666,
           "rgb(135, 44, 162)"
          ],
          [
           0.3333333333333333,
           "rgb(192, 54, 157)"
          ],
          [
           0.5,
           "rgb(234, 79, 136)"
          ],
          [
           0.6666666666666666,
           "rgb(250, 120, 118)"
          ],
          [
           0.8333333333333334,
           "rgb(246, 169, 122)"
          ],
          [
           1,
           "rgb(237, 217, 163)"
          ]
         ]
        },
        "template": {
         "data": {
          "bar": [
           {
            "error_x": {
             "color": "#2a3f5f"
            },
            "error_y": {
             "color": "#2a3f5f"
            },
            "marker": {
             "line": {
              "color": "#E5ECF6",
              "width": 0.5
             },
             "pattern": {
              "fillmode": "overlay",
              "size": 10,
              "solidity": 0.2
             }
            },
            "type": "bar"
           }
          ],
          "barpolar": [
           {
            "marker": {
             "line": {
              "color": "#E5ECF6",
              "width": 0.5
             },
             "pattern": {
              "fillmode": "overlay",
              "size": 10,
              "solidity": 0.2
             }
            },
            "type": "barpolar"
           }
          ],
          "carpet": [
           {
            "aaxis": {
             "endlinecolor": "#2a3f5f",
             "gridcolor": "white",
             "linecolor": "white",
             "minorgridcolor": "white",
             "startlinecolor": "#2a3f5f"
            },
            "baxis": {
             "endlinecolor": "#2a3f5f",
             "gridcolor": "white",
             "linecolor": "white",
             "minorgridcolor": "white",
             "startlinecolor": "#2a3f5f"
            },
            "type": "carpet"
           }
          ],
          "choropleth": [
           {
            "colorbar": {
             "outlinewidth": 0,
             "ticks": ""
            },
            "type": "choropleth"
           }
          ],
          "contour": [
           {
            "colorbar": {
             "outlinewidth": 0,
             "ticks": ""
            },
            "colorscale": [
             [
              0,
              "#0d0887"
             ],
             [
              0.1111111111111111,
              "#46039f"
             ],
             [
              0.2222222222222222,
              "#7201a8"
             ],
             [
              0.3333333333333333,
              "#9c179e"
             ],
             [
              0.4444444444444444,
              "#bd3786"
             ],
             [
              0.5555555555555556,
              "#d8576b"
             ],
             [
              0.6666666666666666,
              "#ed7953"
             ],
             [
              0.7777777777777778,
              "#fb9f3a"
             ],
             [
              0.8888888888888888,
              "#fdca26"
             ],
             [
              1,
              "#f0f921"
             ]
            ],
            "type": "contour"
           }
          ],
          "contourcarpet": [
           {
            "colorbar": {
             "outlinewidth": 0,
             "ticks": ""
            },
            "type": "contourcarpet"
           }
          ],
          "heatmap": [
           {
            "colorbar": {
             "outlinewidth": 0,
             "ticks": ""
            },
            "colorscale": [
             [
              0,
              "#0d0887"
             ],
             [
              0.1111111111111111,
              "#46039f"
             ],
             [
              0.2222222222222222,
              "#7201a8"
             ],
             [
              0.3333333333333333,
              "#9c179e"
             ],
             [
              0.4444444444444444,
              "#bd3786"
             ],
             [
              0.5555555555555556,
              "#d8576b"
             ],
             [
              0.6666666666666666,
              "#ed7953"
             ],
             [
              0.7777777777777778,
              "#fb9f3a"
             ],
             [
              0.8888888888888888,
              "#fdca26"
             ],
             [
              1,
              "#f0f921"
             ]
            ],
            "type": "heatmap"
           }
          ],
          "heatmapgl": [
           {
            "colorbar": {
             "outlinewidth": 0,
             "ticks": ""
            },
            "colorscale": [
             [
              0,
              "#0d0887"
             ],
             [
              0.1111111111111111,
              "#46039f"
             ],
             [
              0.2222222222222222,
              "#7201a8"
             ],
             [
              0.3333333333333333,
              "#9c179e"
             ],
             [
              0.4444444444444444,
              "#bd3786"
             ],
             [
              0.5555555555555556,
              "#d8576b"
             ],
             [
              0.6666666666666666,
              "#ed7953"
             ],
             [
              0.7777777777777778,
              "#fb9f3a"
             ],
             [
              0.8888888888888888,
              "#fdca26"
             ],
             [
              1,
              "#f0f921"
             ]
            ],
            "type": "heatmapgl"
           }
          ],
          "histogram": [
           {
            "marker": {
             "pattern": {
              "fillmode": "overlay",
              "size": 10,
              "solidity": 0.2
             }
            },
            "type": "histogram"
           }
          ],
          "histogram2d": [
           {
            "colorbar": {
             "outlinewidth": 0,
             "ticks": ""
            },
            "colorscale": [
             [
              0,
              "#0d0887"
             ],
             [
              0.1111111111111111,
              "#46039f"
             ],
             [
              0.2222222222222222,
              "#7201a8"
             ],
             [
              0.3333333333333333,
              "#9c179e"
             ],
             [
              0.4444444444444444,
              "#bd3786"
             ],
             [
              0.5555555555555556,
              "#d8576b"
             ],
             [
              0.6666666666666666,
              "#ed7953"
             ],
             [
              0.7777777777777778,
              "#fb9f3a"
             ],
             [
              0.8888888888888888,
              "#fdca26"
             ],
             [
              1,
              "#f0f921"
             ]
            ],
            "type": "histogram2d"
           }
          ],
          "histogram2dcontour": [
           {
            "colorbar": {
             "outlinewidth": 0,
             "ticks": ""
            },
            "colorscale": [
             [
              0,
              "#0d0887"
             ],
             [
              0.1111111111111111,
              "#46039f"
             ],
             [
              0.2222222222222222,
              "#7201a8"
             ],
             [
              0.3333333333333333,
              "#9c179e"
             ],
             [
              0.4444444444444444,
              "#bd3786"
             ],
             [
              0.5555555555555556,
              "#d8576b"
             ],
             [
              0.6666666666666666,
              "#ed7953"
             ],
             [
              0.7777777777777778,
              "#fb9f3a"
             ],
             [
              0.8888888888888888,
              "#fdca26"
             ],
             [
              1,
              "#f0f921"
             ]
            ],
            "type": "histogram2dcontour"
           }
          ],
          "mesh3d": [
           {
            "colorbar": {
             "outlinewidth": 0,
             "ticks": ""
            },
            "type": "mesh3d"
           }
          ],
          "parcoords": [
           {
            "line": {
             "colorbar": {
              "outlinewidth": 0,
              "ticks": ""
             }
            },
            "type": "parcoords"
           }
          ],
          "pie": [
           {
            "automargin": true,
            "type": "pie"
           }
          ],
          "scatter": [
           {
            "fillpattern": {
             "fillmode": "overlay",
             "size": 10,
             "solidity": 0.2
            },
            "type": "scatter"
           }
          ],
          "scatter3d": [
           {
            "line": {
             "colorbar": {
              "outlinewidth": 0,
              "ticks": ""
             }
            },
            "marker": {
             "colorbar": {
              "outlinewidth": 0,
              "ticks": ""
             }
            },
            "type": "scatter3d"
           }
          ],
          "scattercarpet": [
           {
            "marker": {
             "colorbar": {
              "outlinewidth": 0,
              "ticks": ""
             }
            },
            "type": "scattercarpet"
           }
          ],
          "scattergeo": [
           {
            "marker": {
             "colorbar": {
              "outlinewidth": 0,
              "ticks": ""
             }
            },
            "type": "scattergeo"
           }
          ],
          "scattergl": [
           {
            "marker": {
             "colorbar": {
              "outlinewidth": 0,
              "ticks": ""
             }
            },
            "type": "scattergl"
           }
          ],
          "scattermapbox": [
           {
            "marker": {
             "colorbar": {
              "outlinewidth": 0,
              "ticks": ""
             }
            },
            "type": "scattermapbox"
           }
          ],
          "scatterpolar": [
           {
            "marker": {
             "colorbar": {
              "outlinewidth": 0,
              "ticks": ""
             }
            },
            "type": "scatterpolar"
           }
          ],
          "scatterpolargl": [
           {
            "marker": {
             "colorbar": {
              "outlinewidth": 0,
              "ticks": ""
             }
            },
            "type": "scatterpolargl"
           }
          ],
          "scatterternary": [
           {
            "marker": {
             "colorbar": {
              "outlinewidth": 0,
              "ticks": ""
             }
            },
            "type": "scatterternary"
           }
          ],
          "surface": [
           {
            "colorbar": {
             "outlinewidth": 0,
             "ticks": ""
            },
            "colorscale": [
             [
              0,
              "#0d0887"
             ],
             [
              0.1111111111111111,
              "#46039f"
             ],
             [
              0.2222222222222222,
              "#7201a8"
             ],
             [
              0.3333333333333333,
              "#9c179e"
             ],
             [
              0.4444444444444444,
              "#bd3786"
             ],
             [
              0.5555555555555556,
              "#d8576b"
             ],
             [
              0.6666666666666666,
              "#ed7953"
             ],
             [
              0.7777777777777778,
              "#fb9f3a"
             ],
             [
              0.8888888888888888,
              "#fdca26"
             ],
             [
              1,
              "#f0f921"
             ]
            ],
            "type": "surface"
           }
          ],
          "table": [
           {
            "cells": {
             "fill": {
              "color": "#EBF0F8"
             },
             "line": {
              "color": "white"
             }
            },
            "header": {
             "fill": {
              "color": "#C8D4E3"
             },
             "line": {
              "color": "white"
             }
            },
            "type": "table"
           }
          ]
         },
         "layout": {
          "annotationdefaults": {
           "arrowcolor": "#2a3f5f",
           "arrowhead": 0,
           "arrowwidth": 1
          },
          "autotypenumbers": "strict",
          "coloraxis": {
           "colorbar": {
            "outlinewidth": 0,
            "ticks": ""
           }
          },
          "colorscale": {
           "diverging": [
            [
             0,
             "#8e0152"
            ],
            [
             0.1,
             "#c51b7d"
            ],
            [
             0.2,
             "#de77ae"
            ],
            [
             0.3,
             "#f1b6da"
            ],
            [
             0.4,
             "#fde0ef"
            ],
            [
             0.5,
             "#f7f7f7"
            ],
            [
             0.6,
             "#e6f5d0"
            ],
            [
             0.7,
             "#b8e186"
            ],
            [
             0.8,
             "#7fbc41"
            ],
            [
             0.9,
             "#4d9221"
            ],
            [
             1,
             "#276419"
            ]
           ],
           "sequential": [
            [
             0,
             "#0d0887"
            ],
            [
             0.1111111111111111,
             "#46039f"
            ],
            [
             0.2222222222222222,
             "#7201a8"
            ],
            [
             0.3333333333333333,
             "#9c179e"
            ],
            [
             0.4444444444444444,
             "#bd3786"
            ],
            [
             0.5555555555555556,
             "#d8576b"
            ],
            [
             0.6666666666666666,
             "#ed7953"
            ],
            [
             0.7777777777777778,
             "#fb9f3a"
            ],
            [
             0.8888888888888888,
             "#fdca26"
            ],
            [
             1,
             "#f0f921"
            ]
           ],
           "sequentialminus": [
            [
             0,
             "#0d0887"
            ],
            [
             0.1111111111111111,
             "#46039f"
            ],
            [
             0.2222222222222222,
             "#7201a8"
            ],
            [
             0.3333333333333333,
             "#9c179e"
            ],
            [
             0.4444444444444444,
             "#bd3786"
            ],
            [
             0.5555555555555556,
             "#d8576b"
            ],
            [
             0.6666666666666666,
             "#ed7953"
            ],
            [
             0.7777777777777778,
             "#fb9f3a"
            ],
            [
             0.8888888888888888,
             "#fdca26"
            ],
            [
             1,
             "#f0f921"
            ]
           ]
          },
          "colorway": [
           "#636efa",
           "#EF553B",
           "#00cc96",
           "#ab63fa",
           "#FFA15A",
           "#19d3f3",
           "#FF6692",
           "#B6E880",
           "#FF97FF",
           "#FECB52"
          ],
          "font": {
           "color": "#2a3f5f"
          },
          "geo": {
           "bgcolor": "white",
           "lakecolor": "white",
           "landcolor": "#E5ECF6",
           "showlakes": true,
           "showland": true,
           "subunitcolor": "white"
          },
          "hoverlabel": {
           "align": "left"
          },
          "hovermode": "closest",
          "mapbox": {
           "style": "light"
          },
          "paper_bgcolor": "white",
          "plot_bgcolor": "#E5ECF6",
          "polar": {
           "angularaxis": {
            "gridcolor": "white",
            "linecolor": "white",
            "ticks": ""
           },
           "bgcolor": "#E5ECF6",
           "radialaxis": {
            "gridcolor": "white",
            "linecolor": "white",
            "ticks": ""
           }
          },
          "scene": {
           "xaxis": {
            "backgroundcolor": "#E5ECF6",
            "gridcolor": "white",
            "gridwidth": 2,
            "linecolor": "white",
            "showbackground": true,
            "ticks": "",
            "zerolinecolor": "white"
           },
           "yaxis": {
            "backgroundcolor": "#E5ECF6",
            "gridcolor": "white",
            "gridwidth": 2,
            "linecolor": "white",
            "showbackground": true,
            "ticks": "",
            "zerolinecolor": "white"
           },
           "zaxis": {
            "backgroundcolor": "#E5ECF6",
            "gridcolor": "white",
            "gridwidth": 2,
            "linecolor": "white",
            "showbackground": true,
            "ticks": "",
            "zerolinecolor": "white"
           }
          },
          "shapedefaults": {
           "line": {
            "color": "#2a3f5f"
           }
          },
          "ternary": {
           "aaxis": {
            "gridcolor": "white",
            "linecolor": "white",
            "ticks": ""
           },
           "baxis": {
            "gridcolor": "white",
            "linecolor": "white",
            "ticks": ""
           },
           "bgcolor": "#E5ECF6",
           "caxis": {
            "gridcolor": "white",
            "linecolor": "white",
            "ticks": ""
           }
          },
          "title": {
           "x": 0.05
          },
          "xaxis": {
           "automargin": true,
           "gridcolor": "white",
           "linecolor": "white",
           "ticks": "",
           "title": {
            "standoff": 15
           },
           "zerolinecolor": "white",
           "zerolinewidth": 2
          },
          "yaxis": {
           "automargin": true,
           "gridcolor": "white",
           "linecolor": "white",
           "ticks": "",
           "title": {
            "standoff": 15
           },
           "zerolinecolor": "white",
           "zerolinewidth": 2
          }
         }
        },
        "title": {
         "text": "LGN_human_intron to LGN_macaque_intron matching cost"
        },
        "xaxis": {
         "anchor": "y",
         "constrain": "domain",
         "domain": [
          0,
          1
         ],
         "scaleanchor": "y",
         "tickangle": -45,
         "title": {
          "text": "Reference: LGN_macaque_intron"
         }
        },
        "yaxis": {
         "anchor": "x",
         "autorange": "reversed",
         "constrain": "domain",
         "domain": [
          0,
          1
         ],
         "title": {
          "text": "Query: LGN_human_intron"
         }
        }
       }
      }
     },
     "metadata": {},
     "output_type": "display_data"
    }
   ],
   "source": [
    "rcm = RefCM(target_sum=1e6, discovery_threshold=0.5)\n",
    "m = rcm.annotate(ds['LGN_human_intron'], 'LGN_human_intron', ds['LGN_macaque_intron'], 'LGN_macaque_intron', 'cluster_label', 'cluster_label')\n",
    "m.eval('cluster_label')\n",
    "m.display_matching_costs('cluster_label')"
   ]
  },
  {
   "cell_type": "code",
   "execution_count": 4,
   "metadata": {},
   "outputs": [
    {
     "name": "stderr",
     "output_type": "stream",
     "text": [
      "[refcm           ] [INFO    ] : NOTE: raw counts expected in anndata .X attributes.\n",
      "|████████████████| [100.00% ] : 00:01\n",
      "[matchings       ] [INFO    ] : mapped LGN_human_intron     to LGN_human_exon      \n",
      "[matchings       ] [INFO    ] : (10 common cell types)\n",
      "[matchings       ] [INFO    ] : 10/10 correct mappings\n",
      "[matchings       ] [INFO    ] : 0 /10 incorrect mappings\n",
      "|████████████████| [100.00% ] : 00:01\n",
      "[matchings       ] [INFO    ] : mapped LGN_human_intron     to LGN_macaque_intron  \n",
      "[matchings       ] [INFO    ] : (5  common cell types)\n",
      "[matchings       ] [INFO    ] : 2 /10 correct mappings\n",
      "[matchings       ] [INFO    ] : 7 /10 incorrect mappings\n",
      "|████████████████| [100.00% ] : 00:01\n",
      "[matchings       ] [INFO    ] : mapped LGN_human_intron     to LGN_macaque_exon    \n",
      "[matchings       ] [INFO    ] : (5  common cell types)\n",
      "[matchings       ] [INFO    ] : 4 /10 correct mappings\n",
      "[matchings       ] [INFO    ] : 5 /10 incorrect mappings\n",
      "|████████████████| [100.00% ] : 00:00\n",
      "[matchings       ] [INFO    ] : mapped LGN_human_intron     to LGN_mouse_intron    \n",
      "[matchings       ] [INFO    ] : (3  common cell types)\n",
      "[matchings       ] [INFO    ] : 0 /10 correct mappings\n",
      "[matchings       ] [INFO    ] : 10/10 incorrect mappings\n",
      "|████████████████| [100.00% ] : 00:00\n",
      "[matchings       ] [INFO    ] : mapped LGN_human_intron     to LGN_mouse_exon      \n",
      "[matchings       ] [INFO    ] : (3  common cell types)\n",
      "[matchings       ] [INFO    ] : 0 /10 correct mappings\n",
      "[matchings       ] [INFO    ] : 10/10 incorrect mappings\n",
      "|████████████████| [100.00% ] : 00:02\n",
      "[matchings       ] [INFO    ] : mapped LGN_human_exon       to LGN_human_intron    \n",
      "[matchings       ] [INFO    ] : (10 common cell types)\n",
      "[matchings       ] [INFO    ] : 10/10 correct mappings\n",
      "[matchings       ] [INFO    ] : 0 /10 incorrect mappings\n",
      "|████████████████| [100.00% ] : 00:01\n",
      "[matchings       ] [INFO    ] : mapped LGN_human_exon       to LGN_macaque_intron  \n",
      "[matchings       ] [INFO    ] : (5  common cell types)\n",
      "[matchings       ] [INFO    ] : 2 /10 correct mappings\n",
      "[matchings       ] [INFO    ] : 7 /10 incorrect mappings\n",
      "|████████████████| [100.00% ] : 00:01\n",
      "[matchings       ] [INFO    ] : mapped LGN_human_exon       to LGN_macaque_exon    \n",
      "[matchings       ] [INFO    ] : (5  common cell types)\n",
      "[matchings       ] [INFO    ] : 2 /10 correct mappings\n",
      "[matchings       ] [INFO    ] : 7 /10 incorrect mappings\n",
      "|████████████████| [100.00% ] : 00:00\n",
      "[matchings       ] [INFO    ] : mapped LGN_human_exon       to LGN_mouse_intron    \n",
      "[matchings       ] [INFO    ] : (3  common cell types)\n",
      "[matchings       ] [INFO    ] : 1 /10 correct mappings\n",
      "[matchings       ] [INFO    ] : 9 /10 incorrect mappings\n",
      "|████████████████| [100.00% ] : 00:00\n",
      "[matchings       ] [INFO    ] : mapped LGN_human_exon       to LGN_mouse_exon      \n",
      "[matchings       ] [INFO    ] : (3  common cell types)\n",
      "[matchings       ] [INFO    ] : 0 /10 correct mappings\n",
      "[matchings       ] [INFO    ] : 10/10 incorrect mappings\n",
      "|████████████████| [100.00% ] : 00:01\n",
      "[matchings       ] [INFO    ] : mapped LGN_macaque_intron   to LGN_human_intron    \n",
      "[matchings       ] [INFO    ] : (5  common cell types)\n",
      "[matchings       ] [INFO    ] : 2 /9  correct mappings\n",
      "[matchings       ] [INFO    ] : 7 /9  incorrect mappings\n",
      "|████████████████| [100.00% ] : 00:01\n",
      "[matchings       ] [INFO    ] : mapped LGN_macaque_intron   to LGN_human_exon      \n",
      "[matchings       ] [INFO    ] : (5  common cell types)\n",
      "[matchings       ] [INFO    ] : 2 /9  correct mappings\n",
      "[matchings       ] [INFO    ] : 7 /9  incorrect mappings\n",
      "|████████████████| [100.00% ] : 00:02\n",
      "[matchings       ] [INFO    ] : mapped LGN_macaque_intron   to LGN_macaque_exon    \n",
      "[matchings       ] [INFO    ] : (9  common cell types)\n",
      "[matchings       ] [INFO    ] : 9 /9  correct mappings\n",
      "[matchings       ] [INFO    ] : 0 /9  incorrect mappings\n",
      "|████████████████| [100.00% ] : 00:00\n",
      "[matchings       ] [INFO    ] : mapped LGN_macaque_intron   to LGN_mouse_intron    \n",
      "[matchings       ] [INFO    ] : (4  common cell types)\n",
      "[matchings       ] [INFO    ] : 0 /9  correct mappings\n",
      "[matchings       ] [INFO    ] : 9 /9  incorrect mappings\n",
      "|████████████████| [100.00% ] : 00:00\n",
      "[matchings       ] [INFO    ] : mapped LGN_macaque_intron   to LGN_mouse_exon      \n",
      "[matchings       ] [INFO    ] : (4  common cell types)\n",
      "[matchings       ] [INFO    ] : 1 /9  correct mappings\n",
      "[matchings       ] [INFO    ] : 7 /9  incorrect mappings\n",
      "|████████████████| [100.00% ] : 00:01\n",
      "[matchings       ] [INFO    ] : mapped LGN_macaque_exon     to LGN_human_intron    \n",
      "[matchings       ] [INFO    ] : (5  common cell types)\n",
      "[matchings       ] [INFO    ] : 4 /9  correct mappings\n",
      "[matchings       ] [INFO    ] : 5 /9  incorrect mappings\n",
      "|████████████████| [100.00% ] : 00:01\n",
      "[matchings       ] [INFO    ] : mapped LGN_macaque_exon     to LGN_human_exon      \n",
      "[matchings       ] [INFO    ] : (5  common cell types)\n",
      "[matchings       ] [INFO    ] : 2 /9  correct mappings\n",
      "[matchings       ] [INFO    ] : 7 /9  incorrect mappings\n",
      "|████████████████| [100.00% ] : 00:02\n",
      "[matchings       ] [INFO    ] : mapped LGN_macaque_exon     to LGN_macaque_intron  \n",
      "[matchings       ] [INFO    ] : (9  common cell types)\n",
      "[matchings       ] [INFO    ] : 9 /9  correct mappings\n",
      "[matchings       ] [INFO    ] : 0 /9  incorrect mappings\n",
      "|████████████████| [100.00% ] : 00:00\n",
      "[matchings       ] [INFO    ] : mapped LGN_macaque_exon     to LGN_mouse_intron    \n",
      "[matchings       ] [INFO    ] : (4  common cell types)\n",
      "[matchings       ] [INFO    ] : 0 /9  correct mappings\n",
      "[matchings       ] [INFO    ] : 9 /9  incorrect mappings\n",
      "|████████████████| [100.00% ] : 00:00\n",
      "[matchings       ] [INFO    ] : mapped LGN_macaque_exon     to LGN_mouse_exon      \n",
      "[matchings       ] [INFO    ] : (4  common cell types)\n",
      "[matchings       ] [INFO    ] : 0 /9  correct mappings\n",
      "[matchings       ] [INFO    ] : 9 /9  incorrect mappings\n",
      "|████████████████| [100.00% ] : 00:00\n",
      "[matchings       ] [INFO    ] : mapped LGN_mouse_intron     to LGN_human_intron    \n",
      "[matchings       ] [INFO    ] : (3  common cell types)\n",
      "[matchings       ] [INFO    ] : 0 /15 correct mappings\n",
      "[matchings       ] [INFO    ] : 10/15 incorrect mappings\n",
      "|████████████████| [100.00% ] : 00:00\n",
      "[matchings       ] [INFO    ] : mapped LGN_mouse_intron     to LGN_human_exon      \n",
      "[matchings       ] [INFO    ] : (3  common cell types)\n",
      "[matchings       ] [INFO    ] : 1 /15 correct mappings\n",
      "[matchings       ] [INFO    ] : 9 /15 incorrect mappings\n",
      "|████████████████| [100.00% ] : 00:00\n",
      "[matchings       ] [INFO    ] : mapped LGN_mouse_intron     to LGN_macaque_intron  \n",
      "[matchings       ] [INFO    ] : (4  common cell types)\n",
      "[matchings       ] [INFO    ] : 0 /15 correct mappings\n",
      "[matchings       ] [INFO    ] : 9 /15 incorrect mappings\n",
      "|████████████████| [100.00% ] : 00:00\n",
      "[matchings       ] [INFO    ] : mapped LGN_mouse_intron     to LGN_macaque_exon    \n",
      "[matchings       ] [INFO    ] : (4  common cell types)\n",
      "[matchings       ] [INFO    ] : 0 /15 correct mappings\n",
      "[matchings       ] [INFO    ] : 9 /15 incorrect mappings\n",
      "|████████████████| [100.00% ] : 00:03\n",
      "[matchings       ] [INFO    ] : mapped LGN_mouse_intron     to LGN_mouse_exon      \n",
      "[matchings       ] [INFO    ] : (15 common cell types)\n",
      "[matchings       ] [INFO    ] : 15/15 correct mappings\n",
      "[matchings       ] [INFO    ] : 0 /15 incorrect mappings\n",
      "|████████████████| [100.00% ] : 00:00\n",
      "[matchings       ] [INFO    ] : mapped LGN_mouse_exon       to LGN_human_intron    \n",
      "[matchings       ] [INFO    ] : (3  common cell types)\n",
      "[matchings       ] [INFO    ] : 0 /15 correct mappings\n",
      "[matchings       ] [INFO    ] : 10/15 incorrect mappings\n",
      "|████████████████| [100.00% ] : 00:00\n",
      "[matchings       ] [INFO    ] : mapped LGN_mouse_exon       to LGN_human_exon      \n",
      "[matchings       ] [INFO    ] : (3  common cell types)\n",
      "[matchings       ] [INFO    ] : 0 /15 correct mappings\n",
      "[matchings       ] [INFO    ] : 10/15 incorrect mappings\n",
      "|████████████████| [100.00% ] : 00:00\n",
      "[matchings       ] [INFO    ] : mapped LGN_mouse_exon       to LGN_macaque_intron  \n",
      "[matchings       ] [INFO    ] : (4  common cell types)\n",
      "[matchings       ] [INFO    ] : 1 /15 correct mappings\n",
      "[matchings       ] [INFO    ] : 7 /15 incorrect mappings\n",
      "|████████████████| [100.00% ] : 00:00\n",
      "[matchings       ] [INFO    ] : mapped LGN_mouse_exon       to LGN_macaque_exon    \n",
      "[matchings       ] [INFO    ] : (4  common cell types)\n",
      "[matchings       ] [INFO    ] : 0 /15 correct mappings\n",
      "[matchings       ] [INFO    ] : 9 /15 incorrect mappings\n",
      "|████████████████| [100.00% ] : 00:03\n",
      "[matchings       ] [INFO    ] : mapped LGN_mouse_exon       to LGN_mouse_intron    \n",
      "[matchings       ] [INFO    ] : (15 common cell types)\n",
      "[matchings       ] [INFO    ] : 15/15 correct mappings\n",
      "[matchings       ] [INFO    ] : 0 /15 incorrect mappings\n"
     ]
    }
   ],
   "source": [
    "rcm = RefCM(discovery_threshold=0)\n",
    "\n",
    "for i, q_id in enumerate(ds):\n",
    "    for ref_id in [d for d in ds if d != q_id]:\n",
    "        m = rcm.annotate(ds[q_id], q_id, ds[ref_id], ref_id, 'cluster_label', 'cluster_label')\n",
    "        m.eval('cluster_label')"
   ]
  }
 ],
 "metadata": {
  "kernelspec": {
   "display_name": "SCC",
   "language": "python",
   "name": "python3"
  },
  "language_info": {
   "codemirror_mode": {
    "name": "ipython",
    "version": 3
   },
   "file_extension": ".py",
   "mimetype": "text/x-python",
   "name": "python",
   "nbconvert_exporter": "python",
   "pygments_lexer": "ipython3",
   "version": "3.11.7"
  }
 },
 "nbformat": 4,
 "nbformat_minor": 2
}
