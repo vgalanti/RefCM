{
 "cells": [
  {
   "cell_type": "code",
   "execution_count": 1,
   "metadata": {},
   "outputs": [],
   "source": [
    "from refcm import RefCM\n",
    "from matchings import Matching\n",
    "import scanpy as sc\n",
    "import config\n",
    "import logging\n",
    "\n",
    "config.start_logging(logging.DEBUG)"
   ]
  },
  {
   "cell_type": "code",
   "execution_count": 12,
   "metadata": {},
   "outputs": [],
   "source": [
    "ds = sc.read_h5ad('zebrafish.h5ad')"
   ]
  },
  {
   "cell_type": "code",
   "execution_count": 15,
   "metadata": {},
   "outputs": [
    {
     "data": {
      "text/html": [
       "<div>\n",
       "<style scoped>\n",
       "    .dataframe tbody tr th:only-of-type {\n",
       "        vertical-align: middle;\n",
       "    }\n",
       "\n",
       "    .dataframe tbody tr th {\n",
       "        vertical-align: top;\n",
       "    }\n",
       "\n",
       "    .dataframe thead th {\n",
       "        text-align: right;\n",
       "    }\n",
       "</style>\n",
       "<table border=\"1\" class=\"dataframe\">\n",
       "  <thead>\n",
       "    <tr style=\"text-align: right;\">\n",
       "      <th></th>\n",
       "      <th>n_counts</th>\n",
       "      <th>unique_cell_id</th>\n",
       "      <th>cell_names</th>\n",
       "      <th>library_id</th>\n",
       "      <th>batch</th>\n",
       "      <th>ClusterID</th>\n",
       "      <th>ClusterName</th>\n",
       "      <th>TissueID</th>\n",
       "      <th>TissueName</th>\n",
       "      <th>TimeID</th>\n",
       "    </tr>\n",
       "    <tr>\n",
       "      <th>index</th>\n",
       "      <th></th>\n",
       "      <th></th>\n",
       "      <th></th>\n",
       "      <th></th>\n",
       "      <th></th>\n",
       "      <th></th>\n",
       "      <th></th>\n",
       "      <th></th>\n",
       "      <th></th>\n",
       "      <th></th>\n",
       "    </tr>\n",
       "  </thead>\n",
       "  <tbody>\n",
       "    <tr>\n",
       "      <th>0-0-0</th>\n",
       "      <td>15111.0</td>\n",
       "      <td>DEW050_AGTCAATAC-TTGGATCG</td>\n",
       "      <td>bcGPGV</td>\n",
       "      <td>DEW050</td>\n",
       "      <td>0</td>\n",
       "      <td>1</td>\n",
       "      <td>04hpf-pluripotent</td>\n",
       "      <td>9</td>\n",
       "      <td>Pluripotent</td>\n",
       "      <td>4hpf</td>\n",
       "    </tr>\n",
       "    <tr>\n",
       "      <th>1-0-0</th>\n",
       "      <td>2337.0</td>\n",
       "      <td>DEW050_AAGAACGGG-GCGTTGCT</td>\n",
       "      <td>bcDSDI</td>\n",
       "      <td>DEW050</td>\n",
       "      <td>0</td>\n",
       "      <td>1</td>\n",
       "      <td>04hpf-pluripotent</td>\n",
       "      <td>9</td>\n",
       "      <td>Pluripotent</td>\n",
       "      <td>4hpf</td>\n",
       "    </tr>\n",
       "    <tr>\n",
       "      <th>2-0-0</th>\n",
       "      <td>2078.0</td>\n",
       "      <td>DEW050_GACCTACTAG-TTAGTCCG</td>\n",
       "      <td>bcENHV</td>\n",
       "      <td>DEW050</td>\n",
       "      <td>0</td>\n",
       "      <td>1</td>\n",
       "      <td>04hpf-pluripotent</td>\n",
       "      <td>9</td>\n",
       "      <td>Pluripotent</td>\n",
       "      <td>4hpf</td>\n",
       "    </tr>\n",
       "    <tr>\n",
       "      <th>3-0-0</th>\n",
       "      <td>1648.0</td>\n",
       "      <td>DEW050_GTTTGTTT-GGTCCCTT</td>\n",
       "      <td>bcAABE</td>\n",
       "      <td>DEW050</td>\n",
       "      <td>0</td>\n",
       "      <td>1</td>\n",
       "      <td>04hpf-pluripotent</td>\n",
       "      <td>9</td>\n",
       "      <td>Pluripotent</td>\n",
       "      <td>4hpf</td>\n",
       "    </tr>\n",
       "    <tr>\n",
       "      <th>4-0-0</th>\n",
       "      <td>1153.0</td>\n",
       "      <td>DEW050_TGATTGCACGC-TAACCATC</td>\n",
       "      <td>bcFTTU</td>\n",
       "      <td>DEW050</td>\n",
       "      <td>0</td>\n",
       "      <td>1</td>\n",
       "      <td>04hpf-pluripotent</td>\n",
       "      <td>9</td>\n",
       "      <td>Pluripotent</td>\n",
       "      <td>4hpf</td>\n",
       "    </tr>\n",
       "    <tr>\n",
       "      <th>...</th>\n",
       "      <td>...</td>\n",
       "      <td>...</td>\n",
       "      <td>...</td>\n",
       "      <td>...</td>\n",
       "      <td>...</td>\n",
       "      <td>...</td>\n",
       "      <td>...</td>\n",
       "      <td>...</td>\n",
       "      <td>...</td>\n",
       "      <td>...</td>\n",
       "    </tr>\n",
       "    <tr>\n",
       "      <th>1993-28-6</th>\n",
       "      <td>2525.0</td>\n",
       "      <td>DEW169_ATTTCCAT-CAGTCCCT</td>\n",
       "      <td>bcDANY</td>\n",
       "      <td>DEW169</td>\n",
       "      <td>6</td>\n",
       "      <td>135</td>\n",
       "      <td>24hpf-muscle - myl1</td>\n",
       "      <td>8</td>\n",
       "      <td>Mesoderm</td>\n",
       "      <td>24hpf</td>\n",
       "    </tr>\n",
       "    <tr>\n",
       "      <th>1994-28-6</th>\n",
       "      <td>1548.0</td>\n",
       "      <td>DEW169_CTACGGGA-ATACCCAG</td>\n",
       "      <td>bcELQP</td>\n",
       "      <td>DEW169</td>\n",
       "      <td>6</td>\n",
       "      <td>157</td>\n",
       "      <td>24hpf-differentiating neurons - eomesa</td>\n",
       "      <td>1</td>\n",
       "      <td>Forebrain / Optic</td>\n",
       "      <td>24hpf</td>\n",
       "    </tr>\n",
       "    <tr>\n",
       "      <th>2000-28-6</th>\n",
       "      <td>5054.0</td>\n",
       "      <td>DEW169_TGGAAAGC-CCGCAACT</td>\n",
       "      <td>bcIGIF</td>\n",
       "      <td>DEW169</td>\n",
       "      <td>6</td>\n",
       "      <td>138</td>\n",
       "      <td>24hpf-neural - diencephalon</td>\n",
       "      <td>1</td>\n",
       "      <td>Forebrain / Optic</td>\n",
       "      <td>24hpf</td>\n",
       "    </tr>\n",
       "    <tr>\n",
       "      <th>2001-28-6</th>\n",
       "      <td>3270.0</td>\n",
       "      <td>DEW169_GAAAGACA-GTCCGTAC</td>\n",
       "      <td>bcFBRF</td>\n",
       "      <td>DEW169</td>\n",
       "      <td>6</td>\n",
       "      <td>178</td>\n",
       "      <td>24hpf-pharyngeal arch - ndnf</td>\n",
       "      <td>8</td>\n",
       "      <td>Mesoderm</td>\n",
       "      <td>24hpf</td>\n",
       "    </tr>\n",
       "    <tr>\n",
       "      <th>2002-28-6</th>\n",
       "      <td>2813.0</td>\n",
       "      <td>DEW169_CCTCATGA-CTAGTAAC</td>\n",
       "      <td>bcDZHN</td>\n",
       "      <td>DEW169</td>\n",
       "      <td>6</td>\n",
       "      <td>136</td>\n",
       "      <td>24hpf-neural - midbrain</td>\n",
       "      <td>2</td>\n",
       "      <td>Midbrain</td>\n",
       "      <td>24hpf</td>\n",
       "    </tr>\n",
       "  </tbody>\n",
       "</table>\n",
       "<p>63530 rows × 10 columns</p>\n",
       "</div>"
      ],
      "text/plain": [
       "           n_counts               unique_cell_id cell_names library_id batch  \\\n",
       "index                                                                          \n",
       "0-0-0       15111.0    DEW050_AGTCAATAC-TTGGATCG     bcGPGV     DEW050     0   \n",
       "1-0-0        2337.0    DEW050_AAGAACGGG-GCGTTGCT     bcDSDI     DEW050     0   \n",
       "2-0-0        2078.0   DEW050_GACCTACTAG-TTAGTCCG     bcENHV     DEW050     0   \n",
       "3-0-0        1648.0     DEW050_GTTTGTTT-GGTCCCTT     bcAABE     DEW050     0   \n",
       "4-0-0        1153.0  DEW050_TGATTGCACGC-TAACCATC     bcFTTU     DEW050     0   \n",
       "...             ...                          ...        ...        ...   ...   \n",
       "1993-28-6    2525.0     DEW169_ATTTCCAT-CAGTCCCT     bcDANY     DEW169     6   \n",
       "1994-28-6    1548.0     DEW169_CTACGGGA-ATACCCAG     bcELQP     DEW169     6   \n",
       "2000-28-6    5054.0     DEW169_TGGAAAGC-CCGCAACT     bcIGIF     DEW169     6   \n",
       "2001-28-6    3270.0     DEW169_GAAAGACA-GTCCGTAC     bcFBRF     DEW169     6   \n",
       "2002-28-6    2813.0     DEW169_CCTCATGA-CTAGTAAC     bcDZHN     DEW169     6   \n",
       "\n",
       "          ClusterID                             ClusterName TissueID  \\\n",
       "index                                                                  \n",
       "0-0-0             1                       04hpf-pluripotent        9   \n",
       "1-0-0             1                       04hpf-pluripotent        9   \n",
       "2-0-0             1                       04hpf-pluripotent        9   \n",
       "3-0-0             1                       04hpf-pluripotent        9   \n",
       "4-0-0             1                       04hpf-pluripotent        9   \n",
       "...             ...                                     ...      ...   \n",
       "1993-28-6       135                     24hpf-muscle - myl1        8   \n",
       "1994-28-6       157  24hpf-differentiating neurons - eomesa        1   \n",
       "2000-28-6       138            24hpf-neural - diencephalon         1   \n",
       "2001-28-6       178            24hpf-pharyngeal arch - ndnf        8   \n",
       "2002-28-6       136                 24hpf-neural - midbrain        2   \n",
       "\n",
       "                  TissueName TimeID  \n",
       "index                                \n",
       "0-0-0            Pluripotent   4hpf  \n",
       "1-0-0            Pluripotent   4hpf  \n",
       "2-0-0            Pluripotent   4hpf  \n",
       "3-0-0            Pluripotent   4hpf  \n",
       "4-0-0            Pluripotent   4hpf  \n",
       "...                      ...    ...  \n",
       "1993-28-6           Mesoderm  24hpf  \n",
       "1994-28-6  Forebrain / Optic  24hpf  \n",
       "2000-28-6  Forebrain / Optic  24hpf  \n",
       "2001-28-6           Mesoderm  24hpf  \n",
       "2002-28-6           Midbrain  24hpf  \n",
       "\n",
       "[63530 rows x 10 columns]"
      ]
     },
     "execution_count": 15,
     "metadata": {},
     "output_type": "execute_result"
    }
   ],
   "source": [
    "ds.obs"
   ]
  },
  {
   "cell_type": "code",
   "execution_count": 2,
   "metadata": {},
   "outputs": [
    {
     "name": "stderr",
     "output_type": "stream",
     "text": [
      "[h5py._conv      ] [DEBUG   ] : Creating converter from 3 to 5\n"
     ]
    }
   ],
   "source": [
    "human_intron = sc.read_h5ad('data/LGN_human_intron.h5ad')\n",
    "macaque_intron = sc.read_h5ad('data/LGN_macaque_intron.h5ad')"
   ]
  },
  {
   "cell_type": "code",
   "execution_count": 4,
   "metadata": {},
   "outputs": [
    {
     "name": "stderr",
     "output_type": "stream",
     "text": [
      "[refcm           ] [INFO    ] : NOTE: raw counts expected in anndata .X attributes.\n",
      "[refcm           ] [DEBUG   ] : No existing matching db cost file db.json found.\n",
      "[refcm           ] [DEBUG   ] : Selecting joint gene subset for query and reference datasets\n",
      "/opt/homebrew/anaconda3/envs/RefCM/lib/python3.11/site-packages/scanpy/preprocessing/_highly_variable_genes.py:226: FutureWarning:\n",
      "\n",
      "The default of observed=False is deprecated and will be changed to True in a future version of pandas. Pass observed=False to retain current behavior or observed=True to adopt the future default and silence this warning.\n",
      "\n",
      "/opt/homebrew/anaconda3/envs/RefCM/lib/python3.11/site-packages/scanpy/preprocessing/_highly_variable_genes.py:226: FutureWarning:\n",
      "\n",
      "The default of observed=False is deprecated and will be changed to True in a future version of pandas. Pass observed=False to retain current behavior or observed=True to adopt the future default and silence this warning.\n",
      "\n",
      "[refcm           ] [DEBUG   ] : Using 2770 genes.\n",
      "[refcm           ] [DEBUG   ] : Computing Wasserstein distances.\n",
      "|████████████████| [100.00% ] : 00:02\n",
      "[refcm           ] [DEBUG   ] : starting LP optimization\n",
      "[refcm           ] [DEBUG   ] : optimization terminated w. status \"Optimal\"\n",
      "[matchings       ] [DEBUG   ] : Astro                mapped to K1                  \n",
      "[matchings       ] [DEBUG   ] : GABA1                mapped to GABA1               \n",
      "[matchings       ] [DEBUG   ] : GABA2                mapped to GABA3               \n",
      "[matchings       ] [DEBUG   ] : GABA3                mapped to GABA4               \n",
      "[matchings       ] [DEBUG   ] : K1                   mapped to Pulv                \n",
      "[matchings       ] [DEBUG   ] : K2                   mapped to K2                  \n",
      "[matchings       ] [DEBUG   ] : MP                   mapped to M                   \n",
      "[matchings       ] [DEBUG   ] : OPC                  mapped to GABA2               \n",
      "[matchings       ] [DEBUG   ] : Oligo                mapped to P                   \n",
      "[matchings       ] [INFO    ] : mapped human_intron         to macaque_intron      \n",
      "[matchings       ] [INFO    ] : (5  common cell types)\n",
      "[matchings       ] [INFO    ] : 2 /10 correct mappings\n",
      "[matchings       ] [INFO    ] : 7 /10 incorrect mappings\n"
     ]
    },
    {
     "data": {
      "application/vnd.plotly.v1+json": {
       "config": {
        "plotlyServerURL": "https://plot.ly"
       },
       "data": [
        {
         "coloraxis": "coloraxis",
         "hovertemplate": "Reference: macaque_intron: %{x}<br>Query: human_intron: %{y}<br>cost: %{z}<extra></extra>",
         "name": "0",
         "type": "heatmap",
         "x": [
          "GABA1",
          "GABA2",
          "GABA3",
          "GABA4",
          "K1",
          "K2",
          "M",
          "P",
          "Pulv"
         ],
         "xaxis": "x",
         "y": [
          "Astro",
          "GABA1",
          "GABA2",
          "GABA3",
          "K1",
          "K2",
          "MP",
          "Micro",
          "OPC",
          "Oligo"
         ],
         "yaxis": "y",
         "z": [
          [
           -6323.344956723378,
           -6353.730214140963,
           -6435.334622533088,
           -6447.137062255233,
           -5757.295250517532,
           -6346.064429897205,
           -6037.391526429006,
           -5622.742433103455,
           -6111.308186301012
          ],
          [
           -8639.582016376029,
           -7475.545590210489,
           -7537.725889973855,
           -7588.57562766574,
           -6105.18192413842,
           -6793.8294836323785,
           -6235.755148209966,
           -5822.272195743667,
           -6575.599357759353
          ],
          [
           -7994.29461986302,
           -9055.372727233367,
           -9395.812730569087,
           -9153.331987921767,
           -6851.641169796491,
           -7653.907753548127,
           -7006.419267374892,
           -6592.856194426953,
           -7407.29752922954
          ],
          [
           -8422.430096251512,
           -9359.90935990048,
           -9818.37374402393,
           -9734.490193173498,
           -7305.469850440031,
           -8173.056785314026,
           -7480.711374351349,
           -7028.818973726014,
           -7888.612275426325
          ],
          [
           -7200.048971117329,
           -7433.64111979407,
           -7519.88948949501,
           -7411.517686378214,
           -7524.240512351725,
           -8227.488898899352,
           -7449.709228592592,
           -6940.129860151089,
           -8153.601103209192
          ],
          [
           -7302.93796865202,
           -7501.040922293195,
           -7608.820261893906,
           -7537.182556075074,
           -7497.3496927139295,
           -8253.767057341141,
           -7447.578725330847,
           -6937.346786981653,
           -8115.650058911138
          ],
          [
           -6628.056684394757,
           -6891.1188169101315,
           -6865.863241375839,
           -6779.0072606527,
           -6964.329828034656,
           -7318.502389016395,
           -7350.978400347479,
           -6902.123839702826,
           -7196.988043749969
          ],
          [
           -4373.655615663926,
           -4509.422032427137,
           -4579.928373361587,
           -4559.129050108978,
           -4209.611621253525,
           -4554.426615599371,
           -4495.795485278578,
           -4183.2794778978405,
           -4373.793733287544
          ],
          [
           -6438.760536434245,
           -6567.222830421503,
           -6604.218271831243,
           -6586.499768089779,
           -5740.212643269994,
           -6317.158613695248,
           -5960.213333386303,
           -5587.194619312042,
           -6054.77281492093
          ],
          [
           -5640.847531954445,
           -5691.735832785925,
           -5679.5768689850065,
           -5664.051681667368,
           -5397.748176505249,
           -5812.067404216815,
           -5669.449259062787,
           -5298.523083084066,
           -5604.810419119603
          ]
         ]
        },
        {
         "hovertemplate": "%{y} -> %{x}",
         "marker": {
          "color": [
           "red",
           "green",
           "red",
           "red",
           "red",
           "green",
           "red",
           "red",
           "red"
          ],
          "size": 5
         },
         "mode": "markers",
         "name": "",
         "type": "scatter",
         "x": [
          "K1",
          "GABA1",
          "GABA3",
          "GABA4",
          "Pulv",
          "K2",
          "M",
          "GABA2",
          "P"
         ],
         "y": [
          "Astro",
          "GABA1",
          "GABA2",
          "GABA3",
          "K1",
          "K2",
          "MP",
          "OPC",
          "Oligo"
         ]
        }
       ],
       "layout": {
        "coloraxis": {
         "colorbar": {
          "title": {
           "text": "cost"
          }
         },
         "colorscale": [
          [
           0,
           "rgb(75, 41, 145)"
          ],
          [
           0.16666666666666666,
           "rgb(135, 44, 162)"
          ],
          [
           0.3333333333333333,
           "rgb(192, 54, 157)"
          ],
          [
           0.5,
           "rgb(234, 79, 136)"
          ],
          [
           0.6666666666666666,
           "rgb(250, 120, 118)"
          ],
          [
           0.8333333333333334,
           "rgb(246, 169, 122)"
          ],
          [
           1,
           "rgb(237, 217, 163)"
          ]
         ]
        },
        "template": {
         "data": {
          "bar": [
           {
            "error_x": {
             "color": "#2a3f5f"
            },
            "error_y": {
             "color": "#2a3f5f"
            },
            "marker": {
             "line": {
              "color": "#E5ECF6",
              "width": 0.5
             },
             "pattern": {
              "fillmode": "overlay",
              "size": 10,
              "solidity": 0.2
             }
            },
            "type": "bar"
           }
          ],
          "barpolar": [
           {
            "marker": {
             "line": {
              "color": "#E5ECF6",
              "width": 0.5
             },
             "pattern": {
              "fillmode": "overlay",
              "size": 10,
              "solidity": 0.2
             }
            },
            "type": "barpolar"
           }
          ],
          "carpet": [
           {
            "aaxis": {
             "endlinecolor": "#2a3f5f",
             "gridcolor": "white",
             "linecolor": "white",
             "minorgridcolor": "white",
             "startlinecolor": "#2a3f5f"
            },
            "baxis": {
             "endlinecolor": "#2a3f5f",
             "gridcolor": "white",
             "linecolor": "white",
             "minorgridcolor": "white",
             "startlinecolor": "#2a3f5f"
            },
            "type": "carpet"
           }
          ],
          "choropleth": [
           {
            "colorbar": {
             "outlinewidth": 0,
             "ticks": ""
            },
            "type": "choropleth"
           }
          ],
          "contour": [
           {
            "colorbar": {
             "outlinewidth": 0,
             "ticks": ""
            },
            "colorscale": [
             [
              0,
              "#0d0887"
             ],
             [
              0.1111111111111111,
              "#46039f"
             ],
             [
              0.2222222222222222,
              "#7201a8"
             ],
             [
              0.3333333333333333,
              "#9c179e"
             ],
             [
              0.4444444444444444,
              "#bd3786"
             ],
             [
              0.5555555555555556,
              "#d8576b"
             ],
             [
              0.6666666666666666,
              "#ed7953"
             ],
             [
              0.7777777777777778,
              "#fb9f3a"
             ],
             [
              0.8888888888888888,
              "#fdca26"
             ],
             [
              1,
              "#f0f921"
             ]
            ],
            "type": "contour"
           }
          ],
          "contourcarpet": [
           {
            "colorbar": {
             "outlinewidth": 0,
             "ticks": ""
            },
            "type": "contourcarpet"
           }
          ],
          "heatmap": [
           {
            "colorbar": {
             "outlinewidth": 0,
             "ticks": ""
            },
            "colorscale": [
             [
              0,
              "#0d0887"
             ],
             [
              0.1111111111111111,
              "#46039f"
             ],
             [
              0.2222222222222222,
              "#7201a8"
             ],
             [
              0.3333333333333333,
              "#9c179e"
             ],
             [
              0.4444444444444444,
              "#bd3786"
             ],
             [
              0.5555555555555556,
              "#d8576b"
             ],
             [
              0.6666666666666666,
              "#ed7953"
             ],
             [
              0.7777777777777778,
              "#fb9f3a"
             ],
             [
              0.8888888888888888,
              "#fdca26"
             ],
             [
              1,
              "#f0f921"
             ]
            ],
            "type": "heatmap"
           }
          ],
          "heatmapgl": [
           {
            "colorbar": {
             "outlinewidth": 0,
             "ticks": ""
            },
            "colorscale": [
             [
              0,
              "#0d0887"
             ],
             [
              0.1111111111111111,
              "#46039f"
             ],
             [
              0.2222222222222222,
              "#7201a8"
             ],
             [
              0.3333333333333333,
              "#9c179e"
             ],
             [
              0.4444444444444444,
              "#bd3786"
             ],
             [
              0.5555555555555556,
              "#d8576b"
             ],
             [
              0.6666666666666666,
              "#ed7953"
             ],
             [
              0.7777777777777778,
              "#fb9f3a"
             ],
             [
              0.8888888888888888,
              "#fdca26"
             ],
             [
              1,
              "#f0f921"
             ]
            ],
            "type": "heatmapgl"
           }
          ],
          "histogram": [
           {
            "marker": {
             "pattern": {
              "fillmode": "overlay",
              "size": 10,
              "solidity": 0.2
             }
            },
            "type": "histogram"
           }
          ],
          "histogram2d": [
           {
            "colorbar": {
             "outlinewidth": 0,
             "ticks": ""
            },
            "colorscale": [
             [
              0,
              "#0d0887"
             ],
             [
              0.1111111111111111,
              "#46039f"
             ],
             [
              0.2222222222222222,
              "#7201a8"
             ],
             [
              0.3333333333333333,
              "#9c179e"
             ],
             [
              0.4444444444444444,
              "#bd3786"
             ],
             [
              0.5555555555555556,
              "#d8576b"
             ],
             [
              0.6666666666666666,
              "#ed7953"
             ],
             [
              0.7777777777777778,
              "#fb9f3a"
             ],
             [
              0.8888888888888888,
              "#fdca26"
             ],
             [
              1,
              "#f0f921"
             ]
            ],
            "type": "histogram2d"
           }
          ],
          "histogram2dcontour": [
           {
            "colorbar": {
             "outlinewidth": 0,
             "ticks": ""
            },
            "colorscale": [
             [
              0,
              "#0d0887"
             ],
             [
              0.1111111111111111,
              "#46039f"
             ],
             [
              0.2222222222222222,
              "#7201a8"
             ],
             [
              0.3333333333333333,
              "#9c179e"
             ],
             [
              0.4444444444444444,
              "#bd3786"
             ],
             [
              0.5555555555555556,
              "#d8576b"
             ],
             [
              0.6666666666666666,
              "#ed7953"
             ],
             [
              0.7777777777777778,
              "#fb9f3a"
             ],
             [
              0.8888888888888888,
              "#fdca26"
             ],
             [
              1,
              "#f0f921"
             ]
            ],
            "type": "histogram2dcontour"
           }
          ],
          "mesh3d": [
           {
            "colorbar": {
             "outlinewidth": 0,
             "ticks": ""
            },
            "type": "mesh3d"
           }
          ],
          "parcoords": [
           {
            "line": {
             "colorbar": {
              "outlinewidth": 0,
              "ticks": ""
             }
            },
            "type": "parcoords"
           }
          ],
          "pie": [
           {
            "automargin": true,
            "type": "pie"
           }
          ],
          "scatter": [
           {
            "fillpattern": {
             "fillmode": "overlay",
             "size": 10,
             "solidity": 0.2
            },
            "type": "scatter"
           }
          ],
          "scatter3d": [
           {
            "line": {
             "colorbar": {
              "outlinewidth": 0,
              "ticks": ""
             }
            },
            "marker": {
             "colorbar": {
              "outlinewidth": 0,
              "ticks": ""
             }
            },
            "type": "scatter3d"
           }
          ],
          "scattercarpet": [
           {
            "marker": {
             "colorbar": {
              "outlinewidth": 0,
              "ticks": ""
             }
            },
            "type": "scattercarpet"
           }
          ],
          "scattergeo": [
           {
            "marker": {
             "colorbar": {
              "outlinewidth": 0,
              "ticks": ""
             }
            },
            "type": "scattergeo"
           }
          ],
          "scattergl": [
           {
            "marker": {
             "colorbar": {
              "outlinewidth": 0,
              "ticks": ""
             }
            },
            "type": "scattergl"
           }
          ],
          "scattermapbox": [
           {
            "marker": {
             "colorbar": {
              "outlinewidth": 0,
              "ticks": ""
             }
            },
            "type": "scattermapbox"
           }
          ],
          "scatterpolar": [
           {
            "marker": {
             "colorbar": {
              "outlinewidth": 0,
              "ticks": ""
             }
            },
            "type": "scatterpolar"
           }
          ],
          "scatterpolargl": [
           {
            "marker": {
             "colorbar": {
              "outlinewidth": 0,
              "ticks": ""
             }
            },
            "type": "scatterpolargl"
           }
          ],
          "scatterternary": [
           {
            "marker": {
             "colorbar": {
              "outlinewidth": 0,
              "ticks": ""
             }
            },
            "type": "scatterternary"
           }
          ],
          "surface": [
           {
            "colorbar": {
             "outlinewidth": 0,
             "ticks": ""
            },
            "colorscale": [
             [
              0,
              "#0d0887"
             ],
             [
              0.1111111111111111,
              "#46039f"
             ],
             [
              0.2222222222222222,
              "#7201a8"
             ],
             [
              0.3333333333333333,
              "#9c179e"
             ],
             [
              0.4444444444444444,
              "#bd3786"
             ],
             [
              0.5555555555555556,
              "#d8576b"
             ],
             [
              0.6666666666666666,
              "#ed7953"
             ],
             [
              0.7777777777777778,
              "#fb9f3a"
             ],
             [
              0.8888888888888888,
              "#fdca26"
             ],
             [
              1,
              "#f0f921"
             ]
            ],
            "type": "surface"
           }
          ],
          "table": [
           {
            "cells": {
             "fill": {
              "color": "#EBF0F8"
             },
             "line": {
              "color": "white"
             }
            },
            "header": {
             "fill": {
              "color": "#C8D4E3"
             },
             "line": {
              "color": "white"
             }
            },
            "type": "table"
           }
          ]
         },
         "layout": {
          "annotationdefaults": {
           "arrowcolor": "#2a3f5f",
           "arrowhead": 0,
           "arrowwidth": 1
          },
          "autotypenumbers": "strict",
          "coloraxis": {
           "colorbar": {
            "outlinewidth": 0,
            "ticks": ""
           }
          },
          "colorscale": {
           "diverging": [
            [
             0,
             "#8e0152"
            ],
            [
             0.1,
             "#c51b7d"
            ],
            [
             0.2,
             "#de77ae"
            ],
            [
             0.3,
             "#f1b6da"
            ],
            [
             0.4,
             "#fde0ef"
            ],
            [
             0.5,
             "#f7f7f7"
            ],
            [
             0.6,
             "#e6f5d0"
            ],
            [
             0.7,
             "#b8e186"
            ],
            [
             0.8,
             "#7fbc41"
            ],
            [
             0.9,
             "#4d9221"
            ],
            [
             1,
             "#276419"
            ]
           ],
           "sequential": [
            [
             0,
             "#0d0887"
            ],
            [
             0.1111111111111111,
             "#46039f"
            ],
            [
             0.2222222222222222,
             "#7201a8"
            ],
            [
             0.3333333333333333,
             "#9c179e"
            ],
            [
             0.4444444444444444,
             "#bd3786"
            ],
            [
             0.5555555555555556,
             "#d8576b"
            ],
            [
             0.6666666666666666,
             "#ed7953"
            ],
            [
             0.7777777777777778,
             "#fb9f3a"
            ],
            [
             0.8888888888888888,
             "#fdca26"
            ],
            [
             1,
             "#f0f921"
            ]
           ],
           "sequentialminus": [
            [
             0,
             "#0d0887"
            ],
            [
             0.1111111111111111,
             "#46039f"
            ],
            [
             0.2222222222222222,
             "#7201a8"
            ],
            [
             0.3333333333333333,
             "#9c179e"
            ],
            [
             0.4444444444444444,
             "#bd3786"
            ],
            [
             0.5555555555555556,
             "#d8576b"
            ],
            [
             0.6666666666666666,
             "#ed7953"
            ],
            [
             0.7777777777777778,
             "#fb9f3a"
            ],
            [
             0.8888888888888888,
             "#fdca26"
            ],
            [
             1,
             "#f0f921"
            ]
           ]
          },
          "colorway": [
           "#636efa",
           "#EF553B",
           "#00cc96",
           "#ab63fa",
           "#FFA15A",
           "#19d3f3",
           "#FF6692",
           "#B6E880",
           "#FF97FF",
           "#FECB52"
          ],
          "font": {
           "color": "#2a3f5f"
          },
          "geo": {
           "bgcolor": "white",
           "lakecolor": "white",
           "landcolor": "#E5ECF6",
           "showlakes": true,
           "showland": true,
           "subunitcolor": "white"
          },
          "hoverlabel": {
           "align": "left"
          },
          "hovermode": "closest",
          "mapbox": {
           "style": "light"
          },
          "paper_bgcolor": "white",
          "plot_bgcolor": "#E5ECF6",
          "polar": {
           "angularaxis": {
            "gridcolor": "white",
            "linecolor": "white",
            "ticks": ""
           },
           "bgcolor": "#E5ECF6",
           "radialaxis": {
            "gridcolor": "white",
            "linecolor": "white",
            "ticks": ""
           }
          },
          "scene": {
           "xaxis": {
            "backgroundcolor": "#E5ECF6",
            "gridcolor": "white",
            "gridwidth": 2,
            "linecolor": "white",
            "showbackground": true,
            "ticks": "",
            "zerolinecolor": "white"
           },
           "yaxis": {
            "backgroundcolor": "#E5ECF6",
            "gridcolor": "white",
            "gridwidth": 2,
            "linecolor": "white",
            "showbackground": true,
            "ticks": "",
            "zerolinecolor": "white"
           },
           "zaxis": {
            "backgroundcolor": "#E5ECF6",
            "gridcolor": "white",
            "gridwidth": 2,
            "linecolor": "white",
            "showbackground": true,
            "ticks": "",
            "zerolinecolor": "white"
           }
          },
          "shapedefaults": {
           "line": {
            "color": "#2a3f5f"
           }
          },
          "ternary": {
           "aaxis": {
            "gridcolor": "white",
            "linecolor": "white",
            "ticks": ""
           },
           "baxis": {
            "gridcolor": "white",
            "linecolor": "white",
            "ticks": ""
           },
           "bgcolor": "#E5ECF6",
           "caxis": {
            "gridcolor": "white",
            "linecolor": "white",
            "ticks": ""
           }
          },
          "title": {
           "x": 0.05
          },
          "xaxis": {
           "automargin": true,
           "gridcolor": "white",
           "linecolor": "white",
           "ticks": "",
           "title": {
            "standoff": 15
           },
           "zerolinecolor": "white",
           "zerolinewidth": 2
          },
          "yaxis": {
           "automargin": true,
           "gridcolor": "white",
           "linecolor": "white",
           "ticks": "",
           "title": {
            "standoff": 15
           },
           "zerolinecolor": "white",
           "zerolinewidth": 2
          }
         }
        },
        "title": {
         "text": "human_intron to macaque_intron matching cost"
        },
        "xaxis": {
         "anchor": "y",
         "constrain": "domain",
         "domain": [
          0,
          1
         ],
         "scaleanchor": "y",
         "tickangle": -45,
         "title": {
          "text": "Reference: macaque_intron"
         }
        },
        "yaxis": {
         "anchor": "x",
         "autorange": "reversed",
         "constrain": "domain",
         "domain": [
          0,
          1
         ],
         "title": {
          "text": "Query: human_intron"
         }
        }
       }
      }
     },
     "metadata": {},
     "output_type": "display_data"
    }
   ],
   "source": [
    "rcm = RefCM(target_sum=1e6, discovery_threshold=0.1, n_top_genes=3000)\n",
    "m = rcm.annotate(human_intron, 'human_intron', macaque_intron, 'macaque_intron', 'cluster_label', 'cluster_label')\n",
    "m.eval('cluster_label')\n",
    "m.display_matching_costs('cluster_label')"
   ]
  },
  {
   "cell_type": "code",
   "execution_count": 2,
   "metadata": {},
   "outputs": [
    {
     "name": "stderr",
     "output_type": "stream",
     "text": [
      "[datasets        ] [INFO    ] : loading raw   data for lgn_human_intron\n",
      "[datasets        ] [INFO    ] : loading label data for lgn_human_intron\n",
      "[datasets        ] [INFO    ] : loading raw   data for lgn_human_exon\n",
      "[datasets        ] [INFO    ] : loading label data for lgn_human_exon\n",
      "[datasets        ] [INFO    ] : loading raw   data for lgn_macaque_intron\n",
      "[datasets        ] [INFO    ] : loading label data for lgn_macaque_intron\n",
      "[datasets        ] [INFO    ] : loading raw   data for lgn_macaque_exon\n",
      "[datasets        ] [INFO    ] : loading label data for lgn_macaque_exon\n",
      "[datasets        ] [INFO    ] : loading raw   data for lgn_mouse_intron\n",
      "[datasets        ] [INFO    ] : loading label data for lgn_mouse_intron\n",
      "[datasets        ] [INFO    ] : loading raw   data for lgn_mouse_exon\n",
      "[datasets        ] [INFO    ] : loading label data for lgn_mouse_exon\n"
     ]
    }
   ],
   "source": [
    "lgn_ds = [\n",
    "    ('human_intron', LGN_human_intron()), \n",
    "    ('human_exon', LGN_human_exon()), \n",
    "    ('macaque_intron', LGN_macaque_intron()),\n",
    "    ('macaque_exon', LGN_macaque_exon()),\n",
    "    ('mouse_intron', LGN_mouse_intron()),\n",
    "    ('mouse_exon', LGN_mouse_exon())\n",
    "]"
   ]
  },
  {
   "cell_type": "code",
   "execution_count": 3,
   "metadata": {},
   "outputs": [
    {
     "name": "stdout",
     "output_type": "stream",
     "text": [
      "human_intron    : 10 cell types\n",
      "human_exon      : 10 cell types\n",
      "macaque_intron  : 9  cell types\n",
      "macaque_exon    : 9  cell types\n",
      "mouse_intron    : 15 cell types\n",
      "mouse_exon      : 15 cell types\n"
     ]
    }
   ],
   "source": [
    "for n, d in lgn_ds:\n",
    "    print(f'{n:<16}: {len(d._keys_to_labels.items()):<2} cell types')"
   ]
  },
  {
   "cell_type": "code",
   "execution_count": 4,
   "metadata": {},
   "outputs": [
    {
     "name": "stderr",
     "output_type": "stream",
     "text": [
      "[datasets        ] [INFO    ] : loading raw   data for lgn_human_intron\n",
      "[datasets        ] [INFO    ] : loading label data for lgn_human_intron\n",
      "[datasets        ] [INFO    ] : loading raw   data for lgn_macaque_intron\n",
      "[datasets        ] [INFO    ] : loading label data for lgn_macaque_intron\n",
      "[datasets        ] [INFO    ] : loading raw   data for lgn_mouse_intron\n",
      "[datasets        ] [INFO    ] : loading label data for lgn_mouse_intron\n"
     ]
    }
   ],
   "source": [
    "l = [LGN_human_intron(), LGN_macaque_intron(), LGN_mouse_intron()]"
   ]
  },
  {
   "cell_type": "code",
   "execution_count": 5,
   "metadata": {},
   "outputs": [
    {
     "name": "stdout",
     "output_type": "stream",
     "text": [
      "lgn_human_intron     intersects with lgn_macaque_intron   on 5 cell types: ['GABA3', 'K2', 'K1', 'GABA2', 'GABA1']\n",
      "lgn_human_intron     intersects with lgn_mouse_intron     on 3 cell types: ['GABA3', 'GABA2', 'GABA1']\n",
      "lgn_macaque_intron   intersects with lgn_mouse_intron     on 4 cell types: ['GABA3', 'GABA2', 'GABA4', 'GABA1']\n"
     ]
    }
   ],
   "source": [
    "for i, q in enumerate(l):\n",
    "    q_cts = set(q._keys_to_labels.values())\n",
    "    for r in l[i+1:]:\n",
    "        r_cts = set(r._keys_to_labels.values())\n",
    "        isect = list(q_cts.intersection(r_cts))\n",
    "        print(f'{q.name:<20} intersects with {r.name:<20} on {len(isect)} cell types: {isect}')"
   ]
  },
  {
   "cell_type": "code",
   "execution_count": 6,
   "metadata": {},
   "outputs": [
    {
     "name": "stdout",
     "output_type": "stream",
     "text": [
      "correctly matched 10 / 10 (or 100.0% of cells) from human_intron   (query) to human_exon     (reference with 10 cell types)\n",
      "correctly matched 1  / 10 (or   4.6% of cells) from human_intron   (query) to macaque_intron (reference with 9  cell types)\n",
      "correctly matched 4  / 10 (or  17.1% of cells) from human_intron   (query) to macaque_exon   (reference with 9  cell types)\n",
      "correctly matched 0  / 10 (or   0.0% of cells) from human_intron   (query) to mouse_intron   (reference with 15 cell types)\n",
      "correctly matched 0  / 10 (or   0.0% of cells) from human_intron   (query) to mouse_exon     (reference with 15 cell types)\n",
      "\n",
      "correctly matched 10 / 10 (or 100.0% of cells) from human_exon     (query) to human_intron   (reference with 10 cell types)\n",
      "correctly matched 4  / 10 (or  17.1% of cells) from human_exon     (query) to macaque_intron (reference with 9  cell types)\n",
      "correctly matched 4  / 10 (or  15.0% of cells) from human_exon     (query) to macaque_exon   (reference with 9  cell types)\n",
      "correctly matched 0  / 10 (or   0.0% of cells) from human_exon     (query) to mouse_intron   (reference with 15 cell types)\n",
      "correctly matched 1  / 10 (or   4.6% of cells) from human_exon     (query) to mouse_exon     (reference with 15 cell types)\n",
      "\n",
      "correctly matched 2  / 9  (or  15.7% of cells) from macaque_intron (query) to human_intron   (reference with 10 cell types)\n",
      "correctly matched 3  / 9  (or  19.3% of cells) from macaque_intron (query) to human_exon     (reference with 10 cell types)\n",
      "correctly matched 9  / 9  (or 100.0% of cells) from macaque_intron (query) to macaque_exon   (reference with 9  cell types)\n",
      "correctly matched 1  / 9  (or  13.4% of cells) from macaque_intron (query) to mouse_intron   (reference with 15 cell types)\n",
      "correctly matched 0  / 9  (or   0.0% of cells) from macaque_intron (query) to mouse_exon     (reference with 15 cell types)\n",
      "\n",
      "correctly matched 2  / 9  (or  15.7% of cells) from macaque_exon   (query) to human_intron   (reference with 10 cell types)\n",
      "correctly matched 2  / 9  (or  15.7% of cells) from macaque_exon   (query) to human_exon     (reference with 10 cell types)\n",
      "correctly matched 9  / 9  (or 100.0% of cells) from macaque_exon   (query) to macaque_intron (reference with 9  cell types)\n",
      "correctly matched 1  / 9  (or   1.3% of cells) from macaque_exon   (query) to mouse_intron   (reference with 15 cell types)\n",
      "correctly matched 0  / 9  (or   0.0% of cells) from macaque_exon   (query) to mouse_exon     (reference with 15 cell types)\n",
      "\n",
      "correctly matched 0  / 15 (or   0.0% of cells) from mouse_intron   (query) to human_intron   (reference with 10 cell types)\n",
      "correctly matched 0  / 15 (or   0.0% of cells) from mouse_intron   (query) to human_exon     (reference with 10 cell types)\n",
      "correctly matched 1  / 15 (or   2.0% of cells) from mouse_intron   (query) to macaque_intron (reference with 9  cell types)\n",
      "correctly matched 1  / 15 (or   0.9% of cells) from mouse_intron   (query) to macaque_exon   (reference with 9  cell types)\n",
      "correctly matched 15 / 15 (or 100.0% of cells) from mouse_intron   (query) to mouse_exon     (reference with 15 cell types)\n",
      "\n",
      "correctly matched 0  / 15 (or   0.0% of cells) from mouse_exon     (query) to human_intron   (reference with 10 cell types)\n",
      "correctly matched 1  / 15 (or   2.6% of cells) from mouse_exon     (query) to human_exon     (reference with 10 cell types)\n",
      "correctly matched 0  / 15 (or   0.0% of cells) from mouse_exon     (query) to macaque_intron (reference with 9  cell types)\n",
      "correctly matched 0  / 15 (or   0.0% of cells) from mouse_exon     (query) to macaque_exon   (reference with 9  cell types)\n",
      "correctly matched 15 / 15 (or 100.0% of cells) from mouse_exon     (query) to mouse_intron   (reference with 15 cell types)\n",
      "\n"
     ]
    }
   ],
   "source": [
    "rcm = RefCM()\n",
    "\n",
    "for i, (query_n, query_ds) in enumerate(lgn_ds):\n",
    "    n_qcs = len(query_ds._keys_to_labels.items())\n",
    "    for ref_n, ref_ds in (lgn_ds[:i] + lgn_ds[i+1:]):\n",
    "        n_rcs = len(ref_ds._keys_to_labels.items())\n",
    "\n",
    "        m = rcm.match(ref_ds, query_ds)\n",
    "        \n",
    "        print(f'correctly matched {m.n_correct:<2} / {n_qcs:<2} (or {100*m.pct_correct:5.1f}% of cells) from {query_n:<14} (query) to {ref_n:<14} (reference with {n_rcs:<2} cell types)')\n",
    "    print()"
   ]
  },
  {
   "cell_type": "code",
   "execution_count": 26,
   "metadata": {},
   "outputs": [
    {
     "name": "stderr",
     "output_type": "stream",
     "text": [
      "[matchings       ] [INFO    ] : mapped lgn_macaque_intron   to lgn_human_exon-lgn_human_intron\n",
      "[matchings       ] [INFO    ] : (5  common cell types)\n",
      "[matchings       ] [INFO    ] : 4 /9  correct mappings\n",
      "[matchings       ] [INFO    ] : 4 /9  incorrect mapping\n"
     ]
    },
    {
     "data": {
      "application/vnd.plotly.v1+json": {
       "config": {
        "plotlyServerURL": "https://plot.ly"
       },
       "data": [
        {
         "hoverinfo": "none",
         "line": {
          "color": "#90EE90",
          "width": 3
         },
         "mode": "lines",
         "name": "correct matching",
         "type": "scatter",
         "x": [
          0,
          5,
          null,
          0,
          5,
          null,
          0,
          5,
          null,
          0,
          5,
          null
         ],
         "y": [
          4.5,
          4,
          null,
          3.5,
          3,
          null,
          0.5,
          1,
          null,
          -0.5,
          0,
          null
         ]
        },
        {
         "hoverinfo": "none",
         "line": {
          "color": "#F72F35",
          "width": 3
         },
         "mode": "lines",
         "name": "incorrect matching",
         "type": "scatter",
         "x": [
          0,
          5,
          null,
          0,
          5,
          null,
          0,
          5,
          null,
          0,
          5,
          null
         ],
         "y": [
          2.5,
          3,
          null,
          1.5,
          4,
          null,
          -2.5,
          1,
          null,
          -3.5,
          0,
          null
         ]
        },
        {
         "hoverinfo": "text",
         "marker": {
          "color": [
           "#00d2ff",
           "#00d2ff",
           "#00d2ff",
           "#B3CCF5",
           "#00d2ff",
           "#00d2ff",
           "#B3CCF5",
           "#B3CCF5",
           "#B3CCF5"
          ],
          "size": 14
         },
         "mode": "markers+text",
         "text": [
          "GABA1",
          "GABA2",
          "GABA3",
          "GABA4",
          "K1",
          "K2",
          "M",
          "P",
          "Pulv"
         ],
         "textposition": "top right",
         "type": "scatter",
         "x": [
          0,
          0,
          0,
          0,
          0,
          0,
          0,
          0,
          0
         ],
         "y": [
          4.5,
          3.5,
          2.5,
          1.5,
          0.5,
          -0.5,
          -1.5,
          -2.5,
          -3.5
         ]
        },
        {
         "hoverinfo": "text",
         "marker": {
          "color": [
           "#B3CCF5",
           "#00d2ff",
           "#00d2ff",
           "#00d2ff",
           "#00d2ff",
           "#00d2ff",
           "#B3CCF5",
           "#B3CCF5",
           "#B3CCF5",
           "#B3CCF5"
          ],
          "size": 14
         },
         "mode": "markers+text",
         "text": [
          "Astro",
          "GABA1",
          "GABA2",
          "GABA3",
          "K1",
          "K2",
          "MP",
          "Micro",
          "OPC",
          "Oligo"
         ],
         "textposition": "top left",
         "type": "scatter",
         "x": [
          5,
          5,
          5,
          5,
          5,
          5,
          5,
          5,
          5,
          5
         ],
         "y": [
          5,
          4,
          3,
          2,
          1,
          0,
          -1,
          -2,
          -3,
          -4
         ]
        }
       ],
       "layout": {
        "hovermode": "closest",
        "margin": {
         "b": 20,
         "l": 5,
         "r": 5,
         "t": 40
        },
        "showlegend": false,
        "template": {
         "data": {
          "bar": [
           {
            "error_x": {
             "color": "#2a3f5f"
            },
            "error_y": {
             "color": "#2a3f5f"
            },
            "marker": {
             "line": {
              "color": "#E5ECF6",
              "width": 0.5
             },
             "pattern": {
              "fillmode": "overlay",
              "size": 10,
              "solidity": 0.2
             }
            },
            "type": "bar"
           }
          ],
          "barpolar": [
           {
            "marker": {
             "line": {
              "color": "#E5ECF6",
              "width": 0.5
             },
             "pattern": {
              "fillmode": "overlay",
              "size": 10,
              "solidity": 0.2
             }
            },
            "type": "barpolar"
           }
          ],
          "carpet": [
           {
            "aaxis": {
             "endlinecolor": "#2a3f5f",
             "gridcolor": "white",
             "linecolor": "white",
             "minorgridcolor": "white",
             "startlinecolor": "#2a3f5f"
            },
            "baxis": {
             "endlinecolor": "#2a3f5f",
             "gridcolor": "white",
             "linecolor": "white",
             "minorgridcolor": "white",
             "startlinecolor": "#2a3f5f"
            },
            "type": "carpet"
           }
          ],
          "choropleth": [
           {
            "colorbar": {
             "outlinewidth": 0,
             "ticks": ""
            },
            "type": "choropleth"
           }
          ],
          "contour": [
           {
            "colorbar": {
             "outlinewidth": 0,
             "ticks": ""
            },
            "colorscale": [
             [
              0,
              "#0d0887"
             ],
             [
              0.1111111111111111,
              "#46039f"
             ],
             [
              0.2222222222222222,
              "#7201a8"
             ],
             [
              0.3333333333333333,
              "#9c179e"
             ],
             [
              0.4444444444444444,
              "#bd3786"
             ],
             [
              0.5555555555555556,
              "#d8576b"
             ],
             [
              0.6666666666666666,
              "#ed7953"
             ],
             [
              0.7777777777777778,
              "#fb9f3a"
             ],
             [
              0.8888888888888888,
              "#fdca26"
             ],
             [
              1,
              "#f0f921"
             ]
            ],
            "type": "contour"
           }
          ],
          "contourcarpet": [
           {
            "colorbar": {
             "outlinewidth": 0,
             "ticks": ""
            },
            "type": "contourcarpet"
           }
          ],
          "heatmap": [
           {
            "colorbar": {
             "outlinewidth": 0,
             "ticks": ""
            },
            "colorscale": [
             [
              0,
              "#0d0887"
             ],
             [
              0.1111111111111111,
              "#46039f"
             ],
             [
              0.2222222222222222,
              "#7201a8"
             ],
             [
              0.3333333333333333,
              "#9c179e"
             ],
             [
              0.4444444444444444,
              "#bd3786"
             ],
             [
              0.5555555555555556,
              "#d8576b"
             ],
             [
              0.6666666666666666,
              "#ed7953"
             ],
             [
              0.7777777777777778,
              "#fb9f3a"
             ],
             [
              0.8888888888888888,
              "#fdca26"
             ],
             [
              1,
              "#f0f921"
             ]
            ],
            "type": "heatmap"
           }
          ],
          "heatmapgl": [
           {
            "colorbar": {
             "outlinewidth": 0,
             "ticks": ""
            },
            "colorscale": [
             [
              0,
              "#0d0887"
             ],
             [
              0.1111111111111111,
              "#46039f"
             ],
             [
              0.2222222222222222,
              "#7201a8"
             ],
             [
              0.3333333333333333,
              "#9c179e"
             ],
             [
              0.4444444444444444,
              "#bd3786"
             ],
             [
              0.5555555555555556,
              "#d8576b"
             ],
             [
              0.6666666666666666,
              "#ed7953"
             ],
             [
              0.7777777777777778,
              "#fb9f3a"
             ],
             [
              0.8888888888888888,
              "#fdca26"
             ],
             [
              1,
              "#f0f921"
             ]
            ],
            "type": "heatmapgl"
           }
          ],
          "histogram": [
           {
            "marker": {
             "pattern": {
              "fillmode": "overlay",
              "size": 10,
              "solidity": 0.2
             }
            },
            "type": "histogram"
           }
          ],
          "histogram2d": [
           {
            "colorbar": {
             "outlinewidth": 0,
             "ticks": ""
            },
            "colorscale": [
             [
              0,
              "#0d0887"
             ],
             [
              0.1111111111111111,
              "#46039f"
             ],
             [
              0.2222222222222222,
              "#7201a8"
             ],
             [
              0.3333333333333333,
              "#9c179e"
             ],
             [
              0.4444444444444444,
              "#bd3786"
             ],
             [
              0.5555555555555556,
              "#d8576b"
             ],
             [
              0.6666666666666666,
              "#ed7953"
             ],
             [
              0.7777777777777778,
              "#fb9f3a"
             ],
             [
              0.8888888888888888,
              "#fdca26"
             ],
             [
              1,
              "#f0f921"
             ]
            ],
            "type": "histogram2d"
           }
          ],
          "histogram2dcontour": [
           {
            "colorbar": {
             "outlinewidth": 0,
             "ticks": ""
            },
            "colorscale": [
             [
              0,
              "#0d0887"
             ],
             [
              0.1111111111111111,
              "#46039f"
             ],
             [
              0.2222222222222222,
              "#7201a8"
             ],
             [
              0.3333333333333333,
              "#9c179e"
             ],
             [
              0.4444444444444444,
              "#bd3786"
             ],
             [
              0.5555555555555556,
              "#d8576b"
             ],
             [
              0.6666666666666666,
              "#ed7953"
             ],
             [
              0.7777777777777778,
              "#fb9f3a"
             ],
             [
              0.8888888888888888,
              "#fdca26"
             ],
             [
              1,
              "#f0f921"
             ]
            ],
            "type": "histogram2dcontour"
           }
          ],
          "mesh3d": [
           {
            "colorbar": {
             "outlinewidth": 0,
             "ticks": ""
            },
            "type": "mesh3d"
           }
          ],
          "parcoords": [
           {
            "line": {
             "colorbar": {
              "outlinewidth": 0,
              "ticks": ""
             }
            },
            "type": "parcoords"
           }
          ],
          "pie": [
           {
            "automargin": true,
            "type": "pie"
           }
          ],
          "scatter": [
           {
            "fillpattern": {
             "fillmode": "overlay",
             "size": 10,
             "solidity": 0.2
            },
            "type": "scatter"
           }
          ],
          "scatter3d": [
           {
            "line": {
             "colorbar": {
              "outlinewidth": 0,
              "ticks": ""
             }
            },
            "marker": {
             "colorbar": {
              "outlinewidth": 0,
              "ticks": ""
             }
            },
            "type": "scatter3d"
           }
          ],
          "scattercarpet": [
           {
            "marker": {
             "colorbar": {
              "outlinewidth": 0,
              "ticks": ""
             }
            },
            "type": "scattercarpet"
           }
          ],
          "scattergeo": [
           {
            "marker": {
             "colorbar": {
              "outlinewidth": 0,
              "ticks": ""
             }
            },
            "type": "scattergeo"
           }
          ],
          "scattergl": [
           {
            "marker": {
             "colorbar": {
              "outlinewidth": 0,
              "ticks": ""
             }
            },
            "type": "scattergl"
           }
          ],
          "scattermapbox": [
           {
            "marker": {
             "colorbar": {
              "outlinewidth": 0,
              "ticks": ""
             }
            },
            "type": "scattermapbox"
           }
          ],
          "scatterpolar": [
           {
            "marker": {
             "colorbar": {
              "outlinewidth": 0,
              "ticks": ""
             }
            },
            "type": "scatterpolar"
           }
          ],
          "scatterpolargl": [
           {
            "marker": {
             "colorbar": {
              "outlinewidth": 0,
              "ticks": ""
             }
            },
            "type": "scatterpolargl"
           }
          ],
          "scatterternary": [
           {
            "marker": {
             "colorbar": {
              "outlinewidth": 0,
              "ticks": ""
             }
            },
            "type": "scatterternary"
           }
          ],
          "surface": [
           {
            "colorbar": {
             "outlinewidth": 0,
             "ticks": ""
            },
            "colorscale": [
             [
              0,
              "#0d0887"
             ],
             [
              0.1111111111111111,
              "#46039f"
             ],
             [
              0.2222222222222222,
              "#7201a8"
             ],
             [
              0.3333333333333333,
              "#9c179e"
             ],
             [
              0.4444444444444444,
              "#bd3786"
             ],
             [
              0.5555555555555556,
              "#d8576b"
             ],
             [
              0.6666666666666666,
              "#ed7953"
             ],
             [
              0.7777777777777778,
              "#fb9f3a"
             ],
             [
              0.8888888888888888,
              "#fdca26"
             ],
             [
              1,
              "#f0f921"
             ]
            ],
            "type": "surface"
           }
          ],
          "table": [
           {
            "cells": {
             "fill": {
              "color": "#EBF0F8"
             },
             "line": {
              "color": "white"
             }
            },
            "header": {
             "fill": {
              "color": "#C8D4E3"
             },
             "line": {
              "color": "white"
             }
            },
            "type": "table"
           }
          ]
         },
         "layout": {
          "annotationdefaults": {
           "arrowcolor": "#2a3f5f",
           "arrowhead": 0,
           "arrowwidth": 1
          },
          "autotypenumbers": "strict",
          "coloraxis": {
           "colorbar": {
            "outlinewidth": 0,
            "ticks": ""
           }
          },
          "colorscale": {
           "diverging": [
            [
             0,
             "#8e0152"
            ],
            [
             0.1,
             "#c51b7d"
            ],
            [
             0.2,
             "#de77ae"
            ],
            [
             0.3,
             "#f1b6da"
            ],
            [
             0.4,
             "#fde0ef"
            ],
            [
             0.5,
             "#f7f7f7"
            ],
            [
             0.6,
             "#e6f5d0"
            ],
            [
             0.7,
             "#b8e186"
            ],
            [
             0.8,
             "#7fbc41"
            ],
            [
             0.9,
             "#4d9221"
            ],
            [
             1,
             "#276419"
            ]
           ],
           "sequential": [
            [
             0,
             "#0d0887"
            ],
            [
             0.1111111111111111,
             "#46039f"
            ],
            [
             0.2222222222222222,
             "#7201a8"
            ],
            [
             0.3333333333333333,
             "#9c179e"
            ],
            [
             0.4444444444444444,
             "#bd3786"
            ],
            [
             0.5555555555555556,
             "#d8576b"
            ],
            [
             0.6666666666666666,
             "#ed7953"
            ],
            [
             0.7777777777777778,
             "#fb9f3a"
            ],
            [
             0.8888888888888888,
             "#fdca26"
            ],
            [
             1,
             "#f0f921"
            ]
           ],
           "sequentialminus": [
            [
             0,
             "#0d0887"
            ],
            [
             0.1111111111111111,
             "#46039f"
            ],
            [
             0.2222222222222222,
             "#7201a8"
            ],
            [
             0.3333333333333333,
             "#9c179e"
            ],
            [
             0.4444444444444444,
             "#bd3786"
            ],
            [
             0.5555555555555556,
             "#d8576b"
            ],
            [
             0.6666666666666666,
             "#ed7953"
            ],
            [
             0.7777777777777778,
             "#fb9f3a"
            ],
            [
             0.8888888888888888,
             "#fdca26"
            ],
            [
             1,
             "#f0f921"
            ]
           ]
          },
          "colorway": [
           "#636efa",
           "#EF553B",
           "#00cc96",
           "#ab63fa",
           "#FFA15A",
           "#19d3f3",
           "#FF6692",
           "#B6E880",
           "#FF97FF",
           "#FECB52"
          ],
          "font": {
           "color": "#2a3f5f"
          },
          "geo": {
           "bgcolor": "white",
           "lakecolor": "white",
           "landcolor": "#E5ECF6",
           "showlakes": true,
           "showland": true,
           "subunitcolor": "white"
          },
          "hoverlabel": {
           "align": "left"
          },
          "hovermode": "closest",
          "mapbox": {
           "style": "light"
          },
          "paper_bgcolor": "white",
          "plot_bgcolor": "#E5ECF6",
          "polar": {
           "angularaxis": {
            "gridcolor": "white",
            "linecolor": "white",
            "ticks": ""
           },
           "bgcolor": "#E5ECF6",
           "radialaxis": {
            "gridcolor": "white",
            "linecolor": "white",
            "ticks": ""
           }
          },
          "scene": {
           "xaxis": {
            "backgroundcolor": "#E5ECF6",
            "gridcolor": "white",
            "gridwidth": 2,
            "linecolor": "white",
            "showbackground": true,
            "ticks": "",
            "zerolinecolor": "white"
           },
           "yaxis": {
            "backgroundcolor": "#E5ECF6",
            "gridcolor": "white",
            "gridwidth": 2,
            "linecolor": "white",
            "showbackground": true,
            "ticks": "",
            "zerolinecolor": "white"
           },
           "zaxis": {
            "backgroundcolor": "#E5ECF6",
            "gridcolor": "white",
            "gridwidth": 2,
            "linecolor": "white",
            "showbackground": true,
            "ticks": "",
            "zerolinecolor": "white"
           }
          },
          "shapedefaults": {
           "line": {
            "color": "#2a3f5f"
           }
          },
          "ternary": {
           "aaxis": {
            "gridcolor": "white",
            "linecolor": "white",
            "ticks": ""
           },
           "baxis": {
            "gridcolor": "white",
            "linecolor": "white",
            "ticks": ""
           },
           "bgcolor": "#E5ECF6",
           "caxis": {
            "gridcolor": "white",
            "linecolor": "white",
            "ticks": ""
           }
          },
          "title": {
           "x": 0.05
          },
          "xaxis": {
           "automargin": true,
           "gridcolor": "white",
           "linecolor": "white",
           "ticks": "",
           "title": {
            "standoff": 15
           },
           "zerolinecolor": "white",
           "zerolinewidth": 2
          },
          "yaxis": {
           "automargin": true,
           "gridcolor": "white",
           "linecolor": "white",
           "ticks": "",
           "title": {
            "standoff": 15
           },
           "zerolinecolor": "white",
           "zerolinewidth": 2
          }
         }
        },
        "title": {
         "font": {
          "size": 16
         },
         "text": "lgn_macaque_intron to lgn_human_exon-lgn_human_intron matching"
        },
        "xaxis": {
         "showgrid": false,
         "showticklabels": false,
         "zeroline": false
        },
        "yaxis": {
         "showgrid": false,
         "showticklabels": false,
         "zeroline": false
        }
       }
      }
     },
     "metadata": {},
     "output_type": "display_data"
    },
    {
     "data": {
      "application/vnd.plotly.v1+json": {
       "config": {
        "plotlyServerURL": "https://plot.ly"
       },
       "data": [
        {
         "coloraxis": "coloraxis",
         "hovertemplate": "Reference: lgn_human_exon-lgn_human_intron: %{x}<br>Query: lgn_macaque_intron: %{y}<br>cost: %{z}<extra></extra>",
         "name": "0",
         "type": "heatmap",
         "x": [
          "Astro",
          "GABA1",
          "GABA2",
          "GABA3",
          "K1",
          "K2",
          "MP",
          "Micro",
          "OPC",
          "Oligo"
         ],
         "xaxis": "x",
         "y": [
          "GABA1",
          "GABA2",
          "GABA3",
          "GABA4",
          "K1",
          "K2",
          "M",
          "P",
          "Pulv"
         ],
         "yaxis": "y",
         "z": [
          [
           -10.498178166061532,
           -16.841319396007407,
           -14.027064055766694,
           -13.796579014234165,
           -12.45784840936758,
           -12.606679879471361,
           -11.763440442847322,
           -8.562044873450265,
           -12.361776828016122,
           -11.124749671682569
          ],
          [
           -10.13854839149214,
           -13.780263359306234,
           -14.625385563046322,
           -14.304112878320446,
           -12.286608781426201,
           -12.283031158317808,
           -11.782632525663251,
           -8.56168553535951,
           -11.86105986202464,
           -10.762852471984637
          ],
          [
           -10.160175908802852,
           -13.74850259177974,
           -15.05809708958241,
           -14.848841956233874,
           -12.47280187653345,
           -12.532388199461494,
           -11.71106520819717,
           -8.590218450919581,
           -12.01547175230671,
           -10.787242991644884
          ],
          [
           -10.003471774807906,
           -13.991217790069161,
           -14.73884316407717,
           -14.647596212533802,
           -12.243773630949171,
           -12.34207937044975,
           -11.456009024445278,
           -8.451372864363078,
           -11.823461922315452,
           -10.5505081729898
          ],
          [
           -10.235750197898195,
           -11.884133898174433,
           -12.451040017924548,
           -12.287328716509116,
           -13.67276290898614,
           -13.522602346911029,
           -13.205898592517162,
           -8.747352417235343,
           -11.532358180745803,
           -11.410867637347653
          ],
          [
           -10.01156790035878,
           -12.037136809233347,
           -12.364087579457184,
           -12.235350917965896,
           -13.313968070163869,
           -13.241880109027935,
           -12.453180069880652,
           -8.486920721058828,
           -11.311233426882254,
           -10.979223955207807
          ],
          [
           -9.710795087717019,
           -11.032366853441507,
           -11.616524873461035,
           -11.436659852279416,
           -12.634488793467426,
           -12.491663235325522,
           -12.699535125997159,
           -8.619335140314973,
           -10.866357786712195,
           -10.81861532882408
          ],
          [
           -10.09751970165798,
           -11.485295929282053,
           -12.214656107139586,
           -12.033497455274148,
           -13.161797494506839,
           -12.9941703036186,
           -13.325664867709111,
           -8.851882226753236,
           -11.37197177766164,
           -11.289196172963834
          ],
          [
           -9.8120629506219,
           -11.687654918127915,
           -12.102027892750813,
           -11.937907663658903,
           -13.221275819854174,
           -13.089266545439513,
           -12.495870302751243,
           -8.404010374193161,
           -11.082939100968417,
           -10.94073612586261
          ]
         ]
        }
       ],
       "layout": {
        "coloraxis": {
         "colorbar": {
          "title": {
           "text": "cost"
          }
         },
         "colorscale": [
          [
           0,
           "rgb(75, 41, 145)"
          ],
          [
           0.16666666666666666,
           "rgb(135, 44, 162)"
          ],
          [
           0.3333333333333333,
           "rgb(192, 54, 157)"
          ],
          [
           0.5,
           "rgb(234, 79, 136)"
          ],
          [
           0.6666666666666666,
           "rgb(250, 120, 118)"
          ],
          [
           0.8333333333333334,
           "rgb(246, 169, 122)"
          ],
          [
           1,
           "rgb(237, 217, 163)"
          ]
         ]
        },
        "template": {
         "data": {
          "bar": [
           {
            "error_x": {
             "color": "#2a3f5f"
            },
            "error_y": {
             "color": "#2a3f5f"
            },
            "marker": {
             "line": {
              "color": "#E5ECF6",
              "width": 0.5
             },
             "pattern": {
              "fillmode": "overlay",
              "size": 10,
              "solidity": 0.2
             }
            },
            "type": "bar"
           }
          ],
          "barpolar": [
           {
            "marker": {
             "line": {
              "color": "#E5ECF6",
              "width": 0.5
             },
             "pattern": {
              "fillmode": "overlay",
              "size": 10,
              "solidity": 0.2
             }
            },
            "type": "barpolar"
           }
          ],
          "carpet": [
           {
            "aaxis": {
             "endlinecolor": "#2a3f5f",
             "gridcolor": "white",
             "linecolor": "white",
             "minorgridcolor": "white",
             "startlinecolor": "#2a3f5f"
            },
            "baxis": {
             "endlinecolor": "#2a3f5f",
             "gridcolor": "white",
             "linecolor": "white",
             "minorgridcolor": "white",
             "startlinecolor": "#2a3f5f"
            },
            "type": "carpet"
           }
          ],
          "choropleth": [
           {
            "colorbar": {
             "outlinewidth": 0,
             "ticks": ""
            },
            "type": "choropleth"
           }
          ],
          "contour": [
           {
            "colorbar": {
             "outlinewidth": 0,
             "ticks": ""
            },
            "colorscale": [
             [
              0,
              "#0d0887"
             ],
             [
              0.1111111111111111,
              "#46039f"
             ],
             [
              0.2222222222222222,
              "#7201a8"
             ],
             [
              0.3333333333333333,
              "#9c179e"
             ],
             [
              0.4444444444444444,
              "#bd3786"
             ],
             [
              0.5555555555555556,
              "#d8576b"
             ],
             [
              0.6666666666666666,
              "#ed7953"
             ],
             [
              0.7777777777777778,
              "#fb9f3a"
             ],
             [
              0.8888888888888888,
              "#fdca26"
             ],
             [
              1,
              "#f0f921"
             ]
            ],
            "type": "contour"
           }
          ],
          "contourcarpet": [
           {
            "colorbar": {
             "outlinewidth": 0,
             "ticks": ""
            },
            "type": "contourcarpet"
           }
          ],
          "heatmap": [
           {
            "colorbar": {
             "outlinewidth": 0,
             "ticks": ""
            },
            "colorscale": [
             [
              0,
              "#0d0887"
             ],
             [
              0.1111111111111111,
              "#46039f"
             ],
             [
              0.2222222222222222,
              "#7201a8"
             ],
             [
              0.3333333333333333,
              "#9c179e"
             ],
             [
              0.4444444444444444,
              "#bd3786"
             ],
             [
              0.5555555555555556,
              "#d8576b"
             ],
             [
              0.6666666666666666,
              "#ed7953"
             ],
             [
              0.7777777777777778,
              "#fb9f3a"
             ],
             [
              0.8888888888888888,
              "#fdca26"
             ],
             [
              1,
              "#f0f921"
             ]
            ],
            "type": "heatmap"
           }
          ],
          "heatmapgl": [
           {
            "colorbar": {
             "outlinewidth": 0,
             "ticks": ""
            },
            "colorscale": [
             [
              0,
              "#0d0887"
             ],
             [
              0.1111111111111111,
              "#46039f"
             ],
             [
              0.2222222222222222,
              "#7201a8"
             ],
             [
              0.3333333333333333,
              "#9c179e"
             ],
             [
              0.4444444444444444,
              "#bd3786"
             ],
             [
              0.5555555555555556,
              "#d8576b"
             ],
             [
              0.6666666666666666,
              "#ed7953"
             ],
             [
              0.7777777777777778,
              "#fb9f3a"
             ],
             [
              0.8888888888888888,
              "#fdca26"
             ],
             [
              1,
              "#f0f921"
             ]
            ],
            "type": "heatmapgl"
           }
          ],
          "histogram": [
           {
            "marker": {
             "pattern": {
              "fillmode": "overlay",
              "size": 10,
              "solidity": 0.2
             }
            },
            "type": "histogram"
           }
          ],
          "histogram2d": [
           {
            "colorbar": {
             "outlinewidth": 0,
             "ticks": ""
            },
            "colorscale": [
             [
              0,
              "#0d0887"
             ],
             [
              0.1111111111111111,
              "#46039f"
             ],
             [
              0.2222222222222222,
              "#7201a8"
             ],
             [
              0.3333333333333333,
              "#9c179e"
             ],
             [
              0.4444444444444444,
              "#bd3786"
             ],
             [
              0.5555555555555556,
              "#d8576b"
             ],
             [
              0.6666666666666666,
              "#ed7953"
             ],
             [
              0.7777777777777778,
              "#fb9f3a"
             ],
             [
              0.8888888888888888,
              "#fdca26"
             ],
             [
              1,
              "#f0f921"
             ]
            ],
            "type": "histogram2d"
           }
          ],
          "histogram2dcontour": [
           {
            "colorbar": {
             "outlinewidth": 0,
             "ticks": ""
            },
            "colorscale": [
             [
              0,
              "#0d0887"
             ],
             [
              0.1111111111111111,
              "#46039f"
             ],
             [
              0.2222222222222222,
              "#7201a8"
             ],
             [
              0.3333333333333333,
              "#9c179e"
             ],
             [
              0.4444444444444444,
              "#bd3786"
             ],
             [
              0.5555555555555556,
              "#d8576b"
             ],
             [
              0.6666666666666666,
              "#ed7953"
             ],
             [
              0.7777777777777778,
              "#fb9f3a"
             ],
             [
              0.8888888888888888,
              "#fdca26"
             ],
             [
              1,
              "#f0f921"
             ]
            ],
            "type": "histogram2dcontour"
           }
          ],
          "mesh3d": [
           {
            "colorbar": {
             "outlinewidth": 0,
             "ticks": ""
            },
            "type": "mesh3d"
           }
          ],
          "parcoords": [
           {
            "line": {
             "colorbar": {
              "outlinewidth": 0,
              "ticks": ""
             }
            },
            "type": "parcoords"
           }
          ],
          "pie": [
           {
            "automargin": true,
            "type": "pie"
           }
          ],
          "scatter": [
           {
            "fillpattern": {
             "fillmode": "overlay",
             "size": 10,
             "solidity": 0.2
            },
            "type": "scatter"
           }
          ],
          "scatter3d": [
           {
            "line": {
             "colorbar": {
              "outlinewidth": 0,
              "ticks": ""
             }
            },
            "marker": {
             "colorbar": {
              "outlinewidth": 0,
              "ticks": ""
             }
            },
            "type": "scatter3d"
           }
          ],
          "scattercarpet": [
           {
            "marker": {
             "colorbar": {
              "outlinewidth": 0,
              "ticks": ""
             }
            },
            "type": "scattercarpet"
           }
          ],
          "scattergeo": [
           {
            "marker": {
             "colorbar": {
              "outlinewidth": 0,
              "ticks": ""
             }
            },
            "type": "scattergeo"
           }
          ],
          "scattergl": [
           {
            "marker": {
             "colorbar": {
              "outlinewidth": 0,
              "ticks": ""
             }
            },
            "type": "scattergl"
           }
          ],
          "scattermapbox": [
           {
            "marker": {
             "colorbar": {
              "outlinewidth": 0,
              "ticks": ""
             }
            },
            "type": "scattermapbox"
           }
          ],
          "scatterpolar": [
           {
            "marker": {
             "colorbar": {
              "outlinewidth": 0,
              "ticks": ""
             }
            },
            "type": "scatterpolar"
           }
          ],
          "scatterpolargl": [
           {
            "marker": {
             "colorbar": {
              "outlinewidth": 0,
              "ticks": ""
             }
            },
            "type": "scatterpolargl"
           }
          ],
          "scatterternary": [
           {
            "marker": {
             "colorbar": {
              "outlinewidth": 0,
              "ticks": ""
             }
            },
            "type": "scatterternary"
           }
          ],
          "surface": [
           {
            "colorbar": {
             "outlinewidth": 0,
             "ticks": ""
            },
            "colorscale": [
             [
              0,
              "#0d0887"
             ],
             [
              0.1111111111111111,
              "#46039f"
             ],
             [
              0.2222222222222222,
              "#7201a8"
             ],
             [
              0.3333333333333333,
              "#9c179e"
             ],
             [
              0.4444444444444444,
              "#bd3786"
             ],
             [
              0.5555555555555556,
              "#d8576b"
             ],
             [
              0.6666666666666666,
              "#ed7953"
             ],
             [
              0.7777777777777778,
              "#fb9f3a"
             ],
             [
              0.8888888888888888,
              "#fdca26"
             ],
             [
              1,
              "#f0f921"
             ]
            ],
            "type": "surface"
           }
          ],
          "table": [
           {
            "cells": {
             "fill": {
              "color": "#EBF0F8"
             },
             "line": {
              "color": "white"
             }
            },
            "header": {
             "fill": {
              "color": "#C8D4E3"
             },
             "line": {
              "color": "white"
             }
            },
            "type": "table"
           }
          ]
         },
         "layout": {
          "annotationdefaults": {
           "arrowcolor": "#2a3f5f",
           "arrowhead": 0,
           "arrowwidth": 1
          },
          "autotypenumbers": "strict",
          "coloraxis": {
           "colorbar": {
            "outlinewidth": 0,
            "ticks": ""
           }
          },
          "colorscale": {
           "diverging": [
            [
             0,
             "#8e0152"
            ],
            [
             0.1,
             "#c51b7d"
            ],
            [
             0.2,
             "#de77ae"
            ],
            [
             0.3,
             "#f1b6da"
            ],
            [
             0.4,
             "#fde0ef"
            ],
            [
             0.5,
             "#f7f7f7"
            ],
            [
             0.6,
             "#e6f5d0"
            ],
            [
             0.7,
             "#b8e186"
            ],
            [
             0.8,
             "#7fbc41"
            ],
            [
             0.9,
             "#4d9221"
            ],
            [
             1,
             "#276419"
            ]
           ],
           "sequential": [
            [
             0,
             "#0d0887"
            ],
            [
             0.1111111111111111,
             "#46039f"
            ],
            [
             0.2222222222222222,
             "#7201a8"
            ],
            [
             0.3333333333333333,
             "#9c179e"
            ],
            [
             0.4444444444444444,
             "#bd3786"
            ],
            [
             0.5555555555555556,
             "#d8576b"
            ],
            [
             0.6666666666666666,
             "#ed7953"
            ],
            [
             0.7777777777777778,
             "#fb9f3a"
            ],
            [
             0.8888888888888888,
             "#fdca26"
            ],
            [
             1,
             "#f0f921"
            ]
           ],
           "sequentialminus": [
            [
             0,
             "#0d0887"
            ],
            [
             0.1111111111111111,
             "#46039f"
            ],
            [
             0.2222222222222222,
             "#7201a8"
            ],
            [
             0.3333333333333333,
             "#9c179e"
            ],
            [
             0.4444444444444444,
             "#bd3786"
            ],
            [
             0.5555555555555556,
             "#d8576b"
            ],
            [
             0.6666666666666666,
             "#ed7953"
            ],
            [
             0.7777777777777778,
             "#fb9f3a"
            ],
            [
             0.8888888888888888,
             "#fdca26"
            ],
            [
             1,
             "#f0f921"
            ]
           ]
          },
          "colorway": [
           "#636efa",
           "#EF553B",
           "#00cc96",
           "#ab63fa",
           "#FFA15A",
           "#19d3f3",
           "#FF6692",
           "#B6E880",
           "#FF97FF",
           "#FECB52"
          ],
          "font": {
           "color": "#2a3f5f"
          },
          "geo": {
           "bgcolor": "white",
           "lakecolor": "white",
           "landcolor": "#E5ECF6",
           "showlakes": true,
           "showland": true,
           "subunitcolor": "white"
          },
          "hoverlabel": {
           "align": "left"
          },
          "hovermode": "closest",
          "mapbox": {
           "style": "light"
          },
          "paper_bgcolor": "white",
          "plot_bgcolor": "#E5ECF6",
          "polar": {
           "angularaxis": {
            "gridcolor": "white",
            "linecolor": "white",
            "ticks": ""
           },
           "bgcolor": "#E5ECF6",
           "radialaxis": {
            "gridcolor": "white",
            "linecolor": "white",
            "ticks": ""
           }
          },
          "scene": {
           "xaxis": {
            "backgroundcolor": "#E5ECF6",
            "gridcolor": "white",
            "gridwidth": 2,
            "linecolor": "white",
            "showbackground": true,
            "ticks": "",
            "zerolinecolor": "white"
           },
           "yaxis": {
            "backgroundcolor": "#E5ECF6",
            "gridcolor": "white",
            "gridwidth": 2,
            "linecolor": "white",
            "showbackground": true,
            "ticks": "",
            "zerolinecolor": "white"
           },
           "zaxis": {
            "backgroundcolor": "#E5ECF6",
            "gridcolor": "white",
            "gridwidth": 2,
            "linecolor": "white",
            "showbackground": true,
            "ticks": "",
            "zerolinecolor": "white"
           }
          },
          "shapedefaults": {
           "line": {
            "color": "#2a3f5f"
           }
          },
          "ternary": {
           "aaxis": {
            "gridcolor": "white",
            "linecolor": "white",
            "ticks": ""
           },
           "baxis": {
            "gridcolor": "white",
            "linecolor": "white",
            "ticks": ""
           },
           "bgcolor": "#E5ECF6",
           "caxis": {
            "gridcolor": "white",
            "linecolor": "white",
            "ticks": ""
           }
          },
          "title": {
           "x": 0.05
          },
          "xaxis": {
           "automargin": true,
           "gridcolor": "white",
           "linecolor": "white",
           "ticks": "",
           "title": {
            "standoff": 15
           },
           "zerolinecolor": "white",
           "zerolinewidth": 2
          },
          "yaxis": {
           "automargin": true,
           "gridcolor": "white",
           "linecolor": "white",
           "ticks": "",
           "title": {
            "standoff": 15
           },
           "zerolinecolor": "white",
           "zerolinewidth": 2
          }
         }
        },
        "title": {
         "text": "lgn_macaque_intron to lgn_human_exon-lgn_human_intron matching cost"
        },
        "xaxis": {
         "anchor": "y",
         "constrain": "domain",
         "domain": [
          0,
          1
         ],
         "scaleanchor": "y",
         "tickangle": -45,
         "title": {
          "text": "Reference: lgn_human_exon-lgn_human_intron"
         }
        },
        "yaxis": {
         "anchor": "x",
         "autorange": "reversed",
         "constrain": "domain",
         "domain": [
          0,
          1
         ],
         "title": {
          "text": "Query: lgn_macaque_intron"
         }
        }
       }
      }
     },
     "metadata": {},
     "output_type": "display_data"
    }
   ],
   "source": [
    "rcm = RefCM(solver='lp', n_target_clusters=4, max_merges=2)\n",
    "m = rcm.match([lgn_ds[0][1], lgn_ds[1][1]], lgn_ds[2][1])\n",
    "m.display_matching_graph()\n",
    "m.display_matching_costs()"
   ]
  },
  {
   "cell_type": "code",
   "execution_count": 56,
   "metadata": {},
   "outputs": [
    {
     "name": "stderr",
     "output_type": "stream",
     "text": [
      "[matchings       ] [INFO    ] : mapped lgn_human_intron     to lgn_macaque_exon    \n",
      "[matchings       ] [INFO    ] : (5  common cell types)\n",
      "[matchings       ] [INFO    ] : 4 /10 correct mappings\n",
      "[matchings       ] [INFO    ] : 3 /10 incorrect mapping\n"
     ]
    },
    {
     "data": {
      "application/vnd.plotly.v1+json": {
       "config": {
        "plotlyServerURL": "https://plot.ly"
       },
       "data": [
        {
         "hoverinfo": "none",
         "line": {
          "color": "#90EE90",
          "width": 3
         },
         "mode": "lines",
         "name": "correct matching",
         "type": "scatter",
         "x": [
          0,
          5,
          null,
          0,
          5,
          null,
          0,
          5,
          null,
          0,
          5,
          null
         ],
         "y": [
          4,
          4.5,
          null,
          3,
          3.5,
          null,
          2,
          2.5,
          null,
          1,
          0.5,
          null
         ]
        },
        {
         "hoverinfo": "none",
         "line": {
          "color": "#F72F35",
          "width": 3
         },
         "mode": "lines",
         "name": "incorrect matching",
         "type": "scatter",
         "x": [
          0,
          5,
          null,
          0,
          5,
          null,
          0,
          5,
          null
         ],
         "y": [
          0,
          -3.5,
          null,
          -1,
          -2.5,
          null,
          -3,
          1.5,
          null
         ]
        },
        {
         "hoverinfo": "text",
         "marker": {
          "color": [
           "#B3CCF5",
           "#00d2ff",
           "#00d2ff",
           "#00d2ff",
           "#00d2ff",
           "#00d2ff",
           "#B3CCF5",
           "#B3CCF5",
           "#B3CCF5",
           "#B3CCF5"
          ],
          "size": 14
         },
         "mode": "markers+text",
         "text": [
          "Astro",
          "GABA1",
          "GABA2",
          "GABA3",
          "K1",
          "K2",
          "MP",
          "Micro",
          "OPC",
          "Oligo"
         ],
         "textposition": "top right",
         "type": "scatter",
         "x": [
          0,
          0,
          0,
          0,
          0,
          0,
          0,
          0,
          0,
          0
         ],
         "y": [
          5,
          4,
          3,
          2,
          1,
          0,
          -1,
          -2,
          -3,
          -4
         ]
        },
        {
         "hoverinfo": "text",
         "marker": {
          "color": [
           "#00d2ff",
           "#00d2ff",
           "#00d2ff",
           "#B3CCF5",
           "#00d2ff",
           "#00d2ff",
           "#B3CCF5",
           "#B3CCF5",
           "#B3CCF5"
          ],
          "size": 14
         },
         "mode": "markers+text",
         "text": [
          "GABA1",
          "GABA2",
          "GABA3",
          "GABA4",
          "K1",
          "K2",
          "M",
          "P",
          "Pulv"
         ],
         "textposition": "top left",
         "type": "scatter",
         "x": [
          5,
          5,
          5,
          5,
          5,
          5,
          5,
          5,
          5
         ],
         "y": [
          4.5,
          3.5,
          2.5,
          1.5,
          0.5,
          -0.5,
          -1.5,
          -2.5,
          -3.5
         ]
        }
       ],
       "layout": {
        "hovermode": "closest",
        "margin": {
         "b": 20,
         "l": 5,
         "r": 5,
         "t": 40
        },
        "showlegend": false,
        "template": {
         "data": {
          "bar": [
           {
            "error_x": {
             "color": "#2a3f5f"
            },
            "error_y": {
             "color": "#2a3f5f"
            },
            "marker": {
             "line": {
              "color": "#E5ECF6",
              "width": 0.5
             },
             "pattern": {
              "fillmode": "overlay",
              "size": 10,
              "solidity": 0.2
             }
            },
            "type": "bar"
           }
          ],
          "barpolar": [
           {
            "marker": {
             "line": {
              "color": "#E5ECF6",
              "width": 0.5
             },
             "pattern": {
              "fillmode": "overlay",
              "size": 10,
              "solidity": 0.2
             }
            },
            "type": "barpolar"
           }
          ],
          "carpet": [
           {
            "aaxis": {
             "endlinecolor": "#2a3f5f",
             "gridcolor": "white",
             "linecolor": "white",
             "minorgridcolor": "white",
             "startlinecolor": "#2a3f5f"
            },
            "baxis": {
             "endlinecolor": "#2a3f5f",
             "gridcolor": "white",
             "linecolor": "white",
             "minorgridcolor": "white",
             "startlinecolor": "#2a3f5f"
            },
            "type": "carpet"
           }
          ],
          "choropleth": [
           {
            "colorbar": {
             "outlinewidth": 0,
             "ticks": ""
            },
            "type": "choropleth"
           }
          ],
          "contour": [
           {
            "colorbar": {
             "outlinewidth": 0,
             "ticks": ""
            },
            "colorscale": [
             [
              0,
              "#0d0887"
             ],
             [
              0.1111111111111111,
              "#46039f"
             ],
             [
              0.2222222222222222,
              "#7201a8"
             ],
             [
              0.3333333333333333,
              "#9c179e"
             ],
             [
              0.4444444444444444,
              "#bd3786"
             ],
             [
              0.5555555555555556,
              "#d8576b"
             ],
             [
              0.6666666666666666,
              "#ed7953"
             ],
             [
              0.7777777777777778,
              "#fb9f3a"
             ],
             [
              0.8888888888888888,
              "#fdca26"
             ],
             [
              1,
              "#f0f921"
             ]
            ],
            "type": "contour"
           }
          ],
          "contourcarpet": [
           {
            "colorbar": {
             "outlinewidth": 0,
             "ticks": ""
            },
            "type": "contourcarpet"
           }
          ],
          "heatmap": [
           {
            "colorbar": {
             "outlinewidth": 0,
             "ticks": ""
            },
            "colorscale": [
             [
              0,
              "#0d0887"
             ],
             [
              0.1111111111111111,
              "#46039f"
             ],
             [
              0.2222222222222222,
              "#7201a8"
             ],
             [
              0.3333333333333333,
              "#9c179e"
             ],
             [
              0.4444444444444444,
              "#bd3786"
             ],
             [
              0.5555555555555556,
              "#d8576b"
             ],
             [
              0.6666666666666666,
              "#ed7953"
             ],
             [
              0.7777777777777778,
              "#fb9f3a"
             ],
             [
              0.8888888888888888,
              "#fdca26"
             ],
             [
              1,
              "#f0f921"
             ]
            ],
            "type": "heatmap"
           }
          ],
          "heatmapgl": [
           {
            "colorbar": {
             "outlinewidth": 0,
             "ticks": ""
            },
            "colorscale": [
             [
              0,
              "#0d0887"
             ],
             [
              0.1111111111111111,
              "#46039f"
             ],
             [
              0.2222222222222222,
              "#7201a8"
             ],
             [
              0.3333333333333333,
              "#9c179e"
             ],
             [
              0.4444444444444444,
              "#bd3786"
             ],
             [
              0.5555555555555556,
              "#d8576b"
             ],
             [
              0.6666666666666666,
              "#ed7953"
             ],
             [
              0.7777777777777778,
              "#fb9f3a"
             ],
             [
              0.8888888888888888,
              "#fdca26"
             ],
             [
              1,
              "#f0f921"
             ]
            ],
            "type": "heatmapgl"
           }
          ],
          "histogram": [
           {
            "marker": {
             "pattern": {
              "fillmode": "overlay",
              "size": 10,
              "solidity": 0.2
             }
            },
            "type": "histogram"
           }
          ],
          "histogram2d": [
           {
            "colorbar": {
             "outlinewidth": 0,
             "ticks": ""
            },
            "colorscale": [
             [
              0,
              "#0d0887"
             ],
             [
              0.1111111111111111,
              "#46039f"
             ],
             [
              0.2222222222222222,
              "#7201a8"
             ],
             [
              0.3333333333333333,
              "#9c179e"
             ],
             [
              0.4444444444444444,
              "#bd3786"
             ],
             [
              0.5555555555555556,
              "#d8576b"
             ],
             [
              0.6666666666666666,
              "#ed7953"
             ],
             [
              0.7777777777777778,
              "#fb9f3a"
             ],
             [
              0.8888888888888888,
              "#fdca26"
             ],
             [
              1,
              "#f0f921"
             ]
            ],
            "type": "histogram2d"
           }
          ],
          "histogram2dcontour": [
           {
            "colorbar": {
             "outlinewidth": 0,
             "ticks": ""
            },
            "colorscale": [
             [
              0,
              "#0d0887"
             ],
             [
              0.1111111111111111,
              "#46039f"
             ],
             [
              0.2222222222222222,
              "#7201a8"
             ],
             [
              0.3333333333333333,
              "#9c179e"
             ],
             [
              0.4444444444444444,
              "#bd3786"
             ],
             [
              0.5555555555555556,
              "#d8576b"
             ],
             [
              0.6666666666666666,
              "#ed7953"
             ],
             [
              0.7777777777777778,
              "#fb9f3a"
             ],
             [
              0.8888888888888888,
              "#fdca26"
             ],
             [
              1,
              "#f0f921"
             ]
            ],
            "type": "histogram2dcontour"
           }
          ],
          "mesh3d": [
           {
            "colorbar": {
             "outlinewidth": 0,
             "ticks": ""
            },
            "type": "mesh3d"
           }
          ],
          "parcoords": [
           {
            "line": {
             "colorbar": {
              "outlinewidth": 0,
              "ticks": ""
             }
            },
            "type": "parcoords"
           }
          ],
          "pie": [
           {
            "automargin": true,
            "type": "pie"
           }
          ],
          "scatter": [
           {
            "fillpattern": {
             "fillmode": "overlay",
             "size": 10,
             "solidity": 0.2
            },
            "type": "scatter"
           }
          ],
          "scatter3d": [
           {
            "line": {
             "colorbar": {
              "outlinewidth": 0,
              "ticks": ""
             }
            },
            "marker": {
             "colorbar": {
              "outlinewidth": 0,
              "ticks": ""
             }
            },
            "type": "scatter3d"
           }
          ],
          "scattercarpet": [
           {
            "marker": {
             "colorbar": {
              "outlinewidth": 0,
              "ticks": ""
             }
            },
            "type": "scattercarpet"
           }
          ],
          "scattergeo": [
           {
            "marker": {
             "colorbar": {
              "outlinewidth": 0,
              "ticks": ""
             }
            },
            "type": "scattergeo"
           }
          ],
          "scattergl": [
           {
            "marker": {
             "colorbar": {
              "outlinewidth": 0,
              "ticks": ""
             }
            },
            "type": "scattergl"
           }
          ],
          "scattermapbox": [
           {
            "marker": {
             "colorbar": {
              "outlinewidth": 0,
              "ticks": ""
             }
            },
            "type": "scattermapbox"
           }
          ],
          "scatterpolar": [
           {
            "marker": {
             "colorbar": {
              "outlinewidth": 0,
              "ticks": ""
             }
            },
            "type": "scatterpolar"
           }
          ],
          "scatterpolargl": [
           {
            "marker": {
             "colorbar": {
              "outlinewidth": 0,
              "ticks": ""
             }
            },
            "type": "scatterpolargl"
           }
          ],
          "scatterternary": [
           {
            "marker": {
             "colorbar": {
              "outlinewidth": 0,
              "ticks": ""
             }
            },
            "type": "scatterternary"
           }
          ],
          "surface": [
           {
            "colorbar": {
             "outlinewidth": 0,
             "ticks": ""
            },
            "colorscale": [
             [
              0,
              "#0d0887"
             ],
             [
              0.1111111111111111,
              "#46039f"
             ],
             [
              0.2222222222222222,
              "#7201a8"
             ],
             [
              0.3333333333333333,
              "#9c179e"
             ],
             [
              0.4444444444444444,
              "#bd3786"
             ],
             [
              0.5555555555555556,
              "#d8576b"
             ],
             [
              0.6666666666666666,
              "#ed7953"
             ],
             [
              0.7777777777777778,
              "#fb9f3a"
             ],
             [
              0.8888888888888888,
              "#fdca26"
             ],
             [
              1,
              "#f0f921"
             ]
            ],
            "type": "surface"
           }
          ],
          "table": [
           {
            "cells": {
             "fill": {
              "color": "#EBF0F8"
             },
             "line": {
              "color": "white"
             }
            },
            "header": {
             "fill": {
              "color": "#C8D4E3"
             },
             "line": {
              "color": "white"
             }
            },
            "type": "table"
           }
          ]
         },
         "layout": {
          "annotationdefaults": {
           "arrowcolor": "#2a3f5f",
           "arrowhead": 0,
           "arrowwidth": 1
          },
          "autotypenumbers": "strict",
          "coloraxis": {
           "colorbar": {
            "outlinewidth": 0,
            "ticks": ""
           }
          },
          "colorscale": {
           "diverging": [
            [
             0,
             "#8e0152"
            ],
            [
             0.1,
             "#c51b7d"
            ],
            [
             0.2,
             "#de77ae"
            ],
            [
             0.3,
             "#f1b6da"
            ],
            [
             0.4,
             "#fde0ef"
            ],
            [
             0.5,
             "#f7f7f7"
            ],
            [
             0.6,
             "#e6f5d0"
            ],
            [
             0.7,
             "#b8e186"
            ],
            [
             0.8,
             "#7fbc41"
            ],
            [
             0.9,
             "#4d9221"
            ],
            [
             1,
             "#276419"
            ]
           ],
           "sequential": [
            [
             0,
             "#0d0887"
            ],
            [
             0.1111111111111111,
             "#46039f"
            ],
            [
             0.2222222222222222,
             "#7201a8"
            ],
            [
             0.3333333333333333,
             "#9c179e"
            ],
            [
             0.4444444444444444,
             "#bd3786"
            ],
            [
             0.5555555555555556,
             "#d8576b"
            ],
            [
             0.6666666666666666,
             "#ed7953"
            ],
            [
             0.7777777777777778,
             "#fb9f3a"
            ],
            [
             0.8888888888888888,
             "#fdca26"
            ],
            [
             1,
             "#f0f921"
            ]
           ],
           "sequentialminus": [
            [
             0,
             "#0d0887"
            ],
            [
             0.1111111111111111,
             "#46039f"
            ],
            [
             0.2222222222222222,
             "#7201a8"
            ],
            [
             0.3333333333333333,
             "#9c179e"
            ],
            [
             0.4444444444444444,
             "#bd3786"
            ],
            [
             0.5555555555555556,
             "#d8576b"
            ],
            [
             0.6666666666666666,
             "#ed7953"
            ],
            [
             0.7777777777777778,
             "#fb9f3a"
            ],
            [
             0.8888888888888888,
             "#fdca26"
            ],
            [
             1,
             "#f0f921"
            ]
           ]
          },
          "colorway": [
           "#636efa",
           "#EF553B",
           "#00cc96",
           "#ab63fa",
           "#FFA15A",
           "#19d3f3",
           "#FF6692",
           "#B6E880",
           "#FF97FF",
           "#FECB52"
          ],
          "font": {
           "color": "#2a3f5f"
          },
          "geo": {
           "bgcolor": "white",
           "lakecolor": "white",
           "landcolor": "#E5ECF6",
           "showlakes": true,
           "showland": true,
           "subunitcolor": "white"
          },
          "hoverlabel": {
           "align": "left"
          },
          "hovermode": "closest",
          "mapbox": {
           "style": "light"
          },
          "paper_bgcolor": "white",
          "plot_bgcolor": "#E5ECF6",
          "polar": {
           "angularaxis": {
            "gridcolor": "white",
            "linecolor": "white",
            "ticks": ""
           },
           "bgcolor": "#E5ECF6",
           "radialaxis": {
            "gridcolor": "white",
            "linecolor": "white",
            "ticks": ""
           }
          },
          "scene": {
           "xaxis": {
            "backgroundcolor": "#E5ECF6",
            "gridcolor": "white",
            "gridwidth": 2,
            "linecolor": "white",
            "showbackground": true,
            "ticks": "",
            "zerolinecolor": "white"
           },
           "yaxis": {
            "backgroundcolor": "#E5ECF6",
            "gridcolor": "white",
            "gridwidth": 2,
            "linecolor": "white",
            "showbackground": true,
            "ticks": "",
            "zerolinecolor": "white"
           },
           "zaxis": {
            "backgroundcolor": "#E5ECF6",
            "gridcolor": "white",
            "gridwidth": 2,
            "linecolor": "white",
            "showbackground": true,
            "ticks": "",
            "zerolinecolor": "white"
           }
          },
          "shapedefaults": {
           "line": {
            "color": "#2a3f5f"
           }
          },
          "ternary": {
           "aaxis": {
            "gridcolor": "white",
            "linecolor": "white",
            "ticks": ""
           },
           "baxis": {
            "gridcolor": "white",
            "linecolor": "white",
            "ticks": ""
           },
           "bgcolor": "#E5ECF6",
           "caxis": {
            "gridcolor": "white",
            "linecolor": "white",
            "ticks": ""
           }
          },
          "title": {
           "x": 0.05
          },
          "xaxis": {
           "automargin": true,
           "gridcolor": "white",
           "linecolor": "white",
           "ticks": "",
           "title": {
            "standoff": 15
           },
           "zerolinecolor": "white",
           "zerolinewidth": 2
          },
          "yaxis": {
           "automargin": true,
           "gridcolor": "white",
           "linecolor": "white",
           "ticks": "",
           "title": {
            "standoff": 15
           },
           "zerolinecolor": "white",
           "zerolinewidth": 2
          }
         }
        },
        "title": {
         "font": {
          "size": 16
         },
         "text": "lgn_human_intron to lgn_macaque_exon matching"
        },
        "xaxis": {
         "showgrid": false,
         "showticklabels": false,
         "zeroline": false
        },
        "yaxis": {
         "showgrid": false,
         "showticklabels": false,
         "zeroline": false
        }
       }
      }
     },
     "metadata": {},
     "output_type": "display_data"
    },
    {
     "data": {
      "application/vnd.plotly.v1+json": {
       "config": {
        "plotlyServerURL": "https://plot.ly"
       },
       "data": [
        {
         "coloraxis": "coloraxis",
         "hovertemplate": "Reference: lgn_macaque_exon: %{x}<br>Query: lgn_human_intron: %{y}<br>cost: %{z}<extra></extra>",
         "name": "0",
         "type": "heatmap",
         "x": [
          "GABA1",
          "GABA2",
          "GABA3",
          "GABA4",
          "K1",
          "K2",
          "M",
          "P",
          "Pulv"
         ],
         "xaxis": "x",
         "y": [
          "Astro",
          "GABA1",
          "GABA2",
          "GABA3",
          "K1",
          "K2",
          "MP",
          "Micro",
          "OPC",
          "Oligo"
         ],
         "yaxis": "y",
         "z": [
          [
           0.9780930514330137,
           0.9011915039186142,
           0.9803587543212746,
           0.8834255703577281,
           1.4263788377700788,
           1.5268785318316525,
           1.8118840992207375,
           1.3924276622850105,
           1.6956436983444547
          ],
          [
           -3.0575868283320613,
           -1.5679860625948212,
           -1.4585707446913698,
           -1.6597932891531286,
           0.12458745821225214,
           0.384221948289591,
           0.7360493816648184,
           0.23361617657798384,
           0.29182791125842833
          ],
          [
           -0.5028953240352614,
           -2.2318018436431846,
           -2.402554266488364,
           -2.3961021802364293,
           -0.005743189150344108,
           0.2464279887883034,
           0.5341952641804983,
           0.0884409629821814,
           0.18016215455230977
          ],
          [
           -0.0863807204845859,
           -1.6544202576935039,
           -1.9219856067858991,
           -2.002360490652231,
           0.47762957920621574,
           0.6720990461343437,
           1.0033167108598597,
           0.6128943253150521,
           0.6480346249064262
          ],
          [
           0.2162833328690006,
           -0.6153756109298065,
           -0.5276199044097254,
           -0.6504051722013049,
           -1.6692039821972227,
           -1.0513972456261769,
           -0.8885816429473419,
           -1.3577110160240746,
           -1.4258080472684043
          ],
          [
           0.29067233823380256,
           -0.5036657288063733,
           -0.4740395288653545,
           -0.6322876979143199,
           -1.372753697582791,
           -0.8352720175536437,
           -0.6143052489591607,
           -1.0564812135940986,
           -1.1539582260712447
          ],
          [
           0.6054854251807242,
           -0.36573183093542383,
           -0.08799607903654838,
           -0.16878218010740476,
           -1.3822713885021187,
           -0.4902614061655317,
           -1.0514205567665833,
           -1.5520397721946892,
           -0.8324669292418161
          ],
          [
           1.191285602837855,
           0.8185825328775902,
           1.0324023235766262,
           1.0604526146308544,
           1.1678282260396475,
           1.459844411384422,
           1.4744436861013526,
           1.0279744885184616,
           1.576911363673677
          ],
          [
           0.010330628299110245,
           -0.15691802899042706,
           -0.22804673690701271,
           -0.6192824932245102,
           0.699479209280554,
           0.8845114019363436,
           1.299519212359474,
           0.8380859350522325,
           0.92152649702148
          ],
          [
           0.6463202491607394,
           0.4954308915501855,
           0.5254570679131341,
           0.5466146192885812,
           0.49098526594130654,
           0.951994166849186,
           1.0059910091352968,
           0.4734761159261023,
           0.9131734903873436
          ]
         ]
        }
       ],
       "layout": {
        "coloraxis": {
         "colorbar": {
          "title": {
           "text": "cost"
          }
         },
         "colorscale": [
          [
           0,
           "rgb(75, 41, 145)"
          ],
          [
           0.16666666666666666,
           "rgb(135, 44, 162)"
          ],
          [
           0.3333333333333333,
           "rgb(192, 54, 157)"
          ],
          [
           0.5,
           "rgb(234, 79, 136)"
          ],
          [
           0.6666666666666666,
           "rgb(250, 120, 118)"
          ],
          [
           0.8333333333333334,
           "rgb(246, 169, 122)"
          ],
          [
           1,
           "rgb(237, 217, 163)"
          ]
         ]
        },
        "template": {
         "data": {
          "bar": [
           {
            "error_x": {
             "color": "#2a3f5f"
            },
            "error_y": {
             "color": "#2a3f5f"
            },
            "marker": {
             "line": {
              "color": "#E5ECF6",
              "width": 0.5
             },
             "pattern": {
              "fillmode": "overlay",
              "size": 10,
              "solidity": 0.2
             }
            },
            "type": "bar"
           }
          ],
          "barpolar": [
           {
            "marker": {
             "line": {
              "color": "#E5ECF6",
              "width": 0.5
             },
             "pattern": {
              "fillmode": "overlay",
              "size": 10,
              "solidity": 0.2
             }
            },
            "type": "barpolar"
           }
          ],
          "carpet": [
           {
            "aaxis": {
             "endlinecolor": "#2a3f5f",
             "gridcolor": "white",
             "linecolor": "white",
             "minorgridcolor": "white",
             "startlinecolor": "#2a3f5f"
            },
            "baxis": {
             "endlinecolor": "#2a3f5f",
             "gridcolor": "white",
             "linecolor": "white",
             "minorgridcolor": "white",
             "startlinecolor": "#2a3f5f"
            },
            "type": "carpet"
           }
          ],
          "choropleth": [
           {
            "colorbar": {
             "outlinewidth": 0,
             "ticks": ""
            },
            "type": "choropleth"
           }
          ],
          "contour": [
           {
            "colorbar": {
             "outlinewidth": 0,
             "ticks": ""
            },
            "colorscale": [
             [
              0,
              "#0d0887"
             ],
             [
              0.1111111111111111,
              "#46039f"
             ],
             [
              0.2222222222222222,
              "#7201a8"
             ],
             [
              0.3333333333333333,
              "#9c179e"
             ],
             [
              0.4444444444444444,
              "#bd3786"
             ],
             [
              0.5555555555555556,
              "#d8576b"
             ],
             [
              0.6666666666666666,
              "#ed7953"
             ],
             [
              0.7777777777777778,
              "#fb9f3a"
             ],
             [
              0.8888888888888888,
              "#fdca26"
             ],
             [
              1,
              "#f0f921"
             ]
            ],
            "type": "contour"
           }
          ],
          "contourcarpet": [
           {
            "colorbar": {
             "outlinewidth": 0,
             "ticks": ""
            },
            "type": "contourcarpet"
           }
          ],
          "heatmap": [
           {
            "colorbar": {
             "outlinewidth": 0,
             "ticks": ""
            },
            "colorscale": [
             [
              0,
              "#0d0887"
             ],
             [
              0.1111111111111111,
              "#46039f"
             ],
             [
              0.2222222222222222,
              "#7201a8"
             ],
             [
              0.3333333333333333,
              "#9c179e"
             ],
             [
              0.4444444444444444,
              "#bd3786"
             ],
             [
              0.5555555555555556,
              "#d8576b"
             ],
             [
              0.6666666666666666,
              "#ed7953"
             ],
             [
              0.7777777777777778,
              "#fb9f3a"
             ],
             [
              0.8888888888888888,
              "#fdca26"
             ],
             [
              1,
              "#f0f921"
             ]
            ],
            "type": "heatmap"
           }
          ],
          "heatmapgl": [
           {
            "colorbar": {
             "outlinewidth": 0,
             "ticks": ""
            },
            "colorscale": [
             [
              0,
              "#0d0887"
             ],
             [
              0.1111111111111111,
              "#46039f"
             ],
             [
              0.2222222222222222,
              "#7201a8"
             ],
             [
              0.3333333333333333,
              "#9c179e"
             ],
             [
              0.4444444444444444,
              "#bd3786"
             ],
             [
              0.5555555555555556,
              "#d8576b"
             ],
             [
              0.6666666666666666,
              "#ed7953"
             ],
             [
              0.7777777777777778,
              "#fb9f3a"
             ],
             [
              0.8888888888888888,
              "#fdca26"
             ],
             [
              1,
              "#f0f921"
             ]
            ],
            "type": "heatmapgl"
           }
          ],
          "histogram": [
           {
            "marker": {
             "pattern": {
              "fillmode": "overlay",
              "size": 10,
              "solidity": 0.2
             }
            },
            "type": "histogram"
           }
          ],
          "histogram2d": [
           {
            "colorbar": {
             "outlinewidth": 0,
             "ticks": ""
            },
            "colorscale": [
             [
              0,
              "#0d0887"
             ],
             [
              0.1111111111111111,
              "#46039f"
             ],
             [
              0.2222222222222222,
              "#7201a8"
             ],
             [
              0.3333333333333333,
              "#9c179e"
             ],
             [
              0.4444444444444444,
              "#bd3786"
             ],
             [
              0.5555555555555556,
              "#d8576b"
             ],
             [
              0.6666666666666666,
              "#ed7953"
             ],
             [
              0.7777777777777778,
              "#fb9f3a"
             ],
             [
              0.8888888888888888,
              "#fdca26"
             ],
             [
              1,
              "#f0f921"
             ]
            ],
            "type": "histogram2d"
           }
          ],
          "histogram2dcontour": [
           {
            "colorbar": {
             "outlinewidth": 0,
             "ticks": ""
            },
            "colorscale": [
             [
              0,
              "#0d0887"
             ],
             [
              0.1111111111111111,
              "#46039f"
             ],
             [
              0.2222222222222222,
              "#7201a8"
             ],
             [
              0.3333333333333333,
              "#9c179e"
             ],
             [
              0.4444444444444444,
              "#bd3786"
             ],
             [
              0.5555555555555556,
              "#d8576b"
             ],
             [
              0.6666666666666666,
              "#ed7953"
             ],
             [
              0.7777777777777778,
              "#fb9f3a"
             ],
             [
              0.8888888888888888,
              "#fdca26"
             ],
             [
              1,
              "#f0f921"
             ]
            ],
            "type": "histogram2dcontour"
           }
          ],
          "mesh3d": [
           {
            "colorbar": {
             "outlinewidth": 0,
             "ticks": ""
            },
            "type": "mesh3d"
           }
          ],
          "parcoords": [
           {
            "line": {
             "colorbar": {
              "outlinewidth": 0,
              "ticks": ""
             }
            },
            "type": "parcoords"
           }
          ],
          "pie": [
           {
            "automargin": true,
            "type": "pie"
           }
          ],
          "scatter": [
           {
            "fillpattern": {
             "fillmode": "overlay",
             "size": 10,
             "solidity": 0.2
            },
            "type": "scatter"
           }
          ],
          "scatter3d": [
           {
            "line": {
             "colorbar": {
              "outlinewidth": 0,
              "ticks": ""
             }
            },
            "marker": {
             "colorbar": {
              "outlinewidth": 0,
              "ticks": ""
             }
            },
            "type": "scatter3d"
           }
          ],
          "scattercarpet": [
           {
            "marker": {
             "colorbar": {
              "outlinewidth": 0,
              "ticks": ""
             }
            },
            "type": "scattercarpet"
           }
          ],
          "scattergeo": [
           {
            "marker": {
             "colorbar": {
              "outlinewidth": 0,
              "ticks": ""
             }
            },
            "type": "scattergeo"
           }
          ],
          "scattergl": [
           {
            "marker": {
             "colorbar": {
              "outlinewidth": 0,
              "ticks": ""
             }
            },
            "type": "scattergl"
           }
          ],
          "scattermapbox": [
           {
            "marker": {
             "colorbar": {
              "outlinewidth": 0,
              "ticks": ""
             }
            },
            "type": "scattermapbox"
           }
          ],
          "scatterpolar": [
           {
            "marker": {
             "colorbar": {
              "outlinewidth": 0,
              "ticks": ""
             }
            },
            "type": "scatterpolar"
           }
          ],
          "scatterpolargl": [
           {
            "marker": {
             "colorbar": {
              "outlinewidth": 0,
              "ticks": ""
             }
            },
            "type": "scatterpolargl"
           }
          ],
          "scatterternary": [
           {
            "marker": {
             "colorbar": {
              "outlinewidth": 0,
              "ticks": ""
             }
            },
            "type": "scatterternary"
           }
          ],
          "surface": [
           {
            "colorbar": {
             "outlinewidth": 0,
             "ticks": ""
            },
            "colorscale": [
             [
              0,
              "#0d0887"
             ],
             [
              0.1111111111111111,
              "#46039f"
             ],
             [
              0.2222222222222222,
              "#7201a8"
             ],
             [
              0.3333333333333333,
              "#9c179e"
             ],
             [
              0.4444444444444444,
              "#bd3786"
             ],
             [
              0.5555555555555556,
              "#d8576b"
             ],
             [
              0.6666666666666666,
              "#ed7953"
             ],
             [
              0.7777777777777778,
              "#fb9f3a"
             ],
             [
              0.8888888888888888,
              "#fdca26"
             ],
             [
              1,
              "#f0f921"
             ]
            ],
            "type": "surface"
           }
          ],
          "table": [
           {
            "cells": {
             "fill": {
              "color": "#EBF0F8"
             },
             "line": {
              "color": "white"
             }
            },
            "header": {
             "fill": {
              "color": "#C8D4E3"
             },
             "line": {
              "color": "white"
             }
            },
            "type": "table"
           }
          ]
         },
         "layout": {
          "annotationdefaults": {
           "arrowcolor": "#2a3f5f",
           "arrowhead": 0,
           "arrowwidth": 1
          },
          "autotypenumbers": "strict",
          "coloraxis": {
           "colorbar": {
            "outlinewidth": 0,
            "ticks": ""
           }
          },
          "colorscale": {
           "diverging": [
            [
             0,
             "#8e0152"
            ],
            [
             0.1,
             "#c51b7d"
            ],
            [
             0.2,
             "#de77ae"
            ],
            [
             0.3,
             "#f1b6da"
            ],
            [
             0.4,
             "#fde0ef"
            ],
            [
             0.5,
             "#f7f7f7"
            ],
            [
             0.6,
             "#e6f5d0"
            ],
            [
             0.7,
             "#b8e186"
            ],
            [
             0.8,
             "#7fbc41"
            ],
            [
             0.9,
             "#4d9221"
            ],
            [
             1,
             "#276419"
            ]
           ],
           "sequential": [
            [
             0,
             "#0d0887"
            ],
            [
             0.1111111111111111,
             "#46039f"
            ],
            [
             0.2222222222222222,
             "#7201a8"
            ],
            [
             0.3333333333333333,
             "#9c179e"
            ],
            [
             0.4444444444444444,
             "#bd3786"
            ],
            [
             0.5555555555555556,
             "#d8576b"
            ],
            [
             0.6666666666666666,
             "#ed7953"
            ],
            [
             0.7777777777777778,
             "#fb9f3a"
            ],
            [
             0.8888888888888888,
             "#fdca26"
            ],
            [
             1,
             "#f0f921"
            ]
           ],
           "sequentialminus": [
            [
             0,
             "#0d0887"
            ],
            [
             0.1111111111111111,
             "#46039f"
            ],
            [
             0.2222222222222222,
             "#7201a8"
            ],
            [
             0.3333333333333333,
             "#9c179e"
            ],
            [
             0.4444444444444444,
             "#bd3786"
            ],
            [
             0.5555555555555556,
             "#d8576b"
            ],
            [
             0.6666666666666666,
             "#ed7953"
            ],
            [
             0.7777777777777778,
             "#fb9f3a"
            ],
            [
             0.8888888888888888,
             "#fdca26"
            ],
            [
             1,
             "#f0f921"
            ]
           ]
          },
          "colorway": [
           "#636efa",
           "#EF553B",
           "#00cc96",
           "#ab63fa",
           "#FFA15A",
           "#19d3f3",
           "#FF6692",
           "#B6E880",
           "#FF97FF",
           "#FECB52"
          ],
          "font": {
           "color": "#2a3f5f"
          },
          "geo": {
           "bgcolor": "white",
           "lakecolor": "white",
           "landcolor": "#E5ECF6",
           "showlakes": true,
           "showland": true,
           "subunitcolor": "white"
          },
          "hoverlabel": {
           "align": "left"
          },
          "hovermode": "closest",
          "mapbox": {
           "style": "light"
          },
          "paper_bgcolor": "white",
          "plot_bgcolor": "#E5ECF6",
          "polar": {
           "angularaxis": {
            "gridcolor": "white",
            "linecolor": "white",
            "ticks": ""
           },
           "bgcolor": "#E5ECF6",
           "radialaxis": {
            "gridcolor": "white",
            "linecolor": "white",
            "ticks": ""
           }
          },
          "scene": {
           "xaxis": {
            "backgroundcolor": "#E5ECF6",
            "gridcolor": "white",
            "gridwidth": 2,
            "linecolor": "white",
            "showbackground": true,
            "ticks": "",
            "zerolinecolor": "white"
           },
           "yaxis": {
            "backgroundcolor": "#E5ECF6",
            "gridcolor": "white",
            "gridwidth": 2,
            "linecolor": "white",
            "showbackground": true,
            "ticks": "",
            "zerolinecolor": "white"
           },
           "zaxis": {
            "backgroundcolor": "#E5ECF6",
            "gridcolor": "white",
            "gridwidth": 2,
            "linecolor": "white",
            "showbackground": true,
            "ticks": "",
            "zerolinecolor": "white"
           }
          },
          "shapedefaults": {
           "line": {
            "color": "#2a3f5f"
           }
          },
          "ternary": {
           "aaxis": {
            "gridcolor": "white",
            "linecolor": "white",
            "ticks": ""
           },
           "baxis": {
            "gridcolor": "white",
            "linecolor": "white",
            "ticks": ""
           },
           "bgcolor": "#E5ECF6",
           "caxis": {
            "gridcolor": "white",
            "linecolor": "white",
            "ticks": ""
           }
          },
          "title": {
           "x": 0.05
          },
          "xaxis": {
           "automargin": true,
           "gridcolor": "white",
           "linecolor": "white",
           "ticks": "",
           "title": {
            "standoff": 15
           },
           "zerolinecolor": "white",
           "zerolinewidth": 2
          },
          "yaxis": {
           "automargin": true,
           "gridcolor": "white",
           "linecolor": "white",
           "ticks": "",
           "title": {
            "standoff": 15
           },
           "zerolinecolor": "white",
           "zerolinewidth": 2
          }
         }
        },
        "title": {
         "text": "lgn_human_intron to lgn_macaque_exon matching cost"
        },
        "xaxis": {
         "anchor": "y",
         "constrain": "domain",
         "domain": [
          0,
          1
         ],
         "scaleanchor": "y",
         "tickangle": -45,
         "title": {
          "text": "Reference: lgn_macaque_exon"
         }
        },
        "yaxis": {
         "anchor": "x",
         "autorange": "reversed",
         "constrain": "domain",
         "domain": [
          0,
          1
         ],
         "title": {
          "text": "Query: lgn_human_intron"
         }
        }
       }
      }
     },
     "metadata": {},
     "output_type": "display_data"
    }
   ],
   "source": [
    "rcm = RefCM(solver='lp', discovery_threshold=10)\n",
    "m = rcm.match([lgn_ds[3][1]], lgn_ds[0][1])\n",
    "m.display_matching_graph()\n",
    "m.display_matching_costs()"
   ]
  }
 ],
 "metadata": {
  "kernelspec": {
   "display_name": "SCC",
   "language": "python",
   "name": "python3"
  },
  "language_info": {
   "codemirror_mode": {
    "name": "ipython",
    "version": 3
   },
   "file_extension": ".py",
   "mimetype": "text/x-python",
   "name": "python",
   "nbconvert_exporter": "python",
   "pygments_lexer": "ipython3",
   "version": "3.11.7"
  }
 },
 "nbformat": 4,
 "nbformat_minor": 2
}
