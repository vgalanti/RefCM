{
 "cells": [
  {
   "cell_type": "markdown",
   "metadata": {},
   "source": [
    "This notebook shows the effect of noise on RefCM's performance in matching datasets."
   ]
  },
  {
   "cell_type": "code",
   "execution_count": 1,
   "metadata": {},
   "outputs": [],
   "source": [
    "import sys\n",
    "sys.path.append('../src/')\n",
    "\n",
    "import numpy as np\n",
    "import scanpy as sc\n",
    "import config\n",
    "import logging\n",
    "import plotly.express as px\n",
    "\n",
    "from refcm import RefCM\n",
    "from anndata import AnnData\n",
    "\n",
    "config.start_logging(logging.INFO)"
   ]
  },
  {
   "cell_type": "markdown",
   "metadata": {},
   "source": [
    "For this particular example, we will utilize the Allen Brain datasets."
   ]
  },
  {
   "cell_type": "code",
   "execution_count": 2,
   "metadata": {},
   "outputs": [],
   "source": [
    "dss = {\n",
    "    'MTG': sc.read_h5ad('../data/MTG.h5ad'),\n",
    "    'ALM': sc.read_h5ad('../data/ALM.h5ad'),\n",
    "    'VISp': sc.read_h5ad('../data/VISp.h5ad')\n",
    "}"
   ]
  },
  {
   "cell_type": "markdown",
   "metadata": {},
   "source": [
    "There are two main types of noise we will consider:\n",
    "* measurement noise, i.e. noise in the raw gene expression counts.\n",
    "* clustering noise, i.e. cell types not being clustered together correctly.\n",
    "\n",
    "Let's first look at the effect of adding measurement noise to our data. We will define the following function to simulate this effect."
   ]
  },
  {
   "cell_type": "code",
   "execution_count": 3,
   "metadata": {},
   "outputs": [],
   "source": [
    "def add_measurement_noise(ds: AnnData, epsilon: float) -> AnnData:\n",
    "    \"\"\"\n",
    "    Adds epsilon * std_dev of noise to each cell in the dataset.\n",
    "    Saves the original counts under .layers['original'].\n",
    "\n",
    "    Parameters\n",
    "    ----------\n",
    "    ds: AnnData\n",
    "        The AnnData dataset to add noise to. Assumes .X is raw counts.\n",
    "    epsilon: float\n",
    "        epsilon * std_dev of noise to add to each cell's raw counts.\n",
    "        \n",
    "    Returns\n",
    "    -------\n",
    "    AnnData:\n",
    "        The original dataset, with the added noise.\n",
    "    \"\"\"\n",
    "    ds.layers['original'] = ds.X.copy()\n",
    "    \n",
    "    stds = ds.X.std(axis=1)\n",
    "    noise = np.zeros_like(ds.X)\n",
    "    for i, std in enumerate(stds):\n",
    "        noise[i] = np.random.normal(0, epsilon * std, size=noise.shape[1])\n",
    "        \n",
    "    ds.X = (ds.X + noise).clip(0).round()\n",
    "    \n",
    "    return ds\n",
    "\n",
    "def undo_measurement_noise(ds: AnnData) -> AnnData:\n",
    "    \"\"\" Undoes the effects of the previous function.\"\"\"\n",
    "    ds.X = ds.layers.pop('original')\n",
    "    return ds"
   ]
  },
  {
   "cell_type": "markdown",
   "metadata": {},
   "source": [
    "We can then look at the impact of applying different quantities of noise on all different combinations of Allen-Brain dataset matching tests as follows. In this particular case, we will choosing to add the measurement noise to the query dataset."
   ]
  },
  {
   "cell_type": "code",
   "execution_count": 4,
   "metadata": {},
   "outputs": [
    {
     "name": "stderr",
     "output_type": "stream",
     "text": [
      "[refcm           ] [INFO    ] : NOTE: raw counts expected in anndata .X attributes.\n",
      "|████████████████| [100.00% ] : 00:34\n",
      "[matchings       ] [INFO    ] : mapped MTG                  to ALM                 \n",
      "[matchings       ] [INFO    ] : (34 common cell types)\n",
      "[matchings       ] [INFO    ] : 34/34 correct mappings\n",
      "[matchings       ] [INFO    ] : 0 /34 incorrect mappings\n"
     ]
    },
    {
     "name": "stdout",
     "output_type": "stream",
     "text": [
      "     Noise: 0.00 |  MTG->ALM  : 34/34\n"
     ]
    },
    {
     "name": "stderr",
     "output_type": "stream",
     "text": [
      "|████████████████| [100.00% ] : 00:34\n",
      "[matchings       ] [INFO    ] : mapped MTG                  to ALM                 \n",
      "[matchings       ] [INFO    ] : (34 common cell types)\n",
      "[matchings       ] [INFO    ] : 34/34 correct mappings\n",
      "[matchings       ] [INFO    ] : 0 /34 incorrect mappings\n"
     ]
    },
    {
     "name": "stdout",
     "output_type": "stream",
     "text": [
      "     Noise: 0.20 |  MTG->ALM  : 34/34\n"
     ]
    },
    {
     "name": "stderr",
     "output_type": "stream",
     "text": [
      "|████████████████| [100.00% ] : 00:30\n",
      "[matchings       ] [INFO    ] : mapped MTG                  to ALM                 \n",
      "[matchings       ] [INFO    ] : (34 common cell types)\n",
      "[matchings       ] [INFO    ] : 34/34 correct mappings\n",
      "[matchings       ] [INFO    ] : 0 /34 incorrect mappings\n"
     ]
    },
    {
     "name": "stdout",
     "output_type": "stream",
     "text": [
      "     Noise: 0.40 |  MTG->ALM  : 34/34\n"
     ]
    },
    {
     "name": "stderr",
     "output_type": "stream",
     "text": [
      "|████████████████| [100.00% ] : 00:32\n",
      "[matchings       ] [INFO    ] : mapped MTG                  to ALM                 \n",
      "[matchings       ] [INFO    ] : (34 common cell types)\n",
      "[matchings       ] [INFO    ] : 34/34 correct mappings\n",
      "[matchings       ] [INFO    ] : 0 /34 incorrect mappings\n"
     ]
    },
    {
     "name": "stdout",
     "output_type": "stream",
     "text": [
      "     Noise: 0.60 |  MTG->ALM  : 34/34\n"
     ]
    },
    {
     "name": "stderr",
     "output_type": "stream",
     "text": [
      "|████████████████| [100.00% ] : 00:32\n",
      "[matchings       ] [INFO    ] : mapped MTG                  to ALM                 \n",
      "[matchings       ] [INFO    ] : (34 common cell types)\n",
      "[matchings       ] [INFO    ] : 34/34 correct mappings\n",
      "[matchings       ] [INFO    ] : 0 /34 incorrect mappings\n"
     ]
    },
    {
     "name": "stdout",
     "output_type": "stream",
     "text": [
      "     Noise: 0.80 |  MTG->ALM  : 34/34\n"
     ]
    },
    {
     "name": "stderr",
     "output_type": "stream",
     "text": [
      "|████████████████| [100.00% ] : 00:32\n",
      "[matchings       ] [INFO    ] : mapped MTG                  to ALM                 \n",
      "[matchings       ] [INFO    ] : (34 common cell types)\n",
      "[matchings       ] [INFO    ] : 34/34 correct mappings\n",
      "[matchings       ] [INFO    ] : 0 /34 incorrect mappings\n"
     ]
    },
    {
     "name": "stdout",
     "output_type": "stream",
     "text": [
      "     Noise: 1.00 |  MTG->ALM  : 34/34\n"
     ]
    },
    {
     "name": "stderr",
     "output_type": "stream",
     "text": [
      "|████████████████| [100.00% ] : 00:32\n",
      "[matchings       ] [INFO    ] : mapped MTG                  to ALM                 \n",
      "[matchings       ] [INFO    ] : (34 common cell types)\n",
      "[matchings       ] [INFO    ] : 34/34 correct mappings\n",
      "[matchings       ] [INFO    ] : 0 /34 incorrect mappings\n"
     ]
    },
    {
     "name": "stdout",
     "output_type": "stream",
     "text": [
      "     Noise: 1.20 |  MTG->ALM  : 34/34\n"
     ]
    },
    {
     "name": "stderr",
     "output_type": "stream",
     "text": [
      "|████████████████| [100.00% ] : 00:32\n",
      "[matchings       ] [INFO    ] : mapped MTG                  to ALM                 \n",
      "[matchings       ] [INFO    ] : (34 common cell types)\n",
      "[matchings       ] [INFO    ] : 34/34 correct mappings\n",
      "[matchings       ] [INFO    ] : 0 /34 incorrect mappings\n"
     ]
    },
    {
     "name": "stdout",
     "output_type": "stream",
     "text": [
      "     Noise: 1.40 |  MTG->ALM  : 34/34\n"
     ]
    },
    {
     "name": "stderr",
     "output_type": "stream",
     "text": [
      "|████████████████| [100.00% ] : 00:32\n",
      "[matchings       ] [INFO    ] : mapped MTG                  to ALM                 \n",
      "[matchings       ] [INFO    ] : (34 common cell types)\n",
      "[matchings       ] [INFO    ] : 34/34 correct mappings\n",
      "[matchings       ] [INFO    ] : 0 /34 incorrect mappings\n"
     ]
    },
    {
     "name": "stdout",
     "output_type": "stream",
     "text": [
      "     Noise: 1.60 |  MTG->ALM  : 34/34\n"
     ]
    },
    {
     "name": "stderr",
     "output_type": "stream",
     "text": [
      "|████████████████| [100.00% ] : 00:31\n",
      "[matchings       ] [INFO    ] : mapped MTG                  to ALM                 \n",
      "[matchings       ] [INFO    ] : (34 common cell types)\n",
      "[matchings       ] [INFO    ] : 34/34 correct mappings\n",
      "[matchings       ] [INFO    ] : 0 /34 incorrect mappings\n"
     ]
    },
    {
     "name": "stdout",
     "output_type": "stream",
     "text": [
      "     Noise: 1.80 |  MTG->ALM  : 34/34\n"
     ]
    },
    {
     "name": "stderr",
     "output_type": "stream",
     "text": [
      "|████████████████| [100.00% ] : 00:32\n",
      "[matchings       ] [INFO    ] : mapped MTG                  to ALM                 \n",
      "[matchings       ] [INFO    ] : (34 common cell types)\n",
      "[matchings       ] [INFO    ] : 34/34 correct mappings\n",
      "[matchings       ] [INFO    ] : 0 /34 incorrect mappings\n"
     ]
    },
    {
     "name": "stdout",
     "output_type": "stream",
     "text": [
      "     Noise: 2.00 |  MTG->ALM  : 34/34\n"
     ]
    },
    {
     "name": "stderr",
     "output_type": "stream",
     "text": [
      "|████████████████| [100.00% ] : 00:32\n",
      "[matchings       ] [INFO    ] : mapped MTG                  to ALM                 \n",
      "[matchings       ] [INFO    ] : (34 common cell types)\n",
      "[matchings       ] [INFO    ] : 32/34 correct mappings\n",
      "[matchings       ] [INFO    ] : 2 /34 incorrect mappings\n"
     ]
    },
    {
     "name": "stdout",
     "output_type": "stream",
     "text": [
      "     Noise: 2.20 |  MTG->ALM  : 32/34\n"
     ]
    },
    {
     "name": "stderr",
     "output_type": "stream",
     "text": [
      "|████████████████| [100.00% ] : 00:32\n",
      "[matchings       ] [INFO    ] : mapped MTG                  to ALM                 \n",
      "[matchings       ] [INFO    ] : (34 common cell types)\n",
      "[matchings       ] [INFO    ] : 34/34 correct mappings\n",
      "[matchings       ] [INFO    ] : 0 /34 incorrect mappings\n"
     ]
    },
    {
     "name": "stdout",
     "output_type": "stream",
     "text": [
      "     Noise: 2.40 |  MTG->ALM  : 34/34\n"
     ]
    },
    {
     "name": "stderr",
     "output_type": "stream",
     "text": [
      "|████████████████| [100.00% ] : 00:36\n",
      "[matchings       ] [INFO    ] : mapped MTG                  to ALM                 \n",
      "[matchings       ] [INFO    ] : (34 common cell types)\n",
      "[matchings       ] [INFO    ] : 34/34 correct mappings\n",
      "[matchings       ] [INFO    ] : 0 /34 incorrect mappings\n"
     ]
    },
    {
     "name": "stdout",
     "output_type": "stream",
     "text": [
      "     Noise: 2.60 |  MTG->ALM  : 34/34\n"
     ]
    },
    {
     "name": "stderr",
     "output_type": "stream",
     "text": [
      "|████████████████| [100.00% ] : 00:32\n",
      "[matchings       ] [INFO    ] : mapped MTG                  to ALM                 \n",
      "[matchings       ] [INFO    ] : (34 common cell types)\n",
      "[matchings       ] [INFO    ] : 32/34 correct mappings\n",
      "[matchings       ] [INFO    ] : 2 /34 incorrect mappings\n"
     ]
    },
    {
     "name": "stdout",
     "output_type": "stream",
     "text": [
      "     Noise: 2.80 |  MTG->ALM  : 32/34\n"
     ]
    },
    {
     "name": "stderr",
     "output_type": "stream",
     "text": [
      "|████████████████| [100.00% ] : 00:32\n",
      "[matchings       ] [INFO    ] : mapped MTG                  to ALM                 \n",
      "[matchings       ] [INFO    ] : (34 common cell types)\n",
      "[matchings       ] [INFO    ] : 34/34 correct mappings\n",
      "[matchings       ] [INFO    ] : 0 /34 incorrect mappings\n"
     ]
    },
    {
     "name": "stdout",
     "output_type": "stream",
     "text": [
      "     Noise: 3.00 |  MTG->ALM  : 34/34\n"
     ]
    },
    {
     "name": "stderr",
     "output_type": "stream",
     "text": [
      "|████████████████| [100.00% ] : 00:29\n",
      "[matchings       ] [INFO    ] : mapped MTG                  to ALM                 \n",
      "[matchings       ] [INFO    ] : (34 common cell types)\n",
      "[matchings       ] [INFO    ] : 34/34 correct mappings\n",
      "[matchings       ] [INFO    ] : 0 /34 incorrect mappings\n"
     ]
    },
    {
     "name": "stdout",
     "output_type": "stream",
     "text": [
      "     Noise: 3.20 |  MTG->ALM  : 34/34\n"
     ]
    },
    {
     "name": "stderr",
     "output_type": "stream",
     "text": [
      "|████████████████| [100.00% ] : 00:32\n",
      "[matchings       ] [INFO    ] : mapped MTG                  to ALM                 \n",
      "[matchings       ] [INFO    ] : (34 common cell types)\n",
      "[matchings       ] [INFO    ] : 29/34 correct mappings\n",
      "[matchings       ] [INFO    ] : 5 /34 incorrect mappings\n"
     ]
    },
    {
     "name": "stdout",
     "output_type": "stream",
     "text": [
      "     Noise: 3.40 |  MTG->ALM  : 29/34\n"
     ]
    },
    {
     "name": "stderr",
     "output_type": "stream",
     "text": [
      "|████████████████| [100.00% ] : 00:32\n",
      "[matchings       ] [INFO    ] : mapped MTG                  to ALM                 \n",
      "[matchings       ] [INFO    ] : (34 common cell types)\n",
      "[matchings       ] [INFO    ] : 30/34 correct mappings\n",
      "[matchings       ] [INFO    ] : 4 /34 incorrect mappings\n"
     ]
    },
    {
     "name": "stdout",
     "output_type": "stream",
     "text": [
      "     Noise: 3.60 |  MTG->ALM  : 30/34\n"
     ]
    },
    {
     "name": "stderr",
     "output_type": "stream",
     "text": [
      "|████████████████| [100.00% ] : 00:32\n",
      "[matchings       ] [INFO    ] : mapped MTG                  to ALM                 \n",
      "[matchings       ] [INFO    ] : (34 common cell types)\n",
      "[matchings       ] [INFO    ] : 30/34 correct mappings\n",
      "[matchings       ] [INFO    ] : 4 /34 incorrect mappings\n"
     ]
    },
    {
     "name": "stdout",
     "output_type": "stream",
     "text": [
      "     Noise: 3.80 |  MTG->ALM  : 30/34\n"
     ]
    },
    {
     "name": "stderr",
     "output_type": "stream",
     "text": [
      "|████████████████| [100.00% ] : 00:28\n",
      "[matchings       ] [INFO    ] : mapped MTG                  to ALM                 \n",
      "[matchings       ] [INFO    ] : (34 common cell types)\n",
      "[matchings       ] [INFO    ] : 27/34 correct mappings\n",
      "[matchings       ] [INFO    ] : 7 /34 incorrect mappings\n"
     ]
    },
    {
     "name": "stdout",
     "output_type": "stream",
     "text": [
      "     Noise: 4.00 |  MTG->ALM  : 27/34\n"
     ]
    },
    {
     "name": "stderr",
     "output_type": "stream",
     "text": [
      "|████████████████| [100.00% ] : 00:32\n",
      "[matchings       ] [INFO    ] : mapped MTG                  to ALM                 \n",
      "[matchings       ] [INFO    ] : (34 common cell types)\n",
      "[matchings       ] [INFO    ] : 31/34 correct mappings\n",
      "[matchings       ] [INFO    ] : 3 /34 incorrect mappings\n"
     ]
    },
    {
     "name": "stdout",
     "output_type": "stream",
     "text": [
      "     Noise: 4.20 |  MTG->ALM  : 31/34\n"
     ]
    },
    {
     "name": "stderr",
     "output_type": "stream",
     "text": [
      "|████████████████| [100.00% ] : 00:32\n",
      "[matchings       ] [INFO    ] : mapped MTG                  to ALM                 \n",
      "[matchings       ] [INFO    ] : (34 common cell types)\n",
      "[matchings       ] [INFO    ] : 30/34 correct mappings\n",
      "[matchings       ] [INFO    ] : 4 /34 incorrect mappings\n"
     ]
    },
    {
     "name": "stdout",
     "output_type": "stream",
     "text": [
      "     Noise: 4.40 |  MTG->ALM  : 30/34\n"
     ]
    },
    {
     "name": "stderr",
     "output_type": "stream",
     "text": [
      "|████████████████| [100.00% ] : 00:32\n",
      "[matchings       ] [INFO    ] : mapped MTG                  to ALM                 \n",
      "[matchings       ] [INFO    ] : (34 common cell types)\n",
      "[matchings       ] [INFO    ] : 29/34 correct mappings\n",
      "[matchings       ] [INFO    ] : 5 /34 incorrect mappings\n"
     ]
    },
    {
     "name": "stdout",
     "output_type": "stream",
     "text": [
      "     Noise: 4.60 |  MTG->ALM  : 29/34\n"
     ]
    },
    {
     "name": "stderr",
     "output_type": "stream",
     "text": [
      "|████████████████| [100.00% ] : 00:29\n",
      "[matchings       ] [INFO    ] : mapped MTG                  to ALM                 \n",
      "[matchings       ] [INFO    ] : (34 common cell types)\n",
      "[matchings       ] [INFO    ] : 26/34 correct mappings\n",
      "[matchings       ] [INFO    ] : 8 /34 incorrect mappings\n"
     ]
    },
    {
     "name": "stdout",
     "output_type": "stream",
     "text": [
      "     Noise: 4.80 |  MTG->ALM  : 26/34\n"
     ]
    },
    {
     "name": "stderr",
     "output_type": "stream",
     "text": [
      "|████████████████| [100.00% ] : 00:32\n",
      "[matchings       ] [INFO    ] : mapped MTG                  to ALM                 \n",
      "[matchings       ] [INFO    ] : (34 common cell types)\n",
      "[matchings       ] [INFO    ] : 31/34 correct mappings\n",
      "[matchings       ] [INFO    ] : 3 /34 incorrect mappings\n"
     ]
    },
    {
     "name": "stdout",
     "output_type": "stream",
     "text": [
      "     Noise: 5.00 |  MTG->ALM  : 31/34\n"
     ]
    },
    {
     "name": "stderr",
     "output_type": "stream",
     "text": [
      "|████████████████| [100.00% ] : 00:47\n",
      "[matchings       ] [INFO    ] : mapped MTG                  to VISp                \n",
      "[matchings       ] [INFO    ] : (34 common cell types)\n",
      "[matchings       ] [INFO    ] : 34/34 correct mappings\n",
      "[matchings       ] [INFO    ] : 0 /34 incorrect mappings\n"
     ]
    },
    {
     "name": "stdout",
     "output_type": "stream",
     "text": [
      "     Noise: 0.00 |  MTG->VISp : 34/34\n"
     ]
    },
    {
     "name": "stderr",
     "output_type": "stream",
     "text": [
      "|████████████████| [100.00% ] : 00:46\n",
      "[matchings       ] [INFO    ] : mapped MTG                  to VISp                \n",
      "[matchings       ] [INFO    ] : (34 common cell types)\n",
      "[matchings       ] [INFO    ] : 34/34 correct mappings\n",
      "[matchings       ] [INFO    ] : 0 /34 incorrect mappings\n"
     ]
    },
    {
     "name": "stdout",
     "output_type": "stream",
     "text": [
      "     Noise: 0.20 |  MTG->VISp : 34/34\n"
     ]
    },
    {
     "name": "stderr",
     "output_type": "stream",
     "text": [
      "|████████████████| [100.00% ] : 00:46\n",
      "[matchings       ] [INFO    ] : mapped MTG                  to VISp                \n",
      "[matchings       ] [INFO    ] : (34 common cell types)\n",
      "[matchings       ] [INFO    ] : 34/34 correct mappings\n",
      "[matchings       ] [INFO    ] : 0 /34 incorrect mappings\n"
     ]
    },
    {
     "name": "stdout",
     "output_type": "stream",
     "text": [
      "     Noise: 0.40 |  MTG->VISp : 34/34\n"
     ]
    },
    {
     "name": "stderr",
     "output_type": "stream",
     "text": [
      "|████████████████| [100.00% ] : 00:46\n",
      "[matchings       ] [INFO    ] : mapped MTG                  to VISp                \n",
      "[matchings       ] [INFO    ] : (34 common cell types)\n",
      "[matchings       ] [INFO    ] : 34/34 correct mappings\n",
      "[matchings       ] [INFO    ] : 0 /34 incorrect mappings\n"
     ]
    },
    {
     "name": "stdout",
     "output_type": "stream",
     "text": [
      "     Noise: 0.60 |  MTG->VISp : 34/34\n"
     ]
    },
    {
     "name": "stderr",
     "output_type": "stream",
     "text": [
      "|████████████████| [100.00% ] : 00:45\n",
      "[matchings       ] [INFO    ] : mapped MTG                  to VISp                \n",
      "[matchings       ] [INFO    ] : (34 common cell types)\n",
      "[matchings       ] [INFO    ] : 34/34 correct mappings\n",
      "[matchings       ] [INFO    ] : 0 /34 incorrect mappings\n"
     ]
    },
    {
     "name": "stdout",
     "output_type": "stream",
     "text": [
      "     Noise: 0.80 |  MTG->VISp : 34/34\n"
     ]
    },
    {
     "name": "stderr",
     "output_type": "stream",
     "text": [
      "|████████████████| [100.00% ] : 00:46\n",
      "[matchings       ] [INFO    ] : mapped MTG                  to VISp                \n",
      "[matchings       ] [INFO    ] : (34 common cell types)\n",
      "[matchings       ] [INFO    ] : 34/34 correct mappings\n",
      "[matchings       ] [INFO    ] : 0 /34 incorrect mappings\n"
     ]
    },
    {
     "name": "stdout",
     "output_type": "stream",
     "text": [
      "     Noise: 1.00 |  MTG->VISp : 34/34\n"
     ]
    },
    {
     "name": "stderr",
     "output_type": "stream",
     "text": [
      "|████████████████| [100.00% ] : 00:41\n",
      "[matchings       ] [INFO    ] : mapped MTG                  to VISp                \n",
      "[matchings       ] [INFO    ] : (34 common cell types)\n",
      "[matchings       ] [INFO    ] : 34/34 correct mappings\n",
      "[matchings       ] [INFO    ] : 0 /34 incorrect mappings\n"
     ]
    },
    {
     "name": "stdout",
     "output_type": "stream",
     "text": [
      "     Noise: 1.20 |  MTG->VISp : 34/34\n"
     ]
    },
    {
     "name": "stderr",
     "output_type": "stream",
     "text": [
      "|████████████████| [100.00% ] : 00:46\n",
      "[matchings       ] [INFO    ] : mapped MTG                  to VISp                \n",
      "[matchings       ] [INFO    ] : (34 common cell types)\n",
      "[matchings       ] [INFO    ] : 34/34 correct mappings\n",
      "[matchings       ] [INFO    ] : 0 /34 incorrect mappings\n"
     ]
    },
    {
     "name": "stdout",
     "output_type": "stream",
     "text": [
      "     Noise: 1.40 |  MTG->VISp : 34/34\n"
     ]
    },
    {
     "name": "stderr",
     "output_type": "stream",
     "text": [
      "|████████████████| [100.00% ] : 00:45\n",
      "[matchings       ] [INFO    ] : mapped MTG                  to VISp                \n",
      "[matchings       ] [INFO    ] : (34 common cell types)\n",
      "[matchings       ] [INFO    ] : 34/34 correct mappings\n",
      "[matchings       ] [INFO    ] : 0 /34 incorrect mappings\n"
     ]
    },
    {
     "name": "stdout",
     "output_type": "stream",
     "text": [
      "     Noise: 1.60 |  MTG->VISp : 34/34\n"
     ]
    },
    {
     "name": "stderr",
     "output_type": "stream",
     "text": [
      "|████████████████| [100.00% ] : 00:46\n",
      "[matchings       ] [INFO    ] : mapped MTG                  to VISp                \n",
      "[matchings       ] [INFO    ] : (34 common cell types)\n",
      "[matchings       ] [INFO    ] : 34/34 correct mappings\n",
      "[matchings       ] [INFO    ] : 0 /34 incorrect mappings\n"
     ]
    },
    {
     "name": "stdout",
     "output_type": "stream",
     "text": [
      "     Noise: 1.80 |  MTG->VISp : 34/34\n"
     ]
    },
    {
     "name": "stderr",
     "output_type": "stream",
     "text": [
      "|████████████████| [100.00% ] : 00:42\n",
      "[matchings       ] [INFO    ] : mapped MTG                  to VISp                \n",
      "[matchings       ] [INFO    ] : (34 common cell types)\n",
      "[matchings       ] [INFO    ] : 34/34 correct mappings\n",
      "[matchings       ] [INFO    ] : 0 /34 incorrect mappings\n"
     ]
    },
    {
     "name": "stdout",
     "output_type": "stream",
     "text": [
      "     Noise: 2.00 |  MTG->VISp : 34/34\n"
     ]
    },
    {
     "name": "stderr",
     "output_type": "stream",
     "text": [
      "|████████████████| [100.00% ] : 00:42\n",
      "[matchings       ] [INFO    ] : mapped MTG                  to VISp                \n",
      "[matchings       ] [INFO    ] : (34 common cell types)\n",
      "[matchings       ] [INFO    ] : 34/34 correct mappings\n",
      "[matchings       ] [INFO    ] : 0 /34 incorrect mappings\n"
     ]
    },
    {
     "name": "stdout",
     "output_type": "stream",
     "text": [
      "     Noise: 2.20 |  MTG->VISp : 34/34\n"
     ]
    },
    {
     "name": "stderr",
     "output_type": "stream",
     "text": [
      "|████████████████| [100.00% ] : 00:46\n",
      "[matchings       ] [INFO    ] : mapped MTG                  to VISp                \n",
      "[matchings       ] [INFO    ] : (34 common cell types)\n",
      "[matchings       ] [INFO    ] : 32/34 correct mappings\n",
      "[matchings       ] [INFO    ] : 2 /34 incorrect mappings\n"
     ]
    },
    {
     "name": "stdout",
     "output_type": "stream",
     "text": [
      "     Noise: 2.40 |  MTG->VISp : 32/34\n"
     ]
    },
    {
     "name": "stderr",
     "output_type": "stream",
     "text": [
      "|████████████████| [100.00% ] : 00:46\n",
      "[matchings       ] [INFO    ] : mapped MTG                  to VISp                \n",
      "[matchings       ] [INFO    ] : (34 common cell types)\n",
      "[matchings       ] [INFO    ] : 32/34 correct mappings\n",
      "[matchings       ] [INFO    ] : 2 /34 incorrect mappings\n"
     ]
    },
    {
     "name": "stdout",
     "output_type": "stream",
     "text": [
      "     Noise: 2.60 |  MTG->VISp : 32/34\n"
     ]
    },
    {
     "name": "stderr",
     "output_type": "stream",
     "text": [
      "|████████████████| [100.00% ] : 00:46\n",
      "[matchings       ] [INFO    ] : mapped MTG                  to VISp                \n",
      "[matchings       ] [INFO    ] : (34 common cell types)\n",
      "[matchings       ] [INFO    ] : 34/34 correct mappings\n",
      "[matchings       ] [INFO    ] : 0 /34 incorrect mappings\n"
     ]
    },
    {
     "name": "stdout",
     "output_type": "stream",
     "text": [
      "     Noise: 2.80 |  MTG->VISp : 34/34\n"
     ]
    },
    {
     "name": "stderr",
     "output_type": "stream",
     "text": [
      "|████████████████| [100.00% ] : 00:46\n",
      "[matchings       ] [INFO    ] : mapped MTG                  to VISp                \n",
      "[matchings       ] [INFO    ] : (34 common cell types)\n",
      "[matchings       ] [INFO    ] : 34/34 correct mappings\n",
      "[matchings       ] [INFO    ] : 0 /34 incorrect mappings\n"
     ]
    },
    {
     "name": "stdout",
     "output_type": "stream",
     "text": [
      "     Noise: 3.00 |  MTG->VISp : 34/34\n"
     ]
    },
    {
     "name": "stderr",
     "output_type": "stream",
     "text": [
      "|████████████████| [100.00% ] : 00:48\n",
      "[matchings       ] [INFO    ] : mapped MTG                  to VISp                \n",
      "[matchings       ] [INFO    ] : (34 common cell types)\n",
      "[matchings       ] [INFO    ] : 34/34 correct mappings\n",
      "[matchings       ] [INFO    ] : 0 /34 incorrect mappings\n"
     ]
    },
    {
     "name": "stdout",
     "output_type": "stream",
     "text": [
      "     Noise: 3.20 |  MTG->VISp : 34/34\n"
     ]
    },
    {
     "name": "stderr",
     "output_type": "stream",
     "text": [
      "|████████████████| [100.00% ] : 00:46\n",
      "[matchings       ] [INFO    ] : mapped MTG                  to VISp                \n",
      "[matchings       ] [INFO    ] : (34 common cell types)\n",
      "[matchings       ] [INFO    ] : 34/34 correct mappings\n",
      "[matchings       ] [INFO    ] : 0 /34 incorrect mappings\n"
     ]
    },
    {
     "name": "stdout",
     "output_type": "stream",
     "text": [
      "     Noise: 3.40 |  MTG->VISp : 34/34\n"
     ]
    },
    {
     "name": "stderr",
     "output_type": "stream",
     "text": [
      "|████████████████| [100.00% ] : 00:46\n",
      "[matchings       ] [INFO    ] : mapped MTG                  to VISp                \n",
      "[matchings       ] [INFO    ] : (34 common cell types)\n",
      "[matchings       ] [INFO    ] : 32/34 correct mappings\n",
      "[matchings       ] [INFO    ] : 2 /34 incorrect mappings\n"
     ]
    },
    {
     "name": "stdout",
     "output_type": "stream",
     "text": [
      "     Noise: 3.60 |  MTG->VISp : 32/34\n"
     ]
    },
    {
     "name": "stderr",
     "output_type": "stream",
     "text": [
      "|████████████████| [100.00% ] : 00:46\n",
      "[matchings       ] [INFO    ] : mapped MTG                  to VISp                \n",
      "[matchings       ] [INFO    ] : (34 common cell types)\n",
      "[matchings       ] [INFO    ] : 29/34 correct mappings\n",
      "[matchings       ] [INFO    ] : 5 /34 incorrect mappings\n"
     ]
    },
    {
     "name": "stdout",
     "output_type": "stream",
     "text": [
      "     Noise: 3.80 |  MTG->VISp : 29/34\n"
     ]
    },
    {
     "name": "stderr",
     "output_type": "stream",
     "text": [
      "|████████████████| [100.00% ] : 00:46\n",
      "[matchings       ] [INFO    ] : mapped MTG                  to VISp                \n",
      "[matchings       ] [INFO    ] : (34 common cell types)\n",
      "[matchings       ] [INFO    ] : 31/34 correct mappings\n",
      "[matchings       ] [INFO    ] : 3 /34 incorrect mappings\n"
     ]
    },
    {
     "name": "stdout",
     "output_type": "stream",
     "text": [
      "     Noise: 4.00 |  MTG->VISp : 31/34\n"
     ]
    },
    {
     "name": "stderr",
     "output_type": "stream",
     "text": [
      "|████████████████| [100.00% ] : 00:47\n",
      "[matchings       ] [INFO    ] : mapped MTG                  to VISp                \n",
      "[matchings       ] [INFO    ] : (34 common cell types)\n",
      "[matchings       ] [INFO    ] : 32/34 correct mappings\n",
      "[matchings       ] [INFO    ] : 2 /34 incorrect mappings\n"
     ]
    },
    {
     "name": "stdout",
     "output_type": "stream",
     "text": [
      "     Noise: 4.20 |  MTG->VISp : 32/34\n"
     ]
    },
    {
     "name": "stderr",
     "output_type": "stream",
     "text": [
      "|████████████████| [100.00% ] : 00:46\n",
      "[matchings       ] [INFO    ] : mapped MTG                  to VISp                \n",
      "[matchings       ] [INFO    ] : (34 common cell types)\n",
      "[matchings       ] [INFO    ] : 32/34 correct mappings\n",
      "[matchings       ] [INFO    ] : 2 /34 incorrect mappings\n"
     ]
    },
    {
     "name": "stdout",
     "output_type": "stream",
     "text": [
      "     Noise: 4.40 |  MTG->VISp : 32/34\n"
     ]
    },
    {
     "name": "stderr",
     "output_type": "stream",
     "text": [
      "|████████████████| [100.00% ] : 00:46\n",
      "[matchings       ] [INFO    ] : mapped MTG                  to VISp                \n",
      "[matchings       ] [INFO    ] : (34 common cell types)\n",
      "[matchings       ] [INFO    ] : 34/34 correct mappings\n",
      "[matchings       ] [INFO    ] : 0 /34 incorrect mappings\n"
     ]
    },
    {
     "name": "stdout",
     "output_type": "stream",
     "text": [
      "     Noise: 4.60 |  MTG->VISp : 34/34\n"
     ]
    },
    {
     "name": "stderr",
     "output_type": "stream",
     "text": [
      "|████████████████| [100.00% ] : 00:42\n",
      "[matchings       ] [INFO    ] : mapped MTG                  to VISp                \n",
      "[matchings       ] [INFO    ] : (34 common cell types)\n",
      "[matchings       ] [INFO    ] : 32/34 correct mappings\n",
      "[matchings       ] [INFO    ] : 2 /34 incorrect mappings\n"
     ]
    },
    {
     "name": "stdout",
     "output_type": "stream",
     "text": [
      "     Noise: 4.80 |  MTG->VISp : 32/34\n"
     ]
    },
    {
     "name": "stderr",
     "output_type": "stream",
     "text": [
      "|████████████████| [100.00% ] : 00:47\n",
      "[matchings       ] [INFO    ] : mapped MTG                  to VISp                \n",
      "[matchings       ] [INFO    ] : (34 common cell types)\n",
      "[matchings       ] [INFO    ] : 32/34 correct mappings\n",
      "[matchings       ] [INFO    ] : 2 /34 incorrect mappings\n"
     ]
    },
    {
     "name": "stdout",
     "output_type": "stream",
     "text": [
      "     Noise: 5.00 |  MTG->VISp : 32/34\n"
     ]
    },
    {
     "name": "stderr",
     "output_type": "stream",
     "text": [
      "|████████████████| [100.00% ] : 00:31\n",
      "[matchings       ] [INFO    ] : mapped ALM                  to MTG                 \n",
      "[matchings       ] [INFO    ] : (34 common cell types)\n",
      "[matchings       ] [INFO    ] : 34/34 correct mappings\n",
      "[matchings       ] [INFO    ] : 0 /34 incorrect mappings\n"
     ]
    },
    {
     "name": "stdout",
     "output_type": "stream",
     "text": [
      "     Noise: 0.00 |  ALM->MTG  : 34/34\n"
     ]
    },
    {
     "name": "stderr",
     "output_type": "stream",
     "text": [
      "|████████████████| [100.00% ] : 00:31\n",
      "[matchings       ] [INFO    ] : mapped ALM                  to MTG                 \n",
      "[matchings       ] [INFO    ] : (34 common cell types)\n",
      "[matchings       ] [INFO    ] : 34/34 correct mappings\n",
      "[matchings       ] [INFO    ] : 0 /34 incorrect mappings\n"
     ]
    },
    {
     "name": "stdout",
     "output_type": "stream",
     "text": [
      "     Noise: 0.20 |  ALM->MTG  : 34/34\n"
     ]
    },
    {
     "name": "stderr",
     "output_type": "stream",
     "text": [
      "|████████████████| [100.00% ] : 00:31\n",
      "[matchings       ] [INFO    ] : mapped ALM                  to MTG                 \n",
      "[matchings       ] [INFO    ] : (34 common cell types)\n",
      "[matchings       ] [INFO    ] : 32/34 correct mappings\n",
      "[matchings       ] [INFO    ] : 2 /34 incorrect mappings\n"
     ]
    },
    {
     "name": "stdout",
     "output_type": "stream",
     "text": [
      "     Noise: 0.40 |  ALM->MTG  : 32/34\n"
     ]
    },
    {
     "name": "stderr",
     "output_type": "stream",
     "text": [
      "|████████████████| [100.00% ] : 00:34\n",
      "[matchings       ] [INFO    ] : mapped ALM                  to MTG                 \n",
      "[matchings       ] [INFO    ] : (34 common cell types)\n",
      "[matchings       ] [INFO    ] : 34/34 correct mappings\n",
      "[matchings       ] [INFO    ] : 0 /34 incorrect mappings\n"
     ]
    },
    {
     "name": "stdout",
     "output_type": "stream",
     "text": [
      "     Noise: 0.60 |  ALM->MTG  : 34/34\n"
     ]
    },
    {
     "name": "stderr",
     "output_type": "stream",
     "text": [
      "|████████████████| [100.00% ] : 00:31\n",
      "[matchings       ] [INFO    ] : mapped ALM                  to MTG                 \n",
      "[matchings       ] [INFO    ] : (34 common cell types)\n",
      "[matchings       ] [INFO    ] : 32/34 correct mappings\n",
      "[matchings       ] [INFO    ] : 2 /34 incorrect mappings\n"
     ]
    },
    {
     "name": "stdout",
     "output_type": "stream",
     "text": [
      "     Noise: 0.80 |  ALM->MTG  : 32/34\n"
     ]
    },
    {
     "name": "stderr",
     "output_type": "stream",
     "text": [
      "|████████████████| [100.00% ] : 00:31\n",
      "[matchings       ] [INFO    ] : mapped ALM                  to MTG                 \n",
      "[matchings       ] [INFO    ] : (34 common cell types)\n",
      "[matchings       ] [INFO    ] : 34/34 correct mappings\n",
      "[matchings       ] [INFO    ] : 0 /34 incorrect mappings\n"
     ]
    },
    {
     "name": "stdout",
     "output_type": "stream",
     "text": [
      "     Noise: 1.00 |  ALM->MTG  : 34/34\n"
     ]
    },
    {
     "name": "stderr",
     "output_type": "stream",
     "text": [
      "|████████████████| [100.00% ] : 00:30\n",
      "[matchings       ] [INFO    ] : mapped ALM                  to MTG                 \n",
      "[matchings       ] [INFO    ] : (34 common cell types)\n",
      "[matchings       ] [INFO    ] : 32/34 correct mappings\n",
      "[matchings       ] [INFO    ] : 2 /34 incorrect mappings\n"
     ]
    },
    {
     "name": "stdout",
     "output_type": "stream",
     "text": [
      "     Noise: 1.20 |  ALM->MTG  : 32/34\n"
     ]
    },
    {
     "name": "stderr",
     "output_type": "stream",
     "text": [
      "|████████████████| [100.00% ] : 00:30\n",
      "[matchings       ] [INFO    ] : mapped ALM                  to MTG                 \n",
      "[matchings       ] [INFO    ] : (34 common cell types)\n",
      "[matchings       ] [INFO    ] : 34/34 correct mappings\n",
      "[matchings       ] [INFO    ] : 0 /34 incorrect mappings\n"
     ]
    },
    {
     "name": "stdout",
     "output_type": "stream",
     "text": [
      "     Noise: 1.40 |  ALM->MTG  : 34/34\n"
     ]
    },
    {
     "name": "stderr",
     "output_type": "stream",
     "text": [
      "|████████████████| [100.00% ] : 00:31\n",
      "[matchings       ] [INFO    ] : mapped ALM                  to MTG                 \n",
      "[matchings       ] [INFO    ] : (34 common cell types)\n",
      "[matchings       ] [INFO    ] : 30/34 correct mappings\n",
      "[matchings       ] [INFO    ] : 4 /34 incorrect mappings\n"
     ]
    },
    {
     "name": "stdout",
     "output_type": "stream",
     "text": [
      "     Noise: 1.60 |  ALM->MTG  : 30/34\n"
     ]
    },
    {
     "name": "stderr",
     "output_type": "stream",
     "text": [
      "|████████████████| [100.00% ] : 00:31\n",
      "[matchings       ] [INFO    ] : mapped ALM                  to MTG                 \n",
      "[matchings       ] [INFO    ] : (34 common cell types)\n",
      "[matchings       ] [INFO    ] : 29/34 correct mappings\n",
      "[matchings       ] [INFO    ] : 5 /34 incorrect mappings\n"
     ]
    },
    {
     "name": "stdout",
     "output_type": "stream",
     "text": [
      "     Noise: 1.80 |  ALM->MTG  : 29/34\n"
     ]
    },
    {
     "name": "stderr",
     "output_type": "stream",
     "text": [
      "|████████████████| [100.00% ] : 00:30\n",
      "[matchings       ] [INFO    ] : mapped ALM                  to MTG                 \n",
      "[matchings       ] [INFO    ] : (34 common cell types)\n",
      "[matchings       ] [INFO    ] : 32/34 correct mappings\n",
      "[matchings       ] [INFO    ] : 2 /34 incorrect mappings\n"
     ]
    },
    {
     "name": "stdout",
     "output_type": "stream",
     "text": [
      "     Noise: 2.00 |  ALM->MTG  : 32/34\n"
     ]
    },
    {
     "name": "stderr",
     "output_type": "stream",
     "text": [
      "|████████████████| [100.00% ] : 00:31\n",
      "[matchings       ] [INFO    ] : mapped ALM                  to MTG                 \n",
      "[matchings       ] [INFO    ] : (34 common cell types)\n",
      "[matchings       ] [INFO    ] : 29/34 correct mappings\n",
      "[matchings       ] [INFO    ] : 5 /34 incorrect mappings\n"
     ]
    },
    {
     "name": "stdout",
     "output_type": "stream",
     "text": [
      "     Noise: 2.20 |  ALM->MTG  : 29/34\n"
     ]
    },
    {
     "name": "stderr",
     "output_type": "stream",
     "text": [
      "|████████████████| [100.00% ] : 00:31\n",
      "[matchings       ] [INFO    ] : mapped ALM                  to MTG                 \n",
      "[matchings       ] [INFO    ] : (34 common cell types)\n",
      "[matchings       ] [INFO    ] : 24/34 correct mappings\n",
      "[matchings       ] [INFO    ] : 10/34 incorrect mappings\n"
     ]
    },
    {
     "name": "stdout",
     "output_type": "stream",
     "text": [
      "     Noise: 2.40 |  ALM->MTG  : 24/34\n"
     ]
    },
    {
     "name": "stderr",
     "output_type": "stream",
     "text": [
      "|████████████████| [100.00% ] : 00:30\n",
      "[matchings       ] [INFO    ] : mapped ALM                  to MTG                 \n",
      "[matchings       ] [INFO    ] : (34 common cell types)\n",
      "[matchings       ] [INFO    ] : 27/34 correct mappings\n",
      "[matchings       ] [INFO    ] : 7 /34 incorrect mappings\n"
     ]
    },
    {
     "name": "stdout",
     "output_type": "stream",
     "text": [
      "     Noise: 2.60 |  ALM->MTG  : 27/34\n"
     ]
    },
    {
     "name": "stderr",
     "output_type": "stream",
     "text": [
      "|████████████████| [100.00% ] : 00:31\n",
      "[matchings       ] [INFO    ] : mapped ALM                  to MTG                 \n",
      "[matchings       ] [INFO    ] : (34 common cell types)\n",
      "[matchings       ] [INFO    ] : 25/34 correct mappings\n",
      "[matchings       ] [INFO    ] : 9 /34 incorrect mappings\n"
     ]
    },
    {
     "name": "stdout",
     "output_type": "stream",
     "text": [
      "     Noise: 2.80 |  ALM->MTG  : 25/34\n"
     ]
    },
    {
     "name": "stderr",
     "output_type": "stream",
     "text": [
      "|████████████████| [100.00% ] : 00:31\n",
      "[matchings       ] [INFO    ] : mapped ALM                  to MTG                 \n",
      "[matchings       ] [INFO    ] : (34 common cell types)\n",
      "[matchings       ] [INFO    ] : 28/34 correct mappings\n",
      "[matchings       ] [INFO    ] : 6 /34 incorrect mappings\n"
     ]
    },
    {
     "name": "stdout",
     "output_type": "stream",
     "text": [
      "     Noise: 3.00 |  ALM->MTG  : 28/34\n"
     ]
    },
    {
     "name": "stderr",
     "output_type": "stream",
     "text": [
      "|████████████████| [100.00% ] : 00:30\n",
      "[matchings       ] [INFO    ] : mapped ALM                  to MTG                 \n",
      "[matchings       ] [INFO    ] : (34 common cell types)\n",
      "[matchings       ] [INFO    ] : 27/34 correct mappings\n",
      "[matchings       ] [INFO    ] : 7 /34 incorrect mappings\n"
     ]
    },
    {
     "name": "stdout",
     "output_type": "stream",
     "text": [
      "     Noise: 3.20 |  ALM->MTG  : 27/34\n"
     ]
    },
    {
     "name": "stderr",
     "output_type": "stream",
     "text": [
      "|████████████████| [100.00% ] : 00:31\n",
      "[matchings       ] [INFO    ] : mapped ALM                  to MTG                 \n",
      "[matchings       ] [INFO    ] : (34 common cell types)\n",
      "[matchings       ] [INFO    ] : 19/34 correct mappings\n",
      "[matchings       ] [INFO    ] : 15/34 incorrect mappings\n"
     ]
    },
    {
     "name": "stdout",
     "output_type": "stream",
     "text": [
      "     Noise: 3.40 |  ALM->MTG  : 19/34\n"
     ]
    },
    {
     "name": "stderr",
     "output_type": "stream",
     "text": [
      "|████████████████| [100.00% ] : 00:31\n",
      "[matchings       ] [INFO    ] : mapped ALM                  to MTG                 \n",
      "[matchings       ] [INFO    ] : (34 common cell types)\n",
      "[matchings       ] [INFO    ] : 18/34 correct mappings\n",
      "[matchings       ] [INFO    ] : 16/34 incorrect mappings\n"
     ]
    },
    {
     "name": "stdout",
     "output_type": "stream",
     "text": [
      "     Noise: 3.60 |  ALM->MTG  : 18/34\n"
     ]
    },
    {
     "name": "stderr",
     "output_type": "stream",
     "text": [
      "|████████████████| [100.00% ] : 00:31\n",
      "[matchings       ] [INFO    ] : mapped ALM                  to MTG                 \n",
      "[matchings       ] [INFO    ] : (34 common cell types)\n",
      "[matchings       ] [INFO    ] : 20/34 correct mappings\n",
      "[matchings       ] [INFO    ] : 14/34 incorrect mappings\n"
     ]
    },
    {
     "name": "stdout",
     "output_type": "stream",
     "text": [
      "     Noise: 3.80 |  ALM->MTG  : 20/34\n"
     ]
    },
    {
     "name": "stderr",
     "output_type": "stream",
     "text": [
      "|████████████████| [100.00% ] : 00:30\n",
      "[matchings       ] [INFO    ] : mapped ALM                  to MTG                 \n",
      "[matchings       ] [INFO    ] : (34 common cell types)\n",
      "[matchings       ] [INFO    ] : 19/34 correct mappings\n",
      "[matchings       ] [INFO    ] : 15/34 incorrect mappings\n"
     ]
    },
    {
     "name": "stdout",
     "output_type": "stream",
     "text": [
      "     Noise: 4.00 |  ALM->MTG  : 19/34\n"
     ]
    },
    {
     "name": "stderr",
     "output_type": "stream",
     "text": [
      "|████████████████| [100.00% ] : 00:31\n",
      "[matchings       ] [INFO    ] : mapped ALM                  to MTG                 \n",
      "[matchings       ] [INFO    ] : (34 common cell types)\n",
      "[matchings       ] [INFO    ] : 17/34 correct mappings\n",
      "[matchings       ] [INFO    ] : 17/34 incorrect mappings\n"
     ]
    },
    {
     "name": "stdout",
     "output_type": "stream",
     "text": [
      "     Noise: 4.20 |  ALM->MTG  : 17/34\n"
     ]
    },
    {
     "name": "stderr",
     "output_type": "stream",
     "text": [
      "|████████████████| [100.00% ] : 00:32\n",
      "[matchings       ] [INFO    ] : mapped ALM                  to MTG                 \n",
      "[matchings       ] [INFO    ] : (34 common cell types)\n",
      "[matchings       ] [INFO    ] : 20/34 correct mappings\n",
      "[matchings       ] [INFO    ] : 14/34 incorrect mappings\n"
     ]
    },
    {
     "name": "stdout",
     "output_type": "stream",
     "text": [
      "     Noise: 4.40 |  ALM->MTG  : 20/34\n"
     ]
    },
    {
     "name": "stderr",
     "output_type": "stream",
     "text": [
      "|████████████████| [100.00% ] : 00:31\n",
      "[matchings       ] [INFO    ] : mapped ALM                  to MTG                 \n",
      "[matchings       ] [INFO    ] : (34 common cell types)\n",
      "[matchings       ] [INFO    ] : 18/34 correct mappings\n",
      "[matchings       ] [INFO    ] : 16/34 incorrect mappings\n"
     ]
    },
    {
     "name": "stdout",
     "output_type": "stream",
     "text": [
      "     Noise: 4.60 |  ALM->MTG  : 18/34\n"
     ]
    },
    {
     "name": "stderr",
     "output_type": "stream",
     "text": [
      "|████████████████| [100.00% ] : 00:31\n",
      "[matchings       ] [INFO    ] : mapped ALM                  to MTG                 \n",
      "[matchings       ] [INFO    ] : (34 common cell types)\n",
      "[matchings       ] [INFO    ] : 21/34 correct mappings\n",
      "[matchings       ] [INFO    ] : 13/34 incorrect mappings\n"
     ]
    },
    {
     "name": "stdout",
     "output_type": "stream",
     "text": [
      "     Noise: 4.80 |  ALM->MTG  : 21/34\n"
     ]
    },
    {
     "name": "stderr",
     "output_type": "stream",
     "text": [
      "|████████████████| [100.00% ] : 00:31\n",
      "[matchings       ] [INFO    ] : mapped ALM                  to MTG                 \n",
      "[matchings       ] [INFO    ] : (34 common cell types)\n",
      "[matchings       ] [INFO    ] : 22/34 correct mappings\n",
      "[matchings       ] [INFO    ] : 12/34 incorrect mappings\n"
     ]
    },
    {
     "name": "stdout",
     "output_type": "stream",
     "text": [
      "     Noise: 5.00 |  ALM->MTG  : 22/34\n"
     ]
    },
    {
     "name": "stderr",
     "output_type": "stream",
     "text": [
      "|████████████████| [100.00% ] : 00:28\n",
      "[matchings       ] [INFO    ] : mapped ALM                  to VISp                \n",
      "[matchings       ] [INFO    ] : (34 common cell types)\n",
      "[matchings       ] [INFO    ] : 34/34 correct mappings\n",
      "[matchings       ] [INFO    ] : 0 /34 incorrect mappings\n"
     ]
    },
    {
     "name": "stdout",
     "output_type": "stream",
     "text": [
      "     Noise: 0.00 |  ALM->VISp : 34/34\n"
     ]
    },
    {
     "name": "stderr",
     "output_type": "stream",
     "text": [
      "|████████████████| [100.00% ] : 00:28\n",
      "[matchings       ] [INFO    ] : mapped ALM                  to VISp                \n",
      "[matchings       ] [INFO    ] : (34 common cell types)\n",
      "[matchings       ] [INFO    ] : 34/34 correct mappings\n",
      "[matchings       ] [INFO    ] : 0 /34 incorrect mappings\n"
     ]
    },
    {
     "name": "stdout",
     "output_type": "stream",
     "text": [
      "     Noise: 0.20 |  ALM->VISp : 34/34\n"
     ]
    },
    {
     "name": "stderr",
     "output_type": "stream",
     "text": [
      "|████████████████| [100.00% ] : 00:28\n",
      "[matchings       ] [INFO    ] : mapped ALM                  to VISp                \n",
      "[matchings       ] [INFO    ] : (34 common cell types)\n",
      "[matchings       ] [INFO    ] : 34/34 correct mappings\n",
      "[matchings       ] [INFO    ] : 0 /34 incorrect mappings\n"
     ]
    },
    {
     "name": "stdout",
     "output_type": "stream",
     "text": [
      "     Noise: 0.40 |  ALM->VISp : 34/34\n"
     ]
    },
    {
     "name": "stderr",
     "output_type": "stream",
     "text": [
      "|████████████████| [100.00% ] : 00:28\n",
      "[matchings       ] [INFO    ] : mapped ALM                  to VISp                \n",
      "[matchings       ] [INFO    ] : (34 common cell types)\n",
      "[matchings       ] [INFO    ] : 34/34 correct mappings\n",
      "[matchings       ] [INFO    ] : 0 /34 incorrect mappings\n"
     ]
    },
    {
     "name": "stdout",
     "output_type": "stream",
     "text": [
      "     Noise: 0.60 |  ALM->VISp : 34/34\n"
     ]
    },
    {
     "name": "stderr",
     "output_type": "stream",
     "text": [
      "|████████████████| [100.00% ] : 00:29\n",
      "[matchings       ] [INFO    ] : mapped ALM                  to VISp                \n",
      "[matchings       ] [INFO    ] : (34 common cell types)\n",
      "[matchings       ] [INFO    ] : 34/34 correct mappings\n",
      "[matchings       ] [INFO    ] : 0 /34 incorrect mappings\n"
     ]
    },
    {
     "name": "stdout",
     "output_type": "stream",
     "text": [
      "     Noise: 0.80 |  ALM->VISp : 34/34\n"
     ]
    },
    {
     "name": "stderr",
     "output_type": "stream",
     "text": [
      "|████████████████| [100.00% ] : 00:28\n",
      "[matchings       ] [INFO    ] : mapped ALM                  to VISp                \n",
      "[matchings       ] [INFO    ] : (34 common cell types)\n",
      "[matchings       ] [INFO    ] : 34/34 correct mappings\n",
      "[matchings       ] [INFO    ] : 0 /34 incorrect mappings\n"
     ]
    },
    {
     "name": "stdout",
     "output_type": "stream",
     "text": [
      "     Noise: 1.00 |  ALM->VISp : 34/34\n"
     ]
    },
    {
     "name": "stderr",
     "output_type": "stream",
     "text": [
      "|████████████████| [100.00% ] : 00:30\n",
      "[matchings       ] [INFO    ] : mapped ALM                  to VISp                \n",
      "[matchings       ] [INFO    ] : (34 common cell types)\n",
      "[matchings       ] [INFO    ] : 32/34 correct mappings\n",
      "[matchings       ] [INFO    ] : 2 /34 incorrect mappings\n"
     ]
    },
    {
     "name": "stdout",
     "output_type": "stream",
     "text": [
      "     Noise: 1.20 |  ALM->VISp : 32/34\n"
     ]
    },
    {
     "name": "stderr",
     "output_type": "stream",
     "text": [
      "|████████████████| [100.00% ] : 00:29\n",
      "[matchings       ] [INFO    ] : mapped ALM                  to VISp                \n",
      "[matchings       ] [INFO    ] : (34 common cell types)\n",
      "[matchings       ] [INFO    ] : 34/34 correct mappings\n",
      "[matchings       ] [INFO    ] : 0 /34 incorrect mappings\n"
     ]
    },
    {
     "name": "stdout",
     "output_type": "stream",
     "text": [
      "     Noise: 1.40 |  ALM->VISp : 34/34\n"
     ]
    },
    {
     "name": "stderr",
     "output_type": "stream",
     "text": [
      "|████████████████| [100.00% ] : 00:29\n",
      "[matchings       ] [INFO    ] : mapped ALM                  to VISp                \n",
      "[matchings       ] [INFO    ] : (34 common cell types)\n",
      "[matchings       ] [INFO    ] : 34/34 correct mappings\n",
      "[matchings       ] [INFO    ] : 0 /34 incorrect mappings\n"
     ]
    },
    {
     "name": "stdout",
     "output_type": "stream",
     "text": [
      "     Noise: 1.60 |  ALM->VISp : 34/34\n"
     ]
    },
    {
     "name": "stderr",
     "output_type": "stream",
     "text": [
      "|████████████████| [100.00% ] : 00:29\n",
      "[matchings       ] [INFO    ] : mapped ALM                  to VISp                \n",
      "[matchings       ] [INFO    ] : (34 common cell types)\n",
      "[matchings       ] [INFO    ] : 32/34 correct mappings\n",
      "[matchings       ] [INFO    ] : 2 /34 incorrect mappings\n"
     ]
    },
    {
     "name": "stdout",
     "output_type": "stream",
     "text": [
      "     Noise: 1.80 |  ALM->VISp : 32/34\n"
     ]
    },
    {
     "name": "stderr",
     "output_type": "stream",
     "text": [
      "|████████████████| [100.00% ] : 00:29\n",
      "[matchings       ] [INFO    ] : mapped ALM                  to VISp                \n",
      "[matchings       ] [INFO    ] : (34 common cell types)\n",
      "[matchings       ] [INFO    ] : 32/34 correct mappings\n",
      "[matchings       ] [INFO    ] : 2 /34 incorrect mappings\n"
     ]
    },
    {
     "name": "stdout",
     "output_type": "stream",
     "text": [
      "     Noise: 2.00 |  ALM->VISp : 32/34\n"
     ]
    },
    {
     "name": "stderr",
     "output_type": "stream",
     "text": [
      "|████████████████| [100.00% ] : 00:29\n",
      "[matchings       ] [INFO    ] : mapped ALM                  to VISp                \n",
      "[matchings       ] [INFO    ] : (34 common cell types)\n",
      "[matchings       ] [INFO    ] : 32/34 correct mappings\n",
      "[matchings       ] [INFO    ] : 2 /34 incorrect mappings\n"
     ]
    },
    {
     "name": "stdout",
     "output_type": "stream",
     "text": [
      "     Noise: 2.20 |  ALM->VISp : 32/34\n"
     ]
    },
    {
     "name": "stderr",
     "output_type": "stream",
     "text": [
      "|████████████████| [100.00% ] : 00:30\n",
      "[matchings       ] [INFO    ] : mapped ALM                  to VISp                \n",
      "[matchings       ] [INFO    ] : (34 common cell types)\n",
      "[matchings       ] [INFO    ] : 32/34 correct mappings\n",
      "[matchings       ] [INFO    ] : 2 /34 incorrect mappings\n"
     ]
    },
    {
     "name": "stdout",
     "output_type": "stream",
     "text": [
      "     Noise: 2.40 |  ALM->VISp : 32/34\n"
     ]
    },
    {
     "name": "stderr",
     "output_type": "stream",
     "text": [
      "|████████████████| [100.00% ] : 00:30\n",
      "[matchings       ] [INFO    ] : mapped ALM                  to VISp                \n",
      "[matchings       ] [INFO    ] : (34 common cell types)\n",
      "[matchings       ] [INFO    ] : 32/34 correct mappings\n",
      "[matchings       ] [INFO    ] : 2 /34 incorrect mappings\n"
     ]
    },
    {
     "name": "stdout",
     "output_type": "stream",
     "text": [
      "     Noise: 2.60 |  ALM->VISp : 32/34\n"
     ]
    },
    {
     "name": "stderr",
     "output_type": "stream",
     "text": [
      "|████████████████| [100.00% ] : 00:30\n",
      "[matchings       ] [INFO    ] : mapped ALM                  to VISp                \n",
      "[matchings       ] [INFO    ] : (34 common cell types)\n",
      "[matchings       ] [INFO    ] : 32/34 correct mappings\n",
      "[matchings       ] [INFO    ] : 2 /34 incorrect mappings\n"
     ]
    },
    {
     "name": "stdout",
     "output_type": "stream",
     "text": [
      "     Noise: 2.80 |  ALM->VISp : 32/34\n"
     ]
    },
    {
     "name": "stderr",
     "output_type": "stream",
     "text": [
      "|████████████████| [100.00% ] : 00:30\n",
      "[matchings       ] [INFO    ] : mapped ALM                  to VISp                \n",
      "[matchings       ] [INFO    ] : (34 common cell types)\n",
      "[matchings       ] [INFO    ] : 31/34 correct mappings\n",
      "[matchings       ] [INFO    ] : 3 /34 incorrect mappings\n"
     ]
    },
    {
     "name": "stdout",
     "output_type": "stream",
     "text": [
      "     Noise: 3.00 |  ALM->VISp : 31/34\n"
     ]
    },
    {
     "name": "stderr",
     "output_type": "stream",
     "text": [
      "|████████████████| [100.00% ] : 00:29\n",
      "[matchings       ] [INFO    ] : mapped ALM                  to VISp                \n",
      "[matchings       ] [INFO    ] : (34 common cell types)\n",
      "[matchings       ] [INFO    ] : 32/34 correct mappings\n",
      "[matchings       ] [INFO    ] : 2 /34 incorrect mappings\n"
     ]
    },
    {
     "name": "stdout",
     "output_type": "stream",
     "text": [
      "     Noise: 3.20 |  ALM->VISp : 32/34\n"
     ]
    },
    {
     "name": "stderr",
     "output_type": "stream",
     "text": [
      "|████████████████| [100.00% ] : 00:30\n",
      "[matchings       ] [INFO    ] : mapped ALM                  to VISp                \n",
      "[matchings       ] [INFO    ] : (34 common cell types)\n",
      "[matchings       ] [INFO    ] : 34/34 correct mappings\n",
      "[matchings       ] [INFO    ] : 0 /34 incorrect mappings\n"
     ]
    },
    {
     "name": "stdout",
     "output_type": "stream",
     "text": [
      "     Noise: 3.40 |  ALM->VISp : 34/34\n"
     ]
    },
    {
     "name": "stderr",
     "output_type": "stream",
     "text": [
      "|████████████████| [100.00% ] : 00:30\n",
      "[matchings       ] [INFO    ] : mapped ALM                  to VISp                \n",
      "[matchings       ] [INFO    ] : (34 common cell types)\n",
      "[matchings       ] [INFO    ] : 32/34 correct mappings\n",
      "[matchings       ] [INFO    ] : 2 /34 incorrect mappings\n"
     ]
    },
    {
     "name": "stdout",
     "output_type": "stream",
     "text": [
      "     Noise: 3.60 |  ALM->VISp : 32/34\n"
     ]
    },
    {
     "name": "stderr",
     "output_type": "stream",
     "text": [
      "|████████████████| [100.00% ] : 00:30\n",
      "[matchings       ] [INFO    ] : mapped ALM                  to VISp                \n",
      "[matchings       ] [INFO    ] : (34 common cell types)\n",
      "[matchings       ] [INFO    ] : 32/34 correct mappings\n",
      "[matchings       ] [INFO    ] : 2 /34 incorrect mappings\n"
     ]
    },
    {
     "name": "stdout",
     "output_type": "stream",
     "text": [
      "     Noise: 3.80 |  ALM->VISp : 32/34\n"
     ]
    },
    {
     "name": "stderr",
     "output_type": "stream",
     "text": [
      "|████████████████| [100.00% ] : 00:30\n",
      "[matchings       ] [INFO    ] : mapped ALM                  to VISp                \n",
      "[matchings       ] [INFO    ] : (34 common cell types)\n",
      "[matchings       ] [INFO    ] : 32/34 correct mappings\n",
      "[matchings       ] [INFO    ] : 2 /34 incorrect mappings\n"
     ]
    },
    {
     "name": "stdout",
     "output_type": "stream",
     "text": [
      "     Noise: 4.00 |  ALM->VISp : 32/34\n"
     ]
    },
    {
     "name": "stderr",
     "output_type": "stream",
     "text": [
      "|████████████████| [100.00% ] : 00:30\n",
      "[matchings       ] [INFO    ] : mapped ALM                  to VISp                \n",
      "[matchings       ] [INFO    ] : (34 common cell types)\n",
      "[matchings       ] [INFO    ] : 32/34 correct mappings\n",
      "[matchings       ] [INFO    ] : 2 /34 incorrect mappings\n"
     ]
    },
    {
     "name": "stdout",
     "output_type": "stream",
     "text": [
      "     Noise: 4.20 |  ALM->VISp : 32/34\n"
     ]
    },
    {
     "name": "stderr",
     "output_type": "stream",
     "text": [
      "|████████████████| [100.00% ] : 00:30\n",
      "[matchings       ] [INFO    ] : mapped ALM                  to VISp                \n",
      "[matchings       ] [INFO    ] : (34 common cell types)\n",
      "[matchings       ] [INFO    ] : 32/34 correct mappings\n",
      "[matchings       ] [INFO    ] : 2 /34 incorrect mappings\n"
     ]
    },
    {
     "name": "stdout",
     "output_type": "stream",
     "text": [
      "     Noise: 4.40 |  ALM->VISp : 32/34\n"
     ]
    },
    {
     "name": "stderr",
     "output_type": "stream",
     "text": [
      "|████████████████| [100.00% ] : 00:30\n",
      "[matchings       ] [INFO    ] : mapped ALM                  to VISp                \n",
      "[matchings       ] [INFO    ] : (34 common cell types)\n",
      "[matchings       ] [INFO    ] : 32/34 correct mappings\n",
      "[matchings       ] [INFO    ] : 2 /34 incorrect mappings\n"
     ]
    },
    {
     "name": "stdout",
     "output_type": "stream",
     "text": [
      "     Noise: 4.60 |  ALM->VISp : 32/34\n"
     ]
    },
    {
     "name": "stderr",
     "output_type": "stream",
     "text": [
      "|████████████████| [100.00% ] : 00:30\n",
      "[matchings       ] [INFO    ] : mapped ALM                  to VISp                \n",
      "[matchings       ] [INFO    ] : (34 common cell types)\n",
      "[matchings       ] [INFO    ] : 32/34 correct mappings\n",
      "[matchings       ] [INFO    ] : 2 /34 incorrect mappings\n"
     ]
    },
    {
     "name": "stdout",
     "output_type": "stream",
     "text": [
      "     Noise: 4.80 |  ALM->VISp : 32/34\n"
     ]
    },
    {
     "name": "stderr",
     "output_type": "stream",
     "text": [
      "|████████████████| [100.00% ] : 00:30\n",
      "[matchings       ] [INFO    ] : mapped ALM                  to VISp                \n",
      "[matchings       ] [INFO    ] : (34 common cell types)\n",
      "[matchings       ] [INFO    ] : 31/34 correct mappings\n",
      "[matchings       ] [INFO    ] : 3 /34 incorrect mappings\n"
     ]
    },
    {
     "name": "stdout",
     "output_type": "stream",
     "text": [
      "     Noise: 5.00 |  ALM->VISp : 31/34\n"
     ]
    },
    {
     "name": "stderr",
     "output_type": "stream",
     "text": [
      "|████████████████| [100.00% ] : 00:48\n",
      "[matchings       ] [INFO    ] : mapped VISp                 to MTG                 \n",
      "[matchings       ] [INFO    ] : (34 common cell types)\n",
      "[matchings       ] [INFO    ] : 34/34 correct mappings\n",
      "[matchings       ] [INFO    ] : 0 /34 incorrect mappings\n"
     ]
    },
    {
     "name": "stdout",
     "output_type": "stream",
     "text": [
      "     Noise: 0.00 | VISp->MTG  : 34/34\n"
     ]
    },
    {
     "name": "stderr",
     "output_type": "stream",
     "text": [
      "|████████████████| [100.00% ] : 00:48\n",
      "[matchings       ] [INFO    ] : mapped VISp                 to MTG                 \n",
      "[matchings       ] [INFO    ] : (34 common cell types)\n",
      "[matchings       ] [INFO    ] : 32/34 correct mappings\n",
      "[matchings       ] [INFO    ] : 2 /34 incorrect mappings\n"
     ]
    },
    {
     "name": "stdout",
     "output_type": "stream",
     "text": [
      "     Noise: 0.20 | VISp->MTG  : 32/34\n"
     ]
    },
    {
     "name": "stderr",
     "output_type": "stream",
     "text": [
      "|████████████████| [100.00% ] : 00:47\n",
      "[matchings       ] [INFO    ] : mapped VISp                 to MTG                 \n",
      "[matchings       ] [INFO    ] : (34 common cell types)\n",
      "[matchings       ] [INFO    ] : 32/34 correct mappings\n",
      "[matchings       ] [INFO    ] : 2 /34 incorrect mappings\n"
     ]
    },
    {
     "name": "stdout",
     "output_type": "stream",
     "text": [
      "     Noise: 0.40 | VISp->MTG  : 32/34\n"
     ]
    },
    {
     "name": "stderr",
     "output_type": "stream",
     "text": [
      "|████████████████| [100.00% ] : 00:47\n",
      "[matchings       ] [INFO    ] : mapped VISp                 to MTG                 \n",
      "[matchings       ] [INFO    ] : (34 common cell types)\n",
      "[matchings       ] [INFO    ] : 32/34 correct mappings\n",
      "[matchings       ] [INFO    ] : 2 /34 incorrect mappings\n"
     ]
    },
    {
     "name": "stdout",
     "output_type": "stream",
     "text": [
      "     Noise: 0.60 | VISp->MTG  : 32/34\n"
     ]
    },
    {
     "name": "stderr",
     "output_type": "stream",
     "text": [
      "|████████████████| [100.00% ] : 00:47\n",
      "[matchings       ] [INFO    ] : mapped VISp                 to MTG                 \n",
      "[matchings       ] [INFO    ] : (34 common cell types)\n",
      "[matchings       ] [INFO    ] : 32/34 correct mappings\n",
      "[matchings       ] [INFO    ] : 2 /34 incorrect mappings\n"
     ]
    },
    {
     "name": "stdout",
     "output_type": "stream",
     "text": [
      "     Noise: 0.80 | VISp->MTG  : 32/34\n"
     ]
    },
    {
     "name": "stderr",
     "output_type": "stream",
     "text": [
      "|████████████████| [100.00% ] : 00:43\n",
      "[matchings       ] [INFO    ] : mapped VISp                 to MTG                 \n",
      "[matchings       ] [INFO    ] : (34 common cell types)\n",
      "[matchings       ] [INFO    ] : 32/34 correct mappings\n",
      "[matchings       ] [INFO    ] : 2 /34 incorrect mappings\n"
     ]
    },
    {
     "name": "stdout",
     "output_type": "stream",
     "text": [
      "     Noise: 1.00 | VISp->MTG  : 32/34\n"
     ]
    },
    {
     "name": "stderr",
     "output_type": "stream",
     "text": [
      "|████████████████| [100.00% ] : 00:47\n",
      "[matchings       ] [INFO    ] : mapped VISp                 to MTG                 \n",
      "[matchings       ] [INFO    ] : (34 common cell types)\n",
      "[matchings       ] [INFO    ] : 32/34 correct mappings\n",
      "[matchings       ] [INFO    ] : 2 /34 incorrect mappings\n"
     ]
    },
    {
     "name": "stdout",
     "output_type": "stream",
     "text": [
      "     Noise: 1.20 | VISp->MTG  : 32/34\n"
     ]
    },
    {
     "name": "stderr",
     "output_type": "stream",
     "text": [
      "|████████████████| [100.00% ] : 00:46\n",
      "[matchings       ] [INFO    ] : mapped VISp                 to MTG                 \n",
      "[matchings       ] [INFO    ] : (34 common cell types)\n",
      "[matchings       ] [INFO    ] : 32/34 correct mappings\n",
      "[matchings       ] [INFO    ] : 2 /34 incorrect mappings\n"
     ]
    },
    {
     "name": "stdout",
     "output_type": "stream",
     "text": [
      "     Noise: 1.40 | VISp->MTG  : 32/34\n"
     ]
    },
    {
     "name": "stderr",
     "output_type": "stream",
     "text": [
      "|████████████████| [100.00% ] : 00:43\n",
      "[matchings       ] [INFO    ] : mapped VISp                 to MTG                 \n",
      "[matchings       ] [INFO    ] : (34 common cell types)\n",
      "[matchings       ] [INFO    ] : 32/34 correct mappings\n",
      "[matchings       ] [INFO    ] : 2 /34 incorrect mappings\n"
     ]
    },
    {
     "name": "stdout",
     "output_type": "stream",
     "text": [
      "     Noise: 1.60 | VISp->MTG  : 32/34\n"
     ]
    },
    {
     "name": "stderr",
     "output_type": "stream",
     "text": [
      "|████████████████| [100.00% ] : 00:43\n",
      "[matchings       ] [INFO    ] : mapped VISp                 to MTG                 \n",
      "[matchings       ] [INFO    ] : (34 common cell types)\n",
      "[matchings       ] [INFO    ] : 32/34 correct mappings\n",
      "[matchings       ] [INFO    ] : 2 /34 incorrect mappings\n"
     ]
    },
    {
     "name": "stdout",
     "output_type": "stream",
     "text": [
      "     Noise: 1.80 | VISp->MTG  : 32/34\n"
     ]
    },
    {
     "name": "stderr",
     "output_type": "stream",
     "text": [
      "|████████████████| [100.00% ] : 00:47\n",
      "[matchings       ] [INFO    ] : mapped VISp                 to MTG                 \n",
      "[matchings       ] [INFO    ] : (34 common cell types)\n",
      "[matchings       ] [INFO    ] : 32/34 correct mappings\n",
      "[matchings       ] [INFO    ] : 2 /34 incorrect mappings\n"
     ]
    },
    {
     "name": "stdout",
     "output_type": "stream",
     "text": [
      "     Noise: 2.00 | VISp->MTG  : 32/34\n"
     ]
    },
    {
     "name": "stderr",
     "output_type": "stream",
     "text": [
      "|████████████████| [100.00% ] : 00:46\n",
      "[matchings       ] [INFO    ] : mapped VISp                 to MTG                 \n",
      "[matchings       ] [INFO    ] : (34 common cell types)\n",
      "[matchings       ] [INFO    ] : 32/34 correct mappings\n",
      "[matchings       ] [INFO    ] : 2 /34 incorrect mappings\n"
     ]
    },
    {
     "name": "stdout",
     "output_type": "stream",
     "text": [
      "     Noise: 2.20 | VISp->MTG  : 32/34\n"
     ]
    },
    {
     "name": "stderr",
     "output_type": "stream",
     "text": [
      "|████████████████| [100.00% ] : 00:46\n",
      "[matchings       ] [INFO    ] : mapped VISp                 to MTG                 \n",
      "[matchings       ] [INFO    ] : (34 common cell types)\n",
      "[matchings       ] [INFO    ] : 31/34 correct mappings\n",
      "[matchings       ] [INFO    ] : 3 /34 incorrect mappings\n"
     ]
    },
    {
     "name": "stdout",
     "output_type": "stream",
     "text": [
      "     Noise: 2.40 | VISp->MTG  : 31/34\n"
     ]
    },
    {
     "name": "stderr",
     "output_type": "stream",
     "text": [
      "|████████████████| [100.00% ] : 00:43\n",
      "[matchings       ] [INFO    ] : mapped VISp                 to MTG                 \n",
      "[matchings       ] [INFO    ] : (34 common cell types)\n",
      "[matchings       ] [INFO    ] : 31/34 correct mappings\n",
      "[matchings       ] [INFO    ] : 3 /34 incorrect mappings\n"
     ]
    },
    {
     "name": "stdout",
     "output_type": "stream",
     "text": [
      "     Noise: 2.60 | VISp->MTG  : 31/34\n"
     ]
    },
    {
     "name": "stderr",
     "output_type": "stream",
     "text": [
      "|████████████████| [100.00% ] : 00:47\n",
      "[matchings       ] [INFO    ] : mapped VISp                 to MTG                 \n",
      "[matchings       ] [INFO    ] : (34 common cell types)\n",
      "[matchings       ] [INFO    ] : 32/34 correct mappings\n",
      "[matchings       ] [INFO    ] : 2 /34 incorrect mappings\n"
     ]
    },
    {
     "name": "stdout",
     "output_type": "stream",
     "text": [
      "     Noise: 2.80 | VISp->MTG  : 32/34\n"
     ]
    },
    {
     "name": "stderr",
     "output_type": "stream",
     "text": [
      "|████████████████| [100.00% ] : 00:46\n",
      "[matchings       ] [INFO    ] : mapped VISp                 to MTG                 \n",
      "[matchings       ] [INFO    ] : (34 common cell types)\n",
      "[matchings       ] [INFO    ] : 34/34 correct mappings\n",
      "[matchings       ] [INFO    ] : 0 /34 incorrect mappings\n"
     ]
    },
    {
     "name": "stdout",
     "output_type": "stream",
     "text": [
      "     Noise: 3.00 | VISp->MTG  : 34/34\n"
     ]
    },
    {
     "name": "stderr",
     "output_type": "stream",
     "text": [
      "|████████████████| [100.00% ] : 00:46\n",
      "[matchings       ] [INFO    ] : mapped VISp                 to MTG                 \n",
      "[matchings       ] [INFO    ] : (34 common cell types)\n",
      "[matchings       ] [INFO    ] : 27/34 correct mappings\n",
      "[matchings       ] [INFO    ] : 7 /34 incorrect mappings\n"
     ]
    },
    {
     "name": "stdout",
     "output_type": "stream",
     "text": [
      "     Noise: 3.20 | VISp->MTG  : 27/34\n"
     ]
    },
    {
     "name": "stderr",
     "output_type": "stream",
     "text": [
      "|████████████████| [100.00% ] : 00:43\n",
      "[matchings       ] [INFO    ] : mapped VISp                 to MTG                 \n",
      "[matchings       ] [INFO    ] : (34 common cell types)\n",
      "[matchings       ] [INFO    ] : 29/34 correct mappings\n",
      "[matchings       ] [INFO    ] : 5 /34 incorrect mappings\n"
     ]
    },
    {
     "name": "stdout",
     "output_type": "stream",
     "text": [
      "     Noise: 3.40 | VISp->MTG  : 29/34\n"
     ]
    },
    {
     "name": "stderr",
     "output_type": "stream",
     "text": [
      "|████████████████| [100.00% ] : 00:47\n",
      "[matchings       ] [INFO    ] : mapped VISp                 to MTG                 \n",
      "[matchings       ] [INFO    ] : (34 common cell types)\n",
      "[matchings       ] [INFO    ] : 30/34 correct mappings\n",
      "[matchings       ] [INFO    ] : 4 /34 incorrect mappings\n"
     ]
    },
    {
     "name": "stdout",
     "output_type": "stream",
     "text": [
      "     Noise: 3.60 | VISp->MTG  : 30/34\n"
     ]
    },
    {
     "name": "stderr",
     "output_type": "stream",
     "text": [
      "|████████████████| [100.00% ] : 00:43\n",
      "[matchings       ] [INFO    ] : mapped VISp                 to MTG                 \n",
      "[matchings       ] [INFO    ] : (34 common cell types)\n",
      "[matchings       ] [INFO    ] : 29/34 correct mappings\n",
      "[matchings       ] [INFO    ] : 5 /34 incorrect mappings\n"
     ]
    },
    {
     "name": "stdout",
     "output_type": "stream",
     "text": [
      "     Noise: 3.80 | VISp->MTG  : 29/34\n"
     ]
    },
    {
     "name": "stderr",
     "output_type": "stream",
     "text": [
      "|████████████████| [100.00% ] : 00:46\n",
      "[matchings       ] [INFO    ] : mapped VISp                 to MTG                 \n",
      "[matchings       ] [INFO    ] : (34 common cell types)\n",
      "[matchings       ] [INFO    ] : 29/34 correct mappings\n",
      "[matchings       ] [INFO    ] : 5 /34 incorrect mappings\n"
     ]
    },
    {
     "name": "stdout",
     "output_type": "stream",
     "text": [
      "     Noise: 4.00 | VISp->MTG  : 29/34\n"
     ]
    },
    {
     "name": "stderr",
     "output_type": "stream",
     "text": [
      "|████████████████| [100.00% ] : 00:46\n",
      "[matchings       ] [INFO    ] : mapped VISp                 to MTG                 \n",
      "[matchings       ] [INFO    ] : (34 common cell types)\n",
      "[matchings       ] [INFO    ] : 29/34 correct mappings\n",
      "[matchings       ] [INFO    ] : 5 /34 incorrect mappings\n"
     ]
    },
    {
     "name": "stdout",
     "output_type": "stream",
     "text": [
      "     Noise: 4.20 | VISp->MTG  : 29/34\n"
     ]
    },
    {
     "name": "stderr",
     "output_type": "stream",
     "text": [
      "|████████████████| [100.00% ] : 00:44\n",
      "[matchings       ] [INFO    ] : mapped VISp                 to MTG                 \n",
      "[matchings       ] [INFO    ] : (34 common cell types)\n",
      "[matchings       ] [INFO    ] : 23/34 correct mappings\n",
      "[matchings       ] [INFO    ] : 11/34 incorrect mappings\n"
     ]
    },
    {
     "name": "stdout",
     "output_type": "stream",
     "text": [
      "     Noise: 4.40 | VISp->MTG  : 23/34\n"
     ]
    },
    {
     "name": "stderr",
     "output_type": "stream",
     "text": [
      "|████████████████| [100.00% ] : 00:47\n",
      "[matchings       ] [INFO    ] : mapped VISp                 to MTG                 \n",
      "[matchings       ] [INFO    ] : (34 common cell types)\n",
      "[matchings       ] [INFO    ] : 27/34 correct mappings\n",
      "[matchings       ] [INFO    ] : 7 /34 incorrect mappings\n"
     ]
    },
    {
     "name": "stdout",
     "output_type": "stream",
     "text": [
      "     Noise: 4.60 | VISp->MTG  : 27/34\n"
     ]
    },
    {
     "name": "stderr",
     "output_type": "stream",
     "text": [
      "|████████████████| [100.00% ] : 00:47\n",
      "[matchings       ] [INFO    ] : mapped VISp                 to MTG                 \n",
      "[matchings       ] [INFO    ] : (34 common cell types)\n",
      "[matchings       ] [INFO    ] : 29/34 correct mappings\n",
      "[matchings       ] [INFO    ] : 5 /34 incorrect mappings\n"
     ]
    },
    {
     "name": "stdout",
     "output_type": "stream",
     "text": [
      "     Noise: 4.80 | VISp->MTG  : 29/34\n"
     ]
    },
    {
     "name": "stderr",
     "output_type": "stream",
     "text": [
      "|████████████████| [100.00% ] : 00:46\n",
      "[matchings       ] [INFO    ] : mapped VISp                 to MTG                 \n",
      "[matchings       ] [INFO    ] : (34 common cell types)\n",
      "[matchings       ] [INFO    ] : 34/34 correct mappings\n",
      "[matchings       ] [INFO    ] : 0 /34 incorrect mappings\n"
     ]
    },
    {
     "name": "stdout",
     "output_type": "stream",
     "text": [
      "     Noise: 5.00 | VISp->MTG  : 34/34\n"
     ]
    },
    {
     "name": "stderr",
     "output_type": "stream",
     "text": [
      "|████████████████| [100.00% ] : 00:27\n",
      "[matchings       ] [INFO    ] : mapped VISp                 to ALM                 \n",
      "[matchings       ] [INFO    ] : (34 common cell types)\n",
      "[matchings       ] [INFO    ] : 34/34 correct mappings\n",
      "[matchings       ] [INFO    ] : 0 /34 incorrect mappings\n"
     ]
    },
    {
     "name": "stdout",
     "output_type": "stream",
     "text": [
      "     Noise: 0.00 | VISp->ALM  : 34/34\n"
     ]
    },
    {
     "name": "stderr",
     "output_type": "stream",
     "text": [
      "|████████████████| [100.00% ] : 00:26\n",
      "[matchings       ] [INFO    ] : mapped VISp                 to ALM                 \n",
      "[matchings       ] [INFO    ] : (34 common cell types)\n",
      "[matchings       ] [INFO    ] : 34/34 correct mappings\n",
      "[matchings       ] [INFO    ] : 0 /34 incorrect mappings\n"
     ]
    },
    {
     "name": "stdout",
     "output_type": "stream",
     "text": [
      "     Noise: 0.20 | VISp->ALM  : 34/34\n"
     ]
    },
    {
     "name": "stderr",
     "output_type": "stream",
     "text": [
      "|████████████████| [100.00% ] : 00:27\n",
      "[matchings       ] [INFO    ] : mapped VISp                 to ALM                 \n",
      "[matchings       ] [INFO    ] : (34 common cell types)\n",
      "[matchings       ] [INFO    ] : 34/34 correct mappings\n",
      "[matchings       ] [INFO    ] : 0 /34 incorrect mappings\n"
     ]
    },
    {
     "name": "stdout",
     "output_type": "stream",
     "text": [
      "     Noise: 0.40 | VISp->ALM  : 34/34\n"
     ]
    },
    {
     "name": "stderr",
     "output_type": "stream",
     "text": [
      "|████████████████| [100.00% ] : 00:27\n",
      "[matchings       ] [INFO    ] : mapped VISp                 to ALM                 \n",
      "[matchings       ] [INFO    ] : (34 common cell types)\n",
      "[matchings       ] [INFO    ] : 34/34 correct mappings\n",
      "[matchings       ] [INFO    ] : 0 /34 incorrect mappings\n"
     ]
    },
    {
     "name": "stdout",
     "output_type": "stream",
     "text": [
      "     Noise: 0.60 | VISp->ALM  : 34/34\n"
     ]
    },
    {
     "name": "stderr",
     "output_type": "stream",
     "text": [
      "|████████████████| [100.00% ] : 00:27\n",
      "[matchings       ] [INFO    ] : mapped VISp                 to ALM                 \n",
      "[matchings       ] [INFO    ] : (34 common cell types)\n",
      "[matchings       ] [INFO    ] : 34/34 correct mappings\n",
      "[matchings       ] [INFO    ] : 0 /34 incorrect mappings\n"
     ]
    },
    {
     "name": "stdout",
     "output_type": "stream",
     "text": [
      "     Noise: 0.80 | VISp->ALM  : 34/34\n"
     ]
    },
    {
     "name": "stderr",
     "output_type": "stream",
     "text": [
      "|████████████████| [100.00% ] : 00:27\n",
      "[matchings       ] [INFO    ] : mapped VISp                 to ALM                 \n",
      "[matchings       ] [INFO    ] : (34 common cell types)\n",
      "[matchings       ] [INFO    ] : 34/34 correct mappings\n",
      "[matchings       ] [INFO    ] : 0 /34 incorrect mappings\n"
     ]
    },
    {
     "name": "stdout",
     "output_type": "stream",
     "text": [
      "     Noise: 1.00 | VISp->ALM  : 34/34\n"
     ]
    },
    {
     "name": "stderr",
     "output_type": "stream",
     "text": [
      "|████████████████| [100.00% ] : 00:27\n",
      "[matchings       ] [INFO    ] : mapped VISp                 to ALM                 \n",
      "[matchings       ] [INFO    ] : (34 common cell types)\n",
      "[matchings       ] [INFO    ] : 34/34 correct mappings\n",
      "[matchings       ] [INFO    ] : 0 /34 incorrect mappings\n"
     ]
    },
    {
     "name": "stdout",
     "output_type": "stream",
     "text": [
      "     Noise: 1.20 | VISp->ALM  : 34/34\n"
     ]
    },
    {
     "name": "stderr",
     "output_type": "stream",
     "text": [
      "|████████████████| [100.00% ] : 00:27\n",
      "[matchings       ] [INFO    ] : mapped VISp                 to ALM                 \n",
      "[matchings       ] [INFO    ] : (34 common cell types)\n",
      "[matchings       ] [INFO    ] : 32/34 correct mappings\n",
      "[matchings       ] [INFO    ] : 2 /34 incorrect mappings\n"
     ]
    },
    {
     "name": "stdout",
     "output_type": "stream",
     "text": [
      "     Noise: 1.40 | VISp->ALM  : 32/34\n"
     ]
    },
    {
     "name": "stderr",
     "output_type": "stream",
     "text": [
      "|████████████████| [100.00% ] : 00:28\n",
      "[matchings       ] [INFO    ] : mapped VISp                 to ALM                 \n",
      "[matchings       ] [INFO    ] : (34 common cell types)\n",
      "[matchings       ] [INFO    ] : 32/34 correct mappings\n",
      "[matchings       ] [INFO    ] : 2 /34 incorrect mappings\n"
     ]
    },
    {
     "name": "stdout",
     "output_type": "stream",
     "text": [
      "     Noise: 1.60 | VISp->ALM  : 32/34\n"
     ]
    },
    {
     "name": "stderr",
     "output_type": "stream",
     "text": [
      "|████████████████| [100.00% ] : 00:28\n",
      "[matchings       ] [INFO    ] : mapped VISp                 to ALM                 \n",
      "[matchings       ] [INFO    ] : (34 common cell types)\n",
      "[matchings       ] [INFO    ] : 32/34 correct mappings\n",
      "[matchings       ] [INFO    ] : 2 /34 incorrect mappings\n"
     ]
    },
    {
     "name": "stdout",
     "output_type": "stream",
     "text": [
      "     Noise: 1.80 | VISp->ALM  : 32/34\n"
     ]
    },
    {
     "name": "stderr",
     "output_type": "stream",
     "text": [
      "|████████████████| [100.00% ] : 00:28\n",
      "[matchings       ] [INFO    ] : mapped VISp                 to ALM                 \n",
      "[matchings       ] [INFO    ] : (34 common cell types)\n",
      "[matchings       ] [INFO    ] : 34/34 correct mappings\n",
      "[matchings       ] [INFO    ] : 0 /34 incorrect mappings\n"
     ]
    },
    {
     "name": "stdout",
     "output_type": "stream",
     "text": [
      "     Noise: 2.00 | VISp->ALM  : 34/34\n"
     ]
    },
    {
     "name": "stderr",
     "output_type": "stream",
     "text": [
      "|████████████████| [100.00% ] : 00:28\n",
      "[matchings       ] [INFO    ] : mapped VISp                 to ALM                 \n",
      "[matchings       ] [INFO    ] : (34 common cell types)\n",
      "[matchings       ] [INFO    ] : 32/34 correct mappings\n",
      "[matchings       ] [INFO    ] : 2 /34 incorrect mappings\n"
     ]
    },
    {
     "name": "stdout",
     "output_type": "stream",
     "text": [
      "     Noise: 2.20 | VISp->ALM  : 32/34\n"
     ]
    },
    {
     "name": "stderr",
     "output_type": "stream",
     "text": [
      "|████████████████| [100.00% ] : 00:28\n",
      "[matchings       ] [INFO    ] : mapped VISp                 to ALM                 \n",
      "[matchings       ] [INFO    ] : (34 common cell types)\n",
      "[matchings       ] [INFO    ] : 32/34 correct mappings\n",
      "[matchings       ] [INFO    ] : 2 /34 incorrect mappings\n"
     ]
    },
    {
     "name": "stdout",
     "output_type": "stream",
     "text": [
      "     Noise: 2.40 | VISp->ALM  : 32/34\n"
     ]
    },
    {
     "name": "stderr",
     "output_type": "stream",
     "text": [
      "|████████████████| [100.00% ] : 00:28\n",
      "[matchings       ] [INFO    ] : mapped VISp                 to ALM                 \n",
      "[matchings       ] [INFO    ] : (34 common cell types)\n",
      "[matchings       ] [INFO    ] : 32/34 correct mappings\n",
      "[matchings       ] [INFO    ] : 2 /34 incorrect mappings\n"
     ]
    },
    {
     "name": "stdout",
     "output_type": "stream",
     "text": [
      "     Noise: 2.60 | VISp->ALM  : 32/34\n"
     ]
    },
    {
     "name": "stderr",
     "output_type": "stream",
     "text": [
      "|████████████████| [100.00% ] : 00:28\n",
      "[matchings       ] [INFO    ] : mapped VISp                 to ALM                 \n",
      "[matchings       ] [INFO    ] : (34 common cell types)\n",
      "[matchings       ] [INFO    ] : 32/34 correct mappings\n",
      "[matchings       ] [INFO    ] : 2 /34 incorrect mappings\n"
     ]
    },
    {
     "name": "stdout",
     "output_type": "stream",
     "text": [
      "     Noise: 2.80 | VISp->ALM  : 32/34\n"
     ]
    },
    {
     "name": "stderr",
     "output_type": "stream",
     "text": [
      "|████████████████| [100.00% ] : 00:28\n",
      "[matchings       ] [INFO    ] : mapped VISp                 to ALM                 \n",
      "[matchings       ] [INFO    ] : (34 common cell types)\n",
      "[matchings       ] [INFO    ] : 32/34 correct mappings\n",
      "[matchings       ] [INFO    ] : 2 /34 incorrect mappings\n"
     ]
    },
    {
     "name": "stdout",
     "output_type": "stream",
     "text": [
      "     Noise: 3.00 | VISp->ALM  : 32/34\n"
     ]
    },
    {
     "name": "stderr",
     "output_type": "stream",
     "text": [
      "|████████████████| [100.00% ] : 00:28\n",
      "[matchings       ] [INFO    ] : mapped VISp                 to ALM                 \n",
      "[matchings       ] [INFO    ] : (34 common cell types)\n",
      "[matchings       ] [INFO    ] : 32/34 correct mappings\n",
      "[matchings       ] [INFO    ] : 2 /34 incorrect mappings\n"
     ]
    },
    {
     "name": "stdout",
     "output_type": "stream",
     "text": [
      "     Noise: 3.20 | VISp->ALM  : 32/34\n"
     ]
    },
    {
     "name": "stderr",
     "output_type": "stream",
     "text": [
      "|████████████████| [100.00% ] : 00:28\n",
      "[matchings       ] [INFO    ] : mapped VISp                 to ALM                 \n",
      "[matchings       ] [INFO    ] : (34 common cell types)\n",
      "[matchings       ] [INFO    ] : 32/34 correct mappings\n",
      "[matchings       ] [INFO    ] : 2 /34 incorrect mappings\n"
     ]
    },
    {
     "name": "stdout",
     "output_type": "stream",
     "text": [
      "     Noise: 3.40 | VISp->ALM  : 32/34\n"
     ]
    },
    {
     "name": "stderr",
     "output_type": "stream",
     "text": [
      "|████████████████| [100.00% ] : 00:28\n",
      "[matchings       ] [INFO    ] : mapped VISp                 to ALM                 \n",
      "[matchings       ] [INFO    ] : (34 common cell types)\n",
      "[matchings       ] [INFO    ] : 32/34 correct mappings\n",
      "[matchings       ] [INFO    ] : 2 /34 incorrect mappings\n"
     ]
    },
    {
     "name": "stdout",
     "output_type": "stream",
     "text": [
      "     Noise: 3.60 | VISp->ALM  : 32/34\n"
     ]
    },
    {
     "name": "stderr",
     "output_type": "stream",
     "text": [
      "|████████████████| [100.00% ] : 00:29\n",
      "[matchings       ] [INFO    ] : mapped VISp                 to ALM                 \n",
      "[matchings       ] [INFO    ] : (34 common cell types)\n",
      "[matchings       ] [INFO    ] : 32/34 correct mappings\n",
      "[matchings       ] [INFO    ] : 2 /34 incorrect mappings\n"
     ]
    },
    {
     "name": "stdout",
     "output_type": "stream",
     "text": [
      "     Noise: 3.80 | VISp->ALM  : 32/34\n"
     ]
    },
    {
     "name": "stderr",
     "output_type": "stream",
     "text": [
      "|████████████████| [100.00% ] : 00:29\n",
      "[matchings       ] [INFO    ] : mapped VISp                 to ALM                 \n",
      "[matchings       ] [INFO    ] : (34 common cell types)\n",
      "[matchings       ] [INFO    ] : 32/34 correct mappings\n",
      "[matchings       ] [INFO    ] : 2 /34 incorrect mappings\n"
     ]
    },
    {
     "name": "stdout",
     "output_type": "stream",
     "text": [
      "     Noise: 4.00 | VISp->ALM  : 32/34\n"
     ]
    },
    {
     "name": "stderr",
     "output_type": "stream",
     "text": [
      "|████████████████| [100.00% ] : 00:29\n",
      "[matchings       ] [INFO    ] : mapped VISp                 to ALM                 \n",
      "[matchings       ] [INFO    ] : (34 common cell types)\n",
      "[matchings       ] [INFO    ] : 32/34 correct mappings\n",
      "[matchings       ] [INFO    ] : 2 /34 incorrect mappings\n"
     ]
    },
    {
     "name": "stdout",
     "output_type": "stream",
     "text": [
      "     Noise: 4.20 | VISp->ALM  : 32/34\n"
     ]
    },
    {
     "name": "stderr",
     "output_type": "stream",
     "text": [
      "|████████████████| [100.00% ] : 00:28\n",
      "[matchings       ] [INFO    ] : mapped VISp                 to ALM                 \n",
      "[matchings       ] [INFO    ] : (34 common cell types)\n",
      "[matchings       ] [INFO    ] : 32/34 correct mappings\n",
      "[matchings       ] [INFO    ] : 2 /34 incorrect mappings\n"
     ]
    },
    {
     "name": "stdout",
     "output_type": "stream",
     "text": [
      "     Noise: 4.40 | VISp->ALM  : 32/34\n"
     ]
    },
    {
     "name": "stderr",
     "output_type": "stream",
     "text": [
      "|████████████████| [100.00% ] : 00:28\n",
      "[matchings       ] [INFO    ] : mapped VISp                 to ALM                 \n",
      "[matchings       ] [INFO    ] : (34 common cell types)\n",
      "[matchings       ] [INFO    ] : 32/34 correct mappings\n",
      "[matchings       ] [INFO    ] : 2 /34 incorrect mappings\n"
     ]
    },
    {
     "name": "stdout",
     "output_type": "stream",
     "text": [
      "     Noise: 4.60 | VISp->ALM  : 32/34\n"
     ]
    },
    {
     "name": "stderr",
     "output_type": "stream",
     "text": [
      "|████████████████| [100.00% ] : 00:28\n",
      "[matchings       ] [INFO    ] : mapped VISp                 to ALM                 \n",
      "[matchings       ] [INFO    ] : (34 common cell types)\n",
      "[matchings       ] [INFO    ] : 32/34 correct mappings\n",
      "[matchings       ] [INFO    ] : 2 /34 incorrect mappings\n"
     ]
    },
    {
     "name": "stdout",
     "output_type": "stream",
     "text": [
      "     Noise: 4.80 | VISp->ALM  : 32/34\n"
     ]
    },
    {
     "name": "stderr",
     "output_type": "stream",
     "text": [
      "|████████████████| [100.00% ] : 00:28\n",
      "[matchings       ] [INFO    ] : mapped VISp                 to ALM                 \n",
      "[matchings       ] [INFO    ] : (34 common cell types)\n",
      "[matchings       ] [INFO    ] : 32/34 correct mappings\n",
      "[matchings       ] [INFO    ] : 2 /34 incorrect mappings\n"
     ]
    },
    {
     "name": "stdout",
     "output_type": "stream",
     "text": [
      "     Noise: 5.00 | VISp->ALM  : 32/34\n"
     ]
    }
   ],
   "source": [
    "rcm = RefCM(cache_load=False, cache_save=False)\n",
    "\n",
    "epsilons = [round(e, 2) for e in np.linspace(0, 5, 26)]\n",
    "combinations = [(q, ref) for q in dss for ref in dss if q != ref]\n",
    "results = np.zeros((len(combinations), len(epsilons)))\n",
    "\n",
    "for i, (q, ref) in enumerate(combinations):    \n",
    "    \n",
    "    for j, epsilon in enumerate(epsilons):\n",
    "        \n",
    "        # add noise and run refcm\n",
    "        add_measurement_noise(dss[q], epsilon)\n",
    "        m = rcm.annotate(dss[q], q, dss[ref], ref, 'labels34', 'labels34')\n",
    "        m.eval(ground_truth_obs_key='labels34')\n",
    "        \n",
    "        # retrieve the number of correct clusters mapped\n",
    "        results[i, j] = m.n_correct\n",
    "        \n",
    "        # undo measurement noise and report results\n",
    "        undo_measurement_noise(dss[q])\n",
    "        print(f'     Noise: {epsilon:.2f} | {q:>4}->{ref:<4} : {int(results[i, j]):<2}/34')\n",
    "        "
   ]
  },
  {
   "cell_type": "code",
   "execution_count": 5,
   "metadata": {},
   "outputs": [
    {
     "data": {
      "application/vnd.plotly.v1+json": {
       "config": {
        "plotlyServerURL": "https://plot.ly"
       },
       "data": [
        {
         "coloraxis": "coloraxis",
         "hovertemplate": "Noise (std devs): %{x}<br>Query->Ref: %{y}<br>correct clusters (/34): %{z}<extra></extra>",
         "name": "0",
         "type": "heatmap",
         "x": [
          0,
          0.2,
          0.4,
          0.6,
          0.8,
          1,
          1.2,
          1.4,
          1.6,
          1.8,
          2,
          2.2,
          2.4,
          2.6,
          2.8,
          3,
          3.2,
          3.4,
          3.6,
          3.8,
          4,
          4.2,
          4.4,
          4.6,
          4.8,
          5
         ],
         "xaxis": "x",
         "y": [
          "MTG -> ALM",
          "MTG -> VISp",
          "ALM -> MTG",
          "ALM -> VISp",
          "VISp -> MTG",
          "VISp -> ALM"
         ],
         "yaxis": "y",
         "z": [
          [
           34,
           34,
           34,
           34,
           34,
           34,
           34,
           34,
           34,
           34,
           34,
           32,
           34,
           34,
           32,
           34,
           34,
           29,
           30,
           30,
           27,
           31,
           30,
           29,
           26,
           31
          ],
          [
           34,
           34,
           34,
           34,
           34,
           34,
           34,
           34,
           34,
           34,
           34,
           34,
           32,
           32,
           34,
           34,
           34,
           34,
           32,
           29,
           31,
           32,
           32,
           34,
           32,
           32
          ],
          [
           34,
           34,
           32,
           34,
           32,
           34,
           32,
           34,
           30,
           29,
           32,
           29,
           24,
           27,
           25,
           28,
           27,
           19,
           18,
           20,
           19,
           17,
           20,
           18,
           21,
           22
          ],
          [
           34,
           34,
           34,
           34,
           34,
           34,
           32,
           34,
           34,
           32,
           32,
           32,
           32,
           32,
           32,
           31,
           32,
           34,
           32,
           32,
           32,
           32,
           32,
           32,
           32,
           31
          ],
          [
           34,
           32,
           32,
           32,
           32,
           32,
           32,
           32,
           32,
           32,
           32,
           32,
           31,
           31,
           32,
           34,
           27,
           29,
           30,
           29,
           29,
           29,
           23,
           27,
           29,
           34
          ],
          [
           34,
           34,
           34,
           34,
           34,
           34,
           34,
           32,
           32,
           32,
           34,
           32,
           32,
           32,
           32,
           32,
           32,
           32,
           32,
           32,
           32,
           32,
           32,
           32,
           32,
           32
          ]
         ]
        }
       ],
       "layout": {
        "coloraxis": {
         "colorbar": {
          "title": {
           "text": "correct clusters (/34)"
          }
         },
         "colorscale": [
          [
           0,
           "rgb(243, 231, 155)"
          ],
          [
           0.16666666666666666,
           "rgb(250, 196, 132)"
          ],
          [
           0.3333333333333333,
           "rgb(248, 160, 126)"
          ],
          [
           0.5,
           "rgb(235, 127, 134)"
          ],
          [
           0.6666666666666666,
           "rgb(206, 102, 147)"
          ],
          [
           0.8333333333333334,
           "rgb(160, 89, 160)"
          ],
          [
           1,
           "rgb(92, 83, 165)"
          ]
         ]
        },
        "template": {
         "data": {
          "bar": [
           {
            "error_x": {
             "color": "#2a3f5f"
            },
            "error_y": {
             "color": "#2a3f5f"
            },
            "marker": {
             "line": {
              "color": "#E5ECF6",
              "width": 0.5
             },
             "pattern": {
              "fillmode": "overlay",
              "size": 10,
              "solidity": 0.2
             }
            },
            "type": "bar"
           }
          ],
          "barpolar": [
           {
            "marker": {
             "line": {
              "color": "#E5ECF6",
              "width": 0.5
             },
             "pattern": {
              "fillmode": "overlay",
              "size": 10,
              "solidity": 0.2
             }
            },
            "type": "barpolar"
           }
          ],
          "carpet": [
           {
            "aaxis": {
             "endlinecolor": "#2a3f5f",
             "gridcolor": "white",
             "linecolor": "white",
             "minorgridcolor": "white",
             "startlinecolor": "#2a3f5f"
            },
            "baxis": {
             "endlinecolor": "#2a3f5f",
             "gridcolor": "white",
             "linecolor": "white",
             "minorgridcolor": "white",
             "startlinecolor": "#2a3f5f"
            },
            "type": "carpet"
           }
          ],
          "choropleth": [
           {
            "colorbar": {
             "outlinewidth": 0,
             "ticks": ""
            },
            "type": "choropleth"
           }
          ],
          "contour": [
           {
            "colorbar": {
             "outlinewidth": 0,
             "ticks": ""
            },
            "colorscale": [
             [
              0,
              "#0d0887"
             ],
             [
              0.1111111111111111,
              "#46039f"
             ],
             [
              0.2222222222222222,
              "#7201a8"
             ],
             [
              0.3333333333333333,
              "#9c179e"
             ],
             [
              0.4444444444444444,
              "#bd3786"
             ],
             [
              0.5555555555555556,
              "#d8576b"
             ],
             [
              0.6666666666666666,
              "#ed7953"
             ],
             [
              0.7777777777777778,
              "#fb9f3a"
             ],
             [
              0.8888888888888888,
              "#fdca26"
             ],
             [
              1,
              "#f0f921"
             ]
            ],
            "type": "contour"
           }
          ],
          "contourcarpet": [
           {
            "colorbar": {
             "outlinewidth": 0,
             "ticks": ""
            },
            "type": "contourcarpet"
           }
          ],
          "heatmap": [
           {
            "colorbar": {
             "outlinewidth": 0,
             "ticks": ""
            },
            "colorscale": [
             [
              0,
              "#0d0887"
             ],
             [
              0.1111111111111111,
              "#46039f"
             ],
             [
              0.2222222222222222,
              "#7201a8"
             ],
             [
              0.3333333333333333,
              "#9c179e"
             ],
             [
              0.4444444444444444,
              "#bd3786"
             ],
             [
              0.5555555555555556,
              "#d8576b"
             ],
             [
              0.6666666666666666,
              "#ed7953"
             ],
             [
              0.7777777777777778,
              "#fb9f3a"
             ],
             [
              0.8888888888888888,
              "#fdca26"
             ],
             [
              1,
              "#f0f921"
             ]
            ],
            "type": "heatmap"
           }
          ],
          "heatmapgl": [
           {
            "colorbar": {
             "outlinewidth": 0,
             "ticks": ""
            },
            "colorscale": [
             [
              0,
              "#0d0887"
             ],
             [
              0.1111111111111111,
              "#46039f"
             ],
             [
              0.2222222222222222,
              "#7201a8"
             ],
             [
              0.3333333333333333,
              "#9c179e"
             ],
             [
              0.4444444444444444,
              "#bd3786"
             ],
             [
              0.5555555555555556,
              "#d8576b"
             ],
             [
              0.6666666666666666,
              "#ed7953"
             ],
             [
              0.7777777777777778,
              "#fb9f3a"
             ],
             [
              0.8888888888888888,
              "#fdca26"
             ],
             [
              1,
              "#f0f921"
             ]
            ],
            "type": "heatmapgl"
           }
          ],
          "histogram": [
           {
            "marker": {
             "pattern": {
              "fillmode": "overlay",
              "size": 10,
              "solidity": 0.2
             }
            },
            "type": "histogram"
           }
          ],
          "histogram2d": [
           {
            "colorbar": {
             "outlinewidth": 0,
             "ticks": ""
            },
            "colorscale": [
             [
              0,
              "#0d0887"
             ],
             [
              0.1111111111111111,
              "#46039f"
             ],
             [
              0.2222222222222222,
              "#7201a8"
             ],
             [
              0.3333333333333333,
              "#9c179e"
             ],
             [
              0.4444444444444444,
              "#bd3786"
             ],
             [
              0.5555555555555556,
              "#d8576b"
             ],
             [
              0.6666666666666666,
              "#ed7953"
             ],
             [
              0.7777777777777778,
              "#fb9f3a"
             ],
             [
              0.8888888888888888,
              "#fdca26"
             ],
             [
              1,
              "#f0f921"
             ]
            ],
            "type": "histogram2d"
           }
          ],
          "histogram2dcontour": [
           {
            "colorbar": {
             "outlinewidth": 0,
             "ticks": ""
            },
            "colorscale": [
             [
              0,
              "#0d0887"
             ],
             [
              0.1111111111111111,
              "#46039f"
             ],
             [
              0.2222222222222222,
              "#7201a8"
             ],
             [
              0.3333333333333333,
              "#9c179e"
             ],
             [
              0.4444444444444444,
              "#bd3786"
             ],
             [
              0.5555555555555556,
              "#d8576b"
             ],
             [
              0.6666666666666666,
              "#ed7953"
             ],
             [
              0.7777777777777778,
              "#fb9f3a"
             ],
             [
              0.8888888888888888,
              "#fdca26"
             ],
             [
              1,
              "#f0f921"
             ]
            ],
            "type": "histogram2dcontour"
           }
          ],
          "mesh3d": [
           {
            "colorbar": {
             "outlinewidth": 0,
             "ticks": ""
            },
            "type": "mesh3d"
           }
          ],
          "parcoords": [
           {
            "line": {
             "colorbar": {
              "outlinewidth": 0,
              "ticks": ""
             }
            },
            "type": "parcoords"
           }
          ],
          "pie": [
           {
            "automargin": true,
            "type": "pie"
           }
          ],
          "scatter": [
           {
            "fillpattern": {
             "fillmode": "overlay",
             "size": 10,
             "solidity": 0.2
            },
            "type": "scatter"
           }
          ],
          "scatter3d": [
           {
            "line": {
             "colorbar": {
              "outlinewidth": 0,
              "ticks": ""
             }
            },
            "marker": {
             "colorbar": {
              "outlinewidth": 0,
              "ticks": ""
             }
            },
            "type": "scatter3d"
           }
          ],
          "scattercarpet": [
           {
            "marker": {
             "colorbar": {
              "outlinewidth": 0,
              "ticks": ""
             }
            },
            "type": "scattercarpet"
           }
          ],
          "scattergeo": [
           {
            "marker": {
             "colorbar": {
              "outlinewidth": 0,
              "ticks": ""
             }
            },
            "type": "scattergeo"
           }
          ],
          "scattergl": [
           {
            "marker": {
             "colorbar": {
              "outlinewidth": 0,
              "ticks": ""
             }
            },
            "type": "scattergl"
           }
          ],
          "scattermapbox": [
           {
            "marker": {
             "colorbar": {
              "outlinewidth": 0,
              "ticks": ""
             }
            },
            "type": "scattermapbox"
           }
          ],
          "scatterpolar": [
           {
            "marker": {
             "colorbar": {
              "outlinewidth": 0,
              "ticks": ""
             }
            },
            "type": "scatterpolar"
           }
          ],
          "scatterpolargl": [
           {
            "marker": {
             "colorbar": {
              "outlinewidth": 0,
              "ticks": ""
             }
            },
            "type": "scatterpolargl"
           }
          ],
          "scatterternary": [
           {
            "marker": {
             "colorbar": {
              "outlinewidth": 0,
              "ticks": ""
             }
            },
            "type": "scatterternary"
           }
          ],
          "surface": [
           {
            "colorbar": {
             "outlinewidth": 0,
             "ticks": ""
            },
            "colorscale": [
             [
              0,
              "#0d0887"
             ],
             [
              0.1111111111111111,
              "#46039f"
             ],
             [
              0.2222222222222222,
              "#7201a8"
             ],
             [
              0.3333333333333333,
              "#9c179e"
             ],
             [
              0.4444444444444444,
              "#bd3786"
             ],
             [
              0.5555555555555556,
              "#d8576b"
             ],
             [
              0.6666666666666666,
              "#ed7953"
             ],
             [
              0.7777777777777778,
              "#fb9f3a"
             ],
             [
              0.8888888888888888,
              "#fdca26"
             ],
             [
              1,
              "#f0f921"
             ]
            ],
            "type": "surface"
           }
          ],
          "table": [
           {
            "cells": {
             "fill": {
              "color": "#EBF0F8"
             },
             "line": {
              "color": "white"
             }
            },
            "header": {
             "fill": {
              "color": "#C8D4E3"
             },
             "line": {
              "color": "white"
             }
            },
            "type": "table"
           }
          ]
         },
         "layout": {
          "annotationdefaults": {
           "arrowcolor": "#2a3f5f",
           "arrowhead": 0,
           "arrowwidth": 1
          },
          "autotypenumbers": "strict",
          "coloraxis": {
           "colorbar": {
            "outlinewidth": 0,
            "ticks": ""
           }
          },
          "colorscale": {
           "diverging": [
            [
             0,
             "#8e0152"
            ],
            [
             0.1,
             "#c51b7d"
            ],
            [
             0.2,
             "#de77ae"
            ],
            [
             0.3,
             "#f1b6da"
            ],
            [
             0.4,
             "#fde0ef"
            ],
            [
             0.5,
             "#f7f7f7"
            ],
            [
             0.6,
             "#e6f5d0"
            ],
            [
             0.7,
             "#b8e186"
            ],
            [
             0.8,
             "#7fbc41"
            ],
            [
             0.9,
             "#4d9221"
            ],
            [
             1,
             "#276419"
            ]
           ],
           "sequential": [
            [
             0,
             "#0d0887"
            ],
            [
             0.1111111111111111,
             "#46039f"
            ],
            [
             0.2222222222222222,
             "#7201a8"
            ],
            [
             0.3333333333333333,
             "#9c179e"
            ],
            [
             0.4444444444444444,
             "#bd3786"
            ],
            [
             0.5555555555555556,
             "#d8576b"
            ],
            [
             0.6666666666666666,
             "#ed7953"
            ],
            [
             0.7777777777777778,
             "#fb9f3a"
            ],
            [
             0.8888888888888888,
             "#fdca26"
            ],
            [
             1,
             "#f0f921"
            ]
           ],
           "sequentialminus": [
            [
             0,
             "#0d0887"
            ],
            [
             0.1111111111111111,
             "#46039f"
            ],
            [
             0.2222222222222222,
             "#7201a8"
            ],
            [
             0.3333333333333333,
             "#9c179e"
            ],
            [
             0.4444444444444444,
             "#bd3786"
            ],
            [
             0.5555555555555556,
             "#d8576b"
            ],
            [
             0.6666666666666666,
             "#ed7953"
            ],
            [
             0.7777777777777778,
             "#fb9f3a"
            ],
            [
             0.8888888888888888,
             "#fdca26"
            ],
            [
             1,
             "#f0f921"
            ]
           ]
          },
          "colorway": [
           "#636efa",
           "#EF553B",
           "#00cc96",
           "#ab63fa",
           "#FFA15A",
           "#19d3f3",
           "#FF6692",
           "#B6E880",
           "#FF97FF",
           "#FECB52"
          ],
          "font": {
           "color": "#2a3f5f"
          },
          "geo": {
           "bgcolor": "white",
           "lakecolor": "white",
           "landcolor": "#E5ECF6",
           "showlakes": true,
           "showland": true,
           "subunitcolor": "white"
          },
          "hoverlabel": {
           "align": "left"
          },
          "hovermode": "closest",
          "mapbox": {
           "style": "light"
          },
          "paper_bgcolor": "white",
          "plot_bgcolor": "#E5ECF6",
          "polar": {
           "angularaxis": {
            "gridcolor": "white",
            "linecolor": "white",
            "ticks": ""
           },
           "bgcolor": "#E5ECF6",
           "radialaxis": {
            "gridcolor": "white",
            "linecolor": "white",
            "ticks": ""
           }
          },
          "scene": {
           "xaxis": {
            "backgroundcolor": "#E5ECF6",
            "gridcolor": "white",
            "gridwidth": 2,
            "linecolor": "white",
            "showbackground": true,
            "ticks": "",
            "zerolinecolor": "white"
           },
           "yaxis": {
            "backgroundcolor": "#E5ECF6",
            "gridcolor": "white",
            "gridwidth": 2,
            "linecolor": "white",
            "showbackground": true,
            "ticks": "",
            "zerolinecolor": "white"
           },
           "zaxis": {
            "backgroundcolor": "#E5ECF6",
            "gridcolor": "white",
            "gridwidth": 2,
            "linecolor": "white",
            "showbackground": true,
            "ticks": "",
            "zerolinecolor": "white"
           }
          },
          "shapedefaults": {
           "line": {
            "color": "#2a3f5f"
           }
          },
          "ternary": {
           "aaxis": {
            "gridcolor": "white",
            "linecolor": "white",
            "ticks": ""
           },
           "baxis": {
            "gridcolor": "white",
            "linecolor": "white",
            "ticks": ""
           },
           "bgcolor": "#E5ECF6",
           "caxis": {
            "gridcolor": "white",
            "linecolor": "white",
            "ticks": ""
           }
          },
          "title": {
           "x": 0.05
          },
          "xaxis": {
           "automargin": true,
           "gridcolor": "white",
           "linecolor": "white",
           "ticks": "",
           "title": {
            "standoff": 15
           },
           "zerolinecolor": "white",
           "zerolinewidth": 2
          },
          "yaxis": {
           "automargin": true,
           "gridcolor": "white",
           "linecolor": "white",
           "ticks": "",
           "title": {
            "standoff": 15
           },
           "zerolinecolor": "white",
           "zerolinewidth": 2
          }
         }
        },
        "title": {
         "text": "Robustness to gene expression noise"
        },
        "xaxis": {
         "anchor": "y",
         "constrain": "domain",
         "domain": [
          0,
          1
         ],
         "dtick": 0.2,
         "scaleanchor": "y",
         "title": {
          "text": "Noise (std devs)"
         }
        },
        "yaxis": {
         "anchor": "x",
         "autorange": "reversed",
         "constrain": "domain",
         "domain": [
          0,
          1
         ],
         "title": {
          "text": "Query->Ref"
         }
        }
       }
      }
     },
     "metadata": {},
     "output_type": "display_data"
    }
   ],
   "source": [
    "fig = px.imshow(\n",
    "    results, \n",
    "    title='Robustness to gene expression noise', \n",
    "    color_continuous_scale='Sunset',\n",
    "    labels=dict(x=\"Noise (std devs)\", y=\"Query->Ref\", color=\"correct clusters (/34)\"),\n",
    "    x=epsilons,\n",
    "    y=[' -> '.join(t) for t in combinations]\n",
    ")\n",
    "fig.update_xaxes(dtick=0.2)\n",
    "fig.show()"
   ]
  },
  {
   "cell_type": "markdown",
   "metadata": {},
   "source": [
    "These tests can be easily modified to observe the effects of adding noise to the reference datasets instead, by altering the following lines inside the loop:\n",
    "```python\n",
    "    add_measurement_noise(dss[ref], epsilon)\n",
    "    ...\n",
    "    undo_measurement_noise(dss[ref])\n",
    "```\n",
    "\n",
    "Now we can analyze the effects of clustering noise, where we assume that the clustering step did not fully separate what should be different cell types. Here we will simulate this effect on the reference dataset, although it can of course be easily mimicked to apply to the query dataset instead."
   ]
  },
  {
   "cell_type": "code",
   "execution_count": 6,
   "metadata": {},
   "outputs": [],
   "source": [
    "def add_clustering_noise(ds: AnnData, cluster_key: str, epsilon: float) -> AnnData:\n",
    "    \"\"\"\n",
    "    Adds clustering noise whereby epsilon % of each cluster is \n",
    "    randomly re-assigned to other clusters. \n",
    "    The original clusters are saved under .obs['original']\n",
    "\n",
    "    Parameters\n",
    "    ----------\n",
    "    ds: AnnData\n",
    "        The AnnData dataset to add noise to.\n",
    "    cluster_key: str\n",
    "        The .obs key for the clusters to add noise to.\n",
    "    epsilon: float\n",
    "        percentage of cells per cluster to re-assign\n",
    "    \n",
    "    Returns\n",
    "    -------\n",
    "    AnnData:\n",
    "        The original dataset, with the added clustering noise.\n",
    "    \"\"\"\n",
    "    ds.obs['original'] = ds.obs[cluster_key].copy()\n",
    "    clusters = ds.obs['original'].unique().tolist()\n",
    "        \n",
    "    for cluster in clusters:\n",
    "        c_mask = np.argwhere(ds.obs['original'] == cluster).squeeze()\n",
    "        n_relabel = int(epsilon * len(c_mask))\n",
    "        \n",
    "        chosen = np.random.choice(c_mask, n_relabel, replace=False)\n",
    "        dest_clusters = np.random.choice([c for c in clusters if c != 'SSt 1'], n_relabel)\n",
    "        \n",
    "        ds.obs[cluster_key][chosen] = dest_clusters\n",
    "    \n",
    "    return ds\n",
    "\n",
    "def undo_clustering_noise(ds: AnnData, cluster_key: str) -> AnnData:\n",
    "    \"\"\" Undoes the effects of the previous function.\"\"\"\n",
    "    ds.obs[cluster_key] = ds.obs['original'].copy()\n",
    "    ds.obs = ds.obs.drop('original', axis=1)\n",
    "    return ds"
   ]
  },
  {
   "cell_type": "markdown",
   "metadata": {},
   "source": [
    "As before, we can now utilize this to visualize the impact of applying different quantities of noise on all different combinations of Allen-Brain dataset pair-matching:"
   ]
  },
  {
   "cell_type": "code",
   "execution_count": 7,
   "metadata": {},
   "outputs": [
    {
     "name": "stderr",
     "output_type": "stream",
     "text": [
      "[refcm           ] [INFO    ] : NOTE: raw counts expected in anndata .X attributes.\n",
      "|████████████████| [100.00% ] : 00:32\n",
      "[matchings       ] [INFO    ] : mapped MTG                  to ALM                 \n",
      "[matchings       ] [INFO    ] : (34 common cell types)\n",
      "[matchings       ] [INFO    ] : 34/34 correct mappings\n",
      "[matchings       ] [INFO    ] : 0 /34 incorrect mappings\n"
     ]
    },
    {
     "name": "stdout",
     "output_type": "stream",
     "text": [
      "   Noise:  0.00% |  MTG->ALM  : 34/34\n"
     ]
    },
    {
     "name": "stderr",
     "output_type": "stream",
     "text": [
      "|████████████████| [100.00% ] : 00:32\n",
      "[matchings       ] [INFO    ] : mapped MTG                  to ALM                 \n",
      "[matchings       ] [INFO    ] : (34 common cell types)\n",
      "[matchings       ] [INFO    ] : 32/34 correct mappings\n",
      "[matchings       ] [INFO    ] : 2 /34 incorrect mappings\n"
     ]
    },
    {
     "name": "stdout",
     "output_type": "stream",
     "text": [
      "   Noise:  2.50% |  MTG->ALM  : 32/34\n"
     ]
    },
    {
     "name": "stderr",
     "output_type": "stream",
     "text": [
      "|████████████████| [100.00% ] : 00:33\n",
      "[matchings       ] [INFO    ] : mapped MTG                  to ALM                 \n",
      "[matchings       ] [INFO    ] : (34 common cell types)\n",
      "[matchings       ] [INFO    ] : 32/34 correct mappings\n",
      "[matchings       ] [INFO    ] : 2 /34 incorrect mappings\n"
     ]
    },
    {
     "name": "stdout",
     "output_type": "stream",
     "text": [
      "   Noise:  5.00% |  MTG->ALM  : 32/34\n"
     ]
    },
    {
     "name": "stderr",
     "output_type": "stream",
     "text": [
      "|████████████████| [100.00% ] : 00:32\n",
      "[matchings       ] [INFO    ] : mapped MTG                  to ALM                 \n",
      "[matchings       ] [INFO    ] : (34 common cell types)\n",
      "[matchings       ] [INFO    ] : 32/34 correct mappings\n",
      "[matchings       ] [INFO    ] : 2 /34 incorrect mappings\n"
     ]
    },
    {
     "name": "stdout",
     "output_type": "stream",
     "text": [
      "   Noise:  7.50% |  MTG->ALM  : 32/34\n"
     ]
    },
    {
     "name": "stderr",
     "output_type": "stream",
     "text": [
      "|████████████████| [100.00% ] : 00:32\n",
      "[matchings       ] [INFO    ] : mapped MTG                  to ALM                 \n",
      "[matchings       ] [INFO    ] : (34 common cell types)\n",
      "[matchings       ] [INFO    ] : 32/34 correct mappings\n",
      "[matchings       ] [INFO    ] : 2 /34 incorrect mappings\n"
     ]
    },
    {
     "name": "stdout",
     "output_type": "stream",
     "text": [
      "   Noise: 10.00% |  MTG->ALM  : 32/34\n"
     ]
    },
    {
     "name": "stderr",
     "output_type": "stream",
     "text": [
      "|████████████████| [100.00% ] : 00:32\n",
      "[matchings       ] [INFO    ] : mapped MTG                  to ALM                 \n",
      "[matchings       ] [INFO    ] : (34 common cell types)\n",
      "[matchings       ] [INFO    ] : 32/34 correct mappings\n",
      "[matchings       ] [INFO    ] : 2 /34 incorrect mappings\n"
     ]
    },
    {
     "name": "stdout",
     "output_type": "stream",
     "text": [
      "   Noise: 12.50% |  MTG->ALM  : 32/34\n"
     ]
    },
    {
     "name": "stderr",
     "output_type": "stream",
     "text": [
      "|████████████████| [100.00% ] : 00:32\n",
      "[matchings       ] [INFO    ] : mapped MTG                  to ALM                 \n",
      "[matchings       ] [INFO    ] : (34 common cell types)\n",
      "[matchings       ] [INFO    ] : 32/34 correct mappings\n",
      "[matchings       ] [INFO    ] : 2 /34 incorrect mappings\n"
     ]
    },
    {
     "name": "stdout",
     "output_type": "stream",
     "text": [
      "   Noise: 15.00% |  MTG->ALM  : 32/34\n"
     ]
    },
    {
     "name": "stderr",
     "output_type": "stream",
     "text": [
      "|████████████████| [100.00% ] : 00:29\n",
      "[matchings       ] [INFO    ] : mapped MTG                  to ALM                 \n",
      "[matchings       ] [INFO    ] : (34 common cell types)\n",
      "[matchings       ] [INFO    ] : 32/34 correct mappings\n",
      "[matchings       ] [INFO    ] : 2 /34 incorrect mappings\n"
     ]
    },
    {
     "name": "stdout",
     "output_type": "stream",
     "text": [
      "   Noise: 17.50% |  MTG->ALM  : 32/34\n"
     ]
    },
    {
     "name": "stderr",
     "output_type": "stream",
     "text": [
      "|████████████████| [100.00% ] : 00:33\n",
      "[matchings       ] [INFO    ] : mapped MTG                  to ALM                 \n",
      "[matchings       ] [INFO    ] : (34 common cell types)\n",
      "[matchings       ] [INFO    ] : 32/34 correct mappings\n",
      "[matchings       ] [INFO    ] : 2 /34 incorrect mappings\n"
     ]
    },
    {
     "name": "stdout",
     "output_type": "stream",
     "text": [
      "   Noise: 20.00% |  MTG->ALM  : 32/34\n"
     ]
    },
    {
     "name": "stderr",
     "output_type": "stream",
     "text": [
      "|████████████████| [100.00% ] : 00:32\n",
      "[matchings       ] [INFO    ] : mapped MTG                  to ALM                 \n",
      "[matchings       ] [INFO    ] : (34 common cell types)\n",
      "[matchings       ] [INFO    ] : 32/34 correct mappings\n",
      "[matchings       ] [INFO    ] : 2 /34 incorrect mappings\n"
     ]
    },
    {
     "name": "stdout",
     "output_type": "stream",
     "text": [
      "   Noise: 22.50% |  MTG->ALM  : 32/34\n"
     ]
    },
    {
     "name": "stderr",
     "output_type": "stream",
     "text": [
      "|████████████████| [100.00% ] : 00:32\n",
      "[matchings       ] [INFO    ] : mapped MTG                  to ALM                 \n",
      "[matchings       ] [INFO    ] : (34 common cell types)\n",
      "[matchings       ] [INFO    ] : 32/34 correct mappings\n",
      "[matchings       ] [INFO    ] : 2 /34 incorrect mappings\n"
     ]
    },
    {
     "name": "stdout",
     "output_type": "stream",
     "text": [
      "   Noise: 25.00% |  MTG->ALM  : 32/34\n"
     ]
    },
    {
     "name": "stderr",
     "output_type": "stream",
     "text": [
      "|████████████████| [100.00% ] : 00:33\n",
      "[matchings       ] [INFO    ] : mapped MTG                  to ALM                 \n",
      "[matchings       ] [INFO    ] : (34 common cell types)\n",
      "[matchings       ] [INFO    ] : 32/34 correct mappings\n",
      "[matchings       ] [INFO    ] : 2 /34 incorrect mappings\n"
     ]
    },
    {
     "name": "stdout",
     "output_type": "stream",
     "text": [
      "   Noise: 27.50% |  MTG->ALM  : 32/34\n"
     ]
    },
    {
     "name": "stderr",
     "output_type": "stream",
     "text": [
      "|████████████████| [100.00% ] : 00:32\n",
      "[matchings       ] [INFO    ] : mapped MTG                  to ALM                 \n",
      "[matchings       ] [INFO    ] : (34 common cell types)\n",
      "[matchings       ] [INFO    ] : 32/34 correct mappings\n",
      "[matchings       ] [INFO    ] : 2 /34 incorrect mappings\n"
     ]
    },
    {
     "name": "stdout",
     "output_type": "stream",
     "text": [
      "   Noise: 30.00% |  MTG->ALM  : 32/34\n"
     ]
    },
    {
     "name": "stderr",
     "output_type": "stream",
     "text": [
      "|████████████████| [100.00% ] : 00:32\n",
      "[matchings       ] [INFO    ] : mapped MTG                  to ALM                 \n",
      "[matchings       ] [INFO    ] : (34 common cell types)\n",
      "[matchings       ] [INFO    ] : 32/34 correct mappings\n",
      "[matchings       ] [INFO    ] : 2 /34 incorrect mappings\n"
     ]
    },
    {
     "name": "stdout",
     "output_type": "stream",
     "text": [
      "   Noise: 32.50% |  MTG->ALM  : 32/34\n"
     ]
    },
    {
     "name": "stderr",
     "output_type": "stream",
     "text": [
      "|████████████████| [100.00% ] : 00:32\n",
      "[matchings       ] [INFO    ] : mapped MTG                  to ALM                 \n",
      "[matchings       ] [INFO    ] : (34 common cell types)\n",
      "[matchings       ] [INFO    ] : 32/34 correct mappings\n",
      "[matchings       ] [INFO    ] : 2 /34 incorrect mappings\n"
     ]
    },
    {
     "name": "stdout",
     "output_type": "stream",
     "text": [
      "   Noise: 35.00% |  MTG->ALM  : 32/34\n"
     ]
    },
    {
     "name": "stderr",
     "output_type": "stream",
     "text": [
      "|████████████████| [100.00% ] : 00:32\n",
      "[matchings       ] [INFO    ] : mapped MTG                  to ALM                 \n",
      "[matchings       ] [INFO    ] : (34 common cell types)\n",
      "[matchings       ] [INFO    ] : 32/34 correct mappings\n",
      "[matchings       ] [INFO    ] : 2 /34 incorrect mappings\n"
     ]
    },
    {
     "name": "stdout",
     "output_type": "stream",
     "text": [
      "   Noise: 37.50% |  MTG->ALM  : 32/34\n"
     ]
    },
    {
     "name": "stderr",
     "output_type": "stream",
     "text": [
      "|████████████████| [100.00% ] : 00:32\n",
      "[matchings       ] [INFO    ] : mapped MTG                  to ALM                 \n",
      "[matchings       ] [INFO    ] : (34 common cell types)\n",
      "[matchings       ] [INFO    ] : 32/34 correct mappings\n",
      "[matchings       ] [INFO    ] : 2 /34 incorrect mappings\n"
     ]
    },
    {
     "name": "stdout",
     "output_type": "stream",
     "text": [
      "   Noise: 40.00% |  MTG->ALM  : 32/34\n"
     ]
    },
    {
     "name": "stderr",
     "output_type": "stream",
     "text": [
      "|████████████████| [100.00% ] : 00:32\n",
      "[matchings       ] [INFO    ] : mapped MTG                  to ALM                 \n",
      "[matchings       ] [INFO    ] : (34 common cell types)\n",
      "[matchings       ] [INFO    ] : 32/34 correct mappings\n",
      "[matchings       ] [INFO    ] : 2 /34 incorrect mappings\n"
     ]
    },
    {
     "name": "stdout",
     "output_type": "stream",
     "text": [
      "   Noise: 42.50% |  MTG->ALM  : 32/34\n"
     ]
    },
    {
     "name": "stderr",
     "output_type": "stream",
     "text": [
      "|████████████████| [100.00% ] : 00:32\n",
      "[matchings       ] [INFO    ] : mapped MTG                  to ALM                 \n",
      "[matchings       ] [INFO    ] : (34 common cell types)\n",
      "[matchings       ] [INFO    ] : 32/34 correct mappings\n",
      "[matchings       ] [INFO    ] : 2 /34 incorrect mappings\n"
     ]
    },
    {
     "name": "stdout",
     "output_type": "stream",
     "text": [
      "   Noise: 45.00% |  MTG->ALM  : 32/34\n"
     ]
    },
    {
     "name": "stderr",
     "output_type": "stream",
     "text": [
      "|████████████████| [100.00% ] : 00:32\n",
      "[matchings       ] [INFO    ] : mapped MTG                  to ALM                 \n",
      "[matchings       ] [INFO    ] : (34 common cell types)\n",
      "[matchings       ] [INFO    ] : 32/34 correct mappings\n",
      "[matchings       ] [INFO    ] : 2 /34 incorrect mappings\n"
     ]
    },
    {
     "name": "stdout",
     "output_type": "stream",
     "text": [
      "   Noise: 47.50% |  MTG->ALM  : 32/34\n"
     ]
    },
    {
     "name": "stderr",
     "output_type": "stream",
     "text": [
      "|████████████████| [100.00% ] : 00:32\n",
      "[matchings       ] [INFO    ] : mapped MTG                  to ALM                 \n",
      "[matchings       ] [INFO    ] : (34 common cell types)\n",
      "[matchings       ] [INFO    ] : 32/34 correct mappings\n",
      "[matchings       ] [INFO    ] : 2 /34 incorrect mappings\n"
     ]
    },
    {
     "name": "stdout",
     "output_type": "stream",
     "text": [
      "   Noise: 50.00% |  MTG->ALM  : 32/34\n"
     ]
    },
    {
     "name": "stderr",
     "output_type": "stream",
     "text": [
      "|████████████████| [100.00% ] : 00:43\n",
      "[matchings       ] [INFO    ] : mapped MTG                  to VISp                \n",
      "[matchings       ] [INFO    ] : (34 common cell types)\n",
      "[matchings       ] [INFO    ] : 34/34 correct mappings\n",
      "[matchings       ] [INFO    ] : 0 /34 incorrect mappings\n"
     ]
    },
    {
     "name": "stdout",
     "output_type": "stream",
     "text": [
      "   Noise:  0.00% |  MTG->VISp : 34/34\n"
     ]
    },
    {
     "name": "stderr",
     "output_type": "stream",
     "text": [
      "|████████████████| [100.00% ] : 00:42\n",
      "[matchings       ] [INFO    ] : mapped MTG                  to VISp                \n",
      "[matchings       ] [INFO    ] : (34 common cell types)\n",
      "[matchings       ] [INFO    ] : 34/34 correct mappings\n",
      "[matchings       ] [INFO    ] : 0 /34 incorrect mappings\n"
     ]
    },
    {
     "name": "stdout",
     "output_type": "stream",
     "text": [
      "   Noise:  2.50% |  MTG->VISp : 34/34\n"
     ]
    },
    {
     "name": "stderr",
     "output_type": "stream",
     "text": [
      "|████████████████| [100.00% ] : 00:47\n",
      "[matchings       ] [INFO    ] : mapped MTG                  to VISp                \n",
      "[matchings       ] [INFO    ] : (34 common cell types)\n",
      "[matchings       ] [INFO    ] : 34/34 correct mappings\n",
      "[matchings       ] [INFO    ] : 0 /34 incorrect mappings\n"
     ]
    },
    {
     "name": "stdout",
     "output_type": "stream",
     "text": [
      "   Noise:  5.00% |  MTG->VISp : 34/34\n"
     ]
    },
    {
     "name": "stderr",
     "output_type": "stream",
     "text": [
      "|████████████████| [100.00% ] : 00:44\n",
      "[matchings       ] [INFO    ] : mapped MTG                  to VISp                \n",
      "[matchings       ] [INFO    ] : (34 common cell types)\n",
      "[matchings       ] [INFO    ] : 34/34 correct mappings\n",
      "[matchings       ] [INFO    ] : 0 /34 incorrect mappings\n"
     ]
    },
    {
     "name": "stdout",
     "output_type": "stream",
     "text": [
      "   Noise:  7.50% |  MTG->VISp : 34/34\n"
     ]
    },
    {
     "name": "stderr",
     "output_type": "stream",
     "text": [
      "|████████████████| [100.00% ] : 00:43\n",
      "[matchings       ] [INFO    ] : mapped MTG                  to VISp                \n",
      "[matchings       ] [INFO    ] : (34 common cell types)\n",
      "[matchings       ] [INFO    ] : 34/34 correct mappings\n",
      "[matchings       ] [INFO    ] : 0 /34 incorrect mappings\n"
     ]
    },
    {
     "name": "stdout",
     "output_type": "stream",
     "text": [
      "   Noise: 10.00% |  MTG->VISp : 34/34\n"
     ]
    },
    {
     "name": "stderr",
     "output_type": "stream",
     "text": [
      "|████████████████| [100.00% ] : 00:47\n",
      "[matchings       ] [INFO    ] : mapped MTG                  to VISp                \n",
      "[matchings       ] [INFO    ] : (34 common cell types)\n",
      "[matchings       ] [INFO    ] : 34/34 correct mappings\n",
      "[matchings       ] [INFO    ] : 0 /34 incorrect mappings\n"
     ]
    },
    {
     "name": "stdout",
     "output_type": "stream",
     "text": [
      "   Noise: 12.50% |  MTG->VISp : 34/34\n"
     ]
    },
    {
     "name": "stderr",
     "output_type": "stream",
     "text": [
      "|████████████████| [100.00% ] : 00:46\n",
      "[matchings       ] [INFO    ] : mapped MTG                  to VISp                \n",
      "[matchings       ] [INFO    ] : (34 common cell types)\n",
      "[matchings       ] [INFO    ] : 32/34 correct mappings\n",
      "[matchings       ] [INFO    ] : 2 /34 incorrect mappings\n"
     ]
    },
    {
     "name": "stdout",
     "output_type": "stream",
     "text": [
      "   Noise: 15.00% |  MTG->VISp : 32/34\n"
     ]
    },
    {
     "name": "stderr",
     "output_type": "stream",
     "text": [
      "|████████████████| [100.00% ] : 00:42\n",
      "[matchings       ] [INFO    ] : mapped MTG                  to VISp                \n",
      "[matchings       ] [INFO    ] : (34 common cell types)\n",
      "[matchings       ] [INFO    ] : 32/34 correct mappings\n",
      "[matchings       ] [INFO    ] : 2 /34 incorrect mappings\n"
     ]
    },
    {
     "name": "stdout",
     "output_type": "stream",
     "text": [
      "   Noise: 17.50% |  MTG->VISp : 32/34\n"
     ]
    },
    {
     "name": "stderr",
     "output_type": "stream",
     "text": [
      "|████████████████| [100.00% ] : 00:42\n",
      "[matchings       ] [INFO    ] : mapped MTG                  to VISp                \n",
      "[matchings       ] [INFO    ] : (34 common cell types)\n",
      "[matchings       ] [INFO    ] : 32/34 correct mappings\n",
      "[matchings       ] [INFO    ] : 2 /34 incorrect mappings\n"
     ]
    },
    {
     "name": "stdout",
     "output_type": "stream",
     "text": [
      "   Noise: 20.00% |  MTG->VISp : 32/34\n"
     ]
    },
    {
     "name": "stderr",
     "output_type": "stream",
     "text": [
      "|████████████████| [100.00% ] : 00:45\n",
      "[matchings       ] [INFO    ] : mapped MTG                  to VISp                \n",
      "[matchings       ] [INFO    ] : (34 common cell types)\n",
      "[matchings       ] [INFO    ] : 32/34 correct mappings\n",
      "[matchings       ] [INFO    ] : 2 /34 incorrect mappings\n"
     ]
    },
    {
     "name": "stdout",
     "output_type": "stream",
     "text": [
      "   Noise: 22.50% |  MTG->VISp : 32/34\n"
     ]
    },
    {
     "name": "stderr",
     "output_type": "stream",
     "text": [
      "|████████████████| [100.00% ] : 00:46\n",
      "[matchings       ] [INFO    ] : mapped MTG                  to VISp                \n",
      "[matchings       ] [INFO    ] : (34 common cell types)\n",
      "[matchings       ] [INFO    ] : 32/34 correct mappings\n",
      "[matchings       ] [INFO    ] : 2 /34 incorrect mappings\n"
     ]
    },
    {
     "name": "stdout",
     "output_type": "stream",
     "text": [
      "   Noise: 25.00% |  MTG->VISp : 32/34\n"
     ]
    },
    {
     "name": "stderr",
     "output_type": "stream",
     "text": [
      "|████████████████| [100.00% ] : 00:47\n",
      "[matchings       ] [INFO    ] : mapped MTG                  to VISp                \n",
      "[matchings       ] [INFO    ] : (34 common cell types)\n",
      "[matchings       ] [INFO    ] : 32/34 correct mappings\n",
      "[matchings       ] [INFO    ] : 2 /34 incorrect mappings\n"
     ]
    },
    {
     "name": "stdout",
     "output_type": "stream",
     "text": [
      "   Noise: 27.50% |  MTG->VISp : 32/34\n"
     ]
    },
    {
     "name": "stderr",
     "output_type": "stream",
     "text": [
      "|████████████████| [100.00% ] : 00:42\n",
      "[matchings       ] [INFO    ] : mapped MTG                  to VISp                \n",
      "[matchings       ] [INFO    ] : (34 common cell types)\n",
      "[matchings       ] [INFO    ] : 32/34 correct mappings\n",
      "[matchings       ] [INFO    ] : 2 /34 incorrect mappings\n"
     ]
    },
    {
     "name": "stdout",
     "output_type": "stream",
     "text": [
      "   Noise: 30.00% |  MTG->VISp : 32/34\n"
     ]
    },
    {
     "name": "stderr",
     "output_type": "stream",
     "text": [
      "|████████████████| [100.00% ] : 00:46\n",
      "[matchings       ] [INFO    ] : mapped MTG                  to VISp                \n",
      "[matchings       ] [INFO    ] : (34 common cell types)\n",
      "[matchings       ] [INFO    ] : 32/34 correct mappings\n",
      "[matchings       ] [INFO    ] : 2 /34 incorrect mappings\n"
     ]
    },
    {
     "name": "stdout",
     "output_type": "stream",
     "text": [
      "   Noise: 32.50% |  MTG->VISp : 32/34\n"
     ]
    },
    {
     "name": "stderr",
     "output_type": "stream",
     "text": [
      "|████████████████| [100.00% ] : 00:46\n",
      "[matchings       ] [INFO    ] : mapped MTG                  to VISp                \n",
      "[matchings       ] [INFO    ] : (34 common cell types)\n",
      "[matchings       ] [INFO    ] : 32/34 correct mappings\n",
      "[matchings       ] [INFO    ] : 2 /34 incorrect mappings\n"
     ]
    },
    {
     "name": "stdout",
     "output_type": "stream",
     "text": [
      "   Noise: 35.00% |  MTG->VISp : 32/34\n"
     ]
    },
    {
     "name": "stderr",
     "output_type": "stream",
     "text": [
      "|████████████████| [100.00% ] : 00:46\n",
      "[matchings       ] [INFO    ] : mapped MTG                  to VISp                \n",
      "[matchings       ] [INFO    ] : (34 common cell types)\n",
      "[matchings       ] [INFO    ] : 32/34 correct mappings\n",
      "[matchings       ] [INFO    ] : 2 /34 incorrect mappings\n"
     ]
    },
    {
     "name": "stdout",
     "output_type": "stream",
     "text": [
      "   Noise: 37.50% |  MTG->VISp : 32/34\n"
     ]
    },
    {
     "name": "stderr",
     "output_type": "stream",
     "text": [
      "|████████████████| [100.00% ] : 00:46\n",
      "[matchings       ] [INFO    ] : mapped MTG                  to VISp                \n",
      "[matchings       ] [INFO    ] : (34 common cell types)\n",
      "[matchings       ] [INFO    ] : 32/34 correct mappings\n",
      "[matchings       ] [INFO    ] : 2 /34 incorrect mappings\n"
     ]
    },
    {
     "name": "stdout",
     "output_type": "stream",
     "text": [
      "   Noise: 40.00% |  MTG->VISp : 32/34\n"
     ]
    },
    {
     "name": "stderr",
     "output_type": "stream",
     "text": [
      "|████████████████| [100.00% ] : 00:46\n",
      "[matchings       ] [INFO    ] : mapped MTG                  to VISp                \n",
      "[matchings       ] [INFO    ] : (34 common cell types)\n",
      "[matchings       ] [INFO    ] : 32/34 correct mappings\n",
      "[matchings       ] [INFO    ] : 2 /34 incorrect mappings\n"
     ]
    },
    {
     "name": "stdout",
     "output_type": "stream",
     "text": [
      "   Noise: 42.50% |  MTG->VISp : 32/34\n"
     ]
    },
    {
     "name": "stderr",
     "output_type": "stream",
     "text": [
      "|████████████████| [100.00% ] : 00:46\n",
      "[matchings       ] [INFO    ] : mapped MTG                  to VISp                \n",
      "[matchings       ] [INFO    ] : (34 common cell types)\n",
      "[matchings       ] [INFO    ] : 32/34 correct mappings\n",
      "[matchings       ] [INFO    ] : 2 /34 incorrect mappings\n"
     ]
    },
    {
     "name": "stdout",
     "output_type": "stream",
     "text": [
      "   Noise: 45.00% |  MTG->VISp : 32/34\n"
     ]
    },
    {
     "name": "stderr",
     "output_type": "stream",
     "text": [
      "|████████████████| [100.00% ] : 00:41\n",
      "[matchings       ] [INFO    ] : mapped MTG                  to VISp                \n",
      "[matchings       ] [INFO    ] : (34 common cell types)\n",
      "[matchings       ] [INFO    ] : 32/34 correct mappings\n",
      "[matchings       ] [INFO    ] : 2 /34 incorrect mappings\n"
     ]
    },
    {
     "name": "stdout",
     "output_type": "stream",
     "text": [
      "   Noise: 47.50% |  MTG->VISp : 32/34\n"
     ]
    },
    {
     "name": "stderr",
     "output_type": "stream",
     "text": [
      "|████████████████| [100.00% ] : 00:46\n",
      "[matchings       ] [INFO    ] : mapped MTG                  to VISp                \n",
      "[matchings       ] [INFO    ] : (34 common cell types)\n",
      "[matchings       ] [INFO    ] : 32/34 correct mappings\n",
      "[matchings       ] [INFO    ] : 2 /34 incorrect mappings\n"
     ]
    },
    {
     "name": "stdout",
     "output_type": "stream",
     "text": [
      "   Noise: 50.00% |  MTG->VISp : 32/34\n"
     ]
    },
    {
     "name": "stderr",
     "output_type": "stream",
     "text": [
      "|████████████████| [100.00% ] : 00:32\n",
      "[matchings       ] [INFO    ] : mapped ALM                  to MTG                 \n",
      "[matchings       ] [INFO    ] : (34 common cell types)\n",
      "[matchings       ] [INFO    ] : 34/34 correct mappings\n",
      "[matchings       ] [INFO    ] : 0 /34 incorrect mappings\n"
     ]
    },
    {
     "name": "stdout",
     "output_type": "stream",
     "text": [
      "   Noise:  0.00% |  ALM->MTG  : 34/34\n"
     ]
    },
    {
     "name": "stderr",
     "output_type": "stream",
     "text": [
      "|████████████████| [100.00% ] : 00:35\n",
      "[matchings       ] [INFO    ] : mapped ALM                  to MTG                 \n",
      "[matchings       ] [INFO    ] : (34 common cell types)\n",
      "[matchings       ] [INFO    ] : 34/34 correct mappings\n",
      "[matchings       ] [INFO    ] : 0 /34 incorrect mappings\n"
     ]
    },
    {
     "name": "stdout",
     "output_type": "stream",
     "text": [
      "   Noise:  2.50% |  ALM->MTG  : 34/34\n"
     ]
    },
    {
     "name": "stderr",
     "output_type": "stream",
     "text": [
      "|████████████████| [100.00% ] : 00:34\n",
      "[matchings       ] [INFO    ] : mapped ALM                  to MTG                 \n",
      "[matchings       ] [INFO    ] : (34 common cell types)\n",
      "[matchings       ] [INFO    ] : 34/34 correct mappings\n",
      "[matchings       ] [INFO    ] : 0 /34 incorrect mappings\n"
     ]
    },
    {
     "name": "stdout",
     "output_type": "stream",
     "text": [
      "   Noise:  5.00% |  ALM->MTG  : 34/34\n"
     ]
    },
    {
     "name": "stderr",
     "output_type": "stream",
     "text": [
      "|████████████████| [100.00% ] : 00:34\n",
      "[matchings       ] [INFO    ] : mapped ALM                  to MTG                 \n",
      "[matchings       ] [INFO    ] : (34 common cell types)\n",
      "[matchings       ] [INFO    ] : 34/34 correct mappings\n",
      "[matchings       ] [INFO    ] : 0 /34 incorrect mappings\n"
     ]
    },
    {
     "name": "stdout",
     "output_type": "stream",
     "text": [
      "   Noise:  7.50% |  ALM->MTG  : 34/34\n"
     ]
    },
    {
     "name": "stderr",
     "output_type": "stream",
     "text": [
      "|████████████████| [100.00% ] : 00:34\n",
      "[matchings       ] [INFO    ] : mapped ALM                  to MTG                 \n",
      "[matchings       ] [INFO    ] : (34 common cell types)\n",
      "[matchings       ] [INFO    ] : 34/34 correct mappings\n",
      "[matchings       ] [INFO    ] : 0 /34 incorrect mappings\n"
     ]
    },
    {
     "name": "stdout",
     "output_type": "stream",
     "text": [
      "   Noise: 10.00% |  ALM->MTG  : 34/34\n"
     ]
    },
    {
     "name": "stderr",
     "output_type": "stream",
     "text": [
      "|████████████████| [100.00% ] : 00:35\n",
      "[matchings       ] [INFO    ] : mapped ALM                  to MTG                 \n",
      "[matchings       ] [INFO    ] : (34 common cell types)\n",
      "[matchings       ] [INFO    ] : 34/34 correct mappings\n",
      "[matchings       ] [INFO    ] : 0 /34 incorrect mappings\n"
     ]
    },
    {
     "name": "stdout",
     "output_type": "stream",
     "text": [
      "   Noise: 12.50% |  ALM->MTG  : 34/34\n"
     ]
    },
    {
     "name": "stderr",
     "output_type": "stream",
     "text": [
      "|████████████████| [100.00% ] : 00:34\n",
      "[matchings       ] [INFO    ] : mapped ALM                  to MTG                 \n",
      "[matchings       ] [INFO    ] : (34 common cell types)\n",
      "[matchings       ] [INFO    ] : 34/34 correct mappings\n",
      "[matchings       ] [INFO    ] : 0 /34 incorrect mappings\n"
     ]
    },
    {
     "name": "stdout",
     "output_type": "stream",
     "text": [
      "   Noise: 15.00% |  ALM->MTG  : 34/34\n"
     ]
    },
    {
     "name": "stderr",
     "output_type": "stream",
     "text": [
      "|████████████████| [100.00% ] : 00:34\n",
      "[matchings       ] [INFO    ] : mapped ALM                  to MTG                 \n",
      "[matchings       ] [INFO    ] : (34 common cell types)\n",
      "[matchings       ] [INFO    ] : 34/34 correct mappings\n",
      "[matchings       ] [INFO    ] : 0 /34 incorrect mappings\n"
     ]
    },
    {
     "name": "stdout",
     "output_type": "stream",
     "text": [
      "   Noise: 17.50% |  ALM->MTG  : 34/34\n"
     ]
    },
    {
     "name": "stderr",
     "output_type": "stream",
     "text": [
      "|████████████████| [100.00% ] : 00:34\n",
      "[matchings       ] [INFO    ] : mapped ALM                  to MTG                 \n",
      "[matchings       ] [INFO    ] : (34 common cell types)\n",
      "[matchings       ] [INFO    ] : 34/34 correct mappings\n",
      "[matchings       ] [INFO    ] : 0 /34 incorrect mappings\n"
     ]
    },
    {
     "name": "stdout",
     "output_type": "stream",
     "text": [
      "   Noise: 20.00% |  ALM->MTG  : 34/34\n"
     ]
    },
    {
     "name": "stderr",
     "output_type": "stream",
     "text": [
      "|████████████████| [100.00% ] : 00:33\n",
      "[matchings       ] [INFO    ] : mapped ALM                  to MTG                 \n",
      "[matchings       ] [INFO    ] : (34 common cell types)\n",
      "[matchings       ] [INFO    ] : 34/34 correct mappings\n",
      "[matchings       ] [INFO    ] : 0 /34 incorrect mappings\n"
     ]
    },
    {
     "name": "stdout",
     "output_type": "stream",
     "text": [
      "   Noise: 22.50% |  ALM->MTG  : 34/34\n"
     ]
    },
    {
     "name": "stderr",
     "output_type": "stream",
     "text": [
      "|████████████████| [100.00% ] : 00:33\n",
      "[matchings       ] [INFO    ] : mapped ALM                  to MTG                 \n",
      "[matchings       ] [INFO    ] : (34 common cell types)\n",
      "[matchings       ] [INFO    ] : 34/34 correct mappings\n",
      "[matchings       ] [INFO    ] : 0 /34 incorrect mappings\n"
     ]
    },
    {
     "name": "stdout",
     "output_type": "stream",
     "text": [
      "   Noise: 25.00% |  ALM->MTG  : 34/34\n"
     ]
    },
    {
     "name": "stderr",
     "output_type": "stream",
     "text": [
      "|████████████████| [100.00% ] : 00:34\n",
      "[matchings       ] [INFO    ] : mapped ALM                  to MTG                 \n",
      "[matchings       ] [INFO    ] : (34 common cell types)\n",
      "[matchings       ] [INFO    ] : 34/34 correct mappings\n",
      "[matchings       ] [INFO    ] : 0 /34 incorrect mappings\n"
     ]
    },
    {
     "name": "stdout",
     "output_type": "stream",
     "text": [
      "   Noise: 27.50% |  ALM->MTG  : 34/34\n"
     ]
    },
    {
     "name": "stderr",
     "output_type": "stream",
     "text": [
      "|████████████████| [100.00% ] : 00:33\n",
      "[matchings       ] [INFO    ] : mapped ALM                  to MTG                 \n",
      "[matchings       ] [INFO    ] : (34 common cell types)\n",
      "[matchings       ] [INFO    ] : 34/34 correct mappings\n",
      "[matchings       ] [INFO    ] : 0 /34 incorrect mappings\n"
     ]
    },
    {
     "name": "stdout",
     "output_type": "stream",
     "text": [
      "   Noise: 30.00% |  ALM->MTG  : 34/34\n"
     ]
    },
    {
     "name": "stderr",
     "output_type": "stream",
     "text": [
      "|████████████████| [100.00% ] : 00:34\n",
      "[matchings       ] [INFO    ] : mapped ALM                  to MTG                 \n",
      "[matchings       ] [INFO    ] : (34 common cell types)\n",
      "[matchings       ] [INFO    ] : 34/34 correct mappings\n",
      "[matchings       ] [INFO    ] : 0 /34 incorrect mappings\n"
     ]
    },
    {
     "name": "stdout",
     "output_type": "stream",
     "text": [
      "   Noise: 32.50% |  ALM->MTG  : 34/34\n"
     ]
    },
    {
     "name": "stderr",
     "output_type": "stream",
     "text": [
      "|████████████████| [100.00% ] : 00:34\n",
      "[matchings       ] [INFO    ] : mapped ALM                  to MTG                 \n",
      "[matchings       ] [INFO    ] : (34 common cell types)\n",
      "[matchings       ] [INFO    ] : 34/34 correct mappings\n",
      "[matchings       ] [INFO    ] : 0 /34 incorrect mappings\n"
     ]
    },
    {
     "name": "stdout",
     "output_type": "stream",
     "text": [
      "   Noise: 35.00% |  ALM->MTG  : 34/34\n"
     ]
    },
    {
     "name": "stderr",
     "output_type": "stream",
     "text": [
      "|████████████████| [100.00% ] : 00:33\n",
      "[matchings       ] [INFO    ] : mapped ALM                  to MTG                 \n",
      "[matchings       ] [INFO    ] : (34 common cell types)\n",
      "[matchings       ] [INFO    ] : 34/34 correct mappings\n",
      "[matchings       ] [INFO    ] : 0 /34 incorrect mappings\n"
     ]
    },
    {
     "name": "stdout",
     "output_type": "stream",
     "text": [
      "   Noise: 37.50% |  ALM->MTG  : 34/34\n"
     ]
    },
    {
     "name": "stderr",
     "output_type": "stream",
     "text": [
      "|████████████████| [100.00% ] : 00:33\n",
      "[matchings       ] [INFO    ] : mapped ALM                  to MTG                 \n",
      "[matchings       ] [INFO    ] : (34 common cell types)\n",
      "[matchings       ] [INFO    ] : 34/34 correct mappings\n",
      "[matchings       ] [INFO    ] : 0 /34 incorrect mappings\n"
     ]
    },
    {
     "name": "stdout",
     "output_type": "stream",
     "text": [
      "   Noise: 40.00% |  ALM->MTG  : 34/34\n"
     ]
    },
    {
     "name": "stderr",
     "output_type": "stream",
     "text": [
      "|████████████████| [100.00% ] : 00:33\n",
      "[matchings       ] [INFO    ] : mapped ALM                  to MTG                 \n",
      "[matchings       ] [INFO    ] : (34 common cell types)\n",
      "[matchings       ] [INFO    ] : 34/34 correct mappings\n",
      "[matchings       ] [INFO    ] : 0 /34 incorrect mappings\n"
     ]
    },
    {
     "name": "stdout",
     "output_type": "stream",
     "text": [
      "   Noise: 42.50% |  ALM->MTG  : 34/34\n"
     ]
    },
    {
     "name": "stderr",
     "output_type": "stream",
     "text": [
      "|████████████████| [100.00% ] : 00:33\n",
      "[matchings       ] [INFO    ] : mapped ALM                  to MTG                 \n",
      "[matchings       ] [INFO    ] : (34 common cell types)\n",
      "[matchings       ] [INFO    ] : 34/34 correct mappings\n",
      "[matchings       ] [INFO    ] : 0 /34 incorrect mappings\n"
     ]
    },
    {
     "name": "stdout",
     "output_type": "stream",
     "text": [
      "   Noise: 45.00% |  ALM->MTG  : 34/34\n"
     ]
    },
    {
     "name": "stderr",
     "output_type": "stream",
     "text": [
      "|████████████████| [100.00% ] : 00:33\n",
      "[matchings       ] [INFO    ] : mapped ALM                  to MTG                 \n",
      "[matchings       ] [INFO    ] : (34 common cell types)\n",
      "[matchings       ] [INFO    ] : 32/34 correct mappings\n",
      "[matchings       ] [INFO    ] : 2 /34 incorrect mappings\n"
     ]
    },
    {
     "name": "stdout",
     "output_type": "stream",
     "text": [
      "   Noise: 47.50% |  ALM->MTG  : 32/34\n"
     ]
    },
    {
     "name": "stderr",
     "output_type": "stream",
     "text": [
      "|████████████████| [100.00% ] : 00:33\n",
      "[matchings       ] [INFO    ] : mapped ALM                  to MTG                 \n",
      "[matchings       ] [INFO    ] : (34 common cell types)\n",
      "[matchings       ] [INFO    ] : 34/34 correct mappings\n",
      "[matchings       ] [INFO    ] : 0 /34 incorrect mappings\n"
     ]
    },
    {
     "name": "stdout",
     "output_type": "stream",
     "text": [
      "   Noise: 50.00% |  ALM->MTG  : 34/34\n"
     ]
    },
    {
     "name": "stderr",
     "output_type": "stream",
     "text": [
      "|████████████████| [100.00% ] : 00:28\n",
      "[matchings       ] [INFO    ] : mapped ALM                  to VISp                \n",
      "[matchings       ] [INFO    ] : (34 common cell types)\n",
      "[matchings       ] [INFO    ] : 34/34 correct mappings\n",
      "[matchings       ] [INFO    ] : 0 /34 incorrect mappings\n"
     ]
    },
    {
     "name": "stdout",
     "output_type": "stream",
     "text": [
      "   Noise:  0.00% |  ALM->VISp : 34/34\n"
     ]
    },
    {
     "name": "stderr",
     "output_type": "stream",
     "text": [
      "|████████████████| [100.00% ] : 00:28\n",
      "[matchings       ] [INFO    ] : mapped ALM                  to VISp                \n",
      "[matchings       ] [INFO    ] : (34 common cell types)\n",
      "[matchings       ] [INFO    ] : 34/34 correct mappings\n",
      "[matchings       ] [INFO    ] : 0 /34 incorrect mappings\n"
     ]
    },
    {
     "name": "stdout",
     "output_type": "stream",
     "text": [
      "   Noise:  2.50% |  ALM->VISp : 34/34\n"
     ]
    },
    {
     "name": "stderr",
     "output_type": "stream",
     "text": [
      "|████████████████| [100.00% ] : 00:28\n",
      "[matchings       ] [INFO    ] : mapped ALM                  to VISp                \n",
      "[matchings       ] [INFO    ] : (34 common cell types)\n",
      "[matchings       ] [INFO    ] : 34/34 correct mappings\n",
      "[matchings       ] [INFO    ] : 0 /34 incorrect mappings\n"
     ]
    },
    {
     "name": "stdout",
     "output_type": "stream",
     "text": [
      "   Noise:  5.00% |  ALM->VISp : 34/34\n"
     ]
    },
    {
     "name": "stderr",
     "output_type": "stream",
     "text": [
      "|████████████████| [100.00% ] : 00:28\n",
      "[matchings       ] [INFO    ] : mapped ALM                  to VISp                \n",
      "[matchings       ] [INFO    ] : (34 common cell types)\n",
      "[matchings       ] [INFO    ] : 34/34 correct mappings\n",
      "[matchings       ] [INFO    ] : 0 /34 incorrect mappings\n"
     ]
    },
    {
     "name": "stdout",
     "output_type": "stream",
     "text": [
      "   Noise:  7.50% |  ALM->VISp : 34/34\n"
     ]
    },
    {
     "name": "stderr",
     "output_type": "stream",
     "text": [
      "|████████████████| [100.00% ] : 00:28\n",
      "[matchings       ] [INFO    ] : mapped ALM                  to VISp                \n",
      "[matchings       ] [INFO    ] : (34 common cell types)\n",
      "[matchings       ] [INFO    ] : 34/34 correct mappings\n",
      "[matchings       ] [INFO    ] : 0 /34 incorrect mappings\n"
     ]
    },
    {
     "name": "stdout",
     "output_type": "stream",
     "text": [
      "   Noise: 10.00% |  ALM->VISp : 34/34\n"
     ]
    },
    {
     "name": "stderr",
     "output_type": "stream",
     "text": [
      "|████████████████| [100.00% ] : 00:27\n",
      "[matchings       ] [INFO    ] : mapped ALM                  to VISp                \n",
      "[matchings       ] [INFO    ] : (34 common cell types)\n",
      "[matchings       ] [INFO    ] : 34/34 correct mappings\n",
      "[matchings       ] [INFO    ] : 0 /34 incorrect mappings\n"
     ]
    },
    {
     "name": "stdout",
     "output_type": "stream",
     "text": [
      "   Noise: 12.50% |  ALM->VISp : 34/34\n"
     ]
    },
    {
     "name": "stderr",
     "output_type": "stream",
     "text": [
      "|████████████████| [100.00% ] : 00:27\n",
      "[matchings       ] [INFO    ] : mapped ALM                  to VISp                \n",
      "[matchings       ] [INFO    ] : (34 common cell types)\n",
      "[matchings       ] [INFO    ] : 34/34 correct mappings\n",
      "[matchings       ] [INFO    ] : 0 /34 incorrect mappings\n"
     ]
    },
    {
     "name": "stdout",
     "output_type": "stream",
     "text": [
      "   Noise: 15.00% |  ALM->VISp : 34/34\n"
     ]
    },
    {
     "name": "stderr",
     "output_type": "stream",
     "text": [
      "|████████████████| [100.00% ] : 00:27\n",
      "[matchings       ] [INFO    ] : mapped ALM                  to VISp                \n",
      "[matchings       ] [INFO    ] : (34 common cell types)\n",
      "[matchings       ] [INFO    ] : 34/34 correct mappings\n",
      "[matchings       ] [INFO    ] : 0 /34 incorrect mappings\n"
     ]
    },
    {
     "name": "stdout",
     "output_type": "stream",
     "text": [
      "   Noise: 17.50% |  ALM->VISp : 34/34\n"
     ]
    },
    {
     "name": "stderr",
     "output_type": "stream",
     "text": [
      "|████████████████| [100.00% ] : 00:27\n",
      "[matchings       ] [INFO    ] : mapped ALM                  to VISp                \n",
      "[matchings       ] [INFO    ] : (34 common cell types)\n",
      "[matchings       ] [INFO    ] : 34/34 correct mappings\n",
      "[matchings       ] [INFO    ] : 0 /34 incorrect mappings\n"
     ]
    },
    {
     "name": "stdout",
     "output_type": "stream",
     "text": [
      "   Noise: 20.00% |  ALM->VISp : 34/34\n"
     ]
    },
    {
     "name": "stderr",
     "output_type": "stream",
     "text": [
      "|████████████████| [100.00% ] : 00:27\n",
      "[matchings       ] [INFO    ] : mapped ALM                  to VISp                \n",
      "[matchings       ] [INFO    ] : (34 common cell types)\n",
      "[matchings       ] [INFO    ] : 34/34 correct mappings\n",
      "[matchings       ] [INFO    ] : 0 /34 incorrect mappings\n"
     ]
    },
    {
     "name": "stdout",
     "output_type": "stream",
     "text": [
      "   Noise: 22.50% |  ALM->VISp : 34/34\n"
     ]
    },
    {
     "name": "stderr",
     "output_type": "stream",
     "text": [
      "|████████████████| [100.00% ] : 00:28\n",
      "[matchings       ] [INFO    ] : mapped ALM                  to VISp                \n",
      "[matchings       ] [INFO    ] : (34 common cell types)\n",
      "[matchings       ] [INFO    ] : 34/34 correct mappings\n",
      "[matchings       ] [INFO    ] : 0 /34 incorrect mappings\n"
     ]
    },
    {
     "name": "stdout",
     "output_type": "stream",
     "text": [
      "   Noise: 25.00% |  ALM->VISp : 34/34\n"
     ]
    },
    {
     "name": "stderr",
     "output_type": "stream",
     "text": [
      "|████████████████| [100.00% ] : 00:27\n",
      "[matchings       ] [INFO    ] : mapped ALM                  to VISp                \n",
      "[matchings       ] [INFO    ] : (34 common cell types)\n",
      "[matchings       ] [INFO    ] : 34/34 correct mappings\n",
      "[matchings       ] [INFO    ] : 0 /34 incorrect mappings\n"
     ]
    },
    {
     "name": "stdout",
     "output_type": "stream",
     "text": [
      "   Noise: 27.50% |  ALM->VISp : 34/34\n"
     ]
    },
    {
     "name": "stderr",
     "output_type": "stream",
     "text": [
      "|████████████████| [100.00% ] : 00:28\n",
      "[matchings       ] [INFO    ] : mapped ALM                  to VISp                \n",
      "[matchings       ] [INFO    ] : (34 common cell types)\n",
      "[matchings       ] [INFO    ] : 34/34 correct mappings\n",
      "[matchings       ] [INFO    ] : 0 /34 incorrect mappings\n"
     ]
    },
    {
     "name": "stdout",
     "output_type": "stream",
     "text": [
      "   Noise: 30.00% |  ALM->VISp : 34/34\n"
     ]
    },
    {
     "name": "stderr",
     "output_type": "stream",
     "text": [
      "|████████████████| [100.00% ] : 00:27\n",
      "[matchings       ] [INFO    ] : mapped ALM                  to VISp                \n",
      "[matchings       ] [INFO    ] : (34 common cell types)\n",
      "[matchings       ] [INFO    ] : 34/34 correct mappings\n",
      "[matchings       ] [INFO    ] : 0 /34 incorrect mappings\n"
     ]
    },
    {
     "name": "stdout",
     "output_type": "stream",
     "text": [
      "   Noise: 32.50% |  ALM->VISp : 34/34\n"
     ]
    },
    {
     "name": "stderr",
     "output_type": "stream",
     "text": [
      "|████████████████| [100.00% ] : 00:28\n",
      "[matchings       ] [INFO    ] : mapped ALM                  to VISp                \n",
      "[matchings       ] [INFO    ] : (34 common cell types)\n",
      "[matchings       ] [INFO    ] : 34/34 correct mappings\n",
      "[matchings       ] [INFO    ] : 0 /34 incorrect mappings\n"
     ]
    },
    {
     "name": "stdout",
     "output_type": "stream",
     "text": [
      "   Noise: 35.00% |  ALM->VISp : 34/34\n"
     ]
    },
    {
     "name": "stderr",
     "output_type": "stream",
     "text": [
      "|████████████████| [100.00% ] : 00:28\n",
      "[matchings       ] [INFO    ] : mapped ALM                  to VISp                \n",
      "[matchings       ] [INFO    ] : (34 common cell types)\n",
      "[matchings       ] [INFO    ] : 34/34 correct mappings\n",
      "[matchings       ] [INFO    ] : 0 /34 incorrect mappings\n"
     ]
    },
    {
     "name": "stdout",
     "output_type": "stream",
     "text": [
      "   Noise: 37.50% |  ALM->VISp : 34/34\n"
     ]
    },
    {
     "name": "stderr",
     "output_type": "stream",
     "text": [
      "|████████████████| [100.00% ] : 00:27\n",
      "[matchings       ] [INFO    ] : mapped ALM                  to VISp                \n",
      "[matchings       ] [INFO    ] : (34 common cell types)\n",
      "[matchings       ] [INFO    ] : 34/34 correct mappings\n",
      "[matchings       ] [INFO    ] : 0 /34 incorrect mappings\n"
     ]
    },
    {
     "name": "stdout",
     "output_type": "stream",
     "text": [
      "   Noise: 40.00% |  ALM->VISp : 34/34\n"
     ]
    },
    {
     "name": "stderr",
     "output_type": "stream",
     "text": [
      "|████████████████| [100.00% ] : 00:27\n",
      "[matchings       ] [INFO    ] : mapped ALM                  to VISp                \n",
      "[matchings       ] [INFO    ] : (34 common cell types)\n",
      "[matchings       ] [INFO    ] : 34/34 correct mappings\n",
      "[matchings       ] [INFO    ] : 0 /34 incorrect mappings\n"
     ]
    },
    {
     "name": "stdout",
     "output_type": "stream",
     "text": [
      "   Noise: 42.50% |  ALM->VISp : 34/34\n"
     ]
    },
    {
     "name": "stderr",
     "output_type": "stream",
     "text": [
      "|████████████████| [100.00% ] : 00:27\n",
      "[matchings       ] [INFO    ] : mapped ALM                  to VISp                \n",
      "[matchings       ] [INFO    ] : (34 common cell types)\n",
      "[matchings       ] [INFO    ] : 34/34 correct mappings\n",
      "[matchings       ] [INFO    ] : 0 /34 incorrect mappings\n"
     ]
    },
    {
     "name": "stdout",
     "output_type": "stream",
     "text": [
      "   Noise: 45.00% |  ALM->VISp : 34/34\n"
     ]
    },
    {
     "name": "stderr",
     "output_type": "stream",
     "text": [
      "|████████████████| [100.00% ] : 00:27\n",
      "[matchings       ] [INFO    ] : mapped ALM                  to VISp                \n",
      "[matchings       ] [INFO    ] : (34 common cell types)\n",
      "[matchings       ] [INFO    ] : 34/34 correct mappings\n",
      "[matchings       ] [INFO    ] : 0 /34 incorrect mappings\n"
     ]
    },
    {
     "name": "stdout",
     "output_type": "stream",
     "text": [
      "   Noise: 47.50% |  ALM->VISp : 34/34\n"
     ]
    },
    {
     "name": "stderr",
     "output_type": "stream",
     "text": [
      "|████████████████| [100.00% ] : 00:27\n",
      "[matchings       ] [INFO    ] : mapped ALM                  to VISp                \n",
      "[matchings       ] [INFO    ] : (34 common cell types)\n",
      "[matchings       ] [INFO    ] : 34/34 correct mappings\n",
      "[matchings       ] [INFO    ] : 0 /34 incorrect mappings\n"
     ]
    },
    {
     "name": "stdout",
     "output_type": "stream",
     "text": [
      "   Noise: 50.00% |  ALM->VISp : 34/34\n"
     ]
    },
    {
     "name": "stderr",
     "output_type": "stream",
     "text": [
      "|████████████████| [100.00% ] : 00:47\n",
      "[matchings       ] [INFO    ] : mapped VISp                 to MTG                 \n",
      "[matchings       ] [INFO    ] : (34 common cell types)\n",
      "[matchings       ] [INFO    ] : 34/34 correct mappings\n",
      "[matchings       ] [INFO    ] : 0 /34 incorrect mappings\n"
     ]
    },
    {
     "name": "stdout",
     "output_type": "stream",
     "text": [
      "   Noise:  0.00% | VISp->MTG  : 34/34\n"
     ]
    },
    {
     "name": "stderr",
     "output_type": "stream",
     "text": [
      "|████████████████| [100.00% ] : 00:47\n",
      "[matchings       ] [INFO    ] : mapped VISp                 to MTG                 \n",
      "[matchings       ] [INFO    ] : (34 common cell types)\n",
      "[matchings       ] [INFO    ] : 34/34 correct mappings\n",
      "[matchings       ] [INFO    ] : 0 /34 incorrect mappings\n"
     ]
    },
    {
     "name": "stdout",
     "output_type": "stream",
     "text": [
      "   Noise:  2.50% | VISp->MTG  : 34/34\n"
     ]
    },
    {
     "name": "stderr",
     "output_type": "stream",
     "text": [
      "|████████████████| [100.00% ] : 00:47\n",
      "[matchings       ] [INFO    ] : mapped VISp                 to MTG                 \n",
      "[matchings       ] [INFO    ] : (34 common cell types)\n",
      "[matchings       ] [INFO    ] : 34/34 correct mappings\n",
      "[matchings       ] [INFO    ] : 0 /34 incorrect mappings\n"
     ]
    },
    {
     "name": "stdout",
     "output_type": "stream",
     "text": [
      "   Noise:  5.00% | VISp->MTG  : 34/34\n"
     ]
    },
    {
     "name": "stderr",
     "output_type": "stream",
     "text": [
      "|████████████████| [100.00% ] : 00:47\n",
      "[matchings       ] [INFO    ] : mapped VISp                 to MTG                 \n",
      "[matchings       ] [INFO    ] : (34 common cell types)\n",
      "[matchings       ] [INFO    ] : 34/34 correct mappings\n",
      "[matchings       ] [INFO    ] : 0 /34 incorrect mappings\n"
     ]
    },
    {
     "name": "stdout",
     "output_type": "stream",
     "text": [
      "   Noise:  7.50% | VISp->MTG  : 34/34\n"
     ]
    },
    {
     "name": "stderr",
     "output_type": "stream",
     "text": [
      "|████████████████| [100.00% ] : 00:47\n",
      "[matchings       ] [INFO    ] : mapped VISp                 to MTG                 \n",
      "[matchings       ] [INFO    ] : (34 common cell types)\n",
      "[matchings       ] [INFO    ] : 34/34 correct mappings\n",
      "[matchings       ] [INFO    ] : 0 /34 incorrect mappings\n"
     ]
    },
    {
     "name": "stdout",
     "output_type": "stream",
     "text": [
      "   Noise: 10.00% | VISp->MTG  : 34/34\n"
     ]
    },
    {
     "name": "stderr",
     "output_type": "stream",
     "text": [
      "|████████████████| [100.00% ] : 00:47\n",
      "[matchings       ] [INFO    ] : mapped VISp                 to MTG                 \n",
      "[matchings       ] [INFO    ] : (34 common cell types)\n",
      "[matchings       ] [INFO    ] : 34/34 correct mappings\n",
      "[matchings       ] [INFO    ] : 0 /34 incorrect mappings\n"
     ]
    },
    {
     "name": "stdout",
     "output_type": "stream",
     "text": [
      "   Noise: 12.50% | VISp->MTG  : 34/34\n"
     ]
    },
    {
     "name": "stderr",
     "output_type": "stream",
     "text": [
      "|████████████████| [100.00% ] : 00:46\n",
      "[matchings       ] [INFO    ] : mapped VISp                 to MTG                 \n",
      "[matchings       ] [INFO    ] : (34 common cell types)\n",
      "[matchings       ] [INFO    ] : 34/34 correct mappings\n",
      "[matchings       ] [INFO    ] : 0 /34 incorrect mappings\n"
     ]
    },
    {
     "name": "stdout",
     "output_type": "stream",
     "text": [
      "   Noise: 15.00% | VISp->MTG  : 34/34\n"
     ]
    },
    {
     "name": "stderr",
     "output_type": "stream",
     "text": [
      "|████████████████| [100.00% ] : 00:46\n",
      "[matchings       ] [INFO    ] : mapped VISp                 to MTG                 \n",
      "[matchings       ] [INFO    ] : (34 common cell types)\n",
      "[matchings       ] [INFO    ] : 34/34 correct mappings\n",
      "[matchings       ] [INFO    ] : 0 /34 incorrect mappings\n"
     ]
    },
    {
     "name": "stdout",
     "output_type": "stream",
     "text": [
      "   Noise: 17.50% | VISp->MTG  : 34/34\n"
     ]
    },
    {
     "name": "stderr",
     "output_type": "stream",
     "text": [
      "|████████████████| [100.00% ] : 00:46\n",
      "[matchings       ] [INFO    ] : mapped VISp                 to MTG                 \n",
      "[matchings       ] [INFO    ] : (34 common cell types)\n",
      "[matchings       ] [INFO    ] : 34/34 correct mappings\n",
      "[matchings       ] [INFO    ] : 0 /34 incorrect mappings\n"
     ]
    },
    {
     "name": "stdout",
     "output_type": "stream",
     "text": [
      "   Noise: 20.00% | VISp->MTG  : 34/34\n"
     ]
    },
    {
     "name": "stderr",
     "output_type": "stream",
     "text": [
      "|████████████████| [100.00% ] : 00:42\n",
      "[matchings       ] [INFO    ] : mapped VISp                 to MTG                 \n",
      "[matchings       ] [INFO    ] : (34 common cell types)\n",
      "[matchings       ] [INFO    ] : 34/34 correct mappings\n",
      "[matchings       ] [INFO    ] : 0 /34 incorrect mappings\n"
     ]
    },
    {
     "name": "stdout",
     "output_type": "stream",
     "text": [
      "   Noise: 22.50% | VISp->MTG  : 34/34\n"
     ]
    },
    {
     "name": "stderr",
     "output_type": "stream",
     "text": [
      "|████████████████| [100.00% ] : 00:46\n",
      "[matchings       ] [INFO    ] : mapped VISp                 to MTG                 \n",
      "[matchings       ] [INFO    ] : (34 common cell types)\n",
      "[matchings       ] [INFO    ] : 34/34 correct mappings\n",
      "[matchings       ] [INFO    ] : 0 /34 incorrect mappings\n"
     ]
    },
    {
     "name": "stdout",
     "output_type": "stream",
     "text": [
      "   Noise: 25.00% | VISp->MTG  : 34/34\n"
     ]
    },
    {
     "name": "stderr",
     "output_type": "stream",
     "text": [
      "|████████████████| [100.00% ] : 00:42\n",
      "[matchings       ] [INFO    ] : mapped VISp                 to MTG                 \n",
      "[matchings       ] [INFO    ] : (34 common cell types)\n",
      "[matchings       ] [INFO    ] : 34/34 correct mappings\n",
      "[matchings       ] [INFO    ] : 0 /34 incorrect mappings\n"
     ]
    },
    {
     "name": "stdout",
     "output_type": "stream",
     "text": [
      "   Noise: 27.50% | VISp->MTG  : 34/34\n"
     ]
    },
    {
     "name": "stderr",
     "output_type": "stream",
     "text": [
      "|████████████████| [100.00% ] : 00:46\n",
      "[matchings       ] [INFO    ] : mapped VISp                 to MTG                 \n",
      "[matchings       ] [INFO    ] : (34 common cell types)\n",
      "[matchings       ] [INFO    ] : 34/34 correct mappings\n",
      "[matchings       ] [INFO    ] : 0 /34 incorrect mappings\n"
     ]
    },
    {
     "name": "stdout",
     "output_type": "stream",
     "text": [
      "   Noise: 30.00% | VISp->MTG  : 34/34\n"
     ]
    },
    {
     "name": "stderr",
     "output_type": "stream",
     "text": [
      "|████████████████| [100.00% ] : 00:45\n",
      "[matchings       ] [INFO    ] : mapped VISp                 to MTG                 \n",
      "[matchings       ] [INFO    ] : (34 common cell types)\n",
      "[matchings       ] [INFO    ] : 34/34 correct mappings\n",
      "[matchings       ] [INFO    ] : 0 /34 incorrect mappings\n"
     ]
    },
    {
     "name": "stdout",
     "output_type": "stream",
     "text": [
      "   Noise: 32.50% | VISp->MTG  : 34/34\n"
     ]
    },
    {
     "name": "stderr",
     "output_type": "stream",
     "text": [
      "|████████████████| [100.00% ] : 00:46\n",
      "[matchings       ] [INFO    ] : mapped VISp                 to MTG                 \n",
      "[matchings       ] [INFO    ] : (34 common cell types)\n",
      "[matchings       ] [INFO    ] : 34/34 correct mappings\n",
      "[matchings       ] [INFO    ] : 0 /34 incorrect mappings\n"
     ]
    },
    {
     "name": "stdout",
     "output_type": "stream",
     "text": [
      "   Noise: 35.00% | VISp->MTG  : 34/34\n"
     ]
    },
    {
     "name": "stderr",
     "output_type": "stream",
     "text": [
      "|████████████████| [100.00% ] : 00:45\n",
      "[matchings       ] [INFO    ] : mapped VISp                 to MTG                 \n",
      "[matchings       ] [INFO    ] : (34 common cell types)\n",
      "[matchings       ] [INFO    ] : 34/34 correct mappings\n",
      "[matchings       ] [INFO    ] : 0 /34 incorrect mappings\n"
     ]
    },
    {
     "name": "stdout",
     "output_type": "stream",
     "text": [
      "   Noise: 37.50% | VISp->MTG  : 34/34\n"
     ]
    },
    {
     "name": "stderr",
     "output_type": "stream",
     "text": [
      "|████████████████| [100.00% ] : 00:42\n",
      "[matchings       ] [INFO    ] : mapped VISp                 to MTG                 \n",
      "[matchings       ] [INFO    ] : (34 common cell types)\n",
      "[matchings       ] [INFO    ] : 34/34 correct mappings\n",
      "[matchings       ] [INFO    ] : 0 /34 incorrect mappings\n"
     ]
    },
    {
     "name": "stdout",
     "output_type": "stream",
     "text": [
      "   Noise: 40.00% | VISp->MTG  : 34/34\n"
     ]
    },
    {
     "name": "stderr",
     "output_type": "stream",
     "text": [
      "|████████████████| [100.00% ] : 00:45\n",
      "[matchings       ] [INFO    ] : mapped VISp                 to MTG                 \n",
      "[matchings       ] [INFO    ] : (34 common cell types)\n",
      "[matchings       ] [INFO    ] : 34/34 correct mappings\n",
      "[matchings       ] [INFO    ] : 0 /34 incorrect mappings\n"
     ]
    },
    {
     "name": "stdout",
     "output_type": "stream",
     "text": [
      "   Noise: 42.50% | VISp->MTG  : 34/34\n"
     ]
    },
    {
     "name": "stderr",
     "output_type": "stream",
     "text": [
      "|████████████████| [100.00% ] : 00:45\n",
      "[matchings       ] [INFO    ] : mapped VISp                 to MTG                 \n",
      "[matchings       ] [INFO    ] : (34 common cell types)\n",
      "[matchings       ] [INFO    ] : 34/34 correct mappings\n",
      "[matchings       ] [INFO    ] : 0 /34 incorrect mappings\n"
     ]
    },
    {
     "name": "stdout",
     "output_type": "stream",
     "text": [
      "   Noise: 45.00% | VISp->MTG  : 34/34\n"
     ]
    },
    {
     "name": "stderr",
     "output_type": "stream",
     "text": [
      "|████████████████| [100.00% ] : 00:45\n",
      "[matchings       ] [INFO    ] : mapped VISp                 to MTG                 \n",
      "[matchings       ] [INFO    ] : (34 common cell types)\n",
      "[matchings       ] [INFO    ] : 34/34 correct mappings\n",
      "[matchings       ] [INFO    ] : 0 /34 incorrect mappings\n"
     ]
    },
    {
     "name": "stdout",
     "output_type": "stream",
     "text": [
      "   Noise: 47.50% | VISp->MTG  : 34/34\n"
     ]
    },
    {
     "name": "stderr",
     "output_type": "stream",
     "text": [
      "|████████████████| [100.00% ] : 00:45\n",
      "[matchings       ] [INFO    ] : mapped VISp                 to MTG                 \n",
      "[matchings       ] [INFO    ] : (34 common cell types)\n",
      "[matchings       ] [INFO    ] : 34/34 correct mappings\n",
      "[matchings       ] [INFO    ] : 0 /34 incorrect mappings\n"
     ]
    },
    {
     "name": "stdout",
     "output_type": "stream",
     "text": [
      "   Noise: 50.00% | VISp->MTG  : 34/34\n"
     ]
    },
    {
     "name": "stderr",
     "output_type": "stream",
     "text": [
      "|████████████████| [100.00% ] : 00:26\n",
      "[matchings       ] [INFO    ] : mapped VISp                 to ALM                 \n",
      "[matchings       ] [INFO    ] : (34 common cell types)\n",
      "[matchings       ] [INFO    ] : 34/34 correct mappings\n",
      "[matchings       ] [INFO    ] : 0 /34 incorrect mappings\n"
     ]
    },
    {
     "name": "stdout",
     "output_type": "stream",
     "text": [
      "   Noise:  0.00% | VISp->ALM  : 34/34\n"
     ]
    },
    {
     "name": "stderr",
     "output_type": "stream",
     "text": [
      "|████████████████| [100.00% ] : 00:26\n",
      "[matchings       ] [INFO    ] : mapped VISp                 to ALM                 \n",
      "[matchings       ] [INFO    ] : (34 common cell types)\n",
      "[matchings       ] [INFO    ] : 32/34 correct mappings\n",
      "[matchings       ] [INFO    ] : 2 /34 incorrect mappings\n"
     ]
    },
    {
     "name": "stdout",
     "output_type": "stream",
     "text": [
      "   Noise:  2.50% | VISp->ALM  : 32/34\n"
     ]
    },
    {
     "name": "stderr",
     "output_type": "stream",
     "text": [
      "|████████████████| [100.00% ] : 00:26\n",
      "[matchings       ] [INFO    ] : mapped VISp                 to ALM                 \n",
      "[matchings       ] [INFO    ] : (34 common cell types)\n",
      "[matchings       ] [INFO    ] : 32/34 correct mappings\n",
      "[matchings       ] [INFO    ] : 2 /34 incorrect mappings\n"
     ]
    },
    {
     "name": "stdout",
     "output_type": "stream",
     "text": [
      "   Noise:  5.00% | VISp->ALM  : 32/34\n"
     ]
    },
    {
     "name": "stderr",
     "output_type": "stream",
     "text": [
      "|████████████████| [100.00% ] : 00:26\n",
      "[matchings       ] [INFO    ] : mapped VISp                 to ALM                 \n",
      "[matchings       ] [INFO    ] : (34 common cell types)\n",
      "[matchings       ] [INFO    ] : 32/34 correct mappings\n",
      "[matchings       ] [INFO    ] : 2 /34 incorrect mappings\n"
     ]
    },
    {
     "name": "stdout",
     "output_type": "stream",
     "text": [
      "   Noise:  7.50% | VISp->ALM  : 32/34\n"
     ]
    },
    {
     "name": "stderr",
     "output_type": "stream",
     "text": [
      "|████████████████| [100.00% ] : 00:27\n",
      "[matchings       ] [INFO    ] : mapped VISp                 to ALM                 \n",
      "[matchings       ] [INFO    ] : (34 common cell types)\n",
      "[matchings       ] [INFO    ] : 32/34 correct mappings\n",
      "[matchings       ] [INFO    ] : 2 /34 incorrect mappings\n"
     ]
    },
    {
     "name": "stdout",
     "output_type": "stream",
     "text": [
      "   Noise: 10.00% | VISp->ALM  : 32/34\n"
     ]
    },
    {
     "name": "stderr",
     "output_type": "stream",
     "text": [
      "|████████████████| [100.00% ] : 00:26\n",
      "[matchings       ] [INFO    ] : mapped VISp                 to ALM                 \n",
      "[matchings       ] [INFO    ] : (34 common cell types)\n",
      "[matchings       ] [INFO    ] : 32/34 correct mappings\n",
      "[matchings       ] [INFO    ] : 2 /34 incorrect mappings\n"
     ]
    },
    {
     "name": "stdout",
     "output_type": "stream",
     "text": [
      "   Noise: 12.50% | VISp->ALM  : 32/34\n"
     ]
    },
    {
     "name": "stderr",
     "output_type": "stream",
     "text": [
      "|████████████████| [100.00% ] : 00:26\n",
      "[matchings       ] [INFO    ] : mapped VISp                 to ALM                 \n",
      "[matchings       ] [INFO    ] : (34 common cell types)\n",
      "[matchings       ] [INFO    ] : 32/34 correct mappings\n",
      "[matchings       ] [INFO    ] : 2 /34 incorrect mappings\n"
     ]
    },
    {
     "name": "stdout",
     "output_type": "stream",
     "text": [
      "   Noise: 15.00% | VISp->ALM  : 32/34\n"
     ]
    },
    {
     "name": "stderr",
     "output_type": "stream",
     "text": [
      "|████████████████| [100.00% ] : 00:26\n",
      "[matchings       ] [INFO    ] : mapped VISp                 to ALM                 \n",
      "[matchings       ] [INFO    ] : (34 common cell types)\n",
      "[matchings       ] [INFO    ] : 32/34 correct mappings\n",
      "[matchings       ] [INFO    ] : 2 /34 incorrect mappings\n"
     ]
    },
    {
     "name": "stdout",
     "output_type": "stream",
     "text": [
      "   Noise: 17.50% | VISp->ALM  : 32/34\n"
     ]
    },
    {
     "name": "stderr",
     "output_type": "stream",
     "text": [
      "|████████████████| [100.00% ] : 00:26\n",
      "[matchings       ] [INFO    ] : mapped VISp                 to ALM                 \n",
      "[matchings       ] [INFO    ] : (34 common cell types)\n",
      "[matchings       ] [INFO    ] : 32/34 correct mappings\n",
      "[matchings       ] [INFO    ] : 2 /34 incorrect mappings\n"
     ]
    },
    {
     "name": "stdout",
     "output_type": "stream",
     "text": [
      "   Noise: 20.00% | VISp->ALM  : 32/34\n"
     ]
    },
    {
     "name": "stderr",
     "output_type": "stream",
     "text": [
      "|████████████████| [100.00% ] : 00:26\n",
      "[matchings       ] [INFO    ] : mapped VISp                 to ALM                 \n",
      "[matchings       ] [INFO    ] : (34 common cell types)\n",
      "[matchings       ] [INFO    ] : 32/34 correct mappings\n",
      "[matchings       ] [INFO    ] : 2 /34 incorrect mappings\n"
     ]
    },
    {
     "name": "stdout",
     "output_type": "stream",
     "text": [
      "   Noise: 22.50% | VISp->ALM  : 32/34\n"
     ]
    },
    {
     "name": "stderr",
     "output_type": "stream",
     "text": [
      "|████████████████| [100.00% ] : 00:26\n",
      "[matchings       ] [INFO    ] : mapped VISp                 to ALM                 \n",
      "[matchings       ] [INFO    ] : (34 common cell types)\n",
      "[matchings       ] [INFO    ] : 32/34 correct mappings\n",
      "[matchings       ] [INFO    ] : 2 /34 incorrect mappings\n"
     ]
    },
    {
     "name": "stdout",
     "output_type": "stream",
     "text": [
      "   Noise: 25.00% | VISp->ALM  : 32/34\n"
     ]
    },
    {
     "name": "stderr",
     "output_type": "stream",
     "text": [
      "|████████████████| [100.00% ] : 00:26\n",
      "[matchings       ] [INFO    ] : mapped VISp                 to ALM                 \n",
      "[matchings       ] [INFO    ] : (34 common cell types)\n",
      "[matchings       ] [INFO    ] : 32/34 correct mappings\n",
      "[matchings       ] [INFO    ] : 2 /34 incorrect mappings\n"
     ]
    },
    {
     "name": "stdout",
     "output_type": "stream",
     "text": [
      "   Noise: 27.50% | VISp->ALM  : 32/34\n"
     ]
    },
    {
     "name": "stderr",
     "output_type": "stream",
     "text": [
      "|████████████████| [100.00% ] : 00:26\n",
      "[matchings       ] [INFO    ] : mapped VISp                 to ALM                 \n",
      "[matchings       ] [INFO    ] : (34 common cell types)\n",
      "[matchings       ] [INFO    ] : 32/34 correct mappings\n",
      "[matchings       ] [INFO    ] : 2 /34 incorrect mappings\n"
     ]
    },
    {
     "name": "stdout",
     "output_type": "stream",
     "text": [
      "   Noise: 30.00% | VISp->ALM  : 32/34\n"
     ]
    },
    {
     "name": "stderr",
     "output_type": "stream",
     "text": [
      "|████████████████| [100.00% ] : 00:26\n",
      "[matchings       ] [INFO    ] : mapped VISp                 to ALM                 \n",
      "[matchings       ] [INFO    ] : (34 common cell types)\n",
      "[matchings       ] [INFO    ] : 32/34 correct mappings\n",
      "[matchings       ] [INFO    ] : 2 /34 incorrect mappings\n"
     ]
    },
    {
     "name": "stdout",
     "output_type": "stream",
     "text": [
      "   Noise: 32.50% | VISp->ALM  : 32/34\n"
     ]
    },
    {
     "name": "stderr",
     "output_type": "stream",
     "text": [
      "|████████████████| [100.00% ] : 00:26\n",
      "[matchings       ] [INFO    ] : mapped VISp                 to ALM                 \n",
      "[matchings       ] [INFO    ] : (34 common cell types)\n",
      "[matchings       ] [INFO    ] : 32/34 correct mappings\n",
      "[matchings       ] [INFO    ] : 2 /34 incorrect mappings\n"
     ]
    },
    {
     "name": "stdout",
     "output_type": "stream",
     "text": [
      "   Noise: 35.00% | VISp->ALM  : 32/34\n"
     ]
    },
    {
     "name": "stderr",
     "output_type": "stream",
     "text": [
      "|████████████████| [100.00% ] : 00:26\n",
      "[matchings       ] [INFO    ] : mapped VISp                 to ALM                 \n",
      "[matchings       ] [INFO    ] : (34 common cell types)\n",
      "[matchings       ] [INFO    ] : 32/34 correct mappings\n",
      "[matchings       ] [INFO    ] : 2 /34 incorrect mappings\n"
     ]
    },
    {
     "name": "stdout",
     "output_type": "stream",
     "text": [
      "   Noise: 37.50% | VISp->ALM  : 32/34\n"
     ]
    },
    {
     "name": "stderr",
     "output_type": "stream",
     "text": [
      "|████████████████| [100.00% ] : 00:26\n",
      "[matchings       ] [INFO    ] : mapped VISp                 to ALM                 \n",
      "[matchings       ] [INFO    ] : (34 common cell types)\n",
      "[matchings       ] [INFO    ] : 32/34 correct mappings\n",
      "[matchings       ] [INFO    ] : 2 /34 incorrect mappings\n"
     ]
    },
    {
     "name": "stdout",
     "output_type": "stream",
     "text": [
      "   Noise: 40.00% | VISp->ALM  : 32/34\n"
     ]
    },
    {
     "name": "stderr",
     "output_type": "stream",
     "text": [
      "|████████████████| [100.00% ] : 00:26\n",
      "[matchings       ] [INFO    ] : mapped VISp                 to ALM                 \n",
      "[matchings       ] [INFO    ] : (34 common cell types)\n",
      "[matchings       ] [INFO    ] : 32/34 correct mappings\n",
      "[matchings       ] [INFO    ] : 2 /34 incorrect mappings\n"
     ]
    },
    {
     "name": "stdout",
     "output_type": "stream",
     "text": [
      "   Noise: 42.50% | VISp->ALM  : 32/34\n"
     ]
    },
    {
     "name": "stderr",
     "output_type": "stream",
     "text": [
      "|████████████████| [100.00% ] : 00:26\n",
      "[matchings       ] [INFO    ] : mapped VISp                 to ALM                 \n",
      "[matchings       ] [INFO    ] : (34 common cell types)\n",
      "[matchings       ] [INFO    ] : 32/34 correct mappings\n",
      "[matchings       ] [INFO    ] : 2 /34 incorrect mappings\n"
     ]
    },
    {
     "name": "stdout",
     "output_type": "stream",
     "text": [
      "   Noise: 45.00% | VISp->ALM  : 32/34\n"
     ]
    },
    {
     "name": "stderr",
     "output_type": "stream",
     "text": [
      "|████████████████| [100.00% ] : 00:26\n",
      "[matchings       ] [INFO    ] : mapped VISp                 to ALM                 \n",
      "[matchings       ] [INFO    ] : (34 common cell types)\n",
      "[matchings       ] [INFO    ] : 32/34 correct mappings\n",
      "[matchings       ] [INFO    ] : 2 /34 incorrect mappings\n"
     ]
    },
    {
     "name": "stdout",
     "output_type": "stream",
     "text": [
      "   Noise: 47.50% | VISp->ALM  : 32/34\n"
     ]
    },
    {
     "name": "stderr",
     "output_type": "stream",
     "text": [
      "|████████████████| [100.00% ] : 00:25\n",
      "[matchings       ] [INFO    ] : mapped VISp                 to ALM                 \n",
      "[matchings       ] [INFO    ] : (34 common cell types)\n",
      "[matchings       ] [INFO    ] : 32/34 correct mappings\n",
      "[matchings       ] [INFO    ] : 2 /34 incorrect mappings\n"
     ]
    },
    {
     "name": "stdout",
     "output_type": "stream",
     "text": [
      "   Noise: 50.00% | VISp->ALM  : 32/34\n"
     ]
    }
   ],
   "source": [
    "rcm = RefCM(cache_load=False, cache_save=False)\n",
    "\n",
    "epsilons = [round(e, 4) for e in np.linspace(0, 0.5, 21)]\n",
    "combinations = [(q, ref) for q in dss for ref in dss if q != ref]\n",
    "results = np.zeros((len(combinations), len(epsilons)))\n",
    "\n",
    "for i, (q, ref) in enumerate(combinations):    \n",
    "    \n",
    "    for j, epsilon in enumerate(epsilons):\n",
    "        \n",
    "        # add clustering noise and run refcm\n",
    "        add_clustering_noise(dss[ref], 'labels34', epsilon)\n",
    "        m = rcm.annotate(dss[q], q, dss[ref], ref, 'labels34', 'labels34')\n",
    "        m.eval(ground_truth_obs_key='labels34')\n",
    "        \n",
    "        # retrieve the number of correct clusters mapped\n",
    "        results[i, j] = m.n_correct\n",
    "        \n",
    "        # undo clustering noise and report results\n",
    "        undo_clustering_noise(dss[ref], 'labels34')\n",
    "        print(f'   Noise: {epsilon*100:>5.2f}% | {q:>4}->{ref:<4} : {int(results[i, j]):<2}/34')"
   ]
  },
  {
   "cell_type": "code",
   "execution_count": 8,
   "metadata": {},
   "outputs": [
    {
     "data": {
      "application/vnd.plotly.v1+json": {
       "config": {
        "plotlyServerURL": "https://plot.ly"
       },
       "data": [
        {
         "coloraxis": "coloraxis",
         "hovertemplate": "Noise (%): %{x}<br>Query -> Ref: %{y}<br>correct clusters (/34): %{z}<extra></extra>",
         "name": "0",
         "type": "heatmap",
         "x": [
          0,
          0.025,
          0.05,
          0.075,
          0.1,
          0.125,
          0.15,
          0.175,
          0.2,
          0.225,
          0.25,
          0.275,
          0.3,
          0.325,
          0.35,
          0.375,
          0.4,
          0.425,
          0.45,
          0.475,
          0.5
         ],
         "xaxis": "x",
         "y": [
          "MTG -> ALM",
          "MTG -> VISp",
          "ALM -> MTG",
          "ALM -> VISp",
          "VISp -> MTG",
          "VISp -> ALM"
         ],
         "yaxis": "y",
         "z": [
          [
           34,
           32,
           32,
           32,
           32,
           32,
           32,
           32,
           32,
           32,
           32,
           32,
           32,
           32,
           32,
           32,
           32,
           32,
           32,
           32,
           32
          ],
          [
           34,
           34,
           34,
           34,
           34,
           34,
           32,
           32,
           32,
           32,
           32,
           32,
           32,
           32,
           32,
           32,
           32,
           32,
           32,
           32,
           32
          ],
          [
           34,
           34,
           34,
           34,
           34,
           34,
           34,
           34,
           34,
           34,
           34,
           34,
           34,
           34,
           34,
           34,
           34,
           34,
           34,
           32,
           34
          ],
          [
           34,
           34,
           34,
           34,
           34,
           34,
           34,
           34,
           34,
           34,
           34,
           34,
           34,
           34,
           34,
           34,
           34,
           34,
           34,
           34,
           34
          ],
          [
           34,
           34,
           34,
           34,
           34,
           34,
           34,
           34,
           34,
           34,
           34,
           34,
           34,
           34,
           34,
           34,
           34,
           34,
           34,
           34,
           34
          ],
          [
           34,
           32,
           32,
           32,
           32,
           32,
           32,
           32,
           32,
           32,
           32,
           32,
           32,
           32,
           32,
           32,
           32,
           32,
           32,
           32,
           32
          ]
         ]
        }
       ],
       "layout": {
        "coloraxis": {
         "colorbar": {
          "title": {
           "text": "correct clusters (/34)"
          }
         },
         "colorscale": [
          [
           0,
           "rgb(243, 231, 155)"
          ],
          [
           0.16666666666666666,
           "rgb(250, 196, 132)"
          ],
          [
           0.3333333333333333,
           "rgb(248, 160, 126)"
          ],
          [
           0.5,
           "rgb(235, 127, 134)"
          ],
          [
           0.6666666666666666,
           "rgb(206, 102, 147)"
          ],
          [
           0.8333333333333334,
           "rgb(160, 89, 160)"
          ],
          [
           1,
           "rgb(92, 83, 165)"
          ]
         ]
        },
        "template": {
         "data": {
          "bar": [
           {
            "error_x": {
             "color": "#2a3f5f"
            },
            "error_y": {
             "color": "#2a3f5f"
            },
            "marker": {
             "line": {
              "color": "#E5ECF6",
              "width": 0.5
             },
             "pattern": {
              "fillmode": "overlay",
              "size": 10,
              "solidity": 0.2
             }
            },
            "type": "bar"
           }
          ],
          "barpolar": [
           {
            "marker": {
             "line": {
              "color": "#E5ECF6",
              "width": 0.5
             },
             "pattern": {
              "fillmode": "overlay",
              "size": 10,
              "solidity": 0.2
             }
            },
            "type": "barpolar"
           }
          ],
          "carpet": [
           {
            "aaxis": {
             "endlinecolor": "#2a3f5f",
             "gridcolor": "white",
             "linecolor": "white",
             "minorgridcolor": "white",
             "startlinecolor": "#2a3f5f"
            },
            "baxis": {
             "endlinecolor": "#2a3f5f",
             "gridcolor": "white",
             "linecolor": "white",
             "minorgridcolor": "white",
             "startlinecolor": "#2a3f5f"
            },
            "type": "carpet"
           }
          ],
          "choropleth": [
           {
            "colorbar": {
             "outlinewidth": 0,
             "ticks": ""
            },
            "type": "choropleth"
           }
          ],
          "contour": [
           {
            "colorbar": {
             "outlinewidth": 0,
             "ticks": ""
            },
            "colorscale": [
             [
              0,
              "#0d0887"
             ],
             [
              0.1111111111111111,
              "#46039f"
             ],
             [
              0.2222222222222222,
              "#7201a8"
             ],
             [
              0.3333333333333333,
              "#9c179e"
             ],
             [
              0.4444444444444444,
              "#bd3786"
             ],
             [
              0.5555555555555556,
              "#d8576b"
             ],
             [
              0.6666666666666666,
              "#ed7953"
             ],
             [
              0.7777777777777778,
              "#fb9f3a"
             ],
             [
              0.8888888888888888,
              "#fdca26"
             ],
             [
              1,
              "#f0f921"
             ]
            ],
            "type": "contour"
           }
          ],
          "contourcarpet": [
           {
            "colorbar": {
             "outlinewidth": 0,
             "ticks": ""
            },
            "type": "contourcarpet"
           }
          ],
          "heatmap": [
           {
            "colorbar": {
             "outlinewidth": 0,
             "ticks": ""
            },
            "colorscale": [
             [
              0,
              "#0d0887"
             ],
             [
              0.1111111111111111,
              "#46039f"
             ],
             [
              0.2222222222222222,
              "#7201a8"
             ],
             [
              0.3333333333333333,
              "#9c179e"
             ],
             [
              0.4444444444444444,
              "#bd3786"
             ],
             [
              0.5555555555555556,
              "#d8576b"
             ],
             [
              0.6666666666666666,
              "#ed7953"
             ],
             [
              0.7777777777777778,
              "#fb9f3a"
             ],
             [
              0.8888888888888888,
              "#fdca26"
             ],
             [
              1,
              "#f0f921"
             ]
            ],
            "type": "heatmap"
           }
          ],
          "heatmapgl": [
           {
            "colorbar": {
             "outlinewidth": 0,
             "ticks": ""
            },
            "colorscale": [
             [
              0,
              "#0d0887"
             ],
             [
              0.1111111111111111,
              "#46039f"
             ],
             [
              0.2222222222222222,
              "#7201a8"
             ],
             [
              0.3333333333333333,
              "#9c179e"
             ],
             [
              0.4444444444444444,
              "#bd3786"
             ],
             [
              0.5555555555555556,
              "#d8576b"
             ],
             [
              0.6666666666666666,
              "#ed7953"
             ],
             [
              0.7777777777777778,
              "#fb9f3a"
             ],
             [
              0.8888888888888888,
              "#fdca26"
             ],
             [
              1,
              "#f0f921"
             ]
            ],
            "type": "heatmapgl"
           }
          ],
          "histogram": [
           {
            "marker": {
             "pattern": {
              "fillmode": "overlay",
              "size": 10,
              "solidity": 0.2
             }
            },
            "type": "histogram"
           }
          ],
          "histogram2d": [
           {
            "colorbar": {
             "outlinewidth": 0,
             "ticks": ""
            },
            "colorscale": [
             [
              0,
              "#0d0887"
             ],
             [
              0.1111111111111111,
              "#46039f"
             ],
             [
              0.2222222222222222,
              "#7201a8"
             ],
             [
              0.3333333333333333,
              "#9c179e"
             ],
             [
              0.4444444444444444,
              "#bd3786"
             ],
             [
              0.5555555555555556,
              "#d8576b"
             ],
             [
              0.6666666666666666,
              "#ed7953"
             ],
             [
              0.7777777777777778,
              "#fb9f3a"
             ],
             [
              0.8888888888888888,
              "#fdca26"
             ],
             [
              1,
              "#f0f921"
             ]
            ],
            "type": "histogram2d"
           }
          ],
          "histogram2dcontour": [
           {
            "colorbar": {
             "outlinewidth": 0,
             "ticks": ""
            },
            "colorscale": [
             [
              0,
              "#0d0887"
             ],
             [
              0.1111111111111111,
              "#46039f"
             ],
             [
              0.2222222222222222,
              "#7201a8"
             ],
             [
              0.3333333333333333,
              "#9c179e"
             ],
             [
              0.4444444444444444,
              "#bd3786"
             ],
             [
              0.5555555555555556,
              "#d8576b"
             ],
             [
              0.6666666666666666,
              "#ed7953"
             ],
             [
              0.7777777777777778,
              "#fb9f3a"
             ],
             [
              0.8888888888888888,
              "#fdca26"
             ],
             [
              1,
              "#f0f921"
             ]
            ],
            "type": "histogram2dcontour"
           }
          ],
          "mesh3d": [
           {
            "colorbar": {
             "outlinewidth": 0,
             "ticks": ""
            },
            "type": "mesh3d"
           }
          ],
          "parcoords": [
           {
            "line": {
             "colorbar": {
              "outlinewidth": 0,
              "ticks": ""
             }
            },
            "type": "parcoords"
           }
          ],
          "pie": [
           {
            "automargin": true,
            "type": "pie"
           }
          ],
          "scatter": [
           {
            "fillpattern": {
             "fillmode": "overlay",
             "size": 10,
             "solidity": 0.2
            },
            "type": "scatter"
           }
          ],
          "scatter3d": [
           {
            "line": {
             "colorbar": {
              "outlinewidth": 0,
              "ticks": ""
             }
            },
            "marker": {
             "colorbar": {
              "outlinewidth": 0,
              "ticks": ""
             }
            },
            "type": "scatter3d"
           }
          ],
          "scattercarpet": [
           {
            "marker": {
             "colorbar": {
              "outlinewidth": 0,
              "ticks": ""
             }
            },
            "type": "scattercarpet"
           }
          ],
          "scattergeo": [
           {
            "marker": {
             "colorbar": {
              "outlinewidth": 0,
              "ticks": ""
             }
            },
            "type": "scattergeo"
           }
          ],
          "scattergl": [
           {
            "marker": {
             "colorbar": {
              "outlinewidth": 0,
              "ticks": ""
             }
            },
            "type": "scattergl"
           }
          ],
          "scattermapbox": [
           {
            "marker": {
             "colorbar": {
              "outlinewidth": 0,
              "ticks": ""
             }
            },
            "type": "scattermapbox"
           }
          ],
          "scatterpolar": [
           {
            "marker": {
             "colorbar": {
              "outlinewidth": 0,
              "ticks": ""
             }
            },
            "type": "scatterpolar"
           }
          ],
          "scatterpolargl": [
           {
            "marker": {
             "colorbar": {
              "outlinewidth": 0,
              "ticks": ""
             }
            },
            "type": "scatterpolargl"
           }
          ],
          "scatterternary": [
           {
            "marker": {
             "colorbar": {
              "outlinewidth": 0,
              "ticks": ""
             }
            },
            "type": "scatterternary"
           }
          ],
          "surface": [
           {
            "colorbar": {
             "outlinewidth": 0,
             "ticks": ""
            },
            "colorscale": [
             [
              0,
              "#0d0887"
             ],
             [
              0.1111111111111111,
              "#46039f"
             ],
             [
              0.2222222222222222,
              "#7201a8"
             ],
             [
              0.3333333333333333,
              "#9c179e"
             ],
             [
              0.4444444444444444,
              "#bd3786"
             ],
             [
              0.5555555555555556,
              "#d8576b"
             ],
             [
              0.6666666666666666,
              "#ed7953"
             ],
             [
              0.7777777777777778,
              "#fb9f3a"
             ],
             [
              0.8888888888888888,
              "#fdca26"
             ],
             [
              1,
              "#f0f921"
             ]
            ],
            "type": "surface"
           }
          ],
          "table": [
           {
            "cells": {
             "fill": {
              "color": "#EBF0F8"
             },
             "line": {
              "color": "white"
             }
            },
            "header": {
             "fill": {
              "color": "#C8D4E3"
             },
             "line": {
              "color": "white"
             }
            },
            "type": "table"
           }
          ]
         },
         "layout": {
          "annotationdefaults": {
           "arrowcolor": "#2a3f5f",
           "arrowhead": 0,
           "arrowwidth": 1
          },
          "autotypenumbers": "strict",
          "coloraxis": {
           "colorbar": {
            "outlinewidth": 0,
            "ticks": ""
           }
          },
          "colorscale": {
           "diverging": [
            [
             0,
             "#8e0152"
            ],
            [
             0.1,
             "#c51b7d"
            ],
            [
             0.2,
             "#de77ae"
            ],
            [
             0.3,
             "#f1b6da"
            ],
            [
             0.4,
             "#fde0ef"
            ],
            [
             0.5,
             "#f7f7f7"
            ],
            [
             0.6,
             "#e6f5d0"
            ],
            [
             0.7,
             "#b8e186"
            ],
            [
             0.8,
             "#7fbc41"
            ],
            [
             0.9,
             "#4d9221"
            ],
            [
             1,
             "#276419"
            ]
           ],
           "sequential": [
            [
             0,
             "#0d0887"
            ],
            [
             0.1111111111111111,
             "#46039f"
            ],
            [
             0.2222222222222222,
             "#7201a8"
            ],
            [
             0.3333333333333333,
             "#9c179e"
            ],
            [
             0.4444444444444444,
             "#bd3786"
            ],
            [
             0.5555555555555556,
             "#d8576b"
            ],
            [
             0.6666666666666666,
             "#ed7953"
            ],
            [
             0.7777777777777778,
             "#fb9f3a"
            ],
            [
             0.8888888888888888,
             "#fdca26"
            ],
            [
             1,
             "#f0f921"
            ]
           ],
           "sequentialminus": [
            [
             0,
             "#0d0887"
            ],
            [
             0.1111111111111111,
             "#46039f"
            ],
            [
             0.2222222222222222,
             "#7201a8"
            ],
            [
             0.3333333333333333,
             "#9c179e"
            ],
            [
             0.4444444444444444,
             "#bd3786"
            ],
            [
             0.5555555555555556,
             "#d8576b"
            ],
            [
             0.6666666666666666,
             "#ed7953"
            ],
            [
             0.7777777777777778,
             "#fb9f3a"
            ],
            [
             0.8888888888888888,
             "#fdca26"
            ],
            [
             1,
             "#f0f921"
            ]
           ]
          },
          "colorway": [
           "#636efa",
           "#EF553B",
           "#00cc96",
           "#ab63fa",
           "#FFA15A",
           "#19d3f3",
           "#FF6692",
           "#B6E880",
           "#FF97FF",
           "#FECB52"
          ],
          "font": {
           "color": "#2a3f5f"
          },
          "geo": {
           "bgcolor": "white",
           "lakecolor": "white",
           "landcolor": "#E5ECF6",
           "showlakes": true,
           "showland": true,
           "subunitcolor": "white"
          },
          "hoverlabel": {
           "align": "left"
          },
          "hovermode": "closest",
          "mapbox": {
           "style": "light"
          },
          "paper_bgcolor": "white",
          "plot_bgcolor": "#E5ECF6",
          "polar": {
           "angularaxis": {
            "gridcolor": "white",
            "linecolor": "white",
            "ticks": ""
           },
           "bgcolor": "#E5ECF6",
           "radialaxis": {
            "gridcolor": "white",
            "linecolor": "white",
            "ticks": ""
           }
          },
          "scene": {
           "xaxis": {
            "backgroundcolor": "#E5ECF6",
            "gridcolor": "white",
            "gridwidth": 2,
            "linecolor": "white",
            "showbackground": true,
            "ticks": "",
            "zerolinecolor": "white"
           },
           "yaxis": {
            "backgroundcolor": "#E5ECF6",
            "gridcolor": "white",
            "gridwidth": 2,
            "linecolor": "white",
            "showbackground": true,
            "ticks": "",
            "zerolinecolor": "white"
           },
           "zaxis": {
            "backgroundcolor": "#E5ECF6",
            "gridcolor": "white",
            "gridwidth": 2,
            "linecolor": "white",
            "showbackground": true,
            "ticks": "",
            "zerolinecolor": "white"
           }
          },
          "shapedefaults": {
           "line": {
            "color": "#2a3f5f"
           }
          },
          "ternary": {
           "aaxis": {
            "gridcolor": "white",
            "linecolor": "white",
            "ticks": ""
           },
           "baxis": {
            "gridcolor": "white",
            "linecolor": "white",
            "ticks": ""
           },
           "bgcolor": "#E5ECF6",
           "caxis": {
            "gridcolor": "white",
            "linecolor": "white",
            "ticks": ""
           }
          },
          "title": {
           "x": 0.05
          },
          "xaxis": {
           "automargin": true,
           "gridcolor": "white",
           "linecolor": "white",
           "ticks": "",
           "title": {
            "standoff": 15
           },
           "zerolinecolor": "white",
           "zerolinewidth": 2
          },
          "yaxis": {
           "automargin": true,
           "gridcolor": "white",
           "linecolor": "white",
           "ticks": "",
           "title": {
            "standoff": 15
           },
           "zerolinecolor": "white",
           "zerolinewidth": 2
          }
         }
        },
        "title": {
         "text": "Robustness to clustering noise"
        },
        "xaxis": {
         "anchor": "y",
         "constrain": "domain",
         "domain": [
          0,
          1
         ],
         "dtick": 0.2,
         "scaleanchor": "y",
         "title": {
          "text": "Noise (%)"
         }
        },
        "yaxis": {
         "anchor": "x",
         "autorange": "reversed",
         "constrain": "domain",
         "domain": [
          0,
          1
         ],
         "title": {
          "text": "Query -> Ref"
         }
        }
       }
      }
     },
     "metadata": {},
     "output_type": "display_data"
    }
   ],
   "source": [
    "fig = px.imshow(\n",
    "    results, \n",
    "    title='Robustness to clustering noise', \n",
    "    color_continuous_scale='Sunset',\n",
    "    labels=dict(x=\"Noise (%)\", y=\"Query -> Ref\", color=\"correct clusters (/34)\"),\n",
    "    x=epsilons,\n",
    "    y=[' -> '.join(t) for t in combinations]\n",
    ")\n",
    "fig.update_xaxes(dtick=0.2)\n",
    "fig.show()"
   ]
  }
 ],
 "metadata": {
  "kernelspec": {
   "display_name": "refcm",
   "language": "python",
   "name": "python3"
  },
  "language_info": {
   "codemirror_mode": {
    "name": "ipython",
    "version": 3
   },
   "file_extension": ".py",
   "mimetype": "text/x-python",
   "name": "python",
   "nbconvert_exporter": "python",
   "pygments_lexer": "ipython3",
   "version": "3.11.7"
  }
 },
 "nbformat": 4,
 "nbformat_minor": 2
}
