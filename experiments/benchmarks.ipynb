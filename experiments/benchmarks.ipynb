{
 "cells": [
  {
   "cell_type": "markdown",
   "metadata": {},
   "source": [
    "In this notebook, we will be plotting the performance of RefCM across all currently available datasets, as well as testing what parameters yield the best performance."
   ]
  },
  {
   "cell_type": "code",
   "execution_count": 1,
   "metadata": {},
   "outputs": [],
   "source": [
    "import sys\n",
    "sys.path.append('../src/')\n",
    "\n",
    "import os\n",
    "import json\n",
    "import config\n",
    "import logging\n",
    "import time\n",
    "import numpy as np\n",
    "import scanpy as sc\n",
    "\n",
    "from refcm import RefCM\n",
    "from typing import List\n",
    "from anndata import AnnData\n",
    "import plotly.express as px\n",
    "\n",
    "# benchmark model imports\n",
    "import celltypist\n",
    "\n",
    "\n",
    "# config.start_logging(logging.DEBUG)"
   ]
  },
  {
   "cell_type": "code",
   "execution_count": 2,
   "metadata": {},
   "outputs": [],
   "source": [
    "%load_ext autoreload\n",
    "%autoreload 2"
   ]
  },
  {
   "cell_type": "code",
   "execution_count": 13,
   "metadata": {},
   "outputs": [],
   "source": [
    "class BenchModel:\n",
    "    id_: str\n",
    "    \n",
    "    def __init__(self) -> None:\n",
    "        pass\n",
    "    \n",
    "    def fit(self, ref: AnnData, label_key: str) -> None:\n",
    "        \"\"\"\n",
    "        If necessary, fit the model on the reference dataset.\n",
    "\n",
    "        Parameters\n",
    "        ----------\n",
    "        ref: AnnData\n",
    "            The reference dataset with raw counts in .X\n",
    "        label_key: str\n",
    "            .obs key for reference labels.\n",
    "        \"\"\"\n",
    "        pass\n",
    "    \n",
    "    def predict(self, query: AnnData) -> None:\n",
    "        \"\"\"\n",
    "        Annotates the query dataset using the reference data, and adds\n",
    "        its predictions as a new column (self.id) under the query's .obs\n",
    "\n",
    "        Parameters\n",
    "        ----------\n",
    "        query: AnnData\n",
    "            The query dataset with raw counts in .X\n",
    "        \"\"\"\n",
    "        pass \n",
    "    \n",
    "    \n",
    "def eval_preds(q: AnnData, ref: AnnData, ref_key: str,  q_truth_key: str, q_pred_key: str) -> None:\n",
    "    \"\"\"\n",
    "    Evaluates the predictions of a given model on a query/reference pair.\n",
    "\n",
    "    Parameters\n",
    "    ----------\n",
    "    q: AnnData\n",
    "        Query AnnData object.\n",
    "    ref: AnnData\n",
    "        Reference AnnData object.\n",
    "    ref_key: str\n",
    "        .obs key for labels in reference dataset.\n",
    "    q_truth_key: str\n",
    "        .obs key for true labels in query dataset.\n",
    "    q_pred_key: str\n",
    "        .obs key for predicted labels in query dataset.\n",
    "\n",
    "    Returns\n",
    "    -------\n",
    "    acc: float\n",
    "        The % accuracy.\n",
    "    cfmatrix: List[List[int]]\n",
    "        The confusion matrix [true query labels] x [reference labels + novel]\n",
    "    q_labels: List[str]\n",
    "        The query labels (row/y axis in confusion matrix)\n",
    "    ref_labels: List[str]\n",
    "        Reference labels + novel (column/x axis in confusion matrix) \n",
    "    \"\"\"\n",
    "    \n",
    "    q_labels = sorted(q.obs[q_truth_key].unique().tolist())\n",
    "    ref_labels = sorted(ref.obs[ref_key].unique().tolist()) + [\"novel\"]\n",
    "    \n",
    "    novel_labels = list(set(q_labels) - set(ref_labels))\n",
    "    \n",
    "    correct = 0\n",
    "    \n",
    "    cfmatrix = np.zeros((len(q_labels), len(ref_labels)))\n",
    "    \n",
    "    for i in range(len(q_labels)):\n",
    "        true_mask = q.obs[q_truth_key] == q_labels[i]\n",
    "        \n",
    "        for j in range(len(ref_labels)): \n",
    "            pred_mask = q.obs[q_pred_key] == ref_labels[j]\n",
    "            \n",
    "            if (q_labels[i] == ref_labels[j]) \\\n",
    "                or (q_labels[i] in novel_labels and ref_labels[j] == \"\"):\n",
    "                correct += len(q.obs[(true_mask & pred_mask)])\n",
    "                \n",
    "            cfmatrix[i, j] = len(q.obs[(true_mask & pred_mask)])\n",
    "    \n",
    "    acc = correct / q.X.shape[0]\n",
    "    return acc, cfmatrix.astype(int).tolist(), q_labels, ref_labels\n",
    "    \n",
    "def plot_cfmatrix(cfmatrix: List[List[int]], q_labels: List[str], ref_labels: List[str], \n",
    "                  width=750, height=750, show_nums: bool = False, angle_ticks: bool = True) -> None:\n",
    "    \"\"\"\n",
    "    Plots the confusion matrix resulting from the above function.\n",
    "    \"\"\"\n",
    "    fig = px.imshow(cfmatrix, x=ref_labels, y=q_labels, color_continuous_scale='Blues')\n",
    "    \n",
    "    if show_nums:\n",
    "        for i in range(len(q_labels)):\n",
    "            for j in range(len(ref_labels)):\n",
    "                fig.add_annotation(\n",
    "                    x=j,\n",
    "                    y=i,\n",
    "                    text=f\"{cfmatrix[i][j]}\",\n",
    "                    showarrow=False,\n",
    "                    # bgcolor=\"white\",\n",
    "                    # opacity=0.2,\n",
    "                )\n",
    "        fig.update_annotations(font=dict(color='white'))\n",
    "        \n",
    "    fig.update_layout(width=width, height=height)\n",
    "    fig.update_xaxes(dtick=1)\n",
    "    fig.update_yaxes(dtick=1)\n",
    "    \n",
    "    fig.update_xaxes(tickangle=-90)\n",
    "    if angle_ticks:\n",
    "        fig.update_xaxes(tickangle=-45)\n",
    "        \n",
    "    fig.show()"
   ]
  },
  {
   "cell_type": "markdown",
   "metadata": {},
   "source": [
    "All currently tested datasets, and their associated .obs clustering key:"
   ]
  },
  {
   "cell_type": "code",
   "execution_count": 4,
   "metadata": {},
   "outputs": [],
   "source": [
    "DSS = {\n",
    "    # # celltypist datasets\n",
    "    \"Blood\": \"cell_type\",\n",
    "    \"Bone_marrow\": \"cell_type\",\n",
    "    # \"Heart\": \"cell_type\",\n",
    "    # # \"Hippocampus\": \"cell_type\",\n",
    "    # \"Intestine\": \"cell_type\",\n",
    "    # \"Kidney\": \"cell_type\",\n",
    "    # \"Liver\": \"cell_type\",\n",
    "    \"Lung\": \"cell_type\",\n",
    "    \"Lymph_node\": \"cell_type\",\n",
    "    \"Pancreas\": \"cell_type\",\n",
    "    \"Skeletal_muscle\": \"cell_type\",\n",
    "    \"Spleen\": \"cell_type\",\n",
    "    \n",
    "    # # # gut atlas\n",
    "    # \"gut_atlas_tcell\": \"annotation\",\n",
    "    \n",
    "    # Allen-Brain datasets\n",
    "    # \"ALM\": \"labels34\",\n",
    "    # \"MTG\": \"labels34\",\n",
    "    # \"VISp\": \"labels34\",\n",
    "    \n",
    "    # pbmc datasets\n",
    "    # \"pbmc_10Xv2\": \"labels\",\n",
    "    # \"pbmc_10Xv3\": \"labels\",\n",
    "    # \"pbmc_CEL-Seq\": \"labels\",\n",
    "    # \"pbmc_Drop-Seq\": \"labels\",\n",
    "    # \"pbmc_inDrop\": \"labels\",\n",
    "    # \"pbmc_Seq-Well\": \"labels\",\n",
    "    # \"pbmc_Smart-Seq2\": \"labels\",\n",
    "    \n",
    "    # pancreas datasets\n",
    "    # \"pancreas_celseq\": \"celltype\",\n",
    "    # \"pancreas_celseq2\": \"celltype\",\n",
    "    # \"pancreas_fluidigmc1\": \"celltype\",\n",
    "    # \"pancreas_indrop1\": \"celltype\",\n",
    "    # \"pancreas_indrop2\": \"celltype\",\n",
    "    # \"pancreas_indrop3\": \"celltype\",\n",
    "    # \"pancreas_indrop4\": \"celltype\",\n",
    "    # \"pancreas_smarter\": \"celltype\",\n",
    "    # \"pancreas_smartseq2\": \"celltype\",\n",
    "    \n",
    "    # # LGN datasets\n",
    "    # \"LGN_human_intron\": \"cluster_label\",\n",
    "    # \"LGN_human_exon\": \"cluster_label\",\n",
    "    # \"LGN_macaque_intron\": \"cluster_label\",\n",
    "    # \"LGN_macaque_exon\": \"cluster_label\",\n",
    "    # \"LGN_mouse_intron\": \"cluster_label\",\n",
    "    # \"LGN_mouse_exon\": \"cluster_label\",\n",
    "}"
   ]
  },
  {
   "cell_type": "markdown",
   "metadata": {},
   "source": [
    "# Celltypist\n",
    "\n",
    "Using the workflow suggested [here](https://pypi.org/project/celltypist/) and [here](https://colab.research.google.com/github/Teichlab/celltypist/blob/main/docs/notebook/celltypist_tutorial_cv.ipynb#scrollTo=assisted-earthquake)"
   ]
  },
  {
   "cell_type": "code",
   "execution_count": 5,
   "metadata": {},
   "outputs": [],
   "source": [
    "class CellTypist(BenchModel):\n",
    "    \n",
    "    def __init__(self) -> None:\n",
    "        self.id_ = 'celltypist'\n",
    "        super().__init__()\n",
    "    \n",
    "    def fit(self, ref: AnnData, label_key: str) -> None:\n",
    "        self.ref = ref\n",
    "        self.label_key = label_key\n",
    "        # pass here because we need to ensure the model trains\n",
    "        # on genes available to both query and reference\n",
    "        pass \n",
    "    \n",
    "    \n",
    "    def predict(self, query: AnnData) -> None:\n",
    "        self.q: AnnData = query\n",
    "        \n",
    "        # sum & log1p normalization as per official documentation\n",
    "        q_sums = self.q.X.sum(axis=1).reshape((-1, 1))\n",
    "        ref_sums = self.ref.X.sum(axis=1).reshape((-1, 1))\n",
    "        \n",
    "        self.q.X = np.log1p(1e4 * self.q.X / q_sums)\n",
    "        self.ref.X = np.log1p(1e4 * self.ref.X / ref_sums)\n",
    "        \n",
    "        # skip downsampling sinze dataset sizes are <1e6 \n",
    "        # use all intersecting genes for higher accuracy\n",
    "        gs = np.intersect1d(self.q.var_names, self.ref.var_names)\n",
    "        \n",
    "        # model training\n",
    "        t_start = time.perf_counter()\n",
    "        self.model = celltypist.train(self.ref[:, gs], self.label_key, check_expression=False, n_jobs=10, max_iter=100)\n",
    "        t_elapsed = time.perf_counter() - t_start\n",
    "        print(f\"[*] Training completed: {t_elapsed/60:.1f}mins\")\n",
    "                \n",
    "        # model prediction\n",
    "        preds = celltypist.annotate(query, self.model)\n",
    "        self.q.obs['celltypist'] = preds.predicted_labels['predicted_labels']\n",
    "\n",
    "        \n",
    "        # cleanup so ref remains unchanged between executions\n",
    "        self.q.X = np.expm1(self.q.X) * q_sums / 1e4\n",
    "        self.ref.X = np.expm1(self.ref.X) * ref_sums / 1e4\n",
    "        "
   ]
  },
  {
   "cell_type": "code",
   "execution_count": 16,
   "metadata": {},
   "outputs": [
    {
     "name": "stderr",
     "output_type": "stream",
     "text": [
      "🍳 Preparing data before training\n",
      "✂️ 2 non-expressed genes are filtered out\n",
      "🔬 Input data has 14055 cells and 16022 genes\n",
      "⚖️ Scaling input data\n",
      "🏋️ Training data using logistic regression\n",
      "✅ Model training done!\n",
      "🔬 Input data has 8128 cells and 16024 genes\n",
      "🔗 Matching reference genes in the model\n"
     ]
    },
    {
     "name": "stdout",
     "output_type": "stream",
     "text": [
      "[*] Training completed: 1.0mins\n"
     ]
    },
    {
     "name": "stderr",
     "output_type": "stream",
     "text": [
      "🧬 16022 features used for prediction\n",
      "⚖️ Scaling input data\n",
      "🖋️ Predicting labels\n",
      "✅ Prediction done!\n"
     ]
    },
    {
     "name": "stdout",
     "output_type": "stream",
     "text": [
      "[*] accuracy: 0.06\n"
     ]
    },
    {
     "data": {
      "application/vnd.plotly.v1+json": {
       "config": {
        "plotlyServerURL": "https://plot.ly"
       },
       "data": [
        {
         "coloraxis": "coloraxis",
         "hovertemplate": "x: %{x}<br>y: %{y}<br>color: %{z}<extra></extra>",
         "name": "0",
         "type": "heatmap",
         "x": [
          "Astrocyte",
          "Chandelier",
          "Exc L2/3 IT",
          "Exc L3/5 IT",
          "Exc L4/5 IT",
          "Exc L5 PT",
          "Exc L5/6 IT 1",
          "Exc L5/6 IT 2",
          "Exc L5/6 IT 3",
          "Exc L5/6 NP",
          "Exc L6 CT",
          "Exc L6 IT 1",
          "Exc L6 IT 2",
          "Exc L6b",
          "Lamp5 1",
          "Lamp5 2",
          "Lamp5 Lhx6",
          "Lamp5 Rosehip",
          "Oligo",
          "Pax6",
          "Pvalb 1",
          "Pvalb 2",
          "Sst 1",
          "Sst 2",
          "Sst 3",
          "Sst 4",
          "Sst 5",
          "Sst Chodl",
          "Vip 1",
          "Vip 2",
          "Vip 3",
          "Vip 4",
          "Vip 5",
          "Vip Sncg",
          "novel"
         ],
         "xaxis": "x",
         "y": [
          "Astrocyte",
          "Chandelier",
          "Exc L2/3 IT",
          "Exc L3/5 IT",
          "Exc L4/5 IT",
          "Exc L5 PT",
          "Exc L5/6 IT 1",
          "Exc L5/6 IT 2",
          "Exc L5/6 IT 3",
          "Exc L5/6 NP",
          "Exc L6 CT",
          "Exc L6 IT 1",
          "Exc L6 IT 2",
          "Exc L6b",
          "Lamp5 1",
          "Lamp5 2",
          "Lamp5 Lhx6",
          "Lamp5 Rosehip",
          "Oligo",
          "Pax6",
          "Pvalb 1",
          "Pvalb 2",
          "Sst 1",
          "Sst 2",
          "Sst 3",
          "Sst 4",
          "Sst 5",
          "Sst Chodl",
          "Vip 1",
          "Vip 2",
          "Vip 3",
          "Vip 4",
          "Vip 5",
          "Vip Sncg"
         ],
         "yaxis": "y",
         "z": [
          [
           2,
           0,
           0,
           0,
           0,
           0,
           0,
           0,
           0,
           0,
           0,
           0,
           0,
           0,
           0,
           0,
           0,
           0,
           0,
           0,
           0,
           0,
           0,
           0,
           0,
           0,
           0,
           0,
           0,
           0,
           0,
           0,
           0,
           0,
           0
          ],
          [
           34,
           0,
           0,
           3,
           0,
           0,
           0,
           0,
           0,
           0,
           0,
           0,
           0,
           0,
           0,
           0,
           0,
           0,
           0,
           0,
           0,
           3,
           0,
           0,
           0,
           0,
           2,
           0,
           0,
           0,
           0,
           0,
           0,
           1,
           0
          ],
          [
           163,
           0,
           0,
           113,
           0,
           0,
           9,
           0,
           0,
           0,
           0,
           0,
           0,
           0,
           0,
           0,
           0,
           0,
           0,
           0,
           0,
           0,
           0,
           0,
           6,
           0,
           31,
           0,
           0,
           0,
           0,
           0,
           0,
           3,
           0
          ],
          [
           129,
           0,
           0,
           74,
           0,
           0,
           0,
           0,
           0,
           0,
           0,
           0,
           0,
           0,
           0,
           0,
           0,
           0,
           0,
           0,
           0,
           0,
           0,
           0,
           0,
           0,
           0,
           0,
           0,
           0,
           0,
           0,
           0,
           21,
           0
          ],
          [
           560,
           0,
           0,
           267,
           0,
           0,
           63,
           0,
           0,
           0,
           0,
           0,
           0,
           0,
           0,
           0,
           0,
           0,
           0,
           0,
           0,
           0,
           0,
           0,
           7,
           0,
           17,
           0,
           0,
           0,
           0,
           0,
           0,
           123,
           0
          ],
          [
           110,
           0,
           0,
           39,
           0,
           0,
           0,
           0,
           0,
           0,
           0,
           0,
           0,
           0,
           0,
           0,
           0,
           0,
           0,
           0,
           0,
           0,
           0,
           0,
           0,
           0,
           3,
           0,
           0,
           0,
           0,
           0,
           0,
           13,
           0
          ],
          [
           225,
           0,
           0,
           322,
           0,
           0,
           41,
           0,
           0,
           0,
           0,
           0,
           0,
           0,
           0,
           0,
           0,
           0,
           0,
           0,
           0,
           0,
           0,
           0,
           10,
           0,
           5,
           0,
           0,
           0,
           0,
           0,
           0,
           100,
           0
          ],
          [
           173,
           0,
           0,
           16,
           0,
           0,
           0,
           0,
           0,
           0,
           0,
           0,
           0,
           0,
           0,
           0,
           0,
           0,
           0,
           0,
           0,
           0,
           0,
           0,
           1,
           0,
           0,
           0,
           0,
           0,
           0,
           0,
           0,
           9,
           0
          ],
          [
           142,
           0,
           0,
           32,
           0,
           0,
           1,
           0,
           0,
           0,
           0,
           0,
           0,
           0,
           0,
           0,
           0,
           0,
           0,
           0,
           0,
           0,
           0,
           0,
           2,
           0,
           4,
           0,
           0,
           0,
           0,
           0,
           0,
           42,
           0
          ],
          [
           496,
           0,
           0,
           11,
           0,
           0,
           1,
           0,
           0,
           11,
           0,
           0,
           0,
           0,
           0,
           0,
           0,
           0,
           0,
           0,
           0,
           0,
           0,
           0,
           3,
           0,
           1,
           0,
           0,
           0,
           0,
           0,
           0,
           4,
           0
          ],
          [
           230,
           0,
           0,
           1,
           0,
           0,
           15,
           0,
           0,
           0,
           10,
           0,
           0,
           0,
           0,
           0,
           0,
           0,
           0,
           0,
           0,
           0,
           0,
           0,
           1,
           0,
           2,
           0,
           0,
           0,
           0,
           0,
           0,
           5,
           0
          ],
          [
           5,
           0,
           0,
           0,
           0,
           0,
           0,
           0,
           0,
           0,
           0,
           0,
           0,
           0,
           0,
           0,
           0,
           0,
           0,
           0,
           0,
           0,
           0,
           0,
           0,
           0,
           0,
           0,
           0,
           0,
           0,
           0,
           0,
           0,
           0
          ],
          [
           108,
           0,
           0,
           23,
           0,
           0,
           8,
           0,
           0,
           0,
           0,
           0,
           1,
           0,
           0,
           0,
           0,
           0,
           0,
           0,
           0,
           0,
           0,
           0,
           2,
           0,
           6,
           0,
           0,
           0,
           0,
           0,
           0,
           25,
           0
          ],
          [
           113,
           0,
           0,
           2,
           0,
           0,
           0,
           0,
           0,
           0,
           0,
           0,
           0,
           0,
           0,
           0,
           0,
           0,
           0,
           0,
           0,
           0,
           0,
           0,
           0,
           0,
           0,
           0,
           0,
           0,
           0,
           0,
           0,
           0,
           0
          ],
          [
           108,
           0,
           0,
           71,
           0,
           0,
           19,
           0,
           0,
           0,
           0,
           0,
           0,
           0,
           0,
           1,
           0,
           0,
           0,
           0,
           0,
           5,
           0,
           1,
           1,
           0,
           4,
           0,
           0,
           0,
           0,
           0,
           0,
           5,
           0
          ],
          [
           129,
           0,
           0,
           34,
           0,
           0,
           18,
           0,
           0,
           0,
           0,
           0,
           0,
           0,
           0,
           0,
           0,
           0,
           0,
           0,
           0,
           0,
           1,
           0,
           0,
           0,
           3,
           0,
           3,
           0,
           0,
           0,
           0,
           15,
           0
          ],
          [
           24,
           0,
           0,
           2,
           0,
           0,
           1,
           0,
           0,
           0,
           0,
           0,
           0,
           0,
           0,
           0,
           0,
           0,
           0,
           0,
           0,
           0,
           0,
           0,
           0,
           0,
           2,
           0,
           0,
           0,
           0,
           0,
           0,
           0,
           0
          ],
          [
           323,
           0,
           0,
           88,
           0,
           0,
           5,
           0,
           0,
           0,
           0,
           0,
           0,
           0,
           0,
           0,
           0,
           0,
           0,
           0,
           0,
           0,
           0,
           3,
           0,
           0,
           3,
           0,
           0,
           0,
           0,
           0,
           0,
           3,
           0
          ],
          [
           9,
           0,
           0,
           0,
           0,
           0,
           0,
           0,
           0,
           0,
           0,
           0,
           0,
           0,
           0,
           0,
           0,
           0,
           10,
           0,
           0,
           0,
           0,
           0,
           0,
           0,
           0,
           0,
           0,
           0,
           0,
           0,
           0,
           0,
           0
          ],
          [
           22,
           0,
           0,
           4,
           0,
           0,
           0,
           0,
           0,
           0,
           0,
           0,
           0,
           0,
           0,
           0,
           0,
           0,
           0,
           0,
           0,
           0,
           0,
           0,
           0,
           0,
           0,
           0,
           0,
           0,
           0,
           0,
           0,
           1,
           0
          ],
          [
           110,
           0,
           0,
           10,
           0,
           0,
           0,
           0,
           0,
           0,
           0,
           0,
           0,
           0,
           0,
           0,
           0,
           0,
           0,
           0,
           0,
           3,
           0,
           0,
           0,
           0,
           0,
           0,
           0,
           0,
           0,
           0,
           0,
           3,
           0
          ],
          [
           588,
           0,
           0,
           29,
           0,
           0,
           1,
           0,
           0,
           0,
           0,
           0,
           0,
           0,
           0,
           0,
           0,
           0,
           0,
           0,
           0,
           86,
           0,
           0,
           0,
           0,
           11,
           0,
           0,
           0,
           0,
           0,
           0,
           1,
           0
          ],
          [
           305,
           0,
           0,
           59,
           0,
           0,
           1,
           0,
           0,
           0,
           0,
           0,
           1,
           0,
           0,
           0,
           0,
           0,
           0,
           0,
           0,
           0,
           61,
           0,
           0,
           1,
           8,
           0,
           0,
           0,
           0,
           0,
           0,
           1,
           0
          ],
          [
           118,
           0,
           0,
           21,
           0,
           0,
           0,
           0,
           0,
           0,
           0,
           0,
           0,
           0,
           0,
           0,
           0,
           0,
           0,
           0,
           0,
           0,
           0,
           3,
           0,
           0,
           5,
           0,
           0,
           0,
           0,
           0,
           0,
           0,
           0
          ],
          [
           55,
           0,
           0,
           3,
           0,
           0,
           0,
           0,
           0,
           0,
           0,
           0,
           0,
           0,
           0,
           0,
           0,
           0,
           0,
           0,
           0,
           0,
           0,
           1,
           2,
           0,
           0,
           0,
           0,
           0,
           0,
           0,
           0,
           0,
           0
          ],
          [
           39,
           0,
           0,
           9,
           0,
           0,
           0,
           0,
           0,
           0,
           0,
           0,
           0,
           0,
           0,
           0,
           0,
           0,
           0,
           0,
           0,
           0,
           3,
           0,
           0,
           0,
           3,
           0,
           0,
           0,
           0,
           0,
           0,
           1,
           0
          ],
          [
           130,
           0,
           0,
           15,
           0,
           0,
           0,
           0,
           0,
           0,
           0,
           0,
           0,
           0,
           0,
           0,
           0,
           0,
           0,
           0,
           0,
           0,
           0,
           0,
           0,
           1,
           125,
           0,
           0,
           0,
           0,
           0,
           0,
           2,
           0
          ],
          [
           80,
           0,
           0,
           0,
           0,
           0,
           0,
           0,
           0,
           0,
           0,
           0,
           0,
           0,
           0,
           0,
           0,
           0,
           0,
           0,
           0,
           0,
           0,
           0,
           0,
           0,
           0,
           0,
           1,
           0,
           0,
           0,
           0,
           12,
           0
          ],
          [
           76,
           0,
           0,
           1,
           0,
           0,
           2,
           0,
           0,
           0,
           0,
           0,
           0,
           0,
           0,
           0,
           0,
           0,
           0,
           0,
           0,
           0,
           0,
           0,
           0,
           0,
           0,
           0,
           75,
           0,
           0,
           0,
           0,
           0,
           0
          ],
          [
           178,
           0,
           0,
           24,
           0,
           0,
           2,
           0,
           0,
           0,
           0,
           0,
           1,
           0,
           0,
           0,
           0,
           0,
           0,
           0,
           0,
           0,
           2,
           0,
           1,
           0,
           10,
           0,
           18,
           0,
           0,
           0,
           0,
           7,
           0
          ],
          [
           149,
           0,
           0,
           43,
           0,
           0,
           7,
           0,
           0,
           0,
           1,
           0,
           0,
           0,
           0,
           0,
           0,
           0,
           0,
           0,
           0,
           0,
           2,
           0,
           0,
           0,
           4,
           0,
           13,
           0,
           0,
           0,
           0,
           13,
           0
          ],
          [
           206,
           0,
           0,
           32,
           0,
           0,
           9,
           0,
           0,
           0,
           3,
           0,
           1,
           0,
           0,
           0,
           0,
           0,
           0,
           0,
           0,
           0,
           2,
           0,
           8,
           0,
           15,
           0,
           27,
           0,
           0,
           0,
           0,
           7,
           0
          ],
          [
           109,
           0,
           0,
           12,
           0,
           0,
           2,
           0,
           0,
           0,
           0,
           0,
           0,
           0,
           0,
           0,
           0,
           0,
           0,
           0,
           0,
           0,
           2,
           0,
           0,
           0,
           14,
           0,
           0,
           0,
           0,
           0,
           0,
           11,
           0
          ],
          [
           176,
           0,
           0,
           11,
           0,
           0,
           0,
           0,
           0,
           0,
           0,
           0,
           0,
           0,
           0,
           0,
           0,
           0,
           0,
           0,
           0,
           0,
           0,
           0,
           0,
           0,
           0,
           0,
           0,
           0,
           0,
           0,
           0,
           21,
           0
          ]
         ]
        }
       ],
       "layout": {
        "coloraxis": {
         "colorscale": [
          [
           0,
           "rgb(247,251,255)"
          ],
          [
           0.125,
           "rgb(222,235,247)"
          ],
          [
           0.25,
           "rgb(198,219,239)"
          ],
          [
           0.375,
           "rgb(158,202,225)"
          ],
          [
           0.5,
           "rgb(107,174,214)"
          ],
          [
           0.625,
           "rgb(66,146,198)"
          ],
          [
           0.75,
           "rgb(33,113,181)"
          ],
          [
           0.875,
           "rgb(8,81,156)"
          ],
          [
           1,
           "rgb(8,48,107)"
          ]
         ]
        },
        "height": 750,
        "margin": {
         "t": 60
        },
        "template": {
         "data": {
          "bar": [
           {
            "error_x": {
             "color": "#2a3f5f"
            },
            "error_y": {
             "color": "#2a3f5f"
            },
            "marker": {
             "line": {
              "color": "#E5ECF6",
              "width": 0.5
             },
             "pattern": {
              "fillmode": "overlay",
              "size": 10,
              "solidity": 0.2
             }
            },
            "type": "bar"
           }
          ],
          "barpolar": [
           {
            "marker": {
             "line": {
              "color": "#E5ECF6",
              "width": 0.5
             },
             "pattern": {
              "fillmode": "overlay",
              "size": 10,
              "solidity": 0.2
             }
            },
            "type": "barpolar"
           }
          ],
          "carpet": [
           {
            "aaxis": {
             "endlinecolor": "#2a3f5f",
             "gridcolor": "white",
             "linecolor": "white",
             "minorgridcolor": "white",
             "startlinecolor": "#2a3f5f"
            },
            "baxis": {
             "endlinecolor": "#2a3f5f",
             "gridcolor": "white",
             "linecolor": "white",
             "minorgridcolor": "white",
             "startlinecolor": "#2a3f5f"
            },
            "type": "carpet"
           }
          ],
          "choropleth": [
           {
            "colorbar": {
             "outlinewidth": 0,
             "ticks": ""
            },
            "type": "choropleth"
           }
          ],
          "contour": [
           {
            "colorbar": {
             "outlinewidth": 0,
             "ticks": ""
            },
            "colorscale": [
             [
              0,
              "#0d0887"
             ],
             [
              0.1111111111111111,
              "#46039f"
             ],
             [
              0.2222222222222222,
              "#7201a8"
             ],
             [
              0.3333333333333333,
              "#9c179e"
             ],
             [
              0.4444444444444444,
              "#bd3786"
             ],
             [
              0.5555555555555556,
              "#d8576b"
             ],
             [
              0.6666666666666666,
              "#ed7953"
             ],
             [
              0.7777777777777778,
              "#fb9f3a"
             ],
             [
              0.8888888888888888,
              "#fdca26"
             ],
             [
              1,
              "#f0f921"
             ]
            ],
            "type": "contour"
           }
          ],
          "contourcarpet": [
           {
            "colorbar": {
             "outlinewidth": 0,
             "ticks": ""
            },
            "type": "contourcarpet"
           }
          ],
          "heatmap": [
           {
            "colorbar": {
             "outlinewidth": 0,
             "ticks": ""
            },
            "colorscale": [
             [
              0,
              "#0d0887"
             ],
             [
              0.1111111111111111,
              "#46039f"
             ],
             [
              0.2222222222222222,
              "#7201a8"
             ],
             [
              0.3333333333333333,
              "#9c179e"
             ],
             [
              0.4444444444444444,
              "#bd3786"
             ],
             [
              0.5555555555555556,
              "#d8576b"
             ],
             [
              0.6666666666666666,
              "#ed7953"
             ],
             [
              0.7777777777777778,
              "#fb9f3a"
             ],
             [
              0.8888888888888888,
              "#fdca26"
             ],
             [
              1,
              "#f0f921"
             ]
            ],
            "type": "heatmap"
           }
          ],
          "heatmapgl": [
           {
            "colorbar": {
             "outlinewidth": 0,
             "ticks": ""
            },
            "colorscale": [
             [
              0,
              "#0d0887"
             ],
             [
              0.1111111111111111,
              "#46039f"
             ],
             [
              0.2222222222222222,
              "#7201a8"
             ],
             [
              0.3333333333333333,
              "#9c179e"
             ],
             [
              0.4444444444444444,
              "#bd3786"
             ],
             [
              0.5555555555555556,
              "#d8576b"
             ],
             [
              0.6666666666666666,
              "#ed7953"
             ],
             [
              0.7777777777777778,
              "#fb9f3a"
             ],
             [
              0.8888888888888888,
              "#fdca26"
             ],
             [
              1,
              "#f0f921"
             ]
            ],
            "type": "heatmapgl"
           }
          ],
          "histogram": [
           {
            "marker": {
             "pattern": {
              "fillmode": "overlay",
              "size": 10,
              "solidity": 0.2
             }
            },
            "type": "histogram"
           }
          ],
          "histogram2d": [
           {
            "colorbar": {
             "outlinewidth": 0,
             "ticks": ""
            },
            "colorscale": [
             [
              0,
              "#0d0887"
             ],
             [
              0.1111111111111111,
              "#46039f"
             ],
             [
              0.2222222222222222,
              "#7201a8"
             ],
             [
              0.3333333333333333,
              "#9c179e"
             ],
             [
              0.4444444444444444,
              "#bd3786"
             ],
             [
              0.5555555555555556,
              "#d8576b"
             ],
             [
              0.6666666666666666,
              "#ed7953"
             ],
             [
              0.7777777777777778,
              "#fb9f3a"
             ],
             [
              0.8888888888888888,
              "#fdca26"
             ],
             [
              1,
              "#f0f921"
             ]
            ],
            "type": "histogram2d"
           }
          ],
          "histogram2dcontour": [
           {
            "colorbar": {
             "outlinewidth": 0,
             "ticks": ""
            },
            "colorscale": [
             [
              0,
              "#0d0887"
             ],
             [
              0.1111111111111111,
              "#46039f"
             ],
             [
              0.2222222222222222,
              "#7201a8"
             ],
             [
              0.3333333333333333,
              "#9c179e"
             ],
             [
              0.4444444444444444,
              "#bd3786"
             ],
             [
              0.5555555555555556,
              "#d8576b"
             ],
             [
              0.6666666666666666,
              "#ed7953"
             ],
             [
              0.7777777777777778,
              "#fb9f3a"
             ],
             [
              0.8888888888888888,
              "#fdca26"
             ],
             [
              1,
              "#f0f921"
             ]
            ],
            "type": "histogram2dcontour"
           }
          ],
          "mesh3d": [
           {
            "colorbar": {
             "outlinewidth": 0,
             "ticks": ""
            },
            "type": "mesh3d"
           }
          ],
          "parcoords": [
           {
            "line": {
             "colorbar": {
              "outlinewidth": 0,
              "ticks": ""
             }
            },
            "type": "parcoords"
           }
          ],
          "pie": [
           {
            "automargin": true,
            "type": "pie"
           }
          ],
          "scatter": [
           {
            "fillpattern": {
             "fillmode": "overlay",
             "size": 10,
             "solidity": 0.2
            },
            "type": "scatter"
           }
          ],
          "scatter3d": [
           {
            "line": {
             "colorbar": {
              "outlinewidth": 0,
              "ticks": ""
             }
            },
            "marker": {
             "colorbar": {
              "outlinewidth": 0,
              "ticks": ""
             }
            },
            "type": "scatter3d"
           }
          ],
          "scattercarpet": [
           {
            "marker": {
             "colorbar": {
              "outlinewidth": 0,
              "ticks": ""
             }
            },
            "type": "scattercarpet"
           }
          ],
          "scattergeo": [
           {
            "marker": {
             "colorbar": {
              "outlinewidth": 0,
              "ticks": ""
             }
            },
            "type": "scattergeo"
           }
          ],
          "scattergl": [
           {
            "marker": {
             "colorbar": {
              "outlinewidth": 0,
              "ticks": ""
             }
            },
            "type": "scattergl"
           }
          ],
          "scattermapbox": [
           {
            "marker": {
             "colorbar": {
              "outlinewidth": 0,
              "ticks": ""
             }
            },
            "type": "scattermapbox"
           }
          ],
          "scatterpolar": [
           {
            "marker": {
             "colorbar": {
              "outlinewidth": 0,
              "ticks": ""
             }
            },
            "type": "scatterpolar"
           }
          ],
          "scatterpolargl": [
           {
            "marker": {
             "colorbar": {
              "outlinewidth": 0,
              "ticks": ""
             }
            },
            "type": "scatterpolargl"
           }
          ],
          "scatterternary": [
           {
            "marker": {
             "colorbar": {
              "outlinewidth": 0,
              "ticks": ""
             }
            },
            "type": "scatterternary"
           }
          ],
          "surface": [
           {
            "colorbar": {
             "outlinewidth": 0,
             "ticks": ""
            },
            "colorscale": [
             [
              0,
              "#0d0887"
             ],
             [
              0.1111111111111111,
              "#46039f"
             ],
             [
              0.2222222222222222,
              "#7201a8"
             ],
             [
              0.3333333333333333,
              "#9c179e"
             ],
             [
              0.4444444444444444,
              "#bd3786"
             ],
             [
              0.5555555555555556,
              "#d8576b"
             ],
             [
              0.6666666666666666,
              "#ed7953"
             ],
             [
              0.7777777777777778,
              "#fb9f3a"
             ],
             [
              0.8888888888888888,
              "#fdca26"
             ],
             [
              1,
              "#f0f921"
             ]
            ],
            "type": "surface"
           }
          ],
          "table": [
           {
            "cells": {
             "fill": {
              "color": "#EBF0F8"
             },
             "line": {
              "color": "white"
             }
            },
            "header": {
             "fill": {
              "color": "#C8D4E3"
             },
             "line": {
              "color": "white"
             }
            },
            "type": "table"
           }
          ]
         },
         "layout": {
          "annotationdefaults": {
           "arrowcolor": "#2a3f5f",
           "arrowhead": 0,
           "arrowwidth": 1
          },
          "autotypenumbers": "strict",
          "coloraxis": {
           "colorbar": {
            "outlinewidth": 0,
            "ticks": ""
           }
          },
          "colorscale": {
           "diverging": [
            [
             0,
             "#8e0152"
            ],
            [
             0.1,
             "#c51b7d"
            ],
            [
             0.2,
             "#de77ae"
            ],
            [
             0.3,
             "#f1b6da"
            ],
            [
             0.4,
             "#fde0ef"
            ],
            [
             0.5,
             "#f7f7f7"
            ],
            [
             0.6,
             "#e6f5d0"
            ],
            [
             0.7,
             "#b8e186"
            ],
            [
             0.8,
             "#7fbc41"
            ],
            [
             0.9,
             "#4d9221"
            ],
            [
             1,
             "#276419"
            ]
           ],
           "sequential": [
            [
             0,
             "#0d0887"
            ],
            [
             0.1111111111111111,
             "#46039f"
            ],
            [
             0.2222222222222222,
             "#7201a8"
            ],
            [
             0.3333333333333333,
             "#9c179e"
            ],
            [
             0.4444444444444444,
             "#bd3786"
            ],
            [
             0.5555555555555556,
             "#d8576b"
            ],
            [
             0.6666666666666666,
             "#ed7953"
            ],
            [
             0.7777777777777778,
             "#fb9f3a"
            ],
            [
             0.8888888888888888,
             "#fdca26"
            ],
            [
             1,
             "#f0f921"
            ]
           ],
           "sequentialminus": [
            [
             0,
             "#0d0887"
            ],
            [
             0.1111111111111111,
             "#46039f"
            ],
            [
             0.2222222222222222,
             "#7201a8"
            ],
            [
             0.3333333333333333,
             "#9c179e"
            ],
            [
             0.4444444444444444,
             "#bd3786"
            ],
            [
             0.5555555555555556,
             "#d8576b"
            ],
            [
             0.6666666666666666,
             "#ed7953"
            ],
            [
             0.7777777777777778,
             "#fb9f3a"
            ],
            [
             0.8888888888888888,
             "#fdca26"
            ],
            [
             1,
             "#f0f921"
            ]
           ]
          },
          "colorway": [
           "#636efa",
           "#EF553B",
           "#00cc96",
           "#ab63fa",
           "#FFA15A",
           "#19d3f3",
           "#FF6692",
           "#B6E880",
           "#FF97FF",
           "#FECB52"
          ],
          "font": {
           "color": "#2a3f5f"
          },
          "geo": {
           "bgcolor": "white",
           "lakecolor": "white",
           "landcolor": "#E5ECF6",
           "showlakes": true,
           "showland": true,
           "subunitcolor": "white"
          },
          "hoverlabel": {
           "align": "left"
          },
          "hovermode": "closest",
          "mapbox": {
           "style": "light"
          },
          "paper_bgcolor": "white",
          "plot_bgcolor": "#E5ECF6",
          "polar": {
           "angularaxis": {
            "gridcolor": "white",
            "linecolor": "white",
            "ticks": ""
           },
           "bgcolor": "#E5ECF6",
           "radialaxis": {
            "gridcolor": "white",
            "linecolor": "white",
            "ticks": ""
           }
          },
          "scene": {
           "xaxis": {
            "backgroundcolor": "#E5ECF6",
            "gridcolor": "white",
            "gridwidth": 2,
            "linecolor": "white",
            "showbackground": true,
            "ticks": "",
            "zerolinecolor": "white"
           },
           "yaxis": {
            "backgroundcolor": "#E5ECF6",
            "gridcolor": "white",
            "gridwidth": 2,
            "linecolor": "white",
            "showbackground": true,
            "ticks": "",
            "zerolinecolor": "white"
           },
           "zaxis": {
            "backgroundcolor": "#E5ECF6",
            "gridcolor": "white",
            "gridwidth": 2,
            "linecolor": "white",
            "showbackground": true,
            "ticks": "",
            "zerolinecolor": "white"
           }
          },
          "shapedefaults": {
           "line": {
            "color": "#2a3f5f"
           }
          },
          "ternary": {
           "aaxis": {
            "gridcolor": "white",
            "linecolor": "white",
            "ticks": ""
           },
           "baxis": {
            "gridcolor": "white",
            "linecolor": "white",
            "ticks": ""
           },
           "bgcolor": "#E5ECF6",
           "caxis": {
            "gridcolor": "white",
            "linecolor": "white",
            "ticks": ""
           }
          },
          "title": {
           "x": 0.05
          },
          "xaxis": {
           "automargin": true,
           "gridcolor": "white",
           "linecolor": "white",
           "ticks": "",
           "title": {
            "standoff": 15
           },
           "zerolinecolor": "white",
           "zerolinewidth": 2
          },
          "yaxis": {
           "automargin": true,
           "gridcolor": "white",
           "linecolor": "white",
           "ticks": "",
           "title": {
            "standoff": 15
           },
           "zerolinecolor": "white",
           "zerolinewidth": 2
          }
         }
        },
        "width": 750,
        "xaxis": {
         "anchor": "y",
         "constrain": "domain",
         "domain": [
          0,
          1
         ],
         "dtick": 1,
         "scaleanchor": "y",
         "tickangle": -45
        },
        "yaxis": {
         "anchor": "x",
         "autorange": "reversed",
         "constrain": "domain",
         "domain": [
          0,
          1
         ],
         "dtick": 1
        }
       }
      }
     },
     "metadata": {},
     "output_type": "display_data"
    }
   ],
   "source": [
    "# load datasets\n",
    "q = sc.read_h5ad('../data/ALM.h5ad')\n",
    "ref = sc.read_h5ad('../data/MTG.h5ad')\n",
    "\n",
    "# run the method\n",
    "m = CellTypist()\n",
    "m.fit(ref, 'labels34')\n",
    "m.predict(q)\n",
    "\n",
    "# evaluate the predictions\n",
    "acc, cfmatrix, q_labels, ref_labels = eval_preds(q, ref, 'labels34', 'labels34', 'celltypist')\n",
    "print(f\"[*] accuracy: {acc:.2f}\")\n",
    "plot_cfmatrix(cfmatrix, q_labels, ref_labels)"
   ]
  },
  {
   "cell_type": "markdown",
   "metadata": {},
   "source": [
    "# SCANVI"
   ]
  },
  {
   "cell_type": "markdown",
   "metadata": {},
   "source": [
    "This is scArches specifically\n"
   ]
  },
  {
   "cell_type": "code",
   "execution_count": 5,
   "metadata": {},
   "outputs": [
    {
     "name": "stderr",
     "output_type": "stream",
     "text": [
      "/opt/homebrew/anaconda3/envs/refcm/lib/python3.11/site-packages/tqdm/auto.py:21: TqdmWarning: IProgress not found. Please update jupyter and ipywidgets. See https://ipywidgets.readthedocs.io/en/stable/user_install.html\n",
      "  from .autonotebook import tqdm as notebook_tqdm\n"
     ]
    }
   ],
   "source": [
    "import os\n",
    "import tempfile\n",
    "\n",
    "import anndata\n",
    "import matplotlib.pyplot as plt\n",
    "import numpy as np\n",
    "import pandas as pd\n",
    "import scanpy as sc\n",
    "# import scrublet as scr\n",
    "import scvi\n",
    "import seaborn as sns\n",
    "import torch"
   ]
  },
  {
   "cell_type": "code",
   "execution_count": 6,
   "metadata": {},
   "outputs": [
    {
     "name": "stderr",
     "output_type": "stream",
     "text": [
      "INFO: Seed set to 0\n",
      "[lightning.fabric.utilities.seed] [INFO    ] : Seed set to 0\n"
     ]
    },
    {
     "name": "stdout",
     "output_type": "stream",
     "text": [
      "Last run with scvi-tools version: 1.1.6.post2\n"
     ]
    }
   ],
   "source": [
    "scvi.settings.seed = 0\n",
    "print(\"Last run with scvi-tools version:\", scvi.__version__)"
   ]
  },
  {
   "cell_type": "code",
   "execution_count": 7,
   "metadata": {},
   "outputs": [
    {
     "name": "stderr",
     "output_type": "stream",
     "text": [
      "[matplotlib.pyplot] [DEBUG   ] : Loaded backend module://matplotlib_inline.backend_inline version unknown.\n"
     ]
    }
   ],
   "source": [
    "sc.set_figure_params(figsize=(6, 6), frameon=False)\n",
    "sns.set_theme()\n",
    "torch.set_float32_matmul_precision(\"high\")\n",
    "save_dir = tempfile.TemporaryDirectory()\n",
    "\n",
    "%config InlineBackend.print_figure_kwargs={\"facecolor\": \"w\"}\n",
    "%config InlineBackend.figure_format=\"retina\""
   ]
  },
  {
   "cell_type": "code",
   "execution_count": 8,
   "metadata": {},
   "outputs": [
    {
     "name": "stderr",
     "output_type": "stream",
     "text": [
      "[h5py._conv      ] [DEBUG   ] : Creating converter from 3 to 5\n"
     ]
    }
   ],
   "source": [
    "# load data\n",
    "q = sc.read_h5ad('../data/pancreas_celseq.h5ad')\n",
    "ref = sc.read_h5ad('../data/pancreas_inDrop1.h5ad')\n",
    "\n",
    "# log-normalize as needed for HVG\n",
    "q.X = np.log1p(q.X)\n",
    "ref.X = np.log1p(ref.X)\n",
    "\n",
    "# subsample hvg genes\n",
    "sc.pp.highly_variable_genes(ref, n_top_genes=2000, subset=True)\n",
    "q = q[:, ref.var_names].copy()\n",
    "\n",
    "# return to normal counts for SCVI\n",
    "q.X = np.expm1(q.X)\n",
    "ref.X = np.expm1(ref.X)"
   ]
  },
  {
   "cell_type": "code",
   "execution_count": 9,
   "metadata": {},
   "outputs": [
    {
     "data": {
      "text/plain": [
       "(13, 14)"
      ]
     },
     "execution_count": 9,
     "metadata": {},
     "output_type": "execute_result"
    }
   ],
   "source": [
    "len(q.obs.celltype.unique()), len(ref.obs.celltype.unique()), "
   ]
  },
  {
   "cell_type": "code",
   "execution_count": null,
   "metadata": {},
   "outputs": [],
   "source": [
    "scvi_model = scvi.model.SCVI(ref, **arches_params)\n",
    "scvi_model.train()\n",
    "scanvi_model = SCANVI.from_scvi_model(scvi_model, unlabeled_category=\"Unknown\")\n",
    "scanvi_model.train()"
   ]
  }
 ],
 "metadata": {
  "kernelspec": {
   "display_name": "refcm",
   "language": "python",
   "name": "python3"
  },
  "language_info": {
   "codemirror_mode": {
    "name": "ipython",
    "version": 3
   },
   "file_extension": ".py",
   "mimetype": "text/x-python",
   "name": "python",
   "nbconvert_exporter": "python",
   "pygments_lexer": "ipython3",
   "version": "3.11.9"
  }
 },
 "nbformat": 4,
 "nbformat_minor": 2
}
