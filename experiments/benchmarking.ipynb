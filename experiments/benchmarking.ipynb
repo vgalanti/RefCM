{
 "cells": [
  {
   "cell_type": "code",
   "execution_count": 1,
   "metadata": {},
   "outputs": [
    {
     "name": "stderr",
     "output_type": "stream",
     "text": [
      "/opt/homebrew/anaconda3/envs/refcm/lib/python3.11/site-packages/tqdm/auto.py:21: TqdmWarning: IProgress not found. Please update jupyter and ipywidgets. See https://ipywidgets.readthedocs.io/en/stable/user_install.html\n",
      "  from .autonotebook import tqdm as notebook_tqdm\n",
      "Seed set to 0\n"
     ]
    }
   ],
   "source": [
    "import sys\n",
    "sys.path.append('../src/')\n",
    "\n",
    "import benchmarking\n",
    "\n",
    "import config\n",
    "import logging\n",
    "config.start_logging(logging.DEBUG)"
   ]
  },
  {
   "cell_type": "code",
   "execution_count": 2,
   "metadata": {},
   "outputs": [],
   "source": [
    "%load_ext autoreload\n",
    "%autoreload 2"
   ]
  },
  {
   "cell_type": "code",
   "execution_count": 3,
   "metadata": {},
   "outputs": [
    {
     "name": "stderr",
     "output_type": "stream",
     "text": [
      "🍳 Preparing data before training\n",
      "[celltypist.logger] [INFO    ] : 🍳 Preparing data before training\n",
      "🔬 Input data has 63371 cells and 7172 genes\n",
      "[celltypist.logger] [INFO    ] : 🔬 Input data has 63371 cells and 7172 genes\n",
      "⚖️ Scaling input data\n",
      "[celltypist.logger] [INFO    ] : ⚖️ Scaling input data\n",
      "🏋️ Training data using logistic regression\n",
      "[celltypist.logger] [INFO    ] : 🏋️ Training data using logistic regression\n",
      "✅ Model training done!\n",
      "[celltypist.logger] [INFO    ] : ✅ Model training done!\n",
      "⚠️ Warning: invalid expression matrix, expect ALL genes and log1p normalized expression to 10000 counts per cell. The prediction result may not be accurate\n",
      "[celltypist.logger] [WARNING ] : ⚠️ Warning: invalid expression matrix, expect ALL genes and log1p normalized expression to 10000 counts per cell. The prediction result may not be accurate\n",
      "🔬 Input data has 96935 cells and 7172 genes\n",
      "[celltypist.logger] [INFO    ] : 🔬 Input data has 96935 cells and 7172 genes\n",
      "🔗 Matching reference genes in the model\n",
      "[celltypist.logger] [INFO    ] : 🔗 Matching reference genes in the model\n",
      "🧬 7172 features used for prediction\n",
      "[celltypist.logger] [INFO    ] : 🧬 7172 features used for prediction\n",
      "⚖️ Scaling input data\n",
      "[celltypist.logger] [INFO    ] : ⚖️ Scaling input data\n",
      "🖋️ Predicting labels\n",
      "[celltypist.logger] [INFO    ] : 🖋️ Predicting labels\n",
      "✅ Prediction done!\n",
      "[celltypist.logger] [INFO    ] : ✅ Prediction done!\n"
     ]
    },
    {
     "ename": "ValueError",
     "evalue": "shapes (63371,30032) and (63371,1) not aligned: 30032 (dim 1) != 63371 (dim 0)",
     "output_type": "error",
     "traceback": [
      "\u001b[0;31m---------------------------------------------------------------------------\u001b[0m",
      "\u001b[0;31mValueError\u001b[0m                                Traceback (most recent call last)",
      "Cell \u001b[0;32mIn[3], line 1\u001b[0m\n\u001b[0;32m----> 1\u001b[0m \u001b[43mbenchmarking\u001b[49m\u001b[38;5;241;43m.\u001b[39;49m\u001b[43mbenchmark_fzfish\u001b[49m\u001b[43m(\u001b[49m\u001b[43m)\u001b[49m\n",
      "File \u001b[0;32m~/Desktop/RCM/experiments/benchmarking.py:721\u001b[0m, in \u001b[0;36mbenchmark_fzfish\u001b[0;34m()\u001b[0m\n\u001b[1;32m    719\u001b[0m m \u001b[38;5;241m=\u001b[39m model()\n\u001b[1;32m    720\u001b[0m m\u001b[38;5;241m.\u001b[39msetref(ref, KEYS[rid])\n\u001b[0;32m--> 721\u001b[0m \u001b[43mm\u001b[49m\u001b[38;5;241;43m.\u001b[39;49m\u001b[43mannotate\u001b[49m\u001b[43m(\u001b[49m\u001b[43mq\u001b[49m\u001b[43m,\u001b[49m\u001b[43m \u001b[49m\u001b[43mKEYS\u001b[49m\u001b[43m[\u001b[49m\u001b[43mqid\u001b[49m\u001b[43m]\u001b[49m\u001b[43m)\u001b[49m\n\u001b[1;32m    723\u001b[0m perf \u001b[38;5;241m=\u001b[39m Benchmark(\u001b[38;5;241m*\u001b[39mm\u001b[38;5;241m.\u001b[39meval_(), q\u001b[38;5;241m.\u001b[39mobs[m\u001b[38;5;241m.\u001b[39mrcm_id]\u001b[38;5;241m.\u001b[39mtolist())\n\u001b[1;32m    724\u001b[0m add_benchmark(benchmarks, m\u001b[38;5;241m.\u001b[39mrcm_id, qid, rid, perf)\n",
      "File \u001b[0;32m~/Desktop/RCM/experiments/benchmarking.py:289\u001b[0m, in \u001b[0;36mCellTypist.annotate\u001b[0;34m(self, q, q_key, q_mclusters)\u001b[0m\n\u001b[1;32m    287\u001b[0m \u001b[38;5;66;03m# cleanup so datasets remain unchanged between executions\u001b[39;00m\n\u001b[1;32m    288\u001b[0m \u001b[38;5;28mself\u001b[39m\u001b[38;5;241m.\u001b[39mq\u001b[38;5;241m.\u001b[39mX \u001b[38;5;241m=\u001b[39m np\u001b[38;5;241m.\u001b[39mexpm1(\u001b[38;5;28mself\u001b[39m\u001b[38;5;241m.\u001b[39mq\u001b[38;5;241m.\u001b[39mX) \u001b[38;5;241m*\u001b[39m q_sums \u001b[38;5;241m/\u001b[39m \u001b[38;5;241m1e4\u001b[39m\n\u001b[0;32m--> 289\u001b[0m \u001b[38;5;28mself\u001b[39m\u001b[38;5;241m.\u001b[39mref\u001b[38;5;241m.\u001b[39mX \u001b[38;5;241m=\u001b[39m \u001b[43mnp\u001b[49m\u001b[38;5;241;43m.\u001b[39;49m\u001b[43mexpm1\u001b[49m\u001b[43m(\u001b[49m\u001b[38;5;28;43mself\u001b[39;49m\u001b[38;5;241;43m.\u001b[39;49m\u001b[43mref\u001b[49m\u001b[38;5;241;43m.\u001b[39;49m\u001b[43mX\u001b[49m\u001b[43m)\u001b[49m\u001b[43m \u001b[49m\u001b[38;5;241;43m*\u001b[39;49m\u001b[43m \u001b[49m\u001b[43mref_sums\u001b[49m \u001b[38;5;241m/\u001b[39m \u001b[38;5;241m1e4\u001b[39m\n\u001b[1;32m    291\u001b[0m \u001b[38;5;66;03m# apply majority voting\u001b[39;00m\n\u001b[1;32m    292\u001b[0m \u001b[38;5;28mself\u001b[39m\u001b[38;5;241m.\u001b[39m_mv()\n",
      "File \u001b[0;32m/opt/homebrew/anaconda3/envs/refcm/lib/python3.11/site-packages/numpy/matrixlib/defmatrix.py:225\u001b[0m, in \u001b[0;36mmatrix.__rmul__\u001b[0;34m(self, other)\u001b[0m\n\u001b[1;32m    224\u001b[0m \u001b[38;5;28;01mdef\u001b[39;00m \u001b[38;5;21m__rmul__\u001b[39m(\u001b[38;5;28mself\u001b[39m, other):\n\u001b[0;32m--> 225\u001b[0m     \u001b[38;5;28;01mreturn\u001b[39;00m \u001b[43mN\u001b[49m\u001b[38;5;241;43m.\u001b[39;49m\u001b[43mdot\u001b[49m\u001b[43m(\u001b[49m\u001b[43mother\u001b[49m\u001b[43m,\u001b[49m\u001b[43m \u001b[49m\u001b[38;5;28;43mself\u001b[39;49m\u001b[43m)\u001b[49m\n",
      "\u001b[0;31mValueError\u001b[0m: shapes (63371,30032) and (63371,1) not aligned: 30032 (dim 1) != 63371 (dim 0)"
     ]
    }
   ],
   "source": [
    "benchmarking.benchmark_fzfish()"
   ]
  },
  {
   "cell_type": "code",
   "execution_count": null,
   "metadata": {},
   "outputs": [],
   "source": []
  }
 ],
 "metadata": {
  "kernelspec": {
   "display_name": "refcm",
   "language": "python",
   "name": "python3"
  },
  "language_info": {
   "codemirror_mode": {
    "name": "ipython",
    "version": 3
   },
   "file_extension": ".py",
   "mimetype": "text/x-python",
   "name": "python",
   "nbconvert_exporter": "python",
   "pygments_lexer": "ipython3",
   "version": "3.11.9"
  }
 },
 "nbformat": 4,
 "nbformat_minor": 2
}
