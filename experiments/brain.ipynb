{
 "cells": [
  {
   "cell_type": "code",
   "execution_count": 1,
   "metadata": {},
   "outputs": [],
   "source": [
    "import sys\n",
    "sys.path.append('../src/')\n",
    "\n",
    "import config\n",
    "import logging\n",
    "import scanpy as sc\n",
    "from refcm import RefCM\n",
    "\n",
    "config.start_logging(logging.DEBUG)"
   ]
  },
  {
   "cell_type": "code",
   "execution_count": 2,
   "metadata": {},
   "outputs": [],
   "source": [
    "%load_ext autoreload\n",
    "%autoreload 2"
   ]
  },
  {
   "cell_type": "code",
   "execution_count": 3,
   "metadata": {},
   "outputs": [
    {
     "name": "stderr",
     "output_type": "stream",
     "text": [
      "[h5py._conv      ] [DEBUG   ] : Creating converter from 3 to 5\n"
     ]
    }
   ],
   "source": [
    "ds = ['MTG', 'ALM', 'VISp']\n",
    "ds = {s: sc.read_h5ad(f'../data/{s}.h5ad') for s in ds}"
   ]
  },
  {
   "cell_type": "code",
   "execution_count": 4,
   "metadata": {},
   "outputs": [
    {
     "data": {
      "text/html": [
       "<div>\n",
       "<style scoped>\n",
       "    .dataframe tbody tr th:only-of-type {\n",
       "        vertical-align: middle;\n",
       "    }\n",
       "\n",
       "    .dataframe tbody tr th {\n",
       "        vertical-align: top;\n",
       "    }\n",
       "\n",
       "    .dataframe thead th {\n",
       "        text-align: right;\n",
       "    }\n",
       "</style>\n",
       "<table border=\"1\" class=\"dataframe\">\n",
       "  <thead>\n",
       "    <tr style=\"text-align: right;\">\n",
       "      <th></th>\n",
       "      <th>X0610007P14Rik</th>\n",
       "      <th>X0610009O20Rik</th>\n",
       "      <th>X0610010F05Rik</th>\n",
       "      <th>X0610011F06Rik</th>\n",
       "      <th>X0610030E20Rik</th>\n",
       "      <th>X0610037L13Rik</th>\n",
       "      <th>X0610040J01Rik</th>\n",
       "      <th>X1110001J03Rik</th>\n",
       "      <th>X1110004E09Rik</th>\n",
       "      <th>X1110004F10Rik</th>\n",
       "      <th>...</th>\n",
       "      <th>Zwint</th>\n",
       "      <th>Zxdb</th>\n",
       "      <th>Zxdc</th>\n",
       "      <th>Zyg11a</th>\n",
       "      <th>Zyg11b</th>\n",
       "      <th>Zyx</th>\n",
       "      <th>Zzef1</th>\n",
       "      <th>Zzz3</th>\n",
       "      <th>a</th>\n",
       "      <th>l7Rn6</th>\n",
       "    </tr>\n",
       "  </thead>\n",
       "  <tbody>\n",
       "    <tr>\n",
       "      <th>F1S4_160106_001_B01</th>\n",
       "      <td>0.0</td>\n",
       "      <td>157.0</td>\n",
       "      <td>9.0</td>\n",
       "      <td>12.0</td>\n",
       "      <td>0.0</td>\n",
       "      <td>0.0</td>\n",
       "      <td>88.0</td>\n",
       "      <td>1.0</td>\n",
       "      <td>268.0</td>\n",
       "      <td>258.0</td>\n",
       "      <td>...</td>\n",
       "      <td>0.0</td>\n",
       "      <td>0.0</td>\n",
       "      <td>0.0</td>\n",
       "      <td>0.0</td>\n",
       "      <td>33.0</td>\n",
       "      <td>0.0</td>\n",
       "      <td>1.0</td>\n",
       "      <td>306.0</td>\n",
       "      <td>0.0</td>\n",
       "      <td>374.0</td>\n",
       "    </tr>\n",
       "    <tr>\n",
       "      <th>F1S4_160106_001_C01</th>\n",
       "      <td>107.0</td>\n",
       "      <td>80.0</td>\n",
       "      <td>85.0</td>\n",
       "      <td>0.0</td>\n",
       "      <td>0.0</td>\n",
       "      <td>245.0</td>\n",
       "      <td>1.0</td>\n",
       "      <td>0.0</td>\n",
       "      <td>327.0</td>\n",
       "      <td>521.0</td>\n",
       "      <td>...</td>\n",
       "      <td>0.0</td>\n",
       "      <td>17.0</td>\n",
       "      <td>35.0</td>\n",
       "      <td>0.0</td>\n",
       "      <td>258.0</td>\n",
       "      <td>0.0</td>\n",
       "      <td>8.0</td>\n",
       "      <td>341.0</td>\n",
       "      <td>0.0</td>\n",
       "      <td>189.0</td>\n",
       "    </tr>\n",
       "    <tr>\n",
       "      <th>F1S4_160106_001_E01</th>\n",
       "      <td>53.0</td>\n",
       "      <td>36.0</td>\n",
       "      <td>19.0</td>\n",
       "      <td>12.0</td>\n",
       "      <td>0.0</td>\n",
       "      <td>23.0</td>\n",
       "      <td>0.0</td>\n",
       "      <td>0.0</td>\n",
       "      <td>196.0</td>\n",
       "      <td>96.0</td>\n",
       "      <td>...</td>\n",
       "      <td>0.0</td>\n",
       "      <td>0.0</td>\n",
       "      <td>13.0</td>\n",
       "      <td>25.0</td>\n",
       "      <td>45.0</td>\n",
       "      <td>72.0</td>\n",
       "      <td>197.0</td>\n",
       "      <td>296.0</td>\n",
       "      <td>2.0</td>\n",
       "      <td>33.0</td>\n",
       "    </tr>\n",
       "    <tr>\n",
       "      <th>F1S4_160106_001_G01</th>\n",
       "      <td>2.0</td>\n",
       "      <td>1.0</td>\n",
       "      <td>344.0</td>\n",
       "      <td>31.0</td>\n",
       "      <td>0.0</td>\n",
       "      <td>82.0</td>\n",
       "      <td>0.0</td>\n",
       "      <td>36.0</td>\n",
       "      <td>45.0</td>\n",
       "      <td>66.0</td>\n",
       "      <td>...</td>\n",
       "      <td>0.0</td>\n",
       "      <td>0.0</td>\n",
       "      <td>82.0</td>\n",
       "      <td>0.0</td>\n",
       "      <td>181.0</td>\n",
       "      <td>0.0</td>\n",
       "      <td>58.0</td>\n",
       "      <td>206.0</td>\n",
       "      <td>28.0</td>\n",
       "      <td>97.0</td>\n",
       "    </tr>\n",
       "    <tr>\n",
       "      <th>F1S4_160106_001_H01</th>\n",
       "      <td>97.0</td>\n",
       "      <td>0.0</td>\n",
       "      <td>264.0</td>\n",
       "      <td>103.0</td>\n",
       "      <td>37.0</td>\n",
       "      <td>0.0</td>\n",
       "      <td>1.0</td>\n",
       "      <td>0.0</td>\n",
       "      <td>40.0</td>\n",
       "      <td>122.0</td>\n",
       "      <td>...</td>\n",
       "      <td>0.0</td>\n",
       "      <td>0.0</td>\n",
       "      <td>0.0</td>\n",
       "      <td>0.0</td>\n",
       "      <td>317.0</td>\n",
       "      <td>10.0</td>\n",
       "      <td>169.0</td>\n",
       "      <td>0.0</td>\n",
       "      <td>12.0</td>\n",
       "      <td>0.0</td>\n",
       "    </tr>\n",
       "    <tr>\n",
       "      <th>...</th>\n",
       "      <td>...</td>\n",
       "      <td>...</td>\n",
       "      <td>...</td>\n",
       "      <td>...</td>\n",
       "      <td>...</td>\n",
       "      <td>...</td>\n",
       "      <td>...</td>\n",
       "      <td>...</td>\n",
       "      <td>...</td>\n",
       "      <td>...</td>\n",
       "      <td>...</td>\n",
       "      <td>...</td>\n",
       "      <td>...</td>\n",
       "      <td>...</td>\n",
       "      <td>...</td>\n",
       "      <td>...</td>\n",
       "      <td>...</td>\n",
       "      <td>...</td>\n",
       "      <td>...</td>\n",
       "      <td>...</td>\n",
       "      <td>...</td>\n",
       "    </tr>\n",
       "    <tr>\n",
       "      <th>F2S4_170405_060_A01</th>\n",
       "      <td>46.0</td>\n",
       "      <td>34.0</td>\n",
       "      <td>232.0</td>\n",
       "      <td>51.0</td>\n",
       "      <td>0.0</td>\n",
       "      <td>41.0</td>\n",
       "      <td>0.0</td>\n",
       "      <td>0.0</td>\n",
       "      <td>0.0</td>\n",
       "      <td>209.0</td>\n",
       "      <td>...</td>\n",
       "      <td>0.0</td>\n",
       "      <td>0.0</td>\n",
       "      <td>49.0</td>\n",
       "      <td>0.0</td>\n",
       "      <td>160.0</td>\n",
       "      <td>51.0</td>\n",
       "      <td>46.0</td>\n",
       "      <td>352.0</td>\n",
       "      <td>0.0</td>\n",
       "      <td>76.0</td>\n",
       "    </tr>\n",
       "    <tr>\n",
       "      <th>F2S4_170405_060_B01</th>\n",
       "      <td>0.0</td>\n",
       "      <td>186.0</td>\n",
       "      <td>156.0</td>\n",
       "      <td>29.0</td>\n",
       "      <td>0.0</td>\n",
       "      <td>0.0</td>\n",
       "      <td>0.0</td>\n",
       "      <td>0.0</td>\n",
       "      <td>54.0</td>\n",
       "      <td>202.0</td>\n",
       "      <td>...</td>\n",
       "      <td>75.0</td>\n",
       "      <td>0.0</td>\n",
       "      <td>87.0</td>\n",
       "      <td>0.0</td>\n",
       "      <td>128.0</td>\n",
       "      <td>72.0</td>\n",
       "      <td>22.0</td>\n",
       "      <td>370.0</td>\n",
       "      <td>1.0</td>\n",
       "      <td>69.0</td>\n",
       "    </tr>\n",
       "    <tr>\n",
       "      <th>F2S4_170405_060_C01</th>\n",
       "      <td>90.0</td>\n",
       "      <td>237.0</td>\n",
       "      <td>456.0</td>\n",
       "      <td>98.0</td>\n",
       "      <td>28.0</td>\n",
       "      <td>0.0</td>\n",
       "      <td>0.0</td>\n",
       "      <td>0.0</td>\n",
       "      <td>1.0</td>\n",
       "      <td>127.0</td>\n",
       "      <td>...</td>\n",
       "      <td>115.0</td>\n",
       "      <td>0.0</td>\n",
       "      <td>171.0</td>\n",
       "      <td>1.0</td>\n",
       "      <td>79.0</td>\n",
       "      <td>23.0</td>\n",
       "      <td>0.0</td>\n",
       "      <td>113.0</td>\n",
       "      <td>26.0</td>\n",
       "      <td>0.0</td>\n",
       "    </tr>\n",
       "    <tr>\n",
       "      <th>F2S4_170405_060_E01</th>\n",
       "      <td>0.0</td>\n",
       "      <td>0.0</td>\n",
       "      <td>400.0</td>\n",
       "      <td>0.0</td>\n",
       "      <td>0.0</td>\n",
       "      <td>92.0</td>\n",
       "      <td>94.0</td>\n",
       "      <td>0.0</td>\n",
       "      <td>0.0</td>\n",
       "      <td>75.0</td>\n",
       "      <td>...</td>\n",
       "      <td>0.0</td>\n",
       "      <td>0.0</td>\n",
       "      <td>141.0</td>\n",
       "      <td>0.0</td>\n",
       "      <td>0.0</td>\n",
       "      <td>62.0</td>\n",
       "      <td>316.0</td>\n",
       "      <td>187.0</td>\n",
       "      <td>0.0</td>\n",
       "      <td>0.0</td>\n",
       "    </tr>\n",
       "    <tr>\n",
       "      <th>F2S4_170405_060_H01</th>\n",
       "      <td>0.0</td>\n",
       "      <td>293.0</td>\n",
       "      <td>173.0</td>\n",
       "      <td>0.0</td>\n",
       "      <td>0.0</td>\n",
       "      <td>4.0</td>\n",
       "      <td>2.0</td>\n",
       "      <td>40.0</td>\n",
       "      <td>67.0</td>\n",
       "      <td>175.0</td>\n",
       "      <td>...</td>\n",
       "      <td>0.0</td>\n",
       "      <td>0.0</td>\n",
       "      <td>149.0</td>\n",
       "      <td>226.0</td>\n",
       "      <td>462.0</td>\n",
       "      <td>4.0</td>\n",
       "      <td>203.0</td>\n",
       "      <td>184.0</td>\n",
       "      <td>1.0</td>\n",
       "      <td>73.0</td>\n",
       "    </tr>\n",
       "  </tbody>\n",
       "</table>\n",
       "<p>14055 rows × 16024 columns</p>\n",
       "</div>"
      ],
      "text/plain": [
       "                     X0610007P14Rik  X0610009O20Rik  X0610010F05Rik  \\\n",
       "F1S4_160106_001_B01             0.0           157.0             9.0   \n",
       "F1S4_160106_001_C01           107.0            80.0            85.0   \n",
       "F1S4_160106_001_E01            53.0            36.0            19.0   \n",
       "F1S4_160106_001_G01             2.0             1.0           344.0   \n",
       "F1S4_160106_001_H01            97.0             0.0           264.0   \n",
       "...                             ...             ...             ...   \n",
       "F2S4_170405_060_A01            46.0            34.0           232.0   \n",
       "F2S4_170405_060_B01             0.0           186.0           156.0   \n",
       "F2S4_170405_060_C01            90.0           237.0           456.0   \n",
       "F2S4_170405_060_E01             0.0             0.0           400.0   \n",
       "F2S4_170405_060_H01             0.0           293.0           173.0   \n",
       "\n",
       "                     X0610011F06Rik  X0610030E20Rik  X0610037L13Rik  \\\n",
       "F1S4_160106_001_B01            12.0             0.0             0.0   \n",
       "F1S4_160106_001_C01             0.0             0.0           245.0   \n",
       "F1S4_160106_001_E01            12.0             0.0            23.0   \n",
       "F1S4_160106_001_G01            31.0             0.0            82.0   \n",
       "F1S4_160106_001_H01           103.0            37.0             0.0   \n",
       "...                             ...             ...             ...   \n",
       "F2S4_170405_060_A01            51.0             0.0            41.0   \n",
       "F2S4_170405_060_B01            29.0             0.0             0.0   \n",
       "F2S4_170405_060_C01            98.0            28.0             0.0   \n",
       "F2S4_170405_060_E01             0.0             0.0            92.0   \n",
       "F2S4_170405_060_H01             0.0             0.0             4.0   \n",
       "\n",
       "                     X0610040J01Rik  X1110001J03Rik  X1110004E09Rik  \\\n",
       "F1S4_160106_001_B01            88.0             1.0           268.0   \n",
       "F1S4_160106_001_C01             1.0             0.0           327.0   \n",
       "F1S4_160106_001_E01             0.0             0.0           196.0   \n",
       "F1S4_160106_001_G01             0.0            36.0            45.0   \n",
       "F1S4_160106_001_H01             1.0             0.0            40.0   \n",
       "...                             ...             ...             ...   \n",
       "F2S4_170405_060_A01             0.0             0.0             0.0   \n",
       "F2S4_170405_060_B01             0.0             0.0            54.0   \n",
       "F2S4_170405_060_C01             0.0             0.0             1.0   \n",
       "F2S4_170405_060_E01            94.0             0.0             0.0   \n",
       "F2S4_170405_060_H01             2.0            40.0            67.0   \n",
       "\n",
       "                     X1110004F10Rik  ...  Zwint  Zxdb   Zxdc  Zyg11a  Zyg11b  \\\n",
       "F1S4_160106_001_B01           258.0  ...    0.0   0.0    0.0     0.0    33.0   \n",
       "F1S4_160106_001_C01           521.0  ...    0.0  17.0   35.0     0.0   258.0   \n",
       "F1S4_160106_001_E01            96.0  ...    0.0   0.0   13.0    25.0    45.0   \n",
       "F1S4_160106_001_G01            66.0  ...    0.0   0.0   82.0     0.0   181.0   \n",
       "F1S4_160106_001_H01           122.0  ...    0.0   0.0    0.0     0.0   317.0   \n",
       "...                             ...  ...    ...   ...    ...     ...     ...   \n",
       "F2S4_170405_060_A01           209.0  ...    0.0   0.0   49.0     0.0   160.0   \n",
       "F2S4_170405_060_B01           202.0  ...   75.0   0.0   87.0     0.0   128.0   \n",
       "F2S4_170405_060_C01           127.0  ...  115.0   0.0  171.0     1.0    79.0   \n",
       "F2S4_170405_060_E01            75.0  ...    0.0   0.0  141.0     0.0     0.0   \n",
       "F2S4_170405_060_H01           175.0  ...    0.0   0.0  149.0   226.0   462.0   \n",
       "\n",
       "                      Zyx  Zzef1   Zzz3     a  l7Rn6  \n",
       "F1S4_160106_001_B01   0.0    1.0  306.0   0.0  374.0  \n",
       "F1S4_160106_001_C01   0.0    8.0  341.0   0.0  189.0  \n",
       "F1S4_160106_001_E01  72.0  197.0  296.0   2.0   33.0  \n",
       "F1S4_160106_001_G01   0.0   58.0  206.0  28.0   97.0  \n",
       "F1S4_160106_001_H01  10.0  169.0    0.0  12.0    0.0  \n",
       "...                   ...    ...    ...   ...    ...  \n",
       "F2S4_170405_060_A01  51.0   46.0  352.0   0.0   76.0  \n",
       "F2S4_170405_060_B01  72.0   22.0  370.0   1.0   69.0  \n",
       "F2S4_170405_060_C01  23.0    0.0  113.0  26.0    0.0  \n",
       "F2S4_170405_060_E01  62.0  316.0  187.0   0.0    0.0  \n",
       "F2S4_170405_060_H01   4.0  203.0  184.0   1.0   73.0  \n",
       "\n",
       "[14055 rows x 16024 columns]"
      ]
     },
     "execution_count": 4,
     "metadata": {},
     "output_type": "execute_result"
    }
   ],
   "source": [
    "ds['MTG'].to_df()"
   ]
  },
  {
   "cell_type": "code",
   "execution_count": 5,
   "metadata": {},
   "outputs": [
    {
     "data": {
      "text/html": [
       "<div>\n",
       "<style scoped>\n",
       "    .dataframe tbody tr th:only-of-type {\n",
       "        vertical-align: middle;\n",
       "    }\n",
       "\n",
       "    .dataframe tbody tr th {\n",
       "        vertical-align: top;\n",
       "    }\n",
       "\n",
       "    .dataframe thead th {\n",
       "        text-align: right;\n",
       "    }\n",
       "</style>\n",
       "<table border=\"1\" class=\"dataframe\">\n",
       "  <thead>\n",
       "    <tr style=\"text-align: right;\">\n",
       "      <th></th>\n",
       "      <th>X0610007P14Rik</th>\n",
       "      <th>X0610009O20Rik</th>\n",
       "      <th>X0610010F05Rik</th>\n",
       "      <th>X0610011F06Rik</th>\n",
       "      <th>X0610030E20Rik</th>\n",
       "      <th>X0610037L13Rik</th>\n",
       "      <th>X0610040J01Rik</th>\n",
       "      <th>X1110001J03Rik</th>\n",
       "      <th>X1110004E09Rik</th>\n",
       "      <th>X1110004F10Rik</th>\n",
       "      <th>...</th>\n",
       "      <th>Zwint</th>\n",
       "      <th>Zxdb</th>\n",
       "      <th>Zxdc</th>\n",
       "      <th>Zyg11a</th>\n",
       "      <th>Zyg11b</th>\n",
       "      <th>Zyx</th>\n",
       "      <th>Zzef1</th>\n",
       "      <th>Zzz3</th>\n",
       "      <th>a</th>\n",
       "      <th>l7Rn6</th>\n",
       "    </tr>\n",
       "  </thead>\n",
       "  <tbody>\n",
       "    <tr>\n",
       "      <th>F1S4_180124_314_A01</th>\n",
       "      <td>80.0</td>\n",
       "      <td>11.0</td>\n",
       "      <td>135.0</td>\n",
       "      <td>32.0</td>\n",
       "      <td>0.0</td>\n",
       "      <td>31.0</td>\n",
       "      <td>1.0</td>\n",
       "      <td>49.0</td>\n",
       "      <td>22.0</td>\n",
       "      <td>204.0</td>\n",
       "      <td>...</td>\n",
       "      <td>3190.0</td>\n",
       "      <td>0.0</td>\n",
       "      <td>17.0</td>\n",
       "      <td>0.0</td>\n",
       "      <td>96.0</td>\n",
       "      <td>0.0</td>\n",
       "      <td>0.0</td>\n",
       "      <td>45.0</td>\n",
       "      <td>0.0</td>\n",
       "      <td>73.0</td>\n",
       "    </tr>\n",
       "    <tr>\n",
       "      <th>F1S4_180124_315_A01</th>\n",
       "      <td>233.0</td>\n",
       "      <td>37.0</td>\n",
       "      <td>183.0</td>\n",
       "      <td>114.0</td>\n",
       "      <td>0.0</td>\n",
       "      <td>189.0</td>\n",
       "      <td>0.0</td>\n",
       "      <td>244.0</td>\n",
       "      <td>23.0</td>\n",
       "      <td>484.0</td>\n",
       "      <td>...</td>\n",
       "      <td>4832.0</td>\n",
       "      <td>28.0</td>\n",
       "      <td>33.0</td>\n",
       "      <td>0.0</td>\n",
       "      <td>179.0</td>\n",
       "      <td>0.0</td>\n",
       "      <td>0.0</td>\n",
       "      <td>83.0</td>\n",
       "      <td>0.0</td>\n",
       "      <td>127.0</td>\n",
       "    </tr>\n",
       "    <tr>\n",
       "      <th>F1S4_180124_315_B01</th>\n",
       "      <td>142.0</td>\n",
       "      <td>4.0</td>\n",
       "      <td>129.0</td>\n",
       "      <td>9.0</td>\n",
       "      <td>14.0</td>\n",
       "      <td>73.0</td>\n",
       "      <td>0.0</td>\n",
       "      <td>196.0</td>\n",
       "      <td>57.0</td>\n",
       "      <td>479.0</td>\n",
       "      <td>...</td>\n",
       "      <td>3487.0</td>\n",
       "      <td>29.0</td>\n",
       "      <td>4.0</td>\n",
       "      <td>0.0</td>\n",
       "      <td>124.0</td>\n",
       "      <td>33.0</td>\n",
       "      <td>37.0</td>\n",
       "      <td>21.0</td>\n",
       "      <td>0.0</td>\n",
       "      <td>93.0</td>\n",
       "    </tr>\n",
       "    <tr>\n",
       "      <th>F1S4_180124_315_C01</th>\n",
       "      <td>54.0</td>\n",
       "      <td>1.0</td>\n",
       "      <td>28.0</td>\n",
       "      <td>40.0</td>\n",
       "      <td>17.0</td>\n",
       "      <td>67.0</td>\n",
       "      <td>0.0</td>\n",
       "      <td>55.0</td>\n",
       "      <td>36.0</td>\n",
       "      <td>388.0</td>\n",
       "      <td>...</td>\n",
       "      <td>3891.0</td>\n",
       "      <td>13.0</td>\n",
       "      <td>0.0</td>\n",
       "      <td>0.0</td>\n",
       "      <td>98.0</td>\n",
       "      <td>0.0</td>\n",
       "      <td>5.0</td>\n",
       "      <td>18.0</td>\n",
       "      <td>0.0</td>\n",
       "      <td>135.0</td>\n",
       "    </tr>\n",
       "    <tr>\n",
       "      <th>F1S4_180124_315_D01</th>\n",
       "      <td>139.0</td>\n",
       "      <td>0.0</td>\n",
       "      <td>22.0</td>\n",
       "      <td>117.0</td>\n",
       "      <td>10.0</td>\n",
       "      <td>105.0</td>\n",
       "      <td>0.0</td>\n",
       "      <td>91.0</td>\n",
       "      <td>70.0</td>\n",
       "      <td>579.0</td>\n",
       "      <td>...</td>\n",
       "      <td>4537.0</td>\n",
       "      <td>0.0</td>\n",
       "      <td>0.0</td>\n",
       "      <td>0.0</td>\n",
       "      <td>93.0</td>\n",
       "      <td>26.0</td>\n",
       "      <td>22.0</td>\n",
       "      <td>29.0</td>\n",
       "      <td>0.0</td>\n",
       "      <td>81.0</td>\n",
       "    </tr>\n",
       "    <tr>\n",
       "      <th>...</th>\n",
       "      <td>...</td>\n",
       "      <td>...</td>\n",
       "      <td>...</td>\n",
       "      <td>...</td>\n",
       "      <td>...</td>\n",
       "      <td>...</td>\n",
       "      <td>...</td>\n",
       "      <td>...</td>\n",
       "      <td>...</td>\n",
       "      <td>...</td>\n",
       "      <td>...</td>\n",
       "      <td>...</td>\n",
       "      <td>...</td>\n",
       "      <td>...</td>\n",
       "      <td>...</td>\n",
       "      <td>...</td>\n",
       "      <td>...</td>\n",
       "      <td>...</td>\n",
       "      <td>...</td>\n",
       "      <td>...</td>\n",
       "      <td>...</td>\n",
       "    </tr>\n",
       "    <tr>\n",
       "      <th>FJS4_170511_008_A01</th>\n",
       "      <td>196.0</td>\n",
       "      <td>1.0</td>\n",
       "      <td>140.0</td>\n",
       "      <td>162.0</td>\n",
       "      <td>14.0</td>\n",
       "      <td>146.0</td>\n",
       "      <td>0.0</td>\n",
       "      <td>178.0</td>\n",
       "      <td>125.0</td>\n",
       "      <td>447.0</td>\n",
       "      <td>...</td>\n",
       "      <td>3313.0</td>\n",
       "      <td>0.0</td>\n",
       "      <td>4.0</td>\n",
       "      <td>0.0</td>\n",
       "      <td>349.0</td>\n",
       "      <td>8.0</td>\n",
       "      <td>40.0</td>\n",
       "      <td>129.0</td>\n",
       "      <td>7.0</td>\n",
       "      <td>210.0</td>\n",
       "    </tr>\n",
       "    <tr>\n",
       "      <th>FJS4_170511_008_D01</th>\n",
       "      <td>122.0</td>\n",
       "      <td>17.0</td>\n",
       "      <td>288.0</td>\n",
       "      <td>120.0</td>\n",
       "      <td>126.0</td>\n",
       "      <td>113.0</td>\n",
       "      <td>0.0</td>\n",
       "      <td>49.0</td>\n",
       "      <td>146.0</td>\n",
       "      <td>268.0</td>\n",
       "      <td>...</td>\n",
       "      <td>1322.0</td>\n",
       "      <td>0.0</td>\n",
       "      <td>47.0</td>\n",
       "      <td>0.0</td>\n",
       "      <td>418.0</td>\n",
       "      <td>20.0</td>\n",
       "      <td>62.0</td>\n",
       "      <td>0.0</td>\n",
       "      <td>0.0</td>\n",
       "      <td>222.0</td>\n",
       "    </tr>\n",
       "    <tr>\n",
       "      <th>FJS4_170511_008_G01</th>\n",
       "      <td>196.0</td>\n",
       "      <td>2.0</td>\n",
       "      <td>273.0</td>\n",
       "      <td>99.0</td>\n",
       "      <td>24.0</td>\n",
       "      <td>242.0</td>\n",
       "      <td>0.0</td>\n",
       "      <td>194.0</td>\n",
       "      <td>69.0</td>\n",
       "      <td>612.0</td>\n",
       "      <td>...</td>\n",
       "      <td>2957.0</td>\n",
       "      <td>49.0</td>\n",
       "      <td>60.0</td>\n",
       "      <td>0.0</td>\n",
       "      <td>527.0</td>\n",
       "      <td>24.0</td>\n",
       "      <td>123.0</td>\n",
       "      <td>75.0</td>\n",
       "      <td>0.0</td>\n",
       "      <td>485.0</td>\n",
       "    </tr>\n",
       "    <tr>\n",
       "      <th>FJS4_170511_008_H01</th>\n",
       "      <td>353.0</td>\n",
       "      <td>25.0</td>\n",
       "      <td>326.0</td>\n",
       "      <td>1.0</td>\n",
       "      <td>0.0</td>\n",
       "      <td>42.0</td>\n",
       "      <td>21.0</td>\n",
       "      <td>122.0</td>\n",
       "      <td>76.0</td>\n",
       "      <td>362.0</td>\n",
       "      <td>...</td>\n",
       "      <td>2992.0</td>\n",
       "      <td>8.0</td>\n",
       "      <td>0.0</td>\n",
       "      <td>0.0</td>\n",
       "      <td>468.0</td>\n",
       "      <td>0.0</td>\n",
       "      <td>91.0</td>\n",
       "      <td>46.0</td>\n",
       "      <td>0.0</td>\n",
       "      <td>166.0</td>\n",
       "    </tr>\n",
       "    <tr>\n",
       "      <th>FJS4_170511_012_E01</th>\n",
       "      <td>0.0</td>\n",
       "      <td>41.0</td>\n",
       "      <td>389.0</td>\n",
       "      <td>68.0</td>\n",
       "      <td>74.0</td>\n",
       "      <td>29.0</td>\n",
       "      <td>0.0</td>\n",
       "      <td>100.0</td>\n",
       "      <td>64.0</td>\n",
       "      <td>498.0</td>\n",
       "      <td>...</td>\n",
       "      <td>3863.0</td>\n",
       "      <td>16.0</td>\n",
       "      <td>25.0</td>\n",
       "      <td>0.0</td>\n",
       "      <td>218.0</td>\n",
       "      <td>0.0</td>\n",
       "      <td>39.0</td>\n",
       "      <td>28.0</td>\n",
       "      <td>0.0</td>\n",
       "      <td>380.0</td>\n",
       "    </tr>\n",
       "  </tbody>\n",
       "</table>\n",
       "<p>8128 rows × 16024 columns</p>\n",
       "</div>"
      ],
      "text/plain": [
       "                     X0610007P14Rik  X0610009O20Rik  X0610010F05Rik  \\\n",
       "F1S4_180124_314_A01            80.0            11.0           135.0   \n",
       "F1S4_180124_315_A01           233.0            37.0           183.0   \n",
       "F1S4_180124_315_B01           142.0             4.0           129.0   \n",
       "F1S4_180124_315_C01            54.0             1.0            28.0   \n",
       "F1S4_180124_315_D01           139.0             0.0            22.0   \n",
       "...                             ...             ...             ...   \n",
       "FJS4_170511_008_A01           196.0             1.0           140.0   \n",
       "FJS4_170511_008_D01           122.0            17.0           288.0   \n",
       "FJS4_170511_008_G01           196.0             2.0           273.0   \n",
       "FJS4_170511_008_H01           353.0            25.0           326.0   \n",
       "FJS4_170511_012_E01             0.0            41.0           389.0   \n",
       "\n",
       "                     X0610011F06Rik  X0610030E20Rik  X0610037L13Rik  \\\n",
       "F1S4_180124_314_A01            32.0             0.0            31.0   \n",
       "F1S4_180124_315_A01           114.0             0.0           189.0   \n",
       "F1S4_180124_315_B01             9.0            14.0            73.0   \n",
       "F1S4_180124_315_C01            40.0            17.0            67.0   \n",
       "F1S4_180124_315_D01           117.0            10.0           105.0   \n",
       "...                             ...             ...             ...   \n",
       "FJS4_170511_008_A01           162.0            14.0           146.0   \n",
       "FJS4_170511_008_D01           120.0           126.0           113.0   \n",
       "FJS4_170511_008_G01            99.0            24.0           242.0   \n",
       "FJS4_170511_008_H01             1.0             0.0            42.0   \n",
       "FJS4_170511_012_E01            68.0            74.0            29.0   \n",
       "\n",
       "                     X0610040J01Rik  X1110001J03Rik  X1110004E09Rik  \\\n",
       "F1S4_180124_314_A01             1.0            49.0            22.0   \n",
       "F1S4_180124_315_A01             0.0           244.0            23.0   \n",
       "F1S4_180124_315_B01             0.0           196.0            57.0   \n",
       "F1S4_180124_315_C01             0.0            55.0            36.0   \n",
       "F1S4_180124_315_D01             0.0            91.0            70.0   \n",
       "...                             ...             ...             ...   \n",
       "FJS4_170511_008_A01             0.0           178.0           125.0   \n",
       "FJS4_170511_008_D01             0.0            49.0           146.0   \n",
       "FJS4_170511_008_G01             0.0           194.0            69.0   \n",
       "FJS4_170511_008_H01            21.0           122.0            76.0   \n",
       "FJS4_170511_012_E01             0.0           100.0            64.0   \n",
       "\n",
       "                     X1110004F10Rik  ...   Zwint  Zxdb  Zxdc  Zyg11a  Zyg11b  \\\n",
       "F1S4_180124_314_A01           204.0  ...  3190.0   0.0  17.0     0.0    96.0   \n",
       "F1S4_180124_315_A01           484.0  ...  4832.0  28.0  33.0     0.0   179.0   \n",
       "F1S4_180124_315_B01           479.0  ...  3487.0  29.0   4.0     0.0   124.0   \n",
       "F1S4_180124_315_C01           388.0  ...  3891.0  13.0   0.0     0.0    98.0   \n",
       "F1S4_180124_315_D01           579.0  ...  4537.0   0.0   0.0     0.0    93.0   \n",
       "...                             ...  ...     ...   ...   ...     ...     ...   \n",
       "FJS4_170511_008_A01           447.0  ...  3313.0   0.0   4.0     0.0   349.0   \n",
       "FJS4_170511_008_D01           268.0  ...  1322.0   0.0  47.0     0.0   418.0   \n",
       "FJS4_170511_008_G01           612.0  ...  2957.0  49.0  60.0     0.0   527.0   \n",
       "FJS4_170511_008_H01           362.0  ...  2992.0   8.0   0.0     0.0   468.0   \n",
       "FJS4_170511_012_E01           498.0  ...  3863.0  16.0  25.0     0.0   218.0   \n",
       "\n",
       "                      Zyx  Zzef1   Zzz3    a  l7Rn6  \n",
       "F1S4_180124_314_A01   0.0    0.0   45.0  0.0   73.0  \n",
       "F1S4_180124_315_A01   0.0    0.0   83.0  0.0  127.0  \n",
       "F1S4_180124_315_B01  33.0   37.0   21.0  0.0   93.0  \n",
       "F1S4_180124_315_C01   0.0    5.0   18.0  0.0  135.0  \n",
       "F1S4_180124_315_D01  26.0   22.0   29.0  0.0   81.0  \n",
       "...                   ...    ...    ...  ...    ...  \n",
       "FJS4_170511_008_A01   8.0   40.0  129.0  7.0  210.0  \n",
       "FJS4_170511_008_D01  20.0   62.0    0.0  0.0  222.0  \n",
       "FJS4_170511_008_G01  24.0  123.0   75.0  0.0  485.0  \n",
       "FJS4_170511_008_H01   0.0   91.0   46.0  0.0  166.0  \n",
       "FJS4_170511_012_E01   0.0   39.0   28.0  0.0  380.0  \n",
       "\n",
       "[8128 rows x 16024 columns]"
      ]
     },
     "execution_count": 5,
     "metadata": {},
     "output_type": "execute_result"
    }
   ],
   "source": [
    "ds['ALM'].to_df()"
   ]
  },
  {
   "cell_type": "code",
   "execution_count": 7,
   "metadata": {},
   "outputs": [
    {
     "name": "stderr",
     "output_type": "stream",
     "text": [
      "[refcm           ] [INFO    ] : NOTE: raw counts expected in anndata .X attributes.\n",
      "[refcm           ] [DEBUG   ] : Loading cached mapping costs from cache.json.\n",
      "[embeddings      ] [DEBUG   ] : Using 1948 genes.\n",
      "[refcm           ] [DEBUG   ] : Computing Wasserstein distances.\n",
      "|████████████████| [100.00% ] : 00:30\n",
      "[refcm           ] [DEBUG   ] : starting LP optimization\n",
      "[refcm           ] [DEBUG   ] : optimization terminated w. status \"Optimal\"\n",
      "[matchings       ] [DEBUG   ] : \u001b[32m[+|1.00]\u001b[0m Astrocyte            mapped to Astrocyte           \n",
      "[matchings       ] [DEBUG   ] : \u001b[32m[+|1.00]\u001b[0m Chandelier           mapped to Chandelier          \n",
      "[matchings       ] [DEBUG   ] : \u001b[32m[+|1.00]\u001b[0m Exc L2/3 IT          mapped to Exc L2/3 IT         \n",
      "[matchings       ] [DEBUG   ] : \u001b[32m[+|1.00]\u001b[0m Exc L3/5 IT          mapped to Exc L3/5 IT         \n",
      "[matchings       ] [DEBUG   ] : \u001b[32m[+|1.00]\u001b[0m Exc L4/5 IT          mapped to Exc L4/5 IT         \n",
      "[matchings       ] [DEBUG   ] : \u001b[32m[+|1.00]\u001b[0m Exc L5 PT            mapped to Exc L5 PT           \n",
      "[matchings       ] [DEBUG   ] : \u001b[32m[+|1.00]\u001b[0m Exc L5/6 IT 1        mapped to Exc L5/6 IT 1       \n",
      "[matchings       ] [DEBUG   ] : \u001b[32m[+|1.00]\u001b[0m Exc L5/6 IT 2        mapped to Exc L5/6 IT 2       \n",
      "[matchings       ] [DEBUG   ] : \u001b[32m[+|1.00]\u001b[0m Exc L5/6 IT 3        mapped to Exc L5/6 IT 3       \n",
      "[matchings       ] [DEBUG   ] : \u001b[32m[+|1.00]\u001b[0m Exc L5/6 NP          mapped to Exc L5/6 NP         \n",
      "[matchings       ] [DEBUG   ] : \u001b[32m[+|1.00]\u001b[0m Exc L6 CT            mapped to Exc L6 CT           \n",
      "[matchings       ] [DEBUG   ] : \u001b[32m[+|1.00]\u001b[0m Exc L6 IT 1          mapped to Exc L6 IT 1         \n",
      "[matchings       ] [DEBUG   ] : \u001b[32m[+|1.00]\u001b[0m Exc L6 IT 2          mapped to Exc L6 IT 2         \n",
      "[matchings       ] [DEBUG   ] : \u001b[32m[+|1.00]\u001b[0m Exc L6b              mapped to Exc L6b             \n",
      "[matchings       ] [DEBUG   ] : \u001b[32m[+|1.00]\u001b[0m Lamp5 1              mapped to Lamp5 1             \n",
      "[matchings       ] [DEBUG   ] : \u001b[32m[+|1.00]\u001b[0m Lamp5 2              mapped to Lamp5 2             \n",
      "[matchings       ] [DEBUG   ] : \u001b[32m[+|1.00]\u001b[0m Lamp5 Lhx6           mapped to Lamp5 Lhx6          \n",
      "[matchings       ] [DEBUG   ] : \u001b[32m[+|1.00]\u001b[0m Lamp5 Rosehip        mapped to Lamp5 Rosehip       \n",
      "[matchings       ] [DEBUG   ] : \u001b[32m[+|1.00]\u001b[0m Oligo                mapped to Oligo               \n",
      "[matchings       ] [DEBUG   ] : \u001b[32m[+|1.00]\u001b[0m Pax6                 mapped to Pax6                \n",
      "[matchings       ] [DEBUG   ] : \u001b[32m[+|1.00]\u001b[0m Pvalb 1              mapped to Pvalb 1             \n",
      "[matchings       ] [DEBUG   ] : \u001b[32m[+|1.00]\u001b[0m Pvalb 2              mapped to Pvalb 2             \n",
      "[matchings       ] [DEBUG   ] : \u001b[32m[+|1.00]\u001b[0m Sst 1                mapped to Sst 1               \n",
      "[matchings       ] [DEBUG   ] : \u001b[32m[+|1.00]\u001b[0m Sst 2                mapped to Sst 2               \n",
      "[matchings       ] [DEBUG   ] : \u001b[32m[+|1.00]\u001b[0m Sst 3                mapped to Sst 3               \n",
      "[matchings       ] [DEBUG   ] : \u001b[32m[+|1.00]\u001b[0m Sst 4                mapped to Sst 4               \n",
      "[matchings       ] [DEBUG   ] : \u001b[32m[+|1.00]\u001b[0m Sst 5                mapped to Sst 5               \n",
      "[matchings       ] [DEBUG   ] : \u001b[32m[+|1.00]\u001b[0m Sst Chodl            mapped to Sst Chodl           \n",
      "[matchings       ] [DEBUG   ] : \u001b[32m[+|1.00]\u001b[0m Vip 1                mapped to Vip 1               \n",
      "[matchings       ] [DEBUG   ] : \u001b[32m[+|1.00]\u001b[0m Vip 2                mapped to Vip 2               \n",
      "[matchings       ] [DEBUG   ] : \u001b[32m[+|1.00]\u001b[0m Vip 3                mapped to Vip 3               \n",
      "[matchings       ] [DEBUG   ] : \u001b[32m[+|1.00]\u001b[0m Vip 4                mapped to Vip 4               \n",
      "[matchings       ] [DEBUG   ] : \u001b[32m[+|1.00]\u001b[0m Vip 5                mapped to Vip 5               \n",
      "[matchings       ] [DEBUG   ] : \u001b[32m[+|1.00]\u001b[0m Vip Sncg             mapped to Vip Sncg            \n",
      "[matchings       ] [INFO    ] : MTG                  to ALM                 \n",
      "[matchings       ] [INFO    ] : 34    common cell types\n",
      "[matchings       ] [INFO    ] : 34/34 correct   links\n",
      "[matchings       ] [INFO    ] : 0     incorrect links\n"
     ]
    },
    {
     "data": {
      "application/vnd.plotly.v1+json": {
       "config": {
        "plotlyServerURL": "https://plot.ly"
       },
       "data": [
        {
         "coloraxis": "coloraxis",
         "hovertemplate": "Reference: ALM: %{x}<br>Query: MTG: %{y}<br>cost: %{z}<extra></extra>",
         "name": "0",
         "type": "heatmap",
         "x": [
          "Astrocyte",
          "Chandelier",
          "Exc L2/3 IT",
          "Exc L3/5 IT",
          "Exc L4/5 IT",
          "Exc L5 PT",
          "Exc L5/6 IT 1",
          "Exc L5/6 IT 2",
          "Exc L5/6 IT 3",
          "Exc L5/6 NP",
          "Exc L6 CT",
          "Exc L6 IT 1",
          "Exc L6 IT 2",
          "Exc L6b",
          "Lamp5 1",
          "Lamp5 2",
          "Lamp5 Lhx6",
          "Lamp5 Rosehip",
          "Oligo",
          "Pax6",
          "Pvalb 1",
          "Pvalb 2",
          "Sst 1",
          "Sst 2",
          "Sst 3",
          "Sst 4",
          "Sst 5",
          "Sst Chodl",
          "Vip 1",
          "Vip 2",
          "Vip 3",
          "Vip 4",
          "Vip 5",
          "Vip Sncg"
         ],
         "xaxis": "x",
         "y": [
          "Astrocyte",
          "Chandelier",
          "Exc L2/3 IT",
          "Exc L3/5 IT",
          "Exc L4/5 IT",
          "Exc L5 PT",
          "Exc L5/6 IT 1",
          "Exc L5/6 IT 2",
          "Exc L5/6 IT 3",
          "Exc L5/6 NP",
          "Exc L6 CT",
          "Exc L6 IT 1",
          "Exc L6 IT 2",
          "Exc L6b",
          "Lamp5 1",
          "Lamp5 2",
          "Lamp5 Lhx6",
          "Lamp5 Rosehip",
          "Oligo",
          "Pax6",
          "Pvalb 1",
          "Pvalb 2",
          "Sst 1",
          "Sst 2",
          "Sst 3",
          "Sst 4",
          "Sst 5",
          "Sst Chodl",
          "Vip 1",
          "Vip 2",
          "Vip 3",
          "Vip 4",
          "Vip 5",
          "Vip Sncg"
         ],
         "yaxis": "y",
         "z": [
          [
           -0.6317373186382333,
           -0.16572501481095947,
           -0.2793098336506064,
           -0.3000466211662354,
           -0.23768875594782962,
           -0.31492347388090136,
           -0.2878829541080209,
           -0.2732671668305474,
           -0.24031983836858725,
           -0.12191355236614901,
           -0.13482948558670757,
           -0.14714492270347074,
           -0.21922116505741585,
           -0.1448668991235279,
           -0.14649127975132756,
           -0.2214155836620271,
           -0.14783715669637013,
           -0.1559992329963742,
           -0.11679158776926465,
           -0.17989466396768697,
           -0.14434936971308815,
           -0.14040583811941912,
           -0.098327527379944,
           -0.16272714437166394,
           -0.14109529000761636,
           -0.1377987912907232,
           -0.18157022185608443,
           -0.15409082048633646,
           -0.16500320926380002,
           -0.23033732845031113,
           -0.22794167621211345,
           -0.1742663154339007,
           -0.19061887987152748,
           -0.2034137128722328
          ],
          [
           -0.08487656741453678,
           -0.6553442467762216,
           -0.5675523750316577,
           -0.5777049636731583,
           -0.5320213222273965,
           -0.6096627789766489,
           -0.5690218198678914,
           -0.5664421986267328,
           -0.5159593484942343,
           -0.41636065230428104,
           -0.37836456878198443,
           -0.411176319221031,
           -0.5075930511979793,
           -0.389156223133268,
           -0.5512124166813588,
           -0.5971737556004874,
           -0.5625109506281412,
           -0.5501477370155015,
           -0.042200233037231916,
           -0.5654827753451975,
           -0.5560144527012527,
           -0.6063014105575294,
           -0.48617178629044566,
           -0.5711024566846339,
           -0.5546770837683127,
           -0.547416755154316,
           -0.5981167884042858,
           -0.47785274876236505,
           -0.526616073802507,
           -0.613973233578866,
           -0.6249745909303438,
           -0.5487782503444243,
           -0.5773012731245981,
           -0.5503842169319161
          ],
          [
           -0.11240828950901566,
           -0.4272064982925548,
           -0.8815771001809007,
           -0.8392041654702982,
           -0.8032427771218225,
           -0.8442555028227645,
           -0.8364008524481912,
           -0.8166907604796417,
           -0.7762921032860962,
           -0.555637724724314,
           -0.6033778960145962,
           -0.6616494445739061,
           -0.7805000276312815,
           -0.5453869955109876,
           -0.4598685198049296,
           -0.5841618630914774,
           -0.4355110261065773,
           -0.45696922045473287,
           -0.08083209355993361,
           -0.50332470794431,
           -0.44513627590230354,
           -0.4395239938764786,
           -0.4486948217968409,
           -0.5037043539215593,
           -0.49453860417210804,
           -0.47822505451538977,
           -0.5324736674334297,
           -0.4515083000826371,
           -0.5181182114863573,
           -0.6038281848904736,
           -0.5997053246915542,
           -0.549147267666486,
           -0.5375076033012591,
           -0.5345822654918688
          ],
          [
           -0.18728271371496347,
           -0.5087009780739692,
           -0.8946470330191217,
           -0.9196483168025381,
           -0.8603389738820459,
           -0.9002879496063778,
           -0.9046327543913388,
           -0.8801157744225862,
           -0.8128744811746567,
           -0.6251069133481211,
           -0.6266977918996063,
           -0.6929141034504397,
           -0.7989985430237528,
           -0.6045094228932225,
           -0.5296431801965064,
           -0.6409245136598752,
           -0.4965423822617363,
           -0.5237226398462834,
           -0.1311337951072749,
           -0.5665583788666344,
           -0.5113762162605267,
           -0.5185889510127343,
           -0.5095177996538252,
           -0.5742641162829932,
           -0.5737607497290982,
           -0.5452713082728533,
           -0.5932566957861702,
           -0.5171932190137947,
           -0.5827085586110017,
           -0.6529022740941376,
           -0.6440053051066364,
           -0.5936699100410958,
           -0.5741673462270324,
           -0.5807484307755187
          ],
          [
           -0.03918852470121174,
           -0.3534914843229747,
           -0.7019177675251073,
           -0.7196687599295423,
           -0.6908404708112444,
           -0.6995999169658561,
           -0.7126239875396226,
           -0.7083811753254592,
           -0.6631324203542448,
           -0.47833868007938884,
           -0.5067191334178294,
           -0.5516360031547453,
           -0.6488568847448666,
           -0.47277969445097545,
           -0.36522622803059895,
           -0.47019574661311747,
           -0.3444428861681974,
           -0.35767759673907906,
           -0.0032908128078219206,
           -0.4069983197764076,
           -0.3741238200063058,
           -0.36706663916813753,
           -0.3665850990524151,
           -0.41893561787191663,
           -0.41845995184463214,
           -0.39582136358774755,
           -0.450554835089676,
           -0.3929298487677537,
           -0.42130778656720624,
           -0.49690841480310183,
           -0.49266057730625484,
           -0.44031092696042146,
           -0.43244077854281754,
           -0.4361860716556645
          ],
          [
           -0.21925108708482943,
           -0.5614310053092789,
           -0.9076829146041703,
           -0.9291373093392423,
           -0.8506573712395572,
           -1,
           -0.909375956457507,
           -0.9133825093130026,
           -0.8633953959914485,
           -0.6795460506683065,
           -0.701375759897248,
           -0.7441791785123917,
           -0.8497060602388201,
           -0.6638408714207671,
           -0.5727726300070359,
           -0.6880409798448299,
           -0.5586032628953618,
           -0.5694150470429126,
           -0.1676776910906139,
           -0.6132571982270303,
           -0.5586304232427489,
           -0.5536852365985504,
           -0.5452531443741978,
           -0.6183807242840968,
           -0.6163414583941964,
           -0.6066711524483381,
           -0.6374314520646795,
           -0.5762439738249931,
           -0.6051262790635759,
           -0.6998911646120418,
           -0.69904636539653,
           -0.6379466452249878,
           -0.6298122698210562,
           -0.6321433207454513
          ],
          [
           -0.007171099666152366,
           -0.33299751522535587,
           -0.7082194003585599,
           -0.7275038110690375,
           -0.6900192910574671,
           -0.6919487622234164,
           -0.7309637579114381,
           -0.6999583182966111,
           -0.6666066450022241,
           -0.46461747589524677,
           -0.5078867472850642,
           -0.5628552548132391,
           -0.6519925522173763,
           -0.4611194743814106,
           -0.3675245479752588,
           -0.4734197103427543,
           -0.33530702570714654,
           -0.3510690335397942,
           0,
           -0.39779805410542407,
           -0.3474810158611943,
           -0.3370305941752604,
           -0.34147716643072373,
           -0.39852256766854804,
           -0.4086650518476109,
           -0.37222914076609614,
           -0.4098345633410034,
           -0.3731998904724363,
           -0.4335734983253567,
           -0.5043808458652127,
           -0.5002354219871582,
           -0.43902998686145356,
           -0.4214968890608787,
           -0.4292203956889037
          ],
          [
           -0.126626107987951,
           -0.45589298281845253,
           -0.838618137805126,
           -0.8747964343562615,
           -0.827475449625133,
           -0.8629031447112555,
           -0.8654861763413246,
           -0.8712811253722601,
           -0.8129030094504772,
           -0.6183974537194555,
           -0.6456756712055287,
           -0.6834574630599806,
           -0.7849562774346417,
           -0.6082570674019748,
           -0.49388461006899864,
           -0.604974114895539,
           -0.44966270012446347,
           -0.4800250213850148,
           -0.0879229904834539,
           -0.5134257511320665,
           -0.4609568893988084,
           -0.4642404980194813,
           -0.47204060796479014,
           -0.5390304362395119,
           -0.5308670320474028,
           -0.5096326202479292,
           -0.5592150295245546,
           -0.4966528469535385,
           -0.5443411605218218,
           -0.6164895205320171,
           -0.6035192798744219,
           -0.5603414444169242,
           -0.5371842710058357,
           -0.5420036427782297
          ],
          [
           -0.08681082580708319,
           -0.44152974942543843,
           -0.7954068269490624,
           -0.8143115291639255,
           -0.7765149515132787,
           -0.8083000787924809,
           -0.8069452285671438,
           -0.818219868261211,
           -0.7838676166610353,
           -0.5631415954979757,
           -0.6038817469315367,
           -0.6591914985575678,
           -0.7658008437666336,
           -0.5599452492067348,
           -0.4500257874692732,
           -0.5638647753182733,
           -0.42517920229559075,
           -0.43953667574237976,
           -0.06548616067335947,
           -0.4839277263143696,
           -0.43643423505888046,
           -0.4328487483950844,
           -0.429669126974848,
           -0.4984141378887606,
           -0.4975869508692248,
           -0.46403187384867317,
           -0.520988178315911,
           -0.4695758432289842,
           -0.5041304480435906,
           -0.5858720720536839,
           -0.5804038664599805,
           -0.5208070167080183,
           -0.5126914803041983,
           -0.5141345687737914
          ],
          [
           -0.07244591428896324,
           -0.4047950397281771,
           -0.6891116921192931,
           -0.7189261634905904,
           -0.6618120127911645,
           -0.7321342717054772,
           -0.7100809884779258,
           -0.7153624840987689,
           -0.6753197792904534,
           -0.6290894536748423,
           -0.5529872197405816,
           -0.5595610882492816,
           -0.6466117348764258,
           -0.551248808180567,
           -0.43232959843128366,
           -0.5133155112127236,
           -0.3912084312536478,
           -0.4139131516334219,
           -0.05871158590668642,
           -0.44114564532665,
           -0.39157646350940944,
           -0.40413734525434686,
           -0.41944327575305634,
           -0.48945826291770217,
           -0.4764395039527196,
           -0.45915710063370574,
           -0.5004644666887909,
           -0.4686081793604489,
           -0.4673964942592859,
           -0.5548137379151615,
           -0.5375751968725929,
           -0.4971204739183284,
           -0.4768754389458019,
           -0.465119280915479
          ],
          [
           -0.11783193555888517,
           -0.45894095392563417,
           -0.8346149923987934,
           -0.8443305700037729,
           -0.7883952767513586,
           -0.8680394710938757,
           -0.842944690717417,
           -0.8406669802871184,
           -0.8238480648993999,
           -0.6331366325079372,
           -0.7192885128399866,
           -0.7111737892704343,
           -0.806272036880496,
           -0.6536946822747541,
           -0.507024481108201,
           -0.6129996619864553,
           -0.4756483737518708,
           -0.5056889846325199,
           -0.09772239685826636,
           -0.5271556675383797,
           -0.4502939367985986,
           -0.4554898270366211,
           -0.4567294221012485,
           -0.535398017830694,
           -0.5193067218756434,
           -0.5103345009590768,
           -0.5550366306308132,
           -0.4970621959497207,
           -0.5322920940820576,
           -0.6205548169871146,
           -0.6142811935419967,
           -0.5631970557900963,
           -0.5415994663429342,
           -0.5478105117678449
          ],
          [
           -0.121370239374059,
           -0.4793029501176094,
           -0.9051177279933419,
           -0.892124029727877,
           -0.8455770716972056,
           -0.8931418184958593,
           -0.889420641220647,
           -0.8819753632327779,
           -0.8604552898033219,
           -0.6188036298120613,
           -0.6885050627594743,
           -0.7604981591052787,
           -0.8634263672186976,
           -0.6398024583552557,
           -0.5114354515419142,
           -0.6329600645204625,
           -0.4733993694269407,
           -0.49568852085564846,
           -0.10357659714695915,
           -0.5452629676376248,
           -0.4784593956562734,
           -0.47136809949221425,
           -0.4828302637401485,
           -0.5535646544473745,
           -0.5468031120552512,
           -0.5233544190033285,
           -0.5699167662250182,
           -0.5080130383148278,
           -0.5548534118156694,
           -0.643265803361131,
           -0.6391507100060831,
           -0.5815495563307908,
           -0.5770634591952204,
           -0.5817547703278946
          ],
          [
           -0.05127784676927751,
           -0.43517082309083577,
           -0.7906773860912193,
           -0.7783617333533023,
           -0.7299803548188887,
           -0.7781824538730467,
           -0.7752734684564643,
           -0.7590908280990216,
           -0.7364043372258267,
           -0.5222846123895771,
           -0.5737578584299148,
           -0.6379867726842217,
           -0.7478557817408514,
           -0.559129315186597,
           -0.45454319142202065,
           -0.5667015364675164,
           -0.43579720013585466,
           -0.44109271609967554,
           -0.07999208602962496,
           -0.49874217414083966,
           -0.4198539564349785,
           -0.4101341994313673,
           -0.41166923068085115,
           -0.48422194073928765,
           -0.4781835785228968,
           -0.45896998769751846,
           -0.4963699455739226,
           -0.4611050246455306,
           -0.5107504865012844,
           -0.584824595588696,
           -0.5731680397535882,
           -0.5120408668371539,
           -0.5089114542220521,
           -0.5302294050987694
          ],
          [
           -0.1844928095408773,
           -0.5419671459750457,
           -0.9126003683649163,
           -0.9117770449600529,
           -0.8516477945775774,
           -0.9271885925474694,
           -0.9064043728227623,
           -0.900966222674998,
           -0.8643470814310901,
           -0.6818551897825283,
           -0.7390676052420814,
           -0.7619839033283502,
           -0.8569536132950993,
           -0.7432412031332738,
           -0.5824927584765921,
           -0.6918644021904333,
           -0.5506164316610718,
           -0.5794142317415807,
           -0.14405010357395556,
           -0.609544310817687,
           -0.5234193526057278,
           -0.5231338461778335,
           -0.5330187803876205,
           -0.6033170948016296,
           -0.5934927136441442,
           -0.580434191662019,
           -0.6298787485919293,
           -0.5790763856417228,
           -0.6027266013806984,
           -0.7022234680364147,
           -0.692930709499065,
           -0.6368821268423358,
           -0.6228589737653953,
           -0.6326871065768916
          ],
          [
           -0.10091814814528983,
           -0.5293065776612181,
           -0.5690343476185484,
           -0.5833908076211725,
           -0.5225516686515004,
           -0.6180571647641313,
           -0.5708756933294525,
           -0.5679568146445317,
           -0.5112463895572378,
           -0.41272803447239603,
           -0.3690405937466811,
           -0.4307481710859233,
           -0.506667354344301,
           -0.42066725085886264,
           -0.6481074990384011,
           -0.6883671706573883,
           -0.6017215718627239,
           -0.6247949813062362,
           -0.051133614953348915,
           -0.6394517100355067,
           -0.4644304367606986,
           -0.5012558155930469,
           -0.47010609150924,
           -0.5395240509645547,
           -0.531577331106015,
           -0.5037919170414441,
           -0.5388692436267738,
           -0.46839052456244307,
           -0.5571573758436872,
           -0.6091013582321029,
           -0.6327742589306462,
           -0.5536368595529961,
           -0.561527279198827,
           -0.5849883373915172
          ],
          [
           -0.1335611269084953,
           -0.5427569833044146,
           -0.660061920056649,
           -0.6795989371637383,
           -0.6126144092364864,
           -0.7010671246280357,
           -0.6777765784662517,
           -0.647998703604731,
           -0.6146020945005684,
           -0.46743700325517157,
           -0.46196208723306237,
           -0.5261338740439928,
           -0.6085145575595646,
           -0.48060763985511906,
           -0.6583797939225974,
           -0.7724225718627548,
           -0.5824109735428569,
           -0.6145007760214287,
           -0.08909089203933161,
           -0.6909298709617688,
           -0.5057912065580872,
           -0.5138598685547296,
           -0.5514188223302493,
           -0.5979166072103629,
           -0.5850567625917298,
           -0.5708460601810592,
           -0.6010053860372468,
           -0.5382654698301149,
           -0.6857039515878921,
           -0.7331982636372277,
           -0.7472526012881098,
           -0.6755086708647611,
           -0.6893038967843006,
           -0.7021777411602076
          ],
          [
           -0.17496331881381286,
           -0.6161453018860135,
           -0.6598387349273763,
           -0.6686700169817276,
           -0.6058293653543428,
           -0.6834676021260011,
           -0.6618613739175521,
           -0.6424091375491587,
           -0.6012230989776608,
           -0.4751913579240772,
           -0.4506943834081945,
           -0.505202049510401,
           -0.5936418074952242,
           -0.4903898792853644,
           -0.6703602169944468,
           -0.7304351046838036,
           -0.6736304755323855,
           -0.6784346098392969,
           -0.10606694359983282,
           -0.6760261663825897,
           -0.5488796684110281,
           -0.593595010089684,
           -0.5343982648113257,
           -0.6190151356819762,
           -0.5985565904909689,
           -0.5772332052760852,
           -0.6479245636814869,
           -0.5670449505895737,
           -0.5902245744464537,
           -0.682881674345744,
           -0.6876136152496969,
           -0.6160687006276335,
           -0.6116079344371044,
           -0.6589261623193967
          ],
          [
           -0.13174686130725358,
           -0.5544638176440239,
           -0.6061472696097491,
           -0.6220431417576794,
           -0.5600278677960759,
           -0.6473768958630535,
           -0.6122835884313108,
           -0.6021748583851895,
           -0.5484270928352772,
           -0.4512166098168127,
           -0.4011659086948949,
           -0.45876725608093205,
           -0.5408674354621488,
           -0.4534593194912415,
           -0.6545668786125196,
           -0.7013621339332108,
           -0.6173127240728081,
           -0.651200442829671,
           -0.07287893067458058,
           -0.6527624598740259,
           -0.4934277172079007,
           -0.543122717425302,
           -0.48398915049228497,
           -0.5588572389679201,
           -0.5519348352175513,
           -0.5221575329969201,
           -0.578842215661027,
           -0.4983047552899604,
           -0.5725103915208143,
           -0.6465883212949848,
           -0.6674001202213772,
           -0.5891982166364649,
           -0.5954470778386822,
           -0.6237893484967959
          ],
          [
           -0.26148189070657585,
           -0.24821016362917903,
           -0.4077437811164007,
           -0.42083308810149633,
           -0.34880363348505466,
           -0.4584888381333283,
           -0.40375547982446197,
           -0.39566306185010414,
           -0.3660951112571787,
           -0.22470567884673023,
           -0.23550992383168848,
           -0.2719418162126002,
           -0.3496530888345398,
           -0.23874773457791879,
           -0.26356570543079605,
           -0.3349804787637285,
           -0.26432629652996315,
           -0.2733499898305716,
           -0.49171510410304664,
           -0.28849174021807705,
           -0.2614771469611051,
           -0.2577288344692466,
           -0.22088076979608565,
           -0.2977821104850485,
           -0.2806429951542658,
           -0.2755701407376734,
           -0.31289427189291796,
           -0.2690513649189857,
           -0.27581957520206074,
           -0.35294977667554966,
           -0.3494015144767453,
           -0.29882831766068196,
           -0.29573940794975245,
           -0.31168277277554296
          ],
          [
           -0.1566111298495085,
           -0.5615175611007635,
           -0.6610747564567575,
           -0.6649777136448706,
           -0.6010095459158898,
           -0.6975125604302039,
           -0.6574074960491054,
           -0.6475043179360888,
           -0.603798895220938,
           -0.47595803638106765,
           -0.44039815234856816,
           -0.5029069724823889,
           -0.5955770820877383,
           -0.49250623208067346,
           -0.6537625753350144,
           -0.7664594710686491,
           -0.5938756009975431,
           -0.6234761005420176,
           -0.09698852137322493,
           -0.7258674808906556,
           -0.526093494875982,
           -0.5387489672966826,
           -0.5560703852034855,
           -0.6194911481520059,
           -0.6037402010997698,
           -0.5930538981340137,
           -0.6178989029722052,
           -0.5717483724164204,
           -0.6638010261847545,
           -0.7353710678831823,
           -0.7353275262916544,
           -0.6768869513484757,
           -0.6868456074074711,
           -0.7033233126280131
          ],
          [
           -0.13959526688478238,
           -0.6346611624244441,
           -0.6311627581193422,
           -0.6486618228178535,
           -0.5940010469199888,
           -0.6695537098109716,
           -0.6417279687582564,
           -0.6288201847912287,
           -0.5917358523184324,
           -0.4774437350518808,
           -0.439655068997841,
           -0.4716229570327655,
           -0.5737223022248977,
           -0.46811882517583686,
           -0.5859644733201211,
           -0.6491717103850675,
           -0.5866886495968995,
           -0.5736521439090921,
           -0.0976641722660893,
           -0.597869286062691,
           -0.665894722831939,
           -0.6758000955492292,
           -0.5828583535846544,
           -0.6820729998484104,
           -0.6549219164741896,
           -0.6310868987775389,
           -0.686142314392785,
           -0.5738911865134102,
           -0.5722068491834845,
           -0.6654558701159933,
           -0.6670250651826763,
           -0.6122606560167814,
           -0.6119560359797059,
           -0.6033000596680465
          ],
          [
           -0.09753526875661353,
           -0.6253720234231696,
           -0.59632222401207,
           -0.6035170241313326,
           -0.5508605402853751,
           -0.6309189308709814,
           -0.5944369725625714,
           -0.5875348703580946,
           -0.5462713348639638,
           -0.4442910964998865,
           -0.40370153931193814,
           -0.4309182796443526,
           -0.5334543003645662,
           -0.42545112266594864,
           -0.5666381150678411,
           -0.6113022016636089,
           -0.5746104384473313,
           -0.5611601282170252,
           -0.062064123885806566,
           -0.5689620554137739,
           -0.6231212604111108,
           -0.676179623909397,
           -0.5262129538010937,
           -0.6238861355336337,
           -0.5956423006099751,
           -0.5806775127624696,
           -0.6482789660120749,
           -0.5077248018821297,
           -0.5219168674339331,
           -0.6128183559789042,
           -0.6211343193635318,
           -0.5660581536577024,
           -0.5680668473649874,
           -0.5570730256135409
          ],
          [
           -0.045550331754096146,
           -0.4915471948792568,
           -0.5679590377184964,
           -0.5769053656893876,
           -0.5252836040954395,
           -0.5978350345386478,
           -0.5708504011499624,
           -0.5620464558238027,
           -0.5276902465573731,
           -0.4206243339962613,
           -0.3727427132526092,
           -0.4123104674501259,
           -0.5072356797916859,
           -0.4053571518613079,
           -0.509420739303671,
           -0.5877266922155006,
           -0.4889748812246238,
           -0.48007513438552507,
           -0.045016035719466926,
           -0.529375285874655,
           -0.5147658267982669,
           -0.530673477646609,
           -0.5895927196110902,
           -0.6647799669171234,
           -0.6104443150012343,
           -0.6338802037622301,
           -0.662404564125715,
           -0.5495036860839394,
           -0.5225865664740007,
           -0.599695767876805,
           -0.5852895021038925,
           -0.5446052897485367,
           -0.5220034108040756,
           -0.5438096059938552
          ],
          [
           -0.0868907355817526,
           -0.5142726150789558,
           -0.6019890789779244,
           -0.6178600135821707,
           -0.5619519898721637,
           -0.6425256528229875,
           -0.6129350691031359,
           -0.6017819546550498,
           -0.5689846775385136,
           -0.4543715788194576,
           -0.41502755568501365,
           -0.45614982205904225,
           -0.5463911371412646,
           -0.441831057935241,
           -0.5628713877041177,
           -0.6374758537940018,
           -0.5321037515512174,
           -0.5266786400521806,
           -0.0808672628714875,
           -0.5634188909517621,
           -0.5340078662884505,
           -0.5445546201422948,
           -0.6185610231779083,
           -0.7277122704329282,
           -0.6638281216283632,
           -0.6825246934767417,
           -0.7005740023815252,
           -0.6066053929603079,
           -0.5677402161870769,
           -0.6417757855219204,
           -0.6249825601771245,
           -0.5832153031929539,
           -0.5530005303342327,
           -0.5806601582368849
          ],
          [
           -0.09664767569673836,
           -0.5434733824124237,
           -0.6511317389102216,
           -0.6635950871709642,
           -0.6074009108512386,
           -0.6775748632391546,
           -0.6569714181325508,
           -0.6367095422753893,
           -0.604888517839802,
           -0.4859397068293785,
           -0.44091097734432183,
           -0.4865325439277111,
           -0.5827137466460465,
           -0.46639045726124206,
           -0.5588022809154234,
           -0.64701841362196,
           -0.5349353967693045,
           -0.5235787302951808,
           -0.09167086349007374,
           -0.5844114462069848,
           -0.5616808985598245,
           -0.5671634183716583,
           -0.6070925974802549,
           -0.7020870818723419,
           -0.6845781191307826,
           -0.6533422158904351,
           -0.6799904521574134,
           -0.5920718576819111,
           -0.5915657834021951,
           -0.6619530889082683,
           -0.6470728767663374,
           -0.6038955336821296,
           -0.5793985228632381,
           -0.6002851231406322
          ],
          [
           -0.024073934654719745,
           -0.4192008057238515,
           -0.48942294051967794,
           -0.4964856553657014,
           -0.4454508985265582,
           -0.5356208593761188,
           -0.491962176315571,
           -0.4800359913175754,
           -0.4455179070510196,
           -0.36358216677408317,
           -0.30618915169254673,
           -0.34127346562007704,
           -0.4275040714511856,
           -0.3359722784610852,
           -0.44179155804078246,
           -0.5119148126087993,
           -0.42439667458387553,
           -0.41636955171634527,
           -0.024735375954135143,
           -0.4529842027949355,
           -0.43633660780089634,
           -0.45569106756422667,
           -0.5121222231463803,
           -0.5972959525070655,
           -0.5315792214746982,
           -0.5875267735206143,
           -0.602291662485407,
           -0.4881511094305097,
           -0.45656526864653746,
           -0.5305533631697075,
           -0.5158282182491036,
           -0.4914969230698724,
           -0.4585528410657066,
           -0.4671320974956212
          ],
          [
           -0.0012432027710923687,
           -0.4185780216398114,
           -0.48145158410007177,
           -0.46854518488192276,
           -0.42479487120906445,
           -0.5109443258313084,
           -0.46584178379009905,
           -0.4512954005215037,
           -0.41650678191874313,
           -0.33281113463079487,
           -0.2808996119192475,
           -0.3235079761187898,
           -0.40912160786622864,
           -0.305223434314692,
           -0.4114714644514551,
           -0.480374286463506,
           -0.41447792916967385,
           -0.39790860313530657,
           -0.0034286866392318175,
           -0.42297698421316293,
           -0.40902075295109525,
           -0.4434931396518546,
           -0.447969664745373,
           -0.5286113261523286,
           -0.46923190844278917,
           -0.5023507736175354,
           -0.5713530725922554,
           -0.4462904229430428,
           -0.4111497008811835,
           -0.49831459928671185,
           -0.4890181165990968,
           -0.4556581529333734,
           -0.43575071535108806,
           -0.43642839685703433
          ],
          [
           -0.10848597075503918,
           -0.5385323300195665,
           -0.6250095982644709,
           -0.6406270030545478,
           -0.5742264470611431,
           -0.6775511187254595,
           -0.6340450502761079,
           -0.6210802031094748,
           -0.5861259271230184,
           -0.47288535966673256,
           -0.4275116472539742,
           -0.4927948099377304,
           -0.5748599714080732,
           -0.46014186663837586,
           -0.5323096091382347,
           -0.610828717517775,
           -0.5366660359030782,
           -0.5310983697365812,
           -0.09184480958288782,
           -0.544296509290974,
           -0.5363296954932666,
           -0.5451177807455521,
           -0.5758640801097699,
           -0.6691817484222488,
           -0.5970403648746495,
           -0.6474067765930883,
           -0.6908556700962278,
           -0.6933192957501276,
           -0.5426302291505913,
           -0.6265704014066901,
           -0.6181222399379575,
           -0.5675314688594502,
           -0.540342326247795,
           -0.5597888815360583
          ],
          [
           -0.061220605549875816,
           -0.47395442307384694,
           -0.5898333804929139,
           -0.5990068976260496,
           -0.5411432798809416,
           -0.6292453456393033,
           -0.5980660387722682,
           -0.5676241400689848,
           -0.5394381691714978,
           -0.4336289724619258,
           -0.40325900489816935,
           -0.4401744397117496,
           -0.5316672041165481,
           -0.41980218639724665,
           -0.5806338519473438,
           -0.6918048177484711,
           -0.5022608653029659,
           -0.5315200828911507,
           -0.06388866197508503,
           -0.5881195773480221,
           -0.44317189978720883,
           -0.46174617958814446,
           -0.4862269862457317,
           -0.5315696608351642,
           -0.5167716795413845,
           -0.5036319666698698,
           -0.5461900359593576,
           -0.4828312077020835,
           -0.6507155411657877,
           -0.6869062399990368,
           -0.691735402652608,
           -0.6379181221968651,
           -0.6275649081194506,
           -0.6119003566927492
          ],
          [
           -0.10722695954233902,
           -0.5329173007227431,
           -0.6522756662457057,
           -0.6505083061813668,
           -0.5935175708289441,
           -0.6852552451493865,
           -0.650738176338371,
           -0.6285889027299858,
           -0.6004941350734793,
           -0.4618298670845193,
           -0.4555745296930593,
           -0.49852833777676747,
           -0.5977635330103926,
           -0.4575018506341775,
           -0.5780614407986225,
           -0.6913398394324658,
           -0.5375120932706479,
           -0.5529981535573817,
           -0.09360611052862805,
           -0.616816644066528,
           -0.49679786622123134,
           -0.5094281504791756,
           -0.5086004694547114,
           -0.5818344499462301,
           -0.5650959865604314,
           -0.5548188455088243,
           -0.5933424950442819,
           -0.5225777777257377,
           -0.6611380518791196,
           -0.7910801322606918,
           -0.7794887017894812,
           -0.725893721172262,
           -0.7245384410545512,
           -0.6724692086658742
          ],
          [
           -0.0866124159218078,
           -0.5023652443005127,
           -0.6019862315232802,
           -0.6058495272547665,
           -0.5515745978945146,
           -0.6246754966752622,
           -0.6045079765628946,
           -0.5847482132231938,
           -0.5535174834603916,
           -0.43646871338959287,
           -0.40779774523891565,
           -0.4530203639742757,
           -0.5433858892566727,
           -0.43064261561827955,
           -0.566149904052154,
           -0.6734466074603634,
           -0.5136013571556268,
           -0.5428583046404994,
           -0.07203633176481879,
           -0.5970024187872384,
           -0.4677971518600616,
           -0.49075512800553533,
           -0.4706526685878141,
           -0.5316835597775472,
           -0.5155101974959021,
           -0.49896876384952477,
           -0.5471652200345976,
           -0.46947877356963513,
           -0.6142992502587983,
           -0.7262411200396257,
           -0.7483290747868722,
           -0.6707092274621406,
           -0.6898311235337985,
           -0.6449218634157157
          ],
          [
           -0.0941315219584161,
           -0.4849018846149142,
           -0.5880644214397461,
           -0.5973241797039708,
           -0.5424890541869875,
           -0.6195763905231352,
           -0.5960661669700645,
           -0.5696160080766779,
           -0.5360619700595347,
           -0.4506524077001686,
           -0.39508442541232325,
           -0.42963919280676327,
           -0.5298087317893561,
           -0.41715845762556586,
           -0.5474100931726773,
           -0.6571123191313313,
           -0.4903225588829913,
           -0.5134429023450531,
           -0.07399421403568492,
           -0.5628874386217633,
           -0.4693222844395805,
           -0.48007137742759787,
           -0.47669191215274137,
           -0.5253953925976371,
           -0.5063869381135961,
           -0.5063214853081831,
           -0.5521868484009247,
           -0.47488190303174993,
           -0.6180468215155406,
           -0.7109537375055128,
           -0.7188325729879371,
           -0.6799040108376146,
           -0.6809200239638915,
           -0.6146886842146956
          ],
          [
           -0.14407464939993475,
           -0.5736902163829916,
           -0.6697696951513993,
           -0.6792264300369932,
           -0.621675586666467,
           -0.6991167807292452,
           -0.6749032236259467,
           -0.6518257407690639,
           -0.6110622646407083,
           -0.5068235986954719,
           -0.46480273278697376,
           -0.5044302025034249,
           -0.6072472120002607,
           -0.4779368920414583,
           -0.6270299079495922,
           -0.7476865494247911,
           -0.5720805172571385,
           -0.5909306653201923,
           -0.10990168466933263,
           -0.67277554160238,
           -0.5535768183063838,
           -0.563495282139825,
           -0.5510927274582329,
           -0.6169526352688031,
           -0.6053884822415736,
           -0.5854648155956952,
           -0.629038229179887,
           -0.5580030973630495,
           -0.7063568724135552,
           -0.8018877173161367,
           -0.8062978960707832,
           -0.7472649833253685,
           -0.7716531504170198,
           -0.7251052346495855
          ],
          [
           -0.135817615412988,
           -0.4988380990855202,
           -0.6158239421165705,
           -0.6239012084254,
           -0.5615528693328476,
           -0.6413335505462121,
           -0.6215800644263445,
           -0.6021021001488864,
           -0.5689648058797618,
           -0.4317772738731568,
           -0.4096018076949523,
           -0.4799932907217062,
           -0.5591088241051836,
           -0.437116706999144,
           -0.5843881950653472,
           -0.7172154445297928,
           -0.5268794200609472,
           -0.559587145921762,
           -0.07625558433206166,
           -0.6678150215909933,
           -0.4726558666902383,
           -0.47700410466973825,
           -0.5049783882486225,
           -0.5536858570138637,
           -0.5376728527275685,
           -0.530383896199944,
           -0.5601253877692816,
           -0.5038090547142509,
           -0.6457264126449923,
           -0.7207369985468436,
           -0.7324651847599826,
           -0.6634172401887576,
           -0.6972868982710004,
           -0.6973940502454837
          ]
         ]
        },
        {
         "hovertemplate": "%{y} -> %{x}",
         "marker": {
          "color": [
           "green",
           "green",
           "green",
           "green",
           "green",
           "green",
           "green",
           "green",
           "green",
           "green",
           "green",
           "green",
           "green",
           "green",
           "green",
           "green",
           "green",
           "green",
           "green",
           "green",
           "green",
           "green",
           "green",
           "green",
           "green",
           "green",
           "green",
           "green",
           "green",
           "green",
           "green",
           "green",
           "green",
           "green"
          ],
          "size": 5
         },
         "mode": "markers",
         "name": "",
         "type": "scatter",
         "x": [
          "Astrocyte",
          "Chandelier",
          "Exc L2/3 IT",
          "Exc L3/5 IT",
          "Exc L4/5 IT",
          "Exc L5 PT",
          "Exc L5/6 IT 1",
          "Exc L5/6 IT 2",
          "Exc L5/6 IT 3",
          "Exc L5/6 NP",
          "Exc L6 CT",
          "Exc L6 IT 1",
          "Exc L6 IT 2",
          "Exc L6b",
          "Lamp5 1",
          "Lamp5 2",
          "Lamp5 Lhx6",
          "Lamp5 Rosehip",
          "Oligo",
          "Pax6",
          "Pvalb 1",
          "Pvalb 2",
          "Sst 1",
          "Sst 2",
          "Sst 3",
          "Sst 4",
          "Sst 5",
          "Sst Chodl",
          "Vip 1",
          "Vip 2",
          "Vip 3",
          "Vip 4",
          "Vip 5",
          "Vip Sncg"
         ],
         "y": [
          "Astrocyte",
          "Chandelier",
          "Exc L2/3 IT",
          "Exc L3/5 IT",
          "Exc L4/5 IT",
          "Exc L5 PT",
          "Exc L5/6 IT 1",
          "Exc L5/6 IT 2",
          "Exc L5/6 IT 3",
          "Exc L5/6 NP",
          "Exc L6 CT",
          "Exc L6 IT 1",
          "Exc L6 IT 2",
          "Exc L6b",
          "Lamp5 1",
          "Lamp5 2",
          "Lamp5 Lhx6",
          "Lamp5 Rosehip",
          "Oligo",
          "Pax6",
          "Pvalb 1",
          "Pvalb 2",
          "Sst 1",
          "Sst 2",
          "Sst 3",
          "Sst 4",
          "Sst 5",
          "Sst Chodl",
          "Vip 1",
          "Vip 2",
          "Vip 3",
          "Vip 4",
          "Vip 5",
          "Vip Sncg"
         ]
        }
       ],
       "layout": {
        "coloraxis": {
         "colorbar": {
          "title": {
           "text": "cost"
          }
         },
         "colorscale": [
          [
           0,
           "rgb(75, 41, 145)"
          ],
          [
           0.16666666666666666,
           "rgb(135, 44, 162)"
          ],
          [
           0.3333333333333333,
           "rgb(192, 54, 157)"
          ],
          [
           0.5,
           "rgb(234, 79, 136)"
          ],
          [
           0.6666666666666666,
           "rgb(250, 120, 118)"
          ],
          [
           0.8333333333333334,
           "rgb(246, 169, 122)"
          ],
          [
           1,
           "rgb(237, 217, 163)"
          ]
         ]
        },
        "template": {
         "data": {
          "bar": [
           {
            "error_x": {
             "color": "#2a3f5f"
            },
            "error_y": {
             "color": "#2a3f5f"
            },
            "marker": {
             "line": {
              "color": "#E5ECF6",
              "width": 0.5
             },
             "pattern": {
              "fillmode": "overlay",
              "size": 10,
              "solidity": 0.2
             }
            },
            "type": "bar"
           }
          ],
          "barpolar": [
           {
            "marker": {
             "line": {
              "color": "#E5ECF6",
              "width": 0.5
             },
             "pattern": {
              "fillmode": "overlay",
              "size": 10,
              "solidity": 0.2
             }
            },
            "type": "barpolar"
           }
          ],
          "carpet": [
           {
            "aaxis": {
             "endlinecolor": "#2a3f5f",
             "gridcolor": "white",
             "linecolor": "white",
             "minorgridcolor": "white",
             "startlinecolor": "#2a3f5f"
            },
            "baxis": {
             "endlinecolor": "#2a3f5f",
             "gridcolor": "white",
             "linecolor": "white",
             "minorgridcolor": "white",
             "startlinecolor": "#2a3f5f"
            },
            "type": "carpet"
           }
          ],
          "choropleth": [
           {
            "colorbar": {
             "outlinewidth": 0,
             "ticks": ""
            },
            "type": "choropleth"
           }
          ],
          "contour": [
           {
            "colorbar": {
             "outlinewidth": 0,
             "ticks": ""
            },
            "colorscale": [
             [
              0,
              "#0d0887"
             ],
             [
              0.1111111111111111,
              "#46039f"
             ],
             [
              0.2222222222222222,
              "#7201a8"
             ],
             [
              0.3333333333333333,
              "#9c179e"
             ],
             [
              0.4444444444444444,
              "#bd3786"
             ],
             [
              0.5555555555555556,
              "#d8576b"
             ],
             [
              0.6666666666666666,
              "#ed7953"
             ],
             [
              0.7777777777777778,
              "#fb9f3a"
             ],
             [
              0.8888888888888888,
              "#fdca26"
             ],
             [
              1,
              "#f0f921"
             ]
            ],
            "type": "contour"
           }
          ],
          "contourcarpet": [
           {
            "colorbar": {
             "outlinewidth": 0,
             "ticks": ""
            },
            "type": "contourcarpet"
           }
          ],
          "heatmap": [
           {
            "colorbar": {
             "outlinewidth": 0,
             "ticks": ""
            },
            "colorscale": [
             [
              0,
              "#0d0887"
             ],
             [
              0.1111111111111111,
              "#46039f"
             ],
             [
              0.2222222222222222,
              "#7201a8"
             ],
             [
              0.3333333333333333,
              "#9c179e"
             ],
             [
              0.4444444444444444,
              "#bd3786"
             ],
             [
              0.5555555555555556,
              "#d8576b"
             ],
             [
              0.6666666666666666,
              "#ed7953"
             ],
             [
              0.7777777777777778,
              "#fb9f3a"
             ],
             [
              0.8888888888888888,
              "#fdca26"
             ],
             [
              1,
              "#f0f921"
             ]
            ],
            "type": "heatmap"
           }
          ],
          "heatmapgl": [
           {
            "colorbar": {
             "outlinewidth": 0,
             "ticks": ""
            },
            "colorscale": [
             [
              0,
              "#0d0887"
             ],
             [
              0.1111111111111111,
              "#46039f"
             ],
             [
              0.2222222222222222,
              "#7201a8"
             ],
             [
              0.3333333333333333,
              "#9c179e"
             ],
             [
              0.4444444444444444,
              "#bd3786"
             ],
             [
              0.5555555555555556,
              "#d8576b"
             ],
             [
              0.6666666666666666,
              "#ed7953"
             ],
             [
              0.7777777777777778,
              "#fb9f3a"
             ],
             [
              0.8888888888888888,
              "#fdca26"
             ],
             [
              1,
              "#f0f921"
             ]
            ],
            "type": "heatmapgl"
           }
          ],
          "histogram": [
           {
            "marker": {
             "pattern": {
              "fillmode": "overlay",
              "size": 10,
              "solidity": 0.2
             }
            },
            "type": "histogram"
           }
          ],
          "histogram2d": [
           {
            "colorbar": {
             "outlinewidth": 0,
             "ticks": ""
            },
            "colorscale": [
             [
              0,
              "#0d0887"
             ],
             [
              0.1111111111111111,
              "#46039f"
             ],
             [
              0.2222222222222222,
              "#7201a8"
             ],
             [
              0.3333333333333333,
              "#9c179e"
             ],
             [
              0.4444444444444444,
              "#bd3786"
             ],
             [
              0.5555555555555556,
              "#d8576b"
             ],
             [
              0.6666666666666666,
              "#ed7953"
             ],
             [
              0.7777777777777778,
              "#fb9f3a"
             ],
             [
              0.8888888888888888,
              "#fdca26"
             ],
             [
              1,
              "#f0f921"
             ]
            ],
            "type": "histogram2d"
           }
          ],
          "histogram2dcontour": [
           {
            "colorbar": {
             "outlinewidth": 0,
             "ticks": ""
            },
            "colorscale": [
             [
              0,
              "#0d0887"
             ],
             [
              0.1111111111111111,
              "#46039f"
             ],
             [
              0.2222222222222222,
              "#7201a8"
             ],
             [
              0.3333333333333333,
              "#9c179e"
             ],
             [
              0.4444444444444444,
              "#bd3786"
             ],
             [
              0.5555555555555556,
              "#d8576b"
             ],
             [
              0.6666666666666666,
              "#ed7953"
             ],
             [
              0.7777777777777778,
              "#fb9f3a"
             ],
             [
              0.8888888888888888,
              "#fdca26"
             ],
             [
              1,
              "#f0f921"
             ]
            ],
            "type": "histogram2dcontour"
           }
          ],
          "mesh3d": [
           {
            "colorbar": {
             "outlinewidth": 0,
             "ticks": ""
            },
            "type": "mesh3d"
           }
          ],
          "parcoords": [
           {
            "line": {
             "colorbar": {
              "outlinewidth": 0,
              "ticks": ""
             }
            },
            "type": "parcoords"
           }
          ],
          "pie": [
           {
            "automargin": true,
            "type": "pie"
           }
          ],
          "scatter": [
           {
            "fillpattern": {
             "fillmode": "overlay",
             "size": 10,
             "solidity": 0.2
            },
            "type": "scatter"
           }
          ],
          "scatter3d": [
           {
            "line": {
             "colorbar": {
              "outlinewidth": 0,
              "ticks": ""
             }
            },
            "marker": {
             "colorbar": {
              "outlinewidth": 0,
              "ticks": ""
             }
            },
            "type": "scatter3d"
           }
          ],
          "scattercarpet": [
           {
            "marker": {
             "colorbar": {
              "outlinewidth": 0,
              "ticks": ""
             }
            },
            "type": "scattercarpet"
           }
          ],
          "scattergeo": [
           {
            "marker": {
             "colorbar": {
              "outlinewidth": 0,
              "ticks": ""
             }
            },
            "type": "scattergeo"
           }
          ],
          "scattergl": [
           {
            "marker": {
             "colorbar": {
              "outlinewidth": 0,
              "ticks": ""
             }
            },
            "type": "scattergl"
           }
          ],
          "scattermapbox": [
           {
            "marker": {
             "colorbar": {
              "outlinewidth": 0,
              "ticks": ""
             }
            },
            "type": "scattermapbox"
           }
          ],
          "scatterpolar": [
           {
            "marker": {
             "colorbar": {
              "outlinewidth": 0,
              "ticks": ""
             }
            },
            "type": "scatterpolar"
           }
          ],
          "scatterpolargl": [
           {
            "marker": {
             "colorbar": {
              "outlinewidth": 0,
              "ticks": ""
             }
            },
            "type": "scatterpolargl"
           }
          ],
          "scatterternary": [
           {
            "marker": {
             "colorbar": {
              "outlinewidth": 0,
              "ticks": ""
             }
            },
            "type": "scatterternary"
           }
          ],
          "surface": [
           {
            "colorbar": {
             "outlinewidth": 0,
             "ticks": ""
            },
            "colorscale": [
             [
              0,
              "#0d0887"
             ],
             [
              0.1111111111111111,
              "#46039f"
             ],
             [
              0.2222222222222222,
              "#7201a8"
             ],
             [
              0.3333333333333333,
              "#9c179e"
             ],
             [
              0.4444444444444444,
              "#bd3786"
             ],
             [
              0.5555555555555556,
              "#d8576b"
             ],
             [
              0.6666666666666666,
              "#ed7953"
             ],
             [
              0.7777777777777778,
              "#fb9f3a"
             ],
             [
              0.8888888888888888,
              "#fdca26"
             ],
             [
              1,
              "#f0f921"
             ]
            ],
            "type": "surface"
           }
          ],
          "table": [
           {
            "cells": {
             "fill": {
              "color": "#EBF0F8"
             },
             "line": {
              "color": "white"
             }
            },
            "header": {
             "fill": {
              "color": "#C8D4E3"
             },
             "line": {
              "color": "white"
             }
            },
            "type": "table"
           }
          ]
         },
         "layout": {
          "annotationdefaults": {
           "arrowcolor": "#2a3f5f",
           "arrowhead": 0,
           "arrowwidth": 1
          },
          "autotypenumbers": "strict",
          "coloraxis": {
           "colorbar": {
            "outlinewidth": 0,
            "ticks": ""
           }
          },
          "colorscale": {
           "diverging": [
            [
             0,
             "#8e0152"
            ],
            [
             0.1,
             "#c51b7d"
            ],
            [
             0.2,
             "#de77ae"
            ],
            [
             0.3,
             "#f1b6da"
            ],
            [
             0.4,
             "#fde0ef"
            ],
            [
             0.5,
             "#f7f7f7"
            ],
            [
             0.6,
             "#e6f5d0"
            ],
            [
             0.7,
             "#b8e186"
            ],
            [
             0.8,
             "#7fbc41"
            ],
            [
             0.9,
             "#4d9221"
            ],
            [
             1,
             "#276419"
            ]
           ],
           "sequential": [
            [
             0,
             "#0d0887"
            ],
            [
             0.1111111111111111,
             "#46039f"
            ],
            [
             0.2222222222222222,
             "#7201a8"
            ],
            [
             0.3333333333333333,
             "#9c179e"
            ],
            [
             0.4444444444444444,
             "#bd3786"
            ],
            [
             0.5555555555555556,
             "#d8576b"
            ],
            [
             0.6666666666666666,
             "#ed7953"
            ],
            [
             0.7777777777777778,
             "#fb9f3a"
            ],
            [
             0.8888888888888888,
             "#fdca26"
            ],
            [
             1,
             "#f0f921"
            ]
           ],
           "sequentialminus": [
            [
             0,
             "#0d0887"
            ],
            [
             0.1111111111111111,
             "#46039f"
            ],
            [
             0.2222222222222222,
             "#7201a8"
            ],
            [
             0.3333333333333333,
             "#9c179e"
            ],
            [
             0.4444444444444444,
             "#bd3786"
            ],
            [
             0.5555555555555556,
             "#d8576b"
            ],
            [
             0.6666666666666666,
             "#ed7953"
            ],
            [
             0.7777777777777778,
             "#fb9f3a"
            ],
            [
             0.8888888888888888,
             "#fdca26"
            ],
            [
             1,
             "#f0f921"
            ]
           ]
          },
          "colorway": [
           "#636efa",
           "#EF553B",
           "#00cc96",
           "#ab63fa",
           "#FFA15A",
           "#19d3f3",
           "#FF6692",
           "#B6E880",
           "#FF97FF",
           "#FECB52"
          ],
          "font": {
           "color": "#2a3f5f"
          },
          "geo": {
           "bgcolor": "white",
           "lakecolor": "white",
           "landcolor": "#E5ECF6",
           "showlakes": true,
           "showland": true,
           "subunitcolor": "white"
          },
          "hoverlabel": {
           "align": "left"
          },
          "hovermode": "closest",
          "mapbox": {
           "style": "light"
          },
          "paper_bgcolor": "white",
          "plot_bgcolor": "#E5ECF6",
          "polar": {
           "angularaxis": {
            "gridcolor": "white",
            "linecolor": "white",
            "ticks": ""
           },
           "bgcolor": "#E5ECF6",
           "radialaxis": {
            "gridcolor": "white",
            "linecolor": "white",
            "ticks": ""
           }
          },
          "scene": {
           "xaxis": {
            "backgroundcolor": "#E5ECF6",
            "gridcolor": "white",
            "gridwidth": 2,
            "linecolor": "white",
            "showbackground": true,
            "ticks": "",
            "zerolinecolor": "white"
           },
           "yaxis": {
            "backgroundcolor": "#E5ECF6",
            "gridcolor": "white",
            "gridwidth": 2,
            "linecolor": "white",
            "showbackground": true,
            "ticks": "",
            "zerolinecolor": "white"
           },
           "zaxis": {
            "backgroundcolor": "#E5ECF6",
            "gridcolor": "white",
            "gridwidth": 2,
            "linecolor": "white",
            "showbackground": true,
            "ticks": "",
            "zerolinecolor": "white"
           }
          },
          "shapedefaults": {
           "line": {
            "color": "#2a3f5f"
           }
          },
          "ternary": {
           "aaxis": {
            "gridcolor": "white",
            "linecolor": "white",
            "ticks": ""
           },
           "baxis": {
            "gridcolor": "white",
            "linecolor": "white",
            "ticks": ""
           },
           "bgcolor": "#E5ECF6",
           "caxis": {
            "gridcolor": "white",
            "linecolor": "white",
            "ticks": ""
           }
          },
          "title": {
           "x": 0.05
          },
          "xaxis": {
           "automargin": true,
           "gridcolor": "white",
           "linecolor": "white",
           "ticks": "",
           "title": {
            "standoff": 15
           },
           "zerolinecolor": "white",
           "zerolinewidth": 2
          },
          "yaxis": {
           "automargin": true,
           "gridcolor": "white",
           "linecolor": "white",
           "ticks": "",
           "title": {
            "standoff": 15
           },
           "zerolinecolor": "white",
           "zerolinewidth": 2
          }
         }
        },
        "title": {
         "text": "MTG to ALM matching cost"
        },
        "xaxis": {
         "anchor": "y",
         "constrain": "domain",
         "domain": [
          0,
          1
         ],
         "scaleanchor": "y",
         "tickangle": -45,
         "title": {
          "text": "Reference: ALM"
         }
        },
        "yaxis": {
         "anchor": "x",
         "autorange": "reversed",
         "constrain": "domain",
         "domain": [
          0,
          1
         ],
         "title": {
          "text": "Query: MTG"
         }
        }
       }
      }
     },
     "metadata": {},
     "output_type": "display_data"
    }
   ],
   "source": [
    "q, ref = 'MTG', 'ALM'\n",
    "\n",
    "rcm = RefCM(cache_load=False, cache_save=False, discovery_threshold=None)\n",
    "m = rcm.annotate(ds[q], q, ds[ref], ref, 'labels34', 'labels34')\n",
    "m.eval('labels34')\n",
    "m.display_matching_costs('labels34')"
   ]
  },
  {
   "cell_type": "code",
   "execution_count": 15,
   "metadata": {},
   "outputs": [
    {
     "data": {
      "application/vnd.plotly.v1+json": {
       "config": {
        "plotlyServerURL": "https://plot.ly"
       },
       "data": [
        {
         "coloraxis": "coloraxis",
         "hovertemplate": "Reference: ALM: %{x}<br>Query: MTG: %{y}<br>cost: %{z}<extra></extra>",
         "name": "0",
         "type": "heatmap",
         "x": [
          "Astrocyte",
          "Chandelier",
          "Exc L2/3 IT",
          "Exc L3/5 IT",
          "Exc L4/5 IT",
          "Exc L5 PT",
          "Exc L5/6 IT 1",
          "Exc L5/6 IT 2",
          "Exc L5/6 IT 3",
          "Exc L5/6 NP",
          "Exc L6 CT",
          "Exc L6 IT 1",
          "Exc L6 IT 2",
          "Exc L6b",
          "Lamp5 1",
          "Lamp5 2",
          "Lamp5 Lhx6",
          "Lamp5 Rosehip",
          "Oligo",
          "Pax6",
          "Pvalb 1",
          "Pvalb 2",
          "Sst 1",
          "Sst 2",
          "Sst 3",
          "Sst 4",
          "Sst 5",
          "Sst Chodl",
          "Vip 1",
          "Vip 2",
          "Vip 3",
          "Vip 4",
          "Vip 5",
          "Vip Sncg"
         ],
         "xaxis": "x",
         "y": [
          "Astrocyte",
          "Chandelier",
          "Exc L2/3 IT",
          "Exc L3/5 IT",
          "Exc L4/5 IT",
          "Exc L5 PT",
          "Exc L5/6 IT 1",
          "Exc L5/6 IT 2",
          "Exc L5/6 IT 3",
          "Exc L5/6 NP",
          "Exc L6 CT",
          "Exc L6 IT 1",
          "Exc L6 IT 2",
          "Exc L6b",
          "Lamp5 1",
          "Lamp5 2",
          "Lamp5 Lhx6",
          "Lamp5 Rosehip",
          "Oligo",
          "Pax6",
          "Pvalb 1",
          "Pvalb 2",
          "Sst 1",
          "Sst 2",
          "Sst 3",
          "Sst 4",
          "Sst 5",
          "Sst Chodl",
          "Vip 1",
          "Vip 2",
          "Vip 3",
          "Vip 4",
          "Vip 5",
          "Vip Sncg"
         ],
         "yaxis": "y",
         "z": [
          [
           -0.6317373186382333,
           -0.16572501481095947,
           -0.2793098336506064,
           -0.3000466211662354,
           -0.23768875594782962,
           -0.31492347388090136,
           -0.2878829541080209,
           -0.2732671668305474,
           -0.24031983836858725,
           -0.12191355236614901,
           -0.13482948558670757,
           -0.14714492270347074,
           -0.21922116505741585,
           -0.1448668991235279,
           -0.14649127975132756,
           -0.2214155836620271,
           -0.14783715669637013,
           -0.1559992329963742,
           -0.11679158776926465,
           -0.17989466396768697,
           -0.14434936971308815,
           -0.14040583811941912,
           -0.098327527379944,
           -0.16272714437166394,
           -0.14109529000761636,
           -0.1377987912907232,
           -0.18157022185608443,
           -0.15409082048633646,
           -0.16500320926380002,
           -0.23033732845031113,
           -0.22794167621211345,
           -0.1742663154339007,
           -0.19061887987152748,
           -0.2034137128722328
          ],
          [
           -0.08487656741453678,
           -0.6553442467762216,
           -0.5675523750316577,
           -0.5777049636731583,
           -0.5320213222273965,
           -0.6096627789766489,
           -0.5690218198678914,
           -0.5664421986267328,
           -0.5159593484942343,
           -0.41636065230428104,
           -0.37836456878198443,
           -0.411176319221031,
           -0.5075930511979793,
           -0.389156223133268,
           -0.5512124166813588,
           -0.5971737556004874,
           -0.5625109506281412,
           -0.5501477370155015,
           -0.042200233037231916,
           -0.5654827753451975,
           -0.5560144527012527,
           -0.6063014105575294,
           -0.48617178629044566,
           -0.5711024566846339,
           -0.5546770837683127,
           -0.547416755154316,
           -0.5981167884042858,
           -0.47785274876236505,
           -0.526616073802507,
           -0.613973233578866,
           -0.6249745909303438,
           -0.5487782503444243,
           -0.5773012731245981,
           -0.5503842169319161
          ],
          [
           -0.11240828950901566,
           -0.4272064982925548,
           -0.8815771001809007,
           -0.8392041654702982,
           -0.8032427771218225,
           -0.8442555028227645,
           -0.8364008524481912,
           -0.8166907604796417,
           -0.7762921032860962,
           -0.555637724724314,
           -0.6033778960145962,
           -0.6616494445739061,
           -0.7805000276312815,
           -0.5453869955109876,
           -0.4598685198049296,
           -0.5841618630914774,
           -0.4355110261065773,
           -0.45696922045473287,
           -0.08083209355993361,
           -0.50332470794431,
           -0.44513627590230354,
           -0.4395239938764786,
           -0.4486948217968409,
           -0.5037043539215593,
           -0.49453860417210804,
           -0.47822505451538977,
           -0.5324736674334297,
           -0.4515083000826371,
           -0.5181182114863573,
           -0.6038281848904736,
           -0.5997053246915542,
           -0.549147267666486,
           -0.5375076033012591,
           -0.5345822654918688
          ],
          [
           -0.18728271371496347,
           -0.5087009780739692,
           -0.8946470330191217,
           -0.9196483168025381,
           -0.8603389738820459,
           -0.9002879496063778,
           -0.9046327543913388,
           -0.8801157744225862,
           -0.8128744811746567,
           -0.6251069133481211,
           -0.6266977918996063,
           -0.6929141034504397,
           -0.7989985430237528,
           -0.6045094228932225,
           -0.5296431801965064,
           -0.6409245136598752,
           -0.4965423822617363,
           -0.5237226398462834,
           -0.1311337951072749,
           -0.5665583788666344,
           -0.5113762162605267,
           -0.5185889510127343,
           -0.5095177996538252,
           -0.5742641162829932,
           -0.5737607497290982,
           -0.5452713082728533,
           -0.5932566957861702,
           -0.5171932190137947,
           -0.5827085586110017,
           -0.6529022740941376,
           -0.6440053051066364,
           -0.5936699100410958,
           -0.5741673462270324,
           -0.5807484307755187
          ],
          [
           -0.03918852470121174,
           -0.3534914843229747,
           -0.7019177675251073,
           -0.7196687599295423,
           -0.6908404708112444,
           -0.6995999169658561,
           -0.7126239875396226,
           -0.7083811753254592,
           -0.6631324203542448,
           -0.47833868007938884,
           -0.5067191334178294,
           -0.5516360031547453,
           -0.6488568847448666,
           -0.47277969445097545,
           -0.36522622803059895,
           -0.47019574661311747,
           -0.3444428861681974,
           -0.35767759673907906,
           -0.0032908128078219206,
           -0.4069983197764076,
           -0.3741238200063058,
           -0.36706663916813753,
           -0.3665850990524151,
           -0.41893561787191663,
           -0.41845995184463214,
           -0.39582136358774755,
           -0.450554835089676,
           -0.3929298487677537,
           -0.42130778656720624,
           -0.49690841480310183,
           -0.49266057730625484,
           -0.44031092696042146,
           -0.43244077854281754,
           -0.4361860716556645
          ],
          [
           -0.21925108708482943,
           -0.5614310053092789,
           -0.9076829146041703,
           -0.9291373093392423,
           -0.8506573712395572,
           -1,
           -0.909375956457507,
           -0.9133825093130026,
           -0.8633953959914485,
           -0.6795460506683065,
           -0.701375759897248,
           -0.7441791785123917,
           -0.8497060602388201,
           -0.6638408714207671,
           -0.5727726300070359,
           -0.6880409798448299,
           -0.5586032628953618,
           -0.5694150470429126,
           -0.1676776910906139,
           -0.6132571982270303,
           -0.5586304232427489,
           -0.5536852365985504,
           -0.5452531443741978,
           -0.6183807242840968,
           -0.6163414583941964,
           -0.6066711524483381,
           -0.6374314520646795,
           -0.5762439738249931,
           -0.6051262790635759,
           -0.6998911646120418,
           -0.69904636539653,
           -0.6379466452249878,
           -0.6298122698210562,
           -0.6321433207454513
          ],
          [
           -0.007171099666152366,
           -0.33299751522535587,
           -0.7082194003585599,
           -0.7275038110690375,
           -0.6900192910574671,
           -0.6919487622234164,
           -0.7309637579114381,
           -0.6999583182966111,
           -0.6666066450022241,
           -0.46461747589524677,
           -0.5078867472850642,
           -0.5628552548132391,
           -0.6519925522173763,
           -0.4611194743814106,
           -0.3675245479752588,
           -0.4734197103427543,
           -0.33530702570714654,
           -0.3510690335397942,
           0,
           -0.39779805410542407,
           -0.3474810158611943,
           -0.3370305941752604,
           -0.34147716643072373,
           -0.39852256766854804,
           -0.4086650518476109,
           -0.37222914076609614,
           -0.4098345633410034,
           -0.3731998904724363,
           -0.4335734983253567,
           -0.5043808458652127,
           -0.5002354219871582,
           -0.43902998686145356,
           -0.4214968890608787,
           -0.4292203956889037
          ],
          [
           -0.126626107987951,
           -0.45589298281845253,
           -0.838618137805126,
           -0.8747964343562615,
           -0.827475449625133,
           -0.8629031447112555,
           -0.8654861763413246,
           -0.8712811253722601,
           -0.8129030094504772,
           -0.6183974537194555,
           -0.6456756712055287,
           -0.6834574630599806,
           -0.7849562774346417,
           -0.6082570674019748,
           -0.49388461006899864,
           -0.604974114895539,
           -0.44966270012446347,
           -0.4800250213850148,
           -0.0879229904834539,
           -0.5134257511320665,
           -0.4609568893988084,
           -0.4642404980194813,
           -0.47204060796479014,
           -0.5390304362395119,
           -0.5308670320474028,
           -0.5096326202479292,
           -0.5592150295245546,
           -0.4966528469535385,
           -0.5443411605218218,
           -0.6164895205320171,
           -0.6035192798744219,
           -0.5603414444169242,
           -0.5371842710058357,
           -0.5420036427782297
          ],
          [
           -0.08681082580708319,
           -0.44152974942543843,
           -0.7954068269490624,
           -0.8143115291639255,
           -0.7765149515132787,
           -0.8083000787924809,
           -0.8069452285671438,
           -0.818219868261211,
           -0.7838676166610353,
           -0.5631415954979757,
           -0.6038817469315367,
           -0.6591914985575678,
           -0.7658008437666336,
           -0.5599452492067348,
           -0.4500257874692732,
           -0.5638647753182733,
           -0.42517920229559075,
           -0.43953667574237976,
           -0.06548616067335947,
           -0.4839277263143696,
           -0.43643423505888046,
           -0.4328487483950844,
           -0.429669126974848,
           -0.4984141378887606,
           -0.4975869508692248,
           -0.46403187384867317,
           -0.520988178315911,
           -0.4695758432289842,
           -0.5041304480435906,
           -0.5858720720536839,
           -0.5804038664599805,
           -0.5208070167080183,
           -0.5126914803041983,
           -0.5141345687737914
          ],
          [
           -0.07244591428896324,
           -0.4047950397281771,
           -0.6891116921192931,
           -0.7189261634905904,
           -0.6618120127911645,
           -0.7321342717054772,
           -0.7100809884779258,
           -0.7153624840987689,
           -0.6753197792904534,
           -0.6290894536748423,
           -0.5529872197405816,
           -0.5595610882492816,
           -0.6466117348764258,
           -0.551248808180567,
           -0.43232959843128366,
           -0.5133155112127236,
           -0.3912084312536478,
           -0.4139131516334219,
           -0.05871158590668642,
           -0.44114564532665,
           -0.39157646350940944,
           -0.40413734525434686,
           -0.41944327575305634,
           -0.48945826291770217,
           -0.4764395039527196,
           -0.45915710063370574,
           -0.5004644666887909,
           -0.4686081793604489,
           -0.4673964942592859,
           -0.5548137379151615,
           -0.5375751968725929,
           -0.4971204739183284,
           -0.4768754389458019,
           -0.465119280915479
          ],
          [
           -0.11783193555888517,
           -0.45894095392563417,
           -0.8346149923987934,
           -0.8443305700037729,
           -0.7883952767513586,
           -0.8680394710938757,
           -0.842944690717417,
           -0.8406669802871184,
           -0.8238480648993999,
           -0.6331366325079372,
           -0.7192885128399866,
           -0.7111737892704343,
           -0.806272036880496,
           -0.6536946822747541,
           -0.507024481108201,
           -0.6129996619864553,
           -0.4756483737518708,
           -0.5056889846325199,
           -0.09772239685826636,
           -0.5271556675383797,
           -0.4502939367985986,
           -0.4554898270366211,
           -0.4567294221012485,
           -0.535398017830694,
           -0.5193067218756434,
           -0.5103345009590768,
           -0.5550366306308132,
           -0.4970621959497207,
           -0.5322920940820576,
           -0.6205548169871146,
           -0.6142811935419967,
           -0.5631970557900963,
           -0.5415994663429342,
           -0.5478105117678449
          ],
          [
           -0.121370239374059,
           -0.4793029501176094,
           -0.9051177279933419,
           -0.892124029727877,
           -0.8455770716972056,
           -0.8931418184958593,
           -0.889420641220647,
           -0.8819753632327779,
           -0.8604552898033219,
           -0.6188036298120613,
           -0.6885050627594743,
           -0.7604981591052787,
           -0.8634263672186976,
           -0.6398024583552557,
           -0.5114354515419142,
           -0.6329600645204625,
           -0.4733993694269407,
           -0.49568852085564846,
           -0.10357659714695915,
           -0.5452629676376248,
           -0.4784593956562734,
           -0.47136809949221425,
           -0.4828302637401485,
           -0.5535646544473745,
           -0.5468031120552512,
           -0.5233544190033285,
           -0.5699167662250182,
           -0.5080130383148278,
           -0.5548534118156694,
           -0.643265803361131,
           -0.6391507100060831,
           -0.5815495563307908,
           -0.5770634591952204,
           -0.5817547703278946
          ],
          [
           -0.05127784676927751,
           -0.43517082309083577,
           -0.7906773860912193,
           -0.7783617333533023,
           -0.7299803548188887,
           -0.7781824538730467,
           -0.7752734684564643,
           -0.7590908280990216,
           -0.7364043372258267,
           -0.5222846123895771,
           -0.5737578584299148,
           -0.6379867726842217,
           -0.7478557817408514,
           -0.559129315186597,
           -0.45454319142202065,
           -0.5667015364675164,
           -0.43579720013585466,
           -0.44109271609967554,
           -0.07999208602962496,
           -0.49874217414083966,
           -0.4198539564349785,
           -0.4101341994313673,
           -0.41166923068085115,
           -0.48422194073928765,
           -0.4781835785228968,
           -0.45896998769751846,
           -0.4963699455739226,
           -0.4611050246455306,
           -0.5107504865012844,
           -0.584824595588696,
           -0.5731680397535882,
           -0.5120408668371539,
           -0.5089114542220521,
           -0.5302294050987694
          ],
          [
           -0.1844928095408773,
           -0.5419671459750457,
           -0.9126003683649163,
           -0.9117770449600529,
           -0.8516477945775774,
           -0.9271885925474694,
           -0.9064043728227623,
           -0.900966222674998,
           -0.8643470814310901,
           -0.6818551897825283,
           -0.7390676052420814,
           -0.7619839033283502,
           -0.8569536132950993,
           -0.7432412031332738,
           -0.5824927584765921,
           -0.6918644021904333,
           -0.5506164316610718,
           -0.5794142317415807,
           -0.14405010357395556,
           -0.609544310817687,
           -0.5234193526057278,
           -0.5231338461778335,
           -0.5330187803876205,
           -0.6033170948016296,
           -0.5934927136441442,
           -0.580434191662019,
           -0.6298787485919293,
           -0.5790763856417228,
           -0.6027266013806984,
           -0.7022234680364147,
           -0.692930709499065,
           -0.6368821268423358,
           -0.6228589737653953,
           -0.6326871065768916
          ],
          [
           -0.10091814814528983,
           -0.5293065776612181,
           -0.5690343476185484,
           -0.5833908076211725,
           -0.5225516686515004,
           -0.6180571647641313,
           -0.5708756933294525,
           -0.5679568146445317,
           -0.5112463895572378,
           -0.41272803447239603,
           -0.3690405937466811,
           -0.4307481710859233,
           -0.506667354344301,
           -0.42066725085886264,
           -0.6481074990384011,
           -0.6883671706573883,
           -0.6017215718627239,
           -0.6247949813062362,
           -0.051133614953348915,
           -0.6394517100355067,
           -0.4644304367606986,
           -0.5012558155930469,
           -0.47010609150924,
           -0.5395240509645547,
           -0.531577331106015,
           -0.5037919170414441,
           -0.5388692436267738,
           -0.46839052456244307,
           -0.5571573758436872,
           -0.6091013582321029,
           -0.6327742589306462,
           -0.5536368595529961,
           -0.561527279198827,
           -0.5849883373915172
          ],
          [
           -0.1335611269084953,
           -0.5427569833044146,
           -0.660061920056649,
           -0.6795989371637383,
           -0.6126144092364864,
           -0.7010671246280357,
           -0.6777765784662517,
           -0.647998703604731,
           -0.6146020945005684,
           -0.46743700325517157,
           -0.46196208723306237,
           -0.5261338740439928,
           -0.6085145575595646,
           -0.48060763985511906,
           -0.6583797939225974,
           -0.7724225718627548,
           -0.5824109735428569,
           -0.6145007760214287,
           -0.08909089203933161,
           -0.6909298709617688,
           -0.5057912065580872,
           -0.5138598685547296,
           -0.5514188223302493,
           -0.5979166072103629,
           -0.5850567625917298,
           -0.5708460601810592,
           -0.6010053860372468,
           -0.5382654698301149,
           -0.6857039515878921,
           -0.7331982636372277,
           -0.7472526012881098,
           -0.6755086708647611,
           -0.6893038967843006,
           -0.7021777411602076
          ],
          [
           -0.17496331881381286,
           -0.6161453018860135,
           -0.6598387349273763,
           -0.6686700169817276,
           -0.6058293653543428,
           -0.6834676021260011,
           -0.6618613739175521,
           -0.6424091375491587,
           -0.6012230989776608,
           -0.4751913579240772,
           -0.4506943834081945,
           -0.505202049510401,
           -0.5936418074952242,
           -0.4903898792853644,
           -0.6703602169944468,
           -0.7304351046838036,
           -0.6736304755323855,
           -0.6784346098392969,
           -0.10606694359983282,
           -0.6760261663825897,
           -0.5488796684110281,
           -0.593595010089684,
           -0.5343982648113257,
           -0.6190151356819762,
           -0.5985565904909689,
           -0.5772332052760852,
           -0.6479245636814869,
           -0.5670449505895737,
           -0.5902245744464537,
           -0.682881674345744,
           -0.6876136152496969,
           -0.6160687006276335,
           -0.6116079344371044,
           -0.6589261623193967
          ],
          [
           -0.13174686130725358,
           -0.5544638176440239,
           -0.6061472696097491,
           -0.6220431417576794,
           -0.5600278677960759,
           -0.6473768958630535,
           -0.6122835884313108,
           -0.6021748583851895,
           -0.5484270928352772,
           -0.4512166098168127,
           -0.4011659086948949,
           -0.45876725608093205,
           -0.5408674354621488,
           -0.4534593194912415,
           -0.6545668786125196,
           -0.7013621339332108,
           -0.6173127240728081,
           -0.651200442829671,
           -0.07287893067458058,
           -0.6527624598740259,
           -0.4934277172079007,
           -0.543122717425302,
           -0.48398915049228497,
           -0.5588572389679201,
           -0.5519348352175513,
           -0.5221575329969201,
           -0.578842215661027,
           -0.4983047552899604,
           -0.5725103915208143,
           -0.6465883212949848,
           -0.6674001202213772,
           -0.5891982166364649,
           -0.5954470778386822,
           -0.6237893484967959
          ],
          [
           -0.26148189070657585,
           -0.24821016362917903,
           -0.4077437811164007,
           -0.42083308810149633,
           -0.34880363348505466,
           -0.4584888381333283,
           -0.40375547982446197,
           -0.39566306185010414,
           -0.3660951112571787,
           -0.22470567884673023,
           -0.23550992383168848,
           -0.2719418162126002,
           -0.3496530888345398,
           -0.23874773457791879,
           -0.26356570543079605,
           -0.3349804787637285,
           -0.26432629652996315,
           -0.2733499898305716,
           -0.49171510410304664,
           -0.28849174021807705,
           -0.2614771469611051,
           -0.2577288344692466,
           -0.22088076979608565,
           -0.2977821104850485,
           -0.2806429951542658,
           -0.2755701407376734,
           -0.31289427189291796,
           -0.2690513649189857,
           -0.27581957520206074,
           -0.35294977667554966,
           -0.3494015144767453,
           -0.29882831766068196,
           -0.29573940794975245,
           -0.31168277277554296
          ],
          [
           -0.1566111298495085,
           -0.5615175611007635,
           -0.6610747564567575,
           -0.6649777136448706,
           -0.6010095459158898,
           -0.6975125604302039,
           -0.6574074960491054,
           -0.6475043179360888,
           -0.603798895220938,
           -0.47595803638106765,
           -0.44039815234856816,
           -0.5029069724823889,
           -0.5955770820877383,
           -0.49250623208067346,
           -0.6537625753350144,
           -0.7664594710686491,
           -0.5938756009975431,
           -0.6234761005420176,
           -0.09698852137322493,
           -0.7258674808906556,
           -0.526093494875982,
           -0.5387489672966826,
           -0.5560703852034855,
           -0.6194911481520059,
           -0.6037402010997698,
           -0.5930538981340137,
           -0.6178989029722052,
           -0.5717483724164204,
           -0.6638010261847545,
           -0.7353710678831823,
           -0.7353275262916544,
           -0.6768869513484757,
           -0.6868456074074711,
           -0.7033233126280131
          ],
          [
           -0.13959526688478238,
           -0.6346611624244441,
           -0.6311627581193422,
           -0.6486618228178535,
           -0.5940010469199888,
           -0.6695537098109716,
           -0.6417279687582564,
           -0.6288201847912287,
           -0.5917358523184324,
           -0.4774437350518808,
           -0.439655068997841,
           -0.4716229570327655,
           -0.5737223022248977,
           -0.46811882517583686,
           -0.5859644733201211,
           -0.6491717103850675,
           -0.5866886495968995,
           -0.5736521439090921,
           -0.0976641722660893,
           -0.597869286062691,
           -0.665894722831939,
           -0.6758000955492292,
           -0.5828583535846544,
           -0.6820729998484104,
           -0.6549219164741896,
           -0.6310868987775389,
           -0.686142314392785,
           -0.5738911865134102,
           -0.5722068491834845,
           -0.6654558701159933,
           -0.6670250651826763,
           -0.6122606560167814,
           -0.6119560359797059,
           -0.6033000596680465
          ],
          [
           -0.09753526875661353,
           -0.6253720234231696,
           -0.59632222401207,
           -0.6035170241313326,
           -0.5508605402853751,
           -0.6309189308709814,
           -0.5944369725625714,
           -0.5875348703580946,
           -0.5462713348639638,
           -0.4442910964998865,
           -0.40370153931193814,
           -0.4309182796443526,
           -0.5334543003645662,
           -0.42545112266594864,
           -0.5666381150678411,
           -0.6113022016636089,
           -0.5746104384473313,
           -0.5611601282170252,
           -0.062064123885806566,
           -0.5689620554137739,
           -0.6231212604111108,
           -0.676179623909397,
           -0.5262129538010937,
           -0.6238861355336337,
           -0.5956423006099751,
           -0.5806775127624696,
           -0.6482789660120749,
           -0.5077248018821297,
           -0.5219168674339331,
           -0.6128183559789042,
           -0.6211343193635318,
           -0.5660581536577024,
           -0.5680668473649874,
           -0.5570730256135409
          ],
          [
           -0.045550331754096146,
           -0.4915471948792568,
           -0.5679590377184964,
           -0.5769053656893876,
           -0.5252836040954395,
           -0.5978350345386478,
           -0.5708504011499624,
           -0.5620464558238027,
           -0.5276902465573731,
           -0.4206243339962613,
           -0.3727427132526092,
           -0.4123104674501259,
           -0.5072356797916859,
           -0.4053571518613079,
           -0.509420739303671,
           -0.5877266922155006,
           -0.4889748812246238,
           -0.48007513438552507,
           -0.045016035719466926,
           -0.529375285874655,
           -0.5147658267982669,
           -0.530673477646609,
           -0.5895927196110902,
           -0.6647799669171234,
           -0.6104443150012343,
           -0.6338802037622301,
           -0.662404564125715,
           -0.5495036860839394,
           -0.5225865664740007,
           -0.599695767876805,
           -0.5852895021038925,
           -0.5446052897485367,
           -0.5220034108040756,
           -0.5438096059938552
          ],
          [
           -0.0868907355817526,
           -0.5142726150789558,
           -0.6019890789779244,
           -0.6178600135821707,
           -0.5619519898721637,
           -0.6425256528229875,
           -0.6129350691031359,
           -0.6017819546550498,
           -0.5689846775385136,
           -0.4543715788194576,
           -0.41502755568501365,
           -0.45614982205904225,
           -0.5463911371412646,
           -0.441831057935241,
           -0.5628713877041177,
           -0.6374758537940018,
           -0.5321037515512174,
           -0.5266786400521806,
           -0.0808672628714875,
           -0.5634188909517621,
           -0.5340078662884505,
           -0.5445546201422948,
           -0.6185610231779083,
           -0.7277122704329282,
           -0.6638281216283632,
           -0.6825246934767417,
           -0.7005740023815252,
           -0.6066053929603079,
           -0.5677402161870769,
           -0.6417757855219204,
           -0.6249825601771245,
           -0.5832153031929539,
           -0.5530005303342327,
           -0.5806601582368849
          ],
          [
           -0.09664767569673836,
           -0.5434733824124237,
           -0.6511317389102216,
           -0.6635950871709642,
           -0.6074009108512386,
           -0.6775748632391546,
           -0.6569714181325508,
           -0.6367095422753893,
           -0.604888517839802,
           -0.4859397068293785,
           -0.44091097734432183,
           -0.4865325439277111,
           -0.5827137466460465,
           -0.46639045726124206,
           -0.5588022809154234,
           -0.64701841362196,
           -0.5349353967693045,
           -0.5235787302951808,
           -0.09167086349007374,
           -0.5844114462069848,
           -0.5616808985598245,
           -0.5671634183716583,
           -0.6070925974802549,
           -0.7020870818723419,
           -0.6845781191307826,
           -0.6533422158904351,
           -0.6799904521574134,
           -0.5920718576819111,
           -0.5915657834021951,
           -0.6619530889082683,
           -0.6470728767663374,
           -0.6038955336821296,
           -0.5793985228632381,
           -0.6002851231406322
          ],
          [
           -0.024073934654719745,
           -0.4192008057238515,
           -0.48942294051967794,
           -0.4964856553657014,
           -0.4454508985265582,
           -0.5356208593761188,
           -0.491962176315571,
           -0.4800359913175754,
           -0.4455179070510196,
           -0.36358216677408317,
           -0.30618915169254673,
           -0.34127346562007704,
           -0.4275040714511856,
           -0.3359722784610852,
           -0.44179155804078246,
           -0.5119148126087993,
           -0.42439667458387553,
           -0.41636955171634527,
           -0.024735375954135143,
           -0.4529842027949355,
           -0.43633660780089634,
           -0.45569106756422667,
           -0.5121222231463803,
           -0.5972959525070655,
           -0.5315792214746982,
           -0.5875267735206143,
           -0.602291662485407,
           -0.4881511094305097,
           -0.45656526864653746,
           -0.5305533631697075,
           -0.5158282182491036,
           -0.4914969230698724,
           -0.4585528410657066,
           -0.4671320974956212
          ],
          [
           -0.0012432027710923687,
           -0.4185780216398114,
           -0.48145158410007177,
           -0.46854518488192276,
           -0.42479487120906445,
           -0.5109443258313084,
           -0.46584178379009905,
           -0.4512954005215037,
           -0.41650678191874313,
           -0.33281113463079487,
           -0.2808996119192475,
           -0.3235079761187898,
           -0.40912160786622864,
           -0.305223434314692,
           -0.4114714644514551,
           -0.480374286463506,
           -0.41447792916967385,
           -0.39790860313530657,
           -0.0034286866392318175,
           -0.42297698421316293,
           -0.40902075295109525,
           -0.4434931396518546,
           -0.447969664745373,
           -0.5286113261523286,
           -0.46923190844278917,
           -0.5023507736175354,
           -0.5713530725922554,
           -0.4462904229430428,
           -0.4111497008811835,
           -0.49831459928671185,
           -0.4890181165990968,
           -0.4556581529333734,
           -0.43575071535108806,
           -0.43642839685703433
          ],
          [
           -0.10848597075503918,
           -0.5385323300195665,
           -0.6250095982644709,
           -0.6406270030545478,
           -0.5742264470611431,
           -0.6775511187254595,
           -0.6340450502761079,
           -0.6210802031094748,
           -0.5861259271230184,
           -0.47288535966673256,
           -0.4275116472539742,
           -0.4927948099377304,
           -0.5748599714080732,
           -0.46014186663837586,
           -0.5323096091382347,
           -0.610828717517775,
           -0.5366660359030782,
           -0.5310983697365812,
           -0.09184480958288782,
           -0.544296509290974,
           -0.5363296954932666,
           -0.5451177807455521,
           -0.5758640801097699,
           -0.6691817484222488,
           -0.5970403648746495,
           -0.6474067765930883,
           -0.6908556700962278,
           -0.6933192957501276,
           -0.5426302291505913,
           -0.6265704014066901,
           -0.6181222399379575,
           -0.5675314688594502,
           -0.540342326247795,
           -0.5597888815360583
          ],
          [
           -0.061220605549875816,
           -0.47395442307384694,
           -0.5898333804929139,
           -0.5990068976260496,
           -0.5411432798809416,
           -0.6292453456393033,
           -0.5980660387722682,
           -0.5676241400689848,
           -0.5394381691714978,
           -0.4336289724619258,
           -0.40325900489816935,
           -0.4401744397117496,
           -0.5316672041165481,
           -0.41980218639724665,
           -0.5806338519473438,
           -0.6918048177484711,
           -0.5022608653029659,
           -0.5315200828911507,
           -0.06388866197508503,
           -0.5881195773480221,
           -0.44317189978720883,
           -0.46174617958814446,
           -0.4862269862457317,
           -0.5315696608351642,
           -0.5167716795413845,
           -0.5036319666698698,
           -0.5461900359593576,
           -0.4828312077020835,
           -0.6507155411657877,
           -0.6869062399990368,
           -0.691735402652608,
           -0.6379181221968651,
           -0.6275649081194506,
           -0.6119003566927492
          ],
          [
           -0.10722695954233902,
           -0.5329173007227431,
           -0.6522756662457057,
           -0.6505083061813668,
           -0.5935175708289441,
           -0.6852552451493865,
           -0.650738176338371,
           -0.6285889027299858,
           -0.6004941350734793,
           -0.4618298670845193,
           -0.4555745296930593,
           -0.49852833777676747,
           -0.5977635330103926,
           -0.4575018506341775,
           -0.5780614407986225,
           -0.6913398394324658,
           -0.5375120932706479,
           -0.5529981535573817,
           -0.09360611052862805,
           -0.616816644066528,
           -0.49679786622123134,
           -0.5094281504791756,
           -0.5086004694547114,
           -0.5818344499462301,
           -0.5650959865604314,
           -0.5548188455088243,
           -0.5933424950442819,
           -0.5225777777257377,
           -0.6611380518791196,
           -0.7910801322606918,
           -0.7794887017894812,
           -0.725893721172262,
           -0.7245384410545512,
           -0.6724692086658742
          ],
          [
           -0.0866124159218078,
           -0.5023652443005127,
           -0.6019862315232802,
           -0.6058495272547665,
           -0.5515745978945146,
           -0.6246754966752622,
           -0.6045079765628946,
           -0.5847482132231938,
           -0.5535174834603916,
           -0.43646871338959287,
           -0.40779774523891565,
           -0.4530203639742757,
           -0.5433858892566727,
           -0.43064261561827955,
           -0.566149904052154,
           -0.6734466074603634,
           -0.5136013571556268,
           -0.5428583046404994,
           -0.07203633176481879,
           -0.5970024187872384,
           -0.4677971518600616,
           -0.49075512800553533,
           -0.4706526685878141,
           -0.5316835597775472,
           -0.5155101974959021,
           -0.49896876384952477,
           -0.5471652200345976,
           -0.46947877356963513,
           -0.6142992502587983,
           -0.7262411200396257,
           -0.7483290747868722,
           -0.6707092274621406,
           -0.6898311235337985,
           -0.6449218634157157
          ],
          [
           -0.0941315219584161,
           -0.4849018846149142,
           -0.5880644214397461,
           -0.5973241797039708,
           -0.5424890541869875,
           -0.6195763905231352,
           -0.5960661669700645,
           -0.5696160080766779,
           -0.5360619700595347,
           -0.4506524077001686,
           -0.39508442541232325,
           -0.42963919280676327,
           -0.5298087317893561,
           -0.41715845762556586,
           -0.5474100931726773,
           -0.6571123191313313,
           -0.4903225588829913,
           -0.5134429023450531,
           -0.07399421403568492,
           -0.5628874386217633,
           -0.4693222844395805,
           -0.48007137742759787,
           -0.47669191215274137,
           -0.5253953925976371,
           -0.5063869381135961,
           -0.5063214853081831,
           -0.5521868484009247,
           -0.47488190303174993,
           -0.6180468215155406,
           -0.7109537375055128,
           -0.7188325729879371,
           -0.6799040108376146,
           -0.6809200239638915,
           -0.6146886842146956
          ],
          [
           -0.14407464939993475,
           -0.5736902163829916,
           -0.6697696951513993,
           -0.6792264300369932,
           -0.621675586666467,
           -0.6991167807292452,
           -0.6749032236259467,
           -0.6518257407690639,
           -0.6110622646407083,
           -0.5068235986954719,
           -0.46480273278697376,
           -0.5044302025034249,
           -0.6072472120002607,
           -0.4779368920414583,
           -0.6270299079495922,
           -0.7476865494247911,
           -0.5720805172571385,
           -0.5909306653201923,
           -0.10990168466933263,
           -0.67277554160238,
           -0.5535768183063838,
           -0.563495282139825,
           -0.5510927274582329,
           -0.6169526352688031,
           -0.6053884822415736,
           -0.5854648155956952,
           -0.629038229179887,
           -0.5580030973630495,
           -0.7063568724135552,
           -0.8018877173161367,
           -0.8062978960707832,
           -0.7472649833253685,
           -0.7716531504170198,
           -0.7251052346495855
          ],
          [
           -0.135817615412988,
           -0.4988380990855202,
           -0.6158239421165705,
           -0.6239012084254,
           -0.5615528693328476,
           -0.6413335505462121,
           -0.6215800644263445,
           -0.6021021001488864,
           -0.5689648058797618,
           -0.4317772738731568,
           -0.4096018076949523,
           -0.4799932907217062,
           -0.5591088241051836,
           -0.437116706999144,
           -0.5843881950653472,
           -0.7172154445297928,
           -0.5268794200609472,
           -0.559587145921762,
           -0.07625558433206166,
           -0.6678150215909933,
           -0.4726558666902383,
           -0.47700410466973825,
           -0.5049783882486225,
           -0.5536858570138637,
           -0.5376728527275685,
           -0.530383896199944,
           -0.5601253877692816,
           -0.5038090547142509,
           -0.6457264126449923,
           -0.7207369985468436,
           -0.7324651847599826,
           -0.6634172401887576,
           -0.6972868982710004,
           -0.6973940502454837
          ]
         ]
        },
        {
         "hovertemplate": "%{y} -> %{x}",
         "marker": {
          "color": [
           "green",
           "green",
           "green",
           "green",
           "green",
           "green",
           "green",
           "green",
           "green",
           "green",
           "green",
           "green",
           "green",
           "green",
           "green",
           "green",
           "green",
           "green",
           "green",
           "green",
           "green",
           "green",
           "green",
           "green",
           "green",
           "green",
           "green",
           "green",
           "green",
           "green",
           "green",
           "green",
           "green",
           "green"
          ],
          "size": 5
         },
         "mode": "markers",
         "name": "",
         "type": "scatter",
         "x": [
          "Astrocyte",
          "Chandelier",
          "Exc L2/3 IT",
          "Exc L3/5 IT",
          "Exc L4/5 IT",
          "Exc L5 PT",
          "Exc L5/6 IT 1",
          "Exc L5/6 IT 2",
          "Exc L5/6 IT 3",
          "Exc L5/6 NP",
          "Exc L6 CT",
          "Exc L6 IT 1",
          "Exc L6 IT 2",
          "Exc L6b",
          "Lamp5 1",
          "Lamp5 2",
          "Lamp5 Lhx6",
          "Lamp5 Rosehip",
          "Oligo",
          "Pax6",
          "Pvalb 1",
          "Pvalb 2",
          "Sst 1",
          "Sst 2",
          "Sst 3",
          "Sst 4",
          "Sst 5",
          "Sst Chodl",
          "Vip 1",
          "Vip 2",
          "Vip 3",
          "Vip 4",
          "Vip 5",
          "Vip Sncg"
         ],
         "y": [
          "Astrocyte",
          "Chandelier",
          "Exc L2/3 IT",
          "Exc L3/5 IT",
          "Exc L4/5 IT",
          "Exc L5 PT",
          "Exc L5/6 IT 1",
          "Exc L5/6 IT 2",
          "Exc L5/6 IT 3",
          "Exc L5/6 NP",
          "Exc L6 CT",
          "Exc L6 IT 1",
          "Exc L6 IT 2",
          "Exc L6b",
          "Lamp5 1",
          "Lamp5 2",
          "Lamp5 Lhx6",
          "Lamp5 Rosehip",
          "Oligo",
          "Pax6",
          "Pvalb 1",
          "Pvalb 2",
          "Sst 1",
          "Sst 2",
          "Sst 3",
          "Sst 4",
          "Sst 5",
          "Sst Chodl",
          "Vip 1",
          "Vip 2",
          "Vip 3",
          "Vip 4",
          "Vip 5",
          "Vip Sncg"
         ]
        }
       ],
       "layout": {
        "coloraxis": {
         "colorbar": {
          "title": {
           "text": "cost"
          }
         },
         "colorscale": [
          [
           0,
           "rgb(75, 41, 145)"
          ],
          [
           0.16666666666666666,
           "rgb(135, 44, 162)"
          ],
          [
           0.3333333333333333,
           "rgb(192, 54, 157)"
          ],
          [
           0.5,
           "rgb(234, 79, 136)"
          ],
          [
           0.6666666666666666,
           "rgb(250, 120, 118)"
          ],
          [
           0.8333333333333334,
           "rgb(246, 169, 122)"
          ],
          [
           1,
           "rgb(237, 217, 163)"
          ]
         ]
        },
        "height": 800,
        "template": {
         "data": {
          "bar": [
           {
            "error_x": {
             "color": "#2a3f5f"
            },
            "error_y": {
             "color": "#2a3f5f"
            },
            "marker": {
             "line": {
              "color": "#E5ECF6",
              "width": 0.5
             },
             "pattern": {
              "fillmode": "overlay",
              "size": 10,
              "solidity": 0.2
             }
            },
            "type": "bar"
           }
          ],
          "barpolar": [
           {
            "marker": {
             "line": {
              "color": "#E5ECF6",
              "width": 0.5
             },
             "pattern": {
              "fillmode": "overlay",
              "size": 10,
              "solidity": 0.2
             }
            },
            "type": "barpolar"
           }
          ],
          "carpet": [
           {
            "aaxis": {
             "endlinecolor": "#2a3f5f",
             "gridcolor": "white",
             "linecolor": "white",
             "minorgridcolor": "white",
             "startlinecolor": "#2a3f5f"
            },
            "baxis": {
             "endlinecolor": "#2a3f5f",
             "gridcolor": "white",
             "linecolor": "white",
             "minorgridcolor": "white",
             "startlinecolor": "#2a3f5f"
            },
            "type": "carpet"
           }
          ],
          "choropleth": [
           {
            "colorbar": {
             "outlinewidth": 0,
             "ticks": ""
            },
            "type": "choropleth"
           }
          ],
          "contour": [
           {
            "colorbar": {
             "outlinewidth": 0,
             "ticks": ""
            },
            "colorscale": [
             [
              0,
              "#0d0887"
             ],
             [
              0.1111111111111111,
              "#46039f"
             ],
             [
              0.2222222222222222,
              "#7201a8"
             ],
             [
              0.3333333333333333,
              "#9c179e"
             ],
             [
              0.4444444444444444,
              "#bd3786"
             ],
             [
              0.5555555555555556,
              "#d8576b"
             ],
             [
              0.6666666666666666,
              "#ed7953"
             ],
             [
              0.7777777777777778,
              "#fb9f3a"
             ],
             [
              0.8888888888888888,
              "#fdca26"
             ],
             [
              1,
              "#f0f921"
             ]
            ],
            "type": "contour"
           }
          ],
          "contourcarpet": [
           {
            "colorbar": {
             "outlinewidth": 0,
             "ticks": ""
            },
            "type": "contourcarpet"
           }
          ],
          "heatmap": [
           {
            "colorbar": {
             "outlinewidth": 0,
             "ticks": ""
            },
            "colorscale": [
             [
              0,
              "#0d0887"
             ],
             [
              0.1111111111111111,
              "#46039f"
             ],
             [
              0.2222222222222222,
              "#7201a8"
             ],
             [
              0.3333333333333333,
              "#9c179e"
             ],
             [
              0.4444444444444444,
              "#bd3786"
             ],
             [
              0.5555555555555556,
              "#d8576b"
             ],
             [
              0.6666666666666666,
              "#ed7953"
             ],
             [
              0.7777777777777778,
              "#fb9f3a"
             ],
             [
              0.8888888888888888,
              "#fdca26"
             ],
             [
              1,
              "#f0f921"
             ]
            ],
            "type": "heatmap"
           }
          ],
          "heatmapgl": [
           {
            "colorbar": {
             "outlinewidth": 0,
             "ticks": ""
            },
            "colorscale": [
             [
              0,
              "#0d0887"
             ],
             [
              0.1111111111111111,
              "#46039f"
             ],
             [
              0.2222222222222222,
              "#7201a8"
             ],
             [
              0.3333333333333333,
              "#9c179e"
             ],
             [
              0.4444444444444444,
              "#bd3786"
             ],
             [
              0.5555555555555556,
              "#d8576b"
             ],
             [
              0.6666666666666666,
              "#ed7953"
             ],
             [
              0.7777777777777778,
              "#fb9f3a"
             ],
             [
              0.8888888888888888,
              "#fdca26"
             ],
             [
              1,
              "#f0f921"
             ]
            ],
            "type": "heatmapgl"
           }
          ],
          "histogram": [
           {
            "marker": {
             "pattern": {
              "fillmode": "overlay",
              "size": 10,
              "solidity": 0.2
             }
            },
            "type": "histogram"
           }
          ],
          "histogram2d": [
           {
            "colorbar": {
             "outlinewidth": 0,
             "ticks": ""
            },
            "colorscale": [
             [
              0,
              "#0d0887"
             ],
             [
              0.1111111111111111,
              "#46039f"
             ],
             [
              0.2222222222222222,
              "#7201a8"
             ],
             [
              0.3333333333333333,
              "#9c179e"
             ],
             [
              0.4444444444444444,
              "#bd3786"
             ],
             [
              0.5555555555555556,
              "#d8576b"
             ],
             [
              0.6666666666666666,
              "#ed7953"
             ],
             [
              0.7777777777777778,
              "#fb9f3a"
             ],
             [
              0.8888888888888888,
              "#fdca26"
             ],
             [
              1,
              "#f0f921"
             ]
            ],
            "type": "histogram2d"
           }
          ],
          "histogram2dcontour": [
           {
            "colorbar": {
             "outlinewidth": 0,
             "ticks": ""
            },
            "colorscale": [
             [
              0,
              "#0d0887"
             ],
             [
              0.1111111111111111,
              "#46039f"
             ],
             [
              0.2222222222222222,
              "#7201a8"
             ],
             [
              0.3333333333333333,
              "#9c179e"
             ],
             [
              0.4444444444444444,
              "#bd3786"
             ],
             [
              0.5555555555555556,
              "#d8576b"
             ],
             [
              0.6666666666666666,
              "#ed7953"
             ],
             [
              0.7777777777777778,
              "#fb9f3a"
             ],
             [
              0.8888888888888888,
              "#fdca26"
             ],
             [
              1,
              "#f0f921"
             ]
            ],
            "type": "histogram2dcontour"
           }
          ],
          "mesh3d": [
           {
            "colorbar": {
             "outlinewidth": 0,
             "ticks": ""
            },
            "type": "mesh3d"
           }
          ],
          "parcoords": [
           {
            "line": {
             "colorbar": {
              "outlinewidth": 0,
              "ticks": ""
             }
            },
            "type": "parcoords"
           }
          ],
          "pie": [
           {
            "automargin": true,
            "type": "pie"
           }
          ],
          "scatter": [
           {
            "fillpattern": {
             "fillmode": "overlay",
             "size": 10,
             "solidity": 0.2
            },
            "type": "scatter"
           }
          ],
          "scatter3d": [
           {
            "line": {
             "colorbar": {
              "outlinewidth": 0,
              "ticks": ""
             }
            },
            "marker": {
             "colorbar": {
              "outlinewidth": 0,
              "ticks": ""
             }
            },
            "type": "scatter3d"
           }
          ],
          "scattercarpet": [
           {
            "marker": {
             "colorbar": {
              "outlinewidth": 0,
              "ticks": ""
             }
            },
            "type": "scattercarpet"
           }
          ],
          "scattergeo": [
           {
            "marker": {
             "colorbar": {
              "outlinewidth": 0,
              "ticks": ""
             }
            },
            "type": "scattergeo"
           }
          ],
          "scattergl": [
           {
            "marker": {
             "colorbar": {
              "outlinewidth": 0,
              "ticks": ""
             }
            },
            "type": "scattergl"
           }
          ],
          "scattermapbox": [
           {
            "marker": {
             "colorbar": {
              "outlinewidth": 0,
              "ticks": ""
             }
            },
            "type": "scattermapbox"
           }
          ],
          "scatterpolar": [
           {
            "marker": {
             "colorbar": {
              "outlinewidth": 0,
              "ticks": ""
             }
            },
            "type": "scatterpolar"
           }
          ],
          "scatterpolargl": [
           {
            "marker": {
             "colorbar": {
              "outlinewidth": 0,
              "ticks": ""
             }
            },
            "type": "scatterpolargl"
           }
          ],
          "scatterternary": [
           {
            "marker": {
             "colorbar": {
              "outlinewidth": 0,
              "ticks": ""
             }
            },
            "type": "scatterternary"
           }
          ],
          "surface": [
           {
            "colorbar": {
             "outlinewidth": 0,
             "ticks": ""
            },
            "colorscale": [
             [
              0,
              "#0d0887"
             ],
             [
              0.1111111111111111,
              "#46039f"
             ],
             [
              0.2222222222222222,
              "#7201a8"
             ],
             [
              0.3333333333333333,
              "#9c179e"
             ],
             [
              0.4444444444444444,
              "#bd3786"
             ],
             [
              0.5555555555555556,
              "#d8576b"
             ],
             [
              0.6666666666666666,
              "#ed7953"
             ],
             [
              0.7777777777777778,
              "#fb9f3a"
             ],
             [
              0.8888888888888888,
              "#fdca26"
             ],
             [
              1,
              "#f0f921"
             ]
            ],
            "type": "surface"
           }
          ],
          "table": [
           {
            "cells": {
             "fill": {
              "color": "#EBF0F8"
             },
             "line": {
              "color": "white"
             }
            },
            "header": {
             "fill": {
              "color": "#C8D4E3"
             },
             "line": {
              "color": "white"
             }
            },
            "type": "table"
           }
          ]
         },
         "layout": {
          "annotationdefaults": {
           "arrowcolor": "#2a3f5f",
           "arrowhead": 0,
           "arrowwidth": 1
          },
          "autotypenumbers": "strict",
          "coloraxis": {
           "colorbar": {
            "outlinewidth": 0,
            "ticks": ""
           }
          },
          "colorscale": {
           "diverging": [
            [
             0,
             "#8e0152"
            ],
            [
             0.1,
             "#c51b7d"
            ],
            [
             0.2,
             "#de77ae"
            ],
            [
             0.3,
             "#f1b6da"
            ],
            [
             0.4,
             "#fde0ef"
            ],
            [
             0.5,
             "#f7f7f7"
            ],
            [
             0.6,
             "#e6f5d0"
            ],
            [
             0.7,
             "#b8e186"
            ],
            [
             0.8,
             "#7fbc41"
            ],
            [
             0.9,
             "#4d9221"
            ],
            [
             1,
             "#276419"
            ]
           ],
           "sequential": [
            [
             0,
             "#0d0887"
            ],
            [
             0.1111111111111111,
             "#46039f"
            ],
            [
             0.2222222222222222,
             "#7201a8"
            ],
            [
             0.3333333333333333,
             "#9c179e"
            ],
            [
             0.4444444444444444,
             "#bd3786"
            ],
            [
             0.5555555555555556,
             "#d8576b"
            ],
            [
             0.6666666666666666,
             "#ed7953"
            ],
            [
             0.7777777777777778,
             "#fb9f3a"
            ],
            [
             0.8888888888888888,
             "#fdca26"
            ],
            [
             1,
             "#f0f921"
            ]
           ],
           "sequentialminus": [
            [
             0,
             "#0d0887"
            ],
            [
             0.1111111111111111,
             "#46039f"
            ],
            [
             0.2222222222222222,
             "#7201a8"
            ],
            [
             0.3333333333333333,
             "#9c179e"
            ],
            [
             0.4444444444444444,
             "#bd3786"
            ],
            [
             0.5555555555555556,
             "#d8576b"
            ],
            [
             0.6666666666666666,
             "#ed7953"
            ],
            [
             0.7777777777777778,
             "#fb9f3a"
            ],
            [
             0.8888888888888888,
             "#fdca26"
            ],
            [
             1,
             "#f0f921"
            ]
           ]
          },
          "colorway": [
           "#636efa",
           "#EF553B",
           "#00cc96",
           "#ab63fa",
           "#FFA15A",
           "#19d3f3",
           "#FF6692",
           "#B6E880",
           "#FF97FF",
           "#FECB52"
          ],
          "font": {
           "color": "#2a3f5f"
          },
          "geo": {
           "bgcolor": "white",
           "lakecolor": "white",
           "landcolor": "#E5ECF6",
           "showlakes": true,
           "showland": true,
           "subunitcolor": "white"
          },
          "hoverlabel": {
           "align": "left"
          },
          "hovermode": "closest",
          "mapbox": {
           "style": "light"
          },
          "paper_bgcolor": "white",
          "plot_bgcolor": "#E5ECF6",
          "polar": {
           "angularaxis": {
            "gridcolor": "white",
            "linecolor": "white",
            "ticks": ""
           },
           "bgcolor": "#E5ECF6",
           "radialaxis": {
            "gridcolor": "white",
            "linecolor": "white",
            "ticks": ""
           }
          },
          "scene": {
           "xaxis": {
            "backgroundcolor": "#E5ECF6",
            "gridcolor": "white",
            "gridwidth": 2,
            "linecolor": "white",
            "showbackground": true,
            "ticks": "",
            "zerolinecolor": "white"
           },
           "yaxis": {
            "backgroundcolor": "#E5ECF6",
            "gridcolor": "white",
            "gridwidth": 2,
            "linecolor": "white",
            "showbackground": true,
            "ticks": "",
            "zerolinecolor": "white"
           },
           "zaxis": {
            "backgroundcolor": "#E5ECF6",
            "gridcolor": "white",
            "gridwidth": 2,
            "linecolor": "white",
            "showbackground": true,
            "ticks": "",
            "zerolinecolor": "white"
           }
          },
          "shapedefaults": {
           "line": {
            "color": "#2a3f5f"
           }
          },
          "ternary": {
           "aaxis": {
            "gridcolor": "white",
            "linecolor": "white",
            "ticks": ""
           },
           "baxis": {
            "gridcolor": "white",
            "linecolor": "white",
            "ticks": ""
           },
           "bgcolor": "#E5ECF6",
           "caxis": {
            "gridcolor": "white",
            "linecolor": "white",
            "ticks": ""
           }
          },
          "title": {
           "x": 0.05
          },
          "xaxis": {
           "automargin": true,
           "gridcolor": "white",
           "linecolor": "white",
           "ticks": "",
           "title": {
            "standoff": 15
           },
           "zerolinecolor": "white",
           "zerolinewidth": 2
          },
          "yaxis": {
           "automargin": true,
           "gridcolor": "white",
           "linecolor": "white",
           "ticks": "",
           "title": {
            "standoff": 15
           },
           "zerolinecolor": "white",
           "zerolinewidth": 2
          }
         }
        },
        "title": {
         "text": "MTG to ALM matching cost"
        },
        "width": 800,
        "xaxis": {
         "anchor": "y",
         "constrain": "domain",
         "domain": [
          0,
          1
         ],
         "dtick": 1,
         "scaleanchor": "y",
         "tickangle": -90,
         "title": {
          "text": "Reference: ALM"
         }
        },
        "yaxis": {
         "anchor": "x",
         "autorange": "reversed",
         "constrain": "domain",
         "domain": [
          0,
          1
         ],
         "dtick": 1,
         "title": {
          "text": "Query: MTG"
         }
        }
       }
      }
     },
     "metadata": {},
     "output_type": "display_data"
    }
   ],
   "source": [
    "m.display_matching_costs('labels34', show_all_labels=True, width=800, height=800)"
   ]
  },
  {
   "cell_type": "code",
   "execution_count": 5,
   "metadata": {},
   "outputs": [
    {
     "data": {
      "text/html": [
       "<div>\n",
       "<style scoped>\n",
       "    .dataframe tbody tr th:only-of-type {\n",
       "        vertical-align: middle;\n",
       "    }\n",
       "\n",
       "    .dataframe tbody tr th {\n",
       "        vertical-align: top;\n",
       "    }\n",
       "\n",
       "    .dataframe thead th {\n",
       "        text-align: right;\n",
       "    }\n",
       "</style>\n",
       "<table border=\"1\" class=\"dataframe\">\n",
       "  <thead>\n",
       "    <tr style=\"text-align: right;\">\n",
       "      <th></th>\n",
       "      <th>labels3</th>\n",
       "      <th>labels34</th>\n",
       "      <th>refcm_clusters</th>\n",
       "      <th>refcm_annot</th>\n",
       "    </tr>\n",
       "  </thead>\n",
       "  <tbody>\n",
       "    <tr>\n",
       "      <th>F1S4_160106_001_B01</th>\n",
       "      <td>Inhibitory</td>\n",
       "      <td>Sst 1</td>\n",
       "      <td>22</td>\n",
       "      <td>Sst 1</td>\n",
       "    </tr>\n",
       "    <tr>\n",
       "      <th>F1S4_160106_001_C01</th>\n",
       "      <td>Excitatory</td>\n",
       "      <td>Exc L5/6 IT 3</td>\n",
       "      <td>8</td>\n",
       "      <td>Exc L5/6 IT 3</td>\n",
       "    </tr>\n",
       "    <tr>\n",
       "      <th>F1S4_160106_001_E01</th>\n",
       "      <td>Excitatory</td>\n",
       "      <td>Exc L6 CT</td>\n",
       "      <td>10</td>\n",
       "      <td>Exc L6 CT</td>\n",
       "    </tr>\n",
       "    <tr>\n",
       "      <th>F1S4_160106_001_G01</th>\n",
       "      <td>Excitatory</td>\n",
       "      <td>Exc L6b</td>\n",
       "      <td>13</td>\n",
       "      <td>Exc L6b</td>\n",
       "    </tr>\n",
       "    <tr>\n",
       "      <th>F1S4_160106_001_H01</th>\n",
       "      <td>Excitatory</td>\n",
       "      <td>Exc L4/5 IT</td>\n",
       "      <td>4</td>\n",
       "      <td>Exc L4/5 IT</td>\n",
       "    </tr>\n",
       "    <tr>\n",
       "      <th>...</th>\n",
       "      <td>...</td>\n",
       "      <td>...</td>\n",
       "      <td>...</td>\n",
       "      <td>...</td>\n",
       "    </tr>\n",
       "    <tr>\n",
       "      <th>F2S4_170405_060_A01</th>\n",
       "      <td>Excitatory</td>\n",
       "      <td>Exc L6 IT 1</td>\n",
       "      <td>11</td>\n",
       "      <td>Exc L6 IT 1</td>\n",
       "    </tr>\n",
       "    <tr>\n",
       "      <th>F2S4_170405_060_B01</th>\n",
       "      <td>Excitatory</td>\n",
       "      <td>Exc L6 CT</td>\n",
       "      <td>10</td>\n",
       "      <td>Exc L6 CT</td>\n",
       "    </tr>\n",
       "    <tr>\n",
       "      <th>F2S4_170405_060_C01</th>\n",
       "      <td>Excitatory</td>\n",
       "      <td>Exc L6 IT 2</td>\n",
       "      <td>12</td>\n",
       "      <td>Exc L6 IT 2</td>\n",
       "    </tr>\n",
       "    <tr>\n",
       "      <th>F2S4_170405_060_E01</th>\n",
       "      <td>Excitatory</td>\n",
       "      <td>Exc L5/6 NP</td>\n",
       "      <td>9</td>\n",
       "      <td>Exc L5/6 NP</td>\n",
       "    </tr>\n",
       "    <tr>\n",
       "      <th>F2S4_170405_060_H01</th>\n",
       "      <td>Inhibitory</td>\n",
       "      <td>Pvalb 1</td>\n",
       "      <td>20</td>\n",
       "      <td>Pvalb 1</td>\n",
       "    </tr>\n",
       "  </tbody>\n",
       "</table>\n",
       "<p>14055 rows × 4 columns</p>\n",
       "</div>"
      ],
      "text/plain": [
       "                        labels3       labels34  refcm_clusters    refcm_annot\n",
       "F1S4_160106_001_B01  Inhibitory          Sst 1              22          Sst 1\n",
       "F1S4_160106_001_C01  Excitatory  Exc L5/6 IT 3               8  Exc L5/6 IT 3\n",
       "F1S4_160106_001_E01  Excitatory      Exc L6 CT              10      Exc L6 CT\n",
       "F1S4_160106_001_G01  Excitatory        Exc L6b              13        Exc L6b\n",
       "F1S4_160106_001_H01  Excitatory    Exc L4/5 IT               4    Exc L4/5 IT\n",
       "...                         ...            ...             ...            ...\n",
       "F2S4_170405_060_A01  Excitatory    Exc L6 IT 1              11    Exc L6 IT 1\n",
       "F2S4_170405_060_B01  Excitatory      Exc L6 CT              10      Exc L6 CT\n",
       "F2S4_170405_060_C01  Excitatory    Exc L6 IT 2              12    Exc L6 IT 2\n",
       "F2S4_170405_060_E01  Excitatory    Exc L5/6 NP               9    Exc L5/6 NP\n",
       "F2S4_170405_060_H01  Inhibitory        Pvalb 1              20        Pvalb 1\n",
       "\n",
       "[14055 rows x 4 columns]"
      ]
     },
     "execution_count": 5,
     "metadata": {},
     "output_type": "execute_result"
    }
   ],
   "source": [
    "ds[q].obs"
   ]
  },
  {
   "cell_type": "code",
   "execution_count": 23,
   "metadata": {},
   "outputs": [],
   "source": [
    "x_qc = ds[q][ds[q].obs['labels34'] == 'Sst 1'].X\n",
    "x_rc = ds[ref][ds[ref].obs['labels34'] == 'Sst 1'].X"
   ]
  },
  {
   "cell_type": "code",
   "execution_count": 73,
   "metadata": {},
   "outputs": [
    {
     "data": {
      "text/plain": [
       "array([[59909.19050743, 56357.54638598, 52861.26636036, ...,\n",
       "        61214.78589675, 62135.52360843, 62075.6845127 ],\n",
       "       [67211.92684129, 63463.76467347, 60927.44072739, ...,\n",
       "        67983.56214984, 68538.19934368, 68490.28972909],\n",
       "       [90120.8554905 , 85935.18254654, 82238.57715996, ...,\n",
       "        91429.04553188, 92395.87295139, 92111.88221149],\n",
       "       ...,\n",
       "       [53138.74682112, 51214.56015132, 47497.87477183, ...,\n",
       "        56756.65536079, 57870.05302754, 57168.47178404],\n",
       "       [62435.16385963, 60938.99204681, 57158.60263075, ...,\n",
       "        65852.23984812, 66471.62188793, 65906.88750941],\n",
       "       [87827.94473116, 83447.58410701, 79276.44160075, ...,\n",
       "        87818.80049358, 88217.90147435, 88358.94445056]])"
      ]
     },
     "execution_count": 73,
     "metadata": {},
     "output_type": "execute_result"
    }
   ],
   "source": [
    "pairwise_distances(x_qc, x_rc, 'minkowski')"
   ]
  },
  {
   "cell_type": "code",
   "execution_count": 70,
   "metadata": {},
   "outputs": [
    {
     "data": {
      "text/plain": [
       "array([[0.27448392, 0.4381256 , 0.5240184 , ..., 0.32948738, 0.31564957,\n",
       "        0.30325562],\n",
       "       [0.2888411 , 0.4324723 , 0.495603  , ..., 0.3288856 , 0.32230005,\n",
       "        0.31314394],\n",
       "       [0.13322608, 0.31570604, 0.412918  , ..., 0.18174323, 0.16464649,\n",
       "        0.16035235],\n",
       "       ...,\n",
       "       [0.2333373 , 0.39687553, 0.49045992, ..., 0.27253112, 0.2565909 ,\n",
       "        0.2553947 ],\n",
       "       [0.18037313, 0.324394  , 0.42278203, ..., 0.21361275, 0.20980869,\n",
       "        0.20703687],\n",
       "       [0.22946192, 0.3800401 , 0.48740515, ..., 0.273969  , 0.269046  ,\n",
       "        0.25815186]], dtype=float32)"
      ]
     },
     "execution_count": 70,
     "metadata": {},
     "output_type": "execute_result"
    }
   ],
   "source": [
    "(x_qc @ x_rc.T) / (norm(x_qc, axis=1).reshape(-1, 1) @ norm(x_rc, axis=1).reshape(1, -1))"
   ]
  },
  {
   "cell_type": "code",
   "execution_count": 33,
   "metadata": {},
   "outputs": [
    {
     "name": "stderr",
     "output_type": "stream",
     "text": [
      "[refcm           ] [INFO    ] : NOTE: raw counts expected in anndata .X attributes.\n",
      "[refcm           ] [DEBUG   ] : Loading cached mapping costs from cache.json.\n"
     ]
    }
   ],
   "source": [
    "q, ref = 'MTG', 'ALM'\n",
    "\n",
    "rcm = RefCM(cache_load=False, cache_save=False, discovery_threshold=None)\n",
    "m = rcm.annotate(ds[q], q, ds[ref], ref, 'labels34', 'labels34')\n",
    "m.eval('labels34')\n",
    "m.display_matching_costs('labels34')"
   ]
  },
  {
   "cell_type": "code",
   "execution_count": 6,
   "metadata": {},
   "outputs": [
    {
     "name": "stderr",
     "output_type": "stream",
     "text": [
      "[refcm           ] [INFO    ] : NOTE: raw counts expected in anndata .X attributes.\n",
      "|████████████████| [100.00% ] : 00:38\n",
      "[matchings       ] [INFO    ] : mapped MTG                  to ALM                 \n",
      "[matchings       ] [INFO    ] : (34 common cell types)\n",
      "[matchings       ] [INFO    ] : 34/34 correct mappings\n",
      "[matchings       ] [INFO    ] : 0 /34 incorrect mappings\n",
      "|████████████████| [100.00% ] : 00:43\n",
      "[matchings       ] [INFO    ] : mapped MTG                  to VISp                \n",
      "[matchings       ] [INFO    ] : (34 common cell types)\n",
      "[matchings       ] [INFO    ] : 34/34 correct mappings\n",
      "[matchings       ] [INFO    ] : 0 /34 incorrect mappings\n",
      "|████████████████| [100.00% ] : 00:36\n",
      "[matchings       ] [INFO    ] : mapped ALM                  to MTG                 \n",
      "[matchings       ] [INFO    ] : (34 common cell types)\n",
      "[matchings       ] [INFO    ] : 34/34 correct mappings\n",
      "[matchings       ] [INFO    ] : 0 /34 incorrect mappings\n",
      "|████████████████| [100.00% ] : 01:01\n",
      "[matchings       ] [INFO    ] : mapped ALM                  to VISp                \n",
      "[matchings       ] [INFO    ] : (34 common cell types)\n",
      "[matchings       ] [INFO    ] : 34/34 correct mappings\n",
      "[matchings       ] [INFO    ] : 0 /34 incorrect mappings\n",
      "|████████████████| [100.00% ] : 00:44\n",
      "[matchings       ] [INFO    ] : mapped VISp                 to MTG                 \n",
      "[matchings       ] [INFO    ] : (34 common cell types)\n",
      "[matchings       ] [INFO    ] : 34/34 correct mappings\n",
      "[matchings       ] [INFO    ] : 0 /34 incorrect mappings\n",
      "|████████████████| [100.00% ] : 01:25\n",
      "[matchings       ] [INFO    ] : mapped VISp                 to ALM                 \n",
      "[matchings       ] [INFO    ] : (34 common cell types)\n",
      "[matchings       ] [INFO    ] : 34/34 correct mappings\n",
      "[matchings       ] [INFO    ] : 0 /34 incorrect mappings\n"
     ]
    }
   ],
   "source": [
    "rcm = RefCM(discovery_threshold=0)\n",
    "\n",
    "for i, q_id in enumerate(ds):\n",
    "    for ref_id in [d for d in ds if d != q_id]:\n",
    "        m = rcm.annotate(ds[q_id], q_id, ds[ref_id], ref_id, 'labels34', 'labels34')\n",
    "        m.eval('labels34')"
   ]
  },
  {
   "cell_type": "code",
   "execution_count": null,
   "metadata": {},
   "outputs": [],
   "source": []
  }
 ],
 "metadata": {
  "kernelspec": {
   "display_name": "SCC",
   "language": "python",
   "name": "python3"
  },
  "language_info": {
   "codemirror_mode": {
    "name": "ipython",
    "version": 3
   },
   "file_extension": ".py",
   "mimetype": "text/x-python",
   "name": "python",
   "nbconvert_exporter": "python",
   "pygments_lexer": "ipython3",
   "version": "3.11.9"
  }
 },
 "nbformat": 4,
 "nbformat_minor": 4
}
