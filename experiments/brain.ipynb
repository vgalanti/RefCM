{
 "cells": [
  {
   "cell_type": "code",
   "execution_count": 1,
   "metadata": {},
   "outputs": [],
   "source": [
    "import sys\n",
    "sys.path.append('../src/')\n",
    "\n",
    "import config\n",
    "import logging\n",
    "import scanpy as sc\n",
    "from refcm import RefCM\n",
    "\n",
    "config.start_logging(logging.DEBUG)"
   ]
  },
  {
   "cell_type": "code",
   "execution_count": 2,
   "metadata": {},
   "outputs": [],
   "source": [
    "%load_ext autoreload\n",
    "%autoreload 2"
   ]
  },
  {
   "cell_type": "code",
   "execution_count": 3,
   "metadata": {},
   "outputs": [
    {
     "name": "stderr",
     "output_type": "stream",
     "text": [
      "[h5py._conv      ] [DEBUG   ] : Creating converter from 3 to 5\n"
     ]
    }
   ],
   "source": [
    "ds = ['MTG', 'ALM', 'VISp']\n",
    "ds = {s: sc.read_h5ad(f'../data/{s}.h5ad') for s in ds}"
   ]
  },
  {
   "cell_type": "code",
   "execution_count": 4,
   "metadata": {},
   "outputs": [
    {
     "data": {
      "text/html": [
       "<div>\n",
       "<style scoped>\n",
       "    .dataframe tbody tr th:only-of-type {\n",
       "        vertical-align: middle;\n",
       "    }\n",
       "\n",
       "    .dataframe tbody tr th {\n",
       "        vertical-align: top;\n",
       "    }\n",
       "\n",
       "    .dataframe thead th {\n",
       "        text-align: right;\n",
       "    }\n",
       "</style>\n",
       "<table border=\"1\" class=\"dataframe\">\n",
       "  <thead>\n",
       "    <tr style=\"text-align: right;\">\n",
       "      <th></th>\n",
       "      <th>X0610007P14Rik</th>\n",
       "      <th>X0610009O20Rik</th>\n",
       "      <th>X0610010F05Rik</th>\n",
       "      <th>X0610011F06Rik</th>\n",
       "      <th>X0610030E20Rik</th>\n",
       "      <th>X0610037L13Rik</th>\n",
       "      <th>X0610040J01Rik</th>\n",
       "      <th>X1110001J03Rik</th>\n",
       "      <th>X1110004E09Rik</th>\n",
       "      <th>X1110004F10Rik</th>\n",
       "      <th>...</th>\n",
       "      <th>Zwint</th>\n",
       "      <th>Zxdb</th>\n",
       "      <th>Zxdc</th>\n",
       "      <th>Zyg11a</th>\n",
       "      <th>Zyg11b</th>\n",
       "      <th>Zyx</th>\n",
       "      <th>Zzef1</th>\n",
       "      <th>Zzz3</th>\n",
       "      <th>a</th>\n",
       "      <th>l7Rn6</th>\n",
       "    </tr>\n",
       "  </thead>\n",
       "  <tbody>\n",
       "    <tr>\n",
       "      <th>F1S4_160106_001_B01</th>\n",
       "      <td>0.0</td>\n",
       "      <td>157.0</td>\n",
       "      <td>9.0</td>\n",
       "      <td>12.0</td>\n",
       "      <td>0.0</td>\n",
       "      <td>0.0</td>\n",
       "      <td>88.0</td>\n",
       "      <td>1.0</td>\n",
       "      <td>268.0</td>\n",
       "      <td>258.0</td>\n",
       "      <td>...</td>\n",
       "      <td>0.0</td>\n",
       "      <td>0.0</td>\n",
       "      <td>0.0</td>\n",
       "      <td>0.0</td>\n",
       "      <td>33.0</td>\n",
       "      <td>0.0</td>\n",
       "      <td>1.0</td>\n",
       "      <td>306.0</td>\n",
       "      <td>0.0</td>\n",
       "      <td>374.0</td>\n",
       "    </tr>\n",
       "    <tr>\n",
       "      <th>F1S4_160106_001_C01</th>\n",
       "      <td>107.0</td>\n",
       "      <td>80.0</td>\n",
       "      <td>85.0</td>\n",
       "      <td>0.0</td>\n",
       "      <td>0.0</td>\n",
       "      <td>245.0</td>\n",
       "      <td>1.0</td>\n",
       "      <td>0.0</td>\n",
       "      <td>327.0</td>\n",
       "      <td>521.0</td>\n",
       "      <td>...</td>\n",
       "      <td>0.0</td>\n",
       "      <td>17.0</td>\n",
       "      <td>35.0</td>\n",
       "      <td>0.0</td>\n",
       "      <td>258.0</td>\n",
       "      <td>0.0</td>\n",
       "      <td>8.0</td>\n",
       "      <td>341.0</td>\n",
       "      <td>0.0</td>\n",
       "      <td>189.0</td>\n",
       "    </tr>\n",
       "    <tr>\n",
       "      <th>F1S4_160106_001_E01</th>\n",
       "      <td>53.0</td>\n",
       "      <td>36.0</td>\n",
       "      <td>19.0</td>\n",
       "      <td>12.0</td>\n",
       "      <td>0.0</td>\n",
       "      <td>23.0</td>\n",
       "      <td>0.0</td>\n",
       "      <td>0.0</td>\n",
       "      <td>196.0</td>\n",
       "      <td>96.0</td>\n",
       "      <td>...</td>\n",
       "      <td>0.0</td>\n",
       "      <td>0.0</td>\n",
       "      <td>13.0</td>\n",
       "      <td>25.0</td>\n",
       "      <td>45.0</td>\n",
       "      <td>72.0</td>\n",
       "      <td>197.0</td>\n",
       "      <td>296.0</td>\n",
       "      <td>2.0</td>\n",
       "      <td>33.0</td>\n",
       "    </tr>\n",
       "    <tr>\n",
       "      <th>F1S4_160106_001_G01</th>\n",
       "      <td>2.0</td>\n",
       "      <td>1.0</td>\n",
       "      <td>344.0</td>\n",
       "      <td>31.0</td>\n",
       "      <td>0.0</td>\n",
       "      <td>82.0</td>\n",
       "      <td>0.0</td>\n",
       "      <td>36.0</td>\n",
       "      <td>45.0</td>\n",
       "      <td>66.0</td>\n",
       "      <td>...</td>\n",
       "      <td>0.0</td>\n",
       "      <td>0.0</td>\n",
       "      <td>82.0</td>\n",
       "      <td>0.0</td>\n",
       "      <td>181.0</td>\n",
       "      <td>0.0</td>\n",
       "      <td>58.0</td>\n",
       "      <td>206.0</td>\n",
       "      <td>28.0</td>\n",
       "      <td>97.0</td>\n",
       "    </tr>\n",
       "    <tr>\n",
       "      <th>F1S4_160106_001_H01</th>\n",
       "      <td>97.0</td>\n",
       "      <td>0.0</td>\n",
       "      <td>264.0</td>\n",
       "      <td>103.0</td>\n",
       "      <td>37.0</td>\n",
       "      <td>0.0</td>\n",
       "      <td>1.0</td>\n",
       "      <td>0.0</td>\n",
       "      <td>40.0</td>\n",
       "      <td>122.0</td>\n",
       "      <td>...</td>\n",
       "      <td>0.0</td>\n",
       "      <td>0.0</td>\n",
       "      <td>0.0</td>\n",
       "      <td>0.0</td>\n",
       "      <td>317.0</td>\n",
       "      <td>10.0</td>\n",
       "      <td>169.0</td>\n",
       "      <td>0.0</td>\n",
       "      <td>12.0</td>\n",
       "      <td>0.0</td>\n",
       "    </tr>\n",
       "    <tr>\n",
       "      <th>...</th>\n",
       "      <td>...</td>\n",
       "      <td>...</td>\n",
       "      <td>...</td>\n",
       "      <td>...</td>\n",
       "      <td>...</td>\n",
       "      <td>...</td>\n",
       "      <td>...</td>\n",
       "      <td>...</td>\n",
       "      <td>...</td>\n",
       "      <td>...</td>\n",
       "      <td>...</td>\n",
       "      <td>...</td>\n",
       "      <td>...</td>\n",
       "      <td>...</td>\n",
       "      <td>...</td>\n",
       "      <td>...</td>\n",
       "      <td>...</td>\n",
       "      <td>...</td>\n",
       "      <td>...</td>\n",
       "      <td>...</td>\n",
       "      <td>...</td>\n",
       "    </tr>\n",
       "    <tr>\n",
       "      <th>F2S4_170405_060_A01</th>\n",
       "      <td>46.0</td>\n",
       "      <td>34.0</td>\n",
       "      <td>232.0</td>\n",
       "      <td>51.0</td>\n",
       "      <td>0.0</td>\n",
       "      <td>41.0</td>\n",
       "      <td>0.0</td>\n",
       "      <td>0.0</td>\n",
       "      <td>0.0</td>\n",
       "      <td>209.0</td>\n",
       "      <td>...</td>\n",
       "      <td>0.0</td>\n",
       "      <td>0.0</td>\n",
       "      <td>49.0</td>\n",
       "      <td>0.0</td>\n",
       "      <td>160.0</td>\n",
       "      <td>51.0</td>\n",
       "      <td>46.0</td>\n",
       "      <td>352.0</td>\n",
       "      <td>0.0</td>\n",
       "      <td>76.0</td>\n",
       "    </tr>\n",
       "    <tr>\n",
       "      <th>F2S4_170405_060_B01</th>\n",
       "      <td>0.0</td>\n",
       "      <td>186.0</td>\n",
       "      <td>156.0</td>\n",
       "      <td>29.0</td>\n",
       "      <td>0.0</td>\n",
       "      <td>0.0</td>\n",
       "      <td>0.0</td>\n",
       "      <td>0.0</td>\n",
       "      <td>54.0</td>\n",
       "      <td>202.0</td>\n",
       "      <td>...</td>\n",
       "      <td>75.0</td>\n",
       "      <td>0.0</td>\n",
       "      <td>87.0</td>\n",
       "      <td>0.0</td>\n",
       "      <td>128.0</td>\n",
       "      <td>72.0</td>\n",
       "      <td>22.0</td>\n",
       "      <td>370.0</td>\n",
       "      <td>1.0</td>\n",
       "      <td>69.0</td>\n",
       "    </tr>\n",
       "    <tr>\n",
       "      <th>F2S4_170405_060_C01</th>\n",
       "      <td>90.0</td>\n",
       "      <td>237.0</td>\n",
       "      <td>456.0</td>\n",
       "      <td>98.0</td>\n",
       "      <td>28.0</td>\n",
       "      <td>0.0</td>\n",
       "      <td>0.0</td>\n",
       "      <td>0.0</td>\n",
       "      <td>1.0</td>\n",
       "      <td>127.0</td>\n",
       "      <td>...</td>\n",
       "      <td>115.0</td>\n",
       "      <td>0.0</td>\n",
       "      <td>171.0</td>\n",
       "      <td>1.0</td>\n",
       "      <td>79.0</td>\n",
       "      <td>23.0</td>\n",
       "      <td>0.0</td>\n",
       "      <td>113.0</td>\n",
       "      <td>26.0</td>\n",
       "      <td>0.0</td>\n",
       "    </tr>\n",
       "    <tr>\n",
       "      <th>F2S4_170405_060_E01</th>\n",
       "      <td>0.0</td>\n",
       "      <td>0.0</td>\n",
       "      <td>400.0</td>\n",
       "      <td>0.0</td>\n",
       "      <td>0.0</td>\n",
       "      <td>92.0</td>\n",
       "      <td>94.0</td>\n",
       "      <td>0.0</td>\n",
       "      <td>0.0</td>\n",
       "      <td>75.0</td>\n",
       "      <td>...</td>\n",
       "      <td>0.0</td>\n",
       "      <td>0.0</td>\n",
       "      <td>141.0</td>\n",
       "      <td>0.0</td>\n",
       "      <td>0.0</td>\n",
       "      <td>62.0</td>\n",
       "      <td>316.0</td>\n",
       "      <td>187.0</td>\n",
       "      <td>0.0</td>\n",
       "      <td>0.0</td>\n",
       "    </tr>\n",
       "    <tr>\n",
       "      <th>F2S4_170405_060_H01</th>\n",
       "      <td>0.0</td>\n",
       "      <td>293.0</td>\n",
       "      <td>173.0</td>\n",
       "      <td>0.0</td>\n",
       "      <td>0.0</td>\n",
       "      <td>4.0</td>\n",
       "      <td>2.0</td>\n",
       "      <td>40.0</td>\n",
       "      <td>67.0</td>\n",
       "      <td>175.0</td>\n",
       "      <td>...</td>\n",
       "      <td>0.0</td>\n",
       "      <td>0.0</td>\n",
       "      <td>149.0</td>\n",
       "      <td>226.0</td>\n",
       "      <td>462.0</td>\n",
       "      <td>4.0</td>\n",
       "      <td>203.0</td>\n",
       "      <td>184.0</td>\n",
       "      <td>1.0</td>\n",
       "      <td>73.0</td>\n",
       "    </tr>\n",
       "  </tbody>\n",
       "</table>\n",
       "<p>14055 rows × 16024 columns</p>\n",
       "</div>"
      ],
      "text/plain": [
       "                     X0610007P14Rik  X0610009O20Rik  X0610010F05Rik  \\\n",
       "F1S4_160106_001_B01             0.0           157.0             9.0   \n",
       "F1S4_160106_001_C01           107.0            80.0            85.0   \n",
       "F1S4_160106_001_E01            53.0            36.0            19.0   \n",
       "F1S4_160106_001_G01             2.0             1.0           344.0   \n",
       "F1S4_160106_001_H01            97.0             0.0           264.0   \n",
       "...                             ...             ...             ...   \n",
       "F2S4_170405_060_A01            46.0            34.0           232.0   \n",
       "F2S4_170405_060_B01             0.0           186.0           156.0   \n",
       "F2S4_170405_060_C01            90.0           237.0           456.0   \n",
       "F2S4_170405_060_E01             0.0             0.0           400.0   \n",
       "F2S4_170405_060_H01             0.0           293.0           173.0   \n",
       "\n",
       "                     X0610011F06Rik  X0610030E20Rik  X0610037L13Rik  \\\n",
       "F1S4_160106_001_B01            12.0             0.0             0.0   \n",
       "F1S4_160106_001_C01             0.0             0.0           245.0   \n",
       "F1S4_160106_001_E01            12.0             0.0            23.0   \n",
       "F1S4_160106_001_G01            31.0             0.0            82.0   \n",
       "F1S4_160106_001_H01           103.0            37.0             0.0   \n",
       "...                             ...             ...             ...   \n",
       "F2S4_170405_060_A01            51.0             0.0            41.0   \n",
       "F2S4_170405_060_B01            29.0             0.0             0.0   \n",
       "F2S4_170405_060_C01            98.0            28.0             0.0   \n",
       "F2S4_170405_060_E01             0.0             0.0            92.0   \n",
       "F2S4_170405_060_H01             0.0             0.0             4.0   \n",
       "\n",
       "                     X0610040J01Rik  X1110001J03Rik  X1110004E09Rik  \\\n",
       "F1S4_160106_001_B01            88.0             1.0           268.0   \n",
       "F1S4_160106_001_C01             1.0             0.0           327.0   \n",
       "F1S4_160106_001_E01             0.0             0.0           196.0   \n",
       "F1S4_160106_001_G01             0.0            36.0            45.0   \n",
       "F1S4_160106_001_H01             1.0             0.0            40.0   \n",
       "...                             ...             ...             ...   \n",
       "F2S4_170405_060_A01             0.0             0.0             0.0   \n",
       "F2S4_170405_060_B01             0.0             0.0            54.0   \n",
       "F2S4_170405_060_C01             0.0             0.0             1.0   \n",
       "F2S4_170405_060_E01            94.0             0.0             0.0   \n",
       "F2S4_170405_060_H01             2.0            40.0            67.0   \n",
       "\n",
       "                     X1110004F10Rik  ...  Zwint  Zxdb   Zxdc  Zyg11a  Zyg11b  \\\n",
       "F1S4_160106_001_B01           258.0  ...    0.0   0.0    0.0     0.0    33.0   \n",
       "F1S4_160106_001_C01           521.0  ...    0.0  17.0   35.0     0.0   258.0   \n",
       "F1S4_160106_001_E01            96.0  ...    0.0   0.0   13.0    25.0    45.0   \n",
       "F1S4_160106_001_G01            66.0  ...    0.0   0.0   82.0     0.0   181.0   \n",
       "F1S4_160106_001_H01           122.0  ...    0.0   0.0    0.0     0.0   317.0   \n",
       "...                             ...  ...    ...   ...    ...     ...     ...   \n",
       "F2S4_170405_060_A01           209.0  ...    0.0   0.0   49.0     0.0   160.0   \n",
       "F2S4_170405_060_B01           202.0  ...   75.0   0.0   87.0     0.0   128.0   \n",
       "F2S4_170405_060_C01           127.0  ...  115.0   0.0  171.0     1.0    79.0   \n",
       "F2S4_170405_060_E01            75.0  ...    0.0   0.0  141.0     0.0     0.0   \n",
       "F2S4_170405_060_H01           175.0  ...    0.0   0.0  149.0   226.0   462.0   \n",
       "\n",
       "                      Zyx  Zzef1   Zzz3     a  l7Rn6  \n",
       "F1S4_160106_001_B01   0.0    1.0  306.0   0.0  374.0  \n",
       "F1S4_160106_001_C01   0.0    8.0  341.0   0.0  189.0  \n",
       "F1S4_160106_001_E01  72.0  197.0  296.0   2.0   33.0  \n",
       "F1S4_160106_001_G01   0.0   58.0  206.0  28.0   97.0  \n",
       "F1S4_160106_001_H01  10.0  169.0    0.0  12.0    0.0  \n",
       "...                   ...    ...    ...   ...    ...  \n",
       "F2S4_170405_060_A01  51.0   46.0  352.0   0.0   76.0  \n",
       "F2S4_170405_060_B01  72.0   22.0  370.0   1.0   69.0  \n",
       "F2S4_170405_060_C01  23.0    0.0  113.0  26.0    0.0  \n",
       "F2S4_170405_060_E01  62.0  316.0  187.0   0.0    0.0  \n",
       "F2S4_170405_060_H01   4.0  203.0  184.0   1.0   73.0  \n",
       "\n",
       "[14055 rows x 16024 columns]"
      ]
     },
     "execution_count": 4,
     "metadata": {},
     "output_type": "execute_result"
    }
   ],
   "source": [
    "ds['MTG'].to_df()"
   ]
  },
  {
   "cell_type": "code",
   "execution_count": 5,
   "metadata": {},
   "outputs": [
    {
     "data": {
      "text/html": [
       "<div>\n",
       "<style scoped>\n",
       "    .dataframe tbody tr th:only-of-type {\n",
       "        vertical-align: middle;\n",
       "    }\n",
       "\n",
       "    .dataframe tbody tr th {\n",
       "        vertical-align: top;\n",
       "    }\n",
       "\n",
       "    .dataframe thead th {\n",
       "        text-align: right;\n",
       "    }\n",
       "</style>\n",
       "<table border=\"1\" class=\"dataframe\">\n",
       "  <thead>\n",
       "    <tr style=\"text-align: right;\">\n",
       "      <th></th>\n",
       "      <th>X0610007P14Rik</th>\n",
       "      <th>X0610009O20Rik</th>\n",
       "      <th>X0610010F05Rik</th>\n",
       "      <th>X0610011F06Rik</th>\n",
       "      <th>X0610030E20Rik</th>\n",
       "      <th>X0610037L13Rik</th>\n",
       "      <th>X0610040J01Rik</th>\n",
       "      <th>X1110001J03Rik</th>\n",
       "      <th>X1110004E09Rik</th>\n",
       "      <th>X1110004F10Rik</th>\n",
       "      <th>...</th>\n",
       "      <th>Zwint</th>\n",
       "      <th>Zxdb</th>\n",
       "      <th>Zxdc</th>\n",
       "      <th>Zyg11a</th>\n",
       "      <th>Zyg11b</th>\n",
       "      <th>Zyx</th>\n",
       "      <th>Zzef1</th>\n",
       "      <th>Zzz3</th>\n",
       "      <th>a</th>\n",
       "      <th>l7Rn6</th>\n",
       "    </tr>\n",
       "  </thead>\n",
       "  <tbody>\n",
       "    <tr>\n",
       "      <th>F1S4_180124_314_A01</th>\n",
       "      <td>80.0</td>\n",
       "      <td>11.0</td>\n",
       "      <td>135.0</td>\n",
       "      <td>32.0</td>\n",
       "      <td>0.0</td>\n",
       "      <td>31.0</td>\n",
       "      <td>1.0</td>\n",
       "      <td>49.0</td>\n",
       "      <td>22.0</td>\n",
       "      <td>204.0</td>\n",
       "      <td>...</td>\n",
       "      <td>3190.0</td>\n",
       "      <td>0.0</td>\n",
       "      <td>17.0</td>\n",
       "      <td>0.0</td>\n",
       "      <td>96.0</td>\n",
       "      <td>0.0</td>\n",
       "      <td>0.0</td>\n",
       "      <td>45.0</td>\n",
       "      <td>0.0</td>\n",
       "      <td>73.0</td>\n",
       "    </tr>\n",
       "    <tr>\n",
       "      <th>F1S4_180124_315_A01</th>\n",
       "      <td>233.0</td>\n",
       "      <td>37.0</td>\n",
       "      <td>183.0</td>\n",
       "      <td>114.0</td>\n",
       "      <td>0.0</td>\n",
       "      <td>189.0</td>\n",
       "      <td>0.0</td>\n",
       "      <td>244.0</td>\n",
       "      <td>23.0</td>\n",
       "      <td>484.0</td>\n",
       "      <td>...</td>\n",
       "      <td>4832.0</td>\n",
       "      <td>28.0</td>\n",
       "      <td>33.0</td>\n",
       "      <td>0.0</td>\n",
       "      <td>179.0</td>\n",
       "      <td>0.0</td>\n",
       "      <td>0.0</td>\n",
       "      <td>83.0</td>\n",
       "      <td>0.0</td>\n",
       "      <td>127.0</td>\n",
       "    </tr>\n",
       "    <tr>\n",
       "      <th>F1S4_180124_315_B01</th>\n",
       "      <td>142.0</td>\n",
       "      <td>4.0</td>\n",
       "      <td>129.0</td>\n",
       "      <td>9.0</td>\n",
       "      <td>14.0</td>\n",
       "      <td>73.0</td>\n",
       "      <td>0.0</td>\n",
       "      <td>196.0</td>\n",
       "      <td>57.0</td>\n",
       "      <td>479.0</td>\n",
       "      <td>...</td>\n",
       "      <td>3487.0</td>\n",
       "      <td>29.0</td>\n",
       "      <td>4.0</td>\n",
       "      <td>0.0</td>\n",
       "      <td>124.0</td>\n",
       "      <td>33.0</td>\n",
       "      <td>37.0</td>\n",
       "      <td>21.0</td>\n",
       "      <td>0.0</td>\n",
       "      <td>93.0</td>\n",
       "    </tr>\n",
       "    <tr>\n",
       "      <th>F1S4_180124_315_C01</th>\n",
       "      <td>54.0</td>\n",
       "      <td>1.0</td>\n",
       "      <td>28.0</td>\n",
       "      <td>40.0</td>\n",
       "      <td>17.0</td>\n",
       "      <td>67.0</td>\n",
       "      <td>0.0</td>\n",
       "      <td>55.0</td>\n",
       "      <td>36.0</td>\n",
       "      <td>388.0</td>\n",
       "      <td>...</td>\n",
       "      <td>3891.0</td>\n",
       "      <td>13.0</td>\n",
       "      <td>0.0</td>\n",
       "      <td>0.0</td>\n",
       "      <td>98.0</td>\n",
       "      <td>0.0</td>\n",
       "      <td>5.0</td>\n",
       "      <td>18.0</td>\n",
       "      <td>0.0</td>\n",
       "      <td>135.0</td>\n",
       "    </tr>\n",
       "    <tr>\n",
       "      <th>F1S4_180124_315_D01</th>\n",
       "      <td>139.0</td>\n",
       "      <td>0.0</td>\n",
       "      <td>22.0</td>\n",
       "      <td>117.0</td>\n",
       "      <td>10.0</td>\n",
       "      <td>105.0</td>\n",
       "      <td>0.0</td>\n",
       "      <td>91.0</td>\n",
       "      <td>70.0</td>\n",
       "      <td>579.0</td>\n",
       "      <td>...</td>\n",
       "      <td>4537.0</td>\n",
       "      <td>0.0</td>\n",
       "      <td>0.0</td>\n",
       "      <td>0.0</td>\n",
       "      <td>93.0</td>\n",
       "      <td>26.0</td>\n",
       "      <td>22.0</td>\n",
       "      <td>29.0</td>\n",
       "      <td>0.0</td>\n",
       "      <td>81.0</td>\n",
       "    </tr>\n",
       "    <tr>\n",
       "      <th>...</th>\n",
       "      <td>...</td>\n",
       "      <td>...</td>\n",
       "      <td>...</td>\n",
       "      <td>...</td>\n",
       "      <td>...</td>\n",
       "      <td>...</td>\n",
       "      <td>...</td>\n",
       "      <td>...</td>\n",
       "      <td>...</td>\n",
       "      <td>...</td>\n",
       "      <td>...</td>\n",
       "      <td>...</td>\n",
       "      <td>...</td>\n",
       "      <td>...</td>\n",
       "      <td>...</td>\n",
       "      <td>...</td>\n",
       "      <td>...</td>\n",
       "      <td>...</td>\n",
       "      <td>...</td>\n",
       "      <td>...</td>\n",
       "      <td>...</td>\n",
       "    </tr>\n",
       "    <tr>\n",
       "      <th>FJS4_170511_008_A01</th>\n",
       "      <td>196.0</td>\n",
       "      <td>1.0</td>\n",
       "      <td>140.0</td>\n",
       "      <td>162.0</td>\n",
       "      <td>14.0</td>\n",
       "      <td>146.0</td>\n",
       "      <td>0.0</td>\n",
       "      <td>178.0</td>\n",
       "      <td>125.0</td>\n",
       "      <td>447.0</td>\n",
       "      <td>...</td>\n",
       "      <td>3313.0</td>\n",
       "      <td>0.0</td>\n",
       "      <td>4.0</td>\n",
       "      <td>0.0</td>\n",
       "      <td>349.0</td>\n",
       "      <td>8.0</td>\n",
       "      <td>40.0</td>\n",
       "      <td>129.0</td>\n",
       "      <td>7.0</td>\n",
       "      <td>210.0</td>\n",
       "    </tr>\n",
       "    <tr>\n",
       "      <th>FJS4_170511_008_D01</th>\n",
       "      <td>122.0</td>\n",
       "      <td>17.0</td>\n",
       "      <td>288.0</td>\n",
       "      <td>120.0</td>\n",
       "      <td>126.0</td>\n",
       "      <td>113.0</td>\n",
       "      <td>0.0</td>\n",
       "      <td>49.0</td>\n",
       "      <td>146.0</td>\n",
       "      <td>268.0</td>\n",
       "      <td>...</td>\n",
       "      <td>1322.0</td>\n",
       "      <td>0.0</td>\n",
       "      <td>47.0</td>\n",
       "      <td>0.0</td>\n",
       "      <td>418.0</td>\n",
       "      <td>20.0</td>\n",
       "      <td>62.0</td>\n",
       "      <td>0.0</td>\n",
       "      <td>0.0</td>\n",
       "      <td>222.0</td>\n",
       "    </tr>\n",
       "    <tr>\n",
       "      <th>FJS4_170511_008_G01</th>\n",
       "      <td>196.0</td>\n",
       "      <td>2.0</td>\n",
       "      <td>273.0</td>\n",
       "      <td>99.0</td>\n",
       "      <td>24.0</td>\n",
       "      <td>242.0</td>\n",
       "      <td>0.0</td>\n",
       "      <td>194.0</td>\n",
       "      <td>69.0</td>\n",
       "      <td>612.0</td>\n",
       "      <td>...</td>\n",
       "      <td>2957.0</td>\n",
       "      <td>49.0</td>\n",
       "      <td>60.0</td>\n",
       "      <td>0.0</td>\n",
       "      <td>527.0</td>\n",
       "      <td>24.0</td>\n",
       "      <td>123.0</td>\n",
       "      <td>75.0</td>\n",
       "      <td>0.0</td>\n",
       "      <td>485.0</td>\n",
       "    </tr>\n",
       "    <tr>\n",
       "      <th>FJS4_170511_008_H01</th>\n",
       "      <td>353.0</td>\n",
       "      <td>25.0</td>\n",
       "      <td>326.0</td>\n",
       "      <td>1.0</td>\n",
       "      <td>0.0</td>\n",
       "      <td>42.0</td>\n",
       "      <td>21.0</td>\n",
       "      <td>122.0</td>\n",
       "      <td>76.0</td>\n",
       "      <td>362.0</td>\n",
       "      <td>...</td>\n",
       "      <td>2992.0</td>\n",
       "      <td>8.0</td>\n",
       "      <td>0.0</td>\n",
       "      <td>0.0</td>\n",
       "      <td>468.0</td>\n",
       "      <td>0.0</td>\n",
       "      <td>91.0</td>\n",
       "      <td>46.0</td>\n",
       "      <td>0.0</td>\n",
       "      <td>166.0</td>\n",
       "    </tr>\n",
       "    <tr>\n",
       "      <th>FJS4_170511_012_E01</th>\n",
       "      <td>0.0</td>\n",
       "      <td>41.0</td>\n",
       "      <td>389.0</td>\n",
       "      <td>68.0</td>\n",
       "      <td>74.0</td>\n",
       "      <td>29.0</td>\n",
       "      <td>0.0</td>\n",
       "      <td>100.0</td>\n",
       "      <td>64.0</td>\n",
       "      <td>498.0</td>\n",
       "      <td>...</td>\n",
       "      <td>3863.0</td>\n",
       "      <td>16.0</td>\n",
       "      <td>25.0</td>\n",
       "      <td>0.0</td>\n",
       "      <td>218.0</td>\n",
       "      <td>0.0</td>\n",
       "      <td>39.0</td>\n",
       "      <td>28.0</td>\n",
       "      <td>0.0</td>\n",
       "      <td>380.0</td>\n",
       "    </tr>\n",
       "  </tbody>\n",
       "</table>\n",
       "<p>8128 rows × 16024 columns</p>\n",
       "</div>"
      ],
      "text/plain": [
       "                     X0610007P14Rik  X0610009O20Rik  X0610010F05Rik  \\\n",
       "F1S4_180124_314_A01            80.0            11.0           135.0   \n",
       "F1S4_180124_315_A01           233.0            37.0           183.0   \n",
       "F1S4_180124_315_B01           142.0             4.0           129.0   \n",
       "F1S4_180124_315_C01            54.0             1.0            28.0   \n",
       "F1S4_180124_315_D01           139.0             0.0            22.0   \n",
       "...                             ...             ...             ...   \n",
       "FJS4_170511_008_A01           196.0             1.0           140.0   \n",
       "FJS4_170511_008_D01           122.0            17.0           288.0   \n",
       "FJS4_170511_008_G01           196.0             2.0           273.0   \n",
       "FJS4_170511_008_H01           353.0            25.0           326.0   \n",
       "FJS4_170511_012_E01             0.0            41.0           389.0   \n",
       "\n",
       "                     X0610011F06Rik  X0610030E20Rik  X0610037L13Rik  \\\n",
       "F1S4_180124_314_A01            32.0             0.0            31.0   \n",
       "F1S4_180124_315_A01           114.0             0.0           189.0   \n",
       "F1S4_180124_315_B01             9.0            14.0            73.0   \n",
       "F1S4_180124_315_C01            40.0            17.0            67.0   \n",
       "F1S4_180124_315_D01           117.0            10.0           105.0   \n",
       "...                             ...             ...             ...   \n",
       "FJS4_170511_008_A01           162.0            14.0           146.0   \n",
       "FJS4_170511_008_D01           120.0           126.0           113.0   \n",
       "FJS4_170511_008_G01            99.0            24.0           242.0   \n",
       "FJS4_170511_008_H01             1.0             0.0            42.0   \n",
       "FJS4_170511_012_E01            68.0            74.0            29.0   \n",
       "\n",
       "                     X0610040J01Rik  X1110001J03Rik  X1110004E09Rik  \\\n",
       "F1S4_180124_314_A01             1.0            49.0            22.0   \n",
       "F1S4_180124_315_A01             0.0           244.0            23.0   \n",
       "F1S4_180124_315_B01             0.0           196.0            57.0   \n",
       "F1S4_180124_315_C01             0.0            55.0            36.0   \n",
       "F1S4_180124_315_D01             0.0            91.0            70.0   \n",
       "...                             ...             ...             ...   \n",
       "FJS4_170511_008_A01             0.0           178.0           125.0   \n",
       "FJS4_170511_008_D01             0.0            49.0           146.0   \n",
       "FJS4_170511_008_G01             0.0           194.0            69.0   \n",
       "FJS4_170511_008_H01            21.0           122.0            76.0   \n",
       "FJS4_170511_012_E01             0.0           100.0            64.0   \n",
       "\n",
       "                     X1110004F10Rik  ...   Zwint  Zxdb  Zxdc  Zyg11a  Zyg11b  \\\n",
       "F1S4_180124_314_A01           204.0  ...  3190.0   0.0  17.0     0.0    96.0   \n",
       "F1S4_180124_315_A01           484.0  ...  4832.0  28.0  33.0     0.0   179.0   \n",
       "F1S4_180124_315_B01           479.0  ...  3487.0  29.0   4.0     0.0   124.0   \n",
       "F1S4_180124_315_C01           388.0  ...  3891.0  13.0   0.0     0.0    98.0   \n",
       "F1S4_180124_315_D01           579.0  ...  4537.0   0.0   0.0     0.0    93.0   \n",
       "...                             ...  ...     ...   ...   ...     ...     ...   \n",
       "FJS4_170511_008_A01           447.0  ...  3313.0   0.0   4.0     0.0   349.0   \n",
       "FJS4_170511_008_D01           268.0  ...  1322.0   0.0  47.0     0.0   418.0   \n",
       "FJS4_170511_008_G01           612.0  ...  2957.0  49.0  60.0     0.0   527.0   \n",
       "FJS4_170511_008_H01           362.0  ...  2992.0   8.0   0.0     0.0   468.0   \n",
       "FJS4_170511_012_E01           498.0  ...  3863.0  16.0  25.0     0.0   218.0   \n",
       "\n",
       "                      Zyx  Zzef1   Zzz3    a  l7Rn6  \n",
       "F1S4_180124_314_A01   0.0    0.0   45.0  0.0   73.0  \n",
       "F1S4_180124_315_A01   0.0    0.0   83.0  0.0  127.0  \n",
       "F1S4_180124_315_B01  33.0   37.0   21.0  0.0   93.0  \n",
       "F1S4_180124_315_C01   0.0    5.0   18.0  0.0  135.0  \n",
       "F1S4_180124_315_D01  26.0   22.0   29.0  0.0   81.0  \n",
       "...                   ...    ...    ...  ...    ...  \n",
       "FJS4_170511_008_A01   8.0   40.0  129.0  7.0  210.0  \n",
       "FJS4_170511_008_D01  20.0   62.0    0.0  0.0  222.0  \n",
       "FJS4_170511_008_G01  24.0  123.0   75.0  0.0  485.0  \n",
       "FJS4_170511_008_H01   0.0   91.0   46.0  0.0  166.0  \n",
       "FJS4_170511_012_E01   0.0   39.0   28.0  0.0  380.0  \n",
       "\n",
       "[8128 rows x 16024 columns]"
      ]
     },
     "execution_count": 5,
     "metadata": {},
     "output_type": "execute_result"
    }
   ],
   "source": [
    "ds['ALM'].to_df()"
   ]
  },
  {
   "cell_type": "code",
   "execution_count": 11,
   "metadata": {},
   "outputs": [
    {
     "name": "stderr",
     "output_type": "stream",
     "text": [
      "[refcm           ] [INFO    ] : NOTE: raw counts expected in anndata .X attributes.\n",
      "[refcm           ] [DEBUG   ] : Loading cached mapping costs from ../src/cache.json.\n",
      "[refcm           ] [DEBUG   ] : Using costs for ALM->MTG found in cache.\n",
      "[refcm           ] [DEBUG   ] : starting LP optimization\n",
      "[refcm           ] [DEBUG   ] : optimization terminated w. status \"Optimal\"\n",
      "[matchings       ] [DEBUG   ] : \u001b[32m[+|1.00]\u001b[0m Astrocyte            mapped to Astrocyte           \n",
      "[matchings       ] [DEBUG   ] : \u001b[32m[+|1.00]\u001b[0m Chandelier           mapped to Chandelier          \n",
      "[matchings       ] [DEBUG   ] : \u001b[32m[+|1.00]\u001b[0m Exc L2/3 IT          mapped to Exc L2/3 IT         \n",
      "[matchings       ] [DEBUG   ] : \u001b[32m[+|1.00]\u001b[0m Exc L3/5 IT          mapped to Exc L3/5 IT         \n",
      "[matchings       ] [DEBUG   ] : \u001b[32m[+|1.00]\u001b[0m Exc L4/5 IT          mapped to Exc L4/5 IT         \n",
      "[matchings       ] [DEBUG   ] : \u001b[32m[+|1.00]\u001b[0m Exc L5 PT            mapped to Exc L5 PT           \n",
      "[matchings       ] [DEBUG   ] : \u001b[32m[+|1.00]\u001b[0m Exc L5/6 IT 1        mapped to Exc L5/6 IT 1       \n",
      "[matchings       ] [DEBUG   ] : \u001b[32m[+|1.00]\u001b[0m Exc L5/6 IT 2        mapped to Exc L5/6 IT 2       \n",
      "[matchings       ] [DEBUG   ] : \u001b[32m[+|1.00]\u001b[0m Exc L5/6 IT 3        mapped to Exc L5/6 IT 3       \n",
      "[matchings       ] [DEBUG   ] : \u001b[32m[+|1.00]\u001b[0m Exc L5/6 NP          mapped to Exc L5/6 NP         \n",
      "[matchings       ] [DEBUG   ] : \u001b[32m[+|1.00]\u001b[0m Exc L6 CT            mapped to Exc L6 CT           \n",
      "[matchings       ] [DEBUG   ] : \u001b[32m[+|1.00]\u001b[0m Exc L6 IT 1          mapped to Exc L6 IT 1         \n",
      "[matchings       ] [DEBUG   ] : \u001b[32m[+|1.00]\u001b[0m Exc L6 IT 2          mapped to Exc L6 IT 2         \n",
      "[matchings       ] [DEBUG   ] : \u001b[32m[+|1.00]\u001b[0m Exc L6b              mapped to Exc L6b             \n",
      "[matchings       ] [DEBUG   ] : \u001b[32m[+|1.00]\u001b[0m Lamp5 1              mapped to Lamp5 1             \n",
      "[matchings       ] [DEBUG   ] : \u001b[32m[+|1.00]\u001b[0m Lamp5 2              mapped to Lamp5 2             \n",
      "[matchings       ] [DEBUG   ] : \u001b[32m[+|1.00]\u001b[0m Lamp5 Lhx6           mapped to Lamp5 Lhx6          \n",
      "[matchings       ] [DEBUG   ] : \u001b[32m[+|1.00]\u001b[0m Lamp5 Rosehip        mapped to Lamp5 Rosehip       \n",
      "[matchings       ] [DEBUG   ] : \u001b[32m[+|1.00]\u001b[0m Oligo                mapped to Oligo               \n",
      "[matchings       ] [DEBUG   ] : \u001b[32m[+|1.00]\u001b[0m Pax6                 mapped to Pax6                \n",
      "[matchings       ] [DEBUG   ] : \u001b[32m[+|1.00]\u001b[0m Pvalb 1              mapped to Pvalb 1             \n",
      "[matchings       ] [DEBUG   ] : \u001b[32m[+|1.00]\u001b[0m Pvalb 2              mapped to Pvalb 2             \n",
      "[matchings       ] [DEBUG   ] : \u001b[32m[+|1.00]\u001b[0m Sst 1                mapped to Sst 1               \n",
      "[matchings       ] [DEBUG   ] : \u001b[32m[+|1.00]\u001b[0m Sst 2                mapped to Sst 2               \n",
      "[matchings       ] [DEBUG   ] : \u001b[32m[+|1.00]\u001b[0m Sst 3                mapped to Sst 3               \n",
      "[matchings       ] [DEBUG   ] : \u001b[32m[+|1.00]\u001b[0m Sst 4                mapped to Sst 4               \n",
      "[matchings       ] [DEBUG   ] : \u001b[32m[+|1.00]\u001b[0m Sst 5                mapped to Sst 5               \n",
      "[matchings       ] [DEBUG   ] : \u001b[32m[+|1.00]\u001b[0m Sst Chodl            mapped to Sst Chodl           \n",
      "[matchings       ] [DEBUG   ] : \u001b[32m[+|1.00]\u001b[0m Vip 1                mapped to Vip 1               \n",
      "[matchings       ] [DEBUG   ] : \u001b[32m[+|1.00]\u001b[0m Vip 2                mapped to Vip 2               \n",
      "[matchings       ] [DEBUG   ] : \u001b[32m[+|1.00]\u001b[0m Vip 3                mapped to Vip 3               \n",
      "[matchings       ] [DEBUG   ] : \u001b[32m[+|1.00]\u001b[0m Vip 4                mapped to Vip 4               \n",
      "[matchings       ] [DEBUG   ] : \u001b[32m[+|1.00]\u001b[0m Vip 5                mapped to Vip 5               \n",
      "[matchings       ] [DEBUG   ] : \u001b[32m[+|1.00]\u001b[0m Vip Sncg             mapped to Vip Sncg            \n",
      "[matchings       ] [INFO    ] : ALM                  to MTG                 \n",
      "[matchings       ] [INFO    ] : 34    common cell types\n",
      "[matchings       ] [INFO    ] : 34/34 correct   links\n",
      "[matchings       ] [INFO    ] : 0     incorrect links\n"
     ]
    },
    {
     "data": {
      "application/vnd.plotly.v1+json": {
       "config": {
        "plotlyServerURL": "https://plot.ly"
       },
       "data": [
        {
         "coloraxis": "coloraxis",
         "hovertemplate": "Reference: MTG: %{x}<br>Query: ALM: %{y}<br>cost: %{z}<extra></extra>",
         "name": "0",
         "type": "heatmap",
         "x": [
          "Astrocyte",
          "Chandelier",
          "Exc L2/3 IT",
          "Exc L3/5 IT",
          "Exc L4/5 IT",
          "Exc L5 PT",
          "Exc L5/6 IT 1",
          "Exc L5/6 IT 2",
          "Exc L5/6 IT 3",
          "Exc L5/6 NP",
          "Exc L6 CT",
          "Exc L6 IT 1",
          "Exc L6 IT 2",
          "Exc L6b",
          "Lamp5 1",
          "Lamp5 2",
          "Lamp5 Lhx6",
          "Lamp5 Rosehip",
          "Oligo",
          "Pax6",
          "Pvalb 1",
          "Pvalb 2",
          "Sst 1",
          "Sst 2",
          "Sst 3",
          "Sst 4",
          "Sst 5",
          "Sst Chodl",
          "Vip 1",
          "Vip 2",
          "Vip 3",
          "Vip 4",
          "Vip 5",
          "Vip Sncg"
         ],
         "xaxis": "x",
         "y": [
          "Astrocyte",
          "Chandelier",
          "Exc L2/3 IT",
          "Exc L3/5 IT",
          "Exc L4/5 IT",
          "Exc L5 PT",
          "Exc L5/6 IT 1",
          "Exc L5/6 IT 2",
          "Exc L5/6 IT 3",
          "Exc L5/6 NP",
          "Exc L6 CT",
          "Exc L6 IT 1",
          "Exc L6 IT 2",
          "Exc L6b",
          "Lamp5 1",
          "Lamp5 2",
          "Lamp5 Lhx6",
          "Lamp5 Rosehip",
          "Oligo",
          "Pax6",
          "Pvalb 1",
          "Pvalb 2",
          "Sst 1",
          "Sst 2",
          "Sst 3",
          "Sst 4",
          "Sst 5",
          "Sst Chodl",
          "Vip 1",
          "Vip 2",
          "Vip 3",
          "Vip 4",
          "Vip 5",
          "Vip Sncg"
         ],
         "yaxis": "y",
         "z": [
          [
           -0.631737334388821,
           -0.08487658965222647,
           -0.11240828911651189,
           -0.1872826965720584,
           -0.03918852193331197,
           -0.2192511063556621,
           -0.007171081781401625,
           -0.1266261082701041,
           -0.08681082726007537,
           -0.07244591899090398,
           -0.11783193039676505,
           -0.12137023461045712,
           -0.0512778412603273,
           -0.18449281205508788,
           -0.10091815535168967,
           -0.13356113509539383,
           -0.17496331184646596,
           -0.13174686171801633,
           -0.2614819235219044,
           -0.15661112150601889,
           -0.13959525671036555,
           -0.09753526673602968,
           -0.045550353315982,
           -0.08689074574381858,
           -0.09664766430064352,
           -0.024073946030957354,
           -0.00124320769272247,
           -0.10848599946390579,
           -0.061220599484579426,
           -0.10722698300067349,
           -0.0866124080259868,
           -0.09413151825267471,
           -0.14407463872604545,
           -0.13581759426298312
          ],
          [
           -0.16572503473419772,
           -0.6553442562566633,
           -0.42720651256282527,
           -0.508700977282957,
           -0.35349149867248264,
           -0.5614310875018176,
           -0.3329975221291787,
           -0.4558930019438089,
           -0.4415297939993221,
           -0.4047950554436779,
           -0.4589409555277011,
           -0.4793029639682284,
           -0.43517084012362844,
           -0.5419671433828905,
           -0.5293065876826518,
           -0.5427569713473623,
           -0.6161452751368489,
           -0.5544638316120158,
           -0.24821021307849703,
           -0.5615175541208945,
           -0.6346611839380188,
           -0.6253720197704863,
           -0.491547206252765,
           -0.5142726550942451,
           -0.5434734386822936,
           -0.41920083711163936,
           -0.4185780300360412,
           -0.5385323708211383,
           -0.4739544269048172,
           -0.5329173235410805,
           -0.5023652329879729,
           -0.484901893055546,
           -0.573690236317535,
           -0.498838141936952
          ],
          [
           -0.2793098509779632,
           -0.5675523488080554,
           -0.8815771028776311,
           -0.8946470173564847,
           -0.7019177664710694,
           -0.9076829320781745,
           -0.7082193875839565,
           -0.838618138844547,
           -0.7954068178557858,
           -0.6891116844424344,
           -0.8346150027740198,
           -0.9051177453553547,
           -0.7906773880124642,
           -0.91260038459215,
           -0.5690343634617819,
           -0.6600619311566065,
           -0.6598387103353205,
           -0.6061472953467448,
           -0.4077437832050149,
           -0.6610747383331543,
           -0.631162780136666,
           -0.5963222398010339,
           -0.5679590526713713,
           -0.6019890739591794,
           -0.6511317683993019,
           -0.48942294967177946,
           -0.4814516037621433,
           -0.6250096030291397,
           -0.5898333783821474,
           -0.6522756570398021,
           -0.6019862520985897,
           -0.5880644288122854,
           -0.6697697286681068,
           -0.6158239190935463
          ],
          [
           -0.3000466427119629,
           -0.5777049627226158,
           -0.8392041651533276,
           -0.9196483078728206,
           -0.7196687694782645,
           -0.9291373364713618,
           -0.7275038166636969,
           -0.8747964495694195,
           -0.8143115282736908,
           -0.7189261658174065,
           -0.8443305827760208,
           -0.8921240506717898,
           -0.7783617242423614,
           -0.9117770507725702,
           -0.5833908064192883,
           -0.6795989485605621,
           -0.6686700014571728,
           -0.6220431558332234,
           -0.42083307778832096,
           -0.6649776938084218,
           -0.6486618461573578,
           -0.6035170274758928,
           -0.5769053776785388,
           -0.6178600134508168,
           -0.6635951256928802,
           -0.4964856345385179,
           -0.46854518864845374,
           -0.6406270126897932,
           -0.59900691129422,
           -0.6505083501741166,
           -0.6058495386234248,
           -0.5973241714134369,
           -0.6792264577800108,
           -0.6239012066926254
          ],
          [
           -0.23768876077785311,
           -0.532021343132983,
           -0.803242786834092,
           -0.8603389943755371,
           -0.6908404791892842,
           -0.8506573771098376,
           -0.6900192888880493,
           -0.8274754651600081,
           -0.7765149589368694,
           -0.6618120129202968,
           -0.7883952817676299,
           -0.8455770850184431,
           -0.7299803576145624,
           -0.8516478146898866,
           -0.522551666107918,
           -0.6126143835244854,
           -0.6058293648350266,
           -0.5600278631110599,
           -0.3488036440917657,
           -0.6010095389566948,
           -0.5940010492570962,
           -0.5508605512872348,
           -0.5252836071998636,
           -0.561952001567428,
           -0.6074009226220786,
           -0.4454509074899463,
           -0.4247948781532658,
           -0.5742264807894036,
           -0.5411432978995767,
           -0.5935175792301913,
           -0.5515745992284055,
           -0.5424890783168342,
           -0.6216756024389355,
           -0.5615528720660258
          ],
          [
           -0.31492346942637256,
           -0.6096627806860403,
           -0.8442555141376319,
           -0.9002879367527027,
           -0.6995999229774513,
           -1,
           -0.6919487225967564,
           -0.8629031413430683,
           -0.8083000829680609,
           -0.7321342490143607,
           -0.8680394769065717,
           -0.8931418328372056,
           -0.7781824304894976,
           -0.9271886030220994,
           -0.6180572075203091,
           -0.7010671069884836,
           -0.6834675875317003,
           -0.647376870500919,
           -0.45848885299738573,
           -0.6975125522776561,
           -0.6695537563328092,
           -0.6309189291815601,
           -0.5978350331506682,
           -0.6425256918728487,
           -0.6775748882867152,
           -0.5356208691426422,
           -0.5109443365169744,
           -0.6775511677508717,
           -0.6292453250265234,
           -0.6852552800795039,
           -0.6246754894832508,
           -0.6195764114974551,
           -0.6991167717170387,
           -0.6413335558076552
          ],
          [
           -0.28788295786093016,
           -0.5690218382628753,
           -0.8364008587142266,
           -0.9046327479339588,
           -0.7126239807737041,
           -0.9093759855265231,
           -0.7309637603905581,
           -0.8654861814990005,
           -0.8069452311554578,
           -0.7100809778654333,
           -0.8429446833050014,
           -0.8894206505436358,
           -0.7752734882216662,
           -0.9064043754478993,
           -0.5708756792822698,
           -0.6777765510308358,
           -0.6618613738253295,
           -0.6122836103521727,
           -0.4037554670882759,
           -0.6574075026976197,
           -0.64172797869505,
           -0.5944369878809147,
           -0.570850399320259,
           -0.6129350569117521,
           -0.6569714193868492,
           -0.4919622006404983,
           -0.4658417882108908,
           -0.6340450694676754,
           -0.5980660403246674,
           -0.6507381906513675,
           -0.6045079789392114,
           -0.5960661718264292,
           -0.6749032098255081,
           -0.6215800813225553
          ],
          [
           -0.273267176678944,
           -0.566442191663052,
           -0.8166907751902088,
           -0.8801157854450525,
           -0.7083811700550479,
           -0.9133825674799528,
           -0.6999582999989874,
           -0.8712811467228634,
           -0.8182198818993103,
           -0.7153624693083478,
           -0.8406669756923449,
           -0.8819753720148952,
           -0.7590908355414171,
           -0.9009662403417387,
           -0.5679568066742134,
           -0.6479987156841378,
           -0.642409134757598,
           -0.6021748670926138,
           -0.39566308992796445,
           -0.6475043401450344,
           -0.6288201903072246,
           -0.5875348903860851,
           -0.5620464851338606,
           -0.6017819648912365,
           -0.6367095778565899,
           -0.48003600106404104,
           -0.4512954164104937,
           -0.6210802488900863,
           -0.5676241707121431,
           -0.6285888672960638,
           -0.5847482397385667,
           -0.5696160108800069,
           -0.6518257340463902,
           -0.6021021225484419
          ],
          [
           -0.24031986434937627,
           -0.515959369826882,
           -0.7762921182669102,
           -0.8128744839807527,
           -0.6631324343811672,
           -0.8633954106449205,
           -0.6666066555704727,
           -0.8129030385434144,
           -0.783867626470971,
           -0.6753197460204291,
           -0.8238480713793623,
           -0.8604553099343569,
           -0.7364043629964321,
           -0.8643470798599703,
           -0.5112463988365126,
           -0.6146021018320823,
           -0.6012231168789574,
           -0.5484270963417367,
           -0.3660951236872106,
           -0.6037988880963874,
           -0.5917358444777823,
           -0.5462713479396317,
           -0.5276902500529808,
           -0.5689847091523319,
           -0.6048885398659691,
           -0.44551788867409897,
           -0.41650679052184253,
           -0.5861259415044958,
           -0.5394381825516836,
           -0.600494146799352,
           -0.5535175052649307,
           -0.5360619790953386,
           -0.6110622686070628,
           -0.5689647802028982
          ],
          [
           -0.12191355763119052,
           -0.41636066460378296,
           -0.555637735802362,
           -0.6251069153967554,
           -0.4783386943280094,
           -0.6795460854659771,
           -0.4646174703775533,
           -0.618397478144724,
           -0.5631416048432522,
           -0.6290894378152027,
           -0.6331366461816752,
           -0.6188036478149986,
           -0.522284621843432,
           -0.6818551861677831,
           -0.4127280422528883,
           -0.46743700897554497,
           -0.47519136609326806,
           -0.45121662546647695,
           -0.2247056947665872,
           -0.4759580391965703,
           -0.4774437575031762,
           -0.4442910986500416,
           -0.4206243542271333,
           -0.4543715854883888,
           -0.48593970970247685,
           -0.3635821712095259,
           -0.3328111480032434,
           -0.47288537532766056,
           -0.43362897533421424,
           -0.461829875952284,
           -0.4364687107968189,
           -0.4506524251512348,
           -0.506823613798205,
           -0.43177728207047844
          ],
          [
           -0.13482949576099157,
           -0.37836460366310265,
           -0.6033779143168014,
           -0.6266978133015614,
           -0.5067191438311325,
           -0.7013757669053114,
           -0.5078867557639379,
           -0.6456756729661798,
           -0.6038817685747389,
           -0.5529872237210803,
           -0.7192885358795527,
           -0.6885050665918682,
           -0.5737578841872815,
           -0.7390676189408331,
           -0.36904060014204093,
           -0.4619621086419761,
           -0.45069439837618597,
           -0.401165909701322,
           -0.23550993182489907,
           -0.4403981682860169,
           -0.43965507772619383,
           -0.4037015571023491,
           -0.3727427166629057,
           -0.4150275657130249,
           -0.44091098356209024,
           -0.30618915333813873,
           -0.2808996234690764,
           -0.42751165363270227,
           -0.40325901545334786,
           -0.45557455590723533,
           -0.40779774891724846,
           -0.39508443415809347,
           -0.4648027577048191,
           -0.4096018222863658
          ],
          [
           -0.14714491156491252,
           -0.41117630028808344,
           -0.6616494670495099,
           -0.6929141680404264,
           -0.5516360315695777,
           -0.744179278794314,
           -0.5628552648026923,
           -0.6834574942511364,
           -0.659191550943228,
           -0.5595611149218278,
           -0.7111738026608664,
           -0.7604981818128632,
           -0.6379868158181625,
           -0.7619839412873411,
           -0.4307482253465338,
           -0.5261339667127196,
           -0.5052020730648707,
           -0.4587672606247918,
           -0.27194185643383145,
           -0.5029069850093293,
           -0.4716229881911834,
           -0.4309183078698624,
           -0.412310494087535,
           -0.4561498034638634,
           -0.4865325795224113,
           -0.34127352771056435,
           -0.3235080144066378,
           -0.4927948620096291,
           -0.440174472071151,
           -0.4985283328022413,
           -0.4530203924351197,
           -0.4296392190597348,
           -0.5044302286323945,
           -0.4799932629587879
          ],
          [
           -0.21922114853405,
           -0.5075930412843731,
           -0.7805000188193418,
           -0.7989985146830192,
           -0.6488568669777414,
           -0.8497060756383839,
           -0.6519925591694631,
           -0.78495627313251,
           -0.765800854359753,
           -0.6466117389058476,
           -0.8062720391994703,
           -0.863426391594723,
           -0.7478557979350873,
           -0.8569536290104814,
           -0.5066673826004157,
           -0.6085146055049259,
           -0.5936418153518555,
           -0.5408674417814071,
           -0.34965311759103607,
           -0.5955770750670154,
           -0.5737222816531443,
           -0.5334543151639605,
           -0.5072356767736078,
           -0.5463911396916199,
           -0.5827137317959794,
           -0.4275040687060769,
           -0.40912160438807654,
           -0.5748599711242152,
           -0.5316672028483828,
           -0.5977635610652159,
           -0.5433858832755846,
           -0.5298087502082945,
           -0.6072472606777365,
           -0.5591088210486235
          ],
          [
           -0.1448669027166493,
           -0.38915624795848935,
           -0.5453870085509964,
           -0.6045094106637029,
           -0.4727797152862308,
           -0.6638408322652519,
           -0.46111950747610553,
           -0.6082570836755058,
           -0.5599452636029513,
           -0.551248821414921,
           -0.6536947065812737,
           -0.6398024700052006,
           -0.5591293076740875,
           -0.7432412336383121,
           -0.4206673091040044,
           -0.4806076338379696,
           -0.49038989589184484,
           -0.45345933486972867,
           -0.2387477399064525,
           -0.49250627172238576,
           -0.468118855875404,
           -0.4254511367557878,
           -0.4053571640306934,
           -0.44183108733333093,
           -0.4663904353980058,
           -0.3359723002138485,
           -0.30522345260352135,
           -0.46014186264019413,
           -0.41980219994615176,
           -0.4575018312242515,
           -0.4306426206113968,
           -0.41715847527258776,
           -0.47793690531809846,
           -0.4371167306210738
          ],
          [
           -0.14649128773145026,
           -0.5512124385161953,
           -0.45986852749494334,
           -0.5296431901285722,
           -0.3652262469727682,
           -0.5727726282972385,
           -0.3675245666531246,
           -0.4938846232045254,
           -0.4500258013473439,
           -0.43232961060336533,
           -0.507024487478057,
           -0.5114354599903507,
           -0.4545431915785232,
           -0.5824927692304697,
           -0.6481075129109899,
           -0.6583797901525799,
           -0.6703602085720943,
           -0.6545668918408495,
           -0.2635657147928772,
           -0.6537625516020942,
           -0.5859645026929599,
           -0.5666381294648425,
           -0.5094207453737253,
           -0.5628714036919205,
           -0.5588022994721384,
           -0.4417915635005022,
           -0.41147148602602573,
           -0.5323096596483131,
           -0.5806338338490062,
           -0.5780614330792584,
           -0.5661499219096249,
           -0.5474100912320147,
           -0.6270299257721546,
           -0.5843881994405735
          ],
          [
           -0.22141559331522817,
           -0.597173781337403,
           -0.5841618714946789,
           -0.6409244915275397,
           -0.4701957649688307,
           -0.6880410066569764,
           -0.4734197093381192,
           -0.6049741255581651,
           -0.563864777292294,
           -0.5133155154066765,
           -0.6129996651709129,
           -0.6329600679901204,
           -0.5667015545218187,
           -0.69186441057412,
           -0.6883671783910826,
           -0.7724225922959187,
           -0.730435137919888,
           -0.7013621697986866,
           -0.33498049090459536,
           -0.7664594747666242,
           -0.6491717062463405,
           -0.611302209083532,
           -0.5877266865163661,
           -0.637475841056772,
           -0.6470184196204664,
           -0.5119148474845078,
           -0.48037429935794157,
           -0.6108287741365204,
           -0.6918048339697201,
           -0.6913398249630179,
           -0.6734466276134554,
           -0.6571123345712825,
           -0.7476865905810034,
           -0.7172154386619819
          ],
          [
           -0.14783716926727902,
           -0.5625109816339435,
           -0.4355110295859121,
           -0.49654236225986226,
           -0.3444428950109603,
           -0.5586032511784634,
           -0.3353070325079069,
           -0.4496627123547007,
           -0.4251792187167435,
           -0.39120844809654354,
           -0.47564839340694864,
           -0.4733993821299825,
           -0.43579720321232024,
           -0.550616431302439,
           -0.6017215443882448,
           -0.5824109624534434,
           -0.6736304824368062,
           -0.6173127064722824,
           -0.26432627440878453,
           -0.5938756273661047,
           -0.5866886406920531,
           -0.5746104559352125,
           -0.4889748818537088,
           -0.5321037237711687,
           -0.5349354022781329,
           -0.4243966921062124,
           -0.4144779460194622,
           -0.5366660731529681,
           -0.5022608974365615,
           -0.5375120877782754,
           -0.5136013339629655,
           -0.49032258466935513,
           -0.5720805153719012,
           -0.5268793984898298
          ],
          [
           -0.15599922748155606,
           -0.5501477336922398,
           -0.4569692274024833,
           -0.5237226511228052,
           -0.35767760472939075,
           -0.5694150669866653,
           -0.35106904486815643,
           -0.48002503615553566,
           -0.43953669420859176,
           -0.4139131494380281,
           -0.5056889943727457,
           -0.4956885227235271,
           -0.44109271429914687,
           -0.5794142408418631,
           -0.6247949685712504,
           -0.6145007856111374,
           -0.6784346091756842,
           -0.6512004425011366,
           -0.27335001259927866,
           -0.6234761243344582,
           -0.5736521586297517,
           -0.5611601434387855,
           -0.4800751430142204,
           -0.5266786489387976,
           -0.5235787478371217,
           -0.4163695612709574,
           -0.3979086154412402,
           -0.5310984125022002,
           -0.5315200963744232,
           -0.5529981469259019,
           -0.5428582976512639,
           -0.513442923908714,
           -0.5909306658533363,
           -0.5595871621760572
          ],
          [
           -0.1167916009375825,
           -0.0422002147436607,
           -0.08083209838820786,
           -0.1311338030339697,
           -0.0032908110444099465,
           -0.16767768447654605,
           0,
           -0.08792299147345478,
           -0.06548616982666232,
           -0.058711596679107476,
           -0.0977224058703192,
           -0.10357659342726538,
           -0.07999206739978275,
           -0.1440501098694711,
           -0.05113359418151419,
           -0.08909087843958036,
           -0.1060669500167024,
           -0.07287892580923198,
           -0.491715120345001,
           -0.09698852323611408,
           -0.0976641901099183,
           -0.06206412599711939,
           -0.04501604964481836,
           -0.08086726760937625,
           -0.09167087719363871,
           -0.024735389638180866,
           -0.003428691342839057,
           -0.09184477906750678,
           -0.06388866517757968,
           -0.09360609907629235,
           -0.07203631233025644,
           -0.0739942354324207,
           -0.10990169163140259,
           -0.07625558615482626
          ],
          [
           -0.17989468220254345,
           -0.565482810295197,
           -0.5033247141236183,
           -0.5665583982802078,
           -0.4069983296014175,
           -0.6132571992847741,
           -0.397798044165642,
           -0.513425764834484,
           -0.4839277420925212,
           -0.44114566448570386,
           -0.5271556802445737,
           -0.5452629842355388,
           -0.49874218715545576,
           -0.6095443226928664,
           -0.6394517214107236,
           -0.6909299311848048,
           -0.6760261738064561,
           -0.6527624825950371,
           -0.28849174916407666,
           -0.7258675522706891,
           -0.5978692955933581,
           -0.5689620861470078,
           -0.5293752981746362,
           -0.5634189161777734,
           -0.5844114771842426,
           -0.45298423269895316,
           -0.4229770124400064,
           -0.5442965587073325,
           -0.5881195859979774,
           -0.6168166526259696,
           -0.5970024601409049,
           -0.5628874586941389,
           -0.6727755757816919,
           -0.6678151000862282
          ],
          [
           -0.1443493605926246,
           -0.5560143897150289,
           -0.4451362865741265,
           -0.5113762050396811,
           -0.3741238279756371,
           -0.5586304197929611,
           -0.34748102623070626,
           -0.4609569090951237,
           -0.43643423993320535,
           -0.3915764719265948,
           -0.45029394521930644,
           -0.4784594037474148,
           -0.4198539604258894,
           -0.5234193789226487,
           -0.4644304076078189,
           -0.505791231272608,
           -0.5488796797538393,
           -0.49342770990087936,
           -0.26147713776747294,
           -0.5260934916646045,
           -0.6658947216087141,
           -0.6231212839009604,
           -0.5147658382002686,
           -0.5340078758097272,
           -0.5616808753077742,
           -0.4363366243679087,
           -0.40902076831333495,
           -0.5363297468466196,
           -0.4431718969252617,
           -0.49679786609571963,
           -0.4677971516099183,
           -0.4693222814683501,
           -0.5535768153094456,
           -0.47265592402168544
          ],
          [
           -0.14040584289801286,
           -0.6063014017445564,
           -0.43952400544780246,
           -0.518588965625683,
           -0.36706665470919936,
           -0.5536852358165991,
           -0.33703059427459925,
           -0.464240510679618,
           -0.43284876944817635,
           -0.4041373450623724,
           -0.45548983065076626,
           -0.4713681089343924,
           -0.4101342096697524,
           -0.5231338658383324,
           -0.5012558293910089,
           -0.5138598726474203,
           -0.5935950316597004,
           -0.543122741339122,
           -0.2577288441538188,
           -0.5387489851158137,
           -0.6758000905666443,
           -0.6761796302541792,
           -0.5306734997494672,
           -0.5445546212815827,
           -0.5671634373995068,
           -0.4556910850441062,
           -0.44349316285722473,
           -0.5451178059561773,
           -0.4617462009001935,
           -0.5094281567980827,
           -0.4907551361231613,
           -0.48007137970764746,
           -0.5634952978618538,
           -0.47700411282593336
          ],
          [
           -0.09832752777383154,
           -0.48617179078285183,
           -0.4486948374101251,
           -0.5095178111768868,
           -0.36658511249235026,
           -0.5452531495947192,
           -0.34147717861582644,
           -0.4720406141771713,
           -0.429669135683505,
           -0.41944328662542485,
           -0.45672942801445654,
           -0.4828302729818496,
           -0.4116692377610806,
           -0.53301878048771,
           -0.4701061082207757,
           -0.5514188404583257,
           -0.5343982693411048,
           -0.4839891683963867,
           -0.2208807788850605,
           -0.5560704074413915,
           -0.5828583664622083,
           -0.5262129647375656,
           -0.5895927179920086,
           -0.6185610395213489,
           -0.6070926244263521,
           -0.512122236386846,
           -0.44796968549133853,
           -0.5758641084304359,
           -0.4862270191227941,
           -0.5086004769671789,
           -0.470652676383335,
           -0.47669193064396326,
           -0.5510927472012644,
           -0.5049783981042478
          ],
          [
           -0.1627271622106496,
           -0.5711025158696417,
           -0.5037043595294745,
           -0.5742641048813351,
           -0.41893563180571286,
           -0.6183807059498259,
           -0.3985225749912082,
           -0.539030456678435,
           -0.49841415941583705,
           -0.4894582602213932,
           -0.535398022202705,
           -0.553564658694084,
           -0.48422192865117636,
           -0.6033171172531385,
           -0.5395240665210828,
           -0.5979165965399061,
           -0.6190151080775675,
           -0.5588572473102563,
           -0.29778213674671206,
           -0.6194911363928385,
           -0.6820729987430417,
           -0.6238861397276919,
           -0.6647799808403747,
           -0.7277122313383557,
           -0.7020871128117263,
           -0.5972959336769644,
           -0.5286113497849957,
           -0.6691817766535332,
           -0.5315696505468784,
           -0.5818344703856757,
           -0.5316835545703521,
           -0.5253954048723144,
           -0.6169526222755526,
           -0.553685804090683
          ],
          [
           -0.14109529449333127,
           -0.5546770330694989,
           -0.49453861198006305,
           -0.573760777976245,
           -0.41845995839982425,
           -0.6163415289805467,
           -0.40866505310979884,
           -0.5308670342216427,
           -0.4975869585536262,
           -0.47643949965690185,
           -0.519306755445739,
           -0.5468031165473333,
           -0.47818358334450556,
           -0.5934926884072715,
           -0.5315773257821812,
           -0.5850567440860092,
           -0.5985565595799985,
           -0.5519348252778038,
           -0.28064299505090384,
           -0.60374023449269,
           -0.6549218968952568,
           -0.595642287369575,
           -0.6104443051284184,
           -0.6638280913417126,
           -0.6845781169730302,
           -0.5315792499337785,
           -0.4692319123893031,
           -0.5970403861305394,
           -0.5167716679003291,
           -0.5650959411742087,
           -0.5155102143625659,
           -0.5063869418092661,
           -0.6053885116177526,
           -0.5376728086290323
          ],
          [
           -0.1377988056034358,
           -0.5474168050658432,
           -0.47822507006093684,
           -0.5452713355783462,
           -0.39582137103537357,
           -0.6066712026971725,
           -0.37222915426216097,
           -0.5096326483319201,
           -0.4640318860963397,
           -0.4591571063212289,
           -0.5103345045360356,
           -0.5233544196206223,
           -0.4589700037895689,
           -0.5804342252154331,
           -0.5037918937986773,
           -0.5708460975127956,
           -0.5772331993196899,
           -0.5221575513856695,
           -0.2755701466097008,
           -0.5930538945802566,
           -0.6310869119660415,
           -0.5806775269203217,
           -0.6338802373603245,
           -0.6825246787953886,
           -0.6533422769526908,
           -0.587526802404022,
           -0.5023507719676658,
           -0.6474068328792733,
           -0.5036319864189346,
           -0.5548188853374509,
           -0.4989687859318727,
           -0.5063215168914398,
           -0.5854648680389783,
           -0.5303839482897146
          ],
          [
           -0.18157022512857965,
           -0.5981168244589892,
           -0.5324736940599105,
           -0.5932567043651086,
           -0.4505548509453672,
           -0.6374314612340918,
           -0.4098345626815298,
           -0.5592150495861327,
           -0.5209881817298492,
           -0.5004644712548768,
           -0.5550366357161082,
           -0.5699167842005743,
           -0.49636995649353105,
           -0.6298787587347817,
           -0.5388692509994367,
           -0.6010054032642204,
           -0.6479245827472159,
           -0.5788422174639695,
           -0.3128942966455162,
           -0.6178989001458262,
           -0.6861423445993917,
           -0.6482789836227925,
           -0.6624045693881191,
           -0.7005739988519506,
           -0.6799904645024101,
           -0.6022917037797296,
           -0.5713530919818969,
           -0.6908557346634902,
           -0.5461900765426896,
           -0.5933425080363008,
           -0.5471651934071353,
           -0.5521868450900952,
           -0.6290382441780333,
           -0.5601253924160806
          ],
          [
           -0.1540908296380063,
           -0.4778528339900852,
           -0.4515083180194746,
           -0.5171932331318333,
           -0.3929298590188221,
           -0.5762439455905009,
           -0.37319991292562965,
           -0.4966528568954096,
           -0.46957585804454843,
           -0.4686082032438459,
           -0.4970621968965033,
           -0.5080130521631006,
           -0.461105043589781,
           -0.5790764069722879,
           -0.4683905616525127,
           -0.5382655008488402,
           -0.5670449671433796,
           -0.49830475238208594,
           -0.2690513539046806,
           -0.5717483920004108,
           -0.5738912034246785,
           -0.5077248229520485,
           -0.5495036889649973,
           -0.6066053969459178,
           -0.5920718512985985,
           -0.48815111977020964,
           -0.4462904410297395,
           -0.6933193581154711,
           -0.4828312485484489,
           -0.5225777502412211,
           -0.46947875975365994,
           -0.4748819118706049,
           -0.5580031231504624,
           -0.5038090623794639
          ],
          [
           -0.16500319359213494,
           -0.5266160885861959,
           -0.5181182142684112,
           -0.5827085556183169,
           -0.42130779705087545,
           -0.6051262901786718,
           -0.433573504300502,
           -0.5443411710055579,
           -0.5041304729522902,
           -0.46739650449783854,
           -0.5322921091639213,
           -0.5548534270406384,
           -0.5107505055739033,
           -0.6027266069619763,
           -0.5571573651330886,
           -0.6857039425702609,
           -0.5902245922657284,
           -0.5725104091517054,
           -0.275819589376952,
           -0.6638010181248147,
           -0.5722068353916008,
           -0.5219168871910822,
           -0.52258657840041,
           -0.5677402417646106,
           -0.5915658186194677,
           -0.4565652722024289,
           -0.41114971890541435,
           -0.5426302525105252,
           -0.6507155186946727,
           -0.6611380509710274,
           -0.614299234896955,
           -0.6180468363739615,
           -0.7063568543868686,
           -0.6457263967587396
          ],
          [
           -0.2303373373134066,
           -0.6139732223515799,
           -0.6038281974862767,
           -0.6529022981441085,
           -0.4969084148177028,
           -0.6998911663225214,
           -0.5043808567326853,
           -0.6164895266319446,
           -0.585872067929877,
           -0.5548137457870194,
           -0.6205548238147156,
           -0.6432658221165071,
           -0.5848245877052851,
           -0.7022234707322335,
           -0.6091013799523812,
           -0.7331982742584833,
           -0.6828816856714033,
           -0.6465883182389154,
           -0.35294980292457484,
           -0.7353710818560322,
           -0.6654558771880438,
           -0.6128183944660307,
           -0.5996957713296377,
           -0.6417757776221108,
           -0.6619530994903506,
           -0.530553372139239,
           -0.49831459408441536,
           -0.6265704250441797,
           -0.6869062532117527,
           -0.7910801103826407,
           -0.7262411290669262,
           -0.7109537399802027,
           -0.801887737800646,
           -0.7207370023332753
          ],
          [
           -0.2279416949290231,
           -0.6249745851441693,
           -0.5997053310842956,
           -0.6440053239003694,
           -0.4926605856553457,
           -0.699046383648397,
           -0.5002354561425528,
           -0.6035192915159995,
           -0.5804038743601151,
           -0.5375751911483173,
           -0.6142811821809484,
           -0.6391507166286732,
           -0.573168055273333,
           -0.6929307265083189,
           -0.6327742576145666,
           -0.7472526041165928,
           -0.6876136232905995,
           -0.6674001256147154,
           -0.34940152731278695,
           -0.7353275177822997,
           -0.6670250910029719,
           -0.6211343076451435,
           -0.5852894891194015,
           -0.6249825801796949,
           -0.6470728972977191,
           -0.5158282542954337,
           -0.48901812520433713,
           -0.6181222803885554,
           -0.691735406073627,
           -0.7794887354603357,
           -0.7483291041906822,
           -0.7188325706645584,
           -0.8062979522813576,
           -0.7324652448291109
          ],
          [
           -0.17426632541040304,
           -0.5487782778232775,
           -0.5491472797042719,
           -0.5936699112306804,
           -0.44031094357259654,
           -0.6379466783075282,
           -0.4390300016251982,
           -0.5603414661113638,
           -0.5208070323948341,
           -0.4971204913336769,
           -0.5631970643302922,
           -0.5815495649597475,
           -0.5120408593850194,
           -0.6368821436312814,
           -0.5536368796060721,
           -0.6755086802697956,
           -0.6160686910834061,
           -0.5891982315611921,
           -0.2988283347480552,
           -0.6768869616173749,
           -0.6122606730479629,
           -0.5660581797464139,
           -0.5446053144419007,
           -0.5832153353730188,
           -0.6038955614772334,
           -0.4914969457871286,
           -0.45565814044256586,
           -0.567531512729278,
           -0.6379181555007798,
           -0.7258937192085049,
           -0.6707092401426586,
           -0.6799040431530907,
           -0.7472649889604253,
           -0.6634172533827801
          ],
          [
           -0.1906188858975225,
           -0.577301280633999,
           -0.5375076201656234,
           -0.5741673561237642,
           -0.43244078750706894,
           -0.6298122933866557,
           -0.4214969225711443,
           -0.5371842810298587,
           -0.5126914982083658,
           -0.4768754509166215,
           -0.541599456970136,
           -0.5770634608560803,
           -0.5089114945265538,
           -0.6228589756549185,
           -0.5615272766690477,
           -0.6893038892194651,
           -0.6116079530569764,
           -0.5954471055916093,
           -0.29573942571951733,
           -0.6868455834494027,
           -0.6119560642052112,
           -0.5680668543397642,
           -0.522003427324282,
           -0.5530005257697773,
           -0.5793985369805739,
           -0.45855285362287324,
           -0.43575072845439566,
           -0.5403423754928496,
           -0.6275649110229918,
           -0.7245384212541149,
           -0.6898311507280989,
           -0.6809200231141846,
           -0.7716531509809939,
           -0.6972869246359317
          ],
          [
           -0.20341372561657023,
           -0.5503842352523133,
           -0.534582270757429,
           -0.5807484364873656,
           -0.4361860757836725,
           -0.6321433452993541,
           -0.4292203852533994,
           -0.542003646755895,
           -0.5141345821796275,
           -0.4651192826007554,
           -0.5478105332365434,
           -0.5817547796794577,
           -0.5302294010249947,
           -0.6326870921381381,
           -0.5849883347682955,
           -0.7021777354004067,
           -0.6589261612856571,
           -0.6237893753252083,
           -0.31168277955251517,
           -0.7033232825232205,
           -0.603300079183758,
           -0.5570730319610051,
           -0.5438095821383023,
           -0.5806601523988896,
           -0.6002851531596924,
           -0.4671320754701483,
           -0.43642840770952857,
           -0.5597889319834821,
           -0.6119003889402093,
           -0.6724692424349906,
           -0.644921876001098,
           -0.6146886956651023,
           -0.7251052677715901,
           -0.6973940593021268
          ]
         ]
        },
        {
         "hovertemplate": "%{y} -> %{x}",
         "marker": {
          "color": [
           "green",
           "green",
           "green",
           "green",
           "green",
           "green",
           "green",
           "green",
           "green",
           "green",
           "green",
           "green",
           "green",
           "green",
           "green",
           "green",
           "green",
           "green",
           "green",
           "green",
           "green",
           "green",
           "green",
           "green",
           "green",
           "green",
           "green",
           "green",
           "green",
           "green",
           "green",
           "green",
           "green",
           "green"
          ],
          "size": 5
         },
         "mode": "markers",
         "name": "",
         "type": "scatter",
         "x": [
          "Astrocyte",
          "Chandelier",
          "Exc L2/3 IT",
          "Exc L3/5 IT",
          "Exc L4/5 IT",
          "Exc L5 PT",
          "Exc L5/6 IT 1",
          "Exc L5/6 IT 2",
          "Exc L5/6 IT 3",
          "Exc L5/6 NP",
          "Exc L6 CT",
          "Exc L6 IT 1",
          "Exc L6 IT 2",
          "Exc L6b",
          "Lamp5 1",
          "Lamp5 2",
          "Lamp5 Lhx6",
          "Lamp5 Rosehip",
          "Oligo",
          "Pax6",
          "Pvalb 1",
          "Pvalb 2",
          "Sst 1",
          "Sst 2",
          "Sst 3",
          "Sst 4",
          "Sst 5",
          "Sst Chodl",
          "Vip 1",
          "Vip 2",
          "Vip 3",
          "Vip 4",
          "Vip 5",
          "Vip Sncg"
         ],
         "y": [
          "Astrocyte",
          "Chandelier",
          "Exc L2/3 IT",
          "Exc L3/5 IT",
          "Exc L4/5 IT",
          "Exc L5 PT",
          "Exc L5/6 IT 1",
          "Exc L5/6 IT 2",
          "Exc L5/6 IT 3",
          "Exc L5/6 NP",
          "Exc L6 CT",
          "Exc L6 IT 1",
          "Exc L6 IT 2",
          "Exc L6b",
          "Lamp5 1",
          "Lamp5 2",
          "Lamp5 Lhx6",
          "Lamp5 Rosehip",
          "Oligo",
          "Pax6",
          "Pvalb 1",
          "Pvalb 2",
          "Sst 1",
          "Sst 2",
          "Sst 3",
          "Sst 4",
          "Sst 5",
          "Sst Chodl",
          "Vip 1",
          "Vip 2",
          "Vip 3",
          "Vip 4",
          "Vip 5",
          "Vip Sncg"
         ]
        }
       ],
       "layout": {
        "coloraxis": {
         "colorbar": {
          "title": {
           "text": "cost"
          }
         },
         "colorscale": [
          [
           0,
           "rgb(75, 41, 145)"
          ],
          [
           0.16666666666666666,
           "rgb(135, 44, 162)"
          ],
          [
           0.3333333333333333,
           "rgb(192, 54, 157)"
          ],
          [
           0.5,
           "rgb(234, 79, 136)"
          ],
          [
           0.6666666666666666,
           "rgb(250, 120, 118)"
          ],
          [
           0.8333333333333334,
           "rgb(246, 169, 122)"
          ],
          [
           1,
           "rgb(237, 217, 163)"
          ]
         ]
        },
        "template": {
         "data": {
          "bar": [
           {
            "error_x": {
             "color": "#2a3f5f"
            },
            "error_y": {
             "color": "#2a3f5f"
            },
            "marker": {
             "line": {
              "color": "#E5ECF6",
              "width": 0.5
             },
             "pattern": {
              "fillmode": "overlay",
              "size": 10,
              "solidity": 0.2
             }
            },
            "type": "bar"
           }
          ],
          "barpolar": [
           {
            "marker": {
             "line": {
              "color": "#E5ECF6",
              "width": 0.5
             },
             "pattern": {
              "fillmode": "overlay",
              "size": 10,
              "solidity": 0.2
             }
            },
            "type": "barpolar"
           }
          ],
          "carpet": [
           {
            "aaxis": {
             "endlinecolor": "#2a3f5f",
             "gridcolor": "white",
             "linecolor": "white",
             "minorgridcolor": "white",
             "startlinecolor": "#2a3f5f"
            },
            "baxis": {
             "endlinecolor": "#2a3f5f",
             "gridcolor": "white",
             "linecolor": "white",
             "minorgridcolor": "white",
             "startlinecolor": "#2a3f5f"
            },
            "type": "carpet"
           }
          ],
          "choropleth": [
           {
            "colorbar": {
             "outlinewidth": 0,
             "ticks": ""
            },
            "type": "choropleth"
           }
          ],
          "contour": [
           {
            "colorbar": {
             "outlinewidth": 0,
             "ticks": ""
            },
            "colorscale": [
             [
              0,
              "#0d0887"
             ],
             [
              0.1111111111111111,
              "#46039f"
             ],
             [
              0.2222222222222222,
              "#7201a8"
             ],
             [
              0.3333333333333333,
              "#9c179e"
             ],
             [
              0.4444444444444444,
              "#bd3786"
             ],
             [
              0.5555555555555556,
              "#d8576b"
             ],
             [
              0.6666666666666666,
              "#ed7953"
             ],
             [
              0.7777777777777778,
              "#fb9f3a"
             ],
             [
              0.8888888888888888,
              "#fdca26"
             ],
             [
              1,
              "#f0f921"
             ]
            ],
            "type": "contour"
           }
          ],
          "contourcarpet": [
           {
            "colorbar": {
             "outlinewidth": 0,
             "ticks": ""
            },
            "type": "contourcarpet"
           }
          ],
          "heatmap": [
           {
            "colorbar": {
             "outlinewidth": 0,
             "ticks": ""
            },
            "colorscale": [
             [
              0,
              "#0d0887"
             ],
             [
              0.1111111111111111,
              "#46039f"
             ],
             [
              0.2222222222222222,
              "#7201a8"
             ],
             [
              0.3333333333333333,
              "#9c179e"
             ],
             [
              0.4444444444444444,
              "#bd3786"
             ],
             [
              0.5555555555555556,
              "#d8576b"
             ],
             [
              0.6666666666666666,
              "#ed7953"
             ],
             [
              0.7777777777777778,
              "#fb9f3a"
             ],
             [
              0.8888888888888888,
              "#fdca26"
             ],
             [
              1,
              "#f0f921"
             ]
            ],
            "type": "heatmap"
           }
          ],
          "heatmapgl": [
           {
            "colorbar": {
             "outlinewidth": 0,
             "ticks": ""
            },
            "colorscale": [
             [
              0,
              "#0d0887"
             ],
             [
              0.1111111111111111,
              "#46039f"
             ],
             [
              0.2222222222222222,
              "#7201a8"
             ],
             [
              0.3333333333333333,
              "#9c179e"
             ],
             [
              0.4444444444444444,
              "#bd3786"
             ],
             [
              0.5555555555555556,
              "#d8576b"
             ],
             [
              0.6666666666666666,
              "#ed7953"
             ],
             [
              0.7777777777777778,
              "#fb9f3a"
             ],
             [
              0.8888888888888888,
              "#fdca26"
             ],
             [
              1,
              "#f0f921"
             ]
            ],
            "type": "heatmapgl"
           }
          ],
          "histogram": [
           {
            "marker": {
             "pattern": {
              "fillmode": "overlay",
              "size": 10,
              "solidity": 0.2
             }
            },
            "type": "histogram"
           }
          ],
          "histogram2d": [
           {
            "colorbar": {
             "outlinewidth": 0,
             "ticks": ""
            },
            "colorscale": [
             [
              0,
              "#0d0887"
             ],
             [
              0.1111111111111111,
              "#46039f"
             ],
             [
              0.2222222222222222,
              "#7201a8"
             ],
             [
              0.3333333333333333,
              "#9c179e"
             ],
             [
              0.4444444444444444,
              "#bd3786"
             ],
             [
              0.5555555555555556,
              "#d8576b"
             ],
             [
              0.6666666666666666,
              "#ed7953"
             ],
             [
              0.7777777777777778,
              "#fb9f3a"
             ],
             [
              0.8888888888888888,
              "#fdca26"
             ],
             [
              1,
              "#f0f921"
             ]
            ],
            "type": "histogram2d"
           }
          ],
          "histogram2dcontour": [
           {
            "colorbar": {
             "outlinewidth": 0,
             "ticks": ""
            },
            "colorscale": [
             [
              0,
              "#0d0887"
             ],
             [
              0.1111111111111111,
              "#46039f"
             ],
             [
              0.2222222222222222,
              "#7201a8"
             ],
             [
              0.3333333333333333,
              "#9c179e"
             ],
             [
              0.4444444444444444,
              "#bd3786"
             ],
             [
              0.5555555555555556,
              "#d8576b"
             ],
             [
              0.6666666666666666,
              "#ed7953"
             ],
             [
              0.7777777777777778,
              "#fb9f3a"
             ],
             [
              0.8888888888888888,
              "#fdca26"
             ],
             [
              1,
              "#f0f921"
             ]
            ],
            "type": "histogram2dcontour"
           }
          ],
          "mesh3d": [
           {
            "colorbar": {
             "outlinewidth": 0,
             "ticks": ""
            },
            "type": "mesh3d"
           }
          ],
          "parcoords": [
           {
            "line": {
             "colorbar": {
              "outlinewidth": 0,
              "ticks": ""
             }
            },
            "type": "parcoords"
           }
          ],
          "pie": [
           {
            "automargin": true,
            "type": "pie"
           }
          ],
          "scatter": [
           {
            "fillpattern": {
             "fillmode": "overlay",
             "size": 10,
             "solidity": 0.2
            },
            "type": "scatter"
           }
          ],
          "scatter3d": [
           {
            "line": {
             "colorbar": {
              "outlinewidth": 0,
              "ticks": ""
             }
            },
            "marker": {
             "colorbar": {
              "outlinewidth": 0,
              "ticks": ""
             }
            },
            "type": "scatter3d"
           }
          ],
          "scattercarpet": [
           {
            "marker": {
             "colorbar": {
              "outlinewidth": 0,
              "ticks": ""
             }
            },
            "type": "scattercarpet"
           }
          ],
          "scattergeo": [
           {
            "marker": {
             "colorbar": {
              "outlinewidth": 0,
              "ticks": ""
             }
            },
            "type": "scattergeo"
           }
          ],
          "scattergl": [
           {
            "marker": {
             "colorbar": {
              "outlinewidth": 0,
              "ticks": ""
             }
            },
            "type": "scattergl"
           }
          ],
          "scattermapbox": [
           {
            "marker": {
             "colorbar": {
              "outlinewidth": 0,
              "ticks": ""
             }
            },
            "type": "scattermapbox"
           }
          ],
          "scatterpolar": [
           {
            "marker": {
             "colorbar": {
              "outlinewidth": 0,
              "ticks": ""
             }
            },
            "type": "scatterpolar"
           }
          ],
          "scatterpolargl": [
           {
            "marker": {
             "colorbar": {
              "outlinewidth": 0,
              "ticks": ""
             }
            },
            "type": "scatterpolargl"
           }
          ],
          "scatterternary": [
           {
            "marker": {
             "colorbar": {
              "outlinewidth": 0,
              "ticks": ""
             }
            },
            "type": "scatterternary"
           }
          ],
          "surface": [
           {
            "colorbar": {
             "outlinewidth": 0,
             "ticks": ""
            },
            "colorscale": [
             [
              0,
              "#0d0887"
             ],
             [
              0.1111111111111111,
              "#46039f"
             ],
             [
              0.2222222222222222,
              "#7201a8"
             ],
             [
              0.3333333333333333,
              "#9c179e"
             ],
             [
              0.4444444444444444,
              "#bd3786"
             ],
             [
              0.5555555555555556,
              "#d8576b"
             ],
             [
              0.6666666666666666,
              "#ed7953"
             ],
             [
              0.7777777777777778,
              "#fb9f3a"
             ],
             [
              0.8888888888888888,
              "#fdca26"
             ],
             [
              1,
              "#f0f921"
             ]
            ],
            "type": "surface"
           }
          ],
          "table": [
           {
            "cells": {
             "fill": {
              "color": "#EBF0F8"
             },
             "line": {
              "color": "white"
             }
            },
            "header": {
             "fill": {
              "color": "#C8D4E3"
             },
             "line": {
              "color": "white"
             }
            },
            "type": "table"
           }
          ]
         },
         "layout": {
          "annotationdefaults": {
           "arrowcolor": "#2a3f5f",
           "arrowhead": 0,
           "arrowwidth": 1
          },
          "autotypenumbers": "strict",
          "coloraxis": {
           "colorbar": {
            "outlinewidth": 0,
            "ticks": ""
           }
          },
          "colorscale": {
           "diverging": [
            [
             0,
             "#8e0152"
            ],
            [
             0.1,
             "#c51b7d"
            ],
            [
             0.2,
             "#de77ae"
            ],
            [
             0.3,
             "#f1b6da"
            ],
            [
             0.4,
             "#fde0ef"
            ],
            [
             0.5,
             "#f7f7f7"
            ],
            [
             0.6,
             "#e6f5d0"
            ],
            [
             0.7,
             "#b8e186"
            ],
            [
             0.8,
             "#7fbc41"
            ],
            [
             0.9,
             "#4d9221"
            ],
            [
             1,
             "#276419"
            ]
           ],
           "sequential": [
            [
             0,
             "#0d0887"
            ],
            [
             0.1111111111111111,
             "#46039f"
            ],
            [
             0.2222222222222222,
             "#7201a8"
            ],
            [
             0.3333333333333333,
             "#9c179e"
            ],
            [
             0.4444444444444444,
             "#bd3786"
            ],
            [
             0.5555555555555556,
             "#d8576b"
            ],
            [
             0.6666666666666666,
             "#ed7953"
            ],
            [
             0.7777777777777778,
             "#fb9f3a"
            ],
            [
             0.8888888888888888,
             "#fdca26"
            ],
            [
             1,
             "#f0f921"
            ]
           ],
           "sequentialminus": [
            [
             0,
             "#0d0887"
            ],
            [
             0.1111111111111111,
             "#46039f"
            ],
            [
             0.2222222222222222,
             "#7201a8"
            ],
            [
             0.3333333333333333,
             "#9c179e"
            ],
            [
             0.4444444444444444,
             "#bd3786"
            ],
            [
             0.5555555555555556,
             "#d8576b"
            ],
            [
             0.6666666666666666,
             "#ed7953"
            ],
            [
             0.7777777777777778,
             "#fb9f3a"
            ],
            [
             0.8888888888888888,
             "#fdca26"
            ],
            [
             1,
             "#f0f921"
            ]
           ]
          },
          "colorway": [
           "#636efa",
           "#EF553B",
           "#00cc96",
           "#ab63fa",
           "#FFA15A",
           "#19d3f3",
           "#FF6692",
           "#B6E880",
           "#FF97FF",
           "#FECB52"
          ],
          "font": {
           "color": "#2a3f5f"
          },
          "geo": {
           "bgcolor": "white",
           "lakecolor": "white",
           "landcolor": "#E5ECF6",
           "showlakes": true,
           "showland": true,
           "subunitcolor": "white"
          },
          "hoverlabel": {
           "align": "left"
          },
          "hovermode": "closest",
          "mapbox": {
           "style": "light"
          },
          "paper_bgcolor": "white",
          "plot_bgcolor": "#E5ECF6",
          "polar": {
           "angularaxis": {
            "gridcolor": "white",
            "linecolor": "white",
            "ticks": ""
           },
           "bgcolor": "#E5ECF6",
           "radialaxis": {
            "gridcolor": "white",
            "linecolor": "white",
            "ticks": ""
           }
          },
          "scene": {
           "xaxis": {
            "backgroundcolor": "#E5ECF6",
            "gridcolor": "white",
            "gridwidth": 2,
            "linecolor": "white",
            "showbackground": true,
            "ticks": "",
            "zerolinecolor": "white"
           },
           "yaxis": {
            "backgroundcolor": "#E5ECF6",
            "gridcolor": "white",
            "gridwidth": 2,
            "linecolor": "white",
            "showbackground": true,
            "ticks": "",
            "zerolinecolor": "white"
           },
           "zaxis": {
            "backgroundcolor": "#E5ECF6",
            "gridcolor": "white",
            "gridwidth": 2,
            "linecolor": "white",
            "showbackground": true,
            "ticks": "",
            "zerolinecolor": "white"
           }
          },
          "shapedefaults": {
           "line": {
            "color": "#2a3f5f"
           }
          },
          "ternary": {
           "aaxis": {
            "gridcolor": "white",
            "linecolor": "white",
            "ticks": ""
           },
           "baxis": {
            "gridcolor": "white",
            "linecolor": "white",
            "ticks": ""
           },
           "bgcolor": "#E5ECF6",
           "caxis": {
            "gridcolor": "white",
            "linecolor": "white",
            "ticks": ""
           }
          },
          "title": {
           "x": 0.05
          },
          "xaxis": {
           "automargin": true,
           "gridcolor": "white",
           "linecolor": "white",
           "ticks": "",
           "title": {
            "standoff": 15
           },
           "zerolinecolor": "white",
           "zerolinewidth": 2
          },
          "yaxis": {
           "automargin": true,
           "gridcolor": "white",
           "linecolor": "white",
           "ticks": "",
           "title": {
            "standoff": 15
           },
           "zerolinecolor": "white",
           "zerolinewidth": 2
          }
         }
        },
        "title": {
         "text": "ALM to MTG matching cost"
        },
        "xaxis": {
         "anchor": "y",
         "constrain": "domain",
         "domain": [
          0,
          1
         ],
         "scaleanchor": "y",
         "tickangle": -90,
         "title": {
          "text": "Reference: MTG"
         }
        },
        "yaxis": {
         "anchor": "x",
         "autorange": "reversed",
         "constrain": "domain",
         "domain": [
          0,
          1
         ],
         "title": {
          "text": "Query: ALM"
         }
        }
       }
      }
     },
     "metadata": {},
     "output_type": "display_data"
    }
   ],
   "source": [
    "from embeddings import HVGEmbedder, PCAEmbedder\n",
    "q, ref = 'MTG', 'ALM'\n",
    "\n",
    "rcm = RefCM(discovery_threshold=None)\n",
    "rcm.setref(ds[q], q, 'labels34')\n",
    "m = rcm.annotate(ds[ref], ref, 'labels34')\n",
    "m.eval('labels34')\n",
    "m.display_matching_costs('labels34')"
   ]
  },
  {
   "cell_type": "code",
   "execution_count": 6,
   "metadata": {},
   "outputs": [
    {
     "name": "stderr",
     "output_type": "stream",
     "text": [
      "[refcm           ] [INFO    ] : NOTE: raw counts expected in anndata .X attributes.\n",
      "|████████████████| [100.00% ] : 00:38\n",
      "[matchings       ] [INFO    ] : mapped MTG                  to ALM                 \n",
      "[matchings       ] [INFO    ] : (34 common cell types)\n",
      "[matchings       ] [INFO    ] : 34/34 correct mappings\n",
      "[matchings       ] [INFO    ] : 0 /34 incorrect mappings\n",
      "|████████████████| [100.00% ] : 00:43\n",
      "[matchings       ] [INFO    ] : mapped MTG                  to VISp                \n",
      "[matchings       ] [INFO    ] : (34 common cell types)\n",
      "[matchings       ] [INFO    ] : 34/34 correct mappings\n",
      "[matchings       ] [INFO    ] : 0 /34 incorrect mappings\n",
      "|████████████████| [100.00% ] : 00:36\n",
      "[matchings       ] [INFO    ] : mapped ALM                  to MTG                 \n",
      "[matchings       ] [INFO    ] : (34 common cell types)\n",
      "[matchings       ] [INFO    ] : 34/34 correct mappings\n",
      "[matchings       ] [INFO    ] : 0 /34 incorrect mappings\n",
      "|████████████████| [100.00% ] : 01:01\n",
      "[matchings       ] [INFO    ] : mapped ALM                  to VISp                \n",
      "[matchings       ] [INFO    ] : (34 common cell types)\n",
      "[matchings       ] [INFO    ] : 34/34 correct mappings\n",
      "[matchings       ] [INFO    ] : 0 /34 incorrect mappings\n",
      "|████████████████| [100.00% ] : 00:44\n",
      "[matchings       ] [INFO    ] : mapped VISp                 to MTG                 \n",
      "[matchings       ] [INFO    ] : (34 common cell types)\n",
      "[matchings       ] [INFO    ] : 34/34 correct mappings\n",
      "[matchings       ] [INFO    ] : 0 /34 incorrect mappings\n",
      "|████████████████| [100.00% ] : 01:25\n",
      "[matchings       ] [INFO    ] : mapped VISp                 to ALM                 \n",
      "[matchings       ] [INFO    ] : (34 common cell types)\n",
      "[matchings       ] [INFO    ] : 34/34 correct mappings\n",
      "[matchings       ] [INFO    ] : 0 /34 incorrect mappings\n"
     ]
    }
   ],
   "source": [
    "rcm = RefCM(discovery_threshold=0)\n",
    "\n",
    "for i, q_id in enumerate(ds):\n",
    "    for ref_id in [d for d in ds if d != q_id]:\n",
    "        m = rcm.annotate(ds[q_id], q_id, ds[ref_id], ref_id, 'labels34', 'labels34')\n",
    "        m.eval('labels34')"
   ]
  },
  {
   "cell_type": "code",
   "execution_count": null,
   "metadata": {},
   "outputs": [],
   "source": []
  }
 ],
 "metadata": {
  "kernelspec": {
   "display_name": "SCC",
   "language": "python",
   "name": "python3"
  },
  "language_info": {
   "codemirror_mode": {
    "name": "ipython",
    "version": 3
   },
   "file_extension": ".py",
   "mimetype": "text/x-python",
   "name": "python",
   "nbconvert_exporter": "python",
   "pygments_lexer": "ipython3",
   "version": "3.11.9"
  }
 },
 "nbformat": 4,
 "nbformat_minor": 4
}
