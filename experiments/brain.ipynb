{
 "cells": [
  {
   "cell_type": "code",
   "execution_count": 1,
   "metadata": {},
   "outputs": [],
   "source": [
    "import sys\n",
    "sys.path.append('../src/')\n",
    "\n",
    "import config\n",
    "import logging\n",
    "import scanpy as sc\n",
    "from refcm import RefCM\n",
    "\n",
    "config.start_logging(logging.DEBUG)"
   ]
  },
  {
   "cell_type": "code",
   "execution_count": 2,
   "metadata": {},
   "outputs": [],
   "source": [
    "%load_ext autoreload\n",
    "%autoreload 2"
   ]
  },
  {
   "cell_type": "code",
   "execution_count": 3,
   "metadata": {},
   "outputs": [
    {
     "name": "stderr",
     "output_type": "stream",
     "text": [
      "[h5py._conv      ] [DEBUG   ] : Creating converter from 3 to 5\n"
     ]
    }
   ],
   "source": [
    "ds = ['MTG', 'ALM', 'VISp']\n",
    "ds = {s: sc.read_h5ad(f'../data/{s}.h5ad') for s in ds}"
   ]
  },
  {
   "cell_type": "code",
   "execution_count": 4,
   "metadata": {},
   "outputs": [
    {
     "data": {
      "text/html": [
       "<div>\n",
       "<style scoped>\n",
       "    .dataframe tbody tr th:only-of-type {\n",
       "        vertical-align: middle;\n",
       "    }\n",
       "\n",
       "    .dataframe tbody tr th {\n",
       "        vertical-align: top;\n",
       "    }\n",
       "\n",
       "    .dataframe thead th {\n",
       "        text-align: right;\n",
       "    }\n",
       "</style>\n",
       "<table border=\"1\" class=\"dataframe\">\n",
       "  <thead>\n",
       "    <tr style=\"text-align: right;\">\n",
       "      <th></th>\n",
       "      <th>X0610007P14Rik</th>\n",
       "      <th>X0610009O20Rik</th>\n",
       "      <th>X0610010F05Rik</th>\n",
       "      <th>X0610011F06Rik</th>\n",
       "      <th>X0610030E20Rik</th>\n",
       "      <th>X0610037L13Rik</th>\n",
       "      <th>X0610040J01Rik</th>\n",
       "      <th>X1110001J03Rik</th>\n",
       "      <th>X1110004E09Rik</th>\n",
       "      <th>X1110004F10Rik</th>\n",
       "      <th>...</th>\n",
       "      <th>Zwint</th>\n",
       "      <th>Zxdb</th>\n",
       "      <th>Zxdc</th>\n",
       "      <th>Zyg11a</th>\n",
       "      <th>Zyg11b</th>\n",
       "      <th>Zyx</th>\n",
       "      <th>Zzef1</th>\n",
       "      <th>Zzz3</th>\n",
       "      <th>a</th>\n",
       "      <th>l7Rn6</th>\n",
       "    </tr>\n",
       "  </thead>\n",
       "  <tbody>\n",
       "    <tr>\n",
       "      <th>F1S4_160106_001_B01</th>\n",
       "      <td>0.0</td>\n",
       "      <td>157.0</td>\n",
       "      <td>9.0</td>\n",
       "      <td>12.0</td>\n",
       "      <td>0.0</td>\n",
       "      <td>0.0</td>\n",
       "      <td>88.0</td>\n",
       "      <td>1.0</td>\n",
       "      <td>268.0</td>\n",
       "      <td>258.0</td>\n",
       "      <td>...</td>\n",
       "      <td>0.0</td>\n",
       "      <td>0.0</td>\n",
       "      <td>0.0</td>\n",
       "      <td>0.0</td>\n",
       "      <td>33.0</td>\n",
       "      <td>0.0</td>\n",
       "      <td>1.0</td>\n",
       "      <td>306.0</td>\n",
       "      <td>0.0</td>\n",
       "      <td>374.0</td>\n",
       "    </tr>\n",
       "    <tr>\n",
       "      <th>F1S4_160106_001_C01</th>\n",
       "      <td>107.0</td>\n",
       "      <td>80.0</td>\n",
       "      <td>85.0</td>\n",
       "      <td>0.0</td>\n",
       "      <td>0.0</td>\n",
       "      <td>245.0</td>\n",
       "      <td>1.0</td>\n",
       "      <td>0.0</td>\n",
       "      <td>327.0</td>\n",
       "      <td>521.0</td>\n",
       "      <td>...</td>\n",
       "      <td>0.0</td>\n",
       "      <td>17.0</td>\n",
       "      <td>35.0</td>\n",
       "      <td>0.0</td>\n",
       "      <td>258.0</td>\n",
       "      <td>0.0</td>\n",
       "      <td>8.0</td>\n",
       "      <td>341.0</td>\n",
       "      <td>0.0</td>\n",
       "      <td>189.0</td>\n",
       "    </tr>\n",
       "    <tr>\n",
       "      <th>F1S4_160106_001_E01</th>\n",
       "      <td>53.0</td>\n",
       "      <td>36.0</td>\n",
       "      <td>19.0</td>\n",
       "      <td>12.0</td>\n",
       "      <td>0.0</td>\n",
       "      <td>23.0</td>\n",
       "      <td>0.0</td>\n",
       "      <td>0.0</td>\n",
       "      <td>196.0</td>\n",
       "      <td>96.0</td>\n",
       "      <td>...</td>\n",
       "      <td>0.0</td>\n",
       "      <td>0.0</td>\n",
       "      <td>13.0</td>\n",
       "      <td>25.0</td>\n",
       "      <td>45.0</td>\n",
       "      <td>72.0</td>\n",
       "      <td>197.0</td>\n",
       "      <td>296.0</td>\n",
       "      <td>2.0</td>\n",
       "      <td>33.0</td>\n",
       "    </tr>\n",
       "    <tr>\n",
       "      <th>F1S4_160106_001_G01</th>\n",
       "      <td>2.0</td>\n",
       "      <td>1.0</td>\n",
       "      <td>344.0</td>\n",
       "      <td>31.0</td>\n",
       "      <td>0.0</td>\n",
       "      <td>82.0</td>\n",
       "      <td>0.0</td>\n",
       "      <td>36.0</td>\n",
       "      <td>45.0</td>\n",
       "      <td>66.0</td>\n",
       "      <td>...</td>\n",
       "      <td>0.0</td>\n",
       "      <td>0.0</td>\n",
       "      <td>82.0</td>\n",
       "      <td>0.0</td>\n",
       "      <td>181.0</td>\n",
       "      <td>0.0</td>\n",
       "      <td>58.0</td>\n",
       "      <td>206.0</td>\n",
       "      <td>28.0</td>\n",
       "      <td>97.0</td>\n",
       "    </tr>\n",
       "    <tr>\n",
       "      <th>F1S4_160106_001_H01</th>\n",
       "      <td>97.0</td>\n",
       "      <td>0.0</td>\n",
       "      <td>264.0</td>\n",
       "      <td>103.0</td>\n",
       "      <td>37.0</td>\n",
       "      <td>0.0</td>\n",
       "      <td>1.0</td>\n",
       "      <td>0.0</td>\n",
       "      <td>40.0</td>\n",
       "      <td>122.0</td>\n",
       "      <td>...</td>\n",
       "      <td>0.0</td>\n",
       "      <td>0.0</td>\n",
       "      <td>0.0</td>\n",
       "      <td>0.0</td>\n",
       "      <td>317.0</td>\n",
       "      <td>10.0</td>\n",
       "      <td>169.0</td>\n",
       "      <td>0.0</td>\n",
       "      <td>12.0</td>\n",
       "      <td>0.0</td>\n",
       "    </tr>\n",
       "    <tr>\n",
       "      <th>...</th>\n",
       "      <td>...</td>\n",
       "      <td>...</td>\n",
       "      <td>...</td>\n",
       "      <td>...</td>\n",
       "      <td>...</td>\n",
       "      <td>...</td>\n",
       "      <td>...</td>\n",
       "      <td>...</td>\n",
       "      <td>...</td>\n",
       "      <td>...</td>\n",
       "      <td>...</td>\n",
       "      <td>...</td>\n",
       "      <td>...</td>\n",
       "      <td>...</td>\n",
       "      <td>...</td>\n",
       "      <td>...</td>\n",
       "      <td>...</td>\n",
       "      <td>...</td>\n",
       "      <td>...</td>\n",
       "      <td>...</td>\n",
       "      <td>...</td>\n",
       "    </tr>\n",
       "    <tr>\n",
       "      <th>F2S4_170405_060_A01</th>\n",
       "      <td>46.0</td>\n",
       "      <td>34.0</td>\n",
       "      <td>232.0</td>\n",
       "      <td>51.0</td>\n",
       "      <td>0.0</td>\n",
       "      <td>41.0</td>\n",
       "      <td>0.0</td>\n",
       "      <td>0.0</td>\n",
       "      <td>0.0</td>\n",
       "      <td>209.0</td>\n",
       "      <td>...</td>\n",
       "      <td>0.0</td>\n",
       "      <td>0.0</td>\n",
       "      <td>49.0</td>\n",
       "      <td>0.0</td>\n",
       "      <td>160.0</td>\n",
       "      <td>51.0</td>\n",
       "      <td>46.0</td>\n",
       "      <td>352.0</td>\n",
       "      <td>0.0</td>\n",
       "      <td>76.0</td>\n",
       "    </tr>\n",
       "    <tr>\n",
       "      <th>F2S4_170405_060_B01</th>\n",
       "      <td>0.0</td>\n",
       "      <td>186.0</td>\n",
       "      <td>156.0</td>\n",
       "      <td>29.0</td>\n",
       "      <td>0.0</td>\n",
       "      <td>0.0</td>\n",
       "      <td>0.0</td>\n",
       "      <td>0.0</td>\n",
       "      <td>54.0</td>\n",
       "      <td>202.0</td>\n",
       "      <td>...</td>\n",
       "      <td>75.0</td>\n",
       "      <td>0.0</td>\n",
       "      <td>87.0</td>\n",
       "      <td>0.0</td>\n",
       "      <td>128.0</td>\n",
       "      <td>72.0</td>\n",
       "      <td>22.0</td>\n",
       "      <td>370.0</td>\n",
       "      <td>1.0</td>\n",
       "      <td>69.0</td>\n",
       "    </tr>\n",
       "    <tr>\n",
       "      <th>F2S4_170405_060_C01</th>\n",
       "      <td>90.0</td>\n",
       "      <td>237.0</td>\n",
       "      <td>456.0</td>\n",
       "      <td>98.0</td>\n",
       "      <td>28.0</td>\n",
       "      <td>0.0</td>\n",
       "      <td>0.0</td>\n",
       "      <td>0.0</td>\n",
       "      <td>1.0</td>\n",
       "      <td>127.0</td>\n",
       "      <td>...</td>\n",
       "      <td>115.0</td>\n",
       "      <td>0.0</td>\n",
       "      <td>171.0</td>\n",
       "      <td>1.0</td>\n",
       "      <td>79.0</td>\n",
       "      <td>23.0</td>\n",
       "      <td>0.0</td>\n",
       "      <td>113.0</td>\n",
       "      <td>26.0</td>\n",
       "      <td>0.0</td>\n",
       "    </tr>\n",
       "    <tr>\n",
       "      <th>F2S4_170405_060_E01</th>\n",
       "      <td>0.0</td>\n",
       "      <td>0.0</td>\n",
       "      <td>400.0</td>\n",
       "      <td>0.0</td>\n",
       "      <td>0.0</td>\n",
       "      <td>92.0</td>\n",
       "      <td>94.0</td>\n",
       "      <td>0.0</td>\n",
       "      <td>0.0</td>\n",
       "      <td>75.0</td>\n",
       "      <td>...</td>\n",
       "      <td>0.0</td>\n",
       "      <td>0.0</td>\n",
       "      <td>141.0</td>\n",
       "      <td>0.0</td>\n",
       "      <td>0.0</td>\n",
       "      <td>62.0</td>\n",
       "      <td>316.0</td>\n",
       "      <td>187.0</td>\n",
       "      <td>0.0</td>\n",
       "      <td>0.0</td>\n",
       "    </tr>\n",
       "    <tr>\n",
       "      <th>F2S4_170405_060_H01</th>\n",
       "      <td>0.0</td>\n",
       "      <td>293.0</td>\n",
       "      <td>173.0</td>\n",
       "      <td>0.0</td>\n",
       "      <td>0.0</td>\n",
       "      <td>4.0</td>\n",
       "      <td>2.0</td>\n",
       "      <td>40.0</td>\n",
       "      <td>67.0</td>\n",
       "      <td>175.0</td>\n",
       "      <td>...</td>\n",
       "      <td>0.0</td>\n",
       "      <td>0.0</td>\n",
       "      <td>149.0</td>\n",
       "      <td>226.0</td>\n",
       "      <td>462.0</td>\n",
       "      <td>4.0</td>\n",
       "      <td>203.0</td>\n",
       "      <td>184.0</td>\n",
       "      <td>1.0</td>\n",
       "      <td>73.0</td>\n",
       "    </tr>\n",
       "  </tbody>\n",
       "</table>\n",
       "<p>14055 rows × 16024 columns</p>\n",
       "</div>"
      ],
      "text/plain": [
       "                     X0610007P14Rik  X0610009O20Rik  X0610010F05Rik  \\\n",
       "F1S4_160106_001_B01             0.0           157.0             9.0   \n",
       "F1S4_160106_001_C01           107.0            80.0            85.0   \n",
       "F1S4_160106_001_E01            53.0            36.0            19.0   \n",
       "F1S4_160106_001_G01             2.0             1.0           344.0   \n",
       "F1S4_160106_001_H01            97.0             0.0           264.0   \n",
       "...                             ...             ...             ...   \n",
       "F2S4_170405_060_A01            46.0            34.0           232.0   \n",
       "F2S4_170405_060_B01             0.0           186.0           156.0   \n",
       "F2S4_170405_060_C01            90.0           237.0           456.0   \n",
       "F2S4_170405_060_E01             0.0             0.0           400.0   \n",
       "F2S4_170405_060_H01             0.0           293.0           173.0   \n",
       "\n",
       "                     X0610011F06Rik  X0610030E20Rik  X0610037L13Rik  \\\n",
       "F1S4_160106_001_B01            12.0             0.0             0.0   \n",
       "F1S4_160106_001_C01             0.0             0.0           245.0   \n",
       "F1S4_160106_001_E01            12.0             0.0            23.0   \n",
       "F1S4_160106_001_G01            31.0             0.0            82.0   \n",
       "F1S4_160106_001_H01           103.0            37.0             0.0   \n",
       "...                             ...             ...             ...   \n",
       "F2S4_170405_060_A01            51.0             0.0            41.0   \n",
       "F2S4_170405_060_B01            29.0             0.0             0.0   \n",
       "F2S4_170405_060_C01            98.0            28.0             0.0   \n",
       "F2S4_170405_060_E01             0.0             0.0            92.0   \n",
       "F2S4_170405_060_H01             0.0             0.0             4.0   \n",
       "\n",
       "                     X0610040J01Rik  X1110001J03Rik  X1110004E09Rik  \\\n",
       "F1S4_160106_001_B01            88.0             1.0           268.0   \n",
       "F1S4_160106_001_C01             1.0             0.0           327.0   \n",
       "F1S4_160106_001_E01             0.0             0.0           196.0   \n",
       "F1S4_160106_001_G01             0.0            36.0            45.0   \n",
       "F1S4_160106_001_H01             1.0             0.0            40.0   \n",
       "...                             ...             ...             ...   \n",
       "F2S4_170405_060_A01             0.0             0.0             0.0   \n",
       "F2S4_170405_060_B01             0.0             0.0            54.0   \n",
       "F2S4_170405_060_C01             0.0             0.0             1.0   \n",
       "F2S4_170405_060_E01            94.0             0.0             0.0   \n",
       "F2S4_170405_060_H01             2.0            40.0            67.0   \n",
       "\n",
       "                     X1110004F10Rik  ...  Zwint  Zxdb   Zxdc  Zyg11a  Zyg11b  \\\n",
       "F1S4_160106_001_B01           258.0  ...    0.0   0.0    0.0     0.0    33.0   \n",
       "F1S4_160106_001_C01           521.0  ...    0.0  17.0   35.0     0.0   258.0   \n",
       "F1S4_160106_001_E01            96.0  ...    0.0   0.0   13.0    25.0    45.0   \n",
       "F1S4_160106_001_G01            66.0  ...    0.0   0.0   82.0     0.0   181.0   \n",
       "F1S4_160106_001_H01           122.0  ...    0.0   0.0    0.0     0.0   317.0   \n",
       "...                             ...  ...    ...   ...    ...     ...     ...   \n",
       "F2S4_170405_060_A01           209.0  ...    0.0   0.0   49.0     0.0   160.0   \n",
       "F2S4_170405_060_B01           202.0  ...   75.0   0.0   87.0     0.0   128.0   \n",
       "F2S4_170405_060_C01           127.0  ...  115.0   0.0  171.0     1.0    79.0   \n",
       "F2S4_170405_060_E01            75.0  ...    0.0   0.0  141.0     0.0     0.0   \n",
       "F2S4_170405_060_H01           175.0  ...    0.0   0.0  149.0   226.0   462.0   \n",
       "\n",
       "                      Zyx  Zzef1   Zzz3     a  l7Rn6  \n",
       "F1S4_160106_001_B01   0.0    1.0  306.0   0.0  374.0  \n",
       "F1S4_160106_001_C01   0.0    8.0  341.0   0.0  189.0  \n",
       "F1S4_160106_001_E01  72.0  197.0  296.0   2.0   33.0  \n",
       "F1S4_160106_001_G01   0.0   58.0  206.0  28.0   97.0  \n",
       "F1S4_160106_001_H01  10.0  169.0    0.0  12.0    0.0  \n",
       "...                   ...    ...    ...   ...    ...  \n",
       "F2S4_170405_060_A01  51.0   46.0  352.0   0.0   76.0  \n",
       "F2S4_170405_060_B01  72.0   22.0  370.0   1.0   69.0  \n",
       "F2S4_170405_060_C01  23.0    0.0  113.0  26.0    0.0  \n",
       "F2S4_170405_060_E01  62.0  316.0  187.0   0.0    0.0  \n",
       "F2S4_170405_060_H01   4.0  203.0  184.0   1.0   73.0  \n",
       "\n",
       "[14055 rows x 16024 columns]"
      ]
     },
     "execution_count": 4,
     "metadata": {},
     "output_type": "execute_result"
    }
   ],
   "source": [
    "ds['MTG'].to_df()"
   ]
  },
  {
   "cell_type": "code",
   "execution_count": 5,
   "metadata": {},
   "outputs": [
    {
     "data": {
      "text/html": [
       "<div>\n",
       "<style scoped>\n",
       "    .dataframe tbody tr th:only-of-type {\n",
       "        vertical-align: middle;\n",
       "    }\n",
       "\n",
       "    .dataframe tbody tr th {\n",
       "        vertical-align: top;\n",
       "    }\n",
       "\n",
       "    .dataframe thead th {\n",
       "        text-align: right;\n",
       "    }\n",
       "</style>\n",
       "<table border=\"1\" class=\"dataframe\">\n",
       "  <thead>\n",
       "    <tr style=\"text-align: right;\">\n",
       "      <th></th>\n",
       "      <th>X0610007P14Rik</th>\n",
       "      <th>X0610009O20Rik</th>\n",
       "      <th>X0610010F05Rik</th>\n",
       "      <th>X0610011F06Rik</th>\n",
       "      <th>X0610030E20Rik</th>\n",
       "      <th>X0610037L13Rik</th>\n",
       "      <th>X0610040J01Rik</th>\n",
       "      <th>X1110001J03Rik</th>\n",
       "      <th>X1110004E09Rik</th>\n",
       "      <th>X1110004F10Rik</th>\n",
       "      <th>...</th>\n",
       "      <th>Zwint</th>\n",
       "      <th>Zxdb</th>\n",
       "      <th>Zxdc</th>\n",
       "      <th>Zyg11a</th>\n",
       "      <th>Zyg11b</th>\n",
       "      <th>Zyx</th>\n",
       "      <th>Zzef1</th>\n",
       "      <th>Zzz3</th>\n",
       "      <th>a</th>\n",
       "      <th>l7Rn6</th>\n",
       "    </tr>\n",
       "  </thead>\n",
       "  <tbody>\n",
       "    <tr>\n",
       "      <th>F1S4_180124_314_A01</th>\n",
       "      <td>80.0</td>\n",
       "      <td>11.0</td>\n",
       "      <td>135.0</td>\n",
       "      <td>32.0</td>\n",
       "      <td>0.0</td>\n",
       "      <td>31.0</td>\n",
       "      <td>1.0</td>\n",
       "      <td>49.0</td>\n",
       "      <td>22.0</td>\n",
       "      <td>204.0</td>\n",
       "      <td>...</td>\n",
       "      <td>3190.0</td>\n",
       "      <td>0.0</td>\n",
       "      <td>17.0</td>\n",
       "      <td>0.0</td>\n",
       "      <td>96.0</td>\n",
       "      <td>0.0</td>\n",
       "      <td>0.0</td>\n",
       "      <td>45.0</td>\n",
       "      <td>0.0</td>\n",
       "      <td>73.0</td>\n",
       "    </tr>\n",
       "    <tr>\n",
       "      <th>F1S4_180124_315_A01</th>\n",
       "      <td>233.0</td>\n",
       "      <td>37.0</td>\n",
       "      <td>183.0</td>\n",
       "      <td>114.0</td>\n",
       "      <td>0.0</td>\n",
       "      <td>189.0</td>\n",
       "      <td>0.0</td>\n",
       "      <td>244.0</td>\n",
       "      <td>23.0</td>\n",
       "      <td>484.0</td>\n",
       "      <td>...</td>\n",
       "      <td>4832.0</td>\n",
       "      <td>28.0</td>\n",
       "      <td>33.0</td>\n",
       "      <td>0.0</td>\n",
       "      <td>179.0</td>\n",
       "      <td>0.0</td>\n",
       "      <td>0.0</td>\n",
       "      <td>83.0</td>\n",
       "      <td>0.0</td>\n",
       "      <td>127.0</td>\n",
       "    </tr>\n",
       "    <tr>\n",
       "      <th>F1S4_180124_315_B01</th>\n",
       "      <td>142.0</td>\n",
       "      <td>4.0</td>\n",
       "      <td>129.0</td>\n",
       "      <td>9.0</td>\n",
       "      <td>14.0</td>\n",
       "      <td>73.0</td>\n",
       "      <td>0.0</td>\n",
       "      <td>196.0</td>\n",
       "      <td>57.0</td>\n",
       "      <td>479.0</td>\n",
       "      <td>...</td>\n",
       "      <td>3487.0</td>\n",
       "      <td>29.0</td>\n",
       "      <td>4.0</td>\n",
       "      <td>0.0</td>\n",
       "      <td>124.0</td>\n",
       "      <td>33.0</td>\n",
       "      <td>37.0</td>\n",
       "      <td>21.0</td>\n",
       "      <td>0.0</td>\n",
       "      <td>93.0</td>\n",
       "    </tr>\n",
       "    <tr>\n",
       "      <th>F1S4_180124_315_C01</th>\n",
       "      <td>54.0</td>\n",
       "      <td>1.0</td>\n",
       "      <td>28.0</td>\n",
       "      <td>40.0</td>\n",
       "      <td>17.0</td>\n",
       "      <td>67.0</td>\n",
       "      <td>0.0</td>\n",
       "      <td>55.0</td>\n",
       "      <td>36.0</td>\n",
       "      <td>388.0</td>\n",
       "      <td>...</td>\n",
       "      <td>3891.0</td>\n",
       "      <td>13.0</td>\n",
       "      <td>0.0</td>\n",
       "      <td>0.0</td>\n",
       "      <td>98.0</td>\n",
       "      <td>0.0</td>\n",
       "      <td>5.0</td>\n",
       "      <td>18.0</td>\n",
       "      <td>0.0</td>\n",
       "      <td>135.0</td>\n",
       "    </tr>\n",
       "    <tr>\n",
       "      <th>F1S4_180124_315_D01</th>\n",
       "      <td>139.0</td>\n",
       "      <td>0.0</td>\n",
       "      <td>22.0</td>\n",
       "      <td>117.0</td>\n",
       "      <td>10.0</td>\n",
       "      <td>105.0</td>\n",
       "      <td>0.0</td>\n",
       "      <td>91.0</td>\n",
       "      <td>70.0</td>\n",
       "      <td>579.0</td>\n",
       "      <td>...</td>\n",
       "      <td>4537.0</td>\n",
       "      <td>0.0</td>\n",
       "      <td>0.0</td>\n",
       "      <td>0.0</td>\n",
       "      <td>93.0</td>\n",
       "      <td>26.0</td>\n",
       "      <td>22.0</td>\n",
       "      <td>29.0</td>\n",
       "      <td>0.0</td>\n",
       "      <td>81.0</td>\n",
       "    </tr>\n",
       "    <tr>\n",
       "      <th>...</th>\n",
       "      <td>...</td>\n",
       "      <td>...</td>\n",
       "      <td>...</td>\n",
       "      <td>...</td>\n",
       "      <td>...</td>\n",
       "      <td>...</td>\n",
       "      <td>...</td>\n",
       "      <td>...</td>\n",
       "      <td>...</td>\n",
       "      <td>...</td>\n",
       "      <td>...</td>\n",
       "      <td>...</td>\n",
       "      <td>...</td>\n",
       "      <td>...</td>\n",
       "      <td>...</td>\n",
       "      <td>...</td>\n",
       "      <td>...</td>\n",
       "      <td>...</td>\n",
       "      <td>...</td>\n",
       "      <td>...</td>\n",
       "      <td>...</td>\n",
       "    </tr>\n",
       "    <tr>\n",
       "      <th>FJS4_170511_008_A01</th>\n",
       "      <td>196.0</td>\n",
       "      <td>1.0</td>\n",
       "      <td>140.0</td>\n",
       "      <td>162.0</td>\n",
       "      <td>14.0</td>\n",
       "      <td>146.0</td>\n",
       "      <td>0.0</td>\n",
       "      <td>178.0</td>\n",
       "      <td>125.0</td>\n",
       "      <td>447.0</td>\n",
       "      <td>...</td>\n",
       "      <td>3313.0</td>\n",
       "      <td>0.0</td>\n",
       "      <td>4.0</td>\n",
       "      <td>0.0</td>\n",
       "      <td>349.0</td>\n",
       "      <td>8.0</td>\n",
       "      <td>40.0</td>\n",
       "      <td>129.0</td>\n",
       "      <td>7.0</td>\n",
       "      <td>210.0</td>\n",
       "    </tr>\n",
       "    <tr>\n",
       "      <th>FJS4_170511_008_D01</th>\n",
       "      <td>122.0</td>\n",
       "      <td>17.0</td>\n",
       "      <td>288.0</td>\n",
       "      <td>120.0</td>\n",
       "      <td>126.0</td>\n",
       "      <td>113.0</td>\n",
       "      <td>0.0</td>\n",
       "      <td>49.0</td>\n",
       "      <td>146.0</td>\n",
       "      <td>268.0</td>\n",
       "      <td>...</td>\n",
       "      <td>1322.0</td>\n",
       "      <td>0.0</td>\n",
       "      <td>47.0</td>\n",
       "      <td>0.0</td>\n",
       "      <td>418.0</td>\n",
       "      <td>20.0</td>\n",
       "      <td>62.0</td>\n",
       "      <td>0.0</td>\n",
       "      <td>0.0</td>\n",
       "      <td>222.0</td>\n",
       "    </tr>\n",
       "    <tr>\n",
       "      <th>FJS4_170511_008_G01</th>\n",
       "      <td>196.0</td>\n",
       "      <td>2.0</td>\n",
       "      <td>273.0</td>\n",
       "      <td>99.0</td>\n",
       "      <td>24.0</td>\n",
       "      <td>242.0</td>\n",
       "      <td>0.0</td>\n",
       "      <td>194.0</td>\n",
       "      <td>69.0</td>\n",
       "      <td>612.0</td>\n",
       "      <td>...</td>\n",
       "      <td>2957.0</td>\n",
       "      <td>49.0</td>\n",
       "      <td>60.0</td>\n",
       "      <td>0.0</td>\n",
       "      <td>527.0</td>\n",
       "      <td>24.0</td>\n",
       "      <td>123.0</td>\n",
       "      <td>75.0</td>\n",
       "      <td>0.0</td>\n",
       "      <td>485.0</td>\n",
       "    </tr>\n",
       "    <tr>\n",
       "      <th>FJS4_170511_008_H01</th>\n",
       "      <td>353.0</td>\n",
       "      <td>25.0</td>\n",
       "      <td>326.0</td>\n",
       "      <td>1.0</td>\n",
       "      <td>0.0</td>\n",
       "      <td>42.0</td>\n",
       "      <td>21.0</td>\n",
       "      <td>122.0</td>\n",
       "      <td>76.0</td>\n",
       "      <td>362.0</td>\n",
       "      <td>...</td>\n",
       "      <td>2992.0</td>\n",
       "      <td>8.0</td>\n",
       "      <td>0.0</td>\n",
       "      <td>0.0</td>\n",
       "      <td>468.0</td>\n",
       "      <td>0.0</td>\n",
       "      <td>91.0</td>\n",
       "      <td>46.0</td>\n",
       "      <td>0.0</td>\n",
       "      <td>166.0</td>\n",
       "    </tr>\n",
       "    <tr>\n",
       "      <th>FJS4_170511_012_E01</th>\n",
       "      <td>0.0</td>\n",
       "      <td>41.0</td>\n",
       "      <td>389.0</td>\n",
       "      <td>68.0</td>\n",
       "      <td>74.0</td>\n",
       "      <td>29.0</td>\n",
       "      <td>0.0</td>\n",
       "      <td>100.0</td>\n",
       "      <td>64.0</td>\n",
       "      <td>498.0</td>\n",
       "      <td>...</td>\n",
       "      <td>3863.0</td>\n",
       "      <td>16.0</td>\n",
       "      <td>25.0</td>\n",
       "      <td>0.0</td>\n",
       "      <td>218.0</td>\n",
       "      <td>0.0</td>\n",
       "      <td>39.0</td>\n",
       "      <td>28.0</td>\n",
       "      <td>0.0</td>\n",
       "      <td>380.0</td>\n",
       "    </tr>\n",
       "  </tbody>\n",
       "</table>\n",
       "<p>8128 rows × 16024 columns</p>\n",
       "</div>"
      ],
      "text/plain": [
       "                     X0610007P14Rik  X0610009O20Rik  X0610010F05Rik  \\\n",
       "F1S4_180124_314_A01            80.0            11.0           135.0   \n",
       "F1S4_180124_315_A01           233.0            37.0           183.0   \n",
       "F1S4_180124_315_B01           142.0             4.0           129.0   \n",
       "F1S4_180124_315_C01            54.0             1.0            28.0   \n",
       "F1S4_180124_315_D01           139.0             0.0            22.0   \n",
       "...                             ...             ...             ...   \n",
       "FJS4_170511_008_A01           196.0             1.0           140.0   \n",
       "FJS4_170511_008_D01           122.0            17.0           288.0   \n",
       "FJS4_170511_008_G01           196.0             2.0           273.0   \n",
       "FJS4_170511_008_H01           353.0            25.0           326.0   \n",
       "FJS4_170511_012_E01             0.0            41.0           389.0   \n",
       "\n",
       "                     X0610011F06Rik  X0610030E20Rik  X0610037L13Rik  \\\n",
       "F1S4_180124_314_A01            32.0             0.0            31.0   \n",
       "F1S4_180124_315_A01           114.0             0.0           189.0   \n",
       "F1S4_180124_315_B01             9.0            14.0            73.0   \n",
       "F1S4_180124_315_C01            40.0            17.0            67.0   \n",
       "F1S4_180124_315_D01           117.0            10.0           105.0   \n",
       "...                             ...             ...             ...   \n",
       "FJS4_170511_008_A01           162.0            14.0           146.0   \n",
       "FJS4_170511_008_D01           120.0           126.0           113.0   \n",
       "FJS4_170511_008_G01            99.0            24.0           242.0   \n",
       "FJS4_170511_008_H01             1.0             0.0            42.0   \n",
       "FJS4_170511_012_E01            68.0            74.0            29.0   \n",
       "\n",
       "                     X0610040J01Rik  X1110001J03Rik  X1110004E09Rik  \\\n",
       "F1S4_180124_314_A01             1.0            49.0            22.0   \n",
       "F1S4_180124_315_A01             0.0           244.0            23.0   \n",
       "F1S4_180124_315_B01             0.0           196.0            57.0   \n",
       "F1S4_180124_315_C01             0.0            55.0            36.0   \n",
       "F1S4_180124_315_D01             0.0            91.0            70.0   \n",
       "...                             ...             ...             ...   \n",
       "FJS4_170511_008_A01             0.0           178.0           125.0   \n",
       "FJS4_170511_008_D01             0.0            49.0           146.0   \n",
       "FJS4_170511_008_G01             0.0           194.0            69.0   \n",
       "FJS4_170511_008_H01            21.0           122.0            76.0   \n",
       "FJS4_170511_012_E01             0.0           100.0            64.0   \n",
       "\n",
       "                     X1110004F10Rik  ...   Zwint  Zxdb  Zxdc  Zyg11a  Zyg11b  \\\n",
       "F1S4_180124_314_A01           204.0  ...  3190.0   0.0  17.0     0.0    96.0   \n",
       "F1S4_180124_315_A01           484.0  ...  4832.0  28.0  33.0     0.0   179.0   \n",
       "F1S4_180124_315_B01           479.0  ...  3487.0  29.0   4.0     0.0   124.0   \n",
       "F1S4_180124_315_C01           388.0  ...  3891.0  13.0   0.0     0.0    98.0   \n",
       "F1S4_180124_315_D01           579.0  ...  4537.0   0.0   0.0     0.0    93.0   \n",
       "...                             ...  ...     ...   ...   ...     ...     ...   \n",
       "FJS4_170511_008_A01           447.0  ...  3313.0   0.0   4.0     0.0   349.0   \n",
       "FJS4_170511_008_D01           268.0  ...  1322.0   0.0  47.0     0.0   418.0   \n",
       "FJS4_170511_008_G01           612.0  ...  2957.0  49.0  60.0     0.0   527.0   \n",
       "FJS4_170511_008_H01           362.0  ...  2992.0   8.0   0.0     0.0   468.0   \n",
       "FJS4_170511_012_E01           498.0  ...  3863.0  16.0  25.0     0.0   218.0   \n",
       "\n",
       "                      Zyx  Zzef1   Zzz3    a  l7Rn6  \n",
       "F1S4_180124_314_A01   0.0    0.0   45.0  0.0   73.0  \n",
       "F1S4_180124_315_A01   0.0    0.0   83.0  0.0  127.0  \n",
       "F1S4_180124_315_B01  33.0   37.0   21.0  0.0   93.0  \n",
       "F1S4_180124_315_C01   0.0    5.0   18.0  0.0  135.0  \n",
       "F1S4_180124_315_D01  26.0   22.0   29.0  0.0   81.0  \n",
       "...                   ...    ...    ...  ...    ...  \n",
       "FJS4_170511_008_A01   8.0   40.0  129.0  7.0  210.0  \n",
       "FJS4_170511_008_D01  20.0   62.0    0.0  0.0  222.0  \n",
       "FJS4_170511_008_G01  24.0  123.0   75.0  0.0  485.0  \n",
       "FJS4_170511_008_H01   0.0   91.0   46.0  0.0  166.0  \n",
       "FJS4_170511_012_E01   0.0   39.0   28.0  0.0  380.0  \n",
       "\n",
       "[8128 rows x 16024 columns]"
      ]
     },
     "execution_count": 5,
     "metadata": {},
     "output_type": "execute_result"
    }
   ],
   "source": [
    "ds['ALM'].to_df()"
   ]
  },
  {
   "cell_type": "code",
   "execution_count": 15,
   "metadata": {},
   "outputs": [
    {
     "name": "stderr",
     "output_type": "stream",
     "text": [
      "[refcm           ] [INFO    ] : NOTE: raw counts expected in anndata .X attributes.\n",
      "[refcm           ] [DEBUG   ] : Loading cached mapping costs from ../src/cache.json.\n",
      "[refcm           ] [DEBUG   ] : Using costs for ALM->MTG found in cache.\n",
      "[refcm           ] [DEBUG   ] : starting LP optimization\n",
      "[refcm           ] [DEBUG   ] : optimization terminated w. status \"Optimal\"\n",
      "[matchings       ] [DEBUG   ] : \u001b[32m[+|1.00]\u001b[0m Astrocyte            mapped to Astrocyte           \n",
      "[matchings       ] [DEBUG   ] : \u001b[32m[+|1.00]\u001b[0m Chandelier           mapped to Chandelier          \n",
      "[matchings       ] [DEBUG   ] : \u001b[32m[+|1.00]\u001b[0m Exc L2/3 IT          mapped to Exc L2/3 IT         \n",
      "[matchings       ] [DEBUG   ] : \u001b[32m[+|1.00]\u001b[0m Exc L3/5 IT          mapped to Exc L3/5 IT         \n",
      "[matchings       ] [DEBUG   ] : \u001b[32m[+|1.00]\u001b[0m Exc L4/5 IT          mapped to Exc L4/5 IT         \n",
      "[matchings       ] [DEBUG   ] : \u001b[32m[+|1.00]\u001b[0m Exc L5 PT            mapped to Exc L5 PT           \n",
      "[matchings       ] [DEBUG   ] : \u001b[32m[+|1.00]\u001b[0m Exc L5/6 IT 1        mapped to Exc L5/6 IT 1       \n",
      "[matchings       ] [DEBUG   ] : \u001b[32m[+|1.00]\u001b[0m Exc L5/6 IT 2        mapped to Exc L5/6 IT 2       \n",
      "[matchings       ] [DEBUG   ] : \u001b[32m[+|1.00]\u001b[0m Exc L5/6 IT 3        mapped to Exc L5/6 IT 3       \n",
      "[matchings       ] [DEBUG   ] : \u001b[32m[+|1.00]\u001b[0m Exc L5/6 NP          mapped to Exc L5/6 NP         \n",
      "[matchings       ] [DEBUG   ] : \u001b[32m[+|1.00]\u001b[0m Exc L6 CT            mapped to Exc L6 CT           \n",
      "[matchings       ] [DEBUG   ] : \u001b[32m[+|1.00]\u001b[0m Exc L6 IT 1          mapped to Exc L6 IT 1         \n",
      "[matchings       ] [DEBUG   ] : \u001b[32m[+|1.00]\u001b[0m Exc L6 IT 2          mapped to Exc L6 IT 2         \n",
      "[matchings       ] [DEBUG   ] : \u001b[32m[+|1.00]\u001b[0m Exc L6b              mapped to Exc L6b             \n",
      "[matchings       ] [DEBUG   ] : \u001b[32m[+|1.00]\u001b[0m Lamp5 1              mapped to Lamp5 1             \n",
      "[matchings       ] [DEBUG   ] : \u001b[32m[+|1.00]\u001b[0m Lamp5 2              mapped to Lamp5 2             \n",
      "[matchings       ] [DEBUG   ] : \u001b[32m[+|1.00]\u001b[0m Lamp5 Lhx6           mapped to Lamp5 Lhx6          \n",
      "[matchings       ] [DEBUG   ] : \u001b[32m[+|1.00]\u001b[0m Lamp5 Rosehip        mapped to Lamp5 Rosehip       \n",
      "[matchings       ] [DEBUG   ] : \u001b[32m[+|1.00]\u001b[0m Oligo                mapped to Oligo               \n",
      "[matchings       ] [DEBUG   ] : \u001b[32m[+|1.00]\u001b[0m Pax6                 mapped to Pax6                \n",
      "[matchings       ] [DEBUG   ] : \u001b[32m[+|1.00]\u001b[0m Pvalb 1              mapped to Pvalb 1             \n",
      "[matchings       ] [DEBUG   ] : \u001b[32m[+|1.00]\u001b[0m Pvalb 2              mapped to Pvalb 2             \n",
      "[matchings       ] [DEBUG   ] : \u001b[32m[+|1.00]\u001b[0m Sst 1                mapped to Sst 1               \n",
      "[matchings       ] [DEBUG   ] : \u001b[32m[+|1.00]\u001b[0m Sst 2                mapped to Sst 2               \n",
      "[matchings       ] [DEBUG   ] : \u001b[32m[+|1.00]\u001b[0m Sst 3                mapped to Sst 3               \n",
      "[matchings       ] [DEBUG   ] : \u001b[32m[+|1.00]\u001b[0m Sst 4                mapped to Sst 4               \n",
      "[matchings       ] [DEBUG   ] : \u001b[32m[+|1.00]\u001b[0m Sst 5                mapped to Sst 5               \n",
      "[matchings       ] [DEBUG   ] : \u001b[32m[+|1.00]\u001b[0m Sst Chodl            mapped to Sst Chodl           \n",
      "[matchings       ] [DEBUG   ] : \u001b[32m[+|1.00]\u001b[0m Vip 1                mapped to Vip 1               \n",
      "[matchings       ] [DEBUG   ] : \u001b[32m[+|1.00]\u001b[0m Vip 2                mapped to Vip 2               \n",
      "[matchings       ] [DEBUG   ] : \u001b[32m[+|1.00]\u001b[0m Vip 3                mapped to Vip 3               \n",
      "[matchings       ] [DEBUG   ] : \u001b[32m[+|1.00]\u001b[0m Vip 4                mapped to Vip 4               \n",
      "[matchings       ] [DEBUG   ] : \u001b[32m[+|1.00]\u001b[0m Vip 5                mapped to Vip 5               \n",
      "[matchings       ] [DEBUG   ] : \u001b[32m[+|1.00]\u001b[0m Vip Sncg             mapped to Vip Sncg            \n",
      "[matchings       ] [INFO    ] : ALM                  to MTG                 \n",
      "[matchings       ] [INFO    ] : 34    common cell types\n",
      "[matchings       ] [INFO    ] : 34/34 correct   links\n",
      "[matchings       ] [INFO    ] : 0     incorrect links\n"
     ]
    },
    {
     "data": {
      "application/vnd.plotly.v1+json": {
       "config": {
        "plotlyServerURL": "https://plot.ly"
       },
       "data": [
        {
         "coloraxis": "coloraxis",
         "hovertemplate": "Reference: MTG: %{x}<br>Query: ALM: %{y}<br>cost: %{z}<extra></extra>",
         "name": "0",
         "type": "heatmap",
         "x": [
          "Astrocyte",
          "Chandelier",
          "Exc L2/3 IT",
          "Exc L3/5 IT",
          "Exc L4/5 IT",
          "Exc L5 PT",
          "Exc L5/6 IT 1",
          "Exc L5/6 IT 2",
          "Exc L5/6 IT 3",
          "Exc L5/6 NP",
          "Exc L6 CT",
          "Exc L6 IT 1",
          "Exc L6 IT 2",
          "Exc L6b",
          "Lamp5 1",
          "Lamp5 2",
          "Lamp5 Lhx6",
          "Lamp5 Rosehip",
          "Oligo",
          "Pax6",
          "Pvalb 1",
          "Pvalb 2",
          "Sst 1",
          "Sst 2",
          "Sst 3",
          "Sst 4",
          "Sst 5",
          "Sst Chodl",
          "Vip 1",
          "Vip 2",
          "Vip 3",
          "Vip 4",
          "Vip 5",
          "Vip Sncg"
         ],
         "xaxis": "x",
         "y": [
          "Astrocyte",
          "Chandelier",
          "Exc L2/3 IT",
          "Exc L3/5 IT",
          "Exc L4/5 IT",
          "Exc L5 PT",
          "Exc L5/6 IT 1",
          "Exc L5/6 IT 2",
          "Exc L5/6 IT 3",
          "Exc L5/6 NP",
          "Exc L6 CT",
          "Exc L6 IT 1",
          "Exc L6 IT 2",
          "Exc L6b",
          "Lamp5 1",
          "Lamp5 2",
          "Lamp5 Lhx6",
          "Lamp5 Rosehip",
          "Oligo",
          "Pax6",
          "Pvalb 1",
          "Pvalb 2",
          "Sst 1",
          "Sst 2",
          "Sst 3",
          "Sst 4",
          "Sst 5",
          "Sst Chodl",
          "Vip 1",
          "Vip 2",
          "Vip 3",
          "Vip 4",
          "Vip 5",
          "Vip Sncg"
         ],
         "yaxis": "y",
         "z": [
          [
           -0.6317373584597484,
           -0.08487655638152233,
           -0.11240829113839294,
           -0.1872827179217067,
           -0.03918851473531531,
           -0.2192510804357226,
           -0.007171068346488239,
           -0.1266261087403442,
           -0.08681081553906601,
           -0.07244591855095317,
           -0.11783193572402119,
           -0.12137023660816694,
           -0.051277851118810364,
           -0.1844928196859254,
           -0.10091812957289979,
           -0.1335611498390288,
           -0.17496332523317004,
           -0.13174684764105887,
           -0.26148192195617986,
           -0.15661113557306988,
           -0.13959525854980148,
           -0.09753527126978677,
           -0.045550332450023864,
           -0.08689072277992183,
           -0.09664767745699179,
           -0.02407392776508254,
           -0.0012432016407733198,
           -0.10848596456680572,
           -0.06122058085149641,
           -0.10722696713611027,
           -0.08661241136007074,
           -0.09413150885416674,
           -0.1440746211463481,
           -0.13581761304243933
          ],
          [
           -0.16572502229485156,
           -0.6553442332644281,
           -0.4272065013500178,
           -0.5087009688057239,
           -0.3534914873063768,
           -0.5614311003543723,
           -0.33299750749348583,
           -0.45589298250815197,
           -0.44152976631918467,
           -0.40479504735896166,
           -0.4589409501822316,
           -0.4793029540439702,
           -0.43517083077966306,
           -0.5419671386024987,
           -0.5293066145003905,
           -0.5427569944192694,
           -0.6161452785500963,
           -0.5544638178276312,
           -0.24821019843330105,
           -0.5615175659210738,
           -0.6346611718697266,
           -0.625372009834222,
           -0.49154719589228374,
           -0.5142726773838985,
           -0.5434734305142391,
           -0.4192008095287187,
           -0.41857802559213203,
           -0.538532364763621,
           -0.4739544418061866,
           -0.5329172836561766,
           -0.5023652499306301,
           -0.4849018757314667,
           -0.573690243664713,
           -0.49883811910484605
          ],
          [
           -0.27930983541501686,
           -0.567552369232354,
           -0.8815771018739235,
           -0.8946470249830519,
           -0.7019177743622536,
           -0.9076829347079999,
           -0.7082193531106935,
           -0.8386181427703614,
           -0.7954068352524534,
           -0.6891116821750872,
           -0.834614988265655,
           -0.905117757661284,
           -0.7906773930634784,
           -0.9126003952317278,
           -0.5690343438622865,
           -0.6600619443412435,
           -0.6598387012559345,
           -0.606147301839728,
           -0.4077437613536153,
           -0.6610747566449464,
           -0.6311627833472134,
           -0.5963222333659827,
           -0.5679590309043562,
           -0.601989081706566,
           -0.6511317641183515,
           -0.48942293468923154,
           -0.48145160824676825,
           -0.6250095925810643,
           -0.5898333628547775,
           -0.6522756474146645,
           -0.6019862213910766,
           -0.5880644375440459,
           -0.6697697131978677,
           -0.6158239360920854
          ],
          [
           -0.3000466360654574,
           -0.5777049655184102,
           -0.8392041621817922,
           -0.9196483339837536,
           -0.7196687665162356,
           -0.929137280742463,
           -0.7275038200931143,
           -0.8747964417060208,
           -0.8143115319430375,
           -0.71892616872376,
           -0.8443305838662062,
           -0.8921240395726161,
           -0.7783617101982446,
           -0.9117770552133533,
           -0.5833908211398517,
           -0.6795989414311686,
           -0.6686699823582346,
           -0.6220431563361952,
           -0.4208331050245241,
           -0.6649777014330831,
           -0.6486618502710774,
           -0.6035170099338198,
           -0.5769053698156928,
           -0.6178600136062644,
           -0.6635951128780219,
           -0.4964856576005277,
           -0.4685451904494089,
           -0.6406269970776658,
           -0.5990068987949703,
           -0.650508333202021,
           -0.6058495528115397,
           -0.5973241729481613,
           -0.6792264403537778,
           -0.6239011824287999
          ],
          [
           -0.2376887577208944,
           -0.532021339615409,
           -0.8032427705026491,
           -0.8603389798135459,
           -0.6908404739924666,
           -0.8506573730057463,
           -0.690019282596539,
           -0.8274754570797045,
           -0.7765149607332509,
           -0.6618120114626803,
           -0.7883952832788284,
           -0.8455770804305884,
           -0.7299803377441905,
           -0.851647809682751,
           -0.5225516572479064,
           -0.6126143965766175,
           -0.6058293665726492,
           -0.5600278609035141,
           -0.34880365245770295,
           -0.6010095620104358,
           -0.5940010512438796,
           -0.5508605536200488,
           -0.5252835962927334,
           -0.561951974739191,
           -0.6074009190462955,
           -0.44545090566215606,
           -0.42479487637510716,
           -0.5742264655387537,
           -0.5411432876504588,
           -0.5935175737568222,
           -0.5515746039724073,
           -0.5424890620512869,
           -0.6216755817841986,
           -0.5615528767759814
          ],
          [
           -0.3149234725934505,
           -0.6096627886224583,
           -0.8442555059269466,
           -0.9002879358732608,
           -0.6995999241305937,
           -1,
           -0.6919487692410117,
           -0.8629031427654449,
           -0.8083000700313864,
           -0.7321342507682929,
           -0.8680394677708075,
           -0.8931418193772735,
           -0.7781824385118701,
           -0.9271885543898144,
           -0.61805715967234,
           -0.7010671578062994,
           -0.683467614188126,
           -0.6473768903253199,
           -0.45848885285916685,
           -0.6975125641065593,
           -0.6695537386620647,
           -0.6309189390928643,
           -0.5978350380642404,
           -0.6425256937782137,
           -0.6775748805119336,
           -0.5356208435821377,
           -0.5109443487570026,
           -0.6775511248732635,
           -0.629245335205848,
           -0.6852552681581988,
           -0.6246755099076754,
           -0.6195764080726802,
           -0.699116794839102,
           -0.6413335904952708
          ],
          [
           -0.28788296857001316,
           -0.5690218325227717,
           -0.8364008607867504,
           -0.9046327472760373,
           -0.7126239860971801,
           -0.9093759490032163,
           -0.7309637581289026,
           -0.8654861784493506,
           -0.8069452453590307,
           -0.7100809965000534,
           -0.8429447091238627,
           -0.8894206397035144,
           -0.7752734990548784,
           -0.906404382577125,
           -0.5708756807356288,
           -0.6777765739828211,
           -0.6618613930425641,
           -0.6122835967923899,
           -0.4037554816244135,
           -0.6574075178611305,
           -0.6417279782056594,
           -0.5944369992828178,
           -0.5708503963962352,
           -0.6129350668783312,
           -0.6569714323847581,
           -0.4919621654635168,
           -0.4658417916922856,
           -0.634045057217611,
           -0.5980660338375763,
           -0.6507381895323683,
           -0.6045079861351698,
           -0.5960661684210815,
           -0.6749032170520498,
           -0.6215800843573644
          ],
          [
           -0.273267184173919,
           -0.5664422014213228,
           -0.8166907715097151,
           -0.8801157742581759,
           -0.7083811661722627,
           -0.9133825222377915,
           -0.6999583183137998,
           -0.871281123631979,
           -0.8182198897213342,
           -0.7153624965813417,
           -0.8406669862865148,
           -0.8819753678252036,
           -0.7590908457180415,
           -0.9009662015240364,
           -0.5679567872860876,
           -0.6479987351678062,
           -0.6424091497141213,
           -0.6021748631868102,
           -0.39566307969193576,
           -0.6475043438149102,
           -0.6288201743751121,
           -0.5875348744127389,
           -0.5620464714320665,
           -0.6017819761885956,
           -0.6367095490536369,
           -0.4800360039332548,
           -0.4512954198134173,
           -0.621080236881137,
           -0.5676241498365571,
           -0.6285888916941083,
           -0.5847482109350925,
           -0.5696160018637352,
           -0.6518257521610591,
           -0.6021021008605931
          ],
          [
           -0.24031987217602607,
           -0.5159593963306818,
           -0.7762921075544997,
           -0.8128744548024411,
           -0.6631324240418341,
           -0.8633954160735878,
           -0.6666066433024431,
           -0.8129030161192013,
           -0.7838676142615755,
           -0.6753197595162979,
           -0.823848075189787,
           -0.8604552957521288,
           -0.7364043492289529,
           -0.8643470935673597,
           -0.5112463945859275,
           -0.6146021089518299,
           -0.6012231169066832,
           -0.5484270971604625,
           -0.3660951160848158,
           -0.6037988890292305,
           -0.591735878239872,
           -0.5462713503628218,
           -0.5276902392404165,
           -0.5689847223794717,
           -0.604888556502423,
           -0.44551790167507993,
           -0.4165067671346285,
           -0.5861259393701642,
           -0.5394381766985137,
           -0.6004941396358544,
           -0.5535175005698815,
           -0.5360619655023777,
           -0.611062275668986,
           -0.5689647719444411
          ],
          [
           -0.12191355813211516,
           -0.4163606712196016,
           -0.5556377337503231,
           -0.6251069175256239,
           -0.478338689109457,
           -0.679546070896088,
           -0.4646174706183424,
           -0.6183974635027736,
           -0.5631416008920037,
           -0.6290894397959131,
           -0.6331366469786777,
           -0.6188036535520982,
           -0.5222846200679039,
           -0.6818552069738862,
           -0.41272803263826885,
           -0.4674370099929715,
           -0.4751913606833383,
           -0.45121661955554543,
           -0.22470567791075377,
           -0.475958055650236,
           -0.477443739662967,
           -0.44429109380514903,
           -0.4206243376011835,
           -0.45437158157046925,
           -0.48593969807840387,
           -0.36358216096827384,
           -0.3328111459400986,
           -0.4728853473421072,
           -0.4336289754956286,
           -0.46182986616935984,
           -0.4364687130000676,
           -0.4506524132809773,
           -0.506823610530675,
           -0.4317772784505659
          ],
          [
           -0.1348294874681596,
           -0.3783645814581538,
           -0.60337791039827,
           -0.626697811772384,
           -0.5067191358949822,
           -0.7013757692308078,
           -0.5078867463947186,
           -0.6456756795069762,
           -0.6038817639812196,
           -0.5529872258053035,
           -0.7192885258948687,
           -0.6885050775136239,
           -0.5737578754219522,
           -0.7390676310511015,
           -0.36904058766565745,
           -0.46196210456497105,
           -0.4506943984050603,
           -0.40116590314514966,
           -0.23550992818560498,
           -0.4403981548082193,
           -0.4396550834046473,
           -0.4037015441676379,
           -0.37274270502654366,
           -0.41502755803116814,
           -0.4409109690391093,
           -0.30618916211149594,
           -0.28089960056855046,
           -0.4275116511692185,
           -0.40325901881231496,
           -0.45557455030145916,
           -0.4077977528554768,
           -0.395084420955838,
           -0.4648027467037041,
           -0.4096018045317937
          ],
          [
           -0.14714491068551722,
           -0.4111762984701389,
           -0.6616494556574692,
           -0.692914142797738,
           -0.5516360112545426,
           -0.7441793606415548,
           -0.5628552397925074,
           -0.6834574721257652,
           -0.659191533623904,
           -0.559561101056844,
           -0.7111738023458135,
           -0.7604981716801551,
           -0.6379867480713274,
           -0.7619839057288088,
           -0.43074818131498244,
           -0.5261339297257809,
           -0.5052020472199628,
           -0.4587672338309956,
           -0.27194183530421223,
           -0.502906993655406,
           -0.47162296548535615,
           -0.43091826264020927,
           -0.4123104474797392,
           -0.45614981976688995,
           -0.48653256560296565,
           -0.34127348184572975,
           -0.32350797656726554,
           -0.4927948672792158,
           -0.440174445781398,
           -0.498528351042709,
           -0.45302038254514376,
           -0.42963919927920075,
           -0.5044301778189269,
           -0.47999325335372156
          ],
          [
           -0.21922116522786475,
           -0.5075930797033932,
           -0.7805000282041249,
           -0.7989985239826783,
           -0.6488568839619642,
           -0.8497060755934226,
           -0.6519925713349821,
           -0.7849562776921896,
           -0.7658008470263376,
           -0.6466117357600145,
           -0.8062720288520242,
           -0.8634263846169153,
           -0.7478558048315895,
           -0.8569536340613384,
           -0.5066673822357383,
           -0.6085145748676112,
           -0.5936418261206187,
           -0.5408674326184326,
           -0.3496531179007944,
           -0.5955770877607481,
           -0.5737222859016641,
           -0.5334543149499102,
           -0.5072356810467655,
           -0.5463911591575087,
           -0.5827137356334473,
           -0.42750406939139024,
           -0.40912160586112367,
           -0.5748599863097985,
           -0.5316672170595664,
           -0.5977635194360029,
           -0.5433858970558412,
           -0.5298087421976543,
           -0.6072472354864692,
           -0.5591087816968788
          ],
          [
           -0.14486688025388322,
           -0.38915623089833606,
           -0.5453870110423864,
           -0.6045094245012771,
           -0.47277970674043024,
           -0.6638408653995975,
           -0.46111948074762243,
           -0.6082570866626774,
           -0.5599452601203101,
           -0.5512488257654653,
           -0.6536947172539362,
           -0.6398024744550964,
           -0.5591293197924195,
           -0.7432412527862114,
           -0.4206672933223781,
           -0.4806076963815065,
           -0.4903898976297105,
           -0.45345932680074,
           -0.23874773619417763,
           -0.49250627405545905,
           -0.46811882546985584,
           -0.42545112683649944,
           -0.4053571468638881,
           -0.4418310817305862,
           -0.46639043266258756,
           -0.3359722970834056,
           -0.3052234550090417,
           -0.46014189237274183,
           -0.4198022117284119,
           -0.4575018488027156,
           -0.4306426274152167,
           -0.41715847015224716,
           -0.4779368916446894,
           -0.43711673502115267
          ],
          [
           -0.1464912579330829,
           -0.5512124192813141,
           -0.4598685218375467,
           -0.5296431735104863,
           -0.3652262237798848,
           -0.5727726261741437,
           -0.3675245460953254,
           -0.49388461131414146,
           -0.45002579014497013,
           -0.4323296042901662,
           -0.5070244929525097,
           -0.5114354529166559,
           -0.45454319578934044,
           -0.5824927739113501,
           -0.6481075027169083,
           -0.6583797853395871,
           -0.6703602214881588,
           -0.6545668936231482,
           -0.26356570867742773,
           -0.6537625844763578,
           -0.5859644683458283,
           -0.5666381182449479,
           -0.5094207252109416,
           -0.5628713929262851,
           -0.5588022872619752,
           -0.44179154398341036,
           -0.41147146797298156,
           -0.5323096413867652,
           -0.5806338423400677,
           -0.5780614220889182,
           -0.5661498992028807,
           -0.5474100999880394,
           -0.62702992968854,
           -0.5843881941986183
          ],
          [
           -0.22141556798390044,
           -0.5971737534552797,
           -0.5841618680833174,
           -0.6409244999431546,
           -0.4701957526536643,
           -0.6880410007095392,
           -0.47341969786787597,
           -0.604974114533013,
           -0.5638647671263726,
           -0.513315505109627,
           -0.6129996764637177,
           -0.6329600753216486,
           -0.5667015336321807,
           -0.6918644285314843,
           -0.6883671535137514,
           -0.7724225694957942,
           -0.7304351228022838,
           -0.7013621527521058,
           -0.33498047291585425,
           -0.7664594973730113,
           -0.6491717140225549,
           -0.6113022044694197,
           -0.5877266847132683,
           -0.6374758522811049,
           -0.6470184155073503,
           -0.5119148142750378,
           -0.4803742978871919,
           -0.6108287414611125,
           -0.6918048281360301,
           -0.6913398387434684,
           -0.6734466347602427,
           -0.6571123002851186,
           -0.7476865457213819,
           -0.7172154440853596
          ],
          [
           -0.1478371551187873,
           -0.5625109517011936,
           -0.43551102684092663,
           -0.4965423606119633,
           -0.3444428931292076,
           -0.5586032859853455,
           -0.3353070410806176,
           -0.44966271834983973,
           -0.42517922169590466,
           -0.39120842835412745,
           -0.47564840380550566,
           -0.47339938468502885,
           -0.43579721031097834,
           -0.550616440917322,
           -0.6017215305779701,
           -0.5824109636223557,
           -0.6736305033033416,
           -0.6173127214386828,
           -0.2643262875154326,
           -0.5938756267149198,
           -0.5866886394573925,
           -0.5746104425713597,
           -0.48897487972931464,
           -0.5321037323614045,
           -0.5349353855943199,
           -0.4243966754598824,
           -0.41447795943142346,
           -0.5366660255992379,
           -0.5022608932249577,
           -0.5375120602393224,
           -0.513601362136917,
           -0.49032256542356056,
           -0.5720805152500124,
           -0.5268794020995542
          ],
          [
           -0.155999230682616,
           -0.5501477405753783,
           -0.45696921952070857,
           -0.5237226369891348,
           -0.3576776011701867,
           -0.5694150595706625,
           -0.35106904137289036,
           -0.4800250244017723,
           -0.4395366740464445,
           -0.41391315254388666,
           -0.5056889887923489,
           -0.4956885280115089,
           -0.44109272191468485,
           -0.5794142429609268,
           -0.6247949503380341,
           -0.6145007880968931,
           -0.6784346061525723,
           -0.6512004403933324,
           -0.27334999767807505,
           -0.6234760971462797,
           -0.5736521471437374,
           -0.5611601220118502,
           -0.48007514681708024,
           -0.5266786415567708,
           -0.523578732223301,
           -0.41636955128523895,
           -0.397908602527523,
           -0.5310983800585715,
           -0.5315200935225343,
           -0.5529981604642881,
           -0.5428583179811062,
           -0.5134429187698765,
           -0.5909306672927883,
           -0.5595871585821496
          ],
          [
           -0.11679159061493925,
           -0.042200192905874324,
           -0.08083208453226622,
           -0.131133792914578,
           -0.0032908037546586907,
           -0.1676776537816736,
           0,
           -0.08792298236130175,
           -0.06548614926786009,
           -0.05871157414877135,
           -0.09772238058516745,
           -0.10357658288425635,
           -0.07999206001755452,
           -0.14405009631276597,
           -0.05113356929396421,
           -0.08909085360562623,
           -0.10606693897614289,
           -0.07287891359618882,
           -0.4917150999763471,
           -0.09698849493365683,
           -0.09766416504509798,
           -0.06206411703332162,
           -0.04501602644608671,
           -0.08086724286841611,
           -0.09167087040184706,
           -0.02473538482177043,
           -0.003428678490193964,
           -0.09184478410882645,
           -0.06388863780788982,
           -0.09360609062954031,
           -0.07203630260139804,
           -0.07399421134427558,
           -0.10990168043295617,
           -0.07625558099482567
          ],
          [
           -0.1798946593953853,
           -0.5654827928412948,
           -0.5033247233920011,
           -0.5665583913113171,
           -0.4069983245548418,
           -0.61325724132005,
           -0.3977980782413639,
           -0.5134257647067781,
           -0.48392771987712235,
           -0.4411456706848718,
           -0.5271556926617719,
           -0.545262990151348,
           -0.49874220232442146,
           -0.6095443359962074,
           -0.6394516648360152,
           -0.6909299242307159,
           -0.6760261527781859,
           -0.6527624734697841,
           -0.2884917612732029,
           -0.7258675341894417,
           -0.5978693059877858,
           -0.5689620684128902,
           -0.5293752871853102,
           -0.563418932400253,
           -0.5844114505419203,
           -0.4529842280553112,
           -0.42297698668822475,
           -0.5442965744805249,
           -0.5881195886389999,
           -0.6168166881552715,
           -0.5970024624978152,
           -0.5628874489685247,
           -0.6727755699140016,
           -0.6678150914837161
          ],
          [
           -0.14434935730786588,
           -0.5560144398604068,
           -0.44513627820561247,
           -0.511376217349196,
           -0.37412381042368503,
           -0.5586304166841914,
           -0.34748100935803555,
           -0.4609568914720588,
           -0.4364342342438712,
           -0.3915764625205497,
           -0.4502939363625486,
           -0.4784593994230596,
           -0.4198539586342248,
           -0.523419367131496,
           -0.4644304172689709,
           -0.5057912024478163,
           -0.5488796794131138,
           -0.4934277233729829,
           -0.2614771265365182,
           -0.5260935030110989,
           -0.6658947193677129,
           -0.6231212537375586,
           -0.5147658277004689,
           -0.5340078550742368,
           -0.56168088956594,
           -0.4363365976356608,
           -0.40902075386098696,
           -0.5363296999954792,
           -0.4431719042928713,
           -0.49679782839050607,
           -0.4677971301403152,
           -0.46932227753462846,
           -0.5535768094478677,
           -0.47265587929336483
          ],
          [
           -0.14040583766566098,
           -0.6063013990524221,
           -0.4395239962884178,
           -0.5185889658671519,
           -0.3670666388459947,
           -0.5536852333614101,
           -0.3370305877788675,
           -0.4642405057249224,
           -0.43284875341518175,
           -0.4041373462408242,
           -0.4554898314413458,
           -0.4713680965151425,
           -0.410134202816247,
           -0.5231338788132004,
           -0.5012558123785095,
           -0.5138598739177556,
           -0.5935950125048512,
           -0.5431227241913466,
           -0.2577288381448637,
           -0.5387489651865988,
           -0.6758000895852896,
           -0.6761796339848243,
           -0.5306734825954529,
           -0.5445546211283216,
           -0.5671634161426704,
           -0.4556910747721793,
           -0.4434931397054204,
           -0.545117776002207,
           -0.46174618743071955,
           -0.509428146105627,
           -0.4907551336645051,
           -0.48007136788570953,
           -0.5634952839880212,
           -0.4770041102095828
          ],
          [
           -0.09832752761097972,
           -0.4861717774319494,
           -0.4486948239901062,
           -0.50951779916952,
           -0.3665851037582887,
           -0.5452531702589188,
           -0.3414771696389998,
           -0.47204061269484987,
           -0.4296691241136621,
           -0.41944329150269094,
           -0.4567294146368483,
           -0.4828302633600399,
           -0.4116692246586252,
           -0.5330187847170518,
           -0.47010609331138997,
           -0.5514188216828486,
           -0.5343982550550701,
           -0.4839891558518764,
           -0.2208807734910068,
           -0.556070400303216,
           -0.5828583542705605,
           -0.5262129493930772,
           -0.5895927139822249,
           -0.6185610291379379,
           -0.6070926024204503,
           -0.5121222270819081,
           -0.4479696572124231,
           -0.575864080774182,
           -0.4862269767899197,
           -0.5086004658790542,
           -0.4706526670994262,
           -0.47669191401723626,
           -0.5510927363221427,
           -0.504978389352057
          ],
          [
           -0.16272715062051368,
           -0.5711025089418005,
           -0.5037043560133758,
           -0.5742641069969445,
           -0.41893562127491973,
           -0.6183807287541172,
           -0.39852259460121564,
           -0.5390304557447472,
           -0.49841413250085653,
           -0.48945827019820753,
           -0.5353980174010518,
           -0.5535646577769396,
           -0.4842219523833376,
           -0.6033170987528682,
           -0.53952405422783,
           -0.5979166260944389,
           -0.6190151171673214,
           -0.5588572227824792,
           -0.29778212134670035,
           -0.6194911680930759,
           -0.6820730098115521,
           -0.6238861347516941,
           -0.6647799239349881,
           -0.72771225843388,
           -0.7020870518414863,
           -0.5972959512705192,
           -0.5286113475480695,
           -0.6691817181368596,
           -0.531569668609998,
           -0.5818344538102344,
           -0.531683545471518,
           -0.525395405395099,
           -0.6169526135965515,
           -0.5536858376157636
          ],
          [
           -0.14109529450386976,
           -0.5546770502377888,
           -0.49453859464398414,
           -0.5737607589034082,
           -0.4184599450256341,
           -0.6163414889498121,
           -0.4086650469353025,
           -0.5308670332629947,
           -0.49758695932885944,
           -0.47643949758754917,
           -0.5193067244919858,
           -0.5468031148113356,
           -0.47818355728131046,
           -0.5934926949983629,
           -0.5315772956078003,
           -0.5850567635294548,
           -0.5985565732459593,
           -0.5519348153715655,
           -0.2806430143905309,
           -0.6037402090867078,
           -0.6549218957058279,
           -0.595642284160753,
           -0.6104443109243084,
           -0.6638281394776147,
           -0.6845781334501784,
           -0.5315792184203576,
           -0.4692319055274493,
           -0.5970403492320007,
           -0.5167716704193843,
           -0.5650959512354671,
           -0.5155102287592187,
           -0.5063869347892904,
           -0.605388479523708,
           -0.5376728189379296
          ],
          [
           -0.13779879255928135,
           -0.5474167726981746,
           -0.47822506481935606,
           -0.5452713348696204,
           -0.3958213671146564,
           -0.6066711530323444,
           -0.3722291403456619,
           -0.5096326361365844,
           -0.4640318832552361,
           -0.45915710456079617,
           -0.5103345067611731,
           -0.523354414333235,
           -0.4589699959998839,
           -0.580434231289759,
           -0.5037919095057262,
           -0.5708460543988981,
           -0.5772331768908092,
           -0.5221575412658879,
           -0.27557012521312224,
           -0.5930539128001324,
           -0.6310868935579313,
           -0.5806775079972406,
           -0.6338801928958246,
           -0.6825246566912438,
           -0.6533422508457886,
           -0.5875267882657121,
           -0.5023507643685199,
           -0.647406799888636,
           -0.5036319616845464,
           -0.5548188932377657,
           -0.49896878153803004,
           -0.5063214953216444,
           -0.5854648340756954,
           -0.5303839282095941
          ],
          [
           -0.18157022101610673,
           -0.5981168079901776,
           -0.5324736854318115,
           -0.5932567194343202,
           -0.45055484959212794,
           -0.6374314563444546,
           -0.4098345539667634,
           -0.5592150441531135,
           -0.5209881837464033,
           -0.5004644670670886,
           -0.5550366453462138,
           -0.5699167875660659,
           -0.49636995648923155,
           -0.6298787483039907,
           -0.5388692477981634,
           -0.601005396082033,
           -0.6479245783154246,
           -0.5788422260448187,
           -0.3128942872303136,
           -0.6178989131501379,
           -0.686142345377674,
           -0.6482789790406546,
           -0.6624045421039441,
           -0.7005740030025293,
           -0.6799904601784147,
           -0.6022916890316793,
           -0.5713530935431355,
           -0.6908557121794958,
           -0.5461900641192103,
           -0.5933424948743863,
           -0.5471652151881303,
           -0.5521868483535237,
           -0.6290382634515074,
           -0.5601253964746017
          ],
          [
           -0.1540908517939032,
           -0.477852757877262,
           -0.451508311030923,
           -0.5171932071864449,
           -0.39292984126128916,
           -0.5762440144219969,
           -0.37319990662818336,
           -0.49665284594578374,
           -0.4695758644530698,
           -0.4686082179082284,
           -0.49706219688505376,
           -0.5080130508066895,
           -0.4611050292711325,
           -0.5790764109756654,
           -0.46839053334935277,
           -0.5382655391154579,
           -0.567044972590604,
           -0.49830475526672696,
           -0.2690513372979211,
           -0.5717483685286979,
           -0.5738912090510928,
           -0.5077248043471597,
           -0.5495036704059933,
           -0.6066054089055843,
           -0.5920718218100257,
           -0.48815110841130455,
           -0.44629041605286773,
           -0.6933193385156353,
           -0.48283124556373064,
           -0.5225777663922413,
           -0.4694787819083571,
           -0.4748818938787651,
           -0.5580031100820405,
           -0.5038090763601571
          ],
          [
           -0.16500320849299696,
           -0.526616107732402,
           -0.518118216914182,
           -0.5827085382160734,
           -0.4213077916413371,
           -0.6051262636126593,
           -0.43357351419348744,
           -0.5443411725235219,
           -0.5041304634700021,
           -0.46739651042039154,
           -0.5322921126878191,
           -0.5548534279241525,
           -0.5107504863392702,
           -0.6027266114617836,
           -0.5571573976610419,
           -0.68570395889733,
           -0.5902245937381914,
           -0.5725104179676818,
           -0.2758195882074771,
           -0.6638010321044525,
           -0.5722068428109087,
           -0.5219168781741599,
           -0.5225865514002672,
           -0.5677402102823641,
           -0.5915657888425617,
           -0.45656526484463034,
           -0.4111497141992077,
           -0.5426302387128088,
           -0.650715532762357,
           -0.6611380509555029,
           -0.614299235737382,
           -0.6180468349476564,
           -0.7063568783221115,
           -0.6457264298886625
          ],
          [
           -0.23033732474852242,
           -0.613973256468831,
           -0.6038281933903317,
           -0.6529022924793615,
           -0.4969084108118516,
           -0.6998911807102495,
           -0.504380838990078,
           -0.6164895223622889,
           -0.5858720821570494,
           -0.5548137685736789,
           -0.6205548277495211,
           -0.643265823922643,
           -0.5848245925756431,
           -0.702223473504054,
           -0.6091013759938514,
           -0.7331982716433499,
           -0.6828816931669908,
           -0.646588322584621,
           -0.3529497843972355,
           -0.7353710834610058,
           -0.6654558708664655,
           -0.6128183710060547,
           -0.5996957740992767,
           -0.641775756443331,
           -0.6619531007503519,
           -0.5305533809836149,
           -0.49831460676295863,
           -0.6265703977375369,
           -0.6869062514428445,
           -0.7910801044167919,
           -0.7262411048647787,
           -0.7109537662780371,
           -0.8018877458349037,
           -0.720736998639508
          ],
          [
           -0.22794168474225682,
           -0.6249746002956407,
           -0.5997053270920668,
           -0.6440053076063507,
           -0.4926605787379195,
           -0.6990463939449711,
           -0.5002354294284893,
           -0.6035192757080665,
           -0.5804038656461844,
           -0.5375751851396628,
           -0.6142812025296936,
           -0.6391507162662866,
           -0.5731680416052674,
           -0.6929307114260772,
           -0.6327742438172563,
           -0.7472525963105093,
           -0.6876136167711006,
           -0.6674001407572254,
           -0.34940151565519656,
           -0.7353275479128584,
           -0.6670250838525558,
           -0.6211343079489804,
           -0.5852894787582252,
           -0.6249825509679037,
           -0.6470728904001084,
           -0.5158282395725327,
           -0.4890181117544307,
           -0.6181222510897819,
           -0.6917354267499044,
           -0.7794887339020056,
           -0.7483290939391245,
           -0.7188325599390153,
           -0.8062979137818125,
           -0.7324652097339983
          ],
          [
           -0.17426631250453045,
           -0.5487782829327171,
           -0.5491472764352815,
           -0.5936699069377969,
           -0.4403109363733744,
           -0.6379466622487655,
           -0.43902999166706613,
           -0.560341459640798,
           -0.5208070234921809,
           -0.49712048824646615,
           -0.5631970593272569,
           -0.5815495680657193,
           -0.5120408395190861,
           -0.6368821566178725,
           -0.553636873793772,
           -0.6755086792103753,
           -0.6160687006959211,
           -0.5891982235168186,
           -0.2988283327307735,
           -0.6768869756686361,
           -0.6122606616367573,
           -0.5660581752930922,
           -0.544605297047042,
           -0.5832153072854706,
           -0.6038955510197715,
           -0.4914969371329073,
           -0.4556581309175314,
           -0.5675315057942287,
           -0.6379181532664671,
           -0.7258936967581887,
           -0.6707092452374613,
           -0.6799040040509027,
           -0.74726497043473,
           -0.6634172550168534
          ],
          [
           -0.19061887413165293,
           -0.5773012891496219,
           -0.5375076066797464,
           -0.5741673439928656,
           -0.4324407762681195,
           -0.6298123128326496,
           -0.42149689762276094,
           -0.5371842729414931,
           -0.5126914725489234,
           -0.4768754637542712,
           -0.5415994519936265,
           -0.5770634567491544,
           -0.5089114708808339,
           -0.6228589769065807,
           -0.5615272763968152,
           -0.6893038648710522,
           -0.6116079336199894,
           -0.5954470893924805,
           -0.29573941440296114,
           -0.6868455826304221,
           -0.6119560590458132,
           -0.5680668570243129,
           -0.5220034015256719,
           -0.5530005359667082,
           -0.5793984879990455,
           -0.4585528525298547,
           -0.43575072058359127,
           -0.540342355702595,
           -0.6275648957690414,
           -0.7245384268270036,
           -0.6898311281424007,
           -0.6809200234442669,
           -0.771653166420372,
           -0.6972868923492859
          ],
          [
           -0.20341371310796252,
           -0.5503841958206704,
           -0.5345822677423583,
           -0.5807484398186931,
           -0.4361860710714358,
           -0.6321433606538526,
           -0.42922039418575514,
           -0.5420036538576597,
           -0.5141345788871877,
           -0.46511927060393693,
           -0.5478105179661393,
           -0.5817547764845161,
           -0.5302294125023299,
           -0.6326871042990633,
           -0.5849882979731656,
           -0.7021777613661595,
           -0.658926170128967,
           -0.623789358901833,
           -0.3116827904346946,
           -0.7033233072485137,
           -0.6033000811526799,
           -0.5570730340193756,
           -0.5438095877151163,
           -0.5806601406311853,
           -0.6002851434094503,
           -0.4671320880373385,
           -0.4364284201828267,
           -0.5597889188839037,
           -0.6119003684280228,
           -0.6724692509002718,
           -0.6449218649044344,
           -0.6146886722989103,
           -0.7251052570158388,
           -0.6973940596582203
          ]
         ]
        },
        {
         "hovertemplate": "%{y} -> %{x}",
         "marker": {
          "color": [
           "green",
           "green",
           "green",
           "green",
           "green",
           "green",
           "green",
           "green",
           "green",
           "green",
           "green",
           "green",
           "green",
           "green",
           "green",
           "green",
           "green",
           "green",
           "green",
           "green",
           "green",
           "green",
           "green",
           "green",
           "green",
           "green",
           "green",
           "green",
           "green",
           "green",
           "green",
           "green",
           "green",
           "green"
          ],
          "size": 5
         },
         "mode": "markers",
         "name": "",
         "type": "scatter",
         "x": [
          "Astrocyte",
          "Chandelier",
          "Exc L2/3 IT",
          "Exc L3/5 IT",
          "Exc L4/5 IT",
          "Exc L5 PT",
          "Exc L5/6 IT 1",
          "Exc L5/6 IT 2",
          "Exc L5/6 IT 3",
          "Exc L5/6 NP",
          "Exc L6 CT",
          "Exc L6 IT 1",
          "Exc L6 IT 2",
          "Exc L6b",
          "Lamp5 1",
          "Lamp5 2",
          "Lamp5 Lhx6",
          "Lamp5 Rosehip",
          "Oligo",
          "Pax6",
          "Pvalb 1",
          "Pvalb 2",
          "Sst 1",
          "Sst 2",
          "Sst 3",
          "Sst 4",
          "Sst 5",
          "Sst Chodl",
          "Vip 1",
          "Vip 2",
          "Vip 3",
          "Vip 4",
          "Vip 5",
          "Vip Sncg"
         ],
         "y": [
          "Astrocyte",
          "Chandelier",
          "Exc L2/3 IT",
          "Exc L3/5 IT",
          "Exc L4/5 IT",
          "Exc L5 PT",
          "Exc L5/6 IT 1",
          "Exc L5/6 IT 2",
          "Exc L5/6 IT 3",
          "Exc L5/6 NP",
          "Exc L6 CT",
          "Exc L6 IT 1",
          "Exc L6 IT 2",
          "Exc L6b",
          "Lamp5 1",
          "Lamp5 2",
          "Lamp5 Lhx6",
          "Lamp5 Rosehip",
          "Oligo",
          "Pax6",
          "Pvalb 1",
          "Pvalb 2",
          "Sst 1",
          "Sst 2",
          "Sst 3",
          "Sst 4",
          "Sst 5",
          "Sst Chodl",
          "Vip 1",
          "Vip 2",
          "Vip 3",
          "Vip 4",
          "Vip 5",
          "Vip Sncg"
         ]
        }
       ],
       "layout": {
        "coloraxis": {
         "colorbar": {
          "title": {
           "text": "cost"
          }
         },
         "colorscale": [
          [
           0,
           "rgb(75, 41, 145)"
          ],
          [
           0.16666666666666666,
           "rgb(135, 44, 162)"
          ],
          [
           0.3333333333333333,
           "rgb(192, 54, 157)"
          ],
          [
           0.5,
           "rgb(234, 79, 136)"
          ],
          [
           0.6666666666666666,
           "rgb(250, 120, 118)"
          ],
          [
           0.8333333333333334,
           "rgb(246, 169, 122)"
          ],
          [
           1,
           "rgb(237, 217, 163)"
          ]
         ]
        },
        "template": {
         "data": {
          "bar": [
           {
            "error_x": {
             "color": "#2a3f5f"
            },
            "error_y": {
             "color": "#2a3f5f"
            },
            "marker": {
             "line": {
              "color": "#E5ECF6",
              "width": 0.5
             },
             "pattern": {
              "fillmode": "overlay",
              "size": 10,
              "solidity": 0.2
             }
            },
            "type": "bar"
           }
          ],
          "barpolar": [
           {
            "marker": {
             "line": {
              "color": "#E5ECF6",
              "width": 0.5
             },
             "pattern": {
              "fillmode": "overlay",
              "size": 10,
              "solidity": 0.2
             }
            },
            "type": "barpolar"
           }
          ],
          "carpet": [
           {
            "aaxis": {
             "endlinecolor": "#2a3f5f",
             "gridcolor": "white",
             "linecolor": "white",
             "minorgridcolor": "white",
             "startlinecolor": "#2a3f5f"
            },
            "baxis": {
             "endlinecolor": "#2a3f5f",
             "gridcolor": "white",
             "linecolor": "white",
             "minorgridcolor": "white",
             "startlinecolor": "#2a3f5f"
            },
            "type": "carpet"
           }
          ],
          "choropleth": [
           {
            "colorbar": {
             "outlinewidth": 0,
             "ticks": ""
            },
            "type": "choropleth"
           }
          ],
          "contour": [
           {
            "colorbar": {
             "outlinewidth": 0,
             "ticks": ""
            },
            "colorscale": [
             [
              0,
              "#0d0887"
             ],
             [
              0.1111111111111111,
              "#46039f"
             ],
             [
              0.2222222222222222,
              "#7201a8"
             ],
             [
              0.3333333333333333,
              "#9c179e"
             ],
             [
              0.4444444444444444,
              "#bd3786"
             ],
             [
              0.5555555555555556,
              "#d8576b"
             ],
             [
              0.6666666666666666,
              "#ed7953"
             ],
             [
              0.7777777777777778,
              "#fb9f3a"
             ],
             [
              0.8888888888888888,
              "#fdca26"
             ],
             [
              1,
              "#f0f921"
             ]
            ],
            "type": "contour"
           }
          ],
          "contourcarpet": [
           {
            "colorbar": {
             "outlinewidth": 0,
             "ticks": ""
            },
            "type": "contourcarpet"
           }
          ],
          "heatmap": [
           {
            "colorbar": {
             "outlinewidth": 0,
             "ticks": ""
            },
            "colorscale": [
             [
              0,
              "#0d0887"
             ],
             [
              0.1111111111111111,
              "#46039f"
             ],
             [
              0.2222222222222222,
              "#7201a8"
             ],
             [
              0.3333333333333333,
              "#9c179e"
             ],
             [
              0.4444444444444444,
              "#bd3786"
             ],
             [
              0.5555555555555556,
              "#d8576b"
             ],
             [
              0.6666666666666666,
              "#ed7953"
             ],
             [
              0.7777777777777778,
              "#fb9f3a"
             ],
             [
              0.8888888888888888,
              "#fdca26"
             ],
             [
              1,
              "#f0f921"
             ]
            ],
            "type": "heatmap"
           }
          ],
          "heatmapgl": [
           {
            "colorbar": {
             "outlinewidth": 0,
             "ticks": ""
            },
            "colorscale": [
             [
              0,
              "#0d0887"
             ],
             [
              0.1111111111111111,
              "#46039f"
             ],
             [
              0.2222222222222222,
              "#7201a8"
             ],
             [
              0.3333333333333333,
              "#9c179e"
             ],
             [
              0.4444444444444444,
              "#bd3786"
             ],
             [
              0.5555555555555556,
              "#d8576b"
             ],
             [
              0.6666666666666666,
              "#ed7953"
             ],
             [
              0.7777777777777778,
              "#fb9f3a"
             ],
             [
              0.8888888888888888,
              "#fdca26"
             ],
             [
              1,
              "#f0f921"
             ]
            ],
            "type": "heatmapgl"
           }
          ],
          "histogram": [
           {
            "marker": {
             "pattern": {
              "fillmode": "overlay",
              "size": 10,
              "solidity": 0.2
             }
            },
            "type": "histogram"
           }
          ],
          "histogram2d": [
           {
            "colorbar": {
             "outlinewidth": 0,
             "ticks": ""
            },
            "colorscale": [
             [
              0,
              "#0d0887"
             ],
             [
              0.1111111111111111,
              "#46039f"
             ],
             [
              0.2222222222222222,
              "#7201a8"
             ],
             [
              0.3333333333333333,
              "#9c179e"
             ],
             [
              0.4444444444444444,
              "#bd3786"
             ],
             [
              0.5555555555555556,
              "#d8576b"
             ],
             [
              0.6666666666666666,
              "#ed7953"
             ],
             [
              0.7777777777777778,
              "#fb9f3a"
             ],
             [
              0.8888888888888888,
              "#fdca26"
             ],
             [
              1,
              "#f0f921"
             ]
            ],
            "type": "histogram2d"
           }
          ],
          "histogram2dcontour": [
           {
            "colorbar": {
             "outlinewidth": 0,
             "ticks": ""
            },
            "colorscale": [
             [
              0,
              "#0d0887"
             ],
             [
              0.1111111111111111,
              "#46039f"
             ],
             [
              0.2222222222222222,
              "#7201a8"
             ],
             [
              0.3333333333333333,
              "#9c179e"
             ],
             [
              0.4444444444444444,
              "#bd3786"
             ],
             [
              0.5555555555555556,
              "#d8576b"
             ],
             [
              0.6666666666666666,
              "#ed7953"
             ],
             [
              0.7777777777777778,
              "#fb9f3a"
             ],
             [
              0.8888888888888888,
              "#fdca26"
             ],
             [
              1,
              "#f0f921"
             ]
            ],
            "type": "histogram2dcontour"
           }
          ],
          "mesh3d": [
           {
            "colorbar": {
             "outlinewidth": 0,
             "ticks": ""
            },
            "type": "mesh3d"
           }
          ],
          "parcoords": [
           {
            "line": {
             "colorbar": {
              "outlinewidth": 0,
              "ticks": ""
             }
            },
            "type": "parcoords"
           }
          ],
          "pie": [
           {
            "automargin": true,
            "type": "pie"
           }
          ],
          "scatter": [
           {
            "fillpattern": {
             "fillmode": "overlay",
             "size": 10,
             "solidity": 0.2
            },
            "type": "scatter"
           }
          ],
          "scatter3d": [
           {
            "line": {
             "colorbar": {
              "outlinewidth": 0,
              "ticks": ""
             }
            },
            "marker": {
             "colorbar": {
              "outlinewidth": 0,
              "ticks": ""
             }
            },
            "type": "scatter3d"
           }
          ],
          "scattercarpet": [
           {
            "marker": {
             "colorbar": {
              "outlinewidth": 0,
              "ticks": ""
             }
            },
            "type": "scattercarpet"
           }
          ],
          "scattergeo": [
           {
            "marker": {
             "colorbar": {
              "outlinewidth": 0,
              "ticks": ""
             }
            },
            "type": "scattergeo"
           }
          ],
          "scattergl": [
           {
            "marker": {
             "colorbar": {
              "outlinewidth": 0,
              "ticks": ""
             }
            },
            "type": "scattergl"
           }
          ],
          "scattermapbox": [
           {
            "marker": {
             "colorbar": {
              "outlinewidth": 0,
              "ticks": ""
             }
            },
            "type": "scattermapbox"
           }
          ],
          "scatterpolar": [
           {
            "marker": {
             "colorbar": {
              "outlinewidth": 0,
              "ticks": ""
             }
            },
            "type": "scatterpolar"
           }
          ],
          "scatterpolargl": [
           {
            "marker": {
             "colorbar": {
              "outlinewidth": 0,
              "ticks": ""
             }
            },
            "type": "scatterpolargl"
           }
          ],
          "scatterternary": [
           {
            "marker": {
             "colorbar": {
              "outlinewidth": 0,
              "ticks": ""
             }
            },
            "type": "scatterternary"
           }
          ],
          "surface": [
           {
            "colorbar": {
             "outlinewidth": 0,
             "ticks": ""
            },
            "colorscale": [
             [
              0,
              "#0d0887"
             ],
             [
              0.1111111111111111,
              "#46039f"
             ],
             [
              0.2222222222222222,
              "#7201a8"
             ],
             [
              0.3333333333333333,
              "#9c179e"
             ],
             [
              0.4444444444444444,
              "#bd3786"
             ],
             [
              0.5555555555555556,
              "#d8576b"
             ],
             [
              0.6666666666666666,
              "#ed7953"
             ],
             [
              0.7777777777777778,
              "#fb9f3a"
             ],
             [
              0.8888888888888888,
              "#fdca26"
             ],
             [
              1,
              "#f0f921"
             ]
            ],
            "type": "surface"
           }
          ],
          "table": [
           {
            "cells": {
             "fill": {
              "color": "#EBF0F8"
             },
             "line": {
              "color": "white"
             }
            },
            "header": {
             "fill": {
              "color": "#C8D4E3"
             },
             "line": {
              "color": "white"
             }
            },
            "type": "table"
           }
          ]
         },
         "layout": {
          "annotationdefaults": {
           "arrowcolor": "#2a3f5f",
           "arrowhead": 0,
           "arrowwidth": 1
          },
          "autotypenumbers": "strict",
          "coloraxis": {
           "colorbar": {
            "outlinewidth": 0,
            "ticks": ""
           }
          },
          "colorscale": {
           "diverging": [
            [
             0,
             "#8e0152"
            ],
            [
             0.1,
             "#c51b7d"
            ],
            [
             0.2,
             "#de77ae"
            ],
            [
             0.3,
             "#f1b6da"
            ],
            [
             0.4,
             "#fde0ef"
            ],
            [
             0.5,
             "#f7f7f7"
            ],
            [
             0.6,
             "#e6f5d0"
            ],
            [
             0.7,
             "#b8e186"
            ],
            [
             0.8,
             "#7fbc41"
            ],
            [
             0.9,
             "#4d9221"
            ],
            [
             1,
             "#276419"
            ]
           ],
           "sequential": [
            [
             0,
             "#0d0887"
            ],
            [
             0.1111111111111111,
             "#46039f"
            ],
            [
             0.2222222222222222,
             "#7201a8"
            ],
            [
             0.3333333333333333,
             "#9c179e"
            ],
            [
             0.4444444444444444,
             "#bd3786"
            ],
            [
             0.5555555555555556,
             "#d8576b"
            ],
            [
             0.6666666666666666,
             "#ed7953"
            ],
            [
             0.7777777777777778,
             "#fb9f3a"
            ],
            [
             0.8888888888888888,
             "#fdca26"
            ],
            [
             1,
             "#f0f921"
            ]
           ],
           "sequentialminus": [
            [
             0,
             "#0d0887"
            ],
            [
             0.1111111111111111,
             "#46039f"
            ],
            [
             0.2222222222222222,
             "#7201a8"
            ],
            [
             0.3333333333333333,
             "#9c179e"
            ],
            [
             0.4444444444444444,
             "#bd3786"
            ],
            [
             0.5555555555555556,
             "#d8576b"
            ],
            [
             0.6666666666666666,
             "#ed7953"
            ],
            [
             0.7777777777777778,
             "#fb9f3a"
            ],
            [
             0.8888888888888888,
             "#fdca26"
            ],
            [
             1,
             "#f0f921"
            ]
           ]
          },
          "colorway": [
           "#636efa",
           "#EF553B",
           "#00cc96",
           "#ab63fa",
           "#FFA15A",
           "#19d3f3",
           "#FF6692",
           "#B6E880",
           "#FF97FF",
           "#FECB52"
          ],
          "font": {
           "color": "#2a3f5f"
          },
          "geo": {
           "bgcolor": "white",
           "lakecolor": "white",
           "landcolor": "#E5ECF6",
           "showlakes": true,
           "showland": true,
           "subunitcolor": "white"
          },
          "hoverlabel": {
           "align": "left"
          },
          "hovermode": "closest",
          "mapbox": {
           "style": "light"
          },
          "paper_bgcolor": "white",
          "plot_bgcolor": "#E5ECF6",
          "polar": {
           "angularaxis": {
            "gridcolor": "white",
            "linecolor": "white",
            "ticks": ""
           },
           "bgcolor": "#E5ECF6",
           "radialaxis": {
            "gridcolor": "white",
            "linecolor": "white",
            "ticks": ""
           }
          },
          "scene": {
           "xaxis": {
            "backgroundcolor": "#E5ECF6",
            "gridcolor": "white",
            "gridwidth": 2,
            "linecolor": "white",
            "showbackground": true,
            "ticks": "",
            "zerolinecolor": "white"
           },
           "yaxis": {
            "backgroundcolor": "#E5ECF6",
            "gridcolor": "white",
            "gridwidth": 2,
            "linecolor": "white",
            "showbackground": true,
            "ticks": "",
            "zerolinecolor": "white"
           },
           "zaxis": {
            "backgroundcolor": "#E5ECF6",
            "gridcolor": "white",
            "gridwidth": 2,
            "linecolor": "white",
            "showbackground": true,
            "ticks": "",
            "zerolinecolor": "white"
           }
          },
          "shapedefaults": {
           "line": {
            "color": "#2a3f5f"
           }
          },
          "ternary": {
           "aaxis": {
            "gridcolor": "white",
            "linecolor": "white",
            "ticks": ""
           },
           "baxis": {
            "gridcolor": "white",
            "linecolor": "white",
            "ticks": ""
           },
           "bgcolor": "#E5ECF6",
           "caxis": {
            "gridcolor": "white",
            "linecolor": "white",
            "ticks": ""
           }
          },
          "title": {
           "x": 0.05
          },
          "xaxis": {
           "automargin": true,
           "gridcolor": "white",
           "linecolor": "white",
           "ticks": "",
           "title": {
            "standoff": 15
           },
           "zerolinecolor": "white",
           "zerolinewidth": 2
          },
          "yaxis": {
           "automargin": true,
           "gridcolor": "white",
           "linecolor": "white",
           "ticks": "",
           "title": {
            "standoff": 15
           },
           "zerolinecolor": "white",
           "zerolinewidth": 2
          }
         }
        },
        "title": {
         "text": "ALM to MTG matching cost"
        },
        "xaxis": {
         "anchor": "y",
         "constrain": "domain",
         "domain": [
          0,
          1
         ],
         "scaleanchor": "y",
         "tickangle": -90,
         "title": {
          "text": "Reference: MTG"
         }
        },
        "yaxis": {
         "anchor": "x",
         "autorange": "reversed",
         "constrain": "domain",
         "domain": [
          0,
          1
         ],
         "title": {
          "text": "Query: ALM"
         }
        }
       }
      }
     },
     "metadata": {},
     "output_type": "display_data"
    }
   ],
   "source": [
    "from embeddings import HVGEmbedder, PCAEmbedder\n",
    "q, ref = 'MTG', 'ALM'\n",
    "\n",
    "rcm = RefCM(discovery_threshold=None)\n",
    "m = rcm.annotate(ds[q], q, ds[ref], ref, 'labels34', 'labels34')\n",
    "m.eval('labels34')\n",
    "m.display_matching_costs('labels34')"
   ]
  },
  {
   "cell_type": "code",
   "execution_count": 6,
   "metadata": {},
   "outputs": [
    {
     "name": "stderr",
     "output_type": "stream",
     "text": [
      "[refcm           ] [INFO    ] : NOTE: raw counts expected in anndata .X attributes.\n",
      "|████████████████| [100.00% ] : 00:38\n",
      "[matchings       ] [INFO    ] : mapped MTG                  to ALM                 \n",
      "[matchings       ] [INFO    ] : (34 common cell types)\n",
      "[matchings       ] [INFO    ] : 34/34 correct mappings\n",
      "[matchings       ] [INFO    ] : 0 /34 incorrect mappings\n",
      "|████████████████| [100.00% ] : 00:43\n",
      "[matchings       ] [INFO    ] : mapped MTG                  to VISp                \n",
      "[matchings       ] [INFO    ] : (34 common cell types)\n",
      "[matchings       ] [INFO    ] : 34/34 correct mappings\n",
      "[matchings       ] [INFO    ] : 0 /34 incorrect mappings\n",
      "|████████████████| [100.00% ] : 00:36\n",
      "[matchings       ] [INFO    ] : mapped ALM                  to MTG                 \n",
      "[matchings       ] [INFO    ] : (34 common cell types)\n",
      "[matchings       ] [INFO    ] : 34/34 correct mappings\n",
      "[matchings       ] [INFO    ] : 0 /34 incorrect mappings\n",
      "|████████████████| [100.00% ] : 01:01\n",
      "[matchings       ] [INFO    ] : mapped ALM                  to VISp                \n",
      "[matchings       ] [INFO    ] : (34 common cell types)\n",
      "[matchings       ] [INFO    ] : 34/34 correct mappings\n",
      "[matchings       ] [INFO    ] : 0 /34 incorrect mappings\n",
      "|████████████████| [100.00% ] : 00:44\n",
      "[matchings       ] [INFO    ] : mapped VISp                 to MTG                 \n",
      "[matchings       ] [INFO    ] : (34 common cell types)\n",
      "[matchings       ] [INFO    ] : 34/34 correct mappings\n",
      "[matchings       ] [INFO    ] : 0 /34 incorrect mappings\n",
      "|████████████████| [100.00% ] : 01:25\n",
      "[matchings       ] [INFO    ] : mapped VISp                 to ALM                 \n",
      "[matchings       ] [INFO    ] : (34 common cell types)\n",
      "[matchings       ] [INFO    ] : 34/34 correct mappings\n",
      "[matchings       ] [INFO    ] : 0 /34 incorrect mappings\n"
     ]
    }
   ],
   "source": [
    "rcm = RefCM(discovery_threshold=0)\n",
    "\n",
    "for i, q_id in enumerate(ds):\n",
    "    for ref_id in [d for d in ds if d != q_id]:\n",
    "        m = rcm.annotate(ds[q_id], q_id, ds[ref_id], ref_id, 'labels34', 'labels34')\n",
    "        m.eval('labels34')"
   ]
  },
  {
   "cell_type": "code",
   "execution_count": null,
   "metadata": {},
   "outputs": [],
   "source": []
  }
 ],
 "metadata": {
  "kernelspec": {
   "display_name": "SCC",
   "language": "python",
   "name": "python3"
  },
  "language_info": {
   "codemirror_mode": {
    "name": "ipython",
    "version": 3
   },
   "file_extension": ".py",
   "mimetype": "text/x-python",
   "name": "python",
   "nbconvert_exporter": "python",
   "pygments_lexer": "ipython3",
   "version": "3.11.9"
  }
 },
 "nbformat": 4,
 "nbformat_minor": 4
}
