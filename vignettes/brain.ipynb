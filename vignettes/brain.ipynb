{
 "cells": [
  {
   "cell_type": "code",
   "execution_count": 1,
   "metadata": {},
   "outputs": [],
   "source": [
    "import sys\n",
    "sys.path.append('../src/')\n",
    "\n",
    "import config\n",
    "import logging\n",
    "import scanpy as sc\n",
    "\n",
    "# refcm imports\n",
    "from refcm import RefCM\n",
    "from embeddings import HVGEmbedder, PCAEmbedder\n",
    "\n",
    "config.start_logging(logging.DEBUG)"
   ]
  },
  {
   "cell_type": "code",
   "execution_count": 2,
   "metadata": {},
   "outputs": [],
   "source": [
    "%load_ext autoreload\n",
    "%autoreload 2"
   ]
  },
  {
   "cell_type": "markdown",
   "metadata": {},
   "source": [
    "Loading the relevant datasets into memory"
   ]
  },
  {
   "cell_type": "code",
   "execution_count": 3,
   "metadata": {},
   "outputs": [
    {
     "name": "stderr",
     "output_type": "stream",
     "text": [
      "[h5py._conv      ] [DEBUG   ] : Creating converter from 3 to 5\n"
     ]
    }
   ],
   "source": [
    "ds = ['MTG', 'ALM', 'VISp']\n",
    "ds = {s: sc.read_h5ad(f'../data/{s}.h5ad') for s in ds}"
   ]
  },
  {
   "cell_type": "code",
   "execution_count": 4,
   "metadata": {},
   "outputs": [
    {
     "data": {
      "text/html": [
       "<div>\n",
       "<style scoped>\n",
       "    .dataframe tbody tr th:only-of-type {\n",
       "        vertical-align: middle;\n",
       "    }\n",
       "\n",
       "    .dataframe tbody tr th {\n",
       "        vertical-align: top;\n",
       "    }\n",
       "\n",
       "    .dataframe thead th {\n",
       "        text-align: right;\n",
       "    }\n",
       "</style>\n",
       "<table border=\"1\" class=\"dataframe\">\n",
       "  <thead>\n",
       "    <tr style=\"text-align: right;\">\n",
       "      <th></th>\n",
       "      <th>X0610007P14Rik</th>\n",
       "      <th>X0610009O20Rik</th>\n",
       "      <th>X0610010F05Rik</th>\n",
       "      <th>X0610011F06Rik</th>\n",
       "      <th>X0610030E20Rik</th>\n",
       "      <th>X0610037L13Rik</th>\n",
       "      <th>X0610040J01Rik</th>\n",
       "      <th>X1110001J03Rik</th>\n",
       "      <th>X1110004E09Rik</th>\n",
       "      <th>X1110004F10Rik</th>\n",
       "      <th>...</th>\n",
       "      <th>Zwint</th>\n",
       "      <th>Zxdb</th>\n",
       "      <th>Zxdc</th>\n",
       "      <th>Zyg11a</th>\n",
       "      <th>Zyg11b</th>\n",
       "      <th>Zyx</th>\n",
       "      <th>Zzef1</th>\n",
       "      <th>Zzz3</th>\n",
       "      <th>a</th>\n",
       "      <th>l7Rn6</th>\n",
       "    </tr>\n",
       "  </thead>\n",
       "  <tbody>\n",
       "    <tr>\n",
       "      <th>F1S4_160106_001_B01</th>\n",
       "      <td>0.0</td>\n",
       "      <td>157.0</td>\n",
       "      <td>9.0</td>\n",
       "      <td>12.0</td>\n",
       "      <td>0.0</td>\n",
       "      <td>0.0</td>\n",
       "      <td>88.0</td>\n",
       "      <td>1.0</td>\n",
       "      <td>268.0</td>\n",
       "      <td>258.0</td>\n",
       "      <td>...</td>\n",
       "      <td>0.0</td>\n",
       "      <td>0.0</td>\n",
       "      <td>0.0</td>\n",
       "      <td>0.0</td>\n",
       "      <td>33.0</td>\n",
       "      <td>0.0</td>\n",
       "      <td>1.0</td>\n",
       "      <td>306.0</td>\n",
       "      <td>0.0</td>\n",
       "      <td>374.0</td>\n",
       "    </tr>\n",
       "    <tr>\n",
       "      <th>F1S4_160106_001_C01</th>\n",
       "      <td>107.0</td>\n",
       "      <td>80.0</td>\n",
       "      <td>85.0</td>\n",
       "      <td>0.0</td>\n",
       "      <td>0.0</td>\n",
       "      <td>245.0</td>\n",
       "      <td>1.0</td>\n",
       "      <td>0.0</td>\n",
       "      <td>327.0</td>\n",
       "      <td>521.0</td>\n",
       "      <td>...</td>\n",
       "      <td>0.0</td>\n",
       "      <td>17.0</td>\n",
       "      <td>35.0</td>\n",
       "      <td>0.0</td>\n",
       "      <td>258.0</td>\n",
       "      <td>0.0</td>\n",
       "      <td>8.0</td>\n",
       "      <td>341.0</td>\n",
       "      <td>0.0</td>\n",
       "      <td>189.0</td>\n",
       "    </tr>\n",
       "    <tr>\n",
       "      <th>F1S4_160106_001_E01</th>\n",
       "      <td>53.0</td>\n",
       "      <td>36.0</td>\n",
       "      <td>19.0</td>\n",
       "      <td>12.0</td>\n",
       "      <td>0.0</td>\n",
       "      <td>23.0</td>\n",
       "      <td>0.0</td>\n",
       "      <td>0.0</td>\n",
       "      <td>196.0</td>\n",
       "      <td>96.0</td>\n",
       "      <td>...</td>\n",
       "      <td>0.0</td>\n",
       "      <td>0.0</td>\n",
       "      <td>13.0</td>\n",
       "      <td>25.0</td>\n",
       "      <td>45.0</td>\n",
       "      <td>72.0</td>\n",
       "      <td>197.0</td>\n",
       "      <td>296.0</td>\n",
       "      <td>2.0</td>\n",
       "      <td>33.0</td>\n",
       "    </tr>\n",
       "    <tr>\n",
       "      <th>F1S4_160106_001_G01</th>\n",
       "      <td>2.0</td>\n",
       "      <td>1.0</td>\n",
       "      <td>344.0</td>\n",
       "      <td>31.0</td>\n",
       "      <td>0.0</td>\n",
       "      <td>82.0</td>\n",
       "      <td>0.0</td>\n",
       "      <td>36.0</td>\n",
       "      <td>45.0</td>\n",
       "      <td>66.0</td>\n",
       "      <td>...</td>\n",
       "      <td>0.0</td>\n",
       "      <td>0.0</td>\n",
       "      <td>82.0</td>\n",
       "      <td>0.0</td>\n",
       "      <td>181.0</td>\n",
       "      <td>0.0</td>\n",
       "      <td>58.0</td>\n",
       "      <td>206.0</td>\n",
       "      <td>28.0</td>\n",
       "      <td>97.0</td>\n",
       "    </tr>\n",
       "    <tr>\n",
       "      <th>F1S4_160106_001_H01</th>\n",
       "      <td>97.0</td>\n",
       "      <td>0.0</td>\n",
       "      <td>264.0</td>\n",
       "      <td>103.0</td>\n",
       "      <td>37.0</td>\n",
       "      <td>0.0</td>\n",
       "      <td>1.0</td>\n",
       "      <td>0.0</td>\n",
       "      <td>40.0</td>\n",
       "      <td>122.0</td>\n",
       "      <td>...</td>\n",
       "      <td>0.0</td>\n",
       "      <td>0.0</td>\n",
       "      <td>0.0</td>\n",
       "      <td>0.0</td>\n",
       "      <td>317.0</td>\n",
       "      <td>10.0</td>\n",
       "      <td>169.0</td>\n",
       "      <td>0.0</td>\n",
       "      <td>12.0</td>\n",
       "      <td>0.0</td>\n",
       "    </tr>\n",
       "    <tr>\n",
       "      <th>...</th>\n",
       "      <td>...</td>\n",
       "      <td>...</td>\n",
       "      <td>...</td>\n",
       "      <td>...</td>\n",
       "      <td>...</td>\n",
       "      <td>...</td>\n",
       "      <td>...</td>\n",
       "      <td>...</td>\n",
       "      <td>...</td>\n",
       "      <td>...</td>\n",
       "      <td>...</td>\n",
       "      <td>...</td>\n",
       "      <td>...</td>\n",
       "      <td>...</td>\n",
       "      <td>...</td>\n",
       "      <td>...</td>\n",
       "      <td>...</td>\n",
       "      <td>...</td>\n",
       "      <td>...</td>\n",
       "      <td>...</td>\n",
       "      <td>...</td>\n",
       "    </tr>\n",
       "    <tr>\n",
       "      <th>F2S4_170405_060_A01</th>\n",
       "      <td>46.0</td>\n",
       "      <td>34.0</td>\n",
       "      <td>232.0</td>\n",
       "      <td>51.0</td>\n",
       "      <td>0.0</td>\n",
       "      <td>41.0</td>\n",
       "      <td>0.0</td>\n",
       "      <td>0.0</td>\n",
       "      <td>0.0</td>\n",
       "      <td>209.0</td>\n",
       "      <td>...</td>\n",
       "      <td>0.0</td>\n",
       "      <td>0.0</td>\n",
       "      <td>49.0</td>\n",
       "      <td>0.0</td>\n",
       "      <td>160.0</td>\n",
       "      <td>51.0</td>\n",
       "      <td>46.0</td>\n",
       "      <td>352.0</td>\n",
       "      <td>0.0</td>\n",
       "      <td>76.0</td>\n",
       "    </tr>\n",
       "    <tr>\n",
       "      <th>F2S4_170405_060_B01</th>\n",
       "      <td>0.0</td>\n",
       "      <td>186.0</td>\n",
       "      <td>156.0</td>\n",
       "      <td>29.0</td>\n",
       "      <td>0.0</td>\n",
       "      <td>0.0</td>\n",
       "      <td>0.0</td>\n",
       "      <td>0.0</td>\n",
       "      <td>54.0</td>\n",
       "      <td>202.0</td>\n",
       "      <td>...</td>\n",
       "      <td>75.0</td>\n",
       "      <td>0.0</td>\n",
       "      <td>87.0</td>\n",
       "      <td>0.0</td>\n",
       "      <td>128.0</td>\n",
       "      <td>72.0</td>\n",
       "      <td>22.0</td>\n",
       "      <td>370.0</td>\n",
       "      <td>1.0</td>\n",
       "      <td>69.0</td>\n",
       "    </tr>\n",
       "    <tr>\n",
       "      <th>F2S4_170405_060_C01</th>\n",
       "      <td>90.0</td>\n",
       "      <td>237.0</td>\n",
       "      <td>456.0</td>\n",
       "      <td>98.0</td>\n",
       "      <td>28.0</td>\n",
       "      <td>0.0</td>\n",
       "      <td>0.0</td>\n",
       "      <td>0.0</td>\n",
       "      <td>1.0</td>\n",
       "      <td>127.0</td>\n",
       "      <td>...</td>\n",
       "      <td>115.0</td>\n",
       "      <td>0.0</td>\n",
       "      <td>171.0</td>\n",
       "      <td>1.0</td>\n",
       "      <td>79.0</td>\n",
       "      <td>23.0</td>\n",
       "      <td>0.0</td>\n",
       "      <td>113.0</td>\n",
       "      <td>26.0</td>\n",
       "      <td>0.0</td>\n",
       "    </tr>\n",
       "    <tr>\n",
       "      <th>F2S4_170405_060_E01</th>\n",
       "      <td>0.0</td>\n",
       "      <td>0.0</td>\n",
       "      <td>400.0</td>\n",
       "      <td>0.0</td>\n",
       "      <td>0.0</td>\n",
       "      <td>92.0</td>\n",
       "      <td>94.0</td>\n",
       "      <td>0.0</td>\n",
       "      <td>0.0</td>\n",
       "      <td>75.0</td>\n",
       "      <td>...</td>\n",
       "      <td>0.0</td>\n",
       "      <td>0.0</td>\n",
       "      <td>141.0</td>\n",
       "      <td>0.0</td>\n",
       "      <td>0.0</td>\n",
       "      <td>62.0</td>\n",
       "      <td>316.0</td>\n",
       "      <td>187.0</td>\n",
       "      <td>0.0</td>\n",
       "      <td>0.0</td>\n",
       "    </tr>\n",
       "    <tr>\n",
       "      <th>F2S4_170405_060_H01</th>\n",
       "      <td>0.0</td>\n",
       "      <td>293.0</td>\n",
       "      <td>173.0</td>\n",
       "      <td>0.0</td>\n",
       "      <td>0.0</td>\n",
       "      <td>4.0</td>\n",
       "      <td>2.0</td>\n",
       "      <td>40.0</td>\n",
       "      <td>67.0</td>\n",
       "      <td>175.0</td>\n",
       "      <td>...</td>\n",
       "      <td>0.0</td>\n",
       "      <td>0.0</td>\n",
       "      <td>149.0</td>\n",
       "      <td>226.0</td>\n",
       "      <td>462.0</td>\n",
       "      <td>4.0</td>\n",
       "      <td>203.0</td>\n",
       "      <td>184.0</td>\n",
       "      <td>1.0</td>\n",
       "      <td>73.0</td>\n",
       "    </tr>\n",
       "  </tbody>\n",
       "</table>\n",
       "<p>14055 rows × 16024 columns</p>\n",
       "</div>"
      ],
      "text/plain": [
       "                     X0610007P14Rik  X0610009O20Rik  X0610010F05Rik  \\\n",
       "F1S4_160106_001_B01             0.0           157.0             9.0   \n",
       "F1S4_160106_001_C01           107.0            80.0            85.0   \n",
       "F1S4_160106_001_E01            53.0            36.0            19.0   \n",
       "F1S4_160106_001_G01             2.0             1.0           344.0   \n",
       "F1S4_160106_001_H01            97.0             0.0           264.0   \n",
       "...                             ...             ...             ...   \n",
       "F2S4_170405_060_A01            46.0            34.0           232.0   \n",
       "F2S4_170405_060_B01             0.0           186.0           156.0   \n",
       "F2S4_170405_060_C01            90.0           237.0           456.0   \n",
       "F2S4_170405_060_E01             0.0             0.0           400.0   \n",
       "F2S4_170405_060_H01             0.0           293.0           173.0   \n",
       "\n",
       "                     X0610011F06Rik  X0610030E20Rik  X0610037L13Rik  \\\n",
       "F1S4_160106_001_B01            12.0             0.0             0.0   \n",
       "F1S4_160106_001_C01             0.0             0.0           245.0   \n",
       "F1S4_160106_001_E01            12.0             0.0            23.0   \n",
       "F1S4_160106_001_G01            31.0             0.0            82.0   \n",
       "F1S4_160106_001_H01           103.0            37.0             0.0   \n",
       "...                             ...             ...             ...   \n",
       "F2S4_170405_060_A01            51.0             0.0            41.0   \n",
       "F2S4_170405_060_B01            29.0             0.0             0.0   \n",
       "F2S4_170405_060_C01            98.0            28.0             0.0   \n",
       "F2S4_170405_060_E01             0.0             0.0            92.0   \n",
       "F2S4_170405_060_H01             0.0             0.0             4.0   \n",
       "\n",
       "                     X0610040J01Rik  X1110001J03Rik  X1110004E09Rik  \\\n",
       "F1S4_160106_001_B01            88.0             1.0           268.0   \n",
       "F1S4_160106_001_C01             1.0             0.0           327.0   \n",
       "F1S4_160106_001_E01             0.0             0.0           196.0   \n",
       "F1S4_160106_001_G01             0.0            36.0            45.0   \n",
       "F1S4_160106_001_H01             1.0             0.0            40.0   \n",
       "...                             ...             ...             ...   \n",
       "F2S4_170405_060_A01             0.0             0.0             0.0   \n",
       "F2S4_170405_060_B01             0.0             0.0            54.0   \n",
       "F2S4_170405_060_C01             0.0             0.0             1.0   \n",
       "F2S4_170405_060_E01            94.0             0.0             0.0   \n",
       "F2S4_170405_060_H01             2.0            40.0            67.0   \n",
       "\n",
       "                     X1110004F10Rik  ...  Zwint  Zxdb   Zxdc  Zyg11a  Zyg11b  \\\n",
       "F1S4_160106_001_B01           258.0  ...    0.0   0.0    0.0     0.0    33.0   \n",
       "F1S4_160106_001_C01           521.0  ...    0.0  17.0   35.0     0.0   258.0   \n",
       "F1S4_160106_001_E01            96.0  ...    0.0   0.0   13.0    25.0    45.0   \n",
       "F1S4_160106_001_G01            66.0  ...    0.0   0.0   82.0     0.0   181.0   \n",
       "F1S4_160106_001_H01           122.0  ...    0.0   0.0    0.0     0.0   317.0   \n",
       "...                             ...  ...    ...   ...    ...     ...     ...   \n",
       "F2S4_170405_060_A01           209.0  ...    0.0   0.0   49.0     0.0   160.0   \n",
       "F2S4_170405_060_B01           202.0  ...   75.0   0.0   87.0     0.0   128.0   \n",
       "F2S4_170405_060_C01           127.0  ...  115.0   0.0  171.0     1.0    79.0   \n",
       "F2S4_170405_060_E01            75.0  ...    0.0   0.0  141.0     0.0     0.0   \n",
       "F2S4_170405_060_H01           175.0  ...    0.0   0.0  149.0   226.0   462.0   \n",
       "\n",
       "                      Zyx  Zzef1   Zzz3     a  l7Rn6  \n",
       "F1S4_160106_001_B01   0.0    1.0  306.0   0.0  374.0  \n",
       "F1S4_160106_001_C01   0.0    8.0  341.0   0.0  189.0  \n",
       "F1S4_160106_001_E01  72.0  197.0  296.0   2.0   33.0  \n",
       "F1S4_160106_001_G01   0.0   58.0  206.0  28.0   97.0  \n",
       "F1S4_160106_001_H01  10.0  169.0    0.0  12.0    0.0  \n",
       "...                   ...    ...    ...   ...    ...  \n",
       "F2S4_170405_060_A01  51.0   46.0  352.0   0.0   76.0  \n",
       "F2S4_170405_060_B01  72.0   22.0  370.0   1.0   69.0  \n",
       "F2S4_170405_060_C01  23.0    0.0  113.0  26.0    0.0  \n",
       "F2S4_170405_060_E01  62.0  316.0  187.0   0.0    0.0  \n",
       "F2S4_170405_060_H01   4.0  203.0  184.0   1.0   73.0  \n",
       "\n",
       "[14055 rows x 16024 columns]"
      ]
     },
     "execution_count": 4,
     "metadata": {},
     "output_type": "execute_result"
    }
   ],
   "source": [
    "# MTG dataset\n",
    "ds['MTG'].to_df()"
   ]
  },
  {
   "cell_type": "code",
   "execution_count": 5,
   "metadata": {},
   "outputs": [
    {
     "data": {
      "text/html": [
       "<div>\n",
       "<style scoped>\n",
       "    .dataframe tbody tr th:only-of-type {\n",
       "        vertical-align: middle;\n",
       "    }\n",
       "\n",
       "    .dataframe tbody tr th {\n",
       "        vertical-align: top;\n",
       "    }\n",
       "\n",
       "    .dataframe thead th {\n",
       "        text-align: right;\n",
       "    }\n",
       "</style>\n",
       "<table border=\"1\" class=\"dataframe\">\n",
       "  <thead>\n",
       "    <tr style=\"text-align: right;\">\n",
       "      <th></th>\n",
       "      <th>X0610007P14Rik</th>\n",
       "      <th>X0610009O20Rik</th>\n",
       "      <th>X0610010F05Rik</th>\n",
       "      <th>X0610011F06Rik</th>\n",
       "      <th>X0610030E20Rik</th>\n",
       "      <th>X0610037L13Rik</th>\n",
       "      <th>X0610040J01Rik</th>\n",
       "      <th>X1110001J03Rik</th>\n",
       "      <th>X1110004E09Rik</th>\n",
       "      <th>X1110004F10Rik</th>\n",
       "      <th>...</th>\n",
       "      <th>Zwint</th>\n",
       "      <th>Zxdb</th>\n",
       "      <th>Zxdc</th>\n",
       "      <th>Zyg11a</th>\n",
       "      <th>Zyg11b</th>\n",
       "      <th>Zyx</th>\n",
       "      <th>Zzef1</th>\n",
       "      <th>Zzz3</th>\n",
       "      <th>a</th>\n",
       "      <th>l7Rn6</th>\n",
       "    </tr>\n",
       "  </thead>\n",
       "  <tbody>\n",
       "    <tr>\n",
       "      <th>F1S4_180124_314_A01</th>\n",
       "      <td>80.0</td>\n",
       "      <td>11.0</td>\n",
       "      <td>135.0</td>\n",
       "      <td>32.0</td>\n",
       "      <td>0.0</td>\n",
       "      <td>31.0</td>\n",
       "      <td>1.0</td>\n",
       "      <td>49.0</td>\n",
       "      <td>22.0</td>\n",
       "      <td>204.0</td>\n",
       "      <td>...</td>\n",
       "      <td>3190.0</td>\n",
       "      <td>0.0</td>\n",
       "      <td>17.0</td>\n",
       "      <td>0.0</td>\n",
       "      <td>96.0</td>\n",
       "      <td>0.0</td>\n",
       "      <td>0.0</td>\n",
       "      <td>45.0</td>\n",
       "      <td>0.0</td>\n",
       "      <td>73.0</td>\n",
       "    </tr>\n",
       "    <tr>\n",
       "      <th>F1S4_180124_315_A01</th>\n",
       "      <td>233.0</td>\n",
       "      <td>37.0</td>\n",
       "      <td>183.0</td>\n",
       "      <td>114.0</td>\n",
       "      <td>0.0</td>\n",
       "      <td>189.0</td>\n",
       "      <td>0.0</td>\n",
       "      <td>244.0</td>\n",
       "      <td>23.0</td>\n",
       "      <td>484.0</td>\n",
       "      <td>...</td>\n",
       "      <td>4832.0</td>\n",
       "      <td>28.0</td>\n",
       "      <td>33.0</td>\n",
       "      <td>0.0</td>\n",
       "      <td>179.0</td>\n",
       "      <td>0.0</td>\n",
       "      <td>0.0</td>\n",
       "      <td>83.0</td>\n",
       "      <td>0.0</td>\n",
       "      <td>127.0</td>\n",
       "    </tr>\n",
       "    <tr>\n",
       "      <th>F1S4_180124_315_B01</th>\n",
       "      <td>142.0</td>\n",
       "      <td>4.0</td>\n",
       "      <td>129.0</td>\n",
       "      <td>9.0</td>\n",
       "      <td>14.0</td>\n",
       "      <td>73.0</td>\n",
       "      <td>0.0</td>\n",
       "      <td>196.0</td>\n",
       "      <td>57.0</td>\n",
       "      <td>479.0</td>\n",
       "      <td>...</td>\n",
       "      <td>3487.0</td>\n",
       "      <td>29.0</td>\n",
       "      <td>4.0</td>\n",
       "      <td>0.0</td>\n",
       "      <td>124.0</td>\n",
       "      <td>33.0</td>\n",
       "      <td>37.0</td>\n",
       "      <td>21.0</td>\n",
       "      <td>0.0</td>\n",
       "      <td>93.0</td>\n",
       "    </tr>\n",
       "    <tr>\n",
       "      <th>F1S4_180124_315_C01</th>\n",
       "      <td>54.0</td>\n",
       "      <td>1.0</td>\n",
       "      <td>28.0</td>\n",
       "      <td>40.0</td>\n",
       "      <td>17.0</td>\n",
       "      <td>67.0</td>\n",
       "      <td>0.0</td>\n",
       "      <td>55.0</td>\n",
       "      <td>36.0</td>\n",
       "      <td>388.0</td>\n",
       "      <td>...</td>\n",
       "      <td>3891.0</td>\n",
       "      <td>13.0</td>\n",
       "      <td>0.0</td>\n",
       "      <td>0.0</td>\n",
       "      <td>98.0</td>\n",
       "      <td>0.0</td>\n",
       "      <td>5.0</td>\n",
       "      <td>18.0</td>\n",
       "      <td>0.0</td>\n",
       "      <td>135.0</td>\n",
       "    </tr>\n",
       "    <tr>\n",
       "      <th>F1S4_180124_315_D01</th>\n",
       "      <td>139.0</td>\n",
       "      <td>0.0</td>\n",
       "      <td>22.0</td>\n",
       "      <td>117.0</td>\n",
       "      <td>10.0</td>\n",
       "      <td>105.0</td>\n",
       "      <td>0.0</td>\n",
       "      <td>91.0</td>\n",
       "      <td>70.0</td>\n",
       "      <td>579.0</td>\n",
       "      <td>...</td>\n",
       "      <td>4537.0</td>\n",
       "      <td>0.0</td>\n",
       "      <td>0.0</td>\n",
       "      <td>0.0</td>\n",
       "      <td>93.0</td>\n",
       "      <td>26.0</td>\n",
       "      <td>22.0</td>\n",
       "      <td>29.0</td>\n",
       "      <td>0.0</td>\n",
       "      <td>81.0</td>\n",
       "    </tr>\n",
       "    <tr>\n",
       "      <th>...</th>\n",
       "      <td>...</td>\n",
       "      <td>...</td>\n",
       "      <td>...</td>\n",
       "      <td>...</td>\n",
       "      <td>...</td>\n",
       "      <td>...</td>\n",
       "      <td>...</td>\n",
       "      <td>...</td>\n",
       "      <td>...</td>\n",
       "      <td>...</td>\n",
       "      <td>...</td>\n",
       "      <td>...</td>\n",
       "      <td>...</td>\n",
       "      <td>...</td>\n",
       "      <td>...</td>\n",
       "      <td>...</td>\n",
       "      <td>...</td>\n",
       "      <td>...</td>\n",
       "      <td>...</td>\n",
       "      <td>...</td>\n",
       "      <td>...</td>\n",
       "    </tr>\n",
       "    <tr>\n",
       "      <th>FJS4_170511_008_A01</th>\n",
       "      <td>196.0</td>\n",
       "      <td>1.0</td>\n",
       "      <td>140.0</td>\n",
       "      <td>162.0</td>\n",
       "      <td>14.0</td>\n",
       "      <td>146.0</td>\n",
       "      <td>0.0</td>\n",
       "      <td>178.0</td>\n",
       "      <td>125.0</td>\n",
       "      <td>447.0</td>\n",
       "      <td>...</td>\n",
       "      <td>3313.0</td>\n",
       "      <td>0.0</td>\n",
       "      <td>4.0</td>\n",
       "      <td>0.0</td>\n",
       "      <td>349.0</td>\n",
       "      <td>8.0</td>\n",
       "      <td>40.0</td>\n",
       "      <td>129.0</td>\n",
       "      <td>7.0</td>\n",
       "      <td>210.0</td>\n",
       "    </tr>\n",
       "    <tr>\n",
       "      <th>FJS4_170511_008_D01</th>\n",
       "      <td>122.0</td>\n",
       "      <td>17.0</td>\n",
       "      <td>288.0</td>\n",
       "      <td>120.0</td>\n",
       "      <td>126.0</td>\n",
       "      <td>113.0</td>\n",
       "      <td>0.0</td>\n",
       "      <td>49.0</td>\n",
       "      <td>146.0</td>\n",
       "      <td>268.0</td>\n",
       "      <td>...</td>\n",
       "      <td>1322.0</td>\n",
       "      <td>0.0</td>\n",
       "      <td>47.0</td>\n",
       "      <td>0.0</td>\n",
       "      <td>418.0</td>\n",
       "      <td>20.0</td>\n",
       "      <td>62.0</td>\n",
       "      <td>0.0</td>\n",
       "      <td>0.0</td>\n",
       "      <td>222.0</td>\n",
       "    </tr>\n",
       "    <tr>\n",
       "      <th>FJS4_170511_008_G01</th>\n",
       "      <td>196.0</td>\n",
       "      <td>2.0</td>\n",
       "      <td>273.0</td>\n",
       "      <td>99.0</td>\n",
       "      <td>24.0</td>\n",
       "      <td>242.0</td>\n",
       "      <td>0.0</td>\n",
       "      <td>194.0</td>\n",
       "      <td>69.0</td>\n",
       "      <td>612.0</td>\n",
       "      <td>...</td>\n",
       "      <td>2957.0</td>\n",
       "      <td>49.0</td>\n",
       "      <td>60.0</td>\n",
       "      <td>0.0</td>\n",
       "      <td>527.0</td>\n",
       "      <td>24.0</td>\n",
       "      <td>123.0</td>\n",
       "      <td>75.0</td>\n",
       "      <td>0.0</td>\n",
       "      <td>485.0</td>\n",
       "    </tr>\n",
       "    <tr>\n",
       "      <th>FJS4_170511_008_H01</th>\n",
       "      <td>353.0</td>\n",
       "      <td>25.0</td>\n",
       "      <td>326.0</td>\n",
       "      <td>1.0</td>\n",
       "      <td>0.0</td>\n",
       "      <td>42.0</td>\n",
       "      <td>21.0</td>\n",
       "      <td>122.0</td>\n",
       "      <td>76.0</td>\n",
       "      <td>362.0</td>\n",
       "      <td>...</td>\n",
       "      <td>2992.0</td>\n",
       "      <td>8.0</td>\n",
       "      <td>0.0</td>\n",
       "      <td>0.0</td>\n",
       "      <td>468.0</td>\n",
       "      <td>0.0</td>\n",
       "      <td>91.0</td>\n",
       "      <td>46.0</td>\n",
       "      <td>0.0</td>\n",
       "      <td>166.0</td>\n",
       "    </tr>\n",
       "    <tr>\n",
       "      <th>FJS4_170511_012_E01</th>\n",
       "      <td>0.0</td>\n",
       "      <td>41.0</td>\n",
       "      <td>389.0</td>\n",
       "      <td>68.0</td>\n",
       "      <td>74.0</td>\n",
       "      <td>29.0</td>\n",
       "      <td>0.0</td>\n",
       "      <td>100.0</td>\n",
       "      <td>64.0</td>\n",
       "      <td>498.0</td>\n",
       "      <td>...</td>\n",
       "      <td>3863.0</td>\n",
       "      <td>16.0</td>\n",
       "      <td>25.0</td>\n",
       "      <td>0.0</td>\n",
       "      <td>218.0</td>\n",
       "      <td>0.0</td>\n",
       "      <td>39.0</td>\n",
       "      <td>28.0</td>\n",
       "      <td>0.0</td>\n",
       "      <td>380.0</td>\n",
       "    </tr>\n",
       "  </tbody>\n",
       "</table>\n",
       "<p>8128 rows × 16024 columns</p>\n",
       "</div>"
      ],
      "text/plain": [
       "                     X0610007P14Rik  X0610009O20Rik  X0610010F05Rik  \\\n",
       "F1S4_180124_314_A01            80.0            11.0           135.0   \n",
       "F1S4_180124_315_A01           233.0            37.0           183.0   \n",
       "F1S4_180124_315_B01           142.0             4.0           129.0   \n",
       "F1S4_180124_315_C01            54.0             1.0            28.0   \n",
       "F1S4_180124_315_D01           139.0             0.0            22.0   \n",
       "...                             ...             ...             ...   \n",
       "FJS4_170511_008_A01           196.0             1.0           140.0   \n",
       "FJS4_170511_008_D01           122.0            17.0           288.0   \n",
       "FJS4_170511_008_G01           196.0             2.0           273.0   \n",
       "FJS4_170511_008_H01           353.0            25.0           326.0   \n",
       "FJS4_170511_012_E01             0.0            41.0           389.0   \n",
       "\n",
       "                     X0610011F06Rik  X0610030E20Rik  X0610037L13Rik  \\\n",
       "F1S4_180124_314_A01            32.0             0.0            31.0   \n",
       "F1S4_180124_315_A01           114.0             0.0           189.0   \n",
       "F1S4_180124_315_B01             9.0            14.0            73.0   \n",
       "F1S4_180124_315_C01            40.0            17.0            67.0   \n",
       "F1S4_180124_315_D01           117.0            10.0           105.0   \n",
       "...                             ...             ...             ...   \n",
       "FJS4_170511_008_A01           162.0            14.0           146.0   \n",
       "FJS4_170511_008_D01           120.0           126.0           113.0   \n",
       "FJS4_170511_008_G01            99.0            24.0           242.0   \n",
       "FJS4_170511_008_H01             1.0             0.0            42.0   \n",
       "FJS4_170511_012_E01            68.0            74.0            29.0   \n",
       "\n",
       "                     X0610040J01Rik  X1110001J03Rik  X1110004E09Rik  \\\n",
       "F1S4_180124_314_A01             1.0            49.0            22.0   \n",
       "F1S4_180124_315_A01             0.0           244.0            23.0   \n",
       "F1S4_180124_315_B01             0.0           196.0            57.0   \n",
       "F1S4_180124_315_C01             0.0            55.0            36.0   \n",
       "F1S4_180124_315_D01             0.0            91.0            70.0   \n",
       "...                             ...             ...             ...   \n",
       "FJS4_170511_008_A01             0.0           178.0           125.0   \n",
       "FJS4_170511_008_D01             0.0            49.0           146.0   \n",
       "FJS4_170511_008_G01             0.0           194.0            69.0   \n",
       "FJS4_170511_008_H01            21.0           122.0            76.0   \n",
       "FJS4_170511_012_E01             0.0           100.0            64.0   \n",
       "\n",
       "                     X1110004F10Rik  ...   Zwint  Zxdb  Zxdc  Zyg11a  Zyg11b  \\\n",
       "F1S4_180124_314_A01           204.0  ...  3190.0   0.0  17.0     0.0    96.0   \n",
       "F1S4_180124_315_A01           484.0  ...  4832.0  28.0  33.0     0.0   179.0   \n",
       "F1S4_180124_315_B01           479.0  ...  3487.0  29.0   4.0     0.0   124.0   \n",
       "F1S4_180124_315_C01           388.0  ...  3891.0  13.0   0.0     0.0    98.0   \n",
       "F1S4_180124_315_D01           579.0  ...  4537.0   0.0   0.0     0.0    93.0   \n",
       "...                             ...  ...     ...   ...   ...     ...     ...   \n",
       "FJS4_170511_008_A01           447.0  ...  3313.0   0.0   4.0     0.0   349.0   \n",
       "FJS4_170511_008_D01           268.0  ...  1322.0   0.0  47.0     0.0   418.0   \n",
       "FJS4_170511_008_G01           612.0  ...  2957.0  49.0  60.0     0.0   527.0   \n",
       "FJS4_170511_008_H01           362.0  ...  2992.0   8.0   0.0     0.0   468.0   \n",
       "FJS4_170511_012_E01           498.0  ...  3863.0  16.0  25.0     0.0   218.0   \n",
       "\n",
       "                      Zyx  Zzef1   Zzz3    a  l7Rn6  \n",
       "F1S4_180124_314_A01   0.0    0.0   45.0  0.0   73.0  \n",
       "F1S4_180124_315_A01   0.0    0.0   83.0  0.0  127.0  \n",
       "F1S4_180124_315_B01  33.0   37.0   21.0  0.0   93.0  \n",
       "F1S4_180124_315_C01   0.0    5.0   18.0  0.0  135.0  \n",
       "F1S4_180124_315_D01  26.0   22.0   29.0  0.0   81.0  \n",
       "...                   ...    ...    ...  ...    ...  \n",
       "FJS4_170511_008_A01   8.0   40.0  129.0  7.0  210.0  \n",
       "FJS4_170511_008_D01  20.0   62.0    0.0  0.0  222.0  \n",
       "FJS4_170511_008_G01  24.0  123.0   75.0  0.0  485.0  \n",
       "FJS4_170511_008_H01   0.0   91.0   46.0  0.0  166.0  \n",
       "FJS4_170511_012_E01   0.0   39.0   28.0  0.0  380.0  \n",
       "\n",
       "[8128 rows x 16024 columns]"
      ]
     },
     "execution_count": 5,
     "metadata": {},
     "output_type": "execute_result"
    }
   ],
   "source": [
    "# ALM dataset\n",
    "ds['ALM'].to_df()"
   ]
  },
  {
   "cell_type": "markdown",
   "metadata": {},
   "source": [
    "Sample run annotating MTG given ALM as reference"
   ]
  },
  {
   "cell_type": "code",
   "execution_count": 6,
   "metadata": {},
   "outputs": [
    {
     "name": "stderr",
     "output_type": "stream",
     "text": [
      "[refcm           ] [INFO    ] : NOTE: raw counts expected in anndata .X attributes.\n",
      "[refcm           ] [DEBUG   ] : Loading cached mapping costs from ../src/cache.json.\n",
      "[refcm           ] [DEBUG   ] : Using costs for MTG->ALM found in cache.\n",
      "[refcm           ] [DEBUG   ] : starting LP optimization\n",
      "[refcm           ] [DEBUG   ] : optimization terminated w. status \"Optimal\"\n",
      "[matchings       ] [DEBUG   ] : \u001b[32m[+|1.00]\u001b[0m Astrocyte            mapped to Astrocyte           \n",
      "[matchings       ] [DEBUG   ] : \u001b[32m[+|1.00]\u001b[0m Chandelier           mapped to Chandelier          \n",
      "[matchings       ] [DEBUG   ] : \u001b[32m[+|1.00]\u001b[0m Exc L2/3 IT          mapped to Exc L2/3 IT         \n",
      "[matchings       ] [DEBUG   ] : \u001b[32m[+|1.00]\u001b[0m Exc L3/5 IT          mapped to Exc L3/5 IT         \n",
      "[matchings       ] [DEBUG   ] : \u001b[32m[+|1.00]\u001b[0m Exc L4/5 IT          mapped to Exc L4/5 IT         \n",
      "[matchings       ] [DEBUG   ] : \u001b[32m[+|1.00]\u001b[0m Exc L5 PT            mapped to Exc L5 PT           \n",
      "[matchings       ] [DEBUG   ] : \u001b[32m[+|1.00]\u001b[0m Exc L5/6 IT 1        mapped to Exc L5/6 IT 1       \n",
      "[matchings       ] [DEBUG   ] : \u001b[32m[+|1.00]\u001b[0m Exc L5/6 IT 2        mapped to Exc L5/6 IT 2       \n",
      "[matchings       ] [DEBUG   ] : \u001b[32m[+|1.00]\u001b[0m Exc L5/6 IT 3        mapped to Exc L5/6 IT 3       \n",
      "[matchings       ] [DEBUG   ] : \u001b[32m[+|1.00]\u001b[0m Exc L5/6 NP          mapped to Exc L5/6 NP         \n",
      "[matchings       ] [DEBUG   ] : \u001b[32m[+|1.00]\u001b[0m Exc L6 CT            mapped to Exc L6 CT           \n",
      "[matchings       ] [DEBUG   ] : \u001b[32m[+|1.00]\u001b[0m Exc L6 IT 1          mapped to Exc L6 IT 1         \n",
      "[matchings       ] [DEBUG   ] : \u001b[32m[+|1.00]\u001b[0m Exc L6 IT 2          mapped to Exc L6 IT 2         \n",
      "[matchings       ] [DEBUG   ] : \u001b[32m[+|1.00]\u001b[0m Exc L6b              mapped to Exc L6b             \n",
      "[matchings       ] [DEBUG   ] : \u001b[32m[+|1.00]\u001b[0m Lamp5 1              mapped to Lamp5 1             \n",
      "[matchings       ] [DEBUG   ] : \u001b[32m[+|1.00]\u001b[0m Lamp5 2              mapped to Lamp5 2             \n",
      "[matchings       ] [DEBUG   ] : \u001b[32m[+|1.00]\u001b[0m Lamp5 Lhx6           mapped to Lamp5 Lhx6          \n",
      "[matchings       ] [DEBUG   ] : \u001b[32m[+|1.00]\u001b[0m Lamp5 Rosehip        mapped to Lamp5 Rosehip       \n",
      "[matchings       ] [DEBUG   ] : \u001b[32m[+|1.00]\u001b[0m Oligo                mapped to Oligo               \n",
      "[matchings       ] [DEBUG   ] : \u001b[32m[+|1.00]\u001b[0m Pax6                 mapped to Pax6                \n",
      "[matchings       ] [DEBUG   ] : \u001b[32m[+|1.00]\u001b[0m Pvalb 1              mapped to Pvalb 1             \n",
      "[matchings       ] [DEBUG   ] : \u001b[32m[+|1.00]\u001b[0m Pvalb 2              mapped to Pvalb 2             \n",
      "[matchings       ] [DEBUG   ] : \u001b[32m[+|1.00]\u001b[0m Sst 1                mapped to Sst 1               \n",
      "[matchings       ] [DEBUG   ] : \u001b[32m[+|1.00]\u001b[0m Sst 2                mapped to Sst 2               \n",
      "[matchings       ] [DEBUG   ] : \u001b[32m[+|1.00]\u001b[0m Sst 3                mapped to Sst 3               \n",
      "[matchings       ] [DEBUG   ] : \u001b[32m[+|1.00]\u001b[0m Sst 4                mapped to Sst 4               \n",
      "[matchings       ] [DEBUG   ] : \u001b[32m[+|1.00]\u001b[0m Sst 5                mapped to Sst 5               \n",
      "[matchings       ] [DEBUG   ] : \u001b[32m[+|1.00]\u001b[0m Sst Chodl            mapped to Sst Chodl           \n",
      "[matchings       ] [DEBUG   ] : \u001b[32m[+|1.00]\u001b[0m Vip 1                mapped to Vip 1               \n",
      "[matchings       ] [DEBUG   ] : \u001b[32m[+|1.00]\u001b[0m Vip 2                mapped to Vip 2               \n",
      "[matchings       ] [DEBUG   ] : \u001b[32m[+|1.00]\u001b[0m Vip 3                mapped to Vip 3               \n",
      "[matchings       ] [DEBUG   ] : \u001b[32m[+|1.00]\u001b[0m Vip 4                mapped to Vip 4               \n",
      "[matchings       ] [DEBUG   ] : \u001b[32m[+|1.00]\u001b[0m Vip 5                mapped to Vip 5               \n",
      "[matchings       ] [DEBUG   ] : \u001b[32m[+|1.00]\u001b[0m Vip Sncg             mapped to Vip Sncg            \n",
      "[matchings       ] [INFO    ] : MTG                  to ALM                 \n",
      "[matchings       ] [INFO    ] : 34    common cell types\n",
      "[matchings       ] [INFO    ] : 34/34 correct   links\n",
      "[matchings       ] [INFO    ] : 0     incorrect links\n"
     ]
    },
    {
     "data": {
      "application/vnd.plotly.v1+json": {
       "config": {
        "plotlyServerURL": "https://plot.ly"
       },
       "data": [
        {
         "coloraxis": "coloraxis",
         "hovertemplate": "Reference: ALM: %{x}<br>Query: MTG: %{y}<br>cost: %{z}<extra></extra>",
         "name": "0",
         "type": "heatmap",
         "x": [
          "Astrocyte",
          "Chandelier",
          "Exc L2/3 IT",
          "Exc L3/5 IT",
          "Exc L4/5 IT",
          "Exc L5 PT",
          "Exc L5/6 IT 1",
          "Exc L5/6 IT 2",
          "Exc L5/6 IT 3",
          "Exc L5/6 NP",
          "Exc L6 CT",
          "Exc L6 IT 1",
          "Exc L6 IT 2",
          "Exc L6b",
          "Lamp5 1",
          "Lamp5 2",
          "Lamp5 Lhx6",
          "Lamp5 Rosehip",
          "Oligo",
          "Pax6",
          "Pvalb 1",
          "Pvalb 2",
          "Sst 1",
          "Sst 2",
          "Sst 3",
          "Sst 4",
          "Sst 5",
          "Sst Chodl",
          "Vip 1",
          "Vip 2",
          "Vip 3",
          "Vip 4",
          "Vip 5",
          "Vip Sncg"
         ],
         "xaxis": "x",
         "y": [
          "Astrocyte",
          "Chandelier",
          "Exc L2/3 IT",
          "Exc L3/5 IT",
          "Exc L4/5 IT",
          "Exc L5 PT",
          "Exc L5/6 IT 1",
          "Exc L5/6 IT 2",
          "Exc L5/6 IT 3",
          "Exc L5/6 NP",
          "Exc L6 CT",
          "Exc L6 IT 1",
          "Exc L6 IT 2",
          "Exc L6b",
          "Lamp5 1",
          "Lamp5 2",
          "Lamp5 Lhx6",
          "Lamp5 Rosehip",
          "Oligo",
          "Pax6",
          "Pvalb 1",
          "Pvalb 2",
          "Sst 1",
          "Sst 2",
          "Sst 3",
          "Sst 4",
          "Sst 5",
          "Sst Chodl",
          "Vip 1",
          "Vip 2",
          "Vip 3",
          "Vip 4",
          "Vip 5",
          "Vip Sncg"
         ],
         "yaxis": "y",
         "z": {
          "bdata": "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",
          "dtype": "f8",
          "shape": "34, 34"
         }
        },
        {
         "hovertemplate": "%{y} -> %{x}",
         "marker": {
          "color": [
           "green",
           "green",
           "green",
           "green",
           "green",
           "green",
           "green",
           "green",
           "green",
           "green",
           "green",
           "green",
           "green",
           "green",
           "green",
           "green",
           "green",
           "green",
           "green",
           "green",
           "green",
           "green",
           "green",
           "green",
           "green",
           "green",
           "green",
           "green",
           "green",
           "green",
           "green",
           "green",
           "green",
           "green"
          ],
          "size": 5
         },
         "mode": "markers",
         "name": "",
         "type": "scatter",
         "x": [
          "Astrocyte",
          "Chandelier",
          "Exc L2/3 IT",
          "Exc L3/5 IT",
          "Exc L4/5 IT",
          "Exc L5 PT",
          "Exc L5/6 IT 1",
          "Exc L5/6 IT 2",
          "Exc L5/6 IT 3",
          "Exc L5/6 NP",
          "Exc L6 CT",
          "Exc L6 IT 1",
          "Exc L6 IT 2",
          "Exc L6b",
          "Lamp5 1",
          "Lamp5 2",
          "Lamp5 Lhx6",
          "Lamp5 Rosehip",
          "Oligo",
          "Pax6",
          "Pvalb 1",
          "Pvalb 2",
          "Sst 1",
          "Sst 2",
          "Sst 3",
          "Sst 4",
          "Sst 5",
          "Sst Chodl",
          "Vip 1",
          "Vip 2",
          "Vip 3",
          "Vip 4",
          "Vip 5",
          "Vip Sncg"
         ],
         "y": [
          "Astrocyte",
          "Chandelier",
          "Exc L2/3 IT",
          "Exc L3/5 IT",
          "Exc L4/5 IT",
          "Exc L5 PT",
          "Exc L5/6 IT 1",
          "Exc L5/6 IT 2",
          "Exc L5/6 IT 3",
          "Exc L5/6 NP",
          "Exc L6 CT",
          "Exc L6 IT 1",
          "Exc L6 IT 2",
          "Exc L6b",
          "Lamp5 1",
          "Lamp5 2",
          "Lamp5 Lhx6",
          "Lamp5 Rosehip",
          "Oligo",
          "Pax6",
          "Pvalb 1",
          "Pvalb 2",
          "Sst 1",
          "Sst 2",
          "Sst 3",
          "Sst 4",
          "Sst 5",
          "Sst Chodl",
          "Vip 1",
          "Vip 2",
          "Vip 3",
          "Vip 4",
          "Vip 5",
          "Vip Sncg"
         ]
        }
       ],
       "layout": {
        "coloraxis": {
         "colorbar": {
          "title": {
           "text": "cost"
          }
         },
         "colorscale": [
          [
           0,
           "rgb(75, 41, 145)"
          ],
          [
           0.16666666666666666,
           "rgb(135, 44, 162)"
          ],
          [
           0.3333333333333333,
           "rgb(192, 54, 157)"
          ],
          [
           0.5,
           "rgb(234, 79, 136)"
          ],
          [
           0.6666666666666666,
           "rgb(250, 120, 118)"
          ],
          [
           0.8333333333333334,
           "rgb(246, 169, 122)"
          ],
          [
           1,
           "rgb(237, 217, 163)"
          ]
         ]
        },
        "template": {
         "data": {
          "bar": [
           {
            "error_x": {
             "color": "#2a3f5f"
            },
            "error_y": {
             "color": "#2a3f5f"
            },
            "marker": {
             "line": {
              "color": "#E5ECF6",
              "width": 0.5
             },
             "pattern": {
              "fillmode": "overlay",
              "size": 10,
              "solidity": 0.2
             }
            },
            "type": "bar"
           }
          ],
          "barpolar": [
           {
            "marker": {
             "line": {
              "color": "#E5ECF6",
              "width": 0.5
             },
             "pattern": {
              "fillmode": "overlay",
              "size": 10,
              "solidity": 0.2
             }
            },
            "type": "barpolar"
           }
          ],
          "carpet": [
           {
            "aaxis": {
             "endlinecolor": "#2a3f5f",
             "gridcolor": "white",
             "linecolor": "white",
             "minorgridcolor": "white",
             "startlinecolor": "#2a3f5f"
            },
            "baxis": {
             "endlinecolor": "#2a3f5f",
             "gridcolor": "white",
             "linecolor": "white",
             "minorgridcolor": "white",
             "startlinecolor": "#2a3f5f"
            },
            "type": "carpet"
           }
          ],
          "choropleth": [
           {
            "colorbar": {
             "outlinewidth": 0,
             "ticks": ""
            },
            "type": "choropleth"
           }
          ],
          "contour": [
           {
            "colorbar": {
             "outlinewidth": 0,
             "ticks": ""
            },
            "colorscale": [
             [
              0,
              "#0d0887"
             ],
             [
              0.1111111111111111,
              "#46039f"
             ],
             [
              0.2222222222222222,
              "#7201a8"
             ],
             [
              0.3333333333333333,
              "#9c179e"
             ],
             [
              0.4444444444444444,
              "#bd3786"
             ],
             [
              0.5555555555555556,
              "#d8576b"
             ],
             [
              0.6666666666666666,
              "#ed7953"
             ],
             [
              0.7777777777777778,
              "#fb9f3a"
             ],
             [
              0.8888888888888888,
              "#fdca26"
             ],
             [
              1,
              "#f0f921"
             ]
            ],
            "type": "contour"
           }
          ],
          "contourcarpet": [
           {
            "colorbar": {
             "outlinewidth": 0,
             "ticks": ""
            },
            "type": "contourcarpet"
           }
          ],
          "heatmap": [
           {
            "colorbar": {
             "outlinewidth": 0,
             "ticks": ""
            },
            "colorscale": [
             [
              0,
              "#0d0887"
             ],
             [
              0.1111111111111111,
              "#46039f"
             ],
             [
              0.2222222222222222,
              "#7201a8"
             ],
             [
              0.3333333333333333,
              "#9c179e"
             ],
             [
              0.4444444444444444,
              "#bd3786"
             ],
             [
              0.5555555555555556,
              "#d8576b"
             ],
             [
              0.6666666666666666,
              "#ed7953"
             ],
             [
              0.7777777777777778,
              "#fb9f3a"
             ],
             [
              0.8888888888888888,
              "#fdca26"
             ],
             [
              1,
              "#f0f921"
             ]
            ],
            "type": "heatmap"
           }
          ],
          "histogram": [
           {
            "marker": {
             "pattern": {
              "fillmode": "overlay",
              "size": 10,
              "solidity": 0.2
             }
            },
            "type": "histogram"
           }
          ],
          "histogram2d": [
           {
            "colorbar": {
             "outlinewidth": 0,
             "ticks": ""
            },
            "colorscale": [
             [
              0,
              "#0d0887"
             ],
             [
              0.1111111111111111,
              "#46039f"
             ],
             [
              0.2222222222222222,
              "#7201a8"
             ],
             [
              0.3333333333333333,
              "#9c179e"
             ],
             [
              0.4444444444444444,
              "#bd3786"
             ],
             [
              0.5555555555555556,
              "#d8576b"
             ],
             [
              0.6666666666666666,
              "#ed7953"
             ],
             [
              0.7777777777777778,
              "#fb9f3a"
             ],
             [
              0.8888888888888888,
              "#fdca26"
             ],
             [
              1,
              "#f0f921"
             ]
            ],
            "type": "histogram2d"
           }
          ],
          "histogram2dcontour": [
           {
            "colorbar": {
             "outlinewidth": 0,
             "ticks": ""
            },
            "colorscale": [
             [
              0,
              "#0d0887"
             ],
             [
              0.1111111111111111,
              "#46039f"
             ],
             [
              0.2222222222222222,
              "#7201a8"
             ],
             [
              0.3333333333333333,
              "#9c179e"
             ],
             [
              0.4444444444444444,
              "#bd3786"
             ],
             [
              0.5555555555555556,
              "#d8576b"
             ],
             [
              0.6666666666666666,
              "#ed7953"
             ],
             [
              0.7777777777777778,
              "#fb9f3a"
             ],
             [
              0.8888888888888888,
              "#fdca26"
             ],
             [
              1,
              "#f0f921"
             ]
            ],
            "type": "histogram2dcontour"
           }
          ],
          "mesh3d": [
           {
            "colorbar": {
             "outlinewidth": 0,
             "ticks": ""
            },
            "type": "mesh3d"
           }
          ],
          "parcoords": [
           {
            "line": {
             "colorbar": {
              "outlinewidth": 0,
              "ticks": ""
             }
            },
            "type": "parcoords"
           }
          ],
          "pie": [
           {
            "automargin": true,
            "type": "pie"
           }
          ],
          "scatter": [
           {
            "fillpattern": {
             "fillmode": "overlay",
             "size": 10,
             "solidity": 0.2
            },
            "type": "scatter"
           }
          ],
          "scatter3d": [
           {
            "line": {
             "colorbar": {
              "outlinewidth": 0,
              "ticks": ""
             }
            },
            "marker": {
             "colorbar": {
              "outlinewidth": 0,
              "ticks": ""
             }
            },
            "type": "scatter3d"
           }
          ],
          "scattercarpet": [
           {
            "marker": {
             "colorbar": {
              "outlinewidth": 0,
              "ticks": ""
             }
            },
            "type": "scattercarpet"
           }
          ],
          "scattergeo": [
           {
            "marker": {
             "colorbar": {
              "outlinewidth": 0,
              "ticks": ""
             }
            },
            "type": "scattergeo"
           }
          ],
          "scattergl": [
           {
            "marker": {
             "colorbar": {
              "outlinewidth": 0,
              "ticks": ""
             }
            },
            "type": "scattergl"
           }
          ],
          "scattermap": [
           {
            "marker": {
             "colorbar": {
              "outlinewidth": 0,
              "ticks": ""
             }
            },
            "type": "scattermap"
           }
          ],
          "scattermapbox": [
           {
            "marker": {
             "colorbar": {
              "outlinewidth": 0,
              "ticks": ""
             }
            },
            "type": "scattermapbox"
           }
          ],
          "scatterpolar": [
           {
            "marker": {
             "colorbar": {
              "outlinewidth": 0,
              "ticks": ""
             }
            },
            "type": "scatterpolar"
           }
          ],
          "scatterpolargl": [
           {
            "marker": {
             "colorbar": {
              "outlinewidth": 0,
              "ticks": ""
             }
            },
            "type": "scatterpolargl"
           }
          ],
          "scatterternary": [
           {
            "marker": {
             "colorbar": {
              "outlinewidth": 0,
              "ticks": ""
             }
            },
            "type": "scatterternary"
           }
          ],
          "surface": [
           {
            "colorbar": {
             "outlinewidth": 0,
             "ticks": ""
            },
            "colorscale": [
             [
              0,
              "#0d0887"
             ],
             [
              0.1111111111111111,
              "#46039f"
             ],
             [
              0.2222222222222222,
              "#7201a8"
             ],
             [
              0.3333333333333333,
              "#9c179e"
             ],
             [
              0.4444444444444444,
              "#bd3786"
             ],
             [
              0.5555555555555556,
              "#d8576b"
             ],
             [
              0.6666666666666666,
              "#ed7953"
             ],
             [
              0.7777777777777778,
              "#fb9f3a"
             ],
             [
              0.8888888888888888,
              "#fdca26"
             ],
             [
              1,
              "#f0f921"
             ]
            ],
            "type": "surface"
           }
          ],
          "table": [
           {
            "cells": {
             "fill": {
              "color": "#EBF0F8"
             },
             "line": {
              "color": "white"
             }
            },
            "header": {
             "fill": {
              "color": "#C8D4E3"
             },
             "line": {
              "color": "white"
             }
            },
            "type": "table"
           }
          ]
         },
         "layout": {
          "annotationdefaults": {
           "arrowcolor": "#2a3f5f",
           "arrowhead": 0,
           "arrowwidth": 1
          },
          "autotypenumbers": "strict",
          "coloraxis": {
           "colorbar": {
            "outlinewidth": 0,
            "ticks": ""
           }
          },
          "colorscale": {
           "diverging": [
            [
             0,
             "#8e0152"
            ],
            [
             0.1,
             "#c51b7d"
            ],
            [
             0.2,
             "#de77ae"
            ],
            [
             0.3,
             "#f1b6da"
            ],
            [
             0.4,
             "#fde0ef"
            ],
            [
             0.5,
             "#f7f7f7"
            ],
            [
             0.6,
             "#e6f5d0"
            ],
            [
             0.7,
             "#b8e186"
            ],
            [
             0.8,
             "#7fbc41"
            ],
            [
             0.9,
             "#4d9221"
            ],
            [
             1,
             "#276419"
            ]
           ],
           "sequential": [
            [
             0,
             "#0d0887"
            ],
            [
             0.1111111111111111,
             "#46039f"
            ],
            [
             0.2222222222222222,
             "#7201a8"
            ],
            [
             0.3333333333333333,
             "#9c179e"
            ],
            [
             0.4444444444444444,
             "#bd3786"
            ],
            [
             0.5555555555555556,
             "#d8576b"
            ],
            [
             0.6666666666666666,
             "#ed7953"
            ],
            [
             0.7777777777777778,
             "#fb9f3a"
            ],
            [
             0.8888888888888888,
             "#fdca26"
            ],
            [
             1,
             "#f0f921"
            ]
           ],
           "sequentialminus": [
            [
             0,
             "#0d0887"
            ],
            [
             0.1111111111111111,
             "#46039f"
            ],
            [
             0.2222222222222222,
             "#7201a8"
            ],
            [
             0.3333333333333333,
             "#9c179e"
            ],
            [
             0.4444444444444444,
             "#bd3786"
            ],
            [
             0.5555555555555556,
             "#d8576b"
            ],
            [
             0.6666666666666666,
             "#ed7953"
            ],
            [
             0.7777777777777778,
             "#fb9f3a"
            ],
            [
             0.8888888888888888,
             "#fdca26"
            ],
            [
             1,
             "#f0f921"
            ]
           ]
          },
          "colorway": [
           "#636efa",
           "#EF553B",
           "#00cc96",
           "#ab63fa",
           "#FFA15A",
           "#19d3f3",
           "#FF6692",
           "#B6E880",
           "#FF97FF",
           "#FECB52"
          ],
          "font": {
           "color": "#2a3f5f"
          },
          "geo": {
           "bgcolor": "white",
           "lakecolor": "white",
           "landcolor": "#E5ECF6",
           "showlakes": true,
           "showland": true,
           "subunitcolor": "white"
          },
          "hoverlabel": {
           "align": "left"
          },
          "hovermode": "closest",
          "mapbox": {
           "style": "light"
          },
          "paper_bgcolor": "white",
          "plot_bgcolor": "#E5ECF6",
          "polar": {
           "angularaxis": {
            "gridcolor": "white",
            "linecolor": "white",
            "ticks": ""
           },
           "bgcolor": "#E5ECF6",
           "radialaxis": {
            "gridcolor": "white",
            "linecolor": "white",
            "ticks": ""
           }
          },
          "scene": {
           "xaxis": {
            "backgroundcolor": "#E5ECF6",
            "gridcolor": "white",
            "gridwidth": 2,
            "linecolor": "white",
            "showbackground": true,
            "ticks": "",
            "zerolinecolor": "white"
           },
           "yaxis": {
            "backgroundcolor": "#E5ECF6",
            "gridcolor": "white",
            "gridwidth": 2,
            "linecolor": "white",
            "showbackground": true,
            "ticks": "",
            "zerolinecolor": "white"
           },
           "zaxis": {
            "backgroundcolor": "#E5ECF6",
            "gridcolor": "white",
            "gridwidth": 2,
            "linecolor": "white",
            "showbackground": true,
            "ticks": "",
            "zerolinecolor": "white"
           }
          },
          "shapedefaults": {
           "line": {
            "color": "#2a3f5f"
           }
          },
          "ternary": {
           "aaxis": {
            "gridcolor": "white",
            "linecolor": "white",
            "ticks": ""
           },
           "baxis": {
            "gridcolor": "white",
            "linecolor": "white",
            "ticks": ""
           },
           "bgcolor": "#E5ECF6",
           "caxis": {
            "gridcolor": "white",
            "linecolor": "white",
            "ticks": ""
           }
          },
          "title": {
           "x": 0.05
          },
          "xaxis": {
           "automargin": true,
           "gridcolor": "white",
           "linecolor": "white",
           "ticks": "",
           "title": {
            "standoff": 15
           },
           "zerolinecolor": "white",
           "zerolinewidth": 2
          },
          "yaxis": {
           "automargin": true,
           "gridcolor": "white",
           "linecolor": "white",
           "ticks": "",
           "title": {
            "standoff": 15
           },
           "zerolinecolor": "white",
           "zerolinewidth": 2
          }
         }
        },
        "title": {
         "text": "MTG to ALM matching cost"
        },
        "xaxis": {
         "anchor": "y",
         "constrain": "domain",
         "domain": [
          0,
          1
         ],
         "scaleanchor": "y",
         "tickangle": -90,
         "title": {
          "text": "Reference: ALM"
         }
        },
        "yaxis": {
         "anchor": "x",
         "autorange": "reversed",
         "constrain": "domain",
         "domain": [
          0,
          1
         ],
         "title": {
          "text": "Query: MTG"
         }
        }
       }
      }
     },
     "metadata": {},
     "output_type": "display_data"
    }
   ],
   "source": [
    "q, ref = 'MTG', 'ALM'\n",
    "\n",
    "# create RefCM object -- can choose to enable/disable costs cache\n",
    "rcm = RefCM(discovery_threshold=None)#, cache_load=False, cache_save=False)\n",
    "\n",
    "# set reference\n",
    "rcm.setref(ds[ref], ref, 'labels34')\n",
    "\n",
    "# annotate query dataset\n",
    "m = rcm.annotate(ds[q], q, 'labels34')\n",
    "\n",
    "# evaluate and visualize annotation quality\n",
    "m.eval('labels34')\n",
    "m.display_matching_costs('labels34')"
   ]
  },
  {
   "cell_type": "markdown",
   "metadata": {},
   "source": [
    "Annotating all Allen-Brain datasets against each other"
   ]
  },
  {
   "cell_type": "code",
   "execution_count": null,
   "metadata": {},
   "outputs": [
    {
     "name": "stderr",
     "output_type": "stream",
     "text": [
      "[refcm           ] [INFO    ] : NOTE: raw counts expected in anndata .X attributes.\n",
      "|████████████████| [100.00% ] : 00:38\n",
      "[matchings       ] [INFO    ] : mapped MTG                  to ALM                 \n",
      "[matchings       ] [INFO    ] : (34 common cell types)\n",
      "[matchings       ] [INFO    ] : 34/34 correct mappings\n",
      "[matchings       ] [INFO    ] : 0 /34 incorrect mappings\n",
      "|████████████████| [100.00% ] : 00:43\n",
      "[matchings       ] [INFO    ] : mapped MTG                  to VISp                \n",
      "[matchings       ] [INFO    ] : (34 common cell types)\n",
      "[matchings       ] [INFO    ] : 34/34 correct mappings\n",
      "[matchings       ] [INFO    ] : 0 /34 incorrect mappings\n",
      "|████████████████| [100.00% ] : 00:36\n",
      "[matchings       ] [INFO    ] : mapped ALM                  to MTG                 \n",
      "[matchings       ] [INFO    ] : (34 common cell types)\n",
      "[matchings       ] [INFO    ] : 34/34 correct mappings\n",
      "[matchings       ] [INFO    ] : 0 /34 incorrect mappings\n",
      "|████████████████| [100.00% ] : 01:01\n",
      "[matchings       ] [INFO    ] : mapped ALM                  to VISp                \n",
      "[matchings       ] [INFO    ] : (34 common cell types)\n",
      "[matchings       ] [INFO    ] : 34/34 correct mappings\n",
      "[matchings       ] [INFO    ] : 0 /34 incorrect mappings\n",
      "|████████████████| [100.00% ] : 00:44\n",
      "[matchings       ] [INFO    ] : mapped VISp                 to MTG                 \n",
      "[matchings       ] [INFO    ] : (34 common cell types)\n",
      "[matchings       ] [INFO    ] : 34/34 correct mappings\n",
      "[matchings       ] [INFO    ] : 0 /34 incorrect mappings\n",
      "|████████████████| [100.00% ] : 01:25\n",
      "[matchings       ] [INFO    ] : mapped VISp                 to ALM                 \n",
      "[matchings       ] [INFO    ] : (34 common cell types)\n",
      "[matchings       ] [INFO    ] : 34/34 correct mappings\n",
      "[matchings       ] [INFO    ] : 0 /34 incorrect mappings\n"
     ]
    }
   ],
   "source": [
    "rcm = RefCM(discovery_threshold=0)\n",
    "\n",
    "for i, q_id in enumerate(ds):\n",
    "    for ref_id in [d for d in ds if d != q_id]:\n",
    "        m = rcm.annotate(ds[q_id], q_id, ds[ref_id], ref_id, 'labels34', 'labels34')\n",
    "        m.eval('labels34')"
   ]
  }
 ],
 "metadata": {
  "kernelspec": {
   "display_name": ".venv",
   "language": "python",
   "name": "python3"
  },
  "language_info": {
   "codemirror_mode": {
    "name": "ipython",
    "version": 3
   },
   "file_extension": ".py",
   "mimetype": "text/x-python",
   "name": "python",
   "nbconvert_exporter": "python",
   "pygments_lexer": "ipython3",
   "version": "3.11.12"
  }
 },
 "nbformat": 4,
 "nbformat_minor": 4
}
