{
 "cells": [
  {
   "cell_type": "code",
   "execution_count": 1,
   "metadata": {},
   "outputs": [],
   "source": [
    "import logging\n",
    "import scanpy as sc\n",
    "\n",
    "import sys\n",
    "sys.path.append(\"../src/\")\n",
    "\n",
    "# refcm imports\n",
    "import refcm\n",
    "from refcm import RefCM\n",
    "\n",
    "\n",
    "refcm.start_logging(logging.DEBUG)"
   ]
  },
  {
   "cell_type": "code",
   "execution_count": 2,
   "metadata": {},
   "outputs": [],
   "source": [
    "%load_ext autoreload\n",
    "%autoreload 2"
   ]
  },
  {
   "cell_type": "markdown",
   "metadata": {},
   "source": [
    "Loading the relevant datasets into memory"
   ]
  },
  {
   "cell_type": "code",
   "execution_count": 3,
   "metadata": {},
   "outputs": [
    {
     "name": "stderr",
     "output_type": "stream",
     "text": [
      "[h5py._conv      ] [DEBUG   ] : Creating converter from 3 to 5\n"
     ]
    }
   ],
   "source": [
    "ds = [\"MTG\", \"ALM\", \"VISp\"]\n",
    "ds = {s: sc.read_h5ad(f\"../data/{s}.h5ad\") for s in ds}"
   ]
  },
  {
   "cell_type": "code",
   "execution_count": 4,
   "metadata": {},
   "outputs": [
    {
     "data": {
      "text/html": [
       "<div>\n",
       "<style scoped>\n",
       "    .dataframe tbody tr th:only-of-type {\n",
       "        vertical-align: middle;\n",
       "    }\n",
       "\n",
       "    .dataframe tbody tr th {\n",
       "        vertical-align: top;\n",
       "    }\n",
       "\n",
       "    .dataframe thead th {\n",
       "        text-align: right;\n",
       "    }\n",
       "</style>\n",
       "<table border=\"1\" class=\"dataframe\">\n",
       "  <thead>\n",
       "    <tr style=\"text-align: right;\">\n",
       "      <th></th>\n",
       "      <th>X0610007P14Rik</th>\n",
       "      <th>X0610009O20Rik</th>\n",
       "      <th>X0610010F05Rik</th>\n",
       "      <th>X0610011F06Rik</th>\n",
       "      <th>X0610030E20Rik</th>\n",
       "      <th>X0610037L13Rik</th>\n",
       "      <th>X0610040J01Rik</th>\n",
       "      <th>X1110001J03Rik</th>\n",
       "      <th>X1110004E09Rik</th>\n",
       "      <th>X1110004F10Rik</th>\n",
       "      <th>...</th>\n",
       "      <th>Zwint</th>\n",
       "      <th>Zxdb</th>\n",
       "      <th>Zxdc</th>\n",
       "      <th>Zyg11a</th>\n",
       "      <th>Zyg11b</th>\n",
       "      <th>Zyx</th>\n",
       "      <th>Zzef1</th>\n",
       "      <th>Zzz3</th>\n",
       "      <th>a</th>\n",
       "      <th>l7Rn6</th>\n",
       "    </tr>\n",
       "  </thead>\n",
       "  <tbody>\n",
       "    <tr>\n",
       "      <th>F1S4_160106_001_B01</th>\n",
       "      <td>0.0</td>\n",
       "      <td>157.0</td>\n",
       "      <td>9.0</td>\n",
       "      <td>12.0</td>\n",
       "      <td>0.0</td>\n",
       "      <td>0.0</td>\n",
       "      <td>88.0</td>\n",
       "      <td>1.0</td>\n",
       "      <td>268.0</td>\n",
       "      <td>258.0</td>\n",
       "      <td>...</td>\n",
       "      <td>0.0</td>\n",
       "      <td>0.0</td>\n",
       "      <td>0.0</td>\n",
       "      <td>0.0</td>\n",
       "      <td>33.0</td>\n",
       "      <td>0.0</td>\n",
       "      <td>1.0</td>\n",
       "      <td>306.0</td>\n",
       "      <td>0.0</td>\n",
       "      <td>374.0</td>\n",
       "    </tr>\n",
       "    <tr>\n",
       "      <th>F1S4_160106_001_C01</th>\n",
       "      <td>107.0</td>\n",
       "      <td>80.0</td>\n",
       "      <td>85.0</td>\n",
       "      <td>0.0</td>\n",
       "      <td>0.0</td>\n",
       "      <td>245.0</td>\n",
       "      <td>1.0</td>\n",
       "      <td>0.0</td>\n",
       "      <td>327.0</td>\n",
       "      <td>521.0</td>\n",
       "      <td>...</td>\n",
       "      <td>0.0</td>\n",
       "      <td>17.0</td>\n",
       "      <td>35.0</td>\n",
       "      <td>0.0</td>\n",
       "      <td>258.0</td>\n",
       "      <td>0.0</td>\n",
       "      <td>8.0</td>\n",
       "      <td>341.0</td>\n",
       "      <td>0.0</td>\n",
       "      <td>189.0</td>\n",
       "    </tr>\n",
       "    <tr>\n",
       "      <th>F1S4_160106_001_E01</th>\n",
       "      <td>53.0</td>\n",
       "      <td>36.0</td>\n",
       "      <td>19.0</td>\n",
       "      <td>12.0</td>\n",
       "      <td>0.0</td>\n",
       "      <td>23.0</td>\n",
       "      <td>0.0</td>\n",
       "      <td>0.0</td>\n",
       "      <td>196.0</td>\n",
       "      <td>96.0</td>\n",
       "      <td>...</td>\n",
       "      <td>0.0</td>\n",
       "      <td>0.0</td>\n",
       "      <td>13.0</td>\n",
       "      <td>25.0</td>\n",
       "      <td>45.0</td>\n",
       "      <td>72.0</td>\n",
       "      <td>197.0</td>\n",
       "      <td>296.0</td>\n",
       "      <td>2.0</td>\n",
       "      <td>33.0</td>\n",
       "    </tr>\n",
       "    <tr>\n",
       "      <th>F1S4_160106_001_G01</th>\n",
       "      <td>2.0</td>\n",
       "      <td>1.0</td>\n",
       "      <td>344.0</td>\n",
       "      <td>31.0</td>\n",
       "      <td>0.0</td>\n",
       "      <td>82.0</td>\n",
       "      <td>0.0</td>\n",
       "      <td>36.0</td>\n",
       "      <td>45.0</td>\n",
       "      <td>66.0</td>\n",
       "      <td>...</td>\n",
       "      <td>0.0</td>\n",
       "      <td>0.0</td>\n",
       "      <td>82.0</td>\n",
       "      <td>0.0</td>\n",
       "      <td>181.0</td>\n",
       "      <td>0.0</td>\n",
       "      <td>58.0</td>\n",
       "      <td>206.0</td>\n",
       "      <td>28.0</td>\n",
       "      <td>97.0</td>\n",
       "    </tr>\n",
       "    <tr>\n",
       "      <th>F1S4_160106_001_H01</th>\n",
       "      <td>97.0</td>\n",
       "      <td>0.0</td>\n",
       "      <td>264.0</td>\n",
       "      <td>103.0</td>\n",
       "      <td>37.0</td>\n",
       "      <td>0.0</td>\n",
       "      <td>1.0</td>\n",
       "      <td>0.0</td>\n",
       "      <td>40.0</td>\n",
       "      <td>122.0</td>\n",
       "      <td>...</td>\n",
       "      <td>0.0</td>\n",
       "      <td>0.0</td>\n",
       "      <td>0.0</td>\n",
       "      <td>0.0</td>\n",
       "      <td>317.0</td>\n",
       "      <td>10.0</td>\n",
       "      <td>169.0</td>\n",
       "      <td>0.0</td>\n",
       "      <td>12.0</td>\n",
       "      <td>0.0</td>\n",
       "    </tr>\n",
       "    <tr>\n",
       "      <th>...</th>\n",
       "      <td>...</td>\n",
       "      <td>...</td>\n",
       "      <td>...</td>\n",
       "      <td>...</td>\n",
       "      <td>...</td>\n",
       "      <td>...</td>\n",
       "      <td>...</td>\n",
       "      <td>...</td>\n",
       "      <td>...</td>\n",
       "      <td>...</td>\n",
       "      <td>...</td>\n",
       "      <td>...</td>\n",
       "      <td>...</td>\n",
       "      <td>...</td>\n",
       "      <td>...</td>\n",
       "      <td>...</td>\n",
       "      <td>...</td>\n",
       "      <td>...</td>\n",
       "      <td>...</td>\n",
       "      <td>...</td>\n",
       "      <td>...</td>\n",
       "    </tr>\n",
       "    <tr>\n",
       "      <th>F2S4_170405_060_A01</th>\n",
       "      <td>46.0</td>\n",
       "      <td>34.0</td>\n",
       "      <td>232.0</td>\n",
       "      <td>51.0</td>\n",
       "      <td>0.0</td>\n",
       "      <td>41.0</td>\n",
       "      <td>0.0</td>\n",
       "      <td>0.0</td>\n",
       "      <td>0.0</td>\n",
       "      <td>209.0</td>\n",
       "      <td>...</td>\n",
       "      <td>0.0</td>\n",
       "      <td>0.0</td>\n",
       "      <td>49.0</td>\n",
       "      <td>0.0</td>\n",
       "      <td>160.0</td>\n",
       "      <td>51.0</td>\n",
       "      <td>46.0</td>\n",
       "      <td>352.0</td>\n",
       "      <td>0.0</td>\n",
       "      <td>76.0</td>\n",
       "    </tr>\n",
       "    <tr>\n",
       "      <th>F2S4_170405_060_B01</th>\n",
       "      <td>0.0</td>\n",
       "      <td>186.0</td>\n",
       "      <td>156.0</td>\n",
       "      <td>29.0</td>\n",
       "      <td>0.0</td>\n",
       "      <td>0.0</td>\n",
       "      <td>0.0</td>\n",
       "      <td>0.0</td>\n",
       "      <td>54.0</td>\n",
       "      <td>202.0</td>\n",
       "      <td>...</td>\n",
       "      <td>75.0</td>\n",
       "      <td>0.0</td>\n",
       "      <td>87.0</td>\n",
       "      <td>0.0</td>\n",
       "      <td>128.0</td>\n",
       "      <td>72.0</td>\n",
       "      <td>22.0</td>\n",
       "      <td>370.0</td>\n",
       "      <td>1.0</td>\n",
       "      <td>69.0</td>\n",
       "    </tr>\n",
       "    <tr>\n",
       "      <th>F2S4_170405_060_C01</th>\n",
       "      <td>90.0</td>\n",
       "      <td>237.0</td>\n",
       "      <td>456.0</td>\n",
       "      <td>98.0</td>\n",
       "      <td>28.0</td>\n",
       "      <td>0.0</td>\n",
       "      <td>0.0</td>\n",
       "      <td>0.0</td>\n",
       "      <td>1.0</td>\n",
       "      <td>127.0</td>\n",
       "      <td>...</td>\n",
       "      <td>115.0</td>\n",
       "      <td>0.0</td>\n",
       "      <td>171.0</td>\n",
       "      <td>1.0</td>\n",
       "      <td>79.0</td>\n",
       "      <td>23.0</td>\n",
       "      <td>0.0</td>\n",
       "      <td>113.0</td>\n",
       "      <td>26.0</td>\n",
       "      <td>0.0</td>\n",
       "    </tr>\n",
       "    <tr>\n",
       "      <th>F2S4_170405_060_E01</th>\n",
       "      <td>0.0</td>\n",
       "      <td>0.0</td>\n",
       "      <td>400.0</td>\n",
       "      <td>0.0</td>\n",
       "      <td>0.0</td>\n",
       "      <td>92.0</td>\n",
       "      <td>94.0</td>\n",
       "      <td>0.0</td>\n",
       "      <td>0.0</td>\n",
       "      <td>75.0</td>\n",
       "      <td>...</td>\n",
       "      <td>0.0</td>\n",
       "      <td>0.0</td>\n",
       "      <td>141.0</td>\n",
       "      <td>0.0</td>\n",
       "      <td>0.0</td>\n",
       "      <td>62.0</td>\n",
       "      <td>316.0</td>\n",
       "      <td>187.0</td>\n",
       "      <td>0.0</td>\n",
       "      <td>0.0</td>\n",
       "    </tr>\n",
       "    <tr>\n",
       "      <th>F2S4_170405_060_H01</th>\n",
       "      <td>0.0</td>\n",
       "      <td>293.0</td>\n",
       "      <td>173.0</td>\n",
       "      <td>0.0</td>\n",
       "      <td>0.0</td>\n",
       "      <td>4.0</td>\n",
       "      <td>2.0</td>\n",
       "      <td>40.0</td>\n",
       "      <td>67.0</td>\n",
       "      <td>175.0</td>\n",
       "      <td>...</td>\n",
       "      <td>0.0</td>\n",
       "      <td>0.0</td>\n",
       "      <td>149.0</td>\n",
       "      <td>226.0</td>\n",
       "      <td>462.0</td>\n",
       "      <td>4.0</td>\n",
       "      <td>203.0</td>\n",
       "      <td>184.0</td>\n",
       "      <td>1.0</td>\n",
       "      <td>73.0</td>\n",
       "    </tr>\n",
       "  </tbody>\n",
       "</table>\n",
       "<p>14055 rows × 16024 columns</p>\n",
       "</div>"
      ],
      "text/plain": [
       "                     X0610007P14Rik  X0610009O20Rik  X0610010F05Rik  \\\n",
       "F1S4_160106_001_B01             0.0           157.0             9.0   \n",
       "F1S4_160106_001_C01           107.0            80.0            85.0   \n",
       "F1S4_160106_001_E01            53.0            36.0            19.0   \n",
       "F1S4_160106_001_G01             2.0             1.0           344.0   \n",
       "F1S4_160106_001_H01            97.0             0.0           264.0   \n",
       "...                             ...             ...             ...   \n",
       "F2S4_170405_060_A01            46.0            34.0           232.0   \n",
       "F2S4_170405_060_B01             0.0           186.0           156.0   \n",
       "F2S4_170405_060_C01            90.0           237.0           456.0   \n",
       "F2S4_170405_060_E01             0.0             0.0           400.0   \n",
       "F2S4_170405_060_H01             0.0           293.0           173.0   \n",
       "\n",
       "                     X0610011F06Rik  X0610030E20Rik  X0610037L13Rik  \\\n",
       "F1S4_160106_001_B01            12.0             0.0             0.0   \n",
       "F1S4_160106_001_C01             0.0             0.0           245.0   \n",
       "F1S4_160106_001_E01            12.0             0.0            23.0   \n",
       "F1S4_160106_001_G01            31.0             0.0            82.0   \n",
       "F1S4_160106_001_H01           103.0            37.0             0.0   \n",
       "...                             ...             ...             ...   \n",
       "F2S4_170405_060_A01            51.0             0.0            41.0   \n",
       "F2S4_170405_060_B01            29.0             0.0             0.0   \n",
       "F2S4_170405_060_C01            98.0            28.0             0.0   \n",
       "F2S4_170405_060_E01             0.0             0.0            92.0   \n",
       "F2S4_170405_060_H01             0.0             0.0             4.0   \n",
       "\n",
       "                     X0610040J01Rik  X1110001J03Rik  X1110004E09Rik  \\\n",
       "F1S4_160106_001_B01            88.0             1.0           268.0   \n",
       "F1S4_160106_001_C01             1.0             0.0           327.0   \n",
       "F1S4_160106_001_E01             0.0             0.0           196.0   \n",
       "F1S4_160106_001_G01             0.0            36.0            45.0   \n",
       "F1S4_160106_001_H01             1.0             0.0            40.0   \n",
       "...                             ...             ...             ...   \n",
       "F2S4_170405_060_A01             0.0             0.0             0.0   \n",
       "F2S4_170405_060_B01             0.0             0.0            54.0   \n",
       "F2S4_170405_060_C01             0.0             0.0             1.0   \n",
       "F2S4_170405_060_E01            94.0             0.0             0.0   \n",
       "F2S4_170405_060_H01             2.0            40.0            67.0   \n",
       "\n",
       "                     X1110004F10Rik  ...  Zwint  Zxdb   Zxdc  Zyg11a  Zyg11b  \\\n",
       "F1S4_160106_001_B01           258.0  ...    0.0   0.0    0.0     0.0    33.0   \n",
       "F1S4_160106_001_C01           521.0  ...    0.0  17.0   35.0     0.0   258.0   \n",
       "F1S4_160106_001_E01            96.0  ...    0.0   0.0   13.0    25.0    45.0   \n",
       "F1S4_160106_001_G01            66.0  ...    0.0   0.0   82.0     0.0   181.0   \n",
       "F1S4_160106_001_H01           122.0  ...    0.0   0.0    0.0     0.0   317.0   \n",
       "...                             ...  ...    ...   ...    ...     ...     ...   \n",
       "F2S4_170405_060_A01           209.0  ...    0.0   0.0   49.0     0.0   160.0   \n",
       "F2S4_170405_060_B01           202.0  ...   75.0   0.0   87.0     0.0   128.0   \n",
       "F2S4_170405_060_C01           127.0  ...  115.0   0.0  171.0     1.0    79.0   \n",
       "F2S4_170405_060_E01            75.0  ...    0.0   0.0  141.0     0.0     0.0   \n",
       "F2S4_170405_060_H01           175.0  ...    0.0   0.0  149.0   226.0   462.0   \n",
       "\n",
       "                      Zyx  Zzef1   Zzz3     a  l7Rn6  \n",
       "F1S4_160106_001_B01   0.0    1.0  306.0   0.0  374.0  \n",
       "F1S4_160106_001_C01   0.0    8.0  341.0   0.0  189.0  \n",
       "F1S4_160106_001_E01  72.0  197.0  296.0   2.0   33.0  \n",
       "F1S4_160106_001_G01   0.0   58.0  206.0  28.0   97.0  \n",
       "F1S4_160106_001_H01  10.0  169.0    0.0  12.0    0.0  \n",
       "...                   ...    ...    ...   ...    ...  \n",
       "F2S4_170405_060_A01  51.0   46.0  352.0   0.0   76.0  \n",
       "F2S4_170405_060_B01  72.0   22.0  370.0   1.0   69.0  \n",
       "F2S4_170405_060_C01  23.0    0.0  113.0  26.0    0.0  \n",
       "F2S4_170405_060_E01  62.0  316.0  187.0   0.0    0.0  \n",
       "F2S4_170405_060_H01   4.0  203.0  184.0   1.0   73.0  \n",
       "\n",
       "[14055 rows x 16024 columns]"
      ]
     },
     "execution_count": 4,
     "metadata": {},
     "output_type": "execute_result"
    }
   ],
   "source": [
    "# MTG dataset\n",
    "ds[\"MTG\"].to_df()"
   ]
  },
  {
   "cell_type": "code",
   "execution_count": 5,
   "metadata": {},
   "outputs": [
    {
     "data": {
      "text/html": [
       "<div>\n",
       "<style scoped>\n",
       "    .dataframe tbody tr th:only-of-type {\n",
       "        vertical-align: middle;\n",
       "    }\n",
       "\n",
       "    .dataframe tbody tr th {\n",
       "        vertical-align: top;\n",
       "    }\n",
       "\n",
       "    .dataframe thead th {\n",
       "        text-align: right;\n",
       "    }\n",
       "</style>\n",
       "<table border=\"1\" class=\"dataframe\">\n",
       "  <thead>\n",
       "    <tr style=\"text-align: right;\">\n",
       "      <th></th>\n",
       "      <th>X0610007P14Rik</th>\n",
       "      <th>X0610009O20Rik</th>\n",
       "      <th>X0610010F05Rik</th>\n",
       "      <th>X0610011F06Rik</th>\n",
       "      <th>X0610030E20Rik</th>\n",
       "      <th>X0610037L13Rik</th>\n",
       "      <th>X0610040J01Rik</th>\n",
       "      <th>X1110001J03Rik</th>\n",
       "      <th>X1110004E09Rik</th>\n",
       "      <th>X1110004F10Rik</th>\n",
       "      <th>...</th>\n",
       "      <th>Zwint</th>\n",
       "      <th>Zxdb</th>\n",
       "      <th>Zxdc</th>\n",
       "      <th>Zyg11a</th>\n",
       "      <th>Zyg11b</th>\n",
       "      <th>Zyx</th>\n",
       "      <th>Zzef1</th>\n",
       "      <th>Zzz3</th>\n",
       "      <th>a</th>\n",
       "      <th>l7Rn6</th>\n",
       "    </tr>\n",
       "  </thead>\n",
       "  <tbody>\n",
       "    <tr>\n",
       "      <th>F1S4_180124_314_A01</th>\n",
       "      <td>80.0</td>\n",
       "      <td>11.0</td>\n",
       "      <td>135.0</td>\n",
       "      <td>32.0</td>\n",
       "      <td>0.0</td>\n",
       "      <td>31.0</td>\n",
       "      <td>1.0</td>\n",
       "      <td>49.0</td>\n",
       "      <td>22.0</td>\n",
       "      <td>204.0</td>\n",
       "      <td>...</td>\n",
       "      <td>3190.0</td>\n",
       "      <td>0.0</td>\n",
       "      <td>17.0</td>\n",
       "      <td>0.0</td>\n",
       "      <td>96.0</td>\n",
       "      <td>0.0</td>\n",
       "      <td>0.0</td>\n",
       "      <td>45.0</td>\n",
       "      <td>0.0</td>\n",
       "      <td>73.0</td>\n",
       "    </tr>\n",
       "    <tr>\n",
       "      <th>F1S4_180124_315_A01</th>\n",
       "      <td>233.0</td>\n",
       "      <td>37.0</td>\n",
       "      <td>183.0</td>\n",
       "      <td>114.0</td>\n",
       "      <td>0.0</td>\n",
       "      <td>189.0</td>\n",
       "      <td>0.0</td>\n",
       "      <td>244.0</td>\n",
       "      <td>23.0</td>\n",
       "      <td>484.0</td>\n",
       "      <td>...</td>\n",
       "      <td>4832.0</td>\n",
       "      <td>28.0</td>\n",
       "      <td>33.0</td>\n",
       "      <td>0.0</td>\n",
       "      <td>179.0</td>\n",
       "      <td>0.0</td>\n",
       "      <td>0.0</td>\n",
       "      <td>83.0</td>\n",
       "      <td>0.0</td>\n",
       "      <td>127.0</td>\n",
       "    </tr>\n",
       "    <tr>\n",
       "      <th>F1S4_180124_315_B01</th>\n",
       "      <td>142.0</td>\n",
       "      <td>4.0</td>\n",
       "      <td>129.0</td>\n",
       "      <td>9.0</td>\n",
       "      <td>14.0</td>\n",
       "      <td>73.0</td>\n",
       "      <td>0.0</td>\n",
       "      <td>196.0</td>\n",
       "      <td>57.0</td>\n",
       "      <td>479.0</td>\n",
       "      <td>...</td>\n",
       "      <td>3487.0</td>\n",
       "      <td>29.0</td>\n",
       "      <td>4.0</td>\n",
       "      <td>0.0</td>\n",
       "      <td>124.0</td>\n",
       "      <td>33.0</td>\n",
       "      <td>37.0</td>\n",
       "      <td>21.0</td>\n",
       "      <td>0.0</td>\n",
       "      <td>93.0</td>\n",
       "    </tr>\n",
       "    <tr>\n",
       "      <th>F1S4_180124_315_C01</th>\n",
       "      <td>54.0</td>\n",
       "      <td>1.0</td>\n",
       "      <td>28.0</td>\n",
       "      <td>40.0</td>\n",
       "      <td>17.0</td>\n",
       "      <td>67.0</td>\n",
       "      <td>0.0</td>\n",
       "      <td>55.0</td>\n",
       "      <td>36.0</td>\n",
       "      <td>388.0</td>\n",
       "      <td>...</td>\n",
       "      <td>3891.0</td>\n",
       "      <td>13.0</td>\n",
       "      <td>0.0</td>\n",
       "      <td>0.0</td>\n",
       "      <td>98.0</td>\n",
       "      <td>0.0</td>\n",
       "      <td>5.0</td>\n",
       "      <td>18.0</td>\n",
       "      <td>0.0</td>\n",
       "      <td>135.0</td>\n",
       "    </tr>\n",
       "    <tr>\n",
       "      <th>F1S4_180124_315_D01</th>\n",
       "      <td>139.0</td>\n",
       "      <td>0.0</td>\n",
       "      <td>22.0</td>\n",
       "      <td>117.0</td>\n",
       "      <td>10.0</td>\n",
       "      <td>105.0</td>\n",
       "      <td>0.0</td>\n",
       "      <td>91.0</td>\n",
       "      <td>70.0</td>\n",
       "      <td>579.0</td>\n",
       "      <td>...</td>\n",
       "      <td>4537.0</td>\n",
       "      <td>0.0</td>\n",
       "      <td>0.0</td>\n",
       "      <td>0.0</td>\n",
       "      <td>93.0</td>\n",
       "      <td>26.0</td>\n",
       "      <td>22.0</td>\n",
       "      <td>29.0</td>\n",
       "      <td>0.0</td>\n",
       "      <td>81.0</td>\n",
       "    </tr>\n",
       "    <tr>\n",
       "      <th>...</th>\n",
       "      <td>...</td>\n",
       "      <td>...</td>\n",
       "      <td>...</td>\n",
       "      <td>...</td>\n",
       "      <td>...</td>\n",
       "      <td>...</td>\n",
       "      <td>...</td>\n",
       "      <td>...</td>\n",
       "      <td>...</td>\n",
       "      <td>...</td>\n",
       "      <td>...</td>\n",
       "      <td>...</td>\n",
       "      <td>...</td>\n",
       "      <td>...</td>\n",
       "      <td>...</td>\n",
       "      <td>...</td>\n",
       "      <td>...</td>\n",
       "      <td>...</td>\n",
       "      <td>...</td>\n",
       "      <td>...</td>\n",
       "      <td>...</td>\n",
       "    </tr>\n",
       "    <tr>\n",
       "      <th>FJS4_170511_008_A01</th>\n",
       "      <td>196.0</td>\n",
       "      <td>1.0</td>\n",
       "      <td>140.0</td>\n",
       "      <td>162.0</td>\n",
       "      <td>14.0</td>\n",
       "      <td>146.0</td>\n",
       "      <td>0.0</td>\n",
       "      <td>178.0</td>\n",
       "      <td>125.0</td>\n",
       "      <td>447.0</td>\n",
       "      <td>...</td>\n",
       "      <td>3313.0</td>\n",
       "      <td>0.0</td>\n",
       "      <td>4.0</td>\n",
       "      <td>0.0</td>\n",
       "      <td>349.0</td>\n",
       "      <td>8.0</td>\n",
       "      <td>40.0</td>\n",
       "      <td>129.0</td>\n",
       "      <td>7.0</td>\n",
       "      <td>210.0</td>\n",
       "    </tr>\n",
       "    <tr>\n",
       "      <th>FJS4_170511_008_D01</th>\n",
       "      <td>122.0</td>\n",
       "      <td>17.0</td>\n",
       "      <td>288.0</td>\n",
       "      <td>120.0</td>\n",
       "      <td>126.0</td>\n",
       "      <td>113.0</td>\n",
       "      <td>0.0</td>\n",
       "      <td>49.0</td>\n",
       "      <td>146.0</td>\n",
       "      <td>268.0</td>\n",
       "      <td>...</td>\n",
       "      <td>1322.0</td>\n",
       "      <td>0.0</td>\n",
       "      <td>47.0</td>\n",
       "      <td>0.0</td>\n",
       "      <td>418.0</td>\n",
       "      <td>20.0</td>\n",
       "      <td>62.0</td>\n",
       "      <td>0.0</td>\n",
       "      <td>0.0</td>\n",
       "      <td>222.0</td>\n",
       "    </tr>\n",
       "    <tr>\n",
       "      <th>FJS4_170511_008_G01</th>\n",
       "      <td>196.0</td>\n",
       "      <td>2.0</td>\n",
       "      <td>273.0</td>\n",
       "      <td>99.0</td>\n",
       "      <td>24.0</td>\n",
       "      <td>242.0</td>\n",
       "      <td>0.0</td>\n",
       "      <td>194.0</td>\n",
       "      <td>69.0</td>\n",
       "      <td>612.0</td>\n",
       "      <td>...</td>\n",
       "      <td>2957.0</td>\n",
       "      <td>49.0</td>\n",
       "      <td>60.0</td>\n",
       "      <td>0.0</td>\n",
       "      <td>527.0</td>\n",
       "      <td>24.0</td>\n",
       "      <td>123.0</td>\n",
       "      <td>75.0</td>\n",
       "      <td>0.0</td>\n",
       "      <td>485.0</td>\n",
       "    </tr>\n",
       "    <tr>\n",
       "      <th>FJS4_170511_008_H01</th>\n",
       "      <td>353.0</td>\n",
       "      <td>25.0</td>\n",
       "      <td>326.0</td>\n",
       "      <td>1.0</td>\n",
       "      <td>0.0</td>\n",
       "      <td>42.0</td>\n",
       "      <td>21.0</td>\n",
       "      <td>122.0</td>\n",
       "      <td>76.0</td>\n",
       "      <td>362.0</td>\n",
       "      <td>...</td>\n",
       "      <td>2992.0</td>\n",
       "      <td>8.0</td>\n",
       "      <td>0.0</td>\n",
       "      <td>0.0</td>\n",
       "      <td>468.0</td>\n",
       "      <td>0.0</td>\n",
       "      <td>91.0</td>\n",
       "      <td>46.0</td>\n",
       "      <td>0.0</td>\n",
       "      <td>166.0</td>\n",
       "    </tr>\n",
       "    <tr>\n",
       "      <th>FJS4_170511_012_E01</th>\n",
       "      <td>0.0</td>\n",
       "      <td>41.0</td>\n",
       "      <td>389.0</td>\n",
       "      <td>68.0</td>\n",
       "      <td>74.0</td>\n",
       "      <td>29.0</td>\n",
       "      <td>0.0</td>\n",
       "      <td>100.0</td>\n",
       "      <td>64.0</td>\n",
       "      <td>498.0</td>\n",
       "      <td>...</td>\n",
       "      <td>3863.0</td>\n",
       "      <td>16.0</td>\n",
       "      <td>25.0</td>\n",
       "      <td>0.0</td>\n",
       "      <td>218.0</td>\n",
       "      <td>0.0</td>\n",
       "      <td>39.0</td>\n",
       "      <td>28.0</td>\n",
       "      <td>0.0</td>\n",
       "      <td>380.0</td>\n",
       "    </tr>\n",
       "  </tbody>\n",
       "</table>\n",
       "<p>8128 rows × 16024 columns</p>\n",
       "</div>"
      ],
      "text/plain": [
       "                     X0610007P14Rik  X0610009O20Rik  X0610010F05Rik  \\\n",
       "F1S4_180124_314_A01            80.0            11.0           135.0   \n",
       "F1S4_180124_315_A01           233.0            37.0           183.0   \n",
       "F1S4_180124_315_B01           142.0             4.0           129.0   \n",
       "F1S4_180124_315_C01            54.0             1.0            28.0   \n",
       "F1S4_180124_315_D01           139.0             0.0            22.0   \n",
       "...                             ...             ...             ...   \n",
       "FJS4_170511_008_A01           196.0             1.0           140.0   \n",
       "FJS4_170511_008_D01           122.0            17.0           288.0   \n",
       "FJS4_170511_008_G01           196.0             2.0           273.0   \n",
       "FJS4_170511_008_H01           353.0            25.0           326.0   \n",
       "FJS4_170511_012_E01             0.0            41.0           389.0   \n",
       "\n",
       "                     X0610011F06Rik  X0610030E20Rik  X0610037L13Rik  \\\n",
       "F1S4_180124_314_A01            32.0             0.0            31.0   \n",
       "F1S4_180124_315_A01           114.0             0.0           189.0   \n",
       "F1S4_180124_315_B01             9.0            14.0            73.0   \n",
       "F1S4_180124_315_C01            40.0            17.0            67.0   \n",
       "F1S4_180124_315_D01           117.0            10.0           105.0   \n",
       "...                             ...             ...             ...   \n",
       "FJS4_170511_008_A01           162.0            14.0           146.0   \n",
       "FJS4_170511_008_D01           120.0           126.0           113.0   \n",
       "FJS4_170511_008_G01            99.0            24.0           242.0   \n",
       "FJS4_170511_008_H01             1.0             0.0            42.0   \n",
       "FJS4_170511_012_E01            68.0            74.0            29.0   \n",
       "\n",
       "                     X0610040J01Rik  X1110001J03Rik  X1110004E09Rik  \\\n",
       "F1S4_180124_314_A01             1.0            49.0            22.0   \n",
       "F1S4_180124_315_A01             0.0           244.0            23.0   \n",
       "F1S4_180124_315_B01             0.0           196.0            57.0   \n",
       "F1S4_180124_315_C01             0.0            55.0            36.0   \n",
       "F1S4_180124_315_D01             0.0            91.0            70.0   \n",
       "...                             ...             ...             ...   \n",
       "FJS4_170511_008_A01             0.0           178.0           125.0   \n",
       "FJS4_170511_008_D01             0.0            49.0           146.0   \n",
       "FJS4_170511_008_G01             0.0           194.0            69.0   \n",
       "FJS4_170511_008_H01            21.0           122.0            76.0   \n",
       "FJS4_170511_012_E01             0.0           100.0            64.0   \n",
       "\n",
       "                     X1110004F10Rik  ...   Zwint  Zxdb  Zxdc  Zyg11a  Zyg11b  \\\n",
       "F1S4_180124_314_A01           204.0  ...  3190.0   0.0  17.0     0.0    96.0   \n",
       "F1S4_180124_315_A01           484.0  ...  4832.0  28.0  33.0     0.0   179.0   \n",
       "F1S4_180124_315_B01           479.0  ...  3487.0  29.0   4.0     0.0   124.0   \n",
       "F1S4_180124_315_C01           388.0  ...  3891.0  13.0   0.0     0.0    98.0   \n",
       "F1S4_180124_315_D01           579.0  ...  4537.0   0.0   0.0     0.0    93.0   \n",
       "...                             ...  ...     ...   ...   ...     ...     ...   \n",
       "FJS4_170511_008_A01           447.0  ...  3313.0   0.0   4.0     0.0   349.0   \n",
       "FJS4_170511_008_D01           268.0  ...  1322.0   0.0  47.0     0.0   418.0   \n",
       "FJS4_170511_008_G01           612.0  ...  2957.0  49.0  60.0     0.0   527.0   \n",
       "FJS4_170511_008_H01           362.0  ...  2992.0   8.0   0.0     0.0   468.0   \n",
       "FJS4_170511_012_E01           498.0  ...  3863.0  16.0  25.0     0.0   218.0   \n",
       "\n",
       "                      Zyx  Zzef1   Zzz3    a  l7Rn6  \n",
       "F1S4_180124_314_A01   0.0    0.0   45.0  0.0   73.0  \n",
       "F1S4_180124_315_A01   0.0    0.0   83.0  0.0  127.0  \n",
       "F1S4_180124_315_B01  33.0   37.0   21.0  0.0   93.0  \n",
       "F1S4_180124_315_C01   0.0    5.0   18.0  0.0  135.0  \n",
       "F1S4_180124_315_D01  26.0   22.0   29.0  0.0   81.0  \n",
       "...                   ...    ...    ...  ...    ...  \n",
       "FJS4_170511_008_A01   8.0   40.0  129.0  7.0  210.0  \n",
       "FJS4_170511_008_D01  20.0   62.0    0.0  0.0  222.0  \n",
       "FJS4_170511_008_G01  24.0  123.0   75.0  0.0  485.0  \n",
       "FJS4_170511_008_H01   0.0   91.0   46.0  0.0  166.0  \n",
       "FJS4_170511_012_E01   0.0   39.0   28.0  0.0  380.0  \n",
       "\n",
       "[8128 rows x 16024 columns]"
      ]
     },
     "execution_count": 5,
     "metadata": {},
     "output_type": "execute_result"
    }
   ],
   "source": [
    "# ALM dataset\n",
    "ds[\"ALM\"].to_df()"
   ]
  },
  {
   "cell_type": "markdown",
   "metadata": {},
   "source": [
    "Sample run annotating MTG given ALM as reference"
   ]
  },
  {
   "cell_type": "code",
   "execution_count": 6,
   "metadata": {},
   "outputs": [
    {
     "name": "stderr",
     "output_type": "stream",
     "text": [
      "[refcm.refcm     ] [INFO    ] : NOTE: raw counts expected in anndata .X attributes.\n",
      "[refcm.refcm     ] [DEBUG   ] : Loading cached mapping costs from /Users/valerio/Library/Caches/refcm/cache.json.\n"
     ]
    },
    {
     "name": "stderr",
     "output_type": "stream",
     "text": [
      "[refcm.refcm     ] [DEBUG   ] : Using costs for MTG->ALM found in cache.\n",
      "[refcm.refcm     ] [DEBUG   ] : starting LP optimization\n",
      "[refcm.refcm     ] [DEBUG   ] : optimization terminated w. status \"Optimal\"\n",
      "[refcm.matchings ] [DEBUG   ] : \u001b[32m[+|1.00]\u001b[0m Astrocyte            mapped to Astrocyte           \n",
      "[refcm.matchings ] [DEBUG   ] : \u001b[32m[+|1.00]\u001b[0m Chandelier           mapped to Chandelier          \n",
      "[refcm.matchings ] [DEBUG   ] : \u001b[32m[+|1.00]\u001b[0m Exc L2/3 IT          mapped to Exc L2/3 IT         \n",
      "[refcm.matchings ] [DEBUG   ] : \u001b[32m[+|1.00]\u001b[0m Exc L3/5 IT          mapped to Exc L3/5 IT         \n",
      "[refcm.matchings ] [DEBUG   ] : \u001b[32m[+|1.00]\u001b[0m Exc L4/5 IT          mapped to Exc L4/5 IT         \n",
      "[refcm.matchings ] [DEBUG   ] : \u001b[32m[+|1.00]\u001b[0m Exc L5 PT            mapped to Exc L5 PT           \n",
      "[refcm.matchings ] [DEBUG   ] : \u001b[32m[+|1.00]\u001b[0m Exc L5/6 IT 1        mapped to Exc L5/6 IT 1       \n",
      "[refcm.matchings ] [DEBUG   ] : \u001b[32m[+|1.00]\u001b[0m Exc L5/6 IT 2        mapped to Exc L5/6 IT 2       \n",
      "[refcm.matchings ] [DEBUG   ] : \u001b[32m[+|1.00]\u001b[0m Exc L5/6 IT 3        mapped to Exc L5/6 IT 3       \n",
      "[refcm.matchings ] [DEBUG   ] : \u001b[32m[+|1.00]\u001b[0m Exc L5/6 NP          mapped to Exc L5/6 NP         \n",
      "[refcm.matchings ] [DEBUG   ] : \u001b[32m[+|1.00]\u001b[0m Exc L6 CT            mapped to Exc L6 CT           \n",
      "[refcm.matchings ] [DEBUG   ] : \u001b[32m[+|1.00]\u001b[0m Exc L6 IT 1          mapped to Exc L6 IT 1         \n",
      "[refcm.matchings ] [DEBUG   ] : \u001b[32m[+|1.00]\u001b[0m Exc L6 IT 2          mapped to Exc L6 IT 2         \n",
      "[refcm.matchings ] [DEBUG   ] : \u001b[32m[+|1.00]\u001b[0m Exc L6b              mapped to Exc L6b             \n",
      "[refcm.matchings ] [DEBUG   ] : \u001b[32m[+|1.00]\u001b[0m Lamp5 1              mapped to Lamp5 1             \n",
      "[refcm.matchings ] [DEBUG   ] : \u001b[32m[+|1.00]\u001b[0m Lamp5 2              mapped to Lamp5 2             \n",
      "[refcm.matchings ] [DEBUG   ] : \u001b[32m[+|1.00]\u001b[0m Lamp5 Lhx6           mapped to Lamp5 Lhx6          \n",
      "[refcm.matchings ] [DEBUG   ] : \u001b[32m[+|1.00]\u001b[0m Lamp5 Rosehip        mapped to Lamp5 Rosehip       \n",
      "[refcm.matchings ] [DEBUG   ] : \u001b[32m[+|1.00]\u001b[0m Oligo                mapped to Oligo               \n",
      "[refcm.matchings ] [DEBUG   ] : \u001b[32m[+|1.00]\u001b[0m Pax6                 mapped to Pax6                \n",
      "[refcm.matchings ] [DEBUG   ] : \u001b[32m[+|1.00]\u001b[0m Pvalb 1              mapped to Pvalb 1             \n",
      "[refcm.matchings ] [DEBUG   ] : \u001b[32m[+|1.00]\u001b[0m Pvalb 2              mapped to Pvalb 2             \n",
      "[refcm.matchings ] [DEBUG   ] : \u001b[32m[+|1.00]\u001b[0m Sst 1                mapped to Sst 1               \n",
      "[refcm.matchings ] [DEBUG   ] : \u001b[32m[+|1.00]\u001b[0m Sst 2                mapped to Sst 2               \n",
      "[refcm.matchings ] [DEBUG   ] : \u001b[32m[+|1.00]\u001b[0m Sst 3                mapped to Sst 3               \n",
      "[refcm.matchings ] [DEBUG   ] : \u001b[32m[+|1.00]\u001b[0m Sst 4                mapped to Sst 4               \n",
      "[refcm.matchings ] [DEBUG   ] : \u001b[32m[+|1.00]\u001b[0m Sst 5                mapped to Sst 5               \n",
      "[refcm.matchings ] [DEBUG   ] : \u001b[32m[+|1.00]\u001b[0m Sst Chodl            mapped to Sst Chodl           \n",
      "[refcm.matchings ] [DEBUG   ] : \u001b[32m[+|1.00]\u001b[0m Vip 1                mapped to Vip 1               \n",
      "[refcm.matchings ] [DEBUG   ] : \u001b[32m[+|1.00]\u001b[0m Vip 2                mapped to Vip 2               \n",
      "[refcm.matchings ] [DEBUG   ] : \u001b[32m[+|1.00]\u001b[0m Vip 3                mapped to Vip 3               \n",
      "[refcm.matchings ] [DEBUG   ] : \u001b[32m[+|1.00]\u001b[0m Vip 4                mapped to Vip 4               \n",
      "[refcm.matchings ] [DEBUG   ] : \u001b[32m[+|1.00]\u001b[0m Vip 5                mapped to Vip 5               \n",
      "[refcm.matchings ] [DEBUG   ] : \u001b[32m[+|1.00]\u001b[0m Vip Sncg             mapped to Vip Sncg            \n",
      "[refcm.matchings ] [INFO    ] : MTG                  to ALM                 \n",
      "[refcm.matchings ] [INFO    ] : 34    common cell types\n",
      "[refcm.matchings ] [INFO    ] : 34/34 correct   links\n",
      "[refcm.matchings ] [INFO    ] : 0     incorrect links\n"
     ]
    },
    {
     "data": {
      "application/vnd.plotly.v1+json": {
       "config": {
        "plotlyServerURL": "https://plot.ly"
       },
       "data": [
        {
         "coloraxis": "coloraxis",
         "hovertemplate": "Reference: ALM: %{x}<br>Query: MTG: %{y}<br>cost: %{z}<extra></extra>",
         "name": "0",
         "type": "heatmap",
         "x": [
          "Astrocyte",
          "Chandelier",
          "Exc L2/3 IT",
          "Exc L3/5 IT",
          "Exc L4/5 IT",
          "Exc L5 PT",
          "Exc L5/6 IT 1",
          "Exc L5/6 IT 2",
          "Exc L5/6 IT 3",
          "Exc L5/6 NP",
          "Exc L6 CT",
          "Exc L6 IT 1",
          "Exc L6 IT 2",
          "Exc L6b",
          "Lamp5 1",
          "Lamp5 2",
          "Lamp5 Lhx6",
          "Lamp5 Rosehip",
          "Oligo",
          "Pax6",
          "Pvalb 1",
          "Pvalb 2",
          "Sst 1",
          "Sst 2",
          "Sst 3",
          "Sst 4",
          "Sst 5",
          "Sst Chodl",
          "Vip 1",
          "Vip 2",
          "Vip 3",
          "Vip 4",
          "Vip 5",
          "Vip Sncg"
         ],
         "xaxis": "x",
         "y": [
          "Astrocyte",
          "Chandelier",
          "Exc L2/3 IT",
          "Exc L3/5 IT",
          "Exc L4/5 IT",
          "Exc L5 PT",
          "Exc L5/6 IT 1",
          "Exc L5/6 IT 2",
          "Exc L5/6 IT 3",
          "Exc L5/6 NP",
          "Exc L6 CT",
          "Exc L6 IT 1",
          "Exc L6 IT 2",
          "Exc L6b",
          "Lamp5 1",
          "Lamp5 2",
          "Lamp5 Lhx6",
          "Lamp5 Rosehip",
          "Oligo",
          "Pax6",
          "Pvalb 1",
          "Pvalb 2",
          "Sst 1",
          "Sst 2",
          "Sst 3",
          "Sst 4",
          "Sst 5",
          "Sst Chodl",
          "Vip 1",
          "Vip 2",
          "Vip 3",
          "Vip 4",
          "Vip 5",
          "Vip Sncg"
         ],
         "yaxis": "y",
         "z": {
          "bdata": "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",
          "dtype": "f8",
          "shape": "34, 34"
         }
        },
        {
         "hovertemplate": "%{y} -> %{x}",
         "marker": {
          "color": [
           "green",
           "green",
           "green",
           "green",
           "green",
           "green",
           "green",
           "green",
           "green",
           "green",
           "green",
           "green",
           "green",
           "green",
           "green",
           "green",
           "green",
           "green",
           "green",
           "green",
           "green",
           "green",
           "green",
           "green",
           "green",
           "green",
           "green",
           "green",
           "green",
           "green",
           "green",
           "green",
           "green",
           "green"
          ],
          "size": 5
         },
         "mode": "markers",
         "name": "",
         "type": "scatter",
         "x": [
          "Astrocyte",
          "Chandelier",
          "Exc L2/3 IT",
          "Exc L3/5 IT",
          "Exc L4/5 IT",
          "Exc L5 PT",
          "Exc L5/6 IT 1",
          "Exc L5/6 IT 2",
          "Exc L5/6 IT 3",
          "Exc L5/6 NP",
          "Exc L6 CT",
          "Exc L6 IT 1",
          "Exc L6 IT 2",
          "Exc L6b",
          "Lamp5 1",
          "Lamp5 2",
          "Lamp5 Lhx6",
          "Lamp5 Rosehip",
          "Oligo",
          "Pax6",
          "Pvalb 1",
          "Pvalb 2",
          "Sst 1",
          "Sst 2",
          "Sst 3",
          "Sst 4",
          "Sst 5",
          "Sst Chodl",
          "Vip 1",
          "Vip 2",
          "Vip 3",
          "Vip 4",
          "Vip 5",
          "Vip Sncg"
         ],
         "y": [
          "Astrocyte",
          "Chandelier",
          "Exc L2/3 IT",
          "Exc L3/5 IT",
          "Exc L4/5 IT",
          "Exc L5 PT",
          "Exc L5/6 IT 1",
          "Exc L5/6 IT 2",
          "Exc L5/6 IT 3",
          "Exc L5/6 NP",
          "Exc L6 CT",
          "Exc L6 IT 1",
          "Exc L6 IT 2",
          "Exc L6b",
          "Lamp5 1",
          "Lamp5 2",
          "Lamp5 Lhx6",
          "Lamp5 Rosehip",
          "Oligo",
          "Pax6",
          "Pvalb 1",
          "Pvalb 2",
          "Sst 1",
          "Sst 2",
          "Sst 3",
          "Sst 4",
          "Sst 5",
          "Sst Chodl",
          "Vip 1",
          "Vip 2",
          "Vip 3",
          "Vip 4",
          "Vip 5",
          "Vip Sncg"
         ]
        }
       ],
       "layout": {
        "coloraxis": {
         "colorbar": {
          "title": {
           "text": "cost"
          }
         },
         "colorscale": [
          [
           0,
           "rgb(75, 41, 145)"
          ],
          [
           0.16666666666666666,
           "rgb(135, 44, 162)"
          ],
          [
           0.3333333333333333,
           "rgb(192, 54, 157)"
          ],
          [
           0.5,
           "rgb(234, 79, 136)"
          ],
          [
           0.6666666666666666,
           "rgb(250, 120, 118)"
          ],
          [
           0.8333333333333334,
           "rgb(246, 169, 122)"
          ],
          [
           1,
           "rgb(237, 217, 163)"
          ]
         ]
        },
        "template": {
         "data": {
          "bar": [
           {
            "error_x": {
             "color": "#2a3f5f"
            },
            "error_y": {
             "color": "#2a3f5f"
            },
            "marker": {
             "line": {
              "color": "#E5ECF6",
              "width": 0.5
             },
             "pattern": {
              "fillmode": "overlay",
              "size": 10,
              "solidity": 0.2
             }
            },
            "type": "bar"
           }
          ],
          "barpolar": [
           {
            "marker": {
             "line": {
              "color": "#E5ECF6",
              "width": 0.5
             },
             "pattern": {
              "fillmode": "overlay",
              "size": 10,
              "solidity": 0.2
             }
            },
            "type": "barpolar"
           }
          ],
          "carpet": [
           {
            "aaxis": {
             "endlinecolor": "#2a3f5f",
             "gridcolor": "white",
             "linecolor": "white",
             "minorgridcolor": "white",
             "startlinecolor": "#2a3f5f"
            },
            "baxis": {
             "endlinecolor": "#2a3f5f",
             "gridcolor": "white",
             "linecolor": "white",
             "minorgridcolor": "white",
             "startlinecolor": "#2a3f5f"
            },
            "type": "carpet"
           }
          ],
          "choropleth": [
           {
            "colorbar": {
             "outlinewidth": 0,
             "ticks": ""
            },
            "type": "choropleth"
           }
          ],
          "contour": [
           {
            "colorbar": {
             "outlinewidth": 0,
             "ticks": ""
            },
            "colorscale": [
             [
              0,
              "#0d0887"
             ],
             [
              0.1111111111111111,
              "#46039f"
             ],
             [
              0.2222222222222222,
              "#7201a8"
             ],
             [
              0.3333333333333333,
              "#9c179e"
             ],
             [
              0.4444444444444444,
              "#bd3786"
             ],
             [
              0.5555555555555556,
              "#d8576b"
             ],
             [
              0.6666666666666666,
              "#ed7953"
             ],
             [
              0.7777777777777778,
              "#fb9f3a"
             ],
             [
              0.8888888888888888,
              "#fdca26"
             ],
             [
              1,
              "#f0f921"
             ]
            ],
            "type": "contour"
           }
          ],
          "contourcarpet": [
           {
            "colorbar": {
             "outlinewidth": 0,
             "ticks": ""
            },
            "type": "contourcarpet"
           }
          ],
          "heatmap": [
           {
            "colorbar": {
             "outlinewidth": 0,
             "ticks": ""
            },
            "colorscale": [
             [
              0,
              "#0d0887"
             ],
             [
              0.1111111111111111,
              "#46039f"
             ],
             [
              0.2222222222222222,
              "#7201a8"
             ],
             [
              0.3333333333333333,
              "#9c179e"
             ],
             [
              0.4444444444444444,
              "#bd3786"
             ],
             [
              0.5555555555555556,
              "#d8576b"
             ],
             [
              0.6666666666666666,
              "#ed7953"
             ],
             [
              0.7777777777777778,
              "#fb9f3a"
             ],
             [
              0.8888888888888888,
              "#fdca26"
             ],
             [
              1,
              "#f0f921"
             ]
            ],
            "type": "heatmap"
           }
          ],
          "histogram": [
           {
            "marker": {
             "pattern": {
              "fillmode": "overlay",
              "size": 10,
              "solidity": 0.2
             }
            },
            "type": "histogram"
           }
          ],
          "histogram2d": [
           {
            "colorbar": {
             "outlinewidth": 0,
             "ticks": ""
            },
            "colorscale": [
             [
              0,
              "#0d0887"
             ],
             [
              0.1111111111111111,
              "#46039f"
             ],
             [
              0.2222222222222222,
              "#7201a8"
             ],
             [
              0.3333333333333333,
              "#9c179e"
             ],
             [
              0.4444444444444444,
              "#bd3786"
             ],
             [
              0.5555555555555556,
              "#d8576b"
             ],
             [
              0.6666666666666666,
              "#ed7953"
             ],
             [
              0.7777777777777778,
              "#fb9f3a"
             ],
             [
              0.8888888888888888,
              "#fdca26"
             ],
             [
              1,
              "#f0f921"
             ]
            ],
            "type": "histogram2d"
           }
          ],
          "histogram2dcontour": [
           {
            "colorbar": {
             "outlinewidth": 0,
             "ticks": ""
            },
            "colorscale": [
             [
              0,
              "#0d0887"
             ],
             [
              0.1111111111111111,
              "#46039f"
             ],
             [
              0.2222222222222222,
              "#7201a8"
             ],
             [
              0.3333333333333333,
              "#9c179e"
             ],
             [
              0.4444444444444444,
              "#bd3786"
             ],
             [
              0.5555555555555556,
              "#d8576b"
             ],
             [
              0.6666666666666666,
              "#ed7953"
             ],
             [
              0.7777777777777778,
              "#fb9f3a"
             ],
             [
              0.8888888888888888,
              "#fdca26"
             ],
             [
              1,
              "#f0f921"
             ]
            ],
            "type": "histogram2dcontour"
           }
          ],
          "mesh3d": [
           {
            "colorbar": {
             "outlinewidth": 0,
             "ticks": ""
            },
            "type": "mesh3d"
           }
          ],
          "parcoords": [
           {
            "line": {
             "colorbar": {
              "outlinewidth": 0,
              "ticks": ""
             }
            },
            "type": "parcoords"
           }
          ],
          "pie": [
           {
            "automargin": true,
            "type": "pie"
           }
          ],
          "scatter": [
           {
            "fillpattern": {
             "fillmode": "overlay",
             "size": 10,
             "solidity": 0.2
            },
            "type": "scatter"
           }
          ],
          "scatter3d": [
           {
            "line": {
             "colorbar": {
              "outlinewidth": 0,
              "ticks": ""
             }
            },
            "marker": {
             "colorbar": {
              "outlinewidth": 0,
              "ticks": ""
             }
            },
            "type": "scatter3d"
           }
          ],
          "scattercarpet": [
           {
            "marker": {
             "colorbar": {
              "outlinewidth": 0,
              "ticks": ""
             }
            },
            "type": "scattercarpet"
           }
          ],
          "scattergeo": [
           {
            "marker": {
             "colorbar": {
              "outlinewidth": 0,
              "ticks": ""
             }
            },
            "type": "scattergeo"
           }
          ],
          "scattergl": [
           {
            "marker": {
             "colorbar": {
              "outlinewidth": 0,
              "ticks": ""
             }
            },
            "type": "scattergl"
           }
          ],
          "scattermap": [
           {
            "marker": {
             "colorbar": {
              "outlinewidth": 0,
              "ticks": ""
             }
            },
            "type": "scattermap"
           }
          ],
          "scattermapbox": [
           {
            "marker": {
             "colorbar": {
              "outlinewidth": 0,
              "ticks": ""
             }
            },
            "type": "scattermapbox"
           }
          ],
          "scatterpolar": [
           {
            "marker": {
             "colorbar": {
              "outlinewidth": 0,
              "ticks": ""
             }
            },
            "type": "scatterpolar"
           }
          ],
          "scatterpolargl": [
           {
            "marker": {
             "colorbar": {
              "outlinewidth": 0,
              "ticks": ""
             }
            },
            "type": "scatterpolargl"
           }
          ],
          "scatterternary": [
           {
            "marker": {
             "colorbar": {
              "outlinewidth": 0,
              "ticks": ""
             }
            },
            "type": "scatterternary"
           }
          ],
          "surface": [
           {
            "colorbar": {
             "outlinewidth": 0,
             "ticks": ""
            },
            "colorscale": [
             [
              0,
              "#0d0887"
             ],
             [
              0.1111111111111111,
              "#46039f"
             ],
             [
              0.2222222222222222,
              "#7201a8"
             ],
             [
              0.3333333333333333,
              "#9c179e"
             ],
             [
              0.4444444444444444,
              "#bd3786"
             ],
             [
              0.5555555555555556,
              "#d8576b"
             ],
             [
              0.6666666666666666,
              "#ed7953"
             ],
             [
              0.7777777777777778,
              "#fb9f3a"
             ],
             [
              0.8888888888888888,
              "#fdca26"
             ],
             [
              1,
              "#f0f921"
             ]
            ],
            "type": "surface"
           }
          ],
          "table": [
           {
            "cells": {
             "fill": {
              "color": "#EBF0F8"
             },
             "line": {
              "color": "white"
             }
            },
            "header": {
             "fill": {
              "color": "#C8D4E3"
             },
             "line": {
              "color": "white"
             }
            },
            "type": "table"
           }
          ]
         },
         "layout": {
          "annotationdefaults": {
           "arrowcolor": "#2a3f5f",
           "arrowhead": 0,
           "arrowwidth": 1
          },
          "autotypenumbers": "strict",
          "coloraxis": {
           "colorbar": {
            "outlinewidth": 0,
            "ticks": ""
           }
          },
          "colorscale": {
           "diverging": [
            [
             0,
             "#8e0152"
            ],
            [
             0.1,
             "#c51b7d"
            ],
            [
             0.2,
             "#de77ae"
            ],
            [
             0.3,
             "#f1b6da"
            ],
            [
             0.4,
             "#fde0ef"
            ],
            [
             0.5,
             "#f7f7f7"
            ],
            [
             0.6,
             "#e6f5d0"
            ],
            [
             0.7,
             "#b8e186"
            ],
            [
             0.8,
             "#7fbc41"
            ],
            [
             0.9,
             "#4d9221"
            ],
            [
             1,
             "#276419"
            ]
           ],
           "sequential": [
            [
             0,
             "#0d0887"
            ],
            [
             0.1111111111111111,
             "#46039f"
            ],
            [
             0.2222222222222222,
             "#7201a8"
            ],
            [
             0.3333333333333333,
             "#9c179e"
            ],
            [
             0.4444444444444444,
             "#bd3786"
            ],
            [
             0.5555555555555556,
             "#d8576b"
            ],
            [
             0.6666666666666666,
             "#ed7953"
            ],
            [
             0.7777777777777778,
             "#fb9f3a"
            ],
            [
             0.8888888888888888,
             "#fdca26"
            ],
            [
             1,
             "#f0f921"
            ]
           ],
           "sequentialminus": [
            [
             0,
             "#0d0887"
            ],
            [
             0.1111111111111111,
             "#46039f"
            ],
            [
             0.2222222222222222,
             "#7201a8"
            ],
            [
             0.3333333333333333,
             "#9c179e"
            ],
            [
             0.4444444444444444,
             "#bd3786"
            ],
            [
             0.5555555555555556,
             "#d8576b"
            ],
            [
             0.6666666666666666,
             "#ed7953"
            ],
            [
             0.7777777777777778,
             "#fb9f3a"
            ],
            [
             0.8888888888888888,
             "#fdca26"
            ],
            [
             1,
             "#f0f921"
            ]
           ]
          },
          "colorway": [
           "#636efa",
           "#EF553B",
           "#00cc96",
           "#ab63fa",
           "#FFA15A",
           "#19d3f3",
           "#FF6692",
           "#B6E880",
           "#FF97FF",
           "#FECB52"
          ],
          "font": {
           "color": "#2a3f5f"
          },
          "geo": {
           "bgcolor": "white",
           "lakecolor": "white",
           "landcolor": "#E5ECF6",
           "showlakes": true,
           "showland": true,
           "subunitcolor": "white"
          },
          "hoverlabel": {
           "align": "left"
          },
          "hovermode": "closest",
          "mapbox": {
           "style": "light"
          },
          "paper_bgcolor": "white",
          "plot_bgcolor": "#E5ECF6",
          "polar": {
           "angularaxis": {
            "gridcolor": "white",
            "linecolor": "white",
            "ticks": ""
           },
           "bgcolor": "#E5ECF6",
           "radialaxis": {
            "gridcolor": "white",
            "linecolor": "white",
            "ticks": ""
           }
          },
          "scene": {
           "xaxis": {
            "backgroundcolor": "#E5ECF6",
            "gridcolor": "white",
            "gridwidth": 2,
            "linecolor": "white",
            "showbackground": true,
            "ticks": "",
            "zerolinecolor": "white"
           },
           "yaxis": {
            "backgroundcolor": "#E5ECF6",
            "gridcolor": "white",
            "gridwidth": 2,
            "linecolor": "white",
            "showbackground": true,
            "ticks": "",
            "zerolinecolor": "white"
           },
           "zaxis": {
            "backgroundcolor": "#E5ECF6",
            "gridcolor": "white",
            "gridwidth": 2,
            "linecolor": "white",
            "showbackground": true,
            "ticks": "",
            "zerolinecolor": "white"
           }
          },
          "shapedefaults": {
           "line": {
            "color": "#2a3f5f"
           }
          },
          "ternary": {
           "aaxis": {
            "gridcolor": "white",
            "linecolor": "white",
            "ticks": ""
           },
           "baxis": {
            "gridcolor": "white",
            "linecolor": "white",
            "ticks": ""
           },
           "bgcolor": "#E5ECF6",
           "caxis": {
            "gridcolor": "white",
            "linecolor": "white",
            "ticks": ""
           }
          },
          "title": {
           "x": 0.05
          },
          "xaxis": {
           "automargin": true,
           "gridcolor": "white",
           "linecolor": "white",
           "ticks": "",
           "title": {
            "standoff": 15
           },
           "zerolinecolor": "white",
           "zerolinewidth": 2
          },
          "yaxis": {
           "automargin": true,
           "gridcolor": "white",
           "linecolor": "white",
           "ticks": "",
           "title": {
            "standoff": 15
           },
           "zerolinecolor": "white",
           "zerolinewidth": 2
          }
         }
        },
        "title": {
         "text": "MTG to ALM matching cost"
        },
        "xaxis": {
         "anchor": "y",
         "constrain": "domain",
         "domain": [
          0,
          1
         ],
         "scaleanchor": "y",
         "tickangle": -90,
         "title": {
          "text": "Reference: ALM"
         }
        },
        "yaxis": {
         "anchor": "x",
         "autorange": "reversed",
         "constrain": "domain",
         "domain": [
          0,
          1
         ],
         "title": {
          "text": "Query: MTG"
         }
        }
       }
      }
     },
     "metadata": {},
     "output_type": "display_data"
    }
   ],
   "source": [
    "q, ref = \"MTG\", \"ALM\"\n",
    "\n",
    "# create RefCM object -- can choose to enable/disable costs cache\n",
    "rcm = RefCM(discovery_threshold=None)  # , cache_load=False, cache_save=False)\n",
    "\n",
    "# set reference\n",
    "rcm.setref(ds[ref], ref, \"labels34\")\n",
    "\n",
    "# annotate query dataset\n",
    "m = rcm.annotate(ds[q], q, \"labels34\")\n",
    "\n",
    "# evaluate and visualize annotation quality\n",
    "m.eval(\"labels34\")\n",
    "m.display_matching_costs(\"labels34\")"
   ]
  },
  {
   "cell_type": "markdown",
   "metadata": {},
   "source": [
    "Annotating all Allen-Brain datasets against each other"
   ]
  },
  {
   "cell_type": "code",
   "execution_count": 7,
   "metadata": {},
   "outputs": [
    {
     "name": "stderr",
     "output_type": "stream",
     "text": [
      "[refcm.refcm     ] [INFO    ] : NOTE: raw counts expected in anndata .X attributes.\n",
      "[refcm.refcm     ] [DEBUG   ] : Loading cached mapping costs from /Users/valerio/Library/Caches/refcm/cache.json.\n",
      "[refcm.refcm     ] [DEBUG   ] : Using costs for MTG->ALM found in cache.\n",
      "[refcm.refcm     ] [DEBUG   ] : starting LP optimization\n",
      "[refcm.refcm     ] [DEBUG   ] : optimization terminated w. status \"Optimal\"\n",
      "[refcm.matchings ] [DEBUG   ] : \u001b[32m[+|1.00]\u001b[0m Astrocyte            mapped to Astrocyte           \n",
      "[refcm.matchings ] [DEBUG   ] : \u001b[32m[+|1.00]\u001b[0m Chandelier           mapped to Chandelier          \n",
      "[refcm.matchings ] [DEBUG   ] : \u001b[32m[+|1.00]\u001b[0m Exc L2/3 IT          mapped to Exc L2/3 IT         \n",
      "[refcm.matchings ] [DEBUG   ] : \u001b[32m[+|1.00]\u001b[0m Exc L3/5 IT          mapped to Exc L3/5 IT         \n",
      "[refcm.matchings ] [DEBUG   ] : \u001b[32m[+|1.00]\u001b[0m Exc L4/5 IT          mapped to Exc L4/5 IT         \n",
      "[refcm.matchings ] [DEBUG   ] : \u001b[32m[+|1.00]\u001b[0m Exc L5 PT            mapped to Exc L5 PT           \n",
      "[refcm.matchings ] [DEBUG   ] : \u001b[32m[+|1.00]\u001b[0m Exc L5/6 IT 1        mapped to Exc L5/6 IT 1       \n",
      "[refcm.matchings ] [DEBUG   ] : \u001b[32m[+|1.00]\u001b[0m Exc L5/6 IT 2        mapped to Exc L5/6 IT 2       \n",
      "[refcm.matchings ] [DEBUG   ] : \u001b[32m[+|1.00]\u001b[0m Exc L5/6 IT 3        mapped to Exc L5/6 IT 3       \n",
      "[refcm.matchings ] [DEBUG   ] : \u001b[32m[+|1.00]\u001b[0m Exc L5/6 NP          mapped to Exc L5/6 NP         \n",
      "[refcm.matchings ] [DEBUG   ] : \u001b[32m[+|1.00]\u001b[0m Exc L6 CT            mapped to Exc L6 CT           \n",
      "[refcm.matchings ] [DEBUG   ] : \u001b[32m[+|1.00]\u001b[0m Exc L6 IT 1          mapped to Exc L6 IT 1         \n",
      "[refcm.matchings ] [DEBUG   ] : \u001b[32m[+|1.00]\u001b[0m Exc L6 IT 2          mapped to Exc L6 IT 2         \n",
      "[refcm.matchings ] [DEBUG   ] : \u001b[32m[+|1.00]\u001b[0m Exc L6b              mapped to Exc L6b             \n",
      "[refcm.matchings ] [DEBUG   ] : \u001b[32m[+|1.00]\u001b[0m Lamp5 1              mapped to Lamp5 1             \n",
      "[refcm.matchings ] [DEBUG   ] : \u001b[32m[+|1.00]\u001b[0m Lamp5 2              mapped to Lamp5 2             \n",
      "[refcm.matchings ] [DEBUG   ] : \u001b[32m[+|1.00]\u001b[0m Lamp5 Lhx6           mapped to Lamp5 Lhx6          \n",
      "[refcm.matchings ] [DEBUG   ] : \u001b[32m[+|1.00]\u001b[0m Lamp5 Rosehip        mapped to Lamp5 Rosehip       \n",
      "[refcm.matchings ] [DEBUG   ] : \u001b[32m[+|1.00]\u001b[0m Oligo                mapped to Oligo               \n",
      "[refcm.matchings ] [DEBUG   ] : \u001b[32m[+|1.00]\u001b[0m Pax6                 mapped to Pax6                \n",
      "[refcm.matchings ] [DEBUG   ] : \u001b[32m[+|1.00]\u001b[0m Pvalb 1              mapped to Pvalb 1             \n",
      "[refcm.matchings ] [DEBUG   ] : \u001b[32m[+|1.00]\u001b[0m Pvalb 2              mapped to Pvalb 2             \n",
      "[refcm.matchings ] [DEBUG   ] : \u001b[32m[+|1.00]\u001b[0m Sst 1                mapped to Sst 1               \n",
      "[refcm.matchings ] [DEBUG   ] : \u001b[32m[+|1.00]\u001b[0m Sst 2                mapped to Sst 2               \n",
      "[refcm.matchings ] [DEBUG   ] : \u001b[32m[+|1.00]\u001b[0m Sst 3                mapped to Sst 3               \n",
      "[refcm.matchings ] [DEBUG   ] : \u001b[32m[+|1.00]\u001b[0m Sst 4                mapped to Sst 4               \n",
      "[refcm.matchings ] [DEBUG   ] : \u001b[32m[+|1.00]\u001b[0m Sst 5                mapped to Sst 5               \n",
      "[refcm.matchings ] [DEBUG   ] : \u001b[32m[+|1.00]\u001b[0m Sst Chodl            mapped to Sst Chodl           \n",
      "[refcm.matchings ] [DEBUG   ] : \u001b[32m[+|1.00]\u001b[0m Vip 1                mapped to Vip 1               \n",
      "[refcm.matchings ] [DEBUG   ] : \u001b[32m[+|1.00]\u001b[0m Vip 2                mapped to Vip 2               \n",
      "[refcm.matchings ] [DEBUG   ] : \u001b[32m[+|1.00]\u001b[0m Vip 3                mapped to Vip 3               \n",
      "[refcm.matchings ] [DEBUG   ] : \u001b[32m[+|1.00]\u001b[0m Vip 4                mapped to Vip 4               \n",
      "[refcm.matchings ] [DEBUG   ] : \u001b[32m[+|1.00]\u001b[0m Vip 5                mapped to Vip 5               \n",
      "[refcm.matchings ] [DEBUG   ] : \u001b[32m[+|1.00]\u001b[0m Vip Sncg             mapped to Vip Sncg            \n",
      "[refcm.matchings ] [INFO    ] : MTG                  to ALM                 \n",
      "[refcm.matchings ] [INFO    ] : 34    common cell types\n",
      "[refcm.matchings ] [INFO    ] : 34/34 correct   links\n",
      "[refcm.matchings ] [INFO    ] : 0     incorrect links\n",
      "[refcm.refcm     ] [DEBUG   ] : Using costs for MTG->VISp found in cache.\n",
      "[refcm.refcm     ] [DEBUG   ] : starting LP optimization\n",
      "[refcm.refcm     ] [DEBUG   ] : optimization terminated w. status \"Optimal\"\n",
      "[refcm.matchings ] [DEBUG   ] : \u001b[32m[+|1.00]\u001b[0m Astrocyte            mapped to Astrocyte           \n",
      "[refcm.matchings ] [DEBUG   ] : \u001b[32m[+|1.00]\u001b[0m Chandelier           mapped to Chandelier          \n",
      "[refcm.matchings ] [DEBUG   ] : \u001b[32m[+|1.00]\u001b[0m Exc L2/3 IT          mapped to Exc L2/3 IT         \n",
      "[refcm.matchings ] [DEBUG   ] : \u001b[32m[+|1.00]\u001b[0m Exc L3/5 IT          mapped to Exc L3/5 IT         \n",
      "[refcm.matchings ] [DEBUG   ] : \u001b[32m[+|1.00]\u001b[0m Exc L4/5 IT          mapped to Exc L4/5 IT         \n",
      "[refcm.matchings ] [DEBUG   ] : \u001b[32m[+|1.00]\u001b[0m Exc L5 PT            mapped to Exc L5 PT           \n",
      "[refcm.matchings ] [DEBUG   ] : \u001b[32m[+|1.00]\u001b[0m Exc L5/6 IT 1        mapped to Exc L5/6 IT 1       \n",
      "[refcm.matchings ] [DEBUG   ] : \u001b[32m[+|1.00]\u001b[0m Exc L5/6 IT 2        mapped to Exc L5/6 IT 2       \n",
      "[refcm.matchings ] [DEBUG   ] : \u001b[32m[+|1.00]\u001b[0m Exc L5/6 IT 3        mapped to Exc L5/6 IT 3       \n",
      "[refcm.matchings ] [DEBUG   ] : \u001b[32m[+|1.00]\u001b[0m Exc L5/6 NP          mapped to Exc L5/6 NP         \n",
      "[refcm.matchings ] [DEBUG   ] : \u001b[32m[+|1.00]\u001b[0m Exc L6 CT            mapped to Exc L6 CT           \n",
      "[refcm.matchings ] [DEBUG   ] : \u001b[32m[+|1.00]\u001b[0m Exc L6 IT 1          mapped to Exc L6 IT 1         \n",
      "[refcm.matchings ] [DEBUG   ] : \u001b[32m[+|1.00]\u001b[0m Exc L6 IT 2          mapped to Exc L6 IT 2         \n",
      "[refcm.matchings ] [DEBUG   ] : \u001b[32m[+|1.00]\u001b[0m Exc L6b              mapped to Exc L6b             \n",
      "[refcm.matchings ] [DEBUG   ] : \u001b[32m[+|1.00]\u001b[0m Lamp5 1              mapped to Lamp5 1             \n",
      "[refcm.matchings ] [DEBUG   ] : \u001b[32m[+|1.00]\u001b[0m Lamp5 2              mapped to Lamp5 2             \n",
      "[refcm.matchings ] [DEBUG   ] : \u001b[32m[+|1.00]\u001b[0m Lamp5 Lhx6           mapped to Lamp5 Lhx6          \n",
      "[refcm.matchings ] [DEBUG   ] : \u001b[32m[+|1.00]\u001b[0m Lamp5 Rosehip        mapped to Lamp5 Rosehip       \n",
      "[refcm.matchings ] [DEBUG   ] : \u001b[32m[+|1.00]\u001b[0m Oligo                mapped to Oligo               \n",
      "[refcm.matchings ] [DEBUG   ] : \u001b[32m[+|1.00]\u001b[0m Pax6                 mapped to Pax6                \n",
      "[refcm.matchings ] [DEBUG   ] : \u001b[32m[+|1.00]\u001b[0m Pvalb 1              mapped to Pvalb 1             \n",
      "[refcm.matchings ] [DEBUG   ] : \u001b[32m[+|1.00]\u001b[0m Pvalb 2              mapped to Pvalb 2             \n",
      "[refcm.matchings ] [DEBUG   ] : \u001b[32m[+|1.00]\u001b[0m Sst 1                mapped to Sst 1               \n",
      "[refcm.matchings ] [DEBUG   ] : \u001b[32m[+|1.00]\u001b[0m Sst 2                mapped to Sst 2               \n",
      "[refcm.matchings ] [DEBUG   ] : \u001b[32m[+|1.00]\u001b[0m Sst 3                mapped to Sst 3               \n",
      "[refcm.matchings ] [DEBUG   ] : \u001b[32m[+|1.00]\u001b[0m Sst 4                mapped to Sst 4               \n",
      "[refcm.matchings ] [DEBUG   ] : \u001b[32m[+|1.00]\u001b[0m Sst 5                mapped to Sst 5               \n",
      "[refcm.matchings ] [DEBUG   ] : \u001b[32m[+|1.00]\u001b[0m Sst Chodl            mapped to Sst Chodl           \n",
      "[refcm.matchings ] [DEBUG   ] : \u001b[32m[+|1.00]\u001b[0m Vip 1                mapped to Vip 1               \n",
      "[refcm.matchings ] [DEBUG   ] : \u001b[32m[+|1.00]\u001b[0m Vip 2                mapped to Vip 2               \n",
      "[refcm.matchings ] [DEBUG   ] : \u001b[32m[+|1.00]\u001b[0m Vip 3                mapped to Vip 3               \n",
      "[refcm.matchings ] [DEBUG   ] : \u001b[32m[+|1.00]\u001b[0m Vip 4                mapped to Vip 4               \n",
      "[refcm.matchings ] [DEBUG   ] : \u001b[32m[+|1.00]\u001b[0m Vip 5                mapped to Vip 5               \n",
      "[refcm.matchings ] [DEBUG   ] : \u001b[32m[+|1.00]\u001b[0m Vip Sncg             mapped to Vip Sncg            \n",
      "[refcm.matchings ] [INFO    ] : MTG                  to VISp                \n",
      "[refcm.matchings ] [INFO    ] : 34    common cell types\n",
      "[refcm.matchings ] [INFO    ] : 34/34 correct   links\n",
      "[refcm.matchings ] [INFO    ] : 0     incorrect links\n",
      "[refcm.refcm     ] [DEBUG   ] : Using costs for ALM->MTG found in cache.\n",
      "[refcm.refcm     ] [DEBUG   ] : starting LP optimization\n",
      "[refcm.refcm     ] [DEBUG   ] : optimization terminated w. status \"Optimal\"\n",
      "[refcm.matchings ] [DEBUG   ] : \u001b[32m[+|1.00]\u001b[0m Astrocyte            mapped to Astrocyte           \n",
      "[refcm.matchings ] [DEBUG   ] : \u001b[32m[+|1.00]\u001b[0m Chandelier           mapped to Chandelier          \n",
      "[refcm.matchings ] [DEBUG   ] : \u001b[32m[+|1.00]\u001b[0m Exc L2/3 IT          mapped to Exc L2/3 IT         \n",
      "[refcm.matchings ] [DEBUG   ] : \u001b[32m[+|1.00]\u001b[0m Exc L3/5 IT          mapped to Exc L3/5 IT         \n",
      "[refcm.matchings ] [DEBUG   ] : \u001b[32m[+|1.00]\u001b[0m Exc L4/5 IT          mapped to Exc L4/5 IT         \n",
      "[refcm.matchings ] [DEBUG   ] : \u001b[32m[+|1.00]\u001b[0m Exc L5 PT            mapped to Exc L5 PT           \n",
      "[refcm.matchings ] [DEBUG   ] : \u001b[32m[+|1.00]\u001b[0m Exc L5/6 IT 1        mapped to Exc L5/6 IT 1       \n",
      "[refcm.matchings ] [DEBUG   ] : \u001b[32m[+|1.00]\u001b[0m Exc L5/6 IT 2        mapped to Exc L5/6 IT 2       \n",
      "[refcm.matchings ] [DEBUG   ] : \u001b[32m[+|1.00]\u001b[0m Exc L5/6 IT 3        mapped to Exc L5/6 IT 3       \n",
      "[refcm.matchings ] [DEBUG   ] : \u001b[32m[+|1.00]\u001b[0m Exc L5/6 NP          mapped to Exc L5/6 NP         \n",
      "[refcm.matchings ] [DEBUG   ] : \u001b[32m[+|1.00]\u001b[0m Exc L6 CT            mapped to Exc L6 CT           \n",
      "[refcm.matchings ] [DEBUG   ] : \u001b[32m[+|1.00]\u001b[0m Exc L6 IT 1          mapped to Exc L6 IT 1         \n",
      "[refcm.matchings ] [DEBUG   ] : \u001b[32m[+|1.00]\u001b[0m Exc L6 IT 2          mapped to Exc L6 IT 2         \n",
      "[refcm.matchings ] [DEBUG   ] : \u001b[32m[+|1.00]\u001b[0m Exc L6b              mapped to Exc L6b             \n",
      "[refcm.matchings ] [DEBUG   ] : \u001b[32m[+|1.00]\u001b[0m Lamp5 1              mapped to Lamp5 1             \n",
      "[refcm.matchings ] [DEBUG   ] : \u001b[32m[+|1.00]\u001b[0m Lamp5 2              mapped to Lamp5 2             \n",
      "[refcm.matchings ] [DEBUG   ] : \u001b[32m[+|1.00]\u001b[0m Lamp5 Lhx6           mapped to Lamp5 Lhx6          \n",
      "[refcm.matchings ] [DEBUG   ] : \u001b[32m[+|1.00]\u001b[0m Lamp5 Rosehip        mapped to Lamp5 Rosehip       \n",
      "[refcm.matchings ] [DEBUG   ] : \u001b[32m[+|1.00]\u001b[0m Oligo                mapped to Oligo               \n",
      "[refcm.matchings ] [DEBUG   ] : \u001b[32m[+|1.00]\u001b[0m Pax6                 mapped to Pax6                \n",
      "[refcm.matchings ] [DEBUG   ] : \u001b[32m[+|1.00]\u001b[0m Pvalb 1              mapped to Pvalb 1             \n",
      "[refcm.matchings ] [DEBUG   ] : \u001b[32m[+|1.00]\u001b[0m Pvalb 2              mapped to Pvalb 2             \n",
      "[refcm.matchings ] [DEBUG   ] : \u001b[32m[+|1.00]\u001b[0m Sst 1                mapped to Sst 1               \n",
      "[refcm.matchings ] [DEBUG   ] : \u001b[32m[+|1.00]\u001b[0m Sst 2                mapped to Sst 2               \n",
      "[refcm.matchings ] [DEBUG   ] : \u001b[32m[+|1.00]\u001b[0m Sst 3                mapped to Sst 3               \n",
      "[refcm.matchings ] [DEBUG   ] : \u001b[32m[+|1.00]\u001b[0m Sst 4                mapped to Sst 4               \n",
      "[refcm.matchings ] [DEBUG   ] : \u001b[32m[+|1.00]\u001b[0m Sst 5                mapped to Sst 5               \n",
      "[refcm.matchings ] [DEBUG   ] : \u001b[32m[+|1.00]\u001b[0m Sst Chodl            mapped to Sst Chodl           \n",
      "[refcm.matchings ] [DEBUG   ] : \u001b[32m[+|1.00]\u001b[0m Vip 1                mapped to Vip 1               \n",
      "[refcm.matchings ] [DEBUG   ] : \u001b[32m[+|1.00]\u001b[0m Vip 2                mapped to Vip 2               \n",
      "[refcm.matchings ] [DEBUG   ] : \u001b[32m[+|1.00]\u001b[0m Vip 3                mapped to Vip 3               \n",
      "[refcm.matchings ] [DEBUG   ] : \u001b[32m[+|1.00]\u001b[0m Vip 4                mapped to Vip 4               \n",
      "[refcm.matchings ] [DEBUG   ] : \u001b[32m[+|1.00]\u001b[0m Vip 5                mapped to Vip 5               \n",
      "[refcm.matchings ] [DEBUG   ] : \u001b[32m[+|1.00]\u001b[0m Vip Sncg             mapped to Vip Sncg            \n",
      "[refcm.matchings ] [INFO    ] : ALM                  to MTG                 \n",
      "[refcm.matchings ] [INFO    ] : 34    common cell types\n",
      "[refcm.matchings ] [INFO    ] : 34/34 correct   links\n",
      "[refcm.matchings ] [INFO    ] : 0     incorrect links\n",
      "[refcm.refcm     ] [DEBUG   ] : Using costs for ALM->VISp found in cache.\n",
      "[refcm.refcm     ] [DEBUG   ] : starting LP optimization\n",
      "[refcm.refcm     ] [DEBUG   ] : optimization terminated w. status \"Optimal\"\n",
      "[refcm.matchings ] [DEBUG   ] : \u001b[32m[+|1.00]\u001b[0m Astrocyte            mapped to Astrocyte           \n",
      "[refcm.matchings ] [DEBUG   ] : \u001b[32m[+|1.00]\u001b[0m Chandelier           mapped to Chandelier          \n",
      "[refcm.matchings ] [DEBUG   ] : \u001b[32m[+|1.00]\u001b[0m Exc L2/3 IT          mapped to Exc L2/3 IT         \n",
      "[refcm.matchings ] [DEBUG   ] : \u001b[32m[+|1.00]\u001b[0m Exc L3/5 IT          mapped to Exc L3/5 IT         \n",
      "[refcm.matchings ] [DEBUG   ] : \u001b[32m[+|1.00]\u001b[0m Exc L4/5 IT          mapped to Exc L4/5 IT         \n",
      "[refcm.matchings ] [DEBUG   ] : \u001b[32m[+|1.00]\u001b[0m Exc L5 PT            mapped to Exc L5 PT           \n",
      "[refcm.matchings ] [DEBUG   ] : \u001b[32m[+|1.00]\u001b[0m Exc L5/6 IT 1        mapped to Exc L5/6 IT 1       \n",
      "[refcm.matchings ] [DEBUG   ] : \u001b[32m[+|1.00]\u001b[0m Exc L5/6 IT 2        mapped to Exc L5/6 IT 2       \n",
      "[refcm.matchings ] [DEBUG   ] : \u001b[32m[+|1.00]\u001b[0m Exc L5/6 IT 3        mapped to Exc L5/6 IT 3       \n",
      "[refcm.matchings ] [DEBUG   ] : \u001b[32m[+|1.00]\u001b[0m Exc L5/6 NP          mapped to Exc L5/6 NP         \n",
      "[refcm.matchings ] [DEBUG   ] : \u001b[32m[+|1.00]\u001b[0m Exc L6 CT            mapped to Exc L6 CT           \n",
      "[refcm.matchings ] [DEBUG   ] : \u001b[32m[+|1.00]\u001b[0m Exc L6 IT 1          mapped to Exc L6 IT 1         \n",
      "[refcm.matchings ] [DEBUG   ] : \u001b[32m[+|1.00]\u001b[0m Exc L6 IT 2          mapped to Exc L6 IT 2         \n",
      "[refcm.matchings ] [DEBUG   ] : \u001b[32m[+|1.00]\u001b[0m Exc L6b              mapped to Exc L6b             \n",
      "[refcm.matchings ] [DEBUG   ] : \u001b[32m[+|1.00]\u001b[0m Lamp5 1              mapped to Lamp5 1             \n",
      "[refcm.matchings ] [DEBUG   ] : \u001b[32m[+|1.00]\u001b[0m Lamp5 2              mapped to Lamp5 2             \n",
      "[refcm.matchings ] [DEBUG   ] : \u001b[32m[+|1.00]\u001b[0m Lamp5 Lhx6           mapped to Lamp5 Lhx6          \n",
      "[refcm.matchings ] [DEBUG   ] : \u001b[32m[+|1.00]\u001b[0m Lamp5 Rosehip        mapped to Lamp5 Rosehip       \n",
      "[refcm.matchings ] [DEBUG   ] : \u001b[32m[+|1.00]\u001b[0m Oligo                mapped to Oligo               \n",
      "[refcm.matchings ] [DEBUG   ] : \u001b[32m[+|1.00]\u001b[0m Pax6                 mapped to Pax6                \n",
      "[refcm.matchings ] [DEBUG   ] : \u001b[32m[+|1.00]\u001b[0m Pvalb 1              mapped to Pvalb 1             \n",
      "[refcm.matchings ] [DEBUG   ] : \u001b[32m[+|1.00]\u001b[0m Pvalb 2              mapped to Pvalb 2             \n",
      "[refcm.matchings ] [DEBUG   ] : \u001b[32m[+|1.00]\u001b[0m Sst 1                mapped to Sst 1               \n",
      "[refcm.matchings ] [DEBUG   ] : \u001b[32m[+|1.00]\u001b[0m Sst 2                mapped to Sst 2               \n",
      "[refcm.matchings ] [DEBUG   ] : \u001b[32m[+|1.00]\u001b[0m Sst 3                mapped to Sst 3               \n",
      "[refcm.matchings ] [DEBUG   ] : \u001b[32m[+|1.00]\u001b[0m Sst 4                mapped to Sst 4               \n",
      "[refcm.matchings ] [DEBUG   ] : \u001b[32m[+|1.00]\u001b[0m Sst 5                mapped to Sst 5               \n",
      "[refcm.matchings ] [DEBUG   ] : \u001b[32m[+|1.00]\u001b[0m Sst Chodl            mapped to Sst Chodl           \n",
      "[refcm.matchings ] [DEBUG   ] : \u001b[32m[+|1.00]\u001b[0m Vip 1                mapped to Vip 1               \n",
      "[refcm.matchings ] [DEBUG   ] : \u001b[32m[+|1.00]\u001b[0m Vip 2                mapped to Vip 2               \n",
      "[refcm.matchings ] [DEBUG   ] : \u001b[32m[+|1.00]\u001b[0m Vip 3                mapped to Vip 3               \n",
      "[refcm.matchings ] [DEBUG   ] : \u001b[32m[+|1.00]\u001b[0m Vip 4                mapped to Vip 4               \n",
      "[refcm.matchings ] [DEBUG   ] : \u001b[32m[+|1.00]\u001b[0m Vip 5                mapped to Vip 5               \n",
      "[refcm.matchings ] [DEBUG   ] : \u001b[32m[+|1.00]\u001b[0m Vip Sncg             mapped to Vip Sncg            \n",
      "[refcm.matchings ] [INFO    ] : ALM                  to VISp                \n",
      "[refcm.matchings ] [INFO    ] : 34    common cell types\n",
      "[refcm.matchings ] [INFO    ] : 34/34 correct   links\n",
      "[refcm.matchings ] [INFO    ] : 0     incorrect links\n",
      "[refcm.refcm     ] [DEBUG   ] : Using costs for VISp->MTG found in cache.\n",
      "[refcm.refcm     ] [DEBUG   ] : starting LP optimization\n",
      "[refcm.refcm     ] [DEBUG   ] : optimization terminated w. status \"Optimal\"\n",
      "[refcm.matchings ] [DEBUG   ] : \u001b[32m[+|1.00]\u001b[0m Astrocyte            mapped to Astrocyte           \n",
      "[refcm.matchings ] [DEBUG   ] : \u001b[32m[+|1.00]\u001b[0m Chandelier           mapped to Chandelier          \n",
      "[refcm.matchings ] [DEBUG   ] : \u001b[32m[+|1.00]\u001b[0m Exc L2/3 IT          mapped to Exc L2/3 IT         \n",
      "[refcm.matchings ] [DEBUG   ] : \u001b[32m[+|1.00]\u001b[0m Exc L3/5 IT          mapped to Exc L3/5 IT         \n",
      "[refcm.matchings ] [DEBUG   ] : \u001b[32m[+|1.00]\u001b[0m Exc L4/5 IT          mapped to Exc L4/5 IT         \n",
      "[refcm.matchings ] [DEBUG   ] : \u001b[32m[+|1.00]\u001b[0m Exc L5 PT            mapped to Exc L5 PT           \n",
      "[refcm.matchings ] [DEBUG   ] : \u001b[32m[+|1.00]\u001b[0m Exc L5/6 IT 1        mapped to Exc L5/6 IT 1       \n",
      "[refcm.matchings ] [DEBUG   ] : \u001b[32m[+|1.00]\u001b[0m Exc L5/6 IT 2        mapped to Exc L5/6 IT 2       \n",
      "[refcm.matchings ] [DEBUG   ] : \u001b[32m[+|1.00]\u001b[0m Exc L5/6 IT 3        mapped to Exc L5/6 IT 3       \n",
      "[refcm.matchings ] [DEBUG   ] : \u001b[32m[+|1.00]\u001b[0m Exc L5/6 NP          mapped to Exc L5/6 NP         \n",
      "[refcm.matchings ] [DEBUG   ] : \u001b[32m[+|1.00]\u001b[0m Exc L6 CT            mapped to Exc L6 CT           \n",
      "[refcm.matchings ] [DEBUG   ] : \u001b[32m[+|1.00]\u001b[0m Exc L6 IT 1          mapped to Exc L6 IT 1         \n",
      "[refcm.matchings ] [DEBUG   ] : \u001b[32m[+|1.00]\u001b[0m Exc L6 IT 2          mapped to Exc L6 IT 2         \n",
      "[refcm.matchings ] [DEBUG   ] : \u001b[32m[+|1.00]\u001b[0m Exc L6b              mapped to Exc L6b             \n",
      "[refcm.matchings ] [DEBUG   ] : \u001b[32m[+|1.00]\u001b[0m Lamp5 1              mapped to Lamp5 1             \n",
      "[refcm.matchings ] [DEBUG   ] : \u001b[32m[+|1.00]\u001b[0m Lamp5 2              mapped to Lamp5 2             \n",
      "[refcm.matchings ] [DEBUG   ] : \u001b[32m[+|1.00]\u001b[0m Lamp5 Lhx6           mapped to Lamp5 Lhx6          \n",
      "[refcm.matchings ] [DEBUG   ] : \u001b[32m[+|1.00]\u001b[0m Lamp5 Rosehip        mapped to Lamp5 Rosehip       \n",
      "[refcm.matchings ] [DEBUG   ] : \u001b[32m[+|1.00]\u001b[0m Oligo                mapped to Oligo               \n",
      "[refcm.matchings ] [DEBUG   ] : \u001b[32m[+|1.00]\u001b[0m Pax6                 mapped to Pax6                \n",
      "[refcm.matchings ] [DEBUG   ] : \u001b[32m[+|1.00]\u001b[0m Pvalb 1              mapped to Pvalb 1             \n",
      "[refcm.matchings ] [DEBUG   ] : \u001b[32m[+|1.00]\u001b[0m Pvalb 2              mapped to Pvalb 2             \n",
      "[refcm.matchings ] [DEBUG   ] : \u001b[32m[+|1.00]\u001b[0m Sst 1                mapped to Sst 1               \n",
      "[refcm.matchings ] [DEBUG   ] : \u001b[32m[+|1.00]\u001b[0m Sst 2                mapped to Sst 2               \n",
      "[refcm.matchings ] [DEBUG   ] : \u001b[32m[+|1.00]\u001b[0m Sst 3                mapped to Sst 3               \n",
      "[refcm.matchings ] [DEBUG   ] : \u001b[32m[+|1.00]\u001b[0m Sst 4                mapped to Sst 4               \n",
      "[refcm.matchings ] [DEBUG   ] : \u001b[32m[+|1.00]\u001b[0m Sst 5                mapped to Sst 5               \n",
      "[refcm.matchings ] [DEBUG   ] : \u001b[32m[+|1.00]\u001b[0m Sst Chodl            mapped to Sst Chodl           \n",
      "[refcm.matchings ] [DEBUG   ] : \u001b[32m[+|1.00]\u001b[0m Vip 1                mapped to Vip 1               \n",
      "[refcm.matchings ] [DEBUG   ] : \u001b[32m[+|1.00]\u001b[0m Vip 2                mapped to Vip 2               \n",
      "[refcm.matchings ] [DEBUG   ] : \u001b[32m[+|1.00]\u001b[0m Vip 3                mapped to Vip 3               \n",
      "[refcm.matchings ] [DEBUG   ] : \u001b[32m[+|1.00]\u001b[0m Vip 4                mapped to Vip 4               \n",
      "[refcm.matchings ] [DEBUG   ] : \u001b[32m[+|1.00]\u001b[0m Vip 5                mapped to Vip 5               \n",
      "[refcm.matchings ] [DEBUG   ] : \u001b[32m[+|1.00]\u001b[0m Vip Sncg             mapped to Vip Sncg            \n",
      "[refcm.matchings ] [INFO    ] : VISp                 to MTG                 \n",
      "[refcm.matchings ] [INFO    ] : 34    common cell types\n",
      "[refcm.matchings ] [INFO    ] : 34/34 correct   links\n",
      "[refcm.matchings ] [INFO    ] : 0     incorrect links\n",
      "[refcm.refcm     ] [DEBUG   ] : Using costs for VISp->ALM found in cache.\n",
      "[refcm.refcm     ] [DEBUG   ] : starting LP optimization\n",
      "[refcm.refcm     ] [DEBUG   ] : optimization terminated w. status \"Optimal\"\n",
      "[refcm.matchings ] [DEBUG   ] : \u001b[32m[+|1.00]\u001b[0m Astrocyte            mapped to Astrocyte           \n",
      "[refcm.matchings ] [DEBUG   ] : \u001b[32m[+|1.00]\u001b[0m Chandelier           mapped to Chandelier          \n",
      "[refcm.matchings ] [DEBUG   ] : \u001b[32m[+|1.00]\u001b[0m Exc L2/3 IT          mapped to Exc L2/3 IT         \n",
      "[refcm.matchings ] [DEBUG   ] : \u001b[32m[+|1.00]\u001b[0m Exc L3/5 IT          mapped to Exc L3/5 IT         \n",
      "[refcm.matchings ] [DEBUG   ] : \u001b[32m[+|1.00]\u001b[0m Exc L4/5 IT          mapped to Exc L4/5 IT         \n",
      "[refcm.matchings ] [DEBUG   ] : \u001b[32m[+|1.00]\u001b[0m Exc L5 PT            mapped to Exc L5 PT           \n",
      "[refcm.matchings ] [DEBUG   ] : \u001b[32m[+|1.00]\u001b[0m Exc L5/6 IT 1        mapped to Exc L5/6 IT 1       \n",
      "[refcm.matchings ] [DEBUG   ] : \u001b[32m[+|1.00]\u001b[0m Exc L5/6 IT 2        mapped to Exc L5/6 IT 2       \n",
      "[refcm.matchings ] [DEBUG   ] : \u001b[32m[+|1.00]\u001b[0m Exc L5/6 IT 3        mapped to Exc L5/6 IT 3       \n",
      "[refcm.matchings ] [DEBUG   ] : \u001b[32m[+|1.00]\u001b[0m Exc L5/6 NP          mapped to Exc L5/6 NP         \n",
      "[refcm.matchings ] [DEBUG   ] : \u001b[32m[+|1.00]\u001b[0m Exc L6 CT            mapped to Exc L6 CT           \n",
      "[refcm.matchings ] [DEBUG   ] : \u001b[32m[+|1.00]\u001b[0m Exc L6 IT 1          mapped to Exc L6 IT 1         \n",
      "[refcm.matchings ] [DEBUG   ] : \u001b[32m[+|1.00]\u001b[0m Exc L6 IT 2          mapped to Exc L6 IT 2         \n",
      "[refcm.matchings ] [DEBUG   ] : \u001b[32m[+|1.00]\u001b[0m Exc L6b              mapped to Exc L6b             \n",
      "[refcm.matchings ] [DEBUG   ] : \u001b[32m[+|1.00]\u001b[0m Lamp5 1              mapped to Lamp5 1             \n",
      "[refcm.matchings ] [DEBUG   ] : \u001b[32m[+|1.00]\u001b[0m Lamp5 2              mapped to Lamp5 2             \n",
      "[refcm.matchings ] [DEBUG   ] : \u001b[32m[+|1.00]\u001b[0m Lamp5 Lhx6           mapped to Lamp5 Lhx6          \n",
      "[refcm.matchings ] [DEBUG   ] : \u001b[32m[+|1.00]\u001b[0m Lamp5 Rosehip        mapped to Lamp5 Rosehip       \n",
      "[refcm.matchings ] [DEBUG   ] : \u001b[32m[+|1.00]\u001b[0m Oligo                mapped to Oligo               \n",
      "[refcm.matchings ] [DEBUG   ] : \u001b[32m[+|1.00]\u001b[0m Pax6                 mapped to Pax6                \n",
      "[refcm.matchings ] [DEBUG   ] : \u001b[32m[+|1.00]\u001b[0m Pvalb 1              mapped to Pvalb 1             \n",
      "[refcm.matchings ] [DEBUG   ] : \u001b[32m[+|1.00]\u001b[0m Pvalb 2              mapped to Pvalb 2             \n",
      "[refcm.matchings ] [DEBUG   ] : \u001b[32m[+|1.00]\u001b[0m Sst 1                mapped to Sst 1               \n",
      "[refcm.matchings ] [DEBUG   ] : \u001b[32m[+|1.00]\u001b[0m Sst 2                mapped to Sst 2               \n",
      "[refcm.matchings ] [DEBUG   ] : \u001b[32m[+|1.00]\u001b[0m Sst 3                mapped to Sst 3               \n",
      "[refcm.matchings ] [DEBUG   ] : \u001b[32m[+|1.00]\u001b[0m Sst 4                mapped to Sst 4               \n",
      "[refcm.matchings ] [DEBUG   ] : \u001b[32m[+|1.00]\u001b[0m Sst 5                mapped to Sst 5               \n",
      "[refcm.matchings ] [DEBUG   ] : \u001b[32m[+|1.00]\u001b[0m Sst Chodl            mapped to Sst Chodl           \n",
      "[refcm.matchings ] [DEBUG   ] : \u001b[32m[+|1.00]\u001b[0m Vip 1                mapped to Vip 1               \n",
      "[refcm.matchings ] [DEBUG   ] : \u001b[32m[+|1.00]\u001b[0m Vip 2                mapped to Vip 2               \n",
      "[refcm.matchings ] [DEBUG   ] : \u001b[32m[+|1.00]\u001b[0m Vip 3                mapped to Vip 3               \n",
      "[refcm.matchings ] [DEBUG   ] : \u001b[32m[+|1.00]\u001b[0m Vip 4                mapped to Vip 4               \n",
      "[refcm.matchings ] [DEBUG   ] : \u001b[32m[+|1.00]\u001b[0m Vip 5                mapped to Vip 5               \n",
      "[refcm.matchings ] [DEBUG   ] : \u001b[32m[+|1.00]\u001b[0m Vip Sncg             mapped to Vip Sncg            \n",
      "[refcm.matchings ] [INFO    ] : VISp                 to ALM                 \n",
      "[refcm.matchings ] [INFO    ] : 34    common cell types\n",
      "[refcm.matchings ] [INFO    ] : 34/34 correct   links\n",
      "[refcm.matchings ] [INFO    ] : 0     incorrect links\n"
     ]
    }
   ],
   "source": [
    "rcm = RefCM(discovery_threshold=0)\n",
    "\n",
    "for i, q_id in enumerate(ds):\n",
    "    for ref_id in [d for d in ds if d != q_id]:\n",
    "        rcm.setref(ds[ref_id], ref_id, \"labels34\")\n",
    "        m = rcm.annotate(ds[q_id], q_id, \"labels34\")\n",
    "        m.eval(\"labels34\")"
   ]
  }
 ],
 "metadata": {
  "kernelspec": {
   "display_name": "refcm",
   "language": "python",
   "name": "python3"
  },
  "language_info": {
   "codemirror_mode": {
    "name": "ipython",
    "version": 3
   },
   "file_extension": ".py",
   "mimetype": "text/x-python",
   "name": "python",
   "nbconvert_exporter": "python",
   "pygments_lexer": "ipython3",
   "version": "3.11.12"
  }
 },
 "nbformat": 4,
 "nbformat_minor": 4
}
