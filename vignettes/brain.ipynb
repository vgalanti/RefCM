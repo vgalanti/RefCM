{
 "cells": [
  {
   "cell_type": "code",
   "execution_count": null,
   "metadata": {},
   "outputs": [],
   "source": [
    "import sys\n",
    "sys.path.append('../src/')\n",
    "\n",
    "import config\n",
    "import logging\n",
    "import scanpy as sc\n",
    "\n",
    "# refcm imports\n",
    "from refcm import RefCM\n",
    "from embeddings import HVGEmbedder, PCAEmbedder\n",
    "\n",
    "config.start_logging(logging.DEBUG)"
   ]
  },
  {
   "cell_type": "code",
   "execution_count": 2,
   "metadata": {},
   "outputs": [],
   "source": [
    "%load_ext autoreload\n",
    "%autoreload 2"
   ]
  },
  {
   "cell_type": "markdown",
   "metadata": {},
   "source": [
    "Loading the relevant datasets into memory"
   ]
  },
  {
   "cell_type": "code",
   "execution_count": null,
   "metadata": {},
   "outputs": [],
   "source": [
    "ds = ['MTG', 'ALM', 'VISp']\n",
    "ds = {s: sc.read_h5ad(f'../data/{s}.h5ad') for s in ds}"
   ]
  },
  {
   "cell_type": "code",
   "execution_count": null,
   "metadata": {},
   "outputs": [
    {
     "data": {
      "text/html": [
       "<div>\n",
       "<style scoped>\n",
       "    .dataframe tbody tr th:only-of-type {\n",
       "        vertical-align: middle;\n",
       "    }\n",
       "\n",
       "    .dataframe tbody tr th {\n",
       "        vertical-align: top;\n",
       "    }\n",
       "\n",
       "    .dataframe thead th {\n",
       "        text-align: right;\n",
       "    }\n",
       "</style>\n",
       "<table border=\"1\" class=\"dataframe\">\n",
       "  <thead>\n",
       "    <tr style=\"text-align: right;\">\n",
       "      <th></th>\n",
       "      <th>X0610007P14Rik</th>\n",
       "      <th>X0610009O20Rik</th>\n",
       "      <th>X0610010F05Rik</th>\n",
       "      <th>X0610011F06Rik</th>\n",
       "      <th>X0610030E20Rik</th>\n",
       "      <th>X0610037L13Rik</th>\n",
       "      <th>X0610040J01Rik</th>\n",
       "      <th>X1110001J03Rik</th>\n",
       "      <th>X1110004E09Rik</th>\n",
       "      <th>X1110004F10Rik</th>\n",
       "      <th>...</th>\n",
       "      <th>Zwint</th>\n",
       "      <th>Zxdb</th>\n",
       "      <th>Zxdc</th>\n",
       "      <th>Zyg11a</th>\n",
       "      <th>Zyg11b</th>\n",
       "      <th>Zyx</th>\n",
       "      <th>Zzef1</th>\n",
       "      <th>Zzz3</th>\n",
       "      <th>a</th>\n",
       "      <th>l7Rn6</th>\n",
       "    </tr>\n",
       "  </thead>\n",
       "  <tbody>\n",
       "    <tr>\n",
       "      <th>F1S4_160106_001_B01</th>\n",
       "      <td>0.0</td>\n",
       "      <td>157.0</td>\n",
       "      <td>9.0</td>\n",
       "      <td>12.0</td>\n",
       "      <td>0.0</td>\n",
       "      <td>0.0</td>\n",
       "      <td>88.0</td>\n",
       "      <td>1.0</td>\n",
       "      <td>268.0</td>\n",
       "      <td>258.0</td>\n",
       "      <td>...</td>\n",
       "      <td>0.0</td>\n",
       "      <td>0.0</td>\n",
       "      <td>0.0</td>\n",
       "      <td>0.0</td>\n",
       "      <td>33.0</td>\n",
       "      <td>0.0</td>\n",
       "      <td>1.0</td>\n",
       "      <td>306.0</td>\n",
       "      <td>0.0</td>\n",
       "      <td>374.0</td>\n",
       "    </tr>\n",
       "    <tr>\n",
       "      <th>F1S4_160106_001_C01</th>\n",
       "      <td>107.0</td>\n",
       "      <td>80.0</td>\n",
       "      <td>85.0</td>\n",
       "      <td>0.0</td>\n",
       "      <td>0.0</td>\n",
       "      <td>245.0</td>\n",
       "      <td>1.0</td>\n",
       "      <td>0.0</td>\n",
       "      <td>327.0</td>\n",
       "      <td>521.0</td>\n",
       "      <td>...</td>\n",
       "      <td>0.0</td>\n",
       "      <td>17.0</td>\n",
       "      <td>35.0</td>\n",
       "      <td>0.0</td>\n",
       "      <td>258.0</td>\n",
       "      <td>0.0</td>\n",
       "      <td>8.0</td>\n",
       "      <td>341.0</td>\n",
       "      <td>0.0</td>\n",
       "      <td>189.0</td>\n",
       "    </tr>\n",
       "    <tr>\n",
       "      <th>F1S4_160106_001_E01</th>\n",
       "      <td>53.0</td>\n",
       "      <td>36.0</td>\n",
       "      <td>19.0</td>\n",
       "      <td>12.0</td>\n",
       "      <td>0.0</td>\n",
       "      <td>23.0</td>\n",
       "      <td>0.0</td>\n",
       "      <td>0.0</td>\n",
       "      <td>196.0</td>\n",
       "      <td>96.0</td>\n",
       "      <td>...</td>\n",
       "      <td>0.0</td>\n",
       "      <td>0.0</td>\n",
       "      <td>13.0</td>\n",
       "      <td>25.0</td>\n",
       "      <td>45.0</td>\n",
       "      <td>72.0</td>\n",
       "      <td>197.0</td>\n",
       "      <td>296.0</td>\n",
       "      <td>2.0</td>\n",
       "      <td>33.0</td>\n",
       "    </tr>\n",
       "    <tr>\n",
       "      <th>F1S4_160106_001_G01</th>\n",
       "      <td>2.0</td>\n",
       "      <td>1.0</td>\n",
       "      <td>344.0</td>\n",
       "      <td>31.0</td>\n",
       "      <td>0.0</td>\n",
       "      <td>82.0</td>\n",
       "      <td>0.0</td>\n",
       "      <td>36.0</td>\n",
       "      <td>45.0</td>\n",
       "      <td>66.0</td>\n",
       "      <td>...</td>\n",
       "      <td>0.0</td>\n",
       "      <td>0.0</td>\n",
       "      <td>82.0</td>\n",
       "      <td>0.0</td>\n",
       "      <td>181.0</td>\n",
       "      <td>0.0</td>\n",
       "      <td>58.0</td>\n",
       "      <td>206.0</td>\n",
       "      <td>28.0</td>\n",
       "      <td>97.0</td>\n",
       "    </tr>\n",
       "    <tr>\n",
       "      <th>F1S4_160106_001_H01</th>\n",
       "      <td>97.0</td>\n",
       "      <td>0.0</td>\n",
       "      <td>264.0</td>\n",
       "      <td>103.0</td>\n",
       "      <td>37.0</td>\n",
       "      <td>0.0</td>\n",
       "      <td>1.0</td>\n",
       "      <td>0.0</td>\n",
       "      <td>40.0</td>\n",
       "      <td>122.0</td>\n",
       "      <td>...</td>\n",
       "      <td>0.0</td>\n",
       "      <td>0.0</td>\n",
       "      <td>0.0</td>\n",
       "      <td>0.0</td>\n",
       "      <td>317.0</td>\n",
       "      <td>10.0</td>\n",
       "      <td>169.0</td>\n",
       "      <td>0.0</td>\n",
       "      <td>12.0</td>\n",
       "      <td>0.0</td>\n",
       "    </tr>\n",
       "    <tr>\n",
       "      <th>...</th>\n",
       "      <td>...</td>\n",
       "      <td>...</td>\n",
       "      <td>...</td>\n",
       "      <td>...</td>\n",
       "      <td>...</td>\n",
       "      <td>...</td>\n",
       "      <td>...</td>\n",
       "      <td>...</td>\n",
       "      <td>...</td>\n",
       "      <td>...</td>\n",
       "      <td>...</td>\n",
       "      <td>...</td>\n",
       "      <td>...</td>\n",
       "      <td>...</td>\n",
       "      <td>...</td>\n",
       "      <td>...</td>\n",
       "      <td>...</td>\n",
       "      <td>...</td>\n",
       "      <td>...</td>\n",
       "      <td>...</td>\n",
       "      <td>...</td>\n",
       "    </tr>\n",
       "    <tr>\n",
       "      <th>F2S4_170405_060_A01</th>\n",
       "      <td>46.0</td>\n",
       "      <td>34.0</td>\n",
       "      <td>232.0</td>\n",
       "      <td>51.0</td>\n",
       "      <td>0.0</td>\n",
       "      <td>41.0</td>\n",
       "      <td>0.0</td>\n",
       "      <td>0.0</td>\n",
       "      <td>0.0</td>\n",
       "      <td>209.0</td>\n",
       "      <td>...</td>\n",
       "      <td>0.0</td>\n",
       "      <td>0.0</td>\n",
       "      <td>49.0</td>\n",
       "      <td>0.0</td>\n",
       "      <td>160.0</td>\n",
       "      <td>51.0</td>\n",
       "      <td>46.0</td>\n",
       "      <td>352.0</td>\n",
       "      <td>0.0</td>\n",
       "      <td>76.0</td>\n",
       "    </tr>\n",
       "    <tr>\n",
       "      <th>F2S4_170405_060_B01</th>\n",
       "      <td>0.0</td>\n",
       "      <td>186.0</td>\n",
       "      <td>156.0</td>\n",
       "      <td>29.0</td>\n",
       "      <td>0.0</td>\n",
       "      <td>0.0</td>\n",
       "      <td>0.0</td>\n",
       "      <td>0.0</td>\n",
       "      <td>54.0</td>\n",
       "      <td>202.0</td>\n",
       "      <td>...</td>\n",
       "      <td>75.0</td>\n",
       "      <td>0.0</td>\n",
       "      <td>87.0</td>\n",
       "      <td>0.0</td>\n",
       "      <td>128.0</td>\n",
       "      <td>72.0</td>\n",
       "      <td>22.0</td>\n",
       "      <td>370.0</td>\n",
       "      <td>1.0</td>\n",
       "      <td>69.0</td>\n",
       "    </tr>\n",
       "    <tr>\n",
       "      <th>F2S4_170405_060_C01</th>\n",
       "      <td>90.0</td>\n",
       "      <td>237.0</td>\n",
       "      <td>456.0</td>\n",
       "      <td>98.0</td>\n",
       "      <td>28.0</td>\n",
       "      <td>0.0</td>\n",
       "      <td>0.0</td>\n",
       "      <td>0.0</td>\n",
       "      <td>1.0</td>\n",
       "      <td>127.0</td>\n",
       "      <td>...</td>\n",
       "      <td>115.0</td>\n",
       "      <td>0.0</td>\n",
       "      <td>171.0</td>\n",
       "      <td>1.0</td>\n",
       "      <td>79.0</td>\n",
       "      <td>23.0</td>\n",
       "      <td>0.0</td>\n",
       "      <td>113.0</td>\n",
       "      <td>26.0</td>\n",
       "      <td>0.0</td>\n",
       "    </tr>\n",
       "    <tr>\n",
       "      <th>F2S4_170405_060_E01</th>\n",
       "      <td>0.0</td>\n",
       "      <td>0.0</td>\n",
       "      <td>400.0</td>\n",
       "      <td>0.0</td>\n",
       "      <td>0.0</td>\n",
       "      <td>92.0</td>\n",
       "      <td>94.0</td>\n",
       "      <td>0.0</td>\n",
       "      <td>0.0</td>\n",
       "      <td>75.0</td>\n",
       "      <td>...</td>\n",
       "      <td>0.0</td>\n",
       "      <td>0.0</td>\n",
       "      <td>141.0</td>\n",
       "      <td>0.0</td>\n",
       "      <td>0.0</td>\n",
       "      <td>62.0</td>\n",
       "      <td>316.0</td>\n",
       "      <td>187.0</td>\n",
       "      <td>0.0</td>\n",
       "      <td>0.0</td>\n",
       "    </tr>\n",
       "    <tr>\n",
       "      <th>F2S4_170405_060_H01</th>\n",
       "      <td>0.0</td>\n",
       "      <td>293.0</td>\n",
       "      <td>173.0</td>\n",
       "      <td>0.0</td>\n",
       "      <td>0.0</td>\n",
       "      <td>4.0</td>\n",
       "      <td>2.0</td>\n",
       "      <td>40.0</td>\n",
       "      <td>67.0</td>\n",
       "      <td>175.0</td>\n",
       "      <td>...</td>\n",
       "      <td>0.0</td>\n",
       "      <td>0.0</td>\n",
       "      <td>149.0</td>\n",
       "      <td>226.0</td>\n",
       "      <td>462.0</td>\n",
       "      <td>4.0</td>\n",
       "      <td>203.0</td>\n",
       "      <td>184.0</td>\n",
       "      <td>1.0</td>\n",
       "      <td>73.0</td>\n",
       "    </tr>\n",
       "  </tbody>\n",
       "</table>\n",
       "<p>14055 rows × 16024 columns</p>\n",
       "</div>"
      ],
      "text/plain": [
       "                     X0610007P14Rik  X0610009O20Rik  X0610010F05Rik  \\\n",
       "F1S4_160106_001_B01             0.0           157.0             9.0   \n",
       "F1S4_160106_001_C01           107.0            80.0            85.0   \n",
       "F1S4_160106_001_E01            53.0            36.0            19.0   \n",
       "F1S4_160106_001_G01             2.0             1.0           344.0   \n",
       "F1S4_160106_001_H01            97.0             0.0           264.0   \n",
       "...                             ...             ...             ...   \n",
       "F2S4_170405_060_A01            46.0            34.0           232.0   \n",
       "F2S4_170405_060_B01             0.0           186.0           156.0   \n",
       "F2S4_170405_060_C01            90.0           237.0           456.0   \n",
       "F2S4_170405_060_E01             0.0             0.0           400.0   \n",
       "F2S4_170405_060_H01             0.0           293.0           173.0   \n",
       "\n",
       "                     X0610011F06Rik  X0610030E20Rik  X0610037L13Rik  \\\n",
       "F1S4_160106_001_B01            12.0             0.0             0.0   \n",
       "F1S4_160106_001_C01             0.0             0.0           245.0   \n",
       "F1S4_160106_001_E01            12.0             0.0            23.0   \n",
       "F1S4_160106_001_G01            31.0             0.0            82.0   \n",
       "F1S4_160106_001_H01           103.0            37.0             0.0   \n",
       "...                             ...             ...             ...   \n",
       "F2S4_170405_060_A01            51.0             0.0            41.0   \n",
       "F2S4_170405_060_B01            29.0             0.0             0.0   \n",
       "F2S4_170405_060_C01            98.0            28.0             0.0   \n",
       "F2S4_170405_060_E01             0.0             0.0            92.0   \n",
       "F2S4_170405_060_H01             0.0             0.0             4.0   \n",
       "\n",
       "                     X0610040J01Rik  X1110001J03Rik  X1110004E09Rik  \\\n",
       "F1S4_160106_001_B01            88.0             1.0           268.0   \n",
       "F1S4_160106_001_C01             1.0             0.0           327.0   \n",
       "F1S4_160106_001_E01             0.0             0.0           196.0   \n",
       "F1S4_160106_001_G01             0.0            36.0            45.0   \n",
       "F1S4_160106_001_H01             1.0             0.0            40.0   \n",
       "...                             ...             ...             ...   \n",
       "F2S4_170405_060_A01             0.0             0.0             0.0   \n",
       "F2S4_170405_060_B01             0.0             0.0            54.0   \n",
       "F2S4_170405_060_C01             0.0             0.0             1.0   \n",
       "F2S4_170405_060_E01            94.0             0.0             0.0   \n",
       "F2S4_170405_060_H01             2.0            40.0            67.0   \n",
       "\n",
       "                     X1110004F10Rik  ...  Zwint  Zxdb   Zxdc  Zyg11a  Zyg11b  \\\n",
       "F1S4_160106_001_B01           258.0  ...    0.0   0.0    0.0     0.0    33.0   \n",
       "F1S4_160106_001_C01           521.0  ...    0.0  17.0   35.0     0.0   258.0   \n",
       "F1S4_160106_001_E01            96.0  ...    0.0   0.0   13.0    25.0    45.0   \n",
       "F1S4_160106_001_G01            66.0  ...    0.0   0.0   82.0     0.0   181.0   \n",
       "F1S4_160106_001_H01           122.0  ...    0.0   0.0    0.0     0.0   317.0   \n",
       "...                             ...  ...    ...   ...    ...     ...     ...   \n",
       "F2S4_170405_060_A01           209.0  ...    0.0   0.0   49.0     0.0   160.0   \n",
       "F2S4_170405_060_B01           202.0  ...   75.0   0.0   87.0     0.0   128.0   \n",
       "F2S4_170405_060_C01           127.0  ...  115.0   0.0  171.0     1.0    79.0   \n",
       "F2S4_170405_060_E01            75.0  ...    0.0   0.0  141.0     0.0     0.0   \n",
       "F2S4_170405_060_H01           175.0  ...    0.0   0.0  149.0   226.0   462.0   \n",
       "\n",
       "                      Zyx  Zzef1   Zzz3     a  l7Rn6  \n",
       "F1S4_160106_001_B01   0.0    1.0  306.0   0.0  374.0  \n",
       "F1S4_160106_001_C01   0.0    8.0  341.0   0.0  189.0  \n",
       "F1S4_160106_001_E01  72.0  197.0  296.0   2.0   33.0  \n",
       "F1S4_160106_001_G01   0.0   58.0  206.0  28.0   97.0  \n",
       "F1S4_160106_001_H01  10.0  169.0    0.0  12.0    0.0  \n",
       "...                   ...    ...    ...   ...    ...  \n",
       "F2S4_170405_060_A01  51.0   46.0  352.0   0.0   76.0  \n",
       "F2S4_170405_060_B01  72.0   22.0  370.0   1.0   69.0  \n",
       "F2S4_170405_060_C01  23.0    0.0  113.0  26.0    0.0  \n",
       "F2S4_170405_060_E01  62.0  316.0  187.0   0.0    0.0  \n",
       "F2S4_170405_060_H01   4.0  203.0  184.0   1.0   73.0  \n",
       "\n",
       "[14055 rows x 16024 columns]"
      ]
     },
     "execution_count": 4,
     "metadata": {},
     "output_type": "execute_result"
    }
   ],
   "source": [
    "# MTG dataset\n",
    "ds['MTG'].to_df()"
   ]
  },
  {
   "cell_type": "code",
   "execution_count": null,
   "metadata": {},
   "outputs": [
    {
     "data": {
      "text/html": [
       "<div>\n",
       "<style scoped>\n",
       "    .dataframe tbody tr th:only-of-type {\n",
       "        vertical-align: middle;\n",
       "    }\n",
       "\n",
       "    .dataframe tbody tr th {\n",
       "        vertical-align: top;\n",
       "    }\n",
       "\n",
       "    .dataframe thead th {\n",
       "        text-align: right;\n",
       "    }\n",
       "</style>\n",
       "<table border=\"1\" class=\"dataframe\">\n",
       "  <thead>\n",
       "    <tr style=\"text-align: right;\">\n",
       "      <th></th>\n",
       "      <th>X0610007P14Rik</th>\n",
       "      <th>X0610009O20Rik</th>\n",
       "      <th>X0610010F05Rik</th>\n",
       "      <th>X0610011F06Rik</th>\n",
       "      <th>X0610030E20Rik</th>\n",
       "      <th>X0610037L13Rik</th>\n",
       "      <th>X0610040J01Rik</th>\n",
       "      <th>X1110001J03Rik</th>\n",
       "      <th>X1110004E09Rik</th>\n",
       "      <th>X1110004F10Rik</th>\n",
       "      <th>...</th>\n",
       "      <th>Zwint</th>\n",
       "      <th>Zxdb</th>\n",
       "      <th>Zxdc</th>\n",
       "      <th>Zyg11a</th>\n",
       "      <th>Zyg11b</th>\n",
       "      <th>Zyx</th>\n",
       "      <th>Zzef1</th>\n",
       "      <th>Zzz3</th>\n",
       "      <th>a</th>\n",
       "      <th>l7Rn6</th>\n",
       "    </tr>\n",
       "  </thead>\n",
       "  <tbody>\n",
       "    <tr>\n",
       "      <th>F1S4_180124_314_A01</th>\n",
       "      <td>80.0</td>\n",
       "      <td>11.0</td>\n",
       "      <td>135.0</td>\n",
       "      <td>32.0</td>\n",
       "      <td>0.0</td>\n",
       "      <td>31.0</td>\n",
       "      <td>1.0</td>\n",
       "      <td>49.0</td>\n",
       "      <td>22.0</td>\n",
       "      <td>204.0</td>\n",
       "      <td>...</td>\n",
       "      <td>3190.0</td>\n",
       "      <td>0.0</td>\n",
       "      <td>17.0</td>\n",
       "      <td>0.0</td>\n",
       "      <td>96.0</td>\n",
       "      <td>0.0</td>\n",
       "      <td>0.0</td>\n",
       "      <td>45.0</td>\n",
       "      <td>0.0</td>\n",
       "      <td>73.0</td>\n",
       "    </tr>\n",
       "    <tr>\n",
       "      <th>F1S4_180124_315_A01</th>\n",
       "      <td>233.0</td>\n",
       "      <td>37.0</td>\n",
       "      <td>183.0</td>\n",
       "      <td>114.0</td>\n",
       "      <td>0.0</td>\n",
       "      <td>189.0</td>\n",
       "      <td>0.0</td>\n",
       "      <td>244.0</td>\n",
       "      <td>23.0</td>\n",
       "      <td>484.0</td>\n",
       "      <td>...</td>\n",
       "      <td>4832.0</td>\n",
       "      <td>28.0</td>\n",
       "      <td>33.0</td>\n",
       "      <td>0.0</td>\n",
       "      <td>179.0</td>\n",
       "      <td>0.0</td>\n",
       "      <td>0.0</td>\n",
       "      <td>83.0</td>\n",
       "      <td>0.0</td>\n",
       "      <td>127.0</td>\n",
       "    </tr>\n",
       "    <tr>\n",
       "      <th>F1S4_180124_315_B01</th>\n",
       "      <td>142.0</td>\n",
       "      <td>4.0</td>\n",
       "      <td>129.0</td>\n",
       "      <td>9.0</td>\n",
       "      <td>14.0</td>\n",
       "      <td>73.0</td>\n",
       "      <td>0.0</td>\n",
       "      <td>196.0</td>\n",
       "      <td>57.0</td>\n",
       "      <td>479.0</td>\n",
       "      <td>...</td>\n",
       "      <td>3487.0</td>\n",
       "      <td>29.0</td>\n",
       "      <td>4.0</td>\n",
       "      <td>0.0</td>\n",
       "      <td>124.0</td>\n",
       "      <td>33.0</td>\n",
       "      <td>37.0</td>\n",
       "      <td>21.0</td>\n",
       "      <td>0.0</td>\n",
       "      <td>93.0</td>\n",
       "    </tr>\n",
       "    <tr>\n",
       "      <th>F1S4_180124_315_C01</th>\n",
       "      <td>54.0</td>\n",
       "      <td>1.0</td>\n",
       "      <td>28.0</td>\n",
       "      <td>40.0</td>\n",
       "      <td>17.0</td>\n",
       "      <td>67.0</td>\n",
       "      <td>0.0</td>\n",
       "      <td>55.0</td>\n",
       "      <td>36.0</td>\n",
       "      <td>388.0</td>\n",
       "      <td>...</td>\n",
       "      <td>3891.0</td>\n",
       "      <td>13.0</td>\n",
       "      <td>0.0</td>\n",
       "      <td>0.0</td>\n",
       "      <td>98.0</td>\n",
       "      <td>0.0</td>\n",
       "      <td>5.0</td>\n",
       "      <td>18.0</td>\n",
       "      <td>0.0</td>\n",
       "      <td>135.0</td>\n",
       "    </tr>\n",
       "    <tr>\n",
       "      <th>F1S4_180124_315_D01</th>\n",
       "      <td>139.0</td>\n",
       "      <td>0.0</td>\n",
       "      <td>22.0</td>\n",
       "      <td>117.0</td>\n",
       "      <td>10.0</td>\n",
       "      <td>105.0</td>\n",
       "      <td>0.0</td>\n",
       "      <td>91.0</td>\n",
       "      <td>70.0</td>\n",
       "      <td>579.0</td>\n",
       "      <td>...</td>\n",
       "      <td>4537.0</td>\n",
       "      <td>0.0</td>\n",
       "      <td>0.0</td>\n",
       "      <td>0.0</td>\n",
       "      <td>93.0</td>\n",
       "      <td>26.0</td>\n",
       "      <td>22.0</td>\n",
       "      <td>29.0</td>\n",
       "      <td>0.0</td>\n",
       "      <td>81.0</td>\n",
       "    </tr>\n",
       "    <tr>\n",
       "      <th>...</th>\n",
       "      <td>...</td>\n",
       "      <td>...</td>\n",
       "      <td>...</td>\n",
       "      <td>...</td>\n",
       "      <td>...</td>\n",
       "      <td>...</td>\n",
       "      <td>...</td>\n",
       "      <td>...</td>\n",
       "      <td>...</td>\n",
       "      <td>...</td>\n",
       "      <td>...</td>\n",
       "      <td>...</td>\n",
       "      <td>...</td>\n",
       "      <td>...</td>\n",
       "      <td>...</td>\n",
       "      <td>...</td>\n",
       "      <td>...</td>\n",
       "      <td>...</td>\n",
       "      <td>...</td>\n",
       "      <td>...</td>\n",
       "      <td>...</td>\n",
       "    </tr>\n",
       "    <tr>\n",
       "      <th>FJS4_170511_008_A01</th>\n",
       "      <td>196.0</td>\n",
       "      <td>1.0</td>\n",
       "      <td>140.0</td>\n",
       "      <td>162.0</td>\n",
       "      <td>14.0</td>\n",
       "      <td>146.0</td>\n",
       "      <td>0.0</td>\n",
       "      <td>178.0</td>\n",
       "      <td>125.0</td>\n",
       "      <td>447.0</td>\n",
       "      <td>...</td>\n",
       "      <td>3313.0</td>\n",
       "      <td>0.0</td>\n",
       "      <td>4.0</td>\n",
       "      <td>0.0</td>\n",
       "      <td>349.0</td>\n",
       "      <td>8.0</td>\n",
       "      <td>40.0</td>\n",
       "      <td>129.0</td>\n",
       "      <td>7.0</td>\n",
       "      <td>210.0</td>\n",
       "    </tr>\n",
       "    <tr>\n",
       "      <th>FJS4_170511_008_D01</th>\n",
       "      <td>122.0</td>\n",
       "      <td>17.0</td>\n",
       "      <td>288.0</td>\n",
       "      <td>120.0</td>\n",
       "      <td>126.0</td>\n",
       "      <td>113.0</td>\n",
       "      <td>0.0</td>\n",
       "      <td>49.0</td>\n",
       "      <td>146.0</td>\n",
       "      <td>268.0</td>\n",
       "      <td>...</td>\n",
       "      <td>1322.0</td>\n",
       "      <td>0.0</td>\n",
       "      <td>47.0</td>\n",
       "      <td>0.0</td>\n",
       "      <td>418.0</td>\n",
       "      <td>20.0</td>\n",
       "      <td>62.0</td>\n",
       "      <td>0.0</td>\n",
       "      <td>0.0</td>\n",
       "      <td>222.0</td>\n",
       "    </tr>\n",
       "    <tr>\n",
       "      <th>FJS4_170511_008_G01</th>\n",
       "      <td>196.0</td>\n",
       "      <td>2.0</td>\n",
       "      <td>273.0</td>\n",
       "      <td>99.0</td>\n",
       "      <td>24.0</td>\n",
       "      <td>242.0</td>\n",
       "      <td>0.0</td>\n",
       "      <td>194.0</td>\n",
       "      <td>69.0</td>\n",
       "      <td>612.0</td>\n",
       "      <td>...</td>\n",
       "      <td>2957.0</td>\n",
       "      <td>49.0</td>\n",
       "      <td>60.0</td>\n",
       "      <td>0.0</td>\n",
       "      <td>527.0</td>\n",
       "      <td>24.0</td>\n",
       "      <td>123.0</td>\n",
       "      <td>75.0</td>\n",
       "      <td>0.0</td>\n",
       "      <td>485.0</td>\n",
       "    </tr>\n",
       "    <tr>\n",
       "      <th>FJS4_170511_008_H01</th>\n",
       "      <td>353.0</td>\n",
       "      <td>25.0</td>\n",
       "      <td>326.0</td>\n",
       "      <td>1.0</td>\n",
       "      <td>0.0</td>\n",
       "      <td>42.0</td>\n",
       "      <td>21.0</td>\n",
       "      <td>122.0</td>\n",
       "      <td>76.0</td>\n",
       "      <td>362.0</td>\n",
       "      <td>...</td>\n",
       "      <td>2992.0</td>\n",
       "      <td>8.0</td>\n",
       "      <td>0.0</td>\n",
       "      <td>0.0</td>\n",
       "      <td>468.0</td>\n",
       "      <td>0.0</td>\n",
       "      <td>91.0</td>\n",
       "      <td>46.0</td>\n",
       "      <td>0.0</td>\n",
       "      <td>166.0</td>\n",
       "    </tr>\n",
       "    <tr>\n",
       "      <th>FJS4_170511_012_E01</th>\n",
       "      <td>0.0</td>\n",
       "      <td>41.0</td>\n",
       "      <td>389.0</td>\n",
       "      <td>68.0</td>\n",
       "      <td>74.0</td>\n",
       "      <td>29.0</td>\n",
       "      <td>0.0</td>\n",
       "      <td>100.0</td>\n",
       "      <td>64.0</td>\n",
       "      <td>498.0</td>\n",
       "      <td>...</td>\n",
       "      <td>3863.0</td>\n",
       "      <td>16.0</td>\n",
       "      <td>25.0</td>\n",
       "      <td>0.0</td>\n",
       "      <td>218.0</td>\n",
       "      <td>0.0</td>\n",
       "      <td>39.0</td>\n",
       "      <td>28.0</td>\n",
       "      <td>0.0</td>\n",
       "      <td>380.0</td>\n",
       "    </tr>\n",
       "  </tbody>\n",
       "</table>\n",
       "<p>8128 rows × 16024 columns</p>\n",
       "</div>"
      ],
      "text/plain": [
       "                     X0610007P14Rik  X0610009O20Rik  X0610010F05Rik  \\\n",
       "F1S4_180124_314_A01            80.0            11.0           135.0   \n",
       "F1S4_180124_315_A01           233.0            37.0           183.0   \n",
       "F1S4_180124_315_B01           142.0             4.0           129.0   \n",
       "F1S4_180124_315_C01            54.0             1.0            28.0   \n",
       "F1S4_180124_315_D01           139.0             0.0            22.0   \n",
       "...                             ...             ...             ...   \n",
       "FJS4_170511_008_A01           196.0             1.0           140.0   \n",
       "FJS4_170511_008_D01           122.0            17.0           288.0   \n",
       "FJS4_170511_008_G01           196.0             2.0           273.0   \n",
       "FJS4_170511_008_H01           353.0            25.0           326.0   \n",
       "FJS4_170511_012_E01             0.0            41.0           389.0   \n",
       "\n",
       "                     X0610011F06Rik  X0610030E20Rik  X0610037L13Rik  \\\n",
       "F1S4_180124_314_A01            32.0             0.0            31.0   \n",
       "F1S4_180124_315_A01           114.0             0.0           189.0   \n",
       "F1S4_180124_315_B01             9.0            14.0            73.0   \n",
       "F1S4_180124_315_C01            40.0            17.0            67.0   \n",
       "F1S4_180124_315_D01           117.0            10.0           105.0   \n",
       "...                             ...             ...             ...   \n",
       "FJS4_170511_008_A01           162.0            14.0           146.0   \n",
       "FJS4_170511_008_D01           120.0           126.0           113.0   \n",
       "FJS4_170511_008_G01            99.0            24.0           242.0   \n",
       "FJS4_170511_008_H01             1.0             0.0            42.0   \n",
       "FJS4_170511_012_E01            68.0            74.0            29.0   \n",
       "\n",
       "                     X0610040J01Rik  X1110001J03Rik  X1110004E09Rik  \\\n",
       "F1S4_180124_314_A01             1.0            49.0            22.0   \n",
       "F1S4_180124_315_A01             0.0           244.0            23.0   \n",
       "F1S4_180124_315_B01             0.0           196.0            57.0   \n",
       "F1S4_180124_315_C01             0.0            55.0            36.0   \n",
       "F1S4_180124_315_D01             0.0            91.0            70.0   \n",
       "...                             ...             ...             ...   \n",
       "FJS4_170511_008_A01             0.0           178.0           125.0   \n",
       "FJS4_170511_008_D01             0.0            49.0           146.0   \n",
       "FJS4_170511_008_G01             0.0           194.0            69.0   \n",
       "FJS4_170511_008_H01            21.0           122.0            76.0   \n",
       "FJS4_170511_012_E01             0.0           100.0            64.0   \n",
       "\n",
       "                     X1110004F10Rik  ...   Zwint  Zxdb  Zxdc  Zyg11a  Zyg11b  \\\n",
       "F1S4_180124_314_A01           204.0  ...  3190.0   0.0  17.0     0.0    96.0   \n",
       "F1S4_180124_315_A01           484.0  ...  4832.0  28.0  33.0     0.0   179.0   \n",
       "F1S4_180124_315_B01           479.0  ...  3487.0  29.0   4.0     0.0   124.0   \n",
       "F1S4_180124_315_C01           388.0  ...  3891.0  13.0   0.0     0.0    98.0   \n",
       "F1S4_180124_315_D01           579.0  ...  4537.0   0.0   0.0     0.0    93.0   \n",
       "...                             ...  ...     ...   ...   ...     ...     ...   \n",
       "FJS4_170511_008_A01           447.0  ...  3313.0   0.0   4.0     0.0   349.0   \n",
       "FJS4_170511_008_D01           268.0  ...  1322.0   0.0  47.0     0.0   418.0   \n",
       "FJS4_170511_008_G01           612.0  ...  2957.0  49.0  60.0     0.0   527.0   \n",
       "FJS4_170511_008_H01           362.0  ...  2992.0   8.0   0.0     0.0   468.0   \n",
       "FJS4_170511_012_E01           498.0  ...  3863.0  16.0  25.0     0.0   218.0   \n",
       "\n",
       "                      Zyx  Zzef1   Zzz3    a  l7Rn6  \n",
       "F1S4_180124_314_A01   0.0    0.0   45.0  0.0   73.0  \n",
       "F1S4_180124_315_A01   0.0    0.0   83.0  0.0  127.0  \n",
       "F1S4_180124_315_B01  33.0   37.0   21.0  0.0   93.0  \n",
       "F1S4_180124_315_C01   0.0    5.0   18.0  0.0  135.0  \n",
       "F1S4_180124_315_D01  26.0   22.0   29.0  0.0   81.0  \n",
       "...                   ...    ...    ...  ...    ...  \n",
       "FJS4_170511_008_A01   8.0   40.0  129.0  7.0  210.0  \n",
       "FJS4_170511_008_D01  20.0   62.0    0.0  0.0  222.0  \n",
       "FJS4_170511_008_G01  24.0  123.0   75.0  0.0  485.0  \n",
       "FJS4_170511_008_H01   0.0   91.0   46.0  0.0  166.0  \n",
       "FJS4_170511_012_E01   0.0   39.0   28.0  0.0  380.0  \n",
       "\n",
       "[8128 rows x 16024 columns]"
      ]
     },
     "execution_count": 5,
     "metadata": {},
     "output_type": "execute_result"
    }
   ],
   "source": [
    "# ALM dataset\n",
    "ds['ALM'].to_df()"
   ]
  },
  {
   "cell_type": "markdown",
   "metadata": {},
   "source": [
    "Sample run annotating MTG given ALM as reference"
   ]
  },
  {
   "cell_type": "code",
   "execution_count": null,
   "metadata": {},
   "outputs": [
    {
     "name": "stderr",
     "output_type": "stream",
     "text": [
      "[refcm           ] [INFO    ] : NOTE: raw counts expected in anndata .X attributes.\n",
      "[refcm           ] [DEBUG   ] : Loading cached mapping costs from ../src/cache.json.\n",
      "[embeddings      ] [DEBUG   ] : Using 1948 genes.\n",
      "[refcm           ] [DEBUG   ] : Computing Wasserstein distances.\n",
      "|████████████████| [100.00% ] : 00:28\n",
      "[refcm           ] [DEBUG   ] : Saving mapping costs to ../src/cache.json.\n",
      "[refcm           ] [DEBUG   ] : starting LP optimization\n",
      "[refcm           ] [DEBUG   ] : optimization terminated w. status \"Optimal\"\n",
      "[matchings       ] [DEBUG   ] : \u001b[32m[+|1.00]\u001b[0m Astrocyte            mapped to Astrocyte           \n",
      "[matchings       ] [DEBUG   ] : \u001b[32m[+|1.00]\u001b[0m Chandelier           mapped to Chandelier          \n",
      "[matchings       ] [DEBUG   ] : \u001b[32m[+|1.00]\u001b[0m Exc L2/3 IT          mapped to Exc L2/3 IT         \n",
      "[matchings       ] [DEBUG   ] : \u001b[32m[+|1.00]\u001b[0m Exc L3/5 IT          mapped to Exc L3/5 IT         \n",
      "[matchings       ] [DEBUG   ] : \u001b[32m[+|1.00]\u001b[0m Exc L4/5 IT          mapped to Exc L4/5 IT         \n",
      "[matchings       ] [DEBUG   ] : \u001b[32m[+|1.00]\u001b[0m Exc L5 PT            mapped to Exc L5 PT           \n",
      "[matchings       ] [DEBUG   ] : \u001b[32m[+|1.00]\u001b[0m Exc L5/6 IT 1        mapped to Exc L5/6 IT 1       \n",
      "[matchings       ] [DEBUG   ] : \u001b[32m[+|1.00]\u001b[0m Exc L5/6 IT 2        mapped to Exc L5/6 IT 2       \n",
      "[matchings       ] [DEBUG   ] : \u001b[32m[+|1.00]\u001b[0m Exc L5/6 IT 3        mapped to Exc L5/6 IT 3       \n",
      "[matchings       ] [DEBUG   ] : \u001b[32m[+|1.00]\u001b[0m Exc L5/6 NP          mapped to Exc L5/6 NP         \n",
      "[matchings       ] [DEBUG   ] : \u001b[32m[+|1.00]\u001b[0m Exc L6 CT            mapped to Exc L6 CT           \n",
      "[matchings       ] [DEBUG   ] : \u001b[32m[+|1.00]\u001b[0m Exc L6 IT 1          mapped to Exc L6 IT 1         \n",
      "[matchings       ] [DEBUG   ] : \u001b[32m[+|1.00]\u001b[0m Exc L6 IT 2          mapped to Exc L6 IT 2         \n",
      "[matchings       ] [DEBUG   ] : \u001b[32m[+|1.00]\u001b[0m Exc L6b              mapped to Exc L6b             \n",
      "[matchings       ] [DEBUG   ] : \u001b[32m[+|1.00]\u001b[0m Lamp5 1              mapped to Lamp5 1             \n",
      "[matchings       ] [DEBUG   ] : \u001b[32m[+|1.00]\u001b[0m Lamp5 2              mapped to Lamp5 2             \n",
      "[matchings       ] [DEBUG   ] : \u001b[32m[+|1.00]\u001b[0m Lamp5 Lhx6           mapped to Lamp5 Lhx6          \n",
      "[matchings       ] [DEBUG   ] : \u001b[32m[+|1.00]\u001b[0m Lamp5 Rosehip        mapped to Lamp5 Rosehip       \n",
      "[matchings       ] [DEBUG   ] : \u001b[32m[+|1.00]\u001b[0m Oligo                mapped to Oligo               \n",
      "[matchings       ] [DEBUG   ] : \u001b[32m[+|1.00]\u001b[0m Pax6                 mapped to Pax6                \n",
      "[matchings       ] [DEBUG   ] : \u001b[32m[+|1.00]\u001b[0m Pvalb 1              mapped to Pvalb 1             \n",
      "[matchings       ] [DEBUG   ] : \u001b[32m[+|1.00]\u001b[0m Pvalb 2              mapped to Pvalb 2             \n",
      "[matchings       ] [DEBUG   ] : \u001b[32m[+|1.00]\u001b[0m Sst 1                mapped to Sst 1               \n",
      "[matchings       ] [DEBUG   ] : \u001b[32m[+|1.00]\u001b[0m Sst 2                mapped to Sst 2               \n",
      "[matchings       ] [DEBUG   ] : \u001b[32m[+|1.00]\u001b[0m Sst 3                mapped to Sst 3               \n",
      "[matchings       ] [DEBUG   ] : \u001b[32m[+|1.00]\u001b[0m Sst 4                mapped to Sst 4               \n",
      "[matchings       ] [DEBUG   ] : \u001b[32m[+|1.00]\u001b[0m Sst 5                mapped to Sst 5               \n",
      "[matchings       ] [DEBUG   ] : \u001b[32m[+|1.00]\u001b[0m Sst Chodl            mapped to Sst Chodl           \n",
      "[matchings       ] [DEBUG   ] : \u001b[32m[+|1.00]\u001b[0m Vip 1                mapped to Vip 1               \n",
      "[matchings       ] [DEBUG   ] : \u001b[32m[+|1.00]\u001b[0m Vip 2                mapped to Vip 2               \n",
      "[matchings       ] [DEBUG   ] : \u001b[32m[+|1.00]\u001b[0m Vip 3                mapped to Vip 3               \n",
      "[matchings       ] [DEBUG   ] : \u001b[32m[+|1.00]\u001b[0m Vip 4                mapped to Vip 4               \n",
      "[matchings       ] [DEBUG   ] : \u001b[32m[+|1.00]\u001b[0m Vip 5                mapped to Vip 5               \n",
      "[matchings       ] [DEBUG   ] : \u001b[32m[+|1.00]\u001b[0m Vip Sncg             mapped to Vip Sncg            \n",
      "[matchings       ] [INFO    ] : MTG                  to ALM                 \n",
      "[matchings       ] [INFO    ] : 34    common cell types\n",
      "[matchings       ] [INFO    ] : 34/34 correct   links\n",
      "[matchings       ] [INFO    ] : 0     incorrect links\n"
     ]
    },
    {
     "data": {
      "application/vnd.plotly.v1+json": {
       "config": {
        "plotlyServerURL": "https://plot.ly"
       },
       "data": [
        {
         "coloraxis": "coloraxis",
         "hovertemplate": "Reference: ALM: %{x}<br>Query: MTG: %{y}<br>cost: %{z}<extra></extra>",
         "name": "0",
         "type": "heatmap",
         "x": [
          "Astrocyte",
          "Chandelier",
          "Exc L2/3 IT",
          "Exc L3/5 IT",
          "Exc L4/5 IT",
          "Exc L5 PT",
          "Exc L5/6 IT 1",
          "Exc L5/6 IT 2",
          "Exc L5/6 IT 3",
          "Exc L5/6 NP",
          "Exc L6 CT",
          "Exc L6 IT 1",
          "Exc L6 IT 2",
          "Exc L6b",
          "Lamp5 1",
          "Lamp5 2",
          "Lamp5 Lhx6",
          "Lamp5 Rosehip",
          "Oligo",
          "Pax6",
          "Pvalb 1",
          "Pvalb 2",
          "Sst 1",
          "Sst 2",
          "Sst 3",
          "Sst 4",
          "Sst 5",
          "Sst Chodl",
          "Vip 1",
          "Vip 2",
          "Vip 3",
          "Vip 4",
          "Vip 5",
          "Vip Sncg"
         ],
         "xaxis": "x",
         "y": [
          "Astrocyte",
          "Chandelier",
          "Exc L2/3 IT",
          "Exc L3/5 IT",
          "Exc L4/5 IT",
          "Exc L5 PT",
          "Exc L5/6 IT 1",
          "Exc L5/6 IT 2",
          "Exc L5/6 IT 3",
          "Exc L5/6 NP",
          "Exc L6 CT",
          "Exc L6 IT 1",
          "Exc L6 IT 2",
          "Exc L6b",
          "Lamp5 1",
          "Lamp5 2",
          "Lamp5 Lhx6",
          "Lamp5 Rosehip",
          "Oligo",
          "Pax6",
          "Pvalb 1",
          "Pvalb 2",
          "Sst 1",
          "Sst 2",
          "Sst 3",
          "Sst 4",
          "Sst 5",
          "Sst Chodl",
          "Vip 1",
          "Vip 2",
          "Vip 3",
          "Vip 4",
          "Vip 5",
          "Vip Sncg"
         ],
         "yaxis": "y",
         "z": [
          [
           -0.6317373759710345,
           -0.1657250126093015,
           -0.2793098338578315,
           -0.30004662635821044,
           -0.2376887607080141,
           -0.3149234561135014,
           -0.2878829646211074,
           -0.27326716121468725,
           -0.24031983349887248,
           -0.1219135517350526,
           -0.13482950016906906,
           -0.14714490136160416,
           -0.2192211665968184,
           -0.1448668851278531,
           -0.14649126391536324,
           -0.2214155822360865,
           -0.14783714313242,
           -0.15599921774036643,
           -0.11679159453099307,
           -0.17989465439744337,
           -0.1443493524260532,
           -0.1404058332528296,
           -0.09832751918088897,
           -0.16272714909284505,
           -0.14109527737346042,
           -0.13779879725383357,
           -0.18157021528344533,
           -0.15409084531036787,
           -0.16500320350066155,
           -0.23033733578260143,
           -0.22794168750780608,
           -0.17426630296882586,
           -0.19061886288756685,
           -0.20341371901147248
          ],
          [
           -0.08487658008791302,
           -0.655344235752391,
           -0.5675523612276949,
           -0.5777049359189861,
           -0.5320213298176493,
           -0.6096627686462973,
           -0.5690218204883917,
           -0.5664421967547492,
           -0.5159593604332002,
           -0.41636065854886606,
           -0.37836457056445305,
           -0.41117629284830565,
           -0.5075930304073615,
           -0.3891562175343303,
           -0.5512124091018031,
           -0.5971737455774059,
           -0.5625109530824745,
           -0.5501477253378861,
           -0.042200219040765506,
           -0.5654827891628796,
           -0.5560144202833323,
           -0.6063014025706611,
           -0.48617175986622885,
           -0.5711024764595202,
           -0.5546770475132935,
           -0.5474167345010272,
           -0.5981167989698284,
           -0.4778527711203135,
           -0.5266160885016717,
           -0.6139732407727928,
           -0.6249745963899305,
           -0.5487782459981413,
           -0.5773012722798592,
           -0.5503841892136785
          ],
          [
           -0.11240829603768493,
           -0.427206501219644,
           -0.881577094754742,
           -0.8392041572378323,
           -0.8032427765401113,
           -0.8442554886794771,
           -0.8364008452022743,
           -0.8166907735382718,
           -0.7762921030746687,
           -0.5556377261947559,
           -0.6033778924648285,
           -0.6616494391091718,
           -0.7805000225929725,
           -0.545386996875265,
           -0.459868513477217,
           -0.5841618561760815,
           -0.4355110197126925,
           -0.45696921343826863,
           -0.08083208469332254,
           -0.5033247171124199,
           -0.4451362757788106,
           -0.4395239911671385,
           -0.44869481642278886,
           -0.5037043469973553,
           -0.49453859579559806,
           -0.47822505590323505,
           -0.5324736843863688,
           -0.4515083021225633,
           -0.5181182067787768,
           -0.6038281807289935,
           -0.5997053235958261,
           -0.5491472719025082,
           -0.5375075941918208,
           -0.5345822489243709
          ],
          [
           -0.18728270615946738,
           -0.5087009771899007,
           -0.8946470251431352,
           -0.9196483060011978,
           -0.8603389909192856,
           -0.9002879629111459,
           -0.9046327434709639,
           -0.8801157921752486,
           -0.8128744773369108,
           -0.6251069130792243,
           -0.6266978045946359,
           -0.6929141299638599,
           -0.7989985248436801,
           -0.6045094025757339,
           -0.5296431808172286,
           -0.6409244832027786,
           -0.4965423399815813,
           -0.523722655541905,
           -0.1311337828128049,
           -0.5665584045954704,
           -0.5113762047479626,
           -0.518588944148889,
           -0.509517804979372,
           -0.5742641147128165,
           -0.5737607698083972,
           -0.5452713116632599,
           -0.5932567038962534,
           -0.5171932179876619,
           -0.5827085465270514,
           -0.6529022827536293,
           -0.6440053387859905,
           -0.5936698916831391,
           -0.5741673425928815,
           -0.5807484339845339
          ],
          [
           -0.03918851764980928,
           -0.35349148908601774,
           -0.7019177491991155,
           -0.7196687468946885,
           -0.6908404753305083,
           -0.6995999039616607,
           -0.7126239894339175,
           -0.7083811682262053,
           -0.6631324203554467,
           -0.4783386826071384,
           -0.5067191325610974,
           -0.5516359829163829,
           -0.6488568770842686,
           -0.47277969373789464,
           -0.3652262269973224,
           -0.4701957427862695,
           -0.3444428840519689,
           -0.3576775987098588,
           -0.0032908031711050864,
           -0.4069983274021474,
           -0.37412380698540504,
           -0.36706663927881183,
           -0.3665850945891411,
           -0.4189356143601896,
           -0.4184599420540347,
           -0.39582135226723225,
           -0.45055484253112466,
           -0.3929298401213099,
           -0.42130779904741106,
           -0.4969084102089749,
           -0.4926605751073821,
           -0.4403109317870916,
           -0.43244077245209417,
           -0.43618605947066613
          ],
          [
           -0.21925104722100255,
           -0.5614310788230893,
           -0.9076829145836911,
           -0.929137298264964,
           -0.8506573809957514,
           -1,
           -0.9093759813966948,
           -0.9133825233223332,
           -0.8633953841925821,
           -0.6795460733346037,
           -0.7013757737679992,
           -0.744179298567489,
           -0.8497060961798208,
           -0.6638408535387371,
           -0.5727726045709308,
           -0.6880409983383531,
           -0.5586032135458454,
           -0.569415053670073,
           -0.16767771256381625,
           -0.6132572076026788,
           -0.5586304658098298,
           -0.5536852349857943,
           -0.5452531484785014,
           -0.6183806954395111,
           -0.6163415216227005,
           -0.606671145727425,
           -0.6374314631110087,
           -0.5762439871177193,
           -0.6051262766901079,
           -0.6998911740164979,
           -0.699046403428902,
           -0.6379466404247994,
           -0.6298122703951591,
           -0.6321433214792258
          ],
          [
           -0.007171091664915439,
           -0.33299748167880405,
           -0.7082193779836642,
           -0.7275038288013682,
           -0.6900192778347274,
           -0.6919487357807604,
           -0.730963746793383,
           -0.6999583131425401,
           -0.6666066520073713,
           -0.4646174619275568,
           -0.5078867357282452,
           -0.5628552047622826,
           -0.6519925584503804,
           -0.46111946679182536,
           -0.3675245394021383,
           -0.4734196830058418,
           -0.3353070111209057,
           -0.3510690312489549,
           0,
           -0.39779806236102666,
           -0.34748100446541924,
           -0.337030576434278,
           -0.34147716805325806,
           -0.3985226000462753,
           -0.40866504585692354,
           -0.3722291357260873,
           -0.409834551482043,
           -0.37319988344128713,
           -0.43357350518204224,
           -0.5043808585377807,
           -0.5002354127034051,
           -0.4390299836098934,
           -0.4214969001477728,
           -0.42922036845856965
          ],
          [
           -0.12662610285033085,
           -0.4558929887251013,
           -0.8386181358555653,
           -0.8747964350812112,
           -0.8274754528979844,
           -0.8629031366034726,
           -0.8654861832276411,
           -0.8712811391808204,
           -0.8129030269719375,
           -0.6183974636065191,
           -0.6456756697699865,
           -0.6834574627788615,
           -0.7849562770780614,
           -0.608257071341221,
           -0.4938846040020075,
           -0.6049741066715062,
           -0.4496626986667045,
           -0.48002502358696797,
           -0.08792298347592988,
           -0.513425763002024,
           -0.4609568864460094,
           -0.46424049402230594,
           -0.4720406058055861,
           -0.5390304426701531,
           -0.5308670306250114,
           -0.5096326313712072,
           -0.5592150401727707,
           -0.496652843803078,
           -0.5443411542977179,
           -0.616489512719522,
           -0.6035192759692746,
           -0.5603414578021305,
           -0.5371842659861668,
           -0.5420036355012802
          ],
          [
           -0.08681081240131758,
           -0.4415297517193094,
           -0.7954068331421279,
           -0.8143115304242162,
           -0.776514954977552,
           -0.8083000981350522,
           -0.806945231177486,
           -0.8182198774498527,
           -0.7838676166336322,
           -0.5631416016602375,
           -0.6038817682366542,
           -0.6591914891350679,
           -0.7658008763348407,
           -0.559945247576826,
           -0.45002579097683565,
           -0.5638647706493924,
           -0.4251791934582405,
           -0.43953667229250676,
           -0.06548616010759972,
           -0.4839277260483923,
           -0.4364342405183818,
           -0.43284874090803227,
           -0.4296691253029428,
           -0.49841413110933297,
           -0.4975869441034269,
           -0.46403187593734074,
           -0.5209881666498806,
           -0.46957583909889505,
           -0.5041304644037903,
           -0.5858720731219922,
           -0.5804038523024142,
           -0.5208070307987688,
           -0.5126914896357193,
           -0.5141345696632845
          ],
          [
           -0.07244590958337317,
           -0.4047950359743485,
           -0.6891117087396106,
           -0.7189261638802118,
           -0.6618120189420245,
           -0.7321342357121395,
           -0.7100809793042759,
           -0.7153625072477023,
           -0.6753197781203368,
           -0.6290894235948724,
           -0.5529872369137373,
           -0.5595610569016495,
           -0.6466117270113332,
           -0.551248816974577,
           -0.4323295997401804,
           -0.5133154890233484,
           -0.39120842769752334,
           -0.4139131507863451,
           -0.05871158747873894,
           -0.4411456557025267,
           -0.39157645218182396,
           -0.40413733246714584,
           -0.41944328218861976,
           -0.4894582561842489,
           -0.4764394902873362,
           -0.4591571134281272,
           -0.5004644616024434,
           -0.46860819949314025,
           -0.4673964804355698,
           -0.5548137424693864,
           -0.5375751819979583,
           -0.4971204957266645,
           -0.47687544809728083,
           -0.4651192665120329
          ],
          [
           -0.1178319393990703,
           -0.4589409662510055,
           -0.8346149845356118,
           -0.844330545367061,
           -0.7883952707821171,
           -0.8680394582456699,
           -0.842944679771711,
           -0.8406669838745179,
           -0.8238480587777756,
           -0.6331366401163873,
           -0.7192885158577484,
           -0.7111737672796932,
           -0.8062720146711133,
           -0.6536946868774107,
           -0.5070244690399013,
           -0.612999662819078,
           -0.47564835927180554,
           -0.5056889752303776,
           -0.09772238247599316,
           -0.5271556901533365,
           -0.4502939366524058,
           -0.4554898259455896,
           -0.4567294150043828,
           -0.5353979966479029,
           -0.5193067342062515,
           -0.5103344751317831,
           -0.5550366058489583,
           -0.49706217356118065,
           -0.5322920890432095,
           -0.6205548174523838,
           -0.6142811571904938,
           -0.56319705758073,
           -0.541599444071276,
           -0.5478104976955104
          ],
          [
           -0.12137023393385074,
           -0.4793029495216097,
           -0.9051177316773537,
           -0.8921240124350165,
           -0.8455770790639004,
           -0.8931418063325294,
           -0.8894206300832314,
           -0.8819753687439453,
           -0.8604552941310122,
           -0.6188036400563769,
           -0.6885050584400804,
           -0.7604981541757786,
           -0.8634263772659874,
           -0.6398024542217153,
           -0.5114354512723136,
           -0.6329600587211193,
           -0.47339935917823367,
           -0.49568851355857874,
           -0.1035765855824198,
           -0.5452629750317434,
           -0.47845938307835906,
           -0.4713680929878692,
           -0.48283026417620595,
           -0.5535646438722455,
           -0.5468031116238307,
           -0.5233544088714058,
           -0.5699167769649406,
           -0.5080130383799382,
           -0.5548534156861152,
           -0.6432658145710782,
           -0.6391507123591778,
           -0.5815495594817457,
           -0.5770634485752069,
           -0.5817547686321025
          ],
          [
           -0.05127782947942477,
           -0.4351708249183711,
           -0.7906773877398672,
           -0.7783617262323285,
           -0.729980347863875,
           -0.7781824304438717,
           -0.7752734761509739,
           -0.7590908312100215,
           -0.7364043451336223,
           -0.5222846221457581,
           -0.5737578515260415,
           -0.6379867378127433,
           -0.7478557881879656,
           -0.5591293040025636,
           -0.45454318315128817,
           -0.5667015309475741,
           -0.4357971923728603,
           -0.4410927064031382,
           -0.07999206650519639,
           -0.49874217906595797,
           -0.41985393766986423,
           -0.41013419986919936,
           -0.4116692115361357,
           -0.4842219289439359,
           -0.4781835684892054,
           -0.45897000405632243,
           -0.49636996310595577,
           -0.46110502416764293,
           -0.5107504916355986,
           -0.5848245761333767,
           -0.5731680373562902,
           -0.5120408635527797,
           -0.5089114581450013,
           -0.5302293872440423
          ],
          [
           -0.18449281875211868,
           -0.5419671204939894,
           -0.9126003548381305,
           -0.911777038137699,
           -0.8516478027840501,
           -0.9271885653803792,
           -0.9064043676952978,
           -0.9009661961112254,
           -0.864347071192124,
           -0.681855178080079,
           -0.7390676056473079,
           -0.7619838899777978,
           -0.8569536339472734,
           -0.7432412174944667,
           -0.5824927528984549,
           -0.6918644111811425,
           -0.5506164283510859,
           -0.5794142243035306,
           -0.14405009947485622,
           -0.6095443431396762,
           -0.523419341411665,
           -0.5231338487663225,
           -0.5330187798173313,
           -0.6033170891173767,
           -0.5934927025635444,
           -0.5804342301315156,
           -0.6298787412658925,
           -0.5790763931343093,
           -0.6027265766765325,
           -0.7022234469107953,
           -0.6929307168137435,
           -0.6368821402948331,
           -0.6228589731852128,
           -0.6326871000610503
          ],
          [
           -0.10091812716403602,
           -0.5293066303827643,
           -0.5690343393729811,
           -0.5833908000524199,
           -0.5225516553286925,
           -0.618057138848577,
           -0.5708756794846286,
           -0.5679567571646171,
           -0.5112463692142262,
           -0.41272802952385246,
           -0.36904059265122313,
           -0.4307481339262887,
           -0.5066673439226835,
           -0.4206672800026237,
           -0.6481074830076712,
           -0.6883671842351801,
           -0.6017215240031334,
           -0.6247949448728632,
           -0.05113358826270789,
           -0.6394517015995275,
           -0.464430399609467,
           -0.5012558197029642,
           -0.470106091586485,
           -0.5395240381826011,
           -0.5315773022318078,
           -0.5037919157473122,
           -0.538869220920973,
           -0.4683905377060666,
           -0.5571573717895982,
           -0.6091013521220096,
           -0.6327742811649273,
           -0.553636856410946,
           -0.5615272832914776,
           -0.5849883405029845
          ],
          [
           -0.13356116621881028,
           -0.5427569221343431,
           -0.660061921773285,
           -0.6795989486492053,
           -0.6126143853487782,
           -0.701067104639285,
           -0.6777765607648226,
           -0.6479987203917595,
           -0.6146020807203031,
           -0.46743699664926736,
           -0.46196208192596383,
           -0.5261338774264533,
           -0.608514565953999,
           -0.4806076338104198,
           -0.6583797750542025,
           -0.7724225657830448,
           -0.5824109907071741,
           -0.6145007649841026,
           -0.08909085829239527,
           -0.6909299717133776,
           -0.5057912003557221,
           -0.5138598615393097,
           -0.5514188145457806,
           -0.5979166040706297,
           -0.5850567381721364,
           -0.5708460510550831,
           -0.6010053721065972,
           -0.5382654832981819,
           -0.6857039507649849,
           -0.7331982744617468,
           -0.7472525679392908,
           -0.6755086583720792,
           -0.6893038817448817,
           -0.7021777232248063
          ],
          [
           -0.1749633324390095,
           -0.6161452592167169,
           -0.6598386994924618,
           -0.6686699575615007,
           -0.6058293540170125,
           -0.6834675894283538,
           -0.6618613577159712,
           -0.6424091235359237,
           -0.6012230828275896,
           -0.4751913458557872,
           -0.4506943795223579,
           -0.5052020027734542,
           -0.5936417800428707,
           -0.4903898845591856,
           -0.6703601891737486,
           -0.7304351266896089,
           -0.6736304578582315,
           -0.6784345921288539,
           -0.10606694491497205,
           -0.6760261684855943,
           -0.5488796752043519,
           -0.5935950185319728,
           -0.5343982393420229,
           -0.6190150904545093,
           -0.5985565420516961,
           -0.5772331794711426,
           -0.6479245545158209,
           -0.5670449804564596,
           -0.5902245746045929,
           -0.6828816713461793,
           -0.6876135836830927,
           -0.6160686879477335,
           -0.6116079118891636,
           -0.6589261348785502
          ],
          [
           -0.13174686133146551,
           -0.5544638105324742,
           -0.6061472723923402,
           -0.6220431484529969,
           -0.5600278635979967,
           -0.6473768854050864,
           -0.6122835864946219,
           -0.602174874511984,
           -0.5484270764209304,
           -0.4512166191216578,
           -0.4011659018187366,
           -0.45876721189889963,
           -0.5408674163354416,
           -0.45345930377851756,
           -0.6545668625206437,
           -0.7013621423501736,
           -0.6173126947972069,
           -0.651200434424919,
           -0.07287892596481904,
           -0.652762481646972,
           -0.49342770423295906,
           -0.5431227060217347,
           -0.4839891432996676,
           -0.5588572164387869,
           -0.5519347954322414,
           -0.5221575245179441,
           -0.5788422058646335,
           -0.4983047365793752,
           -0.5725104039494651,
           -0.646588308669609,
           -0.6674001278408578,
           -0.5891982074644573,
           -0.5954470711493106,
           -0.6237893548372557
          ],
          [
           -0.26148190950423633,
           -0.24821016593346795,
           -0.40774378232280245,
           -0.42083310573228916,
           -0.34880364482975457,
           -0.4584888368161046,
           -0.4037554784657789,
           -0.395663078112267,
           -0.3660951234868024,
           -0.22470568610921707,
           -0.23550991802885893,
           -0.27194178463738217,
           -0.3496531384187643,
           -0.23874771278633808,
           -0.26356569640562705,
           -0.3349804722248728,
           -0.26432626770919054,
           -0.27334999441468927,
           -0.4917150527293021,
           -0.28849172836203274,
           -0.2614771223621565,
           -0.2577288363522483,
           -0.22088076439670445,
           -0.29778211910331737,
           -0.2806429805298867,
           -0.2755701634920987,
           -0.3128942823618501,
           -0.2690513666067608,
           -0.27581957001155333,
           -0.3529497962621804,
           -0.3494015127330121,
           -0.2988283253587909,
           -0.29573942845403867,
           -0.31168278455387066
          ],
          [
           -0.15661115712545287,
           -0.56151756755709,
           -0.6610747386665428,
           -0.6649777032773181,
           -0.6010095432302845,
           -0.6975125582517165,
           -0.6574075126526218,
           -0.647504332395462,
           -0.6037988845925409,
           -0.4759580424292713,
           -0.44039814741424804,
           -0.5029069370288505,
           -0.595577083758747,
           -0.4925062434537806,
           -0.6537625732444577,
           -0.7664594820212007,
           -0.5938755937094405,
           -0.6234761008272603,
           -0.09698850621771181,
           -0.7258675551708341,
           -0.5260934958795118,
           -0.5387489574997985,
           -0.5560703906531547,
           -0.6194911518301438,
           -0.603740203472273,
           -0.593053905827176,
           -0.6178988914866674,
           -0.5717483721863277,
           -0.6638010087494688,
           -0.7353710841117372,
           -0.7353275343829475,
           -0.676886925694901,
           -0.6868455948764549,
           -0.7033233067145709
          ],
          [
           -0.13959527470155042,
           -0.6346611772331796,
           -0.6311627705048677,
           -0.6486618277153402,
           -0.5940010512021324,
           -0.6695537470068699,
           -0.6417279732179381,
           -0.6288201720921476,
           -0.5917358483573018,
           -0.4774437389195917,
           -0.4396550780880664,
           -0.4716229368509154,
           -0.5737222916694852,
           -0.46811881957829027,
           -0.5859644696847146,
           -0.6491717197536755,
           -0.5866886231705771,
           -0.573652142871137,
           -0.09766417328727232,
           -0.5978693014736861,
           -0.6658946956593096,
           -0.6758000802990024,
           -0.5828583578682117,
           -0.6820730274754864,
           -0.6549219002486211,
           -0.6310869208588176,
           -0.6861423503761072,
           -0.5738912222176171,
           -0.5722068250147471,
           -0.6654558755022412,
           -0.6670250612876241,
           -0.6122606719301866,
           -0.6119560624815814,
           -0.60330008713483
          ],
          [
           -0.09753527247355434,
           -0.6253720185150102,
           -0.5963222136022751,
           -0.603517020583055,
           -0.550860548504847,
           -0.6309189400358256,
           -0.5944369845855187,
           -0.587534877365356,
           -0.5462713249365126,
           -0.4442910977361822,
           -0.40370154867378244,
           -0.43091823780810684,
           -0.5334542981445255,
           -0.42545111227082394,
           -0.5666381048116191,
           -0.611302200143099,
           -0.5746104359867289,
           -0.5611601244859535,
           -0.062064111007376715,
           -0.5689620668561455,
           -0.6231212576884659,
           -0.6761796248932075,
           -0.5262129510508127,
           -0.6238861332296218,
           -0.59564228772663,
           -0.5806775143437615,
           -0.6482789743297991,
           -0.5077248181983511,
           -0.521916860708578,
           -0.6128183712945211,
           -0.6211343055780323,
           -0.5660581538041096,
           -0.5680668367454773,
           -0.5570730228624292
          ],
          [
           -0.04555033850157345,
           -0.4915471774473311,
           -0.5679590280157645,
           -0.5769053662098634,
           -0.5252835986081351,
           -0.5978350430590345,
           -0.5708503937571239,
           -0.5620464731974422,
           -0.5276902370894552,
           -0.4206243287777607,
           -0.3727426919664745,
           -0.4123104405365677,
           -0.5072356838025722,
           -0.40535713696260134,
           -0.5094207253830426,
           -0.587726678374282,
           -0.4889748611368013,
           -0.4800751443754072,
           -0.04501602970166229,
           -0.5293752867296566,
           -0.5147658482610982,
           -0.5306734765336145,
           -0.5895927176855481,
           -0.6647799813260759,
           -0.6104443401554338,
           -0.6338802166015391,
           -0.6624045519697669,
           -0.5495036886277961,
           -0.522586581606055,
           -0.5996957826709274,
           -0.5852894792308476,
           -0.5446053049151789,
           -0.5220034150873157,
           -0.5438095813053404
          ],
          [
           -0.08689071820868312,
           -0.514272642785031,
           -0.6019890825881141,
           -0.6178600295176697,
           -0.5619519842881282,
           -0.64252568712597,
           -0.6129350726430087,
           -0.6017819757874899,
           -0.5689847104272506,
           -0.45437156849666177,
           -0.41502756578229516,
           -0.45614977739517537,
           -0.5463911626652277,
           -0.44183105474899875,
           -0.5628713992186987,
           -0.637475853009851,
           -0.5321037089548896,
           -0.5266786355723041,
           -0.08086726745466882,
           -0.5634188844703227,
           -0.534007887628587,
           -0.5445546081047795,
           -0.6185610471560107,
           -0.7277122701409221,
           -0.6638281522936904,
           -0.6825247060278576,
           -0.7005739997779251,
           -0.6066053677583756,
           -0.5677402472277898,
           -0.6417757668014104,
           -0.6249825777972845,
           -0.5832153189570406,
           -0.553000529587523,
           -0.5806601462443078
          ],
          [
           -0.09664767040699451,
           -0.5434734213649492,
           -0.6511317526385755,
           -0.6635950960680886,
           -0.6074009115902033,
           -0.6775748833073234,
           -0.6569714155360091,
           -0.6367095839659663,
           -0.6048885264721278,
           -0.48593969874816095,
           -0.4409109591082268,
           -0.4865325264023253,
           -0.5827137345087909,
           -0.46639043751843423,
           -0.558802296830623,
           -0.6470184110701037,
           -0.5349353825666101,
           -0.5235787457789253,
           -0.0916708615955849,
           -0.5844114842333532,
           -0.5616808722166823,
           -0.5671634334104285,
           -0.6070926055779924,
           -0.702087092032511,
           -0.6845781428651121,
           -0.6533422432990521,
           -0.6799904868662051,
           -0.5920718493610176,
           -0.5915657764054008,
           -0.6619531135015715,
           -0.6470728931395168,
           -0.6038955508510864,
           -0.5793985404176543,
           -0.6002851510693843
          ],
          [
           -0.024073929951185312,
           -0.41920080524436526,
           -0.48942293868366243,
           -0.4964856423733067,
           -0.44545089837002366,
           -0.5356208715107177,
           -0.49196218135665154,
           -0.4800360012555728,
           -0.44551790163477384,
           -0.3635821591036364,
           -0.30618915087483123,
           -0.34127346899590066,
           -0.427504043128521,
           -0.33597229001291073,
           -0.44179156307326334,
           -0.511914807107521,
           -0.4243966912962352,
           -0.4163695472842674,
           -0.024735377780139213,
           -0.4529842265109933,
           -0.43633660382585937,
           -0.4556910663791065,
           -0.5121222417939337,
           -0.5972959550652766,
           -0.5315792079977553,
           -0.5875267876594047,
           -0.6022916690745168,
           -0.4881510886380739,
           -0.456565267024257,
           -0.530553367701674,
           -0.5158282177009609,
           -0.49149692717535454,
           -0.4585528449823678,
           -0.4671320993466871
          ],
          [
           -0.0012432034234276467,
           -0.4185780273568791,
           -0.4814515819010192,
           -0.46854517611070434,
           -0.42479486726388893,
           -0.510944319597794,
           -0.4658417812671983,
           -0.45129539526926665,
           -0.4165067656469622,
           -0.33281112745246094,
           -0.280899613745618,
           -0.32350796198080595,
           -0.40912158941828863,
           -0.30522343617251313,
           -0.4114714414357191,
           -0.48037428582866676,
           -0.4144779337038068,
           -0.3979085998338229,
           -0.0034286763921355227,
           -0.42297698070591055,
           -0.40902073834946656,
           -0.44349314110871285,
           -0.4479696578934285,
           -0.5286113607069479,
           -0.4692319001730582,
           -0.5023507638885608,
           -0.5713530704520714,
           -0.44629042419560444,
           -0.4111497154323334,
           -0.4983145869295588,
           -0.48901810465524403,
           -0.45565813722564186,
           -0.43575071521367803,
           -0.43642838215671226
          ],
          [
           -0.10848598642440509,
           -0.53853233656072,
           -0.6250095719947026,
           -0.6406269719125254,
           -0.5742264642433687,
           -0.6775511476346886,
           -0.6340450587710202,
           -0.6210802032086563,
           -0.5861259267044989,
           -0.4728853461427848,
           -0.42751165483225145,
           -0.4927947992349646,
           -0.5748599686578706,
           -0.46014184385793977,
           -0.5323096304853391,
           -0.6108287382055245,
           -0.536665969340821,
           -0.531098392366676,
           -0.09184476090892453,
           -0.5442965512865097,
           -0.5363296941497763,
           -0.5451177793422616,
           -0.5758640936144942,
           -0.6691817482579824,
           -0.5970403839184241,
           -0.6474067927551673,
           -0.6908557047562998,
           -0.6933193466747364,
           -0.5426302077758866,
           -0.6265704287125872,
           -0.6181222242915293,
           -0.5675314909595246,
           -0.5403423379443764,
           -0.559788896329091
          ],
          [
           -0.06122060428173193,
           -0.47395442532975157,
           -0.5898333646187053,
           -0.599006891343832,
           -0.5411432769949635,
           -0.6292453416885083,
           -0.598066028154165,
           -0.5676241391039936,
           -0.5394381715026746,
           -0.4336289570728211,
           -0.40325900335718856,
           -0.4401744195041668,
           -0.5316671904773113,
           -0.41980218382524204,
           -0.5806338167034586,
           -0.6918048309999708,
           -0.5022608579358768,
           -0.5315200817570783,
           -0.06388865121322768,
           -0.5881195816970749,
           -0.44317189477776164,
           -0.4617461772974976,
           -0.4862269950441154,
           -0.5315696494423144,
           -0.5167716602096643,
           -0.5036319596948036,
           -0.5461900853828995,
           -0.48283122444264,
           -0.6507155277994177,
           -0.6869062619155791,
           -0.691735411539004,
           -0.6379181214212621,
           -0.6275649153009188,
           -0.6119003642071772
          ],
          [
           -0.1072269651201849,
           -0.5329173104662597,
           -0.6522756428754084,
           -0.6505082934563226,
           -0.5935175576386037,
           -0.6852552613026547,
           -0.6507381672172099,
           -0.6285888833912476,
           -0.6004941419214088,
           -0.46182985939889365,
           -0.45557453337509624,
           -0.4985282989639188,
           -0.5977635517997277,
           -0.4575018561687322,
           -0.5780614311138687,
           -0.691339800822011,
           -0.5375120587654831,
           -0.5529981367021345,
           -0.09360608219208187,
           -0.6168166411855346,
           -0.49679785858314834,
           -0.5094281542125878,
           -0.5086004588923523,
           -0.5818344302354821,
           -0.5650959268748136,
           -0.5548188694994588,
           -0.5933424888662598,
           -0.5225777536180137,
           -0.6611380358033085,
           -0.7910800968402992,
           -0.7794886992467563,
           -0.7258936968603422,
           -0.7245384289211645,
           -0.6724692362454465
          ],
          [
           -0.08661240735343206,
           -0.5023652248423227,
           -0.6019862224879845,
           -0.6058495498568188,
           -0.5515745847568032,
           -0.6246754767227389,
           -0.6045079867449129,
           -0.5847482156522326,
           -0.5535174795180583,
           -0.43646870758818807,
           -0.4077977314445971,
           -0.45302036040098265,
           -0.5433859037293126,
           -0.43064261139539634,
           -0.5661498912355499,
           -0.6734466001322067,
           -0.5136013570525384,
           -0.5428583050363948,
           -0.07203631805750164,
           -0.5970024546202172,
           -0.46779712800534157,
           -0.49075513406782895,
           -0.47065265585398447,
           -0.5316835325619019,
           -0.5155102262551458,
           -0.49896876727608874,
           -0.547165190264825,
           -0.469478768584282,
           -0.6142992549131832,
           -0.7262411261516009,
           -0.7483290744257262,
           -0.6707092311236127,
           -0.6898311248911548,
           -0.6449218532498752
          ],
          [
           -0.09413151419485025,
           -0.4849018855831195,
           -0.5880644091749231,
           -0.5973241587022634,
           -0.5424890610757988,
           -0.6195764004691775,
           -0.5960661712099949,
           -0.569616001399316,
           -0.5360619645860667,
           -0.4506524017779837,
           -0.39508442382303766,
           -0.4296391807319961,
           -0.5298087524137349,
           -0.4171584484690743,
           -0.5474100885050012,
           -0.6571122977681064,
           -0.4903225525374618,
           -0.5134429084831474,
           -0.0739942183652154,
           -0.5628874292125634,
           -0.46932227401598803,
           -0.48007137815554674,
           -0.47669190582646176,
           -0.5253953799145813,
           -0.5063869485631856,
           -0.5063214892739799,
           -0.5521868367471552,
           -0.4748818794582912,
           -0.6180468323369757,
           -0.710953755213747,
           -0.7188325724545271,
           -0.6799040100302466,
           -0.6809200354121155,
           -0.614688691423434
          ],
          [
           -0.14407463197181264,
           -0.5736902503013822,
           -0.6697696994364194,
           -0.6792264391919607,
           -0.6216755925390859,
           -0.6991167682888143,
           -0.6749032160809357,
           -0.6518257319241637,
           -0.6110622699765874,
           -0.5068235965580178,
           -0.4648027374752231,
           -0.5044301604524917,
           -0.6072472328606721,
           -0.4779368718159889,
           -0.6270299130978751,
           -0.7476865412526381,
           -0.5720805179087203,
           -0.5909306462499099,
           -0.10990168408635831,
           -0.6727755498476773,
           -0.5535768207316055,
           -0.5634952783253853,
           -0.5510927316126749,
           -0.6169526051409587,
           -0.6053884833425786,
           -0.5854648146033096,
           -0.6290382428121324,
           -0.5580030988839723,
           -0.7063568662075695,
           -0.8018877605587064,
           -0.8062979119981235,
           -0.747264993527605,
           -0.7716531692904303,
           -0.7251052399142375
          ],
          [
           -0.13581761823701355,
           -0.49883814888769834,
           -0.6158239201711583,
           -0.6239011935469692,
           -0.5615528723709207,
           -0.6413335291929716,
           -0.6215800749526345,
           -0.6021021156446824,
           -0.5689647999765721,
           -0.43177727896682055,
           -0.40960180347577224,
           -0.47999326864626807,
           -0.5591088074276855,
           -0.43711671044184475,
           -0.5843881861500643,
           -0.7172154233580594,
           -0.5268793751408832,
           -0.5595871448076789,
           -0.07625559171069386,
           -0.6678151185769442,
           -0.4726559092579114,
           -0.47700410850661823,
           -0.5049783892466889,
           -0.5536858309410482,
           -0.5376727820137485,
           -0.5303838791526836,
           -0.5601253611816456,
           -0.5038090461429402,
           -0.6457263993334564,
           -0.7207370114314746,
           -0.7324652087140473,
           -0.6634172201959547,
           -0.697286893729262,
           -0.6973940185230263
          ]
         ]
        },
        {
         "hovertemplate": "%{y} -> %{x}",
         "marker": {
          "color": [
           "green",
           "green",
           "green",
           "green",
           "green",
           "green",
           "green",
           "green",
           "green",
           "green",
           "green",
           "green",
           "green",
           "green",
           "green",
           "green",
           "green",
           "green",
           "green",
           "green",
           "green",
           "green",
           "green",
           "green",
           "green",
           "green",
           "green",
           "green",
           "green",
           "green",
           "green",
           "green",
           "green",
           "green"
          ],
          "size": 5
         },
         "mode": "markers",
         "name": "",
         "type": "scatter",
         "x": [
          "Astrocyte",
          "Chandelier",
          "Exc L2/3 IT",
          "Exc L3/5 IT",
          "Exc L4/5 IT",
          "Exc L5 PT",
          "Exc L5/6 IT 1",
          "Exc L5/6 IT 2",
          "Exc L5/6 IT 3",
          "Exc L5/6 NP",
          "Exc L6 CT",
          "Exc L6 IT 1",
          "Exc L6 IT 2",
          "Exc L6b",
          "Lamp5 1",
          "Lamp5 2",
          "Lamp5 Lhx6",
          "Lamp5 Rosehip",
          "Oligo",
          "Pax6",
          "Pvalb 1",
          "Pvalb 2",
          "Sst 1",
          "Sst 2",
          "Sst 3",
          "Sst 4",
          "Sst 5",
          "Sst Chodl",
          "Vip 1",
          "Vip 2",
          "Vip 3",
          "Vip 4",
          "Vip 5",
          "Vip Sncg"
         ],
         "y": [
          "Astrocyte",
          "Chandelier",
          "Exc L2/3 IT",
          "Exc L3/5 IT",
          "Exc L4/5 IT",
          "Exc L5 PT",
          "Exc L5/6 IT 1",
          "Exc L5/6 IT 2",
          "Exc L5/6 IT 3",
          "Exc L5/6 NP",
          "Exc L6 CT",
          "Exc L6 IT 1",
          "Exc L6 IT 2",
          "Exc L6b",
          "Lamp5 1",
          "Lamp5 2",
          "Lamp5 Lhx6",
          "Lamp5 Rosehip",
          "Oligo",
          "Pax6",
          "Pvalb 1",
          "Pvalb 2",
          "Sst 1",
          "Sst 2",
          "Sst 3",
          "Sst 4",
          "Sst 5",
          "Sst Chodl",
          "Vip 1",
          "Vip 2",
          "Vip 3",
          "Vip 4",
          "Vip 5",
          "Vip Sncg"
         ]
        }
       ],
       "layout": {
        "coloraxis": {
         "colorbar": {
          "title": {
           "text": "cost"
          }
         },
         "colorscale": [
          [
           0,
           "rgb(75, 41, 145)"
          ],
          [
           0.16666666666666666,
           "rgb(135, 44, 162)"
          ],
          [
           0.3333333333333333,
           "rgb(192, 54, 157)"
          ],
          [
           0.5,
           "rgb(234, 79, 136)"
          ],
          [
           0.6666666666666666,
           "rgb(250, 120, 118)"
          ],
          [
           0.8333333333333334,
           "rgb(246, 169, 122)"
          ],
          [
           1,
           "rgb(237, 217, 163)"
          ]
         ]
        },
        "template": {
         "data": {
          "bar": [
           {
            "error_x": {
             "color": "#2a3f5f"
            },
            "error_y": {
             "color": "#2a3f5f"
            },
            "marker": {
             "line": {
              "color": "#E5ECF6",
              "width": 0.5
             },
             "pattern": {
              "fillmode": "overlay",
              "size": 10,
              "solidity": 0.2
             }
            },
            "type": "bar"
           }
          ],
          "barpolar": [
           {
            "marker": {
             "line": {
              "color": "#E5ECF6",
              "width": 0.5
             },
             "pattern": {
              "fillmode": "overlay",
              "size": 10,
              "solidity": 0.2
             }
            },
            "type": "barpolar"
           }
          ],
          "carpet": [
           {
            "aaxis": {
             "endlinecolor": "#2a3f5f",
             "gridcolor": "white",
             "linecolor": "white",
             "minorgridcolor": "white",
             "startlinecolor": "#2a3f5f"
            },
            "baxis": {
             "endlinecolor": "#2a3f5f",
             "gridcolor": "white",
             "linecolor": "white",
             "minorgridcolor": "white",
             "startlinecolor": "#2a3f5f"
            },
            "type": "carpet"
           }
          ],
          "choropleth": [
           {
            "colorbar": {
             "outlinewidth": 0,
             "ticks": ""
            },
            "type": "choropleth"
           }
          ],
          "contour": [
           {
            "colorbar": {
             "outlinewidth": 0,
             "ticks": ""
            },
            "colorscale": [
             [
              0,
              "#0d0887"
             ],
             [
              0.1111111111111111,
              "#46039f"
             ],
             [
              0.2222222222222222,
              "#7201a8"
             ],
             [
              0.3333333333333333,
              "#9c179e"
             ],
             [
              0.4444444444444444,
              "#bd3786"
             ],
             [
              0.5555555555555556,
              "#d8576b"
             ],
             [
              0.6666666666666666,
              "#ed7953"
             ],
             [
              0.7777777777777778,
              "#fb9f3a"
             ],
             [
              0.8888888888888888,
              "#fdca26"
             ],
             [
              1,
              "#f0f921"
             ]
            ],
            "type": "contour"
           }
          ],
          "contourcarpet": [
           {
            "colorbar": {
             "outlinewidth": 0,
             "ticks": ""
            },
            "type": "contourcarpet"
           }
          ],
          "heatmap": [
           {
            "colorbar": {
             "outlinewidth": 0,
             "ticks": ""
            },
            "colorscale": [
             [
              0,
              "#0d0887"
             ],
             [
              0.1111111111111111,
              "#46039f"
             ],
             [
              0.2222222222222222,
              "#7201a8"
             ],
             [
              0.3333333333333333,
              "#9c179e"
             ],
             [
              0.4444444444444444,
              "#bd3786"
             ],
             [
              0.5555555555555556,
              "#d8576b"
             ],
             [
              0.6666666666666666,
              "#ed7953"
             ],
             [
              0.7777777777777778,
              "#fb9f3a"
             ],
             [
              0.8888888888888888,
              "#fdca26"
             ],
             [
              1,
              "#f0f921"
             ]
            ],
            "type": "heatmap"
           }
          ],
          "heatmapgl": [
           {
            "colorbar": {
             "outlinewidth": 0,
             "ticks": ""
            },
            "colorscale": [
             [
              0,
              "#0d0887"
             ],
             [
              0.1111111111111111,
              "#46039f"
             ],
             [
              0.2222222222222222,
              "#7201a8"
             ],
             [
              0.3333333333333333,
              "#9c179e"
             ],
             [
              0.4444444444444444,
              "#bd3786"
             ],
             [
              0.5555555555555556,
              "#d8576b"
             ],
             [
              0.6666666666666666,
              "#ed7953"
             ],
             [
              0.7777777777777778,
              "#fb9f3a"
             ],
             [
              0.8888888888888888,
              "#fdca26"
             ],
             [
              1,
              "#f0f921"
             ]
            ],
            "type": "heatmapgl"
           }
          ],
          "histogram": [
           {
            "marker": {
             "pattern": {
              "fillmode": "overlay",
              "size": 10,
              "solidity": 0.2
             }
            },
            "type": "histogram"
           }
          ],
          "histogram2d": [
           {
            "colorbar": {
             "outlinewidth": 0,
             "ticks": ""
            },
            "colorscale": [
             [
              0,
              "#0d0887"
             ],
             [
              0.1111111111111111,
              "#46039f"
             ],
             [
              0.2222222222222222,
              "#7201a8"
             ],
             [
              0.3333333333333333,
              "#9c179e"
             ],
             [
              0.4444444444444444,
              "#bd3786"
             ],
             [
              0.5555555555555556,
              "#d8576b"
             ],
             [
              0.6666666666666666,
              "#ed7953"
             ],
             [
              0.7777777777777778,
              "#fb9f3a"
             ],
             [
              0.8888888888888888,
              "#fdca26"
             ],
             [
              1,
              "#f0f921"
             ]
            ],
            "type": "histogram2d"
           }
          ],
          "histogram2dcontour": [
           {
            "colorbar": {
             "outlinewidth": 0,
             "ticks": ""
            },
            "colorscale": [
             [
              0,
              "#0d0887"
             ],
             [
              0.1111111111111111,
              "#46039f"
             ],
             [
              0.2222222222222222,
              "#7201a8"
             ],
             [
              0.3333333333333333,
              "#9c179e"
             ],
             [
              0.4444444444444444,
              "#bd3786"
             ],
             [
              0.5555555555555556,
              "#d8576b"
             ],
             [
              0.6666666666666666,
              "#ed7953"
             ],
             [
              0.7777777777777778,
              "#fb9f3a"
             ],
             [
              0.8888888888888888,
              "#fdca26"
             ],
             [
              1,
              "#f0f921"
             ]
            ],
            "type": "histogram2dcontour"
           }
          ],
          "mesh3d": [
           {
            "colorbar": {
             "outlinewidth": 0,
             "ticks": ""
            },
            "type": "mesh3d"
           }
          ],
          "parcoords": [
           {
            "line": {
             "colorbar": {
              "outlinewidth": 0,
              "ticks": ""
             }
            },
            "type": "parcoords"
           }
          ],
          "pie": [
           {
            "automargin": true,
            "type": "pie"
           }
          ],
          "scatter": [
           {
            "fillpattern": {
             "fillmode": "overlay",
             "size": 10,
             "solidity": 0.2
            },
            "type": "scatter"
           }
          ],
          "scatter3d": [
           {
            "line": {
             "colorbar": {
              "outlinewidth": 0,
              "ticks": ""
             }
            },
            "marker": {
             "colorbar": {
              "outlinewidth": 0,
              "ticks": ""
             }
            },
            "type": "scatter3d"
           }
          ],
          "scattercarpet": [
           {
            "marker": {
             "colorbar": {
              "outlinewidth": 0,
              "ticks": ""
             }
            },
            "type": "scattercarpet"
           }
          ],
          "scattergeo": [
           {
            "marker": {
             "colorbar": {
              "outlinewidth": 0,
              "ticks": ""
             }
            },
            "type": "scattergeo"
           }
          ],
          "scattergl": [
           {
            "marker": {
             "colorbar": {
              "outlinewidth": 0,
              "ticks": ""
             }
            },
            "type": "scattergl"
           }
          ],
          "scattermapbox": [
           {
            "marker": {
             "colorbar": {
              "outlinewidth": 0,
              "ticks": ""
             }
            },
            "type": "scattermapbox"
           }
          ],
          "scatterpolar": [
           {
            "marker": {
             "colorbar": {
              "outlinewidth": 0,
              "ticks": ""
             }
            },
            "type": "scatterpolar"
           }
          ],
          "scatterpolargl": [
           {
            "marker": {
             "colorbar": {
              "outlinewidth": 0,
              "ticks": ""
             }
            },
            "type": "scatterpolargl"
           }
          ],
          "scatterternary": [
           {
            "marker": {
             "colorbar": {
              "outlinewidth": 0,
              "ticks": ""
             }
            },
            "type": "scatterternary"
           }
          ],
          "surface": [
           {
            "colorbar": {
             "outlinewidth": 0,
             "ticks": ""
            },
            "colorscale": [
             [
              0,
              "#0d0887"
             ],
             [
              0.1111111111111111,
              "#46039f"
             ],
             [
              0.2222222222222222,
              "#7201a8"
             ],
             [
              0.3333333333333333,
              "#9c179e"
             ],
             [
              0.4444444444444444,
              "#bd3786"
             ],
             [
              0.5555555555555556,
              "#d8576b"
             ],
             [
              0.6666666666666666,
              "#ed7953"
             ],
             [
              0.7777777777777778,
              "#fb9f3a"
             ],
             [
              0.8888888888888888,
              "#fdca26"
             ],
             [
              1,
              "#f0f921"
             ]
            ],
            "type": "surface"
           }
          ],
          "table": [
           {
            "cells": {
             "fill": {
              "color": "#EBF0F8"
             },
             "line": {
              "color": "white"
             }
            },
            "header": {
             "fill": {
              "color": "#C8D4E3"
             },
             "line": {
              "color": "white"
             }
            },
            "type": "table"
           }
          ]
         },
         "layout": {
          "annotationdefaults": {
           "arrowcolor": "#2a3f5f",
           "arrowhead": 0,
           "arrowwidth": 1
          },
          "autotypenumbers": "strict",
          "coloraxis": {
           "colorbar": {
            "outlinewidth": 0,
            "ticks": ""
           }
          },
          "colorscale": {
           "diverging": [
            [
             0,
             "#8e0152"
            ],
            [
             0.1,
             "#c51b7d"
            ],
            [
             0.2,
             "#de77ae"
            ],
            [
             0.3,
             "#f1b6da"
            ],
            [
             0.4,
             "#fde0ef"
            ],
            [
             0.5,
             "#f7f7f7"
            ],
            [
             0.6,
             "#e6f5d0"
            ],
            [
             0.7,
             "#b8e186"
            ],
            [
             0.8,
             "#7fbc41"
            ],
            [
             0.9,
             "#4d9221"
            ],
            [
             1,
             "#276419"
            ]
           ],
           "sequential": [
            [
             0,
             "#0d0887"
            ],
            [
             0.1111111111111111,
             "#46039f"
            ],
            [
             0.2222222222222222,
             "#7201a8"
            ],
            [
             0.3333333333333333,
             "#9c179e"
            ],
            [
             0.4444444444444444,
             "#bd3786"
            ],
            [
             0.5555555555555556,
             "#d8576b"
            ],
            [
             0.6666666666666666,
             "#ed7953"
            ],
            [
             0.7777777777777778,
             "#fb9f3a"
            ],
            [
             0.8888888888888888,
             "#fdca26"
            ],
            [
             1,
             "#f0f921"
            ]
           ],
           "sequentialminus": [
            [
             0,
             "#0d0887"
            ],
            [
             0.1111111111111111,
             "#46039f"
            ],
            [
             0.2222222222222222,
             "#7201a8"
            ],
            [
             0.3333333333333333,
             "#9c179e"
            ],
            [
             0.4444444444444444,
             "#bd3786"
            ],
            [
             0.5555555555555556,
             "#d8576b"
            ],
            [
             0.6666666666666666,
             "#ed7953"
            ],
            [
             0.7777777777777778,
             "#fb9f3a"
            ],
            [
             0.8888888888888888,
             "#fdca26"
            ],
            [
             1,
             "#f0f921"
            ]
           ]
          },
          "colorway": [
           "#636efa",
           "#EF553B",
           "#00cc96",
           "#ab63fa",
           "#FFA15A",
           "#19d3f3",
           "#FF6692",
           "#B6E880",
           "#FF97FF",
           "#FECB52"
          ],
          "font": {
           "color": "#2a3f5f"
          },
          "geo": {
           "bgcolor": "white",
           "lakecolor": "white",
           "landcolor": "#E5ECF6",
           "showlakes": true,
           "showland": true,
           "subunitcolor": "white"
          },
          "hoverlabel": {
           "align": "left"
          },
          "hovermode": "closest",
          "mapbox": {
           "style": "light"
          },
          "paper_bgcolor": "white",
          "plot_bgcolor": "#E5ECF6",
          "polar": {
           "angularaxis": {
            "gridcolor": "white",
            "linecolor": "white",
            "ticks": ""
           },
           "bgcolor": "#E5ECF6",
           "radialaxis": {
            "gridcolor": "white",
            "linecolor": "white",
            "ticks": ""
           }
          },
          "scene": {
           "xaxis": {
            "backgroundcolor": "#E5ECF6",
            "gridcolor": "white",
            "gridwidth": 2,
            "linecolor": "white",
            "showbackground": true,
            "ticks": "",
            "zerolinecolor": "white"
           },
           "yaxis": {
            "backgroundcolor": "#E5ECF6",
            "gridcolor": "white",
            "gridwidth": 2,
            "linecolor": "white",
            "showbackground": true,
            "ticks": "",
            "zerolinecolor": "white"
           },
           "zaxis": {
            "backgroundcolor": "#E5ECF6",
            "gridcolor": "white",
            "gridwidth": 2,
            "linecolor": "white",
            "showbackground": true,
            "ticks": "",
            "zerolinecolor": "white"
           }
          },
          "shapedefaults": {
           "line": {
            "color": "#2a3f5f"
           }
          },
          "ternary": {
           "aaxis": {
            "gridcolor": "white",
            "linecolor": "white",
            "ticks": ""
           },
           "baxis": {
            "gridcolor": "white",
            "linecolor": "white",
            "ticks": ""
           },
           "bgcolor": "#E5ECF6",
           "caxis": {
            "gridcolor": "white",
            "linecolor": "white",
            "ticks": ""
           }
          },
          "title": {
           "x": 0.05
          },
          "xaxis": {
           "automargin": true,
           "gridcolor": "white",
           "linecolor": "white",
           "ticks": "",
           "title": {
            "standoff": 15
           },
           "zerolinecolor": "white",
           "zerolinewidth": 2
          },
          "yaxis": {
           "automargin": true,
           "gridcolor": "white",
           "linecolor": "white",
           "ticks": "",
           "title": {
            "standoff": 15
           },
           "zerolinecolor": "white",
           "zerolinewidth": 2
          }
         }
        },
        "title": {
         "text": "MTG to ALM matching cost"
        },
        "xaxis": {
         "anchor": "y",
         "constrain": "domain",
         "domain": [
          0,
          1
         ],
         "scaleanchor": "y",
         "tickangle": -90,
         "title": {
          "text": "Reference: ALM"
         }
        },
        "yaxis": {
         "anchor": "x",
         "autorange": "reversed",
         "constrain": "domain",
         "domain": [
          0,
          1
         ],
         "title": {
          "text": "Query: MTG"
         }
        }
       }
      }
     },
     "metadata": {},
     "output_type": "display_data"
    }
   ],
   "source": [
    "q, ref = 'MTG', 'ALM'\n",
    "\n",
    "# create RefCM object -- can choose to enable/disable costs cache\n",
    "rcm = RefCM(discovery_threshold=None)#, cache_load=False, cache_save=False)\n",
    "\n",
    "# set reference\n",
    "rcm.setref(ds[ref], ref, 'labels34')\n",
    "\n",
    "# annotate query dataset\n",
    "m = rcm.annotate(ds[q], q, 'labels34')\n",
    "\n",
    "# evaluate and visualize annotation quality\n",
    "m.eval('labels34')\n",
    "m.display_matching_costs('labels34')"
   ]
  },
  {
   "cell_type": "markdown",
   "metadata": {},
   "source": [
    "Annotating all Allen-Brain datasets against each other"
   ]
  },
  {
   "cell_type": "code",
   "execution_count": null,
   "metadata": {},
   "outputs": [
    {
     "name": "stderr",
     "output_type": "stream",
     "text": [
      "[refcm           ] [INFO    ] : NOTE: raw counts expected in anndata .X attributes.\n",
      "|████████████████| [100.00% ] : 00:38\n",
      "[matchings       ] [INFO    ] : mapped MTG                  to ALM                 \n",
      "[matchings       ] [INFO    ] : (34 common cell types)\n",
      "[matchings       ] [INFO    ] : 34/34 correct mappings\n",
      "[matchings       ] [INFO    ] : 0 /34 incorrect mappings\n",
      "|████████████████| [100.00% ] : 00:43\n",
      "[matchings       ] [INFO    ] : mapped MTG                  to VISp                \n",
      "[matchings       ] [INFO    ] : (34 common cell types)\n",
      "[matchings       ] [INFO    ] : 34/34 correct mappings\n",
      "[matchings       ] [INFO    ] : 0 /34 incorrect mappings\n",
      "|████████████████| [100.00% ] : 00:36\n",
      "[matchings       ] [INFO    ] : mapped ALM                  to MTG                 \n",
      "[matchings       ] [INFO    ] : (34 common cell types)\n",
      "[matchings       ] [INFO    ] : 34/34 correct mappings\n",
      "[matchings       ] [INFO    ] : 0 /34 incorrect mappings\n",
      "|████████████████| [100.00% ] : 01:01\n",
      "[matchings       ] [INFO    ] : mapped ALM                  to VISp                \n",
      "[matchings       ] [INFO    ] : (34 common cell types)\n",
      "[matchings       ] [INFO    ] : 34/34 correct mappings\n",
      "[matchings       ] [INFO    ] : 0 /34 incorrect mappings\n",
      "|████████████████| [100.00% ] : 00:44\n",
      "[matchings       ] [INFO    ] : mapped VISp                 to MTG                 \n",
      "[matchings       ] [INFO    ] : (34 common cell types)\n",
      "[matchings       ] [INFO    ] : 34/34 correct mappings\n",
      "[matchings       ] [INFO    ] : 0 /34 incorrect mappings\n",
      "|████████████████| [100.00% ] : 01:25\n",
      "[matchings       ] [INFO    ] : mapped VISp                 to ALM                 \n",
      "[matchings       ] [INFO    ] : (34 common cell types)\n",
      "[matchings       ] [INFO    ] : 34/34 correct mappings\n",
      "[matchings       ] [INFO    ] : 0 /34 incorrect mappings\n"
     ]
    }
   ],
   "source": [
    "rcm = RefCM(discovery_threshold=0)\n",
    "\n",
    "for i, q_id in enumerate(ds):\n",
    "    for ref_id in [d for d in ds if d != q_id]:\n",
    "        m = rcm.annotate(ds[q_id], q_id, ds[ref_id], ref_id, 'labels34', 'labels34')\n",
    "        m.eval('labels34')"
   ]
  }
 ],
 "metadata": {
  "kernelspec": {
   "display_name": "refcm",
   "language": "python",
   "name": "python3"
  },
  "language_info": {
   "codemirror_mode": {
    "name": "ipython",
    "version": 3
   },
   "file_extension": ".py",
   "mimetype": "text/x-python",
   "name": "python",
   "nbconvert_exporter": "python",
   "pygments_lexer": "ipython3",
   "version": "3.11.9"
  }
 },
 "nbformat": 4,
 "nbformat_minor": 4
}
