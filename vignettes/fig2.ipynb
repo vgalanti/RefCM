{
 "cells": [
  {
   "cell_type": "code",
   "execution_count": 1,
   "metadata": {},
   "outputs": [
    {
     "name": "stderr",
     "output_type": "stream",
     "text": [
      "/opt/homebrew/anaconda3/envs/refcm/lib/python3.11/site-packages/tqdm/auto.py:21: TqdmWarning: IProgress not found. Please update jupyter and ipywidgets. See https://ipywidgets.readthedocs.io/en/stable/user_install.html\n",
      "  from .autonotebook import tqdm as notebook_tqdm\n",
      "Seed set to 0\n"
     ]
    }
   ],
   "source": [
    "import sys\n",
    "\n",
    "sys.path.append(\"../src/\")\n",
    "\n",
    "import pandas as pd\n",
    "import config\n",
    "import logging\n",
    "import benchmarking\n",
    "import plotly.express as px\n",
    "\n",
    "\n",
    "config.start_logging(logging.DEBUG)"
   ]
  },
  {
   "cell_type": "markdown",
   "metadata": {},
   "source": [
    "# Fig. 2a"
   ]
  },
  {
   "cell_type": "code",
   "execution_count": null,
   "metadata": {},
   "outputs": [],
   "source": [
    "models = [\n",
    "    \"RefCM\",\n",
    "    \"MV-Celltypist\",\n",
    "    \"MV-Seurat\",\n",
    "    \"MV-SVM\",\n",
    "]  # TODO SCANVI, CIPR, ClustifyR\n",
    "for m in models:\n",
    "    benchmarking.plot_pancreas_perf(m, write=True)"
   ]
  },
  {
   "cell_type": "code",
   "execution_count": null,
   "metadata": {},
   "outputs": [
    {
     "data": {
      "text/plain": [
       "{'pancreas_celseq': Benchmark(acc=0.9950199203187251, cfmatrix=[[228, 0, 0, 0, 0, 0, 0, 0, 0, 0, 0, 0, 0, 0], [0, 19, 0, 0, 0, 0, 0, 0, 0, 0, 0, 0, 0, 0], [0, 0, 191, 0, 0, 0, 0, 0, 0, 0, 0, 0, 0, 0], [0, 0, 0, 161, 0, 0, 0, 0, 0, 0, 0, 0, 0, 0], [0, 0, 0, 0, 50, 0, 0, 0, 0, 0, 0, 0, 0, 0], [0, 0, 0, 0, 0, 327, 0, 0, 0, 0, 0, 0, 0, 0], [0, 0, 0, 0, 0, 0, 5, 0, 0, 0, 0, 0, 0, 0], [0, 0, 0, 0, 0, 0, 0, 0, 1, 0, 0, 0, 0, 0], [0, 0, 0, 0, 0, 0, 0, 0, 18, 0, 0, 0, 0, 0], [0, 0, 0, 0, 0, 1, 0, 0, 0, 0, 0, 0, 0, 0], [0, 0, 0, 0, 0, 1, 0, 0, 0, 0, 0, 0, 0, 0], [0, 1, 0, 0, 0, 0, 0, 0, 0, 0, 0, 0, 0, 0], [0, 1, 0, 0, 0, 0, 0, 0, 0, 0, 0, 0, 0, 0]], q_labels=['acinar', 'activated_stellate', 'alpha', 'beta', 'delta', 'ductal', 'endothelial', 'epsilon', 'gamma', 'macrophage', 'mast', 'quiescent_stellate', 'schwann'], ref_labels=['acinar', 'activated_stellate', 'alpha', 'beta', 'delta', 'ductal', 'endothelial', 'epsilon', 'gamma', 'macrophage', 'mast', 'quiescent_stellate', 'schwann', 'novel'], annotations=['gamma', 'gamma', 'gamma', 'gamma', 'gamma', 'gamma', 'gamma', 'gamma', 'gamma', 'gamma', 'gamma', 'gamma', 'gamma', 'gamma', 'gamma', 'gamma', 'gamma', 'gamma', 'acinar', 'acinar', 'acinar', 'acinar', 'acinar', 'acinar', 'acinar', 'acinar', 'acinar', 'acinar', 'acinar', 'acinar', 'acinar', 'acinar', 'acinar', 'acinar', 'acinar', 'acinar', 'acinar', 'acinar', 'acinar', 'acinar', 'acinar', 'acinar', 'acinar', 'acinar', 'acinar', 'acinar', 'acinar', 'acinar', 'acinar', 'acinar', 'acinar', 'acinar', 'acinar', 'acinar', 'acinar', 'acinar', 'acinar', 'acinar', 'acinar', 'acinar', 'acinar', 'acinar', 'acinar', 'acinar', 'acinar', 'acinar', 'acinar', 'acinar', 'acinar', 'acinar', 'acinar', 'acinar', 'acinar', 'acinar', 'acinar', 'acinar', 'acinar', 'acinar', 'acinar', 'acinar', 'acinar', 'acinar', 'acinar', 'acinar', 'acinar', 'acinar', 'acinar', 'acinar', 'acinar', 'acinar', 'acinar', 'acinar', 'acinar', 'acinar', 'acinar', 'acinar', 'acinar', 'acinar', 'acinar', 'acinar', 'acinar', 'acinar', 'acinar', 'acinar', 'acinar', 'acinar', 'acinar', 'acinar', 'acinar', 'acinar', 'acinar', 'acinar', 'acinar', 'acinar', 'acinar', 'acinar', 'acinar', 'acinar', 'acinar', 'acinar', 'acinar', 'acinar', 'acinar', 'acinar', 'acinar', 'acinar', 'acinar', 'acinar', 'acinar', 'acinar', 'acinar', 'acinar', 'acinar', 'acinar', 'acinar', 'acinar', 'acinar', 'acinar', 'acinar', 'acinar', 'acinar', 'acinar', 'acinar', 'acinar', 'acinar', 'acinar', 'acinar', 'acinar', 'acinar', 'acinar', 'acinar', 'acinar', 'acinar', 'acinar', 'acinar', 'acinar', 'acinar', 'acinar', 'acinar', 'acinar', 'acinar', 'acinar', 'acinar', 'acinar', 'acinar', 'acinar', 'acinar', 'acinar', 'acinar', 'acinar', 'acinar', 'acinar', 'acinar', 'acinar', 'acinar', 'acinar', 'acinar', 'acinar', 'acinar', 'acinar', 'acinar', 'acinar', 'acinar', 'acinar', 'acinar', 'acinar', 'acinar', 'acinar', 'acinar', 'acinar', 'acinar', 'acinar', 'acinar', 'acinar', 'acinar', 'acinar', 'acinar', 'acinar', 'acinar', 'acinar', 'acinar', 'acinar', 'acinar', 'acinar', 'acinar', 'acinar', 'acinar', 'acinar', 'acinar', 'acinar', 'acinar', 'acinar', 'acinar', 'acinar', 'acinar', 'acinar', 'acinar', 'acinar', 'acinar', 'acinar', 'acinar', 'acinar', 'acinar', 'acinar', 'acinar', 'acinar', 'acinar', 'acinar', 'acinar', 'acinar', 'acinar', 'acinar', 'acinar', 'acinar', 'acinar', 'acinar', 'acinar', 'acinar', 'acinar', 'acinar', 'acinar', 'acinar', 'acinar', 'acinar', 'acinar', 'acinar', 'alpha', 'alpha', 'alpha', 'alpha', 'alpha', 'alpha', 'alpha', 'alpha', 'alpha', 'alpha', 'alpha', 'alpha', 'alpha', 'alpha', 'alpha', 'alpha', 'alpha', 'alpha', 'alpha', 'alpha', 'alpha', 'alpha', 'alpha', 'alpha', 'alpha', 'alpha', 'alpha', 'alpha', 'alpha', 'alpha', 'alpha', 'alpha', 'alpha', 'alpha', 'alpha', 'alpha', 'alpha', 'alpha', 'alpha', 'alpha', 'alpha', 'alpha', 'alpha', 'alpha', 'alpha', 'alpha', 'alpha', 'alpha', 'alpha', 'alpha', 'alpha', 'alpha', 'alpha', 'alpha', 'alpha', 'alpha', 'alpha', 'alpha', 'alpha', 'alpha', 'alpha', 'alpha', 'alpha', 'alpha', 'alpha', 'alpha', 'alpha', 'alpha', 'alpha', 'alpha', 'alpha', 'alpha', 'alpha', 'alpha', 'alpha', 'alpha', 'alpha', 'alpha', 'alpha', 'alpha', 'alpha', 'alpha', 'alpha', 'alpha', 'alpha', 'alpha', 'alpha', 'alpha', 'alpha', 'alpha', 'alpha', 'alpha', 'alpha', 'alpha', 'alpha', 'alpha', 'alpha', 'alpha', 'alpha', 'alpha', 'alpha', 'alpha', 'alpha', 'alpha', 'alpha', 'alpha', 'alpha', 'alpha', 'alpha', 'alpha', 'alpha', 'alpha', 'alpha', 'alpha', 'alpha', 'alpha', 'alpha', 'alpha', 'alpha', 'alpha', 'alpha', 'alpha', 'alpha', 'alpha', 'alpha', 'alpha', 'alpha', 'alpha', 'alpha', 'alpha', 'alpha', 'alpha', 'alpha', 'alpha', 'alpha', 'alpha', 'alpha', 'alpha', 'alpha', 'alpha', 'alpha', 'alpha', 'alpha', 'alpha', 'alpha', 'alpha', 'alpha', 'alpha', 'alpha', 'alpha', 'alpha', 'alpha', 'alpha', 'alpha', 'alpha', 'alpha', 'alpha', 'alpha', 'alpha', 'alpha', 'alpha', 'alpha', 'alpha', 'alpha', 'alpha', 'alpha', 'alpha', 'alpha', 'alpha', 'alpha', 'alpha', 'alpha', 'alpha', 'alpha', 'alpha', 'alpha', 'alpha', 'alpha', 'alpha', 'alpha', 'alpha', 'alpha', 'alpha', 'alpha', 'alpha', 'alpha', 'alpha', 'alpha', 'alpha', 'alpha', 'alpha', 'delta', 'delta', 'delta', 'delta', 'delta', 'delta', 'delta', 'delta', 'delta', 'delta', 'delta', 'delta', 'delta', 'delta', 'delta', 'delta', 'delta', 'delta', 'delta', 'delta', 'delta', 'delta', 'delta', 'delta', 'delta', 'delta', 'delta', 'delta', 'delta', 'delta', 'delta', 'delta', 'delta', 'delta', 'delta', 'delta', 'delta', 'delta', 'delta', 'delta', 'delta', 'delta', 'delta', 'delta', 'delta', 'delta', 'delta', 'delta', 'delta', 'delta', 'beta', 'beta', 'beta', 'beta', 'beta', 'beta', 'beta', 'beta', 'beta', 'beta', 'beta', 'beta', 'beta', 'beta', 'beta', 'beta', 'beta', 'beta', 'beta', 'beta', 'beta', 'beta', 'beta', 'beta', 'beta', 'beta', 'beta', 'beta', 'beta', 'beta', 'beta', 'beta', 'beta', 'beta', 'beta', 'beta', 'beta', 'beta', 'beta', 'beta', 'beta', 'beta', 'beta', 'beta', 'beta', 'beta', 'beta', 'beta', 'beta', 'beta', 'beta', 'beta', 'beta', 'beta', 'beta', 'beta', 'beta', 'beta', 'beta', 'beta', 'beta', 'beta', 'beta', 'beta', 'beta', 'beta', 'beta', 'beta', 'beta', 'beta', 'beta', 'beta', 'beta', 'beta', 'beta', 'beta', 'beta', 'beta', 'beta', 'beta', 'beta', 'beta', 'beta', 'beta', 'beta', 'beta', 'beta', 'beta', 'beta', 'beta', 'beta', 'beta', 'beta', 'beta', 'beta', 'beta', 'beta', 'beta', 'beta', 'beta', 'beta', 'beta', 'beta', 'beta', 'beta', 'beta', 'beta', 'beta', 'beta', 'beta', 'beta', 'beta', 'beta', 'beta', 'beta', 'beta', 'beta', 'beta', 'beta', 'beta', 'beta', 'beta', 'beta', 'beta', 'beta', 'beta', 'beta', 'beta', 'beta', 'beta', 'beta', 'beta', 'beta', 'beta', 'beta', 'beta', 'beta', 'beta', 'beta', 'beta', 'beta', 'beta', 'beta', 'beta', 'beta', 'beta', 'beta', 'beta', 'beta', 'beta', 'beta', 'beta', 'beta', 'beta', 'beta', 'beta', 'beta', 'beta', 'beta', 'beta', 'beta', 'ductal', 'ductal', 'ductal', 'ductal', 'ductal', 'ductal', 'ductal', 'ductal', 'ductal', 'ductal', 'ductal', 'ductal', 'ductal', 'ductal', 'ductal', 'ductal', 'ductal', 'ductal', 'ductal', 'ductal', 'ductal', 'ductal', 'ductal', 'ductal', 'ductal', 'ductal', 'ductal', 'ductal', 'ductal', 'ductal', 'ductal', 'ductal', 'ductal', 'ductal', 'ductal', 'ductal', 'ductal', 'ductal', 'ductal', 'ductal', 'ductal', 'ductal', 'ductal', 'ductal', 'ductal', 'ductal', 'ductal', 'ductal', 'ductal', 'ductal', 'ductal', 'ductal', 'ductal', 'ductal', 'ductal', 'ductal', 'ductal', 'ductal', 'ductal', 'ductal', 'ductal', 'ductal', 'ductal', 'ductal', 'ductal', 'ductal', 'ductal', 'ductal', 'ductal', 'ductal', 'ductal', 'ductal', 'ductal', 'ductal', 'ductal', 'ductal', 'ductal', 'ductal', 'ductal', 'ductal', 'ductal', 'ductal', 'ductal', 'ductal', 'ductal', 'ductal', 'ductal', 'ductal', 'ductal', 'ductal', 'ductal', 'ductal', 'ductal', 'ductal', 'ductal', 'ductal', 'ductal', 'ductal', 'ductal', 'ductal', 'ductal', 'ductal', 'ductal', 'ductal', 'ductal', 'ductal', 'ductal', 'ductal', 'ductal', 'ductal', 'ductal', 'ductal', 'ductal', 'ductal', 'ductal', 'ductal', 'ductal', 'ductal', 'ductal', 'ductal', 'ductal', 'ductal', 'ductal', 'ductal', 'ductal', 'ductal', 'ductal', 'ductal', 'ductal', 'ductal', 'ductal', 'ductal', 'ductal', 'ductal', 'ductal', 'ductal', 'ductal', 'ductal', 'ductal', 'ductal', 'ductal', 'ductal', 'ductal', 'ductal', 'ductal', 'ductal', 'ductal', 'ductal', 'ductal', 'ductal', 'ductal', 'ductal', 'ductal', 'ductal', 'ductal', 'ductal', 'ductal', 'ductal', 'ductal', 'ductal', 'ductal', 'ductal', 'ductal', 'ductal', 'ductal', 'ductal', 'ductal', 'ductal', 'ductal', 'ductal', 'ductal', 'ductal', 'ductal', 'ductal', 'ductal', 'ductal', 'ductal', 'ductal', 'ductal', 'ductal', 'ductal', 'ductal', 'ductal', 'ductal', 'ductal', 'ductal', 'ductal', 'ductal', 'ductal', 'ductal', 'ductal', 'ductal', 'ductal', 'ductal', 'ductal', 'ductal', 'ductal', 'ductal', 'ductal', 'ductal', 'ductal', 'ductal', 'ductal', 'ductal', 'ductal', 'ductal', 'ductal', 'ductal', 'ductal', 'ductal', 'ductal', 'ductal', 'ductal', 'ductal', 'ductal', 'ductal', 'ductal', 'ductal', 'ductal', 'ductal', 'ductal', 'ductal', 'ductal', 'ductal', 'ductal', 'ductal', 'ductal', 'ductal', 'ductal', 'ductal', 'ductal', 'ductal', 'ductal', 'ductal', 'ductal', 'ductal', 'ductal', 'ductal', 'ductal', 'ductal', 'ductal', 'ductal', 'ductal', 'ductal', 'ductal', 'ductal', 'ductal', 'ductal', 'ductal', 'ductal', 'ductal', 'ductal', 'ductal', 'ductal', 'ductal', 'ductal', 'ductal', 'ductal', 'ductal', 'ductal', 'ductal', 'ductal', 'ductal', 'ductal', 'ductal', 'ductal', 'ductal', 'ductal', 'ductal', 'ductal', 'ductal', 'ductal', 'ductal', 'ductal', 'ductal', 'ductal', 'ductal', 'ductal', 'ductal', 'ductal', 'ductal', 'ductal', 'ductal', 'ductal', 'ductal', 'ductal', 'ductal', 'ductal', 'ductal', 'ductal', 'ductal', 'ductal', 'ductal', 'ductal', 'ductal', 'ductal', 'ductal', 'ductal', 'ductal', 'ductal', 'ductal', 'ductal', 'ductal', 'ductal', 'ductal', 'ductal', 'ductal', 'ductal', 'ductal', 'ductal', 'ductal', 'ductal', 'ductal', 'ductal', 'ductal', 'ductal', 'ductal', 'ductal', 'ductal', 'ductal', 'ductal', 'ductal', 'ductal', 'ductal', 'ductal', 'ductal', 'ductal', 'endothelial', 'endothelial', 'endothelial', 'endothelial', 'endothelial', 'activated_stellate', 'activated_stellate', 'activated_stellate', 'activated_stellate', 'activated_stellate', 'activated_stellate', 'activated_stellate', 'activated_stellate', 'activated_stellate', 'activated_stellate', 'activated_stellate', 'activated_stellate', 'activated_stellate', 'activated_stellate', 'activated_stellate', 'activated_stellate', 'activated_stellate', 'activated_stellate', 'activated_stellate', 'activated_stellate', 'ductal', 'ductal', 'gamma', 'activated_stellate']),\n",
       " 'pancreas_celseq2': Benchmark(acc=0.9452191235059761, cfmatrix=[[228, 0, 0, 0, 0, 0, 0, 0, 0, 0, 0, 0, 0, 0], [0, 19, 0, 0, 0, 0, 0, 0, 0, 0, 0, 0, 0, 0], [0, 0, 191, 0, 0, 0, 0, 0, 0, 0, 0, 0, 0, 0], [0, 0, 0, 161, 0, 0, 0, 0, 0, 0, 0, 0, 0, 0], [0, 0, 0, 50, 0, 0, 0, 0, 0, 0, 0, 0, 0, 0], [0, 0, 0, 0, 0, 327, 0, 0, 0, 0, 0, 0, 0, 0], [0, 0, 0, 0, 0, 0, 5, 0, 0, 0, 0, 0, 0, 0], [0, 0, 0, 0, 0, 0, 0, 0, 1, 0, 0, 0, 0, 0], [0, 0, 0, 0, 0, 0, 0, 0, 18, 0, 0, 0, 0, 0], [1, 0, 0, 0, 0, 0, 0, 0, 0, 0, 0, 0, 0, 0], [0, 0, 0, 0, 0, 1, 0, 0, 0, 0, 0, 0, 0, 0], [0, 1, 0, 0, 0, 0, 0, 0, 0, 0, 0, 0, 0, 0], [0, 0, 0, 0, 0, 0, 0, 0, 0, 0, 0, 1, 0, 0]], q_labels=['acinar', 'activated_stellate', 'alpha', 'beta', 'delta', 'ductal', 'endothelial', 'epsilon', 'gamma', 'macrophage', 'mast', 'quiescent_stellate', 'schwann'], ref_labels=['acinar', 'activated_stellate', 'alpha', 'beta', 'delta', 'ductal', 'endothelial', 'epsilon', 'gamma', 'macrophage', 'mast', 'quiescent_stellate', 'schwann', 'novel'], annotations=['gamma', 'gamma', 'gamma', 'gamma', 'gamma', 'gamma', 'gamma', 'gamma', 'gamma', 'gamma', 'gamma', 'gamma', 'gamma', 'gamma', 'gamma', 'gamma', 'gamma', 'gamma', 'acinar', 'acinar', 'acinar', 'acinar', 'acinar', 'acinar', 'acinar', 'acinar', 'acinar', 'acinar', 'acinar', 'acinar', 'acinar', 'acinar', 'acinar', 'acinar', 'acinar', 'acinar', 'acinar', 'acinar', 'acinar', 'acinar', 'acinar', 'acinar', 'acinar', 'acinar', 'acinar', 'acinar', 'acinar', 'acinar', 'acinar', 'acinar', 'acinar', 'acinar', 'acinar', 'acinar', 'acinar', 'acinar', 'acinar', 'acinar', 'acinar', 'acinar', 'acinar', 'acinar', 'acinar', 'acinar', 'acinar', 'acinar', 'acinar', 'acinar', 'acinar', 'acinar', 'acinar', 'acinar', 'acinar', 'acinar', 'acinar', 'acinar', 'acinar', 'acinar', 'acinar', 'acinar', 'acinar', 'acinar', 'acinar', 'acinar', 'acinar', 'acinar', 'acinar', 'acinar', 'acinar', 'acinar', 'acinar', 'acinar', 'acinar', 'acinar', 'acinar', 'acinar', 'acinar', 'acinar', 'acinar', 'acinar', 'acinar', 'acinar', 'acinar', 'acinar', 'acinar', 'acinar', 'acinar', 'acinar', 'acinar', 'acinar', 'acinar', 'acinar', 'acinar', 'acinar', 'acinar', 'acinar', 'acinar', 'acinar', 'acinar', 'acinar', 'acinar', 'acinar', 'acinar', 'acinar', 'acinar', 'acinar', 'acinar', 'acinar', 'acinar', 'acinar', 'acinar', 'acinar', 'acinar', 'acinar', 'acinar', 'acinar', 'acinar', 'acinar', 'acinar', 'acinar', 'acinar', 'acinar', 'acinar', 'acinar', 'acinar', 'acinar', 'acinar', 'acinar', 'acinar', 'acinar', 'acinar', 'acinar', 'acinar', 'acinar', 'acinar', 'acinar', 'acinar', 'acinar', 'acinar', 'acinar', 'acinar', 'acinar', 'acinar', 'acinar', 'acinar', 'acinar', 'acinar', 'acinar', 'acinar', 'acinar', 'acinar', 'acinar', 'acinar', 'acinar', 'acinar', 'acinar', 'acinar', 'acinar', 'acinar', 'acinar', 'acinar', 'acinar', 'acinar', 'acinar', 'acinar', 'acinar', 'acinar', 'acinar', 'acinar', 'acinar', 'acinar', 'acinar', 'acinar', 'acinar', 'acinar', 'acinar', 'acinar', 'acinar', 'acinar', 'acinar', 'acinar', 'acinar', 'acinar', 'acinar', 'acinar', 'acinar', 'acinar', 'acinar', 'acinar', 'acinar', 'acinar', 'acinar', 'acinar', 'acinar', 'acinar', 'acinar', 'acinar', 'acinar', 'acinar', 'acinar', 'acinar', 'acinar', 'acinar', 'acinar', 'acinar', 'acinar', 'acinar', 'acinar', 'acinar', 'acinar', 'acinar', 'acinar', 'acinar', 'acinar', 'acinar', 'acinar', 'acinar', 'acinar', 'acinar', 'acinar', 'acinar', 'acinar', 'acinar', 'acinar', 'acinar', 'acinar', 'alpha', 'alpha', 'alpha', 'alpha', 'alpha', 'alpha', 'alpha', 'alpha', 'alpha', 'alpha', 'alpha', 'alpha', 'alpha', 'alpha', 'alpha', 'alpha', 'alpha', 'alpha', 'alpha', 'alpha', 'alpha', 'alpha', 'alpha', 'alpha', 'alpha', 'alpha', 'alpha', 'alpha', 'alpha', 'alpha', 'alpha', 'alpha', 'alpha', 'alpha', 'alpha', 'alpha', 'alpha', 'alpha', 'alpha', 'alpha', 'alpha', 'alpha', 'alpha', 'alpha', 'alpha', 'alpha', 'alpha', 'alpha', 'alpha', 'alpha', 'alpha', 'alpha', 'alpha', 'alpha', 'alpha', 'alpha', 'alpha', 'alpha', 'alpha', 'alpha', 'alpha', 'alpha', 'alpha', 'alpha', 'alpha', 'alpha', 'alpha', 'alpha', 'alpha', 'alpha', 'alpha', 'alpha', 'alpha', 'alpha', 'alpha', 'alpha', 'alpha', 'alpha', 'alpha', 'alpha', 'alpha', 'alpha', 'alpha', 'alpha', 'alpha', 'alpha', 'alpha', 'alpha', 'alpha', 'alpha', 'alpha', 'alpha', 'alpha', 'alpha', 'alpha', 'alpha', 'alpha', 'alpha', 'alpha', 'alpha', 'alpha', 'alpha', 'alpha', 'alpha', 'alpha', 'alpha', 'alpha', 'alpha', 'alpha', 'alpha', 'alpha', 'alpha', 'alpha', 'alpha', 'alpha', 'alpha', 'alpha', 'alpha', 'alpha', 'alpha', 'alpha', 'alpha', 'alpha', 'alpha', 'alpha', 'alpha', 'alpha', 'alpha', 'alpha', 'alpha', 'alpha', 'alpha', 'alpha', 'alpha', 'alpha', 'alpha', 'alpha', 'alpha', 'alpha', 'alpha', 'alpha', 'alpha', 'alpha', 'alpha', 'alpha', 'alpha', 'alpha', 'alpha', 'alpha', 'alpha', 'alpha', 'alpha', 'alpha', 'alpha', 'alpha', 'alpha', 'alpha', 'alpha', 'alpha', 'alpha', 'alpha', 'alpha', 'alpha', 'alpha', 'alpha', 'alpha', 'alpha', 'alpha', 'alpha', 'alpha', 'alpha', 'alpha', 'alpha', 'alpha', 'alpha', 'alpha', 'alpha', 'alpha', 'alpha', 'alpha', 'alpha', 'alpha', 'alpha', 'alpha', 'alpha', 'alpha', 'alpha', 'alpha', 'alpha', 'alpha', 'alpha', 'beta', 'beta', 'beta', 'beta', 'beta', 'beta', 'beta', 'beta', 'beta', 'beta', 'beta', 'beta', 'beta', 'beta', 'beta', 'beta', 'beta', 'beta', 'beta', 'beta', 'beta', 'beta', 'beta', 'beta', 'beta', 'beta', 'beta', 'beta', 'beta', 'beta', 'beta', 'beta', 'beta', 'beta', 'beta', 'beta', 'beta', 'beta', 'beta', 'beta', 'beta', 'beta', 'beta', 'beta', 'beta', 'beta', 'beta', 'beta', 'beta', 'beta', 'beta', 'beta', 'beta', 'beta', 'beta', 'beta', 'beta', 'beta', 'beta', 'beta', 'beta', 'beta', 'beta', 'beta', 'beta', 'beta', 'beta', 'beta', 'beta', 'beta', 'beta', 'beta', 'beta', 'beta', 'beta', 'beta', 'beta', 'beta', 'beta', 'beta', 'beta', 'beta', 'beta', 'beta', 'beta', 'beta', 'beta', 'beta', 'beta', 'beta', 'beta', 'beta', 'beta', 'beta', 'beta', 'beta', 'beta', 'beta', 'beta', 'beta', 'beta', 'beta', 'beta', 'beta', 'beta', 'beta', 'beta', 'beta', 'beta', 'beta', 'beta', 'beta', 'beta', 'beta', 'beta', 'beta', 'beta', 'beta', 'beta', 'beta', 'beta', 'beta', 'beta', 'beta', 'beta', 'beta', 'beta', 'beta', 'beta', 'beta', 'beta', 'beta', 'beta', 'beta', 'beta', 'beta', 'beta', 'beta', 'beta', 'beta', 'beta', 'beta', 'beta', 'beta', 'beta', 'beta', 'beta', 'beta', 'beta', 'beta', 'beta', 'beta', 'beta', 'beta', 'beta', 'beta', 'beta', 'beta', 'beta', 'beta', 'beta', 'beta', 'beta', 'beta', 'beta', 'beta', 'beta', 'beta', 'beta', 'beta', 'beta', 'beta', 'beta', 'beta', 'beta', 'beta', 'beta', 'beta', 'beta', 'beta', 'beta', 'beta', 'beta', 'beta', 'beta', 'beta', 'beta', 'beta', 'beta', 'beta', 'beta', 'beta', 'beta', 'beta', 'beta', 'beta', 'beta', 'beta', 'beta', 'beta', 'beta', 'beta', 'beta', 'beta', 'beta', 'beta', 'beta', 'beta', 'beta', 'beta', 'beta', 'ductal', 'ductal', 'ductal', 'ductal', 'ductal', 'ductal', 'ductal', 'ductal', 'ductal', 'ductal', 'ductal', 'ductal', 'ductal', 'ductal', 'ductal', 'ductal', 'ductal', 'ductal', 'ductal', 'ductal', 'ductal', 'ductal', 'ductal', 'ductal', 'ductal', 'ductal', 'ductal', 'ductal', 'ductal', 'ductal', 'ductal', 'ductal', 'ductal', 'ductal', 'ductal', 'ductal', 'ductal', 'ductal', 'ductal', 'ductal', 'ductal', 'ductal', 'ductal', 'ductal', 'ductal', 'ductal', 'ductal', 'ductal', 'ductal', 'ductal', 'ductal', 'ductal', 'ductal', 'ductal', 'ductal', 'ductal', 'ductal', 'ductal', 'ductal', 'ductal', 'ductal', 'ductal', 'ductal', 'ductal', 'ductal', 'ductal', 'ductal', 'ductal', 'ductal', 'ductal', 'ductal', 'ductal', 'ductal', 'ductal', 'ductal', 'ductal', 'ductal', 'ductal', 'ductal', 'ductal', 'ductal', 'ductal', 'ductal', 'ductal', 'ductal', 'ductal', 'ductal', 'ductal', 'ductal', 'ductal', 'ductal', 'ductal', 'ductal', 'ductal', 'ductal', 'ductal', 'ductal', 'ductal', 'ductal', 'ductal', 'ductal', 'ductal', 'ductal', 'ductal', 'ductal', 'ductal', 'ductal', 'ductal', 'ductal', 'ductal', 'ductal', 'ductal', 'ductal', 'ductal', 'ductal', 'ductal', 'ductal', 'ductal', 'ductal', 'ductal', 'ductal', 'ductal', 'ductal', 'ductal', 'ductal', 'ductal', 'ductal', 'ductal', 'ductal', 'ductal', 'ductal', 'ductal', 'ductal', 'ductal', 'ductal', 'ductal', 'ductal', 'ductal', 'ductal', 'ductal', 'ductal', 'ductal', 'ductal', 'ductal', 'ductal', 'ductal', 'ductal', 'ductal', 'ductal', 'ductal', 'ductal', 'ductal', 'ductal', 'ductal', 'ductal', 'ductal', 'ductal', 'ductal', 'ductal', 'ductal', 'ductal', 'ductal', 'ductal', 'ductal', 'ductal', 'ductal', 'ductal', 'ductal', 'ductal', 'ductal', 'ductal', 'ductal', 'ductal', 'ductal', 'ductal', 'ductal', 'ductal', 'ductal', 'ductal', 'ductal', 'ductal', 'ductal', 'ductal', 'ductal', 'ductal', 'ductal', 'ductal', 'ductal', 'ductal', 'ductal', 'ductal', 'ductal', 'ductal', 'ductal', 'ductal', 'ductal', 'ductal', 'ductal', 'ductal', 'ductal', 'ductal', 'ductal', 'ductal', 'ductal', 'ductal', 'ductal', 'ductal', 'ductal', 'ductal', 'ductal', 'ductal', 'ductal', 'ductal', 'ductal', 'ductal', 'ductal', 'ductal', 'ductal', 'ductal', 'ductal', 'ductal', 'ductal', 'ductal', 'ductal', 'ductal', 'ductal', 'ductal', 'ductal', 'ductal', 'ductal', 'ductal', 'ductal', 'ductal', 'ductal', 'ductal', 'ductal', 'ductal', 'ductal', 'ductal', 'ductal', 'ductal', 'ductal', 'ductal', 'ductal', 'ductal', 'ductal', 'ductal', 'ductal', 'ductal', 'ductal', 'ductal', 'ductal', 'ductal', 'ductal', 'ductal', 'ductal', 'ductal', 'ductal', 'ductal', 'ductal', 'ductal', 'ductal', 'ductal', 'ductal', 'ductal', 'ductal', 'ductal', 'ductal', 'ductal', 'ductal', 'ductal', 'ductal', 'ductal', 'ductal', 'ductal', 'ductal', 'ductal', 'ductal', 'ductal', 'ductal', 'ductal', 'ductal', 'ductal', 'ductal', 'ductal', 'ductal', 'ductal', 'ductal', 'ductal', 'ductal', 'ductal', 'ductal', 'ductal', 'ductal', 'ductal', 'ductal', 'ductal', 'ductal', 'ductal', 'ductal', 'ductal', 'ductal', 'ductal', 'ductal', 'ductal', 'ductal', 'ductal', 'ductal', 'ductal', 'ductal', 'ductal', 'ductal', 'ductal', 'ductal', 'ductal', 'ductal', 'ductal', 'ductal', 'ductal', 'ductal', 'ductal', 'ductal', 'ductal', 'ductal', 'ductal', 'ductal', 'ductal', 'endothelial', 'endothelial', 'endothelial', 'endothelial', 'endothelial', 'activated_stellate', 'activated_stellate', 'activated_stellate', 'activated_stellate', 'activated_stellate', 'activated_stellate', 'activated_stellate', 'activated_stellate', 'activated_stellate', 'activated_stellate', 'activated_stellate', 'activated_stellate', 'activated_stellate', 'activated_stellate', 'activated_stellate', 'activated_stellate', 'activated_stellate', 'activated_stellate', 'activated_stellate', 'quiescent_stellate', 'ductal', 'acinar', 'gamma', 'activated_stellate']),\n",
       " 'pancreas_fluidigmc1': Benchmark(acc=0.6145418326693227, cfmatrix=[[228, 0, 0, 0, 0, 0, 0, 0, 0, 0, 0, 0, 0, 0], [0, 19, 0, 0, 0, 0, 0, 0, 0, 0, 0, 0, 0, 0], [0, 0, 191, 0, 0, 0, 0, 0, 0, 0, 0, 0, 0, 0], [0, 0, 0, 161, 0, 0, 0, 0, 0, 0, 0, 0, 0, 0], [0, 0, 0, 50, 0, 0, 0, 0, 0, 0, 0, 0, 0, 0], [327, 0, 0, 0, 0, 0, 0, 0, 0, 0, 0, 0, 0, 0], [0, 5, 0, 0, 0, 0, 0, 0, 0, 0, 0, 0, 0, 0], [0, 0, 1, 0, 0, 0, 0, 0, 0, 0, 0, 0, 0, 0], [0, 0, 0, 0, 0, 0, 0, 0, 18, 0, 0, 0, 0, 0], [1, 0, 0, 0, 0, 0, 0, 0, 0, 0, 0, 0, 0, 0], [1, 0, 0, 0, 0, 0, 0, 0, 0, 0, 0, 0, 0, 0], [0, 1, 0, 0, 0, 0, 0, 0, 0, 0, 0, 0, 0, 0], [0, 1, 0, 0, 0, 0, 0, 0, 0, 0, 0, 0, 0, 0]], q_labels=['acinar', 'activated_stellate', 'alpha', 'beta', 'delta', 'ductal', 'endothelial', 'epsilon', 'gamma', 'macrophage', 'mast', 'quiescent_stellate', 'schwann'], ref_labels=['acinar', 'activated_stellate', 'alpha', 'beta', 'delta', 'ductal', 'endothelial', 'epsilon', 'gamma', 'macrophage', 'mast', 'quiescent_stellate', 'schwann', 'novel'], annotations=['gamma', 'gamma', 'gamma', 'gamma', 'gamma', 'gamma', 'gamma', 'gamma', 'gamma', 'gamma', 'gamma', 'gamma', 'gamma', 'gamma', 'gamma', 'gamma', 'gamma', 'gamma', 'acinar', 'acinar', 'acinar', 'acinar', 'acinar', 'acinar', 'acinar', 'acinar', 'acinar', 'acinar', 'acinar', 'acinar', 'acinar', 'acinar', 'acinar', 'acinar', 'acinar', 'acinar', 'acinar', 'acinar', 'acinar', 'acinar', 'acinar', 'acinar', 'acinar', 'acinar', 'acinar', 'acinar', 'acinar', 'acinar', 'acinar', 'acinar', 'acinar', 'acinar', 'acinar', 'acinar', 'acinar', 'acinar', 'acinar', 'acinar', 'acinar', 'acinar', 'acinar', 'acinar', 'acinar', 'acinar', 'acinar', 'acinar', 'acinar', 'acinar', 'acinar', 'acinar', 'acinar', 'acinar', 'acinar', 'acinar', 'acinar', 'acinar', 'acinar', 'acinar', 'acinar', 'acinar', 'acinar', 'acinar', 'acinar', 'acinar', 'acinar', 'acinar', 'acinar', 'acinar', 'acinar', 'acinar', 'acinar', 'acinar', 'acinar', 'acinar', 'acinar', 'acinar', 'acinar', 'acinar', 'acinar', 'acinar', 'acinar', 'acinar', 'acinar', 'acinar', 'acinar', 'acinar', 'acinar', 'acinar', 'acinar', 'acinar', 'acinar', 'acinar', 'acinar', 'acinar', 'acinar', 'acinar', 'acinar', 'acinar', 'acinar', 'acinar', 'acinar', 'acinar', 'acinar', 'acinar', 'acinar', 'acinar', 'acinar', 'acinar', 'acinar', 'acinar', 'acinar', 'acinar', 'acinar', 'acinar', 'acinar', 'acinar', 'acinar', 'acinar', 'acinar', 'acinar', 'acinar', 'acinar', 'acinar', 'acinar', 'acinar', 'acinar', 'acinar', 'acinar', 'acinar', 'acinar', 'acinar', 'acinar', 'acinar', 'acinar', 'acinar', 'acinar', 'acinar', 'acinar', 'acinar', 'acinar', 'acinar', 'acinar', 'acinar', 'acinar', 'acinar', 'acinar', 'acinar', 'acinar', 'acinar', 'acinar', 'acinar', 'acinar', 'acinar', 'acinar', 'acinar', 'acinar', 'acinar', 'acinar', 'acinar', 'acinar', 'acinar', 'acinar', 'acinar', 'acinar', 'acinar', 'acinar', 'acinar', 'acinar', 'acinar', 'acinar', 'acinar', 'acinar', 'acinar', 'acinar', 'acinar', 'acinar', 'acinar', 'acinar', 'acinar', 'acinar', 'acinar', 'acinar', 'acinar', 'acinar', 'acinar', 'acinar', 'acinar', 'acinar', 'acinar', 'acinar', 'acinar', 'acinar', 'acinar', 'acinar', 'acinar', 'acinar', 'acinar', 'acinar', 'acinar', 'acinar', 'acinar', 'acinar', 'acinar', 'acinar', 'acinar', 'acinar', 'acinar', 'acinar', 'acinar', 'acinar', 'acinar', 'acinar', 'acinar', 'acinar', 'acinar', 'acinar', 'acinar', 'acinar', 'acinar', 'acinar', 'acinar', 'acinar', 'acinar', 'acinar', 'acinar', 'acinar', 'alpha', 'alpha', 'alpha', 'alpha', 'alpha', 'alpha', 'alpha', 'alpha', 'alpha', 'alpha', 'alpha', 'alpha', 'alpha', 'alpha', 'alpha', 'alpha', 'alpha', 'alpha', 'alpha', 'alpha', 'alpha', 'alpha', 'alpha', 'alpha', 'alpha', 'alpha', 'alpha', 'alpha', 'alpha', 'alpha', 'alpha', 'alpha', 'alpha', 'alpha', 'alpha', 'alpha', 'alpha', 'alpha', 'alpha', 'alpha', 'alpha', 'alpha', 'alpha', 'alpha', 'alpha', 'alpha', 'alpha', 'alpha', 'alpha', 'alpha', 'alpha', 'alpha', 'alpha', 'alpha', 'alpha', 'alpha', 'alpha', 'alpha', 'alpha', 'alpha', 'alpha', 'alpha', 'alpha', 'alpha', 'alpha', 'alpha', 'alpha', 'alpha', 'alpha', 'alpha', 'alpha', 'alpha', 'alpha', 'alpha', 'alpha', 'alpha', 'alpha', 'alpha', 'alpha', 'alpha', 'alpha', 'alpha', 'alpha', 'alpha', 'alpha', 'alpha', 'alpha', 'alpha', 'alpha', 'alpha', 'alpha', 'alpha', 'alpha', 'alpha', 'alpha', 'alpha', 'alpha', 'alpha', 'alpha', 'alpha', 'alpha', 'alpha', 'alpha', 'alpha', 'alpha', 'alpha', 'alpha', 'alpha', 'alpha', 'alpha', 'alpha', 'alpha', 'alpha', 'alpha', 'alpha', 'alpha', 'alpha', 'alpha', 'alpha', 'alpha', 'alpha', 'alpha', 'alpha', 'alpha', 'alpha', 'alpha', 'alpha', 'alpha', 'alpha', 'alpha', 'alpha', 'alpha', 'alpha', 'alpha', 'alpha', 'alpha', 'alpha', 'alpha', 'alpha', 'alpha', 'alpha', 'alpha', 'alpha', 'alpha', 'alpha', 'alpha', 'alpha', 'alpha', 'alpha', 'alpha', 'alpha', 'alpha', 'alpha', 'alpha', 'alpha', 'alpha', 'alpha', 'alpha', 'alpha', 'alpha', 'alpha', 'alpha', 'alpha', 'alpha', 'alpha', 'alpha', 'alpha', 'alpha', 'alpha', 'alpha', 'alpha', 'alpha', 'alpha', 'alpha', 'alpha', 'alpha', 'alpha', 'alpha', 'alpha', 'alpha', 'alpha', 'alpha', 'alpha', 'alpha', 'alpha', 'alpha', 'alpha', 'alpha', 'alpha', 'alpha', 'alpha', 'beta', 'beta', 'beta', 'beta', 'beta', 'beta', 'beta', 'beta', 'beta', 'beta', 'beta', 'beta', 'beta', 'beta', 'beta', 'beta', 'beta', 'beta', 'beta', 'beta', 'beta', 'beta', 'beta', 'beta', 'beta', 'beta', 'beta', 'beta', 'beta', 'beta', 'beta', 'beta', 'beta', 'beta', 'beta', 'beta', 'beta', 'beta', 'beta', 'beta', 'beta', 'beta', 'beta', 'beta', 'beta', 'beta', 'beta', 'beta', 'beta', 'beta', 'beta', 'beta', 'beta', 'beta', 'beta', 'beta', 'beta', 'beta', 'beta', 'beta', 'beta', 'beta', 'beta', 'beta', 'beta', 'beta', 'beta', 'beta', 'beta', 'beta', 'beta', 'beta', 'beta', 'beta', 'beta', 'beta', 'beta', 'beta', 'beta', 'beta', 'beta', 'beta', 'beta', 'beta', 'beta', 'beta', 'beta', 'beta', 'beta', 'beta', 'beta', 'beta', 'beta', 'beta', 'beta', 'beta', 'beta', 'beta', 'beta', 'beta', 'beta', 'beta', 'beta', 'beta', 'beta', 'beta', 'beta', 'beta', 'beta', 'beta', 'beta', 'beta', 'beta', 'beta', 'beta', 'beta', 'beta', 'beta', 'beta', 'beta', 'beta', 'beta', 'beta', 'beta', 'beta', 'beta', 'beta', 'beta', 'beta', 'beta', 'beta', 'beta', 'beta', 'beta', 'beta', 'beta', 'beta', 'beta', 'beta', 'beta', 'beta', 'beta', 'beta', 'beta', 'beta', 'beta', 'beta', 'beta', 'beta', 'beta', 'beta', 'beta', 'beta', 'beta', 'beta', 'beta', 'beta', 'beta', 'beta', 'beta', 'beta', 'beta', 'beta', 'beta', 'beta', 'beta', 'beta', 'beta', 'beta', 'beta', 'beta', 'beta', 'beta', 'beta', 'beta', 'beta', 'beta', 'beta', 'beta', 'beta', 'beta', 'beta', 'beta', 'beta', 'beta', 'beta', 'beta', 'beta', 'beta', 'beta', 'beta', 'beta', 'beta', 'beta', 'beta', 'beta', 'beta', 'beta', 'beta', 'beta', 'beta', 'beta', 'beta', 'beta', 'beta', 'beta', 'beta', 'beta', 'beta', 'beta', 'beta', 'acinar', 'acinar', 'acinar', 'acinar', 'acinar', 'acinar', 'acinar', 'acinar', 'acinar', 'acinar', 'acinar', 'acinar', 'acinar', 'acinar', 'acinar', 'acinar', 'acinar', 'acinar', 'acinar', 'acinar', 'acinar', 'acinar', 'acinar', 'acinar', 'acinar', 'acinar', 'acinar', 'acinar', 'acinar', 'acinar', 'acinar', 'acinar', 'acinar', 'acinar', 'acinar', 'acinar', 'acinar', 'acinar', 'acinar', 'acinar', 'acinar', 'acinar', 'acinar', 'acinar', 'acinar', 'acinar', 'acinar', 'acinar', 'acinar', 'acinar', 'acinar', 'acinar', 'acinar', 'acinar', 'acinar', 'acinar', 'acinar', 'acinar', 'acinar', 'acinar', 'acinar', 'acinar', 'acinar', 'acinar', 'acinar', 'acinar', 'acinar', 'acinar', 'acinar', 'acinar', 'acinar', 'acinar', 'acinar', 'acinar', 'acinar', 'acinar', 'acinar', 'acinar', 'acinar', 'acinar', 'acinar', 'acinar', 'acinar', 'acinar', 'acinar', 'acinar', 'acinar', 'acinar', 'acinar', 'acinar', 'acinar', 'acinar', 'acinar', 'acinar', 'acinar', 'acinar', 'acinar', 'acinar', 'acinar', 'acinar', 'acinar', 'acinar', 'acinar', 'acinar', 'acinar', 'acinar', 'acinar', 'acinar', 'acinar', 'acinar', 'acinar', 'acinar', 'acinar', 'acinar', 'acinar', 'acinar', 'acinar', 'acinar', 'acinar', 'acinar', 'acinar', 'acinar', 'acinar', 'acinar', 'acinar', 'acinar', 'acinar', 'acinar', 'acinar', 'acinar', 'acinar', 'acinar', 'acinar', 'acinar', 'acinar', 'acinar', 'acinar', 'acinar', 'acinar', 'acinar', 'acinar', 'acinar', 'acinar', 'acinar', 'acinar', 'acinar', 'acinar', 'acinar', 'acinar', 'acinar', 'acinar', 'acinar', 'acinar', 'acinar', 'acinar', 'acinar', 'acinar', 'acinar', 'acinar', 'acinar', 'acinar', 'acinar', 'acinar', 'acinar', 'acinar', 'acinar', 'acinar', 'acinar', 'acinar', 'acinar', 'acinar', 'acinar', 'acinar', 'acinar', 'acinar', 'acinar', 'acinar', 'acinar', 'acinar', 'acinar', 'acinar', 'acinar', 'acinar', 'acinar', 'acinar', 'acinar', 'acinar', 'acinar', 'acinar', 'acinar', 'acinar', 'acinar', 'acinar', 'acinar', 'acinar', 'acinar', 'acinar', 'acinar', 'acinar', 'acinar', 'acinar', 'acinar', 'acinar', 'acinar', 'acinar', 'acinar', 'acinar', 'acinar', 'acinar', 'acinar', 'acinar', 'acinar', 'acinar', 'acinar', 'acinar', 'acinar', 'acinar', 'acinar', 'acinar', 'acinar', 'acinar', 'acinar', 'acinar', 'acinar', 'acinar', 'acinar', 'acinar', 'acinar', 'acinar', 'acinar', 'acinar', 'acinar', 'acinar', 'acinar', 'acinar', 'acinar', 'acinar', 'acinar', 'acinar', 'acinar', 'acinar', 'acinar', 'acinar', 'acinar', 'acinar', 'acinar', 'acinar', 'acinar', 'acinar', 'acinar', 'acinar', 'acinar', 'acinar', 'acinar', 'acinar', 'acinar', 'acinar', 'acinar', 'acinar', 'acinar', 'acinar', 'acinar', 'acinar', 'acinar', 'acinar', 'acinar', 'acinar', 'acinar', 'acinar', 'acinar', 'acinar', 'acinar', 'acinar', 'acinar', 'acinar', 'acinar', 'acinar', 'acinar', 'acinar', 'acinar', 'acinar', 'acinar', 'acinar', 'acinar', 'acinar', 'acinar', 'acinar', 'acinar', 'acinar', 'acinar', 'acinar', 'acinar', 'acinar', 'acinar', 'acinar', 'acinar', 'acinar', 'acinar', 'acinar', 'acinar', 'acinar', 'acinar', 'acinar', 'acinar', 'acinar', 'acinar', 'acinar', 'acinar', 'acinar', 'acinar', 'acinar', 'acinar', 'acinar', 'acinar', 'acinar', 'acinar', 'acinar', 'acinar', 'acinar', 'acinar', 'acinar', 'acinar', 'acinar', 'acinar', 'acinar', 'acinar', 'acinar', 'activated_stellate', 'activated_stellate', 'activated_stellate', 'activated_stellate', 'activated_stellate', 'activated_stellate', 'activated_stellate', 'activated_stellate', 'activated_stellate', 'activated_stellate', 'activated_stellate', 'activated_stellate', 'activated_stellate', 'activated_stellate', 'activated_stellate', 'activated_stellate', 'activated_stellate', 'activated_stellate', 'activated_stellate', 'activated_stellate', 'activated_stellate', 'activated_stellate', 'activated_stellate', 'activated_stellate', 'activated_stellate', 'acinar', 'acinar', 'alpha', 'activated_stellate']),\n",
       " 'pancreas_smartseq2': Benchmark(acc=0.9950199203187251, cfmatrix=[[228, 0, 0, 0, 0, 0, 0, 0, 0, 0, 0, 0, 0, 0], [0, 19, 0, 0, 0, 0, 0, 0, 0, 0, 0, 0, 0, 0], [0, 0, 191, 0, 0, 0, 0, 0, 0, 0, 0, 0, 0, 0], [0, 0, 0, 161, 0, 0, 0, 0, 0, 0, 0, 0, 0, 0], [0, 0, 0, 0, 50, 0, 0, 0, 0, 0, 0, 0, 0, 0], [0, 0, 0, 0, 0, 327, 0, 0, 0, 0, 0, 0, 0, 0], [0, 0, 0, 0, 0, 0, 5, 0, 0, 0, 0, 0, 0, 0], [0, 0, 0, 0, 1, 0, 0, 0, 0, 0, 0, 0, 0, 0], [0, 0, 0, 0, 0, 0, 0, 0, 18, 0, 0, 0, 0, 0], [1, 0, 0, 0, 0, 0, 0, 0, 0, 0, 0, 0, 0, 0], [0, 0, 0, 0, 0, 1, 0, 0, 0, 0, 0, 0, 0, 0], [0, 1, 0, 0, 0, 0, 0, 0, 0, 0, 0, 0, 0, 0], [0, 1, 0, 0, 0, 0, 0, 0, 0, 0, 0, 0, 0, 0]], q_labels=['acinar', 'activated_stellate', 'alpha', 'beta', 'delta', 'ductal', 'endothelial', 'epsilon', 'gamma', 'macrophage', 'mast', 'quiescent_stellate', 'schwann'], ref_labels=['acinar', 'activated_stellate', 'alpha', 'beta', 'delta', 'ductal', 'endothelial', 'epsilon', 'gamma', 'macrophage', 'mast', 'quiescent_stellate', 'schwann', 'novel'], annotations=['gamma', 'gamma', 'gamma', 'gamma', 'gamma', 'gamma', 'gamma', 'gamma', 'gamma', 'gamma', 'gamma', 'gamma', 'gamma', 'gamma', 'gamma', 'gamma', 'gamma', 'gamma', 'acinar', 'acinar', 'acinar', 'acinar', 'acinar', 'acinar', 'acinar', 'acinar', 'acinar', 'acinar', 'acinar', 'acinar', 'acinar', 'acinar', 'acinar', 'acinar', 'acinar', 'acinar', 'acinar', 'acinar', 'acinar', 'acinar', 'acinar', 'acinar', 'acinar', 'acinar', 'acinar', 'acinar', 'acinar', 'acinar', 'acinar', 'acinar', 'acinar', 'acinar', 'acinar', 'acinar', 'acinar', 'acinar', 'acinar', 'acinar', 'acinar', 'acinar', 'acinar', 'acinar', 'acinar', 'acinar', 'acinar', 'acinar', 'acinar', 'acinar', 'acinar', 'acinar', 'acinar', 'acinar', 'acinar', 'acinar', 'acinar', 'acinar', 'acinar', 'acinar', 'acinar', 'acinar', 'acinar', 'acinar', 'acinar', 'acinar', 'acinar', 'acinar', 'acinar', 'acinar', 'acinar', 'acinar', 'acinar', 'acinar', 'acinar', 'acinar', 'acinar', 'acinar', 'acinar', 'acinar', 'acinar', 'acinar', 'acinar', 'acinar', 'acinar', 'acinar', 'acinar', 'acinar', 'acinar', 'acinar', 'acinar', 'acinar', 'acinar', 'acinar', 'acinar', 'acinar', 'acinar', 'acinar', 'acinar', 'acinar', 'acinar', 'acinar', 'acinar', 'acinar', 'acinar', 'acinar', 'acinar', 'acinar', 'acinar', 'acinar', 'acinar', 'acinar', 'acinar', 'acinar', 'acinar', 'acinar', 'acinar', 'acinar', 'acinar', 'acinar', 'acinar', 'acinar', 'acinar', 'acinar', 'acinar', 'acinar', 'acinar', 'acinar', 'acinar', 'acinar', 'acinar', 'acinar', 'acinar', 'acinar', 'acinar', 'acinar', 'acinar', 'acinar', 'acinar', 'acinar', 'acinar', 'acinar', 'acinar', 'acinar', 'acinar', 'acinar', 'acinar', 'acinar', 'acinar', 'acinar', 'acinar', 'acinar', 'acinar', 'acinar', 'acinar', 'acinar', 'acinar', 'acinar', 'acinar', 'acinar', 'acinar', 'acinar', 'acinar', 'acinar', 'acinar', 'acinar', 'acinar', 'acinar', 'acinar', 'acinar', 'acinar', 'acinar', 'acinar', 'acinar', 'acinar', 'acinar', 'acinar', 'acinar', 'acinar', 'acinar', 'acinar', 'acinar', 'acinar', 'acinar', 'acinar', 'acinar', 'acinar', 'acinar', 'acinar', 'acinar', 'acinar', 'acinar', 'acinar', 'acinar', 'acinar', 'acinar', 'acinar', 'acinar', 'acinar', 'acinar', 'acinar', 'acinar', 'acinar', 'acinar', 'acinar', 'acinar', 'acinar', 'acinar', 'acinar', 'acinar', 'acinar', 'acinar', 'acinar', 'acinar', 'acinar', 'acinar', 'acinar', 'acinar', 'acinar', 'acinar', 'acinar', 'acinar', 'acinar', 'acinar', 'acinar', 'acinar', 'acinar', 'acinar', 'alpha', 'alpha', 'alpha', 'alpha', 'alpha', 'alpha', 'alpha', 'alpha', 'alpha', 'alpha', 'alpha', 'alpha', 'alpha', 'alpha', 'alpha', 'alpha', 'alpha', 'alpha', 'alpha', 'alpha', 'alpha', 'alpha', 'alpha', 'alpha', 'alpha', 'alpha', 'alpha', 'alpha', 'alpha', 'alpha', 'alpha', 'alpha', 'alpha', 'alpha', 'alpha', 'alpha', 'alpha', 'alpha', 'alpha', 'alpha', 'alpha', 'alpha', 'alpha', 'alpha', 'alpha', 'alpha', 'alpha', 'alpha', 'alpha', 'alpha', 'alpha', 'alpha', 'alpha', 'alpha', 'alpha', 'alpha', 'alpha', 'alpha', 'alpha', 'alpha', 'alpha', 'alpha', 'alpha', 'alpha', 'alpha', 'alpha', 'alpha', 'alpha', 'alpha', 'alpha', 'alpha', 'alpha', 'alpha', 'alpha', 'alpha', 'alpha', 'alpha', 'alpha', 'alpha', 'alpha', 'alpha', 'alpha', 'alpha', 'alpha', 'alpha', 'alpha', 'alpha', 'alpha', 'alpha', 'alpha', 'alpha', 'alpha', 'alpha', 'alpha', 'alpha', 'alpha', 'alpha', 'alpha', 'alpha', 'alpha', 'alpha', 'alpha', 'alpha', 'alpha', 'alpha', 'alpha', 'alpha', 'alpha', 'alpha', 'alpha', 'alpha', 'alpha', 'alpha', 'alpha', 'alpha', 'alpha', 'alpha', 'alpha', 'alpha', 'alpha', 'alpha', 'alpha', 'alpha', 'alpha', 'alpha', 'alpha', 'alpha', 'alpha', 'alpha', 'alpha', 'alpha', 'alpha', 'alpha', 'alpha', 'alpha', 'alpha', 'alpha', 'alpha', 'alpha', 'alpha', 'alpha', 'alpha', 'alpha', 'alpha', 'alpha', 'alpha', 'alpha', 'alpha', 'alpha', 'alpha', 'alpha', 'alpha', 'alpha', 'alpha', 'alpha', 'alpha', 'alpha', 'alpha', 'alpha', 'alpha', 'alpha', 'alpha', 'alpha', 'alpha', 'alpha', 'alpha', 'alpha', 'alpha', 'alpha', 'alpha', 'alpha', 'alpha', 'alpha', 'alpha', 'alpha', 'alpha', 'alpha', 'alpha', 'alpha', 'alpha', 'alpha', 'alpha', 'alpha', 'alpha', 'alpha', 'alpha', 'alpha', 'alpha', 'alpha', 'alpha', 'alpha', 'delta', 'delta', 'delta', 'delta', 'delta', 'delta', 'delta', 'delta', 'delta', 'delta', 'delta', 'delta', 'delta', 'delta', 'delta', 'delta', 'delta', 'delta', 'delta', 'delta', 'delta', 'delta', 'delta', 'delta', 'delta', 'delta', 'delta', 'delta', 'delta', 'delta', 'delta', 'delta', 'delta', 'delta', 'delta', 'delta', 'delta', 'delta', 'delta', 'delta', 'delta', 'delta', 'delta', 'delta', 'delta', 'delta', 'delta', 'delta', 'delta', 'delta', 'beta', 'beta', 'beta', 'beta', 'beta', 'beta', 'beta', 'beta', 'beta', 'beta', 'beta', 'beta', 'beta', 'beta', 'beta', 'beta', 'beta', 'beta', 'beta', 'beta', 'beta', 'beta', 'beta', 'beta', 'beta', 'beta', 'beta', 'beta', 'beta', 'beta', 'beta', 'beta', 'beta', 'beta', 'beta', 'beta', 'beta', 'beta', 'beta', 'beta', 'beta', 'beta', 'beta', 'beta', 'beta', 'beta', 'beta', 'beta', 'beta', 'beta', 'beta', 'beta', 'beta', 'beta', 'beta', 'beta', 'beta', 'beta', 'beta', 'beta', 'beta', 'beta', 'beta', 'beta', 'beta', 'beta', 'beta', 'beta', 'beta', 'beta', 'beta', 'beta', 'beta', 'beta', 'beta', 'beta', 'beta', 'beta', 'beta', 'beta', 'beta', 'beta', 'beta', 'beta', 'beta', 'beta', 'beta', 'beta', 'beta', 'beta', 'beta', 'beta', 'beta', 'beta', 'beta', 'beta', 'beta', 'beta', 'beta', 'beta', 'beta', 'beta', 'beta', 'beta', 'beta', 'beta', 'beta', 'beta', 'beta', 'beta', 'beta', 'beta', 'beta', 'beta', 'beta', 'beta', 'beta', 'beta', 'beta', 'beta', 'beta', 'beta', 'beta', 'beta', 'beta', 'beta', 'beta', 'beta', 'beta', 'beta', 'beta', 'beta', 'beta', 'beta', 'beta', 'beta', 'beta', 'beta', 'beta', 'beta', 'beta', 'beta', 'beta', 'beta', 'beta', 'beta', 'beta', 'beta', 'beta', 'beta', 'beta', 'beta', 'beta', 'beta', 'beta', 'beta', 'beta', 'beta', 'beta', 'beta', 'beta', 'ductal', 'ductal', 'ductal', 'ductal', 'ductal', 'ductal', 'ductal', 'ductal', 'ductal', 'ductal', 'ductal', 'ductal', 'ductal', 'ductal', 'ductal', 'ductal', 'ductal', 'ductal', 'ductal', 'ductal', 'ductal', 'ductal', 'ductal', 'ductal', 'ductal', 'ductal', 'ductal', 'ductal', 'ductal', 'ductal', 'ductal', 'ductal', 'ductal', 'ductal', 'ductal', 'ductal', 'ductal', 'ductal', 'ductal', 'ductal', 'ductal', 'ductal', 'ductal', 'ductal', 'ductal', 'ductal', 'ductal', 'ductal', 'ductal', 'ductal', 'ductal', 'ductal', 'ductal', 'ductal', 'ductal', 'ductal', 'ductal', 'ductal', 'ductal', 'ductal', 'ductal', 'ductal', 'ductal', 'ductal', 'ductal', 'ductal', 'ductal', 'ductal', 'ductal', 'ductal', 'ductal', 'ductal', 'ductal', 'ductal', 'ductal', 'ductal', 'ductal', 'ductal', 'ductal', 'ductal', 'ductal', 'ductal', 'ductal', 'ductal', 'ductal', 'ductal', 'ductal', 'ductal', 'ductal', 'ductal', 'ductal', 'ductal', 'ductal', 'ductal', 'ductal', 'ductal', 'ductal', 'ductal', 'ductal', 'ductal', 'ductal', 'ductal', 'ductal', 'ductal', 'ductal', 'ductal', 'ductal', 'ductal', 'ductal', 'ductal', 'ductal', 'ductal', 'ductal', 'ductal', 'ductal', 'ductal', 'ductal', 'ductal', 'ductal', 'ductal', 'ductal', 'ductal', 'ductal', 'ductal', 'ductal', 'ductal', 'ductal', 'ductal', 'ductal', 'ductal', 'ductal', 'ductal', 'ductal', 'ductal', 'ductal', 'ductal', 'ductal', 'ductal', 'ductal', 'ductal', 'ductal', 'ductal', 'ductal', 'ductal', 'ductal', 'ductal', 'ductal', 'ductal', 'ductal', 'ductal', 'ductal', 'ductal', 'ductal', 'ductal', 'ductal', 'ductal', 'ductal', 'ductal', 'ductal', 'ductal', 'ductal', 'ductal', 'ductal', 'ductal', 'ductal', 'ductal', 'ductal', 'ductal', 'ductal', 'ductal', 'ductal', 'ductal', 'ductal', 'ductal', 'ductal', 'ductal', 'ductal', 'ductal', 'ductal', 'ductal', 'ductal', 'ductal', 'ductal', 'ductal', 'ductal', 'ductal', 'ductal', 'ductal', 'ductal', 'ductal', 'ductal', 'ductal', 'ductal', 'ductal', 'ductal', 'ductal', 'ductal', 'ductal', 'ductal', 'ductal', 'ductal', 'ductal', 'ductal', 'ductal', 'ductal', 'ductal', 'ductal', 'ductal', 'ductal', 'ductal', 'ductal', 'ductal', 'ductal', 'ductal', 'ductal', 'ductal', 'ductal', 'ductal', 'ductal', 'ductal', 'ductal', 'ductal', 'ductal', 'ductal', 'ductal', 'ductal', 'ductal', 'ductal', 'ductal', 'ductal', 'ductal', 'ductal', 'ductal', 'ductal', 'ductal', 'ductal', 'ductal', 'ductal', 'ductal', 'ductal', 'ductal', 'ductal', 'ductal', 'ductal', 'ductal', 'ductal', 'ductal', 'ductal', 'ductal', 'ductal', 'ductal', 'ductal', 'ductal', 'ductal', 'ductal', 'ductal', 'ductal', 'ductal', 'ductal', 'ductal', 'ductal', 'ductal', 'ductal', 'ductal', 'ductal', 'ductal', 'ductal', 'ductal', 'ductal', 'ductal', 'ductal', 'ductal', 'ductal', 'ductal', 'ductal', 'ductal', 'ductal', 'ductal', 'ductal', 'ductal', 'ductal', 'ductal', 'ductal', 'ductal', 'ductal', 'ductal', 'ductal', 'ductal', 'ductal', 'ductal', 'ductal', 'ductal', 'ductal', 'ductal', 'ductal', 'ductal', 'ductal', 'ductal', 'ductal', 'ductal', 'ductal', 'ductal', 'ductal', 'ductal', 'ductal', 'ductal', 'ductal', 'ductal', 'ductal', 'ductal', 'ductal', 'ductal', 'ductal', 'ductal', 'ductal', 'ductal', 'ductal', 'ductal', 'ductal', 'ductal', 'ductal', 'ductal', 'ductal', 'ductal', 'ductal', 'ductal', 'ductal', 'endothelial', 'endothelial', 'endothelial', 'endothelial', 'endothelial', 'activated_stellate', 'activated_stellate', 'activated_stellate', 'activated_stellate', 'activated_stellate', 'activated_stellate', 'activated_stellate', 'activated_stellate', 'activated_stellate', 'activated_stellate', 'activated_stellate', 'activated_stellate', 'activated_stellate', 'activated_stellate', 'activated_stellate', 'activated_stellate', 'activated_stellate', 'activated_stellate', 'activated_stellate', 'activated_stellate', 'ductal', 'acinar', 'delta', 'activated_stellate'])}"
      ]
     },
     "execution_count": 8,
     "metadata": {},
     "output_type": "execute_result"
    }
   ],
   "source": [
    "benchmarks = benchmarking.load_benchmarks()\n",
    "benchmarks[\"MV-SCANVI\"][\"pancreas_celseq\"]"
   ]
  },
  {
   "cell_type": "code",
   "execution_count": 9,
   "metadata": {},
   "outputs": [
    {
     "data": {
      "text/plain": [
       "{'pancreas_celseq': Benchmark(acc=0.9339168490153172, cfmatrix=[[274, 0, 0, 0, 0, 0, 0, 0, 0, 0, 0, 0, 0, 0], [0, 90, 0, 0, 0, 0, 0, 0, 0, 0, 0, 0, 0, 0], [0, 0, 843, 0, 0, 0, 0, 0, 0, 0, 0, 0, 0, 0], [0, 0, 0, 445, 0, 0, 0, 0, 0, 0, 0, 0, 0, 0], [0, 0, 0, 0, 203, 0, 0, 0, 0, 0, 0, 0, 0, 0], [0, 0, 0, 0, 0, 258, 0, 0, 0, 0, 0, 0, 0, 0], [0, 0, 0, 0, 0, 0, 21, 0, 0, 0, 0, 0, 0, 0], [0, 0, 0, 0, 0, 0, 0, 0, 4, 0, 0, 0, 0, 0], [0, 0, 0, 0, 110, 0, 0, 0, 0, 0, 0, 0, 0, 0], [0, 15, 0, 0, 0, 0, 0, 0, 0, 0, 0, 0, 0, 0], [0, 6, 0, 0, 0, 0, 0, 0, 0, 0, 0, 0, 0, 0], [0, 12, 0, 0, 0, 0, 0, 0, 0, 0, 0, 0, 0, 0], [0, 4, 0, 0, 0, 0, 0, 0, 0, 0, 0, 0, 0, 0]], q_labels=['acinar', 'activated_stellate', 'alpha', 'beta', 'delta', 'ductal', 'endothelial', 'epsilon', 'gamma', 'macrophage', 'mast', 'quiescent_stellate', 'schwann'], ref_labels=['acinar', 'activated_stellate', 'alpha', 'beta', 'delta', 'ductal', 'endothelial', 'epsilon', 'gamma', 'macrophage', 'mast', 'quiescent_stellate', 'schwann', 'novel'], annotations=['delta', 'delta', 'delta', 'delta', 'delta', 'delta', 'delta', 'delta', 'delta', 'delta', 'delta', 'delta', 'delta', 'delta', 'delta', 'delta', 'delta', 'delta', 'delta', 'delta', 'delta', 'delta', 'delta', 'delta', 'delta', 'delta', 'delta', 'delta', 'delta', 'delta', 'delta', 'delta', 'delta', 'delta', 'delta', 'delta', 'delta', 'delta', 'delta', 'delta', 'delta', 'delta', 'delta', 'delta', 'delta', 'delta', 'delta', 'delta', 'delta', 'delta', 'delta', 'delta', 'delta', 'delta', 'delta', 'delta', 'delta', 'delta', 'delta', 'delta', 'delta', 'delta', 'delta', 'delta', 'delta', 'delta', 'delta', 'delta', 'delta', 'delta', 'delta', 'delta', 'delta', 'delta', 'delta', 'delta', 'delta', 'delta', 'delta', 'delta', 'delta', 'delta', 'delta', 'delta', 'delta', 'delta', 'delta', 'delta', 'delta', 'delta', 'delta', 'delta', 'delta', 'delta', 'delta', 'delta', 'delta', 'delta', 'delta', 'delta', 'delta', 'delta', 'delta', 'delta', 'delta', 'delta', 'delta', 'delta', 'delta', 'delta', 'acinar', 'acinar', 'acinar', 'acinar', 'acinar', 'acinar', 'acinar', 'acinar', 'acinar', 'acinar', 'acinar', 'acinar', 'acinar', 'acinar', 'acinar', 'acinar', 'acinar', 'acinar', 'acinar', 'acinar', 'acinar', 'acinar', 'acinar', 'acinar', 'acinar', 'acinar', 'acinar', 'acinar', 'acinar', 'acinar', 'acinar', 'acinar', 'acinar', 'acinar', 'acinar', 'acinar', 'acinar', 'acinar', 'acinar', 'acinar', 'acinar', 'acinar', 'acinar', 'acinar', 'acinar', 'acinar', 'acinar', 'acinar', 'acinar', 'acinar', 'acinar', 'acinar', 'acinar', 'acinar', 'acinar', 'acinar', 'acinar', 'acinar', 'acinar', 'acinar', 'acinar', 'acinar', 'acinar', 'acinar', 'acinar', 'acinar', 'acinar', 'acinar', 'acinar', 'acinar', 'acinar', 'acinar', 'acinar', 'acinar', 'acinar', 'acinar', 'acinar', 'acinar', 'acinar', 'acinar', 'acinar', 'acinar', 'acinar', 'acinar', 'acinar', 'acinar', 'acinar', 'acinar', 'acinar', 'acinar', 'acinar', 'acinar', 'acinar', 'acinar', 'acinar', 'acinar', 'acinar', 'acinar', 'acinar', 'acinar', 'acinar', 'acinar', 'acinar', 'acinar', 'acinar', 'acinar', 'acinar', 'acinar', 'acinar', 'acinar', 'acinar', 'acinar', 'acinar', 'acinar', 'acinar', 'acinar', 'acinar', 'acinar', 'acinar', 'acinar', 'acinar', 'acinar', 'acinar', 'acinar', 'acinar', 'acinar', 'acinar', 'acinar', 'acinar', 'acinar', 'acinar', 'acinar', 'acinar', 'acinar', 'acinar', 'acinar', 'acinar', 'acinar', 'acinar', 'acinar', 'acinar', 'acinar', 'acinar', 'acinar', 'acinar', 'acinar', 'acinar', 'acinar', 'acinar', 'acinar', 'acinar', 'acinar', 'acinar', 'acinar', 'acinar', 'acinar', 'acinar', 'acinar', 'acinar', 'acinar', 'acinar', 'acinar', 'acinar', 'acinar', 'acinar', 'acinar', 'acinar', 'acinar', 'acinar', 'acinar', 'acinar', 'acinar', 'acinar', 'acinar', 'acinar', 'acinar', 'acinar', 'acinar', 'acinar', 'acinar', 'acinar', 'acinar', 'acinar', 'acinar', 'acinar', 'acinar', 'acinar', 'acinar', 'acinar', 'acinar', 'acinar', 'acinar', 'acinar', 'acinar', 'acinar', 'acinar', 'acinar', 'acinar', 'acinar', 'acinar', 'acinar', 'acinar', 'acinar', 'acinar', 'acinar', 'acinar', 'acinar', 'acinar', 'acinar', 'acinar', 'acinar', 'acinar', 'acinar', 'acinar', 'acinar', 'acinar', 'acinar', 'acinar', 'acinar', 'acinar', 'acinar', 'acinar', 'acinar', 'acinar', 'acinar', 'acinar', 'acinar', 'acinar', 'acinar', 'acinar', 'acinar', 'acinar', 'acinar', 'acinar', 'acinar', 'acinar', 'acinar', 'acinar', 'acinar', 'acinar', 'acinar', 'acinar', 'acinar', 'acinar', 'acinar', 'acinar', 'acinar', 'acinar', 'acinar', 'acinar', 'acinar', 'acinar', 'acinar', 'acinar', 'acinar', 'acinar', 'acinar', 'acinar', 'acinar', 'acinar', 'acinar', 'acinar', 'acinar', 'acinar', 'acinar', 'acinar', 'acinar', 'acinar', 'acinar', 'acinar', 'acinar', 'acinar', 'acinar', 'acinar', 'alpha', 'alpha', 'alpha', 'alpha', 'alpha', 'alpha', 'alpha', 'alpha', 'alpha', 'alpha', 'alpha', 'alpha', 'alpha', 'alpha', 'alpha', 'alpha', 'alpha', 'alpha', 'alpha', 'alpha', 'alpha', 'alpha', 'alpha', 'alpha', 'alpha', 'alpha', 'alpha', 'alpha', 'alpha', 'alpha', 'alpha', 'alpha', 'alpha', 'alpha', 'alpha', 'alpha', 'alpha', 'alpha', 'alpha', 'alpha', 'alpha', 'alpha', 'alpha', 'alpha', 'alpha', 'alpha', 'alpha', 'alpha', 'alpha', 'alpha', 'alpha', 'alpha', 'alpha', 'alpha', 'alpha', 'alpha', 'alpha', 'alpha', 'alpha', 'alpha', 'alpha', 'alpha', 'alpha', 'alpha', 'alpha', 'alpha', 'alpha', 'alpha', 'alpha', 'alpha', 'alpha', 'alpha', 'alpha', 'alpha', 'alpha', 'alpha', 'alpha', 'alpha', 'alpha', 'alpha', 'alpha', 'alpha', 'alpha', 'alpha', 'alpha', 'alpha', 'alpha', 'alpha', 'alpha', 'alpha', 'alpha', 'alpha', 'alpha', 'alpha', 'alpha', 'alpha', 'alpha', 'alpha', 'alpha', 'alpha', 'alpha', 'alpha', 'alpha', 'alpha', 'alpha', 'alpha', 'alpha', 'alpha', 'alpha', 'alpha', 'alpha', 'alpha', 'alpha', 'alpha', 'alpha', 'alpha', 'alpha', 'alpha', 'alpha', 'alpha', 'alpha', 'alpha', 'alpha', 'alpha', 'alpha', 'alpha', 'alpha', 'alpha', 'alpha', 'alpha', 'alpha', 'alpha', 'alpha', 'alpha', 'alpha', 'alpha', 'alpha', 'alpha', 'alpha', 'alpha', 'alpha', 'alpha', 'alpha', 'alpha', 'alpha', 'alpha', 'alpha', 'alpha', 'alpha', 'alpha', 'alpha', 'alpha', 'alpha', 'alpha', 'alpha', 'alpha', 'alpha', 'alpha', 'alpha', 'alpha', 'alpha', 'alpha', 'alpha', 'alpha', 'alpha', 'alpha', 'alpha', 'alpha', 'alpha', 'alpha', 'alpha', 'alpha', 'alpha', 'alpha', 'alpha', 'alpha', 'alpha', 'alpha', 'alpha', 'alpha', 'alpha', 'alpha', 'alpha', 'alpha', 'alpha', 'alpha', 'alpha', 'alpha', 'alpha', 'alpha', 'alpha', 'alpha', 'alpha', 'alpha', 'alpha', 'alpha', 'alpha', 'alpha', 'alpha', 'alpha', 'alpha', 'alpha', 'alpha', 'alpha', 'alpha', 'alpha', 'alpha', 'alpha', 'alpha', 'alpha', 'alpha', 'alpha', 'alpha', 'alpha', 'alpha', 'alpha', 'alpha', 'alpha', 'alpha', 'alpha', 'alpha', 'alpha', 'alpha', 'alpha', 'alpha', 'alpha', 'alpha', 'alpha', 'alpha', 'alpha', 'alpha', 'alpha', 'alpha', 'alpha', 'alpha', 'alpha', 'alpha', 'alpha', 'alpha', 'alpha', 'alpha', 'alpha', 'alpha', 'alpha', 'alpha', 'alpha', 'alpha', 'alpha', 'alpha', 'alpha', 'alpha', 'alpha', 'alpha', 'alpha', 'alpha', 'alpha', 'alpha', 'alpha', 'alpha', 'alpha', 'alpha', 'alpha', 'alpha', 'alpha', 'alpha', 'alpha', 'alpha', 'alpha', 'alpha', 'alpha', 'alpha', 'alpha', 'alpha', 'alpha', 'alpha', 'alpha', 'alpha', 'alpha', 'alpha', 'alpha', 'alpha', 'alpha', 'alpha', 'alpha', 'alpha', 'alpha', 'alpha', 'alpha', 'alpha', 'alpha', 'alpha', 'alpha', 'alpha', 'alpha', 'alpha', 'alpha', 'alpha', 'alpha', 'alpha', 'alpha', 'alpha', 'alpha', 'alpha', 'alpha', 'alpha', 'alpha', 'alpha', 'alpha', 'alpha', 'alpha', 'alpha', 'alpha', 'alpha', 'alpha', 'alpha', 'alpha', 'alpha', 'alpha', 'alpha', 'alpha', 'alpha', 'alpha', 'alpha', 'alpha', 'alpha', 'alpha', 'alpha', 'alpha', 'alpha', 'alpha', 'alpha', 'alpha', 'alpha', 'alpha', 'alpha', 'alpha', 'alpha', 'alpha', 'alpha', 'alpha', 'alpha', 'alpha', 'alpha', 'alpha', 'alpha', 'alpha', 'alpha', 'alpha', 'alpha', 'alpha', 'alpha', 'alpha', 'alpha', 'alpha', 'alpha', 'alpha', 'alpha', 'alpha', 'alpha', 'alpha', 'alpha', 'alpha', 'alpha', 'alpha', 'alpha', 'alpha', 'alpha', 'alpha', 'alpha', 'alpha', 'alpha', 'alpha', 'alpha', 'alpha', 'alpha', 'alpha', 'alpha', 'alpha', 'alpha', 'alpha', 'alpha', 'alpha', 'alpha', 'alpha', 'alpha', 'alpha', 'alpha', 'alpha', 'alpha', 'alpha', 'alpha', 'alpha', 'alpha', 'alpha', 'alpha', 'alpha', 'alpha', 'alpha', 'alpha', 'alpha', 'alpha', 'alpha', 'alpha', 'alpha', 'alpha', 'alpha', 'alpha', 'alpha', 'alpha', 'alpha', 'alpha', 'alpha', 'alpha', 'alpha', 'alpha', 'alpha', 'alpha', 'alpha', 'alpha', 'alpha', 'alpha', 'alpha', 'alpha', 'alpha', 'alpha', 'alpha', 'alpha', 'alpha', 'alpha', 'alpha', 'alpha', 'alpha', 'alpha', 'alpha', 'alpha', 'alpha', 'alpha', 'alpha', 'alpha', 'alpha', 'alpha', 'alpha', 'alpha', 'alpha', 'alpha', 'alpha', 'alpha', 'alpha', 'alpha', 'alpha', 'alpha', 'alpha', 'alpha', 'alpha', 'alpha', 'alpha', 'alpha', 'alpha', 'alpha', 'alpha', 'alpha', 'alpha', 'alpha', 'alpha', 'alpha', 'alpha', 'alpha', 'alpha', 'alpha', 'alpha', 'alpha', 'alpha', 'alpha', 'alpha', 'alpha', 'alpha', 'alpha', 'alpha', 'alpha', 'alpha', 'alpha', 'alpha', 'alpha', 'alpha', 'alpha', 'alpha', 'alpha', 'alpha', 'alpha', 'alpha', 'alpha', 'alpha', 'alpha', 'alpha', 'alpha', 'alpha', 'alpha', 'alpha', 'alpha', 'alpha', 'alpha', 'alpha', 'alpha', 'alpha', 'alpha', 'alpha', 'alpha', 'alpha', 'alpha', 'alpha', 'alpha', 'alpha', 'alpha', 'alpha', 'alpha', 'alpha', 'alpha', 'alpha', 'alpha', 'alpha', 'alpha', 'alpha', 'alpha', 'alpha', 'alpha', 'alpha', 'alpha', 'alpha', 'alpha', 'alpha', 'alpha', 'alpha', 'alpha', 'alpha', 'alpha', 'alpha', 'alpha', 'alpha', 'alpha', 'alpha', 'alpha', 'alpha', 'alpha', 'alpha', 'alpha', 'alpha', 'alpha', 'alpha', 'alpha', 'alpha', 'alpha', 'alpha', 'alpha', 'alpha', 'alpha', 'alpha', 'alpha', 'alpha', 'alpha', 'alpha', 'alpha', 'alpha', 'alpha', 'alpha', 'alpha', 'alpha', 'alpha', 'alpha', 'alpha', 'alpha', 'alpha', 'alpha', 'alpha', 'alpha', 'alpha', 'alpha', 'alpha', 'alpha', 'alpha', 'alpha', 'alpha', 'alpha', 'alpha', 'alpha', 'alpha', 'alpha', 'alpha', 'alpha', 'alpha', 'alpha', 'alpha', 'alpha', 'alpha', 'alpha', 'alpha', 'alpha', 'alpha', 'alpha', 'alpha', 'alpha', 'alpha', 'alpha', 'alpha', 'alpha', 'alpha', 'alpha', 'alpha', 'alpha', 'alpha', 'alpha', 'alpha', 'alpha', 'alpha', 'alpha', 'alpha', 'alpha', 'alpha', 'alpha', 'alpha', 'alpha', 'alpha', 'alpha', 'alpha', 'alpha', 'alpha', 'alpha', 'alpha', 'alpha', 'alpha', 'alpha', 'alpha', 'alpha', 'alpha', 'alpha', 'alpha', 'alpha', 'alpha', 'alpha', 'alpha', 'alpha', 'alpha', 'alpha', 'alpha', 'alpha', 'alpha', 'alpha', 'alpha', 'alpha', 'alpha', 'alpha', 'alpha', 'alpha', 'alpha', 'alpha', 'alpha', 'alpha', 'alpha', 'alpha', 'alpha', 'alpha', 'alpha', 'alpha', 'alpha', 'alpha', 'alpha', 'alpha', 'alpha', 'alpha', 'alpha', 'alpha', 'alpha', 'alpha', 'alpha', 'alpha', 'alpha', 'alpha', 'alpha', 'alpha', 'alpha', 'alpha', 'alpha', 'alpha', 'alpha', 'alpha', 'alpha', 'alpha', 'alpha', 'alpha', 'alpha', 'alpha', 'alpha', 'alpha', 'alpha', 'alpha', 'alpha', 'alpha', 'alpha', 'alpha', 'alpha', 'alpha', 'alpha', 'alpha', 'alpha', 'alpha', 'alpha', 'alpha', 'alpha', 'alpha', 'alpha', 'alpha', 'alpha', 'alpha', 'alpha', 'alpha', 'alpha', 'alpha', 'alpha', 'alpha', 'alpha', 'alpha', 'alpha', 'alpha', 'alpha', 'alpha', 'alpha', 'alpha', 'alpha', 'alpha', 'alpha', 'alpha', 'alpha', 'alpha', 'alpha', 'alpha', 'alpha', 'alpha', 'alpha', 'alpha', 'alpha', 'alpha', 'alpha', 'alpha', 'alpha', 'alpha', 'alpha', 'alpha', 'alpha', 'alpha', 'alpha', 'alpha', 'alpha', 'alpha', 'alpha', 'alpha', 'alpha', 'alpha', 'alpha', 'alpha', 'alpha', 'alpha', 'alpha', 'alpha', 'alpha', 'alpha', 'alpha', 'alpha', 'alpha', 'alpha', 'alpha', 'alpha', 'alpha', 'alpha', 'alpha', 'alpha', 'alpha', 'alpha', 'alpha', 'alpha', 'alpha', 'alpha', 'alpha', 'alpha', 'alpha', 'alpha', 'alpha', 'alpha', 'alpha', 'alpha', 'alpha', 'alpha', 'alpha', 'alpha', 'alpha', 'alpha', 'alpha', 'alpha', 'alpha', 'alpha', 'alpha', 'alpha', 'alpha', 'alpha', 'alpha', 'alpha', 'alpha', 'alpha', 'alpha', 'alpha', 'alpha', 'alpha', 'alpha', 'alpha', 'alpha', 'alpha', 'alpha', 'alpha', 'alpha', 'alpha', 'alpha', 'alpha', 'alpha', 'alpha', 'alpha', 'alpha', 'alpha', 'alpha', 'alpha', 'alpha', 'alpha', 'alpha', 'alpha', 'alpha', 'alpha', 'alpha', 'alpha', 'alpha', 'alpha', 'alpha', 'alpha', 'alpha', 'alpha', 'alpha', 'alpha', 'delta', 'delta', 'delta', 'delta', 'delta', 'delta', 'delta', 'delta', 'delta', 'delta', 'delta', 'delta', 'delta', 'delta', 'delta', 'delta', 'delta', 'delta', 'delta', 'delta', 'delta', 'delta', 'delta', 'delta', 'delta', 'delta', 'delta', 'delta', 'delta', 'delta', 'delta', 'delta', 'delta', 'delta', 'delta', 'delta', 'delta', 'delta', 'delta', 'delta', 'delta', 'delta', 'delta', 'delta', 'delta', 'delta', 'delta', 'delta', 'delta', 'delta', 'delta', 'delta', 'delta', 'delta', 'delta', 'delta', 'delta', 'delta', 'delta', 'delta', 'delta', 'delta', 'delta', 'delta', 'delta', 'delta', 'delta', 'delta', 'delta', 'delta', 'delta', 'delta', 'delta', 'delta', 'delta', 'delta', 'delta', 'delta', 'delta', 'delta', 'delta', 'delta', 'delta', 'delta', 'delta', 'delta', 'delta', 'delta', 'delta', 'delta', 'delta', 'delta', 'delta', 'delta', 'delta', 'delta', 'delta', 'delta', 'delta', 'delta', 'delta', 'delta', 'delta', 'delta', 'delta', 'delta', 'delta', 'delta', 'delta', 'delta', 'delta', 'delta', 'delta', 'delta', 'delta', 'delta', 'delta', 'delta', 'delta', 'delta', 'delta', 'delta', 'delta', 'delta', 'delta', 'delta', 'delta', 'delta', 'delta', 'delta', 'delta', 'delta', 'delta', 'delta', 'delta', 'delta', 'delta', 'delta', 'delta', 'delta', 'delta', 'delta', 'delta', 'delta', 'delta', 'delta', 'delta', 'delta', 'delta', 'delta', 'delta', 'delta', 'delta', 'delta', 'delta', 'delta', 'delta', 'delta', 'delta', 'delta', 'delta', 'delta', 'delta', 'delta', 'delta', 'delta', 'delta', 'delta', 'delta', 'delta', 'delta', 'delta', 'delta', 'delta', 'delta', 'delta', 'delta', 'delta', 'delta', 'delta', 'delta', 'delta', 'delta', 'delta', 'delta', 'delta', 'delta', 'delta', 'delta', 'delta', 'delta', 'delta', 'delta', 'delta', 'delta', 'delta', 'delta', 'delta', 'delta', 'delta', 'delta', 'delta', 'delta', 'beta', 'beta', 'beta', 'beta', 'beta', 'beta', 'beta', 'beta', 'beta', 'beta', 'beta', 'beta', 'beta', 'beta', 'beta', 'beta', 'beta', 'beta', 'beta', 'beta', 'beta', 'beta', 'beta', 'beta', 'beta', 'beta', 'beta', 'beta', 'beta', 'beta', 'beta', 'beta', 'beta', 'beta', 'beta', 'beta', 'beta', 'beta', 'beta', 'beta', 'beta', 'beta', 'beta', 'beta', 'beta', 'beta', 'beta', 'beta', 'beta', 'beta', 'beta', 'beta', 'beta', 'beta', 'beta', 'beta', 'beta', 'beta', 'beta', 'beta', 'beta', 'beta', 'beta', 'beta', 'beta', 'beta', 'beta', 'beta', 'beta', 'beta', 'beta', 'beta', 'beta', 'beta', 'beta', 'beta', 'beta', 'beta', 'beta', 'beta', 'beta', 'beta', 'beta', 'beta', 'beta', 'beta', 'beta', 'beta', 'beta', 'beta', 'beta', 'beta', 'beta', 'beta', 'beta', 'beta', 'beta', 'beta', 'beta', 'beta', 'beta', 'beta', 'beta', 'beta', 'beta', 'beta', 'beta', 'beta', 'beta', 'beta', 'beta', 'beta', 'beta', 'beta', 'beta', 'beta', 'beta', 'beta', 'beta', 'beta', 'beta', 'beta', 'beta', 'beta', 'beta', 'beta', 'beta', 'beta', 'beta', 'beta', 'beta', 'beta', 'beta', 'beta', 'beta', 'beta', 'beta', 'beta', 'beta', 'beta', 'beta', 'beta', 'beta', 'beta', 'beta', 'beta', 'beta', 'beta', 'beta', 'beta', 'beta', 'beta', 'beta', 'beta', 'beta', 'beta', 'beta', 'beta', 'beta', 'beta', 'beta', 'beta', 'beta', 'beta', 'beta', 'beta', 'beta', 'beta', 'beta', 'beta', 'beta', 'beta', 'beta', 'beta', 'beta', 'beta', 'beta', 'beta', 'beta', 'beta', 'beta', 'beta', 'beta', 'beta', 'beta', 'beta', 'beta', 'beta', 'beta', 'beta', 'beta', 'beta', 'beta', 'beta', 'beta', 'beta', 'beta', 'beta', 'beta', 'beta', 'beta', 'beta', 'beta', 'beta', 'beta', 'beta', 'beta', 'beta', 'beta', 'beta', 'beta', 'beta', 'beta', 'beta', 'beta', 'beta', 'beta', 'beta', 'beta', 'beta', 'beta', 'beta', 'beta', 'beta', 'beta', 'beta', 'beta', 'beta', 'beta', 'beta', 'beta', 'beta', 'beta', 'beta', 'beta', 'beta', 'beta', 'beta', 'beta', 'beta', 'beta', 'beta', 'beta', 'beta', 'beta', 'beta', 'beta', 'beta', 'beta', 'beta', 'beta', 'beta', 'beta', 'beta', 'beta', 'beta', 'beta', 'beta', 'beta', 'beta', 'beta', 'beta', 'beta', 'beta', 'beta', 'beta', 'beta', 'beta', 'beta', 'beta', 'beta', 'beta', 'beta', 'beta', 'beta', 'beta', 'beta', 'beta', 'beta', 'beta', 'beta', 'beta', 'beta', 'beta', 'beta', 'beta', 'beta', 'beta', 'beta', 'beta', 'beta', 'beta', 'beta', 'beta', 'beta', 'beta', 'beta', 'beta', 'beta', 'beta', 'beta', 'beta', 'beta', 'beta', 'beta', 'beta', 'beta', 'beta', 'beta', 'beta', 'beta', 'beta', 'beta', 'beta', 'beta', 'beta', 'beta', 'beta', 'beta', 'beta', 'beta', 'beta', 'beta', 'beta', 'beta', 'beta', 'beta', 'beta', 'beta', 'beta', 'beta', 'beta', 'beta', 'beta', 'beta', 'beta', 'beta', 'beta', 'beta', 'beta', 'beta', 'beta', 'beta', 'beta', 'beta', 'beta', 'beta', 'beta', 'beta', 'beta', 'beta', 'beta', 'beta', 'beta', 'beta', 'beta', 'beta', 'beta', 'beta', 'beta', 'beta', 'beta', 'beta', 'beta', 'beta', 'beta', 'beta', 'beta', 'beta', 'beta', 'beta', 'beta', 'beta', 'beta', 'beta', 'beta', 'beta', 'beta', 'beta', 'beta', 'beta', 'beta', 'beta', 'beta', 'beta', 'beta', 'beta', 'beta', 'beta', 'beta', 'beta', 'beta', 'beta', 'beta', 'beta', 'beta', 'beta', 'beta', 'beta', 'beta', 'beta', 'beta', 'beta', 'beta', 'beta', 'beta', 'beta', 'beta', 'beta', 'beta', 'beta', 'beta', 'beta', 'beta', 'beta', 'beta', 'beta', 'beta', 'beta', 'beta', 'beta', 'beta', 'beta', 'beta', 'beta', 'beta', 'beta', 'beta', 'beta', 'beta', 'beta', 'beta', 'beta', 'beta', 'beta', 'beta', 'beta', 'beta', 'beta', 'beta', 'beta', 'beta', 'beta', 'beta', 'beta', 'ductal', 'ductal', 'ductal', 'ductal', 'ductal', 'ductal', 'ductal', 'ductal', 'ductal', 'ductal', 'ductal', 'ductal', 'ductal', 'ductal', 'ductal', 'ductal', 'ductal', 'ductal', 'ductal', 'ductal', 'ductal', 'ductal', 'ductal', 'ductal', 'ductal', 'ductal', 'ductal', 'ductal', 'ductal', 'ductal', 'ductal', 'ductal', 'ductal', 'ductal', 'ductal', 'ductal', 'ductal', 'ductal', 'ductal', 'ductal', 'ductal', 'ductal', 'ductal', 'ductal', 'ductal', 'ductal', 'ductal', 'ductal', 'ductal', 'ductal', 'ductal', 'ductal', 'ductal', 'ductal', 'ductal', 'ductal', 'ductal', 'ductal', 'ductal', 'ductal', 'ductal', 'ductal', 'ductal', 'ductal', 'ductal', 'ductal', 'ductal', 'ductal', 'ductal', 'ductal', 'ductal', 'ductal', 'ductal', 'ductal', 'ductal', 'ductal', 'ductal', 'ductal', 'ductal', 'ductal', 'ductal', 'ductal', 'ductal', 'ductal', 'ductal', 'ductal', 'ductal', 'ductal', 'ductal', 'ductal', 'ductal', 'ductal', 'ductal', 'ductal', 'ductal', 'ductal', 'ductal', 'ductal', 'ductal', 'ductal', 'ductal', 'ductal', 'ductal', 'ductal', 'ductal', 'ductal', 'ductal', 'ductal', 'ductal', 'ductal', 'ductal', 'ductal', 'ductal', 'ductal', 'ductal', 'ductal', 'ductal', 'ductal', 'ductal', 'ductal', 'ductal', 'ductal', 'ductal', 'ductal', 'ductal', 'ductal', 'ductal', 'ductal', 'ductal', 'ductal', 'ductal', 'ductal', 'ductal', 'ductal', 'ductal', 'ductal', 'ductal', 'ductal', 'ductal', 'ductal', 'ductal', 'ductal', 'ductal', 'ductal', 'ductal', 'ductal', 'ductal', 'ductal', 'ductal', 'ductal', 'ductal', 'ductal', 'ductal', 'ductal', 'ductal', 'ductal', 'ductal', 'ductal', 'ductal', 'ductal', 'ductal', 'ductal', 'ductal', 'ductal', 'ductal', 'ductal', 'ductal', 'ductal', 'ductal', 'ductal', 'ductal', 'ductal', 'ductal', 'ductal', 'ductal', 'ductal', 'ductal', 'ductal', 'ductal', 'ductal', 'ductal', 'ductal', 'ductal', 'ductal', 'ductal', 'ductal', 'ductal', 'ductal', 'ductal', 'ductal', 'ductal', 'ductal', 'ductal', 'ductal', 'ductal', 'ductal', 'ductal', 'ductal', 'ductal', 'ductal', 'ductal', 'ductal', 'ductal', 'ductal', 'ductal', 'ductal', 'ductal', 'ductal', 'ductal', 'ductal', 'ductal', 'ductal', 'ductal', 'ductal', 'ductal', 'ductal', 'ductal', 'ductal', 'ductal', 'ductal', 'ductal', 'ductal', 'ductal', 'ductal', 'ductal', 'ductal', 'ductal', 'ductal', 'ductal', 'ductal', 'ductal', 'ductal', 'ductal', 'ductal', 'ductal', 'ductal', 'ductal', 'ductal', 'ductal', 'ductal', 'ductal', 'ductal', 'ductal', 'ductal', 'ductal', 'ductal', 'ductal', 'ductal', 'ductal', 'ductal', 'ductal', 'ductal', 'ductal', 'ductal', 'ductal', 'ductal', 'ductal', 'ductal', 'endothelial', 'endothelial', 'endothelial', 'endothelial', 'endothelial', 'endothelial', 'endothelial', 'endothelial', 'endothelial', 'endothelial', 'endothelial', 'endothelial', 'endothelial', 'endothelial', 'endothelial', 'endothelial', 'endothelial', 'endothelial', 'endothelial', 'endothelial', 'endothelial', 'activated_stellate', 'activated_stellate', 'activated_stellate', 'activated_stellate', 'activated_stellate', 'activated_stellate', 'activated_stellate', 'activated_stellate', 'activated_stellate', 'activated_stellate', 'activated_stellate', 'activated_stellate', 'activated_stellate', 'activated_stellate', 'activated_stellate', 'activated_stellate', 'activated_stellate', 'activated_stellate', 'activated_stellate', 'activated_stellate', 'activated_stellate', 'activated_stellate', 'activated_stellate', 'activated_stellate', 'activated_stellate', 'activated_stellate', 'activated_stellate', 'activated_stellate', 'activated_stellate', 'activated_stellate', 'activated_stellate', 'activated_stellate', 'activated_stellate', 'activated_stellate', 'activated_stellate', 'activated_stellate', 'activated_stellate', 'activated_stellate', 'activated_stellate', 'activated_stellate', 'activated_stellate', 'activated_stellate', 'activated_stellate', 'activated_stellate', 'activated_stellate', 'activated_stellate', 'activated_stellate', 'activated_stellate', 'activated_stellate', 'activated_stellate', 'activated_stellate', 'activated_stellate', 'activated_stellate', 'activated_stellate', 'activated_stellate', 'activated_stellate', 'activated_stellate', 'activated_stellate', 'activated_stellate', 'activated_stellate', 'activated_stellate', 'activated_stellate', 'activated_stellate', 'activated_stellate', 'activated_stellate', 'activated_stellate', 'activated_stellate', 'activated_stellate', 'activated_stellate', 'activated_stellate', 'activated_stellate', 'activated_stellate', 'activated_stellate', 'activated_stellate', 'activated_stellate', 'activated_stellate', 'activated_stellate', 'activated_stellate', 'activated_stellate', 'activated_stellate', 'activated_stellate', 'activated_stellate', 'activated_stellate', 'activated_stellate', 'activated_stellate', 'activated_stellate', 'activated_stellate', 'activated_stellate', 'activated_stellate', 'activated_stellate', 'activated_stellate', 'activated_stellate', 'activated_stellate', 'activated_stellate', 'activated_stellate', 'activated_stellate', 'activated_stellate', 'activated_stellate', 'activated_stellate', 'activated_stellate', 'activated_stellate', 'activated_stellate', 'activated_stellate', 'activated_stellate', 'activated_stellate', 'activated_stellate', 'activated_stellate', 'activated_stellate', 'activated_stellate', 'activated_stellate', 'activated_stellate', 'activated_stellate', 'activated_stellate', 'activated_stellate', 'activated_stellate', 'gamma', 'gamma', 'gamma', 'gamma', 'activated_stellate', 'activated_stellate', 'activated_stellate', 'activated_stellate', 'activated_stellate', 'activated_stellate', 'activated_stellate', 'activated_stellate', 'activated_stellate', 'activated_stellate', 'activated_stellate', 'activated_stellate']),\n",
       " 'pancreas_celseq2': Benchmark(acc=1.0, cfmatrix=[[274, 0, 0, 0, 0, 0, 0, 0, 0, 0, 0, 0, 0, 0], [0, 90, 0, 0, 0, 0, 0, 0, 0, 0, 0, 0, 0, 0], [0, 0, 843, 0, 0, 0, 0, 0, 0, 0, 0, 0, 0, 0], [0, 0, 0, 445, 0, 0, 0, 0, 0, 0, 0, 0, 0, 0], [0, 0, 0, 0, 203, 0, 0, 0, 0, 0, 0, 0, 0, 0], [0, 0, 0, 0, 0, 258, 0, 0, 0, 0, 0, 0, 0, 0], [0, 0, 0, 0, 0, 0, 21, 0, 0, 0, 0, 0, 0, 0], [0, 0, 0, 0, 0, 0, 0, 4, 0, 0, 0, 0, 0, 0], [0, 0, 0, 0, 0, 0, 0, 0, 110, 0, 0, 0, 0, 0], [0, 0, 0, 0, 0, 0, 0, 0, 0, 15, 0, 0, 0, 0], [0, 0, 0, 0, 0, 0, 0, 0, 0, 0, 6, 0, 0, 0], [0, 0, 0, 0, 0, 0, 0, 0, 0, 0, 0, 12, 0, 0], [0, 0, 0, 0, 0, 0, 0, 0, 0, 0, 0, 0, 4, 0]], q_labels=['acinar', 'activated_stellate', 'alpha', 'beta', 'delta', 'ductal', 'endothelial', 'epsilon', 'gamma', 'macrophage', 'mast', 'quiescent_stellate', 'schwann'], ref_labels=['acinar', 'activated_stellate', 'alpha', 'beta', 'delta', 'ductal', 'endothelial', 'epsilon', 'gamma', 'macrophage', 'mast', 'quiescent_stellate', 'schwann', 'novel'], annotations=['gamma', 'gamma', 'gamma', 'gamma', 'gamma', 'gamma', 'gamma', 'gamma', 'gamma', 'gamma', 'gamma', 'gamma', 'gamma', 'gamma', 'gamma', 'gamma', 'gamma', 'gamma', 'gamma', 'gamma', 'gamma', 'gamma', 'gamma', 'gamma', 'gamma', 'gamma', 'gamma', 'gamma', 'gamma', 'gamma', 'gamma', 'gamma', 'gamma', 'gamma', 'gamma', 'gamma', 'gamma', 'gamma', 'gamma', 'gamma', 'gamma', 'gamma', 'gamma', 'gamma', 'gamma', 'gamma', 'gamma', 'gamma', 'gamma', 'gamma', 'gamma', 'gamma', 'gamma', 'gamma', 'gamma', 'gamma', 'gamma', 'gamma', 'gamma', 'gamma', 'gamma', 'gamma', 'gamma', 'gamma', 'gamma', 'gamma', 'gamma', 'gamma', 'gamma', 'gamma', 'gamma', 'gamma', 'gamma', 'gamma', 'gamma', 'gamma', 'gamma', 'gamma', 'gamma', 'gamma', 'gamma', 'gamma', 'gamma', 'gamma', 'gamma', 'gamma', 'gamma', 'gamma', 'gamma', 'gamma', 'gamma', 'gamma', 'gamma', 'gamma', 'gamma', 'gamma', 'gamma', 'gamma', 'gamma', 'gamma', 'gamma', 'gamma', 'gamma', 'gamma', 'gamma', 'gamma', 'gamma', 'gamma', 'gamma', 'gamma', 'acinar', 'acinar', 'acinar', 'acinar', 'acinar', 'acinar', 'acinar', 'acinar', 'acinar', 'acinar', 'acinar', 'acinar', 'acinar', 'acinar', 'acinar', 'acinar', 'acinar', 'acinar', 'acinar', 'acinar', 'acinar', 'acinar', 'acinar', 'acinar', 'acinar', 'acinar', 'acinar', 'acinar', 'acinar', 'acinar', 'acinar', 'acinar', 'acinar', 'acinar', 'acinar', 'acinar', 'acinar', 'acinar', 'acinar', 'acinar', 'acinar', 'acinar', 'acinar', 'acinar', 'acinar', 'acinar', 'acinar', 'acinar', 'acinar', 'acinar', 'acinar', 'acinar', 'acinar', 'acinar', 'acinar', 'acinar', 'acinar', 'acinar', 'acinar', 'acinar', 'acinar', 'acinar', 'acinar', 'acinar', 'acinar', 'acinar', 'acinar', 'acinar', 'acinar', 'acinar', 'acinar', 'acinar', 'acinar', 'acinar', 'acinar', 'acinar', 'acinar', 'acinar', 'acinar', 'acinar', 'acinar', 'acinar', 'acinar', 'acinar', 'acinar', 'acinar', 'acinar', 'acinar', 'acinar', 'acinar', 'acinar', 'acinar', 'acinar', 'acinar', 'acinar', 'acinar', 'acinar', 'acinar', 'acinar', 'acinar', 'acinar', 'acinar', 'acinar', 'acinar', 'acinar', 'acinar', 'acinar', 'acinar', 'acinar', 'acinar', 'acinar', 'acinar', 'acinar', 'acinar', 'acinar', 'acinar', 'acinar', 'acinar', 'acinar', 'acinar', 'acinar', 'acinar', 'acinar', 'acinar', 'acinar', 'acinar', 'acinar', 'acinar', 'acinar', 'acinar', 'acinar', 'acinar', 'acinar', 'acinar', 'acinar', 'acinar', 'acinar', 'acinar', 'acinar', 'acinar', 'acinar', 'acinar', 'acinar', 'acinar', 'acinar', 'acinar', 'acinar', 'acinar', 'acinar', 'acinar', 'acinar', 'acinar', 'acinar', 'acinar', 'acinar', 'acinar', 'acinar', 'acinar', 'acinar', 'acinar', 'acinar', 'acinar', 'acinar', 'acinar', 'acinar', 'acinar', 'acinar', 'acinar', 'acinar', 'acinar', 'acinar', 'acinar', 'acinar', 'acinar', 'acinar', 'acinar', 'acinar', 'acinar', 'acinar', 'acinar', 'acinar', 'acinar', 'acinar', 'acinar', 'acinar', 'acinar', 'acinar', 'acinar', 'acinar', 'acinar', 'acinar', 'acinar', 'acinar', 'acinar', 'acinar', 'acinar', 'acinar', 'acinar', 'acinar', 'acinar', 'acinar', 'acinar', 'acinar', 'acinar', 'acinar', 'acinar', 'acinar', 'acinar', 'acinar', 'acinar', 'acinar', 'acinar', 'acinar', 'acinar', 'acinar', 'acinar', 'acinar', 'acinar', 'acinar', 'acinar', 'acinar', 'acinar', 'acinar', 'acinar', 'acinar', 'acinar', 'acinar', 'acinar', 'acinar', 'acinar', 'acinar', 'acinar', 'acinar', 'acinar', 'acinar', 'acinar', 'acinar', 'acinar', 'acinar', 'acinar', 'acinar', 'acinar', 'acinar', 'acinar', 'acinar', 'acinar', 'acinar', 'acinar', 'acinar', 'acinar', 'acinar', 'acinar', 'acinar', 'acinar', 'acinar', 'acinar', 'acinar', 'acinar', 'acinar', 'acinar', 'acinar', 'acinar', 'acinar', 'acinar', 'acinar', 'acinar', 'acinar', 'acinar', 'acinar', 'acinar', 'acinar', 'acinar', 'acinar', 'acinar', 'alpha', 'alpha', 'alpha', 'alpha', 'alpha', 'alpha', 'alpha', 'alpha', 'alpha', 'alpha', 'alpha', 'alpha', 'alpha', 'alpha', 'alpha', 'alpha', 'alpha', 'alpha', 'alpha', 'alpha', 'alpha', 'alpha', 'alpha', 'alpha', 'alpha', 'alpha', 'alpha', 'alpha', 'alpha', 'alpha', 'alpha', 'alpha', 'alpha', 'alpha', 'alpha', 'alpha', 'alpha', 'alpha', 'alpha', 'alpha', 'alpha', 'alpha', 'alpha', 'alpha', 'alpha', 'alpha', 'alpha', 'alpha', 'alpha', 'alpha', 'alpha', 'alpha', 'alpha', 'alpha', 'alpha', 'alpha', 'alpha', 'alpha', 'alpha', 'alpha', 'alpha', 'alpha', 'alpha', 'alpha', 'alpha', 'alpha', 'alpha', 'alpha', 'alpha', 'alpha', 'alpha', 'alpha', 'alpha', 'alpha', 'alpha', 'alpha', 'alpha', 'alpha', 'alpha', 'alpha', 'alpha', 'alpha', 'alpha', 'alpha', 'alpha', 'alpha', 'alpha', 'alpha', 'alpha', 'alpha', 'alpha', 'alpha', 'alpha', 'alpha', 'alpha', 'alpha', 'alpha', 'alpha', 'alpha', 'alpha', 'alpha', 'alpha', 'alpha', 'alpha', 'alpha', 'alpha', 'alpha', 'alpha', 'alpha', 'alpha', 'alpha', 'alpha', 'alpha', 'alpha', 'alpha', 'alpha', 'alpha', 'alpha', 'alpha', 'alpha', 'alpha', 'alpha', 'alpha', 'alpha', 'alpha', 'alpha', 'alpha', 'alpha', 'alpha', 'alpha', 'alpha', 'alpha', 'alpha', 'alpha', 'alpha', 'alpha', 'alpha', 'alpha', 'alpha', 'alpha', 'alpha', 'alpha', 'alpha', 'alpha', 'alpha', 'alpha', 'alpha', 'alpha', 'alpha', 'alpha', 'alpha', 'alpha', 'alpha', 'alpha', 'alpha', 'alpha', 'alpha', 'alpha', 'alpha', 'alpha', 'alpha', 'alpha', 'alpha', 'alpha', 'alpha', 'alpha', 'alpha', 'alpha', 'alpha', 'alpha', 'alpha', 'alpha', 'alpha', 'alpha', 'alpha', 'alpha', 'alpha', 'alpha', 'alpha', 'alpha', 'alpha', 'alpha', 'alpha', 'alpha', 'alpha', 'alpha', 'alpha', 'alpha', 'alpha', 'alpha', 'alpha', 'alpha', 'alpha', 'alpha', 'alpha', 'alpha', 'alpha', 'alpha', 'alpha', 'alpha', 'alpha', 'alpha', 'alpha', 'alpha', 'alpha', 'alpha', 'alpha', 'alpha', 'alpha', 'alpha', 'alpha', 'alpha', 'alpha', 'alpha', 'alpha', 'alpha', 'alpha', 'alpha', 'alpha', 'alpha', 'alpha', 'alpha', 'alpha', 'alpha', 'alpha', 'alpha', 'alpha', 'alpha', 'alpha', 'alpha', 'alpha', 'alpha', 'alpha', 'alpha', 'alpha', 'alpha', 'alpha', 'alpha', 'alpha', 'alpha', 'alpha', 'alpha', 'alpha', 'alpha', 'alpha', 'alpha', 'alpha', 'alpha', 'alpha', 'alpha', 'alpha', 'alpha', 'alpha', 'alpha', 'alpha', 'alpha', 'alpha', 'alpha', 'alpha', 'alpha', 'alpha', 'alpha', 'alpha', 'alpha', 'alpha', 'alpha', 'alpha', 'alpha', 'alpha', 'alpha', 'alpha', 'alpha', 'alpha', 'alpha', 'alpha', 'alpha', 'alpha', 'alpha', 'alpha', 'alpha', 'alpha', 'alpha', 'alpha', 'alpha', 'alpha', 'alpha', 'alpha', 'alpha', 'alpha', 'alpha', 'alpha', 'alpha', 'alpha', 'alpha', 'alpha', 'alpha', 'alpha', 'alpha', 'alpha', 'alpha', 'alpha', 'alpha', 'alpha', 'alpha', 'alpha', 'alpha', 'alpha', 'alpha', 'alpha', 'alpha', 'alpha', 'alpha', 'alpha', 'alpha', 'alpha', 'alpha', 'alpha', 'alpha', 'alpha', 'alpha', 'alpha', 'alpha', 'alpha', 'alpha', 'alpha', 'alpha', 'alpha', 'alpha', 'alpha', 'alpha', 'alpha', 'alpha', 'alpha', 'alpha', 'alpha', 'alpha', 'alpha', 'alpha', 'alpha', 'alpha', 'alpha', 'alpha', 'alpha', 'alpha', 'alpha', 'alpha', 'alpha', 'alpha', 'alpha', 'alpha', 'alpha', 'alpha', 'alpha', 'alpha', 'alpha', 'alpha', 'alpha', 'alpha', 'alpha', 'alpha', 'alpha', 'alpha', 'alpha', 'alpha', 'alpha', 'alpha', 'alpha', 'alpha', 'alpha', 'alpha', 'alpha', 'alpha', 'alpha', 'alpha', 'alpha', 'alpha', 'alpha', 'alpha', 'alpha', 'alpha', 'alpha', 'alpha', 'alpha', 'alpha', 'alpha', 'alpha', 'alpha', 'alpha', 'alpha', 'alpha', 'alpha', 'alpha', 'alpha', 'alpha', 'alpha', 'alpha', 'alpha', 'alpha', 'alpha', 'alpha', 'alpha', 'alpha', 'alpha', 'alpha', 'alpha', 'alpha', 'alpha', 'alpha', 'alpha', 'alpha', 'alpha', 'alpha', 'alpha', 'alpha', 'alpha', 'alpha', 'alpha', 'alpha', 'alpha', 'alpha', 'alpha', 'alpha', 'alpha', 'alpha', 'alpha', 'alpha', 'alpha', 'alpha', 'alpha', 'alpha', 'alpha', 'alpha', 'alpha', 'alpha', 'alpha', 'alpha', 'alpha', 'alpha', 'alpha', 'alpha', 'alpha', 'alpha', 'alpha', 'alpha', 'alpha', 'alpha', 'alpha', 'alpha', 'alpha', 'alpha', 'alpha', 'alpha', 'alpha', 'alpha', 'alpha', 'alpha', 'alpha', 'alpha', 'alpha', 'alpha', 'alpha', 'alpha', 'alpha', 'alpha', 'alpha', 'alpha', 'alpha', 'alpha', 'alpha', 'alpha', 'alpha', 'alpha', 'alpha', 'alpha', 'alpha', 'alpha', 'alpha', 'alpha', 'alpha', 'alpha', 'alpha', 'alpha', 'alpha', 'alpha', 'alpha', 'alpha', 'alpha', 'alpha', 'alpha', 'alpha', 'alpha', 'alpha', 'alpha', 'alpha', 'alpha', 'alpha', 'alpha', 'alpha', 'alpha', 'alpha', 'alpha', 'alpha', 'alpha', 'alpha', 'alpha', 'alpha', 'alpha', 'alpha', 'alpha', 'alpha', 'alpha', 'alpha', 'alpha', 'alpha', 'alpha', 'alpha', 'alpha', 'alpha', 'alpha', 'alpha', 'alpha', 'alpha', 'alpha', 'alpha', 'alpha', 'alpha', 'alpha', 'alpha', 'alpha', 'alpha', 'alpha', 'alpha', 'alpha', 'alpha', 'alpha', 'alpha', 'alpha', 'alpha', 'alpha', 'alpha', 'alpha', 'alpha', 'alpha', 'alpha', 'alpha', 'alpha', 'alpha', 'alpha', 'alpha', 'alpha', 'alpha', 'alpha', 'alpha', 'alpha', 'alpha', 'alpha', 'alpha', 'alpha', 'alpha', 'alpha', 'alpha', 'alpha', 'alpha', 'alpha', 'alpha', 'alpha', 'alpha', 'alpha', 'alpha', 'alpha', 'alpha', 'alpha', 'alpha', 'alpha', 'alpha', 'alpha', 'alpha', 'alpha', 'alpha', 'alpha', 'alpha', 'alpha', 'alpha', 'alpha', 'alpha', 'alpha', 'alpha', 'alpha', 'alpha', 'alpha', 'alpha', 'alpha', 'alpha', 'alpha', 'alpha', 'alpha', 'alpha', 'alpha', 'alpha', 'alpha', 'alpha', 'alpha', 'alpha', 'alpha', 'alpha', 'alpha', 'alpha', 'alpha', 'alpha', 'alpha', 'alpha', 'alpha', 'alpha', 'alpha', 'alpha', 'alpha', 'alpha', 'alpha', 'alpha', 'alpha', 'alpha', 'alpha', 'alpha', 'alpha', 'alpha', 'alpha', 'alpha', 'alpha', 'alpha', 'alpha', 'alpha', 'alpha', 'alpha', 'alpha', 'alpha', 'alpha', 'alpha', 'alpha', 'alpha', 'alpha', 'alpha', 'alpha', 'alpha', 'alpha', 'alpha', 'alpha', 'alpha', 'alpha', 'alpha', 'alpha', 'alpha', 'alpha', 'alpha', 'alpha', 'alpha', 'alpha', 'alpha', 'alpha', 'alpha', 'alpha', 'alpha', 'alpha', 'alpha', 'alpha', 'alpha', 'alpha', 'alpha', 'alpha', 'alpha', 'alpha', 'alpha', 'alpha', 'alpha', 'alpha', 'alpha', 'alpha', 'alpha', 'alpha', 'alpha', 'alpha', 'alpha', 'alpha', 'alpha', 'alpha', 'alpha', 'alpha', 'alpha', 'alpha', 'alpha', 'alpha', 'alpha', 'alpha', 'alpha', 'alpha', 'alpha', 'alpha', 'alpha', 'alpha', 'alpha', 'alpha', 'alpha', 'alpha', 'alpha', 'alpha', 'alpha', 'alpha', 'alpha', 'alpha', 'alpha', 'alpha', 'alpha', 'alpha', 'alpha', 'alpha', 'alpha', 'alpha', 'alpha', 'alpha', 'alpha', 'alpha', 'alpha', 'alpha', 'alpha', 'alpha', 'alpha', 'alpha', 'alpha', 'alpha', 'alpha', 'alpha', 'alpha', 'alpha', 'alpha', 'alpha', 'alpha', 'alpha', 'alpha', 'alpha', 'alpha', 'alpha', 'alpha', 'alpha', 'alpha', 'alpha', 'alpha', 'alpha', 'alpha', 'alpha', 'alpha', 'alpha', 'alpha', 'alpha', 'alpha', 'alpha', 'alpha', 'alpha', 'alpha', 'alpha', 'alpha', 'alpha', 'alpha', 'alpha', 'alpha', 'alpha', 'alpha', 'alpha', 'alpha', 'alpha', 'alpha', 'alpha', 'alpha', 'alpha', 'alpha', 'alpha', 'alpha', 'alpha', 'alpha', 'alpha', 'alpha', 'alpha', 'alpha', 'alpha', 'alpha', 'alpha', 'alpha', 'alpha', 'alpha', 'alpha', 'alpha', 'alpha', 'alpha', 'alpha', 'alpha', 'alpha', 'alpha', 'alpha', 'alpha', 'alpha', 'alpha', 'alpha', 'alpha', 'alpha', 'alpha', 'alpha', 'alpha', 'alpha', 'alpha', 'alpha', 'alpha', 'alpha', 'alpha', 'alpha', 'alpha', 'alpha', 'alpha', 'alpha', 'alpha', 'alpha', 'alpha', 'alpha', 'alpha', 'alpha', 'alpha', 'alpha', 'alpha', 'alpha', 'alpha', 'alpha', 'alpha', 'alpha', 'alpha', 'alpha', 'alpha', 'alpha', 'alpha', 'alpha', 'alpha', 'alpha', 'alpha', 'alpha', 'alpha', 'alpha', 'alpha', 'delta', 'delta', 'delta', 'delta', 'delta', 'delta', 'delta', 'delta', 'delta', 'delta', 'delta', 'delta', 'delta', 'delta', 'delta', 'delta', 'delta', 'delta', 'delta', 'delta', 'delta', 'delta', 'delta', 'delta', 'delta', 'delta', 'delta', 'delta', 'delta', 'delta', 'delta', 'delta', 'delta', 'delta', 'delta', 'delta', 'delta', 'delta', 'delta', 'delta', 'delta', 'delta', 'delta', 'delta', 'delta', 'delta', 'delta', 'delta', 'delta', 'delta', 'delta', 'delta', 'delta', 'delta', 'delta', 'delta', 'delta', 'delta', 'delta', 'delta', 'delta', 'delta', 'delta', 'delta', 'delta', 'delta', 'delta', 'delta', 'delta', 'delta', 'delta', 'delta', 'delta', 'delta', 'delta', 'delta', 'delta', 'delta', 'delta', 'delta', 'delta', 'delta', 'delta', 'delta', 'delta', 'delta', 'delta', 'delta', 'delta', 'delta', 'delta', 'delta', 'delta', 'delta', 'delta', 'delta', 'delta', 'delta', 'delta', 'delta', 'delta', 'delta', 'delta', 'delta', 'delta', 'delta', 'delta', 'delta', 'delta', 'delta', 'delta', 'delta', 'delta', 'delta', 'delta', 'delta', 'delta', 'delta', 'delta', 'delta', 'delta', 'delta', 'delta', 'delta', 'delta', 'delta', 'delta', 'delta', 'delta', 'delta', 'delta', 'delta', 'delta', 'delta', 'delta', 'delta', 'delta', 'delta', 'delta', 'delta', 'delta', 'delta', 'delta', 'delta', 'delta', 'delta', 'delta', 'delta', 'delta', 'delta', 'delta', 'delta', 'delta', 'delta', 'delta', 'delta', 'delta', 'delta', 'delta', 'delta', 'delta', 'delta', 'delta', 'delta', 'delta', 'delta', 'delta', 'delta', 'delta', 'delta', 'delta', 'delta', 'delta', 'delta', 'delta', 'delta', 'delta', 'delta', 'delta', 'delta', 'delta', 'delta', 'delta', 'delta', 'delta', 'delta', 'delta', 'delta', 'delta', 'delta', 'delta', 'delta', 'delta', 'delta', 'delta', 'delta', 'delta', 'delta', 'delta', 'delta', 'delta', 'delta', 'delta', 'beta', 'beta', 'beta', 'beta', 'beta', 'beta', 'beta', 'beta', 'beta', 'beta', 'beta', 'beta', 'beta', 'beta', 'beta', 'beta', 'beta', 'beta', 'beta', 'beta', 'beta', 'beta', 'beta', 'beta', 'beta', 'beta', 'beta', 'beta', 'beta', 'beta', 'beta', 'beta', 'beta', 'beta', 'beta', 'beta', 'beta', 'beta', 'beta', 'beta', 'beta', 'beta', 'beta', 'beta', 'beta', 'beta', 'beta', 'beta', 'beta', 'beta', 'beta', 'beta', 'beta', 'beta', 'beta', 'beta', 'beta', 'beta', 'beta', 'beta', 'beta', 'beta', 'beta', 'beta', 'beta', 'beta', 'beta', 'beta', 'beta', 'beta', 'beta', 'beta', 'beta', 'beta', 'beta', 'beta', 'beta', 'beta', 'beta', 'beta', 'beta', 'beta', 'beta', 'beta', 'beta', 'beta', 'beta', 'beta', 'beta', 'beta', 'beta', 'beta', 'beta', 'beta', 'beta', 'beta', 'beta', 'beta', 'beta', 'beta', 'beta', 'beta', 'beta', 'beta', 'beta', 'beta', 'beta', 'beta', 'beta', 'beta', 'beta', 'beta', 'beta', 'beta', 'beta', 'beta', 'beta', 'beta', 'beta', 'beta', 'beta', 'beta', 'beta', 'beta', 'beta', 'beta', 'beta', 'beta', 'beta', 'beta', 'beta', 'beta', 'beta', 'beta', 'beta', 'beta', 'beta', 'beta', 'beta', 'beta', 'beta', 'beta', 'beta', 'beta', 'beta', 'beta', 'beta', 'beta', 'beta', 'beta', 'beta', 'beta', 'beta', 'beta', 'beta', 'beta', 'beta', 'beta', 'beta', 'beta', 'beta', 'beta', 'beta', 'beta', 'beta', 'beta', 'beta', 'beta', 'beta', 'beta', 'beta', 'beta', 'beta', 'beta', 'beta', 'beta', 'beta', 'beta', 'beta', 'beta', 'beta', 'beta', 'beta', 'beta', 'beta', 'beta', 'beta', 'beta', 'beta', 'beta', 'beta', 'beta', 'beta', 'beta', 'beta', 'beta', 'beta', 'beta', 'beta', 'beta', 'beta', 'beta', 'beta', 'beta', 'beta', 'beta', 'beta', 'beta', 'beta', 'beta', 'beta', 'beta', 'beta', 'beta', 'beta', 'beta', 'beta', 'beta', 'beta', 'beta', 'beta', 'beta', 'beta', 'beta', 'beta', 'beta', 'beta', 'beta', 'beta', 'beta', 'beta', 'beta', 'beta', 'beta', 'beta', 'beta', 'beta', 'beta', 'beta', 'beta', 'beta', 'beta', 'beta', 'beta', 'beta', 'beta', 'beta', 'beta', 'beta', 'beta', 'beta', 'beta', 'beta', 'beta', 'beta', 'beta', 'beta', 'beta', 'beta', 'beta', 'beta', 'beta', 'beta', 'beta', 'beta', 'beta', 'beta', 'beta', 'beta', 'beta', 'beta', 'beta', 'beta', 'beta', 'beta', 'beta', 'beta', 'beta', 'beta', 'beta', 'beta', 'beta', 'beta', 'beta', 'beta', 'beta', 'beta', 'beta', 'beta', 'beta', 'beta', 'beta', 'beta', 'beta', 'beta', 'beta', 'beta', 'beta', 'beta', 'beta', 'beta', 'beta', 'beta', 'beta', 'beta', 'beta', 'beta', 'beta', 'beta', 'beta', 'beta', 'beta', 'beta', 'beta', 'beta', 'beta', 'beta', 'beta', 'beta', 'beta', 'beta', 'beta', 'beta', 'beta', 'beta', 'beta', 'beta', 'beta', 'beta', 'beta', 'beta', 'beta', 'beta', 'beta', 'beta', 'beta', 'beta', 'beta', 'beta', 'beta', 'beta', 'beta', 'beta', 'beta', 'beta', 'beta', 'beta', 'beta', 'beta', 'beta', 'beta', 'beta', 'beta', 'beta', 'beta', 'beta', 'beta', 'beta', 'beta', 'beta', 'beta', 'beta', 'beta', 'beta', 'beta', 'beta', 'beta', 'beta', 'beta', 'beta', 'beta', 'beta', 'beta', 'beta', 'beta', 'beta', 'beta', 'beta', 'beta', 'beta', 'beta', 'beta', 'beta', 'beta', 'beta', 'beta', 'beta', 'beta', 'beta', 'beta', 'beta', 'beta', 'beta', 'beta', 'beta', 'beta', 'beta', 'beta', 'beta', 'beta', 'beta', 'beta', 'beta', 'beta', 'beta', 'beta', 'beta', 'beta', 'beta', 'beta', 'beta', 'beta', 'beta', 'beta', 'beta', 'beta', 'beta', 'beta', 'beta', 'beta', 'beta', 'beta', 'beta', 'beta', 'beta', 'beta', 'beta', 'beta', 'beta', 'beta', 'beta', 'beta', 'beta', 'beta', 'beta', 'beta', 'beta', 'beta', 'beta', 'beta', 'beta', 'beta', 'beta', 'beta', 'beta', 'ductal', 'ductal', 'ductal', 'ductal', 'ductal', 'ductal', 'ductal', 'ductal', 'ductal', 'ductal', 'ductal', 'ductal', 'ductal', 'ductal', 'ductal', 'ductal', 'ductal', 'ductal', 'ductal', 'ductal', 'ductal', 'ductal', 'ductal', 'ductal', 'ductal', 'ductal', 'ductal', 'ductal', 'ductal', 'ductal', 'ductal', 'ductal', 'ductal', 'ductal', 'ductal', 'ductal', 'ductal', 'ductal', 'ductal', 'ductal', 'ductal', 'ductal', 'ductal', 'ductal', 'ductal', 'ductal', 'ductal', 'ductal', 'ductal', 'ductal', 'ductal', 'ductal', 'ductal', 'ductal', 'ductal', 'ductal', 'ductal', 'ductal', 'ductal', 'ductal', 'ductal', 'ductal', 'ductal', 'ductal', 'ductal', 'ductal', 'ductal', 'ductal', 'ductal', 'ductal', 'ductal', 'ductal', 'ductal', 'ductal', 'ductal', 'ductal', 'ductal', 'ductal', 'ductal', 'ductal', 'ductal', 'ductal', 'ductal', 'ductal', 'ductal', 'ductal', 'ductal', 'ductal', 'ductal', 'ductal', 'ductal', 'ductal', 'ductal', 'ductal', 'ductal', 'ductal', 'ductal', 'ductal', 'ductal', 'ductal', 'ductal', 'ductal', 'ductal', 'ductal', 'ductal', 'ductal', 'ductal', 'ductal', 'ductal', 'ductal', 'ductal', 'ductal', 'ductal', 'ductal', 'ductal', 'ductal', 'ductal', 'ductal', 'ductal', 'ductal', 'ductal', 'ductal', 'ductal', 'ductal', 'ductal', 'ductal', 'ductal', 'ductal', 'ductal', 'ductal', 'ductal', 'ductal', 'ductal', 'ductal', 'ductal', 'ductal', 'ductal', 'ductal', 'ductal', 'ductal', 'ductal', 'ductal', 'ductal', 'ductal', 'ductal', 'ductal', 'ductal', 'ductal', 'ductal', 'ductal', 'ductal', 'ductal', 'ductal', 'ductal', 'ductal', 'ductal', 'ductal', 'ductal', 'ductal', 'ductal', 'ductal', 'ductal', 'ductal', 'ductal', 'ductal', 'ductal', 'ductal', 'ductal', 'ductal', 'ductal', 'ductal', 'ductal', 'ductal', 'ductal', 'ductal', 'ductal', 'ductal', 'ductal', 'ductal', 'ductal', 'ductal', 'ductal', 'ductal', 'ductal', 'ductal', 'ductal', 'ductal', 'ductal', 'ductal', 'ductal', 'ductal', 'ductal', 'ductal', 'ductal', 'ductal', 'ductal', 'ductal', 'ductal', 'ductal', 'ductal', 'ductal', 'ductal', 'ductal', 'ductal', 'ductal', 'ductal', 'ductal', 'ductal', 'ductal', 'ductal', 'ductal', 'ductal', 'ductal', 'ductal', 'ductal', 'ductal', 'ductal', 'ductal', 'ductal', 'ductal', 'ductal', 'ductal', 'ductal', 'ductal', 'ductal', 'ductal', 'ductal', 'ductal', 'ductal', 'ductal', 'ductal', 'ductal', 'ductal', 'ductal', 'ductal', 'ductal', 'ductal', 'ductal', 'ductal', 'ductal', 'ductal', 'ductal', 'ductal', 'ductal', 'ductal', 'ductal', 'ductal', 'ductal', 'ductal', 'ductal', 'ductal', 'ductal', 'ductal', 'ductal', 'ductal', 'ductal', 'ductal', 'ductal', 'endothelial', 'endothelial', 'endothelial', 'endothelial', 'endothelial', 'endothelial', 'endothelial', 'endothelial', 'endothelial', 'endothelial', 'endothelial', 'endothelial', 'endothelial', 'endothelial', 'endothelial', 'endothelial', 'endothelial', 'endothelial', 'endothelial', 'endothelial', 'endothelial', 'activated_stellate', 'activated_stellate', 'activated_stellate', 'activated_stellate', 'activated_stellate', 'activated_stellate', 'activated_stellate', 'activated_stellate', 'activated_stellate', 'activated_stellate', 'activated_stellate', 'activated_stellate', 'activated_stellate', 'activated_stellate', 'activated_stellate', 'activated_stellate', 'activated_stellate', 'activated_stellate', 'activated_stellate', 'activated_stellate', 'activated_stellate', 'activated_stellate', 'activated_stellate', 'activated_stellate', 'activated_stellate', 'activated_stellate', 'activated_stellate', 'activated_stellate', 'activated_stellate', 'activated_stellate', 'activated_stellate', 'activated_stellate', 'activated_stellate', 'activated_stellate', 'activated_stellate', 'activated_stellate', 'activated_stellate', 'activated_stellate', 'activated_stellate', 'activated_stellate', 'activated_stellate', 'activated_stellate', 'activated_stellate', 'activated_stellate', 'activated_stellate', 'activated_stellate', 'activated_stellate', 'activated_stellate', 'activated_stellate', 'activated_stellate', 'activated_stellate', 'activated_stellate', 'activated_stellate', 'activated_stellate', 'activated_stellate', 'activated_stellate', 'activated_stellate', 'activated_stellate', 'activated_stellate', 'activated_stellate', 'activated_stellate', 'activated_stellate', 'activated_stellate', 'activated_stellate', 'activated_stellate', 'activated_stellate', 'activated_stellate', 'activated_stellate', 'activated_stellate', 'activated_stellate', 'activated_stellate', 'activated_stellate', 'activated_stellate', 'activated_stellate', 'activated_stellate', 'activated_stellate', 'activated_stellate', 'activated_stellate', 'activated_stellate', 'activated_stellate', 'activated_stellate', 'activated_stellate', 'activated_stellate', 'activated_stellate', 'activated_stellate', 'activated_stellate', 'activated_stellate', 'activated_stellate', 'activated_stellate', 'activated_stellate', 'schwann', 'schwann', 'schwann', 'schwann', 'mast', 'mast', 'mast', 'mast', 'mast', 'mast', 'macrophage', 'macrophage', 'macrophage', 'macrophage', 'macrophage', 'macrophage', 'macrophage', 'macrophage', 'macrophage', 'macrophage', 'macrophage', 'macrophage', 'macrophage', 'macrophage', 'macrophage', 'epsilon', 'epsilon', 'epsilon', 'epsilon', 'quiescent_stellate', 'quiescent_stellate', 'quiescent_stellate', 'quiescent_stellate', 'quiescent_stellate', 'quiescent_stellate', 'quiescent_stellate', 'quiescent_stellate', 'quiescent_stellate', 'quiescent_stellate', 'quiescent_stellate', 'quiescent_stellate']),\n",
       " 'pancreas_fluidigmc1': Benchmark(acc=0.8932166301969365, cfmatrix=[[274, 0, 0, 0, 0, 0, 0, 0, 0, 0, 0, 0, 0, 0], [0, 90, 0, 0, 0, 0, 0, 0, 0, 0, 0, 0, 0, 0], [0, 0, 843, 0, 0, 0, 0, 0, 0, 0, 0, 0, 0, 0], [0, 0, 0, 445, 0, 0, 0, 0, 0, 0, 0, 0, 0, 0], [0, 0, 0, 203, 0, 0, 0, 0, 0, 0, 0, 0, 0, 0], [0, 0, 0, 0, 0, 258, 0, 0, 0, 0, 0, 0, 0, 0], [0, 0, 0, 0, 0, 0, 21, 0, 0, 0, 0, 0, 0, 0], [0, 0, 4, 0, 0, 0, 0, 0, 0, 0, 0, 0, 0, 0], [0, 0, 0, 0, 0, 0, 0, 0, 110, 0, 0, 0, 0, 0], [0, 15, 0, 0, 0, 0, 0, 0, 0, 0, 0, 0, 0, 0], [0, 6, 0, 0, 0, 0, 0, 0, 0, 0, 0, 0, 0, 0], [0, 12, 0, 0, 0, 0, 0, 0, 0, 0, 0, 0, 0, 0], [0, 4, 0, 0, 0, 0, 0, 0, 0, 0, 0, 0, 0, 0]], q_labels=['acinar', 'activated_stellate', 'alpha', 'beta', 'delta', 'ductal', 'endothelial', 'epsilon', 'gamma', 'macrophage', 'mast', 'quiescent_stellate', 'schwann'], ref_labels=['acinar', 'activated_stellate', 'alpha', 'beta', 'delta', 'ductal', 'endothelial', 'epsilon', 'gamma', 'macrophage', 'mast', 'quiescent_stellate', 'schwann', 'novel'], annotations=['gamma', 'gamma', 'gamma', 'gamma', 'gamma', 'gamma', 'gamma', 'gamma', 'gamma', 'gamma', 'gamma', 'gamma', 'gamma', 'gamma', 'gamma', 'gamma', 'gamma', 'gamma', 'gamma', 'gamma', 'gamma', 'gamma', 'gamma', 'gamma', 'gamma', 'gamma', 'gamma', 'gamma', 'gamma', 'gamma', 'gamma', 'gamma', 'gamma', 'gamma', 'gamma', 'gamma', 'gamma', 'gamma', 'gamma', 'gamma', 'gamma', 'gamma', 'gamma', 'gamma', 'gamma', 'gamma', 'gamma', 'gamma', 'gamma', 'gamma', 'gamma', 'gamma', 'gamma', 'gamma', 'gamma', 'gamma', 'gamma', 'gamma', 'gamma', 'gamma', 'gamma', 'gamma', 'gamma', 'gamma', 'gamma', 'gamma', 'gamma', 'gamma', 'gamma', 'gamma', 'gamma', 'gamma', 'gamma', 'gamma', 'gamma', 'gamma', 'gamma', 'gamma', 'gamma', 'gamma', 'gamma', 'gamma', 'gamma', 'gamma', 'gamma', 'gamma', 'gamma', 'gamma', 'gamma', 'gamma', 'gamma', 'gamma', 'gamma', 'gamma', 'gamma', 'gamma', 'gamma', 'gamma', 'gamma', 'gamma', 'gamma', 'gamma', 'gamma', 'gamma', 'gamma', 'gamma', 'gamma', 'gamma', 'gamma', 'gamma', 'acinar', 'acinar', 'acinar', 'acinar', 'acinar', 'acinar', 'acinar', 'acinar', 'acinar', 'acinar', 'acinar', 'acinar', 'acinar', 'acinar', 'acinar', 'acinar', 'acinar', 'acinar', 'acinar', 'acinar', 'acinar', 'acinar', 'acinar', 'acinar', 'acinar', 'acinar', 'acinar', 'acinar', 'acinar', 'acinar', 'acinar', 'acinar', 'acinar', 'acinar', 'acinar', 'acinar', 'acinar', 'acinar', 'acinar', 'acinar', 'acinar', 'acinar', 'acinar', 'acinar', 'acinar', 'acinar', 'acinar', 'acinar', 'acinar', 'acinar', 'acinar', 'acinar', 'acinar', 'acinar', 'acinar', 'acinar', 'acinar', 'acinar', 'acinar', 'acinar', 'acinar', 'acinar', 'acinar', 'acinar', 'acinar', 'acinar', 'acinar', 'acinar', 'acinar', 'acinar', 'acinar', 'acinar', 'acinar', 'acinar', 'acinar', 'acinar', 'acinar', 'acinar', 'acinar', 'acinar', 'acinar', 'acinar', 'acinar', 'acinar', 'acinar', 'acinar', 'acinar', 'acinar', 'acinar', 'acinar', 'acinar', 'acinar', 'acinar', 'acinar', 'acinar', 'acinar', 'acinar', 'acinar', 'acinar', 'acinar', 'acinar', 'acinar', 'acinar', 'acinar', 'acinar', 'acinar', 'acinar', 'acinar', 'acinar', 'acinar', 'acinar', 'acinar', 'acinar', 'acinar', 'acinar', 'acinar', 'acinar', 'acinar', 'acinar', 'acinar', 'acinar', 'acinar', 'acinar', 'acinar', 'acinar', 'acinar', 'acinar', 'acinar', 'acinar', 'acinar', 'acinar', 'acinar', 'acinar', 'acinar', 'acinar', 'acinar', 'acinar', 'acinar', 'acinar', 'acinar', 'acinar', 'acinar', 'acinar', 'acinar', 'acinar', 'acinar', 'acinar', 'acinar', 'acinar', 'acinar', 'acinar', 'acinar', 'acinar', 'acinar', 'acinar', 'acinar', 'acinar', 'acinar', 'acinar', 'acinar', 'acinar', 'acinar', 'acinar', 'acinar', 'acinar', 'acinar', 'acinar', 'acinar', 'acinar', 'acinar', 'acinar', 'acinar', 'acinar', 'acinar', 'acinar', 'acinar', 'acinar', 'acinar', 'acinar', 'acinar', 'acinar', 'acinar', 'acinar', 'acinar', 'acinar', 'acinar', 'acinar', 'acinar', 'acinar', 'acinar', 'acinar', 'acinar', 'acinar', 'acinar', 'acinar', 'acinar', 'acinar', 'acinar', 'acinar', 'acinar', 'acinar', 'acinar', 'acinar', 'acinar', 'acinar', 'acinar', 'acinar', 'acinar', 'acinar', 'acinar', 'acinar', 'acinar', 'acinar', 'acinar', 'acinar', 'acinar', 'acinar', 'acinar', 'acinar', 'acinar', 'acinar', 'acinar', 'acinar', 'acinar', 'acinar', 'acinar', 'acinar', 'acinar', 'acinar', 'acinar', 'acinar', 'acinar', 'acinar', 'acinar', 'acinar', 'acinar', 'acinar', 'acinar', 'acinar', 'acinar', 'acinar', 'acinar', 'acinar', 'acinar', 'acinar', 'acinar', 'acinar', 'acinar', 'acinar', 'acinar', 'acinar', 'acinar', 'acinar', 'acinar', 'acinar', 'acinar', 'acinar', 'acinar', 'acinar', 'acinar', 'acinar', 'acinar', 'acinar', 'acinar', 'acinar', 'acinar', 'acinar', 'acinar', 'acinar', 'acinar', 'acinar', 'acinar', 'acinar', 'acinar', 'alpha', 'alpha', 'alpha', 'alpha', 'alpha', 'alpha', 'alpha', 'alpha', 'alpha', 'alpha', 'alpha', 'alpha', 'alpha', 'alpha', 'alpha', 'alpha', 'alpha', 'alpha', 'alpha', 'alpha', 'alpha', 'alpha', 'alpha', 'alpha', 'alpha', 'alpha', 'alpha', 'alpha', 'alpha', 'alpha', 'alpha', 'alpha', 'alpha', 'alpha', 'alpha', 'alpha', 'alpha', 'alpha', 'alpha', 'alpha', 'alpha', 'alpha', 'alpha', 'alpha', 'alpha', 'alpha', 'alpha', 'alpha', 'alpha', 'alpha', 'alpha', 'alpha', 'alpha', 'alpha', 'alpha', 'alpha', 'alpha', 'alpha', 'alpha', 'alpha', 'alpha', 'alpha', 'alpha', 'alpha', 'alpha', 'alpha', 'alpha', 'alpha', 'alpha', 'alpha', 'alpha', 'alpha', 'alpha', 'alpha', 'alpha', 'alpha', 'alpha', 'alpha', 'alpha', 'alpha', 'alpha', 'alpha', 'alpha', 'alpha', 'alpha', 'alpha', 'alpha', 'alpha', 'alpha', 'alpha', 'alpha', 'alpha', 'alpha', 'alpha', 'alpha', 'alpha', 'alpha', 'alpha', 'alpha', 'alpha', 'alpha', 'alpha', 'alpha', 'alpha', 'alpha', 'alpha', 'alpha', 'alpha', 'alpha', 'alpha', 'alpha', 'alpha', 'alpha', 'alpha', 'alpha', 'alpha', 'alpha', 'alpha', 'alpha', 'alpha', 'alpha', 'alpha', 'alpha', 'alpha', 'alpha', 'alpha', 'alpha', 'alpha', 'alpha', 'alpha', 'alpha', 'alpha', 'alpha', 'alpha', 'alpha', 'alpha', 'alpha', 'alpha', 'alpha', 'alpha', 'alpha', 'alpha', 'alpha', 'alpha', 'alpha', 'alpha', 'alpha', 'alpha', 'alpha', 'alpha', 'alpha', 'alpha', 'alpha', 'alpha', 'alpha', 'alpha', 'alpha', 'alpha', 'alpha', 'alpha', 'alpha', 'alpha', 'alpha', 'alpha', 'alpha', 'alpha', 'alpha', 'alpha', 'alpha', 'alpha', 'alpha', 'alpha', 'alpha', 'alpha', 'alpha', 'alpha', 'alpha', 'alpha', 'alpha', 'alpha', 'alpha', 'alpha', 'alpha', 'alpha', 'alpha', 'alpha', 'alpha', 'alpha', 'alpha', 'alpha', 'alpha', 'alpha', 'alpha', 'alpha', 'alpha', 'alpha', 'alpha', 'alpha', 'alpha', 'alpha', 'alpha', 'alpha', 'alpha', 'alpha', 'alpha', 'alpha', 'alpha', 'alpha', 'alpha', 'alpha', 'alpha', 'alpha', 'alpha', 'alpha', 'alpha', 'alpha', 'alpha', 'alpha', 'alpha', 'alpha', 'alpha', 'alpha', 'alpha', 'alpha', 'alpha', 'alpha', 'alpha', 'alpha', 'alpha', 'alpha', 'alpha', 'alpha', 'alpha', 'alpha', 'alpha', 'alpha', 'alpha', 'alpha', 'alpha', 'alpha', 'alpha', 'alpha', 'alpha', 'alpha', 'alpha', 'alpha', 'alpha', 'alpha', 'alpha', 'alpha', 'alpha', 'alpha', 'alpha', 'alpha', 'alpha', 'alpha', 'alpha', 'alpha', 'alpha', 'alpha', 'alpha', 'alpha', 'alpha', 'alpha', 'alpha', 'alpha', 'alpha', 'alpha', 'alpha', 'alpha', 'alpha', 'alpha', 'alpha', 'alpha', 'alpha', 'alpha', 'alpha', 'alpha', 'alpha', 'alpha', 'alpha', 'alpha', 'alpha', 'alpha', 'alpha', 'alpha', 'alpha', 'alpha', 'alpha', 'alpha', 'alpha', 'alpha', 'alpha', 'alpha', 'alpha', 'alpha', 'alpha', 'alpha', 'alpha', 'alpha', 'alpha', 'alpha', 'alpha', 'alpha', 'alpha', 'alpha', 'alpha', 'alpha', 'alpha', 'alpha', 'alpha', 'alpha', 'alpha', 'alpha', 'alpha', 'alpha', 'alpha', 'alpha', 'alpha', 'alpha', 'alpha', 'alpha', 'alpha', 'alpha', 'alpha', 'alpha', 'alpha', 'alpha', 'alpha', 'alpha', 'alpha', 'alpha', 'alpha', 'alpha', 'alpha', 'alpha', 'alpha', 'alpha', 'alpha', 'alpha', 'alpha', 'alpha', 'alpha', 'alpha', 'alpha', 'alpha', 'alpha', 'alpha', 'alpha', 'alpha', 'alpha', 'alpha', 'alpha', 'alpha', 'alpha', 'alpha', 'alpha', 'alpha', 'alpha', 'alpha', 'alpha', 'alpha', 'alpha', 'alpha', 'alpha', 'alpha', 'alpha', 'alpha', 'alpha', 'alpha', 'alpha', 'alpha', 'alpha', 'alpha', 'alpha', 'alpha', 'alpha', 'alpha', 'alpha', 'alpha', 'alpha', 'alpha', 'alpha', 'alpha', 'alpha', 'alpha', 'alpha', 'alpha', 'alpha', 'alpha', 'alpha', 'alpha', 'alpha', 'alpha', 'alpha', 'alpha', 'alpha', 'alpha', 'alpha', 'alpha', 'alpha', 'alpha', 'alpha', 'alpha', 'alpha', 'alpha', 'alpha', 'alpha', 'alpha', 'alpha', 'alpha', 'alpha', 'alpha', 'alpha', 'alpha', 'alpha', 'alpha', 'alpha', 'alpha', 'alpha', 'alpha', 'alpha', 'alpha', 'alpha', 'alpha', 'alpha', 'alpha', 'alpha', 'alpha', 'alpha', 'alpha', 'alpha', 'alpha', 'alpha', 'alpha', 'alpha', 'alpha', 'alpha', 'alpha', 'alpha', 'alpha', 'alpha', 'alpha', 'alpha', 'alpha', 'alpha', 'alpha', 'alpha', 'alpha', 'alpha', 'alpha', 'alpha', 'alpha', 'alpha', 'alpha', 'alpha', 'alpha', 'alpha', 'alpha', 'alpha', 'alpha', 'alpha', 'alpha', 'alpha', 'alpha', 'alpha', 'alpha', 'alpha', 'alpha', 'alpha', 'alpha', 'alpha', 'alpha', 'alpha', 'alpha', 'alpha', 'alpha', 'alpha', 'alpha', 'alpha', 'alpha', 'alpha', 'alpha', 'alpha', 'alpha', 'alpha', 'alpha', 'alpha', 'alpha', 'alpha', 'alpha', 'alpha', 'alpha', 'alpha', 'alpha', 'alpha', 'alpha', 'alpha', 'alpha', 'alpha', 'alpha', 'alpha', 'alpha', 'alpha', 'alpha', 'alpha', 'alpha', 'alpha', 'alpha', 'alpha', 'alpha', 'alpha', 'alpha', 'alpha', 'alpha', 'alpha', 'alpha', 'alpha', 'alpha', 'alpha', 'alpha', 'alpha', 'alpha', 'alpha', 'alpha', 'alpha', 'alpha', 'alpha', 'alpha', 'alpha', 'alpha', 'alpha', 'alpha', 'alpha', 'alpha', 'alpha', 'alpha', 'alpha', 'alpha', 'alpha', 'alpha', 'alpha', 'alpha', 'alpha', 'alpha', 'alpha', 'alpha', 'alpha', 'alpha', 'alpha', 'alpha', 'alpha', 'alpha', 'alpha', 'alpha', 'alpha', 'alpha', 'alpha', 'alpha', 'alpha', 'alpha', 'alpha', 'alpha', 'alpha', 'alpha', 'alpha', 'alpha', 'alpha', 'alpha', 'alpha', 'alpha', 'alpha', 'alpha', 'alpha', 'alpha', 'alpha', 'alpha', 'alpha', 'alpha', 'alpha', 'alpha', 'alpha', 'alpha', 'alpha', 'alpha', 'alpha', 'alpha', 'alpha', 'alpha', 'alpha', 'alpha', 'alpha', 'alpha', 'alpha', 'alpha', 'alpha', 'alpha', 'alpha', 'alpha', 'alpha', 'alpha', 'alpha', 'alpha', 'alpha', 'alpha', 'alpha', 'alpha', 'alpha', 'alpha', 'alpha', 'alpha', 'alpha', 'alpha', 'alpha', 'alpha', 'alpha', 'alpha', 'alpha', 'alpha', 'alpha', 'alpha', 'alpha', 'alpha', 'alpha', 'alpha', 'alpha', 'alpha', 'alpha', 'alpha', 'alpha', 'alpha', 'alpha', 'alpha', 'alpha', 'alpha', 'alpha', 'alpha', 'alpha', 'alpha', 'alpha', 'alpha', 'alpha', 'alpha', 'alpha', 'alpha', 'alpha', 'alpha', 'alpha', 'alpha', 'alpha', 'alpha', 'alpha', 'alpha', 'alpha', 'alpha', 'alpha', 'alpha', 'alpha', 'alpha', 'alpha', 'alpha', 'alpha', 'alpha', 'alpha', 'alpha', 'alpha', 'alpha', 'alpha', 'alpha', 'alpha', 'alpha', 'alpha', 'alpha', 'alpha', 'alpha', 'alpha', 'alpha', 'alpha', 'alpha', 'alpha', 'alpha', 'alpha', 'alpha', 'alpha', 'alpha', 'alpha', 'alpha', 'alpha', 'alpha', 'alpha', 'alpha', 'alpha', 'alpha', 'alpha', 'alpha', 'alpha', 'alpha', 'alpha', 'alpha', 'alpha', 'alpha', 'alpha', 'alpha', 'alpha', 'alpha', 'alpha', 'alpha', 'alpha', 'alpha', 'alpha', 'alpha', 'alpha', 'alpha', 'alpha', 'alpha', 'alpha', 'alpha', 'alpha', 'alpha', 'alpha', 'alpha', 'alpha', 'alpha', 'alpha', 'alpha', 'alpha', 'alpha', 'alpha', 'alpha', 'alpha', 'alpha', 'alpha', 'alpha', 'alpha', 'alpha', 'alpha', 'alpha', 'alpha', 'alpha', 'alpha', 'alpha', 'alpha', 'alpha', 'alpha', 'alpha', 'alpha', 'alpha', 'alpha', 'alpha', 'alpha', 'alpha', 'alpha', 'alpha', 'alpha', 'alpha', 'alpha', 'alpha', 'alpha', 'alpha', 'alpha', 'alpha', 'alpha', 'alpha', 'alpha', 'alpha', 'alpha', 'alpha', 'alpha', 'alpha', 'alpha', 'alpha', 'alpha', 'alpha', 'alpha', 'alpha', 'alpha', 'alpha', 'alpha', 'alpha', 'alpha', 'alpha', 'alpha', 'alpha', 'alpha', 'alpha', 'alpha', 'alpha', 'alpha', 'alpha', 'alpha', 'alpha', 'alpha', 'alpha', 'alpha', 'alpha', 'alpha', 'alpha', 'alpha', 'alpha', 'alpha', 'alpha', 'alpha', 'alpha', 'alpha', 'alpha', 'alpha', 'alpha', 'alpha', 'alpha', 'alpha', 'alpha', 'alpha', 'alpha', 'alpha', 'alpha', 'alpha', 'alpha', 'alpha', 'alpha', 'alpha', 'alpha', 'alpha', 'alpha', 'alpha', 'alpha', 'alpha', 'alpha', 'alpha', 'alpha', 'alpha', 'alpha', 'alpha', 'alpha', 'alpha', 'alpha', 'alpha', 'alpha', 'alpha', 'alpha', 'alpha', 'alpha', 'alpha', 'alpha', 'beta', 'beta', 'beta', 'beta', 'beta', 'beta', 'beta', 'beta', 'beta', 'beta', 'beta', 'beta', 'beta', 'beta', 'beta', 'beta', 'beta', 'beta', 'beta', 'beta', 'beta', 'beta', 'beta', 'beta', 'beta', 'beta', 'beta', 'beta', 'beta', 'beta', 'beta', 'beta', 'beta', 'beta', 'beta', 'beta', 'beta', 'beta', 'beta', 'beta', 'beta', 'beta', 'beta', 'beta', 'beta', 'beta', 'beta', 'beta', 'beta', 'beta', 'beta', 'beta', 'beta', 'beta', 'beta', 'beta', 'beta', 'beta', 'beta', 'beta', 'beta', 'beta', 'beta', 'beta', 'beta', 'beta', 'beta', 'beta', 'beta', 'beta', 'beta', 'beta', 'beta', 'beta', 'beta', 'beta', 'beta', 'beta', 'beta', 'beta', 'beta', 'beta', 'beta', 'beta', 'beta', 'beta', 'beta', 'beta', 'beta', 'beta', 'beta', 'beta', 'beta', 'beta', 'beta', 'beta', 'beta', 'beta', 'beta', 'beta', 'beta', 'beta', 'beta', 'beta', 'beta', 'beta', 'beta', 'beta', 'beta', 'beta', 'beta', 'beta', 'beta', 'beta', 'beta', 'beta', 'beta', 'beta', 'beta', 'beta', 'beta', 'beta', 'beta', 'beta', 'beta', 'beta', 'beta', 'beta', 'beta', 'beta', 'beta', 'beta', 'beta', 'beta', 'beta', 'beta', 'beta', 'beta', 'beta', 'beta', 'beta', 'beta', 'beta', 'beta', 'beta', 'beta', 'beta', 'beta', 'beta', 'beta', 'beta', 'beta', 'beta', 'beta', 'beta', 'beta', 'beta', 'beta', 'beta', 'beta', 'beta', 'beta', 'beta', 'beta', 'beta', 'beta', 'beta', 'beta', 'beta', 'beta', 'beta', 'beta', 'beta', 'beta', 'beta', 'beta', 'beta', 'beta', 'beta', 'beta', 'beta', 'beta', 'beta', 'beta', 'beta', 'beta', 'beta', 'beta', 'beta', 'beta', 'beta', 'beta', 'beta', 'beta', 'beta', 'beta', 'beta', 'beta', 'beta', 'beta', 'beta', 'beta', 'beta', 'beta', 'beta', 'beta', 'beta', 'beta', 'beta', 'beta', 'beta', 'beta', 'beta', 'beta', 'beta', 'beta', 'beta', 'beta', 'beta', 'beta', 'beta', 'beta', 'beta', 'beta', 'beta', 'beta', 'beta', 'beta', 'beta', 'beta', 'beta', 'beta', 'beta', 'beta', 'beta', 'beta', 'beta', 'beta', 'beta', 'beta', 'beta', 'beta', 'beta', 'beta', 'beta', 'beta', 'beta', 'beta', 'beta', 'beta', 'beta', 'beta', 'beta', 'beta', 'beta', 'beta', 'beta', 'beta', 'beta', 'beta', 'beta', 'beta', 'beta', 'beta', 'beta', 'beta', 'beta', 'beta', 'beta', 'beta', 'beta', 'beta', 'beta', 'beta', 'beta', 'beta', 'beta', 'beta', 'beta', 'beta', 'beta', 'beta', 'beta', 'beta', 'beta', 'beta', 'beta', 'beta', 'beta', 'beta', 'beta', 'beta', 'beta', 'beta', 'beta', 'beta', 'beta', 'beta', 'beta', 'beta', 'beta', 'beta', 'beta', 'beta', 'beta', 'beta', 'beta', 'beta', 'beta', 'beta', 'beta', 'beta', 'beta', 'beta', 'beta', 'beta', 'beta', 'beta', 'beta', 'beta', 'beta', 'beta', 'beta', 'beta', 'beta', 'beta', 'beta', 'beta', 'beta', 'beta', 'beta', 'beta', 'beta', 'beta', 'beta', 'beta', 'beta', 'beta', 'beta', 'beta', 'beta', 'beta', 'beta', 'beta', 'beta', 'beta', 'beta', 'beta', 'beta', 'beta', 'beta', 'beta', 'beta', 'beta', 'beta', 'beta', 'beta', 'beta', 'beta', 'beta', 'beta', 'beta', 'beta', 'beta', 'beta', 'beta', 'beta', 'beta', 'beta', 'beta', 'beta', 'beta', 'beta', 'beta', 'beta', 'beta', 'beta', 'beta', 'beta', 'beta', 'beta', 'beta', 'beta', 'beta', 'beta', 'beta', 'beta', 'beta', 'beta', 'beta', 'beta', 'beta', 'beta', 'beta', 'beta', 'beta', 'beta', 'beta', 'beta', 'beta', 'beta', 'beta', 'beta', 'beta', 'beta', 'beta', 'beta', 'beta', 'beta', 'beta', 'beta', 'beta', 'beta', 'beta', 'beta', 'beta', 'beta', 'beta', 'beta', 'beta', 'beta', 'beta', 'beta', 'beta', 'beta', 'beta', 'beta', 'beta', 'beta', 'beta', 'beta', 'beta', 'beta', 'beta', 'beta', 'beta', 'beta', 'beta', 'beta', 'beta', 'beta', 'beta', 'beta', 'beta', 'beta', 'beta', 'beta', 'beta', 'beta', 'beta', 'beta', 'beta', 'beta', 'beta', 'beta', 'beta', 'beta', 'beta', 'beta', 'beta', 'beta', 'beta', 'beta', 'beta', 'beta', 'beta', 'beta', 'beta', 'beta', 'beta', 'beta', 'beta', 'beta', 'beta', 'beta', 'beta', 'beta', 'beta', 'beta', 'beta', 'beta', 'beta', 'beta', 'beta', 'beta', 'beta', 'beta', 'beta', 'beta', 'beta', 'beta', 'beta', 'beta', 'beta', 'beta', 'beta', 'beta', 'beta', 'beta', 'beta', 'beta', 'beta', 'beta', 'beta', 'beta', 'beta', 'beta', 'beta', 'beta', 'beta', 'beta', 'beta', 'beta', 'beta', 'beta', 'beta', 'beta', 'beta', 'beta', 'beta', 'beta', 'beta', 'beta', 'beta', 'beta', 'beta', 'beta', 'beta', 'beta', 'beta', 'beta', 'beta', 'beta', 'beta', 'beta', 'beta', 'beta', 'beta', 'beta', 'beta', 'beta', 'beta', 'beta', 'beta', 'beta', 'beta', 'beta', 'beta', 'beta', 'beta', 'beta', 'beta', 'beta', 'beta', 'beta', 'beta', 'beta', 'beta', 'beta', 'beta', 'beta', 'beta', 'beta', 'beta', 'beta', 'beta', 'beta', 'beta', 'beta', 'beta', 'beta', 'beta', 'beta', 'beta', 'beta', 'beta', 'beta', 'beta', 'beta', 'beta', 'beta', 'beta', 'beta', 'beta', 'beta', 'beta', 'beta', 'beta', 'beta', 'beta', 'beta', 'beta', 'beta', 'beta', 'beta', 'beta', 'beta', 'beta', 'beta', 'beta', 'beta', 'beta', 'beta', 'beta', 'beta', 'beta', 'beta', 'beta', 'beta', 'beta', 'beta', 'beta', 'beta', 'beta', 'beta', 'beta', 'beta', 'beta', 'beta', 'beta', 'beta', 'beta', 'beta', 'beta', 'beta', 'beta', 'beta', 'beta', 'beta', 'beta', 'beta', 'beta', 'beta', 'beta', 'beta', 'beta', 'beta', 'beta', 'beta', 'beta', 'beta', 'beta', 'beta', 'beta', 'beta', 'beta', 'beta', 'beta', 'ductal', 'ductal', 'ductal', 'ductal', 'ductal', 'ductal', 'ductal', 'ductal', 'ductal', 'ductal', 'ductal', 'ductal', 'ductal', 'ductal', 'ductal', 'ductal', 'ductal', 'ductal', 'ductal', 'ductal', 'ductal', 'ductal', 'ductal', 'ductal', 'ductal', 'ductal', 'ductal', 'ductal', 'ductal', 'ductal', 'ductal', 'ductal', 'ductal', 'ductal', 'ductal', 'ductal', 'ductal', 'ductal', 'ductal', 'ductal', 'ductal', 'ductal', 'ductal', 'ductal', 'ductal', 'ductal', 'ductal', 'ductal', 'ductal', 'ductal', 'ductal', 'ductal', 'ductal', 'ductal', 'ductal', 'ductal', 'ductal', 'ductal', 'ductal', 'ductal', 'ductal', 'ductal', 'ductal', 'ductal', 'ductal', 'ductal', 'ductal', 'ductal', 'ductal', 'ductal', 'ductal', 'ductal', 'ductal', 'ductal', 'ductal', 'ductal', 'ductal', 'ductal', 'ductal', 'ductal', 'ductal', 'ductal', 'ductal', 'ductal', 'ductal', 'ductal', 'ductal', 'ductal', 'ductal', 'ductal', 'ductal', 'ductal', 'ductal', 'ductal', 'ductal', 'ductal', 'ductal', 'ductal', 'ductal', 'ductal', 'ductal', 'ductal', 'ductal', 'ductal', 'ductal', 'ductal', 'ductal', 'ductal', 'ductal', 'ductal', 'ductal', 'ductal', 'ductal', 'ductal', 'ductal', 'ductal', 'ductal', 'ductal', 'ductal', 'ductal', 'ductal', 'ductal', 'ductal', 'ductal', 'ductal', 'ductal', 'ductal', 'ductal', 'ductal', 'ductal', 'ductal', 'ductal', 'ductal', 'ductal', 'ductal', 'ductal', 'ductal', 'ductal', 'ductal', 'ductal', 'ductal', 'ductal', 'ductal', 'ductal', 'ductal', 'ductal', 'ductal', 'ductal', 'ductal', 'ductal', 'ductal', 'ductal', 'ductal', 'ductal', 'ductal', 'ductal', 'ductal', 'ductal', 'ductal', 'ductal', 'ductal', 'ductal', 'ductal', 'ductal', 'ductal', 'ductal', 'ductal', 'ductal', 'ductal', 'ductal', 'ductal', 'ductal', 'ductal', 'ductal', 'ductal', 'ductal', 'ductal', 'ductal', 'ductal', 'ductal', 'ductal', 'ductal', 'ductal', 'ductal', 'ductal', 'ductal', 'ductal', 'ductal', 'ductal', 'ductal', 'ductal', 'ductal', 'ductal', 'ductal', 'ductal', 'ductal', 'ductal', 'ductal', 'ductal', 'ductal', 'ductal', 'ductal', 'ductal', 'ductal', 'ductal', 'ductal', 'ductal', 'ductal', 'ductal', 'ductal', 'ductal', 'ductal', 'ductal', 'ductal', 'ductal', 'ductal', 'ductal', 'ductal', 'ductal', 'ductal', 'ductal', 'ductal', 'ductal', 'ductal', 'ductal', 'ductal', 'ductal', 'ductal', 'ductal', 'ductal', 'ductal', 'ductal', 'ductal', 'ductal', 'ductal', 'ductal', 'ductal', 'ductal', 'ductal', 'ductal', 'ductal', 'ductal', 'ductal', 'ductal', 'ductal', 'ductal', 'ductal', 'ductal', 'ductal', 'ductal', 'ductal', 'ductal', 'ductal', 'ductal', 'ductal', 'ductal', 'ductal', 'ductal', 'endothelial', 'endothelial', 'endothelial', 'endothelial', 'endothelial', 'endothelial', 'endothelial', 'endothelial', 'endothelial', 'endothelial', 'endothelial', 'endothelial', 'endothelial', 'endothelial', 'endothelial', 'endothelial', 'endothelial', 'endothelial', 'endothelial', 'endothelial', 'endothelial', 'activated_stellate', 'activated_stellate', 'activated_stellate', 'activated_stellate', 'activated_stellate', 'activated_stellate', 'activated_stellate', 'activated_stellate', 'activated_stellate', 'activated_stellate', 'activated_stellate', 'activated_stellate', 'activated_stellate', 'activated_stellate', 'activated_stellate', 'activated_stellate', 'activated_stellate', 'activated_stellate', 'activated_stellate', 'activated_stellate', 'activated_stellate', 'activated_stellate', 'activated_stellate', 'activated_stellate', 'activated_stellate', 'activated_stellate', 'activated_stellate', 'activated_stellate', 'activated_stellate', 'activated_stellate', 'activated_stellate', 'activated_stellate', 'activated_stellate', 'activated_stellate', 'activated_stellate', 'activated_stellate', 'activated_stellate', 'activated_stellate', 'activated_stellate', 'activated_stellate', 'activated_stellate', 'activated_stellate', 'activated_stellate', 'activated_stellate', 'activated_stellate', 'activated_stellate', 'activated_stellate', 'activated_stellate', 'activated_stellate', 'activated_stellate', 'activated_stellate', 'activated_stellate', 'activated_stellate', 'activated_stellate', 'activated_stellate', 'activated_stellate', 'activated_stellate', 'activated_stellate', 'activated_stellate', 'activated_stellate', 'activated_stellate', 'activated_stellate', 'activated_stellate', 'activated_stellate', 'activated_stellate', 'activated_stellate', 'activated_stellate', 'activated_stellate', 'activated_stellate', 'activated_stellate', 'activated_stellate', 'activated_stellate', 'activated_stellate', 'activated_stellate', 'activated_stellate', 'activated_stellate', 'activated_stellate', 'activated_stellate', 'activated_stellate', 'activated_stellate', 'activated_stellate', 'activated_stellate', 'activated_stellate', 'activated_stellate', 'activated_stellate', 'activated_stellate', 'activated_stellate', 'activated_stellate', 'activated_stellate', 'activated_stellate', 'activated_stellate', 'activated_stellate', 'activated_stellate', 'activated_stellate', 'activated_stellate', 'activated_stellate', 'activated_stellate', 'activated_stellate', 'activated_stellate', 'activated_stellate', 'activated_stellate', 'activated_stellate', 'activated_stellate', 'activated_stellate', 'activated_stellate', 'activated_stellate', 'activated_stellate', 'activated_stellate', 'activated_stellate', 'activated_stellate', 'activated_stellate', 'activated_stellate', 'activated_stellate', 'activated_stellate', 'activated_stellate', 'alpha', 'alpha', 'alpha', 'alpha', 'activated_stellate', 'activated_stellate', 'activated_stellate', 'activated_stellate', 'activated_stellate', 'activated_stellate', 'activated_stellate', 'activated_stellate', 'activated_stellate', 'activated_stellate', 'activated_stellate', 'activated_stellate']),\n",
       " 'pancreas_smartseq2': Benchmark(acc=0.9912472647702407, cfmatrix=[[274, 0, 0, 0, 0, 0, 0, 0, 0, 0, 0, 0, 0, 0], [0, 90, 0, 0, 0, 0, 0, 0, 0, 0, 0, 0, 0, 0], [0, 0, 843, 0, 0, 0, 0, 0, 0, 0, 0, 0, 0, 0], [0, 0, 0, 445, 0, 0, 0, 0, 0, 0, 0, 0, 0, 0], [0, 0, 0, 0, 203, 0, 0, 0, 0, 0, 0, 0, 0, 0], [0, 0, 0, 0, 0, 258, 0, 0, 0, 0, 0, 0, 0, 0], [0, 0, 0, 0, 0, 0, 21, 0, 0, 0, 0, 0, 0, 0], [0, 0, 0, 0, 0, 0, 0, 0, 4, 0, 0, 0, 0, 0], [0, 0, 0, 0, 0, 0, 0, 0, 110, 0, 0, 0, 0, 0], [0, 0, 0, 0, 0, 0, 0, 0, 0, 15, 0, 0, 0, 0], [0, 0, 0, 0, 0, 0, 0, 0, 0, 0, 6, 0, 0, 0], [0, 12, 0, 0, 0, 0, 0, 0, 0, 0, 0, 0, 0, 0], [0, 4, 0, 0, 0, 0, 0, 0, 0, 0, 0, 0, 0, 0]], q_labels=['acinar', 'activated_stellate', 'alpha', 'beta', 'delta', 'ductal', 'endothelial', 'epsilon', 'gamma', 'macrophage', 'mast', 'quiescent_stellate', 'schwann'], ref_labels=['acinar', 'activated_stellate', 'alpha', 'beta', 'delta', 'ductal', 'endothelial', 'epsilon', 'gamma', 'macrophage', 'mast', 'quiescent_stellate', 'schwann', 'novel'], annotations=['gamma', 'gamma', 'gamma', 'gamma', 'gamma', 'gamma', 'gamma', 'gamma', 'gamma', 'gamma', 'gamma', 'gamma', 'gamma', 'gamma', 'gamma', 'gamma', 'gamma', 'gamma', 'gamma', 'gamma', 'gamma', 'gamma', 'gamma', 'gamma', 'gamma', 'gamma', 'gamma', 'gamma', 'gamma', 'gamma', 'gamma', 'gamma', 'gamma', 'gamma', 'gamma', 'gamma', 'gamma', 'gamma', 'gamma', 'gamma', 'gamma', 'gamma', 'gamma', 'gamma', 'gamma', 'gamma', 'gamma', 'gamma', 'gamma', 'gamma', 'gamma', 'gamma', 'gamma', 'gamma', 'gamma', 'gamma', 'gamma', 'gamma', 'gamma', 'gamma', 'gamma', 'gamma', 'gamma', 'gamma', 'gamma', 'gamma', 'gamma', 'gamma', 'gamma', 'gamma', 'gamma', 'gamma', 'gamma', 'gamma', 'gamma', 'gamma', 'gamma', 'gamma', 'gamma', 'gamma', 'gamma', 'gamma', 'gamma', 'gamma', 'gamma', 'gamma', 'gamma', 'gamma', 'gamma', 'gamma', 'gamma', 'gamma', 'gamma', 'gamma', 'gamma', 'gamma', 'gamma', 'gamma', 'gamma', 'gamma', 'gamma', 'gamma', 'gamma', 'gamma', 'gamma', 'gamma', 'gamma', 'gamma', 'gamma', 'gamma', 'acinar', 'acinar', 'acinar', 'acinar', 'acinar', 'acinar', 'acinar', 'acinar', 'acinar', 'acinar', 'acinar', 'acinar', 'acinar', 'acinar', 'acinar', 'acinar', 'acinar', 'acinar', 'acinar', 'acinar', 'acinar', 'acinar', 'acinar', 'acinar', 'acinar', 'acinar', 'acinar', 'acinar', 'acinar', 'acinar', 'acinar', 'acinar', 'acinar', 'acinar', 'acinar', 'acinar', 'acinar', 'acinar', 'acinar', 'acinar', 'acinar', 'acinar', 'acinar', 'acinar', 'acinar', 'acinar', 'acinar', 'acinar', 'acinar', 'acinar', 'acinar', 'acinar', 'acinar', 'acinar', 'acinar', 'acinar', 'acinar', 'acinar', 'acinar', 'acinar', 'acinar', 'acinar', 'acinar', 'acinar', 'acinar', 'acinar', 'acinar', 'acinar', 'acinar', 'acinar', 'acinar', 'acinar', 'acinar', 'acinar', 'acinar', 'acinar', 'acinar', 'acinar', 'acinar', 'acinar', 'acinar', 'acinar', 'acinar', 'acinar', 'acinar', 'acinar', 'acinar', 'acinar', 'acinar', 'acinar', 'acinar', 'acinar', 'acinar', 'acinar', 'acinar', 'acinar', 'acinar', 'acinar', 'acinar', 'acinar', 'acinar', 'acinar', 'acinar', 'acinar', 'acinar', 'acinar', 'acinar', 'acinar', 'acinar', 'acinar', 'acinar', 'acinar', 'acinar', 'acinar', 'acinar', 'acinar', 'acinar', 'acinar', 'acinar', 'acinar', 'acinar', 'acinar', 'acinar', 'acinar', 'acinar', 'acinar', 'acinar', 'acinar', 'acinar', 'acinar', 'acinar', 'acinar', 'acinar', 'acinar', 'acinar', 'acinar', 'acinar', 'acinar', 'acinar', 'acinar', 'acinar', 'acinar', 'acinar', 'acinar', 'acinar', 'acinar', 'acinar', 'acinar', 'acinar', 'acinar', 'acinar', 'acinar', 'acinar', 'acinar', 'acinar', 'acinar', 'acinar', 'acinar', 'acinar', 'acinar', 'acinar', 'acinar', 'acinar', 'acinar', 'acinar', 'acinar', 'acinar', 'acinar', 'acinar', 'acinar', 'acinar', 'acinar', 'acinar', 'acinar', 'acinar', 'acinar', 'acinar', 'acinar', 'acinar', 'acinar', 'acinar', 'acinar', 'acinar', 'acinar', 'acinar', 'acinar', 'acinar', 'acinar', 'acinar', 'acinar', 'acinar', 'acinar', 'acinar', 'acinar', 'acinar', 'acinar', 'acinar', 'acinar', 'acinar', 'acinar', 'acinar', 'acinar', 'acinar', 'acinar', 'acinar', 'acinar', 'acinar', 'acinar', 'acinar', 'acinar', 'acinar', 'acinar', 'acinar', 'acinar', 'acinar', 'acinar', 'acinar', 'acinar', 'acinar', 'acinar', 'acinar', 'acinar', 'acinar', 'acinar', 'acinar', 'acinar', 'acinar', 'acinar', 'acinar', 'acinar', 'acinar', 'acinar', 'acinar', 'acinar', 'acinar', 'acinar', 'acinar', 'acinar', 'acinar', 'acinar', 'acinar', 'acinar', 'acinar', 'acinar', 'acinar', 'acinar', 'acinar', 'acinar', 'acinar', 'acinar', 'acinar', 'acinar', 'acinar', 'acinar', 'acinar', 'acinar', 'acinar', 'acinar', 'acinar', 'acinar', 'acinar', 'acinar', 'acinar', 'acinar', 'acinar', 'acinar', 'acinar', 'acinar', 'acinar', 'acinar', 'acinar', 'acinar', 'acinar', 'acinar', 'alpha', 'alpha', 'alpha', 'alpha', 'alpha', 'alpha', 'alpha', 'alpha', 'alpha', 'alpha', 'alpha', 'alpha', 'alpha', 'alpha', 'alpha', 'alpha', 'alpha', 'alpha', 'alpha', 'alpha', 'alpha', 'alpha', 'alpha', 'alpha', 'alpha', 'alpha', 'alpha', 'alpha', 'alpha', 'alpha', 'alpha', 'alpha', 'alpha', 'alpha', 'alpha', 'alpha', 'alpha', 'alpha', 'alpha', 'alpha', 'alpha', 'alpha', 'alpha', 'alpha', 'alpha', 'alpha', 'alpha', 'alpha', 'alpha', 'alpha', 'alpha', 'alpha', 'alpha', 'alpha', 'alpha', 'alpha', 'alpha', 'alpha', 'alpha', 'alpha', 'alpha', 'alpha', 'alpha', 'alpha', 'alpha', 'alpha', 'alpha', 'alpha', 'alpha', 'alpha', 'alpha', 'alpha', 'alpha', 'alpha', 'alpha', 'alpha', 'alpha', 'alpha', 'alpha', 'alpha', 'alpha', 'alpha', 'alpha', 'alpha', 'alpha', 'alpha', 'alpha', 'alpha', 'alpha', 'alpha', 'alpha', 'alpha', 'alpha', 'alpha', 'alpha', 'alpha', 'alpha', 'alpha', 'alpha', 'alpha', 'alpha', 'alpha', 'alpha', 'alpha', 'alpha', 'alpha', 'alpha', 'alpha', 'alpha', 'alpha', 'alpha', 'alpha', 'alpha', 'alpha', 'alpha', 'alpha', 'alpha', 'alpha', 'alpha', 'alpha', 'alpha', 'alpha', 'alpha', 'alpha', 'alpha', 'alpha', 'alpha', 'alpha', 'alpha', 'alpha', 'alpha', 'alpha', 'alpha', 'alpha', 'alpha', 'alpha', 'alpha', 'alpha', 'alpha', 'alpha', 'alpha', 'alpha', 'alpha', 'alpha', 'alpha', 'alpha', 'alpha', 'alpha', 'alpha', 'alpha', 'alpha', 'alpha', 'alpha', 'alpha', 'alpha', 'alpha', 'alpha', 'alpha', 'alpha', 'alpha', 'alpha', 'alpha', 'alpha', 'alpha', 'alpha', 'alpha', 'alpha', 'alpha', 'alpha', 'alpha', 'alpha', 'alpha', 'alpha', 'alpha', 'alpha', 'alpha', 'alpha', 'alpha', 'alpha', 'alpha', 'alpha', 'alpha', 'alpha', 'alpha', 'alpha', 'alpha', 'alpha', 'alpha', 'alpha', 'alpha', 'alpha', 'alpha', 'alpha', 'alpha', 'alpha', 'alpha', 'alpha', 'alpha', 'alpha', 'alpha', 'alpha', 'alpha', 'alpha', 'alpha', 'alpha', 'alpha', 'alpha', 'alpha', 'alpha', 'alpha', 'alpha', 'alpha', 'alpha', 'alpha', 'alpha', 'alpha', 'alpha', 'alpha', 'alpha', 'alpha', 'alpha', 'alpha', 'alpha', 'alpha', 'alpha', 'alpha', 'alpha', 'alpha', 'alpha', 'alpha', 'alpha', 'alpha', 'alpha', 'alpha', 'alpha', 'alpha', 'alpha', 'alpha', 'alpha', 'alpha', 'alpha', 'alpha', 'alpha', 'alpha', 'alpha', 'alpha', 'alpha', 'alpha', 'alpha', 'alpha', 'alpha', 'alpha', 'alpha', 'alpha', 'alpha', 'alpha', 'alpha', 'alpha', 'alpha', 'alpha', 'alpha', 'alpha', 'alpha', 'alpha', 'alpha', 'alpha', 'alpha', 'alpha', 'alpha', 'alpha', 'alpha', 'alpha', 'alpha', 'alpha', 'alpha', 'alpha', 'alpha', 'alpha', 'alpha', 'alpha', 'alpha', 'alpha', 'alpha', 'alpha', 'alpha', 'alpha', 'alpha', 'alpha', 'alpha', 'alpha', 'alpha', 'alpha', 'alpha', 'alpha', 'alpha', 'alpha', 'alpha', 'alpha', 'alpha', 'alpha', 'alpha', 'alpha', 'alpha', 'alpha', 'alpha', 'alpha', 'alpha', 'alpha', 'alpha', 'alpha', 'alpha', 'alpha', 'alpha', 'alpha', 'alpha', 'alpha', 'alpha', 'alpha', 'alpha', 'alpha', 'alpha', 'alpha', 'alpha', 'alpha', 'alpha', 'alpha', 'alpha', 'alpha', 'alpha', 'alpha', 'alpha', 'alpha', 'alpha', 'alpha', 'alpha', 'alpha', 'alpha', 'alpha', 'alpha', 'alpha', 'alpha', 'alpha', 'alpha', 'alpha', 'alpha', 'alpha', 'alpha', 'alpha', 'alpha', 'alpha', 'alpha', 'alpha', 'alpha', 'alpha', 'alpha', 'alpha', 'alpha', 'alpha', 'alpha', 'alpha', 'alpha', 'alpha', 'alpha', 'alpha', 'alpha', 'alpha', 'alpha', 'alpha', 'alpha', 'alpha', 'alpha', 'alpha', 'alpha', 'alpha', 'alpha', 'alpha', 'alpha', 'alpha', 'alpha', 'alpha', 'alpha', 'alpha', 'alpha', 'alpha', 'alpha', 'alpha', 'alpha', 'alpha', 'alpha', 'alpha', 'alpha', 'alpha', 'alpha', 'alpha', 'alpha', 'alpha', 'alpha', 'alpha', 'alpha', 'alpha', 'alpha', 'alpha', 'alpha', 'alpha', 'alpha', 'alpha', 'alpha', 'alpha', 'alpha', 'alpha', 'alpha', 'alpha', 'alpha', 'alpha', 'alpha', 'alpha', 'alpha', 'alpha', 'alpha', 'alpha', 'alpha', 'alpha', 'alpha', 'alpha', 'alpha', 'alpha', 'alpha', 'alpha', 'alpha', 'alpha', 'alpha', 'alpha', 'alpha', 'alpha', 'alpha', 'alpha', 'alpha', 'alpha', 'alpha', 'alpha', 'alpha', 'alpha', 'alpha', 'alpha', 'alpha', 'alpha', 'alpha', 'alpha', 'alpha', 'alpha', 'alpha', 'alpha', 'alpha', 'alpha', 'alpha', 'alpha', 'alpha', 'alpha', 'alpha', 'alpha', 'alpha', 'alpha', 'alpha', 'alpha', 'alpha', 'alpha', 'alpha', 'alpha', 'alpha', 'alpha', 'alpha', 'alpha', 'alpha', 'alpha', 'alpha', 'alpha', 'alpha', 'alpha', 'alpha', 'alpha', 'alpha', 'alpha', 'alpha', 'alpha', 'alpha', 'alpha', 'alpha', 'alpha', 'alpha', 'alpha', 'alpha', 'alpha', 'alpha', 'alpha', 'alpha', 'alpha', 'alpha', 'alpha', 'alpha', 'alpha', 'alpha', 'alpha', 'alpha', 'alpha', 'alpha', 'alpha', 'alpha', 'alpha', 'alpha', 'alpha', 'alpha', 'alpha', 'alpha', 'alpha', 'alpha', 'alpha', 'alpha', 'alpha', 'alpha', 'alpha', 'alpha', 'alpha', 'alpha', 'alpha', 'alpha', 'alpha', 'alpha', 'alpha', 'alpha', 'alpha', 'alpha', 'alpha', 'alpha', 'alpha', 'alpha', 'alpha', 'alpha', 'alpha', 'alpha', 'alpha', 'alpha', 'alpha', 'alpha', 'alpha', 'alpha', 'alpha', 'alpha', 'alpha', 'alpha', 'alpha', 'alpha', 'alpha', 'alpha', 'alpha', 'alpha', 'alpha', 'alpha', 'alpha', 'alpha', 'alpha', 'alpha', 'alpha', 'alpha', 'alpha', 'alpha', 'alpha', 'alpha', 'alpha', 'alpha', 'alpha', 'alpha', 'alpha', 'alpha', 'alpha', 'alpha', 'alpha', 'alpha', 'alpha', 'alpha', 'alpha', 'alpha', 'alpha', 'alpha', 'alpha', 'alpha', 'alpha', 'alpha', 'alpha', 'alpha', 'alpha', 'alpha', 'alpha', 'alpha', 'alpha', 'alpha', 'alpha', 'alpha', 'alpha', 'alpha', 'alpha', 'alpha', 'alpha', 'alpha', 'alpha', 'alpha', 'alpha', 'alpha', 'alpha', 'alpha', 'alpha', 'alpha', 'alpha', 'alpha', 'alpha', 'alpha', 'alpha', 'alpha', 'alpha', 'alpha', 'alpha', 'alpha', 'alpha', 'alpha', 'alpha', 'alpha', 'alpha', 'alpha', 'alpha', 'alpha', 'alpha', 'alpha', 'alpha', 'alpha', 'alpha', 'alpha', 'alpha', 'alpha', 'alpha', 'alpha', 'alpha', 'alpha', 'alpha', 'alpha', 'alpha', 'alpha', 'alpha', 'alpha', 'alpha', 'alpha', 'alpha', 'alpha', 'alpha', 'alpha', 'alpha', 'alpha', 'alpha', 'alpha', 'alpha', 'alpha', 'alpha', 'alpha', 'alpha', 'alpha', 'alpha', 'alpha', 'alpha', 'alpha', 'alpha', 'alpha', 'alpha', 'alpha', 'alpha', 'alpha', 'alpha', 'alpha', 'alpha', 'alpha', 'alpha', 'alpha', 'alpha', 'alpha', 'alpha', 'alpha', 'alpha', 'alpha', 'alpha', 'alpha', 'alpha', 'alpha', 'alpha', 'alpha', 'alpha', 'alpha', 'alpha', 'alpha', 'alpha', 'alpha', 'alpha', 'alpha', 'alpha', 'alpha', 'alpha', 'alpha', 'alpha', 'alpha', 'alpha', 'alpha', 'alpha', 'alpha', 'alpha', 'alpha', 'alpha', 'alpha', 'alpha', 'alpha', 'alpha', 'alpha', 'alpha', 'alpha', 'alpha', 'alpha', 'alpha', 'alpha', 'alpha', 'alpha', 'alpha', 'alpha', 'alpha', 'alpha', 'alpha', 'alpha', 'alpha', 'alpha', 'alpha', 'alpha', 'alpha', 'alpha', 'alpha', 'alpha', 'alpha', 'alpha', 'alpha', 'alpha', 'alpha', 'alpha', 'alpha', 'alpha', 'alpha', 'alpha', 'alpha', 'alpha', 'alpha', 'alpha', 'alpha', 'alpha', 'alpha', 'alpha', 'alpha', 'alpha', 'alpha', 'alpha', 'alpha', 'alpha', 'alpha', 'alpha', 'alpha', 'alpha', 'alpha', 'alpha', 'alpha', 'alpha', 'alpha', 'alpha', 'alpha', 'alpha', 'alpha', 'alpha', 'alpha', 'alpha', 'alpha', 'alpha', 'alpha', 'alpha', 'alpha', 'alpha', 'alpha', 'alpha', 'alpha', 'alpha', 'alpha', 'alpha', 'alpha', 'alpha', 'alpha', 'alpha', 'alpha', 'alpha', 'alpha', 'alpha', 'alpha', 'alpha', 'alpha', 'alpha', 'alpha', 'alpha', 'alpha', 'alpha', 'alpha', 'alpha', 'alpha', 'alpha', 'alpha', 'alpha', 'alpha', 'alpha', 'alpha', 'alpha', 'alpha', 'alpha', 'alpha', 'alpha', 'alpha', 'alpha', 'alpha', 'alpha', 'alpha', 'alpha', 'alpha', 'alpha', 'alpha', 'alpha', 'alpha', 'alpha', 'alpha', 'alpha', 'alpha', 'alpha', 'alpha', 'alpha', 'alpha', 'alpha', 'alpha', 'alpha', 'delta', 'delta', 'delta', 'delta', 'delta', 'delta', 'delta', 'delta', 'delta', 'delta', 'delta', 'delta', 'delta', 'delta', 'delta', 'delta', 'delta', 'delta', 'delta', 'delta', 'delta', 'delta', 'delta', 'delta', 'delta', 'delta', 'delta', 'delta', 'delta', 'delta', 'delta', 'delta', 'delta', 'delta', 'delta', 'delta', 'delta', 'delta', 'delta', 'delta', 'delta', 'delta', 'delta', 'delta', 'delta', 'delta', 'delta', 'delta', 'delta', 'delta', 'delta', 'delta', 'delta', 'delta', 'delta', 'delta', 'delta', 'delta', 'delta', 'delta', 'delta', 'delta', 'delta', 'delta', 'delta', 'delta', 'delta', 'delta', 'delta', 'delta', 'delta', 'delta', 'delta', 'delta', 'delta', 'delta', 'delta', 'delta', 'delta', 'delta', 'delta', 'delta', 'delta', 'delta', 'delta', 'delta', 'delta', 'delta', 'delta', 'delta', 'delta', 'delta', 'delta', 'delta', 'delta', 'delta', 'delta', 'delta', 'delta', 'delta', 'delta', 'delta', 'delta', 'delta', 'delta', 'delta', 'delta', 'delta', 'delta', 'delta', 'delta', 'delta', 'delta', 'delta', 'delta', 'delta', 'delta', 'delta', 'delta', 'delta', 'delta', 'delta', 'delta', 'delta', 'delta', 'delta', 'delta', 'delta', 'delta', 'delta', 'delta', 'delta', 'delta', 'delta', 'delta', 'delta', 'delta', 'delta', 'delta', 'delta', 'delta', 'delta', 'delta', 'delta', 'delta', 'delta', 'delta', 'delta', 'delta', 'delta', 'delta', 'delta', 'delta', 'delta', 'delta', 'delta', 'delta', 'delta', 'delta', 'delta', 'delta', 'delta', 'delta', 'delta', 'delta', 'delta', 'delta', 'delta', 'delta', 'delta', 'delta', 'delta', 'delta', 'delta', 'delta', 'delta', 'delta', 'delta', 'delta', 'delta', 'delta', 'delta', 'delta', 'delta', 'delta', 'delta', 'delta', 'delta', 'delta', 'delta', 'delta', 'delta', 'delta', 'delta', 'delta', 'delta', 'delta', 'delta', 'delta', 'delta', 'delta', 'delta', 'delta', 'beta', 'beta', 'beta', 'beta', 'beta', 'beta', 'beta', 'beta', 'beta', 'beta', 'beta', 'beta', 'beta', 'beta', 'beta', 'beta', 'beta', 'beta', 'beta', 'beta', 'beta', 'beta', 'beta', 'beta', 'beta', 'beta', 'beta', 'beta', 'beta', 'beta', 'beta', 'beta', 'beta', 'beta', 'beta', 'beta', 'beta', 'beta', 'beta', 'beta', 'beta', 'beta', 'beta', 'beta', 'beta', 'beta', 'beta', 'beta', 'beta', 'beta', 'beta', 'beta', 'beta', 'beta', 'beta', 'beta', 'beta', 'beta', 'beta', 'beta', 'beta', 'beta', 'beta', 'beta', 'beta', 'beta', 'beta', 'beta', 'beta', 'beta', 'beta', 'beta', 'beta', 'beta', 'beta', 'beta', 'beta', 'beta', 'beta', 'beta', 'beta', 'beta', 'beta', 'beta', 'beta', 'beta', 'beta', 'beta', 'beta', 'beta', 'beta', 'beta', 'beta', 'beta', 'beta', 'beta', 'beta', 'beta', 'beta', 'beta', 'beta', 'beta', 'beta', 'beta', 'beta', 'beta', 'beta', 'beta', 'beta', 'beta', 'beta', 'beta', 'beta', 'beta', 'beta', 'beta', 'beta', 'beta', 'beta', 'beta', 'beta', 'beta', 'beta', 'beta', 'beta', 'beta', 'beta', 'beta', 'beta', 'beta', 'beta', 'beta', 'beta', 'beta', 'beta', 'beta', 'beta', 'beta', 'beta', 'beta', 'beta', 'beta', 'beta', 'beta', 'beta', 'beta', 'beta', 'beta', 'beta', 'beta', 'beta', 'beta', 'beta', 'beta', 'beta', 'beta', 'beta', 'beta', 'beta', 'beta', 'beta', 'beta', 'beta', 'beta', 'beta', 'beta', 'beta', 'beta', 'beta', 'beta', 'beta', 'beta', 'beta', 'beta', 'beta', 'beta', 'beta', 'beta', 'beta', 'beta', 'beta', 'beta', 'beta', 'beta', 'beta', 'beta', 'beta', 'beta', 'beta', 'beta', 'beta', 'beta', 'beta', 'beta', 'beta', 'beta', 'beta', 'beta', 'beta', 'beta', 'beta', 'beta', 'beta', 'beta', 'beta', 'beta', 'beta', 'beta', 'beta', 'beta', 'beta', 'beta', 'beta', 'beta', 'beta', 'beta', 'beta', 'beta', 'beta', 'beta', 'beta', 'beta', 'beta', 'beta', 'beta', 'beta', 'beta', 'beta', 'beta', 'beta', 'beta', 'beta', 'beta', 'beta', 'beta', 'beta', 'beta', 'beta', 'beta', 'beta', 'beta', 'beta', 'beta', 'beta', 'beta', 'beta', 'beta', 'beta', 'beta', 'beta', 'beta', 'beta', 'beta', 'beta', 'beta', 'beta', 'beta', 'beta', 'beta', 'beta', 'beta', 'beta', 'beta', 'beta', 'beta', 'beta', 'beta', 'beta', 'beta', 'beta', 'beta', 'beta', 'beta', 'beta', 'beta', 'beta', 'beta', 'beta', 'beta', 'beta', 'beta', 'beta', 'beta', 'beta', 'beta', 'beta', 'beta', 'beta', 'beta', 'beta', 'beta', 'beta', 'beta', 'beta', 'beta', 'beta', 'beta', 'beta', 'beta', 'beta', 'beta', 'beta', 'beta', 'beta', 'beta', 'beta', 'beta', 'beta', 'beta', 'beta', 'beta', 'beta', 'beta', 'beta', 'beta', 'beta', 'beta', 'beta', 'beta', 'beta', 'beta', 'beta', 'beta', 'beta', 'beta', 'beta', 'beta', 'beta', 'beta', 'beta', 'beta', 'beta', 'beta', 'beta', 'beta', 'beta', 'beta', 'beta', 'beta', 'beta', 'beta', 'beta', 'beta', 'beta', 'beta', 'beta', 'beta', 'beta', 'beta', 'beta', 'beta', 'beta', 'beta', 'beta', 'beta', 'beta', 'beta', 'beta', 'beta', 'beta', 'beta', 'beta', 'beta', 'beta', 'beta', 'beta', 'beta', 'beta', 'beta', 'beta', 'beta', 'beta', 'beta', 'beta', 'beta', 'beta', 'beta', 'beta', 'beta', 'beta', 'beta', 'beta', 'beta', 'beta', 'beta', 'beta', 'beta', 'beta', 'beta', 'beta', 'beta', 'beta', 'beta', 'beta', 'beta', 'beta', 'beta', 'beta', 'beta', 'beta', 'beta', 'beta', 'beta', 'beta', 'beta', 'beta', 'beta', 'beta', 'beta', 'beta', 'beta', 'beta', 'beta', 'beta', 'beta', 'beta', 'beta', 'beta', 'beta', 'beta', 'beta', 'beta', 'beta', 'beta', 'beta', 'beta', 'beta', 'beta', 'beta', 'beta', 'beta', 'beta', 'beta', 'beta', 'beta', 'beta', 'beta', 'beta', 'beta', 'beta', 'beta', 'beta', 'beta', 'beta', 'beta', 'ductal', 'ductal', 'ductal', 'ductal', 'ductal', 'ductal', 'ductal', 'ductal', 'ductal', 'ductal', 'ductal', 'ductal', 'ductal', 'ductal', 'ductal', 'ductal', 'ductal', 'ductal', 'ductal', 'ductal', 'ductal', 'ductal', 'ductal', 'ductal', 'ductal', 'ductal', 'ductal', 'ductal', 'ductal', 'ductal', 'ductal', 'ductal', 'ductal', 'ductal', 'ductal', 'ductal', 'ductal', 'ductal', 'ductal', 'ductal', 'ductal', 'ductal', 'ductal', 'ductal', 'ductal', 'ductal', 'ductal', 'ductal', 'ductal', 'ductal', 'ductal', 'ductal', 'ductal', 'ductal', 'ductal', 'ductal', 'ductal', 'ductal', 'ductal', 'ductal', 'ductal', 'ductal', 'ductal', 'ductal', 'ductal', 'ductal', 'ductal', 'ductal', 'ductal', 'ductal', 'ductal', 'ductal', 'ductal', 'ductal', 'ductal', 'ductal', 'ductal', 'ductal', 'ductal', 'ductal', 'ductal', 'ductal', 'ductal', 'ductal', 'ductal', 'ductal', 'ductal', 'ductal', 'ductal', 'ductal', 'ductal', 'ductal', 'ductal', 'ductal', 'ductal', 'ductal', 'ductal', 'ductal', 'ductal', 'ductal', 'ductal', 'ductal', 'ductal', 'ductal', 'ductal', 'ductal', 'ductal', 'ductal', 'ductal', 'ductal', 'ductal', 'ductal', 'ductal', 'ductal', 'ductal', 'ductal', 'ductal', 'ductal', 'ductal', 'ductal', 'ductal', 'ductal', 'ductal', 'ductal', 'ductal', 'ductal', 'ductal', 'ductal', 'ductal', 'ductal', 'ductal', 'ductal', 'ductal', 'ductal', 'ductal', 'ductal', 'ductal', 'ductal', 'ductal', 'ductal', 'ductal', 'ductal', 'ductal', 'ductal', 'ductal', 'ductal', 'ductal', 'ductal', 'ductal', 'ductal', 'ductal', 'ductal', 'ductal', 'ductal', 'ductal', 'ductal', 'ductal', 'ductal', 'ductal', 'ductal', 'ductal', 'ductal', 'ductal', 'ductal', 'ductal', 'ductal', 'ductal', 'ductal', 'ductal', 'ductal', 'ductal', 'ductal', 'ductal', 'ductal', 'ductal', 'ductal', 'ductal', 'ductal', 'ductal', 'ductal', 'ductal', 'ductal', 'ductal', 'ductal', 'ductal', 'ductal', 'ductal', 'ductal', 'ductal', 'ductal', 'ductal', 'ductal', 'ductal', 'ductal', 'ductal', 'ductal', 'ductal', 'ductal', 'ductal', 'ductal', 'ductal', 'ductal', 'ductal', 'ductal', 'ductal', 'ductal', 'ductal', 'ductal', 'ductal', 'ductal', 'ductal', 'ductal', 'ductal', 'ductal', 'ductal', 'ductal', 'ductal', 'ductal', 'ductal', 'ductal', 'ductal', 'ductal', 'ductal', 'ductal', 'ductal', 'ductal', 'ductal', 'ductal', 'ductal', 'ductal', 'ductal', 'ductal', 'ductal', 'ductal', 'ductal', 'ductal', 'ductal', 'ductal', 'ductal', 'ductal', 'ductal', 'ductal', 'ductal', 'ductal', 'ductal', 'ductal', 'ductal', 'ductal', 'ductal', 'ductal', 'ductal', 'ductal', 'ductal', 'ductal', 'ductal', 'ductal', 'ductal', 'ductal', 'endothelial', 'endothelial', 'endothelial', 'endothelial', 'endothelial', 'endothelial', 'endothelial', 'endothelial', 'endothelial', 'endothelial', 'endothelial', 'endothelial', 'endothelial', 'endothelial', 'endothelial', 'endothelial', 'endothelial', 'endothelial', 'endothelial', 'endothelial', 'endothelial', 'activated_stellate', 'activated_stellate', 'activated_stellate', 'activated_stellate', 'activated_stellate', 'activated_stellate', 'activated_stellate', 'activated_stellate', 'activated_stellate', 'activated_stellate', 'activated_stellate', 'activated_stellate', 'activated_stellate', 'activated_stellate', 'activated_stellate', 'activated_stellate', 'activated_stellate', 'activated_stellate', 'activated_stellate', 'activated_stellate', 'activated_stellate', 'activated_stellate', 'activated_stellate', 'activated_stellate', 'activated_stellate', 'activated_stellate', 'activated_stellate', 'activated_stellate', 'activated_stellate', 'activated_stellate', 'activated_stellate', 'activated_stellate', 'activated_stellate', 'activated_stellate', 'activated_stellate', 'activated_stellate', 'activated_stellate', 'activated_stellate', 'activated_stellate', 'activated_stellate', 'activated_stellate', 'activated_stellate', 'activated_stellate', 'activated_stellate', 'activated_stellate', 'activated_stellate', 'activated_stellate', 'activated_stellate', 'activated_stellate', 'activated_stellate', 'activated_stellate', 'activated_stellate', 'activated_stellate', 'activated_stellate', 'activated_stellate', 'activated_stellate', 'activated_stellate', 'activated_stellate', 'activated_stellate', 'activated_stellate', 'activated_stellate', 'activated_stellate', 'activated_stellate', 'activated_stellate', 'activated_stellate', 'activated_stellate', 'activated_stellate', 'activated_stellate', 'activated_stellate', 'activated_stellate', 'activated_stellate', 'activated_stellate', 'activated_stellate', 'activated_stellate', 'activated_stellate', 'activated_stellate', 'activated_stellate', 'activated_stellate', 'activated_stellate', 'activated_stellate', 'activated_stellate', 'activated_stellate', 'activated_stellate', 'activated_stellate', 'activated_stellate', 'activated_stellate', 'activated_stellate', 'activated_stellate', 'activated_stellate', 'activated_stellate', 'activated_stellate', 'activated_stellate', 'activated_stellate', 'activated_stellate', 'mast', 'mast', 'mast', 'mast', 'mast', 'mast', 'macrophage', 'macrophage', 'macrophage', 'macrophage', 'macrophage', 'macrophage', 'macrophage', 'macrophage', 'macrophage', 'macrophage', 'macrophage', 'macrophage', 'macrophage', 'macrophage', 'macrophage', 'gamma', 'gamma', 'gamma', 'gamma', 'activated_stellate', 'activated_stellate', 'activated_stellate', 'activated_stellate', 'activated_stellate', 'activated_stellate', 'activated_stellate', 'activated_stellate', 'activated_stellate', 'activated_stellate', 'activated_stellate', 'activated_stellate'])}"
      ]
     },
     "execution_count": 9,
     "metadata": {},
     "output_type": "execute_result"
    }
   ],
   "source": [
    "benchmarks[\"MV-SCANVI\"][\"pancreas_celseq2\"]"
   ]
  },
  {
   "cell_type": "code",
   "execution_count": 10,
   "metadata": {},
   "outputs": [
    {
     "data": {
      "application/vnd.plotly.v1+json": {
       "config": {
        "plotlyServerURL": "https://plot.ly"
       },
       "data": [
        {
         "coloraxis": "coloraxis",
         "hovertemplate": "x: %{x}<br>y: %{y}<br>color: %{z}<extra></extra>",
         "name": "0",
         "type": "heatmap",
         "x": [
          "pancreas_celseq",
          "pancreas_celseq2",
          "pancreas_fluidigmc1",
          "pancreas_inDrop1",
          "pancreas_inDrop2",
          "pancreas_inDrop3",
          "pancreas_inDrop4",
          "pancreas_smarter",
          "pancreas_smartseq2"
         ],
         "xaxis": "x",
         "y": [
          "pancreas_celseq",
          "pancreas_celseq2",
          "pancreas_fluidigmc1",
          "pancreas_inDrop1",
          "pancreas_inDrop2",
          "pancreas_inDrop3",
          "pancreas_inDrop4",
          "pancreas_smarter",
          "pancreas_smartseq2"
         ],
         "yaxis": "y",
         "z": [
          [
           1,
           0.99800796812749,
           0.99601593625498,
           0.99800796812749,
           0.7699203187250996,
           0.99601593625498,
           0.7679282868525896,
           0.4183266932270917,
           0.9970119521912352
          ],
          [
           0.9820568927789934,
           1,
           0.9929978118161924,
           0.9929978118161924,
           0.8783369803063458,
           0.9912472647702408,
           0.8687089715536105,
           0.700656455142232,
           0.9947483588621444
          ],
          [
           0.9827586206896552,
           0.987460815047022,
           1,
           0.9858934169278996,
           0.9529780564263324,
           0.9843260188087776,
           0.95141065830721,
           0.8463949843260188,
           0.9858934169278996
          ],
          [
           0.9308208569953536,
           0.9989674754775426,
           0.940629839958699,
           1,
           0.935467217346412,
           0.9907072792978832,
           0.8812596799173981,
           0.7186370676303562,
           0.9514713474445018
          ],
          [
           0.9663573085846868,
           0.9988399071925754,
           0.9849187935034804,
           0.9970997679814384,
           1,
           0.994199535962877,
           0.974477958236659,
           0.7296983758700696,
           0.9860788863109048
          ],
          [
           0.9778085991678224,
           0.9994452149791956,
           0.9819694868238558,
           0.9991678224687932,
           0.7650485436893204,
           1,
           0.7478502080443828,
           0.5864077669902913,
           0.9841886269070736
          ],
          [
           0.985418265541059,
           0.9992325402916348,
           0.9946277820414428,
           0.9984650805832692,
           0.997697620874904,
           0.997697620874904,
           1,
           0.7237145049884881,
           0.9946277820414428
          ],
          [
           1,
           1,
           1,
           1,
           1,
           1,
           1,
           1,
           1
          ],
          [
           0.9883040935672516,
           1,
           0.9941520467836256,
           1,
           0.9181286549707602,
           0.9958228905597326,
           0.9118629908103592,
           0.6917293233082706,
           1
          ]
         ]
        }
       ],
       "layout": {
        "coloraxis": {
         "cmax": 1,
         "cmin": 0,
         "colorscale": [
          [
           0,
           "rgb(247,251,255)"
          ],
          [
           0.125,
           "rgb(222,235,247)"
          ],
          [
           0.25,
           "rgb(198,219,239)"
          ],
          [
           0.375,
           "rgb(158,202,225)"
          ],
          [
           0.5,
           "rgb(107,174,214)"
          ],
          [
           0.625,
           "rgb(66,146,198)"
          ],
          [
           0.75,
           "rgb(33,113,181)"
          ],
          [
           0.875,
           "rgb(8,81,156)"
          ],
          [
           1,
           "rgb(8,48,107)"
          ]
         ]
        },
        "height": 750,
        "template": {
         "data": {
          "bar": [
           {
            "error_x": {
             "color": "#2a3f5f"
            },
            "error_y": {
             "color": "#2a3f5f"
            },
            "marker": {
             "line": {
              "color": "#E5ECF6",
              "width": 0.5
             },
             "pattern": {
              "fillmode": "overlay",
              "size": 10,
              "solidity": 0.2
             }
            },
            "type": "bar"
           }
          ],
          "barpolar": [
           {
            "marker": {
             "line": {
              "color": "#E5ECF6",
              "width": 0.5
             },
             "pattern": {
              "fillmode": "overlay",
              "size": 10,
              "solidity": 0.2
             }
            },
            "type": "barpolar"
           }
          ],
          "carpet": [
           {
            "aaxis": {
             "endlinecolor": "#2a3f5f",
             "gridcolor": "white",
             "linecolor": "white",
             "minorgridcolor": "white",
             "startlinecolor": "#2a3f5f"
            },
            "baxis": {
             "endlinecolor": "#2a3f5f",
             "gridcolor": "white",
             "linecolor": "white",
             "minorgridcolor": "white",
             "startlinecolor": "#2a3f5f"
            },
            "type": "carpet"
           }
          ],
          "choropleth": [
           {
            "colorbar": {
             "outlinewidth": 0,
             "ticks": ""
            },
            "type": "choropleth"
           }
          ],
          "contour": [
           {
            "colorbar": {
             "outlinewidth": 0,
             "ticks": ""
            },
            "colorscale": [
             [
              0,
              "#0d0887"
             ],
             [
              0.1111111111111111,
              "#46039f"
             ],
             [
              0.2222222222222222,
              "#7201a8"
             ],
             [
              0.3333333333333333,
              "#9c179e"
             ],
             [
              0.4444444444444444,
              "#bd3786"
             ],
             [
              0.5555555555555556,
              "#d8576b"
             ],
             [
              0.6666666666666666,
              "#ed7953"
             ],
             [
              0.7777777777777778,
              "#fb9f3a"
             ],
             [
              0.8888888888888888,
              "#fdca26"
             ],
             [
              1,
              "#f0f921"
             ]
            ],
            "type": "contour"
           }
          ],
          "contourcarpet": [
           {
            "colorbar": {
             "outlinewidth": 0,
             "ticks": ""
            },
            "type": "contourcarpet"
           }
          ],
          "heatmap": [
           {
            "colorbar": {
             "outlinewidth": 0,
             "ticks": ""
            },
            "colorscale": [
             [
              0,
              "#0d0887"
             ],
             [
              0.1111111111111111,
              "#46039f"
             ],
             [
              0.2222222222222222,
              "#7201a8"
             ],
             [
              0.3333333333333333,
              "#9c179e"
             ],
             [
              0.4444444444444444,
              "#bd3786"
             ],
             [
              0.5555555555555556,
              "#d8576b"
             ],
             [
              0.6666666666666666,
              "#ed7953"
             ],
             [
              0.7777777777777778,
              "#fb9f3a"
             ],
             [
              0.8888888888888888,
              "#fdca26"
             ],
             [
              1,
              "#f0f921"
             ]
            ],
            "type": "heatmap"
           }
          ],
          "heatmapgl": [
           {
            "colorbar": {
             "outlinewidth": 0,
             "ticks": ""
            },
            "colorscale": [
             [
              0,
              "#0d0887"
             ],
             [
              0.1111111111111111,
              "#46039f"
             ],
             [
              0.2222222222222222,
              "#7201a8"
             ],
             [
              0.3333333333333333,
              "#9c179e"
             ],
             [
              0.4444444444444444,
              "#bd3786"
             ],
             [
              0.5555555555555556,
              "#d8576b"
             ],
             [
              0.6666666666666666,
              "#ed7953"
             ],
             [
              0.7777777777777778,
              "#fb9f3a"
             ],
             [
              0.8888888888888888,
              "#fdca26"
             ],
             [
              1,
              "#f0f921"
             ]
            ],
            "type": "heatmapgl"
           }
          ],
          "histogram": [
           {
            "marker": {
             "pattern": {
              "fillmode": "overlay",
              "size": 10,
              "solidity": 0.2
             }
            },
            "type": "histogram"
           }
          ],
          "histogram2d": [
           {
            "colorbar": {
             "outlinewidth": 0,
             "ticks": ""
            },
            "colorscale": [
             [
              0,
              "#0d0887"
             ],
             [
              0.1111111111111111,
              "#46039f"
             ],
             [
              0.2222222222222222,
              "#7201a8"
             ],
             [
              0.3333333333333333,
              "#9c179e"
             ],
             [
              0.4444444444444444,
              "#bd3786"
             ],
             [
              0.5555555555555556,
              "#d8576b"
             ],
             [
              0.6666666666666666,
              "#ed7953"
             ],
             [
              0.7777777777777778,
              "#fb9f3a"
             ],
             [
              0.8888888888888888,
              "#fdca26"
             ],
             [
              1,
              "#f0f921"
             ]
            ],
            "type": "histogram2d"
           }
          ],
          "histogram2dcontour": [
           {
            "colorbar": {
             "outlinewidth": 0,
             "ticks": ""
            },
            "colorscale": [
             [
              0,
              "#0d0887"
             ],
             [
              0.1111111111111111,
              "#46039f"
             ],
             [
              0.2222222222222222,
              "#7201a8"
             ],
             [
              0.3333333333333333,
              "#9c179e"
             ],
             [
              0.4444444444444444,
              "#bd3786"
             ],
             [
              0.5555555555555556,
              "#d8576b"
             ],
             [
              0.6666666666666666,
              "#ed7953"
             ],
             [
              0.7777777777777778,
              "#fb9f3a"
             ],
             [
              0.8888888888888888,
              "#fdca26"
             ],
             [
              1,
              "#f0f921"
             ]
            ],
            "type": "histogram2dcontour"
           }
          ],
          "mesh3d": [
           {
            "colorbar": {
             "outlinewidth": 0,
             "ticks": ""
            },
            "type": "mesh3d"
           }
          ],
          "parcoords": [
           {
            "line": {
             "colorbar": {
              "outlinewidth": 0,
              "ticks": ""
             }
            },
            "type": "parcoords"
           }
          ],
          "pie": [
           {
            "automargin": true,
            "type": "pie"
           }
          ],
          "scatter": [
           {
            "fillpattern": {
             "fillmode": "overlay",
             "size": 10,
             "solidity": 0.2
            },
            "type": "scatter"
           }
          ],
          "scatter3d": [
           {
            "line": {
             "colorbar": {
              "outlinewidth": 0,
              "ticks": ""
             }
            },
            "marker": {
             "colorbar": {
              "outlinewidth": 0,
              "ticks": ""
             }
            },
            "type": "scatter3d"
           }
          ],
          "scattercarpet": [
           {
            "marker": {
             "colorbar": {
              "outlinewidth": 0,
              "ticks": ""
             }
            },
            "type": "scattercarpet"
           }
          ],
          "scattergeo": [
           {
            "marker": {
             "colorbar": {
              "outlinewidth": 0,
              "ticks": ""
             }
            },
            "type": "scattergeo"
           }
          ],
          "scattergl": [
           {
            "marker": {
             "colorbar": {
              "outlinewidth": 0,
              "ticks": ""
             }
            },
            "type": "scattergl"
           }
          ],
          "scattermapbox": [
           {
            "marker": {
             "colorbar": {
              "outlinewidth": 0,
              "ticks": ""
             }
            },
            "type": "scattermapbox"
           }
          ],
          "scatterpolar": [
           {
            "marker": {
             "colorbar": {
              "outlinewidth": 0,
              "ticks": ""
             }
            },
            "type": "scatterpolar"
           }
          ],
          "scatterpolargl": [
           {
            "marker": {
             "colorbar": {
              "outlinewidth": 0,
              "ticks": ""
             }
            },
            "type": "scatterpolargl"
           }
          ],
          "scatterternary": [
           {
            "marker": {
             "colorbar": {
              "outlinewidth": 0,
              "ticks": ""
             }
            },
            "type": "scatterternary"
           }
          ],
          "surface": [
           {
            "colorbar": {
             "outlinewidth": 0,
             "ticks": ""
            },
            "colorscale": [
             [
              0,
              "#0d0887"
             ],
             [
              0.1111111111111111,
              "#46039f"
             ],
             [
              0.2222222222222222,
              "#7201a8"
             ],
             [
              0.3333333333333333,
              "#9c179e"
             ],
             [
              0.4444444444444444,
              "#bd3786"
             ],
             [
              0.5555555555555556,
              "#d8576b"
             ],
             [
              0.6666666666666666,
              "#ed7953"
             ],
             [
              0.7777777777777778,
              "#fb9f3a"
             ],
             [
              0.8888888888888888,
              "#fdca26"
             ],
             [
              1,
              "#f0f921"
             ]
            ],
            "type": "surface"
           }
          ],
          "table": [
           {
            "cells": {
             "fill": {
              "color": "#EBF0F8"
             },
             "line": {
              "color": "white"
             }
            },
            "header": {
             "fill": {
              "color": "#C8D4E3"
             },
             "line": {
              "color": "white"
             }
            },
            "type": "table"
           }
          ]
         },
         "layout": {
          "annotationdefaults": {
           "arrowcolor": "#2a3f5f",
           "arrowhead": 0,
           "arrowwidth": 1
          },
          "autotypenumbers": "strict",
          "coloraxis": {
           "colorbar": {
            "outlinewidth": 0,
            "ticks": ""
           }
          },
          "colorscale": {
           "diverging": [
            [
             0,
             "#8e0152"
            ],
            [
             0.1,
             "#c51b7d"
            ],
            [
             0.2,
             "#de77ae"
            ],
            [
             0.3,
             "#f1b6da"
            ],
            [
             0.4,
             "#fde0ef"
            ],
            [
             0.5,
             "#f7f7f7"
            ],
            [
             0.6,
             "#e6f5d0"
            ],
            [
             0.7,
             "#b8e186"
            ],
            [
             0.8,
             "#7fbc41"
            ],
            [
             0.9,
             "#4d9221"
            ],
            [
             1,
             "#276419"
            ]
           ],
           "sequential": [
            [
             0,
             "#0d0887"
            ],
            [
             0.1111111111111111,
             "#46039f"
            ],
            [
             0.2222222222222222,
             "#7201a8"
            ],
            [
             0.3333333333333333,
             "#9c179e"
            ],
            [
             0.4444444444444444,
             "#bd3786"
            ],
            [
             0.5555555555555556,
             "#d8576b"
            ],
            [
             0.6666666666666666,
             "#ed7953"
            ],
            [
             0.7777777777777778,
             "#fb9f3a"
            ],
            [
             0.8888888888888888,
             "#fdca26"
            ],
            [
             1,
             "#f0f921"
            ]
           ],
           "sequentialminus": [
            [
             0,
             "#0d0887"
            ],
            [
             0.1111111111111111,
             "#46039f"
            ],
            [
             0.2222222222222222,
             "#7201a8"
            ],
            [
             0.3333333333333333,
             "#9c179e"
            ],
            [
             0.4444444444444444,
             "#bd3786"
            ],
            [
             0.5555555555555556,
             "#d8576b"
            ],
            [
             0.6666666666666666,
             "#ed7953"
            ],
            [
             0.7777777777777778,
             "#fb9f3a"
            ],
            [
             0.8888888888888888,
             "#fdca26"
            ],
            [
             1,
             "#f0f921"
            ]
           ]
          },
          "colorway": [
           "#636efa",
           "#EF553B",
           "#00cc96",
           "#ab63fa",
           "#FFA15A",
           "#19d3f3",
           "#FF6692",
           "#B6E880",
           "#FF97FF",
           "#FECB52"
          ],
          "font": {
           "color": "#2a3f5f"
          },
          "geo": {
           "bgcolor": "white",
           "lakecolor": "white",
           "landcolor": "#E5ECF6",
           "showlakes": true,
           "showland": true,
           "subunitcolor": "white"
          },
          "hoverlabel": {
           "align": "left"
          },
          "hovermode": "closest",
          "mapbox": {
           "style": "light"
          },
          "paper_bgcolor": "white",
          "plot_bgcolor": "#E5ECF6",
          "polar": {
           "angularaxis": {
            "gridcolor": "white",
            "linecolor": "white",
            "ticks": ""
           },
           "bgcolor": "#E5ECF6",
           "radialaxis": {
            "gridcolor": "white",
            "linecolor": "white",
            "ticks": ""
           }
          },
          "scene": {
           "xaxis": {
            "backgroundcolor": "#E5ECF6",
            "gridcolor": "white",
            "gridwidth": 2,
            "linecolor": "white",
            "showbackground": true,
            "ticks": "",
            "zerolinecolor": "white"
           },
           "yaxis": {
            "backgroundcolor": "#E5ECF6",
            "gridcolor": "white",
            "gridwidth": 2,
            "linecolor": "white",
            "showbackground": true,
            "ticks": "",
            "zerolinecolor": "white"
           },
           "zaxis": {
            "backgroundcolor": "#E5ECF6",
            "gridcolor": "white",
            "gridwidth": 2,
            "linecolor": "white",
            "showbackground": true,
            "ticks": "",
            "zerolinecolor": "white"
           }
          },
          "shapedefaults": {
           "line": {
            "color": "#2a3f5f"
           }
          },
          "ternary": {
           "aaxis": {
            "gridcolor": "white",
            "linecolor": "white",
            "ticks": ""
           },
           "baxis": {
            "gridcolor": "white",
            "linecolor": "white",
            "ticks": ""
           },
           "bgcolor": "#E5ECF6",
           "caxis": {
            "gridcolor": "white",
            "linecolor": "white",
            "ticks": ""
           }
          },
          "title": {
           "x": 0.05
          },
          "xaxis": {
           "automargin": true,
           "gridcolor": "white",
           "linecolor": "white",
           "ticks": "",
           "title": {
            "standoff": 15
           },
           "zerolinecolor": "white",
           "zerolinewidth": 2
          },
          "yaxis": {
           "automargin": true,
           "gridcolor": "white",
           "linecolor": "white",
           "ticks": "",
           "title": {
            "standoff": 15
           },
           "zerolinecolor": "white",
           "zerolinewidth": 2
          }
         }
        },
        "title": {
         "text": "MV-SVM"
        },
        "width": 750,
        "xaxis": {
         "anchor": "y",
         "constrain": "domain",
         "domain": [
          0,
          1
         ],
         "dtick": 1,
         "scaleanchor": "y",
         "tickangle": -90
        },
        "yaxis": {
         "anchor": "x",
         "autorange": "reversed",
         "constrain": "domain",
         "domain": [
          0,
          1
         ],
         "dtick": 1,
         "scaleanchor": "x",
         "scaleratio": 1
        }
       }
      }
     },
     "metadata": {},
     "output_type": "display_data"
    }
   ],
   "source": [
    "benchmarking.plot_pancreas_perf(\"MV-SVM\")"
   ]
  },
  {
   "cell_type": "markdown",
   "metadata": {},
   "source": [
    "# Fig. 2b"
   ]
  },
  {
   "cell_type": "code",
   "execution_count": 3,
   "metadata": {},
   "outputs": [
    {
     "data": {
      "application/vnd.plotly.v1+json": {
       "config": {
        "plotlyServerURL": "https://plot.ly"
       },
       "data": [
        {
         "coloraxis": "coloraxis",
         "hovertemplate": "x: %{x}<br>y: %{y}<br>color: %{z}<extra></extra>",
         "name": "0",
         "texttemplate": "%{z}",
         "type": "heatmap",
         "x": [
          "ALM->MTG",
          "ALM->VISp",
          "MTG->ALM",
          "MTG->VISp",
          "VISp->ALM",
          "VISp->MTG",
          "mag_old->mag_young",
          "mag_young->mag_old"
         ],
         "xaxis": "x",
         "y": [
          "RefCM",
          "MV-Seurat",
          "MV-SVM",
          "MV-Celltypist",
          "LD-RefCM",
          "Seurat",
          "SVM",
          "Celltypist"
         ],
         "yaxis": "y",
         "z": [
          [
           1,
           1,
           1,
           1,
           1,
           1,
           1,
           1
          ],
          [
           0.47,
           0.95,
           0.55,
           0.64,
           0.84,
           0.47,
           0.99,
           0.96
          ],
          [
           0.5,
           0.95,
           0.65,
           0.6,
           0.83,
           0.54,
           0.96,
           0.99
          ],
          [
           0,
           0.92,
           0.5,
           0.12,
           0.83,
           0,
           0.96,
           0.99
          ],
          [
           0.76,
           0.91,
           0.85,
           0.64,
           0.89,
           0.86,
           0.97,
           0.96
          ],
          [
           0.44,
           0.83,
           0.41,
           0.56,
           0.81,
           0.49,
           0.95,
           0.94
          ],
          [
           0.46,
           0.84,
           0.51,
           0.5,
           0.84,
           0.51,
           0.94,
           0.94
          ],
          [
           0.07,
           0.84,
           0.29,
           0.12,
           0.8,
           0.05,
           0.94,
           0.93
          ]
         ]
        }
       ],
       "layout": {
        "coloraxis": {
         "cmax": 1,
         "cmin": 0,
         "colorscale": [
          [
           0,
           "rgb(247,251,255)"
          ],
          [
           0.125,
           "rgb(222,235,247)"
          ],
          [
           0.25,
           "rgb(198,219,239)"
          ],
          [
           0.375,
           "rgb(158,202,225)"
          ],
          [
           0.5,
           "rgb(107,174,214)"
          ],
          [
           0.625,
           "rgb(66,146,198)"
          ],
          [
           0.75,
           "rgb(33,113,181)"
          ],
          [
           0.875,
           "rgb(8,81,156)"
          ],
          [
           1,
           "rgb(8,48,107)"
          ]
         ]
        },
        "height": 1000,
        "margin": {
         "t": 60
        },
        "template": {
         "data": {
          "bar": [
           {
            "error_x": {
             "color": "#2a3f5f"
            },
            "error_y": {
             "color": "#2a3f5f"
            },
            "marker": {
             "line": {
              "color": "#E5ECF6",
              "width": 0.5
             },
             "pattern": {
              "fillmode": "overlay",
              "size": 10,
              "solidity": 0.2
             }
            },
            "type": "bar"
           }
          ],
          "barpolar": [
           {
            "marker": {
             "line": {
              "color": "#E5ECF6",
              "width": 0.5
             },
             "pattern": {
              "fillmode": "overlay",
              "size": 10,
              "solidity": 0.2
             }
            },
            "type": "barpolar"
           }
          ],
          "carpet": [
           {
            "aaxis": {
             "endlinecolor": "#2a3f5f",
             "gridcolor": "white",
             "linecolor": "white",
             "minorgridcolor": "white",
             "startlinecolor": "#2a3f5f"
            },
            "baxis": {
             "endlinecolor": "#2a3f5f",
             "gridcolor": "white",
             "linecolor": "white",
             "minorgridcolor": "white",
             "startlinecolor": "#2a3f5f"
            },
            "type": "carpet"
           }
          ],
          "choropleth": [
           {
            "colorbar": {
             "outlinewidth": 0,
             "ticks": ""
            },
            "type": "choropleth"
           }
          ],
          "contour": [
           {
            "colorbar": {
             "outlinewidth": 0,
             "ticks": ""
            },
            "colorscale": [
             [
              0,
              "#0d0887"
             ],
             [
              0.1111111111111111,
              "#46039f"
             ],
             [
              0.2222222222222222,
              "#7201a8"
             ],
             [
              0.3333333333333333,
              "#9c179e"
             ],
             [
              0.4444444444444444,
              "#bd3786"
             ],
             [
              0.5555555555555556,
              "#d8576b"
             ],
             [
              0.6666666666666666,
              "#ed7953"
             ],
             [
              0.7777777777777778,
              "#fb9f3a"
             ],
             [
              0.8888888888888888,
              "#fdca26"
             ],
             [
              1,
              "#f0f921"
             ]
            ],
            "type": "contour"
           }
          ],
          "contourcarpet": [
           {
            "colorbar": {
             "outlinewidth": 0,
             "ticks": ""
            },
            "type": "contourcarpet"
           }
          ],
          "heatmap": [
           {
            "colorbar": {
             "outlinewidth": 0,
             "ticks": ""
            },
            "colorscale": [
             [
              0,
              "#0d0887"
             ],
             [
              0.1111111111111111,
              "#46039f"
             ],
             [
              0.2222222222222222,
              "#7201a8"
             ],
             [
              0.3333333333333333,
              "#9c179e"
             ],
             [
              0.4444444444444444,
              "#bd3786"
             ],
             [
              0.5555555555555556,
              "#d8576b"
             ],
             [
              0.6666666666666666,
              "#ed7953"
             ],
             [
              0.7777777777777778,
              "#fb9f3a"
             ],
             [
              0.8888888888888888,
              "#fdca26"
             ],
             [
              1,
              "#f0f921"
             ]
            ],
            "type": "heatmap"
           }
          ],
          "heatmapgl": [
           {
            "colorbar": {
             "outlinewidth": 0,
             "ticks": ""
            },
            "colorscale": [
             [
              0,
              "#0d0887"
             ],
             [
              0.1111111111111111,
              "#46039f"
             ],
             [
              0.2222222222222222,
              "#7201a8"
             ],
             [
              0.3333333333333333,
              "#9c179e"
             ],
             [
              0.4444444444444444,
              "#bd3786"
             ],
             [
              0.5555555555555556,
              "#d8576b"
             ],
             [
              0.6666666666666666,
              "#ed7953"
             ],
             [
              0.7777777777777778,
              "#fb9f3a"
             ],
             [
              0.8888888888888888,
              "#fdca26"
             ],
             [
              1,
              "#f0f921"
             ]
            ],
            "type": "heatmapgl"
           }
          ],
          "histogram": [
           {
            "marker": {
             "pattern": {
              "fillmode": "overlay",
              "size": 10,
              "solidity": 0.2
             }
            },
            "type": "histogram"
           }
          ],
          "histogram2d": [
           {
            "colorbar": {
             "outlinewidth": 0,
             "ticks": ""
            },
            "colorscale": [
             [
              0,
              "#0d0887"
             ],
             [
              0.1111111111111111,
              "#46039f"
             ],
             [
              0.2222222222222222,
              "#7201a8"
             ],
             [
              0.3333333333333333,
              "#9c179e"
             ],
             [
              0.4444444444444444,
              "#bd3786"
             ],
             [
              0.5555555555555556,
              "#d8576b"
             ],
             [
              0.6666666666666666,
              "#ed7953"
             ],
             [
              0.7777777777777778,
              "#fb9f3a"
             ],
             [
              0.8888888888888888,
              "#fdca26"
             ],
             [
              1,
              "#f0f921"
             ]
            ],
            "type": "histogram2d"
           }
          ],
          "histogram2dcontour": [
           {
            "colorbar": {
             "outlinewidth": 0,
             "ticks": ""
            },
            "colorscale": [
             [
              0,
              "#0d0887"
             ],
             [
              0.1111111111111111,
              "#46039f"
             ],
             [
              0.2222222222222222,
              "#7201a8"
             ],
             [
              0.3333333333333333,
              "#9c179e"
             ],
             [
              0.4444444444444444,
              "#bd3786"
             ],
             [
              0.5555555555555556,
              "#d8576b"
             ],
             [
              0.6666666666666666,
              "#ed7953"
             ],
             [
              0.7777777777777778,
              "#fb9f3a"
             ],
             [
              0.8888888888888888,
              "#fdca26"
             ],
             [
              1,
              "#f0f921"
             ]
            ],
            "type": "histogram2dcontour"
           }
          ],
          "mesh3d": [
           {
            "colorbar": {
             "outlinewidth": 0,
             "ticks": ""
            },
            "type": "mesh3d"
           }
          ],
          "parcoords": [
           {
            "line": {
             "colorbar": {
              "outlinewidth": 0,
              "ticks": ""
             }
            },
            "type": "parcoords"
           }
          ],
          "pie": [
           {
            "automargin": true,
            "type": "pie"
           }
          ],
          "scatter": [
           {
            "fillpattern": {
             "fillmode": "overlay",
             "size": 10,
             "solidity": 0.2
            },
            "type": "scatter"
           }
          ],
          "scatter3d": [
           {
            "line": {
             "colorbar": {
              "outlinewidth": 0,
              "ticks": ""
             }
            },
            "marker": {
             "colorbar": {
              "outlinewidth": 0,
              "ticks": ""
             }
            },
            "type": "scatter3d"
           }
          ],
          "scattercarpet": [
           {
            "marker": {
             "colorbar": {
              "outlinewidth": 0,
              "ticks": ""
             }
            },
            "type": "scattercarpet"
           }
          ],
          "scattergeo": [
           {
            "marker": {
             "colorbar": {
              "outlinewidth": 0,
              "ticks": ""
             }
            },
            "type": "scattergeo"
           }
          ],
          "scattergl": [
           {
            "marker": {
             "colorbar": {
              "outlinewidth": 0,
              "ticks": ""
             }
            },
            "type": "scattergl"
           }
          ],
          "scattermapbox": [
           {
            "marker": {
             "colorbar": {
              "outlinewidth": 0,
              "ticks": ""
             }
            },
            "type": "scattermapbox"
           }
          ],
          "scatterpolar": [
           {
            "marker": {
             "colorbar": {
              "outlinewidth": 0,
              "ticks": ""
             }
            },
            "type": "scatterpolar"
           }
          ],
          "scatterpolargl": [
           {
            "marker": {
             "colorbar": {
              "outlinewidth": 0,
              "ticks": ""
             }
            },
            "type": "scatterpolargl"
           }
          ],
          "scatterternary": [
           {
            "marker": {
             "colorbar": {
              "outlinewidth": 0,
              "ticks": ""
             }
            },
            "type": "scatterternary"
           }
          ],
          "surface": [
           {
            "colorbar": {
             "outlinewidth": 0,
             "ticks": ""
            },
            "colorscale": [
             [
              0,
              "#0d0887"
             ],
             [
              0.1111111111111111,
              "#46039f"
             ],
             [
              0.2222222222222222,
              "#7201a8"
             ],
             [
              0.3333333333333333,
              "#9c179e"
             ],
             [
              0.4444444444444444,
              "#bd3786"
             ],
             [
              0.5555555555555556,
              "#d8576b"
             ],
             [
              0.6666666666666666,
              "#ed7953"
             ],
             [
              0.7777777777777778,
              "#fb9f3a"
             ],
             [
              0.8888888888888888,
              "#fdca26"
             ],
             [
              1,
              "#f0f921"
             ]
            ],
            "type": "surface"
           }
          ],
          "table": [
           {
            "cells": {
             "fill": {
              "color": "#EBF0F8"
             },
             "line": {
              "color": "white"
             }
            },
            "header": {
             "fill": {
              "color": "#C8D4E3"
             },
             "line": {
              "color": "white"
             }
            },
            "type": "table"
           }
          ]
         },
         "layout": {
          "annotationdefaults": {
           "arrowcolor": "#2a3f5f",
           "arrowhead": 0,
           "arrowwidth": 1
          },
          "autotypenumbers": "strict",
          "coloraxis": {
           "colorbar": {
            "outlinewidth": 0,
            "ticks": ""
           }
          },
          "colorscale": {
           "diverging": [
            [
             0,
             "#8e0152"
            ],
            [
             0.1,
             "#c51b7d"
            ],
            [
             0.2,
             "#de77ae"
            ],
            [
             0.3,
             "#f1b6da"
            ],
            [
             0.4,
             "#fde0ef"
            ],
            [
             0.5,
             "#f7f7f7"
            ],
            [
             0.6,
             "#e6f5d0"
            ],
            [
             0.7,
             "#b8e186"
            ],
            [
             0.8,
             "#7fbc41"
            ],
            [
             0.9,
             "#4d9221"
            ],
            [
             1,
             "#276419"
            ]
           ],
           "sequential": [
            [
             0,
             "#0d0887"
            ],
            [
             0.1111111111111111,
             "#46039f"
            ],
            [
             0.2222222222222222,
             "#7201a8"
            ],
            [
             0.3333333333333333,
             "#9c179e"
            ],
            [
             0.4444444444444444,
             "#bd3786"
            ],
            [
             0.5555555555555556,
             "#d8576b"
            ],
            [
             0.6666666666666666,
             "#ed7953"
            ],
            [
             0.7777777777777778,
             "#fb9f3a"
            ],
            [
             0.8888888888888888,
             "#fdca26"
            ],
            [
             1,
             "#f0f921"
            ]
           ],
           "sequentialminus": [
            [
             0,
             "#0d0887"
            ],
            [
             0.1111111111111111,
             "#46039f"
            ],
            [
             0.2222222222222222,
             "#7201a8"
            ],
            [
             0.3333333333333333,
             "#9c179e"
            ],
            [
             0.4444444444444444,
             "#bd3786"
            ],
            [
             0.5555555555555556,
             "#d8576b"
            ],
            [
             0.6666666666666666,
             "#ed7953"
            ],
            [
             0.7777777777777778,
             "#fb9f3a"
            ],
            [
             0.8888888888888888,
             "#fdca26"
            ],
            [
             1,
             "#f0f921"
            ]
           ]
          },
          "colorway": [
           "#636efa",
           "#EF553B",
           "#00cc96",
           "#ab63fa",
           "#FFA15A",
           "#19d3f3",
           "#FF6692",
           "#B6E880",
           "#FF97FF",
           "#FECB52"
          ],
          "font": {
           "color": "#2a3f5f"
          },
          "geo": {
           "bgcolor": "white",
           "lakecolor": "white",
           "landcolor": "#E5ECF6",
           "showlakes": true,
           "showland": true,
           "subunitcolor": "white"
          },
          "hoverlabel": {
           "align": "left"
          },
          "hovermode": "closest",
          "mapbox": {
           "style": "light"
          },
          "paper_bgcolor": "white",
          "plot_bgcolor": "#E5ECF6",
          "polar": {
           "angularaxis": {
            "gridcolor": "white",
            "linecolor": "white",
            "ticks": ""
           },
           "bgcolor": "#E5ECF6",
           "radialaxis": {
            "gridcolor": "white",
            "linecolor": "white",
            "ticks": ""
           }
          },
          "scene": {
           "xaxis": {
            "backgroundcolor": "#E5ECF6",
            "gridcolor": "white",
            "gridwidth": 2,
            "linecolor": "white",
            "showbackground": true,
            "ticks": "",
            "zerolinecolor": "white"
           },
           "yaxis": {
            "backgroundcolor": "#E5ECF6",
            "gridcolor": "white",
            "gridwidth": 2,
            "linecolor": "white",
            "showbackground": true,
            "ticks": "",
            "zerolinecolor": "white"
           },
           "zaxis": {
            "backgroundcolor": "#E5ECF6",
            "gridcolor": "white",
            "gridwidth": 2,
            "linecolor": "white",
            "showbackground": true,
            "ticks": "",
            "zerolinecolor": "white"
           }
          },
          "shapedefaults": {
           "line": {
            "color": "#2a3f5f"
           }
          },
          "ternary": {
           "aaxis": {
            "gridcolor": "white",
            "linecolor": "white",
            "ticks": ""
           },
           "baxis": {
            "gridcolor": "white",
            "linecolor": "white",
            "ticks": ""
           },
           "bgcolor": "#E5ECF6",
           "caxis": {
            "gridcolor": "white",
            "linecolor": "white",
            "ticks": ""
           }
          },
          "title": {
           "x": 0.05
          },
          "xaxis": {
           "automargin": true,
           "gridcolor": "white",
           "linecolor": "white",
           "ticks": "",
           "title": {
            "standoff": 15
           },
           "zerolinecolor": "white",
           "zerolinewidth": 2
          },
          "yaxis": {
           "automargin": true,
           "gridcolor": "white",
           "linecolor": "white",
           "ticks": "",
           "title": {
            "standoff": 15
           },
           "zerolinecolor": "white",
           "zerolinewidth": 2
          }
         }
        },
        "width": 1000,
        "xaxis": {
         "anchor": "y",
         "constrain": "domain",
         "domain": [
          0,
          1
         ],
         "dtick": 1,
         "scaleanchor": "y",
         "side": "top",
         "tickangle": -60
        },
        "yaxis": {
         "anchor": "x",
         "autorange": "reversed",
         "constrain": "domain",
         "domain": [
          0,
          1
         ],
         "dtick": 1,
         "scaleanchor": "x",
         "scaleratio": 1
        }
       }
      }
     },
     "metadata": {},
     "output_type": "display_data"
    }
   ],
   "source": [
    "models = [\n",
    "    \"RefCM\",\n",
    "    \"MV-Seurat\",\n",
    "    \"MV-SVM\",\n",
    "    \"MV-Celltypist\",\n",
    "    \"LD-RefCM\",\n",
    "    \"Seurat\",\n",
    "    \"SVM\",\n",
    "    \"Celltypist\",\n",
    "]\n",
    "benchmarking.plot_brain_monkey_perf(models, write=True, width=1000, height=1000)"
   ]
  },
  {
   "cell_type": "markdown",
   "metadata": {},
   "source": [
    "## Fig. 2c"
   ]
  },
  {
   "cell_type": "code",
   "execution_count": 2,
   "metadata": {},
   "outputs": [],
   "source": [
    "benchmarks = benchmarking.load_benchmarks()"
   ]
  },
  {
   "cell_type": "code",
   "execution_count": 5,
   "metadata": {},
   "outputs": [
    {
     "data": {
      "application/vnd.plotly.v1+json": {
       "config": {
        "plotlyServerURL": "https://plot.ly"
       },
       "data": [
        {
         "alignmentgroup": "True",
         "hovertemplate": "method=RefCM<br>task=%{x}<br>accuracy=%{y}<extra></extra>",
         "legendgroup": "RefCM",
         "marker": {
          "color": "rgba(44, 130, 201, 1)",
          "pattern": {
           "shape": ""
          }
         },
         "name": "RefCM",
         "offsetgroup": "RefCM",
         "orientation": "v",
         "showlegend": true,
         "textfont": {
          "size": 16
         },
         "textposition": "outside",
         "type": "bar",
         "x": [
          "VISp | ALM",
          "ALM | VISp",
          "mag_young | mag_old",
          "mag_old | mag_young"
         ],
         "xaxis": "x",
         "y": [
          1,
          1,
          1,
          1
         ],
         "yaxis": "y"
        },
        {
         "alignmentgroup": "True",
         "hovertemplate": "method=LD-RefCM<br>task=%{x}<br>accuracy=%{y}<extra></extra>",
         "legendgroup": "LD-RefCM",
         "marker": {
          "color": "rgba(44, 130, 201, 0.6)",
          "pattern": {
           "shape": ""
          }
         },
         "name": "LD-RefCM",
         "offsetgroup": "LD-RefCM",
         "orientation": "v",
         "showlegend": true,
         "textfont": {
          "size": 16
         },
         "textposition": "outside",
         "type": "bar",
         "x": [
          "VISp | ALM",
          "ALM | VISp",
          "mag_young | mag_old",
          "mag_old | mag_young"
         ],
         "xaxis": "x",
         "y": [
          0.89,
          0.91,
          0.96,
          0.97
         ],
         "yaxis": "y"
        },
        {
         "alignmentgroup": "True",
         "hovertemplate": "method=MV-Seurat<br>task=%{x}<br>accuracy=%{y}<extra></extra>",
         "legendgroup": "MV-Seurat",
         "marker": {
          "color": "rgba(217, 30, 24, 1)",
          "pattern": {
           "shape": ""
          }
         },
         "name": "MV-Seurat",
         "offsetgroup": "MV-Seurat",
         "orientation": "v",
         "showlegend": true,
         "textfont": {
          "size": 16
         },
         "textposition": "outside",
         "type": "bar",
         "x": [
          "VISp | ALM",
          "ALM | VISp",
          "mag_young | mag_old",
          "mag_old | mag_young"
         ],
         "xaxis": "x",
         "y": [
          0.84,
          0.95,
          0.96,
          0.99
         ],
         "yaxis": "y"
        },
        {
         "alignmentgroup": "True",
         "hovertemplate": "method=Seurat<br>task=%{x}<br>accuracy=%{y}<extra></extra>",
         "legendgroup": "Seurat",
         "marker": {
          "color": "rgba(217, 30, 24, 0.6)",
          "pattern": {
           "shape": ""
          }
         },
         "name": "Seurat",
         "offsetgroup": "Seurat",
         "orientation": "v",
         "showlegend": true,
         "textfont": {
          "size": 16
         },
         "textposition": "outside",
         "type": "bar",
         "x": [
          "VISp | ALM",
          "ALM | VISp",
          "mag_young | mag_old",
          "mag_old | mag_young"
         ],
         "xaxis": "x",
         "y": [
          0.81,
          0.83,
          0.94,
          0.95
         ],
         "yaxis": "y"
        },
        {
         "alignmentgroup": "True",
         "hovertemplate": "method=MV-SVM<br>task=%{x}<br>accuracy=%{y}<extra></extra>",
         "legendgroup": "MV-SVM",
         "marker": {
          "color": "rgba(22, 160, 133, 1)",
          "pattern": {
           "shape": ""
          }
         },
         "name": "MV-SVM",
         "offsetgroup": "MV-SVM",
         "orientation": "v",
         "showlegend": true,
         "textfont": {
          "size": 16
         },
         "textposition": "outside",
         "type": "bar",
         "x": [
          "VISp | ALM",
          "ALM | VISp",
          "mag_young | mag_old",
          "mag_old | mag_young"
         ],
         "xaxis": "x",
         "y": [
          0.83,
          0.95,
          0.99,
          0.96
         ],
         "yaxis": "y"
        },
        {
         "alignmentgroup": "True",
         "hovertemplate": "method=SVM<br>task=%{x}<br>accuracy=%{y}<extra></extra>",
         "legendgroup": "SVM",
         "marker": {
          "color": "rgba(22, 160, 133, 0.6)",
          "pattern": {
           "shape": ""
          }
         },
         "name": "SVM",
         "offsetgroup": "SVM",
         "orientation": "v",
         "showlegend": true,
         "textfont": {
          "size": 16
         },
         "textposition": "outside",
         "type": "bar",
         "x": [
          "VISp | ALM",
          "ALM | VISp",
          "mag_young | mag_old",
          "mag_old | mag_young"
         ],
         "xaxis": "x",
         "y": [
          0.84,
          0.84,
          0.94,
          0.94
         ],
         "yaxis": "y"
        },
        {
         "alignmentgroup": "True",
         "hovertemplate": "method=MV-SCANVI<br>task=%{x}<br>accuracy=%{y}<extra></extra>",
         "legendgroup": "MV-SCANVI",
         "marker": {
          "color": "rgba(241, 90, 34, 1)",
          "pattern": {
           "shape": ""
          }
         },
         "name": "MV-SCANVI",
         "offsetgroup": "MV-SCANVI",
         "orientation": "v",
         "showlegend": true,
         "textfont": {
          "size": 16
         },
         "textposition": "outside",
         "type": "bar",
         "x": [
          "VISp | ALM",
          "ALM | VISp",
          "mag_young | mag_old",
          "mag_old | mag_young"
         ],
         "xaxis": "x",
         "y": [
          0.84,
          0.98,
          1,
          0.99
         ],
         "yaxis": "y"
        },
        {
         "alignmentgroup": "True",
         "hovertemplate": "method=SCANVI<br>task=%{x}<br>accuracy=%{y}<extra></extra>",
         "legendgroup": "SCANVI",
         "marker": {
          "color": "rgba(241, 90, 34, 0.6)",
          "pattern": {
           "shape": ""
          }
         },
         "name": "SCANVI",
         "offsetgroup": "SCANVI",
         "orientation": "v",
         "showlegend": true,
         "textfont": {
          "size": 16
         },
         "textposition": "outside",
         "type": "bar",
         "x": [
          "VISp | ALM",
          "ALM | VISp",
          "mag_young | mag_old",
          "mag_old | mag_young"
         ],
         "xaxis": "x",
         "y": [
          0.81,
          0.82,
          0.85,
          0.83
         ],
         "yaxis": "y"
        },
        {
         "alignmentgroup": "True",
         "hovertemplate": "method=MV-Celltypist<br>task=%{x}<br>accuracy=%{y}<extra></extra>",
         "legendgroup": "MV-Celltypist",
         "marker": {
          "color": "rgba(150, 54, 148, 1)",
          "pattern": {
           "shape": ""
          }
         },
         "name": "MV-Celltypist",
         "offsetgroup": "MV-Celltypist",
         "orientation": "v",
         "showlegend": true,
         "textfont": {
          "size": 16
         },
         "textposition": "outside",
         "type": "bar",
         "x": [
          "VISp | ALM",
          "ALM | VISp",
          "mag_young | mag_old",
          "mag_old | mag_young"
         ],
         "xaxis": "x",
         "y": [
          0.83,
          0.92,
          0.99,
          0.96
         ],
         "yaxis": "y"
        },
        {
         "alignmentgroup": "True",
         "hovertemplate": "method=Celltypist<br>task=%{x}<br>accuracy=%{y}<extra></extra>",
         "legendgroup": "Celltypist",
         "marker": {
          "color": "rgba(150, 54, 148, 0.6)",
          "pattern": {
           "shape": ""
          }
         },
         "name": "Celltypist",
         "offsetgroup": "Celltypist",
         "orientation": "v",
         "showlegend": true,
         "textfont": {
          "size": 16
         },
         "textposition": "outside",
         "type": "bar",
         "x": [
          "VISp | ALM",
          "ALM | VISp",
          "mag_young | mag_old",
          "mag_old | mag_young"
         ],
         "xaxis": "x",
         "y": [
          0.8,
          0.84,
          0.93,
          0.94
         ],
         "yaxis": "y"
        }
       ],
       "layout": {
        "bargap": 0.3,
        "barmode": "group",
        "height": 400,
        "legend": {
         "title": {
          "text": "method"
         },
         "tracegroupgap": 0
        },
        "margin": {
         "t": 60
        },
        "plot_bgcolor": "white",
        "template": {
         "data": {
          "bar": [
           {
            "error_x": {
             "color": "#2a3f5f"
            },
            "error_y": {
             "color": "#2a3f5f"
            },
            "marker": {
             "line": {
              "color": "#E5ECF6",
              "width": 0.5
             },
             "pattern": {
              "fillmode": "overlay",
              "size": 10,
              "solidity": 0.2
             }
            },
            "type": "bar"
           }
          ],
          "barpolar": [
           {
            "marker": {
             "line": {
              "color": "#E5ECF6",
              "width": 0.5
             },
             "pattern": {
              "fillmode": "overlay",
              "size": 10,
              "solidity": 0.2
             }
            },
            "type": "barpolar"
           }
          ],
          "carpet": [
           {
            "aaxis": {
             "endlinecolor": "#2a3f5f",
             "gridcolor": "white",
             "linecolor": "white",
             "minorgridcolor": "white",
             "startlinecolor": "#2a3f5f"
            },
            "baxis": {
             "endlinecolor": "#2a3f5f",
             "gridcolor": "white",
             "linecolor": "white",
             "minorgridcolor": "white",
             "startlinecolor": "#2a3f5f"
            },
            "type": "carpet"
           }
          ],
          "choropleth": [
           {
            "colorbar": {
             "outlinewidth": 0,
             "ticks": ""
            },
            "type": "choropleth"
           }
          ],
          "contour": [
           {
            "colorbar": {
             "outlinewidth": 0,
             "ticks": ""
            },
            "colorscale": [
             [
              0,
              "#0d0887"
             ],
             [
              0.1111111111111111,
              "#46039f"
             ],
             [
              0.2222222222222222,
              "#7201a8"
             ],
             [
              0.3333333333333333,
              "#9c179e"
             ],
             [
              0.4444444444444444,
              "#bd3786"
             ],
             [
              0.5555555555555556,
              "#d8576b"
             ],
             [
              0.6666666666666666,
              "#ed7953"
             ],
             [
              0.7777777777777778,
              "#fb9f3a"
             ],
             [
              0.8888888888888888,
              "#fdca26"
             ],
             [
              1,
              "#f0f921"
             ]
            ],
            "type": "contour"
           }
          ],
          "contourcarpet": [
           {
            "colorbar": {
             "outlinewidth": 0,
             "ticks": ""
            },
            "type": "contourcarpet"
           }
          ],
          "heatmap": [
           {
            "colorbar": {
             "outlinewidth": 0,
             "ticks": ""
            },
            "colorscale": [
             [
              0,
              "#0d0887"
             ],
             [
              0.1111111111111111,
              "#46039f"
             ],
             [
              0.2222222222222222,
              "#7201a8"
             ],
             [
              0.3333333333333333,
              "#9c179e"
             ],
             [
              0.4444444444444444,
              "#bd3786"
             ],
             [
              0.5555555555555556,
              "#d8576b"
             ],
             [
              0.6666666666666666,
              "#ed7953"
             ],
             [
              0.7777777777777778,
              "#fb9f3a"
             ],
             [
              0.8888888888888888,
              "#fdca26"
             ],
             [
              1,
              "#f0f921"
             ]
            ],
            "type": "heatmap"
           }
          ],
          "heatmapgl": [
           {
            "colorbar": {
             "outlinewidth": 0,
             "ticks": ""
            },
            "colorscale": [
             [
              0,
              "#0d0887"
             ],
             [
              0.1111111111111111,
              "#46039f"
             ],
             [
              0.2222222222222222,
              "#7201a8"
             ],
             [
              0.3333333333333333,
              "#9c179e"
             ],
             [
              0.4444444444444444,
              "#bd3786"
             ],
             [
              0.5555555555555556,
              "#d8576b"
             ],
             [
              0.6666666666666666,
              "#ed7953"
             ],
             [
              0.7777777777777778,
              "#fb9f3a"
             ],
             [
              0.8888888888888888,
              "#fdca26"
             ],
             [
              1,
              "#f0f921"
             ]
            ],
            "type": "heatmapgl"
           }
          ],
          "histogram": [
           {
            "marker": {
             "pattern": {
              "fillmode": "overlay",
              "size": 10,
              "solidity": 0.2
             }
            },
            "type": "histogram"
           }
          ],
          "histogram2d": [
           {
            "colorbar": {
             "outlinewidth": 0,
             "ticks": ""
            },
            "colorscale": [
             [
              0,
              "#0d0887"
             ],
             [
              0.1111111111111111,
              "#46039f"
             ],
             [
              0.2222222222222222,
              "#7201a8"
             ],
             [
              0.3333333333333333,
              "#9c179e"
             ],
             [
              0.4444444444444444,
              "#bd3786"
             ],
             [
              0.5555555555555556,
              "#d8576b"
             ],
             [
              0.6666666666666666,
              "#ed7953"
             ],
             [
              0.7777777777777778,
              "#fb9f3a"
             ],
             [
              0.8888888888888888,
              "#fdca26"
             ],
             [
              1,
              "#f0f921"
             ]
            ],
            "type": "histogram2d"
           }
          ],
          "histogram2dcontour": [
           {
            "colorbar": {
             "outlinewidth": 0,
             "ticks": ""
            },
            "colorscale": [
             [
              0,
              "#0d0887"
             ],
             [
              0.1111111111111111,
              "#46039f"
             ],
             [
              0.2222222222222222,
              "#7201a8"
             ],
             [
              0.3333333333333333,
              "#9c179e"
             ],
             [
              0.4444444444444444,
              "#bd3786"
             ],
             [
              0.5555555555555556,
              "#d8576b"
             ],
             [
              0.6666666666666666,
              "#ed7953"
             ],
             [
              0.7777777777777778,
              "#fb9f3a"
             ],
             [
              0.8888888888888888,
              "#fdca26"
             ],
             [
              1,
              "#f0f921"
             ]
            ],
            "type": "histogram2dcontour"
           }
          ],
          "mesh3d": [
           {
            "colorbar": {
             "outlinewidth": 0,
             "ticks": ""
            },
            "type": "mesh3d"
           }
          ],
          "parcoords": [
           {
            "line": {
             "colorbar": {
              "outlinewidth": 0,
              "ticks": ""
             }
            },
            "type": "parcoords"
           }
          ],
          "pie": [
           {
            "automargin": true,
            "type": "pie"
           }
          ],
          "scatter": [
           {
            "fillpattern": {
             "fillmode": "overlay",
             "size": 10,
             "solidity": 0.2
            },
            "type": "scatter"
           }
          ],
          "scatter3d": [
           {
            "line": {
             "colorbar": {
              "outlinewidth": 0,
              "ticks": ""
             }
            },
            "marker": {
             "colorbar": {
              "outlinewidth": 0,
              "ticks": ""
             }
            },
            "type": "scatter3d"
           }
          ],
          "scattercarpet": [
           {
            "marker": {
             "colorbar": {
              "outlinewidth": 0,
              "ticks": ""
             }
            },
            "type": "scattercarpet"
           }
          ],
          "scattergeo": [
           {
            "marker": {
             "colorbar": {
              "outlinewidth": 0,
              "ticks": ""
             }
            },
            "type": "scattergeo"
           }
          ],
          "scattergl": [
           {
            "marker": {
             "colorbar": {
              "outlinewidth": 0,
              "ticks": ""
             }
            },
            "type": "scattergl"
           }
          ],
          "scattermapbox": [
           {
            "marker": {
             "colorbar": {
              "outlinewidth": 0,
              "ticks": ""
             }
            },
            "type": "scattermapbox"
           }
          ],
          "scatterpolar": [
           {
            "marker": {
             "colorbar": {
              "outlinewidth": 0,
              "ticks": ""
             }
            },
            "type": "scatterpolar"
           }
          ],
          "scatterpolargl": [
           {
            "marker": {
             "colorbar": {
              "outlinewidth": 0,
              "ticks": ""
             }
            },
            "type": "scatterpolargl"
           }
          ],
          "scatterternary": [
           {
            "marker": {
             "colorbar": {
              "outlinewidth": 0,
              "ticks": ""
             }
            },
            "type": "scatterternary"
           }
          ],
          "surface": [
           {
            "colorbar": {
             "outlinewidth": 0,
             "ticks": ""
            },
            "colorscale": [
             [
              0,
              "#0d0887"
             ],
             [
              0.1111111111111111,
              "#46039f"
             ],
             [
              0.2222222222222222,
              "#7201a8"
             ],
             [
              0.3333333333333333,
              "#9c179e"
             ],
             [
              0.4444444444444444,
              "#bd3786"
             ],
             [
              0.5555555555555556,
              "#d8576b"
             ],
             [
              0.6666666666666666,
              "#ed7953"
             ],
             [
              0.7777777777777778,
              "#fb9f3a"
             ],
             [
              0.8888888888888888,
              "#fdca26"
             ],
             [
              1,
              "#f0f921"
             ]
            ],
            "type": "surface"
           }
          ],
          "table": [
           {
            "cells": {
             "fill": {
              "color": "#EBF0F8"
             },
             "line": {
              "color": "white"
             }
            },
            "header": {
             "fill": {
              "color": "#C8D4E3"
             },
             "line": {
              "color": "white"
             }
            },
            "type": "table"
           }
          ]
         },
         "layout": {
          "annotationdefaults": {
           "arrowcolor": "#2a3f5f",
           "arrowhead": 0,
           "arrowwidth": 1
          },
          "autotypenumbers": "strict",
          "coloraxis": {
           "colorbar": {
            "outlinewidth": 0,
            "ticks": ""
           }
          },
          "colorscale": {
           "diverging": [
            [
             0,
             "#8e0152"
            ],
            [
             0.1,
             "#c51b7d"
            ],
            [
             0.2,
             "#de77ae"
            ],
            [
             0.3,
             "#f1b6da"
            ],
            [
             0.4,
             "#fde0ef"
            ],
            [
             0.5,
             "#f7f7f7"
            ],
            [
             0.6,
             "#e6f5d0"
            ],
            [
             0.7,
             "#b8e186"
            ],
            [
             0.8,
             "#7fbc41"
            ],
            [
             0.9,
             "#4d9221"
            ],
            [
             1,
             "#276419"
            ]
           ],
           "sequential": [
            [
             0,
             "#0d0887"
            ],
            [
             0.1111111111111111,
             "#46039f"
            ],
            [
             0.2222222222222222,
             "#7201a8"
            ],
            [
             0.3333333333333333,
             "#9c179e"
            ],
            [
             0.4444444444444444,
             "#bd3786"
            ],
            [
             0.5555555555555556,
             "#d8576b"
            ],
            [
             0.6666666666666666,
             "#ed7953"
            ],
            [
             0.7777777777777778,
             "#fb9f3a"
            ],
            [
             0.8888888888888888,
             "#fdca26"
            ],
            [
             1,
             "#f0f921"
            ]
           ],
           "sequentialminus": [
            [
             0,
             "#0d0887"
            ],
            [
             0.1111111111111111,
             "#46039f"
            ],
            [
             0.2222222222222222,
             "#7201a8"
            ],
            [
             0.3333333333333333,
             "#9c179e"
            ],
            [
             0.4444444444444444,
             "#bd3786"
            ],
            [
             0.5555555555555556,
             "#d8576b"
            ],
            [
             0.6666666666666666,
             "#ed7953"
            ],
            [
             0.7777777777777778,
             "#fb9f3a"
            ],
            [
             0.8888888888888888,
             "#fdca26"
            ],
            [
             1,
             "#f0f921"
            ]
           ]
          },
          "colorway": [
           "#636efa",
           "#EF553B",
           "#00cc96",
           "#ab63fa",
           "#FFA15A",
           "#19d3f3",
           "#FF6692",
           "#B6E880",
           "#FF97FF",
           "#FECB52"
          ],
          "font": {
           "color": "#2a3f5f"
          },
          "geo": {
           "bgcolor": "white",
           "lakecolor": "white",
           "landcolor": "#E5ECF6",
           "showlakes": true,
           "showland": true,
           "subunitcolor": "white"
          },
          "hoverlabel": {
           "align": "left"
          },
          "hovermode": "closest",
          "mapbox": {
           "style": "light"
          },
          "paper_bgcolor": "white",
          "plot_bgcolor": "#E5ECF6",
          "polar": {
           "angularaxis": {
            "gridcolor": "white",
            "linecolor": "white",
            "ticks": ""
           },
           "bgcolor": "#E5ECF6",
           "radialaxis": {
            "gridcolor": "white",
            "linecolor": "white",
            "ticks": ""
           }
          },
          "scene": {
           "xaxis": {
            "backgroundcolor": "#E5ECF6",
            "gridcolor": "white",
            "gridwidth": 2,
            "linecolor": "white",
            "showbackground": true,
            "ticks": "",
            "zerolinecolor": "white"
           },
           "yaxis": {
            "backgroundcolor": "#E5ECF6",
            "gridcolor": "white",
            "gridwidth": 2,
            "linecolor": "white",
            "showbackground": true,
            "ticks": "",
            "zerolinecolor": "white"
           },
           "zaxis": {
            "backgroundcolor": "#E5ECF6",
            "gridcolor": "white",
            "gridwidth": 2,
            "linecolor": "white",
            "showbackground": true,
            "ticks": "",
            "zerolinecolor": "white"
           }
          },
          "shapedefaults": {
           "line": {
            "color": "#2a3f5f"
           }
          },
          "ternary": {
           "aaxis": {
            "gridcolor": "white",
            "linecolor": "white",
            "ticks": ""
           },
           "baxis": {
            "gridcolor": "white",
            "linecolor": "white",
            "ticks": ""
           },
           "bgcolor": "#E5ECF6",
           "caxis": {
            "gridcolor": "white",
            "linecolor": "white",
            "ticks": ""
           }
          },
          "title": {
           "x": 0.05
          },
          "xaxis": {
           "automargin": true,
           "gridcolor": "white",
           "linecolor": "white",
           "ticks": "",
           "title": {
            "standoff": 15
           },
           "zerolinecolor": "white",
           "zerolinewidth": 2
          },
          "yaxis": {
           "automargin": true,
           "gridcolor": "white",
           "linecolor": "white",
           "ticks": "",
           "title": {
            "standoff": 15
           },
           "zerolinecolor": "white",
           "zerolinewidth": 2
          }
         }
        },
        "width": 1500,
        "xaxis": {
         "anchor": "y",
         "domain": [
          0,
          1
         ],
         "linecolor": "black",
         "showgrid": false,
         "showline": true,
         "title": {}
        },
        "yaxis": {
         "anchor": "x",
         "domain": [
          0,
          1
         ],
         "linecolor": "black",
         "range": [
          0,
          1.1
         ],
         "showgrid": true,
         "showline": true,
         "title": {
          "text": "accuracy"
         }
        }
       }
      }
     },
     "metadata": {},
     "output_type": "display_data"
    }
   ],
   "source": [
    "i = 1\n",
    "\n",
    "models = [\n",
    "    \"RefCM\",\n",
    "    \"LD-RefCM\",\n",
    "    \"MV-Seurat\",\n",
    "    \"Seurat\",\n",
    "    \"MV-SVM\",\n",
    "    \"SVM\",\n",
    "    \"MV-SCANVI\",\n",
    "    \"SCANVI\",\n",
    "    \"MV-Celltypist\",\n",
    "    \"Celltypist\",\n",
    "]\n",
    "tasks = [\n",
    "    [(\"ALM\", \"MTG\"), (\"MTG\", \"ALM\"), (\"MTG\", \"VISp\"), (\"VISp\", \"MTG\")],\n",
    "    [\n",
    "        (\"VISp\", \"ALM\"),\n",
    "        (\"ALM\", \"VISp\"),\n",
    "        (\"mag_young\", \"mag_old\"),\n",
    "        (\"mag_old\", \"mag_young\"),\n",
    "    ],\n",
    "]\n",
    "width = 1500\n",
    "height = 400\n",
    "\n",
    "palette = [\n",
    "    \"rgba(44, 130, 201, 1)\",\n",
    "    \"rgba(44, 130, 201, 0.6)\",  # blue\n",
    "    \"rgba(217, 30, 24, 1)\",\n",
    "    \"rgba(217, 30, 24, 0.6)\",  # red\n",
    "    \"rgba(22, 160, 133, 1)\",\n",
    "    \"rgba(22, 160, 133, 0.6)\",  # green\n",
    "    \"rgba(241, 90, 34, 1)\",\n",
    "    \"rgba(241, 90, 34, 0.6)\",  # orange\n",
    "    \"rgba(150, 54, 148, 1)\",\n",
    "    \"rgba(150, 54, 148, 0.6)\",  # purple\n",
    "    \"rgba(247, 202, 24, 1)\",\n",
    "    \"rgba(247, 202, 24, 0.6)\",  # yellow\n",
    "]\n",
    "\n",
    "data = []\n",
    "for m in models:\n",
    "    b = benchmarks.get(m)\n",
    "    if b is None:\n",
    "        print(f\"{m} does not have any benchmarks available\")\n",
    "        break\n",
    "\n",
    "    for q, r in tasks[i]:\n",
    "        perf = b.get(q)\n",
    "        if perf is None:\n",
    "            print(f\"{m} does not have {q}  |  {r} benchmark\")\n",
    "            break\n",
    "\n",
    "        perf = perf.get(r)\n",
    "        if perf is None:\n",
    "            print(f\"{m} does not have {q}  |  {r} benchmark\")\n",
    "            break\n",
    "\n",
    "        data.append([m, f\"{q} | {r}\", round(perf.acc, 2)])\n",
    "\n",
    "df = pd.DataFrame(data, columns=[\"method\", \"task\", \"accuracy\"])\n",
    "fig = px.bar(\n",
    "    df,\n",
    "    x=\"task\",\n",
    "    y=\"accuracy\",\n",
    "    color=\"method\",\n",
    "    barmode=\"group\",\n",
    "    # text=\"accuracy\",\n",
    "    color_discrete_sequence=palette,\n",
    "    range_y=[0, 1.1],\n",
    ")\n",
    "fig.update_layout(width=width, height=height, plot_bgcolor=\"white\", bargap=0.3)\n",
    "fig.update_traces(textposition=\"outside\", textfont_size=16)\n",
    "\n",
    "fig.update_xaxes(showgrid=False, showline=True, linecolor=\"black\", title=None)\n",
    "fig.update_yaxes(showline=True, linecolor=\"black\", showgrid=True, title=\"accuracy\")\n",
    "\n",
    "fig.write_image(f\"fig2/bars_{i + 1}.png\", scale=3)\n",
    "fig.show()"
   ]
  }
 ],
 "metadata": {
  "kernelspec": {
   "display_name": "refcm",
   "language": "python",
   "name": "python3"
  },
  "language_info": {
   "codemirror_mode": {
    "name": "ipython",
    "version": 3
   },
   "file_extension": ".py",
   "mimetype": "text/x-python",
   "name": "python",
   "nbconvert_exporter": "python",
   "pygments_lexer": "ipython3",
   "version": "3.11.9"
  }
 },
 "nbformat": 4,
 "nbformat_minor": 2
}
