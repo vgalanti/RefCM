{
 "cells": [
  {
   "cell_type": "code",
   "execution_count": 1,
   "metadata": {},
   "outputs": [],
   "source": [
    "import sys\n",
    "sys.path.append('../src/')\n",
    "\n",
    "import config\n",
    "import logging\n",
    "import scanpy as sc\n",
    "from refcm import RefCM\n",
    "\n",
    "config.start_logging(logging.INFO)"
   ]
  },
  {
   "cell_type": "code",
   "execution_count": 2,
   "metadata": {},
   "outputs": [],
   "source": [
    "ds = [\n",
    "    'pancreas_celseq', \n",
    "    'pancreas_celseq2', \n",
    "    'pancreas_fluidigmc1', \n",
    "    'pancreas_inDrop1', \n",
    "    'pancreas_inDrop2', \n",
    "    'pancreas_inDrop3', \n",
    "    'pancreas_inDrop4',\n",
    "    'pancreas_smarter', \n",
    "    'pancreas_smartseq2'\n",
    "]\n",
    "ds = {s: sc.read_h5ad(f'../data/{s}.h5ad') for s in ds}\n"
   ]
  },
  {
   "cell_type": "code",
   "execution_count": 3,
   "metadata": {},
   "outputs": [
    {
     "name": "stdout",
     "output_type": "stream",
     "text": [
      "pancreas_celseq: (1004, 19093)\n",
      "pancreas_celseq2: (2285, 19093)\n",
      "pancreas_fluidigmc1: (638, 19093)\n",
      "pancreas_inDrop1: (1937, 19093)\n",
      "pancreas_inDrop2: (1724, 19093)\n",
      "pancreas_inDrop3: (3605, 19093)\n",
      "pancreas_inDrop4: (1303, 19093)\n",
      "pancreas_smarter: (1492, 19093)\n",
      "pancreas_smartseq2: (2394, 19093)\n"
     ]
    }
   ],
   "source": [
    "for d, dx in ds.items():\n",
    "    print(f'{d}: {dx.X.shape}')"
   ]
  },
  {
   "cell_type": "code",
   "execution_count": 4,
   "metadata": {},
   "outputs": [
    {
     "name": "stderr",
     "output_type": "stream",
     "text": [
      "[refcm           ] [INFO    ] : NOTE: raw counts expected in anndata .X attributes.\n",
      "|████████████████| [100.00% ] : 00:01\n",
      "[matchings       ] [INFO    ] : pancreas_smartseq2   to pancreas_inDrop4    \n",
      "[matchings       ] [INFO    ] : 13    common cell types\n",
      "[matchings       ] [INFO    ] : 13/13 correct   links\n",
      "[matchings       ] [INFO    ] : 0     incorrect links\n"
     ]
    },
    {
     "data": {
      "application/vnd.plotly.v1+json": {
       "config": {
        "plotlyServerURL": "https://plot.ly"
       },
       "data": [
        {
         "coloraxis": "coloraxis",
         "hovertemplate": "Reference: pancreas_inDrop4: %{x}<br>Query: pancreas_smartseq2: %{y}<br>cost: %{z}<extra></extra>",
         "name": "0",
         "type": "heatmap",
         "x": [
          "acinar",
          "activated_stellate",
          "alpha",
          "beta",
          "delta",
          "ductal",
          "endothelial",
          "epsilon",
          "gamma",
          "macrophage",
          "mast",
          "quiescent_stellate",
          "schwann",
          "t_cell"
         ],
         "xaxis": "x",
         "y": [
          "acinar",
          "activated_stellate",
          "alpha",
          "beta",
          "delta",
          "ductal",
          "endothelial",
          "epsilon",
          "gamma",
          "macrophage",
          "mast",
          "quiescent_stellate",
          "schwann"
         ],
         "yaxis": "y",
         "z": [
          [
           -0.8306775296055503,
           -0.3547470258342468,
           -0.10794397581238345,
           -0.1208298910326532,
           -0.10071819398068539,
           -0.7561762281232025,
           -0.2458588734192928,
           -0.17272408861297853,
           -0.09708086085283514,
           -0.3601217218221797,
           -0.07541256361225761,
           -0.3652713850109574,
           -0.1449155045088046,
           -0.07662429039568124
          ],
          [
           -0.3742317102699787,
           -1,
           -0.07051525657103876,
           -0.09511290974011068,
           -0.07903410134160474,
           -0.36476014529774414,
           -0.4003695550978587,
           -0.09702778316496552,
           -0.06640834326563552,
           -0.40753560864310584,
           -0.09500019603531717,
           -0.6966510608502844,
           -0.29723654749105166,
           -0.07419123597281783
          ],
          [
           -0.1620723405360002,
           -0.13407013288917208,
           -0.14791249729042386,
           -0.116294845962155,
           -0.08780116901237899,
           -0.18028101848129804,
           -0.07299076455006566,
           -0.091845295147148,
           -0.09937360580261728,
           -0.14249059740617814,
           -0.004771503862305548,
           -0.11964019663076654,
           -0.03282102534072004,
           -0.003613064107138604
          ],
          [
           -0.1487060260163317,
           -0.13106269926401484,
           -0.08726345261209408,
           -0.17994346674245318,
           -0.10248243518468157,
           -0.17051763762799066,
           -0.06650268945024261,
           -0.0752404996676969,
           -0.08048730477196214,
           -0.14405313914220128,
           -0.007052750672912631,
           -0.13253562853291379,
           -0.02421650929239941,
           -0.001493424998205648
          ],
          [
           -0.14537649520858145,
           -0.12898898316934912,
           -0.08646087223204221,
           -0.11898369541314305,
           -0.12362342768218239,
           -0.1692510317820409,
           -0.06381428271087329,
           -0.08241269036915766,
           -0.08259280434491208,
           -0.13734142489967888,
           -0.014361952676953445,
           -0.12174145510007955,
           -0.03437707130722996,
           -0.006256392350383349
          ],
          [
           -0.5861057614431282,
           -0.38289335867286944,
           -0.10396297319855585,
           -0.1170286791418322,
           -0.1013833417895505,
           -0.7143118224660712,
           -0.26128753231349877,
           -0.1540814794764672,
           -0.09063840757055601,
           -0.3361673583069153,
           -0.0694886587622551,
           -0.396566377551074,
           -0.17484584482920384,
           -0.06959218212918827
          ],
          [
           -0.30568294226604203,
           -0.4893285681750154,
           -0.05679935810297574,
           -0.06773636049472645,
           -0.05607670914729441,
           -0.3042248112538038,
           -0.6090026131670787,
           -0.0704911328325454,
           -0.053126899782454544,
           -0.3218087041543601,
           -0.076370479162293,
           -0.40404993004164946,
           -0.19986376603627945,
           -0.08184193560074816
          ],
          [
           -0.21729422406447158,
           -0.1476987410455916,
           -0.11041590007939474,
           -0.11783905201245241,
           -0.09494312849729515,
           -0.20773692710108085,
           -0.07949314183360048,
           -0.2162029087747949,
           -0.10465898520079016,
           -0.16531952434809677,
           -0.008835765961693179,
           -0.1451891543323517,
           -0.04194420688722569,
           -0.0024802724756462736
          ],
          [
           -0.15172760591154694,
           -0.1361919958755256,
           -0.11506408959776183,
           -0.1190784166867497,
           -0.09321700593536791,
           -0.17587234642704333,
           -0.07277106646063532,
           -0.10933856462259357,
           -0.15304247588174383,
           -0.1374347576662181,
           -0.01185496207143534,
           -0.1278021562244327,
           -0.03481541887183197,
           0
          ],
          [
           -0.29579856181806674,
           -0.31115402951054977,
           -0.07218410802841972,
           -0.07177517711785719,
           -0.06229775483830004,
           -0.27566922726076915,
           -0.2139078662645021,
           -0.06388624368823607,
           -0.054272684733657935,
           -0.8166598933586583,
           -0.1441167601414916,
           -0.2522457416651588,
           -0.12516133171920954,
           -0.1622874611230255
          ],
          [
           -0.16179233396453133,
           -0.18902536021045313,
           -0.020059353178463274,
           -0.024340910122539302,
           -0.02942376060861817,
           -0.1580897178020264,
           -0.13447787302154462,
           -0.011336772064130751,
           -0.017877388888768508,
           -0.3446066080395885,
           -0.17885775187967543,
           -0.1659815449346112,
           -0.08448054364703535,
           -0.09345399572806559
          ],
          [
           -0.28561646008285496,
           -0.6311115750938825,
           -0.07309940539272161,
           -0.07600321347299113,
           -0.06297238239929301,
           -0.2601146042068257,
           -0.3027618546459739,
           -0.06857812299454219,
           -0.06501073728167923,
           -0.29455805116879896,
           -0.05912317084845146,
           -0.5590045825032899,
           -0.19263732402288253,
           -0.0463957697714106
          ],
          [
           -0.30543703526815613,
           -0.45537894223639214,
           -0.048849468258969776,
           -0.06259976834290443,
           -0.053662807710819896,
           -0.27007933723120237,
           -0.2436643444785572,
           -0.06199066932151182,
           -0.050257533653384305,
           -0.34672150845313776,
           -0.05455117996140973,
           -0.3492466131695109,
           -0.27567908781288225,
           -0.06457463740425623
          ]
         ]
        },
        {
         "hovertemplate": "%{y} -> %{x}",
         "marker": {
          "color": [
           "green",
           "green",
           "green",
           "green",
           "green",
           "green",
           "green",
           "green",
           "green",
           "green",
           "green",
           "green",
           "green"
          ],
          "size": 5
         },
         "mode": "markers",
         "name": "",
         "type": "scatter",
         "x": [
          "acinar",
          "activated_stellate",
          "alpha",
          "beta",
          "delta",
          "ductal",
          "endothelial",
          "epsilon",
          "gamma",
          "macrophage",
          "mast",
          "quiescent_stellate",
          "schwann"
         ],
         "y": [
          "acinar",
          "activated_stellate",
          "alpha",
          "beta",
          "delta",
          "ductal",
          "endothelial",
          "epsilon",
          "gamma",
          "macrophage",
          "mast",
          "quiescent_stellate",
          "schwann"
         ]
        }
       ],
       "layout": {
        "coloraxis": {
         "colorbar": {
          "title": {
           "text": "cost"
          }
         },
         "colorscale": [
          [
           0,
           "rgb(75, 41, 145)"
          ],
          [
           0.16666666666666666,
           "rgb(135, 44, 162)"
          ],
          [
           0.3333333333333333,
           "rgb(192, 54, 157)"
          ],
          [
           0.5,
           "rgb(234, 79, 136)"
          ],
          [
           0.6666666666666666,
           "rgb(250, 120, 118)"
          ],
          [
           0.8333333333333334,
           "rgb(246, 169, 122)"
          ],
          [
           1,
           "rgb(237, 217, 163)"
          ]
         ]
        },
        "template": {
         "data": {
          "bar": [
           {
            "error_x": {
             "color": "#2a3f5f"
            },
            "error_y": {
             "color": "#2a3f5f"
            },
            "marker": {
             "line": {
              "color": "#E5ECF6",
              "width": 0.5
             },
             "pattern": {
              "fillmode": "overlay",
              "size": 10,
              "solidity": 0.2
             }
            },
            "type": "bar"
           }
          ],
          "barpolar": [
           {
            "marker": {
             "line": {
              "color": "#E5ECF6",
              "width": 0.5
             },
             "pattern": {
              "fillmode": "overlay",
              "size": 10,
              "solidity": 0.2
             }
            },
            "type": "barpolar"
           }
          ],
          "carpet": [
           {
            "aaxis": {
             "endlinecolor": "#2a3f5f",
             "gridcolor": "white",
             "linecolor": "white",
             "minorgridcolor": "white",
             "startlinecolor": "#2a3f5f"
            },
            "baxis": {
             "endlinecolor": "#2a3f5f",
             "gridcolor": "white",
             "linecolor": "white",
             "minorgridcolor": "white",
             "startlinecolor": "#2a3f5f"
            },
            "type": "carpet"
           }
          ],
          "choropleth": [
           {
            "colorbar": {
             "outlinewidth": 0,
             "ticks": ""
            },
            "type": "choropleth"
           }
          ],
          "contour": [
           {
            "colorbar": {
             "outlinewidth": 0,
             "ticks": ""
            },
            "colorscale": [
             [
              0,
              "#0d0887"
             ],
             [
              0.1111111111111111,
              "#46039f"
             ],
             [
              0.2222222222222222,
              "#7201a8"
             ],
             [
              0.3333333333333333,
              "#9c179e"
             ],
             [
              0.4444444444444444,
              "#bd3786"
             ],
             [
              0.5555555555555556,
              "#d8576b"
             ],
             [
              0.6666666666666666,
              "#ed7953"
             ],
             [
              0.7777777777777778,
              "#fb9f3a"
             ],
             [
              0.8888888888888888,
              "#fdca26"
             ],
             [
              1,
              "#f0f921"
             ]
            ],
            "type": "contour"
           }
          ],
          "contourcarpet": [
           {
            "colorbar": {
             "outlinewidth": 0,
             "ticks": ""
            },
            "type": "contourcarpet"
           }
          ],
          "heatmap": [
           {
            "colorbar": {
             "outlinewidth": 0,
             "ticks": ""
            },
            "colorscale": [
             [
              0,
              "#0d0887"
             ],
             [
              0.1111111111111111,
              "#46039f"
             ],
             [
              0.2222222222222222,
              "#7201a8"
             ],
             [
              0.3333333333333333,
              "#9c179e"
             ],
             [
              0.4444444444444444,
              "#bd3786"
             ],
             [
              0.5555555555555556,
              "#d8576b"
             ],
             [
              0.6666666666666666,
              "#ed7953"
             ],
             [
              0.7777777777777778,
              "#fb9f3a"
             ],
             [
              0.8888888888888888,
              "#fdca26"
             ],
             [
              1,
              "#f0f921"
             ]
            ],
            "type": "heatmap"
           }
          ],
          "heatmapgl": [
           {
            "colorbar": {
             "outlinewidth": 0,
             "ticks": ""
            },
            "colorscale": [
             [
              0,
              "#0d0887"
             ],
             [
              0.1111111111111111,
              "#46039f"
             ],
             [
              0.2222222222222222,
              "#7201a8"
             ],
             [
              0.3333333333333333,
              "#9c179e"
             ],
             [
              0.4444444444444444,
              "#bd3786"
             ],
             [
              0.5555555555555556,
              "#d8576b"
             ],
             [
              0.6666666666666666,
              "#ed7953"
             ],
             [
              0.7777777777777778,
              "#fb9f3a"
             ],
             [
              0.8888888888888888,
              "#fdca26"
             ],
             [
              1,
              "#f0f921"
             ]
            ],
            "type": "heatmapgl"
           }
          ],
          "histogram": [
           {
            "marker": {
             "pattern": {
              "fillmode": "overlay",
              "size": 10,
              "solidity": 0.2
             }
            },
            "type": "histogram"
           }
          ],
          "histogram2d": [
           {
            "colorbar": {
             "outlinewidth": 0,
             "ticks": ""
            },
            "colorscale": [
             [
              0,
              "#0d0887"
             ],
             [
              0.1111111111111111,
              "#46039f"
             ],
             [
              0.2222222222222222,
              "#7201a8"
             ],
             [
              0.3333333333333333,
              "#9c179e"
             ],
             [
              0.4444444444444444,
              "#bd3786"
             ],
             [
              0.5555555555555556,
              "#d8576b"
             ],
             [
              0.6666666666666666,
              "#ed7953"
             ],
             [
              0.7777777777777778,
              "#fb9f3a"
             ],
             [
              0.8888888888888888,
              "#fdca26"
             ],
             [
              1,
              "#f0f921"
             ]
            ],
            "type": "histogram2d"
           }
          ],
          "histogram2dcontour": [
           {
            "colorbar": {
             "outlinewidth": 0,
             "ticks": ""
            },
            "colorscale": [
             [
              0,
              "#0d0887"
             ],
             [
              0.1111111111111111,
              "#46039f"
             ],
             [
              0.2222222222222222,
              "#7201a8"
             ],
             [
              0.3333333333333333,
              "#9c179e"
             ],
             [
              0.4444444444444444,
              "#bd3786"
             ],
             [
              0.5555555555555556,
              "#d8576b"
             ],
             [
              0.6666666666666666,
              "#ed7953"
             ],
             [
              0.7777777777777778,
              "#fb9f3a"
             ],
             [
              0.8888888888888888,
              "#fdca26"
             ],
             [
              1,
              "#f0f921"
             ]
            ],
            "type": "histogram2dcontour"
           }
          ],
          "mesh3d": [
           {
            "colorbar": {
             "outlinewidth": 0,
             "ticks": ""
            },
            "type": "mesh3d"
           }
          ],
          "parcoords": [
           {
            "line": {
             "colorbar": {
              "outlinewidth": 0,
              "ticks": ""
             }
            },
            "type": "parcoords"
           }
          ],
          "pie": [
           {
            "automargin": true,
            "type": "pie"
           }
          ],
          "scatter": [
           {
            "fillpattern": {
             "fillmode": "overlay",
             "size": 10,
             "solidity": 0.2
            },
            "type": "scatter"
           }
          ],
          "scatter3d": [
           {
            "line": {
             "colorbar": {
              "outlinewidth": 0,
              "ticks": ""
             }
            },
            "marker": {
             "colorbar": {
              "outlinewidth": 0,
              "ticks": ""
             }
            },
            "type": "scatter3d"
           }
          ],
          "scattercarpet": [
           {
            "marker": {
             "colorbar": {
              "outlinewidth": 0,
              "ticks": ""
             }
            },
            "type": "scattercarpet"
           }
          ],
          "scattergeo": [
           {
            "marker": {
             "colorbar": {
              "outlinewidth": 0,
              "ticks": ""
             }
            },
            "type": "scattergeo"
           }
          ],
          "scattergl": [
           {
            "marker": {
             "colorbar": {
              "outlinewidth": 0,
              "ticks": ""
             }
            },
            "type": "scattergl"
           }
          ],
          "scattermapbox": [
           {
            "marker": {
             "colorbar": {
              "outlinewidth": 0,
              "ticks": ""
             }
            },
            "type": "scattermapbox"
           }
          ],
          "scatterpolar": [
           {
            "marker": {
             "colorbar": {
              "outlinewidth": 0,
              "ticks": ""
             }
            },
            "type": "scatterpolar"
           }
          ],
          "scatterpolargl": [
           {
            "marker": {
             "colorbar": {
              "outlinewidth": 0,
              "ticks": ""
             }
            },
            "type": "scatterpolargl"
           }
          ],
          "scatterternary": [
           {
            "marker": {
             "colorbar": {
              "outlinewidth": 0,
              "ticks": ""
             }
            },
            "type": "scatterternary"
           }
          ],
          "surface": [
           {
            "colorbar": {
             "outlinewidth": 0,
             "ticks": ""
            },
            "colorscale": [
             [
              0,
              "#0d0887"
             ],
             [
              0.1111111111111111,
              "#46039f"
             ],
             [
              0.2222222222222222,
              "#7201a8"
             ],
             [
              0.3333333333333333,
              "#9c179e"
             ],
             [
              0.4444444444444444,
              "#bd3786"
             ],
             [
              0.5555555555555556,
              "#d8576b"
             ],
             [
              0.6666666666666666,
              "#ed7953"
             ],
             [
              0.7777777777777778,
              "#fb9f3a"
             ],
             [
              0.8888888888888888,
              "#fdca26"
             ],
             [
              1,
              "#f0f921"
             ]
            ],
            "type": "surface"
           }
          ],
          "table": [
           {
            "cells": {
             "fill": {
              "color": "#EBF0F8"
             },
             "line": {
              "color": "white"
             }
            },
            "header": {
             "fill": {
              "color": "#C8D4E3"
             },
             "line": {
              "color": "white"
             }
            },
            "type": "table"
           }
          ]
         },
         "layout": {
          "annotationdefaults": {
           "arrowcolor": "#2a3f5f",
           "arrowhead": 0,
           "arrowwidth": 1
          },
          "autotypenumbers": "strict",
          "coloraxis": {
           "colorbar": {
            "outlinewidth": 0,
            "ticks": ""
           }
          },
          "colorscale": {
           "diverging": [
            [
             0,
             "#8e0152"
            ],
            [
             0.1,
             "#c51b7d"
            ],
            [
             0.2,
             "#de77ae"
            ],
            [
             0.3,
             "#f1b6da"
            ],
            [
             0.4,
             "#fde0ef"
            ],
            [
             0.5,
             "#f7f7f7"
            ],
            [
             0.6,
             "#e6f5d0"
            ],
            [
             0.7,
             "#b8e186"
            ],
            [
             0.8,
             "#7fbc41"
            ],
            [
             0.9,
             "#4d9221"
            ],
            [
             1,
             "#276419"
            ]
           ],
           "sequential": [
            [
             0,
             "#0d0887"
            ],
            [
             0.1111111111111111,
             "#46039f"
            ],
            [
             0.2222222222222222,
             "#7201a8"
            ],
            [
             0.3333333333333333,
             "#9c179e"
            ],
            [
             0.4444444444444444,
             "#bd3786"
            ],
            [
             0.5555555555555556,
             "#d8576b"
            ],
            [
             0.6666666666666666,
             "#ed7953"
            ],
            [
             0.7777777777777778,
             "#fb9f3a"
            ],
            [
             0.8888888888888888,
             "#fdca26"
            ],
            [
             1,
             "#f0f921"
            ]
           ],
           "sequentialminus": [
            [
             0,
             "#0d0887"
            ],
            [
             0.1111111111111111,
             "#46039f"
            ],
            [
             0.2222222222222222,
             "#7201a8"
            ],
            [
             0.3333333333333333,
             "#9c179e"
            ],
            [
             0.4444444444444444,
             "#bd3786"
            ],
            [
             0.5555555555555556,
             "#d8576b"
            ],
            [
             0.6666666666666666,
             "#ed7953"
            ],
            [
             0.7777777777777778,
             "#fb9f3a"
            ],
            [
             0.8888888888888888,
             "#fdca26"
            ],
            [
             1,
             "#f0f921"
            ]
           ]
          },
          "colorway": [
           "#636efa",
           "#EF553B",
           "#00cc96",
           "#ab63fa",
           "#FFA15A",
           "#19d3f3",
           "#FF6692",
           "#B6E880",
           "#FF97FF",
           "#FECB52"
          ],
          "font": {
           "color": "#2a3f5f"
          },
          "geo": {
           "bgcolor": "white",
           "lakecolor": "white",
           "landcolor": "#E5ECF6",
           "showlakes": true,
           "showland": true,
           "subunitcolor": "white"
          },
          "hoverlabel": {
           "align": "left"
          },
          "hovermode": "closest",
          "mapbox": {
           "style": "light"
          },
          "paper_bgcolor": "white",
          "plot_bgcolor": "#E5ECF6",
          "polar": {
           "angularaxis": {
            "gridcolor": "white",
            "linecolor": "white",
            "ticks": ""
           },
           "bgcolor": "#E5ECF6",
           "radialaxis": {
            "gridcolor": "white",
            "linecolor": "white",
            "ticks": ""
           }
          },
          "scene": {
           "xaxis": {
            "backgroundcolor": "#E5ECF6",
            "gridcolor": "white",
            "gridwidth": 2,
            "linecolor": "white",
            "showbackground": true,
            "ticks": "",
            "zerolinecolor": "white"
           },
           "yaxis": {
            "backgroundcolor": "#E5ECF6",
            "gridcolor": "white",
            "gridwidth": 2,
            "linecolor": "white",
            "showbackground": true,
            "ticks": "",
            "zerolinecolor": "white"
           },
           "zaxis": {
            "backgroundcolor": "#E5ECF6",
            "gridcolor": "white",
            "gridwidth": 2,
            "linecolor": "white",
            "showbackground": true,
            "ticks": "",
            "zerolinecolor": "white"
           }
          },
          "shapedefaults": {
           "line": {
            "color": "#2a3f5f"
           }
          },
          "ternary": {
           "aaxis": {
            "gridcolor": "white",
            "linecolor": "white",
            "ticks": ""
           },
           "baxis": {
            "gridcolor": "white",
            "linecolor": "white",
            "ticks": ""
           },
           "bgcolor": "#E5ECF6",
           "caxis": {
            "gridcolor": "white",
            "linecolor": "white",
            "ticks": ""
           }
          },
          "title": {
           "x": 0.05
          },
          "xaxis": {
           "automargin": true,
           "gridcolor": "white",
           "linecolor": "white",
           "ticks": "",
           "title": {
            "standoff": 15
           },
           "zerolinecolor": "white",
           "zerolinewidth": 2
          },
          "yaxis": {
           "automargin": true,
           "gridcolor": "white",
           "linecolor": "white",
           "ticks": "",
           "title": {
            "standoff": 15
           },
           "zerolinecolor": "white",
           "zerolinewidth": 2
          }
         }
        },
        "title": {
         "text": "pancreas_smartseq2 to pancreas_inDrop4 matching cost"
        },
        "xaxis": {
         "anchor": "y",
         "constrain": "domain",
         "domain": [
          0,
          1
         ],
         "scaleanchor": "y",
         "tickangle": -90,
         "title": {
          "text": "Reference: pancreas_inDrop4"
         }
        },
        "yaxis": {
         "anchor": "x",
         "autorange": "reversed",
         "constrain": "domain",
         "domain": [
          0,
          1
         ],
         "title": {
          "text": "Query: pancreas_smartseq2"
         }
        }
       }
      }
     },
     "metadata": {},
     "output_type": "display_data"
    }
   ],
   "source": [
    "q, ref = 'pancreas_smartseq2', 'pancreas_inDrop4'\n",
    "\n",
    "rcm = RefCM(cache_load=False, cache_save=False, discovery_threshold=0.0)\n",
    "rcm.setref(ds[ref], ref, 'celltype')\n",
    "m = rcm.annotate(ds[q], q, 'celltype')\n",
    "m.eval('celltype')\n",
    "m.display_matching_costs('celltype')"
   ]
  },
  {
   "cell_type": "code",
   "execution_count": 5,
   "metadata": {},
   "outputs": [
    {
     "name": "stderr",
     "output_type": "stream",
     "text": [
      "[refcm           ] [INFO    ] : NOTE: raw counts expected in anndata .X attributes.\n",
      "|████████████████| [100.00% ] : 00:01\n",
      "[matchings       ] [INFO    ] : pancreas_celseq      to pancreas_celseq2    \n",
      "[matchings       ] [INFO    ] : 13    common cell types\n",
      "[matchings       ] [INFO    ] : 13/13 correct   links\n",
      "[matchings       ] [INFO    ] : 0     incorrect links\n",
      "|████████████████| [100.00% ] : 00:00\n",
      "[matchings       ] [INFO    ] : pancreas_celseq      to pancreas_fluidigmc1 \n",
      "[matchings       ] [INFO    ] : 13    common cell types\n",
      "[matchings       ] [INFO    ] : 13/13 correct   links\n",
      "[matchings       ] [INFO    ] : 0     incorrect links\n",
      "|████████████████| [100.00% ] : 00:01\n",
      "[matchings       ] [INFO    ] : pancreas_celseq      to pancreas_inDrop1    \n",
      "[matchings       ] [INFO    ] : 13    common cell types\n",
      "[matchings       ] [INFO    ] : 13/13 correct   links\n",
      "[matchings       ] [INFO    ] : 0     incorrect links\n",
      "|████████████████| [100.00% ] : 00:01\n",
      "[matchings       ] [INFO    ] : pancreas_celseq      to pancreas_inDrop2    \n",
      "[matchings       ] [INFO    ] : 13    common cell types\n",
      "[matchings       ] [INFO    ] : 13/13 correct   links\n",
      "[matchings       ] [INFO    ] : 0     incorrect links\n",
      "|████████████████| [100.00% ] : 00:01\n",
      "[matchings       ] [INFO    ] : pancreas_celseq      to pancreas_inDrop3    \n",
      "[matchings       ] [INFO    ] : 13    common cell types\n",
      "[matchings       ] [INFO    ] : 13/13 correct   links\n",
      "[matchings       ] [INFO    ] : 0     incorrect links\n",
      "|████████████████| [100.00% ] : 00:00\n",
      "[matchings       ] [INFO    ] : pancreas_celseq      to pancreas_inDrop4    \n",
      "[matchings       ] [INFO    ] : 13    common cell types\n",
      "[matchings       ] [INFO    ] : 13/13 correct   links\n",
      "[matchings       ] [INFO    ] : 0     incorrect links\n",
      "|████████████████| [100.00% ] : 00:00\n",
      "[matchings       ] [INFO    ] : pancreas_celseq      to pancreas_smarter    \n",
      "[matchings       ] [INFO    ] : 4     common cell types\n",
      "[matchings       ] [INFO    ] : 1 /4  correct   links\n",
      "[matchings       ] [INFO    ] : 3     incorrect links\n",
      "|████████████████| [100.00% ] : 00:01\n",
      "[matchings       ] [INFO    ] : pancreas_celseq      to pancreas_smartseq2  \n",
      "[matchings       ] [INFO    ] : 13    common cell types\n",
      "[matchings       ] [INFO    ] : 13/13 correct   links\n",
      "[matchings       ] [INFO    ] : 0     incorrect links\n",
      "[matchings       ] [INFO    ] : pancreas_celseq2     to pancreas_celseq     \n",
      "[matchings       ] [INFO    ] : 13    common cell types\n",
      "[matchings       ] [INFO    ] : 13/13 correct   links\n",
      "[matchings       ] [INFO    ] : 0     incorrect links\n",
      "|████████████████| [100.00% ] : 00:00\n",
      "[matchings       ] [INFO    ] : pancreas_celseq2     to pancreas_fluidigmc1 \n",
      "[matchings       ] [INFO    ] : 13    common cell types\n",
      "[matchings       ] [INFO    ] : 13/13 correct   links\n",
      "[matchings       ] [INFO    ] : 0     incorrect links\n",
      "|████████████████| [100.00% ] : 00:01\n",
      "[matchings       ] [INFO    ] : pancreas_celseq2     to pancreas_inDrop1    \n",
      "[matchings       ] [INFO    ] : 13    common cell types\n",
      "[matchings       ] [INFO    ] : 13/13 correct   links\n",
      "[matchings       ] [INFO    ] : 0     incorrect links\n",
      "|████████████████| [100.00% ] : 00:01\n",
      "[matchings       ] [INFO    ] : pancreas_celseq2     to pancreas_inDrop2    \n",
      "[matchings       ] [INFO    ] : 13    common cell types\n",
      "[matchings       ] [INFO    ] : 13/13 correct   links\n",
      "[matchings       ] [INFO    ] : 0     incorrect links\n",
      "|████████████████| [100.00% ] : 00:02\n",
      "[matchings       ] [INFO    ] : pancreas_celseq2     to pancreas_inDrop3    \n",
      "[matchings       ] [INFO    ] : 13    common cell types\n",
      "[matchings       ] [INFO    ] : 13/13 correct   links\n",
      "[matchings       ] [INFO    ] : 0     incorrect links\n",
      "|████████████████| [100.00% ] : 00:01\n",
      "[matchings       ] [INFO    ] : pancreas_celseq2     to pancreas_inDrop4    \n",
      "[matchings       ] [INFO    ] : 13    common cell types\n",
      "[matchings       ] [INFO    ] : 13/13 correct   links\n",
      "[matchings       ] [INFO    ] : 0     incorrect links\n",
      "|████████████████| [100.00% ] : 00:01\n",
      "[matchings       ] [INFO    ] : pancreas_celseq2     to pancreas_smarter    \n",
      "[matchings       ] [INFO    ] : 4     common cell types\n",
      "[matchings       ] [INFO    ] : 0 /4  correct   links\n",
      "[matchings       ] [INFO    ] : 4     incorrect links\n",
      "|████████████████| [100.00% ] : 00:01\n",
      "[matchings       ] [INFO    ] : pancreas_celseq2     to pancreas_smartseq2  \n",
      "[matchings       ] [INFO    ] : 13    common cell types\n",
      "[matchings       ] [INFO    ] : 13/13 correct   links\n",
      "[matchings       ] [INFO    ] : 0     incorrect links\n",
      "[matchings       ] [INFO    ] : pancreas_fluidigmc1  to pancreas_celseq     \n",
      "[matchings       ] [INFO    ] : 13    common cell types\n",
      "[matchings       ] [INFO    ] : 13/13 correct   links\n",
      "[matchings       ] [INFO    ] : 0     incorrect links\n",
      "[matchings       ] [INFO    ] : pancreas_fluidigmc1  to pancreas_celseq2    \n",
      "[matchings       ] [INFO    ] : 13    common cell types\n",
      "[matchings       ] [INFO    ] : 13/13 correct   links\n",
      "[matchings       ] [INFO    ] : 0     incorrect links\n",
      "|████████████████| [100.00% ] : 00:01\n",
      "[matchings       ] [INFO    ] : pancreas_fluidigmc1  to pancreas_inDrop1    \n",
      "[matchings       ] [INFO    ] : 13    common cell types\n",
      "[matchings       ] [INFO    ] : 13/13 correct   links\n",
      "[matchings       ] [INFO    ] : 0     incorrect links\n",
      "|████████████████| [100.00% ] : 00:01\n",
      "[matchings       ] [INFO    ] : pancreas_fluidigmc1  to pancreas_inDrop2    \n",
      "[matchings       ] [INFO    ] : 13    common cell types\n",
      "[matchings       ] [INFO    ] : 13/13 correct   links\n",
      "[matchings       ] [INFO    ] : 0     incorrect links\n",
      "|████████████████| [100.00% ] : 00:01\n",
      "[matchings       ] [INFO    ] : pancreas_fluidigmc1  to pancreas_inDrop3    \n",
      "[matchings       ] [INFO    ] : 13    common cell types\n",
      "[matchings       ] [INFO    ] : 13/13 correct   links\n",
      "[matchings       ] [INFO    ] : 0     incorrect links\n",
      "|████████████████| [100.00% ] : 00:01\n",
      "[matchings       ] [INFO    ] : pancreas_fluidigmc1  to pancreas_inDrop4    \n",
      "[matchings       ] [INFO    ] : 13    common cell types\n",
      "[matchings       ] [INFO    ] : 13/13 correct   links\n",
      "[matchings       ] [INFO    ] : 0     incorrect links\n",
      "|████████████████| [100.00% ] : 00:00\n",
      "[matchings       ] [INFO    ] : pancreas_fluidigmc1  to pancreas_smarter    \n",
      "[matchings       ] [INFO    ] : 4     common cell types\n",
      "[matchings       ] [INFO    ] : 3 /4  correct   links\n",
      "[matchings       ] [INFO    ] : 1     incorrect links\n",
      "|████████████████| [100.00% ] : 00:01\n",
      "[matchings       ] [INFO    ] : pancreas_fluidigmc1  to pancreas_smartseq2  \n",
      "[matchings       ] [INFO    ] : 13    common cell types\n",
      "[matchings       ] [INFO    ] : 13/13 correct   links\n",
      "[matchings       ] [INFO    ] : 0     incorrect links\n",
      "[matchings       ] [INFO    ] : pancreas_inDrop1     to pancreas_celseq     \n",
      "[matchings       ] [INFO    ] : 13    common cell types\n",
      "[matchings       ] [INFO    ] : 13/13 correct   links\n",
      "[matchings       ] [INFO    ] : 0     incorrect links\n",
      "[matchings       ] [INFO    ] : pancreas_inDrop1     to pancreas_celseq2    \n",
      "[matchings       ] [INFO    ] : 13    common cell types\n",
      "[matchings       ] [INFO    ] : 13/13 correct   links\n",
      "[matchings       ] [INFO    ] : 0     incorrect links\n",
      "[matchings       ] [INFO    ] : pancreas_inDrop1     to pancreas_fluidigmc1 \n",
      "[matchings       ] [INFO    ] : 13    common cell types\n",
      "[matchings       ] [INFO    ] : 13/13 correct   links\n",
      "[matchings       ] [INFO    ] : 0     incorrect links\n",
      "|████████████████| [100.00% ] : 00:01\n",
      "[matchings       ] [INFO    ] : pancreas_inDrop1     to pancreas_inDrop2    \n",
      "[matchings       ] [INFO    ] : 14    common cell types\n",
      "[matchings       ] [INFO    ] : 14/14 correct   links\n",
      "[matchings       ] [INFO    ] : 0     incorrect links\n",
      "|████████████████| [100.00% ] : 00:02\n",
      "[matchings       ] [INFO    ] : pancreas_inDrop1     to pancreas_inDrop3    \n",
      "[matchings       ] [INFO    ] : 14    common cell types\n",
      "[matchings       ] [INFO    ] : 14/14 correct   links\n",
      "[matchings       ] [INFO    ] : 0     incorrect links\n",
      "|████████████████| [100.00% ] : 00:01\n",
      "[matchings       ] [INFO    ] : pancreas_inDrop1     to pancreas_inDrop4    \n",
      "[matchings       ] [INFO    ] : 14    common cell types\n",
      "[matchings       ] [INFO    ] : 14/14 correct   links\n",
      "[matchings       ] [INFO    ] : 0     incorrect links\n",
      "|████████████████| [100.00% ] : 00:01\n",
      "[matchings       ] [INFO    ] : pancreas_inDrop1     to pancreas_smarter    \n",
      "[matchings       ] [INFO    ] : 4     common cell types\n",
      "[matchings       ] [INFO    ] : 1 /4  correct   links\n",
      "[matchings       ] [INFO    ] : 3     incorrect links\n",
      "|████████████████| [100.00% ] : 00:01\n",
      "[matchings       ] [INFO    ] : pancreas_inDrop1     to pancreas_smartseq2  \n",
      "[matchings       ] [INFO    ] : 13    common cell types\n",
      "[matchings       ] [INFO    ] : 13/13 correct   links\n",
      "[matchings       ] [INFO    ] : 0     incorrect links\n",
      "[matchings       ] [INFO    ] : pancreas_inDrop2     to pancreas_celseq     \n",
      "[matchings       ] [INFO    ] : 13    common cell types\n",
      "[matchings       ] [INFO    ] : 13/13 correct   links\n",
      "[matchings       ] [INFO    ] : 0     incorrect links\n",
      "[matchings       ] [INFO    ] : pancreas_inDrop2     to pancreas_celseq2    \n",
      "[matchings       ] [INFO    ] : 13    common cell types\n",
      "[matchings       ] [INFO    ] : 13/13 correct   links\n",
      "[matchings       ] [INFO    ] : 0     incorrect links\n",
      "[matchings       ] [INFO    ] : pancreas_inDrop2     to pancreas_fluidigmc1 \n",
      "[matchings       ] [INFO    ] : 13    common cell types\n",
      "[matchings       ] [INFO    ] : 13/13 correct   links\n",
      "[matchings       ] [INFO    ] : 0     incorrect links\n",
      "[matchings       ] [INFO    ] : pancreas_inDrop2     to pancreas_inDrop1    \n",
      "[matchings       ] [INFO    ] : 14    common cell types\n",
      "[matchings       ] [INFO    ] : 14/14 correct   links\n",
      "[matchings       ] [INFO    ] : 0     incorrect links\n",
      "|████████████████| [100.00% ] : 00:02\n",
      "[matchings       ] [INFO    ] : pancreas_inDrop2     to pancreas_inDrop3    \n",
      "[matchings       ] [INFO    ] : 14    common cell types\n",
      "[matchings       ] [INFO    ] : 14/14 correct   links\n",
      "[matchings       ] [INFO    ] : 0     incorrect links\n",
      "|████████████████| [100.00% ] : 00:01\n",
      "[matchings       ] [INFO    ] : pancreas_inDrop2     to pancreas_inDrop4    \n",
      "[matchings       ] [INFO    ] : 14    common cell types\n",
      "[matchings       ] [INFO    ] : 14/14 correct   links\n",
      "[matchings       ] [INFO    ] : 0     incorrect links\n",
      "|████████████████| [100.00% ] : 00:01\n",
      "[matchings       ] [INFO    ] : pancreas_inDrop2     to pancreas_smarter    \n",
      "[matchings       ] [INFO    ] : 4     common cell types\n",
      "[matchings       ] [INFO    ] : 2 /4  correct   links\n",
      "[matchings       ] [INFO    ] : 2     incorrect links\n",
      "|████████████████| [100.00% ] : 00:01\n",
      "[matchings       ] [INFO    ] : pancreas_inDrop2     to pancreas_smartseq2  \n",
      "[matchings       ] [INFO    ] : 13    common cell types\n",
      "[matchings       ] [INFO    ] : 13/13 correct   links\n",
      "[matchings       ] [INFO    ] : 0     incorrect links\n",
      "[matchings       ] [INFO    ] : pancreas_inDrop3     to pancreas_celseq     \n",
      "[matchings       ] [INFO    ] : 13    common cell types\n",
      "[matchings       ] [INFO    ] : 13/13 correct   links\n",
      "[matchings       ] [INFO    ] : 0     incorrect links\n",
      "[matchings       ] [INFO    ] : pancreas_inDrop3     to pancreas_celseq2    \n",
      "[matchings       ] [INFO    ] : 13    common cell types\n",
      "[matchings       ] [INFO    ] : 13/13 correct   links\n",
      "[matchings       ] [INFO    ] : 0     incorrect links\n",
      "[matchings       ] [INFO    ] : pancreas_inDrop3     to pancreas_fluidigmc1 \n",
      "[matchings       ] [INFO    ] : 13    common cell types\n",
      "[matchings       ] [INFO    ] : 13/13 correct   links\n",
      "[matchings       ] [INFO    ] : 0     incorrect links\n",
      "[matchings       ] [INFO    ] : pancreas_inDrop3     to pancreas_inDrop1    \n",
      "[matchings       ] [INFO    ] : 14    common cell types\n",
      "[matchings       ] [INFO    ] : 14/14 correct   links\n",
      "[matchings       ] [INFO    ] : 0     incorrect links\n",
      "[matchings       ] [INFO    ] : pancreas_inDrop3     to pancreas_inDrop2    \n",
      "[matchings       ] [INFO    ] : 14    common cell types\n",
      "[matchings       ] [INFO    ] : 14/14 correct   links\n",
      "[matchings       ] [INFO    ] : 0     incorrect links\n",
      "|████████████████| [100.00% ] : 00:01\n",
      "[matchings       ] [INFO    ] : pancreas_inDrop3     to pancreas_inDrop4    \n",
      "[matchings       ] [INFO    ] : 14    common cell types\n",
      "[matchings       ] [INFO    ] : 14/14 correct   links\n",
      "[matchings       ] [INFO    ] : 0     incorrect links\n",
      "|████████████████| [100.00% ] : 00:01\n",
      "[matchings       ] [INFO    ] : pancreas_inDrop3     to pancreas_smarter    \n",
      "[matchings       ] [INFO    ] : 4     common cell types\n",
      "[matchings       ] [INFO    ] : 2 /4  correct   links\n",
      "[matchings       ] [INFO    ] : 2     incorrect links\n",
      "|████████████████| [100.00% ] : 00:02\n",
      "[matchings       ] [INFO    ] : pancreas_inDrop3     to pancreas_smartseq2  \n",
      "[matchings       ] [INFO    ] : 13    common cell types\n",
      "[matchings       ] [INFO    ] : 13/13 correct   links\n",
      "[matchings       ] [INFO    ] : 0     incorrect links\n",
      "[matchings       ] [INFO    ] : pancreas_inDrop4     to pancreas_celseq     \n",
      "[matchings       ] [INFO    ] : 13    common cell types\n",
      "[matchings       ] [INFO    ] : 13/13 correct   links\n",
      "[matchings       ] [INFO    ] : 0     incorrect links\n",
      "[matchings       ] [INFO    ] : pancreas_inDrop4     to pancreas_celseq2    \n",
      "[matchings       ] [INFO    ] : 13    common cell types\n",
      "[matchings       ] [INFO    ] : 13/13 correct   links\n",
      "[matchings       ] [INFO    ] : 0     incorrect links\n",
      "[matchings       ] [INFO    ] : pancreas_inDrop4     to pancreas_fluidigmc1 \n",
      "[matchings       ] [INFO    ] : 13    common cell types\n",
      "[matchings       ] [INFO    ] : 13/13 correct   links\n",
      "[matchings       ] [INFO    ] : 0     incorrect links\n",
      "[matchings       ] [INFO    ] : pancreas_inDrop4     to pancreas_inDrop1    \n",
      "[matchings       ] [INFO    ] : 14    common cell types\n",
      "[matchings       ] [INFO    ] : 14/14 correct   links\n",
      "[matchings       ] [INFO    ] : 0     incorrect links\n",
      "[matchings       ] [INFO    ] : pancreas_inDrop4     to pancreas_inDrop2    \n",
      "[matchings       ] [INFO    ] : 14    common cell types\n",
      "[matchings       ] [INFO    ] : 14/14 correct   links\n",
      "[matchings       ] [INFO    ] : 0     incorrect links\n",
      "[matchings       ] [INFO    ] : pancreas_inDrop4     to pancreas_inDrop3    \n",
      "[matchings       ] [INFO    ] : 14    common cell types\n",
      "[matchings       ] [INFO    ] : 14/14 correct   links\n",
      "[matchings       ] [INFO    ] : 0     incorrect links\n",
      "|████████████████| [100.00% ] : 00:01\n",
      "[matchings       ] [INFO    ] : pancreas_inDrop4     to pancreas_smarter    \n",
      "[matchings       ] [INFO    ] : 4     common cell types\n",
      "[matchings       ] [INFO    ] : 2 /4  correct   links\n",
      "[matchings       ] [INFO    ] : 2     incorrect links\n",
      "|████████████████| [100.00% ] : 00:01\n",
      "[matchings       ] [INFO    ] : pancreas_inDrop4     to pancreas_smartseq2  \n",
      "[matchings       ] [INFO    ] : 13    common cell types\n",
      "[matchings       ] [INFO    ] : 13/13 correct   links\n",
      "[matchings       ] [INFO    ] : 0     incorrect links\n",
      "[matchings       ] [INFO    ] : pancreas_smarter     to pancreas_celseq     \n",
      "[matchings       ] [INFO    ] : 4     common cell types\n",
      "[matchings       ] [INFO    ] : 1 /4  correct   links\n",
      "[matchings       ] [INFO    ] : 3     incorrect links\n",
      "[matchings       ] [INFO    ] : pancreas_smarter     to pancreas_celseq2    \n",
      "[matchings       ] [INFO    ] : 4     common cell types\n",
      "[matchings       ] [INFO    ] : 0 /4  correct   links\n",
      "[matchings       ] [INFO    ] : 4     incorrect links\n",
      "[matchings       ] [INFO    ] : pancreas_smarter     to pancreas_fluidigmc1 \n",
      "[matchings       ] [INFO    ] : 4     common cell types\n",
      "[matchings       ] [INFO    ] : 3 /4  correct   links\n",
      "[matchings       ] [INFO    ] : 1     incorrect links\n",
      "[matchings       ] [INFO    ] : pancreas_smarter     to pancreas_inDrop1    \n",
      "[matchings       ] [INFO    ] : 4     common cell types\n",
      "[matchings       ] [INFO    ] : 1 /4  correct   links\n",
      "[matchings       ] [INFO    ] : 3     incorrect links\n",
      "[matchings       ] [INFO    ] : pancreas_smarter     to pancreas_inDrop2    \n",
      "[matchings       ] [INFO    ] : 4     common cell types\n",
      "[matchings       ] [INFO    ] : 2 /4  correct   links\n",
      "[matchings       ] [INFO    ] : 2     incorrect links\n",
      "[matchings       ] [INFO    ] : pancreas_smarter     to pancreas_inDrop3    \n",
      "[matchings       ] [INFO    ] : 4     common cell types\n",
      "[matchings       ] [INFO    ] : 2 /4  correct   links\n",
      "[matchings       ] [INFO    ] : 2     incorrect links\n",
      "[matchings       ] [INFO    ] : pancreas_smarter     to pancreas_inDrop4    \n",
      "[matchings       ] [INFO    ] : 4     common cell types\n",
      "[matchings       ] [INFO    ] : 2 /4  correct   links\n",
      "[matchings       ] [INFO    ] : 2     incorrect links\n",
      "|████████████████| [100.00% ] : 00:00\n",
      "[matchings       ] [INFO    ] : pancreas_smarter     to pancreas_smartseq2  \n",
      "[matchings       ] [INFO    ] : 4     common cell types\n",
      "[matchings       ] [INFO    ] : 2 /4  correct   links\n",
      "[matchings       ] [INFO    ] : 2     incorrect links\n",
      "[matchings       ] [INFO    ] : pancreas_smartseq2   to pancreas_celseq     \n",
      "[matchings       ] [INFO    ] : 13    common cell types\n",
      "[matchings       ] [INFO    ] : 13/13 correct   links\n",
      "[matchings       ] [INFO    ] : 0     incorrect links\n",
      "[matchings       ] [INFO    ] : pancreas_smartseq2   to pancreas_celseq2    \n",
      "[matchings       ] [INFO    ] : 13    common cell types\n",
      "[matchings       ] [INFO    ] : 13/13 correct   links\n",
      "[matchings       ] [INFO    ] : 0     incorrect links\n",
      "[matchings       ] [INFO    ] : pancreas_smartseq2   to pancreas_fluidigmc1 \n",
      "[matchings       ] [INFO    ] : 13    common cell types\n",
      "[matchings       ] [INFO    ] : 13/13 correct   links\n",
      "[matchings       ] [INFO    ] : 0     incorrect links\n",
      "[matchings       ] [INFO    ] : pancreas_smartseq2   to pancreas_inDrop1    \n",
      "[matchings       ] [INFO    ] : 13    common cell types\n",
      "[matchings       ] [INFO    ] : 13/13 correct   links\n",
      "[matchings       ] [INFO    ] : 0     incorrect links\n",
      "[matchings       ] [INFO    ] : pancreas_smartseq2   to pancreas_inDrop2    \n",
      "[matchings       ] [INFO    ] : 13    common cell types\n",
      "[matchings       ] [INFO    ] : 13/13 correct   links\n",
      "[matchings       ] [INFO    ] : 0     incorrect links\n",
      "[matchings       ] [INFO    ] : pancreas_smartseq2   to pancreas_inDrop3    \n",
      "[matchings       ] [INFO    ] : 13    common cell types\n",
      "[matchings       ] [INFO    ] : 13/13 correct   links\n",
      "[matchings       ] [INFO    ] : 0     incorrect links\n",
      "[matchings       ] [INFO    ] : pancreas_smartseq2   to pancreas_inDrop4    \n",
      "[matchings       ] [INFO    ] : 13    common cell types\n",
      "[matchings       ] [INFO    ] : 13/13 correct   links\n",
      "[matchings       ] [INFO    ] : 0     incorrect links\n",
      "[matchings       ] [INFO    ] : pancreas_smartseq2   to pancreas_smarter    \n",
      "[matchings       ] [INFO    ] : 4     common cell types\n",
      "[matchings       ] [INFO    ] : 2 /4  correct   links\n",
      "[matchings       ] [INFO    ] : 2     incorrect links\n"
     ]
    }
   ],
   "source": [
    "rcm = RefCM(discovery_threshold=0)\n",
    "\n",
    "for i, q_id in enumerate(ds):\n",
    "    for ref_id in [d for d in ds if d != q_id]:\n",
    "        rcm.setref(ds[ref_id], ref_id, 'celltype')\n",
    "        m = rcm.annotate(ds[q_id], q_id, 'celltype')\n",
    "        m.eval('celltype')"
   ]
  }
 ],
 "metadata": {
  "kernelspec": {
   "display_name": "refcm",
   "language": "python",
   "name": "python3"
  },
  "language_info": {
   "codemirror_mode": {
    "name": "ipython",
    "version": 3
   },
   "file_extension": ".py",
   "mimetype": "text/x-python",
   "name": "python",
   "nbconvert_exporter": "python",
   "pygments_lexer": "ipython3",
   "version": "3.11.9"
  }
 },
 "nbformat": 4,
 "nbformat_minor": 2
}
