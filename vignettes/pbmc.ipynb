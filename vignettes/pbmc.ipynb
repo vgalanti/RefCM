{
 "cells": [
  {
   "cell_type": "code",
   "execution_count": 2,
   "metadata": {},
   "outputs": [],
   "source": [
    "import sys\n",
    "sys.path.append('../src/')\n",
    "\n",
    "import config\n",
    "import logging\n",
    "import scanpy as sc\n",
    "from refcm import RefCM\n",
    "\n",
    "config.start_logging(logging.DEBUG)"
   ]
  },
  {
   "cell_type": "code",
   "execution_count": 3,
   "metadata": {},
   "outputs": [
    {
     "name": "stderr",
     "output_type": "stream",
     "text": [
      "[h5py._conv      ] [DEBUG   ] : Creating converter from 3 to 5\n"
     ]
    }
   ],
   "source": [
    "ds = ['pbmc_10Xv2', 'pbmc_10Xv3', 'pbmc_CEL-Seq', 'pbmc_Drop-Seq', 'pbmc_inDrop', 'pbmc_Seq-Well', 'pbmc_Smart-Seq2']\n",
    "ds = {s: sc.read_h5ad(f'../data/{s}.h5ad') for s in ds}"
   ]
  },
  {
   "cell_type": "code",
   "execution_count": 4,
   "metadata": {},
   "outputs": [
    {
     "name": "stderr",
     "output_type": "stream",
     "text": [
      "[refcm           ] [INFO    ] : NOTE: raw counts expected in anndata .X attributes.\n",
      "[refcm           ] [DEBUG   ] : Loading cached mapping costs from ../src/cache.json.\n",
      "[embeddings      ] [DEBUG   ] : Using 1254 genes.\n",
      "[refcm           ] [DEBUG   ] : Computing Wasserstein distances.\n",
      "|████████████████| [100.00% ] : 01:48\n",
      "[refcm           ] [DEBUG   ] : starting LP optimization\n",
      "[refcm           ] [DEBUG   ] : optimization terminated w. status \"Optimal\"\n",
      "[matchings       ] [DEBUG   ] : \u001b[32m[+|1.00]\u001b[0m B cell               mapped to B cell              \n",
      "[matchings       ] [DEBUG   ] : \u001b[32m[+|1.00]\u001b[0m CD14+ monocyte       mapped to CD14+ monocyte      \n",
      "[matchings       ] [DEBUG   ] : \u001b[32m[+|1.00]\u001b[0m CD16+ monocyte       mapped to CD16+ monocyte      \n",
      "[matchings       ] [DEBUG   ] : \u001b[32m[+|1.00]\u001b[0m CD4+ T cell          mapped to CD4+ T cell         \n",
      "[matchings       ] [DEBUG   ] : \u001b[32m[+|1.00]\u001b[0m Cytotoxic T cell     mapped to Cytotoxic T cell    \n",
      "[matchings       ] [DEBUG   ] : \u001b[32m[+|1.00]\u001b[0m Megakaryocyte        mapped to Megakaryocyte       \n",
      "[matchings       ] [DEBUG   ] : \u001b[32m[+|1.00]\u001b[0m Natural killer cell  mapped to Natural killer cell \n",
      "[matchings       ] [INFO    ] : pbmc_CEL-Seq         to pbmc_Drop-Seq       \n",
      "[matchings       ] [INFO    ] : 7     common cell types\n",
      "[matchings       ] [INFO    ] : 7 /7  correct   links\n",
      "[matchings       ] [INFO    ] : 0     incorrect links\n"
     ]
    },
    {
     "data": {
      "application/vnd.plotly.v1+json": {
       "config": {
        "plotlyServerURL": "https://plot.ly"
       },
       "data": [
        {
         "coloraxis": "coloraxis",
         "hovertemplate": "Reference: pbmc_Drop-Seq: %{x}<br>Query: pbmc_CEL-Seq: %{y}<br>cost: %{z}<extra></extra>",
         "name": "0",
         "type": "heatmap",
         "x": [
          "B cell",
          "CD14+ monocyte",
          "CD16+ monocyte",
          "CD4+ T cell",
          "Cytotoxic T cell",
          "Dendritic cell",
          "Megakaryocyte",
          "Natural killer cell",
          "Plasmacytoid dendritic cell"
         ],
         "xaxis": "x",
         "y": [
          "B cell",
          "CD14+ monocyte",
          "CD16+ monocyte",
          "CD4+ T cell",
          "Cytotoxic T cell",
          "Megakaryocyte",
          "Natural killer cell"
         ],
         "yaxis": "y",
         "z": [
          [
           -0.46123860451427945,
           -0.1941455295767877,
           -0.25067738034767745,
           -0.09856003537910345,
           -0.1100223987415977,
           -0.3662728561075624,
           -0.016496186214240344,
           -0.0749404511033888,
           -0.18125808730976334
          ],
          [
           -0.16769935372032707,
           -0.7963754759261524,
           -0.46449751222601365,
           -0.12258383530732465,
           -0.1269012643784451,
           -0.5346591528591557,
           -0.07562480832215984,
           -0.08613920631714443,
           -0.18390635801253588
          ],
          [
           -0.22138192218833333,
           -0.4699815618824947,
           -1,
           -0.16191883854850042,
           -0.19277269282532997,
           -0.6111698640317179,
           -0.09731130537355352,
           -0.14046606891795804,
           -0.24415205022149267
          ],
          [
           -0.09580848095975977,
           -0.13782762960075984,
           -0.18147925782561825,
           -0.3557899378096579,
           -0.1216344548226534,
           -0.1957070934493999,
           -0.03160478349725651,
           -0.08259713526294968,
           -0.07304342397910474
          ],
          [
           -0.0962839858189236,
           -0.13404135081482865,
           -0.18758641558431408,
           -0.10894090937011594,
           -0.40396955316821487,
           -0.18207391397874143,
           -0.03485354464926981,
           -0.0865612531070199,
           -0.07087019378805301
          ],
          [
           -0.006416512838449108,
           -0.07412836984187837,
           -0.09358426805637655,
           -0.02290425154308304,
           -0.030146513816373045,
           -0.08841226825075892,
           -0.6475245384366867,
           0,
           -0.01495277634225456
          ],
          [
           -0.07845397455373726,
           -0.10049632261154111,
           -0.15741649073101172,
           -0.08207184086969689,
           -0.09503451468071736,
           -0.21617217714403417,
           -0.0053218180129779346,
           -0.24144246154579896,
           -0.08437969348024288
          ]
         ]
        },
        {
         "hovertemplate": "%{y} -> %{x}",
         "marker": {
          "color": [
           "green",
           "green",
           "green",
           "green",
           "green",
           "green",
           "green"
          ],
          "size": 5
         },
         "mode": "markers",
         "name": "",
         "type": "scatter",
         "x": [
          "B cell",
          "CD14+ monocyte",
          "CD16+ monocyte",
          "CD4+ T cell",
          "Cytotoxic T cell",
          "Megakaryocyte",
          "Natural killer cell"
         ],
         "y": [
          "B cell",
          "CD14+ monocyte",
          "CD16+ monocyte",
          "CD4+ T cell",
          "Cytotoxic T cell",
          "Megakaryocyte",
          "Natural killer cell"
         ]
        }
       ],
       "layout": {
        "coloraxis": {
         "colorbar": {
          "title": {
           "text": "cost"
          }
         },
         "colorscale": [
          [
           0,
           "rgb(75, 41, 145)"
          ],
          [
           0.16666666666666666,
           "rgb(135, 44, 162)"
          ],
          [
           0.3333333333333333,
           "rgb(192, 54, 157)"
          ],
          [
           0.5,
           "rgb(234, 79, 136)"
          ],
          [
           0.6666666666666666,
           "rgb(250, 120, 118)"
          ],
          [
           0.8333333333333334,
           "rgb(246, 169, 122)"
          ],
          [
           1,
           "rgb(237, 217, 163)"
          ]
         ]
        },
        "template": {
         "data": {
          "bar": [
           {
            "error_x": {
             "color": "#2a3f5f"
            },
            "error_y": {
             "color": "#2a3f5f"
            },
            "marker": {
             "line": {
              "color": "#E5ECF6",
              "width": 0.5
             },
             "pattern": {
              "fillmode": "overlay",
              "size": 10,
              "solidity": 0.2
             }
            },
            "type": "bar"
           }
          ],
          "barpolar": [
           {
            "marker": {
             "line": {
              "color": "#E5ECF6",
              "width": 0.5
             },
             "pattern": {
              "fillmode": "overlay",
              "size": 10,
              "solidity": 0.2
             }
            },
            "type": "barpolar"
           }
          ],
          "carpet": [
           {
            "aaxis": {
             "endlinecolor": "#2a3f5f",
             "gridcolor": "white",
             "linecolor": "white",
             "minorgridcolor": "white",
             "startlinecolor": "#2a3f5f"
            },
            "baxis": {
             "endlinecolor": "#2a3f5f",
             "gridcolor": "white",
             "linecolor": "white",
             "minorgridcolor": "white",
             "startlinecolor": "#2a3f5f"
            },
            "type": "carpet"
           }
          ],
          "choropleth": [
           {
            "colorbar": {
             "outlinewidth": 0,
             "ticks": ""
            },
            "type": "choropleth"
           }
          ],
          "contour": [
           {
            "colorbar": {
             "outlinewidth": 0,
             "ticks": ""
            },
            "colorscale": [
             [
              0,
              "#0d0887"
             ],
             [
              0.1111111111111111,
              "#46039f"
             ],
             [
              0.2222222222222222,
              "#7201a8"
             ],
             [
              0.3333333333333333,
              "#9c179e"
             ],
             [
              0.4444444444444444,
              "#bd3786"
             ],
             [
              0.5555555555555556,
              "#d8576b"
             ],
             [
              0.6666666666666666,
              "#ed7953"
             ],
             [
              0.7777777777777778,
              "#fb9f3a"
             ],
             [
              0.8888888888888888,
              "#fdca26"
             ],
             [
              1,
              "#f0f921"
             ]
            ],
            "type": "contour"
           }
          ],
          "contourcarpet": [
           {
            "colorbar": {
             "outlinewidth": 0,
             "ticks": ""
            },
            "type": "contourcarpet"
           }
          ],
          "heatmap": [
           {
            "colorbar": {
             "outlinewidth": 0,
             "ticks": ""
            },
            "colorscale": [
             [
              0,
              "#0d0887"
             ],
             [
              0.1111111111111111,
              "#46039f"
             ],
             [
              0.2222222222222222,
              "#7201a8"
             ],
             [
              0.3333333333333333,
              "#9c179e"
             ],
             [
              0.4444444444444444,
              "#bd3786"
             ],
             [
              0.5555555555555556,
              "#d8576b"
             ],
             [
              0.6666666666666666,
              "#ed7953"
             ],
             [
              0.7777777777777778,
              "#fb9f3a"
             ],
             [
              0.8888888888888888,
              "#fdca26"
             ],
             [
              1,
              "#f0f921"
             ]
            ],
            "type": "heatmap"
           }
          ],
          "heatmapgl": [
           {
            "colorbar": {
             "outlinewidth": 0,
             "ticks": ""
            },
            "colorscale": [
             [
              0,
              "#0d0887"
             ],
             [
              0.1111111111111111,
              "#46039f"
             ],
             [
              0.2222222222222222,
              "#7201a8"
             ],
             [
              0.3333333333333333,
              "#9c179e"
             ],
             [
              0.4444444444444444,
              "#bd3786"
             ],
             [
              0.5555555555555556,
              "#d8576b"
             ],
             [
              0.6666666666666666,
              "#ed7953"
             ],
             [
              0.7777777777777778,
              "#fb9f3a"
             ],
             [
              0.8888888888888888,
              "#fdca26"
             ],
             [
              1,
              "#f0f921"
             ]
            ],
            "type": "heatmapgl"
           }
          ],
          "histogram": [
           {
            "marker": {
             "pattern": {
              "fillmode": "overlay",
              "size": 10,
              "solidity": 0.2
             }
            },
            "type": "histogram"
           }
          ],
          "histogram2d": [
           {
            "colorbar": {
             "outlinewidth": 0,
             "ticks": ""
            },
            "colorscale": [
             [
              0,
              "#0d0887"
             ],
             [
              0.1111111111111111,
              "#46039f"
             ],
             [
              0.2222222222222222,
              "#7201a8"
             ],
             [
              0.3333333333333333,
              "#9c179e"
             ],
             [
              0.4444444444444444,
              "#bd3786"
             ],
             [
              0.5555555555555556,
              "#d8576b"
             ],
             [
              0.6666666666666666,
              "#ed7953"
             ],
             [
              0.7777777777777778,
              "#fb9f3a"
             ],
             [
              0.8888888888888888,
              "#fdca26"
             ],
             [
              1,
              "#f0f921"
             ]
            ],
            "type": "histogram2d"
           }
          ],
          "histogram2dcontour": [
           {
            "colorbar": {
             "outlinewidth": 0,
             "ticks": ""
            },
            "colorscale": [
             [
              0,
              "#0d0887"
             ],
             [
              0.1111111111111111,
              "#46039f"
             ],
             [
              0.2222222222222222,
              "#7201a8"
             ],
             [
              0.3333333333333333,
              "#9c179e"
             ],
             [
              0.4444444444444444,
              "#bd3786"
             ],
             [
              0.5555555555555556,
              "#d8576b"
             ],
             [
              0.6666666666666666,
              "#ed7953"
             ],
             [
              0.7777777777777778,
              "#fb9f3a"
             ],
             [
              0.8888888888888888,
              "#fdca26"
             ],
             [
              1,
              "#f0f921"
             ]
            ],
            "type": "histogram2dcontour"
           }
          ],
          "mesh3d": [
           {
            "colorbar": {
             "outlinewidth": 0,
             "ticks": ""
            },
            "type": "mesh3d"
           }
          ],
          "parcoords": [
           {
            "line": {
             "colorbar": {
              "outlinewidth": 0,
              "ticks": ""
             }
            },
            "type": "parcoords"
           }
          ],
          "pie": [
           {
            "automargin": true,
            "type": "pie"
           }
          ],
          "scatter": [
           {
            "fillpattern": {
             "fillmode": "overlay",
             "size": 10,
             "solidity": 0.2
            },
            "type": "scatter"
           }
          ],
          "scatter3d": [
           {
            "line": {
             "colorbar": {
              "outlinewidth": 0,
              "ticks": ""
             }
            },
            "marker": {
             "colorbar": {
              "outlinewidth": 0,
              "ticks": ""
             }
            },
            "type": "scatter3d"
           }
          ],
          "scattercarpet": [
           {
            "marker": {
             "colorbar": {
              "outlinewidth": 0,
              "ticks": ""
             }
            },
            "type": "scattercarpet"
           }
          ],
          "scattergeo": [
           {
            "marker": {
             "colorbar": {
              "outlinewidth": 0,
              "ticks": ""
             }
            },
            "type": "scattergeo"
           }
          ],
          "scattergl": [
           {
            "marker": {
             "colorbar": {
              "outlinewidth": 0,
              "ticks": ""
             }
            },
            "type": "scattergl"
           }
          ],
          "scattermapbox": [
           {
            "marker": {
             "colorbar": {
              "outlinewidth": 0,
              "ticks": ""
             }
            },
            "type": "scattermapbox"
           }
          ],
          "scatterpolar": [
           {
            "marker": {
             "colorbar": {
              "outlinewidth": 0,
              "ticks": ""
             }
            },
            "type": "scatterpolar"
           }
          ],
          "scatterpolargl": [
           {
            "marker": {
             "colorbar": {
              "outlinewidth": 0,
              "ticks": ""
             }
            },
            "type": "scatterpolargl"
           }
          ],
          "scatterternary": [
           {
            "marker": {
             "colorbar": {
              "outlinewidth": 0,
              "ticks": ""
             }
            },
            "type": "scatterternary"
           }
          ],
          "surface": [
           {
            "colorbar": {
             "outlinewidth": 0,
             "ticks": ""
            },
            "colorscale": [
             [
              0,
              "#0d0887"
             ],
             [
              0.1111111111111111,
              "#46039f"
             ],
             [
              0.2222222222222222,
              "#7201a8"
             ],
             [
              0.3333333333333333,
              "#9c179e"
             ],
             [
              0.4444444444444444,
              "#bd3786"
             ],
             [
              0.5555555555555556,
              "#d8576b"
             ],
             [
              0.6666666666666666,
              "#ed7953"
             ],
             [
              0.7777777777777778,
              "#fb9f3a"
             ],
             [
              0.8888888888888888,
              "#fdca26"
             ],
             [
              1,
              "#f0f921"
             ]
            ],
            "type": "surface"
           }
          ],
          "table": [
           {
            "cells": {
             "fill": {
              "color": "#EBF0F8"
             },
             "line": {
              "color": "white"
             }
            },
            "header": {
             "fill": {
              "color": "#C8D4E3"
             },
             "line": {
              "color": "white"
             }
            },
            "type": "table"
           }
          ]
         },
         "layout": {
          "annotationdefaults": {
           "arrowcolor": "#2a3f5f",
           "arrowhead": 0,
           "arrowwidth": 1
          },
          "autotypenumbers": "strict",
          "coloraxis": {
           "colorbar": {
            "outlinewidth": 0,
            "ticks": ""
           }
          },
          "colorscale": {
           "diverging": [
            [
             0,
             "#8e0152"
            ],
            [
             0.1,
             "#c51b7d"
            ],
            [
             0.2,
             "#de77ae"
            ],
            [
             0.3,
             "#f1b6da"
            ],
            [
             0.4,
             "#fde0ef"
            ],
            [
             0.5,
             "#f7f7f7"
            ],
            [
             0.6,
             "#e6f5d0"
            ],
            [
             0.7,
             "#b8e186"
            ],
            [
             0.8,
             "#7fbc41"
            ],
            [
             0.9,
             "#4d9221"
            ],
            [
             1,
             "#276419"
            ]
           ],
           "sequential": [
            [
             0,
             "#0d0887"
            ],
            [
             0.1111111111111111,
             "#46039f"
            ],
            [
             0.2222222222222222,
             "#7201a8"
            ],
            [
             0.3333333333333333,
             "#9c179e"
            ],
            [
             0.4444444444444444,
             "#bd3786"
            ],
            [
             0.5555555555555556,
             "#d8576b"
            ],
            [
             0.6666666666666666,
             "#ed7953"
            ],
            [
             0.7777777777777778,
             "#fb9f3a"
            ],
            [
             0.8888888888888888,
             "#fdca26"
            ],
            [
             1,
             "#f0f921"
            ]
           ],
           "sequentialminus": [
            [
             0,
             "#0d0887"
            ],
            [
             0.1111111111111111,
             "#46039f"
            ],
            [
             0.2222222222222222,
             "#7201a8"
            ],
            [
             0.3333333333333333,
             "#9c179e"
            ],
            [
             0.4444444444444444,
             "#bd3786"
            ],
            [
             0.5555555555555556,
             "#d8576b"
            ],
            [
             0.6666666666666666,
             "#ed7953"
            ],
            [
             0.7777777777777778,
             "#fb9f3a"
            ],
            [
             0.8888888888888888,
             "#fdca26"
            ],
            [
             1,
             "#f0f921"
            ]
           ]
          },
          "colorway": [
           "#636efa",
           "#EF553B",
           "#00cc96",
           "#ab63fa",
           "#FFA15A",
           "#19d3f3",
           "#FF6692",
           "#B6E880",
           "#FF97FF",
           "#FECB52"
          ],
          "font": {
           "color": "#2a3f5f"
          },
          "geo": {
           "bgcolor": "white",
           "lakecolor": "white",
           "landcolor": "#E5ECF6",
           "showlakes": true,
           "showland": true,
           "subunitcolor": "white"
          },
          "hoverlabel": {
           "align": "left"
          },
          "hovermode": "closest",
          "mapbox": {
           "style": "light"
          },
          "paper_bgcolor": "white",
          "plot_bgcolor": "#E5ECF6",
          "polar": {
           "angularaxis": {
            "gridcolor": "white",
            "linecolor": "white",
            "ticks": ""
           },
           "bgcolor": "#E5ECF6",
           "radialaxis": {
            "gridcolor": "white",
            "linecolor": "white",
            "ticks": ""
           }
          },
          "scene": {
           "xaxis": {
            "backgroundcolor": "#E5ECF6",
            "gridcolor": "white",
            "gridwidth": 2,
            "linecolor": "white",
            "showbackground": true,
            "ticks": "",
            "zerolinecolor": "white"
           },
           "yaxis": {
            "backgroundcolor": "#E5ECF6",
            "gridcolor": "white",
            "gridwidth": 2,
            "linecolor": "white",
            "showbackground": true,
            "ticks": "",
            "zerolinecolor": "white"
           },
           "zaxis": {
            "backgroundcolor": "#E5ECF6",
            "gridcolor": "white",
            "gridwidth": 2,
            "linecolor": "white",
            "showbackground": true,
            "ticks": "",
            "zerolinecolor": "white"
           }
          },
          "shapedefaults": {
           "line": {
            "color": "#2a3f5f"
           }
          },
          "ternary": {
           "aaxis": {
            "gridcolor": "white",
            "linecolor": "white",
            "ticks": ""
           },
           "baxis": {
            "gridcolor": "white",
            "linecolor": "white",
            "ticks": ""
           },
           "bgcolor": "#E5ECF6",
           "caxis": {
            "gridcolor": "white",
            "linecolor": "white",
            "ticks": ""
           }
          },
          "title": {
           "x": 0.05
          },
          "xaxis": {
           "automargin": true,
           "gridcolor": "white",
           "linecolor": "white",
           "ticks": "",
           "title": {
            "standoff": 15
           },
           "zerolinecolor": "white",
           "zerolinewidth": 2
          },
          "yaxis": {
           "automargin": true,
           "gridcolor": "white",
           "linecolor": "white",
           "ticks": "",
           "title": {
            "standoff": 15
           },
           "zerolinecolor": "white",
           "zerolinewidth": 2
          }
         }
        },
        "title": {
         "text": "pbmc_CEL-Seq to pbmc_Drop-Seq matching cost"
        },
        "xaxis": {
         "anchor": "y",
         "constrain": "domain",
         "domain": [
          0,
          1
         ],
         "scaleanchor": "y",
         "tickangle": -90,
         "title": {
          "text": "Reference: pbmc_Drop-Seq"
         }
        },
        "yaxis": {
         "anchor": "x",
         "autorange": "reversed",
         "constrain": "domain",
         "domain": [
          0,
          1
         ],
         "title": {
          "text": "Query: pbmc_CEL-Seq"
         }
        }
       }
      }
     },
     "metadata": {},
     "output_type": "display_data"
    }
   ],
   "source": [
    "q, ref = 'pbmc_CEL-Seq', 'pbmc_Drop-Seq'\n",
    "\n",
    "rcm = RefCM(cache_load=False, cache_save=False)\n",
    "rcm.setref(ds[ref], ref, 'labels')\n",
    "m = rcm.annotate(ds[q], q, 'labels')\n",
    "m.eval('labels')\n",
    "m.display_matching_costs('labels')"
   ]
  },
  {
   "cell_type": "code",
   "execution_count": null,
   "metadata": {},
   "outputs": [
    {
     "name": "stderr",
     "output_type": "stream",
     "text": [
      "[refcm           ] [INFO    ] : NOTE: raw counts expected in anndata .X attributes.\n",
      "[refcm           ] [DEBUG   ] : Loading cached mapping costs from cache.json.\n"
     ]
    }
   ],
   "source": [
    "q, ref = 'pbmc_10Xv2', 'pbmc_CEL-Seq'\n",
    "\n",
    "from embeddings import PCAEmbedder\n",
    "\n",
    "pca = PCAEmbedder()\n",
    "\n",
    "rcm = RefCM(cache_load=False, cache_save=False, embedder=pca)\n",
    "rcm.setref(ds[ref], ref, 'labels')\n",
    "m = rcm.annotate(ds[q], q, 'labels')\n",
    "m.eval('labels')\n",
    "m.display_matching_costs('labels')"
   ]
  },
  {
   "cell_type": "code",
   "execution_count": null,
   "metadata": {},
   "outputs": [
    {
     "name": "stderr",
     "output_type": "stream",
     "text": [
      "[refcm           ] [INFO    ] : NOTE: raw counts expected in anndata .X attributes.\n",
      "[refcm           ] [DEBUG   ] : Loading cached mapping costs from cache.json.\n",
      "[refcm           ] [DEBUG   ] : Using costs for pbmc_10Xv2->pbmc_10Xv3 found in cache.\n",
      "[refcm           ] [DEBUG   ] : starting LP optimization\n",
      "[refcm           ] [DEBUG   ] : optimization terminated w. status \"Optimal\"\n",
      "[matchings       ] [DEBUG   ] : \u001b[32m[+]\u001b[0m B cell               mapped to B cell              \n",
      "[matchings       ] [DEBUG   ] : \u001b[32m[+]\u001b[0m CD14+ monocyte       mapped to CD14+ monocyte      \n",
      "[matchings       ] [DEBUG   ] : \u001b[32m[+]\u001b[0m CD16+ monocyte       mapped to CD16+ monocyte      \n",
      "[matchings       ] [DEBUG   ] : \u001b[32m[+]\u001b[0m CD4+ T cell          mapped to CD4+ T cell         \n",
      "[matchings       ] [DEBUG   ] : \u001b[32m[+]\u001b[0m Cytotoxic T cell     mapped to Cytotoxic T cell    \n",
      "[matchings       ] [DEBUG   ] : \u001b[32m[+]\u001b[0m Dendritic cell       mapped to Dendritic cell      \n",
      "[matchings       ] [DEBUG   ] : \u001b[32m[+]\u001b[0m Megakaryocyte        mapped to Megakaryocyte       \n",
      "[matchings       ] [DEBUG   ] : \u001b[32m[+]\u001b[0m Natural killer cell  mapped to Natural killer cell \n",
      "[matchings       ] [INFO    ] : pbmc_10Xv2           to pbmc_10Xv3          \n",
      "[matchings       ] [INFO    ] : 8     common cell types\n",
      "[matchings       ] [INFO    ] : 8 /8  correct   links\n",
      "[matchings       ] [INFO    ] : 0     incorrect links\n",
      "[refcm           ] [DEBUG   ] : Using costs for pbmc_10Xv2->pbmc_CEL-Seq found in cache.\n",
      "[refcm           ] [DEBUG   ] : starting LP optimization\n",
      "[refcm           ] [DEBUG   ] : optimization terminated w. status \"Optimal\"\n",
      "[matchings       ] [DEBUG   ] : \u001b[32m[+]\u001b[0m B cell               mapped to B cell              \n",
      "[matchings       ] [DEBUG   ] : \u001b[32m[+]\u001b[0m CD14+ monocyte       mapped to CD14+ monocyte      \n",
      "[matchings       ] [DEBUG   ] : \u001b[32m[+]\u001b[0m CD16+ monocyte       mapped to CD16+ monocyte      \n",
      "[matchings       ] [DEBUG   ] : \u001b[32m[+]\u001b[0m CD4+ T cell          mapped to CD4+ T cell         \n",
      "[matchings       ] [DEBUG   ] : \u001b[32m[+]\u001b[0m Cytotoxic T cell     mapped to Cytotoxic T cell    \n",
      "[matchings       ] [DEBUG   ] : \u001b[31m[-]\u001b[0m Dendritic cell       mapped to Natural killer cell \n",
      "[matchings       ] [DEBUG   ] : \u001b[32m[+]\u001b[0m Megakaryocyte        mapped to Megakaryocyte       \n",
      "[matchings       ] [INFO    ] : pbmc_10Xv2           to pbmc_CEL-Seq        \n",
      "[matchings       ] [INFO    ] : 7     common cell types\n",
      "[matchings       ] [INFO    ] : 6 /7  correct   links\n",
      "[matchings       ] [INFO    ] : 1     incorrect links\n",
      "[refcm           ] [DEBUG   ] : Using costs for pbmc_10Xv2->pbmc_Drop-Seq found in cache.\n",
      "[refcm           ] [DEBUG   ] : starting LP optimization\n",
      "[refcm           ] [DEBUG   ] : optimization terminated w. status \"Optimal\"\n",
      "[matchings       ] [DEBUG   ] : \u001b[32m[+]\u001b[0m B cell               mapped to B cell              \n",
      "[matchings       ] [DEBUG   ] : \u001b[32m[+]\u001b[0m CD14+ monocyte       mapped to CD14+ monocyte      \n",
      "[matchings       ] [DEBUG   ] : \u001b[32m[+]\u001b[0m CD16+ monocyte       mapped to CD16+ monocyte      \n",
      "[matchings       ] [DEBUG   ] : \u001b[32m[+]\u001b[0m CD4+ T cell          mapped to CD4+ T cell         \n",
      "[matchings       ] [DEBUG   ] : \u001b[32m[+]\u001b[0m Cytotoxic T cell     mapped to Cytotoxic T cell    \n",
      "[matchings       ] [DEBUG   ] : \u001b[32m[+]\u001b[0m Dendritic cell       mapped to Dendritic cell      \n",
      "[matchings       ] [DEBUG   ] : \u001b[32m[+]\u001b[0m Megakaryocyte        mapped to Megakaryocyte       \n",
      "[matchings       ] [DEBUG   ] : \u001b[32m[+]\u001b[0m Natural killer cell  mapped to Natural killer cell \n",
      "[matchings       ] [DEBUG   ] : \u001b[32m[+]\u001b[0m Plasmacytoid dendritic cell mapped to Plasmacytoid dendritic cell\n",
      "[matchings       ] [INFO    ] : pbmc_10Xv2           to pbmc_Drop-Seq       \n",
      "[matchings       ] [INFO    ] : 9     common cell types\n",
      "[matchings       ] [INFO    ] : 9 /9  correct   links\n",
      "[matchings       ] [INFO    ] : 0     incorrect links\n",
      "[refcm           ] [DEBUG   ] : Using costs for pbmc_10Xv2->pbmc_inDrop found in cache.\n",
      "[refcm           ] [DEBUG   ] : starting LP optimization\n",
      "[refcm           ] [DEBUG   ] : optimization terminated w. status \"Optimal\"\n",
      "[matchings       ] [DEBUG   ] : \u001b[32m[+]\u001b[0m B cell               mapped to B cell              \n",
      "[matchings       ] [DEBUG   ] : \u001b[32m[+]\u001b[0m CD14+ monocyte       mapped to CD14+ monocyte      \n",
      "[matchings       ] [DEBUG   ] : \u001b[32m[+]\u001b[0m CD16+ monocyte       mapped to CD16+ monocyte      \n",
      "[matchings       ] [DEBUG   ] : \u001b[32m[+]\u001b[0m CD4+ T cell          mapped to CD4+ T cell         \n",
      "[matchings       ] [DEBUG   ] : \u001b[32m[+]\u001b[0m Cytotoxic T cell     mapped to Cytotoxic T cell    \n",
      "[matchings       ] [DEBUG   ] : \u001b[32m[+]\u001b[0m Megakaryocyte        mapped to Megakaryocyte       \n",
      "[matchings       ] [DEBUG   ] : \u001b[32m[+]\u001b[0m Plasmacytoid dendritic cell mapped to Plasmacytoid dendritic cell\n",
      "[matchings       ] [INFO    ] : pbmc_10Xv2           to pbmc_inDrop         \n",
      "[matchings       ] [INFO    ] : 7     common cell types\n",
      "[matchings       ] [INFO    ] : 7 /7  correct   links\n",
      "[matchings       ] [INFO    ] : 0     incorrect links\n",
      "[refcm           ] [DEBUG   ] : Using costs for pbmc_10Xv2->pbmc_Seq-Well found in cache.\n",
      "[refcm           ] [DEBUG   ] : starting LP optimization\n",
      "[refcm           ] [DEBUG   ] : optimization terminated w. status \"Optimal\"\n",
      "[matchings       ] [DEBUG   ] : \u001b[32m[+]\u001b[0m B cell               mapped to B cell              \n",
      "[matchings       ] [DEBUG   ] : \u001b[32m[+]\u001b[0m CD14+ monocyte       mapped to CD14+ monocyte      \n",
      "[matchings       ] [DEBUG   ] : \u001b[32m[+]\u001b[0m CD4+ T cell          mapped to CD4+ T cell         \n",
      "[matchings       ] [DEBUG   ] : \u001b[32m[+]\u001b[0m Cytotoxic T cell     mapped to Cytotoxic T cell    \n",
      "[matchings       ] [DEBUG   ] : \u001b[32m[+]\u001b[0m Dendritic cell       mapped to Dendritic cell      \n",
      "[matchings       ] [DEBUG   ] : \u001b[32m[+]\u001b[0m Megakaryocyte        mapped to Megakaryocyte       \n",
      "[matchings       ] [DEBUG   ] : \u001b[32m[+]\u001b[0m Plasmacytoid dendritic cell mapped to Plasmacytoid dendritic cell\n",
      "[matchings       ] [INFO    ] : pbmc_10Xv2           to pbmc_Seq-Well       \n",
      "[matchings       ] [INFO    ] : 7     common cell types\n",
      "[matchings       ] [INFO    ] : 7 /7  correct   links\n",
      "[matchings       ] [INFO    ] : 0     incorrect links\n",
      "[refcm           ] [DEBUG   ] : Using costs for pbmc_10Xv2->pbmc_Smart-Seq2 found in cache.\n",
      "[refcm           ] [DEBUG   ] : starting LP optimization\n",
      "[refcm           ] [DEBUG   ] : optimization terminated w. status \"Optimal\"\n",
      "[matchings       ] [DEBUG   ] : \u001b[32m[+]\u001b[0m B cell               mapped to B cell              \n",
      "[matchings       ] [DEBUG   ] : \u001b[32m[+]\u001b[0m CD14+ monocyte       mapped to CD14+ monocyte      \n",
      "[matchings       ] [DEBUG   ] : \u001b[32m[+]\u001b[0m CD16+ monocyte       mapped to CD16+ monocyte      \n",
      "[matchings       ] [DEBUG   ] : \u001b[32m[+]\u001b[0m CD4+ T cell          mapped to CD4+ T cell         \n",
      "[matchings       ] [DEBUG   ] : \u001b[32m[+]\u001b[0m Cytotoxic T cell     mapped to Cytotoxic T cell    \n",
      "[matchings       ] [DEBUG   ] : \u001b[32m[+]\u001b[0m Megakaryocyte        mapped to Megakaryocyte       \n",
      "[matchings       ] [INFO    ] : pbmc_10Xv2           to pbmc_Smart-Seq2     \n",
      "[matchings       ] [INFO    ] : 6     common cell types\n",
      "[matchings       ] [INFO    ] : 6 /6  correct   links\n",
      "[matchings       ] [INFO    ] : 0     incorrect links\n",
      "[refcm           ] [DEBUG   ] : Using costs for pbmc_10Xv3->pbmc_10Xv2 found in cache.\n",
      "[refcm           ] [DEBUG   ] : starting LP optimization\n",
      "[refcm           ] [DEBUG   ] : optimization terminated w. status \"Optimal\"\n",
      "[matchings       ] [DEBUG   ] : \u001b[32m[+]\u001b[0m B cell               mapped to B cell              \n",
      "[matchings       ] [DEBUG   ] : \u001b[32m[+]\u001b[0m CD14+ monocyte       mapped to CD14+ monocyte      \n",
      "[matchings       ] [DEBUG   ] : \u001b[32m[+]\u001b[0m CD16+ monocyte       mapped to CD16+ monocyte      \n",
      "[matchings       ] [DEBUG   ] : \u001b[32m[+]\u001b[0m CD4+ T cell          mapped to CD4+ T cell         \n",
      "[matchings       ] [DEBUG   ] : \u001b[32m[+]\u001b[0m Cytotoxic T cell     mapped to Cytotoxic T cell    \n",
      "[matchings       ] [DEBUG   ] : \u001b[32m[+]\u001b[0m Dendritic cell       mapped to Dendritic cell      \n",
      "[matchings       ] [DEBUG   ] : \u001b[32m[+]\u001b[0m Megakaryocyte        mapped to Megakaryocyte       \n",
      "[matchings       ] [DEBUG   ] : \u001b[32m[+]\u001b[0m Natural killer cell  mapped to Natural killer cell \n",
      "[matchings       ] [INFO    ] : pbmc_10Xv3           to pbmc_10Xv2          \n",
      "[matchings       ] [INFO    ] : 8     common cell types\n",
      "[matchings       ] [INFO    ] : 8 /8  correct   links\n",
      "[matchings       ] [INFO    ] : 0     incorrect links\n",
      "[refcm           ] [DEBUG   ] : Using costs for pbmc_10Xv3->pbmc_CEL-Seq found in cache.\n",
      "[refcm           ] [DEBUG   ] : starting LP optimization\n",
      "[refcm           ] [DEBUG   ] : optimization terminated w. status \"Optimal\"\n",
      "[matchings       ] [DEBUG   ] : \u001b[32m[+]\u001b[0m B cell               mapped to B cell              \n",
      "[matchings       ] [DEBUG   ] : \u001b[32m[+]\u001b[0m CD14+ monocyte       mapped to CD14+ monocyte      \n",
      "[matchings       ] [DEBUG   ] : \u001b[32m[+]\u001b[0m CD16+ monocyte       mapped to CD16+ monocyte      \n",
      "[matchings       ] [DEBUG   ] : \u001b[32m[+]\u001b[0m CD4+ T cell          mapped to CD4+ T cell         \n",
      "[matchings       ] [DEBUG   ] : \u001b[32m[+]\u001b[0m Cytotoxic T cell     mapped to Cytotoxic T cell    \n",
      "[matchings       ] [DEBUG   ] : \u001b[32m[+]\u001b[0m Megakaryocyte        mapped to Megakaryocyte       \n",
      "[matchings       ] [DEBUG   ] : \u001b[32m[+]\u001b[0m Natural killer cell  mapped to Natural killer cell \n",
      "[matchings       ] [INFO    ] : pbmc_10Xv3           to pbmc_CEL-Seq        \n",
      "[matchings       ] [INFO    ] : 7     common cell types\n",
      "[matchings       ] [INFO    ] : 7 /7  correct   links\n",
      "[matchings       ] [INFO    ] : 0     incorrect links\n",
      "[refcm           ] [DEBUG   ] : Using costs for pbmc_10Xv3->pbmc_Drop-Seq found in cache.\n",
      "[refcm           ] [DEBUG   ] : starting LP optimization\n",
      "[refcm           ] [DEBUG   ] : optimization terminated w. status \"Optimal\"\n",
      "[matchings       ] [DEBUG   ] : \u001b[32m[+]\u001b[0m B cell               mapped to B cell              \n",
      "[matchings       ] [DEBUG   ] : \u001b[32m[+]\u001b[0m CD14+ monocyte       mapped to CD14+ monocyte      \n",
      "[matchings       ] [DEBUG   ] : \u001b[32m[+]\u001b[0m CD16+ monocyte       mapped to CD16+ monocyte      \n",
      "[matchings       ] [DEBUG   ] : \u001b[32m[+]\u001b[0m CD4+ T cell          mapped to CD4+ T cell         \n",
      "[matchings       ] [DEBUG   ] : \u001b[32m[+]\u001b[0m Cytotoxic T cell     mapped to Cytotoxic T cell    \n",
      "[matchings       ] [DEBUG   ] : \u001b[32m[+]\u001b[0m Dendritic cell       mapped to Dendritic cell      \n",
      "[matchings       ] [DEBUG   ] : \u001b[32m[+]\u001b[0m Megakaryocyte        mapped to Megakaryocyte       \n",
      "[matchings       ] [DEBUG   ] : \u001b[32m[+]\u001b[0m Natural killer cell  mapped to Natural killer cell \n",
      "[matchings       ] [INFO    ] : pbmc_10Xv3           to pbmc_Drop-Seq       \n",
      "[matchings       ] [INFO    ] : 8     common cell types\n",
      "[matchings       ] [INFO    ] : 8 /8  correct   links\n",
      "[matchings       ] [INFO    ] : 0     incorrect links\n",
      "[refcm           ] [DEBUG   ] : Using costs for pbmc_10Xv3->pbmc_inDrop found in cache.\n",
      "[refcm           ] [DEBUG   ] : starting LP optimization\n",
      "[refcm           ] [DEBUG   ] : optimization terminated w. status \"Optimal\"\n",
      "[matchings       ] [DEBUG   ] : \u001b[32m[+]\u001b[0m B cell               mapped to B cell              \n",
      "[matchings       ] [DEBUG   ] : \u001b[32m[+]\u001b[0m CD14+ monocyte       mapped to CD14+ monocyte      \n",
      "[matchings       ] [DEBUG   ] : \u001b[32m[+]\u001b[0m CD16+ monocyte       mapped to CD16+ monocyte      \n",
      "[matchings       ] [DEBUG   ] : \u001b[32m[+]\u001b[0m CD4+ T cell          mapped to CD4+ T cell         \n",
      "[matchings       ] [DEBUG   ] : \u001b[32m[+]\u001b[0m Cytotoxic T cell     mapped to Cytotoxic T cell    \n",
      "[matchings       ] [DEBUG   ] : \u001b[31m[-]\u001b[0m Dendritic cell       mapped to Plasmacytoid dendritic cell\n",
      "[matchings       ] [DEBUG   ] : \u001b[32m[+]\u001b[0m Megakaryocyte        mapped to Megakaryocyte       \n",
      "[matchings       ] [INFO    ] : pbmc_10Xv3           to pbmc_inDrop         \n",
      "[matchings       ] [INFO    ] : 6     common cell types\n",
      "[matchings       ] [INFO    ] : 6 /6  correct   links\n",
      "[matchings       ] [INFO    ] : 1     incorrect links\n",
      "[refcm           ] [DEBUG   ] : Using costs for pbmc_10Xv3->pbmc_Seq-Well found in cache.\n",
      "[refcm           ] [DEBUG   ] : starting LP optimization\n",
      "[refcm           ] [DEBUG   ] : optimization terminated w. status \"Optimal\"\n",
      "[matchings       ] [DEBUG   ] : \u001b[32m[+]\u001b[0m B cell               mapped to B cell              \n",
      "[matchings       ] [DEBUG   ] : \u001b[32m[+]\u001b[0m CD14+ monocyte       mapped to CD14+ monocyte      \n",
      "[matchings       ] [DEBUG   ] : \u001b[32m[+]\u001b[0m CD4+ T cell          mapped to CD4+ T cell         \n",
      "[matchings       ] [DEBUG   ] : \u001b[32m[+]\u001b[0m Cytotoxic T cell     mapped to Cytotoxic T cell    \n",
      "[matchings       ] [DEBUG   ] : \u001b[32m[+]\u001b[0m Dendritic cell       mapped to Dendritic cell      \n",
      "[matchings       ] [DEBUG   ] : \u001b[32m[+]\u001b[0m Megakaryocyte        mapped to Megakaryocyte       \n",
      "[matchings       ] [INFO    ] : pbmc_10Xv3           to pbmc_Seq-Well       \n",
      "[matchings       ] [INFO    ] : 6     common cell types\n",
      "[matchings       ] [INFO    ] : 6 /6  correct   links\n",
      "[matchings       ] [INFO    ] : 0     incorrect links\n",
      "[refcm           ] [DEBUG   ] : Using costs for pbmc_10Xv3->pbmc_Smart-Seq2 found in cache.\n",
      "[refcm           ] [DEBUG   ] : starting LP optimization\n",
      "[refcm           ] [DEBUG   ] : optimization terminated w. status \"Optimal\"\n",
      "[matchings       ] [DEBUG   ] : \u001b[32m[+]\u001b[0m B cell               mapped to B cell              \n",
      "[matchings       ] [DEBUG   ] : \u001b[32m[+]\u001b[0m CD14+ monocyte       mapped to CD14+ monocyte      \n",
      "[matchings       ] [DEBUG   ] : \u001b[32m[+]\u001b[0m CD16+ monocyte       mapped to CD16+ monocyte      \n",
      "[matchings       ] [DEBUG   ] : \u001b[32m[+]\u001b[0m CD4+ T cell          mapped to CD4+ T cell         \n",
      "[matchings       ] [DEBUG   ] : \u001b[32m[+]\u001b[0m Cytotoxic T cell     mapped to Cytotoxic T cell    \n",
      "[matchings       ] [DEBUG   ] : \u001b[32m[+]\u001b[0m Megakaryocyte        mapped to Megakaryocyte       \n",
      "[matchings       ] [INFO    ] : pbmc_10Xv3           to pbmc_Smart-Seq2     \n",
      "[matchings       ] [INFO    ] : 6     common cell types\n",
      "[matchings       ] [INFO    ] : 6 /6  correct   links\n",
      "[matchings       ] [INFO    ] : 0     incorrect links\n",
      "[refcm           ] [DEBUG   ] : Using costs for pbmc_CEL-Seq->pbmc_10Xv2 found in cache.\n",
      "[refcm           ] [DEBUG   ] : starting LP optimization\n",
      "[refcm           ] [DEBUG   ] : optimization terminated w. status \"Optimal\"\n",
      "[matchings       ] [DEBUG   ] : \u001b[32m[+]\u001b[0m B cell               mapped to B cell              \n",
      "[matchings       ] [DEBUG   ] : \u001b[32m[+]\u001b[0m CD14+ monocyte       mapped to CD14+ monocyte      \n",
      "[matchings       ] [DEBUG   ] : \u001b[32m[+]\u001b[0m CD16+ monocyte       mapped to CD16+ monocyte      \n",
      "[matchings       ] [DEBUG   ] : \u001b[32m[+]\u001b[0m CD4+ T cell          mapped to CD4+ T cell         \n",
      "[matchings       ] [DEBUG   ] : \u001b[32m[+]\u001b[0m Cytotoxic T cell     mapped to Cytotoxic T cell    \n",
      "[matchings       ] [DEBUG   ] : \u001b[32m[+]\u001b[0m Megakaryocyte        mapped to Megakaryocyte       \n",
      "[matchings       ] [DEBUG   ] : \u001b[31m[-]\u001b[0m Natural killer cell  mapped to Dendritic cell      \n",
      "[matchings       ] [INFO    ] : pbmc_CEL-Seq         to pbmc_10Xv2          \n",
      "[matchings       ] [INFO    ] : 7     common cell types\n",
      "[matchings       ] [INFO    ] : 6 /7  correct   links\n",
      "[matchings       ] [INFO    ] : 1     incorrect links\n",
      "[refcm           ] [DEBUG   ] : Using costs for pbmc_CEL-Seq->pbmc_10Xv3 found in cache.\n",
      "[refcm           ] [DEBUG   ] : starting LP optimization\n",
      "[refcm           ] [DEBUG   ] : optimization terminated w. status \"Optimal\"\n",
      "[matchings       ] [DEBUG   ] : \u001b[32m[+]\u001b[0m B cell               mapped to B cell              \n",
      "[matchings       ] [DEBUG   ] : \u001b[32m[+]\u001b[0m CD14+ monocyte       mapped to CD14+ monocyte      \n",
      "[matchings       ] [DEBUG   ] : \u001b[32m[+]\u001b[0m CD16+ monocyte       mapped to CD16+ monocyte      \n",
      "[matchings       ] [DEBUG   ] : \u001b[32m[+]\u001b[0m CD4+ T cell          mapped to CD4+ T cell         \n",
      "[matchings       ] [DEBUG   ] : \u001b[32m[+]\u001b[0m Cytotoxic T cell     mapped to Cytotoxic T cell    \n",
      "[matchings       ] [DEBUG   ] : \u001b[32m[+]\u001b[0m Megakaryocyte        mapped to Megakaryocyte       \n",
      "[matchings       ] [DEBUG   ] : \u001b[32m[+]\u001b[0m Natural killer cell  mapped to Natural killer cell \n",
      "[matchings       ] [INFO    ] : pbmc_CEL-Seq         to pbmc_10Xv3          \n",
      "[matchings       ] [INFO    ] : 7     common cell types\n",
      "[matchings       ] [INFO    ] : 7 /7  correct   links\n",
      "[matchings       ] [INFO    ] : 0     incorrect links\n",
      "[refcm           ] [DEBUG   ] : Using costs for pbmc_CEL-Seq->pbmc_Drop-Seq found in cache.\n",
      "[refcm           ] [DEBUG   ] : starting LP optimization\n",
      "[refcm           ] [DEBUG   ] : optimization terminated w. status \"Optimal\"\n",
      "[matchings       ] [DEBUG   ] : \u001b[32m[+]\u001b[0m B cell               mapped to B cell              \n",
      "[matchings       ] [DEBUG   ] : \u001b[32m[+]\u001b[0m CD14+ monocyte       mapped to CD14+ monocyte      \n",
      "[matchings       ] [DEBUG   ] : \u001b[32m[+]\u001b[0m CD16+ monocyte       mapped to CD16+ monocyte      \n",
      "[matchings       ] [DEBUG   ] : \u001b[32m[+]\u001b[0m CD4+ T cell          mapped to CD4+ T cell         \n",
      "[matchings       ] [DEBUG   ] : \u001b[32m[+]\u001b[0m Cytotoxic T cell     mapped to Cytotoxic T cell    \n",
      "[matchings       ] [DEBUG   ] : \u001b[32m[+]\u001b[0m Megakaryocyte        mapped to Megakaryocyte       \n",
      "[matchings       ] [DEBUG   ] : \u001b[32m[+]\u001b[0m Natural killer cell  mapped to Natural killer cell \n",
      "[matchings       ] [INFO    ] : pbmc_CEL-Seq         to pbmc_Drop-Seq       \n",
      "[matchings       ] [INFO    ] : 7     common cell types\n",
      "[matchings       ] [INFO    ] : 7 /7  correct   links\n",
      "[matchings       ] [INFO    ] : 0     incorrect links\n",
      "[refcm           ] [DEBUG   ] : Using costs for pbmc_CEL-Seq->pbmc_inDrop found in cache.\n",
      "[refcm           ] [DEBUG   ] : starting LP optimization\n",
      "[refcm           ] [DEBUG   ] : optimization terminated w. status \"Optimal\"\n",
      "[matchings       ] [DEBUG   ] : \u001b[32m[+]\u001b[0m B cell               mapped to B cell              \n",
      "[matchings       ] [DEBUG   ] : \u001b[32m[+]\u001b[0m CD14+ monocyte       mapped to CD14+ monocyte      \n",
      "[matchings       ] [DEBUG   ] : \u001b[32m[+]\u001b[0m CD16+ monocyte       mapped to CD16+ monocyte      \n",
      "[matchings       ] [DEBUG   ] : \u001b[32m[+]\u001b[0m CD4+ T cell          mapped to CD4+ T cell         \n",
      "[matchings       ] [DEBUG   ] : \u001b[32m[+]\u001b[0m Cytotoxic T cell     mapped to Cytotoxic T cell    \n",
      "[matchings       ] [DEBUG   ] : \u001b[32m[+]\u001b[0m Megakaryocyte        mapped to Megakaryocyte       \n",
      "[matchings       ] [INFO    ] : pbmc_CEL-Seq         to pbmc_inDrop         \n",
      "[matchings       ] [INFO    ] : 6     common cell types\n",
      "[matchings       ] [INFO    ] : 6 /6  correct   links\n",
      "[matchings       ] [INFO    ] : 0     incorrect links\n",
      "[refcm           ] [DEBUG   ] : Using costs for pbmc_CEL-Seq->pbmc_Seq-Well found in cache.\n",
      "[refcm           ] [DEBUG   ] : starting LP optimization\n",
      "[refcm           ] [DEBUG   ] : optimization terminated w. status \"Optimal\"\n",
      "[matchings       ] [DEBUG   ] : \u001b[32m[+]\u001b[0m B cell               mapped to B cell              \n",
      "[matchings       ] [DEBUG   ] : \u001b[32m[+]\u001b[0m CD14+ monocyte       mapped to CD14+ monocyte      \n",
      "[matchings       ] [DEBUG   ] : \u001b[31m[-]\u001b[0m CD16+ monocyte       mapped to Dendritic cell      \n",
      "[matchings       ] [DEBUG   ] : \u001b[32m[+]\u001b[0m CD4+ T cell          mapped to CD4+ T cell         \n",
      "[matchings       ] [DEBUG   ] : \u001b[32m[+]\u001b[0m Cytotoxic T cell     mapped to Cytotoxic T cell    \n",
      "[matchings       ] [DEBUG   ] : \u001b[32m[+]\u001b[0m Megakaryocyte        mapped to Megakaryocyte       \n",
      "[matchings       ] [INFO    ] : pbmc_CEL-Seq         to pbmc_Seq-Well       \n",
      "[matchings       ] [INFO    ] : 5     common cell types\n",
      "[matchings       ] [INFO    ] : 5 /5  correct   links\n",
      "[matchings       ] [INFO    ] : 1     incorrect links\n",
      "[refcm           ] [DEBUG   ] : Using costs for pbmc_CEL-Seq->pbmc_Smart-Seq2 found in cache.\n",
      "[refcm           ] [DEBUG   ] : starting LP optimization\n",
      "[refcm           ] [DEBUG   ] : optimization terminated w. status \"Optimal\"\n",
      "[matchings       ] [DEBUG   ] : \u001b[32m[+]\u001b[0m B cell               mapped to B cell              \n",
      "[matchings       ] [DEBUG   ] : \u001b[32m[+]\u001b[0m CD14+ monocyte       mapped to CD14+ monocyte      \n",
      "[matchings       ] [DEBUG   ] : \u001b[32m[+]\u001b[0m CD16+ monocyte       mapped to CD16+ monocyte      \n",
      "[matchings       ] [DEBUG   ] : \u001b[32m[+]\u001b[0m CD4+ T cell          mapped to CD4+ T cell         \n",
      "[matchings       ] [DEBUG   ] : \u001b[32m[+]\u001b[0m Cytotoxic T cell     mapped to Cytotoxic T cell    \n",
      "[matchings       ] [DEBUG   ] : \u001b[32m[+]\u001b[0m Megakaryocyte        mapped to Megakaryocyte       \n",
      "[matchings       ] [INFO    ] : pbmc_CEL-Seq         to pbmc_Smart-Seq2     \n",
      "[matchings       ] [INFO    ] : 6     common cell types\n",
      "[matchings       ] [INFO    ] : 6 /6  correct   links\n",
      "[matchings       ] [INFO    ] : 0     incorrect links\n",
      "[refcm           ] [DEBUG   ] : Using costs for pbmc_Drop-Seq->pbmc_10Xv2 found in cache.\n",
      "[refcm           ] [DEBUG   ] : starting LP optimization\n",
      "[refcm           ] [DEBUG   ] : optimization terminated w. status \"Optimal\"\n",
      "[matchings       ] [DEBUG   ] : \u001b[32m[+]\u001b[0m B cell               mapped to B cell              \n",
      "[matchings       ] [DEBUG   ] : \u001b[32m[+]\u001b[0m CD14+ monocyte       mapped to CD14+ monocyte      \n",
      "[matchings       ] [DEBUG   ] : \u001b[32m[+]\u001b[0m CD16+ monocyte       mapped to CD16+ monocyte      \n",
      "[matchings       ] [DEBUG   ] : \u001b[32m[+]\u001b[0m CD4+ T cell          mapped to CD4+ T cell         \n",
      "[matchings       ] [DEBUG   ] : \u001b[32m[+]\u001b[0m Cytotoxic T cell     mapped to Cytotoxic T cell    \n",
      "[matchings       ] [DEBUG   ] : \u001b[32m[+]\u001b[0m Dendritic cell       mapped to Dendritic cell      \n",
      "[matchings       ] [DEBUG   ] : \u001b[32m[+]\u001b[0m Megakaryocyte        mapped to Megakaryocyte       \n",
      "[matchings       ] [DEBUG   ] : \u001b[32m[+]\u001b[0m Natural killer cell  mapped to Natural killer cell \n",
      "[matchings       ] [DEBUG   ] : \u001b[32m[+]\u001b[0m Plasmacytoid dendritic cell mapped to Plasmacytoid dendritic cell\n",
      "[matchings       ] [INFO    ] : pbmc_Drop-Seq        to pbmc_10Xv2          \n",
      "[matchings       ] [INFO    ] : 9     common cell types\n",
      "[matchings       ] [INFO    ] : 9 /9  correct   links\n",
      "[matchings       ] [INFO    ] : 0     incorrect links\n",
      "[refcm           ] [DEBUG   ] : Using costs for pbmc_Drop-Seq->pbmc_10Xv3 found in cache.\n",
      "[refcm           ] [DEBUG   ] : starting LP optimization\n",
      "[refcm           ] [DEBUG   ] : optimization terminated w. status \"Optimal\"\n",
      "[matchings       ] [DEBUG   ] : \u001b[32m[+]\u001b[0m B cell               mapped to B cell              \n",
      "[matchings       ] [DEBUG   ] : \u001b[32m[+]\u001b[0m CD14+ monocyte       mapped to CD14+ monocyte      \n",
      "[matchings       ] [DEBUG   ] : \u001b[32m[+]\u001b[0m CD16+ monocyte       mapped to CD16+ monocyte      \n",
      "[matchings       ] [DEBUG   ] : \u001b[32m[+]\u001b[0m CD4+ T cell          mapped to CD4+ T cell         \n",
      "[matchings       ] [DEBUG   ] : \u001b[32m[+]\u001b[0m Cytotoxic T cell     mapped to Cytotoxic T cell    \n",
      "[matchings       ] [DEBUG   ] : \u001b[32m[+]\u001b[0m Dendritic cell       mapped to Dendritic cell      \n",
      "[matchings       ] [DEBUG   ] : \u001b[32m[+]\u001b[0m Megakaryocyte        mapped to Megakaryocyte       \n",
      "[matchings       ] [DEBUG   ] : \u001b[32m[+]\u001b[0m Natural killer cell  mapped to Natural killer cell \n",
      "[matchings       ] [INFO    ] : pbmc_Drop-Seq        to pbmc_10Xv3          \n",
      "[matchings       ] [INFO    ] : 8     common cell types\n",
      "[matchings       ] [INFO    ] : 8 /8  correct   links\n",
      "[matchings       ] [INFO    ] : 0     incorrect links\n",
      "[refcm           ] [DEBUG   ] : Using costs for pbmc_Drop-Seq->pbmc_CEL-Seq found in cache.\n",
      "[refcm           ] [DEBUG   ] : starting LP optimization\n",
      "[refcm           ] [DEBUG   ] : optimization terminated w. status \"Optimal\"\n",
      "[matchings       ] [DEBUG   ] : \u001b[32m[+]\u001b[0m B cell               mapped to B cell              \n",
      "[matchings       ] [DEBUG   ] : \u001b[32m[+]\u001b[0m CD14+ monocyte       mapped to CD14+ monocyte      \n",
      "[matchings       ] [DEBUG   ] : \u001b[32m[+]\u001b[0m CD16+ monocyte       mapped to CD16+ monocyte      \n",
      "[matchings       ] [DEBUG   ] : \u001b[32m[+]\u001b[0m CD4+ T cell          mapped to CD4+ T cell         \n",
      "[matchings       ] [DEBUG   ] : \u001b[32m[+]\u001b[0m Cytotoxic T cell     mapped to Cytotoxic T cell    \n",
      "[matchings       ] [DEBUG   ] : \u001b[32m[+]\u001b[0m Megakaryocyte        mapped to Megakaryocyte       \n",
      "[matchings       ] [DEBUG   ] : \u001b[32m[+]\u001b[0m Natural killer cell  mapped to Natural killer cell \n",
      "[matchings       ] [INFO    ] : pbmc_Drop-Seq        to pbmc_CEL-Seq        \n",
      "[matchings       ] [INFO    ] : 7     common cell types\n",
      "[matchings       ] [INFO    ] : 7 /7  correct   links\n",
      "[matchings       ] [INFO    ] : 0     incorrect links\n",
      "[refcm           ] [DEBUG   ] : Using costs for pbmc_Drop-Seq->pbmc_inDrop found in cache.\n",
      "[refcm           ] [DEBUG   ] : starting LP optimization\n",
      "[refcm           ] [DEBUG   ] : optimization terminated w. status \"Optimal\"\n",
      "[matchings       ] [DEBUG   ] : \u001b[32m[+]\u001b[0m B cell               mapped to B cell              \n",
      "[matchings       ] [DEBUG   ] : \u001b[32m[+]\u001b[0m CD14+ monocyte       mapped to CD14+ monocyte      \n",
      "[matchings       ] [DEBUG   ] : \u001b[32m[+]\u001b[0m CD16+ monocyte       mapped to CD16+ monocyte      \n",
      "[matchings       ] [DEBUG   ] : \u001b[32m[+]\u001b[0m CD4+ T cell          mapped to CD4+ T cell         \n",
      "[matchings       ] [DEBUG   ] : \u001b[32m[+]\u001b[0m Cytotoxic T cell     mapped to Cytotoxic T cell    \n",
      "[matchings       ] [DEBUG   ] : \u001b[32m[+]\u001b[0m Megakaryocyte        mapped to Megakaryocyte       \n",
      "[matchings       ] [DEBUG   ] : \u001b[32m[+]\u001b[0m Plasmacytoid dendritic cell mapped to Plasmacytoid dendritic cell\n",
      "[matchings       ] [INFO    ] : pbmc_Drop-Seq        to pbmc_inDrop         \n",
      "[matchings       ] [INFO    ] : 7     common cell types\n",
      "[matchings       ] [INFO    ] : 7 /7  correct   links\n",
      "[matchings       ] [INFO    ] : 0     incorrect links\n",
      "[refcm           ] [DEBUG   ] : Using costs for pbmc_Drop-Seq->pbmc_Seq-Well found in cache.\n",
      "[refcm           ] [DEBUG   ] : starting LP optimization\n",
      "[refcm           ] [DEBUG   ] : optimization terminated w. status \"Optimal\"\n",
      "[matchings       ] [DEBUG   ] : \u001b[32m[+]\u001b[0m B cell               mapped to B cell              \n",
      "[matchings       ] [DEBUG   ] : \u001b[32m[+]\u001b[0m CD14+ monocyte       mapped to CD14+ monocyte      \n",
      "[matchings       ] [DEBUG   ] : \u001b[32m[+]\u001b[0m CD4+ T cell          mapped to CD4+ T cell         \n",
      "[matchings       ] [DEBUG   ] : \u001b[32m[+]\u001b[0m Cytotoxic T cell     mapped to Cytotoxic T cell    \n",
      "[matchings       ] [DEBUG   ] : \u001b[32m[+]\u001b[0m Dendritic cell       mapped to Dendritic cell      \n",
      "[matchings       ] [DEBUG   ] : \u001b[32m[+]\u001b[0m Megakaryocyte        mapped to Megakaryocyte       \n",
      "[matchings       ] [DEBUG   ] : \u001b[32m[+]\u001b[0m Plasmacytoid dendritic cell mapped to Plasmacytoid dendritic cell\n",
      "[matchings       ] [INFO    ] : pbmc_Drop-Seq        to pbmc_Seq-Well       \n",
      "[matchings       ] [INFO    ] : 7     common cell types\n",
      "[matchings       ] [INFO    ] : 7 /7  correct   links\n",
      "[matchings       ] [INFO    ] : 0     incorrect links\n",
      "[refcm           ] [DEBUG   ] : Using costs for pbmc_Drop-Seq->pbmc_Smart-Seq2 found in cache.\n",
      "[refcm           ] [DEBUG   ] : starting LP optimization\n",
      "[refcm           ] [DEBUG   ] : optimization terminated w. status \"Optimal\"\n",
      "[matchings       ] [DEBUG   ] : \u001b[32m[+]\u001b[0m B cell               mapped to B cell              \n",
      "[matchings       ] [DEBUG   ] : \u001b[32m[+]\u001b[0m CD14+ monocyte       mapped to CD14+ monocyte      \n",
      "[matchings       ] [DEBUG   ] : \u001b[32m[+]\u001b[0m CD16+ monocyte       mapped to CD16+ monocyte      \n",
      "[matchings       ] [DEBUG   ] : \u001b[32m[+]\u001b[0m CD4+ T cell          mapped to CD4+ T cell         \n",
      "[matchings       ] [DEBUG   ] : \u001b[32m[+]\u001b[0m Cytotoxic T cell     mapped to Cytotoxic T cell    \n",
      "[matchings       ] [DEBUG   ] : \u001b[32m[+]\u001b[0m Megakaryocyte        mapped to Megakaryocyte       \n",
      "[matchings       ] [INFO    ] : pbmc_Drop-Seq        to pbmc_Smart-Seq2     \n",
      "[matchings       ] [INFO    ] : 6     common cell types\n",
      "[matchings       ] [INFO    ] : 6 /6  correct   links\n",
      "[matchings       ] [INFO    ] : 0     incorrect links\n",
      "[refcm           ] [DEBUG   ] : Using costs for pbmc_inDrop->pbmc_10Xv2 found in cache.\n",
      "[refcm           ] [DEBUG   ] : starting LP optimization\n",
      "[refcm           ] [DEBUG   ] : optimization terminated w. status \"Optimal\"\n",
      "[matchings       ] [DEBUG   ] : \u001b[32m[+]\u001b[0m B cell               mapped to B cell              \n",
      "[matchings       ] [DEBUG   ] : \u001b[32m[+]\u001b[0m CD14+ monocyte       mapped to CD14+ monocyte      \n",
      "[matchings       ] [DEBUG   ] : \u001b[32m[+]\u001b[0m CD16+ monocyte       mapped to CD16+ monocyte      \n",
      "[matchings       ] [DEBUG   ] : \u001b[32m[+]\u001b[0m CD4+ T cell          mapped to CD4+ T cell         \n",
      "[matchings       ] [DEBUG   ] : \u001b[32m[+]\u001b[0m Cytotoxic T cell     mapped to Cytotoxic T cell    \n",
      "[matchings       ] [DEBUG   ] : \u001b[32m[+]\u001b[0m Megakaryocyte        mapped to Megakaryocyte       \n",
      "[matchings       ] [DEBUG   ] : \u001b[32m[+]\u001b[0m Plasmacytoid dendritic cell mapped to Plasmacytoid dendritic cell\n",
      "[matchings       ] [INFO    ] : pbmc_inDrop          to pbmc_10Xv2          \n",
      "[matchings       ] [INFO    ] : 7     common cell types\n",
      "[matchings       ] [INFO    ] : 7 /7  correct   links\n",
      "[matchings       ] [INFO    ] : 0     incorrect links\n",
      "[refcm           ] [DEBUG   ] : Using costs for pbmc_inDrop->pbmc_10Xv3 found in cache.\n",
      "[refcm           ] [DEBUG   ] : starting LP optimization\n",
      "[refcm           ] [DEBUG   ] : optimization terminated w. status \"Optimal\"\n",
      "[matchings       ] [DEBUG   ] : \u001b[32m[+]\u001b[0m B cell               mapped to B cell              \n",
      "[matchings       ] [DEBUG   ] : \u001b[32m[+]\u001b[0m CD14+ monocyte       mapped to CD14+ monocyte      \n",
      "[matchings       ] [DEBUG   ] : \u001b[32m[+]\u001b[0m CD16+ monocyte       mapped to CD16+ monocyte      \n",
      "[matchings       ] [DEBUG   ] : \u001b[32m[+]\u001b[0m CD4+ T cell          mapped to CD4+ T cell         \n",
      "[matchings       ] [DEBUG   ] : \u001b[32m[+]\u001b[0m Cytotoxic T cell     mapped to Cytotoxic T cell    \n",
      "[matchings       ] [DEBUG   ] : \u001b[32m[+]\u001b[0m Megakaryocyte        mapped to Megakaryocyte       \n",
      "[matchings       ] [DEBUG   ] : \u001b[31m[-]\u001b[0m Plasmacytoid dendritic cell mapped to Dendritic cell      \n",
      "[matchings       ] [INFO    ] : pbmc_inDrop          to pbmc_10Xv3          \n",
      "[matchings       ] [INFO    ] : 6     common cell types\n",
      "[matchings       ] [INFO    ] : 6 /6  correct   links\n",
      "[matchings       ] [INFO    ] : 1     incorrect links\n",
      "[refcm           ] [DEBUG   ] : Using costs for pbmc_inDrop->pbmc_CEL-Seq found in cache.\n",
      "[refcm           ] [DEBUG   ] : starting LP optimization\n",
      "[refcm           ] [DEBUG   ] : optimization terminated w. status \"Optimal\"\n",
      "[matchings       ] [DEBUG   ] : \u001b[32m[+]\u001b[0m B cell               mapped to B cell              \n",
      "[matchings       ] [DEBUG   ] : \u001b[32m[+]\u001b[0m CD14+ monocyte       mapped to CD14+ monocyte      \n",
      "[matchings       ] [DEBUG   ] : \u001b[32m[+]\u001b[0m CD16+ monocyte       mapped to CD16+ monocyte      \n",
      "[matchings       ] [DEBUG   ] : \u001b[32m[+]\u001b[0m CD4+ T cell          mapped to CD4+ T cell         \n",
      "[matchings       ] [DEBUG   ] : \u001b[32m[+]\u001b[0m Cytotoxic T cell     mapped to Cytotoxic T cell    \n",
      "[matchings       ] [DEBUG   ] : \u001b[32m[+]\u001b[0m Megakaryocyte        mapped to Megakaryocyte       \n",
      "[matchings       ] [INFO    ] : pbmc_inDrop          to pbmc_CEL-Seq        \n",
      "[matchings       ] [INFO    ] : 6     common cell types\n",
      "[matchings       ] [INFO    ] : 6 /6  correct   links\n",
      "[matchings       ] [INFO    ] : 0     incorrect links\n",
      "[refcm           ] [DEBUG   ] : Using costs for pbmc_inDrop->pbmc_Drop-Seq found in cache.\n",
      "[refcm           ] [DEBUG   ] : starting LP optimization\n",
      "[refcm           ] [DEBUG   ] : optimization terminated w. status \"Optimal\"\n",
      "[matchings       ] [DEBUG   ] : \u001b[32m[+]\u001b[0m B cell               mapped to B cell              \n",
      "[matchings       ] [DEBUG   ] : \u001b[32m[+]\u001b[0m CD14+ monocyte       mapped to CD14+ monocyte      \n",
      "[matchings       ] [DEBUG   ] : \u001b[32m[+]\u001b[0m CD16+ monocyte       mapped to CD16+ monocyte      \n",
      "[matchings       ] [DEBUG   ] : \u001b[32m[+]\u001b[0m CD4+ T cell          mapped to CD4+ T cell         \n",
      "[matchings       ] [DEBUG   ] : \u001b[32m[+]\u001b[0m Cytotoxic T cell     mapped to Cytotoxic T cell    \n",
      "[matchings       ] [DEBUG   ] : \u001b[32m[+]\u001b[0m Megakaryocyte        mapped to Megakaryocyte       \n",
      "[matchings       ] [DEBUG   ] : \u001b[32m[+]\u001b[0m Plasmacytoid dendritic cell mapped to Plasmacytoid dendritic cell\n",
      "[matchings       ] [INFO    ] : pbmc_inDrop          to pbmc_Drop-Seq       \n",
      "[matchings       ] [INFO    ] : 7     common cell types\n",
      "[matchings       ] [INFO    ] : 7 /7  correct   links\n",
      "[matchings       ] [INFO    ] : 0     incorrect links\n",
      "[refcm           ] [DEBUG   ] : Using costs for pbmc_inDrop->pbmc_Seq-Well found in cache.\n",
      "[refcm           ] [DEBUG   ] : starting LP optimization\n",
      "[refcm           ] [DEBUG   ] : optimization terminated w. status \"Optimal\"\n",
      "[matchings       ] [DEBUG   ] : \u001b[32m[+]\u001b[0m B cell               mapped to B cell              \n",
      "[matchings       ] [DEBUG   ] : \u001b[32m[+]\u001b[0m CD14+ monocyte       mapped to CD14+ monocyte      \n",
      "[matchings       ] [DEBUG   ] : \u001b[31m[-]\u001b[0m CD16+ monocyte       mapped to Dendritic cell      \n",
      "[matchings       ] [DEBUG   ] : \u001b[32m[+]\u001b[0m CD4+ T cell          mapped to CD4+ T cell         \n",
      "[matchings       ] [DEBUG   ] : \u001b[32m[+]\u001b[0m Cytotoxic T cell     mapped to Cytotoxic T cell    \n",
      "[matchings       ] [DEBUG   ] : \u001b[32m[+]\u001b[0m Megakaryocyte        mapped to Megakaryocyte       \n",
      "[matchings       ] [DEBUG   ] : \u001b[32m[+]\u001b[0m Plasmacytoid dendritic cell mapped to Plasmacytoid dendritic cell\n",
      "[matchings       ] [INFO    ] : pbmc_inDrop          to pbmc_Seq-Well       \n",
      "[matchings       ] [INFO    ] : 6     common cell types\n",
      "[matchings       ] [INFO    ] : 6 /6  correct   links\n",
      "[matchings       ] [INFO    ] : 1     incorrect links\n",
      "[refcm           ] [DEBUG   ] : Using costs for pbmc_inDrop->pbmc_Smart-Seq2 found in cache.\n",
      "[refcm           ] [DEBUG   ] : starting LP optimization\n",
      "[refcm           ] [DEBUG   ] : optimization terminated w. status \"Optimal\"\n",
      "[matchings       ] [DEBUG   ] : \u001b[32m[+]\u001b[0m B cell               mapped to B cell              \n",
      "[matchings       ] [DEBUG   ] : \u001b[32m[+]\u001b[0m CD14+ monocyte       mapped to CD14+ monocyte      \n",
      "[matchings       ] [DEBUG   ] : \u001b[32m[+]\u001b[0m CD16+ monocyte       mapped to CD16+ monocyte      \n",
      "[matchings       ] [DEBUG   ] : \u001b[32m[+]\u001b[0m CD4+ T cell          mapped to CD4+ T cell         \n",
      "[matchings       ] [DEBUG   ] : \u001b[32m[+]\u001b[0m Cytotoxic T cell     mapped to Cytotoxic T cell    \n",
      "[matchings       ] [DEBUG   ] : \u001b[32m[+]\u001b[0m Megakaryocyte        mapped to Megakaryocyte       \n",
      "[matchings       ] [INFO    ] : pbmc_inDrop          to pbmc_Smart-Seq2     \n",
      "[matchings       ] [INFO    ] : 6     common cell types\n",
      "[matchings       ] [INFO    ] : 6 /6  correct   links\n",
      "[matchings       ] [INFO    ] : 0     incorrect links\n",
      "[refcm           ] [DEBUG   ] : Using costs for pbmc_Seq-Well->pbmc_10Xv2 found in cache.\n",
      "[refcm           ] [DEBUG   ] : starting LP optimization\n",
      "[refcm           ] [DEBUG   ] : optimization terminated w. status \"Optimal\"\n",
      "[matchings       ] [DEBUG   ] : \u001b[32m[+]\u001b[0m B cell               mapped to B cell              \n",
      "[matchings       ] [DEBUG   ] : \u001b[32m[+]\u001b[0m CD14+ monocyte       mapped to CD14+ monocyte      \n",
      "[matchings       ] [DEBUG   ] : \u001b[32m[+]\u001b[0m CD4+ T cell          mapped to CD4+ T cell         \n",
      "[matchings       ] [DEBUG   ] : \u001b[32m[+]\u001b[0m Cytotoxic T cell     mapped to Cytotoxic T cell    \n",
      "[matchings       ] [DEBUG   ] : \u001b[32m[+]\u001b[0m Dendritic cell       mapped to Dendritic cell      \n",
      "[matchings       ] [DEBUG   ] : \u001b[32m[+]\u001b[0m Megakaryocyte        mapped to Megakaryocyte       \n",
      "[matchings       ] [DEBUG   ] : \u001b[32m[+]\u001b[0m Plasmacytoid dendritic cell mapped to Plasmacytoid dendritic cell\n",
      "[matchings       ] [INFO    ] : pbmc_Seq-Well        to pbmc_10Xv2          \n",
      "[matchings       ] [INFO    ] : 7     common cell types\n",
      "[matchings       ] [INFO    ] : 7 /7  correct   links\n",
      "[matchings       ] [INFO    ] : 0     incorrect links\n",
      "[refcm           ] [DEBUG   ] : Using costs for pbmc_Seq-Well->pbmc_10Xv3 found in cache.\n",
      "[refcm           ] [DEBUG   ] : starting LP optimization\n",
      "[refcm           ] [DEBUG   ] : optimization terminated w. status \"Optimal\"\n",
      "[matchings       ] [DEBUG   ] : \u001b[32m[+]\u001b[0m B cell               mapped to B cell              \n",
      "[matchings       ] [DEBUG   ] : \u001b[32m[+]\u001b[0m CD14+ monocyte       mapped to CD14+ monocyte      \n",
      "[matchings       ] [DEBUG   ] : \u001b[32m[+]\u001b[0m CD4+ T cell          mapped to CD4+ T cell         \n",
      "[matchings       ] [DEBUG   ] : \u001b[32m[+]\u001b[0m Cytotoxic T cell     mapped to Cytotoxic T cell    \n",
      "[matchings       ] [DEBUG   ] : \u001b[32m[+]\u001b[0m Dendritic cell       mapped to Dendritic cell      \n",
      "[matchings       ] [DEBUG   ] : \u001b[32m[+]\u001b[0m Megakaryocyte        mapped to Megakaryocyte       \n",
      "[matchings       ] [INFO    ] : pbmc_Seq-Well        to pbmc_10Xv3          \n",
      "[matchings       ] [INFO    ] : 6     common cell types\n",
      "[matchings       ] [INFO    ] : 6 /6  correct   links\n",
      "[matchings       ] [INFO    ] : 0     incorrect links\n",
      "[refcm           ] [DEBUG   ] : Using costs for pbmc_Seq-Well->pbmc_CEL-Seq found in cache.\n",
      "[refcm           ] [DEBUG   ] : starting LP optimization\n",
      "[refcm           ] [DEBUG   ] : optimization terminated w. status \"Optimal\"\n",
      "[matchings       ] [DEBUG   ] : \u001b[32m[+]\u001b[0m B cell               mapped to B cell              \n",
      "[matchings       ] [DEBUG   ] : \u001b[32m[+]\u001b[0m CD14+ monocyte       mapped to CD14+ monocyte      \n",
      "[matchings       ] [DEBUG   ] : \u001b[32m[+]\u001b[0m CD4+ T cell          mapped to CD4+ T cell         \n",
      "[matchings       ] [DEBUG   ] : \u001b[32m[+]\u001b[0m Cytotoxic T cell     mapped to Cytotoxic T cell    \n",
      "[matchings       ] [DEBUG   ] : \u001b[31m[-]\u001b[0m Dendritic cell       mapped to CD16+ monocyte      \n",
      "[matchings       ] [DEBUG   ] : \u001b[32m[+]\u001b[0m Megakaryocyte        mapped to Megakaryocyte       \n",
      "[matchings       ] [INFO    ] : pbmc_Seq-Well        to pbmc_CEL-Seq        \n",
      "[matchings       ] [INFO    ] : 5     common cell types\n",
      "[matchings       ] [INFO    ] : 5 /5  correct   links\n",
      "[matchings       ] [INFO    ] : 1     incorrect links\n",
      "[refcm           ] [DEBUG   ] : Using costs for pbmc_Seq-Well->pbmc_Drop-Seq found in cache.\n",
      "[refcm           ] [DEBUG   ] : starting LP optimization\n",
      "[refcm           ] [DEBUG   ] : optimization terminated w. status \"Optimal\"\n",
      "[matchings       ] [DEBUG   ] : \u001b[32m[+]\u001b[0m B cell               mapped to B cell              \n",
      "[matchings       ] [DEBUG   ] : \u001b[32m[+]\u001b[0m CD14+ monocyte       mapped to CD14+ monocyte      \n",
      "[matchings       ] [DEBUG   ] : \u001b[32m[+]\u001b[0m CD4+ T cell          mapped to CD4+ T cell         \n",
      "[matchings       ] [DEBUG   ] : \u001b[32m[+]\u001b[0m Cytotoxic T cell     mapped to Cytotoxic T cell    \n",
      "[matchings       ] [DEBUG   ] : \u001b[32m[+]\u001b[0m Dendritic cell       mapped to Dendritic cell      \n",
      "[matchings       ] [DEBUG   ] : \u001b[32m[+]\u001b[0m Megakaryocyte        mapped to Megakaryocyte       \n",
      "[matchings       ] [DEBUG   ] : \u001b[32m[+]\u001b[0m Plasmacytoid dendritic cell mapped to Plasmacytoid dendritic cell\n",
      "[matchings       ] [INFO    ] : pbmc_Seq-Well        to pbmc_Drop-Seq       \n",
      "[matchings       ] [INFO    ] : 7     common cell types\n",
      "[matchings       ] [INFO    ] : 7 /7  correct   links\n",
      "[matchings       ] [INFO    ] : 0     incorrect links\n",
      "[refcm           ] [DEBUG   ] : Using costs for pbmc_Seq-Well->pbmc_inDrop found in cache.\n",
      "[refcm           ] [DEBUG   ] : starting LP optimization\n",
      "[refcm           ] [DEBUG   ] : optimization terminated w. status \"Optimal\"\n",
      "[matchings       ] [DEBUG   ] : \u001b[32m[+]\u001b[0m B cell               mapped to B cell              \n",
      "[matchings       ] [DEBUG   ] : \u001b[32m[+]\u001b[0m CD14+ monocyte       mapped to CD14+ monocyte      \n",
      "[matchings       ] [DEBUG   ] : \u001b[32m[+]\u001b[0m CD4+ T cell          mapped to CD4+ T cell         \n",
      "[matchings       ] [DEBUG   ] : \u001b[32m[+]\u001b[0m Cytotoxic T cell     mapped to Cytotoxic T cell    \n",
      "[matchings       ] [DEBUG   ] : \u001b[31m[-]\u001b[0m Dendritic cell       mapped to CD16+ monocyte      \n",
      "[matchings       ] [DEBUG   ] : \u001b[32m[+]\u001b[0m Megakaryocyte        mapped to Megakaryocyte       \n",
      "[matchings       ] [DEBUG   ] : \u001b[32m[+]\u001b[0m Plasmacytoid dendritic cell mapped to Plasmacytoid dendritic cell\n",
      "[matchings       ] [INFO    ] : pbmc_Seq-Well        to pbmc_inDrop         \n",
      "[matchings       ] [INFO    ] : 6     common cell types\n",
      "[matchings       ] [INFO    ] : 6 /6  correct   links\n",
      "[matchings       ] [INFO    ] : 1     incorrect links\n",
      "[refcm           ] [DEBUG   ] : Using costs for pbmc_Seq-Well->pbmc_Smart-Seq2 found in cache.\n",
      "[refcm           ] [DEBUG   ] : starting LP optimization\n",
      "[refcm           ] [DEBUG   ] : optimization terminated w. status \"Optimal\"\n",
      "[matchings       ] [DEBUG   ] : \u001b[32m[+]\u001b[0m B cell               mapped to B cell              \n",
      "[matchings       ] [DEBUG   ] : \u001b[32m[+]\u001b[0m CD14+ monocyte       mapped to CD14+ monocyte      \n",
      "[matchings       ] [DEBUG   ] : \u001b[32m[+]\u001b[0m CD4+ T cell          mapped to CD4+ T cell         \n",
      "[matchings       ] [DEBUG   ] : \u001b[32m[+]\u001b[0m Cytotoxic T cell     mapped to Cytotoxic T cell    \n",
      "[matchings       ] [DEBUG   ] : \u001b[31m[-]\u001b[0m Dendritic cell       mapped to CD16+ monocyte      \n",
      "[matchings       ] [DEBUG   ] : \u001b[32m[+]\u001b[0m Megakaryocyte        mapped to Megakaryocyte       \n",
      "[matchings       ] [INFO    ] : pbmc_Seq-Well        to pbmc_Smart-Seq2     \n",
      "[matchings       ] [INFO    ] : 5     common cell types\n",
      "[matchings       ] [INFO    ] : 5 /5  correct   links\n",
      "[matchings       ] [INFO    ] : 1     incorrect links\n",
      "[refcm           ] [DEBUG   ] : Using costs for pbmc_Smart-Seq2->pbmc_10Xv2 found in cache.\n",
      "[refcm           ] [DEBUG   ] : starting LP optimization\n",
      "[refcm           ] [DEBUG   ] : optimization terminated w. status \"Optimal\"\n",
      "[matchings       ] [DEBUG   ] : \u001b[32m[+]\u001b[0m B cell               mapped to B cell              \n",
      "[matchings       ] [DEBUG   ] : \u001b[32m[+]\u001b[0m CD14+ monocyte       mapped to CD14+ monocyte      \n",
      "[matchings       ] [DEBUG   ] : \u001b[32m[+]\u001b[0m CD16+ monocyte       mapped to CD16+ monocyte      \n",
      "[matchings       ] [DEBUG   ] : \u001b[32m[+]\u001b[0m CD4+ T cell          mapped to CD4+ T cell         \n",
      "[matchings       ] [DEBUG   ] : \u001b[32m[+]\u001b[0m Cytotoxic T cell     mapped to Cytotoxic T cell    \n",
      "[matchings       ] [DEBUG   ] : \u001b[32m[+]\u001b[0m Megakaryocyte        mapped to Megakaryocyte       \n",
      "[matchings       ] [INFO    ] : pbmc_Smart-Seq2      to pbmc_10Xv2          \n",
      "[matchings       ] [INFO    ] : 6     common cell types\n",
      "[matchings       ] [INFO    ] : 6 /6  correct   links\n",
      "[matchings       ] [INFO    ] : 0     incorrect links\n",
      "[refcm           ] [DEBUG   ] : Using costs for pbmc_Smart-Seq2->pbmc_10Xv3 found in cache.\n",
      "[refcm           ] [DEBUG   ] : starting LP optimization\n",
      "[refcm           ] [DEBUG   ] : optimization terminated w. status \"Optimal\"\n",
      "[matchings       ] [DEBUG   ] : \u001b[32m[+]\u001b[0m B cell               mapped to B cell              \n",
      "[matchings       ] [DEBUG   ] : \u001b[32m[+]\u001b[0m CD14+ monocyte       mapped to CD14+ monocyte      \n",
      "[matchings       ] [DEBUG   ] : \u001b[32m[+]\u001b[0m CD16+ monocyte       mapped to CD16+ monocyte      \n",
      "[matchings       ] [DEBUG   ] : \u001b[32m[+]\u001b[0m CD4+ T cell          mapped to CD4+ T cell         \n",
      "[matchings       ] [DEBUG   ] : \u001b[32m[+]\u001b[0m Cytotoxic T cell     mapped to Cytotoxic T cell    \n",
      "[matchings       ] [DEBUG   ] : \u001b[32m[+]\u001b[0m Megakaryocyte        mapped to Megakaryocyte       \n",
      "[matchings       ] [INFO    ] : pbmc_Smart-Seq2      to pbmc_10Xv3          \n",
      "[matchings       ] [INFO    ] : 6     common cell types\n",
      "[matchings       ] [INFO    ] : 6 /6  correct   links\n",
      "[matchings       ] [INFO    ] : 0     incorrect links\n",
      "[refcm           ] [DEBUG   ] : Using costs for pbmc_Smart-Seq2->pbmc_CEL-Seq found in cache.\n",
      "[refcm           ] [DEBUG   ] : starting LP optimization\n",
      "[refcm           ] [DEBUG   ] : optimization terminated w. status \"Optimal\"\n",
      "[matchings       ] [DEBUG   ] : \u001b[32m[+]\u001b[0m B cell               mapped to B cell              \n",
      "[matchings       ] [DEBUG   ] : \u001b[32m[+]\u001b[0m CD14+ monocyte       mapped to CD14+ monocyte      \n",
      "[matchings       ] [DEBUG   ] : \u001b[32m[+]\u001b[0m CD16+ monocyte       mapped to CD16+ monocyte      \n",
      "[matchings       ] [DEBUG   ] : \u001b[32m[+]\u001b[0m CD4+ T cell          mapped to CD4+ T cell         \n",
      "[matchings       ] [DEBUG   ] : \u001b[32m[+]\u001b[0m Cytotoxic T cell     mapped to Cytotoxic T cell    \n",
      "[matchings       ] [DEBUG   ] : \u001b[32m[+]\u001b[0m Megakaryocyte        mapped to Megakaryocyte       \n",
      "[matchings       ] [INFO    ] : pbmc_Smart-Seq2      to pbmc_CEL-Seq        \n",
      "[matchings       ] [INFO    ] : 6     common cell types\n",
      "[matchings       ] [INFO    ] : 6 /6  correct   links\n",
      "[matchings       ] [INFO    ] : 0     incorrect links\n",
      "[refcm           ] [DEBUG   ] : Using costs for pbmc_Smart-Seq2->pbmc_Drop-Seq found in cache.\n",
      "[refcm           ] [DEBUG   ] : starting LP optimization\n",
      "[refcm           ] [DEBUG   ] : optimization terminated w. status \"Optimal\"\n",
      "[matchings       ] [DEBUG   ] : \u001b[32m[+]\u001b[0m B cell               mapped to B cell              \n",
      "[matchings       ] [DEBUG   ] : \u001b[32m[+]\u001b[0m CD14+ monocyte       mapped to CD14+ monocyte      \n",
      "[matchings       ] [DEBUG   ] : \u001b[32m[+]\u001b[0m CD16+ monocyte       mapped to CD16+ monocyte      \n",
      "[matchings       ] [DEBUG   ] : \u001b[32m[+]\u001b[0m CD4+ T cell          mapped to CD4+ T cell         \n",
      "[matchings       ] [DEBUG   ] : \u001b[32m[+]\u001b[0m Cytotoxic T cell     mapped to Cytotoxic T cell    \n",
      "[matchings       ] [DEBUG   ] : \u001b[32m[+]\u001b[0m Megakaryocyte        mapped to Megakaryocyte       \n",
      "[matchings       ] [INFO    ] : pbmc_Smart-Seq2      to pbmc_Drop-Seq       \n",
      "[matchings       ] [INFO    ] : 6     common cell types\n",
      "[matchings       ] [INFO    ] : 6 /6  correct   links\n",
      "[matchings       ] [INFO    ] : 0     incorrect links\n",
      "[refcm           ] [DEBUG   ] : Using costs for pbmc_Smart-Seq2->pbmc_inDrop found in cache.\n",
      "[refcm           ] [DEBUG   ] : starting LP optimization\n",
      "[refcm           ] [DEBUG   ] : optimization terminated w. status \"Optimal\"\n",
      "[matchings       ] [DEBUG   ] : \u001b[32m[+]\u001b[0m B cell               mapped to B cell              \n",
      "[matchings       ] [DEBUG   ] : \u001b[32m[+]\u001b[0m CD14+ monocyte       mapped to CD14+ monocyte      \n",
      "[matchings       ] [DEBUG   ] : \u001b[32m[+]\u001b[0m CD16+ monocyte       mapped to CD16+ monocyte      \n",
      "[matchings       ] [DEBUG   ] : \u001b[32m[+]\u001b[0m CD4+ T cell          mapped to CD4+ T cell         \n",
      "[matchings       ] [DEBUG   ] : \u001b[32m[+]\u001b[0m Cytotoxic T cell     mapped to Cytotoxic T cell    \n",
      "[matchings       ] [DEBUG   ] : \u001b[32m[+]\u001b[0m Megakaryocyte        mapped to Megakaryocyte       \n",
      "[matchings       ] [INFO    ] : pbmc_Smart-Seq2      to pbmc_inDrop         \n",
      "[matchings       ] [INFO    ] : 6     common cell types\n",
      "[matchings       ] [INFO    ] : 6 /6  correct   links\n",
      "[matchings       ] [INFO    ] : 0     incorrect links\n",
      "[refcm           ] [DEBUG   ] : Using costs for pbmc_Smart-Seq2->pbmc_Seq-Well found in cache.\n",
      "[refcm           ] [DEBUG   ] : starting LP optimization\n",
      "[refcm           ] [DEBUG   ] : optimization terminated w. status \"Optimal\"\n",
      "[matchings       ] [DEBUG   ] : \u001b[32m[+]\u001b[0m B cell               mapped to B cell              \n",
      "[matchings       ] [DEBUG   ] : \u001b[32m[+]\u001b[0m CD14+ monocyte       mapped to CD14+ monocyte      \n",
      "[matchings       ] [DEBUG   ] : \u001b[31m[-]\u001b[0m CD16+ monocyte       mapped to Dendritic cell      \n",
      "[matchings       ] [DEBUG   ] : \u001b[32m[+]\u001b[0m CD4+ T cell          mapped to CD4+ T cell         \n",
      "[matchings       ] [DEBUG   ] : \u001b[32m[+]\u001b[0m Cytotoxic T cell     mapped to Cytotoxic T cell    \n",
      "[matchings       ] [DEBUG   ] : \u001b[32m[+]\u001b[0m Megakaryocyte        mapped to Megakaryocyte       \n",
      "[matchings       ] [INFO    ] : pbmc_Smart-Seq2      to pbmc_Seq-Well       \n",
      "[matchings       ] [INFO    ] : 5     common cell types\n",
      "[matchings       ] [INFO    ] : 5 /5  correct   links\n",
      "[matchings       ] [INFO    ] : 1     incorrect links\n"
     ]
    }
   ],
   "source": [
    "rcm = RefCM()\n",
    "\n",
    "for i, q_id in enumerate(ds):\n",
    "    for ref_id in [d for d in ds if d != q_id]:\n",
    "        rcm.setref(ds[ref], ref, 'labels')\n",
    "        m = rcm.annotate(ds[q_id], q_id, 'labels')\n",
    "        m.eval('labels')"
   ]
  }
 ],
 "metadata": {
  "kernelspec": {
   "display_name": "refcm",
   "language": "python",
   "name": "python3"
  },
  "language_info": {
   "codemirror_mode": {
    "name": "ipython",
    "version": 3
   },
   "file_extension": ".py",
   "mimetype": "text/x-python",
   "name": "python",
   "nbconvert_exporter": "python",
   "pygments_lexer": "ipython3",
   "version": "3.11.9"
  }
 },
 "nbformat": 4,
 "nbformat_minor": 2
}
