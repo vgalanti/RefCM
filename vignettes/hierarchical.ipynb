{
 "cells": [
  {
   "cell_type": "markdown",
   "metadata": {},
   "source": [
    "Let us now consider hierarchical cell-type relationships. For this, we will utilize the Allen-Brain datasets, as they come with two (non-overlapping) granularity-levels of cell-types."
   ]
  },
  {
   "cell_type": "code",
   "execution_count": 1,
   "metadata": {},
   "outputs": [],
   "source": [
    "import sys\n",
    "\n",
    "sys.path.append(\"../src/\")\n",
    "\n",
    "import json\n",
    "import logging\n",
    "import scanpy as sc\n",
    "import refcm\n",
    "from refcm import RefCM\n",
    "\n",
    "refcm.start_logging(logging.DEBUG)"
   ]
  },
  {
   "cell_type": "code",
   "execution_count": 2,
   "metadata": {},
   "outputs": [
    {
     "name": "stderr",
     "output_type": "stream",
     "text": [
      "[h5py._conv      ] [DEBUG   ] : Creating converter from 3 to 5\n"
     ]
    }
   ],
   "source": [
    "mtg = sc.read_h5ad(\"../data/MTG.h5ad\")\n",
    "alm = sc.read_h5ad(\"../data/ALM.h5ad\")\n",
    "visp = sc.read_h5ad(\"../data/VISp.h5ad\")"
   ]
  },
  {
   "cell_type": "markdown",
   "metadata": {},
   "source": [
    "Let us first retrieve the hierarchical relationships between cell types:"
   ]
  },
  {
   "cell_type": "code",
   "execution_count": 3,
   "metadata": {},
   "outputs": [
    {
     "name": "stdout",
     "output_type": "stream",
     "text": [
      "{\n",
      "    \"Excitatory\": [\n",
      "        \"Exc L5/6 IT 3\",\n",
      "        \"Exc L6 CT\",\n",
      "        \"Exc L6b\",\n",
      "        \"Exc L4/5 IT\",\n",
      "        \"Exc L5/6 IT 2\",\n",
      "        \"Exc L6 IT 1\",\n",
      "        \"Exc L6 IT 2\",\n",
      "        \"Exc L5/6 NP\",\n",
      "        \"Exc L2/3 IT\",\n",
      "        \"Exc L5/6 IT 1\",\n",
      "        \"Exc L3/5 IT\",\n",
      "        \"Exc L5 PT\"\n",
      "    ],\n",
      "    \"Inhibitory\": [\n",
      "        \"Sst 1\",\n",
      "        \"Lamp5 Rosehip\",\n",
      "        \"Vip 5\",\n",
      "        \"Pvalb 2\",\n",
      "        \"Sst 3\",\n",
      "        \"Pvalb 1\",\n",
      "        \"Vip 3\",\n",
      "        \"Pax6\",\n",
      "        \"Vip 1\",\n",
      "        \"Vip Sncg\",\n",
      "        \"Vip 4\",\n",
      "        \"Lamp5 2\",\n",
      "        \"Lamp5 Lhx6\",\n",
      "        \"Sst 4\",\n",
      "        \"Chandelier\",\n",
      "        \"Vip 2\",\n",
      "        \"Sst 2\",\n",
      "        \"Sst 5\",\n",
      "        \"Sst Chodl\",\n",
      "        \"Lamp5 1\"\n",
      "    ],\n",
      "    \"Non-neuronal\": [\n",
      "        \"Astrocyte\",\n",
      "        \"Oligo\"\n",
      "    ]\n",
      "}\n"
     ]
    }
   ],
   "source": [
    "labels = mtg.obs[[\"labels3\", \"labels34\"]].set_index(\"labels3\")\n",
    "coarse_levels = labels.index.unique().to_list()\n",
    "\n",
    "hierarchy = {\n",
    "    level: labels.loc[level].drop_duplicates().values.flatten().tolist()\n",
    "    for level in coarse_levels\n",
    "}\n",
    "\n",
    "print(json.dumps(hierarchy, indent=4, sort_keys=True))"
   ]
  },
  {
   "cell_type": "markdown",
   "metadata": {},
   "source": [
    "We can then map across these different levels and datasets -- here VISp to ALM -- and evaluate the performance as follows. Let us first consider mapping from granular to coarse resolutions."
   ]
  },
  {
   "cell_type": "code",
   "execution_count": 4,
   "metadata": {},
   "outputs": [
    {
     "name": "stderr",
     "output_type": "stream",
     "text": [
      "[refcm.refcm     ] [INFO    ] : NOTE: raw counts expected in anndata .X attributes.\n",
      "[refcm.refcm     ] [DEBUG   ] : Loading cached mapping costs from /Users/valerio/Library/Caches/refcm/cache.json.\n",
      "[refcm.embeddings] [DEBUG   ] : Using 1503 genes.\n",
      "[refcm.refcm     ] [DEBUG   ] : Computing Wasserstein distances.\n",
      "|████████████████| [100.00% ] : 00:26\n",
      "[refcm.refcm     ] [DEBUG   ] : Saving mapping costs to /Users/valerio/Library/Caches/refcm/cache.json.\n",
      "[refcm.refcm     ] [DEBUG   ] : starting LP optimization\n",
      "[refcm.refcm     ] [DEBUG   ] : optimization terminated w. status \"Optimal\"\n"
     ]
    }
   ],
   "source": [
    "# ensure we allow the query clusters to \"merge\" without restriction\n",
    "rcm = RefCM(max_merges=-1)\n",
    "rcm.setref(alm, \"ALM\", \"labels3\")\n",
    "m = rcm.annotate(visp, \"VISp\", \"labels34\")"
   ]
  },
  {
   "cell_type": "code",
   "execution_count": 5,
   "metadata": {},
   "outputs": [
    {
     "name": "stderr",
     "output_type": "stream",
     "text": [
      "[refcm.matchings ] [DEBUG   ] : \u001b[32m[+|0.70]\u001b[0m Astrocyte            mapped to Non-neuronal        \n",
      "[refcm.matchings ] [DEBUG   ] : \u001b[32m[+|0.70]\u001b[0m Chandelier           mapped to Inhibitory          \n",
      "[refcm.matchings ] [DEBUG   ] : \u001b[32m[+|0.70]\u001b[0m Exc L2/3 IT          mapped to Excitatory          \n",
      "[refcm.matchings ] [DEBUG   ] : \u001b[32m[+|0.70]\u001b[0m Exc L3/5 IT          mapped to Excitatory          \n",
      "[refcm.matchings ] [DEBUG   ] : \u001b[32m[+|0.70]\u001b[0m Exc L4/5 IT          mapped to Excitatory          \n",
      "[refcm.matchings ] [DEBUG   ] : \u001b[32m[+|0.70]\u001b[0m Exc L5 PT            mapped to Excitatory          \n",
      "[refcm.matchings ] [DEBUG   ] : \u001b[32m[+|0.70]\u001b[0m Exc L5/6 IT 1        mapped to Excitatory          \n",
      "[refcm.matchings ] [DEBUG   ] : \u001b[32m[+|0.70]\u001b[0m Exc L5/6 IT 2        mapped to Excitatory          \n",
      "[refcm.matchings ] [DEBUG   ] : \u001b[32m[+|0.70]\u001b[0m Exc L5/6 IT 3        mapped to Excitatory          \n",
      "[refcm.matchings ] [DEBUG   ] : \u001b[32m[+|0.70]\u001b[0m Exc L5/6 NP          mapped to Excitatory          \n",
      "[refcm.matchings ] [DEBUG   ] : \u001b[32m[+|0.70]\u001b[0m Exc L6 CT            mapped to Excitatory          \n",
      "[refcm.matchings ] [DEBUG   ] : \u001b[32m[+|0.70]\u001b[0m Exc L6 IT 1          mapped to Excitatory          \n",
      "[refcm.matchings ] [DEBUG   ] : \u001b[32m[+|0.70]\u001b[0m Exc L6 IT 2          mapped to Excitatory          \n",
      "[refcm.matchings ] [DEBUG   ] : \u001b[32m[+|0.70]\u001b[0m Exc L6b              mapped to Excitatory          \n",
      "[refcm.matchings ] [DEBUG   ] : \u001b[32m[+|0.70]\u001b[0m Lamp5 1              mapped to Inhibitory          \n",
      "[refcm.matchings ] [DEBUG   ] : \u001b[32m[+|0.70]\u001b[0m Lamp5 2              mapped to Inhibitory          \n",
      "[refcm.matchings ] [DEBUG   ] : \u001b[32m[+|0.70]\u001b[0m Lamp5 Lhx6           mapped to Inhibitory          \n",
      "[refcm.matchings ] [DEBUG   ] : \u001b[32m[+|0.70]\u001b[0m Lamp5 Rosehip        mapped to Inhibitory          \n",
      "[refcm.matchings ] [DEBUG   ] : \u001b[32m[+|0.70]\u001b[0m Oligo                mapped to Non-neuronal        \n",
      "[refcm.matchings ] [DEBUG   ] : \u001b[32m[+|0.70]\u001b[0m Pax6                 mapped to Inhibitory          \n",
      "[refcm.matchings ] [DEBUG   ] : \u001b[32m[+|0.70]\u001b[0m Pvalb 1              mapped to Inhibitory          \n",
      "[refcm.matchings ] [DEBUG   ] : \u001b[32m[+|0.70]\u001b[0m Pvalb 2              mapped to Inhibitory          \n",
      "[refcm.matchings ] [DEBUG   ] : \u001b[32m[+|0.70]\u001b[0m Sst 1                mapped to Inhibitory          \n",
      "[refcm.matchings ] [DEBUG   ] : \u001b[32m[+|0.70]\u001b[0m Sst 2                mapped to Inhibitory          \n",
      "[refcm.matchings ] [DEBUG   ] : \u001b[32m[+|0.70]\u001b[0m Sst 3                mapped to Inhibitory          \n",
      "[refcm.matchings ] [DEBUG   ] : \u001b[32m[+|0.70]\u001b[0m Sst 4                mapped to Inhibitory          \n",
      "[refcm.matchings ] [DEBUG   ] : \u001b[32m[+|0.70]\u001b[0m Sst 5                mapped to Inhibitory          \n",
      "[refcm.matchings ] [DEBUG   ] : \u001b[32m[+|0.70]\u001b[0m Sst Chodl            mapped to Inhibitory          \n",
      "[refcm.matchings ] [DEBUG   ] : \u001b[32m[+|0.70]\u001b[0m Vip 1                mapped to Inhibitory          \n",
      "[refcm.matchings ] [DEBUG   ] : \u001b[32m[+|0.70]\u001b[0m Vip 2                mapped to Inhibitory          \n",
      "[refcm.matchings ] [DEBUG   ] : \u001b[32m[+|0.70]\u001b[0m Vip 3                mapped to Inhibitory          \n",
      "[refcm.matchings ] [DEBUG   ] : \u001b[32m[+|0.70]\u001b[0m Vip 4                mapped to Inhibitory          \n",
      "[refcm.matchings ] [DEBUG   ] : \u001b[32m[+|0.70]\u001b[0m Vip 5                mapped to Inhibitory          \n",
      "[refcm.matchings ] [DEBUG   ] : \u001b[32m[+|0.70]\u001b[0m Vip Sncg             mapped to Inhibitory          \n",
      "[refcm.matchings ] [INFO    ] : VISp                 to ALM                 \n",
      "[refcm.matchings ] [INFO    ] : 0     common cell types\n",
      "[refcm.matchings ] [INFO    ] : 34/0  correct   links\n",
      "[refcm.matchings ] [INFO    ] : 0     incorrect links\n"
     ]
    },
    {
     "data": {
      "application/vnd.plotly.v1+json": {
       "config": {
        "plotlyServerURL": "https://plot.ly"
       },
       "data": [
        {
         "coloraxis": "coloraxis",
         "hovertemplate": "Reference: ALM: %{x}<br>Query: VISp: %{y}<br>cost: %{z}<extra></extra>",
         "name": "0",
         "type": "heatmap",
         "x": [
          "Excitatory",
          "Inhibitory",
          "Non-neuronal"
         ],
         "xaxis": "x",
         "y": [
          "Astrocyte",
          "Chandelier",
          "Exc L2/3 IT",
          "Exc L3/5 IT",
          "Exc L4/5 IT",
          "Exc L5 PT",
          "Exc L5/6 IT 1",
          "Exc L5/6 IT 2",
          "Exc L5/6 IT 3",
          "Exc L5/6 NP",
          "Exc L6 CT",
          "Exc L6 IT 1",
          "Exc L6 IT 2",
          "Exc L6b",
          "Lamp5 1",
          "Lamp5 2",
          "Lamp5 Lhx6",
          "Lamp5 Rosehip",
          "Oligo",
          "Pax6",
          "Pvalb 1",
          "Pvalb 2",
          "Sst 1",
          "Sst 2",
          "Sst 3",
          "Sst 4",
          "Sst 5",
          "Sst Chodl",
          "Vip 1",
          "Vip 2",
          "Vip 3",
          "Vip 4",
          "Vip 5",
          "Vip Sncg"
         ],
         "yaxis": "y",
         "z": {
          "bdata": "HpD4+ZIVzb++8yNKnb/Fv4r5i9s/pdW/+UpPSJER47/ZbRwSBU3lv/hr3x8BMre/sVhK8iuU778f93te0wXjv1OluDk+87u/lnB1Nvz9779LikqXfRrjvx6mz+Q1wbm/VuaNsj1B779M7ZUtuFniv2S1FoRkjbO/uoi86zrg7L9l2riQSJbiv12/iUYZCbu/S+7KhgBq7r+dhkakjuTivybv1J0uUbu/fWlmfOnJ7r+k9P66kv3hv7GFiKX2rbS/AAAAAAAA8L/We11bqczivx6T7Y43sLm/f20CWJrQ57/gw5P/GOTev/H4xLnUgqO/03Yoz42V6r/n7GL/G0Hev3mP7XOWGaO/e7YlfwZA7r9yoqo5uA3ivzwFiPZeh7W/9zwrFJ6Q6b9xyECW06bfv+bLivzUiK+/t7woo8J16r+agBbyNvLgv8TJtP0SVK+/WGnmji2C47/5lxdcCSjnvxRpkPQDbbO/Pv02J7X45b9kqCbp4Kbov7wTp37yMLq/Gb82Ty304b/Q5IpVloblvzjhRJ4w0rK//zmUdekq5L8AFSIUs3/nv44kiSUFELq/txOPX/5GuL9m/sFWn/euv5gx9hkbPOi/KYiPYWaY5b91DZP1ed/nv1KsZfpUMMG/dloJTD/c4b8GzsdSPmDlv+DkoNviUrG/nlol1V504r/v8lKBvpPmv5Z7kXqnL7S/SXsUkp8c4b+mCFfPGlzkv2+2xTfhqJK///XXPW7t479JN9MFhjznv0XIkmY6f7a/v8ZB2jO24r+jXI7kbPzkv7MzUbmXU62/pA6ORPMW3793hys5ORzivwAAAAAAAAAAnviuQlCe47+fTjWJOBHnv3Ii/oLog7K/B07wwYU2478nPUCdtBXkv7rfP7rytrS/ZfJHF27q4r8GiqaeWwDmv6No0wT5wLO/iiHAFhk05b9NCiDcwHbov4VgVTcSvbu/GYFrcVB15b8x/zacoh7pv8F2GcK1mLu/YyI3f5UN5L/CXFxtmSrnv6ZrJNq5ybS/VXBabc4t5L8VrpxRGKXnv8WqutqJKLa/hwIjwIkv5r8wn1h2H1Dpvwaq96umQMO/",
          "dtype": "f8",
          "shape": "34, 3"
         }
        },
        {
         "hovertemplate": "%{y} -> %{x}",
         "marker": {
          "color": [
           "green",
           "green",
           "green",
           "green",
           "green",
           "green",
           "green",
           "green",
           "green",
           "green",
           "green",
           "green",
           "green",
           "green",
           "green",
           "green",
           "green",
           "green",
           "green",
           "green",
           "green",
           "green",
           "green",
           "green",
           "green",
           "green",
           "green",
           "green",
           "green",
           "green",
           "green",
           "green",
           "green",
           "green"
          ],
          "size": 5
         },
         "mode": "markers",
         "name": "",
         "type": "scatter",
         "x": [
          "Non-neuronal",
          "Inhibitory",
          "Excitatory",
          "Excitatory",
          "Excitatory",
          "Excitatory",
          "Excitatory",
          "Excitatory",
          "Excitatory",
          "Excitatory",
          "Excitatory",
          "Excitatory",
          "Excitatory",
          "Excitatory",
          "Inhibitory",
          "Inhibitory",
          "Inhibitory",
          "Inhibitory",
          "Non-neuronal",
          "Inhibitory",
          "Inhibitory",
          "Inhibitory",
          "Inhibitory",
          "Inhibitory",
          "Inhibitory",
          "Inhibitory",
          "Inhibitory",
          "Inhibitory",
          "Inhibitory",
          "Inhibitory",
          "Inhibitory",
          "Inhibitory",
          "Inhibitory",
          "Inhibitory"
         ],
         "y": [
          "Astrocyte",
          "Chandelier",
          "Exc L2/3 IT",
          "Exc L3/5 IT",
          "Exc L4/5 IT",
          "Exc L5 PT",
          "Exc L5/6 IT 1",
          "Exc L5/6 IT 2",
          "Exc L5/6 IT 3",
          "Exc L5/6 NP",
          "Exc L6 CT",
          "Exc L6 IT 1",
          "Exc L6 IT 2",
          "Exc L6b",
          "Lamp5 1",
          "Lamp5 2",
          "Lamp5 Lhx6",
          "Lamp5 Rosehip",
          "Oligo",
          "Pax6",
          "Pvalb 1",
          "Pvalb 2",
          "Sst 1",
          "Sst 2",
          "Sst 3",
          "Sst 4",
          "Sst 5",
          "Sst Chodl",
          "Vip 1",
          "Vip 2",
          "Vip 3",
          "Vip 4",
          "Vip 5",
          "Vip Sncg"
         ]
        }
       ],
       "layout": {
        "coloraxis": {
         "colorbar": {
          "title": {
           "text": "cost"
          }
         },
         "colorscale": [
          [
           0,
           "rgb(75, 41, 145)"
          ],
          [
           0.16666666666666666,
           "rgb(135, 44, 162)"
          ],
          [
           0.3333333333333333,
           "rgb(192, 54, 157)"
          ],
          [
           0.5,
           "rgb(234, 79, 136)"
          ],
          [
           0.6666666666666666,
           "rgb(250, 120, 118)"
          ],
          [
           0.8333333333333334,
           "rgb(246, 169, 122)"
          ],
          [
           1,
           "rgb(237, 217, 163)"
          ]
         ]
        },
        "template": {
         "data": {
          "bar": [
           {
            "error_x": {
             "color": "#2a3f5f"
            },
            "error_y": {
             "color": "#2a3f5f"
            },
            "marker": {
             "line": {
              "color": "#E5ECF6",
              "width": 0.5
             },
             "pattern": {
              "fillmode": "overlay",
              "size": 10,
              "solidity": 0.2
             }
            },
            "type": "bar"
           }
          ],
          "barpolar": [
           {
            "marker": {
             "line": {
              "color": "#E5ECF6",
              "width": 0.5
             },
             "pattern": {
              "fillmode": "overlay",
              "size": 10,
              "solidity": 0.2
             }
            },
            "type": "barpolar"
           }
          ],
          "carpet": [
           {
            "aaxis": {
             "endlinecolor": "#2a3f5f",
             "gridcolor": "white",
             "linecolor": "white",
             "minorgridcolor": "white",
             "startlinecolor": "#2a3f5f"
            },
            "baxis": {
             "endlinecolor": "#2a3f5f",
             "gridcolor": "white",
             "linecolor": "white",
             "minorgridcolor": "white",
             "startlinecolor": "#2a3f5f"
            },
            "type": "carpet"
           }
          ],
          "choropleth": [
           {
            "colorbar": {
             "outlinewidth": 0,
             "ticks": ""
            },
            "type": "choropleth"
           }
          ],
          "contour": [
           {
            "colorbar": {
             "outlinewidth": 0,
             "ticks": ""
            },
            "colorscale": [
             [
              0,
              "#0d0887"
             ],
             [
              0.1111111111111111,
              "#46039f"
             ],
             [
              0.2222222222222222,
              "#7201a8"
             ],
             [
              0.3333333333333333,
              "#9c179e"
             ],
             [
              0.4444444444444444,
              "#bd3786"
             ],
             [
              0.5555555555555556,
              "#d8576b"
             ],
             [
              0.6666666666666666,
              "#ed7953"
             ],
             [
              0.7777777777777778,
              "#fb9f3a"
             ],
             [
              0.8888888888888888,
              "#fdca26"
             ],
             [
              1,
              "#f0f921"
             ]
            ],
            "type": "contour"
           }
          ],
          "contourcarpet": [
           {
            "colorbar": {
             "outlinewidth": 0,
             "ticks": ""
            },
            "type": "contourcarpet"
           }
          ],
          "heatmap": [
           {
            "colorbar": {
             "outlinewidth": 0,
             "ticks": ""
            },
            "colorscale": [
             [
              0,
              "#0d0887"
             ],
             [
              0.1111111111111111,
              "#46039f"
             ],
             [
              0.2222222222222222,
              "#7201a8"
             ],
             [
              0.3333333333333333,
              "#9c179e"
             ],
             [
              0.4444444444444444,
              "#bd3786"
             ],
             [
              0.5555555555555556,
              "#d8576b"
             ],
             [
              0.6666666666666666,
              "#ed7953"
             ],
             [
              0.7777777777777778,
              "#fb9f3a"
             ],
             [
              0.8888888888888888,
              "#fdca26"
             ],
             [
              1,
              "#f0f921"
             ]
            ],
            "type": "heatmap"
           }
          ],
          "histogram": [
           {
            "marker": {
             "pattern": {
              "fillmode": "overlay",
              "size": 10,
              "solidity": 0.2
             }
            },
            "type": "histogram"
           }
          ],
          "histogram2d": [
           {
            "colorbar": {
             "outlinewidth": 0,
             "ticks": ""
            },
            "colorscale": [
             [
              0,
              "#0d0887"
             ],
             [
              0.1111111111111111,
              "#46039f"
             ],
             [
              0.2222222222222222,
              "#7201a8"
             ],
             [
              0.3333333333333333,
              "#9c179e"
             ],
             [
              0.4444444444444444,
              "#bd3786"
             ],
             [
              0.5555555555555556,
              "#d8576b"
             ],
             [
              0.6666666666666666,
              "#ed7953"
             ],
             [
              0.7777777777777778,
              "#fb9f3a"
             ],
             [
              0.8888888888888888,
              "#fdca26"
             ],
             [
              1,
              "#f0f921"
             ]
            ],
            "type": "histogram2d"
           }
          ],
          "histogram2dcontour": [
           {
            "colorbar": {
             "outlinewidth": 0,
             "ticks": ""
            },
            "colorscale": [
             [
              0,
              "#0d0887"
             ],
             [
              0.1111111111111111,
              "#46039f"
             ],
             [
              0.2222222222222222,
              "#7201a8"
             ],
             [
              0.3333333333333333,
              "#9c179e"
             ],
             [
              0.4444444444444444,
              "#bd3786"
             ],
             [
              0.5555555555555556,
              "#d8576b"
             ],
             [
              0.6666666666666666,
              "#ed7953"
             ],
             [
              0.7777777777777778,
              "#fb9f3a"
             ],
             [
              0.8888888888888888,
              "#fdca26"
             ],
             [
              1,
              "#f0f921"
             ]
            ],
            "type": "histogram2dcontour"
           }
          ],
          "mesh3d": [
           {
            "colorbar": {
             "outlinewidth": 0,
             "ticks": ""
            },
            "type": "mesh3d"
           }
          ],
          "parcoords": [
           {
            "line": {
             "colorbar": {
              "outlinewidth": 0,
              "ticks": ""
             }
            },
            "type": "parcoords"
           }
          ],
          "pie": [
           {
            "automargin": true,
            "type": "pie"
           }
          ],
          "scatter": [
           {
            "fillpattern": {
             "fillmode": "overlay",
             "size": 10,
             "solidity": 0.2
            },
            "type": "scatter"
           }
          ],
          "scatter3d": [
           {
            "line": {
             "colorbar": {
              "outlinewidth": 0,
              "ticks": ""
             }
            },
            "marker": {
             "colorbar": {
              "outlinewidth": 0,
              "ticks": ""
             }
            },
            "type": "scatter3d"
           }
          ],
          "scattercarpet": [
           {
            "marker": {
             "colorbar": {
              "outlinewidth": 0,
              "ticks": ""
             }
            },
            "type": "scattercarpet"
           }
          ],
          "scattergeo": [
           {
            "marker": {
             "colorbar": {
              "outlinewidth": 0,
              "ticks": ""
             }
            },
            "type": "scattergeo"
           }
          ],
          "scattergl": [
           {
            "marker": {
             "colorbar": {
              "outlinewidth": 0,
              "ticks": ""
             }
            },
            "type": "scattergl"
           }
          ],
          "scattermap": [
           {
            "marker": {
             "colorbar": {
              "outlinewidth": 0,
              "ticks": ""
             }
            },
            "type": "scattermap"
           }
          ],
          "scattermapbox": [
           {
            "marker": {
             "colorbar": {
              "outlinewidth": 0,
              "ticks": ""
             }
            },
            "type": "scattermapbox"
           }
          ],
          "scatterpolar": [
           {
            "marker": {
             "colorbar": {
              "outlinewidth": 0,
              "ticks": ""
             }
            },
            "type": "scatterpolar"
           }
          ],
          "scatterpolargl": [
           {
            "marker": {
             "colorbar": {
              "outlinewidth": 0,
              "ticks": ""
             }
            },
            "type": "scatterpolargl"
           }
          ],
          "scatterternary": [
           {
            "marker": {
             "colorbar": {
              "outlinewidth": 0,
              "ticks": ""
             }
            },
            "type": "scatterternary"
           }
          ],
          "surface": [
           {
            "colorbar": {
             "outlinewidth": 0,
             "ticks": ""
            },
            "colorscale": [
             [
              0,
              "#0d0887"
             ],
             [
              0.1111111111111111,
              "#46039f"
             ],
             [
              0.2222222222222222,
              "#7201a8"
             ],
             [
              0.3333333333333333,
              "#9c179e"
             ],
             [
              0.4444444444444444,
              "#bd3786"
             ],
             [
              0.5555555555555556,
              "#d8576b"
             ],
             [
              0.6666666666666666,
              "#ed7953"
             ],
             [
              0.7777777777777778,
              "#fb9f3a"
             ],
             [
              0.8888888888888888,
              "#fdca26"
             ],
             [
              1,
              "#f0f921"
             ]
            ],
            "type": "surface"
           }
          ],
          "table": [
           {
            "cells": {
             "fill": {
              "color": "#EBF0F8"
             },
             "line": {
              "color": "white"
             }
            },
            "header": {
             "fill": {
              "color": "#C8D4E3"
             },
             "line": {
              "color": "white"
             }
            },
            "type": "table"
           }
          ]
         },
         "layout": {
          "annotationdefaults": {
           "arrowcolor": "#2a3f5f",
           "arrowhead": 0,
           "arrowwidth": 1
          },
          "autotypenumbers": "strict",
          "coloraxis": {
           "colorbar": {
            "outlinewidth": 0,
            "ticks": ""
           }
          },
          "colorscale": {
           "diverging": [
            [
             0,
             "#8e0152"
            ],
            [
             0.1,
             "#c51b7d"
            ],
            [
             0.2,
             "#de77ae"
            ],
            [
             0.3,
             "#f1b6da"
            ],
            [
             0.4,
             "#fde0ef"
            ],
            [
             0.5,
             "#f7f7f7"
            ],
            [
             0.6,
             "#e6f5d0"
            ],
            [
             0.7,
             "#b8e186"
            ],
            [
             0.8,
             "#7fbc41"
            ],
            [
             0.9,
             "#4d9221"
            ],
            [
             1,
             "#276419"
            ]
           ],
           "sequential": [
            [
             0,
             "#0d0887"
            ],
            [
             0.1111111111111111,
             "#46039f"
            ],
            [
             0.2222222222222222,
             "#7201a8"
            ],
            [
             0.3333333333333333,
             "#9c179e"
            ],
            [
             0.4444444444444444,
             "#bd3786"
            ],
            [
             0.5555555555555556,
             "#d8576b"
            ],
            [
             0.6666666666666666,
             "#ed7953"
            ],
            [
             0.7777777777777778,
             "#fb9f3a"
            ],
            [
             0.8888888888888888,
             "#fdca26"
            ],
            [
             1,
             "#f0f921"
            ]
           ],
           "sequentialminus": [
            [
             0,
             "#0d0887"
            ],
            [
             0.1111111111111111,
             "#46039f"
            ],
            [
             0.2222222222222222,
             "#7201a8"
            ],
            [
             0.3333333333333333,
             "#9c179e"
            ],
            [
             0.4444444444444444,
             "#bd3786"
            ],
            [
             0.5555555555555556,
             "#d8576b"
            ],
            [
             0.6666666666666666,
             "#ed7953"
            ],
            [
             0.7777777777777778,
             "#fb9f3a"
            ],
            [
             0.8888888888888888,
             "#fdca26"
            ],
            [
             1,
             "#f0f921"
            ]
           ]
          },
          "colorway": [
           "#636efa",
           "#EF553B",
           "#00cc96",
           "#ab63fa",
           "#FFA15A",
           "#19d3f3",
           "#FF6692",
           "#B6E880",
           "#FF97FF",
           "#FECB52"
          ],
          "font": {
           "color": "#2a3f5f"
          },
          "geo": {
           "bgcolor": "white",
           "lakecolor": "white",
           "landcolor": "#E5ECF6",
           "showlakes": true,
           "showland": true,
           "subunitcolor": "white"
          },
          "hoverlabel": {
           "align": "left"
          },
          "hovermode": "closest",
          "mapbox": {
           "style": "light"
          },
          "paper_bgcolor": "white",
          "plot_bgcolor": "#E5ECF6",
          "polar": {
           "angularaxis": {
            "gridcolor": "white",
            "linecolor": "white",
            "ticks": ""
           },
           "bgcolor": "#E5ECF6",
           "radialaxis": {
            "gridcolor": "white",
            "linecolor": "white",
            "ticks": ""
           }
          },
          "scene": {
           "xaxis": {
            "backgroundcolor": "#E5ECF6",
            "gridcolor": "white",
            "gridwidth": 2,
            "linecolor": "white",
            "showbackground": true,
            "ticks": "",
            "zerolinecolor": "white"
           },
           "yaxis": {
            "backgroundcolor": "#E5ECF6",
            "gridcolor": "white",
            "gridwidth": 2,
            "linecolor": "white",
            "showbackground": true,
            "ticks": "",
            "zerolinecolor": "white"
           },
           "zaxis": {
            "backgroundcolor": "#E5ECF6",
            "gridcolor": "white",
            "gridwidth": 2,
            "linecolor": "white",
            "showbackground": true,
            "ticks": "",
            "zerolinecolor": "white"
           }
          },
          "shapedefaults": {
           "line": {
            "color": "#2a3f5f"
           }
          },
          "ternary": {
           "aaxis": {
            "gridcolor": "white",
            "linecolor": "white",
            "ticks": ""
           },
           "baxis": {
            "gridcolor": "white",
            "linecolor": "white",
            "ticks": ""
           },
           "bgcolor": "#E5ECF6",
           "caxis": {
            "gridcolor": "white",
            "linecolor": "white",
            "ticks": ""
           }
          },
          "title": {
           "x": 0.05
          },
          "xaxis": {
           "automargin": true,
           "gridcolor": "white",
           "linecolor": "white",
           "ticks": "",
           "title": {
            "standoff": 15
           },
           "zerolinecolor": "white",
           "zerolinewidth": 2
          },
          "yaxis": {
           "automargin": true,
           "gridcolor": "white",
           "linecolor": "white",
           "ticks": "",
           "title": {
            "standoff": 15
           },
           "zerolinecolor": "white",
           "zerolinewidth": 2
          }
         }
        },
        "title": {
         "text": "VISp to ALM matching cost"
        },
        "xaxis": {
         "anchor": "y",
         "constrain": "domain",
         "domain": [
          0,
          1
         ],
         "scaleanchor": "y",
         "tickangle": -90,
         "title": {
          "text": "Reference: ALM"
         }
        },
        "yaxis": {
         "anchor": "x",
         "autorange": "reversed",
         "constrain": "domain",
         "domain": [
          0,
          1
         ],
         "title": {
          "text": "Query: VISp"
         }
        }
       }
      }
     },
     "metadata": {},
     "output_type": "display_data"
    }
   ],
   "source": [
    "m.set_type_equality_strictness(0.7)\n",
    "m.eval(\"labels34\")\n",
    "m.display_matching_costs(ground_truth_obs_key=\"labels34\")"
   ]
  },
  {
   "cell_type": "markdown",
   "metadata": {},
   "source": [
    "Comparing with the previously-established hierarchy, every cell was indeed correctly labeled to its coarser cell type!"
   ]
  },
  {
   "cell_type": "markdown",
   "metadata": {},
   "source": [
    "Conversely, let us now map from coarse to granular annotations:"
   ]
  },
  {
   "cell_type": "code",
   "execution_count": 6,
   "metadata": {},
   "outputs": [
    {
     "name": "stderr",
     "output_type": "stream",
     "text": [
      "[refcm.refcm     ] [INFO    ] : NOTE: raw counts expected in anndata .X attributes.\n",
      "[refcm.refcm     ] [DEBUG   ] : Loading cached mapping costs from /Users/valerio/Library/Caches/refcm/cache.json.\n",
      "[refcm.embeddings] [DEBUG   ] : Using 1503 genes.\n",
      "[refcm.refcm     ] [DEBUG   ] : Computing Wasserstein distances.\n",
      "|████████████████| [100.00% ] : 00:24\n",
      "[refcm.refcm     ] [DEBUG   ] : Saving mapping costs to /Users/valerio/Library/Caches/refcm/cache.json.\n",
      "[refcm.refcm     ] [DEBUG   ] : starting LP optimization\n",
      "[refcm.refcm     ] [DEBUG   ] : optimization terminated w. status \"Optimal\"\n"
     ]
    }
   ],
   "source": [
    "# ensure we allow the query clusters to \"merge\" without restriction\n",
    "rcm = RefCM(max_splits=-1)\n",
    "rcm.setref(alm, \"ALM\", \"labels34\")\n",
    "m = rcm.annotate(visp, \"VISp\", \"labels3\")"
   ]
  },
  {
   "cell_type": "code",
   "execution_count": 7,
   "metadata": {},
   "outputs": [
    {
     "name": "stderr",
     "output_type": "stream",
     "text": [
      "[refcm.matchings ] [DEBUG   ] : \u001b[32m[+|0.70]\u001b[0m Excitatory           mapped to Exc L2/3 IT         \n",
      "[refcm.matchings ] [DEBUG   ] : \u001b[32m[+|0.70]\u001b[0m Excitatory           mapped to Exc L3/5 IT         \n",
      "[refcm.matchings ] [DEBUG   ] : \u001b[32m[+|0.70]\u001b[0m Excitatory           mapped to Exc L4/5 IT         \n",
      "[refcm.matchings ] [DEBUG   ] : \u001b[32m[+|0.70]\u001b[0m Excitatory           mapped to Exc L5 PT           \n",
      "[refcm.matchings ] [DEBUG   ] : \u001b[32m[+|0.70]\u001b[0m Excitatory           mapped to Exc L5/6 IT 1       \n",
      "[refcm.matchings ] [DEBUG   ] : \u001b[32m[+|0.70]\u001b[0m Excitatory           mapped to Exc L5/6 IT 2       \n",
      "[refcm.matchings ] [DEBUG   ] : \u001b[32m[+|0.70]\u001b[0m Excitatory           mapped to Exc L5/6 IT 3       \n",
      "[refcm.matchings ] [DEBUG   ] : \u001b[32m[+|0.70]\u001b[0m Excitatory           mapped to Exc L5/6 NP         \n",
      "[refcm.matchings ] [DEBUG   ] : \u001b[32m[+|0.70]\u001b[0m Excitatory           mapped to Exc L6 CT           \n",
      "[refcm.matchings ] [DEBUG   ] : \u001b[32m[+|0.70]\u001b[0m Excitatory           mapped to Exc L6 IT 1         \n",
      "[refcm.matchings ] [DEBUG   ] : \u001b[32m[+|0.70]\u001b[0m Excitatory           mapped to Exc L6 IT 2         \n",
      "[refcm.matchings ] [DEBUG   ] : \u001b[32m[+|0.70]\u001b[0m Excitatory           mapped to Exc L6b             \n",
      "[refcm.matchings ] [DEBUG   ] : \u001b[32m[+|0.70]\u001b[0m Inhibitory           mapped to Chandelier          \n",
      "[refcm.matchings ] [DEBUG   ] : \u001b[32m[+|0.70]\u001b[0m Inhibitory           mapped to Lamp5 1             \n",
      "[refcm.matchings ] [DEBUG   ] : \u001b[32m[+|0.70]\u001b[0m Inhibitory           mapped to Lamp5 2             \n",
      "[refcm.matchings ] [DEBUG   ] : \u001b[32m[+|0.70]\u001b[0m Inhibitory           mapped to Lamp5 Lhx6          \n",
      "[refcm.matchings ] [DEBUG   ] : \u001b[32m[+|0.70]\u001b[0m Inhibitory           mapped to Lamp5 Rosehip       \n",
      "[refcm.matchings ] [DEBUG   ] : \u001b[32m[+|0.70]\u001b[0m Inhibitory           mapped to Pax6                \n",
      "[refcm.matchings ] [DEBUG   ] : \u001b[32m[+|0.70]\u001b[0m Inhibitory           mapped to Pvalb 1             \n",
      "[refcm.matchings ] [DEBUG   ] : \u001b[32m[+|0.70]\u001b[0m Inhibitory           mapped to Pvalb 2             \n",
      "[refcm.matchings ] [DEBUG   ] : \u001b[32m[+|0.70]\u001b[0m Inhibitory           mapped to Sst 1               \n",
      "[refcm.matchings ] [DEBUG   ] : \u001b[32m[+|0.70]\u001b[0m Inhibitory           mapped to Sst 2               \n",
      "[refcm.matchings ] [DEBUG   ] : \u001b[32m[+|0.70]\u001b[0m Inhibitory           mapped to Sst 3               \n",
      "[refcm.matchings ] [DEBUG   ] : \u001b[32m[+|0.70]\u001b[0m Inhibitory           mapped to Sst 4               \n",
      "[refcm.matchings ] [DEBUG   ] : \u001b[32m[+|0.70]\u001b[0m Inhibitory           mapped to Sst 5               \n",
      "[refcm.matchings ] [DEBUG   ] : \u001b[32m[+|0.70]\u001b[0m Inhibitory           mapped to Sst Chodl           \n",
      "[refcm.matchings ] [DEBUG   ] : \u001b[32m[+|0.70]\u001b[0m Inhibitory           mapped to Vip 1               \n",
      "[refcm.matchings ] [DEBUG   ] : \u001b[32m[+|0.70]\u001b[0m Inhibitory           mapped to Vip 2               \n",
      "[refcm.matchings ] [DEBUG   ] : \u001b[32m[+|0.70]\u001b[0m Inhibitory           mapped to Vip 3               \n",
      "[refcm.matchings ] [DEBUG   ] : \u001b[32m[+|0.70]\u001b[0m Inhibitory           mapped to Vip 4               \n",
      "[refcm.matchings ] [DEBUG   ] : \u001b[32m[+|0.70]\u001b[0m Inhibitory           mapped to Vip 5               \n",
      "[refcm.matchings ] [DEBUG   ] : \u001b[32m[+|0.70]\u001b[0m Inhibitory           mapped to Vip Sncg            \n",
      "[refcm.matchings ] [DEBUG   ] : \u001b[32m[+|0.70]\u001b[0m Non-neuronal         mapped to Astrocyte           \n",
      "[refcm.matchings ] [DEBUG   ] : \u001b[32m[+|0.70]\u001b[0m Non-neuronal         mapped to Oligo               \n",
      "[refcm.matchings ] [INFO    ] : VISp                 to ALM                 \n",
      "[refcm.matchings ] [INFO    ] : 0     common cell types\n",
      "[refcm.matchings ] [INFO    ] : 34/0  correct   links\n",
      "[refcm.matchings ] [INFO    ] : 0     incorrect links\n"
     ]
    },
    {
     "data": {
      "application/vnd.plotly.v1+json": {
       "config": {
        "plotlyServerURL": "https://plot.ly"
       },
       "data": [
        {
         "coloraxis": "coloraxis",
         "hovertemplate": "Reference: ALM: %{x}<br>Query: VISp: %{y}<br>cost: %{z}<extra></extra>",
         "name": "0",
         "type": "heatmap",
         "x": [
          "Astrocyte",
          "Chandelier",
          "Exc L2/3 IT",
          "Exc L3/5 IT",
          "Exc L4/5 IT",
          "Exc L5 PT",
          "Exc L5/6 IT 1",
          "Exc L5/6 IT 2",
          "Exc L5/6 IT 3",
          "Exc L5/6 NP",
          "Exc L6 CT",
          "Exc L6 IT 1",
          "Exc L6 IT 2",
          "Exc L6b",
          "Lamp5 1",
          "Lamp5 2",
          "Lamp5 Lhx6",
          "Lamp5 Rosehip",
          "Oligo",
          "Pax6",
          "Pvalb 1",
          "Pvalb 2",
          "Sst 1",
          "Sst 2",
          "Sst 3",
          "Sst 4",
          "Sst 5",
          "Sst Chodl",
          "Vip 1",
          "Vip 2",
          "Vip 3",
          "Vip 4",
          "Vip 5",
          "Vip Sncg"
         ],
         "xaxis": "x",
         "y": [
          "Excitatory",
          "Inhibitory",
          "Non-neuronal"
         ],
         "yaxis": "y",
         "z": {
          "bdata": "Fbd8Zsa7pr9bXc1pekTdvwAAAAAAAPC/J6UwWh+a77+E9nr6NAXvv85E8oBoNu2/LCQTjHeg77/MIc28mK7vv4zaIfFoZO6/qrAB7yZH5b+XrBgK1iHpv2gBgoNYW+u/LA9YpOxc7r/13e4Gsi/mv43AXabKguC/BQltdWme4780Tr9exgnev5yADvhlquC/AAAAAAAAAAAFHDG9/VHgv/AnueRsLty/c1fTNyrv27/ujdznFsbdvyNKETBuAuG/a2yDcVvL4L+RqaPUGDvgv+7KGdigoOC/Vz2G3xB/3b+ijcfia03fv+nMApuU+uK/RRYVFSoT478wRhQAgiDhv61c67eRuuC/NIGyc7w54b+S57lzl1uWvwv69BGTyuO/fI0rmoft4794UGY6bzLkv3V/EmeZjeK/QYg3JJC/47/jX9Ug9hbkv85ALMoqeuO/YkYrjxMF4r+gudvNGAHev2NxfgWHUNy/PmiVsqWl3r9sInyOct/hv30p8A5aT9y/BvdJscyt5b9mZNR+gKznv3wvQO5HDOS/5Ql8CZJa5b9OqJT9ojdrv4v6oyVIquS/GRgZyarX479m1S+7dF7kv7bXq2SPyOO/6OkNSvyD5r/FVWTN923lv1ZLk4Ge3+S/haI9DMce5r+xSbhFNKbhv2K3aKT+k+S//7iuec2F6L/QlMqWrx/pv/sEvn2el+a/bYfzIk1v5r+Raps5Cenmvw3VbAiuw+m/MuRweIdos79/nGsjEQ3GvxdqakPr28e/lE0LMBmfwL9a/dGIPBrGvyggInEX/cW/najRr4G+xb/i2Y6TDEXAv8U/bbrzXqe/EtX1dLFmqb+at+28aI60v9UQu0Lzwb+/IWw5E3S2ob+qc9u0wC6qv+7SJca607u/nsF2lcbarr9W20nXDxKzvycHGMDwPdm/N9oWwSUyuL+bw1PUu5Cuv6U9dXZ/oqq/gzHK1ZJDkb9Jz0jba522v6gmwanWZbC/sciBL5ZGsL9s1ytzs76yv5hqrzqXpqe/XvRkiPkhr7/bdDHoC/C/v3xJCELoBsG/saKMoJDPtL8epkvfP7m3v2kpQ/vi6L+/",
          "dtype": "f8",
          "shape": "3, 34"
         }
        },
        {
         "hovertemplate": "%{y} -> %{x}",
         "marker": {
          "color": [
           "green",
           "green",
           "green",
           "green",
           "green",
           "green",
           "green",
           "green",
           "green",
           "green",
           "green",
           "green",
           "green",
           "green",
           "green",
           "green",
           "green",
           "green",
           "green",
           "green",
           "green",
           "green",
           "green",
           "green",
           "green",
           "green",
           "green",
           "green",
           "green",
           "green",
           "green",
           "green",
           "green",
           "green"
          ],
          "size": 5
         },
         "mode": "markers",
         "name": "",
         "type": "scatter",
         "x": [
          "Exc L2/3 IT",
          "Exc L3/5 IT",
          "Exc L4/5 IT",
          "Exc L5 PT",
          "Exc L5/6 IT 1",
          "Exc L5/6 IT 2",
          "Exc L5/6 IT 3",
          "Exc L5/6 NP",
          "Exc L6 CT",
          "Exc L6 IT 1",
          "Exc L6 IT 2",
          "Exc L6b",
          "Chandelier",
          "Lamp5 1",
          "Lamp5 2",
          "Lamp5 Lhx6",
          "Lamp5 Rosehip",
          "Pax6",
          "Pvalb 1",
          "Pvalb 2",
          "Sst 1",
          "Sst 2",
          "Sst 3",
          "Sst 4",
          "Sst 5",
          "Sst Chodl",
          "Vip 1",
          "Vip 2",
          "Vip 3",
          "Vip 4",
          "Vip 5",
          "Vip Sncg",
          "Astrocyte",
          "Oligo"
         ],
         "y": [
          "Excitatory",
          "Excitatory",
          "Excitatory",
          "Excitatory",
          "Excitatory",
          "Excitatory",
          "Excitatory",
          "Excitatory",
          "Excitatory",
          "Excitatory",
          "Excitatory",
          "Excitatory",
          "Inhibitory",
          "Inhibitory",
          "Inhibitory",
          "Inhibitory",
          "Inhibitory",
          "Inhibitory",
          "Inhibitory",
          "Inhibitory",
          "Inhibitory",
          "Inhibitory",
          "Inhibitory",
          "Inhibitory",
          "Inhibitory",
          "Inhibitory",
          "Inhibitory",
          "Inhibitory",
          "Inhibitory",
          "Inhibitory",
          "Inhibitory",
          "Inhibitory",
          "Non-neuronal",
          "Non-neuronal"
         ]
        }
       ],
       "layout": {
        "coloraxis": {
         "colorbar": {
          "title": {
           "text": "cost"
          }
         },
         "colorscale": [
          [
           0,
           "rgb(75, 41, 145)"
          ],
          [
           0.16666666666666666,
           "rgb(135, 44, 162)"
          ],
          [
           0.3333333333333333,
           "rgb(192, 54, 157)"
          ],
          [
           0.5,
           "rgb(234, 79, 136)"
          ],
          [
           0.6666666666666666,
           "rgb(250, 120, 118)"
          ],
          [
           0.8333333333333334,
           "rgb(246, 169, 122)"
          ],
          [
           1,
           "rgb(237, 217, 163)"
          ]
         ]
        },
        "height": 400,
        "template": {
         "data": {
          "bar": [
           {
            "error_x": {
             "color": "#2a3f5f"
            },
            "error_y": {
             "color": "#2a3f5f"
            },
            "marker": {
             "line": {
              "color": "#E5ECF6",
              "width": 0.5
             },
             "pattern": {
              "fillmode": "overlay",
              "size": 10,
              "solidity": 0.2
             }
            },
            "type": "bar"
           }
          ],
          "barpolar": [
           {
            "marker": {
             "line": {
              "color": "#E5ECF6",
              "width": 0.5
             },
             "pattern": {
              "fillmode": "overlay",
              "size": 10,
              "solidity": 0.2
             }
            },
            "type": "barpolar"
           }
          ],
          "carpet": [
           {
            "aaxis": {
             "endlinecolor": "#2a3f5f",
             "gridcolor": "white",
             "linecolor": "white",
             "minorgridcolor": "white",
             "startlinecolor": "#2a3f5f"
            },
            "baxis": {
             "endlinecolor": "#2a3f5f",
             "gridcolor": "white",
             "linecolor": "white",
             "minorgridcolor": "white",
             "startlinecolor": "#2a3f5f"
            },
            "type": "carpet"
           }
          ],
          "choropleth": [
           {
            "colorbar": {
             "outlinewidth": 0,
             "ticks": ""
            },
            "type": "choropleth"
           }
          ],
          "contour": [
           {
            "colorbar": {
             "outlinewidth": 0,
             "ticks": ""
            },
            "colorscale": [
             [
              0,
              "#0d0887"
             ],
             [
              0.1111111111111111,
              "#46039f"
             ],
             [
              0.2222222222222222,
              "#7201a8"
             ],
             [
              0.3333333333333333,
              "#9c179e"
             ],
             [
              0.4444444444444444,
              "#bd3786"
             ],
             [
              0.5555555555555556,
              "#d8576b"
             ],
             [
              0.6666666666666666,
              "#ed7953"
             ],
             [
              0.7777777777777778,
              "#fb9f3a"
             ],
             [
              0.8888888888888888,
              "#fdca26"
             ],
             [
              1,
              "#f0f921"
             ]
            ],
            "type": "contour"
           }
          ],
          "contourcarpet": [
           {
            "colorbar": {
             "outlinewidth": 0,
             "ticks": ""
            },
            "type": "contourcarpet"
           }
          ],
          "heatmap": [
           {
            "colorbar": {
             "outlinewidth": 0,
             "ticks": ""
            },
            "colorscale": [
             [
              0,
              "#0d0887"
             ],
             [
              0.1111111111111111,
              "#46039f"
             ],
             [
              0.2222222222222222,
              "#7201a8"
             ],
             [
              0.3333333333333333,
              "#9c179e"
             ],
             [
              0.4444444444444444,
              "#bd3786"
             ],
             [
              0.5555555555555556,
              "#d8576b"
             ],
             [
              0.6666666666666666,
              "#ed7953"
             ],
             [
              0.7777777777777778,
              "#fb9f3a"
             ],
             [
              0.8888888888888888,
              "#fdca26"
             ],
             [
              1,
              "#f0f921"
             ]
            ],
            "type": "heatmap"
           }
          ],
          "histogram": [
           {
            "marker": {
             "pattern": {
              "fillmode": "overlay",
              "size": 10,
              "solidity": 0.2
             }
            },
            "type": "histogram"
           }
          ],
          "histogram2d": [
           {
            "colorbar": {
             "outlinewidth": 0,
             "ticks": ""
            },
            "colorscale": [
             [
              0,
              "#0d0887"
             ],
             [
              0.1111111111111111,
              "#46039f"
             ],
             [
              0.2222222222222222,
              "#7201a8"
             ],
             [
              0.3333333333333333,
              "#9c179e"
             ],
             [
              0.4444444444444444,
              "#bd3786"
             ],
             [
              0.5555555555555556,
              "#d8576b"
             ],
             [
              0.6666666666666666,
              "#ed7953"
             ],
             [
              0.7777777777777778,
              "#fb9f3a"
             ],
             [
              0.8888888888888888,
              "#fdca26"
             ],
             [
              1,
              "#f0f921"
             ]
            ],
            "type": "histogram2d"
           }
          ],
          "histogram2dcontour": [
           {
            "colorbar": {
             "outlinewidth": 0,
             "ticks": ""
            },
            "colorscale": [
             [
              0,
              "#0d0887"
             ],
             [
              0.1111111111111111,
              "#46039f"
             ],
             [
              0.2222222222222222,
              "#7201a8"
             ],
             [
              0.3333333333333333,
              "#9c179e"
             ],
             [
              0.4444444444444444,
              "#bd3786"
             ],
             [
              0.5555555555555556,
              "#d8576b"
             ],
             [
              0.6666666666666666,
              "#ed7953"
             ],
             [
              0.7777777777777778,
              "#fb9f3a"
             ],
             [
              0.8888888888888888,
              "#fdca26"
             ],
             [
              1,
              "#f0f921"
             ]
            ],
            "type": "histogram2dcontour"
           }
          ],
          "mesh3d": [
           {
            "colorbar": {
             "outlinewidth": 0,
             "ticks": ""
            },
            "type": "mesh3d"
           }
          ],
          "parcoords": [
           {
            "line": {
             "colorbar": {
              "outlinewidth": 0,
              "ticks": ""
             }
            },
            "type": "parcoords"
           }
          ],
          "pie": [
           {
            "automargin": true,
            "type": "pie"
           }
          ],
          "scatter": [
           {
            "fillpattern": {
             "fillmode": "overlay",
             "size": 10,
             "solidity": 0.2
            },
            "type": "scatter"
           }
          ],
          "scatter3d": [
           {
            "line": {
             "colorbar": {
              "outlinewidth": 0,
              "ticks": ""
             }
            },
            "marker": {
             "colorbar": {
              "outlinewidth": 0,
              "ticks": ""
             }
            },
            "type": "scatter3d"
           }
          ],
          "scattercarpet": [
           {
            "marker": {
             "colorbar": {
              "outlinewidth": 0,
              "ticks": ""
             }
            },
            "type": "scattercarpet"
           }
          ],
          "scattergeo": [
           {
            "marker": {
             "colorbar": {
              "outlinewidth": 0,
              "ticks": ""
             }
            },
            "type": "scattergeo"
           }
          ],
          "scattergl": [
           {
            "marker": {
             "colorbar": {
              "outlinewidth": 0,
              "ticks": ""
             }
            },
            "type": "scattergl"
           }
          ],
          "scattermap": [
           {
            "marker": {
             "colorbar": {
              "outlinewidth": 0,
              "ticks": ""
             }
            },
            "type": "scattermap"
           }
          ],
          "scattermapbox": [
           {
            "marker": {
             "colorbar": {
              "outlinewidth": 0,
              "ticks": ""
             }
            },
            "type": "scattermapbox"
           }
          ],
          "scatterpolar": [
           {
            "marker": {
             "colorbar": {
              "outlinewidth": 0,
              "ticks": ""
             }
            },
            "type": "scatterpolar"
           }
          ],
          "scatterpolargl": [
           {
            "marker": {
             "colorbar": {
              "outlinewidth": 0,
              "ticks": ""
             }
            },
            "type": "scatterpolargl"
           }
          ],
          "scatterternary": [
           {
            "marker": {
             "colorbar": {
              "outlinewidth": 0,
              "ticks": ""
             }
            },
            "type": "scatterternary"
           }
          ],
          "surface": [
           {
            "colorbar": {
             "outlinewidth": 0,
             "ticks": ""
            },
            "colorscale": [
             [
              0,
              "#0d0887"
             ],
             [
              0.1111111111111111,
              "#46039f"
             ],
             [
              0.2222222222222222,
              "#7201a8"
             ],
             [
              0.3333333333333333,
              "#9c179e"
             ],
             [
              0.4444444444444444,
              "#bd3786"
             ],
             [
              0.5555555555555556,
              "#d8576b"
             ],
             [
              0.6666666666666666,
              "#ed7953"
             ],
             [
              0.7777777777777778,
              "#fb9f3a"
             ],
             [
              0.8888888888888888,
              "#fdca26"
             ],
             [
              1,
              "#f0f921"
             ]
            ],
            "type": "surface"
           }
          ],
          "table": [
           {
            "cells": {
             "fill": {
              "color": "#EBF0F8"
             },
             "line": {
              "color": "white"
             }
            },
            "header": {
             "fill": {
              "color": "#C8D4E3"
             },
             "line": {
              "color": "white"
             }
            },
            "type": "table"
           }
          ]
         },
         "layout": {
          "annotationdefaults": {
           "arrowcolor": "#2a3f5f",
           "arrowhead": 0,
           "arrowwidth": 1
          },
          "autotypenumbers": "strict",
          "coloraxis": {
           "colorbar": {
            "outlinewidth": 0,
            "ticks": ""
           }
          },
          "colorscale": {
           "diverging": [
            [
             0,
             "#8e0152"
            ],
            [
             0.1,
             "#c51b7d"
            ],
            [
             0.2,
             "#de77ae"
            ],
            [
             0.3,
             "#f1b6da"
            ],
            [
             0.4,
             "#fde0ef"
            ],
            [
             0.5,
             "#f7f7f7"
            ],
            [
             0.6,
             "#e6f5d0"
            ],
            [
             0.7,
             "#b8e186"
            ],
            [
             0.8,
             "#7fbc41"
            ],
            [
             0.9,
             "#4d9221"
            ],
            [
             1,
             "#276419"
            ]
           ],
           "sequential": [
            [
             0,
             "#0d0887"
            ],
            [
             0.1111111111111111,
             "#46039f"
            ],
            [
             0.2222222222222222,
             "#7201a8"
            ],
            [
             0.3333333333333333,
             "#9c179e"
            ],
            [
             0.4444444444444444,
             "#bd3786"
            ],
            [
             0.5555555555555556,
             "#d8576b"
            ],
            [
             0.6666666666666666,
             "#ed7953"
            ],
            [
             0.7777777777777778,
             "#fb9f3a"
            ],
            [
             0.8888888888888888,
             "#fdca26"
            ],
            [
             1,
             "#f0f921"
            ]
           ],
           "sequentialminus": [
            [
             0,
             "#0d0887"
            ],
            [
             0.1111111111111111,
             "#46039f"
            ],
            [
             0.2222222222222222,
             "#7201a8"
            ],
            [
             0.3333333333333333,
             "#9c179e"
            ],
            [
             0.4444444444444444,
             "#bd3786"
            ],
            [
             0.5555555555555556,
             "#d8576b"
            ],
            [
             0.6666666666666666,
             "#ed7953"
            ],
            [
             0.7777777777777778,
             "#fb9f3a"
            ],
            [
             0.8888888888888888,
             "#fdca26"
            ],
            [
             1,
             "#f0f921"
            ]
           ]
          },
          "colorway": [
           "#636efa",
           "#EF553B",
           "#00cc96",
           "#ab63fa",
           "#FFA15A",
           "#19d3f3",
           "#FF6692",
           "#B6E880",
           "#FF97FF",
           "#FECB52"
          ],
          "font": {
           "color": "#2a3f5f"
          },
          "geo": {
           "bgcolor": "white",
           "lakecolor": "white",
           "landcolor": "#E5ECF6",
           "showlakes": true,
           "showland": true,
           "subunitcolor": "white"
          },
          "hoverlabel": {
           "align": "left"
          },
          "hovermode": "closest",
          "mapbox": {
           "style": "light"
          },
          "paper_bgcolor": "white",
          "plot_bgcolor": "#E5ECF6",
          "polar": {
           "angularaxis": {
            "gridcolor": "white",
            "linecolor": "white",
            "ticks": ""
           },
           "bgcolor": "#E5ECF6",
           "radialaxis": {
            "gridcolor": "white",
            "linecolor": "white",
            "ticks": ""
           }
          },
          "scene": {
           "xaxis": {
            "backgroundcolor": "#E5ECF6",
            "gridcolor": "white",
            "gridwidth": 2,
            "linecolor": "white",
            "showbackground": true,
            "ticks": "",
            "zerolinecolor": "white"
           },
           "yaxis": {
            "backgroundcolor": "#E5ECF6",
            "gridcolor": "white",
            "gridwidth": 2,
            "linecolor": "white",
            "showbackground": true,
            "ticks": "",
            "zerolinecolor": "white"
           },
           "zaxis": {
            "backgroundcolor": "#E5ECF6",
            "gridcolor": "white",
            "gridwidth": 2,
            "linecolor": "white",
            "showbackground": true,
            "ticks": "",
            "zerolinecolor": "white"
           }
          },
          "shapedefaults": {
           "line": {
            "color": "#2a3f5f"
           }
          },
          "ternary": {
           "aaxis": {
            "gridcolor": "white",
            "linecolor": "white",
            "ticks": ""
           },
           "baxis": {
            "gridcolor": "white",
            "linecolor": "white",
            "ticks": ""
           },
           "bgcolor": "#E5ECF6",
           "caxis": {
            "gridcolor": "white",
            "linecolor": "white",
            "ticks": ""
           }
          },
          "title": {
           "x": 0.05
          },
          "xaxis": {
           "automargin": true,
           "gridcolor": "white",
           "linecolor": "white",
           "ticks": "",
           "title": {
            "standoff": 15
           },
           "zerolinecolor": "white",
           "zerolinewidth": 2
          },
          "yaxis": {
           "automargin": true,
           "gridcolor": "white",
           "linecolor": "white",
           "ticks": "",
           "title": {
            "standoff": 15
           },
           "zerolinecolor": "white",
           "zerolinewidth": 2
          }
         }
        },
        "title": {
         "text": "VISp to ALM matching cost"
        },
        "width": 1000,
        "xaxis": {
         "anchor": "y",
         "constrain": "domain",
         "domain": [
          0,
          1
         ],
         "dtick": 1,
         "scaleanchor": "y",
         "tickangle": -45,
         "title": {
          "text": "Reference: ALM"
         }
        },
        "yaxis": {
         "anchor": "x",
         "autorange": "reversed",
         "constrain": "domain",
         "domain": [
          0,
          1
         ],
         "dtick": 1,
         "title": {
          "text": "Query: VISp"
         }
        }
       }
      }
     },
     "metadata": {},
     "output_type": "display_data"
    }
   ],
   "source": [
    "m.set_type_equality_strictness(0.7)\n",
    "m.eval(\"labels3\")\n",
    "fig = m.display_matching_costs(\n",
    "    ground_truth_obs_key=\"labels3\",\n",
    "    show_all_labels=True,\n",
    "    angle_x_labels=True,\n",
    "    width=1000,\n",
    "    height=400,\n",
    ")\n",
    "fig.show()\n",
    "# fig.write_image(\"trees/refcm_brain.png\", scale=3)"
   ]
  },
  {
   "cell_type": "markdown",
   "metadata": {},
   "source": [
    "Comparing this graph with the previous one and the established hierarchy, we conclude that this mapping direction also establishes the correct links in this direction!"
   ]
  }
 ],
 "metadata": {
  "kernelspec": {
   "display_name": "refcm",
   "language": "python",
   "name": "python3"
  },
  "language_info": {
   "codemirror_mode": {
    "name": "ipython",
    "version": 3
   },
   "file_extension": ".py",
   "mimetype": "text/x-python",
   "name": "python",
   "nbconvert_exporter": "python",
   "pygments_lexer": "ipython3",
   "version": "3.11.12"
  }
 },
 "nbformat": 4,
 "nbformat_minor": 2
}
