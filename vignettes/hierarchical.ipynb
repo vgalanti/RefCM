{
 "cells": [
  {
   "cell_type": "markdown",
   "metadata": {},
   "source": [
    "Let us now consider hierarchical cell-type relationships. For this, we will utilize the Allen-Brain datasets, as they come with two (non-overlapping) granularity-levels of cell-types."
   ]
  },
  {
   "cell_type": "code",
   "execution_count": 1,
   "metadata": {},
   "outputs": [],
   "source": [
    "import sys\n",
    "sys.path.append('../src/')\n",
    "\n",
    "import json\n",
    "import config\n",
    "import logging\n",
    "import scanpy as sc\n",
    "from refcm import RefCM\n",
    "\n",
    "config.start_logging(logging.DEBUG)"
   ]
  },
  {
   "cell_type": "code",
   "execution_count": 2,
   "metadata": {},
   "outputs": [
    {
     "name": "stderr",
     "output_type": "stream",
     "text": [
      "[h5py._conv      ] [DEBUG   ] : Creating converter from 3 to 5\n"
     ]
    }
   ],
   "source": [
    "mtg = sc.read_h5ad('../data/MTG.h5ad')\n",
    "alm = sc.read_h5ad('../data/ALM.h5ad')\n",
    "visp = sc.read_h5ad('../data/VISp.h5ad')"
   ]
  },
  {
   "cell_type": "markdown",
   "metadata": {},
   "source": [
    "Let us first retrieve the hierarchical relationships between cell types:"
   ]
  },
  {
   "cell_type": "code",
   "execution_count": 3,
   "metadata": {},
   "outputs": [
    {
     "name": "stdout",
     "output_type": "stream",
     "text": [
      "{\n",
      "    \"Excitatory\": [\n",
      "        \"Exc L5/6 IT 3\",\n",
      "        \"Exc L6 CT\",\n",
      "        \"Exc L6b\",\n",
      "        \"Exc L4/5 IT\",\n",
      "        \"Exc L5/6 IT 2\",\n",
      "        \"Exc L6 IT 1\",\n",
      "        \"Exc L6 IT 2\",\n",
      "        \"Exc L5/6 NP\",\n",
      "        \"Exc L2/3 IT\",\n",
      "        \"Exc L5/6 IT 1\",\n",
      "        \"Exc L3/5 IT\",\n",
      "        \"Exc L5 PT\"\n",
      "    ],\n",
      "    \"Inhibitory\": [\n",
      "        \"Sst 1\",\n",
      "        \"Lamp5 Rosehip\",\n",
      "        \"Vip 5\",\n",
      "        \"Pvalb 2\",\n",
      "        \"Sst 3\",\n",
      "        \"Pvalb 1\",\n",
      "        \"Vip 3\",\n",
      "        \"Pax6\",\n",
      "        \"Vip 1\",\n",
      "        \"Vip Sncg\",\n",
      "        \"Vip 4\",\n",
      "        \"Lamp5 2\",\n",
      "        \"Lamp5 Lhx6\",\n",
      "        \"Sst 4\",\n",
      "        \"Chandelier\",\n",
      "        \"Vip 2\",\n",
      "        \"Sst 2\",\n",
      "        \"Sst 5\",\n",
      "        \"Sst Chodl\",\n",
      "        \"Lamp5 1\"\n",
      "    ],\n",
      "    \"Non-neuronal\": [\n",
      "        \"Astrocyte\",\n",
      "        \"Oligo\"\n",
      "    ]\n",
      "}\n"
     ]
    }
   ],
   "source": [
    "labels = mtg.obs[['labels3', 'labels34']].set_index('labels3')\n",
    "coarse_levels = labels.index.unique().to_list()\n",
    "\n",
    "hierarchy = {\n",
    "    level: labels.loc[level].drop_duplicates().values.flatten().tolist()\n",
    "    for level in coarse_levels\n",
    "}\n",
    "\n",
    "print(json.dumps(hierarchy, indent=4, sort_keys=True))"
   ]
  },
  {
   "cell_type": "markdown",
   "metadata": {},
   "source": [
    "We can then map across these different levels and datasets -- here VISp to ALM -- and evaluate the performance as follows. Let us first consider mapping from granular to coarse resolutions."
   ]
  },
  {
   "cell_type": "code",
   "execution_count": 7,
   "metadata": {},
   "outputs": [
    {
     "name": "stderr",
     "output_type": "stream",
     "text": [
      "[refcm           ] [INFO    ] : NOTE: raw counts expected in anndata .X attributes.\n",
      "[refcm           ] [DEBUG   ] : Loading cached mapping costs from ../src/cache.json.\n",
      "[embeddings      ] [DEBUG   ] : Using 1503 genes.\n",
      "[refcm           ] [DEBUG   ] : Computing Wasserstein distances.\n",
      "|████████████████| [100.00% ] : 00:27\n",
      "[refcm           ] [DEBUG   ] : Saving mapping costs to ../src/cache.json.\n",
      "[refcm           ] [DEBUG   ] : starting LP optimization\n",
      "[refcm           ] [DEBUG   ] : optimization terminated w. status \"Optimal\"\n"
     ]
    }
   ],
   "source": [
    "# ensure we allow the query clusters to \"merge\" without restriction\n",
    "rcm = RefCM(max_merges=-1)\n",
    "rcm.setref(alm, 'ALM', 'labels3')\n",
    "m = rcm.annotate(visp, 'VISp', 'labels34')"
   ]
  },
  {
   "cell_type": "code",
   "execution_count": 6,
   "metadata": {},
   "outputs": [
    {
     "name": "stderr",
     "output_type": "stream",
     "text": [
      "[matchings       ] [DEBUG   ] : \u001b[32m[+|0.70]\u001b[0m Astrocyte            mapped to Non-neuronal        \n",
      "[matchings       ] [DEBUG   ] : \u001b[32m[+|0.70]\u001b[0m Chandelier           mapped to Inhibitory          \n",
      "[matchings       ] [DEBUG   ] : \u001b[32m[+|0.70]\u001b[0m Exc L2/3 IT          mapped to Excitatory          \n",
      "[matchings       ] [DEBUG   ] : \u001b[32m[+|0.70]\u001b[0m Exc L3/5 IT          mapped to Excitatory          \n",
      "[matchings       ] [DEBUG   ] : \u001b[32m[+|0.70]\u001b[0m Exc L4/5 IT          mapped to Excitatory          \n",
      "[matchings       ] [DEBUG   ] : \u001b[32m[+|0.70]\u001b[0m Exc L5 PT            mapped to Excitatory          \n",
      "[matchings       ] [DEBUG   ] : \u001b[32m[+|0.70]\u001b[0m Exc L5/6 IT 1        mapped to Excitatory          \n",
      "[matchings       ] [DEBUG   ] : \u001b[32m[+|0.70]\u001b[0m Exc L5/6 IT 2        mapped to Excitatory          \n",
      "[matchings       ] [DEBUG   ] : \u001b[32m[+|0.70]\u001b[0m Exc L5/6 IT 3        mapped to Excitatory          \n",
      "[matchings       ] [DEBUG   ] : \u001b[32m[+|0.70]\u001b[0m Exc L5/6 NP          mapped to Excitatory          \n",
      "[matchings       ] [DEBUG   ] : \u001b[32m[+|0.70]\u001b[0m Exc L6 CT            mapped to Excitatory          \n",
      "[matchings       ] [DEBUG   ] : \u001b[32m[+|0.70]\u001b[0m Exc L6 IT 1          mapped to Excitatory          \n",
      "[matchings       ] [DEBUG   ] : \u001b[32m[+|0.70]\u001b[0m Exc L6 IT 2          mapped to Excitatory          \n",
      "[matchings       ] [DEBUG   ] : \u001b[32m[+|0.70]\u001b[0m Exc L6b              mapped to Excitatory          \n",
      "[matchings       ] [DEBUG   ] : \u001b[32m[+|0.70]\u001b[0m Lamp5 1              mapped to Inhibitory          \n",
      "[matchings       ] [DEBUG   ] : \u001b[32m[+|0.70]\u001b[0m Lamp5 2              mapped to Inhibitory          \n",
      "[matchings       ] [DEBUG   ] : \u001b[32m[+|0.70]\u001b[0m Lamp5 Lhx6           mapped to Inhibitory          \n",
      "[matchings       ] [DEBUG   ] : \u001b[32m[+|0.70]\u001b[0m Lamp5 Rosehip        mapped to Inhibitory          \n",
      "[matchings       ] [DEBUG   ] : \u001b[32m[+|0.70]\u001b[0m Oligo                mapped to Non-neuronal        \n",
      "[matchings       ] [DEBUG   ] : \u001b[32m[+|0.70]\u001b[0m Pax6                 mapped to Inhibitory          \n",
      "[matchings       ] [DEBUG   ] : \u001b[32m[+|0.70]\u001b[0m Pvalb 1              mapped to Inhibitory          \n",
      "[matchings       ] [DEBUG   ] : \u001b[32m[+|0.70]\u001b[0m Pvalb 2              mapped to Inhibitory          \n",
      "[matchings       ] [DEBUG   ] : \u001b[32m[+|0.70]\u001b[0m Sst 1                mapped to Inhibitory          \n",
      "[matchings       ] [DEBUG   ] : \u001b[32m[+|0.70]\u001b[0m Sst 2                mapped to Inhibitory          \n",
      "[matchings       ] [DEBUG   ] : \u001b[32m[+|0.70]\u001b[0m Sst 3                mapped to Inhibitory          \n",
      "[matchings       ] [DEBUG   ] : \u001b[32m[+|0.70]\u001b[0m Sst 4                mapped to Inhibitory          \n",
      "[matchings       ] [DEBUG   ] : \u001b[32m[+|0.70]\u001b[0m Sst 5                mapped to Inhibitory          \n",
      "[matchings       ] [DEBUG   ] : \u001b[32m[+|0.70]\u001b[0m Sst Chodl            mapped to Inhibitory          \n",
      "[matchings       ] [DEBUG   ] : \u001b[32m[+|0.70]\u001b[0m Vip 1                mapped to Inhibitory          \n",
      "[matchings       ] [DEBUG   ] : \u001b[32m[+|0.70]\u001b[0m Vip 2                mapped to Inhibitory          \n",
      "[matchings       ] [DEBUG   ] : \u001b[32m[+|0.70]\u001b[0m Vip 3                mapped to Inhibitory          \n",
      "[matchings       ] [DEBUG   ] : \u001b[32m[+|0.70]\u001b[0m Vip 4                mapped to Inhibitory          \n",
      "[matchings       ] [DEBUG   ] : \u001b[32m[+|0.70]\u001b[0m Vip 5                mapped to Inhibitory          \n",
      "[matchings       ] [DEBUG   ] : \u001b[32m[+|0.70]\u001b[0m Vip Sncg             mapped to Inhibitory          \n",
      "[matchings       ] [INFO    ] : VISp                 to ALM                 \n",
      "[matchings       ] [INFO    ] : 0     common cell types\n",
      "[matchings       ] [INFO    ] : 34/0  correct   links\n",
      "[matchings       ] [INFO    ] : 0     incorrect links\n"
     ]
    },
    {
     "data": {
      "application/vnd.plotly.v1+json": {
       "config": {
        "plotlyServerURL": "https://plot.ly"
       },
       "data": [
        {
         "coloraxis": "coloraxis",
         "hovertemplate": "Reference: ALM: %{x}<br>Query: VISp: %{y}<br>cost: %{z}<extra></extra>",
         "name": "0",
         "type": "heatmap",
         "x": [
          "Excitatory",
          "Inhibitory",
          "Non-neuronal"
         ],
         "xaxis": "x",
         "y": [
          "Astrocyte",
          "Chandelier",
          "Exc L2/3 IT",
          "Exc L3/5 IT",
          "Exc L4/5 IT",
          "Exc L5 PT",
          "Exc L5/6 IT 1",
          "Exc L5/6 IT 2",
          "Exc L5/6 IT 3",
          "Exc L5/6 NP",
          "Exc L6 CT",
          "Exc L6 IT 1",
          "Exc L6 IT 2",
          "Exc L6b",
          "Lamp5 1",
          "Lamp5 2",
          "Lamp5 Lhx6",
          "Lamp5 Rosehip",
          "Oligo",
          "Pax6",
          "Pvalb 1",
          "Pvalb 2",
          "Sst 1",
          "Sst 2",
          "Sst 3",
          "Sst 4",
          "Sst 5",
          "Sst Chodl",
          "Vip 1",
          "Vip 2",
          "Vip 3",
          "Vip 4",
          "Vip 5",
          "Vip Sncg"
         ],
         "yaxis": "y",
         "z": [
          [
           -0.22722086569768676,
           -0.16991007802120128,
           -0.338211035251887
          ],
          [
           -0.5958944637350322,
           -0.665651802940972,
           -0.09060676073077138
          ],
          [
           -0.9868373690637364,
           -0.5944611300494124,
           -0.10918034164839475
          ],
          [
           -0.9997540684956598,
           -0.5969837175511208,
           -0.1006044101273166
          ],
          [
           -0.9767139938875037,
           -0.5734520737655029,
           -0.07637622704279126
          ],
          [
           -0.9023718553032488,
           -0.5808451441653382,
           -0.10560758710937508
          ],
          [
           -0.9504397077223876,
           -0.5904000518108161,
           -0.10670750123892105
          ],
          [
           -0.9621474763138685,
           -0.5622037667369904,
           -0.08077946356717475
          ],
          [
           -1,
           -0.5874830926781608,
           -0.10034509809604938
          ],
          [
           -0.7442142142009516,
           -0.48267193838916955,
           -0.038107527064272624
          ],
          [
           -0.830756091874229,
           -0.47272394469017676,
           -0.037304591378478094
          ],
          [
           -0.9453156056308217,
           -0.5641747635230533,
           -0.08409684356482289
          ],
          [
           -0.798903513254795,
           -0.49455727183861325,
           -0.06159079706014254
          ],
          [
           -0.8268750097207933,
           -0.5295672081557659,
           -0.061188304487677356
          ],
          [
           -0.6096408572838267,
           -0.7236372675577135,
           -0.07588219479245939
          ],
          [
           -0.6866098238476478,
           -0.7703709029597241,
           -0.10230938276000179
          ],
          [
           -0.5610567618061575,
           -0.672679113848653,
           -0.07351976677922985
          ],
          [
           -0.6302382660546829,
           -0.7343383192322429,
           -0.10180695238432698
          ],
          [
           -0.09483325741855565,
           -0.06048294089179048,
           -0.7573370832035168
          ],
          [
           -0.6748535089227982,
           -0.746029826902971,
           -0.1342874551451191
          ],
          [
           -0.5581356301496968,
           -0.6679984654750756,
           -0.06767098685316354
          ],
          [
           -0.5767053567236815,
           -0.7055351722835196,
           -0.07885214375886013
          ],
          [
           -0.5347440355715196,
           -0.6362432273593268,
           -0.018222339009798538
          ],
          [
           -0.6227332155442948,
           -0.7261381095408924,
           -0.08787885271887672
          ],
          [
           -0.5847415167206724,
           -0.6558136265441831,
           -0.05727837237116125
          ],
          [
           -0.48577576616435614,
           -0.5659452535333658,
           0
          ],
          [
           -0.6130753685356457,
           -0.7208521531851622,
           -0.07232525912218299
          ],
          [
           -0.6004055784288519,
           -0.6276495825574667,
           -0.08091654423120756
          ],
          [
           -0.5911169463395088,
           -0.687543679922617,
           -0.07716329110082405
          ],
          [
           -0.6626096204897218,
           -0.7644962660605057,
           -0.10835373752740972
          ],
          [
           -0.6705705938772334,
           -0.7849896471865458,
           -0.10779893287191503
          ],
          [
           -0.6266582064592078,
           -0.7239501071852797,
           -0.08120309625465591
          ],
          [
           -0.6305915958735893,
           -0.7389032005725805,
           -0.08655606488945866
          ],
          [
           -0.6933029922408962,
           -0.7910306177666462,
           -0.15041049744288373
          ]
         ]
        },
        {
         "hovertemplate": "%{y} -> %{x}",
         "marker": {
          "color": [
           "green",
           "green",
           "green",
           "green",
           "green",
           "green",
           "green",
           "green",
           "green",
           "green",
           "green",
           "green",
           "green",
           "green",
           "green",
           "green",
           "green",
           "green",
           "green",
           "green",
           "green",
           "green",
           "green",
           "green",
           "green",
           "green",
           "green",
           "green",
           "green",
           "green",
           "green",
           "green",
           "green",
           "green"
          ],
          "size": 5
         },
         "mode": "markers",
         "name": "",
         "type": "scatter",
         "x": [
          "Non-neuronal",
          "Inhibitory",
          "Excitatory",
          "Excitatory",
          "Excitatory",
          "Excitatory",
          "Excitatory",
          "Excitatory",
          "Excitatory",
          "Excitatory",
          "Excitatory",
          "Excitatory",
          "Excitatory",
          "Excitatory",
          "Inhibitory",
          "Inhibitory",
          "Inhibitory",
          "Inhibitory",
          "Non-neuronal",
          "Inhibitory",
          "Inhibitory",
          "Inhibitory",
          "Inhibitory",
          "Inhibitory",
          "Inhibitory",
          "Inhibitory",
          "Inhibitory",
          "Inhibitory",
          "Inhibitory",
          "Inhibitory",
          "Inhibitory",
          "Inhibitory",
          "Inhibitory",
          "Inhibitory"
         ],
         "y": [
          "Astrocyte",
          "Chandelier",
          "Exc L2/3 IT",
          "Exc L3/5 IT",
          "Exc L4/5 IT",
          "Exc L5 PT",
          "Exc L5/6 IT 1",
          "Exc L5/6 IT 2",
          "Exc L5/6 IT 3",
          "Exc L5/6 NP",
          "Exc L6 CT",
          "Exc L6 IT 1",
          "Exc L6 IT 2",
          "Exc L6b",
          "Lamp5 1",
          "Lamp5 2",
          "Lamp5 Lhx6",
          "Lamp5 Rosehip",
          "Oligo",
          "Pax6",
          "Pvalb 1",
          "Pvalb 2",
          "Sst 1",
          "Sst 2",
          "Sst 3",
          "Sst 4",
          "Sst 5",
          "Sst Chodl",
          "Vip 1",
          "Vip 2",
          "Vip 3",
          "Vip 4",
          "Vip 5",
          "Vip Sncg"
         ]
        }
       ],
       "layout": {
        "coloraxis": {
         "colorbar": {
          "title": {
           "text": "cost"
          }
         },
         "colorscale": [
          [
           0,
           "rgb(75, 41, 145)"
          ],
          [
           0.16666666666666666,
           "rgb(135, 44, 162)"
          ],
          [
           0.3333333333333333,
           "rgb(192, 54, 157)"
          ],
          [
           0.5,
           "rgb(234, 79, 136)"
          ],
          [
           0.6666666666666666,
           "rgb(250, 120, 118)"
          ],
          [
           0.8333333333333334,
           "rgb(246, 169, 122)"
          ],
          [
           1,
           "rgb(237, 217, 163)"
          ]
         ]
        },
        "template": {
         "data": {
          "bar": [
           {
            "error_x": {
             "color": "#2a3f5f"
            },
            "error_y": {
             "color": "#2a3f5f"
            },
            "marker": {
             "line": {
              "color": "#E5ECF6",
              "width": 0.5
             },
             "pattern": {
              "fillmode": "overlay",
              "size": 10,
              "solidity": 0.2
             }
            },
            "type": "bar"
           }
          ],
          "barpolar": [
           {
            "marker": {
             "line": {
              "color": "#E5ECF6",
              "width": 0.5
             },
             "pattern": {
              "fillmode": "overlay",
              "size": 10,
              "solidity": 0.2
             }
            },
            "type": "barpolar"
           }
          ],
          "carpet": [
           {
            "aaxis": {
             "endlinecolor": "#2a3f5f",
             "gridcolor": "white",
             "linecolor": "white",
             "minorgridcolor": "white",
             "startlinecolor": "#2a3f5f"
            },
            "baxis": {
             "endlinecolor": "#2a3f5f",
             "gridcolor": "white",
             "linecolor": "white",
             "minorgridcolor": "white",
             "startlinecolor": "#2a3f5f"
            },
            "type": "carpet"
           }
          ],
          "choropleth": [
           {
            "colorbar": {
             "outlinewidth": 0,
             "ticks": ""
            },
            "type": "choropleth"
           }
          ],
          "contour": [
           {
            "colorbar": {
             "outlinewidth": 0,
             "ticks": ""
            },
            "colorscale": [
             [
              0,
              "#0d0887"
             ],
             [
              0.1111111111111111,
              "#46039f"
             ],
             [
              0.2222222222222222,
              "#7201a8"
             ],
             [
              0.3333333333333333,
              "#9c179e"
             ],
             [
              0.4444444444444444,
              "#bd3786"
             ],
             [
              0.5555555555555556,
              "#d8576b"
             ],
             [
              0.6666666666666666,
              "#ed7953"
             ],
             [
              0.7777777777777778,
              "#fb9f3a"
             ],
             [
              0.8888888888888888,
              "#fdca26"
             ],
             [
              1,
              "#f0f921"
             ]
            ],
            "type": "contour"
           }
          ],
          "contourcarpet": [
           {
            "colorbar": {
             "outlinewidth": 0,
             "ticks": ""
            },
            "type": "contourcarpet"
           }
          ],
          "heatmap": [
           {
            "colorbar": {
             "outlinewidth": 0,
             "ticks": ""
            },
            "colorscale": [
             [
              0,
              "#0d0887"
             ],
             [
              0.1111111111111111,
              "#46039f"
             ],
             [
              0.2222222222222222,
              "#7201a8"
             ],
             [
              0.3333333333333333,
              "#9c179e"
             ],
             [
              0.4444444444444444,
              "#bd3786"
             ],
             [
              0.5555555555555556,
              "#d8576b"
             ],
             [
              0.6666666666666666,
              "#ed7953"
             ],
             [
              0.7777777777777778,
              "#fb9f3a"
             ],
             [
              0.8888888888888888,
              "#fdca26"
             ],
             [
              1,
              "#f0f921"
             ]
            ],
            "type": "heatmap"
           }
          ],
          "heatmapgl": [
           {
            "colorbar": {
             "outlinewidth": 0,
             "ticks": ""
            },
            "colorscale": [
             [
              0,
              "#0d0887"
             ],
             [
              0.1111111111111111,
              "#46039f"
             ],
             [
              0.2222222222222222,
              "#7201a8"
             ],
             [
              0.3333333333333333,
              "#9c179e"
             ],
             [
              0.4444444444444444,
              "#bd3786"
             ],
             [
              0.5555555555555556,
              "#d8576b"
             ],
             [
              0.6666666666666666,
              "#ed7953"
             ],
             [
              0.7777777777777778,
              "#fb9f3a"
             ],
             [
              0.8888888888888888,
              "#fdca26"
             ],
             [
              1,
              "#f0f921"
             ]
            ],
            "type": "heatmapgl"
           }
          ],
          "histogram": [
           {
            "marker": {
             "pattern": {
              "fillmode": "overlay",
              "size": 10,
              "solidity": 0.2
             }
            },
            "type": "histogram"
           }
          ],
          "histogram2d": [
           {
            "colorbar": {
             "outlinewidth": 0,
             "ticks": ""
            },
            "colorscale": [
             [
              0,
              "#0d0887"
             ],
             [
              0.1111111111111111,
              "#46039f"
             ],
             [
              0.2222222222222222,
              "#7201a8"
             ],
             [
              0.3333333333333333,
              "#9c179e"
             ],
             [
              0.4444444444444444,
              "#bd3786"
             ],
             [
              0.5555555555555556,
              "#d8576b"
             ],
             [
              0.6666666666666666,
              "#ed7953"
             ],
             [
              0.7777777777777778,
              "#fb9f3a"
             ],
             [
              0.8888888888888888,
              "#fdca26"
             ],
             [
              1,
              "#f0f921"
             ]
            ],
            "type": "histogram2d"
           }
          ],
          "histogram2dcontour": [
           {
            "colorbar": {
             "outlinewidth": 0,
             "ticks": ""
            },
            "colorscale": [
             [
              0,
              "#0d0887"
             ],
             [
              0.1111111111111111,
              "#46039f"
             ],
             [
              0.2222222222222222,
              "#7201a8"
             ],
             [
              0.3333333333333333,
              "#9c179e"
             ],
             [
              0.4444444444444444,
              "#bd3786"
             ],
             [
              0.5555555555555556,
              "#d8576b"
             ],
             [
              0.6666666666666666,
              "#ed7953"
             ],
             [
              0.7777777777777778,
              "#fb9f3a"
             ],
             [
              0.8888888888888888,
              "#fdca26"
             ],
             [
              1,
              "#f0f921"
             ]
            ],
            "type": "histogram2dcontour"
           }
          ],
          "mesh3d": [
           {
            "colorbar": {
             "outlinewidth": 0,
             "ticks": ""
            },
            "type": "mesh3d"
           }
          ],
          "parcoords": [
           {
            "line": {
             "colorbar": {
              "outlinewidth": 0,
              "ticks": ""
             }
            },
            "type": "parcoords"
           }
          ],
          "pie": [
           {
            "automargin": true,
            "type": "pie"
           }
          ],
          "scatter": [
           {
            "fillpattern": {
             "fillmode": "overlay",
             "size": 10,
             "solidity": 0.2
            },
            "type": "scatter"
           }
          ],
          "scatter3d": [
           {
            "line": {
             "colorbar": {
              "outlinewidth": 0,
              "ticks": ""
             }
            },
            "marker": {
             "colorbar": {
              "outlinewidth": 0,
              "ticks": ""
             }
            },
            "type": "scatter3d"
           }
          ],
          "scattercarpet": [
           {
            "marker": {
             "colorbar": {
              "outlinewidth": 0,
              "ticks": ""
             }
            },
            "type": "scattercarpet"
           }
          ],
          "scattergeo": [
           {
            "marker": {
             "colorbar": {
              "outlinewidth": 0,
              "ticks": ""
             }
            },
            "type": "scattergeo"
           }
          ],
          "scattergl": [
           {
            "marker": {
             "colorbar": {
              "outlinewidth": 0,
              "ticks": ""
             }
            },
            "type": "scattergl"
           }
          ],
          "scattermapbox": [
           {
            "marker": {
             "colorbar": {
              "outlinewidth": 0,
              "ticks": ""
             }
            },
            "type": "scattermapbox"
           }
          ],
          "scatterpolar": [
           {
            "marker": {
             "colorbar": {
              "outlinewidth": 0,
              "ticks": ""
             }
            },
            "type": "scatterpolar"
           }
          ],
          "scatterpolargl": [
           {
            "marker": {
             "colorbar": {
              "outlinewidth": 0,
              "ticks": ""
             }
            },
            "type": "scatterpolargl"
           }
          ],
          "scatterternary": [
           {
            "marker": {
             "colorbar": {
              "outlinewidth": 0,
              "ticks": ""
             }
            },
            "type": "scatterternary"
           }
          ],
          "surface": [
           {
            "colorbar": {
             "outlinewidth": 0,
             "ticks": ""
            },
            "colorscale": [
             [
              0,
              "#0d0887"
             ],
             [
              0.1111111111111111,
              "#46039f"
             ],
             [
              0.2222222222222222,
              "#7201a8"
             ],
             [
              0.3333333333333333,
              "#9c179e"
             ],
             [
              0.4444444444444444,
              "#bd3786"
             ],
             [
              0.5555555555555556,
              "#d8576b"
             ],
             [
              0.6666666666666666,
              "#ed7953"
             ],
             [
              0.7777777777777778,
              "#fb9f3a"
             ],
             [
              0.8888888888888888,
              "#fdca26"
             ],
             [
              1,
              "#f0f921"
             ]
            ],
            "type": "surface"
           }
          ],
          "table": [
           {
            "cells": {
             "fill": {
              "color": "#EBF0F8"
             },
             "line": {
              "color": "white"
             }
            },
            "header": {
             "fill": {
              "color": "#C8D4E3"
             },
             "line": {
              "color": "white"
             }
            },
            "type": "table"
           }
          ]
         },
         "layout": {
          "annotationdefaults": {
           "arrowcolor": "#2a3f5f",
           "arrowhead": 0,
           "arrowwidth": 1
          },
          "autotypenumbers": "strict",
          "coloraxis": {
           "colorbar": {
            "outlinewidth": 0,
            "ticks": ""
           }
          },
          "colorscale": {
           "diverging": [
            [
             0,
             "#8e0152"
            ],
            [
             0.1,
             "#c51b7d"
            ],
            [
             0.2,
             "#de77ae"
            ],
            [
             0.3,
             "#f1b6da"
            ],
            [
             0.4,
             "#fde0ef"
            ],
            [
             0.5,
             "#f7f7f7"
            ],
            [
             0.6,
             "#e6f5d0"
            ],
            [
             0.7,
             "#b8e186"
            ],
            [
             0.8,
             "#7fbc41"
            ],
            [
             0.9,
             "#4d9221"
            ],
            [
             1,
             "#276419"
            ]
           ],
           "sequential": [
            [
             0,
             "#0d0887"
            ],
            [
             0.1111111111111111,
             "#46039f"
            ],
            [
             0.2222222222222222,
             "#7201a8"
            ],
            [
             0.3333333333333333,
             "#9c179e"
            ],
            [
             0.4444444444444444,
             "#bd3786"
            ],
            [
             0.5555555555555556,
             "#d8576b"
            ],
            [
             0.6666666666666666,
             "#ed7953"
            ],
            [
             0.7777777777777778,
             "#fb9f3a"
            ],
            [
             0.8888888888888888,
             "#fdca26"
            ],
            [
             1,
             "#f0f921"
            ]
           ],
           "sequentialminus": [
            [
             0,
             "#0d0887"
            ],
            [
             0.1111111111111111,
             "#46039f"
            ],
            [
             0.2222222222222222,
             "#7201a8"
            ],
            [
             0.3333333333333333,
             "#9c179e"
            ],
            [
             0.4444444444444444,
             "#bd3786"
            ],
            [
             0.5555555555555556,
             "#d8576b"
            ],
            [
             0.6666666666666666,
             "#ed7953"
            ],
            [
             0.7777777777777778,
             "#fb9f3a"
            ],
            [
             0.8888888888888888,
             "#fdca26"
            ],
            [
             1,
             "#f0f921"
            ]
           ]
          },
          "colorway": [
           "#636efa",
           "#EF553B",
           "#00cc96",
           "#ab63fa",
           "#FFA15A",
           "#19d3f3",
           "#FF6692",
           "#B6E880",
           "#FF97FF",
           "#FECB52"
          ],
          "font": {
           "color": "#2a3f5f"
          },
          "geo": {
           "bgcolor": "white",
           "lakecolor": "white",
           "landcolor": "#E5ECF6",
           "showlakes": true,
           "showland": true,
           "subunitcolor": "white"
          },
          "hoverlabel": {
           "align": "left"
          },
          "hovermode": "closest",
          "mapbox": {
           "style": "light"
          },
          "paper_bgcolor": "white",
          "plot_bgcolor": "#E5ECF6",
          "polar": {
           "angularaxis": {
            "gridcolor": "white",
            "linecolor": "white",
            "ticks": ""
           },
           "bgcolor": "#E5ECF6",
           "radialaxis": {
            "gridcolor": "white",
            "linecolor": "white",
            "ticks": ""
           }
          },
          "scene": {
           "xaxis": {
            "backgroundcolor": "#E5ECF6",
            "gridcolor": "white",
            "gridwidth": 2,
            "linecolor": "white",
            "showbackground": true,
            "ticks": "",
            "zerolinecolor": "white"
           },
           "yaxis": {
            "backgroundcolor": "#E5ECF6",
            "gridcolor": "white",
            "gridwidth": 2,
            "linecolor": "white",
            "showbackground": true,
            "ticks": "",
            "zerolinecolor": "white"
           },
           "zaxis": {
            "backgroundcolor": "#E5ECF6",
            "gridcolor": "white",
            "gridwidth": 2,
            "linecolor": "white",
            "showbackground": true,
            "ticks": "",
            "zerolinecolor": "white"
           }
          },
          "shapedefaults": {
           "line": {
            "color": "#2a3f5f"
           }
          },
          "ternary": {
           "aaxis": {
            "gridcolor": "white",
            "linecolor": "white",
            "ticks": ""
           },
           "baxis": {
            "gridcolor": "white",
            "linecolor": "white",
            "ticks": ""
           },
           "bgcolor": "#E5ECF6",
           "caxis": {
            "gridcolor": "white",
            "linecolor": "white",
            "ticks": ""
           }
          },
          "title": {
           "x": 0.05
          },
          "xaxis": {
           "automargin": true,
           "gridcolor": "white",
           "linecolor": "white",
           "ticks": "",
           "title": {
            "standoff": 15
           },
           "zerolinecolor": "white",
           "zerolinewidth": 2
          },
          "yaxis": {
           "automargin": true,
           "gridcolor": "white",
           "linecolor": "white",
           "ticks": "",
           "title": {
            "standoff": 15
           },
           "zerolinecolor": "white",
           "zerolinewidth": 2
          }
         }
        },
        "title": {
         "text": "VISp to ALM matching cost"
        },
        "xaxis": {
         "anchor": "y",
         "constrain": "domain",
         "domain": [
          0,
          1
         ],
         "scaleanchor": "y",
         "tickangle": -90,
         "title": {
          "text": "Reference: ALM"
         }
        },
        "yaxis": {
         "anchor": "x",
         "autorange": "reversed",
         "constrain": "domain",
         "domain": [
          0,
          1
         ],
         "title": {
          "text": "Query: VISp"
         }
        }
       }
      }
     },
     "metadata": {},
     "output_type": "display_data"
    }
   ],
   "source": [
    "m.set_type_equality_strictness(0.7)\n",
    "m.eval('labels34')\n",
    "m.display_matching_costs(ground_truth_obs_key='labels34')"
   ]
  },
  {
   "cell_type": "markdown",
   "metadata": {},
   "source": [
    "Comparing with the previously-established hierarchy, every cell was indeed correctly labeled to its coarser cell type!"
   ]
  },
  {
   "cell_type": "markdown",
   "metadata": {},
   "source": [
    "Conversely, let us now map from coarse to granular annotations:"
   ]
  },
  {
   "cell_type": "code",
   "execution_count": 8,
   "metadata": {},
   "outputs": [
    {
     "name": "stderr",
     "output_type": "stream",
     "text": [
      "[refcm           ] [INFO    ] : NOTE: raw counts expected in anndata .X attributes.\n",
      "[refcm           ] [DEBUG   ] : Loading cached mapping costs from ../src/cache.json.\n",
      "[embeddings      ] [DEBUG   ] : Using 1503 genes.\n",
      "[refcm           ] [DEBUG   ] : Computing Wasserstein distances.\n",
      "|████████████████| [100.00% ] : 00:26\n",
      "[refcm           ] [DEBUG   ] : Saving mapping costs to ../src/cache.json.\n",
      "[refcm           ] [DEBUG   ] : starting LP optimization\n",
      "[refcm           ] [DEBUG   ] : optimization terminated w. status \"Optimal\"\n"
     ]
    }
   ],
   "source": [
    "# ensure we allow the query clusters to \"merge\" without restriction\n",
    "rcm = RefCM(max_splits=-1)\n",
    "rcm.setref(alm, 'ALM', 'labels34')\n",
    "m = rcm.annotate(visp, 'VISp', 'labels3')"
   ]
  },
  {
   "cell_type": "code",
   "execution_count": 32,
   "metadata": {},
   "outputs": [
    {
     "name": "stderr",
     "output_type": "stream",
     "text": [
      "[matchings       ] [DEBUG   ] : \u001b[32m[+|0.70]\u001b[0m Excitatory           mapped to Exc L2/3 IT         \n",
      "[matchings       ] [DEBUG   ] : \u001b[32m[+|0.70]\u001b[0m Excitatory           mapped to Exc L3/5 IT         \n",
      "[matchings       ] [DEBUG   ] : \u001b[32m[+|0.70]\u001b[0m Excitatory           mapped to Exc L4/5 IT         \n",
      "[matchings       ] [DEBUG   ] : \u001b[32m[+|0.70]\u001b[0m Excitatory           mapped to Exc L5 PT           \n",
      "[matchings       ] [DEBUG   ] : \u001b[32m[+|0.70]\u001b[0m Excitatory           mapped to Exc L5/6 IT 1       \n",
      "[matchings       ] [DEBUG   ] : \u001b[32m[+|0.70]\u001b[0m Excitatory           mapped to Exc L5/6 IT 2       \n",
      "[matchings       ] [DEBUG   ] : \u001b[32m[+|0.70]\u001b[0m Excitatory           mapped to Exc L5/6 IT 3       \n",
      "[matchings       ] [DEBUG   ] : \u001b[32m[+|0.70]\u001b[0m Excitatory           mapped to Exc L5/6 NP         \n",
      "[matchings       ] [DEBUG   ] : \u001b[32m[+|0.70]\u001b[0m Excitatory           mapped to Exc L6 CT           \n",
      "[matchings       ] [DEBUG   ] : \u001b[32m[+|0.70]\u001b[0m Excitatory           mapped to Exc L6 IT 1         \n",
      "[matchings       ] [DEBUG   ] : \u001b[32m[+|0.70]\u001b[0m Excitatory           mapped to Exc L6 IT 2         \n",
      "[matchings       ] [DEBUG   ] : \u001b[32m[+|0.70]\u001b[0m Excitatory           mapped to Exc L6b             \n",
      "[matchings       ] [DEBUG   ] : \u001b[32m[+|0.70]\u001b[0m Inhibitory           mapped to Chandelier          \n",
      "[matchings       ] [DEBUG   ] : \u001b[32m[+|0.70]\u001b[0m Inhibitory           mapped to Lamp5 1             \n",
      "[matchings       ] [DEBUG   ] : \u001b[32m[+|0.70]\u001b[0m Inhibitory           mapped to Lamp5 2             \n",
      "[matchings       ] [DEBUG   ] : \u001b[32m[+|0.70]\u001b[0m Inhibitory           mapped to Lamp5 Lhx6          \n",
      "[matchings       ] [DEBUG   ] : \u001b[32m[+|0.70]\u001b[0m Inhibitory           mapped to Lamp5 Rosehip       \n",
      "[matchings       ] [DEBUG   ] : \u001b[32m[+|0.70]\u001b[0m Inhibitory           mapped to Pax6                \n",
      "[matchings       ] [DEBUG   ] : \u001b[32m[+|0.70]\u001b[0m Inhibitory           mapped to Pvalb 1             \n",
      "[matchings       ] [DEBUG   ] : \u001b[32m[+|0.70]\u001b[0m Inhibitory           mapped to Pvalb 2             \n",
      "[matchings       ] [DEBUG   ] : \u001b[32m[+|0.70]\u001b[0m Inhibitory           mapped to Sst 1               \n",
      "[matchings       ] [DEBUG   ] : \u001b[32m[+|0.70]\u001b[0m Inhibitory           mapped to Sst 2               \n",
      "[matchings       ] [DEBUG   ] : \u001b[32m[+|0.70]\u001b[0m Inhibitory           mapped to Sst 3               \n",
      "[matchings       ] [DEBUG   ] : \u001b[32m[+|0.70]\u001b[0m Inhibitory           mapped to Sst 4               \n",
      "[matchings       ] [DEBUG   ] : \u001b[32m[+|0.70]\u001b[0m Inhibitory           mapped to Sst 5               \n",
      "[matchings       ] [DEBUG   ] : \u001b[32m[+|0.70]\u001b[0m Inhibitory           mapped to Sst Chodl           \n",
      "[matchings       ] [DEBUG   ] : \u001b[32m[+|0.70]\u001b[0m Inhibitory           mapped to Vip 1               \n",
      "[matchings       ] [DEBUG   ] : \u001b[32m[+|0.70]\u001b[0m Inhibitory           mapped to Vip 2               \n",
      "[matchings       ] [DEBUG   ] : \u001b[32m[+|0.70]\u001b[0m Inhibitory           mapped to Vip 3               \n",
      "[matchings       ] [DEBUG   ] : \u001b[32m[+|0.70]\u001b[0m Inhibitory           mapped to Vip 4               \n",
      "[matchings       ] [DEBUG   ] : \u001b[32m[+|0.70]\u001b[0m Inhibitory           mapped to Vip 5               \n",
      "[matchings       ] [DEBUG   ] : \u001b[32m[+|0.70]\u001b[0m Inhibitory           mapped to Vip Sncg            \n",
      "[matchings       ] [DEBUG   ] : \u001b[32m[+|0.70]\u001b[0m Non-neuronal         mapped to Astrocyte           \n",
      "[matchings       ] [DEBUG   ] : \u001b[32m[+|0.70]\u001b[0m Non-neuronal         mapped to Oligo               \n",
      "[matchings       ] [INFO    ] : VISp                 to ALM                 \n",
      "[matchings       ] [INFO    ] : 0     common cell types\n",
      "[matchings       ] [INFO    ] : 34/0  correct   links\n",
      "[matchings       ] [INFO    ] : 0     incorrect links\n"
     ]
    },
    {
     "data": {
      "application/vnd.plotly.v1+json": {
       "config": {
        "plotlyServerURL": "https://plot.ly"
       },
       "data": [
        {
         "coloraxis": "coloraxis",
         "hovertemplate": "Reference: ALM: %{x}<br>Query: VISp: %{y}<br>cost: %{z}<extra></extra>",
         "name": "0",
         "type": "heatmap",
         "x": [
          "Astrocyte",
          "Chandelier",
          "Exc L2/3 IT",
          "Exc L3/5 IT",
          "Exc L4/5 IT",
          "Exc L5 PT",
          "Exc L5/6 IT 1",
          "Exc L5/6 IT 2",
          "Exc L5/6 IT 3",
          "Exc L5/6 NP",
          "Exc L6 CT",
          "Exc L6 IT 1",
          "Exc L6 IT 2",
          "Exc L6b",
          "Lamp5 1",
          "Lamp5 2",
          "Lamp5 Lhx6",
          "Lamp5 Rosehip",
          "Oligo",
          "Pax6",
          "Pvalb 1",
          "Pvalb 2",
          "Sst 1",
          "Sst 2",
          "Sst 3",
          "Sst 4",
          "Sst 5",
          "Sst Chodl",
          "Vip 1",
          "Vip 2",
          "Vip 3",
          "Vip 4",
          "Vip 5",
          "Vip Sncg"
         ],
         "xaxis": "x",
         "y": [
          "Excitatory",
          "Inhibitory",
          "Non-neuronal"
         ],
         "yaxis": "y",
         "z": [
          [
           -0.044501021070029144,
           -0.4574701033612413,
           -1,
           -0.9877721882079584,
           -0.9696416387406224,
           -0.9127473818274867,
           -0.9885518280527479,
           -0.9906653246266433,
           -0.9500686844244378,
           -0.664370060040855,
           -0.7852141495347159,
           -0.8552805877906626,
           -0.9488991199790299,
           -0.6933703947071848,
           -0.5159389853302141,
           -0.6132078403773457,
           -0.4694591350881051,
           -0.5208264299786967,
           0,
           -0.5102259688973162,
           -0.4403749766080853,
           -0.43647313230337886,
           -0.4652656101457184,
           -0.5316134590270204,
           -0.5248582890166321,
           -0.5071384111723143,
           -0.5195771403681283,
           -0.4610192426282977,
           -0.489054329296749,
           -0.592952594791935,
           -0.5960888526927713,
           -0.5351024540788146,
           -0.5227000716592951,
           -0.5384439892129024
          ],
          [
           -0.02208313594268891,
           -0.6183653686023782,
           -0.6226297905916625,
           -0.6310359030083428,
           -0.5796956110369663,
           -0.6170220337024939,
           -0.6276842980092571,
           -0.6085559917002787,
           -0.5630403371800355,
           -0.468794869536153,
           -0.44240896810635827,
           -0.4788321553977594,
           -0.5584497562183737,
           -0.4423372545001058,
           -0.677316979490314,
           -0.739620729788112,
           -0.6263812965501435,
           -0.6671633544558014,
           -0.0035830389923965224,
           -0.6456568058287541,
           -0.6199626064516931,
           -0.6364063436722239,
           -0.6181196174227155,
           -0.7034468509355442,
           -0.6695297475942664,
           -0.6521637697142695,
           -0.6910998699959829,
           -0.551466290691297,
           -0.6429378594955054,
           -0.766130581507443,
           -0.7849037468299531,
           -0.7058420865425722,
           -0.7009234613501448,
           -0.7157746343042464
          ],
          [
           -0.8049104871310298,
           -0.07603033013850254,
           -0.1724317450325812,
           -0.1865483347732334,
           -0.1300390606279932,
           -0.1728334367060135,
           -0.17194456421733387,
           -0.1700357441297886,
           -0.12729265037911458,
           -0.0458812028007078,
           -0.04984411666297989,
           -0.08051185715152812,
           -0.12424045915059424,
           -0.034836740984383725,
           -0.05136953695861586,
           -0.10889612255321054,
           -0.06048893241645715,
           -0.07471175221247658,
           -0.3944287029132275,
           -0.09472045118639938,
           -0.05992437342869406,
           -0.05225203849589423,
           -0.01711171893412419,
           -0.08854853705190623,
           -0.06427764876547694,
           -0.0638010944733203,
           -0.07344051648861304,
           -0.046427429188523564,
           -0.06103180258783954,
           -0.12494343982436808,
           -0.13320513888205507,
           -0.08150545065765921,
           -0.0928767626997427,
           -0.12483426392967815
          ]
         ]
        },
        {
         "hovertemplate": "%{y} -> %{x}",
         "marker": {
          "color": [
           "green",
           "green",
           "green",
           "green",
           "green",
           "green",
           "green",
           "green",
           "green",
           "green",
           "green",
           "green",
           "green",
           "green",
           "green",
           "green",
           "green",
           "green",
           "green",
           "green",
           "green",
           "green",
           "green",
           "green",
           "green",
           "green",
           "green",
           "green",
           "green",
           "green",
           "green",
           "green",
           "green",
           "green"
          ],
          "size": 5
         },
         "mode": "markers",
         "name": "",
         "type": "scatter",
         "x": [
          "Exc L2/3 IT",
          "Exc L3/5 IT",
          "Exc L4/5 IT",
          "Exc L5 PT",
          "Exc L5/6 IT 1",
          "Exc L5/6 IT 2",
          "Exc L5/6 IT 3",
          "Exc L5/6 NP",
          "Exc L6 CT",
          "Exc L6 IT 1",
          "Exc L6 IT 2",
          "Exc L6b",
          "Chandelier",
          "Lamp5 1",
          "Lamp5 2",
          "Lamp5 Lhx6",
          "Lamp5 Rosehip",
          "Pax6",
          "Pvalb 1",
          "Pvalb 2",
          "Sst 1",
          "Sst 2",
          "Sst 3",
          "Sst 4",
          "Sst 5",
          "Sst Chodl",
          "Vip 1",
          "Vip 2",
          "Vip 3",
          "Vip 4",
          "Vip 5",
          "Vip Sncg",
          "Astrocyte",
          "Oligo"
         ],
         "y": [
          "Excitatory",
          "Excitatory",
          "Excitatory",
          "Excitatory",
          "Excitatory",
          "Excitatory",
          "Excitatory",
          "Excitatory",
          "Excitatory",
          "Excitatory",
          "Excitatory",
          "Excitatory",
          "Inhibitory",
          "Inhibitory",
          "Inhibitory",
          "Inhibitory",
          "Inhibitory",
          "Inhibitory",
          "Inhibitory",
          "Inhibitory",
          "Inhibitory",
          "Inhibitory",
          "Inhibitory",
          "Inhibitory",
          "Inhibitory",
          "Inhibitory",
          "Inhibitory",
          "Inhibitory",
          "Inhibitory",
          "Inhibitory",
          "Inhibitory",
          "Inhibitory",
          "Non-neuronal",
          "Non-neuronal"
         ]
        }
       ],
       "layout": {
        "coloraxis": {
         "colorbar": {
          "title": {
           "text": "cost"
          }
         },
         "colorscale": [
          [
           0,
           "rgb(75, 41, 145)"
          ],
          [
           0.16666666666666666,
           "rgb(135, 44, 162)"
          ],
          [
           0.3333333333333333,
           "rgb(192, 54, 157)"
          ],
          [
           0.5,
           "rgb(234, 79, 136)"
          ],
          [
           0.6666666666666666,
           "rgb(250, 120, 118)"
          ],
          [
           0.8333333333333334,
           "rgb(246, 169, 122)"
          ],
          [
           1,
           "rgb(237, 217, 163)"
          ]
         ]
        },
        "height": 400,
        "template": {
         "data": {
          "bar": [
           {
            "error_x": {
             "color": "#2a3f5f"
            },
            "error_y": {
             "color": "#2a3f5f"
            },
            "marker": {
             "line": {
              "color": "#E5ECF6",
              "width": 0.5
             },
             "pattern": {
              "fillmode": "overlay",
              "size": 10,
              "solidity": 0.2
             }
            },
            "type": "bar"
           }
          ],
          "barpolar": [
           {
            "marker": {
             "line": {
              "color": "#E5ECF6",
              "width": 0.5
             },
             "pattern": {
              "fillmode": "overlay",
              "size": 10,
              "solidity": 0.2
             }
            },
            "type": "barpolar"
           }
          ],
          "carpet": [
           {
            "aaxis": {
             "endlinecolor": "#2a3f5f",
             "gridcolor": "white",
             "linecolor": "white",
             "minorgridcolor": "white",
             "startlinecolor": "#2a3f5f"
            },
            "baxis": {
             "endlinecolor": "#2a3f5f",
             "gridcolor": "white",
             "linecolor": "white",
             "minorgridcolor": "white",
             "startlinecolor": "#2a3f5f"
            },
            "type": "carpet"
           }
          ],
          "choropleth": [
           {
            "colorbar": {
             "outlinewidth": 0,
             "ticks": ""
            },
            "type": "choropleth"
           }
          ],
          "contour": [
           {
            "colorbar": {
             "outlinewidth": 0,
             "ticks": ""
            },
            "colorscale": [
             [
              0,
              "#0d0887"
             ],
             [
              0.1111111111111111,
              "#46039f"
             ],
             [
              0.2222222222222222,
              "#7201a8"
             ],
             [
              0.3333333333333333,
              "#9c179e"
             ],
             [
              0.4444444444444444,
              "#bd3786"
             ],
             [
              0.5555555555555556,
              "#d8576b"
             ],
             [
              0.6666666666666666,
              "#ed7953"
             ],
             [
              0.7777777777777778,
              "#fb9f3a"
             ],
             [
              0.8888888888888888,
              "#fdca26"
             ],
             [
              1,
              "#f0f921"
             ]
            ],
            "type": "contour"
           }
          ],
          "contourcarpet": [
           {
            "colorbar": {
             "outlinewidth": 0,
             "ticks": ""
            },
            "type": "contourcarpet"
           }
          ],
          "heatmap": [
           {
            "colorbar": {
             "outlinewidth": 0,
             "ticks": ""
            },
            "colorscale": [
             [
              0,
              "#0d0887"
             ],
             [
              0.1111111111111111,
              "#46039f"
             ],
             [
              0.2222222222222222,
              "#7201a8"
             ],
             [
              0.3333333333333333,
              "#9c179e"
             ],
             [
              0.4444444444444444,
              "#bd3786"
             ],
             [
              0.5555555555555556,
              "#d8576b"
             ],
             [
              0.6666666666666666,
              "#ed7953"
             ],
             [
              0.7777777777777778,
              "#fb9f3a"
             ],
             [
              0.8888888888888888,
              "#fdca26"
             ],
             [
              1,
              "#f0f921"
             ]
            ],
            "type": "heatmap"
           }
          ],
          "heatmapgl": [
           {
            "colorbar": {
             "outlinewidth": 0,
             "ticks": ""
            },
            "colorscale": [
             [
              0,
              "#0d0887"
             ],
             [
              0.1111111111111111,
              "#46039f"
             ],
             [
              0.2222222222222222,
              "#7201a8"
             ],
             [
              0.3333333333333333,
              "#9c179e"
             ],
             [
              0.4444444444444444,
              "#bd3786"
             ],
             [
              0.5555555555555556,
              "#d8576b"
             ],
             [
              0.6666666666666666,
              "#ed7953"
             ],
             [
              0.7777777777777778,
              "#fb9f3a"
             ],
             [
              0.8888888888888888,
              "#fdca26"
             ],
             [
              1,
              "#f0f921"
             ]
            ],
            "type": "heatmapgl"
           }
          ],
          "histogram": [
           {
            "marker": {
             "pattern": {
              "fillmode": "overlay",
              "size": 10,
              "solidity": 0.2
             }
            },
            "type": "histogram"
           }
          ],
          "histogram2d": [
           {
            "colorbar": {
             "outlinewidth": 0,
             "ticks": ""
            },
            "colorscale": [
             [
              0,
              "#0d0887"
             ],
             [
              0.1111111111111111,
              "#46039f"
             ],
             [
              0.2222222222222222,
              "#7201a8"
             ],
             [
              0.3333333333333333,
              "#9c179e"
             ],
             [
              0.4444444444444444,
              "#bd3786"
             ],
             [
              0.5555555555555556,
              "#d8576b"
             ],
             [
              0.6666666666666666,
              "#ed7953"
             ],
             [
              0.7777777777777778,
              "#fb9f3a"
             ],
             [
              0.8888888888888888,
              "#fdca26"
             ],
             [
              1,
              "#f0f921"
             ]
            ],
            "type": "histogram2d"
           }
          ],
          "histogram2dcontour": [
           {
            "colorbar": {
             "outlinewidth": 0,
             "ticks": ""
            },
            "colorscale": [
             [
              0,
              "#0d0887"
             ],
             [
              0.1111111111111111,
              "#46039f"
             ],
             [
              0.2222222222222222,
              "#7201a8"
             ],
             [
              0.3333333333333333,
              "#9c179e"
             ],
             [
              0.4444444444444444,
              "#bd3786"
             ],
             [
              0.5555555555555556,
              "#d8576b"
             ],
             [
              0.6666666666666666,
              "#ed7953"
             ],
             [
              0.7777777777777778,
              "#fb9f3a"
             ],
             [
              0.8888888888888888,
              "#fdca26"
             ],
             [
              1,
              "#f0f921"
             ]
            ],
            "type": "histogram2dcontour"
           }
          ],
          "mesh3d": [
           {
            "colorbar": {
             "outlinewidth": 0,
             "ticks": ""
            },
            "type": "mesh3d"
           }
          ],
          "parcoords": [
           {
            "line": {
             "colorbar": {
              "outlinewidth": 0,
              "ticks": ""
             }
            },
            "type": "parcoords"
           }
          ],
          "pie": [
           {
            "automargin": true,
            "type": "pie"
           }
          ],
          "scatter": [
           {
            "fillpattern": {
             "fillmode": "overlay",
             "size": 10,
             "solidity": 0.2
            },
            "type": "scatter"
           }
          ],
          "scatter3d": [
           {
            "line": {
             "colorbar": {
              "outlinewidth": 0,
              "ticks": ""
             }
            },
            "marker": {
             "colorbar": {
              "outlinewidth": 0,
              "ticks": ""
             }
            },
            "type": "scatter3d"
           }
          ],
          "scattercarpet": [
           {
            "marker": {
             "colorbar": {
              "outlinewidth": 0,
              "ticks": ""
             }
            },
            "type": "scattercarpet"
           }
          ],
          "scattergeo": [
           {
            "marker": {
             "colorbar": {
              "outlinewidth": 0,
              "ticks": ""
             }
            },
            "type": "scattergeo"
           }
          ],
          "scattergl": [
           {
            "marker": {
             "colorbar": {
              "outlinewidth": 0,
              "ticks": ""
             }
            },
            "type": "scattergl"
           }
          ],
          "scattermapbox": [
           {
            "marker": {
             "colorbar": {
              "outlinewidth": 0,
              "ticks": ""
             }
            },
            "type": "scattermapbox"
           }
          ],
          "scatterpolar": [
           {
            "marker": {
             "colorbar": {
              "outlinewidth": 0,
              "ticks": ""
             }
            },
            "type": "scatterpolar"
           }
          ],
          "scatterpolargl": [
           {
            "marker": {
             "colorbar": {
              "outlinewidth": 0,
              "ticks": ""
             }
            },
            "type": "scatterpolargl"
           }
          ],
          "scatterternary": [
           {
            "marker": {
             "colorbar": {
              "outlinewidth": 0,
              "ticks": ""
             }
            },
            "type": "scatterternary"
           }
          ],
          "surface": [
           {
            "colorbar": {
             "outlinewidth": 0,
             "ticks": ""
            },
            "colorscale": [
             [
              0,
              "#0d0887"
             ],
             [
              0.1111111111111111,
              "#46039f"
             ],
             [
              0.2222222222222222,
              "#7201a8"
             ],
             [
              0.3333333333333333,
              "#9c179e"
             ],
             [
              0.4444444444444444,
              "#bd3786"
             ],
             [
              0.5555555555555556,
              "#d8576b"
             ],
             [
              0.6666666666666666,
              "#ed7953"
             ],
             [
              0.7777777777777778,
              "#fb9f3a"
             ],
             [
              0.8888888888888888,
              "#fdca26"
             ],
             [
              1,
              "#f0f921"
             ]
            ],
            "type": "surface"
           }
          ],
          "table": [
           {
            "cells": {
             "fill": {
              "color": "#EBF0F8"
             },
             "line": {
              "color": "white"
             }
            },
            "header": {
             "fill": {
              "color": "#C8D4E3"
             },
             "line": {
              "color": "white"
             }
            },
            "type": "table"
           }
          ]
         },
         "layout": {
          "annotationdefaults": {
           "arrowcolor": "#2a3f5f",
           "arrowhead": 0,
           "arrowwidth": 1
          },
          "autotypenumbers": "strict",
          "coloraxis": {
           "colorbar": {
            "outlinewidth": 0,
            "ticks": ""
           }
          },
          "colorscale": {
           "diverging": [
            [
             0,
             "#8e0152"
            ],
            [
             0.1,
             "#c51b7d"
            ],
            [
             0.2,
             "#de77ae"
            ],
            [
             0.3,
             "#f1b6da"
            ],
            [
             0.4,
             "#fde0ef"
            ],
            [
             0.5,
             "#f7f7f7"
            ],
            [
             0.6,
             "#e6f5d0"
            ],
            [
             0.7,
             "#b8e186"
            ],
            [
             0.8,
             "#7fbc41"
            ],
            [
             0.9,
             "#4d9221"
            ],
            [
             1,
             "#276419"
            ]
           ],
           "sequential": [
            [
             0,
             "#0d0887"
            ],
            [
             0.1111111111111111,
             "#46039f"
            ],
            [
             0.2222222222222222,
             "#7201a8"
            ],
            [
             0.3333333333333333,
             "#9c179e"
            ],
            [
             0.4444444444444444,
             "#bd3786"
            ],
            [
             0.5555555555555556,
             "#d8576b"
            ],
            [
             0.6666666666666666,
             "#ed7953"
            ],
            [
             0.7777777777777778,
             "#fb9f3a"
            ],
            [
             0.8888888888888888,
             "#fdca26"
            ],
            [
             1,
             "#f0f921"
            ]
           ],
           "sequentialminus": [
            [
             0,
             "#0d0887"
            ],
            [
             0.1111111111111111,
             "#46039f"
            ],
            [
             0.2222222222222222,
             "#7201a8"
            ],
            [
             0.3333333333333333,
             "#9c179e"
            ],
            [
             0.4444444444444444,
             "#bd3786"
            ],
            [
             0.5555555555555556,
             "#d8576b"
            ],
            [
             0.6666666666666666,
             "#ed7953"
            ],
            [
             0.7777777777777778,
             "#fb9f3a"
            ],
            [
             0.8888888888888888,
             "#fdca26"
            ],
            [
             1,
             "#f0f921"
            ]
           ]
          },
          "colorway": [
           "#636efa",
           "#EF553B",
           "#00cc96",
           "#ab63fa",
           "#FFA15A",
           "#19d3f3",
           "#FF6692",
           "#B6E880",
           "#FF97FF",
           "#FECB52"
          ],
          "font": {
           "color": "#2a3f5f"
          },
          "geo": {
           "bgcolor": "white",
           "lakecolor": "white",
           "landcolor": "#E5ECF6",
           "showlakes": true,
           "showland": true,
           "subunitcolor": "white"
          },
          "hoverlabel": {
           "align": "left"
          },
          "hovermode": "closest",
          "mapbox": {
           "style": "light"
          },
          "paper_bgcolor": "white",
          "plot_bgcolor": "#E5ECF6",
          "polar": {
           "angularaxis": {
            "gridcolor": "white",
            "linecolor": "white",
            "ticks": ""
           },
           "bgcolor": "#E5ECF6",
           "radialaxis": {
            "gridcolor": "white",
            "linecolor": "white",
            "ticks": ""
           }
          },
          "scene": {
           "xaxis": {
            "backgroundcolor": "#E5ECF6",
            "gridcolor": "white",
            "gridwidth": 2,
            "linecolor": "white",
            "showbackground": true,
            "ticks": "",
            "zerolinecolor": "white"
           },
           "yaxis": {
            "backgroundcolor": "#E5ECF6",
            "gridcolor": "white",
            "gridwidth": 2,
            "linecolor": "white",
            "showbackground": true,
            "ticks": "",
            "zerolinecolor": "white"
           },
           "zaxis": {
            "backgroundcolor": "#E5ECF6",
            "gridcolor": "white",
            "gridwidth": 2,
            "linecolor": "white",
            "showbackground": true,
            "ticks": "",
            "zerolinecolor": "white"
           }
          },
          "shapedefaults": {
           "line": {
            "color": "#2a3f5f"
           }
          },
          "ternary": {
           "aaxis": {
            "gridcolor": "white",
            "linecolor": "white",
            "ticks": ""
           },
           "baxis": {
            "gridcolor": "white",
            "linecolor": "white",
            "ticks": ""
           },
           "bgcolor": "#E5ECF6",
           "caxis": {
            "gridcolor": "white",
            "linecolor": "white",
            "ticks": ""
           }
          },
          "title": {
           "x": 0.05
          },
          "xaxis": {
           "automargin": true,
           "gridcolor": "white",
           "linecolor": "white",
           "ticks": "",
           "title": {
            "standoff": 15
           },
           "zerolinecolor": "white",
           "zerolinewidth": 2
          },
          "yaxis": {
           "automargin": true,
           "gridcolor": "white",
           "linecolor": "white",
           "ticks": "",
           "title": {
            "standoff": 15
           },
           "zerolinecolor": "white",
           "zerolinewidth": 2
          }
         }
        },
        "title": {
         "text": "VISp to ALM matching cost"
        },
        "width": 1000,
        "xaxis": {
         "anchor": "y",
         "constrain": "domain",
         "domain": [
          0,
          1
         ],
         "dtick": 1,
         "scaleanchor": "y",
         "tickangle": -45,
         "title": {
          "text": "Reference: ALM"
         }
        },
        "yaxis": {
         "anchor": "x",
         "autorange": "reversed",
         "constrain": "domain",
         "domain": [
          0,
          1
         ],
         "dtick": 1,
         "title": {
          "text": "Query: VISp"
         }
        }
       }
      }
     },
     "metadata": {},
     "output_type": "display_data"
    }
   ],
   "source": [
    "m.set_type_equality_strictness(0.7)\n",
    "m.eval('labels3')\n",
    "fig = m.display_matching_costs(ground_truth_obs_key='labels3', show_all_labels=True, angle_x_labels=True, width=1000, height=400)\n",
    "fig.show()\n",
    "fig.write_image('trees/refcm_brain.png', scale = 3)"
   ]
  },
  {
   "cell_type": "markdown",
   "metadata": {},
   "source": [
    "Comparing this graph with the previous one and the established hierarchy, we conclude that this mapping direction also establishes the correct links in this direction!"
   ]
  }
 ],
 "metadata": {
  "kernelspec": {
   "display_name": "refcm",
   "language": "python",
   "name": "python3"
  },
  "language_info": {
   "codemirror_mode": {
    "name": "ipython",
    "version": 3
   },
   "file_extension": ".py",
   "mimetype": "text/x-python",
   "name": "python",
   "nbconvert_exporter": "python",
   "pygments_lexer": "ipython3",
   "version": "3.11.9"
  }
 },
 "nbformat": 4,
 "nbformat_minor": 2
}
